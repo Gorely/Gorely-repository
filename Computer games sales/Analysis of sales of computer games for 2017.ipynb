{
 "cells": [
  {
   "cell_type": "markdown",
   "metadata": {},
   "source": [
    "# Analysis of sales of computer games for 2017"
   ]
  },
  {
   "cell_type": "markdown",
   "metadata": {},
   "source": [
    "It is necessary to identify patterns that determine sales of games."
   ]
  },
  {
   "cell_type": "markdown",
   "metadata": {},
   "source": [
    "## Work plan"
   ]
  },
  {
   "cell_type": "markdown",
   "metadata": {},
   "source": [
    "1. Open the file and study the general information\n",
    "\n",
    "2. Data preprocessing:\n",
    "- Convert column names to lowercase\n",
    "- Process gaps and find their cause\n",
    "- Examine the value of 'tbd' in the user rating column\n",
    "- Calculate the total sales in all regions and write in a separate column.\n",
    "\n",
    "3. Conduct an exploratory data analysis:\n",
    "- See how many games were produced in different years.\n",
    "- Let's see how sales have changed by platform. Let's choose the platforms with the highest total sales and plot the distribution by years. Let's see how long new platforms appear and disappear.\n",
    "- Determine the current study period for the forecast for 2017, excluding other years.\n",
    "- Select several potentially profitable platforms.\n",
    "- Plot a box-and-mustache plot of global game sales by platform.\n",
    "- See how the reviews of users and critics affect sales within one popular platform. Let's build a scatterplot and calculate the correlation between reviews and sales.\n",
    "- Correlate the conclusions with sales of games on other platforms.\n",
    "- Look at the general distribution of games by genre. We will find the most profitable genres and the most failed ones.\n",
    "\n",
    "4. Make a portrait of the user of each region:\n",
    "- Define for the user of each region (NA, EU, JP):\n",
    "- Most popular platforms (top 5). Let us describe the differences in sales shares.\n",
    "- The most popular genres (top 5). Let's try to explain the difference.\n",
    "- Check if the ESRB rating affects sales in a particular region?\n",
    "\n",
    "5. Check the hypotheses:\n",
    "- The average user ratings of the Xbox One and PC platforms are the same;\n",
    "- Average user ratings for Action and Sports genres are different.\n",
    "\n",
    "6. General conclusion"
   ]
  },
  {
   "cell_type": "markdown",
   "metadata": {},
   "source": [
    "Data description"
   ]
  },
  {
   "cell_type": "markdown",
   "metadata": {},
   "source": [
    "- Name - the name of the game\n",
    "- Platform - game platform\n",
    "- Year_of_Release - year of release\n",
    "- Genre - game genre\n",
    "- NA_sales - sales in North America (millions of dollars)\n",
    "- EU_sales - sales in Europe (millions of dollars)\n",
    "- JP_sales - sales in Japan (millions of dollars)\n",
    "- Other_sales - sales in other countries (millions of dollars)\n",
    "- Critic_Score - Critics score (maximum 100)\n",
    "- User_Score - user rating (maximum 10)\n",
    "- Rating — rating from the ESRB (Entertainment Software Rating Board). This association determines the rating of computer games and assigns them an appropriate age category."
   ]
  },
  {
   "cell_type": "markdown",
   "metadata": {},
   "source": [
    "## Open the data file and examine the general information."
   ]
  },
  {
   "cell_type": "code",
   "execution_count": 81,
   "metadata": {},
   "outputs": [],
   "source": [
    "import pandas as pd\n",
    "import seaborn as sns\n",
    "import matplotlib.pyplot as plt\n",
    "import numpy as np\n",
    "from scipy import stats as st\n",
    "import warnings\n",
    "warnings.filterwarnings('ignore')"
   ]
  },
  {
   "cell_type": "code",
   "execution_count": 82,
   "metadata": {},
   "outputs": [
    {
     "data": {
      "text/html": [
       "<div>\n",
       "<style scoped>\n",
       "    .dataframe tbody tr th:only-of-type {\n",
       "        vertical-align: middle;\n",
       "    }\n",
       "\n",
       "    .dataframe tbody tr th {\n",
       "        vertical-align: top;\n",
       "    }\n",
       "\n",
       "    .dataframe thead th {\n",
       "        text-align: right;\n",
       "    }\n",
       "</style>\n",
       "<table border=\"1\" class=\"dataframe\">\n",
       "  <thead>\n",
       "    <tr style=\"text-align: right;\">\n",
       "      <th></th>\n",
       "      <th>Name</th>\n",
       "      <th>Platform</th>\n",
       "      <th>Year_of_Release</th>\n",
       "      <th>Genre</th>\n",
       "      <th>NA_sales</th>\n",
       "      <th>EU_sales</th>\n",
       "      <th>JP_sales</th>\n",
       "      <th>Other_sales</th>\n",
       "      <th>Critic_Score</th>\n",
       "      <th>User_Score</th>\n",
       "      <th>Rating</th>\n",
       "    </tr>\n",
       "  </thead>\n",
       "  <tbody>\n",
       "    <tr>\n",
       "      <th>0</th>\n",
       "      <td>Wii Sports</td>\n",
       "      <td>Wii</td>\n",
       "      <td>2006.0</td>\n",
       "      <td>Sports</td>\n",
       "      <td>41.36</td>\n",
       "      <td>28.96</td>\n",
       "      <td>3.77</td>\n",
       "      <td>8.45</td>\n",
       "      <td>76.0</td>\n",
       "      <td>8</td>\n",
       "      <td>E</td>\n",
       "    </tr>\n",
       "    <tr>\n",
       "      <th>1</th>\n",
       "      <td>Super Mario Bros.</td>\n",
       "      <td>NES</td>\n",
       "      <td>1985.0</td>\n",
       "      <td>Platform</td>\n",
       "      <td>29.08</td>\n",
       "      <td>3.58</td>\n",
       "      <td>6.81</td>\n",
       "      <td>0.77</td>\n",
       "      <td>NaN</td>\n",
       "      <td>NaN</td>\n",
       "      <td>NaN</td>\n",
       "    </tr>\n",
       "    <tr>\n",
       "      <th>2</th>\n",
       "      <td>Mario Kart Wii</td>\n",
       "      <td>Wii</td>\n",
       "      <td>2008.0</td>\n",
       "      <td>Racing</td>\n",
       "      <td>15.68</td>\n",
       "      <td>12.76</td>\n",
       "      <td>3.79</td>\n",
       "      <td>3.29</td>\n",
       "      <td>82.0</td>\n",
       "      <td>8.3</td>\n",
       "      <td>E</td>\n",
       "    </tr>\n",
       "    <tr>\n",
       "      <th>3</th>\n",
       "      <td>Wii Sports Resort</td>\n",
       "      <td>Wii</td>\n",
       "      <td>2009.0</td>\n",
       "      <td>Sports</td>\n",
       "      <td>15.61</td>\n",
       "      <td>10.93</td>\n",
       "      <td>3.28</td>\n",
       "      <td>2.95</td>\n",
       "      <td>80.0</td>\n",
       "      <td>8</td>\n",
       "      <td>E</td>\n",
       "    </tr>\n",
       "    <tr>\n",
       "      <th>4</th>\n",
       "      <td>Pokemon Red/Pokemon Blue</td>\n",
       "      <td>GB</td>\n",
       "      <td>1996.0</td>\n",
       "      <td>Role-Playing</td>\n",
       "      <td>11.27</td>\n",
       "      <td>8.89</td>\n",
       "      <td>10.22</td>\n",
       "      <td>1.00</td>\n",
       "      <td>NaN</td>\n",
       "      <td>NaN</td>\n",
       "      <td>NaN</td>\n",
       "    </tr>\n",
       "    <tr>\n",
       "      <th>...</th>\n",
       "      <td>...</td>\n",
       "      <td>...</td>\n",
       "      <td>...</td>\n",
       "      <td>...</td>\n",
       "      <td>...</td>\n",
       "      <td>...</td>\n",
       "      <td>...</td>\n",
       "      <td>...</td>\n",
       "      <td>...</td>\n",
       "      <td>...</td>\n",
       "      <td>...</td>\n",
       "    </tr>\n",
       "    <tr>\n",
       "      <th>16710</th>\n",
       "      <td>Samurai Warriors: Sanada Maru</td>\n",
       "      <td>PS3</td>\n",
       "      <td>2016.0</td>\n",
       "      <td>Action</td>\n",
       "      <td>0.00</td>\n",
       "      <td>0.00</td>\n",
       "      <td>0.01</td>\n",
       "      <td>0.00</td>\n",
       "      <td>NaN</td>\n",
       "      <td>NaN</td>\n",
       "      <td>NaN</td>\n",
       "    </tr>\n",
       "    <tr>\n",
       "      <th>16711</th>\n",
       "      <td>LMA Manager 2007</td>\n",
       "      <td>X360</td>\n",
       "      <td>2006.0</td>\n",
       "      <td>Sports</td>\n",
       "      <td>0.00</td>\n",
       "      <td>0.01</td>\n",
       "      <td>0.00</td>\n",
       "      <td>0.00</td>\n",
       "      <td>NaN</td>\n",
       "      <td>NaN</td>\n",
       "      <td>NaN</td>\n",
       "    </tr>\n",
       "    <tr>\n",
       "      <th>16712</th>\n",
       "      <td>Haitaka no Psychedelica</td>\n",
       "      <td>PSV</td>\n",
       "      <td>2016.0</td>\n",
       "      <td>Adventure</td>\n",
       "      <td>0.00</td>\n",
       "      <td>0.00</td>\n",
       "      <td>0.01</td>\n",
       "      <td>0.00</td>\n",
       "      <td>NaN</td>\n",
       "      <td>NaN</td>\n",
       "      <td>NaN</td>\n",
       "    </tr>\n",
       "    <tr>\n",
       "      <th>16713</th>\n",
       "      <td>Spirits &amp; Spells</td>\n",
       "      <td>GBA</td>\n",
       "      <td>2003.0</td>\n",
       "      <td>Platform</td>\n",
       "      <td>0.01</td>\n",
       "      <td>0.00</td>\n",
       "      <td>0.00</td>\n",
       "      <td>0.00</td>\n",
       "      <td>NaN</td>\n",
       "      <td>NaN</td>\n",
       "      <td>NaN</td>\n",
       "    </tr>\n",
       "    <tr>\n",
       "      <th>16714</th>\n",
       "      <td>Winning Post 8 2016</td>\n",
       "      <td>PSV</td>\n",
       "      <td>2016.0</td>\n",
       "      <td>Simulation</td>\n",
       "      <td>0.00</td>\n",
       "      <td>0.00</td>\n",
       "      <td>0.01</td>\n",
       "      <td>0.00</td>\n",
       "      <td>NaN</td>\n",
       "      <td>NaN</td>\n",
       "      <td>NaN</td>\n",
       "    </tr>\n",
       "  </tbody>\n",
       "</table>\n",
       "<p>16715 rows × 11 columns</p>\n",
       "</div>"
      ],
      "text/plain": [
       "                                Name Platform  Year_of_Release         Genre  \\\n",
       "0                         Wii Sports      Wii           2006.0        Sports   \n",
       "1                  Super Mario Bros.      NES           1985.0      Platform   \n",
       "2                     Mario Kart Wii      Wii           2008.0        Racing   \n",
       "3                  Wii Sports Resort      Wii           2009.0        Sports   \n",
       "4           Pokemon Red/Pokemon Blue       GB           1996.0  Role-Playing   \n",
       "...                              ...      ...              ...           ...   \n",
       "16710  Samurai Warriors: Sanada Maru      PS3           2016.0        Action   \n",
       "16711               LMA Manager 2007     X360           2006.0        Sports   \n",
       "16712        Haitaka no Psychedelica      PSV           2016.0     Adventure   \n",
       "16713               Spirits & Spells      GBA           2003.0      Platform   \n",
       "16714            Winning Post 8 2016      PSV           2016.0    Simulation   \n",
       "\n",
       "       NA_sales  EU_sales  JP_sales  Other_sales  Critic_Score User_Score  \\\n",
       "0         41.36     28.96      3.77         8.45          76.0          8   \n",
       "1         29.08      3.58      6.81         0.77           NaN        NaN   \n",
       "2         15.68     12.76      3.79         3.29          82.0        8.3   \n",
       "3         15.61     10.93      3.28         2.95          80.0          8   \n",
       "4         11.27      8.89     10.22         1.00           NaN        NaN   \n",
       "...         ...       ...       ...          ...           ...        ...   \n",
       "16710      0.00      0.00      0.01         0.00           NaN        NaN   \n",
       "16711      0.00      0.01      0.00         0.00           NaN        NaN   \n",
       "16712      0.00      0.00      0.01         0.00           NaN        NaN   \n",
       "16713      0.01      0.00      0.00         0.00           NaN        NaN   \n",
       "16714      0.00      0.00      0.01         0.00           NaN        NaN   \n",
       "\n",
       "      Rating  \n",
       "0          E  \n",
       "1        NaN  \n",
       "2          E  \n",
       "3          E  \n",
       "4        NaN  \n",
       "...      ...  \n",
       "16710    NaN  \n",
       "16711    NaN  \n",
       "16712    NaN  \n",
       "16713    NaN  \n",
       "16714    NaN  \n",
       "\n",
       "[16715 rows x 11 columns]"
      ]
     },
     "execution_count": 82,
     "metadata": {},
     "output_type": "execute_result"
    }
   ],
   "source": [
    "data = pd.read_csv('games.csv')\n",
    "data"
   ]
  },
  {
   "cell_type": "code",
   "execution_count": 83,
   "metadata": {
    "scrolled": false
   },
   "outputs": [
    {
     "data": {
      "text/html": [
       "<div>\n",
       "<style scoped>\n",
       "    .dataframe tbody tr th:only-of-type {\n",
       "        vertical-align: middle;\n",
       "    }\n",
       "\n",
       "    .dataframe tbody tr th {\n",
       "        vertical-align: top;\n",
       "    }\n",
       "\n",
       "    .dataframe thead th {\n",
       "        text-align: right;\n",
       "    }\n",
       "</style>\n",
       "<table border=\"1\" class=\"dataframe\">\n",
       "  <thead>\n",
       "    <tr style=\"text-align: right;\">\n",
       "      <th></th>\n",
       "      <th>Name</th>\n",
       "      <th>Platform</th>\n",
       "      <th>Year_of_Release</th>\n",
       "      <th>Genre</th>\n",
       "      <th>NA_sales</th>\n",
       "      <th>EU_sales</th>\n",
       "      <th>JP_sales</th>\n",
       "      <th>Other_sales</th>\n",
       "      <th>Critic_Score</th>\n",
       "      <th>User_Score</th>\n",
       "      <th>Rating</th>\n",
       "    </tr>\n",
       "  </thead>\n",
       "  <tbody>\n",
       "    <tr>\n",
       "      <th>0</th>\n",
       "      <td>Wii Sports</td>\n",
       "      <td>Wii</td>\n",
       "      <td>2006.0</td>\n",
       "      <td>Sports</td>\n",
       "      <td>41.36</td>\n",
       "      <td>28.96</td>\n",
       "      <td>3.77</td>\n",
       "      <td>8.45</td>\n",
       "      <td>76.0</td>\n",
       "      <td>8</td>\n",
       "      <td>E</td>\n",
       "    </tr>\n",
       "    <tr>\n",
       "      <th>1</th>\n",
       "      <td>Super Mario Bros.</td>\n",
       "      <td>NES</td>\n",
       "      <td>1985.0</td>\n",
       "      <td>Platform</td>\n",
       "      <td>29.08</td>\n",
       "      <td>3.58</td>\n",
       "      <td>6.81</td>\n",
       "      <td>0.77</td>\n",
       "      <td>NaN</td>\n",
       "      <td>NaN</td>\n",
       "      <td>NaN</td>\n",
       "    </tr>\n",
       "    <tr>\n",
       "      <th>2</th>\n",
       "      <td>Mario Kart Wii</td>\n",
       "      <td>Wii</td>\n",
       "      <td>2008.0</td>\n",
       "      <td>Racing</td>\n",
       "      <td>15.68</td>\n",
       "      <td>12.76</td>\n",
       "      <td>3.79</td>\n",
       "      <td>3.29</td>\n",
       "      <td>82.0</td>\n",
       "      <td>8.3</td>\n",
       "      <td>E</td>\n",
       "    </tr>\n",
       "    <tr>\n",
       "      <th>3</th>\n",
       "      <td>Wii Sports Resort</td>\n",
       "      <td>Wii</td>\n",
       "      <td>2009.0</td>\n",
       "      <td>Sports</td>\n",
       "      <td>15.61</td>\n",
       "      <td>10.93</td>\n",
       "      <td>3.28</td>\n",
       "      <td>2.95</td>\n",
       "      <td>80.0</td>\n",
       "      <td>8</td>\n",
       "      <td>E</td>\n",
       "    </tr>\n",
       "    <tr>\n",
       "      <th>4</th>\n",
       "      <td>Pokemon Red/Pokemon Blue</td>\n",
       "      <td>GB</td>\n",
       "      <td>1996.0</td>\n",
       "      <td>Role-Playing</td>\n",
       "      <td>11.27</td>\n",
       "      <td>8.89</td>\n",
       "      <td>10.22</td>\n",
       "      <td>1.00</td>\n",
       "      <td>NaN</td>\n",
       "      <td>NaN</td>\n",
       "      <td>NaN</td>\n",
       "    </tr>\n",
       "    <tr>\n",
       "      <th>5</th>\n",
       "      <td>Tetris</td>\n",
       "      <td>GB</td>\n",
       "      <td>1989.0</td>\n",
       "      <td>Puzzle</td>\n",
       "      <td>23.20</td>\n",
       "      <td>2.26</td>\n",
       "      <td>4.22</td>\n",
       "      <td>0.58</td>\n",
       "      <td>NaN</td>\n",
       "      <td>NaN</td>\n",
       "      <td>NaN</td>\n",
       "    </tr>\n",
       "    <tr>\n",
       "      <th>6</th>\n",
       "      <td>New Super Mario Bros.</td>\n",
       "      <td>DS</td>\n",
       "      <td>2006.0</td>\n",
       "      <td>Platform</td>\n",
       "      <td>11.28</td>\n",
       "      <td>9.14</td>\n",
       "      <td>6.50</td>\n",
       "      <td>2.88</td>\n",
       "      <td>89.0</td>\n",
       "      <td>8.5</td>\n",
       "      <td>E</td>\n",
       "    </tr>\n",
       "    <tr>\n",
       "      <th>7</th>\n",
       "      <td>Wii Play</td>\n",
       "      <td>Wii</td>\n",
       "      <td>2006.0</td>\n",
       "      <td>Misc</td>\n",
       "      <td>13.96</td>\n",
       "      <td>9.18</td>\n",
       "      <td>2.93</td>\n",
       "      <td>2.84</td>\n",
       "      <td>58.0</td>\n",
       "      <td>6.6</td>\n",
       "      <td>E</td>\n",
       "    </tr>\n",
       "    <tr>\n",
       "      <th>8</th>\n",
       "      <td>New Super Mario Bros. Wii</td>\n",
       "      <td>Wii</td>\n",
       "      <td>2009.0</td>\n",
       "      <td>Platform</td>\n",
       "      <td>14.44</td>\n",
       "      <td>6.94</td>\n",
       "      <td>4.70</td>\n",
       "      <td>2.24</td>\n",
       "      <td>87.0</td>\n",
       "      <td>8.4</td>\n",
       "      <td>E</td>\n",
       "    </tr>\n",
       "    <tr>\n",
       "      <th>9</th>\n",
       "      <td>Duck Hunt</td>\n",
       "      <td>NES</td>\n",
       "      <td>1984.0</td>\n",
       "      <td>Shooter</td>\n",
       "      <td>26.93</td>\n",
       "      <td>0.63</td>\n",
       "      <td>0.28</td>\n",
       "      <td>0.47</td>\n",
       "      <td>NaN</td>\n",
       "      <td>NaN</td>\n",
       "      <td>NaN</td>\n",
       "    </tr>\n",
       "    <tr>\n",
       "      <th>10</th>\n",
       "      <td>Nintendogs</td>\n",
       "      <td>DS</td>\n",
       "      <td>2005.0</td>\n",
       "      <td>Simulation</td>\n",
       "      <td>9.05</td>\n",
       "      <td>10.95</td>\n",
       "      <td>1.93</td>\n",
       "      <td>2.74</td>\n",
       "      <td>NaN</td>\n",
       "      <td>NaN</td>\n",
       "      <td>NaN</td>\n",
       "    </tr>\n",
       "    <tr>\n",
       "      <th>11</th>\n",
       "      <td>Mario Kart DS</td>\n",
       "      <td>DS</td>\n",
       "      <td>2005.0</td>\n",
       "      <td>Racing</td>\n",
       "      <td>9.71</td>\n",
       "      <td>7.47</td>\n",
       "      <td>4.13</td>\n",
       "      <td>1.90</td>\n",
       "      <td>91.0</td>\n",
       "      <td>8.6</td>\n",
       "      <td>E</td>\n",
       "    </tr>\n",
       "    <tr>\n",
       "      <th>12</th>\n",
       "      <td>Pokemon Gold/Pokemon Silver</td>\n",
       "      <td>GB</td>\n",
       "      <td>1999.0</td>\n",
       "      <td>Role-Playing</td>\n",
       "      <td>9.00</td>\n",
       "      <td>6.18</td>\n",
       "      <td>7.20</td>\n",
       "      <td>0.71</td>\n",
       "      <td>NaN</td>\n",
       "      <td>NaN</td>\n",
       "      <td>NaN</td>\n",
       "    </tr>\n",
       "    <tr>\n",
       "      <th>13</th>\n",
       "      <td>Wii Fit</td>\n",
       "      <td>Wii</td>\n",
       "      <td>2007.0</td>\n",
       "      <td>Sports</td>\n",
       "      <td>8.92</td>\n",
       "      <td>8.03</td>\n",
       "      <td>3.60</td>\n",
       "      <td>2.15</td>\n",
       "      <td>80.0</td>\n",
       "      <td>7.7</td>\n",
       "      <td>E</td>\n",
       "    </tr>\n",
       "    <tr>\n",
       "      <th>14</th>\n",
       "      <td>Kinect Adventures!</td>\n",
       "      <td>X360</td>\n",
       "      <td>2010.0</td>\n",
       "      <td>Misc</td>\n",
       "      <td>15.00</td>\n",
       "      <td>4.89</td>\n",
       "      <td>0.24</td>\n",
       "      <td>1.69</td>\n",
       "      <td>61.0</td>\n",
       "      <td>6.3</td>\n",
       "      <td>E</td>\n",
       "    </tr>\n",
       "  </tbody>\n",
       "</table>\n",
       "</div>"
      ],
      "text/plain": [
       "                           Name Platform  Year_of_Release         Genre  \\\n",
       "0                    Wii Sports      Wii           2006.0        Sports   \n",
       "1             Super Mario Bros.      NES           1985.0      Platform   \n",
       "2                Mario Kart Wii      Wii           2008.0        Racing   \n",
       "3             Wii Sports Resort      Wii           2009.0        Sports   \n",
       "4      Pokemon Red/Pokemon Blue       GB           1996.0  Role-Playing   \n",
       "5                        Tetris       GB           1989.0        Puzzle   \n",
       "6         New Super Mario Bros.       DS           2006.0      Platform   \n",
       "7                      Wii Play      Wii           2006.0          Misc   \n",
       "8     New Super Mario Bros. Wii      Wii           2009.0      Platform   \n",
       "9                     Duck Hunt      NES           1984.0       Shooter   \n",
       "10                   Nintendogs       DS           2005.0    Simulation   \n",
       "11                Mario Kart DS       DS           2005.0        Racing   \n",
       "12  Pokemon Gold/Pokemon Silver       GB           1999.0  Role-Playing   \n",
       "13                      Wii Fit      Wii           2007.0        Sports   \n",
       "14           Kinect Adventures!     X360           2010.0          Misc   \n",
       "\n",
       "    NA_sales  EU_sales  JP_sales  Other_sales  Critic_Score User_Score Rating  \n",
       "0      41.36     28.96      3.77         8.45          76.0          8      E  \n",
       "1      29.08      3.58      6.81         0.77           NaN        NaN    NaN  \n",
       "2      15.68     12.76      3.79         3.29          82.0        8.3      E  \n",
       "3      15.61     10.93      3.28         2.95          80.0          8      E  \n",
       "4      11.27      8.89     10.22         1.00           NaN        NaN    NaN  \n",
       "5      23.20      2.26      4.22         0.58           NaN        NaN    NaN  \n",
       "6      11.28      9.14      6.50         2.88          89.0        8.5      E  \n",
       "7      13.96      9.18      2.93         2.84          58.0        6.6      E  \n",
       "8      14.44      6.94      4.70         2.24          87.0        8.4      E  \n",
       "9      26.93      0.63      0.28         0.47           NaN        NaN    NaN  \n",
       "10      9.05     10.95      1.93         2.74           NaN        NaN    NaN  \n",
       "11      9.71      7.47      4.13         1.90          91.0        8.6      E  \n",
       "12      9.00      6.18      7.20         0.71           NaN        NaN    NaN  \n",
       "13      8.92      8.03      3.60         2.15          80.0        7.7      E  \n",
       "14     15.00      4.89      0.24         1.69          61.0        6.3      E  "
      ]
     },
     "execution_count": 83,
     "metadata": {},
     "output_type": "execute_result"
    }
   ],
   "source": [
    "# check how the data table looks like\n",
    "data.head(15)"
   ]
  },
  {
   "cell_type": "code",
   "execution_count": 84,
   "metadata": {},
   "outputs": [
    {
     "name": "stdout",
     "output_type": "stream",
     "text": [
      "<class 'pandas.core.frame.DataFrame'>\n",
      "RangeIndex: 16715 entries, 0 to 16714\n",
      "Data columns (total 11 columns):\n",
      " #   Column           Non-Null Count  Dtype  \n",
      "---  ------           --------------  -----  \n",
      " 0   Name             16713 non-null  object \n",
      " 1   Platform         16715 non-null  object \n",
      " 2   Year_of_Release  16446 non-null  float64\n",
      " 3   Genre            16713 non-null  object \n",
      " 4   NA_sales         16715 non-null  float64\n",
      " 5   EU_sales         16715 non-null  float64\n",
      " 6   JP_sales         16715 non-null  float64\n",
      " 7   Other_sales      16715 non-null  float64\n",
      " 8   Critic_Score     8137 non-null   float64\n",
      " 9   User_Score       10014 non-null  object \n",
      " 10  Rating           9949 non-null   object \n",
      "dtypes: float64(6), object(5)\n",
      "memory usage: 1.4+ MB\n"
     ]
    }
   ],
   "source": [
    "# изучим структуру данных\n",
    "data.info(10)"
   ]
  },
  {
   "cell_type": "markdown",
   "metadata": {},
   "source": [
    "The data table shows that it is necessary to perform pre-processing before starting the analysis. Let's start by converting all column names to lowercase. In addition, there are NaNs in some columns, they need to be dealt with"
   ]
  },
  {
   "cell_type": "markdown",
   "metadata": {},
   "source": [
    "## Data preprocessing"
   ]
  },
  {
   "cell_type": "code",
   "execution_count": 85,
   "metadata": {
    "scrolled": true
   },
   "outputs": [
    {
     "data": {
      "text/html": [
       "<div>\n",
       "<style scoped>\n",
       "    .dataframe tbody tr th:only-of-type {\n",
       "        vertical-align: middle;\n",
       "    }\n",
       "\n",
       "    .dataframe tbody tr th {\n",
       "        vertical-align: top;\n",
       "    }\n",
       "\n",
       "    .dataframe thead th {\n",
       "        text-align: right;\n",
       "    }\n",
       "</style>\n",
       "<table border=\"1\" class=\"dataframe\">\n",
       "  <thead>\n",
       "    <tr style=\"text-align: right;\">\n",
       "      <th></th>\n",
       "      <th>name</th>\n",
       "      <th>platform</th>\n",
       "      <th>year_of_release</th>\n",
       "      <th>genre</th>\n",
       "      <th>na_sales</th>\n",
       "      <th>eu_sales</th>\n",
       "      <th>jp_sales</th>\n",
       "      <th>other_sales</th>\n",
       "      <th>critic_score</th>\n",
       "      <th>user_score</th>\n",
       "      <th>rating</th>\n",
       "    </tr>\n",
       "  </thead>\n",
       "  <tbody>\n",
       "    <tr>\n",
       "      <th>0</th>\n",
       "      <td>Wii Sports</td>\n",
       "      <td>Wii</td>\n",
       "      <td>2006.0</td>\n",
       "      <td>Sports</td>\n",
       "      <td>41.36</td>\n",
       "      <td>28.96</td>\n",
       "      <td>3.77</td>\n",
       "      <td>8.45</td>\n",
       "      <td>76.0</td>\n",
       "      <td>8</td>\n",
       "      <td>E</td>\n",
       "    </tr>\n",
       "    <tr>\n",
       "      <th>1</th>\n",
       "      <td>Super Mario Bros.</td>\n",
       "      <td>NES</td>\n",
       "      <td>1985.0</td>\n",
       "      <td>Platform</td>\n",
       "      <td>29.08</td>\n",
       "      <td>3.58</td>\n",
       "      <td>6.81</td>\n",
       "      <td>0.77</td>\n",
       "      <td>NaN</td>\n",
       "      <td>NaN</td>\n",
       "      <td>NaN</td>\n",
       "    </tr>\n",
       "    <tr>\n",
       "      <th>2</th>\n",
       "      <td>Mario Kart Wii</td>\n",
       "      <td>Wii</td>\n",
       "      <td>2008.0</td>\n",
       "      <td>Racing</td>\n",
       "      <td>15.68</td>\n",
       "      <td>12.76</td>\n",
       "      <td>3.79</td>\n",
       "      <td>3.29</td>\n",
       "      <td>82.0</td>\n",
       "      <td>8.3</td>\n",
       "      <td>E</td>\n",
       "    </tr>\n",
       "    <tr>\n",
       "      <th>3</th>\n",
       "      <td>Wii Sports Resort</td>\n",
       "      <td>Wii</td>\n",
       "      <td>2009.0</td>\n",
       "      <td>Sports</td>\n",
       "      <td>15.61</td>\n",
       "      <td>10.93</td>\n",
       "      <td>3.28</td>\n",
       "      <td>2.95</td>\n",
       "      <td>80.0</td>\n",
       "      <td>8</td>\n",
       "      <td>E</td>\n",
       "    </tr>\n",
       "    <tr>\n",
       "      <th>4</th>\n",
       "      <td>Pokemon Red/Pokemon Blue</td>\n",
       "      <td>GB</td>\n",
       "      <td>1996.0</td>\n",
       "      <td>Role-Playing</td>\n",
       "      <td>11.27</td>\n",
       "      <td>8.89</td>\n",
       "      <td>10.22</td>\n",
       "      <td>1.00</td>\n",
       "      <td>NaN</td>\n",
       "      <td>NaN</td>\n",
       "      <td>NaN</td>\n",
       "    </tr>\n",
       "    <tr>\n",
       "      <th>5</th>\n",
       "      <td>Tetris</td>\n",
       "      <td>GB</td>\n",
       "      <td>1989.0</td>\n",
       "      <td>Puzzle</td>\n",
       "      <td>23.20</td>\n",
       "      <td>2.26</td>\n",
       "      <td>4.22</td>\n",
       "      <td>0.58</td>\n",
       "      <td>NaN</td>\n",
       "      <td>NaN</td>\n",
       "      <td>NaN</td>\n",
       "    </tr>\n",
       "    <tr>\n",
       "      <th>6</th>\n",
       "      <td>New Super Mario Bros.</td>\n",
       "      <td>DS</td>\n",
       "      <td>2006.0</td>\n",
       "      <td>Platform</td>\n",
       "      <td>11.28</td>\n",
       "      <td>9.14</td>\n",
       "      <td>6.50</td>\n",
       "      <td>2.88</td>\n",
       "      <td>89.0</td>\n",
       "      <td>8.5</td>\n",
       "      <td>E</td>\n",
       "    </tr>\n",
       "    <tr>\n",
       "      <th>7</th>\n",
       "      <td>Wii Play</td>\n",
       "      <td>Wii</td>\n",
       "      <td>2006.0</td>\n",
       "      <td>Misc</td>\n",
       "      <td>13.96</td>\n",
       "      <td>9.18</td>\n",
       "      <td>2.93</td>\n",
       "      <td>2.84</td>\n",
       "      <td>58.0</td>\n",
       "      <td>6.6</td>\n",
       "      <td>E</td>\n",
       "    </tr>\n",
       "    <tr>\n",
       "      <th>8</th>\n",
       "      <td>New Super Mario Bros. Wii</td>\n",
       "      <td>Wii</td>\n",
       "      <td>2009.0</td>\n",
       "      <td>Platform</td>\n",
       "      <td>14.44</td>\n",
       "      <td>6.94</td>\n",
       "      <td>4.70</td>\n",
       "      <td>2.24</td>\n",
       "      <td>87.0</td>\n",
       "      <td>8.4</td>\n",
       "      <td>E</td>\n",
       "    </tr>\n",
       "    <tr>\n",
       "      <th>9</th>\n",
       "      <td>Duck Hunt</td>\n",
       "      <td>NES</td>\n",
       "      <td>1984.0</td>\n",
       "      <td>Shooter</td>\n",
       "      <td>26.93</td>\n",
       "      <td>0.63</td>\n",
       "      <td>0.28</td>\n",
       "      <td>0.47</td>\n",
       "      <td>NaN</td>\n",
       "      <td>NaN</td>\n",
       "      <td>NaN</td>\n",
       "    </tr>\n",
       "  </tbody>\n",
       "</table>\n",
       "</div>"
      ],
      "text/plain": [
       "                        name platform  year_of_release         genre  \\\n",
       "0                 Wii Sports      Wii           2006.0        Sports   \n",
       "1          Super Mario Bros.      NES           1985.0      Platform   \n",
       "2             Mario Kart Wii      Wii           2008.0        Racing   \n",
       "3          Wii Sports Resort      Wii           2009.0        Sports   \n",
       "4   Pokemon Red/Pokemon Blue       GB           1996.0  Role-Playing   \n",
       "5                     Tetris       GB           1989.0        Puzzle   \n",
       "6      New Super Mario Bros.       DS           2006.0      Platform   \n",
       "7                   Wii Play      Wii           2006.0          Misc   \n",
       "8  New Super Mario Bros. Wii      Wii           2009.0      Platform   \n",
       "9                  Duck Hunt      NES           1984.0       Shooter   \n",
       "\n",
       "   na_sales  eu_sales  jp_sales  other_sales  critic_score user_score rating  \n",
       "0     41.36     28.96      3.77         8.45          76.0          8      E  \n",
       "1     29.08      3.58      6.81         0.77           NaN        NaN    NaN  \n",
       "2     15.68     12.76      3.79         3.29          82.0        8.3      E  \n",
       "3     15.61     10.93      3.28         2.95          80.0          8      E  \n",
       "4     11.27      8.89     10.22         1.00           NaN        NaN    NaN  \n",
       "5     23.20      2.26      4.22         0.58           NaN        NaN    NaN  \n",
       "6     11.28      9.14      6.50         2.88          89.0        8.5      E  \n",
       "7     13.96      9.18      2.93         2.84          58.0        6.6      E  \n",
       "8     14.44      6.94      4.70         2.24          87.0        8.4      E  \n",
       "9     26.93      0.63      0.28         0.47           NaN        NaN    NaN  "
      ]
     },
     "execution_count": 85,
     "metadata": {},
     "output_type": "execute_result"
    }
   ],
   "source": [
    "# we will change names of columns to a lower case for the convenience of further work\n",
    "data.columns = data.columns.str.lower()\n",
    "data.head(10)"
   ]
  },
  {
   "cell_type": "markdown",
   "metadata": {},
   "source": [
    "Before proceeding with any actions, let's check the data for obvious duplicate rows."
   ]
  },
  {
   "cell_type": "code",
   "execution_count": 86,
   "metadata": {},
   "outputs": [
    {
     "data": {
      "text/plain": [
       "0"
      ]
     },
     "execution_count": 86,
     "metadata": {},
     "output_type": "execute_result"
    }
   ],
   "source": [
    "data.duplicated().sum()"
   ]
  },
  {
   "cell_type": "code",
   "execution_count": 87,
   "metadata": {},
   "outputs": [
    {
     "data": {
      "text/plain": [
       "name               False\n",
       "platform           False\n",
       "year_of_release    False\n",
       "genre              False\n",
       "na_sales           False\n",
       "eu_sales           False\n",
       "jp_sales           False\n",
       "other_sales        False\n",
       "critic_score       False\n",
       "user_score         False\n",
       "rating             False\n",
       "dtype: bool"
      ]
     },
     "execution_count": 87,
     "metadata": {},
     "output_type": "execute_result"
    }
   ],
   "source": [
    "data.nunique() == data.shape[0]"
   ]
  },
  {
   "cell_type": "markdown",
   "metadata": {},
   "source": [
    "Check for duplicates in pairs Name-Console (name-platform)"
   ]
  },
  {
   "cell_type": "code",
   "execution_count": 88,
   "metadata": {
    "scrolled": false
   },
   "outputs": [
    {
     "data": {
      "text/plain": [
       "10"
      ]
     },
     "execution_count": 88,
     "metadata": {},
     "output_type": "execute_result"
    }
   ],
   "source": [
    "data.duplicated(subset=['name', 'platform'], keep= False).sum()"
   ]
  },
  {
   "cell_type": "markdown",
   "metadata": {},
   "source": [
    "Considering that there are very few such duplicates in the light of the entire dataframe, they can simply be deleted.\n"
   ]
  },
  {
   "cell_type": "code",
   "execution_count": 89,
   "metadata": {},
   "outputs": [
    {
     "data": {
      "text/html": [
       "<div>\n",
       "<style scoped>\n",
       "    .dataframe tbody tr th:only-of-type {\n",
       "        vertical-align: middle;\n",
       "    }\n",
       "\n",
       "    .dataframe tbody tr th {\n",
       "        vertical-align: top;\n",
       "    }\n",
       "\n",
       "    .dataframe thead th {\n",
       "        text-align: right;\n",
       "    }\n",
       "</style>\n",
       "<table border=\"1\" class=\"dataframe\">\n",
       "  <thead>\n",
       "    <tr style=\"text-align: right;\">\n",
       "      <th></th>\n",
       "      <th>name</th>\n",
       "      <th>platform</th>\n",
       "      <th>year_of_release</th>\n",
       "      <th>genre</th>\n",
       "      <th>na_sales</th>\n",
       "      <th>eu_sales</th>\n",
       "      <th>jp_sales</th>\n",
       "      <th>other_sales</th>\n",
       "      <th>critic_score</th>\n",
       "      <th>user_score</th>\n",
       "      <th>rating</th>\n",
       "    </tr>\n",
       "  </thead>\n",
       "  <tbody>\n",
       "    <tr>\n",
       "      <th>0</th>\n",
       "      <td>Wii Sports</td>\n",
       "      <td>Wii</td>\n",
       "      <td>2006.0</td>\n",
       "      <td>Sports</td>\n",
       "      <td>41.36</td>\n",
       "      <td>28.96</td>\n",
       "      <td>3.77</td>\n",
       "      <td>8.45</td>\n",
       "      <td>76.0</td>\n",
       "      <td>8</td>\n",
       "      <td>E</td>\n",
       "    </tr>\n",
       "    <tr>\n",
       "      <th>1</th>\n",
       "      <td>Super Mario Bros.</td>\n",
       "      <td>NES</td>\n",
       "      <td>1985.0</td>\n",
       "      <td>Platform</td>\n",
       "      <td>29.08</td>\n",
       "      <td>3.58</td>\n",
       "      <td>6.81</td>\n",
       "      <td>0.77</td>\n",
       "      <td>NaN</td>\n",
       "      <td>NaN</td>\n",
       "      <td>NaN</td>\n",
       "    </tr>\n",
       "    <tr>\n",
       "      <th>2</th>\n",
       "      <td>Mario Kart Wii</td>\n",
       "      <td>Wii</td>\n",
       "      <td>2008.0</td>\n",
       "      <td>Racing</td>\n",
       "      <td>15.68</td>\n",
       "      <td>12.76</td>\n",
       "      <td>3.79</td>\n",
       "      <td>3.29</td>\n",
       "      <td>82.0</td>\n",
       "      <td>8.3</td>\n",
       "      <td>E</td>\n",
       "    </tr>\n",
       "    <tr>\n",
       "      <th>3</th>\n",
       "      <td>Wii Sports Resort</td>\n",
       "      <td>Wii</td>\n",
       "      <td>2009.0</td>\n",
       "      <td>Sports</td>\n",
       "      <td>15.61</td>\n",
       "      <td>10.93</td>\n",
       "      <td>3.28</td>\n",
       "      <td>2.95</td>\n",
       "      <td>80.0</td>\n",
       "      <td>8</td>\n",
       "      <td>E</td>\n",
       "    </tr>\n",
       "    <tr>\n",
       "      <th>4</th>\n",
       "      <td>Pokemon Red/Pokemon Blue</td>\n",
       "      <td>GB</td>\n",
       "      <td>1996.0</td>\n",
       "      <td>Role-Playing</td>\n",
       "      <td>11.27</td>\n",
       "      <td>8.89</td>\n",
       "      <td>10.22</td>\n",
       "      <td>1.00</td>\n",
       "      <td>NaN</td>\n",
       "      <td>NaN</td>\n",
       "      <td>NaN</td>\n",
       "    </tr>\n",
       "    <tr>\n",
       "      <th>...</th>\n",
       "      <td>...</td>\n",
       "      <td>...</td>\n",
       "      <td>...</td>\n",
       "      <td>...</td>\n",
       "      <td>...</td>\n",
       "      <td>...</td>\n",
       "      <td>...</td>\n",
       "      <td>...</td>\n",
       "      <td>...</td>\n",
       "      <td>...</td>\n",
       "      <td>...</td>\n",
       "    </tr>\n",
       "    <tr>\n",
       "      <th>16710</th>\n",
       "      <td>Samurai Warriors: Sanada Maru</td>\n",
       "      <td>PS3</td>\n",
       "      <td>2016.0</td>\n",
       "      <td>Action</td>\n",
       "      <td>0.00</td>\n",
       "      <td>0.00</td>\n",
       "      <td>0.01</td>\n",
       "      <td>0.00</td>\n",
       "      <td>NaN</td>\n",
       "      <td>NaN</td>\n",
       "      <td>NaN</td>\n",
       "    </tr>\n",
       "    <tr>\n",
       "      <th>16711</th>\n",
       "      <td>LMA Manager 2007</td>\n",
       "      <td>X360</td>\n",
       "      <td>2006.0</td>\n",
       "      <td>Sports</td>\n",
       "      <td>0.00</td>\n",
       "      <td>0.01</td>\n",
       "      <td>0.00</td>\n",
       "      <td>0.00</td>\n",
       "      <td>NaN</td>\n",
       "      <td>NaN</td>\n",
       "      <td>NaN</td>\n",
       "    </tr>\n",
       "    <tr>\n",
       "      <th>16712</th>\n",
       "      <td>Haitaka no Psychedelica</td>\n",
       "      <td>PSV</td>\n",
       "      <td>2016.0</td>\n",
       "      <td>Adventure</td>\n",
       "      <td>0.00</td>\n",
       "      <td>0.00</td>\n",
       "      <td>0.01</td>\n",
       "      <td>0.00</td>\n",
       "      <td>NaN</td>\n",
       "      <td>NaN</td>\n",
       "      <td>NaN</td>\n",
       "    </tr>\n",
       "    <tr>\n",
       "      <th>16713</th>\n",
       "      <td>Spirits &amp; Spells</td>\n",
       "      <td>GBA</td>\n",
       "      <td>2003.0</td>\n",
       "      <td>Platform</td>\n",
       "      <td>0.01</td>\n",
       "      <td>0.00</td>\n",
       "      <td>0.00</td>\n",
       "      <td>0.00</td>\n",
       "      <td>NaN</td>\n",
       "      <td>NaN</td>\n",
       "      <td>NaN</td>\n",
       "    </tr>\n",
       "    <tr>\n",
       "      <th>16714</th>\n",
       "      <td>Winning Post 8 2016</td>\n",
       "      <td>PSV</td>\n",
       "      <td>2016.0</td>\n",
       "      <td>Simulation</td>\n",
       "      <td>0.00</td>\n",
       "      <td>0.00</td>\n",
       "      <td>0.01</td>\n",
       "      <td>0.00</td>\n",
       "      <td>NaN</td>\n",
       "      <td>NaN</td>\n",
       "      <td>NaN</td>\n",
       "    </tr>\n",
       "  </tbody>\n",
       "</table>\n",
       "<p>16710 rows × 11 columns</p>\n",
       "</div>"
      ],
      "text/plain": [
       "                                name platform  year_of_release         genre  \\\n",
       "0                         Wii Sports      Wii           2006.0        Sports   \n",
       "1                  Super Mario Bros.      NES           1985.0      Platform   \n",
       "2                     Mario Kart Wii      Wii           2008.0        Racing   \n",
       "3                  Wii Sports Resort      Wii           2009.0        Sports   \n",
       "4           Pokemon Red/Pokemon Blue       GB           1996.0  Role-Playing   \n",
       "...                              ...      ...              ...           ...   \n",
       "16710  Samurai Warriors: Sanada Maru      PS3           2016.0        Action   \n",
       "16711               LMA Manager 2007     X360           2006.0        Sports   \n",
       "16712        Haitaka no Psychedelica      PSV           2016.0     Adventure   \n",
       "16713               Spirits & Spells      GBA           2003.0      Platform   \n",
       "16714            Winning Post 8 2016      PSV           2016.0    Simulation   \n",
       "\n",
       "       na_sales  eu_sales  jp_sales  other_sales  critic_score user_score  \\\n",
       "0         41.36     28.96      3.77         8.45          76.0          8   \n",
       "1         29.08      3.58      6.81         0.77           NaN        NaN   \n",
       "2         15.68     12.76      3.79         3.29          82.0        8.3   \n",
       "3         15.61     10.93      3.28         2.95          80.0          8   \n",
       "4         11.27      8.89     10.22         1.00           NaN        NaN   \n",
       "...         ...       ...       ...          ...           ...        ...   \n",
       "16710      0.00      0.00      0.01         0.00           NaN        NaN   \n",
       "16711      0.00      0.01      0.00         0.00           NaN        NaN   \n",
       "16712      0.00      0.00      0.01         0.00           NaN        NaN   \n",
       "16713      0.01      0.00      0.00         0.00           NaN        NaN   \n",
       "16714      0.00      0.00      0.01         0.00           NaN        NaN   \n",
       "\n",
       "      rating  \n",
       "0          E  \n",
       "1        NaN  \n",
       "2          E  \n",
       "3          E  \n",
       "4        NaN  \n",
       "...      ...  \n",
       "16710    NaN  \n",
       "16711    NaN  \n",
       "16712    NaN  \n",
       "16713    NaN  \n",
       "16714    NaN  \n",
       "\n",
       "[16710 rows x 11 columns]"
      ]
     },
     "execution_count": 89,
     "metadata": {},
     "output_type": "execute_result"
    }
   ],
   "source": [
    "data.drop_duplicates(subset=['name', 'platform'], keep='first')"
   ]
  },
  {
   "cell_type": "markdown",
   "metadata": {},
   "source": [
    "There are no obvious duplicates of the term, you can go further."
   ]
  },
  {
   "cell_type": "code",
   "execution_count": 90,
   "metadata": {},
   "outputs": [
    {
     "data": {
      "text/plain": [
       "critic_score       8578\n",
       "rating             6766\n",
       "user_score         6701\n",
       "year_of_release     269\n",
       "name                  2\n",
       "genre                 2\n",
       "platform              0\n",
       "na_sales              0\n",
       "eu_sales              0\n",
       "jp_sales              0\n",
       "other_sales           0\n",
       "dtype: int64"
      ]
     },
     "execution_count": 90,
     "metadata": {},
     "output_type": "execute_result"
    }
   ],
   "source": [
    "# check how much data is missing in each column\n",
    "data.isnull().sum().sort_values(ascending = False)"
   ]
  },
  {
   "cell_type": "markdown",
   "metadata": {},
   "source": [
    "Most of the NaNs are in the critic_score, user_score, and rating columns. At the same time, we remember that there are gaps in the year_of_release column, we will deal with this further."
   ]
  },
  {
   "cell_type": "markdown",
   "metadata": {},
   "source": [
    "### Convert the data to the required types"
   ]
  },
  {
   "cell_type": "markdown",
   "metadata": {},
   "source": [
    "Critic_score and user_score are presented in different forms, although they are identical in meaning. Apparently critic_score is in the range 0-100, and user_score in the range 0-10. We can bring them to the same form, either by multiplying user_score by 10, or by dividing critic_score by 10. We will solve this later.\n",
    " \n",
    "- 0 name - object - leave as is\n",
    "- 1 platform - object - leave as is\n",
    "- 2 year_of_release - float64 - convert to integer format (int), there are NaNs in the data\n",
    "- 3 genre - object - leave as is, but lower case for convenience\n",
    "- 4 na_sales - float64 - leave as is\n",
    "- 5 eu_sales - float64 - leave as is\n",
    "- 6 jp_sales - float64 - leave as is\n",
    "- 7 other_sales - float64 - leave as is\n",
    "- 8 critic_score - float64 - many data NaNs\n",
    "- 9 user_score - object - a lot of data NaNs, type - object, although the data is in numbers, checking is needed\n",
    "- 10 rating - object - many data NaNs"
   ]
  },
  {
   "cell_type": "code",
   "execution_count": 91,
   "metadata": {},
   "outputs": [
    {
     "data": {
      "text/plain": [
       "array([2006., 1985., 2008., 2009., 1996., 1989., 1984., 2005., 1999.,\n",
       "       2007., 2010., 2013., 2004., 1990., 1988., 2002., 2001., 2011.,\n",
       "       1998., 2015., 2012., 2014., 1992., 1997., 1993., 1994., 1982.,\n",
       "       2016., 2003., 1986., 2000.,   nan, 1995., 1991., 1981., 1987.,\n",
       "       1980., 1983.])"
      ]
     },
     "execution_count": 91,
     "metadata": {},
     "output_type": "execute_result"
    }
   ],
   "source": [
    "# start with the year_of_release column. Since this is the year of issue, it cannot be a fraction, it must be converted to an integer format.\n",
    "# this column has missing values. Since the release year is critical to our study, and missed\n",
    "# there are only 269 values out of almost 17 thousand, then we will not replace them with anything, because no median or average value\n",
    "# won't \"guess\" the year of a computer game even close. The omission is most likely due to a technical error in filling in the data.\n",
    "data['year_of_release'].unique()\n"
   ]
  },
  {
   "cell_type": "code",
   "execution_count": 92,
   "metadata": {},
   "outputs": [
    {
     "data": {
      "text/plain": [
       "array([2006, 1985, 2008, 2009, 1996, 1989, 1984, 2005, 1999, 2007, 2010,\n",
       "       2013, 2004, 1990, 1988, 2002, 2001, 2011, 1998, 2015, 2012, 2014,\n",
       "       1992, 1997, 1993, 1994, 1982, 2016, 2003, 1986, 2000, 1995, 1991,\n",
       "       1981, 1987, 1980, 1983])"
      ]
     },
     "execution_count": 92,
     "metadata": {},
     "output_type": "execute_result"
    }
   ],
   "source": [
    "data = data[data['year_of_release'].notna()]\n",
    "data['year_of_release'] = data['year_of_release'].astype('int')\n",
    "data['year_of_release'].unique()"
   ]
  },
  {
   "cell_type": "markdown",
   "metadata": {},
   "source": [
    "The year_of_release column has been changed to the correct form, so let's move on to the genre column, it must be lowercase."
   ]
  },
  {
   "cell_type": "code",
   "execution_count": 93,
   "metadata": {},
   "outputs": [
    {
     "data": {
      "text/plain": [
       "array(['sports', 'platform', 'racing', 'role-playing', 'puzzle', 'misc',\n",
       "       'shooter', 'simulation', 'action', 'fighting', 'adventure',\n",
       "       'strategy', nan], dtype=object)"
      ]
     },
     "execution_count": 93,
     "metadata": {},
     "output_type": "execute_result"
    }
   ],
   "source": [
    "data['genre'] = data['genre'].str.lower()\n",
    "data['genre'].unique()"
   ]
  },
  {
   "cell_type": "markdown",
   "metadata": {},
   "source": [
    "Now let's move on to the column critic_score"
   ]
  },
  {
   "cell_type": "code",
   "execution_count": 94,
   "metadata": {},
   "outputs": [
    {
     "data": {
      "text/plain": [
       "8463"
      ]
     },
     "execution_count": 94,
     "metadata": {},
     "output_type": "execute_result"
    }
   ],
   "source": [
    "data['critic_score'].isnull().sum()"
   ]
  },
  {
   "cell_type": "markdown",
   "metadata": {},
   "source": [
    "In the critic_score column, almost half of the data is gaps, you can’t delete such a large amount of data, you won’t be able to replace it with medians or averages either, since these are the scores that the critics gave and no average values ​​will even get close. Let's leave it as is."
   ]
  },
  {
   "cell_type": "markdown",
   "metadata": {},
   "source": [
    "Go to the user_score column"
   ]
  },
  {
   "cell_type": "code",
   "execution_count": 95,
   "metadata": {},
   "outputs": [
    {
     "data": {
      "text/plain": [
       "array(['8', nan, '8.3', '8.5', '6.6', '8.4', '8.6', '7.7', '6.3', '7.4',\n",
       "       '8.2', '9', '7.9', '8.1', '8.7', '7.1', '3.4', '5.3', '4.8', '3.2',\n",
       "       '8.9', '6.4', '7.8', '7.5', '2.6', '7.2', '9.2', '7', '7.3', '4.3',\n",
       "       '7.6', '5.7', '5', '9.1', '6.5', 'tbd', '8.8', '6.9', '9.4', '6.8',\n",
       "       '6.1', '6.7', '5.4', '4', '4.9', '4.5', '9.3', '6.2', '4.2', '6',\n",
       "       '3.7', '4.1', '5.8', '5.6', '5.5', '4.4', '4.6', '5.9', '3.9',\n",
       "       '3.1', '2.9', '5.2', '3.3', '4.7', '5.1', '3.5', '2.5', '1.9', '3',\n",
       "       '2.7', '2.2', '2', '9.5', '2.1', '3.6', '2.8', '1.8', '3.8', '0',\n",
       "       '1.6', '9.6', '2.4', '1.7', '1.1', '0.3', '1.5', '0.7', '1.2',\n",
       "       '2.3', '0.5', '1.3', '0.2', '0.6', '1.4', '0.9', '1', '9.7'],\n",
       "      dtype=object)"
      ]
     },
     "execution_count": 95,
     "metadata": {},
     "output_type": "execute_result"
    }
   ],
   "source": [
    "data['user_score'].unique()"
   ]
  },
  {
   "cell_type": "code",
   "execution_count": 96,
   "metadata": {},
   "outputs": [
    {
     "data": {
      "text/plain": [
       "6607"
      ]
     },
     "execution_count": 96,
     "metadata": {},
     "output_type": "execute_result"
    }
   ],
   "source": [
    "data['user_score'].isnull().sum()"
   ]
  },
  {
   "cell_type": "markdown",
   "metadata": {},
   "source": [
    "There are quite a few gaps in the user_score column, as well as \"tbd\" values. Google says it means \"to be determined\", which is basically a blank. Apparently the object format is associated with these values, in contrast to critic_score, where there is none. Let's see how many such values we have."
   ]
  },
  {
   "cell_type": "code",
   "execution_count": 97,
   "metadata": {},
   "outputs": [
    {
     "data": {
      "text/plain": [
       "2376"
      ]
     },
     "execution_count": 97,
     "metadata": {},
     "output_type": "execute_result"
    }
   ],
   "source": [
    "len(data.query('user_score == \"tbd\"'))"
   ]
  },
  {
   "cell_type": "markdown",
   "metadata": {},
   "source": [
    "In total, out of 16715 table rows, we have 6607 empty rows and 2376 \"tbd\" rows. Only 7732 values ​​remain. Less than half. If you remove all empty lines and \"tdb\" lines, important data will be lost for analysis in other lines. Therefore, we will replace \"tbd\" with 0. This can be done because \"to be determined\" actually means that users do not rate the game, and therefore do not play it. This is equivalent to saying that there is no evaluation, so let's change \"tbd\" to nan. At the same time, we cannot replace nan with anything, because here we are talking about subjective assessments and no matter what result we set, it will not reflect the real situation."
   ]
  },
  {
   "cell_type": "code",
   "execution_count": 98,
   "metadata": {},
   "outputs": [
    {
     "data": {
      "text/plain": [
       "0"
      ]
     },
     "execution_count": 98,
     "metadata": {},
     "output_type": "execute_result"
    }
   ],
   "source": [
    "data.loc[data['user_score'] == 'tbd'] = np.nan\n",
    "len(data.query('user_score == \"tbd\"'))"
   ]
  },
  {
   "cell_type": "code",
   "execution_count": 99,
   "metadata": {},
   "outputs": [
    {
     "name": "stdout",
     "output_type": "stream",
     "text": [
      "<class 'pandas.core.frame.DataFrame'>\n",
      "Int64Index: 16446 entries, 0 to 16714\n",
      "Data columns (total 11 columns):\n",
      " #   Column           Non-Null Count  Dtype  \n",
      "---  ------           --------------  -----  \n",
      " 0   name             14068 non-null  object \n",
      " 1   platform         14070 non-null  object \n",
      " 2   year_of_release  14070 non-null  float64\n",
      " 3   genre            14068 non-null  object \n",
      " 4   na_sales         14070 non-null  float64\n",
      " 5   eu_sales         14070 non-null  float64\n",
      " 6   jp_sales         14070 non-null  float64\n",
      " 7   other_sales      14070 non-null  float64\n",
      " 8   critic_score     6927 non-null   float64\n",
      " 9   user_score       7463 non-null   float64\n",
      " 10  rating           7442 non-null   object \n",
      "dtypes: float64(7), object(4)\n",
      "memory usage: 1.5+ MB\n"
     ]
    }
   ],
   "source": [
    "data['user_score'] =  data['user_score'].astype('float')\n",
    "data.info(10)"
   ]
  },
  {
   "cell_type": "code",
   "execution_count": 100,
   "metadata": {},
   "outputs": [
    {
     "data": {
      "text/plain": [
       "array(['E', nan, 'M', 'T', 'E10+', 'K-A', 'AO', 'EC', 'RP'], dtype=object)"
      ]
     },
     "execution_count": 100,
     "metadata": {},
     "output_type": "execute_result"
    }
   ],
   "source": [
    "data['rating'].unique()"
   ]
  },
  {
   "cell_type": "markdown",
   "metadata": {},
   "source": [
    "There are no other problems besides nan. Let's replace nan with 'NR', which means No Rating, and then we will calculate games without rating exactly by these values."
   ]
  },
  {
   "cell_type": "code",
   "execution_count": 101,
   "metadata": {},
   "outputs": [
    {
     "data": {
      "text/plain": [
       "array(['E', 'NR', 'M', 'T', 'E10+', 'K-A', 'AO', 'EC', 'RP'], dtype=object)"
      ]
     },
     "execution_count": 101,
     "metadata": {},
     "output_type": "execute_result"
    }
   ],
   "source": [
    "data['rating'] = data['rating'].fillna('NR')\n",
    "data['rating'].unique()"
   ]
  },
  {
   "cell_type": "markdown",
   "metadata": {},
   "source": [
    "Now we have a new rating - no rating.\n"
   ]
  },
  {
   "cell_type": "markdown",
   "metadata": {},
   "source": [
    "### Add the column Total sales in all regions"
   ]
  },
  {
   "cell_type": "code",
   "execution_count": 102,
   "metadata": {},
   "outputs": [
    {
     "data": {
      "text/html": [
       "<div>\n",
       "<style scoped>\n",
       "    .dataframe tbody tr th:only-of-type {\n",
       "        vertical-align: middle;\n",
       "    }\n",
       "\n",
       "    .dataframe tbody tr th {\n",
       "        vertical-align: top;\n",
       "    }\n",
       "\n",
       "    .dataframe thead th {\n",
       "        text-align: right;\n",
       "    }\n",
       "</style>\n",
       "<table border=\"1\" class=\"dataframe\">\n",
       "  <thead>\n",
       "    <tr style=\"text-align: right;\">\n",
       "      <th></th>\n",
       "      <th>name</th>\n",
       "      <th>platform</th>\n",
       "      <th>year_of_release</th>\n",
       "      <th>genre</th>\n",
       "      <th>na_sales</th>\n",
       "      <th>eu_sales</th>\n",
       "      <th>jp_sales</th>\n",
       "      <th>other_sales</th>\n",
       "      <th>critic_score</th>\n",
       "      <th>user_score</th>\n",
       "      <th>rating</th>\n",
       "      <th>all_sales</th>\n",
       "    </tr>\n",
       "  </thead>\n",
       "  <tbody>\n",
       "    <tr>\n",
       "      <th>0</th>\n",
       "      <td>Wii Sports</td>\n",
       "      <td>Wii</td>\n",
       "      <td>2006.0</td>\n",
       "      <td>sports</td>\n",
       "      <td>41.36</td>\n",
       "      <td>28.96</td>\n",
       "      <td>3.77</td>\n",
       "      <td>8.45</td>\n",
       "      <td>76.0</td>\n",
       "      <td>8.0</td>\n",
       "      <td>E</td>\n",
       "      <td>82.54</td>\n",
       "    </tr>\n",
       "    <tr>\n",
       "      <th>1</th>\n",
       "      <td>Super Mario Bros.</td>\n",
       "      <td>NES</td>\n",
       "      <td>1985.0</td>\n",
       "      <td>platform</td>\n",
       "      <td>29.08</td>\n",
       "      <td>3.58</td>\n",
       "      <td>6.81</td>\n",
       "      <td>0.77</td>\n",
       "      <td>NaN</td>\n",
       "      <td>NaN</td>\n",
       "      <td>NR</td>\n",
       "      <td>40.24</td>\n",
       "    </tr>\n",
       "    <tr>\n",
       "      <th>2</th>\n",
       "      <td>Mario Kart Wii</td>\n",
       "      <td>Wii</td>\n",
       "      <td>2008.0</td>\n",
       "      <td>racing</td>\n",
       "      <td>15.68</td>\n",
       "      <td>12.76</td>\n",
       "      <td>3.79</td>\n",
       "      <td>3.29</td>\n",
       "      <td>82.0</td>\n",
       "      <td>8.3</td>\n",
       "      <td>E</td>\n",
       "      <td>35.52</td>\n",
       "    </tr>\n",
       "    <tr>\n",
       "      <th>3</th>\n",
       "      <td>Wii Sports Resort</td>\n",
       "      <td>Wii</td>\n",
       "      <td>2009.0</td>\n",
       "      <td>sports</td>\n",
       "      <td>15.61</td>\n",
       "      <td>10.93</td>\n",
       "      <td>3.28</td>\n",
       "      <td>2.95</td>\n",
       "      <td>80.0</td>\n",
       "      <td>8.0</td>\n",
       "      <td>E</td>\n",
       "      <td>32.77</td>\n",
       "    </tr>\n",
       "    <tr>\n",
       "      <th>4</th>\n",
       "      <td>Pokemon Red/Pokemon Blue</td>\n",
       "      <td>GB</td>\n",
       "      <td>1996.0</td>\n",
       "      <td>role-playing</td>\n",
       "      <td>11.27</td>\n",
       "      <td>8.89</td>\n",
       "      <td>10.22</td>\n",
       "      <td>1.00</td>\n",
       "      <td>NaN</td>\n",
       "      <td>NaN</td>\n",
       "      <td>NR</td>\n",
       "      <td>31.38</td>\n",
       "    </tr>\n",
       "  </tbody>\n",
       "</table>\n",
       "</div>"
      ],
      "text/plain": [
       "                       name platform  year_of_release         genre  na_sales  \\\n",
       "0                Wii Sports      Wii           2006.0        sports     41.36   \n",
       "1         Super Mario Bros.      NES           1985.0      platform     29.08   \n",
       "2            Mario Kart Wii      Wii           2008.0        racing     15.68   \n",
       "3         Wii Sports Resort      Wii           2009.0        sports     15.61   \n",
       "4  Pokemon Red/Pokemon Blue       GB           1996.0  role-playing     11.27   \n",
       "\n",
       "   eu_sales  jp_sales  other_sales  critic_score  user_score rating  all_sales  \n",
       "0     28.96      3.77         8.45          76.0         8.0      E      82.54  \n",
       "1      3.58      6.81         0.77           NaN         NaN     NR      40.24  \n",
       "2     12.76      3.79         3.29          82.0         8.3      E      35.52  \n",
       "3     10.93      3.28         2.95          80.0         8.0      E      32.77  \n",
       "4      8.89     10.22         1.00           NaN         NaN     NR      31.38  "
      ]
     },
     "execution_count": 102,
     "metadata": {},
     "output_type": "execute_result"
    }
   ],
   "source": [
    "data['all_sales'] = data[['na_sales','eu_sales','jp_sales','other_sales']].sum(axis = 'columns')\n",
    "data.head()"
   ]
  },
  {
   "cell_type": "markdown",
   "metadata": {},
   "source": [
    "## Conduct an exploratory data analysis"
   ]
  },
  {
   "cell_type": "markdown",
   "metadata": {},
   "source": [
    "### Let's see how many games were released in different years."
   ]
  },
  {
   "cell_type": "code",
   "execution_count": 103,
   "metadata": {},
   "outputs": [
    {
     "data": {
      "text/html": [
       "<div>\n",
       "<style scoped>\n",
       "    .dataframe tbody tr th:only-of-type {\n",
       "        vertical-align: middle;\n",
       "    }\n",
       "\n",
       "    .dataframe tbody tr th {\n",
       "        vertical-align: top;\n",
       "    }\n",
       "\n",
       "    .dataframe thead th {\n",
       "        text-align: right;\n",
       "    }\n",
       "</style>\n",
       "<table border=\"1\" class=\"dataframe\">\n",
       "  <thead>\n",
       "    <tr style=\"text-align: right;\">\n",
       "      <th></th>\n",
       "      <th>year_of_release</th>\n",
       "      <th>quantity</th>\n",
       "    </tr>\n",
       "  </thead>\n",
       "  <tbody>\n",
       "    <tr>\n",
       "      <th>0</th>\n",
       "      <td>1980.0</td>\n",
       "      <td>9</td>\n",
       "    </tr>\n",
       "    <tr>\n",
       "      <th>1</th>\n",
       "      <td>1981.0</td>\n",
       "      <td>46</td>\n",
       "    </tr>\n",
       "    <tr>\n",
       "      <th>2</th>\n",
       "      <td>1982.0</td>\n",
       "      <td>36</td>\n",
       "    </tr>\n",
       "    <tr>\n",
       "      <th>3</th>\n",
       "      <td>1983.0</td>\n",
       "      <td>17</td>\n",
       "    </tr>\n",
       "    <tr>\n",
       "      <th>4</th>\n",
       "      <td>1984.0</td>\n",
       "      <td>14</td>\n",
       "    </tr>\n",
       "    <tr>\n",
       "      <th>5</th>\n",
       "      <td>1985.0</td>\n",
       "      <td>14</td>\n",
       "    </tr>\n",
       "    <tr>\n",
       "      <th>6</th>\n",
       "      <td>1986.0</td>\n",
       "      <td>21</td>\n",
       "    </tr>\n",
       "    <tr>\n",
       "      <th>7</th>\n",
       "      <td>1987.0</td>\n",
       "      <td>16</td>\n",
       "    </tr>\n",
       "    <tr>\n",
       "      <th>8</th>\n",
       "      <td>1988.0</td>\n",
       "      <td>15</td>\n",
       "    </tr>\n",
       "    <tr>\n",
       "      <th>9</th>\n",
       "      <td>1989.0</td>\n",
       "      <td>17</td>\n",
       "    </tr>\n",
       "    <tr>\n",
       "      <th>10</th>\n",
       "      <td>1990.0</td>\n",
       "      <td>16</td>\n",
       "    </tr>\n",
       "    <tr>\n",
       "      <th>11</th>\n",
       "      <td>1991.0</td>\n",
       "      <td>41</td>\n",
       "    </tr>\n",
       "    <tr>\n",
       "      <th>12</th>\n",
       "      <td>1992.0</td>\n",
       "      <td>43</td>\n",
       "    </tr>\n",
       "    <tr>\n",
       "      <th>13</th>\n",
       "      <td>1993.0</td>\n",
       "      <td>60</td>\n",
       "    </tr>\n",
       "    <tr>\n",
       "      <th>14</th>\n",
       "      <td>1994.0</td>\n",
       "      <td>121</td>\n",
       "    </tr>\n",
       "    <tr>\n",
       "      <th>15</th>\n",
       "      <td>1995.0</td>\n",
       "      <td>219</td>\n",
       "    </tr>\n",
       "    <tr>\n",
       "      <th>16</th>\n",
       "      <td>1996.0</td>\n",
       "      <td>263</td>\n",
       "    </tr>\n",
       "    <tr>\n",
       "      <th>17</th>\n",
       "      <td>1997.0</td>\n",
       "      <td>288</td>\n",
       "    </tr>\n",
       "    <tr>\n",
       "      <th>18</th>\n",
       "      <td>1998.0</td>\n",
       "      <td>379</td>\n",
       "    </tr>\n",
       "    <tr>\n",
       "      <th>19</th>\n",
       "      <td>1999.0</td>\n",
       "      <td>330</td>\n",
       "    </tr>\n",
       "    <tr>\n",
       "      <th>20</th>\n",
       "      <td>2000.0</td>\n",
       "      <td>307</td>\n",
       "    </tr>\n",
       "    <tr>\n",
       "      <th>21</th>\n",
       "      <td>2001.0</td>\n",
       "      <td>400</td>\n",
       "    </tr>\n",
       "    <tr>\n",
       "      <th>22</th>\n",
       "      <td>2002.0</td>\n",
       "      <td>637</td>\n",
       "    </tr>\n",
       "    <tr>\n",
       "      <th>23</th>\n",
       "      <td>2003.0</td>\n",
       "      <td>680</td>\n",
       "    </tr>\n",
       "    <tr>\n",
       "      <th>24</th>\n",
       "      <td>2004.0</td>\n",
       "      <td>655</td>\n",
       "    </tr>\n",
       "    <tr>\n",
       "      <th>25</th>\n",
       "      <td>2005.0</td>\n",
       "      <td>818</td>\n",
       "    </tr>\n",
       "    <tr>\n",
       "      <th>26</th>\n",
       "      <td>2006.0</td>\n",
       "      <td>882</td>\n",
       "    </tr>\n",
       "    <tr>\n",
       "      <th>27</th>\n",
       "      <td>2007.0</td>\n",
       "      <td>1005</td>\n",
       "    </tr>\n",
       "    <tr>\n",
       "      <th>28</th>\n",
       "      <td>2008.0</td>\n",
       "      <td>1101</td>\n",
       "    </tr>\n",
       "    <tr>\n",
       "      <th>29</th>\n",
       "      <td>2009.0</td>\n",
       "      <td>1021</td>\n",
       "    </tr>\n",
       "    <tr>\n",
       "      <th>30</th>\n",
       "      <td>2010.0</td>\n",
       "      <td>924</td>\n",
       "    </tr>\n",
       "    <tr>\n",
       "      <th>31</th>\n",
       "      <td>2011.0</td>\n",
       "      <td>919</td>\n",
       "    </tr>\n",
       "    <tr>\n",
       "      <th>32</th>\n",
       "      <td>2012.0</td>\n",
       "      <td>629</td>\n",
       "    </tr>\n",
       "    <tr>\n",
       "      <th>33</th>\n",
       "      <td>2013.0</td>\n",
       "      <td>529</td>\n",
       "    </tr>\n",
       "    <tr>\n",
       "      <th>34</th>\n",
       "      <td>2014.0</td>\n",
       "      <td>560</td>\n",
       "    </tr>\n",
       "    <tr>\n",
       "      <th>35</th>\n",
       "      <td>2015.0</td>\n",
       "      <td>568</td>\n",
       "    </tr>\n",
       "    <tr>\n",
       "      <th>36</th>\n",
       "      <td>2016.0</td>\n",
       "      <td>468</td>\n",
       "    </tr>\n",
       "  </tbody>\n",
       "</table>\n",
       "</div>"
      ],
      "text/plain": [
       "    year_of_release  quantity\n",
       "0            1980.0         9\n",
       "1            1981.0        46\n",
       "2            1982.0        36\n",
       "3            1983.0        17\n",
       "4            1984.0        14\n",
       "5            1985.0        14\n",
       "6            1986.0        21\n",
       "7            1987.0        16\n",
       "8            1988.0        15\n",
       "9            1989.0        17\n",
       "10           1990.0        16\n",
       "11           1991.0        41\n",
       "12           1992.0        43\n",
       "13           1993.0        60\n",
       "14           1994.0       121\n",
       "15           1995.0       219\n",
       "16           1996.0       263\n",
       "17           1997.0       288\n",
       "18           1998.0       379\n",
       "19           1999.0       330\n",
       "20           2000.0       307\n",
       "21           2001.0       400\n",
       "22           2002.0       637\n",
       "23           2003.0       680\n",
       "24           2004.0       655\n",
       "25           2005.0       818\n",
       "26           2006.0       882\n",
       "27           2007.0      1005\n",
       "28           2008.0      1101\n",
       "29           2009.0      1021\n",
       "30           2010.0       924\n",
       "31           2011.0       919\n",
       "32           2012.0       629\n",
       "33           2013.0       529\n",
       "34           2014.0       560\n",
       "35           2015.0       568\n",
       "36           2016.0       468"
      ]
     },
     "execution_count": 103,
     "metadata": {},
     "output_type": "execute_result"
    }
   ],
   "source": [
    "years = data.pivot_table(index ='year_of_release', values = 'name', aggfunc='count')\n",
    "years.reset_index(inplace=True)\n",
    "years.columns = ['year_of_release', 'quantity']\n",
    "years"
   ]
  },
  {
   "cell_type": "code",
   "execution_count": 104,
   "metadata": {},
   "outputs": [
    {
     "data": {
      "text/plain": [
       "<AxesSubplot:title={'center':'Games through years'}, xlabel='year', ylabel='games quantity'>"
      ]
     },
     "execution_count": 104,
     "metadata": {},
     "output_type": "execute_result"
    },
    {
     "data": {
      "image/png": "[encoded data removed]",
      "text/plain": [
       "<Figure size 1080x576 with 1 Axes>"
      ]
     },
     "metadata": {
      "needs_background": "light"
     },
     "output_type": "display_data"
    }
   ],
   "source": [
    "plt.figure(figsize=(15,8))\n",
    "plt.title('Games through years')\n",
    "plt.xlabel('year')\n",
    "plt.ylabel('games quantity')\n",
    "sns.lineplot(data=years, \n",
    "             x = 'year_of_release', \n",
    "             y = 'quantity')"
   ]
  },
  {
   "cell_type": "markdown",
   "metadata": {},
   "source": [
    "After 1995, the production of games began to grow sharply, and after 2009 it also fell sharply. Perhaps this is due to the fact that game developers have switched to the production of games for smartphones, which we do not consider in this study. Therefore, we will not take into account the period before 1995."
   ]
  },
  {
   "cell_type": "markdown",
   "metadata": {},
   "source": [
    "### See how sales have changed by platform over time"
   ]
  },
  {
   "cell_type": "markdown",
   "metadata": {},
   "source": [
    "Let's see how sales changed by platform. Let's choose the platforms with the highest total sales and build the distribution by years, for this we will find the amount of sales for each platform."
   ]
  },
  {
   "cell_type": "code",
   "execution_count": 105,
   "metadata": {},
   "outputs": [
    {
     "data": {
      "text/html": [
       "<div>\n",
       "<style scoped>\n",
       "    .dataframe tbody tr th:only-of-type {\n",
       "        vertical-align: middle;\n",
       "    }\n",
       "\n",
       "    .dataframe tbody tr th {\n",
       "        vertical-align: top;\n",
       "    }\n",
       "\n",
       "    .dataframe thead th {\n",
       "        text-align: right;\n",
       "    }\n",
       "</style>\n",
       "<table border=\"1\" class=\"dataframe\">\n",
       "  <thead>\n",
       "    <tr style=\"text-align: right;\">\n",
       "      <th></th>\n",
       "      <th>all_sales</th>\n",
       "    </tr>\n",
       "    <tr>\n",
       "      <th>platform</th>\n",
       "      <th></th>\n",
       "    </tr>\n",
       "  </thead>\n",
       "  <tbody>\n",
       "    <tr>\n",
       "      <th>PS2</th>\n",
       "      <td>1171.19</td>\n",
       "    </tr>\n",
       "    <tr>\n",
       "      <th>X360</th>\n",
       "      <td>948.74</td>\n",
       "    </tr>\n",
       "    <tr>\n",
       "      <th>PS3</th>\n",
       "      <td>921.09</td>\n",
       "    </tr>\n",
       "    <tr>\n",
       "      <th>Wii</th>\n",
       "      <td>791.91</td>\n",
       "    </tr>\n",
       "    <tr>\n",
       "      <th>PS</th>\n",
       "      <td>714.26</td>\n",
       "    </tr>\n",
       "    <tr>\n",
       "      <th>DS</th>\n",
       "      <td>655.36</td>\n",
       "    </tr>\n",
       "    <tr>\n",
       "      <th>PS4</th>\n",
       "      <td>314.00</td>\n",
       "    </tr>\n",
       "    <tr>\n",
       "      <th>PSP</th>\n",
       "      <td>273.11</td>\n",
       "    </tr>\n",
       "    <tr>\n",
       "      <th>GBA</th>\n",
       "      <td>263.70</td>\n",
       "    </tr>\n",
       "    <tr>\n",
       "      <th>GB</th>\n",
       "      <td>254.43</td>\n",
       "    </tr>\n",
       "    <tr>\n",
       "      <th>3DS</th>\n",
       "      <td>253.24</td>\n",
       "    </tr>\n",
       "    <tr>\n",
       "      <th>PC</th>\n",
       "      <td>252.25</td>\n",
       "    </tr>\n",
       "    <tr>\n",
       "      <th>NES</th>\n",
       "      <td>251.05</td>\n",
       "    </tr>\n",
       "    <tr>\n",
       "      <th>XB</th>\n",
       "      <td>236.38</td>\n",
       "    </tr>\n",
       "    <tr>\n",
       "      <th>N64</th>\n",
       "      <td>218.01</td>\n",
       "    </tr>\n",
       "    <tr>\n",
       "      <th>SNES</th>\n",
       "      <td>200.04</td>\n",
       "    </tr>\n",
       "    <tr>\n",
       "      <th>GC</th>\n",
       "      <td>185.68</td>\n",
       "    </tr>\n",
       "    <tr>\n",
       "      <th>XOne</th>\n",
       "      <td>158.77</td>\n",
       "    </tr>\n",
       "    <tr>\n",
       "      <th>2600</th>\n",
       "      <td>86.48</td>\n",
       "    </tr>\n",
       "    <tr>\n",
       "      <th>WiiU</th>\n",
       "      <td>81.79</td>\n",
       "    </tr>\n",
       "    <tr>\n",
       "      <th>PSV</th>\n",
       "      <td>53.50</td>\n",
       "    </tr>\n",
       "    <tr>\n",
       "      <th>SAT</th>\n",
       "      <td>33.59</td>\n",
       "    </tr>\n",
       "    <tr>\n",
       "      <th>GEN</th>\n",
       "      <td>30.77</td>\n",
       "    </tr>\n",
       "    <tr>\n",
       "      <th>DC</th>\n",
       "      <td>15.95</td>\n",
       "    </tr>\n",
       "    <tr>\n",
       "      <th>SCD</th>\n",
       "      <td>1.86</td>\n",
       "    </tr>\n",
       "    <tr>\n",
       "      <th>NG</th>\n",
       "      <td>1.44</td>\n",
       "    </tr>\n",
       "    <tr>\n",
       "      <th>WS</th>\n",
       "      <td>1.42</td>\n",
       "    </tr>\n",
       "    <tr>\n",
       "      <th>TG16</th>\n",
       "      <td>0.16</td>\n",
       "    </tr>\n",
       "    <tr>\n",
       "      <th>3DO</th>\n",
       "      <td>0.10</td>\n",
       "    </tr>\n",
       "    <tr>\n",
       "      <th>GG</th>\n",
       "      <td>0.04</td>\n",
       "    </tr>\n",
       "    <tr>\n",
       "      <th>PCFX</th>\n",
       "      <td>0.03</td>\n",
       "    </tr>\n",
       "  </tbody>\n",
       "</table>\n",
       "</div>"
      ],
      "text/plain": [
       "          all_sales\n",
       "platform           \n",
       "PS2         1171.19\n",
       "X360         948.74\n",
       "PS3          921.09\n",
       "Wii          791.91\n",
       "PS           714.26\n",
       "DS           655.36\n",
       "PS4          314.00\n",
       "PSP          273.11\n",
       "GBA          263.70\n",
       "GB           254.43\n",
       "3DS          253.24\n",
       "PC           252.25\n",
       "NES          251.05\n",
       "XB           236.38\n",
       "N64          218.01\n",
       "SNES         200.04\n",
       "GC           185.68\n",
       "XOne         158.77\n",
       "2600          86.48\n",
       "WiiU          81.79\n",
       "PSV           53.50\n",
       "SAT           33.59\n",
       "GEN           30.77\n",
       "DC            15.95\n",
       "SCD            1.86\n",
       "NG             1.44\n",
       "WS             1.42\n",
       "TG16           0.16\n",
       "3DO            0.10\n",
       "GG             0.04\n",
       "PCFX           0.03"
      ]
     },
     "execution_count": 105,
     "metadata": {},
     "output_type": "execute_result"
    }
   ],
   "source": [
    "platform = data.pivot_table(index = 'platform', values = 'all_sales', aggfunc= 'sum')\n",
    "platform.sort_values(by = 'all_sales', ascending = False)"
   ]
  },
  {
   "cell_type": "markdown",
   "metadata": {},
   "source": [
    "There is a big difference between the sales of games on 2600 and XOne (almost twice), so let's take as successful platforms those on which game sales exceeded $100 million during the study period."
   ]
  },
  {
   "cell_type": "code",
   "execution_count": 106,
   "metadata": {},
   "outputs": [],
   "source": [
    "platform = platform.query('all_sales >= 100')\n",
    "successed_platform = data.query('platform in @platform.index')\n"
   ]
  },
  {
   "cell_type": "code",
   "execution_count": 107,
   "metadata": {},
   "outputs": [
    {
     "data": {
      "text/plain": [
       "<AxesSubplot:xlabel='year_of_release', ylabel='all_sales'>"
      ]
     },
     "execution_count": 107,
     "metadata": {},
     "output_type": "execute_result"
    },
    {
     "data": {
      "image/png": "[encoded data removed]",
      "text/plain": [
       "<Figure size 1080x576 with 1 Axes>"
      ]
     },
     "metadata": {
      "needs_background": "light"
     },
     "output_type": "display_data"
    }
   ],
   "source": [
    "plt.figure(figsize=(15,8))\n",
    "sns.lineplot(x = 'year_of_release', \n",
    "             y = 'all_sales', \n",
    "             hue = 'platform',\n",
    "             data = successed_platform.query('year_of_release >= 1995'), \n",
    "             estimator=sum)"
   ]
  },
  {
   "cell_type": "markdown",
   "metadata": {},
   "source": [
    "From the graph, you can see that the average life of a gaming platform is about 10 years."
   ]
  },
  {
   "cell_type": "markdown",
   "metadata": {},
   "source": [
    "### Determine the current study period for the forecast for 2017 without taking into account other years."
   ]
  },
  {
   "cell_type": "markdown",
   "metadata": {},
   "source": [
    "Taking into account the fact that since 1995 the gaming industry has experienced a strong rise, and since 2009, on the contrary, a decline, and also taking into account the fact that new platforms appear very quickly, it is better to take for research a period that begins no earlier than 2007 (we take into account calculation that the lifetime of the platform is 10 years), while shifting its beginning a little \"to the right\" by years, since the platforms that began their life in 2007 are already ending in 2017 and this is not very interesting for us.\n",
    "Since there are many platforms on the chart that have already outlived their usefulness, we will shorten it to 2012-2017 to see which of the platforms can make a profit in 2017 (because from 12 to 17 exactly 5 years, which reflects half the life of the new platform, which ( theoretically) originated in 2012).\n",
    "Let's create a separate dataframe for these years only."
   ]
  },
  {
   "cell_type": "code",
   "execution_count": 108,
   "metadata": {},
   "outputs": [
    {
     "data": {
      "text/html": [
       "<div>\n",
       "<style scoped>\n",
       "    .dataframe tbody tr th:only-of-type {\n",
       "        vertical-align: middle;\n",
       "    }\n",
       "\n",
       "    .dataframe tbody tr th {\n",
       "        vertical-align: top;\n",
       "    }\n",
       "\n",
       "    .dataframe thead th {\n",
       "        text-align: right;\n",
       "    }\n",
       "</style>\n",
       "<table border=\"1\" class=\"dataframe\">\n",
       "  <thead>\n",
       "    <tr style=\"text-align: right;\">\n",
       "      <th></th>\n",
       "      <th>name</th>\n",
       "      <th>platform</th>\n",
       "      <th>year_of_release</th>\n",
       "      <th>genre</th>\n",
       "      <th>na_sales</th>\n",
       "      <th>eu_sales</th>\n",
       "      <th>jp_sales</th>\n",
       "      <th>other_sales</th>\n",
       "      <th>critic_score</th>\n",
       "      <th>user_score</th>\n",
       "      <th>rating</th>\n",
       "      <th>all_sales</th>\n",
       "    </tr>\n",
       "  </thead>\n",
       "  <tbody>\n",
       "    <tr>\n",
       "      <th>16</th>\n",
       "      <td>Grand Theft Auto V</td>\n",
       "      <td>PS3</td>\n",
       "      <td>2013.0</td>\n",
       "      <td>action</td>\n",
       "      <td>7.02</td>\n",
       "      <td>9.09</td>\n",
       "      <td>0.98</td>\n",
       "      <td>3.96</td>\n",
       "      <td>97.0</td>\n",
       "      <td>8.2</td>\n",
       "      <td>M</td>\n",
       "      <td>21.05</td>\n",
       "    </tr>\n",
       "    <tr>\n",
       "      <th>23</th>\n",
       "      <td>Grand Theft Auto V</td>\n",
       "      <td>X360</td>\n",
       "      <td>2013.0</td>\n",
       "      <td>action</td>\n",
       "      <td>9.66</td>\n",
       "      <td>5.14</td>\n",
       "      <td>0.06</td>\n",
       "      <td>1.41</td>\n",
       "      <td>97.0</td>\n",
       "      <td>8.1</td>\n",
       "      <td>M</td>\n",
       "      <td>16.27</td>\n",
       "    </tr>\n",
       "    <tr>\n",
       "      <th>31</th>\n",
       "      <td>Call of Duty: Black Ops 3</td>\n",
       "      <td>PS4</td>\n",
       "      <td>2015.0</td>\n",
       "      <td>shooter</td>\n",
       "      <td>6.03</td>\n",
       "      <td>5.86</td>\n",
       "      <td>0.36</td>\n",
       "      <td>2.38</td>\n",
       "      <td>NaN</td>\n",
       "      <td>NaN</td>\n",
       "      <td>NR</td>\n",
       "      <td>14.63</td>\n",
       "    </tr>\n",
       "    <tr>\n",
       "      <th>33</th>\n",
       "      <td>Pokemon X/Pokemon Y</td>\n",
       "      <td>3DS</td>\n",
       "      <td>2013.0</td>\n",
       "      <td>role-playing</td>\n",
       "      <td>5.28</td>\n",
       "      <td>4.19</td>\n",
       "      <td>4.35</td>\n",
       "      <td>0.78</td>\n",
       "      <td>NaN</td>\n",
       "      <td>NaN</td>\n",
       "      <td>NR</td>\n",
       "      <td>14.60</td>\n",
       "    </tr>\n",
       "    <tr>\n",
       "      <th>34</th>\n",
       "      <td>Call of Duty: Black Ops II</td>\n",
       "      <td>PS3</td>\n",
       "      <td>2012.0</td>\n",
       "      <td>shooter</td>\n",
       "      <td>4.99</td>\n",
       "      <td>5.73</td>\n",
       "      <td>0.65</td>\n",
       "      <td>2.42</td>\n",
       "      <td>83.0</td>\n",
       "      <td>5.3</td>\n",
       "      <td>M</td>\n",
       "      <td>13.79</td>\n",
       "    </tr>\n",
       "    <tr>\n",
       "      <th>...</th>\n",
       "      <td>...</td>\n",
       "      <td>...</td>\n",
       "      <td>...</td>\n",
       "      <td>...</td>\n",
       "      <td>...</td>\n",
       "      <td>...</td>\n",
       "      <td>...</td>\n",
       "      <td>...</td>\n",
       "      <td>...</td>\n",
       "      <td>...</td>\n",
       "      <td>...</td>\n",
       "      <td>...</td>\n",
       "    </tr>\n",
       "    <tr>\n",
       "      <th>16674</th>\n",
       "      <td>Tsukigime Ranko's Longest Day</td>\n",
       "      <td>PS3</td>\n",
       "      <td>2014.0</td>\n",
       "      <td>action</td>\n",
       "      <td>0.00</td>\n",
       "      <td>0.01</td>\n",
       "      <td>0.00</td>\n",
       "      <td>0.00</td>\n",
       "      <td>NaN</td>\n",
       "      <td>NaN</td>\n",
       "      <td>NR</td>\n",
       "      <td>0.01</td>\n",
       "    </tr>\n",
       "    <tr>\n",
       "      <th>16678</th>\n",
       "      <td>End of Nations</td>\n",
       "      <td>PC</td>\n",
       "      <td>2012.0</td>\n",
       "      <td>strategy</td>\n",
       "      <td>0.01</td>\n",
       "      <td>0.00</td>\n",
       "      <td>0.00</td>\n",
       "      <td>0.00</td>\n",
       "      <td>NaN</td>\n",
       "      <td>NaN</td>\n",
       "      <td>T</td>\n",
       "      <td>0.01</td>\n",
       "    </tr>\n",
       "    <tr>\n",
       "      <th>16682</th>\n",
       "      <td>Grisaia no Kajitsu: La Fruit de la Grisaia</td>\n",
       "      <td>PSP</td>\n",
       "      <td>2013.0</td>\n",
       "      <td>adventure</td>\n",
       "      <td>0.00</td>\n",
       "      <td>0.00</td>\n",
       "      <td>0.01</td>\n",
       "      <td>0.00</td>\n",
       "      <td>NaN</td>\n",
       "      <td>NaN</td>\n",
       "      <td>NR</td>\n",
       "      <td>0.01</td>\n",
       "    </tr>\n",
       "    <tr>\n",
       "      <th>16692</th>\n",
       "      <td>Metal Gear Solid V: Ground Zeroes</td>\n",
       "      <td>PC</td>\n",
       "      <td>2014.0</td>\n",
       "      <td>action</td>\n",
       "      <td>0.00</td>\n",
       "      <td>0.01</td>\n",
       "      <td>0.00</td>\n",
       "      <td>0.00</td>\n",
       "      <td>80.0</td>\n",
       "      <td>7.6</td>\n",
       "      <td>M</td>\n",
       "      <td>0.01</td>\n",
       "    </tr>\n",
       "    <tr>\n",
       "      <th>16707</th>\n",
       "      <td>Aiyoku no Eustia</td>\n",
       "      <td>PSV</td>\n",
       "      <td>2014.0</td>\n",
       "      <td>misc</td>\n",
       "      <td>0.00</td>\n",
       "      <td>0.00</td>\n",
       "      <td>0.01</td>\n",
       "      <td>0.00</td>\n",
       "      <td>NaN</td>\n",
       "      <td>NaN</td>\n",
       "      <td>NR</td>\n",
       "      <td>0.01</td>\n",
       "    </tr>\n",
       "  </tbody>\n",
       "</table>\n",
       "<p>2286 rows × 12 columns</p>\n",
       "</div>"
      ],
      "text/plain": [
       "                                             name platform  year_of_release  \\\n",
       "16                             Grand Theft Auto V      PS3           2013.0   \n",
       "23                             Grand Theft Auto V     X360           2013.0   \n",
       "31                      Call of Duty: Black Ops 3      PS4           2015.0   \n",
       "33                            Pokemon X/Pokemon Y      3DS           2013.0   \n",
       "34                     Call of Duty: Black Ops II      PS3           2012.0   \n",
       "...                                           ...      ...              ...   \n",
       "16674               Tsukigime Ranko's Longest Day      PS3           2014.0   \n",
       "16678                              End of Nations       PC           2012.0   \n",
       "16682  Grisaia no Kajitsu: La Fruit de la Grisaia      PSP           2013.0   \n",
       "16692           Metal Gear Solid V: Ground Zeroes       PC           2014.0   \n",
       "16707                            Aiyoku no Eustia      PSV           2014.0   \n",
       "\n",
       "              genre  na_sales  eu_sales  jp_sales  other_sales  critic_score  \\\n",
       "16           action      7.02      9.09      0.98         3.96          97.0   \n",
       "23           action      9.66      5.14      0.06         1.41          97.0   \n",
       "31          shooter      6.03      5.86      0.36         2.38           NaN   \n",
       "33     role-playing      5.28      4.19      4.35         0.78           NaN   \n",
       "34          shooter      4.99      5.73      0.65         2.42          83.0   \n",
       "...             ...       ...       ...       ...          ...           ...   \n",
       "16674        action      0.00      0.01      0.00         0.00           NaN   \n",
       "16678      strategy      0.01      0.00      0.00         0.00           NaN   \n",
       "16682     adventure      0.00      0.00      0.01         0.00           NaN   \n",
       "16692        action      0.00      0.01      0.00         0.00          80.0   \n",
       "16707          misc      0.00      0.00      0.01         0.00           NaN   \n",
       "\n",
       "       user_score rating  all_sales  \n",
       "16            8.2      M      21.05  \n",
       "23            8.1      M      16.27  \n",
       "31            NaN     NR      14.63  \n",
       "33            NaN     NR      14.60  \n",
       "34            5.3      M      13.79  \n",
       "...           ...    ...        ...  \n",
       "16674         NaN     NR       0.01  \n",
       "16678         NaN      T       0.01  \n",
       "16682         NaN     NR       0.01  \n",
       "16692         7.6      M       0.01  \n",
       "16707         NaN     NR       0.01  \n",
       "\n",
       "[2286 rows x 12 columns]"
      ]
     },
     "execution_count": 108,
     "metadata": {},
     "output_type": "execute_result"
    }
   ],
   "source": [
    "list_of_years = [year for year in range(2012, 2016)]\n",
    "data_2 = data[data['year_of_release'].isin(list_of_years)]\n",
    "data_2"
   ]
  },
  {
   "cell_type": "markdown",
   "metadata": {},
   "source": [
    "### Choose a few potentially profitable platforms."
   ]
  },
  {
   "cell_type": "code",
   "execution_count": 109,
   "metadata": {},
   "outputs": [
    {
     "data": {
      "text/html": [
       "<div>\n",
       "<style scoped>\n",
       "    .dataframe tbody tr th:only-of-type {\n",
       "        vertical-align: middle;\n",
       "    }\n",
       "\n",
       "    .dataframe tbody tr th {\n",
       "        vertical-align: top;\n",
       "    }\n",
       "\n",
       "    .dataframe thead th {\n",
       "        text-align: right;\n",
       "    }\n",
       "</style>\n",
       "<table border=\"1\" class=\"dataframe\">\n",
       "  <thead>\n",
       "    <tr style=\"text-align: right;\">\n",
       "      <th></th>\n",
       "      <th>all_sales</th>\n",
       "    </tr>\n",
       "    <tr>\n",
       "      <th>platform</th>\n",
       "      <th></th>\n",
       "    </tr>\n",
       "  </thead>\n",
       "  <tbody>\n",
       "    <tr>\n",
       "      <th>PS3</th>\n",
       "      <td>284.23</td>\n",
       "    </tr>\n",
       "    <tr>\n",
       "      <th>PS4</th>\n",
       "      <td>244.85</td>\n",
       "    </tr>\n",
       "    <tr>\n",
       "      <th>X360</th>\n",
       "      <td>233.78</td>\n",
       "    </tr>\n",
       "    <tr>\n",
       "      <th>3DS</th>\n",
       "      <td>177.61</td>\n",
       "    </tr>\n",
       "    <tr>\n",
       "      <th>XOne</th>\n",
       "      <td>132.95</td>\n",
       "    </tr>\n",
       "    <tr>\n",
       "      <th>WiiU</th>\n",
       "      <td>77.49</td>\n",
       "    </tr>\n",
       "    <tr>\n",
       "      <th>PC</th>\n",
       "      <td>57.34</td>\n",
       "    </tr>\n",
       "    <tr>\n",
       "      <th>PSV</th>\n",
       "      <td>44.63</td>\n",
       "    </tr>\n",
       "    <tr>\n",
       "      <th>Wii</th>\n",
       "      <td>31.95</td>\n",
       "    </tr>\n",
       "    <tr>\n",
       "      <th>DS</th>\n",
       "      <td>11.25</td>\n",
       "    </tr>\n",
       "    <tr>\n",
       "      <th>PSP</th>\n",
       "      <td>10.82</td>\n",
       "    </tr>\n",
       "  </tbody>\n",
       "</table>\n",
       "</div>"
      ],
      "text/plain": [
       "          all_sales\n",
       "platform           \n",
       "PS3          284.23\n",
       "PS4          244.85\n",
       "X360         233.78\n",
       "3DS          177.61\n",
       "XOne         132.95\n",
       "WiiU          77.49\n",
       "PC            57.34\n",
       "PSV           44.63\n",
       "Wii           31.95\n",
       "DS            11.25\n",
       "PSP           10.82"
      ]
     },
     "execution_count": 109,
     "metadata": {},
     "output_type": "execute_result"
    }
   ],
   "source": [
    "profit_platforms = data_2.pivot_table(index=['platform'], values = 'all_sales', aggfunc = 'sum')\n",
    "profit_platforms.sort_values(by = 'all_sales', ascending = False)"
   ]
  },
  {
   "cell_type": "markdown",
   "metadata": {},
   "source": [
    "It could be noticed that compared to the first sales table on each platform, the amount of game sales has changed after cutting off the years before 2012. Now PS3 is in the lead, and PS2 has disappeared altogether. This means that sales of PS2 games are not of interest to us. But, nevertheless, the total number of sales cannot give us any information about the potential profitability or unprofitability of the platform in the future, we will study further. We can only find top sellers over the years and they are PS3, PS4 and X360."
   ]
  },
  {
   "cell_type": "markdown",
   "metadata": {},
   "source": [
    "Let's return to the graph of the distribution of sales for each platform over the years. The life of many platforms is coming to an end and we cannot consider them potentially profitable in 2017."
   ]
  },
  {
   "cell_type": "code",
   "execution_count": 110,
   "metadata": {
    "scrolled": false
   },
   "outputs": [
    {
     "data": {
      "text/plain": [
       "<AxesSubplot:xlabel='year_of_release', ylabel='all_sales'>"
      ]
     },
     "execution_count": 110,
     "metadata": {},
     "output_type": "execute_result"
    },
    {
     "data": {
      "image/png": "[encoded data removed]",
      "text/plain": [
       "<Figure size 1080x576 with 1 Axes>"
      ]
     },
     "metadata": {
      "needs_background": "light"
     },
     "output_type": "display_data"
    }
   ],
   "source": [
    "plt.figure(figsize=(15,8))\n",
    "sns.lineplot(x = 'year_of_release', \n",
    "             y = 'all_sales', \n",
    "             hue = 'platform',\n",
    "             data = data_2.query('year_of_release >= 2012'), \n",
    "             estimator=sum)"
   ]
  },
  {
   "cell_type": "markdown",
   "metadata": {},
   "source": [
    "This chart already clearly shows that we still have potentially profitable platforms: PS4 and XOne, as their sales are growing, and add 3DS to them, its sales are falling, but still at an acceptable level (more than other competitors). Sales of games for the X360 were great at one time, but now it is being replaced by XOne and we will not take into account the outdated model."
   ]
  },
  {
   "cell_type": "markdown",
   "metadata": {},
   "source": [
    "### Plot a \"box with a mustache\" graph of global game sales by platform."
   ]
  },
  {
   "cell_type": "code",
   "execution_count": 111,
   "metadata": {},
   "outputs": [],
   "source": [
    "three_platforms = data_2[data_2['platform'].isin(['PS4', 'XOne', '3DS'])]"
   ]
  },
  {
   "cell_type": "code",
   "execution_count": 112,
   "metadata": {},
   "outputs": [
    {
     "data": {
      "text/plain": [
       "[(0.0, 3.0)]"
      ]
     },
     "execution_count": 112,
     "metadata": {},
     "output_type": "execute_result"
    },
    {
     "data": {
      "image/png": "[encoded data removed]",
      "text/plain": [
       "<Figure size 1080x1080 with 1 Axes>"
      ]
     },
     "metadata": {
      "needs_background": "light"
     },
     "output_type": "display_data"
    }
   ],
   "source": [
    "plt.figure(figsize=(15,15))\n",
    "sns.boxplot(x='platform', \n",
    "            y='all_sales', \n",
    "            data = three_platforms).set(ylim=(0, 3))"
   ]
  },
  {
   "cell_type": "code",
   "execution_count": 113,
   "metadata": {
    "scrolled": false
   },
   "outputs": [
    {
     "data": {
      "text/plain": [
       "count    227.000000\n",
       "mean       1.078634\n",
       "std        1.902738\n",
       "min        0.010000\n",
       "25%        0.100000\n",
       "50%        0.320000\n",
       "75%        1.110000\n",
       "max       14.630000\n",
       "Name: all_sales, dtype: float64"
      ]
     },
     "execution_count": 113,
     "metadata": {},
     "output_type": "execute_result"
    }
   ],
   "source": [
    "three_platforms.loc[three_platforms['platform'] == 'PS4', 'all_sales'].describe()"
   ]
  },
  {
   "cell_type": "code",
   "execution_count": 114,
   "metadata": {},
   "outputs": [
    {
     "data": {
      "text/plain": [
       "count    157.000000\n",
       "mean       0.846815\n",
       "std        1.188801\n",
       "min        0.010000\n",
       "25%        0.140000\n",
       "50%        0.370000\n",
       "75%        1.160000\n",
       "max        7.390000\n",
       "Name: all_sales, dtype: float64"
      ]
     },
     "execution_count": 114,
     "metadata": {},
     "output_type": "execute_result"
    }
   ],
   "source": [
    "three_platforms.loc[three_platforms['platform'] == 'XOne', 'all_sales'].describe()"
   ]
  },
  {
   "cell_type": "markdown",
   "metadata": {},
   "source": [
    "PS4 shows the most sales, but by median it is comparable to XOne (XOne has even a little more median). We took the 3DS here last, for the company, and it shows appropriate results. By and large, the distribution of sales on PS4 and XOne is almost the same, PS4 is won by single hits that cost a lot and are sold in large numbers. Plus, brand awareness in the world is slightly higher than that of XOne.\n"
   ]
  },
  {
   "cell_type": "markdown",
   "metadata": {},
   "source": [
    "### Take a look at how sales within one popular platform are affected by player and critic reviews based on PS4 game sales."
   ]
  },
  {
   "cell_type": "code",
   "execution_count": 115,
   "metadata": {},
   "outputs": [],
   "source": [
    "#create a new column with the total rating of players and critics\n",
    "# for this, we divide the critics' rating by 10\n",
    "data_2['total_score'] = data_2['critic_score'] / 10 + data_2['user_score']"
   ]
  },
  {
   "cell_type": "markdown",
   "metadata": {},
   "source": [
    "#### Dependence of sales of games on PS4 on the joint ratings of players and critics"
   ]
  },
  {
   "cell_type": "code",
   "execution_count": 116,
   "metadata": {},
   "outputs": [
    {
     "data": {
      "text/html": [
       "<div>\n",
       "<style scoped>\n",
       "    .dataframe tbody tr th:only-of-type {\n",
       "        vertical-align: middle;\n",
       "    }\n",
       "\n",
       "    .dataframe tbody tr th {\n",
       "        vertical-align: top;\n",
       "    }\n",
       "\n",
       "    .dataframe thead th {\n",
       "        text-align: right;\n",
       "    }\n",
       "</style>\n",
       "<table border=\"1\" class=\"dataframe\">\n",
       "  <thead>\n",
       "    <tr style=\"text-align: right;\">\n",
       "      <th></th>\n",
       "      <th>name</th>\n",
       "      <th>platform</th>\n",
       "      <th>year_of_release</th>\n",
       "      <th>genre</th>\n",
       "      <th>na_sales</th>\n",
       "      <th>eu_sales</th>\n",
       "      <th>jp_sales</th>\n",
       "      <th>other_sales</th>\n",
       "      <th>critic_score</th>\n",
       "      <th>user_score</th>\n",
       "      <th>rating</th>\n",
       "      <th>all_sales</th>\n",
       "      <th>total_score</th>\n",
       "    </tr>\n",
       "  </thead>\n",
       "  <tbody>\n",
       "    <tr>\n",
       "      <th>31</th>\n",
       "      <td>Call of Duty: Black Ops 3</td>\n",
       "      <td>PS4</td>\n",
       "      <td>2015.0</td>\n",
       "      <td>shooter</td>\n",
       "      <td>6.03</td>\n",
       "      <td>5.86</td>\n",
       "      <td>0.36</td>\n",
       "      <td>2.38</td>\n",
       "      <td>NaN</td>\n",
       "      <td>NaN</td>\n",
       "      <td>NR</td>\n",
       "      <td>14.63</td>\n",
       "      <td>NaN</td>\n",
       "    </tr>\n",
       "    <tr>\n",
       "      <th>42</th>\n",
       "      <td>Grand Theft Auto V</td>\n",
       "      <td>PS4</td>\n",
       "      <td>2014.0</td>\n",
       "      <td>action</td>\n",
       "      <td>3.96</td>\n",
       "      <td>6.31</td>\n",
       "      <td>0.38</td>\n",
       "      <td>1.97</td>\n",
       "      <td>97.0</td>\n",
       "      <td>8.3</td>\n",
       "      <td>M</td>\n",
       "      <td>12.62</td>\n",
       "      <td>18.0</td>\n",
       "    </tr>\n",
       "    <tr>\n",
       "      <th>77</th>\n",
       "      <td>FIFA 16</td>\n",
       "      <td>PS4</td>\n",
       "      <td>2015.0</td>\n",
       "      <td>sports</td>\n",
       "      <td>1.12</td>\n",
       "      <td>6.12</td>\n",
       "      <td>0.06</td>\n",
       "      <td>1.28</td>\n",
       "      <td>82.0</td>\n",
       "      <td>4.3</td>\n",
       "      <td>E</td>\n",
       "      <td>8.58</td>\n",
       "      <td>12.5</td>\n",
       "    </tr>\n",
       "    <tr>\n",
       "      <th>87</th>\n",
       "      <td>Star Wars Battlefront (2015)</td>\n",
       "      <td>PS4</td>\n",
       "      <td>2015.0</td>\n",
       "      <td>shooter</td>\n",
       "      <td>2.99</td>\n",
       "      <td>3.49</td>\n",
       "      <td>0.22</td>\n",
       "      <td>1.28</td>\n",
       "      <td>NaN</td>\n",
       "      <td>NaN</td>\n",
       "      <td>NR</td>\n",
       "      <td>7.98</td>\n",
       "      <td>NaN</td>\n",
       "    </tr>\n",
       "    <tr>\n",
       "      <th>92</th>\n",
       "      <td>Call of Duty: Advanced Warfare</td>\n",
       "      <td>PS4</td>\n",
       "      <td>2014.0</td>\n",
       "      <td>shooter</td>\n",
       "      <td>2.81</td>\n",
       "      <td>3.48</td>\n",
       "      <td>0.14</td>\n",
       "      <td>1.23</td>\n",
       "      <td>83.0</td>\n",
       "      <td>5.7</td>\n",
       "      <td>M</td>\n",
       "      <td>7.66</td>\n",
       "      <td>14.0</td>\n",
       "    </tr>\n",
       "    <tr>\n",
       "      <th>...</th>\n",
       "      <td>...</td>\n",
       "      <td>...</td>\n",
       "      <td>...</td>\n",
       "      <td>...</td>\n",
       "      <td>...</td>\n",
       "      <td>...</td>\n",
       "      <td>...</td>\n",
       "      <td>...</td>\n",
       "      <td>...</td>\n",
       "      <td>...</td>\n",
       "      <td>...</td>\n",
       "      <td>...</td>\n",
       "      <td>...</td>\n",
       "    </tr>\n",
       "    <tr>\n",
       "      <th>15556</th>\n",
       "      <td>Natsuiro High School: Seishun Hakusho</td>\n",
       "      <td>PS4</td>\n",
       "      <td>2015.0</td>\n",
       "      <td>action</td>\n",
       "      <td>0.00</td>\n",
       "      <td>0.00</td>\n",
       "      <td>0.02</td>\n",
       "      <td>0.00</td>\n",
       "      <td>NaN</td>\n",
       "      <td>NaN</td>\n",
       "      <td>NR</td>\n",
       "      <td>0.02</td>\n",
       "      <td>NaN</td>\n",
       "    </tr>\n",
       "    <tr>\n",
       "      <th>15762</th>\n",
       "      <td>Rabbids Invasion: The Interactive TV Show</td>\n",
       "      <td>PS4</td>\n",
       "      <td>2014.0</td>\n",
       "      <td>misc</td>\n",
       "      <td>0.00</td>\n",
       "      <td>0.01</td>\n",
       "      <td>0.00</td>\n",
       "      <td>0.00</td>\n",
       "      <td>NaN</td>\n",
       "      <td>NaN</td>\n",
       "      <td>NR</td>\n",
       "      <td>0.01</td>\n",
       "      <td>NaN</td>\n",
       "    </tr>\n",
       "    <tr>\n",
       "      <th>15943</th>\n",
       "      <td>Professional Farmer 2016</td>\n",
       "      <td>PS4</td>\n",
       "      <td>2015.0</td>\n",
       "      <td>action</td>\n",
       "      <td>0.00</td>\n",
       "      <td>0.01</td>\n",
       "      <td>0.00</td>\n",
       "      <td>0.00</td>\n",
       "      <td>NaN</td>\n",
       "      <td>NaN</td>\n",
       "      <td>NR</td>\n",
       "      <td>0.01</td>\n",
       "      <td>NaN</td>\n",
       "    </tr>\n",
       "    <tr>\n",
       "      <th>16158</th>\n",
       "      <td>Raven's Cry</td>\n",
       "      <td>PS4</td>\n",
       "      <td>2015.0</td>\n",
       "      <td>role-playing</td>\n",
       "      <td>0.00</td>\n",
       "      <td>0.01</td>\n",
       "      <td>0.00</td>\n",
       "      <td>0.00</td>\n",
       "      <td>NaN</td>\n",
       "      <td>NaN</td>\n",
       "      <td>NR</td>\n",
       "      <td>0.01</td>\n",
       "      <td>NaN</td>\n",
       "    </tr>\n",
       "    <tr>\n",
       "      <th>16398</th>\n",
       "      <td>Chaos;Child</td>\n",
       "      <td>PS4</td>\n",
       "      <td>2015.0</td>\n",
       "      <td>adventure</td>\n",
       "      <td>0.00</td>\n",
       "      <td>0.00</td>\n",
       "      <td>0.01</td>\n",
       "      <td>0.00</td>\n",
       "      <td>NaN</td>\n",
       "      <td>NaN</td>\n",
       "      <td>NR</td>\n",
       "      <td>0.01</td>\n",
       "      <td>NaN</td>\n",
       "    </tr>\n",
       "  </tbody>\n",
       "</table>\n",
       "<p>227 rows × 13 columns</p>\n",
       "</div>"
      ],
      "text/plain": [
       "                                            name platform  year_of_release  \\\n",
       "31                     Call of Duty: Black Ops 3      PS4           2015.0   \n",
       "42                            Grand Theft Auto V      PS4           2014.0   \n",
       "77                                       FIFA 16      PS4           2015.0   \n",
       "87                  Star Wars Battlefront (2015)      PS4           2015.0   \n",
       "92                Call of Duty: Advanced Warfare      PS4           2014.0   \n",
       "...                                          ...      ...              ...   \n",
       "15556      Natsuiro High School: Seishun Hakusho      PS4           2015.0   \n",
       "15762  Rabbids Invasion: The Interactive TV Show      PS4           2014.0   \n",
       "15943                   Professional Farmer 2016      PS4           2015.0   \n",
       "16158                                Raven's Cry      PS4           2015.0   \n",
       "16398                                Chaos;Child      PS4           2015.0   \n",
       "\n",
       "              genre  na_sales  eu_sales  jp_sales  other_sales  critic_score  \\\n",
       "31          shooter      6.03      5.86      0.36         2.38           NaN   \n",
       "42           action      3.96      6.31      0.38         1.97          97.0   \n",
       "77           sports      1.12      6.12      0.06         1.28          82.0   \n",
       "87          shooter      2.99      3.49      0.22         1.28           NaN   \n",
       "92          shooter      2.81      3.48      0.14         1.23          83.0   \n",
       "...             ...       ...       ...       ...          ...           ...   \n",
       "15556        action      0.00      0.00      0.02         0.00           NaN   \n",
       "15762          misc      0.00      0.01      0.00         0.00           NaN   \n",
       "15943        action      0.00      0.01      0.00         0.00           NaN   \n",
       "16158  role-playing      0.00      0.01      0.00         0.00           NaN   \n",
       "16398     adventure      0.00      0.00      0.01         0.00           NaN   \n",
       "\n",
       "       user_score rating  all_sales  total_score  \n",
       "31            NaN     NR      14.63          NaN  \n",
       "42            8.3      M      12.62         18.0  \n",
       "77            4.3      E       8.58         12.5  \n",
       "87            NaN     NR       7.98          NaN  \n",
       "92            5.7      M       7.66         14.0  \n",
       "...           ...    ...        ...          ...  \n",
       "15556         NaN     NR       0.02          NaN  \n",
       "15762         NaN     NR       0.01          NaN  \n",
       "15943         NaN     NR       0.01          NaN  \n",
       "16158         NaN     NR       0.01          NaN  \n",
       "16398         NaN     NR       0.01          NaN  \n",
       "\n",
       "[227 rows x 13 columns]"
      ]
     },
     "execution_count": 116,
     "metadata": {},
     "output_type": "execute_result"
    }
   ],
   "source": [
    "#separate the data for the PS4 platform into a separate dataframe\n",
    "#separate the PS4 games into a separate dataframe\n",
    "PS4 = data_2.query('platform==\"PS4\"')\n",
    "PS4"
   ]
  },
  {
   "cell_type": "code",
   "execution_count": 117,
   "metadata": {},
   "outputs": [
    {
     "data": {
      "text/plain": [
       "0.2357945337451421"
      ]
     },
     "execution_count": 117,
     "metadata": {},
     "output_type": "execute_result"
    },
    {
     "data": {
      "image/png": "[encoded data removed]",
      "text/plain": [
       "<Figure size 432x288 with 1 Axes>"
      ]
     },
     "metadata": {
      "needs_background": "light"
     },
     "output_type": "display_data"
    }
   ],
   "source": [
    "# joint ratings of critics and players\n",
    "factor_score = PS4.pivot_table(index = 'total_score', values = 'all_sales')\n",
    "factor_score.plot(style = 'o')\n",
    "data['all_sales'].corr(PS4['total_score'])\n"
   ]
  },
  {
   "cell_type": "markdown",
   "metadata": {},
   "source": [
    "After studying the correlation between the joint ratings of critics and players, it can be concluded that it is weak and direct."
   ]
  },
  {
   "cell_type": "markdown",
   "metadata": {},
   "source": [
    "#### Dependence of PS4 game sales on critics' ratings"
   ]
  },
  {
   "cell_type": "code",
   "execution_count": 118,
   "metadata": {},
   "outputs": [
    {
     "data": {
      "text/plain": [
       "0.4318482049982005"
      ]
     },
     "execution_count": 118,
     "metadata": {},
     "output_type": "execute_result"
    },
    {
     "data": {
      "image/png": "[encoded data removed]",
      "text/plain": [
       "<Figure size 432x288 with 1 Axes>"
      ]
     },
     "metadata": {
      "needs_background": "light"
     },
     "output_type": "display_data"
    }
   ],
   "source": [
    "#critic scores\n",
    "factor_critics = PS4.pivot_table(index = 'critic_score', values = 'all_sales')\n",
    "factor_critics.plot(style = 'o')\n",
    "data['all_sales'].corr(PS4['critic_score'])"
   ]
  },
  {
   "cell_type": "markdown",
   "metadata": {},
   "source": [
    "When examining the correlation between game sales and critic ratings, one can notice an average positive relationship between these values. It can be concluded that games that are warmly acclaimed by critics have shown better sales than games that have been highly acclaimed by the players."
   ]
  },
  {
   "cell_type": "markdown",
   "metadata": {},
   "source": [
    "#### Dependence of PS4 game sales on player ratings"
   ]
  },
  {
   "cell_type": "code",
   "execution_count": 119,
   "metadata": {},
   "outputs": [
    {
     "data": {
      "text/plain": [
       "0.024230832360622553"
      ]
     },
     "execution_count": 119,
     "metadata": {},
     "output_type": "execute_result"
    },
    {
     "data": {
      "image/png": "[encoded data removed]",
      "text/plain": [
       "<Figure size 432x288 with 1 Axes>"
      ]
     },
     "metadata": {
      "needs_background": "light"
     },
     "output_type": "display_data"
    }
   ],
   "source": [
    "#gamers score\n",
    "factor_users = PS4.pivot_table(index = 'user_score', values = 'all_sales')\n",
    "factor_users.plot(style = 'o')\n",
    "data['all_sales'].corr(PS4['user_score'])"
   ]
  },
  {
   "cell_type": "markdown",
   "metadata": {},
   "source": [
    "There is no correlation between player ratings and game sales.\n"
   ]
  },
  {
   "cell_type": "markdown",
   "metadata": {},
   "source": [
    "### Compare the dependence on ratings on PS4 with other platforms."
   ]
  },
  {
   "cell_type": "markdown",
   "metadata": {},
   "source": [
    "#### Зависимость продаж игр на XOne от совместных оценок"
   ]
  },
  {
   "cell_type": "code",
   "execution_count": 120,
   "metadata": {},
   "outputs": [
    {
     "data": {
      "text/plain": [
       "0.2355976881236628"
      ]
     },
     "execution_count": 120,
     "metadata": {},
     "output_type": "execute_result"
    },
    {
     "data": {
      "image/png": "[encoded data removed]",
      "text/plain": [
       "<Figure size 432x288 with 1 Axes>"
      ]
     },
     "metadata": {
      "needs_background": "light"
     },
     "output_type": "display_data"
    }
   ],
   "source": [
    "XOne = data_2.query('platform==\"XOne\"')\n",
    "XOne_score = XOne.pivot_table(index = 'total_score', values = 'all_sales')\n",
    "XOne_score.plot(style = 'o')\n",
    "data['all_sales'].corr(XOne['total_score'])"
   ]
  },
  {
   "cell_type": "markdown",
   "metadata": {},
   "source": [
    "Ислледование корреляции Пирсона выявило небольшую прямую зависимость между совместными оценками критиков и игроков, но она меньше, чем в случае PS4. \n"
   ]
  },
  {
   "cell_type": "markdown",
   "metadata": {},
   "source": [
    "#### Dependence of sales of 3DS games on joint ratings"
   ]
  },
  {
   "cell_type": "code",
   "execution_count": 121,
   "metadata": {},
   "outputs": [
    {
     "data": {
      "text/plain": [
       "0.2821063228207045"
      ]
     },
     "execution_count": 121,
     "metadata": {},
     "output_type": "execute_result"
    },
    {
     "data": {
      "image/png": "[encoded data removed]",
      "text/plain": [
       "<Figure size 432x288 with 1 Axes>"
      ]
     },
     "metadata": {
      "needs_background": "light"
     },
     "output_type": "display_data"
    }
   ],
   "source": [
    "threeDS = data_2.query('platform==\"3DS\"')\n",
    "threeDS_score = threeDS.pivot_table(index = 'total_score', values = 'all_sales')\n",
    "threeDS_score.plot(style = 'o')\n",
    "data['all_sales'].corr(threeDS['total_score'])"
   ]
  },
  {
   "cell_type": "markdown",
   "metadata": {},
   "source": [
    "We see a similar pattern when examining Pearson's correlation between player and critic ratings and 3DS game sales."
   ]
  },
  {
   "cell_type": "markdown",
   "metadata": {},
   "source": [
    "We can conclude that the correlation between sales of games on any platform from ratings is approximately the same (not too big), but still it exists and it is direct. At the same time, there is no correlation between sales and player ratings at all, but there is a correlation with critic ratings."
   ]
  },
  {
   "cell_type": "markdown",
   "metadata": {},
   "source": [
    "### General distribution of games by genre. We will find the most profitable genres and the most failed ones."
   ]
  },
  {
   "cell_type": "code",
   "execution_count": 122,
   "metadata": {},
   "outputs": [
    {
     "data": {
      "text/html": [
       "<div>\n",
       "<style scoped>\n",
       "    .dataframe tbody tr th:only-of-type {\n",
       "        vertical-align: middle;\n",
       "    }\n",
       "\n",
       "    .dataframe tbody tr th {\n",
       "        vertical-align: top;\n",
       "    }\n",
       "\n",
       "    .dataframe thead th {\n",
       "        text-align: right;\n",
       "    }\n",
       "</style>\n",
       "<table border=\"1\" class=\"dataframe\">\n",
       "  <thead>\n",
       "    <tr style=\"text-align: right;\">\n",
       "      <th></th>\n",
       "      <th>games</th>\n",
       "      <th>all_sales</th>\n",
       "    </tr>\n",
       "    <tr>\n",
       "      <th>genre</th>\n",
       "      <th></th>\n",
       "      <th></th>\n",
       "    </tr>\n",
       "  </thead>\n",
       "  <tbody>\n",
       "    <tr>\n",
       "      <th>action</th>\n",
       "      <td>811</td>\n",
       "      <td>407.16</td>\n",
       "    </tr>\n",
       "    <tr>\n",
       "      <th>role-playing</th>\n",
       "      <td>316</td>\n",
       "      <td>174.62</td>\n",
       "    </tr>\n",
       "    <tr>\n",
       "      <th>adventure</th>\n",
       "      <td>236</td>\n",
       "      <td>24.72</td>\n",
       "    </tr>\n",
       "    <tr>\n",
       "      <th>sports</th>\n",
       "      <td>204</td>\n",
       "      <td>156.58</td>\n",
       "    </tr>\n",
       "    <tr>\n",
       "      <th>shooter</th>\n",
       "      <td>185</td>\n",
       "      <td>266.42</td>\n",
       "    </tr>\n",
       "    <tr>\n",
       "      <th>misc</th>\n",
       "      <td>151</td>\n",
       "      <td>79.89</td>\n",
       "    </tr>\n",
       "    <tr>\n",
       "      <th>fighting</th>\n",
       "      <td>91</td>\n",
       "      <td>39.97</td>\n",
       "    </tr>\n",
       "    <tr>\n",
       "      <th>racing</th>\n",
       "      <td>88</td>\n",
       "      <td>50.46</td>\n",
       "    </tr>\n",
       "    <tr>\n",
       "      <th>platform</th>\n",
       "      <td>66</td>\n",
       "      <td>57.36</td>\n",
       "    </tr>\n",
       "    <tr>\n",
       "      <th>simulation</th>\n",
       "      <td>59</td>\n",
       "      <td>32.82</td>\n",
       "    </tr>\n",
       "    <tr>\n",
       "      <th>strategy</th>\n",
       "      <td>58</td>\n",
       "      <td>12.21</td>\n",
       "    </tr>\n",
       "    <tr>\n",
       "      <th>puzzle</th>\n",
       "      <td>21</td>\n",
       "      <td>4.69</td>\n",
       "    </tr>\n",
       "  </tbody>\n",
       "</table>\n",
       "</div>"
      ],
      "text/plain": [
       "              games  all_sales\n",
       "genre                         \n",
       "action          811     407.16\n",
       "role-playing    316     174.62\n",
       "adventure       236      24.72\n",
       "sports          204     156.58\n",
       "shooter         185     266.42\n",
       "misc            151      79.89\n",
       "fighting         91      39.97\n",
       "racing           88      50.46\n",
       "platform         66      57.36\n",
       "simulation       59      32.82\n",
       "strategy         58      12.21\n",
       "puzzle           21       4.69"
      ]
     },
     "execution_count": 122,
     "metadata": {},
     "output_type": "execute_result"
    }
   ],
   "source": [
    "genres = data_2.pivot_table(index='genre', values='all_sales', aggfunc=('count','sum'))\n",
    "genres.columns = ['games', 'all_sales']\n",
    "genres = genres.sort_values(by='games', ascending=False)\n",
    "genres"
   ]
  },
  {
   "cell_type": "code",
   "execution_count": 123,
   "metadata": {},
   "outputs": [
    {
     "data": {
      "text/plain": [
       "<AxesSubplot:xlabel='genre'>"
      ]
     },
     "execution_count": 123,
     "metadata": {},
     "output_type": "execute_result"
    },
    {
     "data": {
      "image/png": "[encoded data removed]",
      "text/plain": [
       "<Figure size 1080x576 with 1 Axes>"
      ]
     },
     "metadata": {
      "needs_background": "light"
     },
     "output_type": "display_data"
    }
   ],
   "source": [
    "genres.plot(kind='bar', figsize=(15,8))"
   ]
  },
  {
   "cell_type": "markdown",
   "metadata": {},
   "source": [
    "Most of the games produced are in the action genre, but at the same time, the total earnings of manufacturers from them are not as large as, for example, from games of the shooter genre, in which the ratio of money earned to the number of games is greater than 1. In all other genres, except shooter, the ratio earned money to the number of released games is less than 1. Rpg and sports genres are also very popular. In addition, you should pay attention to the platform genre, there are not many games in this genre, but they fully pay for their production.\n",
    "The most failed genres are adventure, where the ratio of proceeds to released games is very low, strategy and puzzle."
   ]
  },
  {
   "cell_type": "markdown",
   "metadata": {},
   "source": [
    "## Compile a user profile for each region and study the impact of the ESRB rating on sales by region."
   ]
  },
  {
   "cell_type": "markdown",
   "metadata": {},
   "source": [
    "### Describe the differences in shares for the most popular platforms (TOP-5) by region."
   ]
  },
  {
   "cell_type": "code",
   "execution_count": 124,
   "metadata": {
    "scrolled": false
   },
   "outputs": [
    {
     "data": {
      "text/html": [
       "<div>\n",
       "<style scoped>\n",
       "    .dataframe tbody tr th:only-of-type {\n",
       "        vertical-align: middle;\n",
       "    }\n",
       "\n",
       "    .dataframe tbody tr th {\n",
       "        vertical-align: top;\n",
       "    }\n",
       "\n",
       "    .dataframe thead th {\n",
       "        text-align: right;\n",
       "    }\n",
       "</style>\n",
       "<table border=\"1\" class=\"dataframe\">\n",
       "  <thead>\n",
       "    <tr style=\"text-align: right;\">\n",
       "      <th></th>\n",
       "      <th>all_sales</th>\n",
       "      <th>eu_sales</th>\n",
       "      <th>jp_sales</th>\n",
       "      <th>na_sales</th>\n",
       "      <th>other_sales</th>\n",
       "    </tr>\n",
       "    <tr>\n",
       "      <th>platform</th>\n",
       "      <th></th>\n",
       "      <th></th>\n",
       "      <th></th>\n",
       "      <th></th>\n",
       "      <th></th>\n",
       "    </tr>\n",
       "  </thead>\n",
       "  <tbody>\n",
       "    <tr>\n",
       "      <th>PS3</th>\n",
       "      <td>284.23</td>\n",
       "      <td>105.25</td>\n",
       "      <td>33.64</td>\n",
       "      <td>102.53</td>\n",
       "      <td>42.81</td>\n",
       "    </tr>\n",
       "    <tr>\n",
       "      <th>PS4</th>\n",
       "      <td>244.85</td>\n",
       "      <td>109.31</td>\n",
       "      <td>10.22</td>\n",
       "      <td>87.22</td>\n",
       "      <td>38.10</td>\n",
       "    </tr>\n",
       "    <tr>\n",
       "      <th>X360</th>\n",
       "      <td>233.78</td>\n",
       "      <td>73.46</td>\n",
       "      <td>1.56</td>\n",
       "      <td>138.60</td>\n",
       "      <td>20.16</td>\n",
       "    </tr>\n",
       "    <tr>\n",
       "      <th>3DS</th>\n",
       "      <td>177.61</td>\n",
       "      <td>39.33</td>\n",
       "      <td>79.66</td>\n",
       "      <td>50.52</td>\n",
       "      <td>8.10</td>\n",
       "    </tr>\n",
       "    <tr>\n",
       "      <th>XOne</th>\n",
       "      <td>132.95</td>\n",
       "      <td>41.93</td>\n",
       "      <td>0.33</td>\n",
       "      <td>78.68</td>\n",
       "      <td>12.01</td>\n",
       "    </tr>\n",
       "  </tbody>\n",
       "</table>\n",
       "</div>"
      ],
      "text/plain": [
       "          all_sales  eu_sales  jp_sales  na_sales  other_sales\n",
       "platform                                                      \n",
       "PS3          284.23    105.25     33.64    102.53        42.81\n",
       "PS4          244.85    109.31     10.22     87.22        38.10\n",
       "X360         233.78     73.46      1.56    138.60        20.16\n",
       "3DS          177.61     39.33     79.66     50.52         8.10\n",
       "XOne         132.95     41.93      0.33     78.68        12.01"
      ]
     },
     "execution_count": 124,
     "metadata": {},
     "output_type": "execute_result"
    }
   ],
   "source": [
    "#let's make a pivot table with sales by platform for all regions\n",
    "region_platform = data_2.pivot_table(index='platform', \n",
    "                            values=('na_sales','eu_sales', 'jp_sales','other_sales','all_sales'), aggfunc='sum')\n",
    "region_platform = region_platform.sort_values('all_sales', ascending = False).head()\n",
    "region_platform"
   ]
  },
  {
   "cell_type": "code",
   "execution_count": 125,
   "metadata": {
    "scrolled": false
   },
   "outputs": [
    {
     "data": {
      "text/plain": [
       "<AxesSubplot:ylabel='Rest of the World'>"
      ]
     },
     "execution_count": 125,
     "metadata": {},
     "output_type": "execute_result"
    },
    {
     "data": {
      "image/png": "[encoded data removed]",
      "text/plain": [
       "<Figure size 432x288 with 1 Axes>"
      ]
     },
     "metadata": {},
     "output_type": "display_data"
    },
    {
     "data": {
      "image/png": "[encoded data removed]",
      "text/plain": [
       "<Figure size 432x288 with 1 Axes>"
      ]
     },
     "metadata": {},
     "output_type": "display_data"
    },
    {
     "data": {
      "image/png": "[encoded data removed]",
      "text/plain": [
       "<Figure size 432x288 with 1 Axes>"
      ]
     },
     "metadata": {},
     "output_type": "display_data"
    },
    {
     "data": {
      "image/png": "[encoded data removed]",
      "text/plain": [
       "<Figure size 432x288 with 1 Axes>"
      ]
     },
     "metadata": {},
     "output_type": "display_data"
    }
   ],
   "source": [
    "# look at the sales chart by platform in Europe\n",
    "region_platform.plot(y = 'eu_sales', kind=\"pie\", label=\"Europe\")\n",
    "\n",
    "# look at the sales chart by platform in Japan\n",
    "region_platform.plot(y = 'jp_sales', kind=\"pie\", label=\"Japan\")\n",
    "\n",
    "# look at the sales chart by platform in America\n",
    "region_platform.plot(y = 'na_sales', kind=\"pie\", label=\"North America\")\n",
    "\n",
    "# look at the sales graph by platform in the rest of the world\n",
    "region_platform.plot(y = 'other_sales', kind=\"pie\", label=\"Rest of the World\")"
   ]
  },
  {
   "cell_type": "markdown",
   "metadata": {},
   "source": [
    "As could be seen from the pie charts:\n",
    "- in Europe, PS3 and PS4 are in the lead, since PS3 is an outgoing platform, it is better to bet on PS4 in the future (in fact, this is the same platform with the same games, the difference is only in the generation of consoles)\n",
    "- in Japan, 3DS leads by a very large margin\n",
    "- in North America, X360 leads, but PS3 and PS4 breathe down his back, so in this region it is better to rely on X360 (XOne in the future) and PS4\n",
    "- in the rest of the world, PS3 and PS4 are the undisputed leaders, the future belongs to PS4."
   ]
  },
  {
   "cell_type": "markdown",
   "metadata": {},
   "source": [
    "### Describe the differences in shares for the most popular genres (TOP-5) by region."
   ]
  },
  {
   "cell_type": "code",
   "execution_count": 126,
   "metadata": {},
   "outputs": [
    {
     "data": {
      "text/html": [
       "<div>\n",
       "<style scoped>\n",
       "    .dataframe tbody tr th:only-of-type {\n",
       "        vertical-align: middle;\n",
       "    }\n",
       "\n",
       "    .dataframe tbody tr th {\n",
       "        vertical-align: top;\n",
       "    }\n",
       "\n",
       "    .dataframe thead th {\n",
       "        text-align: right;\n",
       "    }\n",
       "</style>\n",
       "<table border=\"1\" class=\"dataframe\">\n",
       "  <thead>\n",
       "    <tr style=\"text-align: right;\">\n",
       "      <th></th>\n",
       "      <th>all_sales</th>\n",
       "      <th>eu_sales</th>\n",
       "      <th>jp_sales</th>\n",
       "      <th>na_sales</th>\n",
       "      <th>other_sales</th>\n",
       "    </tr>\n",
       "    <tr>\n",
       "      <th>genre</th>\n",
       "      <th></th>\n",
       "      <th></th>\n",
       "      <th></th>\n",
       "      <th></th>\n",
       "      <th></th>\n",
       "    </tr>\n",
       "  </thead>\n",
       "  <tbody>\n",
       "    <tr>\n",
       "      <th>action</th>\n",
       "      <td>407.16</td>\n",
       "      <td>146.94</td>\n",
       "      <td>45.27</td>\n",
       "      <td>167.18</td>\n",
       "      <td>47.77</td>\n",
       "    </tr>\n",
       "    <tr>\n",
       "      <th>shooter</th>\n",
       "      <td>266.42</td>\n",
       "      <td>97.51</td>\n",
       "      <td>8.16</td>\n",
       "      <td>128.51</td>\n",
       "      <td>32.24</td>\n",
       "    </tr>\n",
       "    <tr>\n",
       "      <th>role-playing</th>\n",
       "      <td>174.62</td>\n",
       "      <td>44.25</td>\n",
       "      <td>58.83</td>\n",
       "      <td>58.11</td>\n",
       "      <td>13.43</td>\n",
       "    </tr>\n",
       "    <tr>\n",
       "      <th>sports</th>\n",
       "      <td>156.58</td>\n",
       "      <td>56.76</td>\n",
       "      <td>6.85</td>\n",
       "      <td>73.64</td>\n",
       "      <td>19.33</td>\n",
       "    </tr>\n",
       "    <tr>\n",
       "      <th>misc</th>\n",
       "      <td>79.89</td>\n",
       "      <td>24.40</td>\n",
       "      <td>11.82</td>\n",
       "      <td>36.37</td>\n",
       "      <td>7.30</td>\n",
       "    </tr>\n",
       "  </tbody>\n",
       "</table>\n",
       "</div>"
      ],
      "text/plain": [
       "              all_sales  eu_sales  jp_sales  na_sales  other_sales\n",
       "genre                                                             \n",
       "action           407.16    146.94     45.27    167.18        47.77\n",
       "shooter          266.42     97.51      8.16    128.51        32.24\n",
       "role-playing     174.62     44.25     58.83     58.11        13.43\n",
       "sports           156.58     56.76      6.85     73.64        19.33\n",
       "misc              79.89     24.40     11.82     36.37         7.30"
      ]
     },
     "execution_count": 126,
     "metadata": {},
     "output_type": "execute_result"
    }
   ],
   "source": [
    "#a pivot table with sales by genre for all regions\n",
    "region_genre = data_2.pivot_table(index='genre', \n",
    "                                  values=('na_sales','eu_sales', 'jp_sales','other_sales','all_sales'), \n",
    "                                  aggfunc='sum')\n",
    "region_genre = region_genre.sort_values('all_sales', ascending = False).head()\n",
    "region_genre "
   ]
  },
  {
   "cell_type": "code",
   "execution_count": 127,
   "metadata": {},
   "outputs": [
    {
     "data": {
      "text/plain": [
       "<AxesSubplot:ylabel='Rest of the world'>"
      ]
     },
     "execution_count": 127,
     "metadata": {},
     "output_type": "execute_result"
    },
    {
     "data": {
      "image/png": "[encoded data removed]",
      "text/plain": [
       "<Figure size 432x288 with 1 Axes>"
      ]
     },
     "metadata": {},
     "output_type": "display_data"
    },
    {
     "data": {
      "image/png": "[encoded data removed]",
      "text/plain": [
       "<Figure size 432x288 with 1 Axes>"
      ]
     },
     "metadata": {},
     "output_type": "display_data"
    },
    {
     "data": {
      "image/png": "[encoded data removed]",
      "text/plain": [
       "<Figure size 432x288 with 1 Axes>"
      ]
     },
     "metadata": {},
     "output_type": "display_data"
    },
    {
     "data": {
      "image/png": "[encoded data removed]",
      "text/plain": [
       "<Figure size 432x288 with 1 Axes>"
      ]
     },
     "metadata": {},
     "output_type": "display_data"
    }
   ],
   "source": [
    "# look at the sales chart by region in Europe\n",
    "region_genre.plot(y = 'eu_sales', kind=\"pie\", label=\"Europe\")\n",
    "\n",
    "# look at the sales chart by region in Japan\n",
    "region_genre.plot(y = 'jp_sales', kind=\"pie\", label=\"Japan\")\n",
    "\n",
    "# look at the sales chart by region in the Americas\n",
    "region_genre.plot(y = 'na_sales', kind=\"pie\", label=\"North America\")\n",
    "\n",
    "# look at the sales chart by region in the Rest of the World\n",
    "region_genre.plot(y = 'other_sales', kind=\"pie\", label=\"Rest of the world\")"
   ]
  },
  {
   "cell_type": "markdown",
   "metadata": {},
   "source": [
    "From the pie charts, we can conclude that:\n",
    "- in Europe, the genre is action and shooter in second place\n",
    "- in Japan, RPG is leading, and action is catching up with it\n",
    "- in North America, action and shooter are leading, as in Europe\n",
    "- in the rest of the world, action and shooter, as well as in Europe and the USA, share 1st and 2nd places in the rating"
   ]
  },
  {
   "cell_type": "markdown",
   "metadata": {},
   "source": [
    "Typical player portraits:\n",
    "- in Europe they play action on PS4 and PS3\n",
    "- in America they play action on X360\n",
    "- in Japan they play RPG on 3DS\n",
    "- in the rest of the world they play action on PS3 and PS4"
   ]
  },
  {
   "cell_type": "markdown",
   "metadata": {},
   "source": [
    "### Consider the impact of the ESRB rating on regions."
   ]
  },
  {
   "cell_type": "code",
   "execution_count": 128,
   "metadata": {},
   "outputs": [
    {
     "data": {
      "text/html": [
       "<div>\n",
       "<style scoped>\n",
       "    .dataframe tbody tr th:only-of-type {\n",
       "        vertical-align: middle;\n",
       "    }\n",
       "\n",
       "    .dataframe tbody tr th {\n",
       "        vertical-align: top;\n",
       "    }\n",
       "\n",
       "    .dataframe thead th {\n",
       "        text-align: right;\n",
       "    }\n",
       "</style>\n",
       "<table border=\"1\" class=\"dataframe\">\n",
       "  <thead>\n",
       "    <tr style=\"text-align: right;\">\n",
       "      <th></th>\n",
       "      <th>all_sales</th>\n",
       "      <th>eu_sales</th>\n",
       "      <th>jp_sales</th>\n",
       "      <th>na_sales</th>\n",
       "      <th>other_sales</th>\n",
       "    </tr>\n",
       "    <tr>\n",
       "      <th>rating</th>\n",
       "      <th></th>\n",
       "      <th></th>\n",
       "      <th></th>\n",
       "      <th></th>\n",
       "      <th></th>\n",
       "    </tr>\n",
       "  </thead>\n",
       "  <tbody>\n",
       "    <tr>\n",
       "      <th>M</th>\n",
       "      <td>471.72</td>\n",
       "      <td>177.42</td>\n",
       "      <td>20.00</td>\n",
       "      <td>215.86</td>\n",
       "      <td>58.44</td>\n",
       "    </tr>\n",
       "    <tr>\n",
       "      <th>NR</th>\n",
       "      <td>297.97</td>\n",
       "      <td>83.84</td>\n",
       "      <td>94.52</td>\n",
       "      <td>94.74</td>\n",
       "      <td>24.87</td>\n",
       "    </tr>\n",
       "    <tr>\n",
       "      <th>E</th>\n",
       "      <td>257.50</td>\n",
       "      <td>97.43</td>\n",
       "      <td>27.02</td>\n",
       "      <td>105.07</td>\n",
       "      <td>27.98</td>\n",
       "    </tr>\n",
       "    <tr>\n",
       "      <th>E10+</th>\n",
       "      <td>141.42</td>\n",
       "      <td>49.20</td>\n",
       "      <td>7.61</td>\n",
       "      <td>69.85</td>\n",
       "      <td>14.76</td>\n",
       "    </tr>\n",
       "    <tr>\n",
       "      <th>T</th>\n",
       "      <td>138.29</td>\n",
       "      <td>43.17</td>\n",
       "      <td>23.31</td>\n",
       "      <td>56.99</td>\n",
       "      <td>14.82</td>\n",
       "    </tr>\n",
       "  </tbody>\n",
       "</table>\n",
       "</div>"
      ],
      "text/plain": [
       "        all_sales  eu_sales  jp_sales  na_sales  other_sales\n",
       "rating                                                      \n",
       "M          471.72    177.42     20.00    215.86        58.44\n",
       "NR         297.97     83.84     94.52     94.74        24.87\n",
       "E          257.50     97.43     27.02    105.07        27.98\n",
       "E10+       141.42     49.20      7.61     69.85        14.76\n",
       "T          138.29     43.17     23.31     56.99        14.82"
      ]
     },
     "execution_count": 128,
     "metadata": {},
     "output_type": "execute_result"
    }
   ],
   "source": [
    "#a pivot table with sales by platform for all regions\n",
    "rating = data_2.pivot_table(index='rating',\n",
    "                            values=('na_sales','eu_sales', 'jp_sales','other_sales','all_sales'), \n",
    "                            aggfunc='sum')\n",
    "rating = rating.sort_values('all_sales', ascending = False)\n",
    "rating"
   ]
  },
  {
   "cell_type": "markdown",
   "metadata": {},
   "source": [
    "Rating Descriptions:\n",
    "- \"E\" (\"Everyone\") - \"For everyone\": the content is quite suitable for the age category of 6 years and older\n",
    "- \"T\" (\"Teen\") - \"Teens\": the game is suitable for persons aged 13 and over\n",
    "- \"M\" (\"Mature\") - \"Mature\": game content is not suitable for teenagers under 17 years old.\n",
    "- \"E10+\" (\"Everyone 10 and older\") - \"For everyone 10 years and older\": no comment\n",
    "- \"NR\" (\"No Rating\") - \"No rating\": all games that are not rated by the ESRB are collected here."
   ]
  },
  {
   "cell_type": "code",
   "execution_count": 129,
   "metadata": {},
   "outputs": [
    {
     "data": {
      "text/plain": [
       "<AxesSubplot:ylabel='Rest of the world'>"
      ]
     },
     "execution_count": 129,
     "metadata": {},
     "output_type": "execute_result"
    },
    {
     "data": {
      "image/png": "[encoded data removed]",
      "text/plain": [
       "<Figure size 432x288 with 1 Axes>"
      ]
     },
     "metadata": {},
     "output_type": "display_data"
    },
    {
     "data": {
      "image/png": "[encoded data removed]",
      "text/plain": [
       "<Figure size 432x288 with 1 Axes>"
      ]
     },
     "metadata": {},
     "output_type": "display_data"
    },
    {
     "data": {
      "image/png": "[encoded data removed]",
      "text/plain": [
       "<Figure size 432x288 with 1 Axes>"
      ]
     },
     "metadata": {},
     "output_type": "display_data"
    },
    {
     "data": {
      "image/png": "[encoded data removed]",
      "text/plain": [
       "<Figure size 432x288 with 1 Axes>"
      ]
     },
     "metadata": {},
     "output_type": "display_data"
    }
   ],
   "source": [
    "# look at the chart of sales by rating in Europe\n",
    "rating.plot(y = 'eu_sales', kind=\"pie\", label=\"Europe\")\n",
    "\n",
    "# look at the chart of sales by rating in Japan\n",
    "rating.plot(y = 'jp_sales', kind=\"pie\", label=\"Japan\")\n",
    "\n",
    "# consider the chart of sales by rating in America\n",
    "rating.plot(y = 'na_sales', kind=\"pie\", label=\"North America\")\n",
    "\n",
    "# look at the chart of sales by rating in the rest of the world\n",
    "rating.plot(y = 'other_sales', kind=\"pie\", label=\"Rest of the world\")"
   ]
  },
  {
   "cell_type": "markdown",
   "metadata": {},
   "source": [
    "In all countries except Japan, M-rated games (adults only) are in the lead, usually with the most interesting content for the players, dismemberment, nudity and obscene language. Many players under the age of 17 play these games until their parents see or turn a blind eye. In Japan, this is not the case. Since the people of this country take the rules very seriously, no teenager will play a game to which he has not yet \"grown up\". Therefore, games with ratings E and T are in the lead there. That is, they are acceptable for teenagers. M games are also present there, as adults also like to play in the evenings."
   ]
  },
  {
   "cell_type": "markdown",
   "metadata": {},
   "source": [
    "## Test the hypotheses"
   ]
  },
  {
   "cell_type": "markdown",
   "metadata": {},
   "source": [
    "### The average user ratings of the Xbox One and PC platforms are the same"
   ]
  },
  {
   "cell_type": "markdown",
   "metadata": {},
   "source": [
    "The study will be carried out over the entire dataframe, excluding years, because the XOne has a certain life span that does not depend on us, and the PC is generally immortal. But still, nan will have to be removed from user_score, otherwise it will not be possible to calculate the p-value."
   ]
  },
  {
   "cell_type": "code",
   "execution_count": 130,
   "metadata": {},
   "outputs": [
    {
     "data": {
      "text/plain": [
       "array([8. , 8.3, 8.5, 6.6, 8.4, 8.6, 7.7, 6.3, 7.4, 8.2, 9. , 7.9, 8.1,\n",
       "       8.7, 7.1, 3.4, 5.3, 4.8, 3.2, 8.9, 6.4, 7.8, 7.5, 2.6, 7.2, 9.2,\n",
       "       7. , 7.3, 4.3, 7.6, 5.7, 5. , 9.1, 6.5, 8.8, 6.9, 9.4, 6.8, 6.1,\n",
       "       6.7, 5.4, 4. , 4.9, 4.5, 9.3, 6.2, 4.2, 6. , 3.7, 4.1, 5.8, 5.6,\n",
       "       5.5, 4.4, 4.6, 5.9, 3.9, 3.1, 2.9, 5.2, 3.3, 4.7, 5.1, 3.5, 2.5,\n",
       "       1.9, 3. , 2.7, 2.2, 2. , 9.5, 2.1, 3.6, 2.8, 1.8, 3.8, 1.6, 9.6,\n",
       "       2.4, 1.7, 1.1, 0.3, 1.5, 0.7, 1.2, 2.3, 0.5, 1.3, 0.2, 0.6, 1.4,\n",
       "       0.9, 1. , 9.7])"
      ]
     },
     "execution_count": 130,
     "metadata": {},
     "output_type": "execute_result"
    }
   ],
   "source": [
    "data['user_score'] = data['user_score'].fillna(0)\n",
    "data = data.drop(data[data['user_score'] == 0].index)\n",
    "data['user_score'].unique()"
   ]
  },
  {
   "cell_type": "markdown",
   "metadata": {},
   "source": [
    "- H0. The average user ratings of the XOne and PC platforms are the same.\n",
    "- H1. The average user ratings of the XOne and PC platforms are different."
   ]
  },
  {
   "cell_type": "code",
   "execution_count": 131,
   "metadata": {},
   "outputs": [
    {
     "name": "stdout",
     "output_type": "stream",
     "text": [
      "p_value is  4.5385802963771776e-06\n",
      "Reject the null hypothesis\n"
     ]
    }
   ],
   "source": [
    "XOne = data[data['platform'] == 'XOne']['user_score']\n",
    "PC = data[data['platform'] == 'PC']['user_score']\n",
    "\n",
    "results = st.ttest_ind(\n",
    "     XOne,\n",
    "     PC,\n",
    "     equal_var = False)\n",
    "\n",
    "alpha = 0.05\n",
    "print('p_value is ', results.pvalue)\n",
    "\n",
    "if results.pvalue < alpha:\n",
    "     print(\"Reject the null hypothesis\")\n",
    "else:\n",
    "     print(\"Failed to reject null hypothesis\")"
   ]
  },
  {
   "cell_type": "code",
   "execution_count": 132,
   "metadata": {
    "scrolled": true
   },
   "outputs": [
    {
     "name": "stdout",
     "output_type": "stream",
     "text": [
      "Mean rating for XOne: 6.8\n",
      "PC average rating: 7.5\n"
     ]
    }
   ],
   "source": [
    "# check yourself\n",
    "print('Mean rating for XOne:', XOne.median())\n",
    "print('PC average rating:', PC.median())"
   ]
  },
  {
   "cell_type": "markdown",
   "metadata": {},
   "source": [
    "The hypothesis that the ratings for XOne and PC are not the same turned out to be correct. On average, the rating of PC games is almost 1 point out of 10 higher."
   ]
  },
  {
   "cell_type": "markdown",
   "metadata": {},
   "source": [
    "### The average user ratings for the Action and Sports genres are different."
   ]
  },
  {
   "cell_type": "markdown",
   "metadata": {},
   "source": [
    "We will conduct the study throughout the entire dataframe, excluding years, because a genre is a genre, people either love it or not, regardless of the platform."
   ]
  },
  {
   "cell_type": "markdown",
   "metadata": {},
   "source": [
    "- H0. The average user ratings for the Action and Sports genres are different.\n",
    "- H1. The average user ratings for the Action and Sports genres are the same."
   ]
  },
  {
   "cell_type": "code",
   "execution_count": 135,
   "metadata": {},
   "outputs": [
    {
     "name": "stdout",
     "output_type": "stream",
     "text": [
      "p_value is  0.07370217419278534\n",
      "Failed to reject null hypothesis\n"
     ]
    }
   ],
   "source": [
    "action = data[data['genre'] == 'action']['user_score']\n",
    "sports = data[data['genre'] == 'sports']['user_score']\n",
    "\n",
    "results = st.ttest_ind(\n",
    "     action,\n",
    "     sports,\n",
    "     equal_var = False)\n",
    "\n",
    "alpha = 0.05\n",
    "print('p_value is ', results.pvalue)\n",
    "\n",
    "if results.pvalue < alpha:\n",
    "     print(\"Reject the null hypothesis\")\n",
    "else:\n",
    "     print(\"Failed to reject null hypothesis\")"
   ]
  },
  {
   "cell_type": "code",
   "execution_count": 136,
   "metadata": {},
   "outputs": [
    {
     "name": "stdout",
     "output_type": "stream",
     "text": [
      "Average rating of Action games: 7.4\n",
      "Sports: 7.4\n"
     ]
    }
   ],
   "source": [
    "# check yourself\n",
    "print('Average rating of Action games:', action.median())\n",
    "print('Sports:', sports.median())"
   ]
  },
  {
   "cell_type": "markdown",
   "metadata": {},
   "source": [
    "Our null hypothesis that the average ratings of Action and Sports games are different turned out to be incorrect. The ratings are exactly the same."
   ]
  },
  {
   "cell_type": "markdown",
   "metadata": {},
   "source": [
    "## General conclusion"
   ]
  },
  {
   "cell_type": "markdown",
   "metadata": {},
   "source": [
    "- 1. After 1995, the production of games began to grow sharply, and after 2009 it also fell sharply. Perhaps this is due to the fact that game developers have switched to the production of games for smartphones, it may be more profitable to make a game on a smartphone than on a gaming platform or on a PC.\n",
    "- 2. The average life of a gaming platform is about 10 years, so it is not profitable to make a game on those gaming platforms that are ending their lifespan.\n",
    "- 3. The top sellers in recent years are PS3, PS4 and XBox 360. But when producing a new game, it is better to focus on PS4 and Xbox One, because the games for them are still relevant at the end of 2016.\n",
    "- 4. There is a correlation between critics' ratings and sales of games, it is average and direct. There is no correlation between player ratings and game sales.\n",
    "- 5. Shooters, sports and rpg show the best sales figures, if we take into account sales worldwide.\n",
    "- 6. For sales in Europe, it is better to make an action or shooter on PS4 with an M rating.\n",
    "- 7. For sales in Japan, it's better to do RPG or action on 3DS, but the rating will have to be obtained from a Japanese rating agency.\n",
    "- 8. For sales in North America, it is better to make an action or shooter for Xbox One with an M rating.\n",
    "- 9. Players in third world countries as well as in America and Europe like games more cover, so the M rating will be just right. The platform is more likely PS4, but Xbox One is also suitable.\n",
    "- 10. If you want to do something universal, then it’s better not to do it, nothing good happens universal, anyway, someone will not like it. But still, the game for all regions should be made multiplatform. As for the rating, you can do M (you still get your own in Japan) or E, there are a lot of playing children and adults in the world who want to return to childhood or play with the whole family.\n",
    "- 11. As for the PC, they will still play on it, and sometimes the ratings on it are higher than on the console (for example, on the same XBox). Also, the game for PC will be relevant longer, since upgrading a computer to a new generation is easier than changing a console.\n",
    "- 12. Sports and action show the same ratings, so you can make a game in any of these genres."
   ]
  }
 ],
 "metadata": {
  "ExecuteTimeLog": [
   {
    "duration": 450,
    "start_time": "2022-08-08T07:36:21.314Z"
   },
   {
    "duration": 497,
    "start_time": "2022-08-08T07:36:44.384Z"
   },
   {
    "duration": 47,
    "start_time": "2022-08-08T07:36:47.982Z"
   },
   {
    "duration": 15,
    "start_time": "2022-08-08T07:37:34.604Z"
   },
   {
    "duration": 18,
    "start_time": "2022-08-08T07:39:05.911Z"
   },
   {
    "duration": 20,
    "start_time": "2022-08-08T07:39:21.166Z"
   },
   {
    "duration": 4,
    "start_time": "2022-08-08T07:43:38.936Z"
   },
   {
    "duration": 23,
    "start_time": "2022-08-08T07:43:49.305Z"
   },
   {
    "duration": 82,
    "start_time": "2022-08-08T07:51:30.069Z"
   },
   {
    "duration": 18,
    "start_time": "2022-08-08T07:51:50.324Z"
   },
   {
    "duration": 17,
    "start_time": "2022-08-08T07:53:45.940Z"
   },
   {
    "duration": 18,
    "start_time": "2022-08-08T07:53:56.207Z"
   },
   {
    "duration": 3,
    "start_time": "2022-08-08T08:04:33.621Z"
   },
   {
    "duration": 62,
    "start_time": "2022-08-08T08:04:33.626Z"
   },
   {
    "duration": 29,
    "start_time": "2022-08-08T08:04:33.690Z"
   },
   {
    "duration": 26,
    "start_time": "2022-08-08T08:04:33.721Z"
   },
   {
    "duration": 17,
    "start_time": "2022-08-08T08:04:33.750Z"
   },
   {
    "duration": 3,
    "start_time": "2022-08-08T08:05:55.910Z"
   },
   {
    "duration": 2,
    "start_time": "2022-08-08T08:07:03.089Z"
   },
   {
    "duration": 19,
    "start_time": "2022-08-08T08:07:55.128Z"
   },
   {
    "duration": 87,
    "start_time": "2022-08-08T08:08:54.584Z"
   },
   {
    "duration": 15,
    "start_time": "2022-08-08T08:09:02.748Z"
   },
   {
    "duration": 55,
    "start_time": "2022-08-08T08:10:00.775Z"
   },
   {
    "duration": 13,
    "start_time": "2022-08-08T08:10:34.767Z"
   },
   {
    "duration": 19,
    "start_time": "2022-08-08T08:14:05.720Z"
   },
   {
    "duration": 6,
    "start_time": "2022-08-08T08:14:15.614Z"
   },
   {
    "duration": 7,
    "start_time": "2022-08-08T08:14:46.545Z"
   },
   {
    "duration": 6,
    "start_time": "2022-08-08T08:14:52.484Z"
   },
   {
    "duration": 15,
    "start_time": "2022-08-08T08:14:55.430Z"
   },
   {
    "duration": 18,
    "start_time": "2022-08-08T08:15:21.204Z"
   },
   {
    "duration": 15,
    "start_time": "2022-08-08T08:15:59.031Z"
   },
   {
    "duration": 12,
    "start_time": "2022-08-08T08:16:31.226Z"
   },
   {
    "duration": 6,
    "start_time": "2022-08-08T08:16:37.021Z"
   },
   {
    "duration": 8,
    "start_time": "2022-08-08T08:18:27.215Z"
   },
   {
    "duration": 7,
    "start_time": "2022-08-08T08:21:04.175Z"
   },
   {
    "duration": 7,
    "start_time": "2022-08-08T08:21:13.559Z"
   },
   {
    "duration": 12,
    "start_time": "2022-08-08T08:21:29.887Z"
   },
   {
    "duration": 7,
    "start_time": "2022-08-08T08:21:30.755Z"
   },
   {
    "duration": 9,
    "start_time": "2022-08-08T08:26:10.923Z"
   },
   {
    "duration": 9,
    "start_time": "2022-08-08T08:26:20.570Z"
   },
   {
    "duration": 27,
    "start_time": "2022-08-08T08:26:40.593Z"
   },
   {
    "duration": 10,
    "start_time": "2022-08-08T08:27:09.336Z"
   },
   {
    "duration": 8,
    "start_time": "2022-08-08T08:27:31.458Z"
   },
   {
    "duration": 12,
    "start_time": "2022-08-08T08:27:40.002Z"
   },
   {
    "duration": 5,
    "start_time": "2022-08-08T08:28:11.165Z"
   },
   {
    "duration": 8,
    "start_time": "2022-08-08T08:28:22.797Z"
   },
   {
    "duration": 21,
    "start_time": "2022-08-08T08:29:12.582Z"
   },
   {
    "duration": 0,
    "start_time": "2022-08-08T08:29:12.605Z"
   },
   {
    "duration": 434,
    "start_time": "2022-08-08T08:29:28.416Z"
   },
   {
    "duration": 67,
    "start_time": "2022-08-08T08:29:28.852Z"
   },
   {
    "duration": 26,
    "start_time": "2022-08-08T08:29:28.921Z"
   },
   {
    "duration": 17,
    "start_time": "2022-08-08T08:29:28.949Z"
   },
   {
    "duration": 37,
    "start_time": "2022-08-08T08:29:28.969Z"
   },
   {
    "duration": 28,
    "start_time": "2022-08-08T08:29:29.008Z"
   },
   {
    "duration": 5,
    "start_time": "2022-08-08T08:29:29.038Z"
   },
   {
    "duration": 104,
    "start_time": "2022-08-08T08:29:29.045Z"
   },
   {
    "duration": 0,
    "start_time": "2022-08-08T08:29:29.151Z"
   },
   {
    "duration": 15,
    "start_time": "2022-08-08T08:29:52.180Z"
   },
   {
    "duration": 8,
    "start_time": "2022-08-08T08:30:26.588Z"
   },
   {
    "duration": 10,
    "start_time": "2022-08-08T08:30:31.829Z"
   },
   {
    "duration": 4,
    "start_time": "2022-08-08T08:30:46.955Z"
   },
   {
    "duration": 6,
    "start_time": "2022-08-08T08:30:52.135Z"
   },
   {
    "duration": 8,
    "start_time": "2022-08-08T08:32:06.024Z"
   },
   {
    "duration": 15,
    "start_time": "2022-08-08T08:32:12.341Z"
   },
   {
    "duration": 12,
    "start_time": "2022-08-08T08:33:17.666Z"
   },
   {
    "duration": 13,
    "start_time": "2022-08-08T09:04:12.448Z"
   },
   {
    "duration": 15,
    "start_time": "2022-08-08T09:04:29.061Z"
   },
   {
    "duration": 12,
    "start_time": "2022-08-08T09:15:44.823Z"
   },
   {
    "duration": 21,
    "start_time": "2022-08-08T09:15:54.616Z"
   },
   {
    "duration": 19,
    "start_time": "2022-08-08T09:16:40.046Z"
   },
   {
    "duration": 7,
    "start_time": "2022-08-08T09:17:23.563Z"
   },
   {
    "duration": 18,
    "start_time": "2022-08-08T09:19:43.233Z"
   },
   {
    "duration": 3,
    "start_time": "2022-08-08T09:20:06.182Z"
   },
   {
    "duration": 120,
    "start_time": "2022-08-08T09:20:06.187Z"
   },
   {
    "duration": 23,
    "start_time": "2022-08-08T09:20:06.310Z"
   },
   {
    "duration": 18,
    "start_time": "2022-08-08T09:20:06.335Z"
   },
   {
    "duration": 36,
    "start_time": "2022-08-08T09:20:06.355Z"
   },
   {
    "duration": 28,
    "start_time": "2022-08-08T09:20:06.394Z"
   },
   {
    "duration": 5,
    "start_time": "2022-08-08T09:20:06.424Z"
   },
   {
    "duration": 12,
    "start_time": "2022-08-08T09:20:06.431Z"
   },
   {
    "duration": 14,
    "start_time": "2022-08-08T09:20:06.445Z"
   },
   {
    "duration": 37,
    "start_time": "2022-08-08T09:20:06.462Z"
   },
   {
    "duration": 3,
    "start_time": "2022-08-08T09:41:57.730Z"
   },
   {
    "duration": 9,
    "start_time": "2022-08-08T09:42:10.407Z"
   },
   {
    "duration": 15,
    "start_time": "2022-08-08T09:42:17.545Z"
   },
   {
    "duration": 11,
    "start_time": "2022-08-08T09:42:57.008Z"
   },
   {
    "duration": 441,
    "start_time": "2022-08-08T09:44:22.654Z"
   },
   {
    "duration": 60,
    "start_time": "2022-08-08T09:44:23.106Z"
   },
   {
    "duration": 39,
    "start_time": "2022-08-08T09:44:23.168Z"
   },
   {
    "duration": 24,
    "start_time": "2022-08-08T09:44:23.210Z"
   },
   {
    "duration": 25,
    "start_time": "2022-08-08T09:44:23.237Z"
   },
   {
    "duration": 42,
    "start_time": "2022-08-08T09:44:23.264Z"
   },
   {
    "duration": 12,
    "start_time": "2022-08-08T09:44:23.308Z"
   },
   {
    "duration": 6,
    "start_time": "2022-08-08T09:44:23.322Z"
   },
   {
    "duration": 19,
    "start_time": "2022-08-08T09:44:23.330Z"
   },
   {
    "duration": 12,
    "start_time": "2022-08-08T09:44:23.351Z"
   },
   {
    "duration": 34,
    "start_time": "2022-08-08T09:44:23.365Z"
   },
   {
    "duration": 75,
    "start_time": "2022-08-08T09:45:36.370Z"
   },
   {
    "duration": 7,
    "start_time": "2022-08-08T09:45:41.968Z"
   },
   {
    "duration": 6,
    "start_time": "2022-08-08T09:47:53.209Z"
   },
   {
    "duration": 11,
    "start_time": "2022-08-08T09:50:21.504Z"
   },
   {
    "duration": 8,
    "start_time": "2022-08-08T09:50:28.844Z"
   },
   {
    "duration": 9,
    "start_time": "2022-08-08T09:52:38.768Z"
   },
   {
    "duration": 9,
    "start_time": "2022-08-08T09:52:44.377Z"
   },
   {
    "duration": 13,
    "start_time": "2022-08-08T10:02:38.714Z"
   },
   {
    "duration": 78,
    "start_time": "2022-08-08T10:03:10.317Z"
   },
   {
    "duration": 9,
    "start_time": "2022-08-08T10:03:21.247Z"
   },
   {
    "duration": 19,
    "start_time": "2022-08-08T10:12:09.027Z"
   },
   {
    "duration": 16237,
    "start_time": "2022-08-08T10:14:14.933Z"
   },
   {
    "duration": 8,
    "start_time": "2022-08-08T10:14:56.128Z"
   },
   {
    "duration": 9,
    "start_time": "2022-08-08T10:15:04.951Z"
   },
   {
    "duration": 445,
    "start_time": "2022-08-08T10:16:09.134Z"
   },
   {
    "duration": 83,
    "start_time": "2022-08-08T10:16:09.581Z"
   },
   {
    "duration": 49,
    "start_time": "2022-08-08T10:16:09.665Z"
   },
   {
    "duration": 20,
    "start_time": "2022-08-08T10:16:09.720Z"
   },
   {
    "duration": 24,
    "start_time": "2022-08-08T10:16:09.743Z"
   },
   {
    "duration": 21,
    "start_time": "2022-08-08T10:16:09.769Z"
   },
   {
    "duration": 29,
    "start_time": "2022-08-08T10:16:09.791Z"
   },
   {
    "duration": 6,
    "start_time": "2022-08-08T10:16:09.823Z"
   },
   {
    "duration": 13,
    "start_time": "2022-08-08T10:16:09.831Z"
   },
   {
    "duration": 13,
    "start_time": "2022-08-08T10:16:09.845Z"
   },
   {
    "duration": 6,
    "start_time": "2022-08-08T10:16:09.860Z"
   },
   {
    "duration": 34,
    "start_time": "2022-08-08T10:16:09.894Z"
   },
   {
    "duration": 7,
    "start_time": "2022-08-08T10:16:09.930Z"
   },
   {
    "duration": 9,
    "start_time": "2022-08-08T10:16:09.940Z"
   },
   {
    "duration": 16113,
    "start_time": "2022-08-08T10:16:09.951Z"
   },
   {
    "duration": 5,
    "start_time": "2022-08-08T10:16:26.066Z"
   },
   {
    "duration": 6,
    "start_time": "2022-08-08T10:16:41.916Z"
   },
   {
    "duration": 20,
    "start_time": "2022-08-08T10:16:53.381Z"
   },
   {
    "duration": 18,
    "start_time": "2022-08-08T10:19:36.216Z"
   },
   {
    "duration": 2,
    "start_time": "2022-08-08T10:23:56.140Z"
   },
   {
    "duration": 92,
    "start_time": "2022-08-08T10:23:56.145Z"
   },
   {
    "duration": 18,
    "start_time": "2022-08-08T10:23:56.239Z"
   },
   {
    "duration": 18,
    "start_time": "2022-08-08T10:23:56.259Z"
   },
   {
    "duration": 33,
    "start_time": "2022-08-08T10:23:56.279Z"
   },
   {
    "duration": 31,
    "start_time": "2022-08-08T10:23:56.314Z"
   },
   {
    "duration": 10,
    "start_time": "2022-08-08T10:23:56.347Z"
   },
   {
    "duration": 8,
    "start_time": "2022-08-08T10:23:56.359Z"
   },
   {
    "duration": 42,
    "start_time": "2022-08-08T10:23:56.368Z"
   },
   {
    "duration": 16,
    "start_time": "2022-08-08T10:23:56.413Z"
   },
   {
    "duration": 8,
    "start_time": "2022-08-08T10:23:56.431Z"
   },
   {
    "duration": 7,
    "start_time": "2022-08-08T10:23:56.440Z"
   },
   {
    "duration": 9,
    "start_time": "2022-08-08T10:23:56.449Z"
   },
   {
    "duration": 13,
    "start_time": "2022-08-08T10:23:56.461Z"
   },
   {
    "duration": 15959,
    "start_time": "2022-08-08T10:23:56.476Z"
   },
   {
    "duration": 7,
    "start_time": "2022-08-08T10:24:12.438Z"
   },
   {
    "duration": 32,
    "start_time": "2022-08-08T10:24:12.448Z"
   },
   {
    "duration": 38,
    "start_time": "2022-08-08T10:24:12.482Z"
   },
   {
    "duration": 12,
    "start_time": "2022-08-08T10:29:36.960Z"
   },
   {
    "duration": 17,
    "start_time": "2022-08-08T10:29:43.264Z"
   },
   {
    "duration": 852,
    "start_time": "2022-08-08T10:30:36.479Z"
   },
   {
    "duration": 183,
    "start_time": "2022-08-08T10:32:03.421Z"
   },
   {
    "duration": 112,
    "start_time": "2022-08-08T10:32:20.570Z"
   },
   {
    "duration": 206,
    "start_time": "2022-08-08T10:33:32.920Z"
   },
   {
    "duration": 10,
    "start_time": "2022-08-08T10:33:47.128Z"
   },
   {
    "duration": 145,
    "start_time": "2022-08-08T10:33:55.159Z"
   },
   {
    "duration": 297,
    "start_time": "2022-08-08T10:34:30.965Z"
   },
   {
    "duration": 627,
    "start_time": "2022-08-08T10:36:38.656Z"
   },
   {
    "duration": 181,
    "start_time": "2022-08-08T10:37:04.019Z"
   },
   {
    "duration": 208,
    "start_time": "2022-08-08T10:38:29.645Z"
   },
   {
    "duration": 211,
    "start_time": "2022-08-08T10:40:01.417Z"
   },
   {
    "duration": 3,
    "start_time": "2022-08-08T10:40:48.852Z"
   },
   {
    "duration": 327,
    "start_time": "2022-08-08T10:41:37.957Z"
   },
   {
    "duration": 412,
    "start_time": "2022-08-08T10:42:07.594Z"
   },
   {
    "duration": 159,
    "start_time": "2022-08-08T10:42:23.334Z"
   },
   {
    "duration": 246,
    "start_time": "2022-08-08T10:43:38.569Z"
   },
   {
    "duration": 222,
    "start_time": "2022-08-08T10:43:45.654Z"
   },
   {
    "duration": 136,
    "start_time": "2022-08-08T10:43:50.011Z"
   },
   {
    "duration": 129,
    "start_time": "2022-08-08T10:43:54.116Z"
   },
   {
    "duration": 282,
    "start_time": "2022-08-08T10:43:59.945Z"
   },
   {
    "duration": 148,
    "start_time": "2022-08-08T10:44:03.855Z"
   },
   {
    "duration": 5,
    "start_time": "2022-08-08T10:44:09.820Z"
   },
   {
    "duration": 78,
    "start_time": "2022-08-08T10:44:09.829Z"
   },
   {
    "duration": 32,
    "start_time": "2022-08-08T10:44:09.910Z"
   },
   {
    "duration": 20,
    "start_time": "2022-08-08T10:44:09.944Z"
   },
   {
    "duration": 32,
    "start_time": "2022-08-08T10:44:09.975Z"
   },
   {
    "duration": 61,
    "start_time": "2022-08-08T10:44:10.009Z"
   },
   {
    "duration": 17,
    "start_time": "2022-08-08T10:44:10.072Z"
   },
   {
    "duration": 43,
    "start_time": "2022-08-08T10:44:10.091Z"
   },
   {
    "duration": 13,
    "start_time": "2022-08-08T10:44:10.135Z"
   },
   {
    "duration": 14,
    "start_time": "2022-08-08T10:44:10.150Z"
   },
   {
    "duration": 12,
    "start_time": "2022-08-08T10:44:10.166Z"
   },
   {
    "duration": 8,
    "start_time": "2022-08-08T10:44:10.180Z"
   },
   {
    "duration": 44,
    "start_time": "2022-08-08T10:44:10.191Z"
   },
   {
    "duration": 15,
    "start_time": "2022-08-08T10:44:10.240Z"
   },
   {
    "duration": 17188,
    "start_time": "2022-08-08T10:44:10.257Z"
   },
   {
    "duration": 6,
    "start_time": "2022-08-08T10:44:27.447Z"
   },
   {
    "duration": 23,
    "start_time": "2022-08-08T10:44:27.454Z"
   },
   {
    "duration": 24,
    "start_time": "2022-08-08T10:44:27.491Z"
   },
   {
    "duration": 37,
    "start_time": "2022-08-08T10:44:27.518Z"
   },
   {
    "duration": 98,
    "start_time": "2022-08-08T10:44:27.557Z"
   },
   {
    "duration": 276,
    "start_time": "2022-08-08T10:44:39.890Z"
   },
   {
    "duration": 254,
    "start_time": "2022-08-08T10:44:46.180Z"
   },
   {
    "duration": 27,
    "start_time": "2022-08-08T10:50:08.011Z"
   },
   {
    "duration": 18,
    "start_time": "2022-08-08T10:50:32.958Z"
   },
   {
    "duration": 164,
    "start_time": "2022-08-08T10:51:25.694Z"
   },
   {
    "duration": 153,
    "start_time": "2022-08-08T10:52:21.807Z"
   },
   {
    "duration": 115,
    "start_time": "2022-08-08T10:52:30.223Z"
   },
   {
    "duration": 170,
    "start_time": "2022-08-08T10:52:40.046Z"
   },
   {
    "duration": 12,
    "start_time": "2022-08-08T10:52:47.830Z"
   },
   {
    "duration": 18,
    "start_time": "2022-08-08T11:44:16.818Z"
   },
   {
    "duration": 153,
    "start_time": "2022-08-08T11:45:08.215Z"
   },
   {
    "duration": 212,
    "start_time": "2022-08-08T11:46:07.421Z"
   },
   {
    "duration": 6,
    "start_time": "2022-08-08T11:51:45.908Z"
   },
   {
    "duration": 10,
    "start_time": "2022-08-08T11:52:36.720Z"
   },
   {
    "duration": 8,
    "start_time": "2022-08-08T11:52:55.710Z"
   },
   {
    "duration": 18,
    "start_time": "2022-08-08T11:53:08.690Z"
   },
   {
    "duration": 22,
    "start_time": "2022-08-08T11:53:20.131Z"
   },
   {
    "duration": 11,
    "start_time": "2022-08-08T11:53:28.082Z"
   },
   {
    "duration": 11,
    "start_time": "2022-08-08T11:54:35.067Z"
   },
   {
    "duration": 16,
    "start_time": "2022-08-08T12:04:27.781Z"
   },
   {
    "duration": 751,
    "start_time": "2022-08-08T12:04:53.164Z"
   },
   {
    "duration": 14,
    "start_time": "2022-08-08T12:05:31.392Z"
   },
   {
    "duration": 726,
    "start_time": "2022-08-08T12:05:32.837Z"
   },
   {
    "duration": 3,
    "start_time": "2022-08-08T12:05:41.281Z"
   },
   {
    "duration": 60,
    "start_time": "2022-08-08T12:05:41.286Z"
   },
   {
    "duration": 20,
    "start_time": "2022-08-08T12:05:41.348Z"
   },
   {
    "duration": 19,
    "start_time": "2022-08-08T12:05:41.370Z"
   },
   {
    "duration": 44,
    "start_time": "2022-08-08T12:05:41.392Z"
   },
   {
    "duration": 21,
    "start_time": "2022-08-08T12:05:41.439Z"
   },
   {
    "duration": 11,
    "start_time": "2022-08-08T12:05:41.462Z"
   },
   {
    "duration": 5,
    "start_time": "2022-08-08T12:05:41.475Z"
   },
   {
    "duration": 10,
    "start_time": "2022-08-08T12:05:41.505Z"
   },
   {
    "duration": 14,
    "start_time": "2022-08-08T12:05:41.516Z"
   },
   {
    "duration": 6,
    "start_time": "2022-08-08T12:05:41.531Z"
   },
   {
    "duration": 7,
    "start_time": "2022-08-08T12:05:41.539Z"
   },
   {
    "duration": 7,
    "start_time": "2022-08-08T12:05:41.548Z"
   },
   {
    "duration": 8,
    "start_time": "2022-08-08T12:05:41.558Z"
   },
   {
    "duration": 14809,
    "start_time": "2022-08-08T12:05:41.599Z"
   },
   {
    "duration": 6,
    "start_time": "2022-08-08T12:05:56.410Z"
   },
   {
    "duration": 24,
    "start_time": "2022-08-08T12:05:56.418Z"
   },
   {
    "duration": 17,
    "start_time": "2022-08-08T12:05:56.444Z"
   },
   {
    "duration": 21,
    "start_time": "2022-08-08T12:05:56.463Z"
   },
   {
    "duration": 232,
    "start_time": "2022-08-08T12:05:56.486Z"
   },
   {
    "duration": 18,
    "start_time": "2022-08-08T12:05:56.719Z"
   },
   {
    "duration": 9,
    "start_time": "2022-08-08T12:05:56.739Z"
   },
   {
    "duration": 877,
    "start_time": "2022-08-08T12:05:56.750Z"
   },
   {
    "duration": 3917,
    "start_time": "2022-08-08T12:06:44.027Z"
   },
   {
    "duration": 6,
    "start_time": "2022-08-08T12:22:18.315Z"
   },
   {
    "duration": 24,
    "start_time": "2022-08-08T12:22:24.896Z"
   },
   {
    "duration": 24,
    "start_time": "2022-08-08T12:22:48.447Z"
   },
   {
    "duration": 36,
    "start_time": "2022-08-08T12:23:14.633Z"
   },
   {
    "duration": 10,
    "start_time": "2022-08-08T12:26:33.550Z"
   },
   {
    "duration": 17,
    "start_time": "2022-08-08T12:27:14.684Z"
   },
   {
    "duration": 17,
    "start_time": "2022-08-08T12:27:39.161Z"
   },
   {
    "duration": 33,
    "start_time": "2022-08-08T12:38:16.097Z"
   },
   {
    "duration": 1993,
    "start_time": "2022-08-08T12:38:41.040Z"
   },
   {
    "duration": 1230,
    "start_time": "2022-08-08T12:48:03.512Z"
   },
   {
    "duration": 1335,
    "start_time": "2022-08-08T12:48:21.284Z"
   },
   {
    "duration": 1209,
    "start_time": "2022-08-08T12:48:35.425Z"
   },
   {
    "duration": 67,
    "start_time": "2022-08-08T12:48:36.636Z"
   },
   {
    "duration": 26,
    "start_time": "2022-08-08T12:48:36.705Z"
   },
   {
    "duration": 21,
    "start_time": "2022-08-08T12:48:36.734Z"
   },
   {
    "duration": 17,
    "start_time": "2022-08-08T12:48:36.756Z"
   },
   {
    "duration": 37,
    "start_time": "2022-08-08T12:48:36.775Z"
   },
   {
    "duration": 14,
    "start_time": "2022-08-08T12:48:36.814Z"
   },
   {
    "duration": 28,
    "start_time": "2022-08-08T12:48:36.831Z"
   },
   {
    "duration": 15,
    "start_time": "2022-08-08T12:48:36.860Z"
   },
   {
    "duration": 23,
    "start_time": "2022-08-08T12:48:36.878Z"
   },
   {
    "duration": 13,
    "start_time": "2022-08-08T12:48:36.903Z"
   },
   {
    "duration": 17,
    "start_time": "2022-08-08T12:48:36.918Z"
   },
   {
    "duration": 12,
    "start_time": "2022-08-08T12:48:36.937Z"
   },
   {
    "duration": 10,
    "start_time": "2022-08-08T12:48:36.951Z"
   },
   {
    "duration": 14753,
    "start_time": "2022-08-08T12:48:36.963Z"
   },
   {
    "duration": 5,
    "start_time": "2022-08-08T12:48:51.718Z"
   },
   {
    "duration": 25,
    "start_time": "2022-08-08T12:48:51.725Z"
   },
   {
    "duration": 19,
    "start_time": "2022-08-08T12:48:51.751Z"
   },
   {
    "duration": 37,
    "start_time": "2022-08-08T12:48:51.772Z"
   },
   {
    "duration": 302,
    "start_time": "2022-08-08T12:48:51.815Z"
   },
   {
    "duration": 22,
    "start_time": "2022-08-08T12:48:52.119Z"
   },
   {
    "duration": 12,
    "start_time": "2022-08-08T12:48:52.143Z"
   },
   {
    "duration": 3990,
    "start_time": "2022-08-08T12:48:52.157Z"
   },
   {
    "duration": 25,
    "start_time": "2022-08-08T12:48:56.150Z"
   },
   {
    "duration": 19,
    "start_time": "2022-08-08T12:48:56.178Z"
   },
   {
    "duration": 1828,
    "start_time": "2022-08-08T12:48:56.199Z"
   },
   {
    "duration": 1689,
    "start_time": "2022-08-08T12:48:58.030Z"
   },
   {
    "duration": 4,
    "start_time": "2022-08-08T12:49:33.212Z"
   },
   {
    "duration": 201,
    "start_time": "2022-08-08T12:50:02.510Z"
   },
   {
    "duration": 184,
    "start_time": "2022-08-08T12:53:56.446Z"
   },
   {
    "duration": 226,
    "start_time": "2022-08-08T12:54:06.852Z"
   },
   {
    "duration": 239,
    "start_time": "2022-08-08T12:58:52.055Z"
   },
   {
    "duration": 360,
    "start_time": "2022-08-08T12:59:01.732Z"
   },
   {
    "duration": 200,
    "start_time": "2022-08-08T12:59:11.403Z"
   },
   {
    "duration": 199,
    "start_time": "2022-08-08T12:59:24.187Z"
   },
   {
    "duration": 242,
    "start_time": "2022-08-08T12:59:30.978Z"
   },
   {
    "duration": 10,
    "start_time": "2022-08-08T13:06:54.566Z"
   },
   {
    "duration": 5,
    "start_time": "2022-08-08T13:07:11.685Z"
   },
   {
    "duration": 3,
    "start_time": "2022-08-08T13:07:27.682Z"
   },
   {
    "duration": 63,
    "start_time": "2022-08-08T13:07:27.687Z"
   },
   {
    "duration": 18,
    "start_time": "2022-08-08T13:07:27.752Z"
   },
   {
    "duration": 21,
    "start_time": "2022-08-08T13:07:27.772Z"
   },
   {
    "duration": 17,
    "start_time": "2022-08-08T13:07:27.796Z"
   },
   {
    "duration": 18,
    "start_time": "2022-08-08T13:07:27.815Z"
   },
   {
    "duration": 10,
    "start_time": "2022-08-08T13:07:27.835Z"
   },
   {
    "duration": 7,
    "start_time": "2022-08-08T13:07:27.846Z"
   },
   {
    "duration": 13,
    "start_time": "2022-08-08T13:07:27.854Z"
   },
   {
    "duration": 13,
    "start_time": "2022-08-08T13:07:27.892Z"
   },
   {
    "duration": 9,
    "start_time": "2022-08-08T13:07:27.906Z"
   },
   {
    "duration": 11,
    "start_time": "2022-08-08T13:07:27.916Z"
   },
   {
    "duration": 9,
    "start_time": "2022-08-08T13:07:27.928Z"
   },
   {
    "duration": 10,
    "start_time": "2022-08-08T13:07:27.940Z"
   },
   {
    "duration": 13849,
    "start_time": "2022-08-08T13:07:27.951Z"
   },
   {
    "duration": 7,
    "start_time": "2022-08-08T13:07:41.802Z"
   },
   {
    "duration": 24,
    "start_time": "2022-08-08T13:07:41.811Z"
   },
   {
    "duration": 25,
    "start_time": "2022-08-08T13:07:41.838Z"
   },
   {
    "duration": 41,
    "start_time": "2022-08-08T13:07:41.865Z"
   },
   {
    "duration": 264,
    "start_time": "2022-08-08T13:07:41.908Z"
   },
   {
    "duration": 24,
    "start_time": "2022-08-08T13:07:42.174Z"
   },
   {
    "duration": 11,
    "start_time": "2022-08-08T13:07:42.200Z"
   },
   {
    "duration": 3664,
    "start_time": "2022-08-08T13:07:42.212Z"
   },
   {
    "duration": 32,
    "start_time": "2022-08-08T13:07:45.878Z"
   },
   {
    "duration": 15,
    "start_time": "2022-08-08T13:07:45.912Z"
   },
   {
    "duration": 1806,
    "start_time": "2022-08-08T13:07:45.929Z"
   },
   {
    "duration": 6,
    "start_time": "2022-08-08T13:07:47.737Z"
   },
   {
    "duration": 249,
    "start_time": "2022-08-08T13:07:47.745Z"
   },
   {
    "duration": 5,
    "start_time": "2022-08-08T13:07:47.996Z"
   },
   {
    "duration": 3,
    "start_time": "2022-08-08T13:09:05.282Z"
   },
   {
    "duration": 1282,
    "start_time": "2022-08-08T13:09:14.486Z"
   },
   {
    "duration": 60,
    "start_time": "2022-08-08T13:09:15.770Z"
   },
   {
    "duration": 23,
    "start_time": "2022-08-08T13:09:15.832Z"
   },
   {
    "duration": 22,
    "start_time": "2022-08-08T13:09:15.856Z"
   },
   {
    "duration": 29,
    "start_time": "2022-08-08T13:09:15.881Z"
   },
   {
    "duration": 38,
    "start_time": "2022-08-08T13:09:15.912Z"
   },
   {
    "duration": 23,
    "start_time": "2022-08-08T13:09:15.952Z"
   },
   {
    "duration": 20,
    "start_time": "2022-08-08T13:09:15.977Z"
   },
   {
    "duration": 18,
    "start_time": "2022-08-08T13:09:15.999Z"
   },
   {
    "duration": 18,
    "start_time": "2022-08-08T13:09:16.019Z"
   },
   {
    "duration": 22,
    "start_time": "2022-08-08T13:09:16.039Z"
   },
   {
    "duration": 18,
    "start_time": "2022-08-08T13:09:16.063Z"
   },
   {
    "duration": 14,
    "start_time": "2022-08-08T13:09:16.083Z"
   },
   {
    "duration": 12,
    "start_time": "2022-08-08T13:09:16.100Z"
   },
   {
    "duration": 13684,
    "start_time": "2022-08-08T13:09:16.114Z"
   },
   {
    "duration": 6,
    "start_time": "2022-08-08T13:09:29.800Z"
   },
   {
    "duration": 35,
    "start_time": "2022-08-08T13:09:29.808Z"
   },
   {
    "duration": 21,
    "start_time": "2022-08-08T13:09:29.845Z"
   },
   {
    "duration": 16,
    "start_time": "2022-08-08T13:09:29.868Z"
   },
   {
    "duration": 121,
    "start_time": "2022-08-08T13:09:29.886Z"
   },
   {
    "duration": 0,
    "start_time": "2022-08-08T13:09:30.009Z"
   },
   {
    "duration": 0,
    "start_time": "2022-08-08T13:09:30.011Z"
   },
   {
    "duration": 0,
    "start_time": "2022-08-08T13:09:30.012Z"
   },
   {
    "duration": 0,
    "start_time": "2022-08-08T13:09:30.013Z"
   },
   {
    "duration": 0,
    "start_time": "2022-08-08T13:09:30.014Z"
   },
   {
    "duration": 0,
    "start_time": "2022-08-08T13:09:30.015Z"
   },
   {
    "duration": 0,
    "start_time": "2022-08-08T13:09:30.017Z"
   },
   {
    "duration": 0,
    "start_time": "2022-08-08T13:09:30.018Z"
   },
   {
    "duration": 0,
    "start_time": "2022-08-08T13:09:30.019Z"
   },
   {
    "duration": 3,
    "start_time": "2022-08-08T13:10:15.011Z"
   },
   {
    "duration": 1168,
    "start_time": "2022-08-08T13:10:25.926Z"
   },
   {
    "duration": 59,
    "start_time": "2022-08-08T13:10:27.096Z"
   },
   {
    "duration": 26,
    "start_time": "2022-08-08T13:10:27.157Z"
   },
   {
    "duration": 15,
    "start_time": "2022-08-08T13:10:27.185Z"
   },
   {
    "duration": 18,
    "start_time": "2022-08-08T13:10:27.203Z"
   },
   {
    "duration": 21,
    "start_time": "2022-08-08T13:10:27.223Z"
   },
   {
    "duration": 10,
    "start_time": "2022-08-08T13:10:27.246Z"
   },
   {
    "duration": 8,
    "start_time": "2022-08-08T13:10:27.258Z"
   },
   {
    "duration": 33,
    "start_time": "2022-08-08T13:10:27.268Z"
   },
   {
    "duration": 12,
    "start_time": "2022-08-08T13:10:27.303Z"
   },
   {
    "duration": 7,
    "start_time": "2022-08-08T13:10:27.317Z"
   },
   {
    "duration": 7,
    "start_time": "2022-08-08T13:10:27.326Z"
   },
   {
    "duration": 6,
    "start_time": "2022-08-08T13:10:27.335Z"
   },
   {
    "duration": 8,
    "start_time": "2022-08-08T13:10:27.344Z"
   },
   {
    "duration": 13848,
    "start_time": "2022-08-08T13:10:27.392Z"
   },
   {
    "duration": 5,
    "start_time": "2022-08-08T13:10:41.242Z"
   },
   {
    "duration": 18,
    "start_time": "2022-08-08T13:10:41.249Z"
   },
   {
    "duration": 29,
    "start_time": "2022-08-08T13:10:41.269Z"
   },
   {
    "duration": 17,
    "start_time": "2022-08-08T13:10:41.300Z"
   },
   {
    "duration": 229,
    "start_time": "2022-08-08T13:10:41.319Z"
   },
   {
    "duration": 17,
    "start_time": "2022-08-08T13:10:41.549Z"
   },
   {
    "duration": 24,
    "start_time": "2022-08-08T13:10:41.568Z"
   },
   {
    "duration": 3642,
    "start_time": "2022-08-08T13:10:41.594Z"
   },
   {
    "duration": 26,
    "start_time": "2022-08-08T13:10:45.238Z"
   },
   {
    "duration": 16,
    "start_time": "2022-08-08T13:10:45.266Z"
   },
   {
    "duration": 1747,
    "start_time": "2022-08-08T13:10:45.283Z"
   },
   {
    "duration": 4,
    "start_time": "2022-08-08T13:10:47.032Z"
   },
   {
    "duration": 243,
    "start_time": "2022-08-08T13:10:47.038Z"
   },
   {
    "duration": 4,
    "start_time": "2022-08-08T13:10:47.292Z"
   },
   {
    "duration": 40,
    "start_time": "2022-08-08T13:12:41.929Z"
   },
   {
    "duration": 7,
    "start_time": "2022-08-08T13:30:37.910Z"
   },
   {
    "duration": 6,
    "start_time": "2022-08-08T13:30:41.308Z"
   },
   {
    "duration": 28,
    "start_time": "2022-08-08T13:30:46.940Z"
   },
   {
    "duration": 191,
    "start_time": "2022-08-08T13:32:44.579Z"
   },
   {
    "duration": 3,
    "start_time": "2022-08-08T13:34:16.550Z"
   },
   {
    "duration": 170,
    "start_time": "2022-08-08T13:34:56.054Z"
   },
   {
    "duration": 157,
    "start_time": "2022-08-08T13:36:04.448Z"
   },
   {
    "duration": 5,
    "start_time": "2022-08-08T13:44:51.160Z"
   },
   {
    "duration": 30,
    "start_time": "2022-08-08T13:45:17.120Z"
   },
   {
    "duration": 28,
    "start_time": "2022-08-08T13:45:22.529Z"
   },
   {
    "duration": 243,
    "start_time": "2022-08-08T13:45:54.748Z"
   },
   {
    "duration": 101,
    "start_time": "2022-08-08T13:47:35.068Z"
   },
   {
    "duration": 92,
    "start_time": "2022-08-08T13:48:42.327Z"
   },
   {
    "duration": 164,
    "start_time": "2022-08-08T13:48:49.908Z"
   },
   {
    "duration": 1255,
    "start_time": "2022-08-08T13:51:22.128Z"
   },
   {
    "duration": 66,
    "start_time": "2022-08-08T13:51:23.385Z"
   },
   {
    "duration": 26,
    "start_time": "2022-08-08T13:51:23.453Z"
   },
   {
    "duration": 23,
    "start_time": "2022-08-08T13:51:23.480Z"
   },
   {
    "duration": 30,
    "start_time": "2022-08-08T13:51:23.511Z"
   },
   {
    "duration": 32,
    "start_time": "2022-08-08T13:51:23.542Z"
   },
   {
    "duration": 10,
    "start_time": "2022-08-08T13:51:23.576Z"
   },
   {
    "duration": 7,
    "start_time": "2022-08-08T13:51:23.588Z"
   },
   {
    "duration": 17,
    "start_time": "2022-08-08T13:51:23.602Z"
   },
   {
    "duration": 12,
    "start_time": "2022-08-08T13:51:23.621Z"
   },
   {
    "duration": 10,
    "start_time": "2022-08-08T13:51:23.635Z"
   },
   {
    "duration": 7,
    "start_time": "2022-08-08T13:51:23.646Z"
   },
   {
    "duration": 9,
    "start_time": "2022-08-08T13:51:23.655Z"
   },
   {
    "duration": 27,
    "start_time": "2022-08-08T13:51:23.668Z"
   },
   {
    "duration": 14862,
    "start_time": "2022-08-08T13:51:23.696Z"
   },
   {
    "duration": 6,
    "start_time": "2022-08-08T13:51:38.560Z"
   },
   {
    "duration": 43,
    "start_time": "2022-08-08T13:51:38.568Z"
   },
   {
    "duration": 31,
    "start_time": "2022-08-08T13:51:38.623Z"
   },
   {
    "duration": 20,
    "start_time": "2022-08-08T13:51:38.656Z"
   },
   {
    "duration": 242,
    "start_time": "2022-08-08T13:51:38.678Z"
   },
   {
    "duration": 18,
    "start_time": "2022-08-08T13:51:38.922Z"
   },
   {
    "duration": 10,
    "start_time": "2022-08-08T13:51:38.941Z"
   },
   {
    "duration": 4152,
    "start_time": "2022-08-08T13:51:38.953Z"
   },
   {
    "duration": 28,
    "start_time": "2022-08-08T13:51:43.107Z"
   },
   {
    "duration": 15,
    "start_time": "2022-08-08T13:51:43.138Z"
   },
   {
    "duration": 1908,
    "start_time": "2022-08-08T13:51:43.155Z"
   },
   {
    "duration": 6,
    "start_time": "2022-08-08T13:51:45.065Z"
   },
   {
    "duration": 265,
    "start_time": "2022-08-08T13:51:45.073Z"
   },
   {
    "duration": 5,
    "start_time": "2022-08-08T13:51:45.340Z"
   },
   {
    "duration": 33,
    "start_time": "2022-08-08T13:51:45.346Z"
   },
   {
    "duration": 179,
    "start_time": "2022-08-08T13:51:45.391Z"
   },
   {
    "duration": 192,
    "start_time": "2022-08-08T13:51:45.572Z"
   },
   {
    "duration": 185,
    "start_time": "2022-08-08T13:51:45.766Z"
   },
   {
    "duration": 282,
    "start_time": "2022-08-08T13:51:45.955Z"
   },
   {
    "duration": 183,
    "start_time": "2022-08-08T13:51:46.239Z"
   },
   {
    "duration": 1282,
    "start_time": "2022-08-08T19:59:16.008Z"
   },
   {
    "duration": 89,
    "start_time": "2022-08-08T19:59:17.292Z"
   },
   {
    "duration": 19,
    "start_time": "2022-08-08T19:59:17.383Z"
   },
   {
    "duration": 12,
    "start_time": "2022-08-08T19:59:17.404Z"
   },
   {
    "duration": 22,
    "start_time": "2022-08-08T19:59:17.418Z"
   },
   {
    "duration": 36,
    "start_time": "2022-08-08T19:59:17.441Z"
   },
   {
    "duration": 8,
    "start_time": "2022-08-08T19:59:17.479Z"
   },
   {
    "duration": 7,
    "start_time": "2022-08-08T19:59:17.489Z"
   },
   {
    "duration": 16,
    "start_time": "2022-08-08T19:59:17.498Z"
   },
   {
    "duration": 10,
    "start_time": "2022-08-08T19:59:17.518Z"
   },
   {
    "duration": 7,
    "start_time": "2022-08-08T19:59:17.529Z"
   },
   {
    "duration": 10,
    "start_time": "2022-08-08T19:59:17.537Z"
   },
   {
    "duration": 7,
    "start_time": "2022-08-08T19:59:17.549Z"
   },
   {
    "duration": 8,
    "start_time": "2022-08-08T19:59:17.557Z"
   },
   {
    "duration": 11377,
    "start_time": "2022-08-08T19:59:17.567Z"
   },
   {
    "duration": 5,
    "start_time": "2022-08-08T19:59:28.945Z"
   },
   {
    "duration": 13,
    "start_time": "2022-08-08T19:59:28.952Z"
   },
   {
    "duration": 14,
    "start_time": "2022-08-08T19:59:28.966Z"
   },
   {
    "duration": 39,
    "start_time": "2022-08-08T19:59:28.982Z"
   },
   {
    "duration": 188,
    "start_time": "2022-08-08T19:59:29.023Z"
   },
   {
    "duration": 15,
    "start_time": "2022-08-08T19:59:29.212Z"
   },
   {
    "duration": 9,
    "start_time": "2022-08-08T19:59:29.228Z"
   },
   {
    "duration": 3261,
    "start_time": "2022-08-08T19:59:29.238Z"
   },
   {
    "duration": 26,
    "start_time": "2022-08-08T19:59:32.501Z"
   },
   {
    "duration": 18,
    "start_time": "2022-08-08T19:59:32.529Z"
   },
   {
    "duration": 1601,
    "start_time": "2022-08-08T19:59:32.549Z"
   },
   {
    "duration": 4,
    "start_time": "2022-08-08T19:59:34.152Z"
   },
   {
    "duration": 206,
    "start_time": "2022-08-08T19:59:34.159Z"
   },
   {
    "duration": 4,
    "start_time": "2022-08-08T19:59:34.366Z"
   },
   {
    "duration": 27,
    "start_time": "2022-08-08T19:59:34.371Z"
   },
   {
    "duration": 143,
    "start_time": "2022-08-08T19:59:34.399Z"
   },
   {
    "duration": 142,
    "start_time": "2022-08-08T19:59:34.543Z"
   },
   {
    "duration": 126,
    "start_time": "2022-08-08T19:59:34.686Z"
   },
   {
    "duration": 188,
    "start_time": "2022-08-08T19:59:34.814Z"
   },
   {
    "duration": 134,
    "start_time": "2022-08-08T19:59:35.010Z"
   },
   {
    "duration": 105,
    "start_time": "2022-08-08T20:02:15.279Z"
   },
   {
    "duration": 11,
    "start_time": "2022-08-08T20:02:25.018Z"
   },
   {
    "duration": 13,
    "start_time": "2022-08-08T20:02:35.406Z"
   },
   {
    "duration": 46,
    "start_time": "2022-08-08T20:04:20.286Z"
   },
   {
    "duration": 24,
    "start_time": "2022-08-08T20:04:27.839Z"
   },
   {
    "duration": 20,
    "start_time": "2022-08-08T20:04:42.388Z"
   },
   {
    "duration": 196,
    "start_time": "2022-08-08T20:05:20.817Z"
   },
   {
    "duration": 167,
    "start_time": "2022-08-08T20:06:11.326Z"
   },
   {
    "duration": 195,
    "start_time": "2022-08-08T20:06:17.562Z"
   },
   {
    "duration": 18,
    "start_time": "2022-08-08T20:06:34.539Z"
   },
   {
    "duration": 18,
    "start_time": "2022-08-08T20:06:41.783Z"
   },
   {
    "duration": 18,
    "start_time": "2022-08-08T20:06:59.607Z"
   },
   {
    "duration": 209,
    "start_time": "2022-08-08T20:07:10.188Z"
   },
   {
    "duration": 171,
    "start_time": "2022-08-08T20:07:34.364Z"
   },
   {
    "duration": 190,
    "start_time": "2022-08-08T20:08:21.184Z"
   },
   {
    "duration": 13,
    "start_time": "2022-08-08T20:08:38.726Z"
   },
   {
    "duration": 20,
    "start_time": "2022-08-08T20:08:43.027Z"
   },
   {
    "duration": 193,
    "start_time": "2022-08-08T20:08:53.047Z"
   },
   {
    "duration": 227,
    "start_time": "2022-08-08T20:09:03.162Z"
   },
   {
    "duration": 18,
    "start_time": "2022-08-08T20:11:16.060Z"
   },
   {
    "duration": 24,
    "start_time": "2022-08-08T20:11:26.145Z"
   },
   {
    "duration": 20,
    "start_time": "2022-08-08T20:11:51.489Z"
   },
   {
    "duration": 20,
    "start_time": "2022-08-08T20:12:00.519Z"
   },
   {
    "duration": 19,
    "start_time": "2022-08-08T20:12:10.915Z"
   },
   {
    "duration": 220,
    "start_time": "2022-08-08T20:12:13.966Z"
   },
   {
    "duration": 1201,
    "start_time": "2022-08-09T08:46:50.976Z"
   },
   {
    "duration": 185,
    "start_time": "2022-08-09T08:46:52.179Z"
   },
   {
    "duration": 19,
    "start_time": "2022-08-09T08:46:52.366Z"
   },
   {
    "duration": 12,
    "start_time": "2022-08-09T08:46:52.387Z"
   },
   {
    "duration": 16,
    "start_time": "2022-08-09T08:46:52.401Z"
   },
   {
    "duration": 14,
    "start_time": "2022-08-09T08:46:52.419Z"
   },
   {
    "duration": 7,
    "start_time": "2022-08-09T08:46:52.435Z"
   },
   {
    "duration": 15,
    "start_time": "2022-08-09T08:46:52.443Z"
   },
   {
    "duration": 15,
    "start_time": "2022-08-09T08:46:52.459Z"
   },
   {
    "duration": 9,
    "start_time": "2022-08-09T08:46:52.476Z"
   },
   {
    "duration": 10,
    "start_time": "2022-08-09T08:46:52.486Z"
   },
   {
    "duration": 15,
    "start_time": "2022-08-09T08:46:52.497Z"
   },
   {
    "duration": 8,
    "start_time": "2022-08-09T08:46:52.513Z"
   },
   {
    "duration": 10,
    "start_time": "2022-08-09T08:46:52.523Z"
   },
   {
    "duration": 10609,
    "start_time": "2022-08-09T08:46:52.534Z"
   },
   {
    "duration": 4,
    "start_time": "2022-08-09T08:47:03.145Z"
   },
   {
    "duration": 12,
    "start_time": "2022-08-09T08:47:03.155Z"
   },
   {
    "duration": 15,
    "start_time": "2022-08-09T08:47:03.169Z"
   },
   {
    "duration": 15,
    "start_time": "2022-08-09T08:47:03.185Z"
   },
   {
    "duration": 196,
    "start_time": "2022-08-09T08:47:03.202Z"
   },
   {
    "duration": 14,
    "start_time": "2022-08-09T08:47:03.399Z"
   },
   {
    "duration": 8,
    "start_time": "2022-08-09T08:47:03.414Z"
   },
   {
    "duration": 2918,
    "start_time": "2022-08-09T08:47:03.423Z"
   },
   {
    "duration": 19,
    "start_time": "2022-08-09T08:47:06.343Z"
   },
   {
    "duration": 11,
    "start_time": "2022-08-09T08:47:06.364Z"
   },
   {
    "duration": 1524,
    "start_time": "2022-08-09T08:47:06.377Z"
   },
   {
    "duration": 5,
    "start_time": "2022-08-09T08:47:07.903Z"
   },
   {
    "duration": 223,
    "start_time": "2022-08-09T08:47:07.911Z"
   },
   {
    "duration": 4,
    "start_time": "2022-08-09T08:47:08.136Z"
   },
   {
    "duration": 30,
    "start_time": "2022-08-09T08:47:08.141Z"
   },
   {
    "duration": 167,
    "start_time": "2022-08-09T08:47:08.173Z"
   },
   {
    "duration": 159,
    "start_time": "2022-08-09T08:47:08.342Z"
   },
   {
    "duration": 129,
    "start_time": "2022-08-09T08:47:08.503Z"
   },
   {
    "duration": 202,
    "start_time": "2022-08-09T08:47:08.633Z"
   },
   {
    "duration": 141,
    "start_time": "2022-08-09T08:47:08.836Z"
   },
   {
    "duration": 20,
    "start_time": "2022-08-09T08:47:08.979Z"
   },
   {
    "duration": 224,
    "start_time": "2022-08-09T08:47:09.001Z"
   },
   {
    "duration": 966,
    "start_time": "2022-08-09T09:10:03.822Z"
   },
   {
    "duration": 1130,
    "start_time": "2022-08-09T09:10:41.036Z"
   },
   {
    "duration": 48,
    "start_time": "2022-08-09T09:10:42.168Z"
   },
   {
    "duration": 21,
    "start_time": "2022-08-09T09:10:42.217Z"
   },
   {
    "duration": 13,
    "start_time": "2022-08-09T09:10:42.240Z"
   },
   {
    "duration": 14,
    "start_time": "2022-08-09T09:10:42.255Z"
   },
   {
    "duration": 15,
    "start_time": "2022-08-09T09:10:42.271Z"
   },
   {
    "duration": 9,
    "start_time": "2022-08-09T09:10:42.288Z"
   },
   {
    "duration": 5,
    "start_time": "2022-08-09T09:10:42.298Z"
   },
   {
    "duration": 12,
    "start_time": "2022-08-09T09:10:42.304Z"
   },
   {
    "duration": 39,
    "start_time": "2022-08-09T09:10:42.317Z"
   },
   {
    "duration": 6,
    "start_time": "2022-08-09T09:10:42.357Z"
   },
   {
    "duration": 5,
    "start_time": "2022-08-09T09:10:42.365Z"
   },
   {
    "duration": 5,
    "start_time": "2022-08-09T09:10:42.372Z"
   },
   {
    "duration": 8,
    "start_time": "2022-08-09T09:10:42.380Z"
   },
   {
    "duration": 10541,
    "start_time": "2022-08-09T09:10:42.390Z"
   },
   {
    "duration": 5,
    "start_time": "2022-08-09T09:10:52.932Z"
   },
   {
    "duration": 20,
    "start_time": "2022-08-09T09:10:52.938Z"
   },
   {
    "duration": 14,
    "start_time": "2022-08-09T09:10:52.959Z"
   },
   {
    "duration": 15,
    "start_time": "2022-08-09T09:10:52.974Z"
   },
   {
    "duration": 189,
    "start_time": "2022-08-09T09:10:52.991Z"
   },
   {
    "duration": 14,
    "start_time": "2022-08-09T09:10:53.182Z"
   },
   {
    "duration": 7,
    "start_time": "2022-08-09T09:10:53.198Z"
   },
   {
    "duration": 2959,
    "start_time": "2022-08-09T09:10:53.206Z"
   },
   {
    "duration": 19,
    "start_time": "2022-08-09T09:10:56.166Z"
   },
   {
    "duration": 11,
    "start_time": "2022-08-09T09:10:56.187Z"
   },
   {
    "duration": 953,
    "start_time": "2022-08-09T09:10:56.200Z"
   },
   {
    "duration": 5,
    "start_time": "2022-08-09T09:10:57.155Z"
   },
   {
    "duration": 210,
    "start_time": "2022-08-09T09:10:57.161Z"
   },
   {
    "duration": 5,
    "start_time": "2022-08-09T09:10:57.373Z"
   },
   {
    "duration": 35,
    "start_time": "2022-08-09T09:10:57.380Z"
   },
   {
    "duration": 176,
    "start_time": "2022-08-09T09:10:57.417Z"
   },
   {
    "duration": 156,
    "start_time": "2022-08-09T09:10:57.595Z"
   },
   {
    "duration": 127,
    "start_time": "2022-08-09T09:10:57.755Z"
   },
   {
    "duration": 193,
    "start_time": "2022-08-09T09:10:57.884Z"
   },
   {
    "duration": 136,
    "start_time": "2022-08-09T09:10:58.079Z"
   },
   {
    "duration": 18,
    "start_time": "2022-08-09T09:10:58.216Z"
   },
   {
    "duration": 220,
    "start_time": "2022-08-09T09:10:58.235Z"
   },
   {
    "duration": 2,
    "start_time": "2022-08-09T09:10:58.458Z"
   },
   {
    "duration": 21,
    "start_time": "2022-08-09T09:15:31.933Z"
   },
   {
    "duration": 1081,
    "start_time": "2022-08-09T09:15:43.539Z"
   },
   {
    "duration": 48,
    "start_time": "2022-08-09T09:15:44.621Z"
   },
   {
    "duration": 21,
    "start_time": "2022-08-09T09:15:44.670Z"
   },
   {
    "duration": 15,
    "start_time": "2022-08-09T09:15:44.692Z"
   },
   {
    "duration": 22,
    "start_time": "2022-08-09T09:15:44.710Z"
   },
   {
    "duration": 34,
    "start_time": "2022-08-09T09:15:44.733Z"
   },
   {
    "duration": 8,
    "start_time": "2022-08-09T09:15:44.768Z"
   },
   {
    "duration": 4,
    "start_time": "2022-08-09T09:15:44.777Z"
   },
   {
    "duration": 10,
    "start_time": "2022-08-09T09:15:44.783Z"
   },
   {
    "duration": 9,
    "start_time": "2022-08-09T09:15:44.794Z"
   },
   {
    "duration": 5,
    "start_time": "2022-08-09T09:15:44.804Z"
   },
   {
    "duration": 5,
    "start_time": "2022-08-09T09:15:44.810Z"
   },
   {
    "duration": 4,
    "start_time": "2022-08-09T09:15:44.855Z"
   },
   {
    "duration": 8,
    "start_time": "2022-08-09T09:15:44.862Z"
   },
   {
    "duration": 10663,
    "start_time": "2022-08-09T09:15:44.871Z"
   },
   {
    "duration": 4,
    "start_time": "2022-08-09T09:15:55.536Z"
   },
   {
    "duration": 50,
    "start_time": "2022-08-09T09:15:55.541Z"
   },
   {
    "duration": 18,
    "start_time": "2022-08-09T09:15:55.592Z"
   },
   {
    "duration": 26,
    "start_time": "2022-08-09T09:15:55.611Z"
   },
   {
    "duration": 205,
    "start_time": "2022-08-09T09:15:55.639Z"
   },
   {
    "duration": 21,
    "start_time": "2022-08-09T09:15:55.845Z"
   },
   {
    "duration": 30,
    "start_time": "2022-08-09T09:15:55.868Z"
   },
   {
    "duration": 3133,
    "start_time": "2022-08-09T09:15:55.900Z"
   },
   {
    "duration": 20,
    "start_time": "2022-08-09T09:15:59.035Z"
   },
   {
    "duration": 12,
    "start_time": "2022-08-09T09:15:59.056Z"
   },
   {
    "duration": 943,
    "start_time": "2022-08-09T09:15:59.069Z"
   },
   {
    "duration": 4,
    "start_time": "2022-08-09T09:16:00.013Z"
   },
   {
    "duration": 199,
    "start_time": "2022-08-09T09:16:00.018Z"
   },
   {
    "duration": 3,
    "start_time": "2022-08-09T09:16:00.219Z"
   },
   {
    "duration": 59,
    "start_time": "2022-08-09T09:16:00.224Z"
   },
   {
    "duration": 143,
    "start_time": "2022-08-09T09:16:00.284Z"
   },
   {
    "duration": 140,
    "start_time": "2022-08-09T09:16:00.428Z"
   },
   {
    "duration": 133,
    "start_time": "2022-08-09T09:16:00.570Z"
   },
   {
    "duration": 220,
    "start_time": "2022-08-09T09:16:00.705Z"
   },
   {
    "duration": 144,
    "start_time": "2022-08-09T09:16:00.927Z"
   },
   {
    "duration": 18,
    "start_time": "2022-08-09T09:16:01.073Z"
   },
   {
    "duration": 232,
    "start_time": "2022-08-09T09:16:01.092Z"
   },
   {
    "duration": 78,
    "start_time": "2022-08-09T09:16:01.325Z"
   },
   {
    "duration": 174,
    "start_time": "2022-08-09T09:20:04.557Z"
   },
   {
    "duration": 101,
    "start_time": "2022-08-09T09:23:19.667Z"
   },
   {
    "duration": 10,
    "start_time": "2022-08-09T09:23:29.803Z"
   },
   {
    "duration": 16,
    "start_time": "2022-08-09T09:23:36.791Z"
   },
   {
    "duration": 10,
    "start_time": "2022-08-09T09:24:35.129Z"
   },
   {
    "duration": 18,
    "start_time": "2022-08-09T09:24:43.348Z"
   },
   {
    "duration": 18,
    "start_time": "2022-08-09T09:24:50.159Z"
   },
   {
    "duration": 16,
    "start_time": "2022-08-09T09:25:34.583Z"
   },
   {
    "duration": 14,
    "start_time": "2022-08-09T10:16:43.782Z"
   },
   {
    "duration": 26,
    "start_time": "2022-08-09T10:16:48.603Z"
   },
   {
    "duration": 24,
    "start_time": "2022-08-09T10:16:56.753Z"
   },
   {
    "duration": 19,
    "start_time": "2022-08-09T10:17:14.192Z"
   },
   {
    "duration": 17,
    "start_time": "2022-08-09T10:17:42.702Z"
   },
   {
    "duration": 26,
    "start_time": "2022-08-09T10:17:50.815Z"
   },
   {
    "duration": 19,
    "start_time": "2022-08-09T10:18:54.221Z"
   },
   {
    "duration": 26,
    "start_time": "2022-08-09T10:19:04.742Z"
   },
   {
    "duration": 31,
    "start_time": "2022-08-09T10:20:55.743Z"
   },
   {
    "duration": 124,
    "start_time": "2022-08-09T10:21:42.392Z"
   },
   {
    "duration": 162,
    "start_time": "2022-08-09T10:22:01.187Z"
   },
   {
    "duration": 9,
    "start_time": "2022-08-09T10:22:14.425Z"
   },
   {
    "duration": 11,
    "start_time": "2022-08-09T10:22:23.925Z"
   },
   {
    "duration": 137,
    "start_time": "2022-08-09T10:22:29.783Z"
   },
   {
    "duration": 22,
    "start_time": "2022-08-09T10:23:21.763Z"
   },
   {
    "duration": 24,
    "start_time": "2022-08-09T10:23:35.321Z"
   },
   {
    "duration": 438,
    "start_time": "2022-08-09T10:23:53.721Z"
   },
   {
    "duration": 200,
    "start_time": "2022-08-09T10:24:42.528Z"
   },
   {
    "duration": 12,
    "start_time": "2022-08-09T10:25:32.729Z"
   },
   {
    "duration": 12,
    "start_time": "2022-08-09T10:27:06.072Z"
   },
   {
    "duration": 10,
    "start_time": "2022-08-09T10:27:12.675Z"
   },
   {
    "duration": 154,
    "start_time": "2022-08-09T10:27:33.671Z"
   },
   {
    "duration": 196,
    "start_time": "2022-08-09T10:28:34.041Z"
   },
   {
    "duration": 1404,
    "start_time": "2022-08-09T10:28:51.521Z"
   },
   {
    "duration": 135,
    "start_time": "2022-08-09T10:29:02.229Z"
   },
   {
    "duration": 145,
    "start_time": "2022-08-09T10:29:25.095Z"
   },
   {
    "duration": 307,
    "start_time": "2022-08-09T10:29:39.919Z"
   },
   {
    "duration": 303,
    "start_time": "2022-08-09T10:29:54.930Z"
   },
   {
    "duration": 310,
    "start_time": "2022-08-09T10:30:01.132Z"
   },
   {
    "duration": 315,
    "start_time": "2022-08-09T10:30:08.513Z"
   },
   {
    "duration": 174,
    "start_time": "2022-08-09T10:30:08.830Z"
   },
   {
    "duration": 447,
    "start_time": "2022-08-09T10:30:25.080Z"
   },
   {
    "duration": 616,
    "start_time": "2022-08-09T10:30:56.142Z"
   },
   {
    "duration": 783,
    "start_time": "2022-08-09T10:31:27.265Z"
   },
   {
    "duration": 601,
    "start_time": "2022-08-09T10:31:35.533Z"
   },
   {
    "duration": 17,
    "start_time": "2022-08-09T10:36:40.281Z"
   },
   {
    "duration": 556,
    "start_time": "2022-08-09T10:37:42.301Z"
   },
   {
    "duration": 650,
    "start_time": "2022-08-09T10:38:07.422Z"
   },
   {
    "duration": 16,
    "start_time": "2022-08-09T10:45:13.776Z"
   },
   {
    "duration": 577,
    "start_time": "2022-08-09T10:47:33.721Z"
   },
   {
    "duration": 617,
    "start_time": "2022-08-09T10:47:42.342Z"
   },
   {
    "duration": 608,
    "start_time": "2022-08-09T10:48:48.425Z"
   },
   {
    "duration": 672,
    "start_time": "2022-08-09T10:49:04.179Z"
   },
   {
    "duration": 528,
    "start_time": "2022-08-09T10:52:36.744Z"
   },
   {
    "duration": 614,
    "start_time": "2022-08-09T10:52:44.492Z"
   },
   {
    "duration": 587,
    "start_time": "2022-08-09T10:52:48.780Z"
   },
   {
    "duration": 3,
    "start_time": "2022-08-09T11:04:53.870Z"
   },
   {
    "duration": 7,
    "start_time": "2022-08-09T11:09:13.687Z"
   },
   {
    "duration": 174,
    "start_time": "2022-08-09T11:10:48.625Z"
   },
   {
    "duration": 81,
    "start_time": "2022-08-09T11:10:59.169Z"
   },
   {
    "duration": 8,
    "start_time": "2022-08-09T11:11:18.416Z"
   },
   {
    "duration": 7,
    "start_time": "2022-08-09T11:11:24.272Z"
   },
   {
    "duration": 10,
    "start_time": "2022-08-09T11:11:39.491Z"
   },
   {
    "duration": 9,
    "start_time": "2022-08-09T11:11:45.065Z"
   },
   {
    "duration": 14,
    "start_time": "2022-08-09T11:14:13.930Z"
   },
   {
    "duration": 11,
    "start_time": "2022-08-09T11:14:22.769Z"
   },
   {
    "duration": 18,
    "start_time": "2022-08-09T11:15:50.194Z"
   },
   {
    "duration": 6,
    "start_time": "2022-08-09T11:16:05.229Z"
   },
   {
    "duration": 6,
    "start_time": "2022-08-09T11:18:37.813Z"
   },
   {
    "duration": 5,
    "start_time": "2022-08-09T11:18:47.024Z"
   },
   {
    "duration": 13,
    "start_time": "2022-08-09T11:19:43.272Z"
   },
   {
    "duration": 8,
    "start_time": "2022-08-09T11:19:48.674Z"
   },
   {
    "duration": 9,
    "start_time": "2022-08-09T11:19:57.582Z"
   },
   {
    "duration": 9,
    "start_time": "2022-08-09T11:20:00.676Z"
   },
   {
    "duration": 8,
    "start_time": "2022-08-09T11:20:18.798Z"
   },
   {
    "duration": 10,
    "start_time": "2022-08-09T11:20:37.849Z"
   },
   {
    "duration": 8,
    "start_time": "2022-08-09T11:20:49.738Z"
   },
   {
    "duration": 14,
    "start_time": "2022-08-09T11:24:26.596Z"
   },
   {
    "duration": 13,
    "start_time": "2022-08-09T11:24:45.949Z"
   },
   {
    "duration": 9,
    "start_time": "2022-08-09T11:25:47.237Z"
   },
   {
    "duration": 9,
    "start_time": "2022-08-09T11:25:58.021Z"
   },
   {
    "duration": 10,
    "start_time": "2022-08-09T11:26:26.884Z"
   },
   {
    "duration": 9,
    "start_time": "2022-08-09T11:26:51.925Z"
   },
   {
    "duration": 6,
    "start_time": "2022-08-09T11:27:07.797Z"
   },
   {
    "duration": 5,
    "start_time": "2022-08-09T11:27:55.663Z"
   },
   {
    "duration": 9,
    "start_time": "2022-08-09T11:28:54.005Z"
   },
   {
    "duration": 8,
    "start_time": "2022-08-09T11:30:20.280Z"
   },
   {
    "duration": 8,
    "start_time": "2022-08-09T11:30:31.841Z"
   },
   {
    "duration": 5,
    "start_time": "2022-08-09T11:30:33.226Z"
   },
   {
    "duration": 4,
    "start_time": "2022-08-09T11:32:48.873Z"
   },
   {
    "duration": 1388,
    "start_time": "2022-08-09T12:20:09.155Z"
   },
   {
    "duration": 57,
    "start_time": "2022-08-09T12:20:10.544Z"
   },
   {
    "duration": 19,
    "start_time": "2022-08-09T12:20:10.603Z"
   },
   {
    "duration": 18,
    "start_time": "2022-08-09T12:20:10.623Z"
   },
   {
    "duration": 17,
    "start_time": "2022-08-09T12:20:10.643Z"
   },
   {
    "duration": 27,
    "start_time": "2022-08-09T12:20:10.662Z"
   },
   {
    "duration": 7,
    "start_time": "2022-08-09T12:20:10.691Z"
   },
   {
    "duration": 8,
    "start_time": "2022-08-09T12:20:10.699Z"
   },
   {
    "duration": 18,
    "start_time": "2022-08-09T12:20:10.708Z"
   },
   {
    "duration": 20,
    "start_time": "2022-08-09T12:20:10.727Z"
   },
   {
    "duration": 15,
    "start_time": "2022-08-09T12:20:10.749Z"
   },
   {
    "duration": 18,
    "start_time": "2022-08-09T12:20:10.765Z"
   },
   {
    "duration": 11,
    "start_time": "2022-08-09T12:20:10.784Z"
   },
   {
    "duration": 15,
    "start_time": "2022-08-09T12:20:10.797Z"
   },
   {
    "duration": 10533,
    "start_time": "2022-08-09T12:20:10.814Z"
   },
   {
    "duration": 4,
    "start_time": "2022-08-09T12:20:21.355Z"
   },
   {
    "duration": 15,
    "start_time": "2022-08-09T12:20:21.361Z"
   },
   {
    "duration": 20,
    "start_time": "2022-08-09T12:20:21.378Z"
   },
   {
    "duration": 14,
    "start_time": "2022-08-09T12:20:21.399Z"
   },
   {
    "duration": 186,
    "start_time": "2022-08-09T12:20:21.414Z"
   },
   {
    "duration": 14,
    "start_time": "2022-08-09T12:20:21.602Z"
   },
   {
    "duration": 11,
    "start_time": "2022-08-09T12:20:21.618Z"
   },
   {
    "duration": 2987,
    "start_time": "2022-08-09T12:20:21.630Z"
   },
   {
    "duration": 24,
    "start_time": "2022-08-09T12:20:24.619Z"
   },
   {
    "duration": 14,
    "start_time": "2022-08-09T12:20:24.645Z"
   },
   {
    "duration": 927,
    "start_time": "2022-08-09T12:20:24.660Z"
   },
   {
    "duration": 5,
    "start_time": "2022-08-09T12:20:25.589Z"
   },
   {
    "duration": 204,
    "start_time": "2022-08-09T12:20:25.595Z"
   },
   {
    "duration": 4,
    "start_time": "2022-08-09T12:20:25.801Z"
   },
   {
    "duration": 47,
    "start_time": "2022-08-09T12:20:25.807Z"
   },
   {
    "duration": 131,
    "start_time": "2022-08-09T12:20:25.856Z"
   },
   {
    "duration": 138,
    "start_time": "2022-08-09T12:20:25.988Z"
   },
   {
    "duration": 127,
    "start_time": "2022-08-09T12:20:26.127Z"
   },
   {
    "duration": 201,
    "start_time": "2022-08-09T12:20:26.256Z"
   },
   {
    "duration": 132,
    "start_time": "2022-08-09T12:20:26.458Z"
   },
   {
    "duration": 17,
    "start_time": "2022-08-09T12:20:26.592Z"
   },
   {
    "duration": 245,
    "start_time": "2022-08-09T12:20:26.611Z"
   },
   {
    "duration": 16,
    "start_time": "2022-08-09T12:20:26.857Z"
   },
   {
    "duration": 620,
    "start_time": "2022-08-09T12:20:26.875Z"
   },
   {
    "duration": 17,
    "start_time": "2022-08-09T12:20:27.497Z"
   },
   {
    "duration": 572,
    "start_time": "2022-08-09T12:20:27.518Z"
   },
   {
    "duration": 16,
    "start_time": "2022-08-09T12:20:28.092Z"
   },
   {
    "duration": 490,
    "start_time": "2022-08-09T12:20:28.109Z"
   },
   {
    "duration": 10,
    "start_time": "2022-08-09T12:20:28.601Z"
   },
   {
    "duration": 14,
    "start_time": "2022-08-09T12:20:28.612Z"
   },
   {
    "duration": 22,
    "start_time": "2022-08-09T12:20:28.628Z"
   },
   {
    "duration": 22,
    "start_time": "2022-08-09T12:20:28.651Z"
   },
   {
    "duration": 14,
    "start_time": "2022-08-09T12:20:28.674Z"
   },
   {
    "duration": 1160,
    "start_time": "2022-08-09T15:55:38.357Z"
   },
   {
    "duration": 70,
    "start_time": "2022-08-09T15:55:39.519Z"
   },
   {
    "duration": 19,
    "start_time": "2022-08-09T15:55:39.590Z"
   },
   {
    "duration": 12,
    "start_time": "2022-08-09T15:55:39.610Z"
   },
   {
    "duration": 21,
    "start_time": "2022-08-09T15:55:39.624Z"
   },
   {
    "duration": 39,
    "start_time": "2022-08-09T15:55:39.647Z"
   },
   {
    "duration": 20,
    "start_time": "2022-08-09T15:55:39.688Z"
   },
   {
    "duration": 26,
    "start_time": "2022-08-09T15:55:39.710Z"
   },
   {
    "duration": 41,
    "start_time": "2022-08-09T15:55:39.737Z"
   },
   {
    "duration": 10,
    "start_time": "2022-08-09T15:55:39.779Z"
   },
   {
    "duration": 6,
    "start_time": "2022-08-09T15:55:39.790Z"
   },
   {
    "duration": 10,
    "start_time": "2022-08-09T15:55:39.797Z"
   },
   {
    "duration": 7,
    "start_time": "2022-08-09T15:55:39.808Z"
   },
   {
    "duration": 9,
    "start_time": "2022-08-09T15:55:39.818Z"
   },
   {
    "duration": 13398,
    "start_time": "2022-08-09T15:55:39.828Z"
   },
   {
    "duration": 4,
    "start_time": "2022-08-09T15:55:53.228Z"
   },
   {
    "duration": 39,
    "start_time": "2022-08-09T15:55:53.239Z"
   },
   {
    "duration": 14,
    "start_time": "2022-08-09T15:55:53.279Z"
   },
   {
    "duration": 16,
    "start_time": "2022-08-09T15:55:53.294Z"
   },
   {
    "duration": 197,
    "start_time": "2022-08-09T15:55:53.311Z"
   },
   {
    "duration": 15,
    "start_time": "2022-08-09T15:55:53.509Z"
   },
   {
    "duration": 22,
    "start_time": "2022-08-09T15:55:53.525Z"
   },
   {
    "duration": 3501,
    "start_time": "2022-08-09T15:55:53.549Z"
   },
   {
    "duration": 32,
    "start_time": "2022-08-09T15:55:57.051Z"
   },
   {
    "duration": 12,
    "start_time": "2022-08-09T15:55:57.084Z"
   },
   {
    "duration": 1066,
    "start_time": "2022-08-09T15:55:57.097Z"
   },
   {
    "duration": 4,
    "start_time": "2022-08-09T15:55:58.166Z"
   },
   {
    "duration": 213,
    "start_time": "2022-08-09T15:55:58.172Z"
   },
   {
    "duration": 4,
    "start_time": "2022-08-09T15:55:58.386Z"
   },
   {
    "duration": 24,
    "start_time": "2022-08-09T15:55:58.391Z"
   },
   {
    "duration": 155,
    "start_time": "2022-08-09T15:55:58.416Z"
   },
   {
    "duration": 143,
    "start_time": "2022-08-09T15:55:58.573Z"
   },
   {
    "duration": 139,
    "start_time": "2022-08-09T15:55:58.717Z"
   },
   {
    "duration": 238,
    "start_time": "2022-08-09T15:55:58.857Z"
   },
   {
    "duration": 185,
    "start_time": "2022-08-09T15:55:59.097Z"
   },
   {
    "duration": 19,
    "start_time": "2022-08-09T15:55:59.284Z"
   },
   {
    "duration": 241,
    "start_time": "2022-08-09T15:55:59.304Z"
   },
   {
    "duration": 23,
    "start_time": "2022-08-09T15:55:59.547Z"
   },
   {
    "duration": 631,
    "start_time": "2022-08-09T15:55:59.571Z"
   },
   {
    "duration": 16,
    "start_time": "2022-08-09T15:56:00.203Z"
   },
   {
    "duration": 661,
    "start_time": "2022-08-09T15:56:00.222Z"
   },
   {
    "duration": 15,
    "start_time": "2022-08-09T15:56:00.884Z"
   },
   {
    "duration": 568,
    "start_time": "2022-08-09T15:56:00.901Z"
   },
   {
    "duration": 10,
    "start_time": "2022-08-09T15:56:01.471Z"
   },
   {
    "duration": 26,
    "start_time": "2022-08-09T15:56:01.482Z"
   },
   {
    "duration": 63,
    "start_time": "2022-08-09T15:56:01.509Z"
   },
   {
    "duration": 22,
    "start_time": "2022-08-09T15:56:01.573Z"
   },
   {
    "duration": 30,
    "start_time": "2022-08-09T15:56:01.597Z"
   },
   {
    "duration": 55,
    "start_time": "2022-08-09T16:39:41.870Z"
   },
   {
    "duration": 80,
    "start_time": "2022-08-09T16:39:53.046Z"
   },
   {
    "duration": 87,
    "start_time": "2022-08-09T16:40:05.058Z"
   },
   {
    "duration": 47,
    "start_time": "2022-08-09T16:43:47.187Z"
   },
   {
    "duration": 75,
    "start_time": "2022-08-09T16:44:08.138Z"
   },
   {
    "duration": 81,
    "start_time": "2022-08-09T16:44:30.795Z"
   },
   {
    "duration": 48,
    "start_time": "2022-08-09T16:44:58.310Z"
   },
   {
    "duration": 1370,
    "start_time": "2022-08-09T16:46:11.705Z"
   },
   {
    "duration": 90,
    "start_time": "2022-08-09T16:46:13.077Z"
   },
   {
    "duration": 20,
    "start_time": "2022-08-09T16:46:13.168Z"
   },
   {
    "duration": 14,
    "start_time": "2022-08-09T16:46:13.191Z"
   },
   {
    "duration": 14,
    "start_time": "2022-08-09T16:46:13.208Z"
   },
   {
    "duration": 18,
    "start_time": "2022-08-09T16:46:13.224Z"
   },
   {
    "duration": 11,
    "start_time": "2022-08-09T16:46:13.244Z"
   },
   {
    "duration": 6,
    "start_time": "2022-08-09T16:46:13.256Z"
   },
   {
    "duration": 12,
    "start_time": "2022-08-09T16:46:13.263Z"
   },
   {
    "duration": 36,
    "start_time": "2022-08-09T16:46:13.276Z"
   },
   {
    "duration": 5,
    "start_time": "2022-08-09T16:46:13.314Z"
   },
   {
    "duration": 7,
    "start_time": "2022-08-09T16:46:13.320Z"
   },
   {
    "duration": 6,
    "start_time": "2022-08-09T16:46:13.329Z"
   },
   {
    "duration": 8,
    "start_time": "2022-08-09T16:46:13.339Z"
   },
   {
    "duration": 11828,
    "start_time": "2022-08-09T16:46:13.348Z"
   },
   {
    "duration": 4,
    "start_time": "2022-08-09T16:46:25.178Z"
   },
   {
    "duration": 21,
    "start_time": "2022-08-09T16:46:25.183Z"
   },
   {
    "duration": 14,
    "start_time": "2022-08-09T16:46:25.206Z"
   },
   {
    "duration": 17,
    "start_time": "2022-08-09T16:46:25.222Z"
   },
   {
    "duration": 192,
    "start_time": "2022-08-09T16:46:25.241Z"
   },
   {
    "duration": 15,
    "start_time": "2022-08-09T16:46:25.435Z"
   },
   {
    "duration": 8,
    "start_time": "2022-08-09T16:46:25.452Z"
   },
   {
    "duration": 3258,
    "start_time": "2022-08-09T16:46:25.461Z"
   },
   {
    "duration": 20,
    "start_time": "2022-08-09T16:46:28.721Z"
   },
   {
    "duration": 13,
    "start_time": "2022-08-09T16:46:28.743Z"
   },
   {
    "duration": 1032,
    "start_time": "2022-08-09T16:46:28.757Z"
   },
   {
    "duration": 4,
    "start_time": "2022-08-09T16:46:29.790Z"
   },
   {
    "duration": 207,
    "start_time": "2022-08-09T16:46:29.796Z"
   },
   {
    "duration": 6,
    "start_time": "2022-08-09T16:46:30.005Z"
   },
   {
    "duration": 46,
    "start_time": "2022-08-09T16:46:30.012Z"
   },
   {
    "duration": 141,
    "start_time": "2022-08-09T16:46:30.059Z"
   },
   {
    "duration": 153,
    "start_time": "2022-08-09T16:46:30.202Z"
   },
   {
    "duration": 131,
    "start_time": "2022-08-09T16:46:30.356Z"
   },
   {
    "duration": 206,
    "start_time": "2022-08-09T16:46:30.489Z"
   },
   {
    "duration": 145,
    "start_time": "2022-08-09T16:46:30.696Z"
   },
   {
    "duration": 18,
    "start_time": "2022-08-09T16:46:30.842Z"
   },
   {
    "duration": 236,
    "start_time": "2022-08-09T16:46:30.861Z"
   },
   {
    "duration": 24,
    "start_time": "2022-08-09T16:46:31.099Z"
   },
   {
    "duration": 587,
    "start_time": "2022-08-09T16:46:31.125Z"
   },
   {
    "duration": 15,
    "start_time": "2022-08-09T16:46:31.714Z"
   },
   {
    "duration": 592,
    "start_time": "2022-08-09T16:46:31.733Z"
   },
   {
    "duration": 17,
    "start_time": "2022-08-09T16:46:32.326Z"
   },
   {
    "duration": 606,
    "start_time": "2022-08-09T16:46:32.344Z"
   },
   {
    "duration": 10,
    "start_time": "2022-08-09T16:46:32.952Z"
   },
   {
    "duration": 8,
    "start_time": "2022-08-09T16:46:32.963Z"
   },
   {
    "duration": 7,
    "start_time": "2022-08-09T16:46:32.973Z"
   },
   {
    "duration": 34,
    "start_time": "2022-08-09T16:46:32.981Z"
   },
   {
    "duration": 8,
    "start_time": "2022-08-09T16:46:33.016Z"
   },
   {
    "duration": 13,
    "start_time": "2022-08-09T16:47:36.236Z"
   },
   {
    "duration": 12,
    "start_time": "2022-08-09T16:48:06.302Z"
   },
   {
    "duration": 105,
    "start_time": "2022-08-09T16:50:41.541Z"
   },
   {
    "duration": 9,
    "start_time": "2022-08-09T16:50:48.147Z"
   },
   {
    "duration": 8,
    "start_time": "2022-08-09T16:50:56.793Z"
   },
   {
    "duration": 7,
    "start_time": "2022-08-09T16:51:01.988Z"
   },
   {
    "duration": 6,
    "start_time": "2022-08-09T16:52:03.657Z"
   },
   {
    "duration": 7,
    "start_time": "2022-08-09T16:52:14.877Z"
   },
   {
    "duration": 8,
    "start_time": "2022-08-09T16:52:21.671Z"
   },
   {
    "duration": 8,
    "start_time": "2022-08-09T16:55:13.205Z"
   },
   {
    "duration": 7,
    "start_time": "2022-08-09T16:55:22.901Z"
   },
   {
    "duration": 9,
    "start_time": "2022-08-09T16:55:30.806Z"
   },
   {
    "duration": 5,
    "start_time": "2022-08-09T16:55:47.527Z"
   },
   {
    "duration": 9,
    "start_time": "2022-08-09T16:55:52.042Z"
   },
   {
    "duration": 207,
    "start_time": "2022-08-09T16:57:08.023Z"
   },
   {
    "duration": 9,
    "start_time": "2022-08-09T16:57:18.952Z"
   },
   {
    "duration": 9,
    "start_time": "2022-08-09T16:57:23.073Z"
   },
   {
    "duration": 201,
    "start_time": "2022-08-09T16:57:28.864Z"
   },
   {
    "duration": 9,
    "start_time": "2022-08-09T16:57:38.043Z"
   },
   {
    "duration": 8,
    "start_time": "2022-08-09T16:57:49.413Z"
   },
   {
    "duration": 9,
    "start_time": "2022-08-09T16:58:41.058Z"
   },
   {
    "duration": 12,
    "start_time": "2022-08-09T17:00:53.323Z"
   },
   {
    "duration": 12,
    "start_time": "2022-08-09T17:00:57.850Z"
   },
   {
    "duration": 8,
    "start_time": "2022-08-09T17:01:02.885Z"
   },
   {
    "duration": 9,
    "start_time": "2022-08-09T17:01:14.605Z"
   },
   {
    "duration": 14,
    "start_time": "2022-08-09T17:02:26.018Z"
   },
   {
    "duration": 25,
    "start_time": "2022-08-09T17:02:30.512Z"
   },
   {
    "duration": 58,
    "start_time": "2022-08-09T17:02:54.416Z"
   },
   {
    "duration": 81,
    "start_time": "2022-08-09T17:03:02.533Z"
   },
   {
    "duration": 9,
    "start_time": "2022-08-09T17:03:30.434Z"
   },
   {
    "duration": 1206,
    "start_time": "2022-08-09T17:07:19.025Z"
   },
   {
    "duration": 6,
    "start_time": "2022-08-09T17:07:30.697Z"
   },
   {
    "duration": 7,
    "start_time": "2022-08-09T17:07:42.467Z"
   },
   {
    "duration": 67,
    "start_time": "2022-08-09T17:08:23.188Z"
   },
   {
    "duration": 6,
    "start_time": "2022-08-09T17:08:26.910Z"
   },
   {
    "duration": 15,
    "start_time": "2022-08-09T17:08:30.120Z"
   },
   {
    "duration": 7,
    "start_time": "2022-08-09T17:09:04.569Z"
   },
   {
    "duration": 81,
    "start_time": "2022-08-09T17:09:11.274Z"
   },
   {
    "duration": 15,
    "start_time": "2022-08-09T17:09:14.697Z"
   },
   {
    "duration": 56,
    "start_time": "2022-08-09T17:09:22.617Z"
   },
   {
    "duration": 15,
    "start_time": "2022-08-09T17:09:36.711Z"
   },
   {
    "duration": 17,
    "start_time": "2022-08-09T18:28:22.768Z"
   },
   {
    "duration": 8,
    "start_time": "2022-08-09T18:28:29.568Z"
   },
   {
    "duration": 23,
    "start_time": "2022-08-09T18:29:56.928Z"
   },
   {
    "duration": 1143,
    "start_time": "2022-08-09T18:30:23.090Z"
   },
   {
    "duration": 52,
    "start_time": "2022-08-09T18:30:24.234Z"
   },
   {
    "duration": 20,
    "start_time": "2022-08-09T18:30:24.288Z"
   },
   {
    "duration": 13,
    "start_time": "2022-08-09T18:30:24.310Z"
   },
   {
    "duration": 15,
    "start_time": "2022-08-09T18:30:24.324Z"
   },
   {
    "duration": 17,
    "start_time": "2022-08-09T18:30:24.340Z"
   },
   {
    "duration": 19,
    "start_time": "2022-08-09T18:30:24.359Z"
   },
   {
    "duration": 33,
    "start_time": "2022-08-09T18:30:24.379Z"
   },
   {
    "duration": 30,
    "start_time": "2022-08-09T18:30:24.414Z"
   },
   {
    "duration": 9,
    "start_time": "2022-08-09T18:30:24.447Z"
   },
   {
    "duration": 5,
    "start_time": "2022-08-09T18:30:24.457Z"
   },
   {
    "duration": 9,
    "start_time": "2022-08-09T18:30:24.463Z"
   },
   {
    "duration": 43,
    "start_time": "2022-08-09T18:30:24.473Z"
   },
   {
    "duration": 4,
    "start_time": "2022-08-09T18:30:24.518Z"
   },
   {
    "duration": 9,
    "start_time": "2022-08-09T18:30:24.523Z"
   },
   {
    "duration": 7,
    "start_time": "2022-08-09T18:30:24.533Z"
   },
   {
    "duration": 12,
    "start_time": "2022-08-09T18:30:24.541Z"
   },
   {
    "duration": 11666,
    "start_time": "2022-08-09T18:30:24.554Z"
   },
   {
    "duration": 5,
    "start_time": "2022-08-09T18:30:36.222Z"
   },
   {
    "duration": 22,
    "start_time": "2022-08-09T18:30:36.228Z"
   },
   {
    "duration": 21,
    "start_time": "2022-08-09T18:30:36.252Z"
   },
   {
    "duration": 16,
    "start_time": "2022-08-09T18:30:36.275Z"
   },
   {
    "duration": 203,
    "start_time": "2022-08-09T18:30:36.292Z"
   },
   {
    "duration": 21,
    "start_time": "2022-08-09T18:30:36.497Z"
   },
   {
    "duration": 8,
    "start_time": "2022-08-09T18:30:36.519Z"
   },
   {
    "duration": 3402,
    "start_time": "2022-08-09T18:30:36.529Z"
   },
   {
    "duration": 20,
    "start_time": "2022-08-09T18:30:39.933Z"
   },
   {
    "duration": 14,
    "start_time": "2022-08-09T18:30:39.956Z"
   },
   {
    "duration": 1046,
    "start_time": "2022-08-09T18:30:39.971Z"
   },
   {
    "duration": 4,
    "start_time": "2022-08-09T18:30:41.019Z"
   },
   {
    "duration": 197,
    "start_time": "2022-08-09T18:30:41.024Z"
   },
   {
    "duration": 4,
    "start_time": "2022-08-09T18:30:41.223Z"
   },
   {
    "duration": 28,
    "start_time": "2022-08-09T18:30:41.228Z"
   },
   {
    "duration": 153,
    "start_time": "2022-08-09T18:30:41.258Z"
   },
   {
    "duration": 149,
    "start_time": "2022-08-09T18:30:41.412Z"
   },
   {
    "duration": 125,
    "start_time": "2022-08-09T18:30:41.562Z"
   },
   {
    "duration": 195,
    "start_time": "2022-08-09T18:30:41.689Z"
   },
   {
    "duration": 132,
    "start_time": "2022-08-09T18:30:41.886Z"
   },
   {
    "duration": 17,
    "start_time": "2022-08-09T18:30:42.019Z"
   },
   {
    "duration": 233,
    "start_time": "2022-08-09T18:30:42.038Z"
   },
   {
    "duration": 16,
    "start_time": "2022-08-09T18:30:42.272Z"
   },
   {
    "duration": 693,
    "start_time": "2022-08-09T18:30:42.290Z"
   },
   {
    "duration": 16,
    "start_time": "2022-08-09T18:30:42.985Z"
   },
   {
    "duration": 583,
    "start_time": "2022-08-09T18:30:43.011Z"
   },
   {
    "duration": 21,
    "start_time": "2022-08-09T18:30:43.595Z"
   },
   {
    "duration": 513,
    "start_time": "2022-08-09T18:30:43.618Z"
   },
   {
    "duration": 10,
    "start_time": "2022-08-09T18:30:44.133Z"
   },
   {
    "duration": 9,
    "start_time": "2022-08-09T18:30:44.145Z"
   },
   {
    "duration": 12,
    "start_time": "2022-08-09T18:30:44.156Z"
   },
   {
    "duration": 9,
    "start_time": "2022-08-09T18:30:44.170Z"
   },
   {
    "duration": 11,
    "start_time": "2022-08-09T18:30:44.180Z"
   },
   {
    "duration": 3,
    "start_time": "2022-08-09T18:31:25.222Z"
   },
   {
    "duration": 5,
    "start_time": "2022-08-09T18:31:34.289Z"
   },
   {
    "duration": 1048,
    "start_time": "2022-08-09T18:32:09.863Z"
   },
   {
    "duration": 50,
    "start_time": "2022-08-09T18:32:10.913Z"
   },
   {
    "duration": 20,
    "start_time": "2022-08-09T18:32:10.964Z"
   },
   {
    "duration": 13,
    "start_time": "2022-08-09T18:32:10.986Z"
   },
   {
    "duration": 16,
    "start_time": "2022-08-09T18:32:11.000Z"
   },
   {
    "duration": 17,
    "start_time": "2022-08-09T18:32:11.018Z"
   },
   {
    "duration": 19,
    "start_time": "2022-08-09T18:32:11.036Z"
   },
   {
    "duration": 9,
    "start_time": "2022-08-09T18:32:11.056Z"
   },
   {
    "duration": 24,
    "start_time": "2022-08-09T18:32:11.066Z"
   },
   {
    "duration": 9,
    "start_time": "2022-08-09T18:32:11.111Z"
   },
   {
    "duration": 5,
    "start_time": "2022-08-09T18:32:11.121Z"
   },
   {
    "duration": 6,
    "start_time": "2022-08-09T18:32:13.065Z"
   },
   {
    "duration": 3,
    "start_time": "2022-08-09T18:32:27.579Z"
   },
   {
    "duration": 7,
    "start_time": "2022-08-09T18:33:20.695Z"
   },
   {
    "duration": 106,
    "start_time": "2022-08-09T18:33:24.996Z"
   },
   {
    "duration": 7,
    "start_time": "2022-08-09T18:33:30.601Z"
   },
   {
    "duration": 1299,
    "start_time": "2022-08-09T18:34:11.905Z"
   },
   {
    "duration": 647,
    "start_time": "2022-08-09T18:34:20.535Z"
   },
   {
    "duration": 625,
    "start_time": "2022-08-09T18:34:31.783Z"
   },
   {
    "duration": 660,
    "start_time": "2022-08-09T18:35:56.888Z"
   },
   {
    "duration": 953,
    "start_time": "2022-08-09T18:36:04.104Z"
   },
   {
    "duration": 3,
    "start_time": "2022-08-09T18:36:13.229Z"
   },
   {
    "duration": 68,
    "start_time": "2022-08-09T18:36:13.235Z"
   },
   {
    "duration": 16,
    "start_time": "2022-08-09T18:36:13.305Z"
   },
   {
    "duration": 14,
    "start_time": "2022-08-09T18:36:13.323Z"
   },
   {
    "duration": 16,
    "start_time": "2022-08-09T18:36:13.338Z"
   },
   {
    "duration": 18,
    "start_time": "2022-08-09T18:36:13.355Z"
   },
   {
    "duration": 17,
    "start_time": "2022-08-09T18:36:13.375Z"
   },
   {
    "duration": 8,
    "start_time": "2022-08-09T18:36:13.411Z"
   },
   {
    "duration": 23,
    "start_time": "2022-08-09T18:36:13.420Z"
   },
   {
    "duration": 9,
    "start_time": "2022-08-09T18:36:13.446Z"
   },
   {
    "duration": 17,
    "start_time": "2022-08-09T18:36:13.457Z"
   },
   {
    "duration": 7,
    "start_time": "2022-08-09T18:36:15.908Z"
   },
   {
    "duration": 832,
    "start_time": "2022-08-09T18:36:23.336Z"
   },
   {
    "duration": 3,
    "start_time": "2022-08-09T18:36:30.176Z"
   },
   {
    "duration": 56,
    "start_time": "2022-08-09T18:36:30.181Z"
   },
   {
    "duration": 16,
    "start_time": "2022-08-09T18:36:30.238Z"
   },
   {
    "duration": 20,
    "start_time": "2022-08-09T18:36:30.256Z"
   },
   {
    "duration": 17,
    "start_time": "2022-08-09T18:36:30.278Z"
   },
   {
    "duration": 23,
    "start_time": "2022-08-09T18:36:30.297Z"
   },
   {
    "duration": 17,
    "start_time": "2022-08-09T18:36:30.322Z"
   },
   {
    "duration": 8,
    "start_time": "2022-08-09T18:36:30.340Z"
   },
   {
    "duration": 25,
    "start_time": "2022-08-09T18:36:30.350Z"
   },
   {
    "duration": 9,
    "start_time": "2022-08-09T18:36:30.376Z"
   },
   {
    "duration": 26,
    "start_time": "2022-08-09T18:36:30.386Z"
   },
   {
    "duration": 800,
    "start_time": "2022-08-09T18:36:32.085Z"
   },
   {
    "duration": 632,
    "start_time": "2022-08-09T18:36:42.671Z"
   },
   {
    "duration": 721,
    "start_time": "2022-08-09T18:36:51.773Z"
   },
   {
    "duration": 703,
    "start_time": "2022-08-09T18:37:47.151Z"
   },
   {
    "duration": 3,
    "start_time": "2022-08-09T18:37:53.274Z"
   },
   {
    "duration": 55,
    "start_time": "2022-08-09T18:37:53.279Z"
   },
   {
    "duration": 17,
    "start_time": "2022-08-09T18:37:53.335Z"
   },
   {
    "duration": 23,
    "start_time": "2022-08-09T18:37:53.355Z"
   },
   {
    "duration": 18,
    "start_time": "2022-08-09T18:37:53.380Z"
   },
   {
    "duration": 16,
    "start_time": "2022-08-09T18:37:53.410Z"
   },
   {
    "duration": 22,
    "start_time": "2022-08-09T18:37:53.428Z"
   },
   {
    "duration": 12,
    "start_time": "2022-08-09T18:37:53.451Z"
   },
   {
    "duration": 56,
    "start_time": "2022-08-09T18:37:53.465Z"
   },
   {
    "duration": 8,
    "start_time": "2022-08-09T18:37:53.523Z"
   },
   {
    "duration": 6,
    "start_time": "2022-08-09T18:37:53.533Z"
   },
   {
    "duration": 7,
    "start_time": "2022-08-09T18:37:55.688Z"
   },
   {
    "duration": 6,
    "start_time": "2022-08-09T18:38:04.722Z"
   },
   {
    "duration": 7,
    "start_time": "2022-08-09T18:38:10.823Z"
   },
   {
    "duration": 3,
    "start_time": "2022-08-09T18:38:14.577Z"
   },
   {
    "duration": 56,
    "start_time": "2022-08-09T18:38:14.582Z"
   },
   {
    "duration": 16,
    "start_time": "2022-08-09T18:38:14.639Z"
   },
   {
    "duration": 14,
    "start_time": "2022-08-09T18:38:14.657Z"
   },
   {
    "duration": 16,
    "start_time": "2022-08-09T18:38:14.672Z"
   },
   {
    "duration": 35,
    "start_time": "2022-08-09T18:38:14.690Z"
   },
   {
    "duration": 17,
    "start_time": "2022-08-09T18:38:14.727Z"
   },
   {
    "duration": 8,
    "start_time": "2022-08-09T18:38:14.746Z"
   },
   {
    "duration": 22,
    "start_time": "2022-08-09T18:38:14.757Z"
   },
   {
    "duration": 35,
    "start_time": "2022-08-09T18:38:14.780Z"
   },
   {
    "duration": 9,
    "start_time": "2022-08-09T18:38:14.816Z"
   },
   {
    "duration": 7,
    "start_time": "2022-08-09T18:38:16.690Z"
   },
   {
    "duration": 2,
    "start_time": "2022-08-09T18:39:54.706Z"
   },
   {
    "duration": 9,
    "start_time": "2022-08-09T18:39:56.866Z"
   },
   {
    "duration": 8,
    "start_time": "2022-08-09T18:41:28.048Z"
   },
   {
    "duration": 12,
    "start_time": "2022-08-09T18:41:36.280Z"
   },
   {
    "duration": 6,
    "start_time": "2022-08-09T18:41:47.973Z"
   },
   {
    "duration": 1084,
    "start_time": "2022-08-09T18:42:00.243Z"
   },
   {
    "duration": 52,
    "start_time": "2022-08-09T18:42:01.329Z"
   },
   {
    "duration": 20,
    "start_time": "2022-08-09T18:42:01.383Z"
   },
   {
    "duration": 12,
    "start_time": "2022-08-09T18:42:01.405Z"
   },
   {
    "duration": 16,
    "start_time": "2022-08-09T18:42:01.419Z"
   },
   {
    "duration": 37,
    "start_time": "2022-08-09T18:42:01.436Z"
   },
   {
    "duration": 23,
    "start_time": "2022-08-09T18:42:01.474Z"
   },
   {
    "duration": 9,
    "start_time": "2022-08-09T18:42:01.498Z"
   },
   {
    "duration": 28,
    "start_time": "2022-08-09T18:42:01.511Z"
   },
   {
    "duration": 18,
    "start_time": "2022-08-09T18:42:01.541Z"
   },
   {
    "duration": 15,
    "start_time": "2022-08-09T18:42:01.561Z"
   },
   {
    "duration": 20,
    "start_time": "2022-08-09T18:42:01.578Z"
   },
   {
    "duration": 7,
    "start_time": "2022-08-09T18:43:26.182Z"
   },
   {
    "duration": 2,
    "start_time": "2022-08-09T18:43:31.738Z"
   },
   {
    "duration": 67,
    "start_time": "2022-08-09T18:43:31.742Z"
   },
   {
    "duration": 17,
    "start_time": "2022-08-09T18:43:31.810Z"
   },
   {
    "duration": 44,
    "start_time": "2022-08-09T18:43:31.830Z"
   },
   {
    "duration": 23,
    "start_time": "2022-08-09T18:43:31.875Z"
   },
   {
    "duration": 34,
    "start_time": "2022-08-09T18:43:31.900Z"
   },
   {
    "duration": 22,
    "start_time": "2022-08-09T18:43:31.936Z"
   },
   {
    "duration": 8,
    "start_time": "2022-08-09T18:43:31.959Z"
   },
   {
    "duration": 50,
    "start_time": "2022-08-09T18:43:31.970Z"
   },
   {
    "duration": 9,
    "start_time": "2022-08-09T18:43:32.022Z"
   },
   {
    "duration": 6,
    "start_time": "2022-08-09T18:43:32.033Z"
   },
   {
    "duration": 11,
    "start_time": "2022-08-09T18:43:32.040Z"
   },
   {
    "duration": 7,
    "start_time": "2022-08-09T18:44:24.263Z"
   },
   {
    "duration": 1395,
    "start_time": "2022-08-09T18:44:50.627Z"
   },
   {
    "duration": 51,
    "start_time": "2022-08-09T18:44:52.024Z"
   },
   {
    "duration": 20,
    "start_time": "2022-08-09T18:44:52.076Z"
   },
   {
    "duration": 13,
    "start_time": "2022-08-09T18:44:52.098Z"
   },
   {
    "duration": 15,
    "start_time": "2022-08-09T18:44:52.113Z"
   },
   {
    "duration": 16,
    "start_time": "2022-08-09T18:44:52.129Z"
   },
   {
    "duration": 19,
    "start_time": "2022-08-09T18:44:52.146Z"
   },
   {
    "duration": 7,
    "start_time": "2022-08-09T18:44:52.166Z"
   },
   {
    "duration": 54,
    "start_time": "2022-08-09T18:44:52.174Z"
   },
   {
    "duration": 7,
    "start_time": "2022-08-09T18:44:52.230Z"
   },
   {
    "duration": 8,
    "start_time": "2022-08-09T18:44:52.238Z"
   },
   {
    "duration": 7,
    "start_time": "2022-08-09T18:44:54.163Z"
   },
   {
    "duration": 112,
    "start_time": "2022-08-09T18:45:52.921Z"
   },
   {
    "duration": 19,
    "start_time": "2022-08-09T18:46:02.481Z"
   },
   {
    "duration": 8,
    "start_time": "2022-08-09T18:46:09.290Z"
   },
   {
    "duration": 8,
    "start_time": "2022-08-09T18:46:25.905Z"
   },
   {
    "duration": 4,
    "start_time": "2022-08-09T18:49:15.128Z"
   },
   {
    "duration": 77,
    "start_time": "2022-08-09T18:49:15.135Z"
   },
   {
    "duration": 24,
    "start_time": "2022-08-09T18:49:15.215Z"
   },
   {
    "duration": 24,
    "start_time": "2022-08-09T18:49:15.242Z"
   },
   {
    "duration": 24,
    "start_time": "2022-08-09T18:49:15.269Z"
   },
   {
    "duration": 24,
    "start_time": "2022-08-09T18:49:15.311Z"
   },
   {
    "duration": 27,
    "start_time": "2022-08-09T18:49:15.338Z"
   },
   {
    "duration": 12,
    "start_time": "2022-08-09T18:49:15.371Z"
   },
   {
    "duration": 68,
    "start_time": "2022-08-09T18:49:15.385Z"
   },
   {
    "duration": 10,
    "start_time": "2022-08-09T18:49:15.456Z"
   },
   {
    "duration": 15,
    "start_time": "2022-08-09T18:49:15.468Z"
   },
   {
    "duration": 26,
    "start_time": "2022-08-09T18:49:15.485Z"
   },
   {
    "duration": 45,
    "start_time": "2022-08-09T18:49:15.512Z"
   },
   {
    "duration": 15,
    "start_time": "2022-08-09T18:49:15.559Z"
   },
   {
    "duration": 4,
    "start_time": "2022-08-09T18:50:12.773Z"
   },
   {
    "duration": 64,
    "start_time": "2022-08-09T18:50:12.779Z"
   },
   {
    "duration": 20,
    "start_time": "2022-08-09T18:50:12.844Z"
   },
   {
    "duration": 18,
    "start_time": "2022-08-09T18:50:12.867Z"
   },
   {
    "duration": 23,
    "start_time": "2022-08-09T18:50:12.887Z"
   },
   {
    "duration": 14,
    "start_time": "2022-08-09T18:50:12.912Z"
   },
   {
    "duration": 16,
    "start_time": "2022-08-09T18:50:12.928Z"
   },
   {
    "duration": 8,
    "start_time": "2022-08-09T18:50:12.946Z"
   },
   {
    "duration": 26,
    "start_time": "2022-08-09T18:50:12.956Z"
   },
   {
    "duration": 9,
    "start_time": "2022-08-09T18:50:13.010Z"
   },
   {
    "duration": 5,
    "start_time": "2022-08-09T18:50:13.020Z"
   },
   {
    "duration": 11,
    "start_time": "2022-08-09T18:50:13.027Z"
   },
   {
    "duration": 2,
    "start_time": "2022-08-09T18:50:13.040Z"
   },
   {
    "duration": 13,
    "start_time": "2022-08-09T18:50:13.043Z"
   },
   {
    "duration": 8,
    "start_time": "2022-08-09T18:50:13.058Z"
   },
   {
    "duration": 8,
    "start_time": "2022-08-09T18:50:13.068Z"
   },
   {
    "duration": 5,
    "start_time": "2022-08-09T18:50:13.078Z"
   },
   {
    "duration": 30,
    "start_time": "2022-08-09T18:50:13.084Z"
   },
   {
    "duration": 11590,
    "start_time": "2022-08-09T18:50:13.115Z"
   },
   {
    "duration": 5,
    "start_time": "2022-08-09T18:52:38.652Z"
   },
   {
    "duration": 15,
    "start_time": "2022-08-09T18:52:47.487Z"
   },
   {
    "duration": 3,
    "start_time": "2022-08-09T18:53:28.377Z"
   },
   {
    "duration": 55,
    "start_time": "2022-08-09T18:53:28.383Z"
   },
   {
    "duration": 16,
    "start_time": "2022-08-09T18:53:28.440Z"
   },
   {
    "duration": 14,
    "start_time": "2022-08-09T18:53:28.459Z"
   },
   {
    "duration": 36,
    "start_time": "2022-08-09T18:53:28.475Z"
   },
   {
    "duration": 15,
    "start_time": "2022-08-09T18:53:28.513Z"
   },
   {
    "duration": 18,
    "start_time": "2022-08-09T18:53:28.531Z"
   },
   {
    "duration": 12,
    "start_time": "2022-08-09T18:53:28.551Z"
   },
   {
    "duration": 61,
    "start_time": "2022-08-09T18:53:28.564Z"
   },
   {
    "duration": 14,
    "start_time": "2022-08-09T18:53:28.629Z"
   },
   {
    "duration": 7,
    "start_time": "2022-08-09T18:53:28.644Z"
   },
   {
    "duration": 13,
    "start_time": "2022-08-09T18:53:28.653Z"
   },
   {
    "duration": 9,
    "start_time": "2022-08-09T18:53:28.668Z"
   },
   {
    "duration": 33,
    "start_time": "2022-08-09T18:53:28.679Z"
   },
   {
    "duration": 9,
    "start_time": "2022-08-09T18:53:28.714Z"
   },
   {
    "duration": 12,
    "start_time": "2022-08-09T18:53:28.725Z"
   },
   {
    "duration": 11,
    "start_time": "2022-08-09T18:53:28.739Z"
   },
   {
    "duration": 13,
    "start_time": "2022-08-09T18:53:28.751Z"
   },
   {
    "duration": 12161,
    "start_time": "2022-08-09T18:53:28.766Z"
   },
   {
    "duration": 7,
    "start_time": "2022-08-09T18:53:40.929Z"
   },
   {
    "duration": 30,
    "start_time": "2022-08-09T18:53:40.938Z"
   },
   {
    "duration": 9,
    "start_time": "2022-08-09T18:53:40.970Z"
   },
   {
    "duration": 32,
    "start_time": "2022-08-09T18:53:40.980Z"
   },
   {
    "duration": 3,
    "start_time": "2022-08-09T18:56:37.162Z"
   },
   {
    "duration": 53,
    "start_time": "2022-08-09T18:56:37.167Z"
   },
   {
    "duration": 20,
    "start_time": "2022-08-09T18:56:37.221Z"
   },
   {
    "duration": 18,
    "start_time": "2022-08-09T18:56:37.243Z"
   },
   {
    "duration": 15,
    "start_time": "2022-08-09T18:56:37.263Z"
   },
   {
    "duration": 18,
    "start_time": "2022-08-09T18:56:37.279Z"
   },
   {
    "duration": 18,
    "start_time": "2022-08-09T18:56:37.311Z"
   },
   {
    "duration": 10,
    "start_time": "2022-08-09T18:56:37.331Z"
   },
   {
    "duration": 26,
    "start_time": "2022-08-09T18:56:37.342Z"
   },
   {
    "duration": 9,
    "start_time": "2022-08-09T18:56:37.372Z"
   },
   {
    "duration": 32,
    "start_time": "2022-08-09T18:56:37.382Z"
   },
   {
    "duration": 8,
    "start_time": "2022-08-09T18:56:37.416Z"
   },
   {
    "duration": 2,
    "start_time": "2022-08-09T18:56:37.426Z"
   },
   {
    "duration": 19,
    "start_time": "2022-08-09T18:56:37.430Z"
   },
   {
    "duration": 7,
    "start_time": "2022-08-09T18:56:37.451Z"
   },
   {
    "duration": 9,
    "start_time": "2022-08-09T18:56:37.460Z"
   },
   {
    "duration": 14,
    "start_time": "2022-08-09T18:56:37.470Z"
   },
   {
    "duration": 28,
    "start_time": "2022-08-09T18:56:37.485Z"
   },
   {
    "duration": 12053,
    "start_time": "2022-08-09T18:56:37.515Z"
   },
   {
    "duration": 5,
    "start_time": "2022-08-09T18:56:49.569Z"
   },
   {
    "duration": 19,
    "start_time": "2022-08-09T18:56:49.575Z"
   },
   {
    "duration": 2,
    "start_time": "2022-08-09T18:56:49.596Z"
   },
   {
    "duration": 24,
    "start_time": "2022-08-09T18:56:49.599Z"
   },
   {
    "duration": 16,
    "start_time": "2022-08-09T18:57:17.520Z"
   },
   {
    "duration": 181,
    "start_time": "2022-08-09T19:05:27.682Z"
   },
   {
    "duration": 58,
    "start_time": "2022-08-09T19:08:32.491Z"
   },
   {
    "duration": 66,
    "start_time": "2022-08-09T19:08:46.744Z"
   },
   {
    "duration": 58,
    "start_time": "2022-08-09T19:08:52.825Z"
   },
   {
    "duration": 190,
    "start_time": "2022-08-09T19:10:20.565Z"
   },
   {
    "duration": 206,
    "start_time": "2022-08-09T19:10:38.724Z"
   },
   {
    "duration": 250,
    "start_time": "2022-08-09T19:10:47.372Z"
   },
   {
    "duration": 176,
    "start_time": "2022-08-09T19:12:27.800Z"
   },
   {
    "duration": 139,
    "start_time": "2022-08-09T19:14:23.702Z"
   },
   {
    "duration": 149,
    "start_time": "2022-08-09T19:14:47.648Z"
   },
   {
    "duration": 148,
    "start_time": "2022-08-09T19:15:23.401Z"
   },
   {
    "duration": 164,
    "start_time": "2022-08-09T19:15:30.912Z"
   },
   {
    "duration": 251,
    "start_time": "2022-08-09T19:16:21.108Z"
   },
   {
    "duration": 16,
    "start_time": "2022-08-09T19:17:08.562Z"
   },
   {
    "duration": 10,
    "start_time": "2022-08-09T19:17:12.664Z"
   },
   {
    "duration": 3335,
    "start_time": "2022-08-09T19:17:13.224Z"
   },
   {
    "duration": 22,
    "start_time": "2022-08-09T19:18:40.077Z"
   },
   {
    "duration": 17,
    "start_time": "2022-08-09T19:19:18.991Z"
   },
   {
    "duration": 1137,
    "start_time": "2022-08-09T19:19:22.265Z"
   },
   {
    "duration": 4,
    "start_time": "2022-08-09T19:20:20.552Z"
   },
   {
    "duration": 189,
    "start_time": "2022-08-09T19:20:21.348Z"
   },
   {
    "duration": 27,
    "start_time": "2022-08-09T19:21:20.955Z"
   },
   {
    "duration": 7,
    "start_time": "2022-08-09T19:23:21.902Z"
   },
   {
    "duration": 9,
    "start_time": "2022-08-09T19:23:43.423Z"
   },
   {
    "duration": 9,
    "start_time": "2022-08-09T19:26:08.134Z"
   },
   {
    "duration": 26,
    "start_time": "2022-08-09T19:26:15.342Z"
   },
   {
    "duration": 8,
    "start_time": "2022-08-09T19:26:44.073Z"
   },
   {
    "duration": 8,
    "start_time": "2022-08-09T19:26:59.879Z"
   },
   {
    "duration": 9,
    "start_time": "2022-08-09T19:36:50.480Z"
   },
   {
    "duration": 4,
    "start_time": "2022-08-09T19:37:00.564Z"
   },
   {
    "duration": 33,
    "start_time": "2022-08-09T19:37:01.991Z"
   },
   {
    "duration": 136,
    "start_time": "2022-08-09T19:37:03.102Z"
   },
   {
    "duration": 139,
    "start_time": "2022-08-09T19:37:05.663Z"
   },
   {
    "duration": 143,
    "start_time": "2022-08-09T19:37:11.370Z"
   },
   {
    "duration": 140,
    "start_time": "2022-08-09T19:37:22.357Z"
   },
   {
    "duration": 139,
    "start_time": "2022-08-09T19:42:15.818Z"
   },
   {
    "duration": 21,
    "start_time": "2022-08-09T19:42:26.295Z"
   },
   {
    "duration": 290,
    "start_time": "2022-08-09T19:42:27.468Z"
   },
   {
    "duration": 19,
    "start_time": "2022-08-09T19:43:55.334Z"
   },
   {
    "duration": 575,
    "start_time": "2022-08-09T19:43:56.157Z"
   },
   {
    "duration": 17,
    "start_time": "2022-08-09T19:48:15.958Z"
   },
   {
    "duration": 585,
    "start_time": "2022-08-09T19:48:16.651Z"
   },
   {
    "duration": 16,
    "start_time": "2022-08-09T19:48:38.138Z"
   },
   {
    "duration": 12,
    "start_time": "2022-08-09T20:05:50.528Z"
   },
   {
    "duration": 12,
    "start_time": "2022-08-09T20:05:58.286Z"
   },
   {
    "duration": 79,
    "start_time": "2022-08-09T20:06:14.245Z"
   },
   {
    "duration": 44,
    "start_time": "2022-08-09T20:06:17.521Z"
   },
   {
    "duration": 5,
    "start_time": "2022-08-09T20:06:20.280Z"
   },
   {
    "duration": 6,
    "start_time": "2022-08-09T20:08:52.526Z"
   },
   {
    "duration": 7,
    "start_time": "2022-08-09T20:08:59.843Z"
   },
   {
    "duration": 1092,
    "start_time": "2022-08-09T20:09:49.626Z"
   },
   {
    "duration": 52,
    "start_time": "2022-08-09T20:09:50.719Z"
   },
   {
    "duration": 21,
    "start_time": "2022-08-09T20:09:50.772Z"
   },
   {
    "duration": 13,
    "start_time": "2022-08-09T20:09:50.795Z"
   },
   {
    "duration": 14,
    "start_time": "2022-08-09T20:09:50.810Z"
   },
   {
    "duration": 28,
    "start_time": "2022-08-09T20:09:50.826Z"
   },
   {
    "duration": 21,
    "start_time": "2022-08-09T20:09:50.855Z"
   },
   {
    "duration": 9,
    "start_time": "2022-08-09T20:09:50.878Z"
   },
   {
    "duration": 40,
    "start_time": "2022-08-09T20:09:50.888Z"
   },
   {
    "duration": 9,
    "start_time": "2022-08-09T20:09:50.931Z"
   },
   {
    "duration": 6,
    "start_time": "2022-08-09T20:09:50.941Z"
   },
   {
    "duration": 16,
    "start_time": "2022-08-09T20:09:50.949Z"
   },
   {
    "duration": 6,
    "start_time": "2022-08-09T20:09:50.967Z"
   },
   {
    "duration": 14,
    "start_time": "2022-08-09T20:09:50.975Z"
   },
   {
    "duration": 22,
    "start_time": "2022-08-09T20:09:50.991Z"
   },
   {
    "duration": 5,
    "start_time": "2022-08-09T20:09:51.014Z"
   },
   {
    "duration": 8,
    "start_time": "2022-08-09T20:09:51.021Z"
   },
   {
    "duration": 24,
    "start_time": "2022-08-09T20:09:51.031Z"
   },
   {
    "duration": 11937,
    "start_time": "2022-08-09T20:09:51.057Z"
   },
   {
    "duration": 5,
    "start_time": "2022-08-09T20:10:02.996Z"
   },
   {
    "duration": 25,
    "start_time": "2022-08-09T20:10:03.002Z"
   },
   {
    "duration": 4,
    "start_time": "2022-08-09T20:10:03.028Z"
   },
   {
    "duration": 12,
    "start_time": "2022-08-09T20:10:03.034Z"
   },
   {
    "duration": 3,
    "start_time": "2022-08-09T20:11:02.432Z"
   },
   {
    "duration": 68,
    "start_time": "2022-08-09T20:11:02.437Z"
   },
   {
    "duration": 20,
    "start_time": "2022-08-09T20:11:02.507Z"
   },
   {
    "duration": 29,
    "start_time": "2022-08-09T20:11:02.529Z"
   },
   {
    "duration": 30,
    "start_time": "2022-08-09T20:11:02.561Z"
   },
   {
    "duration": 30,
    "start_time": "2022-08-09T20:11:02.593Z"
   },
   {
    "duration": 23,
    "start_time": "2022-08-09T20:11:02.625Z"
   },
   {
    "duration": 11,
    "start_time": "2022-08-09T20:11:02.650Z"
   },
   {
    "duration": 55,
    "start_time": "2022-08-09T20:11:02.663Z"
   },
   {
    "duration": 21,
    "start_time": "2022-08-09T20:11:02.719Z"
   },
   {
    "duration": 15,
    "start_time": "2022-08-09T20:11:02.742Z"
   },
   {
    "duration": 10,
    "start_time": "2022-08-09T20:11:02.759Z"
   },
   {
    "duration": 7,
    "start_time": "2022-08-09T20:11:02.772Z"
   },
   {
    "duration": 20,
    "start_time": "2022-08-09T20:11:02.782Z"
   },
   {
    "duration": 14,
    "start_time": "2022-08-09T20:11:02.810Z"
   },
   {
    "duration": 13,
    "start_time": "2022-08-09T20:11:02.826Z"
   },
   {
    "duration": 11,
    "start_time": "2022-08-09T20:11:02.841Z"
   },
   {
    "duration": 16,
    "start_time": "2022-08-09T20:11:02.854Z"
   },
   {
    "duration": 11336,
    "start_time": "2022-08-09T20:11:02.872Z"
   },
   {
    "duration": 5,
    "start_time": "2022-08-09T20:11:14.210Z"
   },
   {
    "duration": 15,
    "start_time": "2022-08-09T20:11:14.217Z"
   },
   {
    "duration": 6,
    "start_time": "2022-08-09T20:11:14.234Z"
   },
   {
    "duration": 8,
    "start_time": "2022-08-09T20:11:14.241Z"
   },
   {
    "duration": 6,
    "start_time": "2022-08-09T20:11:14.251Z"
   },
   {
    "duration": 53,
    "start_time": "2022-08-09T20:11:14.259Z"
   },
   {
    "duration": 22,
    "start_time": "2022-08-09T20:11:14.314Z"
   },
   {
    "duration": 207,
    "start_time": "2022-08-09T20:11:14.338Z"
   },
   {
    "duration": 15,
    "start_time": "2022-08-09T20:11:14.546Z"
   },
   {
    "duration": 10,
    "start_time": "2022-08-09T20:11:14.562Z"
   },
   {
    "duration": 3281,
    "start_time": "2022-08-09T20:11:14.574Z"
   },
   {
    "duration": 30,
    "start_time": "2022-08-09T20:11:17.856Z"
   },
   {
    "duration": 33,
    "start_time": "2022-08-09T20:11:17.888Z"
   },
   {
    "duration": 994,
    "start_time": "2022-08-09T20:11:17.923Z"
   },
   {
    "duration": 5,
    "start_time": "2022-08-09T20:11:18.919Z"
   },
   {
    "duration": 204,
    "start_time": "2022-08-09T20:11:18.925Z"
   },
   {
    "duration": 8,
    "start_time": "2022-08-09T20:11:19.131Z"
   },
   {
    "duration": 16,
    "start_time": "2022-08-09T20:11:19.143Z"
   },
   {
    "duration": 18,
    "start_time": "2022-08-09T20:11:19.161Z"
   },
   {
    "duration": 29,
    "start_time": "2022-08-09T20:11:19.181Z"
   },
   {
    "duration": 140,
    "start_time": "2022-08-09T20:11:19.211Z"
   },
   {
    "duration": 148,
    "start_time": "2022-08-09T20:11:19.353Z"
   },
   {
    "duration": 140,
    "start_time": "2022-08-09T20:11:19.511Z"
   },
   {
    "duration": 208,
    "start_time": "2022-08-09T20:11:19.652Z"
   },
   {
    "duration": 186,
    "start_time": "2022-08-09T20:11:19.862Z"
   },
   {
    "duration": 17,
    "start_time": "2022-08-09T20:11:20.050Z"
   },
   {
    "duration": 220,
    "start_time": "2022-08-09T20:11:20.069Z"
   },
   {
    "duration": 16,
    "start_time": "2022-08-09T20:11:20.291Z"
   },
   {
    "duration": 538,
    "start_time": "2022-08-09T20:11:20.311Z"
   },
   {
    "duration": 15,
    "start_time": "2022-08-09T20:11:20.851Z"
   },
   {
    "duration": 714,
    "start_time": "2022-08-09T20:11:20.868Z"
   },
   {
    "duration": 16,
    "start_time": "2022-08-09T20:11:27.736Z"
   },
   {
    "duration": 617,
    "start_time": "2022-08-09T20:14:12.608Z"
   },
   {
    "duration": 51,
    "start_time": "2022-08-09T20:31:17.267Z"
   },
   {
    "duration": 1080,
    "start_time": "2022-08-09T20:31:22.728Z"
   },
   {
    "duration": 51,
    "start_time": "2022-08-09T20:31:23.810Z"
   },
   {
    "duration": 20,
    "start_time": "2022-08-09T20:31:23.863Z"
   },
   {
    "duration": 13,
    "start_time": "2022-08-09T20:31:23.885Z"
   },
   {
    "duration": 14,
    "start_time": "2022-08-09T20:31:23.899Z"
   },
   {
    "duration": 17,
    "start_time": "2022-08-09T20:31:23.914Z"
   },
   {
    "duration": 18,
    "start_time": "2022-08-09T20:31:23.932Z"
   },
   {
    "duration": 7,
    "start_time": "2022-08-09T20:31:23.951Z"
   },
   {
    "duration": 23,
    "start_time": "2022-08-09T20:31:23.959Z"
   },
   {
    "duration": 10,
    "start_time": "2022-08-09T20:31:24.010Z"
   },
   {
    "duration": 5,
    "start_time": "2022-08-09T20:31:24.022Z"
   },
   {
    "duration": 8,
    "start_time": "2022-08-09T20:31:24.029Z"
   },
   {
    "duration": 3,
    "start_time": "2022-08-09T20:31:24.038Z"
   },
   {
    "duration": 10,
    "start_time": "2022-08-09T20:31:24.043Z"
   },
   {
    "duration": 4,
    "start_time": "2022-08-09T20:31:24.055Z"
   },
   {
    "duration": 6,
    "start_time": "2022-08-09T20:31:24.061Z"
   },
   {
    "duration": 5,
    "start_time": "2022-08-09T20:31:24.111Z"
   },
   {
    "duration": 9,
    "start_time": "2022-08-09T20:31:24.118Z"
   },
   {
    "duration": 6,
    "start_time": "2022-08-09T20:31:24.128Z"
   },
   {
    "duration": 73,
    "start_time": "2022-08-09T20:31:27.181Z"
   },
   {
    "duration": 9,
    "start_time": "2022-08-09T20:31:33.451Z"
   },
   {
    "duration": 3,
    "start_time": "2022-08-09T20:31:40.220Z"
   },
   {
    "duration": 52,
    "start_time": "2022-08-09T20:31:40.226Z"
   },
   {
    "duration": 19,
    "start_time": "2022-08-09T20:31:40.280Z"
   },
   {
    "duration": 21,
    "start_time": "2022-08-09T20:31:40.301Z"
   },
   {
    "duration": 20,
    "start_time": "2022-08-09T20:31:40.325Z"
   },
   {
    "duration": 20,
    "start_time": "2022-08-09T20:31:40.347Z"
   },
   {
    "duration": 18,
    "start_time": "2022-08-09T20:31:40.369Z"
   },
   {
    "duration": 28,
    "start_time": "2022-08-09T20:31:40.389Z"
   },
   {
    "duration": 23,
    "start_time": "2022-08-09T20:31:40.418Z"
   },
   {
    "duration": 13,
    "start_time": "2022-08-09T20:31:40.443Z"
   },
   {
    "duration": 5,
    "start_time": "2022-08-09T20:31:40.458Z"
   },
   {
    "duration": 15,
    "start_time": "2022-08-09T20:31:40.465Z"
   },
   {
    "duration": 2,
    "start_time": "2022-08-09T20:31:40.482Z"
   },
   {
    "duration": 10,
    "start_time": "2022-08-09T20:31:40.511Z"
   },
   {
    "duration": 8,
    "start_time": "2022-08-09T20:31:40.523Z"
   },
   {
    "duration": 10,
    "start_time": "2022-08-09T20:31:40.533Z"
   },
   {
    "duration": 6,
    "start_time": "2022-08-09T20:31:40.545Z"
   },
   {
    "duration": 9,
    "start_time": "2022-08-09T20:31:40.553Z"
   },
   {
    "duration": 6,
    "start_time": "2022-08-09T20:31:40.564Z"
   },
   {
    "duration": 13,
    "start_time": "2022-08-09T20:31:40.572Z"
   },
   {
    "duration": 9,
    "start_time": "2022-08-09T20:33:05.364Z"
   },
   {
    "duration": 8,
    "start_time": "2022-08-09T20:33:18.730Z"
   },
   {
    "duration": 23,
    "start_time": "2022-08-09T20:33:23.049Z"
   },
   {
    "duration": 8,
    "start_time": "2022-08-09T20:33:34.593Z"
   },
   {
    "duration": 5,
    "start_time": "2022-08-09T20:33:54.279Z"
   },
   {
    "duration": 8,
    "start_time": "2022-08-09T20:34:03.759Z"
   },
   {
    "duration": 5,
    "start_time": "2022-08-09T20:34:04.595Z"
   },
   {
    "duration": 8,
    "start_time": "2022-08-09T20:34:07.031Z"
   },
   {
    "duration": 5,
    "start_time": "2022-08-09T20:34:07.745Z"
   },
   {
    "duration": 3,
    "start_time": "2022-08-09T20:34:11.376Z"
   },
   {
    "duration": 55,
    "start_time": "2022-08-09T20:34:11.381Z"
   },
   {
    "duration": 19,
    "start_time": "2022-08-09T20:34:11.438Z"
   },
   {
    "duration": 23,
    "start_time": "2022-08-09T20:34:11.460Z"
   },
   {
    "duration": 14,
    "start_time": "2022-08-09T20:34:11.485Z"
   },
   {
    "duration": 23,
    "start_time": "2022-08-09T20:34:11.501Z"
   },
   {
    "duration": 18,
    "start_time": "2022-08-09T20:34:11.526Z"
   },
   {
    "duration": 8,
    "start_time": "2022-08-09T20:34:11.546Z"
   },
   {
    "duration": 24,
    "start_time": "2022-08-09T20:34:11.556Z"
   },
   {
    "duration": 9,
    "start_time": "2022-08-09T20:34:11.611Z"
   },
   {
    "duration": 6,
    "start_time": "2022-08-09T20:34:11.621Z"
   },
   {
    "duration": 9,
    "start_time": "2022-08-09T20:34:11.628Z"
   },
   {
    "duration": 2,
    "start_time": "2022-08-09T20:34:11.638Z"
   },
   {
    "duration": 10,
    "start_time": "2022-08-09T20:34:11.642Z"
   },
   {
    "duration": 5,
    "start_time": "2022-08-09T20:34:11.653Z"
   },
   {
    "duration": 5,
    "start_time": "2022-08-09T20:34:11.660Z"
   },
   {
    "duration": 45,
    "start_time": "2022-08-09T20:34:11.667Z"
   },
   {
    "duration": 7,
    "start_time": "2022-08-09T20:34:11.714Z"
   },
   {
    "duration": 6,
    "start_time": "2022-08-09T20:34:11.722Z"
   },
   {
    "duration": 23,
    "start_time": "2022-08-09T20:34:11.729Z"
   },
   {
    "duration": 5,
    "start_time": "2022-08-09T20:34:13.563Z"
   },
   {
    "duration": 9,
    "start_time": "2022-08-09T20:34:19.599Z"
   },
   {
    "duration": 8,
    "start_time": "2022-08-09T20:34:26.426Z"
   },
   {
    "duration": 8,
    "start_time": "2022-08-09T20:35:38.069Z"
   },
   {
    "duration": 3,
    "start_time": "2022-08-09T20:35:42.907Z"
   },
   {
    "duration": 58,
    "start_time": "2022-08-09T20:35:42.912Z"
   },
   {
    "duration": 16,
    "start_time": "2022-08-09T20:35:42.971Z"
   },
   {
    "duration": 15,
    "start_time": "2022-08-09T20:35:42.989Z"
   },
   {
    "duration": 16,
    "start_time": "2022-08-09T20:35:43.006Z"
   },
   {
    "duration": 42,
    "start_time": "2022-08-09T20:35:43.024Z"
   },
   {
    "duration": 24,
    "start_time": "2022-08-09T20:35:43.067Z"
   },
   {
    "duration": 8,
    "start_time": "2022-08-09T20:35:43.093Z"
   },
   {
    "duration": 22,
    "start_time": "2022-08-09T20:35:43.102Z"
   },
   {
    "duration": 8,
    "start_time": "2022-08-09T20:35:43.127Z"
   },
   {
    "duration": 4,
    "start_time": "2022-08-09T20:35:43.136Z"
   },
   {
    "duration": 13,
    "start_time": "2022-08-09T20:35:43.142Z"
   },
   {
    "duration": 4,
    "start_time": "2022-08-09T20:35:43.157Z"
   },
   {
    "duration": 21,
    "start_time": "2022-08-09T20:35:43.162Z"
   },
   {
    "duration": 12,
    "start_time": "2022-08-09T20:35:43.185Z"
   },
   {
    "duration": 16,
    "start_time": "2022-08-09T20:35:43.198Z"
   },
   {
    "duration": 8,
    "start_time": "2022-08-09T20:35:43.215Z"
   },
   {
    "duration": 15,
    "start_time": "2022-08-09T20:35:43.225Z"
   },
   {
    "duration": 9,
    "start_time": "2022-08-09T20:35:43.241Z"
   },
   {
    "duration": 9,
    "start_time": "2022-08-09T20:35:46.265Z"
   },
   {
    "duration": 9,
    "start_time": "2022-08-09T20:36:19.697Z"
   },
   {
    "duration": 4,
    "start_time": "2022-08-09T20:37:22.247Z"
   },
   {
    "duration": 84,
    "start_time": "2022-08-09T20:37:22.253Z"
   },
   {
    "duration": 16,
    "start_time": "2022-08-09T20:37:22.338Z"
   },
   {
    "duration": 33,
    "start_time": "2022-08-09T20:37:22.356Z"
   },
   {
    "duration": 25,
    "start_time": "2022-08-09T20:37:22.391Z"
   },
   {
    "duration": 33,
    "start_time": "2022-08-09T20:37:22.418Z"
   },
   {
    "duration": 24,
    "start_time": "2022-08-09T20:37:22.453Z"
   },
   {
    "duration": 17,
    "start_time": "2022-08-09T20:37:22.478Z"
   },
   {
    "duration": 55,
    "start_time": "2022-08-09T20:37:22.497Z"
   },
   {
    "duration": 11,
    "start_time": "2022-08-09T20:37:22.556Z"
   },
   {
    "duration": 25,
    "start_time": "2022-08-09T20:37:22.569Z"
   },
   {
    "duration": 32,
    "start_time": "2022-08-09T20:37:22.595Z"
   },
   {
    "duration": 23,
    "start_time": "2022-08-09T20:37:22.628Z"
   },
   {
    "duration": 37,
    "start_time": "2022-08-09T20:37:22.653Z"
   },
   {
    "duration": 26,
    "start_time": "2022-08-09T20:37:22.692Z"
   },
   {
    "duration": 25,
    "start_time": "2022-08-09T20:37:22.720Z"
   },
   {
    "duration": 32,
    "start_time": "2022-08-09T20:37:22.746Z"
   },
   {
    "duration": 19,
    "start_time": "2022-08-09T20:37:22.780Z"
   },
   {
    "duration": 10,
    "start_time": "2022-08-09T20:37:22.800Z"
   },
   {
    "duration": 22,
    "start_time": "2022-08-09T20:37:22.811Z"
   },
   {
    "duration": 5,
    "start_time": "2022-08-09T20:37:26.074Z"
   },
   {
    "duration": 5,
    "start_time": "2022-08-09T20:37:46.415Z"
   },
   {
    "duration": 12,
    "start_time": "2022-08-09T20:37:47.809Z"
   },
   {
    "duration": 12,
    "start_time": "2022-08-09T20:37:53.402Z"
   },
   {
    "duration": 1106,
    "start_time": "2022-08-09T20:38:30.110Z"
   },
   {
    "duration": 51,
    "start_time": "2022-08-09T20:38:31.217Z"
   },
   {
    "duration": 20,
    "start_time": "2022-08-09T20:38:31.269Z"
   },
   {
    "duration": 25,
    "start_time": "2022-08-09T20:38:31.291Z"
   },
   {
    "duration": 14,
    "start_time": "2022-08-09T20:38:31.318Z"
   },
   {
    "duration": 25,
    "start_time": "2022-08-09T20:38:31.334Z"
   },
   {
    "duration": 22,
    "start_time": "2022-08-09T20:38:31.360Z"
   },
   {
    "duration": 7,
    "start_time": "2022-08-09T20:38:31.384Z"
   },
   {
    "duration": 32,
    "start_time": "2022-08-09T20:38:31.393Z"
   },
   {
    "duration": 13,
    "start_time": "2022-08-09T20:38:31.428Z"
   },
   {
    "duration": 18,
    "start_time": "2022-08-09T20:38:31.443Z"
   },
   {
    "duration": 14,
    "start_time": "2022-08-09T20:38:31.462Z"
   },
   {
    "duration": 3,
    "start_time": "2022-08-09T20:38:31.477Z"
   },
   {
    "duration": 30,
    "start_time": "2022-08-09T20:38:31.481Z"
   },
   {
    "duration": 9,
    "start_time": "2022-08-09T20:38:31.513Z"
   },
   {
    "duration": 13,
    "start_time": "2022-08-09T20:38:31.523Z"
   },
   {
    "duration": 12,
    "start_time": "2022-08-09T20:38:31.537Z"
   },
   {
    "duration": 32,
    "start_time": "2022-08-09T20:38:31.551Z"
   },
   {
    "duration": 15,
    "start_time": "2022-08-09T20:38:31.584Z"
   },
   {
    "duration": 20,
    "start_time": "2022-08-09T20:38:31.600Z"
   },
   {
    "duration": 13,
    "start_time": "2022-08-09T20:38:31.622Z"
   },
   {
    "duration": 5,
    "start_time": "2022-08-09T20:38:31.636Z"
   },
   {
    "duration": 7,
    "start_time": "2022-08-09T20:38:31.642Z"
   },
   {
    "duration": 3,
    "start_time": "2022-08-09T20:38:31.651Z"
   },
   {
    "duration": 19,
    "start_time": "2022-08-09T20:38:31.656Z"
   },
   {
    "duration": 45,
    "start_time": "2022-08-09T20:38:31.676Z"
   },
   {
    "duration": 199,
    "start_time": "2022-08-09T20:38:31.723Z"
   },
   {
    "duration": 15,
    "start_time": "2022-08-09T20:38:31.925Z"
   },
   {
    "duration": 8,
    "start_time": "2022-08-09T20:38:31.942Z"
   },
   {
    "duration": 1064,
    "start_time": "2022-08-09T20:38:57.870Z"
   },
   {
    "duration": 53,
    "start_time": "2022-08-09T20:38:58.936Z"
   },
   {
    "duration": 22,
    "start_time": "2022-08-09T20:38:58.990Z"
   },
   {
    "duration": 13,
    "start_time": "2022-08-09T20:38:59.014Z"
   },
   {
    "duration": 30,
    "start_time": "2022-08-09T20:38:59.029Z"
   },
   {
    "duration": 31,
    "start_time": "2022-08-09T20:38:59.061Z"
   },
   {
    "duration": 25,
    "start_time": "2022-08-09T20:38:59.093Z"
   },
   {
    "duration": 9,
    "start_time": "2022-08-09T20:38:59.119Z"
   },
   {
    "duration": 43,
    "start_time": "2022-08-09T20:38:59.129Z"
   },
   {
    "duration": 9,
    "start_time": "2022-08-09T20:38:59.174Z"
   },
   {
    "duration": 18,
    "start_time": "2022-08-09T20:38:59.185Z"
   },
   {
    "duration": 12,
    "start_time": "2022-08-09T20:38:59.205Z"
   },
   {
    "duration": 2,
    "start_time": "2022-08-09T20:38:59.219Z"
   },
   {
    "duration": 19,
    "start_time": "2022-08-09T20:38:59.223Z"
   },
   {
    "duration": 5,
    "start_time": "2022-08-09T20:38:59.244Z"
   },
   {
    "duration": 9,
    "start_time": "2022-08-09T20:38:59.250Z"
   },
   {
    "duration": 6,
    "start_time": "2022-08-09T20:38:59.260Z"
   },
   {
    "duration": 10,
    "start_time": "2022-08-09T20:38:59.267Z"
   },
   {
    "duration": 3,
    "start_time": "2022-08-09T20:38:59.279Z"
   },
   {
    "duration": 15,
    "start_time": "2022-08-09T20:38:59.310Z"
   },
   {
    "duration": 16,
    "start_time": "2022-08-09T20:38:59.326Z"
   },
   {
    "duration": 5,
    "start_time": "2022-08-09T20:38:59.343Z"
   },
   {
    "duration": 7,
    "start_time": "2022-08-09T20:38:59.349Z"
   },
   {
    "duration": 4,
    "start_time": "2022-08-09T20:38:59.357Z"
   },
   {
    "duration": 52,
    "start_time": "2022-08-09T20:38:59.362Z"
   },
   {
    "duration": 19,
    "start_time": "2022-08-09T20:38:59.415Z"
   },
   {
    "duration": 243,
    "start_time": "2022-08-09T20:38:59.436Z"
   },
   {
    "duration": 16,
    "start_time": "2022-08-09T20:38:59.682Z"
   },
   {
    "duration": 8,
    "start_time": "2022-08-09T20:38:59.711Z"
   },
   {
    "duration": 3211,
    "start_time": "2022-08-09T20:38:59.720Z"
   },
   {
    "duration": 23,
    "start_time": "2022-08-09T20:39:02.933Z"
   },
   {
    "duration": 12,
    "start_time": "2022-08-09T20:39:02.957Z"
   },
   {
    "duration": 984,
    "start_time": "2022-08-09T20:39:02.970Z"
   },
   {
    "duration": 4,
    "start_time": "2022-08-09T20:39:03.955Z"
   },
   {
    "duration": 200,
    "start_time": "2022-08-09T20:39:03.960Z"
   },
   {
    "duration": 8,
    "start_time": "2022-08-09T20:39:04.162Z"
   },
   {
    "duration": 8,
    "start_time": "2022-08-09T20:39:04.171Z"
   },
   {
    "duration": 3,
    "start_time": "2022-08-09T20:40:05.791Z"
   },
   {
    "duration": 24,
    "start_time": "2022-08-09T20:40:55.554Z"
   },
   {
    "duration": 132,
    "start_time": "2022-08-09T20:40:57.861Z"
   },
   {
    "duration": 152,
    "start_time": "2022-08-09T20:43:08.542Z"
   },
   {
    "duration": 125,
    "start_time": "2022-08-09T20:43:14.730Z"
   },
   {
    "duration": 175,
    "start_time": "2022-08-09T20:43:21.225Z"
   },
   {
    "duration": 129,
    "start_time": "2022-08-09T20:43:25.611Z"
   },
   {
    "duration": 19,
    "start_time": "2022-08-09T20:43:51.920Z"
   },
   {
    "duration": 220,
    "start_time": "2022-08-09T20:43:53.853Z"
   },
   {
    "duration": 16,
    "start_time": "2022-08-09T20:43:56.651Z"
   },
   {
    "duration": 564,
    "start_time": "2022-08-09T20:43:57.216Z"
   },
   {
    "duration": 17,
    "start_time": "2022-08-09T20:44:01.062Z"
   },
   {
    "duration": 574,
    "start_time": "2022-08-09T20:44:01.799Z"
   },
   {
    "duration": 18,
    "start_time": "2022-08-09T20:44:05.655Z"
   },
   {
    "duration": 513,
    "start_time": "2022-08-09T20:44:08.554Z"
   },
   {
    "duration": 10,
    "start_time": "2022-08-09T20:44:13.190Z"
   },
   {
    "duration": 9,
    "start_time": "2022-08-09T20:44:18.326Z"
   },
   {
    "duration": 5,
    "start_time": "2022-08-09T20:44:19.248Z"
   },
   {
    "duration": 10,
    "start_time": "2022-08-09T20:44:23.823Z"
   },
   {
    "duration": 6,
    "start_time": "2022-08-09T20:44:24.507Z"
   },
   {
    "duration": 1122,
    "start_time": "2022-08-09T20:58:27.585Z"
   },
   {
    "duration": 52,
    "start_time": "2022-08-09T20:58:28.709Z"
   },
   {
    "duration": 20,
    "start_time": "2022-08-09T20:58:28.762Z"
   },
   {
    "duration": 13,
    "start_time": "2022-08-09T20:58:28.783Z"
   },
   {
    "duration": 15,
    "start_time": "2022-08-09T20:58:28.798Z"
   },
   {
    "duration": 16,
    "start_time": "2022-08-09T20:58:28.815Z"
   },
   {
    "duration": 18,
    "start_time": "2022-08-09T20:58:28.833Z"
   },
   {
    "duration": 8,
    "start_time": "2022-08-09T20:58:28.854Z"
   },
   {
    "duration": 22,
    "start_time": "2022-08-09T20:58:28.863Z"
   },
   {
    "duration": 10,
    "start_time": "2022-08-09T20:58:28.910Z"
   },
   {
    "duration": 9,
    "start_time": "2022-08-09T20:58:28.921Z"
   },
   {
    "duration": 10,
    "start_time": "2022-08-09T20:58:28.931Z"
   },
   {
    "duration": 2,
    "start_time": "2022-08-09T20:58:28.942Z"
   },
   {
    "duration": 11,
    "start_time": "2022-08-09T20:58:28.946Z"
   },
   {
    "duration": 5,
    "start_time": "2022-08-09T20:58:28.958Z"
   },
   {
    "duration": 7,
    "start_time": "2022-08-09T20:58:28.965Z"
   },
   {
    "duration": 43,
    "start_time": "2022-08-09T20:58:28.973Z"
   },
   {
    "duration": 14,
    "start_time": "2022-08-09T20:58:29.017Z"
   },
   {
    "duration": 4,
    "start_time": "2022-08-09T20:58:29.032Z"
   },
   {
    "duration": 14,
    "start_time": "2022-08-09T20:58:29.037Z"
   },
   {
    "duration": 18,
    "start_time": "2022-08-09T20:58:29.052Z"
   },
   {
    "duration": 5,
    "start_time": "2022-08-09T20:58:29.071Z"
   },
   {
    "duration": 7,
    "start_time": "2022-08-09T20:58:29.078Z"
   },
   {
    "duration": 3,
    "start_time": "2022-08-09T20:58:29.110Z"
   },
   {
    "duration": 20,
    "start_time": "2022-08-09T20:58:29.114Z"
   },
   {
    "duration": 16,
    "start_time": "2022-08-09T20:58:29.136Z"
   },
   {
    "duration": 203,
    "start_time": "2022-08-09T20:58:29.154Z"
   },
   {
    "duration": 15,
    "start_time": "2022-08-09T20:58:29.360Z"
   },
   {
    "duration": 9,
    "start_time": "2022-08-09T20:58:29.377Z"
   },
   {
    "duration": 3135,
    "start_time": "2022-08-09T20:58:29.388Z"
   },
   {
    "duration": 31,
    "start_time": "2022-08-09T20:58:32.526Z"
   },
   {
    "duration": 28,
    "start_time": "2022-08-09T20:58:32.559Z"
   },
   {
    "duration": 1115,
    "start_time": "2022-08-09T20:58:32.590Z"
   },
   {
    "duration": 6,
    "start_time": "2022-08-09T20:58:33.707Z"
   },
   {
    "duration": 234,
    "start_time": "2022-08-09T20:58:33.714Z"
   },
   {
    "duration": 9,
    "start_time": "2022-08-09T20:58:33.950Z"
   },
   {
    "duration": 14,
    "start_time": "2022-08-09T20:58:33.961Z"
   },
   {
    "duration": 5,
    "start_time": "2022-08-09T20:58:33.976Z"
   },
   {
    "duration": 42,
    "start_time": "2022-08-09T20:58:33.982Z"
   },
   {
    "duration": 155,
    "start_time": "2022-08-09T20:58:34.026Z"
   },
   {
    "duration": 154,
    "start_time": "2022-08-09T20:58:34.182Z"
   },
   {
    "duration": 153,
    "start_time": "2022-08-09T20:58:34.338Z"
   },
   {
    "duration": 206,
    "start_time": "2022-08-09T20:58:34.492Z"
   },
   {
    "duration": 134,
    "start_time": "2022-08-09T20:58:34.710Z"
   },
   {
    "duration": 20,
    "start_time": "2022-08-09T20:58:34.846Z"
   },
   {
    "duration": 272,
    "start_time": "2022-08-09T20:58:34.867Z"
   },
   {
    "duration": 16,
    "start_time": "2022-08-09T20:58:35.141Z"
   },
   {
    "duration": 659,
    "start_time": "2022-08-09T20:58:35.159Z"
   },
   {
    "duration": 18,
    "start_time": "2022-08-09T20:58:35.820Z"
   },
   {
    "duration": 622,
    "start_time": "2022-08-09T20:58:35.839Z"
   },
   {
    "duration": 18,
    "start_time": "2022-08-09T20:58:36.462Z"
   },
   {
    "duration": 591,
    "start_time": "2022-08-09T20:58:36.482Z"
   },
   {
    "duration": 11,
    "start_time": "2022-08-09T20:58:37.075Z"
   },
   {
    "duration": 27,
    "start_time": "2022-08-09T20:58:37.088Z"
   },
   {
    "duration": 5,
    "start_time": "2022-08-09T20:58:37.116Z"
   },
   {
    "duration": 13,
    "start_time": "2022-08-09T20:58:37.123Z"
   },
   {
    "duration": 9,
    "start_time": "2022-08-09T20:58:37.138Z"
   },
   {
    "duration": 1170,
    "start_time": "2022-08-10T13:14:20.398Z"
   },
   {
    "duration": 189,
    "start_time": "2022-08-10T13:14:21.569Z"
   },
   {
    "duration": 20,
    "start_time": "2022-08-10T13:14:21.759Z"
   },
   {
    "duration": 12,
    "start_time": "2022-08-10T13:14:21.781Z"
   },
   {
    "duration": 14,
    "start_time": "2022-08-10T13:14:21.794Z"
   },
   {
    "duration": 15,
    "start_time": "2022-08-10T13:14:21.809Z"
   },
   {
    "duration": 16,
    "start_time": "2022-08-10T13:14:31.089Z"
   },
   {
    "duration": 4,
    "start_time": "2022-08-10T13:14:38.482Z"
   },
   {
    "duration": 1044,
    "start_time": "2022-08-10T13:18:56.799Z"
   },
   {
    "duration": 48,
    "start_time": "2022-08-10T13:18:57.844Z"
   },
   {
    "duration": 18,
    "start_time": "2022-08-10T13:18:57.894Z"
   },
   {
    "duration": 12,
    "start_time": "2022-08-10T13:18:57.914Z"
   },
   {
    "duration": 14,
    "start_time": "2022-08-10T13:18:57.927Z"
   },
   {
    "duration": 17,
    "start_time": "2022-08-10T13:18:57.942Z"
   },
   {
    "duration": 17,
    "start_time": "2022-08-10T13:18:57.960Z"
   },
   {
    "duration": 8,
    "start_time": "2022-08-10T13:18:57.979Z"
   },
   {
    "duration": 22,
    "start_time": "2022-08-10T13:18:57.988Z"
   },
   {
    "duration": 9,
    "start_time": "2022-08-10T13:18:58.013Z"
   },
   {
    "duration": 34,
    "start_time": "2022-08-10T13:18:58.024Z"
   },
   {
    "duration": 9,
    "start_time": "2022-08-10T13:18:58.060Z"
   },
   {
    "duration": 2,
    "start_time": "2022-08-10T13:18:58.071Z"
   },
   {
    "duration": 10,
    "start_time": "2022-08-10T13:18:58.075Z"
   },
   {
    "duration": 5,
    "start_time": "2022-08-10T13:18:58.086Z"
   },
   {
    "duration": 6,
    "start_time": "2022-08-10T13:18:58.092Z"
   },
   {
    "duration": 6,
    "start_time": "2022-08-10T13:18:58.099Z"
   },
   {
    "duration": 9,
    "start_time": "2022-08-10T13:18:58.106Z"
   },
   {
    "duration": 2,
    "start_time": "2022-08-10T13:18:58.116Z"
   },
   {
    "duration": 48,
    "start_time": "2022-08-10T13:18:58.119Z"
   },
   {
    "duration": 14,
    "start_time": "2022-08-10T13:18:58.168Z"
   },
   {
    "duration": 4,
    "start_time": "2022-08-10T13:18:58.183Z"
   },
   {
    "duration": 8,
    "start_time": "2022-08-10T13:18:58.188Z"
   },
   {
    "duration": 3,
    "start_time": "2022-08-10T13:18:58.198Z"
   },
   {
    "duration": 17,
    "start_time": "2022-08-10T13:18:58.202Z"
   },
   {
    "duration": 42,
    "start_time": "2022-08-10T13:18:58.221Z"
   },
   {
    "duration": 181,
    "start_time": "2022-08-10T13:18:58.265Z"
   },
   {
    "duration": 15,
    "start_time": "2022-08-10T13:18:58.454Z"
   },
   {
    "duration": 8,
    "start_time": "2022-08-10T13:18:58.470Z"
   },
   {
    "duration": 3119,
    "start_time": "2022-08-10T13:18:58.480Z"
   },
   {
    "duration": 72,
    "start_time": "2022-08-10T13:19:01.601Z"
   },
   {
    "duration": 12,
    "start_time": "2022-08-10T13:19:01.674Z"
   },
   {
    "duration": 1322,
    "start_time": "2022-08-10T13:19:01.688Z"
   },
   {
    "duration": 5,
    "start_time": "2022-08-10T13:19:03.012Z"
   },
   {
    "duration": 180,
    "start_time": "2022-08-10T13:19:03.019Z"
   },
   {
    "duration": 9,
    "start_time": "2022-08-10T13:19:03.201Z"
   },
   {
    "duration": 11,
    "start_time": "2022-08-10T13:19:03.212Z"
   },
   {
    "duration": 13,
    "start_time": "2022-08-10T13:19:03.224Z"
   },
   {
    "duration": 35,
    "start_time": "2022-08-10T13:19:03.239Z"
   },
   {
    "duration": 146,
    "start_time": "2022-08-10T13:19:03.276Z"
   },
   {
    "duration": 138,
    "start_time": "2022-08-10T13:19:03.423Z"
   },
   {
    "duration": 127,
    "start_time": "2022-08-10T13:19:03.563Z"
   },
   {
    "duration": 193,
    "start_time": "2022-08-10T13:19:03.692Z"
   },
   {
    "duration": 124,
    "start_time": "2022-08-10T13:19:03.886Z"
   },
   {
    "duration": 17,
    "start_time": "2022-08-10T13:19:04.012Z"
   },
   {
    "duration": 218,
    "start_time": "2022-08-10T13:19:04.030Z"
   },
   {
    "duration": 19,
    "start_time": "2022-08-10T13:19:04.249Z"
   },
   {
    "duration": 562,
    "start_time": "2022-08-10T13:19:04.269Z"
   },
   {
    "duration": 22,
    "start_time": "2022-08-10T13:19:04.833Z"
   },
   {
    "duration": 602,
    "start_time": "2022-08-10T13:19:04.857Z"
   },
   {
    "duration": 15,
    "start_time": "2022-08-10T13:19:05.461Z"
   },
   {
    "duration": 555,
    "start_time": "2022-08-10T13:19:05.477Z"
   },
   {
    "duration": 9,
    "start_time": "2022-08-10T13:19:06.034Z"
   },
   {
    "duration": 13,
    "start_time": "2022-08-10T13:19:06.045Z"
   },
   {
    "duration": 9,
    "start_time": "2022-08-10T13:19:06.060Z"
   },
   {
    "duration": 7,
    "start_time": "2022-08-10T13:19:06.070Z"
   },
   {
    "duration": 5,
    "start_time": "2022-08-10T13:19:06.078Z"
   },
   {
    "duration": 1031,
    "start_time": "2022-08-10T13:20:58.802Z"
   },
   {
    "duration": 49,
    "start_time": "2022-08-10T13:20:59.835Z"
   },
   {
    "duration": 19,
    "start_time": "2022-08-10T13:20:59.886Z"
   },
   {
    "duration": 13,
    "start_time": "2022-08-10T13:20:59.906Z"
   },
   {
    "duration": 14,
    "start_time": "2022-08-10T13:20:59.921Z"
   },
   {
    "duration": 28,
    "start_time": "2022-08-10T13:20:59.936Z"
   },
   {
    "duration": 16,
    "start_time": "2022-08-10T13:20:59.966Z"
   },
   {
    "duration": 7,
    "start_time": "2022-08-10T13:20:59.984Z"
   },
   {
    "duration": 26,
    "start_time": "2022-08-10T13:20:59.992Z"
   },
   {
    "duration": 9,
    "start_time": "2022-08-10T13:21:00.020Z"
   },
   {
    "duration": 4,
    "start_time": "2022-08-10T13:21:00.055Z"
   },
   {
    "duration": 10,
    "start_time": "2022-08-10T13:21:00.061Z"
   },
   {
    "duration": 2,
    "start_time": "2022-08-10T13:21:00.073Z"
   },
   {
    "duration": 17,
    "start_time": "2022-08-10T13:21:00.078Z"
   },
   {
    "duration": 15,
    "start_time": "2022-08-10T13:21:00.096Z"
   },
   {
    "duration": 6,
    "start_time": "2022-08-10T13:21:00.113Z"
   },
   {
    "duration": 8,
    "start_time": "2022-08-10T13:21:00.120Z"
   },
   {
    "duration": 27,
    "start_time": "2022-08-10T13:21:00.129Z"
   },
   {
    "duration": 7,
    "start_time": "2022-08-10T13:21:00.158Z"
   },
   {
    "duration": 3,
    "start_time": "2022-08-10T13:21:00.166Z"
   },
   {
    "duration": 19,
    "start_time": "2022-08-10T13:21:00.171Z"
   },
   {
    "duration": 15,
    "start_time": "2022-08-10T13:21:00.191Z"
   },
   {
    "duration": 4,
    "start_time": "2022-08-10T13:21:00.208Z"
   },
   {
    "duration": 10,
    "start_time": "2022-08-10T13:21:00.213Z"
   },
   {
    "duration": 3,
    "start_time": "2022-08-10T13:21:00.224Z"
   },
   {
    "duration": 35,
    "start_time": "2022-08-10T13:21:00.229Z"
   },
   {
    "duration": 15,
    "start_time": "2022-08-10T13:21:00.266Z"
   },
   {
    "duration": 193,
    "start_time": "2022-08-10T13:21:00.282Z"
   },
   {
    "duration": 14,
    "start_time": "2022-08-10T13:21:00.476Z"
   },
   {
    "duration": 30,
    "start_time": "2022-08-10T13:21:00.492Z"
   },
   {
    "duration": 2823,
    "start_time": "2022-08-10T13:21:00.523Z"
   },
   {
    "duration": 25,
    "start_time": "2022-08-10T13:21:03.347Z"
   },
   {
    "duration": 16,
    "start_time": "2022-08-10T13:21:03.374Z"
   },
   {
    "duration": 918,
    "start_time": "2022-08-10T13:21:03.391Z"
   },
   {
    "duration": 4,
    "start_time": "2022-08-10T13:21:04.311Z"
   },
   {
    "duration": 174,
    "start_time": "2022-08-10T13:21:04.316Z"
   },
   {
    "duration": 8,
    "start_time": "2022-08-10T13:21:04.491Z"
   },
   {
    "duration": 8,
    "start_time": "2022-08-10T13:21:04.500Z"
   },
   {
    "duration": 5,
    "start_time": "2022-08-10T13:21:04.510Z"
   },
   {
    "duration": 43,
    "start_time": "2022-08-10T13:21:04.517Z"
   },
   {
    "duration": 141,
    "start_time": "2022-08-10T13:21:04.564Z"
   },
   {
    "duration": 140,
    "start_time": "2022-08-10T13:21:04.707Z"
   },
   {
    "duration": 139,
    "start_time": "2022-08-10T13:21:04.855Z"
   },
   {
    "duration": 208,
    "start_time": "2022-08-10T13:21:04.996Z"
   },
   {
    "duration": 124,
    "start_time": "2022-08-10T13:21:05.206Z"
   },
   {
    "duration": 24,
    "start_time": "2022-08-10T13:21:05.331Z"
   },
   {
    "duration": 216,
    "start_time": "2022-08-10T13:21:05.357Z"
   },
   {
    "duration": 16,
    "start_time": "2022-08-10T13:21:05.574Z"
   },
   {
    "duration": 571,
    "start_time": "2022-08-10T13:21:05.592Z"
   },
   {
    "duration": 16,
    "start_time": "2022-08-10T13:21:06.165Z"
   },
   {
    "duration": 595,
    "start_time": "2022-08-10T13:21:06.182Z"
   },
   {
    "duration": 20,
    "start_time": "2022-08-10T13:21:06.779Z"
   },
   {
    "duration": 632,
    "start_time": "2022-08-10T13:21:06.801Z"
   },
   {
    "duration": 22,
    "start_time": "2022-08-10T13:21:07.434Z"
   },
   {
    "duration": 8,
    "start_time": "2022-08-10T13:21:07.457Z"
   },
   {
    "duration": 15,
    "start_time": "2022-08-10T13:21:07.467Z"
   },
   {
    "duration": 13,
    "start_time": "2022-08-10T13:21:07.484Z"
   },
   {
    "duration": 9,
    "start_time": "2022-08-10T13:21:07.498Z"
   },
   {
    "duration": 4,
    "start_time": "2022-08-10T13:21:40.202Z"
   },
   {
    "duration": 12,
    "start_time": "2022-08-10T13:22:11.076Z"
   },
   {
    "duration": 5,
    "start_time": "2022-08-10T13:22:36.338Z"
   },
   {
    "duration": 5,
    "start_time": "2022-08-10T13:22:53.591Z"
   },
   {
    "duration": 3,
    "start_time": "2022-08-10T13:24:01.462Z"
   },
   {
    "duration": 57,
    "start_time": "2022-08-10T13:24:01.469Z"
   },
   {
    "duration": 3,
    "start_time": "2022-08-10T13:24:01.528Z"
   },
   {
    "duration": 16,
    "start_time": "2022-08-10T13:24:01.568Z"
   },
   {
    "duration": 12,
    "start_time": "2022-08-10T13:24:01.586Z"
   },
   {
    "duration": 14,
    "start_time": "2022-08-10T13:24:01.600Z"
   },
   {
    "duration": 27,
    "start_time": "2022-08-10T13:24:01.616Z"
   },
   {
    "duration": 18,
    "start_time": "2022-08-10T13:24:01.645Z"
   },
   {
    "duration": 8,
    "start_time": "2022-08-10T13:24:01.664Z"
   },
   {
    "duration": 29,
    "start_time": "2022-08-10T13:24:01.673Z"
   },
   {
    "duration": 8,
    "start_time": "2022-08-10T13:24:01.703Z"
   },
   {
    "duration": 6,
    "start_time": "2022-08-10T13:24:01.712Z"
   },
   {
    "duration": 11,
    "start_time": "2022-08-10T13:24:01.719Z"
   },
   {
    "duration": 2,
    "start_time": "2022-08-10T13:24:01.732Z"
   },
   {
    "duration": 13,
    "start_time": "2022-08-10T13:24:01.754Z"
   },
   {
    "duration": 6,
    "start_time": "2022-08-10T13:24:01.769Z"
   },
   {
    "duration": 13,
    "start_time": "2022-08-10T13:24:01.777Z"
   },
   {
    "duration": 2338,
    "start_time": "2022-08-10T13:24:01.791Z"
   },
   {
    "duration": 5,
    "start_time": "2022-08-10T13:24:38.268Z"
   },
   {
    "duration": 3,
    "start_time": "2022-08-10T13:25:10.608Z"
   },
   {
    "duration": 5,
    "start_time": "2022-08-10T13:25:12.655Z"
   },
   {
    "duration": 12,
    "start_time": "2022-08-10T13:26:12.294Z"
   },
   {
    "duration": 10,
    "start_time": "2022-08-10T13:26:22.786Z"
   },
   {
    "duration": 7,
    "start_time": "2022-08-10T13:27:02.170Z"
   },
   {
    "duration": 5,
    "start_time": "2022-08-10T13:27:03.792Z"
   },
   {
    "duration": 1962,
    "start_time": "2022-08-10T13:27:16.642Z"
   },
   {
    "duration": 49,
    "start_time": "2022-08-10T13:27:18.606Z"
   },
   {
    "duration": 4,
    "start_time": "2022-08-10T13:27:18.656Z"
   },
   {
    "duration": 20,
    "start_time": "2022-08-10T13:27:18.661Z"
   },
   {
    "duration": 13,
    "start_time": "2022-08-10T13:27:18.683Z"
   },
   {
    "duration": 13,
    "start_time": "2022-08-10T13:27:18.697Z"
   },
   {
    "duration": 16,
    "start_time": "2022-08-10T13:27:18.712Z"
   },
   {
    "duration": 41,
    "start_time": "2022-08-10T13:27:18.729Z"
   },
   {
    "duration": 9,
    "start_time": "2022-08-10T13:27:18.771Z"
   },
   {
    "duration": 23,
    "start_time": "2022-08-10T13:27:18.781Z"
   },
   {
    "duration": 9,
    "start_time": "2022-08-10T13:27:18.806Z"
   },
   {
    "duration": 7,
    "start_time": "2022-08-10T13:27:18.816Z"
   },
   {
    "duration": 32,
    "start_time": "2022-08-10T13:27:18.824Z"
   },
   {
    "duration": 2,
    "start_time": "2022-08-10T13:27:18.859Z"
   },
   {
    "duration": 16,
    "start_time": "2022-08-10T13:27:18.862Z"
   },
   {
    "duration": 5,
    "start_time": "2022-08-10T13:27:18.879Z"
   },
   {
    "duration": 14,
    "start_time": "2022-08-10T13:27:18.886Z"
   },
   {
    "duration": 4,
    "start_time": "2022-08-10T13:27:18.902Z"
   },
   {
    "duration": 7,
    "start_time": "2022-08-10T13:27:18.907Z"
   },
   {
    "duration": 4,
    "start_time": "2022-08-10T13:27:18.915Z"
   },
   {
    "duration": 37,
    "start_time": "2022-08-10T13:27:18.920Z"
   },
   {
    "duration": 4,
    "start_time": "2022-08-10T13:27:18.958Z"
   },
   {
    "duration": 7,
    "start_time": "2022-08-10T13:27:18.963Z"
   },
   {
    "duration": 10,
    "start_time": "2022-08-10T13:27:18.971Z"
   },
   {
    "duration": 12,
    "start_time": "2022-08-10T13:27:18.982Z"
   },
   {
    "duration": 4,
    "start_time": "2022-08-10T13:27:18.995Z"
   },
   {
    "duration": 18,
    "start_time": "2022-08-10T13:27:19.001Z"
   },
   {
    "duration": 13,
    "start_time": "2022-08-10T13:27:19.021Z"
   },
   {
    "duration": 4,
    "start_time": "2022-08-10T13:27:19.055Z"
   },
   {
    "duration": 7,
    "start_time": "2022-08-10T13:27:19.060Z"
   },
   {
    "duration": 2,
    "start_time": "2022-08-10T13:27:19.069Z"
   },
   {
    "duration": 19,
    "start_time": "2022-08-10T13:27:19.072Z"
   },
   {
    "duration": 15,
    "start_time": "2022-08-10T13:27:19.092Z"
   },
   {
    "duration": 201,
    "start_time": "2022-08-10T13:27:19.108Z"
   },
   {
    "duration": 14,
    "start_time": "2022-08-10T13:27:19.311Z"
   },
   {
    "duration": 7,
    "start_time": "2022-08-10T13:27:19.327Z"
   },
   {
    "duration": 3611,
    "start_time": "2022-08-10T13:27:19.336Z"
   },
   {
    "duration": 19,
    "start_time": "2022-08-10T13:27:22.955Z"
   },
   {
    "duration": 34,
    "start_time": "2022-08-10T13:27:22.976Z"
   },
   {
    "duration": 938,
    "start_time": "2022-08-10T13:27:23.012Z"
   },
   {
    "duration": 4,
    "start_time": "2022-08-10T13:27:23.954Z"
   },
   {
    "duration": 181,
    "start_time": "2022-08-10T13:27:23.959Z"
   },
   {
    "duration": 13,
    "start_time": "2022-08-10T13:27:24.142Z"
   },
   {
    "duration": 8,
    "start_time": "2022-08-10T13:27:24.157Z"
   },
   {
    "duration": 5,
    "start_time": "2022-08-10T13:27:24.166Z"
   },
   {
    "duration": 23,
    "start_time": "2022-08-10T13:27:24.173Z"
   },
   {
    "duration": 151,
    "start_time": "2022-08-10T13:27:24.198Z"
   },
   {
    "duration": 137,
    "start_time": "2022-08-10T13:27:24.354Z"
   },
   {
    "duration": 153,
    "start_time": "2022-08-10T13:27:24.493Z"
   },
   {
    "duration": 193,
    "start_time": "2022-08-10T13:27:24.648Z"
   },
   {
    "duration": 134,
    "start_time": "2022-08-10T13:27:24.842Z"
   },
   {
    "duration": 25,
    "start_time": "2022-08-10T13:27:24.977Z"
   },
   {
    "duration": 219,
    "start_time": "2022-08-10T13:27:25.004Z"
   },
   {
    "duration": 16,
    "start_time": "2022-08-10T13:27:25.225Z"
   },
   {
    "duration": 580,
    "start_time": "2022-08-10T13:27:25.255Z"
   },
   {
    "duration": 23,
    "start_time": "2022-08-10T13:27:25.836Z"
   },
   {
    "duration": 565,
    "start_time": "2022-08-10T13:27:25.861Z"
   },
   {
    "duration": 15,
    "start_time": "2022-08-10T13:27:26.428Z"
   },
   {
    "duration": 584,
    "start_time": "2022-08-10T13:27:26.455Z"
   },
   {
    "duration": 19,
    "start_time": "2022-08-10T13:27:27.041Z"
   },
   {
    "duration": 6,
    "start_time": "2022-08-10T13:27:27.062Z"
   },
   {
    "duration": 12,
    "start_time": "2022-08-10T13:27:27.069Z"
   },
   {
    "duration": 17,
    "start_time": "2022-08-10T13:27:27.082Z"
   },
   {
    "duration": 22,
    "start_time": "2022-08-10T13:27:27.100Z"
   },
   {
    "duration": 1072,
    "start_time": "2022-08-10T13:45:35.275Z"
   },
   {
    "duration": 51,
    "start_time": "2022-08-10T13:45:36.349Z"
   },
   {
    "duration": 4,
    "start_time": "2022-08-10T13:45:36.401Z"
   },
   {
    "duration": 24,
    "start_time": "2022-08-10T13:45:36.408Z"
   },
   {
    "duration": 14,
    "start_time": "2022-08-10T13:45:36.433Z"
   },
   {
    "duration": 18,
    "start_time": "2022-08-10T13:45:36.449Z"
   },
   {
    "duration": 17,
    "start_time": "2022-08-10T13:45:36.469Z"
   },
   {
    "duration": 19,
    "start_time": "2022-08-10T13:45:36.487Z"
   },
   {
    "duration": 8,
    "start_time": "2022-08-10T13:45:36.507Z"
   },
   {
    "duration": 52,
    "start_time": "2022-08-10T13:45:36.517Z"
   },
   {
    "duration": 8,
    "start_time": "2022-08-10T13:45:36.570Z"
   },
   {
    "duration": 8,
    "start_time": "2022-08-10T13:45:36.580Z"
   },
   {
    "duration": 10,
    "start_time": "2022-08-10T13:45:36.589Z"
   },
   {
    "duration": 2,
    "start_time": "2022-08-10T13:45:36.601Z"
   },
   {
    "duration": 14,
    "start_time": "2022-08-10T13:45:36.604Z"
   },
   {
    "duration": 7,
    "start_time": "2022-08-10T13:45:36.619Z"
   },
   {
    "duration": 33,
    "start_time": "2022-08-10T13:45:36.627Z"
   },
   {
    "duration": 4,
    "start_time": "2022-08-10T13:45:36.662Z"
   },
   {
    "duration": 13,
    "start_time": "2022-08-10T13:45:36.667Z"
   },
   {
    "duration": 7,
    "start_time": "2022-08-10T13:45:36.682Z"
   },
   {
    "duration": 14,
    "start_time": "2022-08-10T13:45:36.691Z"
   },
   {
    "duration": 9,
    "start_time": "2022-08-10T13:45:36.707Z"
   },
   {
    "duration": 6,
    "start_time": "2022-08-10T13:45:36.717Z"
   },
   {
    "duration": 6,
    "start_time": "2022-08-10T13:45:36.724Z"
   },
   {
    "duration": 24,
    "start_time": "2022-08-10T13:45:36.732Z"
   },
   {
    "duration": 3,
    "start_time": "2022-08-10T13:45:36.758Z"
   },
   {
    "duration": 23,
    "start_time": "2022-08-10T13:45:36.762Z"
   },
   {
    "duration": 16,
    "start_time": "2022-08-10T13:45:36.789Z"
   },
   {
    "duration": 7,
    "start_time": "2022-08-10T13:45:36.806Z"
   },
   {
    "duration": 11,
    "start_time": "2022-08-10T13:45:36.814Z"
   },
   {
    "duration": 28,
    "start_time": "2022-08-10T13:45:36.826Z"
   },
   {
    "duration": 17,
    "start_time": "2022-08-10T13:45:36.856Z"
   },
   {
    "duration": 14,
    "start_time": "2022-08-10T13:45:36.875Z"
   },
   {
    "duration": 190,
    "start_time": "2022-08-10T13:45:36.891Z"
   },
   {
    "duration": 15,
    "start_time": "2022-08-10T13:45:37.082Z"
   },
   {
    "duration": 8,
    "start_time": "2022-08-10T13:45:37.098Z"
   },
   {
    "duration": 2948,
    "start_time": "2022-08-10T13:45:37.108Z"
   },
   {
    "duration": 23,
    "start_time": "2022-08-10T13:45:40.058Z"
   },
   {
    "duration": 19,
    "start_time": "2022-08-10T13:45:40.083Z"
   },
   {
    "duration": 936,
    "start_time": "2022-08-10T13:45:40.104Z"
   },
   {
    "duration": 13,
    "start_time": "2022-08-10T13:45:41.042Z"
   },
   {
    "duration": 178,
    "start_time": "2022-08-10T13:45:41.056Z"
   },
   {
    "duration": 20,
    "start_time": "2022-08-10T13:45:41.236Z"
   },
   {
    "duration": 8,
    "start_time": "2022-08-10T13:45:41.257Z"
   },
   {
    "duration": 9,
    "start_time": "2022-08-10T13:45:41.267Z"
   },
   {
    "duration": 24,
    "start_time": "2022-08-10T13:45:41.277Z"
   },
   {
    "duration": 147,
    "start_time": "2022-08-10T13:45:41.302Z"
   },
   {
    "duration": 158,
    "start_time": "2022-08-10T13:45:41.455Z"
   },
   {
    "duration": 133,
    "start_time": "2022-08-10T13:45:41.615Z"
   },
   {
    "duration": 202,
    "start_time": "2022-08-10T13:45:41.754Z"
   },
   {
    "duration": 131,
    "start_time": "2022-08-10T13:45:41.958Z"
   },
   {
    "duration": 19,
    "start_time": "2022-08-10T13:45:42.091Z"
   },
   {
    "duration": 222,
    "start_time": "2022-08-10T13:45:42.111Z"
   },
   {
    "duration": 27,
    "start_time": "2022-08-10T13:45:42.335Z"
   },
   {
    "duration": 574,
    "start_time": "2022-08-10T13:45:42.364Z"
   },
   {
    "duration": 26,
    "start_time": "2022-08-10T13:45:42.940Z"
   },
   {
    "duration": 575,
    "start_time": "2022-08-10T13:45:42.968Z"
   },
   {
    "duration": 23,
    "start_time": "2022-08-10T13:45:43.545Z"
   },
   {
    "duration": 537,
    "start_time": "2022-08-10T13:45:43.570Z"
   },
   {
    "duration": 11,
    "start_time": "2022-08-10T13:45:44.109Z"
   },
   {
    "duration": 7,
    "start_time": "2022-08-10T13:45:44.121Z"
   },
   {
    "duration": 26,
    "start_time": "2022-08-10T13:45:44.130Z"
   },
   {
    "duration": 9,
    "start_time": "2022-08-10T13:45:44.157Z"
   },
   {
    "duration": 5,
    "start_time": "2022-08-10T13:45:44.167Z"
   }
  ],
  "kernelspec": {
   "display_name": "Python 3 (ipykernel)",
   "language": "python",
   "name": "python3"
  },
  "language_info": {
   "codemirror_mode": {
    "name": "ipython",
    "version": 3
   },
   "file_extension": ".py",
   "mimetype": "text/x-python",
   "name": "python",
   "nbconvert_exporter": "python",
   "pygments_lexer": "ipython3",
   "version": "3.9.12"
  },
  "toc": {
   "base_numbering": 1,
   "nav_menu": {},
   "number_sections": true,
   "sideBar": true,
   "skip_h1_title": true,
   "title_cell": "Table of Contents",
   "title_sidebar": "Contents",
   "toc_cell": false,
   "toc_position": {
    "height": "calc(100% - 180px)",
    "left": "10px",
    "top": "150px",
    "width": "556.625px"
   },
   "toc_section_display": true,
   "toc_window_display": true
  }
 },
 "nbformat": 4,
 "nbformat_minor": 2
}
