{
 "cells": [
  {
   "cell_type": "markdown",
   "metadata": {
    "toc": true
   },
   "source": [
    "<h1>Содержание<span class=\"tocSkip\"></span></h1>\n",
    "<div class=\"toc\"><ul class=\"toc-item\"><li><span><a href=\"#Data-prepairing\" data-toc-modified-id=\"Data-prepairing-1\"><span class=\"toc-item-num\">1&nbsp;&nbsp;</span>Data prepairing</a></span><ul class=\"toc-item\"><li><span><a href=\"#Import-all-needed\" data-toc-modified-id=\"Import-all-needed-1.1\"><span class=\"toc-item-num\">1.1&nbsp;&nbsp;</span>Import all needed</a></span></li><li><span><a href=\"#Open-and-research-the-data\" data-toc-modified-id=\"Open-and-research-the-data-1.2\"><span class=\"toc-item-num\">1.2&nbsp;&nbsp;</span>Open and research the data</a></span></li><li><span><a href=\"#Calculate-the-enrichment-efficiency\" data-toc-modified-id=\"Calculate-the-enrichment-efficiency-1.3\"><span class=\"toc-item-num\">1.3&nbsp;&nbsp;</span>Calculate the enrichment efficiency</a></span><ul class=\"toc-item\"><li><span><a href=\"#Enrichment-Efficiency-on-the-Training-Set\" data-toc-modified-id=\"Enrichment-Efficiency-on-the-Training-Set-1.3.1\"><span class=\"toc-item-num\">1.3.1&nbsp;&nbsp;</span>Enrichment Efficiency on the Training Set</a></span></li></ul></li><li><span><a href=\"#Count-MAE\" data-toc-modified-id=\"Count-MAE-1.4\"><span class=\"toc-item-num\">1.4&nbsp;&nbsp;</span>Count MAE</a></span></li><li><span><a href=\"#Data-preprocessing\" data-toc-modified-id=\"Data-preprocessing-1.5\"><span class=\"toc-item-num\">1.5&nbsp;&nbsp;</span>Data preprocessing</a></span><ul class=\"toc-item\"><li><span><a href=\"#Check-for-duplicates\" data-toc-modified-id=\"Check-for-duplicates-1.5.1\"><span class=\"toc-item-num\">1.5.1&nbsp;&nbsp;</span>Check for duplicates</a></span></li><li><span><a href=\"#Search-for-passes\" data-toc-modified-id=\"Search-for-passes-1.5.2\"><span class=\"toc-item-num\">1.5.2&nbsp;&nbsp;</span>Search for passes</a></span></li></ul></li></ul></li><li><span><a href=\"#Data-analysis\" data-toc-modified-id=\"Data-analysis-2\"><span class=\"toc-item-num\">2&nbsp;&nbsp;</span>Data analysis</a></span><ul class=\"toc-item\"><li><span><a href=\"#Changing-in-the-concentration-of-elements-at-each-stage\" data-toc-modified-id=\"Changing-in-the-concentration-of-elements-at-each-stage-2.1\"><span class=\"toc-item-num\">2.1&nbsp;&nbsp;</span>Changing in the concentration of elements at each stage</a></span><ul class=\"toc-item\"><li><span><a href=\"#Argentum-concentration\" data-toc-modified-id=\"Argentum-concentration-2.1.1\"><span class=\"toc-item-num\">2.1.1&nbsp;&nbsp;</span>Argentum concentration</a></span></li><li><span><a href=\"#Plumbum-concentration\" data-toc-modified-id=\"Plumbum-concentration-2.1.2\"><span class=\"toc-item-num\">2.1.2&nbsp;&nbsp;</span>Plumbum concentration</a></span></li><li><span><a href=\"#Aurum-concentration\" data-toc-modified-id=\"Aurum-concentration-2.1.3\"><span class=\"toc-item-num\">2.1.3&nbsp;&nbsp;</span>Aurum concentration</a></span></li></ul></li><li><span><a href=\"#Analyze-the-distribution-of-granule-sizes-on-the-training-and-test-samples\" data-toc-modified-id=\"Analyze-the-distribution-of-granule-sizes-on-the-training-and-test-samples-2.2\"><span class=\"toc-item-num\">2.2&nbsp;&nbsp;</span>Analyze the distribution of granule sizes on the training and test samples</a></span></li><li><span><a href=\"#Study-the-concentrations-of-products-and-reagents\" data-toc-modified-id=\"Study-the-concentrations-of-products-and-reagents-2.3\"><span class=\"toc-item-num\">2.3&nbsp;&nbsp;</span>Study the concentrations of products and reagents</a></span><ul class=\"toc-item\"><li><span><a href=\"#Raw-material-parameters\" data-toc-modified-id=\"Raw-material-parameters-2.3.1\"><span class=\"toc-item-num\">2.3.1&nbsp;&nbsp;</span>Raw material parameters</a></span><ul class=\"toc-item\"><li><span><a href=\"#Quantity-of-metals\" data-toc-modified-id=\"Quantity-of-metals-2.3.1.1\"><span class=\"toc-item-num\">2.3.1.1&nbsp;&nbsp;</span>Quantity of metals</a></span></li><li><span><a href=\"#Quantity-of-metals-plus-chemicals\" data-toc-modified-id=\"Quantity-of-metals-plus-chemicals-2.3.1.2\"><span class=\"toc-item-num\">2.3.1.2&nbsp;&nbsp;</span>Quantity of metals plus chemicals</a></span></li></ul></li><li><span><a href=\"#After-leaving-flotation\" data-toc-modified-id=\"After-leaving-flotation-2.3.2\"><span class=\"toc-item-num\">2.3.2&nbsp;&nbsp;</span>After leaving flotation</a></span><ul class=\"toc-item\"><li><span><a href=\"#Product-distribution-at-the-flotation-outlet\" data-toc-modified-id=\"Product-distribution-at-the-flotation-outlet-2.3.2.1\"><span class=\"toc-item-num\">2.3.2.1&nbsp;&nbsp;</span>Product distribution at the flotation outlet</a></span></li><li><span><a href=\"#Metals-concentration-after-flotation\" data-toc-modified-id=\"Metals-concentration-after-flotation-2.3.2.2\"><span class=\"toc-item-num\">2.3.2.2&nbsp;&nbsp;</span>Metals concentration after flotation</a></span></li><li><span><a href=\"#Enrichment-efficiency\" data-toc-modified-id=\"Enrichment-efficiency-2.3.2.3\"><span class=\"toc-item-num\">2.3.2.3&nbsp;&nbsp;</span>Enrichment efficiency</a></span></li></ul></li><li><span><a href=\"#Distribution-of-products-after-the-first-purification-stage\" data-toc-modified-id=\"Distribution-of-products-after-the-first-purification-stage-2.3.3\"><span class=\"toc-item-num\">2.3.3&nbsp;&nbsp;</span>Distribution of products after the first purification stage</a></span><ul class=\"toc-item\"><li><span><a href=\"#Output-of-metals\" data-toc-modified-id=\"Output-of-metals-2.3.3.1\"><span class=\"toc-item-num\">2.3.3.1&nbsp;&nbsp;</span>Output of metals</a></span></li><li><span><a href=\"#Metals-concentration\" data-toc-modified-id=\"Metals-concentration-2.3.3.2\"><span class=\"toc-item-num\">2.3.3.2&nbsp;&nbsp;</span>Metals concentration</a></span></li><li><span><a href=\"#Chemicals-concentration\" data-toc-modified-id=\"Chemicals-concentration-2.3.3.3\"><span class=\"toc-item-num\">2.3.3.3&nbsp;&nbsp;</span>Chemicals concentration</a></span></li></ul></li><li><span><a href=\"#After-the-second-cleaning-step\" data-toc-modified-id=\"After-the-second-cleaning-step-2.3.4\"><span class=\"toc-item-num\">2.3.4&nbsp;&nbsp;</span>After the second cleaning step</a></span></li><li><span><a href=\"#After-the-final-cleaning-step\" data-toc-modified-id=\"After-the-final-cleaning-step-2.3.5\"><span class=\"toc-item-num\">2.3.5&nbsp;&nbsp;</span>After the final cleaning step</a></span><ul class=\"toc-item\"><li><span><a href=\"#The-total-amount-of-metals-with-&quot;tails&quot;\" data-toc-modified-id=\"The-total-amount-of-metals-with-&quot;tails&quot;-2.3.5.1\"><span class=\"toc-item-num\">2.3.5.1&nbsp;&nbsp;</span>The total amount of metals with \"tails\"</a></span></li><li><span><a href=\"#Precious-metal-concentrations\" data-toc-modified-id=\"Precious-metal-concentrations-2.3.5.2\"><span class=\"toc-item-num\">2.3.5.2&nbsp;&nbsp;</span>Precious metal concentrations</a></span></li><li><span><a href=\"#Final-enrichment-efficiency\" data-toc-modified-id=\"Final-enrichment-efficiency-2.3.5.3\"><span class=\"toc-item-num\">2.3.5.3&nbsp;&nbsp;</span>Final enrichment efficiency</a></span></li></ul></li></ul></li><li><span><a href=\"#Intermediate-output\" data-toc-modified-id=\"Intermediate-output-2.4\"><span class=\"toc-item-num\">2.4&nbsp;&nbsp;</span>Intermediate output</a></span></li><li><span><a href=\"#Extra-parameters-in-the-training-sample\" data-toc-modified-id=\"Extra-parameters-in-the-training-sample-2.5\"><span class=\"toc-item-num\">2.5&nbsp;&nbsp;</span>Extra parameters in the training sample</a></span><ul class=\"toc-item\"><li><span><a href=\"#Find-extra-parameters\" data-toc-modified-id=\"Find-extra-parameters-2.5.1\"><span class=\"toc-item-num\">2.5.1&nbsp;&nbsp;</span>Find extra parameters</a></span></li></ul></li></ul></li><li><span><a href=\"#The-model\" data-toc-modified-id=\"The-model-3\"><span class=\"toc-item-num\">3&nbsp;&nbsp;</span>The model</a></span><ul class=\"toc-item\"><li><span><a href=\"#Let's-highlight-the-target-and-training-features\" data-toc-modified-id=\"Let's-highlight-the-target-and-training-features-3.1\"><span class=\"toc-item-num\">3.1&nbsp;&nbsp;</span>Let's highlight the target and training features</a></span></li><li><span><a href=\"#The-function-for-sMAPE\" data-toc-modified-id=\"The-function-for-sMAPE-3.2\"><span class=\"toc-item-num\">3.2&nbsp;&nbsp;</span>The function for sMAPE</a></span></li><li><span><a href=\"#Calculate-sMAPE-for-the-sample-mean\" data-toc-modified-id=\"Calculate-sMAPE-for-the-sample-mean-3.3\"><span class=\"toc-item-num\">3.3&nbsp;&nbsp;</span>Calculate sMAPE for the sample mean</a></span></li><li><span><a href=\"#Define-models,-train-them-and-compare-them-with-cross-validation\" data-toc-modified-id=\"Define-models,-train-them-and-compare-them-with-cross-validation-3.4\"><span class=\"toc-item-num\">3.4&nbsp;&nbsp;</span>Define models, train them and compare them with cross-validation</a></span><ul class=\"toc-item\"><li><span><a href=\"#Linear-regression\" data-toc-modified-id=\"Linear-regression-3.4.1\"><span class=\"toc-item-num\">3.4.1&nbsp;&nbsp;</span>Linear regression</a></span></li><li><span><a href=\"#Random-forest-of-regression\" data-toc-modified-id=\"Random-forest-of-regression-3.4.2\"><span class=\"toc-item-num\">3.4.2&nbsp;&nbsp;</span>Random forest of regression</a></span></li><li><span><a href=\"#Random-tree-regressor\" data-toc-modified-id=\"Random-tree-regressor-3.4.3\"><span class=\"toc-item-num\">3.4.3&nbsp;&nbsp;</span>Random tree regressor</a></span></li><li><span><a href=\"#Model-Inference\" data-toc-modified-id=\"Model-Inference-3.4.4\"><span class=\"toc-item-num\">3.4.4&nbsp;&nbsp;</span>Model Inference</a></span></li></ul></li><li><span><a href=\"#Check-the-quality-of-the-model-on-the-test-sample\" data-toc-modified-id=\"Check-the-quality-of-the-model-on-the-test-sample-3.5\"><span class=\"toc-item-num\">3.5&nbsp;&nbsp;</span>Check the quality of the model on the test sample</a></span><ul class=\"toc-item\"><li><span><a href=\"#Train-the-Model\" data-toc-modified-id=\"Train-the-Model-3.5.1\"><span class=\"toc-item-num\">3.5.1&nbsp;&nbsp;</span>Train the Model</a></span></li><li><span><a href=\"#Let's-make-predictions-on-a-test-sample\" data-toc-modified-id=\"Let's-make-predictions-on-a-test-sample-3.5.2\"><span class=\"toc-item-num\">3.5.2&nbsp;&nbsp;</span>Let's make predictions on a test sample</a></span></li></ul></li></ul></li><li><span><a href=\"#General-conclusion\" data-toc-modified-id=\"General-conclusion-4\"><span class=\"toc-item-num\">4&nbsp;&nbsp;</span>General conclusion</a></span></li></ul></div>"
   ]
  },
  {
   "cell_type": "markdown",
   "metadata": {},
   "source": [
    "# Recovery of gold from a golden ore"
   ]
  },
  {
   "cell_type": "markdown",
   "metadata": {},
   "source": [
    "Prepare a prototype model of machine learning for \"Ciphra\" company. This company develops solutions for the effective operation of industrial enterprises.\n",
    "\n",
    "The model should predict the recovery rate of gold from gold-bearing ore. Use data with extraction and cleaning parameters.\n",
    "\n",
    "The model will help to optimize production so as not to start a company with unprofitable characteristics."
   ]
  },
  {
   "cell_type": "markdown",
   "metadata": {},
   "source": [
    "## Data prepairing"
   ]
  },
  {
   "cell_type": "markdown",
   "metadata": {},
   "source": [
    "### Import all needed"
   ]
  },
  {
   "cell_type": "code",
   "execution_count": 1,
   "metadata": {},
   "outputs": [],
   "source": [
    "import pandas as pd\n",
    "from sklearn.metrics import mean_absolute_error\n",
    "import seaborn as sns\n",
    "import matplotlib.pyplot as plt\n",
    "import numpy as np\n",
    "from sklearn.linear_model import LinearRegression\n",
    "from sklearn.ensemble import RandomForestRegressor\n",
    "from sklearn.tree import DecisionTreeRegressor\n",
    "from sklearn.metrics import f1_score\n",
    "from sklearn.model_selection import cross_val_score\n",
    "from sklearn.metrics import make_scorer\n",
    "from sklearn.model_selection import RandomizedSearchCV\n",
    "\n",
    "import warnings\n",
    "warnings.filterwarnings('ignore')\n",
    "\n",
    "state = np.random.RandomState(12345)"
   ]
  },
  {
   "cell_type": "markdown",
   "metadata": {},
   "source": [
    "### Open and research the data"
   ]
  },
  {
   "cell_type": "code",
   "execution_count": 2,
   "metadata": {
    "scrolled": true
   },
   "outputs": [
    {
     "name": "stdout",
     "output_type": "stream",
     "text": [
      "<class 'pandas.core.frame.DataFrame'>\n",
      "RangeIndex: 14149 entries, 0 to 14148\n",
      "Data columns (total 87 columns):\n",
      " #   Column                                              Non-Null Count  Dtype  \n",
      "---  ------                                              --------------  -----  \n",
      " 0   date                                                14149 non-null  object \n",
      " 1   final.output.concentrate_ag                         14148 non-null  float64\n",
      " 2   final.output.concentrate_pb                         14148 non-null  float64\n",
      " 3   final.output.concentrate_sol                        13938 non-null  float64\n",
      " 4   final.output.concentrate_au                         14149 non-null  float64\n",
      " 5   final.output.recovery                               14149 non-null  float64\n",
      " 6   final.output.tail_ag                                14149 non-null  float64\n",
      " 7   final.output.tail_pb                                14049 non-null  float64\n",
      " 8   final.output.tail_sol                               14144 non-null  float64\n",
      " 9   final.output.tail_au                                14149 non-null  float64\n",
      " 10  primary_cleaner.input.sulfate                       14129 non-null  float64\n",
      " 11  primary_cleaner.input.depressant                    14117 non-null  float64\n",
      " 12  primary_cleaner.input.feed_size                     14149 non-null  float64\n",
      " 13  primary_cleaner.input.xanthate                      14049 non-null  float64\n",
      " 14  primary_cleaner.output.concentrate_ag               14149 non-null  float64\n",
      " 15  primary_cleaner.output.concentrate_pb               14063 non-null  float64\n",
      " 16  primary_cleaner.output.concentrate_sol              13863 non-null  float64\n",
      " 17  primary_cleaner.output.concentrate_au               14149 non-null  float64\n",
      " 18  primary_cleaner.output.tail_ag                      14148 non-null  float64\n",
      " 19  primary_cleaner.output.tail_pb                      14134 non-null  float64\n",
      " 20  primary_cleaner.output.tail_sol                     14103 non-null  float64\n",
      " 21  primary_cleaner.output.tail_au                      14149 non-null  float64\n",
      " 22  primary_cleaner.state.floatbank8_a_air              14145 non-null  float64\n",
      " 23  primary_cleaner.state.floatbank8_a_level            14148 non-null  float64\n",
      " 24  primary_cleaner.state.floatbank8_b_air              14145 non-null  float64\n",
      " 25  primary_cleaner.state.floatbank8_b_level            14148 non-null  float64\n",
      " 26  primary_cleaner.state.floatbank8_c_air              14147 non-null  float64\n",
      " 27  primary_cleaner.state.floatbank8_c_level            14148 non-null  float64\n",
      " 28  primary_cleaner.state.floatbank8_d_air              14146 non-null  float64\n",
      " 29  primary_cleaner.state.floatbank8_d_level            14148 non-null  float64\n",
      " 30  rougher.calculation.sulfate_to_au_concentrate       14148 non-null  float64\n",
      " 31  rougher.calculation.floatbank10_sulfate_to_au_feed  14148 non-null  float64\n",
      " 32  rougher.calculation.floatbank11_sulfate_to_au_feed  14148 non-null  float64\n",
      " 33  rougher.calculation.au_pb_ratio                     14149 non-null  float64\n",
      " 34  rougher.input.feed_ag                               14149 non-null  float64\n",
      " 35  rougher.input.feed_pb                               14049 non-null  float64\n",
      " 36  rougher.input.feed_rate                             14141 non-null  float64\n",
      " 37  rougher.input.feed_size                             14005 non-null  float64\n",
      " 38  rougher.input.feed_sol                              14071 non-null  float64\n",
      " 39  rougher.input.feed_au                               14149 non-null  float64\n",
      " 40  rougher.input.floatbank10_sulfate                   14120 non-null  float64\n",
      " 41  rougher.input.floatbank10_xanthate                  14141 non-null  float64\n",
      " 42  rougher.input.floatbank11_sulfate                   14113 non-null  float64\n",
      " 43  rougher.input.floatbank11_xanthate                  13721 non-null  float64\n",
      " 44  rougher.output.concentrate_ag                       14149 non-null  float64\n",
      " 45  rougher.output.concentrate_pb                       14149 non-null  float64\n",
      " 46  rougher.output.concentrate_sol                      14127 non-null  float64\n",
      " 47  rougher.output.concentrate_au                       14149 non-null  float64\n",
      " 48  rougher.output.recovery                             14149 non-null  float64\n",
      " 49  rougher.output.tail_ag                              14148 non-null  float64\n",
      " 50  rougher.output.tail_pb                              14149 non-null  float64\n",
      " 51  rougher.output.tail_sol                             14149 non-null  float64\n",
      " 52  rougher.output.tail_au                              14149 non-null  float64\n",
      " 53  rougher.state.floatbank10_a_air                     14148 non-null  float64\n",
      " 54  rougher.state.floatbank10_a_level                   14148 non-null  float64\n",
      " 55  rougher.state.floatbank10_b_air                     14148 non-null  float64\n",
      " 56  rougher.state.floatbank10_b_level                   14148 non-null  float64\n",
      " 57  rougher.state.floatbank10_c_air                     14148 non-null  float64\n",
      " 58  rougher.state.floatbank10_c_level                   14148 non-null  float64\n",
      " 59  rougher.state.floatbank10_d_air                     14149 non-null  float64\n",
      " 60  rougher.state.floatbank10_d_level                   14149 non-null  float64\n",
      " 61  rougher.state.floatbank10_e_air                     13713 non-null  float64\n",
      " 62  rougher.state.floatbank10_e_level                   14149 non-null  float64\n",
      " 63  rougher.state.floatbank10_f_air                     14149 non-null  float64\n",
      " 64  rougher.state.floatbank10_f_level                   14149 non-null  float64\n",
      " 65  secondary_cleaner.output.tail_ag                    14147 non-null  float64\n",
      " 66  secondary_cleaner.output.tail_pb                    14139 non-null  float64\n",
      " 67  secondary_cleaner.output.tail_sol                   12544 non-null  float64\n",
      " 68  secondary_cleaner.output.tail_au                    14149 non-null  float64\n",
      " 69  secondary_cleaner.state.floatbank2_a_air            13932 non-null  float64\n",
      " 70  secondary_cleaner.state.floatbank2_a_level          14148 non-null  float64\n",
      " 71  secondary_cleaner.state.floatbank2_b_air            14128 non-null  float64\n",
      " 72  secondary_cleaner.state.floatbank2_b_level          14148 non-null  float64\n",
      " 73  secondary_cleaner.state.floatbank3_a_air            14145 non-null  float64\n",
      " 74  secondary_cleaner.state.floatbank3_a_level          14148 non-null  float64\n",
      " 75  secondary_cleaner.state.floatbank3_b_air            14148 non-null  float64\n",
      " 76  secondary_cleaner.state.floatbank3_b_level          14148 non-null  float64\n",
      " 77  secondary_cleaner.state.floatbank4_a_air            14143 non-null  float64\n",
      " 78  secondary_cleaner.state.floatbank4_a_level          14148 non-null  float64\n",
      " 79  secondary_cleaner.state.floatbank4_b_air            14148 non-null  float64\n",
      " 80  secondary_cleaner.state.floatbank4_b_level          14148 non-null  float64\n",
      " 81  secondary_cleaner.state.floatbank5_a_air            14148 non-null  float64\n",
      " 82  secondary_cleaner.state.floatbank5_a_level          14148 non-null  float64\n",
      " 83  secondary_cleaner.state.floatbank5_b_air            14148 non-null  float64\n",
      " 84  secondary_cleaner.state.floatbank5_b_level          14148 non-null  float64\n",
      " 85  secondary_cleaner.state.floatbank6_a_air            14147 non-null  float64\n",
      " 86  secondary_cleaner.state.floatbank6_a_level          14148 non-null  float64\n",
      "dtypes: float64(86), object(1)\n",
      "memory usage: 9.4+ MB\n"
     ]
    }
   ],
   "source": [
    "data_train = pd.read_csv ('gold_recovery_train_new.csv')\n",
    "data_train.info()"
   ]
  },
  {
   "cell_type": "code",
   "execution_count": 3,
   "metadata": {
    "scrolled": true
   },
   "outputs": [
    {
     "name": "stdout",
     "output_type": "stream",
     "text": [
      "<class 'pandas.core.frame.DataFrame'>\n",
      "RangeIndex: 5290 entries, 0 to 5289\n",
      "Data columns (total 53 columns):\n",
      " #   Column                                      Non-Null Count  Dtype  \n",
      "---  ------                                      --------------  -----  \n",
      " 0   date                                        5290 non-null   object \n",
      " 1   primary_cleaner.input.sulfate               5286 non-null   float64\n",
      " 2   primary_cleaner.input.depressant            5285 non-null   float64\n",
      " 3   primary_cleaner.input.feed_size             5290 non-null   float64\n",
      " 4   primary_cleaner.input.xanthate              5286 non-null   float64\n",
      " 5   primary_cleaner.state.floatbank8_a_air      5290 non-null   float64\n",
      " 6   primary_cleaner.state.floatbank8_a_level    5290 non-null   float64\n",
      " 7   primary_cleaner.state.floatbank8_b_air      5290 non-null   float64\n",
      " 8   primary_cleaner.state.floatbank8_b_level    5290 non-null   float64\n",
      " 9   primary_cleaner.state.floatbank8_c_air      5290 non-null   float64\n",
      " 10  primary_cleaner.state.floatbank8_c_level    5290 non-null   float64\n",
      " 11  primary_cleaner.state.floatbank8_d_air      5290 non-null   float64\n",
      " 12  primary_cleaner.state.floatbank8_d_level    5290 non-null   float64\n",
      " 13  rougher.input.feed_ag                       5290 non-null   float64\n",
      " 14  rougher.input.feed_pb                       5290 non-null   float64\n",
      " 15  rougher.input.feed_rate                     5287 non-null   float64\n",
      " 16  rougher.input.feed_size                     5289 non-null   float64\n",
      " 17  rougher.input.feed_sol                      5269 non-null   float64\n",
      " 18  rougher.input.feed_au                       5290 non-null   float64\n",
      " 19  rougher.input.floatbank10_sulfate           5285 non-null   float64\n",
      " 20  rougher.input.floatbank10_xanthate          5290 non-null   float64\n",
      " 21  rougher.input.floatbank11_sulfate           5282 non-null   float64\n",
      " 22  rougher.input.floatbank11_xanthate          5265 non-null   float64\n",
      " 23  rougher.state.floatbank10_a_air             5290 non-null   float64\n",
      " 24  rougher.state.floatbank10_a_level           5290 non-null   float64\n",
      " 25  rougher.state.floatbank10_b_air             5290 non-null   float64\n",
      " 26  rougher.state.floatbank10_b_level           5290 non-null   float64\n",
      " 27  rougher.state.floatbank10_c_air             5290 non-null   float64\n",
      " 28  rougher.state.floatbank10_c_level           5290 non-null   float64\n",
      " 29  rougher.state.floatbank10_d_air             5290 non-null   float64\n",
      " 30  rougher.state.floatbank10_d_level           5290 non-null   float64\n",
      " 31  rougher.state.floatbank10_e_air             5290 non-null   float64\n",
      " 32  rougher.state.floatbank10_e_level           5290 non-null   float64\n",
      " 33  rougher.state.floatbank10_f_air             5290 non-null   float64\n",
      " 34  rougher.state.floatbank10_f_level           5290 non-null   float64\n",
      " 35  secondary_cleaner.state.floatbank2_a_air    5287 non-null   float64\n",
      " 36  secondary_cleaner.state.floatbank2_a_level  5290 non-null   float64\n",
      " 37  secondary_cleaner.state.floatbank2_b_air    5288 non-null   float64\n",
      " 38  secondary_cleaner.state.floatbank2_b_level  5290 non-null   float64\n",
      " 39  secondary_cleaner.state.floatbank3_a_air    5281 non-null   float64\n",
      " 40  secondary_cleaner.state.floatbank3_a_level  5290 non-null   float64\n",
      " 41  secondary_cleaner.state.floatbank3_b_air    5290 non-null   float64\n",
      " 42  secondary_cleaner.state.floatbank3_b_level  5290 non-null   float64\n",
      " 43  secondary_cleaner.state.floatbank4_a_air    5290 non-null   float64\n",
      " 44  secondary_cleaner.state.floatbank4_a_level  5290 non-null   float64\n",
      " 45  secondary_cleaner.state.floatbank4_b_air    5290 non-null   float64\n",
      " 46  secondary_cleaner.state.floatbank4_b_level  5290 non-null   float64\n",
      " 47  secondary_cleaner.state.floatbank5_a_air    5290 non-null   float64\n",
      " 48  secondary_cleaner.state.floatbank5_a_level  5290 non-null   float64\n",
      " 49  secondary_cleaner.state.floatbank5_b_air    5290 non-null   float64\n",
      " 50  secondary_cleaner.state.floatbank5_b_level  5290 non-null   float64\n",
      " 51  secondary_cleaner.state.floatbank6_a_air    5290 non-null   float64\n",
      " 52  secondary_cleaner.state.floatbank6_a_level  5290 non-null   float64\n",
      "dtypes: float64(52), object(1)\n",
      "memory usage: 2.1+ MB\n"
     ]
    }
   ],
   "source": [
    "data_test = pd.read_csv ('gold_recovery_test_new.csv')\n",
    "data_test.info()"
   ]
  },
  {
   "cell_type": "code",
   "execution_count": 4,
   "metadata": {
    "scrolled": true
   },
   "outputs": [
    {
     "name": "stdout",
     "output_type": "stream",
     "text": [
      "<class 'pandas.core.frame.DataFrame'>\n",
      "RangeIndex: 19439 entries, 0 to 19438\n",
      "Data columns (total 87 columns):\n",
      " #   Column                                              Non-Null Count  Dtype  \n",
      "---  ------                                              --------------  -----  \n",
      " 0   date                                                19439 non-null  object \n",
      " 1   final.output.concentrate_ag                         19438 non-null  float64\n",
      " 2   final.output.concentrate_pb                         19438 non-null  float64\n",
      " 3   final.output.concentrate_sol                        19228 non-null  float64\n",
      " 4   final.output.concentrate_au                         19439 non-null  float64\n",
      " 5   final.output.recovery                               19439 non-null  float64\n",
      " 6   final.output.tail_ag                                19438 non-null  float64\n",
      " 7   final.output.tail_pb                                19338 non-null  float64\n",
      " 8   final.output.tail_sol                               19433 non-null  float64\n",
      " 9   final.output.tail_au                                19439 non-null  float64\n",
      " 10  primary_cleaner.input.sulfate                       19415 non-null  float64\n",
      " 11  primary_cleaner.input.depressant                    19402 non-null  float64\n",
      " 12  primary_cleaner.input.feed_size                     19439 non-null  float64\n",
      " 13  primary_cleaner.input.xanthate                      19335 non-null  float64\n",
      " 14  primary_cleaner.output.concentrate_ag               19439 non-null  float64\n",
      " 15  primary_cleaner.output.concentrate_pb               19323 non-null  float64\n",
      " 16  primary_cleaner.output.concentrate_sol              19069 non-null  float64\n",
      " 17  primary_cleaner.output.concentrate_au               19439 non-null  float64\n",
      " 18  primary_cleaner.output.tail_ag                      19435 non-null  float64\n",
      " 19  primary_cleaner.output.tail_pb                      19418 non-null  float64\n",
      " 20  primary_cleaner.output.tail_sol                     19377 non-null  float64\n",
      " 21  primary_cleaner.output.tail_au                      19439 non-null  float64\n",
      " 22  primary_cleaner.state.floatbank8_a_air              19435 non-null  float64\n",
      " 23  primary_cleaner.state.floatbank8_a_level            19438 non-null  float64\n",
      " 24  primary_cleaner.state.floatbank8_b_air              19435 non-null  float64\n",
      " 25  primary_cleaner.state.floatbank8_b_level            19438 non-null  float64\n",
      " 26  primary_cleaner.state.floatbank8_c_air              19437 non-null  float64\n",
      " 27  primary_cleaner.state.floatbank8_c_level            19438 non-null  float64\n",
      " 28  primary_cleaner.state.floatbank8_d_air              19436 non-null  float64\n",
      " 29  primary_cleaner.state.floatbank8_d_level            19438 non-null  float64\n",
      " 30  rougher.calculation.sulfate_to_au_concentrate       19437 non-null  float64\n",
      " 31  rougher.calculation.floatbank10_sulfate_to_au_feed  19437 non-null  float64\n",
      " 32  rougher.calculation.floatbank11_sulfate_to_au_feed  19437 non-null  float64\n",
      " 33  rougher.calculation.au_pb_ratio                     19439 non-null  float64\n",
      " 34  rougher.input.feed_ag                               19439 non-null  float64\n",
      " 35  rougher.input.feed_pb                               19339 non-null  float64\n",
      " 36  rougher.input.feed_rate                             19428 non-null  float64\n",
      " 37  rougher.input.feed_size                             19294 non-null  float64\n",
      " 38  rougher.input.feed_sol                              19340 non-null  float64\n",
      " 39  rougher.input.feed_au                               19439 non-null  float64\n",
      " 40  rougher.input.floatbank10_sulfate                   19405 non-null  float64\n",
      " 41  rougher.input.floatbank10_xanthate                  19431 non-null  float64\n",
      " 42  rougher.input.floatbank11_sulfate                   19395 non-null  float64\n",
      " 43  rougher.input.floatbank11_xanthate                  18986 non-null  float64\n",
      " 44  rougher.output.concentrate_ag                       19439 non-null  float64\n",
      " 45  rougher.output.concentrate_pb                       19439 non-null  float64\n",
      " 46  rougher.output.concentrate_sol                      19416 non-null  float64\n",
      " 47  rougher.output.concentrate_au                       19439 non-null  float64\n",
      " 48  rougher.output.recovery                             19439 non-null  float64\n",
      " 49  rougher.output.tail_ag                              19438 non-null  float64\n",
      " 50  rougher.output.tail_pb                              19439 non-null  float64\n",
      " 51  rougher.output.tail_sol                             19439 non-null  float64\n",
      " 52  rougher.output.tail_au                              19439 non-null  float64\n",
      " 53  rougher.state.floatbank10_a_air                     19438 non-null  float64\n",
      " 54  rougher.state.floatbank10_a_level                   19438 non-null  float64\n",
      " 55  rougher.state.floatbank10_b_air                     19438 non-null  float64\n",
      " 56  rougher.state.floatbank10_b_level                   19438 non-null  float64\n",
      " 57  rougher.state.floatbank10_c_air                     19438 non-null  float64\n",
      " 58  rougher.state.floatbank10_c_level                   19438 non-null  float64\n",
      " 59  rougher.state.floatbank10_d_air                     19439 non-null  float64\n",
      " 60  rougher.state.floatbank10_d_level                   19439 non-null  float64\n",
      " 61  rougher.state.floatbank10_e_air                     19003 non-null  float64\n",
      " 62  rougher.state.floatbank10_e_level                   19439 non-null  float64\n",
      " 63  rougher.state.floatbank10_f_air                     19439 non-null  float64\n",
      " 64  rougher.state.floatbank10_f_level                   19439 non-null  float64\n",
      " 65  secondary_cleaner.output.tail_ag                    19437 non-null  float64\n",
      " 66  secondary_cleaner.output.tail_pb                    19427 non-null  float64\n",
      " 67  secondary_cleaner.output.tail_sol                   17691 non-null  float64\n",
      " 68  secondary_cleaner.output.tail_au                    19439 non-null  float64\n",
      " 69  secondary_cleaner.state.floatbank2_a_air            19219 non-null  float64\n",
      " 70  secondary_cleaner.state.floatbank2_a_level          19438 non-null  float64\n",
      " 71  secondary_cleaner.state.floatbank2_b_air            19416 non-null  float64\n",
      " 72  secondary_cleaner.state.floatbank2_b_level          19438 non-null  float64\n",
      " 73  secondary_cleaner.state.floatbank3_a_air            19426 non-null  float64\n",
      " 74  secondary_cleaner.state.floatbank3_a_level          19438 non-null  float64\n",
      " 75  secondary_cleaner.state.floatbank3_b_air            19438 non-null  float64\n",
      " 76  secondary_cleaner.state.floatbank3_b_level          19438 non-null  float64\n",
      " 77  secondary_cleaner.state.floatbank4_a_air            19433 non-null  float64\n",
      " 78  secondary_cleaner.state.floatbank4_a_level          19438 non-null  float64\n",
      " 79  secondary_cleaner.state.floatbank4_b_air            19438 non-null  float64\n",
      " 80  secondary_cleaner.state.floatbank4_b_level          19438 non-null  float64\n",
      " 81  secondary_cleaner.state.floatbank5_a_air            19438 non-null  float64\n",
      " 82  secondary_cleaner.state.floatbank5_a_level          19438 non-null  float64\n",
      " 83  secondary_cleaner.state.floatbank5_b_air            19438 non-null  float64\n",
      " 84  secondary_cleaner.state.floatbank5_b_level          19438 non-null  float64\n",
      " 85  secondary_cleaner.state.floatbank6_a_air            19437 non-null  float64\n",
      " 86  secondary_cleaner.state.floatbank6_a_level          19438 non-null  float64\n",
      "dtypes: float64(86), object(1)\n",
      "memory usage: 12.9+ MB\n"
     ]
    }
   ],
   "source": [
    "data_full = pd.read_csv ('gold_recovery_full_new.csv')\n",
    "data_full.info()"
   ]
  },
  {
   "cell_type": "code",
   "execution_count": 5,
   "metadata": {
    "scrolled": true
   },
   "outputs": [
    {
     "data": {
      "text/plain": [
       "{'final.output.concentrate_ag',\n",
       " 'final.output.concentrate_au',\n",
       " 'final.output.concentrate_pb',\n",
       " 'final.output.concentrate_sol',\n",
       " 'final.output.recovery',\n",
       " 'final.output.tail_ag',\n",
       " 'final.output.tail_au',\n",
       " 'final.output.tail_pb',\n",
       " 'final.output.tail_sol',\n",
       " 'primary_cleaner.output.concentrate_ag',\n",
       " 'primary_cleaner.output.concentrate_au',\n",
       " 'primary_cleaner.output.concentrate_pb',\n",
       " 'primary_cleaner.output.concentrate_sol',\n",
       " 'primary_cleaner.output.tail_ag',\n",
       " 'primary_cleaner.output.tail_au',\n",
       " 'primary_cleaner.output.tail_pb',\n",
       " 'primary_cleaner.output.tail_sol',\n",
       " 'rougher.calculation.au_pb_ratio',\n",
       " 'rougher.calculation.floatbank10_sulfate_to_au_feed',\n",
       " 'rougher.calculation.floatbank11_sulfate_to_au_feed',\n",
       " 'rougher.calculation.sulfate_to_au_concentrate',\n",
       " 'rougher.output.concentrate_ag',\n",
       " 'rougher.output.concentrate_au',\n",
       " 'rougher.output.concentrate_pb',\n",
       " 'rougher.output.concentrate_sol',\n",
       " 'rougher.output.recovery',\n",
       " 'rougher.output.tail_ag',\n",
       " 'rougher.output.tail_au',\n",
       " 'rougher.output.tail_pb',\n",
       " 'rougher.output.tail_sol',\n",
       " 'secondary_cleaner.output.tail_ag',\n",
       " 'secondary_cleaner.output.tail_au',\n",
       " 'secondary_cleaner.output.tail_pb',\n",
       " 'secondary_cleaner.output.tail_sol'}"
      ]
     },
     "execution_count": 5,
     "metadata": {},
     "output_type": "execute_result"
    }
   ],
   "source": [
    "set (data_full.columns).symmetric_difference(data_test.columns)"
   ]
  },
  {
   "cell_type": "markdown",
   "metadata": {},
   "source": [
    "- The date is specified as an object, in the future we can use it as an index to merge and edit tables/\n",
    "- Except dates, all other data is of the correct type.\n",
    "- There are no columns in the test table containing information on the parameters of the product (including MAE) and final tailings, they belong to the float64 type. There is also no information on the required reagents. It will be necessary to remove the same columns from the training sample so that there are no training errors.\n",
    "- All three datasets have a lot of gaps in the data."
   ]
  },
  {
   "cell_type": "code",
   "execution_count": 6,
   "metadata": {},
   "outputs": [],
   "source": [
    "for data in (data_full,data_test,data_train):\n",
    "    data['date'] = pd.to_datetime(data['date'], format='%Y-%m-%d %H:%M:%S')\n",
    "    data.set_index('date',inplace = True)"
   ]
  },
  {
   "cell_type": "markdown",
   "metadata": {},
   "source": [
    "Now the date has become an index."
   ]
  },
  {
   "cell_type": "markdown",
   "metadata": {},
   "source": [
    "### Calculate the enrichment efficiency"
   ]
  },
  {
   "cell_type": "markdown",
   "metadata": {},
   "source": [
    "- C is the proportion of gold in the concentrate after flotation/refining;\n",
    "- F is the proportion of gold in the raw material/concentrate before flotation/refining;\n",
    "- T is the proportion of gold in tailings after flotation/cleaning.\n",
    "\n",
    "recovery = (C*(F-T)) / (F*(C-T)) * 100"
   ]
  },
  {
   "cell_type": "code",
   "execution_count": 7,
   "metadata": {},
   "outputs": [],
   "source": [
    "def calculate_recovery(c, f, t):\n",
    "    recovery = ((c*(f-t)) / (f*(c-t)))*100\n",
    "    return recovery"
   ]
  },
  {
   "cell_type": "markdown",
   "metadata": {},
   "source": [
    "#### Enrichment Efficiency on the Training Set"
   ]
  },
  {
   "cell_type": "code",
   "execution_count": 8,
   "metadata": {
    "scrolled": true
   },
   "outputs": [
    {
     "data": {
      "text/plain": [
       "date\n",
       "2016-01-15 00:00:00    87.107763\n",
       "2016-01-15 01:00:00    86.843261\n",
       "2016-01-15 02:00:00    86.842308\n",
       "2016-01-15 03:00:00    87.226430\n",
       "2016-01-15 04:00:00    86.688794\n",
       "                         ...    \n",
       "2018-08-18 06:59:59    89.574376\n",
       "2018-08-18 07:59:59    87.724007\n",
       "2018-08-18 08:59:59    88.890579\n",
       "2018-08-18 09:59:59    89.858126\n",
       "2018-08-18 10:59:59    89.514960\n",
       "Name: recovery_rougher, Length: 14149, dtype: float64"
      ]
     },
     "execution_count": 8,
     "metadata": {},
     "output_type": "execute_result"
    }
   ],
   "source": [
    "data_train['recovery_rougher'] = calculate_recovery (data_train['rougher.output.concentrate_au'],\n",
    "                                                   data_train['rougher.input.feed_au'],\n",
    "                                                   data_train['rougher.output.tail_au'],\n",
    ")\n",
    "data_train['recovery_rougher']"
   ]
  },
  {
   "cell_type": "markdown",
   "metadata": {},
   "source": [
    "### Count MAE"
   ]
  },
  {
   "cell_type": "code",
   "execution_count": 9,
   "metadata": {},
   "outputs": [
    {
     "data": {
      "text/plain": [
       "4.867561737252605e-15"
      ]
     },
     "execution_count": 9,
     "metadata": {},
     "output_type": "execute_result"
    }
   ],
   "source": [
    "data_train['MAE_rou'] = abs(data_train['rougher.output.recovery'] - data_train['recovery_rougher']) / 2\n",
    "data_train['MAE_rou'].mean()"
   ]
  },
  {
   "cell_type": "markdown",
   "metadata": {},
   "source": [
    "The MAE error value tends to zero."
   ]
  },
  {
   "cell_type": "markdown",
   "metadata": {},
   "source": [
    "### Data preprocessing"
   ]
  },
  {
   "cell_type": "markdown",
   "metadata": {},
   "source": [
    "#### Check for duplicates"
   ]
  },
  {
   "cell_type": "code",
   "execution_count": 10,
   "metadata": {},
   "outputs": [
    {
     "name": "stdout",
     "output_type": "stream",
     "text": [
      "data_train duplicates: 0\n",
      "data_test duplicates: 0\n",
      "data_full duplicates: 0\n"
     ]
    }
   ],
   "source": [
    "print ('data_train duplicates:', data_train.duplicated().sum())\n",
    "print ('data_test duplicates:', data_test.duplicated().sum())\n",
    "print ('data_full duplicates:', data_full.duplicated().sum())"
   ]
  },
  {
   "cell_type": "markdown",
   "metadata": {},
   "source": [
    "#### Search for passes"
   ]
  },
  {
   "cell_type": "code",
   "execution_count": 11,
   "metadata": {},
   "outputs": [
    {
     "name": "stdout",
     "output_type": "stream",
     "text": [
      "data_train NaNs: final.output.concentrate_ag                     1\n",
      "final.output.concentrate_pb                     1\n",
      "final.output.concentrate_sol                  211\n",
      "final.output.concentrate_au                     0\n",
      "final.output.recovery                           0\n",
      "                                             ... \n",
      "secondary_cleaner.state.floatbank5_b_level      1\n",
      "secondary_cleaner.state.floatbank6_a_air        2\n",
      "secondary_cleaner.state.floatbank6_a_level      1\n",
      "recovery_rougher                                0\n",
      "MAE_rou                                         0\n",
      "Length: 88, dtype: int64\n"
     ]
    }
   ],
   "source": [
    "print ('data_train NaNs:', data_train.isna().sum())\n"
   ]
  },
  {
   "cell_type": "code",
   "execution_count": 12,
   "metadata": {
    "scrolled": true
   },
   "outputs": [
    {
     "name": "stdout",
     "output_type": "stream",
     "text": [
      "data_test NaNs: primary_cleaner.input.sulfate                  4\n",
      "primary_cleaner.input.depressant               5\n",
      "primary_cleaner.input.feed_size                0\n",
      "primary_cleaner.input.xanthate                 4\n",
      "primary_cleaner.state.floatbank8_a_air         0\n",
      "primary_cleaner.state.floatbank8_a_level       0\n",
      "primary_cleaner.state.floatbank8_b_air         0\n",
      "primary_cleaner.state.floatbank8_b_level       0\n",
      "primary_cleaner.state.floatbank8_c_air         0\n",
      "primary_cleaner.state.floatbank8_c_level       0\n",
      "primary_cleaner.state.floatbank8_d_air         0\n",
      "primary_cleaner.state.floatbank8_d_level       0\n",
      "rougher.input.feed_ag                          0\n",
      "rougher.input.feed_pb                          0\n",
      "rougher.input.feed_rate                        3\n",
      "rougher.input.feed_size                        1\n",
      "rougher.input.feed_sol                        21\n",
      "rougher.input.feed_au                          0\n",
      "rougher.input.floatbank10_sulfate              5\n",
      "rougher.input.floatbank10_xanthate             0\n",
      "rougher.input.floatbank11_sulfate              8\n",
      "rougher.input.floatbank11_xanthate            25\n",
      "rougher.state.floatbank10_a_air                0\n",
      "rougher.state.floatbank10_a_level              0\n",
      "rougher.state.floatbank10_b_air                0\n",
      "rougher.state.floatbank10_b_level              0\n",
      "rougher.state.floatbank10_c_air                0\n",
      "rougher.state.floatbank10_c_level              0\n",
      "rougher.state.floatbank10_d_air                0\n",
      "rougher.state.floatbank10_d_level              0\n",
      "rougher.state.floatbank10_e_air                0\n",
      "rougher.state.floatbank10_e_level              0\n",
      "rougher.state.floatbank10_f_air                0\n",
      "rougher.state.floatbank10_f_level              0\n",
      "secondary_cleaner.state.floatbank2_a_air       3\n",
      "secondary_cleaner.state.floatbank2_a_level     0\n",
      "secondary_cleaner.state.floatbank2_b_air       2\n",
      "secondary_cleaner.state.floatbank2_b_level     0\n",
      "secondary_cleaner.state.floatbank3_a_air       9\n",
      "secondary_cleaner.state.floatbank3_a_level     0\n",
      "secondary_cleaner.state.floatbank3_b_air       0\n",
      "secondary_cleaner.state.floatbank3_b_level     0\n",
      "secondary_cleaner.state.floatbank4_a_air       0\n",
      "secondary_cleaner.state.floatbank4_a_level     0\n",
      "secondary_cleaner.state.floatbank4_b_air       0\n",
      "secondary_cleaner.state.floatbank4_b_level     0\n",
      "secondary_cleaner.state.floatbank5_a_air       0\n",
      "secondary_cleaner.state.floatbank5_a_level     0\n",
      "secondary_cleaner.state.floatbank5_b_air       0\n",
      "secondary_cleaner.state.floatbank5_b_level     0\n",
      "secondary_cleaner.state.floatbank6_a_air       0\n",
      "secondary_cleaner.state.floatbank6_a_level     0\n",
      "dtype: int64\n"
     ]
    }
   ],
   "source": [
    "print ('data_test NaNs:', data_test.isna().sum())\n"
   ]
  },
  {
   "cell_type": "code",
   "execution_count": 13,
   "metadata": {},
   "outputs": [
    {
     "name": "stdout",
     "output_type": "stream",
     "text": [
      "data_full NaNs: final.output.concentrate_ag                     1\n",
      "final.output.concentrate_pb                     1\n",
      "final.output.concentrate_sol                  211\n",
      "final.output.concentrate_au                     0\n",
      "final.output.recovery                           0\n",
      "                                             ... \n",
      "secondary_cleaner.state.floatbank5_a_level      1\n",
      "secondary_cleaner.state.floatbank5_b_air        1\n",
      "secondary_cleaner.state.floatbank5_b_level      1\n",
      "secondary_cleaner.state.floatbank6_a_air        2\n",
      "secondary_cleaner.state.floatbank6_a_level      1\n",
      "Length: 86, dtype: int64\n"
     ]
    }
   ],
   "source": [
    "print ('data_full NaNs:', data_full.isna().sum())\n"
   ]
  },
  {
   "cell_type": "markdown",
   "metadata": {},
   "source": [
    "Most of the gaps are in the Train and Full tables (and in the same column). There should be no gaps, we will delete them. In the test sample, we will replace the gaps with neighboring values, since the condition indicates that they are neighboring values that are close to each other."
   ]
  },
  {
   "cell_type": "markdown",
   "metadata": {},
   "source": [
    "Before proceeding with the analysis, let's create test targets so that the number of rows matches after cleaning out the outliers at the data mining stage."
   ]
  },
  {
   "cell_type": "code",
   "execution_count": 14,
   "metadata": {},
   "outputs": [
    {
     "data": {
      "text/plain": [
       "(5290,)"
      ]
     },
     "execution_count": 14,
     "metadata": {},
     "output_type": "execute_result"
    }
   ],
   "source": [
    "target_test_rougher = data_full['rougher.output.recovery'][data_full.index.isin(data_test.index)].dropna()\n",
    "target_test_rougher.shape"
   ]
  },
  {
   "cell_type": "code",
   "execution_count": 15,
   "metadata": {},
   "outputs": [
    {
     "data": {
      "text/plain": [
       "(5290,)"
      ]
     },
     "execution_count": 15,
     "metadata": {},
     "output_type": "execute_result"
    }
   ],
   "source": [
    "target_test_final = data_full['final.output.recovery'][data_full.index.isin(data_test.index)].dropna()\n",
    "target_test_final.shape"
   ]
  },
  {
   "cell_type": "code",
   "execution_count": 16,
   "metadata": {},
   "outputs": [
    {
     "data": {
      "text/plain": [
       "(5290, 52)"
      ]
     },
     "execution_count": 16,
     "metadata": {},
     "output_type": "execute_result"
    }
   ],
   "source": [
    "data_test = data_test.ffill()\n",
    "data_test.shape"
   ]
  },
  {
   "cell_type": "code",
   "execution_count": 17,
   "metadata": {},
   "outputs": [
    {
     "data": {
      "text/plain": [
       "(11017, 88)"
      ]
     },
     "execution_count": 17,
     "metadata": {},
     "output_type": "execute_result"
    }
   ],
   "source": [
    "data_train = data_train.dropna()\n",
    "data_train.shape"
   ]
  },
  {
   "cell_type": "code",
   "execution_count": 18,
   "metadata": {},
   "outputs": [
    {
     "data": {
      "text/plain": [
       "(16094, 86)"
      ]
     },
     "execution_count": 18,
     "metadata": {},
     "output_type": "execute_result"
    }
   ],
   "source": [
    "data_full = data_full.dropna()\n",
    "data_full.shape"
   ]
  },
  {
   "cell_type": "markdown",
   "metadata": {},
   "source": [
    "## Data analysis"
   ]
  },
  {
   "cell_type": "markdown",
   "metadata": {},
   "source": [
    "### Changing in the concentration of elements at each stage"
   ]
  },
  {
   "cell_type": "markdown",
   "metadata": {},
   "source": [
    "#### Argentum concentration"
   ]
  },
  {
   "cell_type": "code",
   "execution_count": 19,
   "metadata": {},
   "outputs": [
    {
     "data": {
      "image/png": "[encoded data removed]",
      "text/plain": [
       "<Figure size 1080x576 with 1 Axes>"
      ]
     },
     "metadata": {
      "needs_background": "light"
     },
     "output_type": "display_data"
    }
   ],
   "source": [
    "fig, ax = plt.subplots()\n",
    "data_full['rougher.output.concentrate_ag'].plot(kind ='kde', figsize = (15,8))\n",
    "\n",
    "data_full['primary_cleaner.output.concentrate_ag'].plot(kind ='kde', linewidth = 2)\n",
    "\n",
    "data_full['final.output.concentrate_ag'].plot(kind ='kde', linewidth = 2)\n",
    "\n",
    "data_full['rougher.input.feed_ag'].plot(kind ='kde', linewidth = 2)\n",
    "\n",
    "ax.grid(linewidth = 1)\n",
    "ax.grid(linestyle = ':')\n",
    "plt.title('Ag Concentration from purify stage')\n",
    "plt.xlabel('Concentration')\n",
    "plt.legend()\n",
    "plt.xlim(-3,20)\n",
    "plt.show()\n",
    "plt.show()"
   ]
  },
  {
   "cell_type": "markdown",
   "metadata": {},
   "source": [
    "#### Plumbum concentration"
   ]
  },
  {
   "cell_type": "code",
   "execution_count": 20,
   "metadata": {
    "scrolled": false
   },
   "outputs": [
    {
     "data": {
      "image/png": "[encoded data removed]",
      "text/plain": [
       "<Figure size 1080x576 with 1 Axes>"
      ]
     },
     "metadata": {
      "needs_background": "light"
     },
     "output_type": "display_data"
    }
   ],
   "source": [
    "fig, ax = plt.subplots()\n",
    "data_full['rougher.output.concentrate_pb'].plot(kind ='kde', figsize = (15,8))\n",
    "\n",
    "data_full['primary_cleaner.output.concentrate_pb'].plot(kind ='kde', linewidth = 2)\n",
    "\n",
    "data_full['final.output.concentrate_pb'].plot(kind ='kde', linewidth = 2)\n",
    "\n",
    "data_full['rougher.input.feed_pb'].plot(kind ='kde', linewidth = 2)\n",
    "\n",
    "ax.grid(linewidth = 1)\n",
    "ax.grid(linestyle = ':')\n",
    "plt.title('Pb Concentration from purify stage')\n",
    "plt.xlabel('Concentration')\n",
    "plt.legend()\n",
    "plt.xlim(-3,20)\n",
    "plt.show()\n",
    "plt.show()"
   ]
  },
  {
   "cell_type": "markdown",
   "metadata": {},
   "source": [
    "#### Aurum concentration"
   ]
  },
  {
   "cell_type": "code",
   "execution_count": 21,
   "metadata": {},
   "outputs": [
    {
     "data": {
      "image/png": "[encoded data removed]",
      "text/plain": [
       "<Figure size 1080x576 with 1 Axes>"
      ]
     },
     "metadata": {
      "needs_background": "light"
     },
     "output_type": "display_data"
    }
   ],
   "source": [
    "fig, ax = plt.subplots()\n",
    "data_full['rougher.output.concentrate_au'].plot(kind ='kde', figsize = (15,8))\n",
    "\n",
    "data_full['primary_cleaner.output.concentrate_au'].plot(kind ='kde', linewidth = 2)\n",
    "\n",
    "data_full['final.output.concentrate_au'].plot(kind ='kde', linewidth = 2)\n",
    "\n",
    "data_full['rougher.input.feed_au'].plot(kind ='kde', linewidth = 2)\n",
    "\n",
    "ax.grid(linewidth = 1)\n",
    "ax.grid(linestyle = ':')\n",
    "plt.title('Au Concentration from purify stage')\n",
    "plt.xlabel('Concentration')\n",
    "plt.legend()\n",
    "plt.xlim(-3,60)\n",
    "plt.show()\n",
    "plt.show()"
   ]
  },
  {
   "cell_type": "markdown",
   "metadata": {},
   "source": [
    "We can conclude that:\n",
    "1. The concentration of silver after flotation increases, and then begins to decrease with each stage of purification.\n",
    "2. The concentration of lead increases strongly after flotation, then increases gradually after the first stage, after the second stage remains unchanged.\n",
    "3. The concentration of gold is increasing, as it should be.\n",
    "\n",
    "- Around 0, we can see strange zero values, this data may be associated with gaps in filling tables, or with production stops at this moment.\n",
    "\n"
   ]
  },
  {
   "cell_type": "markdown",
   "metadata": {},
   "source": [
    "### Analyze the distribution of granule sizes on the training and test samples"
   ]
  },
  {
   "cell_type": "markdown",
   "metadata": {},
   "source": [
    "Training set"
   ]
  },
  {
   "cell_type": "code",
   "execution_count": 22,
   "metadata": {},
   "outputs": [
    {
     "data": {
      "text/plain": [
       "<AxesSubplot:>"
      ]
     },
     "execution_count": 22,
     "metadata": {},
     "output_type": "execute_result"
    },
    {
     "data": {
      "image/png": "[encoded data removed]",
      "text/plain": [
       "<Figure size 432x288 with 1 Axes>"
      ]
     },
     "metadata": {
      "needs_background": "light"
     },
     "output_type": "display_data"
    }
   ],
   "source": [
    "data_train['rougher.input.feed_size'].hist(bins = 50, density=True, range = (0,200))"
   ]
  },
  {
   "cell_type": "markdown",
   "metadata": {},
   "source": [
    "Test set"
   ]
  },
  {
   "cell_type": "code",
   "execution_count": 23,
   "metadata": {},
   "outputs": [
    {
     "data": {
      "text/plain": [
       "<AxesSubplot:>"
      ]
     },
     "execution_count": 23,
     "metadata": {},
     "output_type": "execute_result"
    },
    {
     "data": {
      "image/png": "[encoded data removed]",
      "text/plain": [
       "<Figure size 432x288 with 1 Axes>"
      ]
     },
     "metadata": {
      "needs_background": "light"
     },
     "output_type": "display_data"
    }
   ],
   "source": [
    "data_test['rougher.input.feed_size'].hist(bins = 50, density=True, range = (0,200))"
   ]
  },
  {
   "cell_type": "markdown",
   "metadata": {},
   "source": [
    "Full set"
   ]
  },
  {
   "cell_type": "code",
   "execution_count": 24,
   "metadata": {},
   "outputs": [
    {
     "data": {
      "text/plain": [
       "<AxesSubplot:>"
      ]
     },
     "execution_count": 24,
     "metadata": {},
     "output_type": "execute_result"
    },
    {
     "data": {
      "image/png": "[encoded data removed]",
      "text/plain": [
       "<Figure size 432x288 with 1 Axes>"
      ]
     },
     "metadata": {
      "needs_background": "light"
     },
     "output_type": "display_data"
    }
   ],
   "source": [
    "data_full['rougher.input.feed_size'].hist(bins = 50, density=True, range = (0,200))"
   ]
  },
  {
   "cell_type": "markdown",
   "metadata": {},
   "source": [
    "The distribution of granules on the Train and Full samples is identical, since these are essentially the same data, only a part was taken from Full for the Test sample. The distribution of granule sizes in the Test sample is very close to the others, so we can consider it as equivalent. The evaluation of the model must be correct."
   ]
  },
  {
   "cell_type": "markdown",
   "metadata": {},
   "source": [
    "### Study the concentrations of products and reagents"
   ]
  },
  {
   "cell_type": "markdown",
   "metadata": {},
   "source": [
    "#### Raw material parameters"
   ]
  },
  {
   "cell_type": "markdown",
   "metadata": {},
   "source": [
    "##### Quantity of metals"
   ]
  },
  {
   "cell_type": "code",
   "execution_count": 25,
   "metadata": {
    "scrolled": true
   },
   "outputs": [
    {
     "data": {
      "text/plain": [
       "<AxesSubplot:>"
      ]
     },
     "execution_count": 25,
     "metadata": {},
     "output_type": "execute_result"
    },
    {
     "data": {
      "image/png": "[encoded data removed]",
      "text/plain": [
       "<Figure size 432x288 with 1 Axes>"
      ]
     },
     "metadata": {
      "needs_background": "light"
     },
     "output_type": "display_data"
    }
   ],
   "source": [
    "data_full['sum_rougher_metals'] = data_full.loc[:,['rougher.input.feed_ag',\n",
    "                                                    'rougher.input.feed_pb',\n",
    "                                                    'rougher.input.feed_sol',\n",
    "                                                    'rougher.input.feed_au']].sum(axis=1)\n",
    "\n",
    "data_full['sum_rougher_metals'].hist(bins = 50)"
   ]
  },
  {
   "cell_type": "markdown",
   "metadata": {},
   "source": [
    "There are zero values in the distribution, they must be removed since zero values are impossible in this case."
   ]
  },
  {
   "cell_type": "code",
   "execution_count": 26,
   "metadata": {},
   "outputs": [],
   "source": [
    "data_full = data_full[data_full['sum_rougher_metals']>0]"
   ]
  },
  {
   "cell_type": "markdown",
   "metadata": {},
   "source": [
    "##### Quantity of metals plus chemicals"
   ]
  },
  {
   "cell_type": "code",
   "execution_count": 27,
   "metadata": {},
   "outputs": [
    {
     "data": {
      "text/plain": [
       "<AxesSubplot:>"
      ]
     },
     "execution_count": 27,
     "metadata": {},
     "output_type": "execute_result"
    },
    {
     "data": {
      "image/png": "[encoded data removed]",
      "text/plain": [
       "<Figure size 432x288 with 1 Axes>"
      ]
     },
     "metadata": {
      "needs_background": "light"
     },
     "output_type": "display_data"
    }
   ],
   "source": [
    "data_full['sum_metals_chem'] = data_full['sum_rougher_metals'] + data_full.loc[:,['rougher.input.floatbank10_sulfate',\n",
    "                                                                                    'rougher.input.floatbank10_xanthate',\n",
    "                                                                                    'rougher.input.floatbank11_sulfate',\n",
    "                                                                                    'rougher.input.floatbank11_xanthate']].sum(axis=1)\n",
    "\n",
    "data_full['sum_metals_chem'].hist(bins=50)"
   ]
  },
  {
   "cell_type": "markdown",
   "metadata": {},
   "source": [
    "#### After leaving flotation"
   ]
  },
  {
   "cell_type": "markdown",
   "metadata": {},
   "source": [
    "##### Product distribution at the flotation outlet"
   ]
  },
  {
   "cell_type": "code",
   "execution_count": 28,
   "metadata": {},
   "outputs": [
    {
     "data": {
      "text/plain": [
       "<AxesSubplot:>"
      ]
     },
     "execution_count": 28,
     "metadata": {},
     "output_type": "execute_result"
    },
    {
     "data": {
      "image/png": "[encoded data removed]",
      "text/plain": [
       "<Figure size 432x288 with 1 Axes>"
      ]
     },
     "metadata": {
      "needs_background": "light"
     },
     "output_type": "display_data"
    }
   ],
   "source": [
    "data_full['sum_rougher_out'] = data_full.loc[:,['rougher.output.concentrate_ag',\n",
    "                                                      'rougher.output.concentrate_pb', \n",
    "                                                      'rougher.output.concentrate_sol',\n",
    "                                                      'rougher.output.concentrate_au',\n",
    "                                                      'rougher.output.tail_ag', \n",
    "                                                      'rougher.output.tail_pb',\n",
    "                                                      'rougher.output.tail_sol', \n",
    "                                                      'rougher.output.tail_au']].sum(axis=1)\n",
    "data_full['sum_rougher_out'].hist(bins = 50)"
   ]
  },
  {
   "cell_type": "markdown",
   "metadata": {},
   "source": [
    "We need to drop nulls"
   ]
  },
  {
   "cell_type": "code",
   "execution_count": 29,
   "metadata": {},
   "outputs": [],
   "source": [
    "data_full = data_full[data_full['sum_rougher_out']>0]"
   ]
  },
  {
   "cell_type": "markdown",
   "metadata": {},
   "source": [
    "##### Metals concentration after flotation"
   ]
  },
  {
   "cell_type": "code",
   "execution_count": 30,
   "metadata": {},
   "outputs": [
    {
     "data": {
      "text/plain": [
       "<AxesSubplot:>"
      ]
     },
     "execution_count": 30,
     "metadata": {},
     "output_type": "execute_result"
    },
    {
     "data": {
      "image/png": "[encoded data removed]",
      "text/plain": [
       "<Figure size 432x288 with 1 Axes>"
      ]
     },
     "metadata": {
      "needs_background": "light"
     },
     "output_type": "display_data"
    }
   ],
   "source": [
    "data_full['sum_rougher_out_conc'] = data_full.loc[:,['rougher.output.concentrate_ag',\n",
    "                                                        'rougher.output.concentrate_pb', \n",
    "                                                        'rougher.output.concentrate_sol',\n",
    "                                                        'rougher.output.concentrate_au']].sum(axis=1)\n",
    "data_full['sum_rougher_out_conc'].hist(bins = 50)"
   ]
  },
  {
   "cell_type": "markdown",
   "metadata": {},
   "source": [
    "Let's drop nulls"
   ]
  },
  {
   "cell_type": "code",
   "execution_count": 31,
   "metadata": {},
   "outputs": [],
   "source": [
    "data_full = data_full[data_full['sum_rougher_out_conc']>0]"
   ]
  },
  {
   "cell_type": "markdown",
   "metadata": {},
   "source": [
    "##### Enrichment efficiency"
   ]
  },
  {
   "cell_type": "code",
   "execution_count": 32,
   "metadata": {},
   "outputs": [
    {
     "data": {
      "text/plain": [
       "<AxesSubplot:>"
      ]
     },
     "execution_count": 32,
     "metadata": {},
     "output_type": "execute_result"
    },
    {
     "data": {
      "image/png": "[encoded data removed]",
      "text/plain": [
       "<Figure size 432x288 with 1 Axes>"
      ]
     },
     "metadata": {
      "needs_background": "light"
     },
     "output_type": "display_data"
    }
   ],
   "source": [
    "data_full['rougher.output.recovery'].hist(bins = 50,range =(20,150))"
   ]
  },
  {
   "cell_type": "markdown",
   "metadata": {},
   "source": [
    "#### Distribution of products after the first purification stage"
   ]
  },
  {
   "cell_type": "markdown",
   "metadata": {},
   "source": [
    "##### Output of metals"
   ]
  },
  {
   "cell_type": "code",
   "execution_count": 33,
   "metadata": {},
   "outputs": [
    {
     "data": {
      "text/plain": [
       "<AxesSubplot:>"
      ]
     },
     "execution_count": 33,
     "metadata": {},
     "output_type": "execute_result"
    },
    {
     "data": {
      "image/png": "[encoded data removed]",
      "text/plain": [
       "<Figure size 432x288 with 1 Axes>"
      ]
     },
     "metadata": {
      "needs_background": "light"
     },
     "output_type": "display_data"
    }
   ],
   "source": [
    "data_full['sum_output_primary'] = data_full[['primary_cleaner.output.concentrate_ag',\n",
    "                                             'primary_cleaner.output.concentrate_pb',\n",
    "                                             'primary_cleaner.output.concentrate_sol',\n",
    "                                             'primary_cleaner.output.concentrate_au',\n",
    "                                             'primary_cleaner.output.tail_ag', \n",
    "                                             'primary_cleaner.output.tail_pb',\n",
    "                                             'primary_cleaner.output.tail_sol', \n",
    "                                             'primary_cleaner.output.tail_au']].sum(axis=1)\n",
    "\n",
    "data_full['sum_output_primary'].hist(bins = 50)"
   ]
  },
  {
   "cell_type": "markdown",
   "metadata": {},
   "source": [
    "##### Metals concentration"
   ]
  },
  {
   "cell_type": "code",
   "execution_count": 34,
   "metadata": {},
   "outputs": [
    {
     "data": {
      "text/plain": [
       "<AxesSubplot:>"
      ]
     },
     "execution_count": 34,
     "metadata": {},
     "output_type": "execute_result"
    },
    {
     "data": {
      "image/png": "[encoded data removed]",
      "text/plain": [
       "<Figure size 432x288 with 1 Axes>"
      ]
     },
     "metadata": {
      "needs_background": "light"
     },
     "output_type": "display_data"
    }
   ],
   "source": [
    "data_full['sum_output_primary_conc'] = data_full[['primary_cleaner.output.concentrate_ag',\n",
    "                                                  'primary_cleaner.output.concentrate_pb',\n",
    "                                                  'primary_cleaner.output.concentrate_sol',\n",
    "                                                  'primary_cleaner.output.concentrate_au']].sum(axis=1)\n",
    "\n",
    "data_full['sum_output_primary_conc'].hist(bins = 50)"
   ]
  },
  {
   "cell_type": "markdown",
   "metadata": {},
   "source": [
    "Let's drop nulls"
   ]
  },
  {
   "cell_type": "code",
   "execution_count": 35,
   "metadata": {},
   "outputs": [],
   "source": [
    "data_full = data_full[data_full['sum_output_primary_conc']>0]"
   ]
  },
  {
   "cell_type": "markdown",
   "metadata": {},
   "source": [
    "##### Chemicals concentration"
   ]
  },
  {
   "cell_type": "code",
   "execution_count": 36,
   "metadata": {},
   "outputs": [
    {
     "data": {
      "text/plain": [
       "<AxesSubplot:>"
      ]
     },
     "execution_count": 36,
     "metadata": {},
     "output_type": "execute_result"
    },
    {
     "data": {
      "image/png": "[encoded data removed]",
      "text/plain": [
       "<Figure size 432x288 with 1 Axes>"
      ]
     },
     "metadata": {
      "needs_background": "light"
     },
     "output_type": "display_data"
    }
   ],
   "source": [
    "data_full['sum_input_primary'] = data_full[['primary_cleaner.input.sulfate', \n",
    "                                            'primary_cleaner.input.depressant', \n",
    "                                            'primary_cleaner.input.xanthate']].sum(axis=1)\n",
    "\n",
    "data_full['sum_output_primary'].hist(bins = 50)"
   ]
  },
  {
   "cell_type": "markdown",
   "metadata": {},
   "source": [
    "#### After the second cleaning step"
   ]
  },
  {
   "cell_type": "code",
   "execution_count": 37,
   "metadata": {},
   "outputs": [
    {
     "data": {
      "text/plain": [
       "<AxesSubplot:>"
      ]
     },
     "execution_count": 37,
     "metadata": {},
     "output_type": "execute_result"
    },
    {
     "data": {
      "image/png": "[encoded data removed]",
      "text/plain": [
       "<Figure size 432x288 with 1 Axes>"
      ]
     },
     "metadata": {
      "needs_background": "light"
     },
     "output_type": "display_data"
    }
   ],
   "source": [
    "data_full['sum_secondary_metals'] = data_full[['secondary_cleaner.output.tail_ag',\n",
    "                                             'secondary_cleaner.output.tail_pb',\n",
    "                                             'secondary_cleaner.output.tail_sol', \n",
    "                                             'secondary_cleaner.output.tail_au']].sum(axis=1)\n",
    "data_full['sum_secondary_metals'].hist(bins = 50)"
   ]
  },
  {
   "cell_type": "markdown",
   "metadata": {},
   "source": [
    "Let's drop nulls"
   ]
  },
  {
   "cell_type": "code",
   "execution_count": 38,
   "metadata": {},
   "outputs": [],
   "source": [
    "data_full = data_full[data_full['sum_secondary_metals']>0]"
   ]
  },
  {
   "cell_type": "markdown",
   "metadata": {},
   "source": [
    "#### After the final cleaning step"
   ]
  },
  {
   "cell_type": "markdown",
   "metadata": {},
   "source": [
    "##### The total amount of metals with \"tails\""
   ]
  },
  {
   "cell_type": "code",
   "execution_count": 39,
   "metadata": {},
   "outputs": [
    {
     "data": {
      "text/plain": [
       "<AxesSubplot:>"
      ]
     },
     "execution_count": 39,
     "metadata": {},
     "output_type": "execute_result"
    },
    {
     "data": {
      "image/png": "[encoded data removed]",
      "text/plain": [
       "<Figure size 432x288 with 1 Axes>"
      ]
     },
     "metadata": {
      "needs_background": "light"
     },
     "output_type": "display_data"
    }
   ],
   "source": [
    "data_full['sum_output_final'] = data_full[['final.output.concentrate_ag', \n",
    "                                         'final.output.concentrate_pb',\n",
    "                                         'final.output.concentrate_sol', \n",
    "                                         'final.output.concentrate_au',\n",
    "                                         'final.output.tail_ag', \n",
    "                                         'final.output.tail_pb',\n",
    "                                         'final.output.tail_sol', \n",
    "                                         'final.output.tail_au']].sum(axis=1)\n",
    "\n",
    "data_full['sum_output_final'].hist(bins=50)"
   ]
  },
  {
   "cell_type": "markdown",
   "metadata": {},
   "source": [
    "##### Precious metal concentrations"
   ]
  },
  {
   "cell_type": "code",
   "execution_count": 40,
   "metadata": {},
   "outputs": [
    {
     "data": {
      "text/plain": [
       "<AxesSubplot:>"
      ]
     },
     "execution_count": 40,
     "metadata": {},
     "output_type": "execute_result"
    },
    {
     "data": {
      "image/png": "[encoded data removed]",
      "text/plain": [
       "<Figure size 432x288 with 1 Axes>"
      ]
     },
     "metadata": {
      "needs_background": "light"
     },
     "output_type": "display_data"
    }
   ],
   "source": [
    "data_full['sum_output_final_conc'] = data_full[['final.output.concentrate_ag', \n",
    "                                                  'final.output.concentrate_pb',\n",
    "                                                  'final.output.concentrate_sol', \n",
    "                                                  'final.output.concentrate_au']].sum(axis=1)\n",
    "\n",
    "data_full['sum_output_final_conc'].hist(bins = 50)"
   ]
  },
  {
   "cell_type": "markdown",
   "metadata": {},
   "source": [
    "We will remove the zero values, since, most likely, this is impossible."
   ]
  },
  {
   "cell_type": "code",
   "execution_count": 41,
   "metadata": {},
   "outputs": [],
   "source": [
    "data_full = data_full[data_full['sum_output_final_conc']>0]"
   ]
  },
  {
   "cell_type": "markdown",
   "metadata": {},
   "source": [
    "##### Final enrichment efficiency"
   ]
  },
  {
   "cell_type": "code",
   "execution_count": 42,
   "metadata": {
    "scrolled": true
   },
   "outputs": [
    {
     "data": {
      "text/plain": [
       "<AxesSubplot:>"
      ]
     },
     "execution_count": 42,
     "metadata": {},
     "output_type": "execute_result"
    },
    {
     "data": {
      "image/png": "[encoded data removed]",
      "text/plain": [
       "<Figure size 432x288 with 1 Axes>"
      ]
     },
     "metadata": {
      "needs_background": "light"
     },
     "output_type": "display_data"
    }
   ],
   "source": [
    "data_full['final.output.recovery'].hist(bins = 50, range = (20,150))"
   ]
  },
  {
   "cell_type": "code",
   "execution_count": 43,
   "metadata": {},
   "outputs": [],
   "source": [
    "data_full = data_full[data_full['final.output.recovery']<90]"
   ]
  },
  {
   "cell_type": "markdown",
   "metadata": {},
   "source": [
    "### Intermediate output"
   ]
  },
  {
   "cell_type": "markdown",
   "metadata": {},
   "source": [
    "- We examined all the data. Concentrations of each metal, total amounts of metals, reagents at all stages of processing.\n",
    "- We have removed zero values in all data as they could interfere with the model to train.\n",
    "- The distribution on all graphs is \"normal\".\n",
    "- It can be concluded that it is possible to work further with such data."
   ]
  },
  {
   "cell_type": "markdown",
   "metadata": {},
   "source": [
    "### Extra parameters in the training sample"
   ]
  },
  {
   "cell_type": "markdown",
   "metadata": {},
   "source": [
    "#### Find extra parameters"
   ]
  },
  {
   "cell_type": "markdown",
   "metadata": {},
   "source": [
    "Let's compare the parameters of the test and training samples"
   ]
  },
  {
   "cell_type": "code",
   "execution_count": 44,
   "metadata": {},
   "outputs": [
    {
     "data": {
      "text/plain": [
       "{'MAE_rou',\n",
       " 'final.output.concentrate_ag',\n",
       " 'final.output.concentrate_au',\n",
       " 'final.output.concentrate_pb',\n",
       " 'final.output.concentrate_sol',\n",
       " 'final.output.recovery',\n",
       " 'final.output.tail_ag',\n",
       " 'final.output.tail_au',\n",
       " 'final.output.tail_pb',\n",
       " 'final.output.tail_sol',\n",
       " 'primary_cleaner.output.concentrate_ag',\n",
       " 'primary_cleaner.output.concentrate_au',\n",
       " 'primary_cleaner.output.concentrate_pb',\n",
       " 'primary_cleaner.output.concentrate_sol',\n",
       " 'primary_cleaner.output.tail_ag',\n",
       " 'primary_cleaner.output.tail_au',\n",
       " 'primary_cleaner.output.tail_pb',\n",
       " 'primary_cleaner.output.tail_sol',\n",
       " 'recovery_rougher',\n",
       " 'rougher.calculation.au_pb_ratio',\n",
       " 'rougher.calculation.floatbank10_sulfate_to_au_feed',\n",
       " 'rougher.calculation.floatbank11_sulfate_to_au_feed',\n",
       " 'rougher.calculation.sulfate_to_au_concentrate',\n",
       " 'rougher.output.concentrate_ag',\n",
       " 'rougher.output.concentrate_au',\n",
       " 'rougher.output.concentrate_pb',\n",
       " 'rougher.output.concentrate_sol',\n",
       " 'rougher.output.recovery',\n",
       " 'rougher.output.tail_ag',\n",
       " 'rougher.output.tail_au',\n",
       " 'rougher.output.tail_pb',\n",
       " 'rougher.output.tail_sol',\n",
       " 'secondary_cleaner.output.tail_ag',\n",
       " 'secondary_cleaner.output.tail_au',\n",
       " 'secondary_cleaner.output.tail_pb',\n",
       " 'secondary_cleaner.output.tail_sol'}"
      ]
     },
     "execution_count": 44,
     "metadata": {},
     "output_type": "execute_result"
    }
   ],
   "source": [
    "set (data_train.columns).symmetric_difference(data_test.columns)"
   ]
  },
  {
   "cell_type": "markdown",
   "metadata": {},
   "source": [
    "They need to be removed from the training sample, since it is still unknown about them in the test sample. Because they are recognized only at the end of the process. If you leave them, the model will retrain."
   ]
  },
  {
   "cell_type": "code",
   "execution_count": 45,
   "metadata": {},
   "outputs": [],
   "source": [
    "data_train_new = data_train.drop (['MAE_rou',\n",
    " 'final.output.concentrate_ag',\n",
    " 'final.output.concentrate_au',\n",
    " 'final.output.concentrate_pb',\n",
    " 'final.output.concentrate_sol',\n",
    " 'final.output.recovery',\n",
    " 'final.output.tail_ag',\n",
    " 'final.output.tail_au',\n",
    " 'final.output.tail_pb',\n",
    " 'final.output.tail_sol',\n",
    " 'primary_cleaner.output.concentrate_ag',\n",
    " 'primary_cleaner.output.concentrate_au',\n",
    " 'primary_cleaner.output.concentrate_pb',\n",
    " 'primary_cleaner.output.concentrate_sol',\n",
    " 'primary_cleaner.output.tail_ag',\n",
    " 'primary_cleaner.output.tail_au',\n",
    " 'primary_cleaner.output.tail_pb',\n",
    " 'primary_cleaner.output.tail_sol',\n",
    " 'recovery_rougher',\n",
    " 'rougher.calculation.au_pb_ratio',\n",
    " 'rougher.calculation.floatbank10_sulfate_to_au_feed',\n",
    " 'rougher.calculation.floatbank11_sulfate_to_au_feed',\n",
    " 'rougher.calculation.sulfate_to_au_concentrate',\n",
    " 'rougher.output.concentrate_ag',\n",
    " 'rougher.output.concentrate_au',\n",
    " 'rougher.output.concentrate_pb',\n",
    " 'rougher.output.concentrate_sol',\n",
    " 'rougher.output.recovery',\n",
    " 'rougher.output.tail_ag',\n",
    " 'rougher.output.tail_au',\n",
    " 'rougher.output.tail_pb',\n",
    " 'rougher.output.tail_sol',\n",
    " 'secondary_cleaner.output.tail_ag',\n",
    " 'secondary_cleaner.output.tail_au',\n",
    " 'secondary_cleaner.output.tail_pb',\n",
    " 'secondary_cleaner.output.tail_sol'], axis=1)"
   ]
  },
  {
   "cell_type": "code",
   "execution_count": 46,
   "metadata": {},
   "outputs": [
    {
     "data": {
      "text/plain": [
       "set()"
      ]
     },
     "execution_count": 46,
     "metadata": {},
     "output_type": "execute_result"
    }
   ],
   "source": [
    "set (data_train_new.columns).symmetric_difference(data_test.columns)"
   ]
  },
  {
   "cell_type": "markdown",
   "metadata": {},
   "source": [
    "## The model"
   ]
  },
  {
   "cell_type": "markdown",
   "metadata": {},
   "source": [
    "### Let's highlight the target and training features"
   ]
  },
  {
   "cell_type": "markdown",
   "metadata": {},
   "source": [
    "Select the target feature from the original Train sample, since we removed it in the modified Train_new."
   ]
  },
  {
   "cell_type": "code",
   "execution_count": 47,
   "metadata": {},
   "outputs": [],
   "source": [
    "target_train_rougher = data_train['rougher.output.recovery'].reset_index(drop=True).dropna()\n",
    "target_train_final = data_train['final.output.recovery'].reset_index(drop=True).dropna()"
   ]
  },
  {
   "cell_type": "code",
   "execution_count": 48,
   "metadata": {},
   "outputs": [],
   "source": [
    "\n",
    "features_train = data_train_new"
   ]
  },
  {
   "cell_type": "markdown",
   "metadata": {},
   "source": [
    "### The function for sMAPE"
   ]
  },
  {
   "cell_type": "code",
   "execution_count": 49,
   "metadata": {},
   "outputs": [],
   "source": [
    "def smape(predictions, target):\n",
    "    return 100/len(predictions) * np.sum(2 * np.abs(target - predictions) / (np.abs(predictions) + np.abs(target)))"
   ]
  },
  {
   "cell_type": "code",
   "execution_count": 50,
   "metadata": {},
   "outputs": [],
   "source": [
    "def smape_total(smape_rougher, smape_final):\n",
    "    return smape_rougher*0.25 + smape_final*0.75"
   ]
  },
  {
   "cell_type": "markdown",
   "metadata": {},
   "source": [
    "### Calculate sMAPE for the sample mean"
   ]
  },
  {
   "cell_type": "code",
   "execution_count": 51,
   "metadata": {},
   "outputs": [],
   "source": [
    "mean_rougher = [target_train_rougher.median()]*len(target_train_rougher)\n",
    "mean_final = [target_train_final.median()]*len(target_train_final)"
   ]
  },
  {
   "cell_type": "code",
   "execution_count": 52,
   "metadata": {},
   "outputs": [
    {
     "data": {
      "text/plain": [
       "10.472801956400412"
      ]
     },
     "execution_count": 52,
     "metadata": {},
     "output_type": "execute_result"
    }
   ],
   "source": [
    "smape_rougher = smape(mean_rougher, target_train_rougher)\n",
    "smape_rougher"
   ]
  },
  {
   "cell_type": "code",
   "execution_count": 53,
   "metadata": {},
   "outputs": [
    {
     "data": {
      "text/plain": [
       "9.550327931020822"
      ]
     },
     "execution_count": 53,
     "metadata": {},
     "output_type": "execute_result"
    }
   ],
   "source": [
    "smape_final = smape(mean_final, target_train_final)\n",
    "smape_final"
   ]
  },
  {
   "cell_type": "code",
   "execution_count": 54,
   "metadata": {},
   "outputs": [
    {
     "data": {
      "text/plain": [
       "9.78"
      ]
     },
     "execution_count": 54,
     "metadata": {},
     "output_type": "execute_result"
    }
   ],
   "source": [
    "smape_check = smape_total(smape_rougher, smape_final)\n",
    "round (smape_check,2)"
   ]
  },
  {
   "cell_type": "markdown",
   "metadata": {},
   "source": [
    "In further research, we will use smape_check as the maximum possible value of sMAPE."
   ]
  },
  {
   "cell_type": "markdown",
   "metadata": {},
   "source": [
    "### Define models, train them and compare them with cross-validation"
   ]
  },
  {
   "cell_type": "markdown",
   "metadata": {},
   "source": [
    "For modeling, regression models were chosen, since the target feature is quantitative, not qualitative:\n",
    "- Linear Regression - LinearRegression\n",
    "- Random Regression Forest - RandomForestRegressor\n",
    "- Random regression tree - DecisionTreeRegressor"
   ]
  },
  {
   "cell_type": "markdown",
   "metadata": {},
   "source": [
    "Let's create a metric for our models"
   ]
  },
  {
   "cell_type": "code",
   "execution_count": 55,
   "metadata": {},
   "outputs": [],
   "source": [
    "score = make_scorer(smape, greater_is_better = True)"
   ]
  },
  {
   "cell_type": "markdown",
   "metadata": {},
   "source": [
    "#### Linear regression"
   ]
  },
  {
   "cell_type": "markdown",
   "metadata": {},
   "source": [
    "After flotation"
   ]
  },
  {
   "cell_type": "code",
   "execution_count": 56,
   "metadata": {},
   "outputs": [
    {
     "data": {
      "text/plain": [
       "10.722350370090114"
      ]
     },
     "execution_count": 56,
     "metadata": {},
     "output_type": "execute_result"
    }
   ],
   "source": [
    "LRR_model = LinearRegression ()\n",
    "#LRR_model.fit (features_train, target_train_rougher)\n",
    "LRR_scores = cross_val_score(LRR_model, features_train, target_train_rougher, scoring = score, cv=10) \n",
    "LRR_scores.mean()"
   ]
  },
  {
   "cell_type": "markdown",
   "metadata": {},
   "source": [
    "After final cleaning"
   ]
  },
  {
   "cell_type": "code",
   "execution_count": 57,
   "metadata": {},
   "outputs": [
    {
     "data": {
      "text/plain": [
       "9.221891318189325"
      ]
     },
     "execution_count": 57,
     "metadata": {},
     "output_type": "execute_result"
    }
   ],
   "source": [
    "LRF_model = LinearRegression ()\n",
    "#LRF_model.fit (features_train, target_train_final)\n",
    "LRF_scores = cross_val_score(LRF_model, features_train, target_train_final, scoring = score, cv=10) \n",
    "LRF_scores.mean()"
   ]
  },
  {
   "cell_type": "markdown",
   "metadata": {},
   "source": [
    "The results of the linear regression are above our threshold, take note of it."
   ]
  },
  {
   "cell_type": "markdown",
   "metadata": {},
   "source": [
    "#### Random forest of regression"
   ]
  },
  {
   "cell_type": "markdown",
   "metadata": {},
   "source": [
    "Let's select hyperparameters for a random forest"
   ]
  },
  {
   "cell_type": "code",
   "execution_count": 58,
   "metadata": {},
   "outputs": [
    {
     "name": "stdout",
     "output_type": "stream",
     "text": [
      "best_depth: 4\n",
      "best_est: 4\n",
      "cross_val_score: 10.914595807549524\n"
     ]
    }
   ],
   "source": [
    "best_result_est = 100\n",
    "best_depth = 0\n",
    "best_est = 0\n",
    "\n",
    "for est in range(1, 5):\n",
    "    for depth in range(1, 5):\n",
    "        model = RandomForestRegressor(random_state=state, n_estimators=est, max_depth=depth)\n",
    "        model.fit(features_train, target_train_final)\n",
    "        predicted_valid = model.predict(data_test)\n",
    "        result = (cross_val_score(model, features_train, target_train_rougher, scoring = score, cv=3)).mean()\n",
    "\n",
    "        if result < best_result_est:\n",
    "            best_result_est = result\n",
    "            best_depth = depth\n",
    "            best_est = est\n",
    "\n",
    "print('best_depth:', best_depth)\n",
    "print('best_est:', best_est)\n",
    "print('cross_val_score:', best_result_est)\n"
   ]
  },
  {
   "cell_type": "markdown",
   "metadata": {},
   "source": [
    "After flotation"
   ]
  },
  {
   "cell_type": "code",
   "execution_count": 59,
   "metadata": {},
   "outputs": [
    {
     "data": {
      "text/plain": [
       "10.914595807549524"
      ]
     },
     "execution_count": 59,
     "metadata": {},
     "output_type": "execute_result"
    }
   ],
   "source": [
    "RFR_model = RandomForestRegressor (random_state = state, n_estimators=4, max_depth=4)\n",
    "#RFR_model.fit (features_train, target_train_rougher)\n",
    "RFR_scores = cross_val_score(RFR_model, features_train, target_train_rougher, scoring = score, cv=3) \n",
    "RFR_scores.mean()"
   ]
  },
  {
   "cell_type": "markdown",
   "metadata": {},
   "source": [
    "After final cleaning"
   ]
  },
  {
   "cell_type": "code",
   "execution_count": 60,
   "metadata": {},
   "outputs": [
    {
     "data": {
      "text/plain": [
       "9.690594478084249"
      ]
     },
     "execution_count": 60,
     "metadata": {},
     "output_type": "execute_result"
    }
   ],
   "source": [
    "RFF_model = RandomForestRegressor (random_state = state, n_estimators=4, max_depth=4)\n",
    "#RFF_model.fit (features_train, target_train_final)\n",
    "RFF_scores = cross_val_score(RFF_model, features_train, target_train_final, scoring = score, cv=3) \n",
    "RFF_scores.mean()"
   ]
  },
  {
   "cell_type": "markdown",
   "metadata": {},
   "source": [
    "The random forest showed sMAPE values higher than the linear regression, we cross it out of the list."
   ]
  },
  {
   "cell_type": "markdown",
   "metadata": {},
   "source": [
    "#### Random tree regressor"
   ]
  },
  {
   "cell_type": "markdown",
   "metadata": {},
   "source": [
    "After flotation"
   ]
  },
  {
   "cell_type": "code",
   "execution_count": 61,
   "metadata": {},
   "outputs": [
    {
     "data": {
      "text/plain": [
       "20.482442135279694"
      ]
     },
     "execution_count": 61,
     "metadata": {},
     "output_type": "execute_result"
    }
   ],
   "source": [
    "DTR_model = DecisionTreeRegressor (random_state = state)\n",
    "#DTR_model.fit (features_train, target_train_rougher)\n",
    "DTR_scores = cross_val_score(DTR_model, features_train, target_train_rougher, scoring = score, cv=3) \n",
    "DTR_scores.mean()"
   ]
  },
  {
   "cell_type": "markdown",
   "metadata": {},
   "source": [
    "After final cleaning"
   ]
  },
  {
   "cell_type": "code",
   "execution_count": 62,
   "metadata": {},
   "outputs": [
    {
     "data": {
      "text/plain": [
       "17.757678540396952"
      ]
     },
     "execution_count": 62,
     "metadata": {},
     "output_type": "execute_result"
    }
   ],
   "source": [
    "DTF_model = DecisionTreeRegressor (random_state = state)\n",
    "#DTF_model.fit (features_train, target_train_final)\n",
    "DTF_scores = cross_val_score(DTF_model, features_train, target_train_final, scoring = score, cv=3) \n",
    "DTF_scores.mean()"
   ]
  },
  {
   "cell_type": "markdown",
   "metadata": {},
   "source": [
    "The random tree showed the worst results in sMAPE. we will not take this model."
   ]
  },
  {
   "cell_type": "markdown",
   "metadata": {},
   "source": [
    "#### Model Inference"
   ]
  },
  {
   "cell_type": "markdown",
   "metadata": {},
   "source": [
    "Linear regression turned out to be the best model"
   ]
  },
  {
   "cell_type": "markdown",
   "metadata": {},
   "source": [
    "### Check the quality of the model on the test sample"
   ]
  },
  {
   "cell_type": "markdown",
   "metadata": {},
   "source": [
    "#### Train the Model"
   ]
  },
  {
   "cell_type": "code",
   "execution_count": 63,
   "metadata": {},
   "outputs": [
    {
     "data": {
      "text/plain": [
       "LinearRegression()"
      ]
     },
     "execution_count": 63,
     "metadata": {},
     "output_type": "execute_result"
    }
   ],
   "source": [
    "LRR_model = LinearRegression ()\n",
    "LRR_model.fit (features_train, target_train_rougher)\n",
    "\n",
    "LRF_model = LinearRegression ()\n",
    "LRF_model.fit (features_train, target_train_final)"
   ]
  },
  {
   "cell_type": "markdown",
   "metadata": {},
   "source": [
    "#### Let's make predictions on a test sample"
   ]
  },
  {
   "cell_type": "code",
   "execution_count": 64,
   "metadata": {},
   "outputs": [],
   "source": [
    "predictions_rougher = LRR_model.predict(data_test)\n",
    "predictions_final = LRF_model.predict(data_test)\n"
   ]
  },
  {
   "cell_type": "code",
   "execution_count": 65,
   "metadata": {},
   "outputs": [
    {
     "data": {
      "text/plain": [
       "(5290, 5290)"
      ]
     },
     "execution_count": 65,
     "metadata": {},
     "output_type": "execute_result"
    }
   ],
   "source": [
    "len(data_test), len(target_test_rougher)"
   ]
  },
  {
   "cell_type": "code",
   "execution_count": 66,
   "metadata": {},
   "outputs": [
    {
     "data": {
      "text/plain": [
       "10.430874150699305"
      ]
     },
     "execution_count": 66,
     "metadata": {},
     "output_type": "execute_result"
    }
   ],
   "source": [
    "smape_test_rougher = smape(predictions_rougher, target_test_rougher) \n",
    "smape_test_rougher"
   ]
  },
  {
   "cell_type": "code",
   "execution_count": 67,
   "metadata": {},
   "outputs": [
    {
     "data": {
      "text/plain": [
       "9.315925197629934"
      ]
     },
     "execution_count": 67,
     "metadata": {},
     "output_type": "execute_result"
    }
   ],
   "source": [
    "smape_test_final = smape(predictions_final, target_test_final) \n",
    "smape_test_final"
   ]
  },
  {
   "cell_type": "code",
   "execution_count": 68,
   "metadata": {},
   "outputs": [
    {
     "data": {
      "text/plain": [
       "9.59"
      ]
     },
     "execution_count": 68,
     "metadata": {},
     "output_type": "execute_result"
    }
   ],
   "source": [
    "smape_model_check = smape_total(smape_test_rougher, smape_test_final)\n",
    "round (smape_model_check, 2)"
   ]
  },
  {
   "cell_type": "code",
   "execution_count": 69,
   "metadata": {},
   "outputs": [
    {
     "name": "stdout",
     "output_type": "stream",
     "text": [
      "The model has been passed the test\n"
     ]
    }
   ],
   "source": [
    "if smape_model_check < smape_check:\n",
    "    print ('The model has been passed the test')\n",
    "else:\n",
    "    print ('The model has not been passed the test')"
   ]
  },
  {
   "cell_type": "markdown",
   "metadata": {},
   "source": [
    "## General conclusion"
   ]
  },
  {
   "cell_type": "markdown",
   "metadata": {},
   "source": [
    "- The data has been studied and pre-processed.\n",
    "- Conducted exploratory data analysis, removed outliers.\n",
    "- Selected features for training the model at the rougher and final stages.\n",
    "- Carried out cross-validation of models, the best model of choice is Linear regression.\n",
    "- Evaluation of the model on the test sample confirmed the choice. SMAPE = 9.59. With a sMAPE value for the sample mean of 9.78."
   ]
  }
 ],
 "metadata": {
  "ExecuteTimeLog": [
   {
    "duration": 142,
    "start_time": "2022-10-03T10:19:39.140Z"
   },
   {
    "duration": 1459,
    "start_time": "2022-10-03T10:20:22.593Z"
   },
   {
    "duration": 132,
    "start_time": "2022-10-03T10:21:59.645Z"
   },
   {
    "duration": 46,
    "start_time": "2022-10-03T10:23:49.679Z"
   },
   {
    "duration": 134,
    "start_time": "2022-10-03T10:23:56.704Z"
   },
   {
    "duration": 46,
    "start_time": "2022-10-03T10:24:12.191Z"
   },
   {
    "duration": 527,
    "start_time": "2022-10-03T10:26:13.615Z"
   },
   {
    "duration": 4,
    "start_time": "2022-10-03T10:27:38.890Z"
   },
   {
    "duration": 144,
    "start_time": "2022-10-03T10:27:48.871Z"
   },
   {
    "duration": 1428,
    "start_time": "2022-10-03T10:27:55.131Z"
   },
   {
    "duration": 561,
    "start_time": "2022-10-03T10:28:39.245Z"
   },
   {
    "duration": 294,
    "start_time": "2022-10-03T10:28:45.811Z"
   },
   {
    "duration": 288,
    "start_time": "2022-10-03T10:29:03.789Z"
   },
   {
    "duration": 117,
    "start_time": "2022-10-03T10:31:56.507Z"
   },
   {
    "duration": 415,
    "start_time": "2022-10-03T10:32:09.901Z"
   },
   {
    "duration": 29,
    "start_time": "2022-10-03T10:45:07.092Z"
   },
   {
    "duration": 3,
    "start_time": "2022-10-03T10:55:08.216Z"
   },
   {
    "duration": 3,
    "start_time": "2022-10-03T10:55:20.549Z"
   },
   {
    "duration": 281,
    "start_time": "2022-10-03T10:57:38.275Z"
   },
   {
    "duration": 9,
    "start_time": "2022-10-03T11:00:51.015Z"
   },
   {
    "duration": 9,
    "start_time": "2022-10-03T11:01:10.821Z"
   },
   {
    "duration": 10,
    "start_time": "2022-10-03T11:04:01.038Z"
   },
   {
    "duration": 9,
    "start_time": "2022-10-03T11:06:56.087Z"
   },
   {
    "duration": 5,
    "start_time": "2022-10-03T11:07:42.150Z"
   },
   {
    "duration": 4,
    "start_time": "2022-10-03T11:07:49.172Z"
   },
   {
    "duration": 6,
    "start_time": "2022-10-03T11:08:23.177Z"
   },
   {
    "duration": 7,
    "start_time": "2022-10-03T11:08:53.407Z"
   },
   {
    "duration": 6,
    "start_time": "2022-10-03T11:08:54.305Z"
   },
   {
    "duration": 4,
    "start_time": "2022-10-03T11:15:22.050Z"
   },
   {
    "duration": 19,
    "start_time": "2022-10-03T11:16:46.570Z"
   },
   {
    "duration": 22,
    "start_time": "2022-10-03T11:17:44.088Z"
   },
   {
    "duration": 23,
    "start_time": "2022-10-03T11:18:20.155Z"
   },
   {
    "duration": 8,
    "start_time": "2022-10-03T11:18:27.031Z"
   },
   {
    "duration": 7,
    "start_time": "2022-10-03T11:18:35.405Z"
   },
   {
    "duration": 10,
    "start_time": "2022-10-03T11:18:45.158Z"
   },
   {
    "duration": 7,
    "start_time": "2022-10-03T11:18:54.368Z"
   },
   {
    "duration": 8,
    "start_time": "2022-10-03T11:19:02.369Z"
   },
   {
    "duration": 8,
    "start_time": "2022-10-03T11:19:16.744Z"
   },
   {
    "duration": 6,
    "start_time": "2022-10-03T11:19:22.252Z"
   },
   {
    "duration": 3,
    "start_time": "2022-10-03T11:20:11.577Z"
   },
   {
    "duration": 1423,
    "start_time": "2022-10-03T11:20:19.114Z"
   },
   {
    "duration": 282,
    "start_time": "2022-10-03T11:20:20.539Z"
   },
   {
    "duration": 93,
    "start_time": "2022-10-03T11:20:20.822Z"
   },
   {
    "duration": 359,
    "start_time": "2022-10-03T11:20:20.917Z"
   },
   {
    "duration": 18,
    "start_time": "2022-10-03T11:20:21.279Z"
   },
   {
    "duration": 9,
    "start_time": "2022-10-03T11:20:21.299Z"
   },
   {
    "duration": 15,
    "start_time": "2022-10-03T11:20:21.309Z"
   },
   {
    "duration": 9,
    "start_time": "2022-10-03T11:20:21.326Z"
   },
   {
    "duration": 7,
    "start_time": "2022-10-03T11:20:21.337Z"
   },
   {
    "duration": 8,
    "start_time": "2022-10-03T11:20:21.346Z"
   },
   {
    "duration": 8,
    "start_time": "2022-10-03T11:20:21.356Z"
   },
   {
    "duration": 6,
    "start_time": "2022-10-03T11:24:16.546Z"
   },
   {
    "duration": 100,
    "start_time": "2022-10-03T11:33:12.663Z"
   },
   {
    "duration": 4,
    "start_time": "2022-10-03T11:33:49.701Z"
   },
   {
    "duration": 3,
    "start_time": "2022-10-03T11:34:01.481Z"
   },
   {
    "duration": 3,
    "start_time": "2022-10-03T11:34:08.502Z"
   },
   {
    "duration": 983,
    "start_time": "2022-10-03T11:34:14.040Z"
   },
   {
    "duration": 3,
    "start_time": "2022-10-03T11:34:58.703Z"
   },
   {
    "duration": 664,
    "start_time": "2022-10-03T11:34:59.687Z"
   },
   {
    "duration": 4,
    "start_time": "2022-10-03T11:36:01.859Z"
   },
   {
    "duration": 3,
    "start_time": "2022-10-03T11:36:09.540Z"
   },
   {
    "duration": 669,
    "start_time": "2022-10-03T11:36:11.053Z"
   },
   {
    "duration": 3,
    "start_time": "2022-10-03T11:36:17.401Z"
   },
   {
    "duration": 882,
    "start_time": "2022-10-03T11:36:18.026Z"
   },
   {
    "duration": 3,
    "start_time": "2022-10-03T11:36:48.010Z"
   },
   {
    "duration": 3,
    "start_time": "2022-10-03T11:36:50.265Z"
   },
   {
    "duration": 934,
    "start_time": "2022-10-03T11:36:50.472Z"
   },
   {
    "duration": 1033,
    "start_time": "2022-10-03T11:39:14.865Z"
   },
   {
    "duration": 1373,
    "start_time": "2022-10-03T11:39:33.455Z"
   },
   {
    "duration": 994,
    "start_time": "2022-10-03T11:40:09.284Z"
   },
   {
    "duration": 4,
    "start_time": "2022-10-03T11:40:11.606Z"
   },
   {
    "duration": 1103,
    "start_time": "2022-10-03T11:40:12.301Z"
   },
   {
    "duration": 1390,
    "start_time": "2022-10-03T11:40:32.526Z"
   },
   {
    "duration": 1340,
    "start_time": "2022-10-03T11:40:38.036Z"
   },
   {
    "duration": 1038,
    "start_time": "2022-10-03T11:40:47.278Z"
   },
   {
    "duration": 3,
    "start_time": "2022-10-03T11:40:54.714Z"
   },
   {
    "duration": 912,
    "start_time": "2022-10-03T11:41:44.505Z"
   },
   {
    "duration": 1019,
    "start_time": "2022-10-03T11:42:27.503Z"
   },
   {
    "duration": 80,
    "start_time": "2022-10-03T11:44:42.253Z"
   },
   {
    "duration": 77,
    "start_time": "2022-10-03T11:44:48.224Z"
   },
   {
    "duration": 1043,
    "start_time": "2022-10-03T11:44:53.166Z"
   },
   {
    "duration": 1027,
    "start_time": "2022-10-03T11:45:02.363Z"
   },
   {
    "duration": 1034,
    "start_time": "2022-10-03T11:45:11.430Z"
   },
   {
    "duration": 978,
    "start_time": "2022-10-03T11:46:11.855Z"
   },
   {
    "duration": 1110,
    "start_time": "2022-10-03T11:48:06.236Z"
   },
   {
    "duration": 111,
    "start_time": "2022-10-03T11:49:35.833Z"
   },
   {
    "duration": 1041,
    "start_time": "2022-10-03T11:50:00.324Z"
   },
   {
    "duration": 1072,
    "start_time": "2022-10-03T11:50:06.101Z"
   },
   {
    "duration": 1038,
    "start_time": "2022-10-03T11:50:31.711Z"
   },
   {
    "duration": 23862,
    "start_time": "2022-10-03T11:50:41.606Z"
   },
   {
    "duration": 0,
    "start_time": "2022-10-03T11:52:53.453Z"
   },
   {
    "duration": 44,
    "start_time": "2022-10-03T11:53:12.461Z"
   },
   {
    "duration": 1255,
    "start_time": "2022-10-03T11:53:18.627Z"
   },
   {
    "duration": 278,
    "start_time": "2022-10-03T11:53:19.884Z"
   },
   {
    "duration": 88,
    "start_time": "2022-10-03T11:53:20.163Z"
   },
   {
    "duration": 376,
    "start_time": "2022-10-03T11:53:20.252Z"
   },
   {
    "duration": 6,
    "start_time": "2022-10-03T11:53:20.630Z"
   },
   {
    "duration": 25,
    "start_time": "2022-10-03T11:53:20.637Z"
   },
   {
    "duration": 11,
    "start_time": "2022-10-03T11:53:20.663Z"
   },
   {
    "duration": 27,
    "start_time": "2022-10-03T11:53:20.676Z"
   },
   {
    "duration": 11,
    "start_time": "2022-10-03T11:53:20.704Z"
   },
   {
    "duration": 7,
    "start_time": "2022-10-03T11:53:20.716Z"
   },
   {
    "duration": 9,
    "start_time": "2022-10-03T11:53:20.724Z"
   },
   {
    "duration": 10,
    "start_time": "2022-10-03T11:53:20.734Z"
   },
   {
    "duration": 4,
    "start_time": "2022-10-03T11:53:20.746Z"
   },
   {
    "duration": 6,
    "start_time": "2022-10-03T11:53:20.752Z"
   },
   {
    "duration": 7,
    "start_time": "2022-10-03T11:53:20.760Z"
   },
   {
    "duration": 1077,
    "start_time": "2022-10-03T11:53:30.396Z"
   },
   {
    "duration": 1124,
    "start_time": "2022-10-03T11:53:40.578Z"
   },
   {
    "duration": 164,
    "start_time": "2022-10-03T11:54:48.845Z"
   },
   {
    "duration": 115,
    "start_time": "2022-10-03T11:54:57.245Z"
   },
   {
    "duration": 989,
    "start_time": "2022-10-03T11:55:04.657Z"
   },
   {
    "duration": 1081,
    "start_time": "2022-10-03T11:55:35.790Z"
   },
   {
    "duration": 111,
    "start_time": "2022-10-03T11:55:42.423Z"
   },
   {
    "duration": 225,
    "start_time": "2022-10-03T11:55:55.381Z"
   },
   {
    "duration": 78,
    "start_time": "2022-10-03T11:56:56.991Z"
   },
   {
    "duration": 908,
    "start_time": "2022-10-03T11:57:02.089Z"
   },
   {
    "duration": 2349,
    "start_time": "2022-10-03T12:00:06.320Z"
   },
   {
    "duration": 132,
    "start_time": "2022-10-03T12:00:45.686Z"
   },
   {
    "duration": 144,
    "start_time": "2022-10-03T12:00:57.655Z"
   },
   {
    "duration": 8,
    "start_time": "2022-10-03T12:01:15.110Z"
   },
   {
    "duration": 177,
    "start_time": "2022-10-03T12:04:36.736Z"
   },
   {
    "duration": 173,
    "start_time": "2022-10-03T12:07:02.002Z"
   },
   {
    "duration": 148,
    "start_time": "2022-10-03T12:07:09.812Z"
   },
   {
    "duration": 9,
    "start_time": "2022-10-03T12:08:38.159Z"
   },
   {
    "duration": 10,
    "start_time": "2022-10-03T12:11:07.373Z"
   },
   {
    "duration": 10,
    "start_time": "2022-10-03T12:12:39.284Z"
   },
   {
    "duration": 10,
    "start_time": "2022-10-03T12:12:48.571Z"
   },
   {
    "duration": 9,
    "start_time": "2022-10-03T12:12:53.624Z"
   },
   {
    "duration": 10,
    "start_time": "2022-10-03T12:13:10.902Z"
   },
   {
    "duration": 10,
    "start_time": "2022-10-03T12:13:16.109Z"
   },
   {
    "duration": 14,
    "start_time": "2022-10-03T12:13:23.109Z"
   },
   {
    "duration": 16,
    "start_time": "2022-10-03T12:13:36.550Z"
   },
   {
    "duration": 11,
    "start_time": "2022-10-03T12:14:10.827Z"
   },
   {
    "duration": 12,
    "start_time": "2022-10-03T12:14:16.956Z"
   },
   {
    "duration": 80,
    "start_time": "2022-10-03T12:15:36.172Z"
   },
   {
    "duration": 79,
    "start_time": "2022-10-03T12:15:40.321Z"
   },
   {
    "duration": 79,
    "start_time": "2022-10-03T12:15:43.277Z"
   },
   {
    "duration": 158,
    "start_time": "2022-10-03T12:16:05.680Z"
   },
   {
    "duration": 10,
    "start_time": "2022-10-03T12:17:57.177Z"
   },
   {
    "duration": 12,
    "start_time": "2022-10-03T12:18:05.643Z"
   },
   {
    "duration": 16,
    "start_time": "2022-10-03T12:20:16.078Z"
   },
   {
    "duration": 5,
    "start_time": "2022-10-03T12:21:27.262Z"
   },
   {
    "duration": 1728,
    "start_time": "2022-10-03T12:22:14.645Z"
   },
   {
    "duration": 41,
    "start_time": "2022-10-03T12:22:33.350Z"
   },
   {
    "duration": 1511,
    "start_time": "2022-10-03T12:22:44.442Z"
   },
   {
    "duration": 21,
    "start_time": "2022-10-03T12:22:56.193Z"
   },
   {
    "duration": 163,
    "start_time": "2022-10-03T12:23:21.972Z"
   },
   {
    "duration": 5,
    "start_time": "2022-10-03T12:27:12.038Z"
   },
   {
    "duration": 4,
    "start_time": "2022-10-03T12:27:12.899Z"
   },
   {
    "duration": 4,
    "start_time": "2022-10-03T12:27:14.315Z"
   },
   {
    "duration": 1040,
    "start_time": "2022-10-03T12:27:15.006Z"
   },
   {
    "duration": 11,
    "start_time": "2022-10-03T12:27:55.792Z"
   },
   {
    "duration": 1335,
    "start_time": "2022-10-03T12:28:02.631Z"
   },
   {
    "duration": 1322,
    "start_time": "2022-10-03T12:28:23.325Z"
   },
   {
    "duration": 772,
    "start_time": "2022-10-03T12:31:26.545Z"
   },
   {
    "duration": 15,
    "start_time": "2022-10-03T12:31:53.346Z"
   },
   {
    "duration": 2271,
    "start_time": "2022-10-03T12:35:12.737Z"
   },
   {
    "duration": 145,
    "start_time": "2022-10-03T12:35:40.436Z"
   },
   {
    "duration": 192,
    "start_time": "2022-10-03T12:35:44.633Z"
   },
   {
    "duration": 2348,
    "start_time": "2022-10-03T12:35:50.463Z"
   },
   {
    "duration": 14,
    "start_time": "2022-10-03T12:38:11.106Z"
   },
   {
    "duration": 16,
    "start_time": "2022-10-03T12:39:09.645Z"
   },
   {
    "duration": 15,
    "start_time": "2022-10-03T12:39:41.243Z"
   },
   {
    "duration": 9,
    "start_time": "2022-10-03T12:41:28.567Z"
   },
   {
    "duration": 1426,
    "start_time": "2022-10-03T12:42:01.861Z"
   },
   {
    "duration": 288,
    "start_time": "2022-10-03T12:42:03.289Z"
   },
   {
    "duration": 83,
    "start_time": "2022-10-03T12:42:03.579Z"
   },
   {
    "duration": 350,
    "start_time": "2022-10-03T12:42:03.664Z"
   },
   {
    "duration": 5,
    "start_time": "2022-10-03T12:42:04.016Z"
   },
   {
    "duration": 5,
    "start_time": "2022-10-03T12:42:04.023Z"
   },
   {
    "duration": 5,
    "start_time": "2022-10-03T12:42:04.029Z"
   },
   {
    "duration": 12,
    "start_time": "2022-10-03T12:42:04.036Z"
   },
   {
    "duration": 7,
    "start_time": "2022-10-03T12:42:04.050Z"
   },
   {
    "duration": 6,
    "start_time": "2022-10-03T12:42:04.058Z"
   },
   {
    "duration": 31,
    "start_time": "2022-10-03T12:42:04.066Z"
   },
   {
    "duration": 5,
    "start_time": "2022-10-03T12:42:04.098Z"
   },
   {
    "duration": 26,
    "start_time": "2022-10-03T12:42:06.946Z"
   },
   {
    "duration": 14,
    "start_time": "2022-10-03T12:42:23.187Z"
   },
   {
    "duration": 104955,
    "start_time": "2022-10-03T12:42:39.341Z"
   },
   {
    "duration": 4,
    "start_time": "2022-10-03T12:44:24.298Z"
   },
   {
    "duration": 6,
    "start_time": "2022-10-03T12:44:24.304Z"
   },
   {
    "duration": 8,
    "start_time": "2022-10-03T12:44:24.312Z"
   },
   {
    "duration": 1133,
    "start_time": "2022-10-03T12:44:24.321Z"
   },
   {
    "duration": 748,
    "start_time": "2022-10-03T12:50:41.942Z"
   },
   {
    "duration": 1824,
    "start_time": "2022-10-03T12:51:01.960Z"
   },
   {
    "duration": 387037,
    "start_time": "2022-10-03T12:53:48.595Z"
   },
   {
    "duration": 1600,
    "start_time": "2022-10-03T13:04:42.434Z"
   },
   {
    "duration": 1637,
    "start_time": "2022-10-03T13:04:56.523Z"
   },
   {
    "duration": 1511,
    "start_time": "2022-10-03T13:05:54.818Z"
   },
   {
    "duration": 1484,
    "start_time": "2022-10-03T13:06:06.941Z"
   },
   {
    "duration": 14,
    "start_time": "2022-10-03T13:06:29.139Z"
   },
   {
    "duration": 3,
    "start_time": "2022-10-03T13:06:31.518Z"
   },
   {
    "duration": 9,
    "start_time": "2022-10-03T13:06:31.695Z"
   },
   {
    "duration": 9,
    "start_time": "2022-10-03T13:06:31.887Z"
   },
   {
    "duration": 7,
    "start_time": "2022-10-03T13:06:32.267Z"
   },
   {
    "duration": 6,
    "start_time": "2022-10-03T13:06:32.437Z"
   },
   {
    "duration": 6,
    "start_time": "2022-10-03T13:06:33.135Z"
   },
   {
    "duration": 1477,
    "start_time": "2022-10-03T13:06:34.029Z"
   },
   {
    "duration": 1468,
    "start_time": "2022-10-03T13:07:03.557Z"
   },
   {
    "duration": 1559,
    "start_time": "2022-10-03T13:07:14.131Z"
   },
   {
    "duration": 1633,
    "start_time": "2022-10-03T13:08:09.223Z"
   },
   {
    "duration": 1715,
    "start_time": "2022-10-03T13:09:19.562Z"
   },
   {
    "duration": 1619,
    "start_time": "2022-10-03T13:10:38.949Z"
   },
   {
    "duration": 1668,
    "start_time": "2022-10-03T13:10:54.714Z"
   },
   {
    "duration": 1686,
    "start_time": "2022-10-03T13:11:31.073Z"
   },
   {
    "duration": 1746,
    "start_time": "2022-10-03T13:11:42.953Z"
   },
   {
    "duration": 1717,
    "start_time": "2022-10-03T13:11:51.389Z"
   },
   {
    "duration": 1421,
    "start_time": "2022-10-03T13:16:07.640Z"
   },
   {
    "duration": 299,
    "start_time": "2022-10-03T13:16:09.063Z"
   },
   {
    "duration": 89,
    "start_time": "2022-10-03T13:16:09.363Z"
   },
   {
    "duration": 384,
    "start_time": "2022-10-03T13:16:09.454Z"
   },
   {
    "duration": 7,
    "start_time": "2022-10-03T13:16:09.840Z"
   },
   {
    "duration": 17,
    "start_time": "2022-10-03T13:16:09.849Z"
   },
   {
    "duration": 7,
    "start_time": "2022-10-03T13:16:09.868Z"
   },
   {
    "duration": 27,
    "start_time": "2022-10-03T13:16:09.877Z"
   },
   {
    "duration": 9,
    "start_time": "2022-10-03T13:16:09.906Z"
   },
   {
    "duration": 6,
    "start_time": "2022-10-03T13:16:09.917Z"
   },
   {
    "duration": 7,
    "start_time": "2022-10-03T13:16:09.925Z"
   },
   {
    "duration": 9,
    "start_time": "2022-10-03T13:16:09.934Z"
   },
   {
    "duration": 1734,
    "start_time": "2022-10-03T13:16:09.945Z"
   },
   {
    "duration": 1686,
    "start_time": "2022-10-03T13:16:11.682Z"
   },
   {
    "duration": 1698,
    "start_time": "2022-10-03T13:16:13.370Z"
   },
   {
    "duration": 3,
    "start_time": "2022-10-03T13:19:07.189Z"
   },
   {
    "duration": 290,
    "start_time": "2022-10-03T13:19:07.194Z"
   },
   {
    "duration": 85,
    "start_time": "2022-10-03T13:19:07.486Z"
   },
   {
    "duration": 349,
    "start_time": "2022-10-03T13:19:07.573Z"
   },
   {
    "duration": 5,
    "start_time": "2022-10-03T13:19:07.924Z"
   },
   {
    "duration": 28,
    "start_time": "2022-10-03T13:19:07.930Z"
   },
   {
    "duration": 12,
    "start_time": "2022-10-03T13:19:07.960Z"
   },
   {
    "duration": 13,
    "start_time": "2022-10-03T13:19:07.974Z"
   },
   {
    "duration": 11,
    "start_time": "2022-10-03T13:19:07.989Z"
   },
   {
    "duration": 20,
    "start_time": "2022-10-03T13:19:08.002Z"
   },
   {
    "duration": 37,
    "start_time": "2022-10-03T13:19:08.024Z"
   },
   {
    "duration": 29,
    "start_time": "2022-10-03T13:19:08.063Z"
   },
   {
    "duration": 107,
    "start_time": "2022-10-03T13:19:48.195Z"
   },
   {
    "duration": 45,
    "start_time": "2022-10-03T13:20:32.149Z"
   },
   {
    "duration": 2,
    "start_time": "2022-10-03T13:20:46.860Z"
   },
   {
    "duration": 16,
    "start_time": "2022-10-03T13:21:04.819Z"
   },
   {
    "duration": 10,
    "start_time": "2022-10-03T13:22:00.495Z"
   },
   {
    "duration": 42,
    "start_time": "2022-10-03T13:22:18.892Z"
   },
   {
    "duration": 13,
    "start_time": "2022-10-03T13:22:41.159Z"
   },
   {
    "duration": 10,
    "start_time": "2022-10-03T13:23:05.095Z"
   },
   {
    "duration": 9,
    "start_time": "2022-10-03T13:24:23.270Z"
   },
   {
    "duration": 14,
    "start_time": "2022-10-03T13:24:37.821Z"
   },
   {
    "duration": 10,
    "start_time": "2022-10-03T13:25:04.322Z"
   },
   {
    "duration": 136,
    "start_time": "2022-10-03T13:25:18.577Z"
   },
   {
    "duration": 257,
    "start_time": "2022-10-03T13:25:30.288Z"
   },
   {
    "duration": 249,
    "start_time": "2022-10-03T13:25:48.217Z"
   },
   {
    "duration": 89,
    "start_time": "2022-10-03T13:26:46.549Z"
   },
   {
    "duration": 83,
    "start_time": "2022-10-03T13:26:52.999Z"
   },
   {
    "duration": 115,
    "start_time": "2022-10-03T13:26:56.410Z"
   },
   {
    "duration": 119,
    "start_time": "2022-10-03T13:27:22.266Z"
   },
   {
    "duration": 105,
    "start_time": "2022-10-03T13:27:45.587Z"
   },
   {
    "duration": 111,
    "start_time": "2022-10-03T13:27:54.747Z"
   },
   {
    "duration": 228,
    "start_time": "2022-10-03T13:28:22.173Z"
   },
   {
    "duration": 7,
    "start_time": "2022-10-03T13:30:37.152Z"
   },
   {
    "duration": 5,
    "start_time": "2022-10-03T13:31:14.762Z"
   },
   {
    "duration": 102,
    "start_time": "2022-10-03T13:31:39.769Z"
   },
   {
    "duration": 9,
    "start_time": "2022-10-03T13:31:54.283Z"
   },
   {
    "duration": 5,
    "start_time": "2022-10-03T13:32:03.958Z"
   },
   {
    "duration": 5,
    "start_time": "2022-10-03T13:32:09.330Z"
   },
   {
    "duration": 13,
    "start_time": "2022-10-03T13:33:41.961Z"
   },
   {
    "duration": 7,
    "start_time": "2022-10-03T13:33:53.427Z"
   },
   {
    "duration": 10,
    "start_time": "2022-10-03T13:34:03.657Z"
   },
   {
    "duration": 10,
    "start_time": "2022-10-03T13:35:33.237Z"
   },
   {
    "duration": 14,
    "start_time": "2022-10-03T13:40:21.794Z"
   },
   {
    "duration": 47,
    "start_time": "2022-10-04T08:40:39.530Z"
   },
   {
    "duration": 1484,
    "start_time": "2022-10-04T08:40:54.831Z"
   },
   {
    "duration": 814,
    "start_time": "2022-10-04T08:40:56.318Z"
   },
   {
    "duration": 408,
    "start_time": "2022-10-04T08:40:57.133Z"
   },
   {
    "duration": 1802,
    "start_time": "2022-10-04T08:40:57.542Z"
   },
   {
    "duration": 6,
    "start_time": "2022-10-04T08:40:59.346Z"
   },
   {
    "duration": 17,
    "start_time": "2022-10-04T08:40:59.353Z"
   },
   {
    "duration": 5,
    "start_time": "2022-10-04T08:40:59.371Z"
   },
   {
    "duration": 11,
    "start_time": "2022-10-04T08:40:59.377Z"
   },
   {
    "duration": 8,
    "start_time": "2022-10-04T08:40:59.390Z"
   },
   {
    "duration": 6,
    "start_time": "2022-10-04T08:40:59.410Z"
   },
   {
    "duration": 6,
    "start_time": "2022-10-04T08:40:59.418Z"
   },
   {
    "duration": 253,
    "start_time": "2022-10-04T08:40:59.426Z"
   },
   {
    "duration": 11,
    "start_time": "2022-10-04T08:40:59.681Z"
   },
   {
    "duration": 8,
    "start_time": "2022-10-04T08:40:59.708Z"
   },
   {
    "duration": 18,
    "start_time": "2022-10-04T08:40:59.717Z"
   },
   {
    "duration": 4,
    "start_time": "2022-10-04T08:40:59.736Z"
   },
   {
    "duration": 34,
    "start_time": "2022-10-04T08:41:02.711Z"
   },
   {
    "duration": 12,
    "start_time": "2022-10-04T08:41:17.547Z"
   },
   {
    "duration": 22,
    "start_time": "2022-10-04T08:41:33.184Z"
   },
   {
    "duration": 125,
    "start_time": "2022-10-04T08:42:41.006Z"
   },
   {
    "duration": 20,
    "start_time": "2022-10-04T08:44:26.570Z"
   },
   {
    "duration": 9,
    "start_time": "2022-10-04T08:44:35.365Z"
   },
   {
    "duration": 10,
    "start_time": "2022-10-04T08:44:45.260Z"
   },
   {
    "duration": 9,
    "start_time": "2022-10-04T08:44:52.882Z"
   },
   {
    "duration": 1586,
    "start_time": "2022-10-04T08:45:01.098Z"
   },
   {
    "duration": 270,
    "start_time": "2022-10-04T08:45:02.685Z"
   },
   {
    "duration": 81,
    "start_time": "2022-10-04T08:45:02.956Z"
   },
   {
    "duration": 330,
    "start_time": "2022-10-04T08:45:03.039Z"
   },
   {
    "duration": 6,
    "start_time": "2022-10-04T08:45:03.372Z"
   },
   {
    "duration": 31,
    "start_time": "2022-10-04T08:45:03.379Z"
   },
   {
    "duration": 2,
    "start_time": "2022-10-04T08:45:03.412Z"
   },
   {
    "duration": 23,
    "start_time": "2022-10-04T08:45:03.415Z"
   },
   {
    "duration": 13,
    "start_time": "2022-10-04T08:45:03.439Z"
   },
   {
    "duration": 13,
    "start_time": "2022-10-04T08:45:03.454Z"
   },
   {
    "duration": 9,
    "start_time": "2022-10-04T08:45:03.468Z"
   },
   {
    "duration": 250,
    "start_time": "2022-10-04T08:45:03.478Z"
   },
   {
    "duration": 10,
    "start_time": "2022-10-04T08:45:03.729Z"
   },
   {
    "duration": 9,
    "start_time": "2022-10-04T08:45:03.740Z"
   },
   {
    "duration": 15,
    "start_time": "2022-10-04T08:45:03.751Z"
   },
   {
    "duration": 5,
    "start_time": "2022-10-04T08:45:03.767Z"
   },
   {
    "duration": 23,
    "start_time": "2022-10-04T08:45:05.786Z"
   },
   {
    "duration": 19,
    "start_time": "2022-10-04T08:45:25.634Z"
   },
   {
    "duration": 26,
    "start_time": "2022-10-04T08:46:01.824Z"
   },
   {
    "duration": 27,
    "start_time": "2022-10-04T08:46:09.227Z"
   },
   {
    "duration": 8,
    "start_time": "2022-10-04T08:48:29.492Z"
   },
   {
    "duration": 9,
    "start_time": "2022-10-04T08:50:29.956Z"
   },
   {
    "duration": 8,
    "start_time": "2022-10-04T08:55:05.950Z"
   },
   {
    "duration": 7,
    "start_time": "2022-10-04T08:55:09.169Z"
   },
   {
    "duration": 6,
    "start_time": "2022-10-04T08:55:10.699Z"
   },
   {
    "duration": 7,
    "start_time": "2022-10-04T08:55:24.469Z"
   },
   {
    "duration": 3,
    "start_time": "2022-10-04T08:55:45.631Z"
   },
   {
    "duration": 263,
    "start_time": "2022-10-04T08:55:45.636Z"
   },
   {
    "duration": 84,
    "start_time": "2022-10-04T08:55:45.900Z"
   },
   {
    "duration": 334,
    "start_time": "2022-10-04T08:55:45.985Z"
   },
   {
    "duration": 5,
    "start_time": "2022-10-04T08:55:46.321Z"
   },
   {
    "duration": 19,
    "start_time": "2022-10-04T08:55:46.327Z"
   },
   {
    "duration": 15,
    "start_time": "2022-10-04T08:55:46.348Z"
   },
   {
    "duration": 18,
    "start_time": "2022-10-04T08:55:46.364Z"
   },
   {
    "duration": 10,
    "start_time": "2022-10-04T08:55:46.383Z"
   },
   {
    "duration": 222,
    "start_time": "2022-10-04T08:55:51.848Z"
   },
   {
    "duration": 11,
    "start_time": "2022-10-04T08:55:55.062Z"
   },
   {
    "duration": 6,
    "start_time": "2022-10-04T08:55:58.495Z"
   },
   {
    "duration": 12,
    "start_time": "2022-10-04T08:56:00.638Z"
   },
   {
    "duration": 1196,
    "start_time": "2022-10-04T08:56:46.721Z"
   },
   {
    "duration": 1098,
    "start_time": "2022-10-04T08:57:02.707Z"
   },
   {
    "duration": 5,
    "start_time": "2022-10-04T08:57:22.094Z"
   },
   {
    "duration": 25,
    "start_time": "2022-10-04T08:58:36.460Z"
   },
   {
    "duration": 14,
    "start_time": "2022-10-04T08:59:00.250Z"
   },
   {
    "duration": 24,
    "start_time": "2022-10-04T08:59:13.318Z"
   },
   {
    "duration": 14,
    "start_time": "2022-10-04T09:08:30.280Z"
   },
   {
    "duration": 15,
    "start_time": "2022-10-04T09:08:38.900Z"
   },
   {
    "duration": 15,
    "start_time": "2022-10-04T09:08:49.611Z"
   },
   {
    "duration": 1314,
    "start_time": "2022-10-04T09:09:07.136Z"
   },
   {
    "duration": 266,
    "start_time": "2022-10-04T09:09:08.452Z"
   },
   {
    "duration": 83,
    "start_time": "2022-10-04T09:09:08.719Z"
   },
   {
    "duration": 350,
    "start_time": "2022-10-04T09:09:08.804Z"
   },
   {
    "duration": 6,
    "start_time": "2022-10-04T09:09:09.156Z"
   },
   {
    "duration": 15,
    "start_time": "2022-10-04T09:09:09.164Z"
   },
   {
    "duration": 4,
    "start_time": "2022-10-04T09:09:09.181Z"
   },
   {
    "duration": 30,
    "start_time": "2022-10-04T09:09:09.187Z"
   },
   {
    "duration": 7,
    "start_time": "2022-10-04T09:09:09.219Z"
   },
   {
    "duration": 271,
    "start_time": "2022-10-04T09:09:09.228Z"
   },
   {
    "duration": 16,
    "start_time": "2022-10-04T09:09:09.500Z"
   },
   {
    "duration": 6,
    "start_time": "2022-10-04T09:09:09.518Z"
   },
   {
    "duration": 19,
    "start_time": "2022-10-04T09:09:09.525Z"
   },
   {
    "duration": 3,
    "start_time": "2022-10-04T09:09:09.546Z"
   },
   {
    "duration": 28,
    "start_time": "2022-10-04T09:09:11.523Z"
   },
   {
    "duration": 15,
    "start_time": "2022-10-04T09:09:28.190Z"
   },
   {
    "duration": 11,
    "start_time": "2022-10-04T09:10:23.781Z"
   },
   {
    "duration": 1388,
    "start_time": "2022-10-04T09:12:59.349Z"
   },
   {
    "duration": 274,
    "start_time": "2022-10-04T09:13:00.738Z"
   },
   {
    "duration": 78,
    "start_time": "2022-10-04T09:13:01.013Z"
   },
   {
    "duration": 350,
    "start_time": "2022-10-04T09:13:01.093Z"
   },
   {
    "duration": 6,
    "start_time": "2022-10-04T09:13:01.445Z"
   },
   {
    "duration": 21,
    "start_time": "2022-10-04T09:13:01.452Z"
   },
   {
    "duration": 27,
    "start_time": "2022-10-04T09:13:01.475Z"
   },
   {
    "duration": 34,
    "start_time": "2022-10-04T09:13:01.503Z"
   },
   {
    "duration": 6,
    "start_time": "2022-10-04T09:13:01.539Z"
   },
   {
    "duration": 299,
    "start_time": "2022-10-04T09:13:01.546Z"
   },
   {
    "duration": 11,
    "start_time": "2022-10-04T09:13:01.847Z"
   },
   {
    "duration": 12,
    "start_time": "2022-10-04T09:13:01.860Z"
   },
   {
    "duration": 17,
    "start_time": "2022-10-04T09:13:01.874Z"
   },
   {
    "duration": 4,
    "start_time": "2022-10-04T09:13:31.076Z"
   },
   {
    "duration": 4,
    "start_time": "2022-10-04T09:13:45.892Z"
   },
   {
    "duration": 4,
    "start_time": "2022-10-04T09:14:05.300Z"
   },
   {
    "duration": 3,
    "start_time": "2022-10-04T09:14:30.433Z"
   },
   {
    "duration": 1548,
    "start_time": "2022-10-04T09:16:40.929Z"
   },
   {
    "duration": 1624,
    "start_time": "2022-10-04T09:16:46.920Z"
   },
   {
    "duration": 1613,
    "start_time": "2022-10-04T09:16:53.753Z"
   },
   {
    "duration": 109,
    "start_time": "2022-10-04T09:17:17.857Z"
   },
   {
    "duration": 157,
    "start_time": "2022-10-04T09:17:26.602Z"
   },
   {
    "duration": 53,
    "start_time": "2022-10-04T09:17:53.181Z"
   },
   {
    "duration": 207,
    "start_time": "2022-10-04T09:17:59.802Z"
   },
   {
    "duration": 159,
    "start_time": "2022-10-04T09:18:15.638Z"
   },
   {
    "duration": 9,
    "start_time": "2022-10-04T09:18:30.605Z"
   },
   {
    "duration": 166,
    "start_time": "2022-10-04T09:18:34.294Z"
   },
   {
    "duration": 159,
    "start_time": "2022-10-04T09:21:01.687Z"
   },
   {
    "duration": 163,
    "start_time": "2022-10-04T09:21:07.742Z"
   },
   {
    "duration": 42,
    "start_time": "2022-10-04T09:24:59.671Z"
   },
   {
    "duration": 24,
    "start_time": "2022-10-04T09:25:09.268Z"
   },
   {
    "duration": 19,
    "start_time": "2022-10-04T09:25:28.413Z"
   },
   {
    "duration": 11,
    "start_time": "2022-10-04T09:26:01.863Z"
   },
   {
    "duration": 6,
    "start_time": "2022-10-04T09:26:16.742Z"
   },
   {
    "duration": 10,
    "start_time": "2022-10-04T09:26:24.921Z"
   },
   {
    "duration": 14,
    "start_time": "2022-10-04T09:26:44.621Z"
   },
   {
    "duration": 7,
    "start_time": "2022-10-04T09:26:51.146Z"
   },
   {
    "duration": 21,
    "start_time": "2022-10-04T09:26:51.155Z"
   },
   {
    "duration": 1433,
    "start_time": "2022-10-04T09:26:52.172Z"
   },
   {
    "duration": 1252,
    "start_time": "2022-10-04T09:27:01.960Z"
   },
   {
    "duration": 294,
    "start_time": "2022-10-04T09:27:03.214Z"
   },
   {
    "duration": 79,
    "start_time": "2022-10-04T09:27:03.509Z"
   },
   {
    "duration": 315,
    "start_time": "2022-10-04T09:27:03.589Z"
   },
   {
    "duration": 5,
    "start_time": "2022-10-04T09:27:03.907Z"
   },
   {
    "duration": 47,
    "start_time": "2022-10-04T09:27:03.913Z"
   },
   {
    "duration": 25,
    "start_time": "2022-10-04T09:27:03.961Z"
   },
   {
    "duration": 31,
    "start_time": "2022-10-04T09:27:03.988Z"
   },
   {
    "duration": 18,
    "start_time": "2022-10-04T09:27:04.020Z"
   },
   {
    "duration": 279,
    "start_time": "2022-10-04T09:27:04.039Z"
   },
   {
    "duration": 14,
    "start_time": "2022-10-04T09:27:04.320Z"
   },
   {
    "duration": 20,
    "start_time": "2022-10-04T09:27:04.337Z"
   },
   {
    "duration": 16,
    "start_time": "2022-10-04T09:27:04.358Z"
   },
   {
    "duration": 43,
    "start_time": "2022-10-04T09:27:04.376Z"
   },
   {
    "duration": 17,
    "start_time": "2022-10-04T09:27:04.421Z"
   },
   {
    "duration": 49,
    "start_time": "2022-10-04T09:27:04.440Z"
   },
   {
    "duration": 1552,
    "start_time": "2022-10-04T09:27:07.953Z"
   },
   {
    "duration": 1575,
    "start_time": "2022-10-04T09:27:11.403Z"
   },
   {
    "duration": 1582,
    "start_time": "2022-10-04T09:27:14.576Z"
   },
   {
    "duration": 167,
    "start_time": "2022-10-04T09:27:20.266Z"
   },
   {
    "duration": 269,
    "start_time": "2022-10-04T09:27:22.510Z"
   },
   {
    "duration": 162,
    "start_time": "2022-10-04T09:27:23.972Z"
   },
   {
    "duration": 113,
    "start_time": "2022-10-04T09:28:37.040Z"
   },
   {
    "duration": 6,
    "start_time": "2022-10-04T09:28:49.368Z"
   },
   {
    "duration": 172,
    "start_time": "2022-10-04T09:29:06.882Z"
   },
   {
    "duration": 10,
    "start_time": "2022-10-04T09:30:39.073Z"
   },
   {
    "duration": 22,
    "start_time": "2022-10-04T09:30:46.530Z"
   },
   {
    "duration": 171,
    "start_time": "2022-10-04T09:30:54.846Z"
   },
   {
    "duration": 53,
    "start_time": "2022-10-04T12:12:09.247Z"
   },
   {
    "duration": 1606,
    "start_time": "2022-10-04T12:12:13.259Z"
   },
   {
    "duration": 832,
    "start_time": "2022-10-04T12:12:14.868Z"
   },
   {
    "duration": 394,
    "start_time": "2022-10-04T12:12:15.702Z"
   },
   {
    "duration": 1817,
    "start_time": "2022-10-04T12:12:16.098Z"
   },
   {
    "duration": 6,
    "start_time": "2022-10-04T12:12:17.916Z"
   },
   {
    "duration": 21,
    "start_time": "2022-10-04T12:12:17.924Z"
   },
   {
    "duration": 11,
    "start_time": "2022-10-04T12:12:17.946Z"
   },
   {
    "duration": 16,
    "start_time": "2022-10-04T12:12:17.958Z"
   },
   {
    "duration": 6,
    "start_time": "2022-10-04T12:12:17.975Z"
   },
   {
    "duration": 273,
    "start_time": "2022-10-04T12:12:17.983Z"
   },
   {
    "duration": 10,
    "start_time": "2022-10-04T12:12:18.258Z"
   },
   {
    "duration": 9,
    "start_time": "2022-10-04T12:12:18.270Z"
   },
   {
    "duration": 37,
    "start_time": "2022-10-04T12:12:18.282Z"
   },
   {
    "duration": 18,
    "start_time": "2022-10-04T12:12:18.321Z"
   },
   {
    "duration": 8,
    "start_time": "2022-10-04T12:12:18.341Z"
   },
   {
    "duration": 24,
    "start_time": "2022-10-04T12:12:18.351Z"
   },
   {
    "duration": 1414,
    "start_time": "2022-10-04T12:12:18.408Z"
   },
   {
    "duration": 1541,
    "start_time": "2022-10-04T12:12:19.824Z"
   },
   {
    "duration": 1682,
    "start_time": "2022-10-04T12:12:21.367Z"
   },
   {
    "duration": 193,
    "start_time": "2022-10-04T12:12:23.051Z"
   },
   {
    "duration": 248,
    "start_time": "2022-10-04T12:12:23.246Z"
   },
   {
    "duration": 182,
    "start_time": "2022-10-04T12:12:23.496Z"
   },
   {
    "duration": 237,
    "start_time": "2022-10-04T12:12:23.679Z"
   },
   {
    "duration": 183,
    "start_time": "2022-10-04T12:12:50.340Z"
   },
   {
    "duration": 48,
    "start_time": "2022-10-04T12:15:49.702Z"
   },
   {
    "duration": 90,
    "start_time": "2022-10-04T12:16:07.401Z"
   },
   {
    "duration": 221,
    "start_time": "2022-10-04T12:16:12.555Z"
   },
   {
    "duration": 163,
    "start_time": "2022-10-04T12:17:23.465Z"
   },
   {
    "duration": 168,
    "start_time": "2022-10-04T12:18:58.457Z"
   },
   {
    "duration": 164,
    "start_time": "2022-10-04T12:20:43.956Z"
   },
   {
    "duration": 14,
    "start_time": "2022-10-04T12:27:27.542Z"
   },
   {
    "duration": 4,
    "start_time": "2022-10-04T12:29:28.110Z"
   },
   {
    "duration": 9,
    "start_time": "2022-10-04T12:29:43.323Z"
   },
   {
    "duration": 6,
    "start_time": "2022-10-04T12:29:50.911Z"
   },
   {
    "duration": 157,
    "start_time": "2022-10-04T12:31:40.076Z"
   },
   {
    "duration": 224,
    "start_time": "2022-10-04T12:34:51.880Z"
   },
   {
    "duration": 168,
    "start_time": "2022-10-04T12:40:54.394Z"
   },
   {
    "duration": 6,
    "start_time": "2022-10-04T12:41:57.289Z"
   },
   {
    "duration": 12,
    "start_time": "2022-10-04T12:42:39.687Z"
   },
   {
    "duration": 14,
    "start_time": "2022-10-04T12:43:12.467Z"
   },
   {
    "duration": 1159,
    "start_time": "2022-10-04T12:43:35.218Z"
   },
   {
    "duration": 161,
    "start_time": "2022-10-04T12:43:45.171Z"
   },
   {
    "duration": 6,
    "start_time": "2022-10-04T12:44:15.894Z"
   },
   {
    "duration": 5,
    "start_time": "2022-10-04T12:44:17.052Z"
   },
   {
    "duration": 249,
    "start_time": "2022-10-04T12:44:41.837Z"
   },
   {
    "duration": 182,
    "start_time": "2022-10-04T12:45:01.260Z"
   },
   {
    "duration": 6,
    "start_time": "2022-10-04T12:49:15.879Z"
   },
   {
    "duration": 8,
    "start_time": "2022-10-04T12:50:11.868Z"
   },
   {
    "duration": 14,
    "start_time": "2022-10-04T12:50:53.081Z"
   },
   {
    "duration": 170,
    "start_time": "2022-10-04T12:50:57.429Z"
   },
   {
    "duration": 166,
    "start_time": "2022-10-04T12:51:01.249Z"
   },
   {
    "duration": 8,
    "start_time": "2022-10-04T12:53:39.183Z"
   },
   {
    "duration": 13,
    "start_time": "2022-10-04T12:55:29.746Z"
   },
   {
    "duration": 6,
    "start_time": "2022-10-04T12:55:33.448Z"
   },
   {
    "duration": 165,
    "start_time": "2022-10-04T12:55:49.089Z"
   },
   {
    "duration": 7,
    "start_time": "2022-10-04T12:57:00.583Z"
   },
   {
    "duration": 200,
    "start_time": "2022-10-04T12:57:34.038Z"
   },
   {
    "duration": 12,
    "start_time": "2022-10-04T12:58:14.337Z"
   },
   {
    "duration": 8,
    "start_time": "2022-10-04T12:58:28.917Z"
   },
   {
    "duration": 156,
    "start_time": "2022-10-04T12:58:38.382Z"
   },
   {
    "duration": 260,
    "start_time": "2022-10-04T12:59:00.561Z"
   },
   {
    "duration": 174,
    "start_time": "2022-10-04T13:00:19.667Z"
   },
   {
    "duration": 172,
    "start_time": "2022-10-04T13:00:34.621Z"
   },
   {
    "duration": 171,
    "start_time": "2022-10-04T13:00:40.503Z"
   },
   {
    "duration": 7,
    "start_time": "2022-10-04T13:00:42.445Z"
   },
   {
    "duration": 179,
    "start_time": "2022-10-04T13:00:43.433Z"
   },
   {
    "duration": 9,
    "start_time": "2022-10-04T13:00:44.762Z"
   },
   {
    "duration": 158,
    "start_time": "2022-10-04T13:00:45.293Z"
   },
   {
    "duration": 173,
    "start_time": "2022-10-04T13:00:46.756Z"
   },
   {
    "duration": 182,
    "start_time": "2022-10-04T13:00:47.837Z"
   },
   {
    "duration": 7,
    "start_time": "2022-10-04T13:00:49.045Z"
   },
   {
    "duration": 166,
    "start_time": "2022-10-04T13:00:50.303Z"
   },
   {
    "duration": 212,
    "start_time": "2022-10-04T13:00:51.606Z"
   },
   {
    "duration": 7,
    "start_time": "2022-10-04T13:00:58.647Z"
   },
   {
    "duration": 141,
    "start_time": "2022-10-04T13:00:59.667Z"
   },
   {
    "duration": 285,
    "start_time": "2022-10-04T13:01:00.746Z"
   },
   {
    "duration": 6,
    "start_time": "2022-10-04T13:01:01.551Z"
   },
   {
    "duration": 174,
    "start_time": "2022-10-04T13:01:02.384Z"
   },
   {
    "duration": 1455,
    "start_time": "2022-10-04T13:01:18.986Z"
   },
   {
    "duration": 402,
    "start_time": "2022-10-04T13:01:20.443Z"
   },
   {
    "duration": 82,
    "start_time": "2022-10-04T13:01:20.847Z"
   },
   {
    "duration": 335,
    "start_time": "2022-10-04T13:01:20.931Z"
   },
   {
    "duration": 6,
    "start_time": "2022-10-04T13:01:21.269Z"
   },
   {
    "duration": 33,
    "start_time": "2022-10-04T13:01:21.276Z"
   },
   {
    "duration": 23,
    "start_time": "2022-10-04T13:01:21.311Z"
   },
   {
    "duration": 35,
    "start_time": "2022-10-04T13:01:21.336Z"
   },
   {
    "duration": 16,
    "start_time": "2022-10-04T13:01:21.372Z"
   },
   {
    "duration": 274,
    "start_time": "2022-10-04T13:01:21.390Z"
   },
   {
    "duration": 13,
    "start_time": "2022-10-04T13:01:21.666Z"
   },
   {
    "duration": 28,
    "start_time": "2022-10-04T13:01:21.681Z"
   },
   {
    "duration": 15,
    "start_time": "2022-10-04T13:01:21.710Z"
   },
   {
    "duration": 30,
    "start_time": "2022-10-04T13:01:21.729Z"
   },
   {
    "duration": 7,
    "start_time": "2022-10-04T13:01:21.761Z"
   },
   {
    "duration": 33,
    "start_time": "2022-10-04T13:01:21.770Z"
   },
   {
    "duration": 1523,
    "start_time": "2022-10-04T13:01:21.805Z"
   },
   {
    "duration": 1411,
    "start_time": "2022-10-04T13:01:23.330Z"
   },
   {
    "duration": 1387,
    "start_time": "2022-10-04T13:01:24.742Z"
   },
   {
    "duration": 182,
    "start_time": "2022-10-04T13:01:26.130Z"
   },
   {
    "duration": 237,
    "start_time": "2022-10-04T13:01:26.313Z"
   },
   {
    "duration": 185,
    "start_time": "2022-10-04T13:01:26.552Z"
   },
   {
    "duration": 188,
    "start_time": "2022-10-04T13:01:26.739Z"
   },
   {
    "duration": 1909,
    "start_time": "2022-10-04T13:01:26.929Z"
   },
   {
    "duration": 0,
    "start_time": "2022-10-04T13:01:28.839Z"
   },
   {
    "duration": 0,
    "start_time": "2022-10-04T13:01:28.841Z"
   },
   {
    "duration": 0,
    "start_time": "2022-10-04T13:01:28.842Z"
   },
   {
    "duration": 0,
    "start_time": "2022-10-04T13:01:28.843Z"
   },
   {
    "duration": 0,
    "start_time": "2022-10-04T13:01:28.844Z"
   },
   {
    "duration": 0,
    "start_time": "2022-10-04T13:01:28.846Z"
   },
   {
    "duration": 0,
    "start_time": "2022-10-04T13:01:28.847Z"
   },
   {
    "duration": 0,
    "start_time": "2022-10-04T13:01:28.849Z"
   },
   {
    "duration": 0,
    "start_time": "2022-10-04T13:01:28.850Z"
   },
   {
    "duration": 0,
    "start_time": "2022-10-04T13:01:28.852Z"
   },
   {
    "duration": 0,
    "start_time": "2022-10-04T13:01:28.853Z"
   },
   {
    "duration": 0,
    "start_time": "2022-10-04T13:01:28.854Z"
   },
   {
    "duration": 0,
    "start_time": "2022-10-04T13:01:28.855Z"
   },
   {
    "duration": 0,
    "start_time": "2022-10-04T13:01:28.856Z"
   },
   {
    "duration": 0,
    "start_time": "2022-10-04T13:01:28.857Z"
   },
   {
    "duration": 0,
    "start_time": "2022-10-04T13:01:28.858Z"
   },
   {
    "duration": 13,
    "start_time": "2022-10-04T13:01:39.942Z"
   },
   {
    "duration": 179,
    "start_time": "2022-10-04T13:01:54.929Z"
   },
   {
    "duration": 177,
    "start_time": "2022-10-04T13:01:55.110Z"
   },
   {
    "duration": 21,
    "start_time": "2022-10-04T13:01:55.288Z"
   },
   {
    "duration": 168,
    "start_time": "2022-10-04T13:01:55.311Z"
   },
   {
    "duration": 14,
    "start_time": "2022-10-04T13:01:55.481Z"
   },
   {
    "duration": 180,
    "start_time": "2022-10-04T13:01:55.496Z"
   },
   {
    "duration": 174,
    "start_time": "2022-10-04T13:01:55.677Z"
   },
   {
    "duration": 183,
    "start_time": "2022-10-04T13:01:55.852Z"
   },
   {
    "duration": 12,
    "start_time": "2022-10-04T13:01:56.037Z"
   },
   {
    "duration": 267,
    "start_time": "2022-10-04T13:01:56.052Z"
   },
   {
    "duration": 188,
    "start_time": "2022-10-04T13:01:56.321Z"
   },
   {
    "duration": 12,
    "start_time": "2022-10-04T13:01:56.510Z"
   },
   {
    "duration": 202,
    "start_time": "2022-10-04T13:01:56.523Z"
   },
   {
    "duration": 201,
    "start_time": "2022-10-04T13:01:56.726Z"
   },
   {
    "duration": 12,
    "start_time": "2022-10-04T13:01:56.928Z"
   },
   {
    "duration": 180,
    "start_time": "2022-10-04T13:01:56.942Z"
   },
   {
    "duration": 9,
    "start_time": "2022-10-04T13:03:08.990Z"
   },
   {
    "duration": 19,
    "start_time": "2022-10-04T13:03:13.297Z"
   },
   {
    "duration": 10,
    "start_time": "2022-10-04T13:03:54.445Z"
   },
   {
    "duration": 222,
    "start_time": "2022-10-04T13:04:31.428Z"
   },
   {
    "duration": 10,
    "start_time": "2022-10-04T13:08:23.878Z"
   },
   {
    "duration": 17,
    "start_time": "2022-10-04T13:08:29.305Z"
   },
   {
    "duration": 8,
    "start_time": "2022-10-04T13:09:23.104Z"
   },
   {
    "duration": 8,
    "start_time": "2022-10-04T13:09:33.389Z"
   },
   {
    "duration": 8,
    "start_time": "2022-10-04T13:09:51.952Z"
   },
   {
    "duration": 4,
    "start_time": "2022-10-04T13:10:02.377Z"
   },
   {
    "duration": 16,
    "start_time": "2022-10-04T13:10:25.588Z"
   },
   {
    "duration": 15,
    "start_time": "2022-10-04T13:10:31.518Z"
   },
   {
    "duration": 26,
    "start_time": "2022-10-04T13:11:45.196Z"
   },
   {
    "duration": 26,
    "start_time": "2022-10-04T13:11:53.947Z"
   },
   {
    "duration": 13,
    "start_time": "2022-10-04T13:12:06.027Z"
   },
   {
    "duration": 13,
    "start_time": "2022-10-04T13:14:57.706Z"
   },
   {
    "duration": 3,
    "start_time": "2022-10-04T13:15:03.935Z"
   },
   {
    "duration": 28,
    "start_time": "2022-10-04T13:15:11.172Z"
   },
   {
    "duration": 19,
    "start_time": "2022-10-04T13:15:47.020Z"
   },
   {
    "duration": 21,
    "start_time": "2022-10-04T13:17:06.337Z"
   },
   {
    "duration": 22,
    "start_time": "2022-10-04T13:17:13.290Z"
   },
   {
    "duration": 11,
    "start_time": "2022-10-04T13:17:28.510Z"
   },
   {
    "duration": 12,
    "start_time": "2022-10-04T13:17:38.555Z"
   },
   {
    "duration": 5,
    "start_time": "2022-10-04T13:22:57.313Z"
   },
   {
    "duration": 10,
    "start_time": "2022-10-04T13:27:26.492Z"
   },
   {
    "duration": 10,
    "start_time": "2022-10-04T13:27:58.088Z"
   },
   {
    "duration": 37,
    "start_time": "2022-10-04T13:28:04.147Z"
   },
   {
    "duration": 19,
    "start_time": "2022-10-04T13:28:17.621Z"
   },
   {
    "duration": 10,
    "start_time": "2022-10-04T13:28:27.983Z"
   },
   {
    "duration": 7,
    "start_time": "2022-10-04T13:28:36.943Z"
   },
   {
    "duration": 16,
    "start_time": "2022-10-04T13:28:47.109Z"
   },
   {
    "duration": 15,
    "start_time": "2022-10-04T13:28:53.380Z"
   },
   {
    "duration": 1375,
    "start_time": "2022-10-04T13:29:01.301Z"
   },
   {
    "duration": 308,
    "start_time": "2022-10-04T13:29:02.679Z"
   },
   {
    "duration": 82,
    "start_time": "2022-10-04T13:29:02.989Z"
   },
   {
    "duration": 362,
    "start_time": "2022-10-04T13:29:03.073Z"
   },
   {
    "duration": 6,
    "start_time": "2022-10-04T13:29:03.437Z"
   },
   {
    "duration": 21,
    "start_time": "2022-10-04T13:29:03.445Z"
   },
   {
    "duration": 10,
    "start_time": "2022-10-04T13:29:03.467Z"
   },
   {
    "duration": 47,
    "start_time": "2022-10-04T13:29:03.479Z"
   },
   {
    "duration": 6,
    "start_time": "2022-10-04T13:29:03.528Z"
   },
   {
    "duration": 243,
    "start_time": "2022-10-04T13:29:03.536Z"
   },
   {
    "duration": 12,
    "start_time": "2022-10-04T13:29:03.781Z"
   },
   {
    "duration": 21,
    "start_time": "2022-10-04T13:29:03.795Z"
   },
   {
    "duration": 15,
    "start_time": "2022-10-04T13:29:03.818Z"
   },
   {
    "duration": 20,
    "start_time": "2022-10-04T13:29:03.838Z"
   },
   {
    "duration": 6,
    "start_time": "2022-10-04T13:29:03.860Z"
   },
   {
    "duration": 45,
    "start_time": "2022-10-04T13:29:03.868Z"
   },
   {
    "duration": 1471,
    "start_time": "2022-10-04T13:29:03.915Z"
   },
   {
    "duration": 1485,
    "start_time": "2022-10-04T13:29:05.388Z"
   },
   {
    "duration": 1468,
    "start_time": "2022-10-04T13:29:06.875Z"
   },
   {
    "duration": 205,
    "start_time": "2022-10-04T13:29:08.345Z"
   },
   {
    "duration": 237,
    "start_time": "2022-10-04T13:29:08.552Z"
   },
   {
    "duration": 188,
    "start_time": "2022-10-04T13:29:08.791Z"
   },
   {
    "duration": 186,
    "start_time": "2022-10-04T13:29:08.981Z"
   },
   {
    "duration": 13,
    "start_time": "2022-10-04T13:29:09.169Z"
   },
   {
    "duration": 205,
    "start_time": "2022-10-04T13:29:09.184Z"
   },
   {
    "duration": 210,
    "start_time": "2022-10-04T13:29:09.391Z"
   },
   {
    "duration": 19,
    "start_time": "2022-10-04T13:29:09.603Z"
   },
   {
    "duration": 176,
    "start_time": "2022-10-04T13:29:09.623Z"
   },
   {
    "duration": 18,
    "start_time": "2022-10-04T13:29:09.801Z"
   },
   {
    "duration": 176,
    "start_time": "2022-10-04T13:29:09.821Z"
   },
   {
    "duration": 178,
    "start_time": "2022-10-04T13:29:09.999Z"
   },
   {
    "duration": 187,
    "start_time": "2022-10-04T13:29:10.179Z"
   },
   {
    "duration": 12,
    "start_time": "2022-10-04T13:29:10.368Z"
   },
   {
    "duration": 251,
    "start_time": "2022-10-04T13:29:10.381Z"
   },
   {
    "duration": 183,
    "start_time": "2022-10-04T13:29:10.634Z"
   },
   {
    "duration": 13,
    "start_time": "2022-10-04T13:29:10.819Z"
   },
   {
    "duration": 176,
    "start_time": "2022-10-04T13:29:10.834Z"
   },
   {
    "duration": 199,
    "start_time": "2022-10-04T13:29:11.011Z"
   },
   {
    "duration": 15,
    "start_time": "2022-10-04T13:29:11.211Z"
   },
   {
    "duration": 178,
    "start_time": "2022-10-04T13:29:11.228Z"
   },
   {
    "duration": 4,
    "start_time": "2022-10-04T13:29:11.410Z"
   },
   {
    "duration": 6,
    "start_time": "2022-10-04T13:29:14.334Z"
   },
   {
    "duration": 133,
    "start_time": "2022-10-04T13:29:23.822Z"
   },
   {
    "duration": 18,
    "start_time": "2022-10-04T13:29:43.356Z"
   },
   {
    "duration": 14,
    "start_time": "2022-10-04T13:29:50.301Z"
   },
   {
    "duration": 15,
    "start_time": "2022-10-04T13:29:59.372Z"
   },
   {
    "duration": 1459,
    "start_time": "2022-10-04T13:30:31.504Z"
   },
   {
    "duration": 281,
    "start_time": "2022-10-04T13:30:32.965Z"
   },
   {
    "duration": 83,
    "start_time": "2022-10-04T13:30:33.248Z"
   },
   {
    "duration": 350,
    "start_time": "2022-10-04T13:30:33.333Z"
   },
   {
    "duration": 6,
    "start_time": "2022-10-04T13:30:33.685Z"
   },
   {
    "duration": 31,
    "start_time": "2022-10-04T13:30:33.693Z"
   },
   {
    "duration": 3,
    "start_time": "2022-10-04T13:30:33.727Z"
   },
   {
    "duration": 22,
    "start_time": "2022-10-04T13:30:33.732Z"
   },
   {
    "duration": 6,
    "start_time": "2022-10-04T13:30:33.756Z"
   },
   {
    "duration": 264,
    "start_time": "2022-10-04T13:30:33.764Z"
   },
   {
    "duration": 13,
    "start_time": "2022-10-04T13:30:34.029Z"
   },
   {
    "duration": 7,
    "start_time": "2022-10-04T13:30:34.044Z"
   },
   {
    "duration": 13,
    "start_time": "2022-10-04T13:30:34.053Z"
   },
   {
    "duration": 60,
    "start_time": "2022-10-04T13:30:34.067Z"
   },
   {
    "duration": 6,
    "start_time": "2022-10-04T13:30:34.130Z"
   },
   {
    "duration": 19,
    "start_time": "2022-10-04T13:30:34.137Z"
   },
   {
    "duration": 1469,
    "start_time": "2022-10-04T13:30:34.157Z"
   },
   {
    "duration": 1445,
    "start_time": "2022-10-04T13:30:35.628Z"
   },
   {
    "duration": 1509,
    "start_time": "2022-10-04T13:30:37.074Z"
   },
   {
    "duration": 194,
    "start_time": "2022-10-04T13:30:38.585Z"
   },
   {
    "duration": 264,
    "start_time": "2022-10-04T13:30:38.781Z"
   },
   {
    "duration": 192,
    "start_time": "2022-10-04T13:30:39.046Z"
   },
   {
    "duration": 199,
    "start_time": "2022-10-04T13:30:39.239Z"
   },
   {
    "duration": 15,
    "start_time": "2022-10-04T13:30:39.440Z"
   },
   {
    "duration": 207,
    "start_time": "2022-10-04T13:30:39.456Z"
   },
   {
    "duration": 183,
    "start_time": "2022-10-04T13:30:39.665Z"
   },
   {
    "duration": 14,
    "start_time": "2022-10-04T13:30:39.849Z"
   },
   {
    "duration": 173,
    "start_time": "2022-10-04T13:30:39.866Z"
   },
   {
    "duration": 14,
    "start_time": "2022-10-04T13:30:40.041Z"
   },
   {
    "duration": 212,
    "start_time": "2022-10-04T13:30:40.056Z"
   },
   {
    "duration": 180,
    "start_time": "2022-10-04T13:30:40.270Z"
   },
   {
    "duration": 170,
    "start_time": "2022-10-04T13:30:40.452Z"
   },
   {
    "duration": 14,
    "start_time": "2022-10-04T13:30:40.624Z"
   },
   {
    "duration": 274,
    "start_time": "2022-10-04T13:30:40.640Z"
   },
   {
    "duration": 175,
    "start_time": "2022-10-04T13:30:40.916Z"
   },
   {
    "duration": 22,
    "start_time": "2022-10-04T13:30:41.093Z"
   },
   {
    "duration": 166,
    "start_time": "2022-10-04T13:30:41.117Z"
   },
   {
    "duration": 217,
    "start_time": "2022-10-04T13:30:41.285Z"
   },
   {
    "duration": 16,
    "start_time": "2022-10-04T13:30:41.508Z"
   },
   {
    "duration": 200,
    "start_time": "2022-10-04T13:30:41.526Z"
   },
   {
    "duration": 6,
    "start_time": "2022-10-04T13:30:41.728Z"
   },
   {
    "duration": 4,
    "start_time": "2022-10-04T13:30:52.223Z"
   },
   {
    "duration": 5,
    "start_time": "2022-10-04T13:30:57.918Z"
   },
   {
    "duration": 4,
    "start_time": "2022-10-04T13:30:58.771Z"
   },
   {
    "duration": 4,
    "start_time": "2022-10-04T13:31:12.127Z"
   },
   {
    "duration": 310,
    "start_time": "2022-10-04T13:31:12.133Z"
   },
   {
    "duration": 86,
    "start_time": "2022-10-04T13:31:12.445Z"
   },
   {
    "duration": 429,
    "start_time": "2022-10-04T13:31:12.534Z"
   },
   {
    "duration": 5,
    "start_time": "2022-10-04T13:31:12.964Z"
   },
   {
    "duration": 31,
    "start_time": "2022-10-04T13:31:12.971Z"
   },
   {
    "duration": 5,
    "start_time": "2022-10-04T13:31:13.004Z"
   },
   {
    "duration": 19,
    "start_time": "2022-10-04T13:31:13.011Z"
   },
   {
    "duration": 7,
    "start_time": "2022-10-04T13:31:13.032Z"
   },
   {
    "duration": 248,
    "start_time": "2022-10-04T13:31:13.042Z"
   },
   {
    "duration": 17,
    "start_time": "2022-10-04T13:31:13.292Z"
   },
   {
    "duration": 6,
    "start_time": "2022-10-04T13:31:13.311Z"
   },
   {
    "duration": 38,
    "start_time": "2022-10-04T13:31:13.319Z"
   },
   {
    "duration": 18,
    "start_time": "2022-10-04T13:31:13.359Z"
   },
   {
    "duration": 10,
    "start_time": "2022-10-04T13:31:13.378Z"
   },
   {
    "duration": 22,
    "start_time": "2022-10-04T13:31:13.389Z"
   },
   {
    "duration": 1508,
    "start_time": "2022-10-04T13:31:13.413Z"
   },
   {
    "duration": 1500,
    "start_time": "2022-10-04T13:31:14.922Z"
   },
   {
    "duration": 1409,
    "start_time": "2022-10-04T13:31:16.424Z"
   },
   {
    "duration": 188,
    "start_time": "2022-10-04T13:31:17.834Z"
   },
   {
    "duration": 274,
    "start_time": "2022-10-04T13:31:18.023Z"
   },
   {
    "duration": 182,
    "start_time": "2022-10-04T13:31:18.299Z"
   },
   {
    "duration": 196,
    "start_time": "2022-10-04T13:31:18.482Z"
   },
   {
    "duration": 12,
    "start_time": "2022-10-04T13:31:18.680Z"
   },
   {
    "duration": 202,
    "start_time": "2022-10-04T13:31:18.694Z"
   },
   {
    "duration": 179,
    "start_time": "2022-10-04T13:31:18.897Z"
   },
   {
    "duration": 14,
    "start_time": "2022-10-04T13:31:19.078Z"
   },
   {
    "duration": 163,
    "start_time": "2022-10-04T13:31:19.108Z"
   },
   {
    "duration": 10,
    "start_time": "2022-10-04T13:31:19.273Z"
   },
   {
    "duration": 186,
    "start_time": "2022-10-04T13:31:19.285Z"
   },
   {
    "duration": 197,
    "start_time": "2022-10-04T13:31:19.473Z"
   },
   {
    "duration": 178,
    "start_time": "2022-10-04T13:31:19.671Z"
   },
   {
    "duration": 9,
    "start_time": "2022-10-04T13:31:19.851Z"
   },
   {
    "duration": 184,
    "start_time": "2022-10-04T13:31:19.862Z"
   },
   {
    "duration": 296,
    "start_time": "2022-10-04T13:31:20.047Z"
   },
   {
    "duration": 10,
    "start_time": "2022-10-04T13:31:20.344Z"
   },
   {
    "duration": 190,
    "start_time": "2022-10-04T13:31:20.356Z"
   },
   {
    "duration": 189,
    "start_time": "2022-10-04T13:31:20.548Z"
   },
   {
    "duration": 10,
    "start_time": "2022-10-04T13:31:20.739Z"
   },
   {
    "duration": 182,
    "start_time": "2022-10-04T13:31:20.750Z"
   },
   {
    "duration": 4,
    "start_time": "2022-10-04T13:31:20.934Z"
   },
   {
    "duration": 32,
    "start_time": "2022-10-04T13:31:20.940Z"
   },
   {
    "duration": 34,
    "start_time": "2022-10-04T13:31:20.973Z"
   },
   {
    "duration": 121,
    "start_time": "2022-10-04T13:32:41.080Z"
   },
   {
    "duration": 18,
    "start_time": "2022-10-04T13:32:42.863Z"
   },
   {
    "duration": 4,
    "start_time": "2022-10-04T13:32:47.536Z"
   },
   {
    "duration": 323,
    "start_time": "2022-10-04T13:32:47.542Z"
   },
   {
    "duration": 77,
    "start_time": "2022-10-04T13:32:47.866Z"
   },
   {
    "duration": 363,
    "start_time": "2022-10-04T13:32:47.944Z"
   },
   {
    "duration": 4,
    "start_time": "2022-10-04T13:32:48.309Z"
   },
   {
    "duration": 39,
    "start_time": "2022-10-04T13:32:48.315Z"
   },
   {
    "duration": 18,
    "start_time": "2022-10-04T13:32:48.356Z"
   },
   {
    "duration": 23,
    "start_time": "2022-10-04T13:32:48.376Z"
   },
   {
    "duration": 22,
    "start_time": "2022-10-04T13:32:48.401Z"
   },
   {
    "duration": 243,
    "start_time": "2022-10-04T13:32:48.425Z"
   },
   {
    "duration": 11,
    "start_time": "2022-10-04T13:32:48.670Z"
   },
   {
    "duration": 12,
    "start_time": "2022-10-04T13:32:48.683Z"
   },
   {
    "duration": 29,
    "start_time": "2022-10-04T13:32:48.696Z"
   },
   {
    "duration": 29,
    "start_time": "2022-10-04T13:32:48.729Z"
   },
   {
    "duration": 13,
    "start_time": "2022-10-04T13:32:48.760Z"
   },
   {
    "duration": 36,
    "start_time": "2022-10-04T13:32:48.774Z"
   },
   {
    "duration": 1503,
    "start_time": "2022-10-04T13:32:48.812Z"
   },
   {
    "duration": 1412,
    "start_time": "2022-10-04T13:32:50.317Z"
   },
   {
    "duration": 1565,
    "start_time": "2022-10-04T13:32:51.731Z"
   },
   {
    "duration": 191,
    "start_time": "2022-10-04T13:32:53.298Z"
   },
   {
    "duration": 183,
    "start_time": "2022-10-04T13:32:53.491Z"
   },
   {
    "duration": 183,
    "start_time": "2022-10-04T13:32:53.675Z"
   },
   {
    "duration": 189,
    "start_time": "2022-10-04T13:32:53.860Z"
   },
   {
    "duration": 13,
    "start_time": "2022-10-04T13:32:54.051Z"
   },
   {
    "duration": 202,
    "start_time": "2022-10-04T13:32:54.066Z"
   },
   {
    "duration": 181,
    "start_time": "2022-10-04T13:32:54.269Z"
   },
   {
    "duration": 14,
    "start_time": "2022-10-04T13:32:54.451Z"
   },
   {
    "duration": 302,
    "start_time": "2022-10-04T13:32:54.467Z"
   },
   {
    "duration": 13,
    "start_time": "2022-10-04T13:32:54.771Z"
   },
   {
    "duration": 188,
    "start_time": "2022-10-04T13:32:54.786Z"
   },
   {
    "duration": 174,
    "start_time": "2022-10-04T13:32:54.976Z"
   },
   {
    "duration": 174,
    "start_time": "2022-10-04T13:32:55.152Z"
   },
   {
    "duration": 12,
    "start_time": "2022-10-04T13:32:55.327Z"
   },
   {
    "duration": 180,
    "start_time": "2022-10-04T13:32:55.341Z"
   },
   {
    "duration": 186,
    "start_time": "2022-10-04T13:32:55.523Z"
   },
   {
    "duration": 13,
    "start_time": "2022-10-04T13:32:55.710Z"
   },
   {
    "duration": 173,
    "start_time": "2022-10-04T13:32:55.724Z"
   },
   {
    "duration": 192,
    "start_time": "2022-10-04T13:32:55.898Z"
   },
   {
    "duration": 17,
    "start_time": "2022-10-04T13:32:56.092Z"
   },
   {
    "duration": 161,
    "start_time": "2022-10-04T13:32:56.110Z"
   },
   {
    "duration": 4,
    "start_time": "2022-10-04T13:32:56.275Z"
   },
   {
    "duration": 9,
    "start_time": "2022-10-04T13:32:56.281Z"
   },
   {
    "duration": 6,
    "start_time": "2022-10-04T13:32:59.111Z"
   },
   {
    "duration": 5,
    "start_time": "2022-10-04T13:32:59.611Z"
   },
   {
    "duration": 1568,
    "start_time": "2022-10-05T07:44:24.369Z"
   },
   {
    "duration": 1204,
    "start_time": "2022-10-05T07:44:25.939Z"
   },
   {
    "duration": 155,
    "start_time": "2022-10-05T07:44:27.145Z"
   },
   {
    "duration": 582,
    "start_time": "2022-10-05T07:44:27.302Z"
   },
   {
    "duration": 6,
    "start_time": "2022-10-05T07:44:27.885Z"
   },
   {
    "duration": 16,
    "start_time": "2022-10-05T07:44:27.893Z"
   },
   {
    "duration": 4,
    "start_time": "2022-10-05T07:44:27.910Z"
   },
   {
    "duration": 21,
    "start_time": "2022-10-05T07:44:27.915Z"
   },
   {
    "duration": 7,
    "start_time": "2022-10-05T07:44:27.938Z"
   },
   {
    "duration": 262,
    "start_time": "2022-10-05T07:44:27.948Z"
   },
   {
    "duration": 19,
    "start_time": "2022-10-05T07:44:28.212Z"
   },
   {
    "duration": 6,
    "start_time": "2022-10-05T07:44:28.233Z"
   },
   {
    "duration": 11,
    "start_time": "2022-10-05T07:44:28.241Z"
   },
   {
    "duration": 21,
    "start_time": "2022-10-05T07:44:28.254Z"
   },
   {
    "duration": 5,
    "start_time": "2022-10-05T07:44:28.277Z"
   },
   {
    "duration": 43,
    "start_time": "2022-10-05T07:44:28.284Z"
   },
   {
    "duration": 1468,
    "start_time": "2022-10-05T07:44:28.329Z"
   },
   {
    "duration": 1437,
    "start_time": "2022-10-05T07:44:29.799Z"
   },
   {
    "duration": 1343,
    "start_time": "2022-10-05T07:44:31.238Z"
   },
   {
    "duration": 278,
    "start_time": "2022-10-05T07:44:32.583Z"
   },
   {
    "duration": 217,
    "start_time": "2022-10-05T07:44:32.864Z"
   },
   {
    "duration": 220,
    "start_time": "2022-10-05T07:44:33.083Z"
   },
   {
    "duration": 218,
    "start_time": "2022-10-05T07:44:33.305Z"
   },
   {
    "duration": 17,
    "start_time": "2022-10-05T07:44:33.525Z"
   },
   {
    "duration": 239,
    "start_time": "2022-10-05T07:44:33.544Z"
   },
   {
    "duration": 211,
    "start_time": "2022-10-05T07:44:33.784Z"
   },
   {
    "duration": 24,
    "start_time": "2022-10-05T07:44:33.997Z"
   },
   {
    "duration": 196,
    "start_time": "2022-10-05T07:44:34.025Z"
   },
   {
    "duration": 18,
    "start_time": "2022-10-05T07:44:34.223Z"
   },
   {
    "duration": 181,
    "start_time": "2022-10-05T07:44:34.243Z"
   },
   {
    "duration": 253,
    "start_time": "2022-10-05T07:44:34.426Z"
   },
   {
    "duration": 196,
    "start_time": "2022-10-05T07:44:34.680Z"
   },
   {
    "duration": 18,
    "start_time": "2022-10-05T07:44:34.877Z"
   },
   {
    "duration": 193,
    "start_time": "2022-10-05T07:44:34.896Z"
   },
   {
    "duration": 181,
    "start_time": "2022-10-05T07:44:35.091Z"
   },
   {
    "duration": 16,
    "start_time": "2022-10-05T07:44:35.273Z"
   },
   {
    "duration": 177,
    "start_time": "2022-10-05T07:44:35.290Z"
   },
   {
    "duration": 201,
    "start_time": "2022-10-05T07:44:35.468Z"
   },
   {
    "duration": 14,
    "start_time": "2022-10-05T07:44:35.671Z"
   },
   {
    "duration": 175,
    "start_time": "2022-10-05T07:44:35.687Z"
   },
   {
    "duration": 4,
    "start_time": "2022-10-05T07:44:35.864Z"
   },
   {
    "duration": 7,
    "start_time": "2022-10-05T07:44:35.870Z"
   },
   {
    "duration": 11,
    "start_time": "2022-10-05T07:44:35.879Z"
   },
   {
    "duration": 112,
    "start_time": "2022-10-05T07:45:24.761Z"
   },
   {
    "duration": 1256,
    "start_time": "2022-10-05T07:45:33.287Z"
   },
   {
    "duration": 4,
    "start_time": "2022-10-05T07:46:39.563Z"
   },
   {
    "duration": 1292,
    "start_time": "2022-10-05T07:47:54.967Z"
   },
   {
    "duration": 3,
    "start_time": "2022-10-05T07:48:00.763Z"
   },
   {
    "duration": 3,
    "start_time": "2022-10-05T07:49:08.668Z"
   },
   {
    "duration": 5,
    "start_time": "2022-10-05T07:49:14.818Z"
   },
   {
    "duration": 41,
    "start_time": "2022-10-05T07:50:48.968Z"
   },
   {
    "duration": 3,
    "start_time": "2022-10-05T07:56:29.102Z"
   },
   {
    "duration": 283,
    "start_time": "2022-10-05T07:56:29.107Z"
   },
   {
    "duration": 76,
    "start_time": "2022-10-05T07:56:29.391Z"
   },
   {
    "duration": 305,
    "start_time": "2022-10-05T07:56:29.469Z"
   },
   {
    "duration": 5,
    "start_time": "2022-10-05T07:56:29.775Z"
   },
   {
    "duration": 19,
    "start_time": "2022-10-05T07:56:29.781Z"
   },
   {
    "duration": 11,
    "start_time": "2022-10-05T07:56:29.802Z"
   },
   {
    "duration": 29,
    "start_time": "2022-10-05T07:56:29.814Z"
   },
   {
    "duration": 8,
    "start_time": "2022-10-05T07:56:29.845Z"
   },
   {
    "duration": 211,
    "start_time": "2022-10-05T07:56:29.854Z"
   },
   {
    "duration": 11,
    "start_time": "2022-10-05T07:56:30.066Z"
   },
   {
    "duration": 21,
    "start_time": "2022-10-05T07:56:30.078Z"
   },
   {
    "duration": 27,
    "start_time": "2022-10-05T07:56:30.101Z"
   },
   {
    "duration": 15,
    "start_time": "2022-10-05T07:56:30.130Z"
   },
   {
    "duration": 15,
    "start_time": "2022-10-05T07:56:30.147Z"
   },
   {
    "duration": 29,
    "start_time": "2022-10-05T07:56:30.164Z"
   },
   {
    "duration": 1499,
    "start_time": "2022-10-05T07:56:30.195Z"
   },
   {
    "duration": 1606,
    "start_time": "2022-10-05T07:56:31.696Z"
   },
   {
    "duration": 1394,
    "start_time": "2022-10-05T07:56:33.304Z"
   },
   {
    "duration": 181,
    "start_time": "2022-10-05T07:56:34.700Z"
   },
   {
    "duration": 173,
    "start_time": "2022-10-05T07:56:34.882Z"
   },
   {
    "duration": 172,
    "start_time": "2022-10-05T07:56:35.056Z"
   },
   {
    "duration": 199,
    "start_time": "2022-10-05T07:56:35.230Z"
   },
   {
    "duration": 12,
    "start_time": "2022-10-05T07:56:35.432Z"
   },
   {
    "duration": 191,
    "start_time": "2022-10-05T07:56:35.446Z"
   },
   {
    "duration": 183,
    "start_time": "2022-10-05T07:56:35.639Z"
   },
   {
    "duration": 16,
    "start_time": "2022-10-05T07:56:35.824Z"
   },
   {
    "duration": 191,
    "start_time": "2022-10-05T07:56:35.841Z"
   },
   {
    "duration": 18,
    "start_time": "2022-10-05T07:56:36.034Z"
   },
   {
    "duration": 236,
    "start_time": "2022-10-05T07:56:36.054Z"
   },
   {
    "duration": 281,
    "start_time": "2022-10-05T07:56:36.292Z"
   },
   {
    "duration": 173,
    "start_time": "2022-10-05T07:56:36.575Z"
   },
   {
    "duration": 12,
    "start_time": "2022-10-05T07:56:36.750Z"
   },
   {
    "duration": 171,
    "start_time": "2022-10-05T07:56:36.764Z"
   },
   {
    "duration": 170,
    "start_time": "2022-10-05T07:56:36.936Z"
   },
   {
    "duration": 23,
    "start_time": "2022-10-05T07:56:37.107Z"
   },
   {
    "duration": 150,
    "start_time": "2022-10-05T07:56:37.132Z"
   },
   {
    "duration": 199,
    "start_time": "2022-10-05T07:56:37.283Z"
   },
   {
    "duration": 12,
    "start_time": "2022-10-05T07:56:37.484Z"
   },
   {
    "duration": 163,
    "start_time": "2022-10-05T07:56:37.498Z"
   },
   {
    "duration": 4,
    "start_time": "2022-10-05T07:56:37.663Z"
   },
   {
    "duration": 8,
    "start_time": "2022-10-05T07:56:37.668Z"
   },
   {
    "duration": 9,
    "start_time": "2022-10-05T07:56:37.677Z"
   },
   {
    "duration": 7,
    "start_time": "2022-10-05T07:56:37.687Z"
   },
   {
    "duration": 7,
    "start_time": "2022-10-05T07:56:37.696Z"
   },
   {
    "duration": 2,
    "start_time": "2022-10-05T07:57:08.591Z"
   },
   {
    "duration": 4,
    "start_time": "2022-10-05T07:58:41.628Z"
   },
   {
    "duration": 2,
    "start_time": "2022-10-05T07:59:16.272Z"
   },
   {
    "duration": 3,
    "start_time": "2022-10-05T08:00:27.751Z"
   },
   {
    "duration": 2,
    "start_time": "2022-10-05T08:00:35.061Z"
   },
   {
    "duration": 3,
    "start_time": "2022-10-05T08:00:52.986Z"
   },
   {
    "duration": 2,
    "start_time": "2022-10-05T08:01:17.642Z"
   },
   {
    "duration": 47,
    "start_time": "2022-10-05T08:02:10.440Z"
   },
   {
    "duration": 15,
    "start_time": "2022-10-05T08:08:56.352Z"
   },
   {
    "duration": 3,
    "start_time": "2022-10-05T08:09:03.093Z"
   },
   {
    "duration": 3,
    "start_time": "2022-10-05T08:09:03.859Z"
   },
   {
    "duration": 2,
    "start_time": "2022-10-05T08:09:04.150Z"
   },
   {
    "duration": 3,
    "start_time": "2022-10-05T08:09:04.922Z"
   },
   {
    "duration": 3,
    "start_time": "2022-10-05T08:09:05.186Z"
   },
   {
    "duration": 2,
    "start_time": "2022-10-05T08:09:05.421Z"
   },
   {
    "duration": 9,
    "start_time": "2022-10-05T08:09:07.153Z"
   },
   {
    "duration": 9,
    "start_time": "2022-10-05T08:10:20.336Z"
   },
   {
    "duration": 80,
    "start_time": "2022-10-05T08:20:14.151Z"
   },
   {
    "duration": 201,
    "start_time": "2022-10-05T08:21:06.322Z"
   },
   {
    "duration": 18,
    "start_time": "2022-10-05T08:21:39.116Z"
   },
   {
    "duration": 21,
    "start_time": "2022-10-05T08:23:04.741Z"
   },
   {
    "duration": 18,
    "start_time": "2022-10-05T08:23:15.507Z"
   },
   {
    "duration": 19,
    "start_time": "2022-10-05T08:23:17.676Z"
   },
   {
    "duration": 18,
    "start_time": "2022-10-05T08:23:18.643Z"
   },
   {
    "duration": 3,
    "start_time": "2022-10-05T08:24:47.475Z"
   },
   {
    "duration": 12,
    "start_time": "2022-10-05T08:25:29.950Z"
   },
   {
    "duration": 37514,
    "start_time": "2022-10-05T08:25:36.664Z"
   },
   {
    "duration": 50503,
    "start_time": "2022-10-05T08:28:36.202Z"
   },
   {
    "duration": 4,
    "start_time": "2022-10-05T08:29:52.619Z"
   },
   {
    "duration": 51373,
    "start_time": "2022-10-05T08:30:05.186Z"
   },
   {
    "duration": 48127,
    "start_time": "2022-10-05T08:30:58.651Z"
   },
   {
    "duration": 8,
    "start_time": "2022-10-05T08:32:31.470Z"
   },
   {
    "duration": 882,
    "start_time": "2022-10-05T08:33:03.095Z"
   },
   {
    "duration": 924,
    "start_time": "2022-10-05T08:33:05.323Z"
   },
   {
    "duration": 3,
    "start_time": "2022-10-05T08:34:31.019Z"
   },
   {
    "duration": 105,
    "start_time": "2022-10-05T08:37:01.218Z"
   },
   {
    "duration": 1316,
    "start_time": "2022-10-05T08:37:10.106Z"
   },
   {
    "duration": 1405,
    "start_time": "2022-10-05T08:37:17.320Z"
   },
   {
    "duration": 1387,
    "start_time": "2022-10-05T08:37:41.340Z"
   },
   {
    "duration": 127359,
    "start_time": "2022-10-05T08:38:17.449Z"
   },
   {
    "duration": 1498,
    "start_time": "2022-10-05T08:40:34.998Z"
   },
   {
    "duration": 277,
    "start_time": "2022-10-05T08:40:36.498Z"
   },
   {
    "duration": 80,
    "start_time": "2022-10-05T08:40:36.776Z"
   },
   {
    "duration": 341,
    "start_time": "2022-10-05T08:40:36.858Z"
   },
   {
    "duration": 6,
    "start_time": "2022-10-05T08:40:37.201Z"
   },
   {
    "duration": 28,
    "start_time": "2022-10-05T08:40:37.208Z"
   },
   {
    "duration": 3,
    "start_time": "2022-10-05T08:40:37.238Z"
   },
   {
    "duration": 16,
    "start_time": "2022-10-05T08:40:37.243Z"
   },
   {
    "duration": 12,
    "start_time": "2022-10-05T08:40:37.260Z"
   },
   {
    "duration": 270,
    "start_time": "2022-10-05T08:40:37.275Z"
   },
   {
    "duration": 11,
    "start_time": "2022-10-05T08:40:37.547Z"
   },
   {
    "duration": 7,
    "start_time": "2022-10-05T08:40:37.559Z"
   },
   {
    "duration": 21,
    "start_time": "2022-10-05T08:40:37.567Z"
   },
   {
    "duration": 40,
    "start_time": "2022-10-05T08:40:37.590Z"
   },
   {
    "duration": 8,
    "start_time": "2022-10-05T08:40:37.633Z"
   },
   {
    "duration": 14,
    "start_time": "2022-10-05T08:40:37.643Z"
   },
   {
    "duration": 1421,
    "start_time": "2022-10-05T08:40:37.658Z"
   },
   {
    "duration": 1427,
    "start_time": "2022-10-05T08:40:39.081Z"
   },
   {
    "duration": 1438,
    "start_time": "2022-10-05T08:40:40.510Z"
   },
   {
    "duration": 251,
    "start_time": "2022-10-05T08:40:41.950Z"
   },
   {
    "duration": 194,
    "start_time": "2022-10-05T08:40:42.203Z"
   },
   {
    "duration": 177,
    "start_time": "2022-10-05T08:40:42.399Z"
   },
   {
    "duration": 196,
    "start_time": "2022-10-05T08:40:42.577Z"
   },
   {
    "duration": 15,
    "start_time": "2022-10-05T08:40:42.775Z"
   },
   {
    "duration": 197,
    "start_time": "2022-10-05T08:40:42.792Z"
   },
   {
    "duration": 184,
    "start_time": "2022-10-05T08:40:42.991Z"
   },
   {
    "duration": 17,
    "start_time": "2022-10-05T08:40:43.176Z"
   },
   {
    "duration": 178,
    "start_time": "2022-10-05T08:40:43.197Z"
   },
   {
    "duration": 16,
    "start_time": "2022-10-05T08:40:43.377Z"
   },
   {
    "duration": 180,
    "start_time": "2022-10-05T08:40:43.395Z"
   },
   {
    "duration": 250,
    "start_time": "2022-10-05T08:40:43.577Z"
   },
   {
    "duration": 174,
    "start_time": "2022-10-05T08:40:43.828Z"
   },
   {
    "duration": 21,
    "start_time": "2022-10-05T08:40:44.004Z"
   },
   {
    "duration": 182,
    "start_time": "2022-10-05T08:40:44.027Z"
   },
   {
    "duration": 185,
    "start_time": "2022-10-05T08:40:44.211Z"
   },
   {
    "duration": 24,
    "start_time": "2022-10-05T08:40:44.398Z"
   },
   {
    "duration": 161,
    "start_time": "2022-10-05T08:40:44.424Z"
   },
   {
    "duration": 194,
    "start_time": "2022-10-05T08:40:44.586Z"
   },
   {
    "duration": 13,
    "start_time": "2022-10-05T08:40:44.782Z"
   },
   {
    "duration": 183,
    "start_time": "2022-10-05T08:40:44.797Z"
   },
   {
    "duration": 4,
    "start_time": "2022-10-05T08:40:44.982Z"
   },
   {
    "duration": 20,
    "start_time": "2022-10-05T08:40:44.987Z"
   },
   {
    "duration": 35,
    "start_time": "2022-10-05T08:40:45.009Z"
   },
   {
    "duration": 13,
    "start_time": "2022-10-05T08:40:45.046Z"
   },
   {
    "duration": 36,
    "start_time": "2022-10-05T08:40:45.060Z"
   },
   {
    "duration": 22,
    "start_time": "2022-10-05T08:40:45.097Z"
   },
   {
    "duration": 18,
    "start_time": "2022-10-05T08:40:45.120Z"
   },
   {
    "duration": 38,
    "start_time": "2022-10-05T08:40:45.140Z"
   },
   {
    "duration": 1747,
    "start_time": "2022-10-05T08:40:45.180Z"
   },
   {
    "duration": 1596,
    "start_time": "2022-10-05T08:40:46.929Z"
   },
   {
    "duration": 104700,
    "start_time": "2022-10-05T08:40:50.509Z"
   },
   {
    "duration": 6,
    "start_time": "2022-10-05T08:42:58.022Z"
   },
   {
    "duration": 116992,
    "start_time": "2022-10-05T08:43:25.387Z"
   },
   {
    "duration": 4,
    "start_time": "2022-10-05T08:45:31.557Z"
   },
   {
    "duration": 1334,
    "start_time": "2022-10-05T08:47:36.925Z"
   },
   {
    "duration": 274,
    "start_time": "2022-10-05T08:47:38.261Z"
   },
   {
    "duration": 78,
    "start_time": "2022-10-05T08:47:38.536Z"
   },
   {
    "duration": 337,
    "start_time": "2022-10-05T08:47:38.616Z"
   },
   {
    "duration": 5,
    "start_time": "2022-10-05T08:47:38.955Z"
   },
   {
    "duration": 16,
    "start_time": "2022-10-05T08:47:38.962Z"
   },
   {
    "duration": 6,
    "start_time": "2022-10-05T08:47:38.979Z"
   },
   {
    "duration": 13,
    "start_time": "2022-10-05T08:47:38.986Z"
   },
   {
    "duration": 21,
    "start_time": "2022-10-05T08:47:39.000Z"
   },
   {
    "duration": 228,
    "start_time": "2022-10-05T08:47:39.024Z"
   },
   {
    "duration": 10,
    "start_time": "2022-10-05T08:47:39.254Z"
   },
   {
    "duration": 6,
    "start_time": "2022-10-05T08:47:39.265Z"
   },
   {
    "duration": 12,
    "start_time": "2022-10-05T08:47:39.273Z"
   },
   {
    "duration": 43,
    "start_time": "2022-10-05T08:47:39.286Z"
   },
   {
    "duration": 6,
    "start_time": "2022-10-05T08:47:39.331Z"
   },
   {
    "duration": 18,
    "start_time": "2022-10-05T08:47:39.338Z"
   },
   {
    "duration": 1317,
    "start_time": "2022-10-05T08:47:39.358Z"
   },
   {
    "duration": 1423,
    "start_time": "2022-10-05T08:47:40.677Z"
   },
   {
    "duration": 1411,
    "start_time": "2022-10-05T08:47:42.102Z"
   },
   {
    "duration": 246,
    "start_time": "2022-10-05T08:47:43.515Z"
   },
   {
    "duration": 181,
    "start_time": "2022-10-05T08:47:43.763Z"
   },
   {
    "duration": 173,
    "start_time": "2022-10-05T08:47:43.945Z"
   },
   {
    "duration": 172,
    "start_time": "2022-10-05T08:47:44.121Z"
   },
   {
    "duration": 14,
    "start_time": "2022-10-05T08:47:44.295Z"
   },
   {
    "duration": 170,
    "start_time": "2022-10-05T08:47:44.321Z"
   },
   {
    "duration": 169,
    "start_time": "2022-10-05T08:47:44.492Z"
   },
   {
    "duration": 16,
    "start_time": "2022-10-05T08:47:44.662Z"
   },
   {
    "duration": 172,
    "start_time": "2022-10-05T08:47:44.681Z"
   },
   {
    "duration": 14,
    "start_time": "2022-10-05T08:47:44.855Z"
   },
   {
    "duration": 166,
    "start_time": "2022-10-05T08:47:44.871Z"
   },
   {
    "duration": 239,
    "start_time": "2022-10-05T08:47:45.039Z"
   },
   {
    "duration": 179,
    "start_time": "2022-10-05T08:47:45.279Z"
   },
   {
    "duration": 14,
    "start_time": "2022-10-05T08:47:45.460Z"
   },
   {
    "duration": 175,
    "start_time": "2022-10-05T08:47:45.476Z"
   },
   {
    "duration": 173,
    "start_time": "2022-10-05T08:47:45.652Z"
   },
   {
    "duration": 13,
    "start_time": "2022-10-05T08:47:45.827Z"
   },
   {
    "duration": 163,
    "start_time": "2022-10-05T08:47:45.841Z"
   },
   {
    "duration": 244,
    "start_time": "2022-10-05T08:47:46.005Z"
   },
   {
    "duration": 17,
    "start_time": "2022-10-05T08:47:46.251Z"
   },
   {
    "duration": 166,
    "start_time": "2022-10-05T08:47:46.272Z"
   },
   {
    "duration": 4,
    "start_time": "2022-10-05T08:47:46.440Z"
   },
   {
    "duration": 8,
    "start_time": "2022-10-05T08:47:46.445Z"
   },
   {
    "duration": 8,
    "start_time": "2022-10-05T08:47:46.455Z"
   },
   {
    "duration": 6,
    "start_time": "2022-10-05T08:47:46.464Z"
   },
   {
    "duration": 4,
    "start_time": "2022-10-05T08:47:46.472Z"
   },
   {
    "duration": 7,
    "start_time": "2022-10-05T08:47:46.477Z"
   },
   {
    "duration": 5,
    "start_time": "2022-10-05T08:47:46.485Z"
   },
   {
    "duration": 8,
    "start_time": "2022-10-05T08:47:46.492Z"
   },
   {
    "duration": 1222,
    "start_time": "2022-10-05T08:47:46.501Z"
   },
   {
    "duration": 1198,
    "start_time": "2022-10-05T08:47:47.724Z"
   },
   {
    "duration": 138312,
    "start_time": "2022-10-05T08:47:59.353Z"
   },
   {
    "duration": 1166,
    "start_time": "2022-10-05T08:50:57.059Z"
   },
   {
    "duration": 55508,
    "start_time": "2022-10-05T08:51:07.451Z"
   },
   {
    "duration": 0,
    "start_time": "2022-10-05T08:52:02.961Z"
   },
   {
    "duration": 4128,
    "start_time": "2022-10-05T08:52:04.994Z"
   },
   {
    "duration": 1260,
    "start_time": "2022-10-05T08:52:16.465Z"
   },
   {
    "duration": 1299,
    "start_time": "2022-10-05T08:52:27.224Z"
   },
   {
    "duration": 1237,
    "start_time": "2022-10-05T08:52:41.791Z"
   },
   {
    "duration": 1346,
    "start_time": "2022-10-05T08:53:11.387Z"
   },
   {
    "duration": 1280,
    "start_time": "2022-10-05T08:54:59.842Z"
   },
   {
    "duration": 937,
    "start_time": "2022-10-05T08:56:50.585Z"
   },
   {
    "duration": 1280,
    "start_time": "2022-10-05T08:57:01.043Z"
   },
   {
    "duration": 1156,
    "start_time": "2022-10-05T08:57:26.671Z"
   },
   {
    "duration": 8,
    "start_time": "2022-10-05T08:57:49.883Z"
   },
   {
    "duration": 2994,
    "start_time": "2022-10-05T08:58:11.591Z"
   },
   {
    "duration": 1027,
    "start_time": "2022-10-05T08:58:20.402Z"
   },
   {
    "duration": 1031,
    "start_time": "2022-10-05T08:58:25.694Z"
   },
   {
    "duration": 3015,
    "start_time": "2022-10-05T08:58:46.370Z"
   },
   {
    "duration": 125756,
    "start_time": "2022-10-05T08:59:11.301Z"
   },
   {
    "duration": 10,
    "start_time": "2022-10-05T09:03:04.032Z"
   },
   {
    "duration": 9,
    "start_time": "2022-10-05T09:03:19.476Z"
   },
   {
    "duration": 4,
    "start_time": "2022-10-05T09:03:29.633Z"
   },
   {
    "duration": 3,
    "start_time": "2022-10-05T09:03:54.710Z"
   },
   {
    "duration": 3,
    "start_time": "2022-10-05T09:03:55.159Z"
   },
   {
    "duration": 6,
    "start_time": "2022-10-05T09:04:16.120Z"
   },
   {
    "duration": 6,
    "start_time": "2022-10-05T09:04:24.713Z"
   },
   {
    "duration": 5,
    "start_time": "2022-10-05T09:04:30.857Z"
   },
   {
    "duration": 6,
    "start_time": "2022-10-05T09:05:04.955Z"
   },
   {
    "duration": 2,
    "start_time": "2022-10-05T09:05:44.177Z"
   },
   {
    "duration": 4,
    "start_time": "2022-10-05T09:05:52.139Z"
   },
   {
    "duration": 8,
    "start_time": "2022-10-05T09:07:23.995Z"
   },
   {
    "duration": 5,
    "start_time": "2022-10-05T09:07:46.577Z"
   },
   {
    "duration": 3,
    "start_time": "2022-10-05T09:07:52.273Z"
   },
   {
    "duration": 1239,
    "start_time": "2022-10-05T09:08:56.684Z"
   },
   {
    "duration": 1082,
    "start_time": "2022-10-05T09:09:12.741Z"
   },
   {
    "duration": 98653,
    "start_time": "2022-10-05T09:09:57.340Z"
   },
   {
    "duration": 3210,
    "start_time": "2022-10-05T09:11:45.461Z"
   },
   {
    "duration": 3193,
    "start_time": "2022-10-05T09:11:55.749Z"
   },
   {
    "duration": 10,
    "start_time": "2022-10-05T09:13:06.775Z"
   },
   {
    "duration": 10,
    "start_time": "2022-10-05T09:13:13.868Z"
   },
   {
    "duration": 181371,
    "start_time": "2022-10-05T09:13:21.492Z"
   },
   {
    "duration": 7801,
    "start_time": "2022-10-05T09:25:12.607Z"
   },
   {
    "duration": 87448,
    "start_time": "2022-10-05T09:25:25.163Z"
   },
   {
    "duration": 85371,
    "start_time": "2022-10-05T09:36:16.012Z"
   },
   {
    "duration": 88103,
    "start_time": "2022-10-05T09:39:33.195Z"
   },
   {
    "duration": 85454,
    "start_time": "2022-10-05T09:41:05.525Z"
   },
   {
    "duration": 3124,
    "start_time": "2022-10-05T09:43:25.288Z"
   },
   {
    "duration": 3058,
    "start_time": "2022-10-05T09:43:33.705Z"
   },
   {
    "duration": 3,
    "start_time": "2022-10-05T09:44:07.530Z"
   },
   {
    "duration": 1770,
    "start_time": "2022-10-05T09:44:53.205Z"
   },
   {
    "duration": 12,
    "start_time": "2022-10-05T09:46:52.032Z"
   },
   {
    "duration": 5,
    "start_time": "2022-10-05T09:46:58.845Z"
   },
   {
    "duration": 9,
    "start_time": "2022-10-05T09:47:38.680Z"
   },
   {
    "duration": 9,
    "start_time": "2022-10-05T09:49:54.831Z"
   },
   {
    "duration": 9,
    "start_time": "2022-10-05T09:50:07.212Z"
   },
   {
    "duration": 813,
    "start_time": "2022-10-05T09:50:26.258Z"
   },
   {
    "duration": 823,
    "start_time": "2022-10-05T09:50:50.357Z"
   },
   {
    "duration": 18,
    "start_time": "2022-10-05T09:52:14.272Z"
   },
   {
    "duration": 9,
    "start_time": "2022-10-05T09:53:12.677Z"
   },
   {
    "duration": 15,
    "start_time": "2022-10-05T09:53:29.267Z"
   },
   {
    "duration": 10,
    "start_time": "2022-10-05T09:53:55.427Z"
   },
   {
    "duration": 9,
    "start_time": "2022-10-05T09:55:49.129Z"
   },
   {
    "duration": 815,
    "start_time": "2022-10-05T09:55:54.414Z"
   },
   {
    "duration": 6,
    "start_time": "2022-10-05T09:56:06.799Z"
   },
   {
    "duration": 9,
    "start_time": "2022-10-05T09:57:54.475Z"
   },
   {
    "duration": 9,
    "start_time": "2022-10-05T09:58:00.004Z"
   },
   {
    "duration": 1350,
    "start_time": "2022-10-05T09:58:27.326Z"
   },
   {
    "duration": 10,
    "start_time": "2022-10-05T09:59:56.500Z"
   },
   {
    "duration": 8,
    "start_time": "2022-10-05T10:00:02.834Z"
   },
   {
    "duration": 8,
    "start_time": "2022-10-05T10:36:45.793Z"
   },
   {
    "duration": 8,
    "start_time": "2022-10-05T10:37:02.437Z"
   },
   {
    "duration": 9,
    "start_time": "2022-10-05T10:38:46.482Z"
   },
   {
    "duration": 8,
    "start_time": "2022-10-05T10:38:47.348Z"
   },
   {
    "duration": 4,
    "start_time": "2022-10-05T10:39:19.780Z"
   },
   {
    "duration": 12,
    "start_time": "2022-10-05T10:40:56.130Z"
   },
   {
    "duration": 3,
    "start_time": "2022-10-05T10:41:25.061Z"
   },
   {
    "duration": 3,
    "start_time": "2022-10-05T10:41:32.868Z"
   },
   {
    "duration": 2,
    "start_time": "2022-10-05T10:41:36.703Z"
   },
   {
    "duration": 1385,
    "start_time": "2022-10-05T10:41:50.089Z"
   },
   {
    "duration": 296,
    "start_time": "2022-10-05T10:41:51.476Z"
   },
   {
    "duration": 87,
    "start_time": "2022-10-05T10:41:51.775Z"
   },
   {
    "duration": 353,
    "start_time": "2022-10-05T10:41:51.864Z"
   },
   {
    "duration": 6,
    "start_time": "2022-10-05T10:41:52.218Z"
   },
   {
    "duration": 22,
    "start_time": "2022-10-05T10:41:52.225Z"
   },
   {
    "duration": 19,
    "start_time": "2022-10-05T10:41:52.249Z"
   },
   {
    "duration": 32,
    "start_time": "2022-10-05T10:41:52.269Z"
   },
   {
    "duration": 17,
    "start_time": "2022-10-05T10:41:52.303Z"
   },
   {
    "duration": 255,
    "start_time": "2022-10-05T10:41:52.323Z"
   },
   {
    "duration": 11,
    "start_time": "2022-10-05T10:41:52.580Z"
   },
   {
    "duration": 10,
    "start_time": "2022-10-05T10:41:52.592Z"
   },
   {
    "duration": 26,
    "start_time": "2022-10-05T10:41:52.604Z"
   },
   {
    "duration": 26,
    "start_time": "2022-10-05T10:41:52.632Z"
   },
   {
    "duration": 7,
    "start_time": "2022-10-05T10:41:52.659Z"
   },
   {
    "duration": 24,
    "start_time": "2022-10-05T10:41:52.667Z"
   },
   {
    "duration": 1424,
    "start_time": "2022-10-05T10:41:52.692Z"
   },
   {
    "duration": 1403,
    "start_time": "2022-10-05T10:41:54.117Z"
   },
   {
    "duration": 1421,
    "start_time": "2022-10-05T10:41:55.521Z"
   },
   {
    "duration": 245,
    "start_time": "2022-10-05T10:41:56.944Z"
   },
   {
    "duration": 179,
    "start_time": "2022-10-05T10:41:57.191Z"
   },
   {
    "duration": 180,
    "start_time": "2022-10-05T10:41:57.372Z"
   },
   {
    "duration": 181,
    "start_time": "2022-10-05T10:41:57.553Z"
   },
   {
    "duration": 16,
    "start_time": "2022-10-05T10:41:57.735Z"
   },
   {
    "duration": 185,
    "start_time": "2022-10-05T10:41:57.753Z"
   },
   {
    "duration": 232,
    "start_time": "2022-10-05T10:41:57.940Z"
   },
   {
    "duration": 17,
    "start_time": "2022-10-05T10:41:58.173Z"
   },
   {
    "duration": 170,
    "start_time": "2022-10-05T10:41:58.193Z"
   },
   {
    "duration": 16,
    "start_time": "2022-10-05T10:41:58.365Z"
   },
   {
    "duration": 178,
    "start_time": "2022-10-05T10:41:58.383Z"
   },
   {
    "duration": 255,
    "start_time": "2022-10-05T10:41:58.563Z"
   },
   {
    "duration": 171,
    "start_time": "2022-10-05T10:41:58.821Z"
   },
   {
    "duration": 15,
    "start_time": "2022-10-05T10:41:58.993Z"
   },
   {
    "duration": 185,
    "start_time": "2022-10-05T10:41:59.009Z"
   },
   {
    "duration": 176,
    "start_time": "2022-10-05T10:41:59.195Z"
   },
   {
    "duration": 15,
    "start_time": "2022-10-05T10:41:59.373Z"
   },
   {
    "duration": 165,
    "start_time": "2022-10-05T10:41:59.389Z"
   },
   {
    "duration": 189,
    "start_time": "2022-10-05T10:41:59.556Z"
   },
   {
    "duration": 15,
    "start_time": "2022-10-05T10:41:59.746Z"
   },
   {
    "duration": 180,
    "start_time": "2022-10-05T10:41:59.762Z"
   },
   {
    "duration": 4,
    "start_time": "2022-10-05T10:41:59.944Z"
   },
   {
    "duration": 15,
    "start_time": "2022-10-05T10:41:59.949Z"
   },
   {
    "duration": 48,
    "start_time": "2022-10-05T10:41:59.965Z"
   },
   {
    "duration": 35,
    "start_time": "2022-10-05T10:42:00.015Z"
   },
   {
    "duration": 30,
    "start_time": "2022-10-05T10:42:00.052Z"
   },
   {
    "duration": 2339,
    "start_time": "2022-10-05T10:42:00.084Z"
   },
   {
    "duration": 0,
    "start_time": "2022-10-05T10:42:02.424Z"
   },
   {
    "duration": 0,
    "start_time": "2022-10-05T10:42:02.425Z"
   },
   {
    "duration": 0,
    "start_time": "2022-10-05T10:42:02.426Z"
   },
   {
    "duration": 0,
    "start_time": "2022-10-05T10:42:02.427Z"
   },
   {
    "duration": 0,
    "start_time": "2022-10-05T10:42:02.429Z"
   },
   {
    "duration": 0,
    "start_time": "2022-10-05T10:42:02.430Z"
   },
   {
    "duration": 0,
    "start_time": "2022-10-05T10:42:02.431Z"
   },
   {
    "duration": 0,
    "start_time": "2022-10-05T10:42:02.432Z"
   },
   {
    "duration": 0,
    "start_time": "2022-10-05T10:42:02.433Z"
   },
   {
    "duration": 0,
    "start_time": "2022-10-05T10:42:02.433Z"
   },
   {
    "duration": 0,
    "start_time": "2022-10-05T10:42:02.434Z"
   },
   {
    "duration": 0,
    "start_time": "2022-10-05T10:42:02.435Z"
   },
   {
    "duration": 0,
    "start_time": "2022-10-05T10:42:02.436Z"
   },
   {
    "duration": 0,
    "start_time": "2022-10-05T10:42:02.437Z"
   },
   {
    "duration": 0,
    "start_time": "2022-10-05T10:42:02.438Z"
   },
   {
    "duration": 0,
    "start_time": "2022-10-05T10:42:02.439Z"
   },
   {
    "duration": 0,
    "start_time": "2022-10-05T10:42:02.440Z"
   },
   {
    "duration": 0,
    "start_time": "2022-10-05T10:42:02.440Z"
   },
   {
    "duration": 0,
    "start_time": "2022-10-05T10:42:02.442Z"
   },
   {
    "duration": 1376,
    "start_time": "2022-10-05T10:42:28.244Z"
   },
   {
    "duration": 273,
    "start_time": "2022-10-05T10:42:29.622Z"
   },
   {
    "duration": 79,
    "start_time": "2022-10-05T10:42:29.897Z"
   },
   {
    "duration": 351,
    "start_time": "2022-10-05T10:42:29.978Z"
   },
   {
    "duration": 6,
    "start_time": "2022-10-05T10:42:30.331Z"
   },
   {
    "duration": 38,
    "start_time": "2022-10-05T10:42:30.339Z"
   },
   {
    "duration": 29,
    "start_time": "2022-10-05T10:42:30.379Z"
   },
   {
    "duration": 64,
    "start_time": "2022-10-05T10:42:30.410Z"
   },
   {
    "duration": 27,
    "start_time": "2022-10-05T10:42:30.476Z"
   },
   {
    "duration": 242,
    "start_time": "2022-10-05T10:42:30.507Z"
   },
   {
    "duration": 11,
    "start_time": "2022-10-05T10:42:30.751Z"
   },
   {
    "duration": 54,
    "start_time": "2022-10-05T10:42:30.764Z"
   },
   {
    "duration": 63,
    "start_time": "2022-10-05T10:42:30.820Z"
   },
   {
    "duration": 40,
    "start_time": "2022-10-05T10:42:30.885Z"
   },
   {
    "duration": 35,
    "start_time": "2022-10-05T10:42:30.927Z"
   },
   {
    "duration": 57,
    "start_time": "2022-10-05T10:42:30.964Z"
   },
   {
    "duration": 1467,
    "start_time": "2022-10-05T10:42:31.023Z"
   },
   {
    "duration": 1413,
    "start_time": "2022-10-05T10:42:32.491Z"
   },
   {
    "duration": 1387,
    "start_time": "2022-10-05T10:42:33.905Z"
   },
   {
    "duration": 278,
    "start_time": "2022-10-05T10:42:35.293Z"
   },
   {
    "duration": 192,
    "start_time": "2022-10-05T10:42:35.573Z"
   },
   {
    "duration": 179,
    "start_time": "2022-10-05T10:42:35.766Z"
   },
   {
    "duration": 243,
    "start_time": "2022-10-05T10:42:35.946Z"
   },
   {
    "duration": 16,
    "start_time": "2022-10-05T10:42:36.191Z"
   },
   {
    "duration": 197,
    "start_time": "2022-10-05T10:42:36.209Z"
   },
   {
    "duration": 176,
    "start_time": "2022-10-05T10:42:36.407Z"
   },
   {
    "duration": 15,
    "start_time": "2022-10-05T10:42:36.584Z"
   },
   {
    "duration": 164,
    "start_time": "2022-10-05T10:42:36.603Z"
   },
   {
    "duration": 15,
    "start_time": "2022-10-05T10:42:36.769Z"
   },
   {
    "duration": 164,
    "start_time": "2022-10-05T10:42:36.786Z"
   },
   {
    "duration": 270,
    "start_time": "2022-10-05T10:42:36.951Z"
   },
   {
    "duration": 196,
    "start_time": "2022-10-05T10:42:37.223Z"
   },
   {
    "duration": 13,
    "start_time": "2022-10-05T10:42:37.420Z"
   },
   {
    "duration": 192,
    "start_time": "2022-10-05T10:42:37.435Z"
   },
   {
    "duration": 176,
    "start_time": "2022-10-05T10:42:37.629Z"
   },
   {
    "duration": 19,
    "start_time": "2022-10-05T10:42:37.807Z"
   },
   {
    "duration": 175,
    "start_time": "2022-10-05T10:42:37.827Z"
   },
   {
    "duration": 185,
    "start_time": "2022-10-05T10:42:38.004Z"
   },
   {
    "duration": 13,
    "start_time": "2022-10-05T10:42:38.190Z"
   },
   {
    "duration": 157,
    "start_time": "2022-10-05T10:42:38.205Z"
   },
   {
    "duration": 5,
    "start_time": "2022-10-05T10:42:38.363Z"
   },
   {
    "duration": 13,
    "start_time": "2022-10-05T10:42:38.369Z"
   },
   {
    "duration": 10,
    "start_time": "2022-10-05T10:42:38.383Z"
   },
   {
    "duration": 6,
    "start_time": "2022-10-05T10:42:38.394Z"
   },
   {
    "duration": 10,
    "start_time": "2022-10-05T10:42:38.401Z"
   },
   {
    "duration": 15,
    "start_time": "2022-10-05T10:42:38.412Z"
   },
   {
    "duration": 7,
    "start_time": "2022-10-05T10:42:38.428Z"
   },
   {
    "duration": 9,
    "start_time": "2022-10-05T10:42:38.436Z"
   },
   {
    "duration": 16,
    "start_time": "2022-10-05T10:42:38.446Z"
   },
   {
    "duration": 6,
    "start_time": "2022-10-05T10:42:38.463Z"
   },
   {
    "duration": 8,
    "start_time": "2022-10-05T10:42:38.471Z"
   },
   {
    "duration": 6,
    "start_time": "2022-10-05T10:42:38.480Z"
   },
   {
    "duration": 1035,
    "start_time": "2022-10-05T10:42:38.487Z"
   },
   {
    "duration": 910,
    "start_time": "2022-10-05T10:42:39.523Z"
   },
   {
    "duration": 86579,
    "start_time": "2022-10-05T10:42:40.522Z"
   },
   {
    "duration": 85701,
    "start_time": "2022-10-05T10:44:07.103Z"
   },
   {
    "duration": 2979,
    "start_time": "2022-10-05T10:45:32.805Z"
   },
   {
    "duration": 3005,
    "start_time": "2022-10-05T10:45:35.786Z"
   },
   {
    "duration": 1546,
    "start_time": "2022-10-05T10:45:38.793Z"
   },
   {
    "duration": 7,
    "start_time": "2022-10-05T10:45:40.340Z"
   },
   {
    "duration": 6,
    "start_time": "2022-10-05T10:45:40.349Z"
   },
   {
    "duration": 5,
    "start_time": "2022-10-05T10:45:40.357Z"
   },
   {
    "duration": 7,
    "start_time": "2022-10-05T10:45:40.364Z"
   },
   {
    "duration": 11,
    "start_time": "2022-10-05T10:45:40.372Z"
   },
   {
    "duration": 4,
    "start_time": "2022-10-05T10:48:50.896Z"
   },
   {
    "duration": 1810,
    "start_time": "2022-10-05T20:20:16.509Z"
   },
   {
    "duration": 5,
    "start_time": "2022-10-05T20:20:33.063Z"
   },
   {
    "duration": 6,
    "start_time": "2022-10-05T20:21:39.678Z"
   },
   {
    "duration": 1484,
    "start_time": "2022-10-05T20:21:39.687Z"
   },
   {
    "duration": 173,
    "start_time": "2022-10-05T20:21:41.173Z"
   },
   {
    "duration": 695,
    "start_time": "2022-10-05T20:21:41.348Z"
   },
   {
    "duration": 7,
    "start_time": "2022-10-05T20:21:42.044Z"
   },
   {
    "duration": 20,
    "start_time": "2022-10-05T20:21:42.052Z"
   },
   {
    "duration": 7,
    "start_time": "2022-10-05T20:21:42.074Z"
   },
   {
    "duration": 17,
    "start_time": "2022-10-05T20:21:42.083Z"
   },
   {
    "duration": 7,
    "start_time": "2022-10-05T20:21:42.102Z"
   },
   {
    "duration": 274,
    "start_time": "2022-10-05T20:21:42.112Z"
   },
   {
    "duration": 12,
    "start_time": "2022-10-05T20:21:42.388Z"
   },
   {
    "duration": 7,
    "start_time": "2022-10-05T20:21:42.402Z"
   },
   {
    "duration": 16,
    "start_time": "2022-10-05T20:21:42.410Z"
   },
   {
    "duration": 23,
    "start_time": "2022-10-05T20:21:42.427Z"
   },
   {
    "duration": 38,
    "start_time": "2022-10-05T20:21:42.452Z"
   },
   {
    "duration": 16,
    "start_time": "2022-10-05T20:21:42.493Z"
   },
   {
    "duration": 1514,
    "start_time": "2022-10-05T20:21:42.511Z"
   },
   {
    "duration": 1530,
    "start_time": "2022-10-05T20:21:44.027Z"
   },
   {
    "duration": 1460,
    "start_time": "2022-10-05T20:21:45.559Z"
   },
   {
    "duration": 280,
    "start_time": "2022-10-05T20:21:47.021Z"
   },
   {
    "duration": 198,
    "start_time": "2022-10-05T20:21:47.303Z"
   },
   {
    "duration": 199,
    "start_time": "2022-10-05T20:21:47.503Z"
   },
   {
    "duration": 231,
    "start_time": "2022-10-05T20:21:47.703Z"
   },
   {
    "duration": 18,
    "start_time": "2022-10-05T20:21:47.936Z"
   },
   {
    "duration": 210,
    "start_time": "2022-10-05T20:21:47.955Z"
   },
   {
    "duration": 228,
    "start_time": "2022-10-05T20:21:48.167Z"
   },
   {
    "duration": 18,
    "start_time": "2022-10-05T20:21:48.397Z"
   },
   {
    "duration": 205,
    "start_time": "2022-10-05T20:21:48.420Z"
   },
   {
    "duration": 17,
    "start_time": "2022-10-05T20:21:48.627Z"
   },
   {
    "duration": 207,
    "start_time": "2022-10-05T20:21:48.646Z"
   },
   {
    "duration": 296,
    "start_time": "2022-10-05T20:21:48.855Z"
   },
   {
    "duration": 202,
    "start_time": "2022-10-05T20:21:49.153Z"
   },
   {
    "duration": 18,
    "start_time": "2022-10-05T20:21:49.357Z"
   },
   {
    "duration": 203,
    "start_time": "2022-10-05T20:21:49.377Z"
   },
   {
    "duration": 215,
    "start_time": "2022-10-05T20:21:49.582Z"
   },
   {
    "duration": 15,
    "start_time": "2022-10-05T20:21:49.798Z"
   },
   {
    "duration": 189,
    "start_time": "2022-10-05T20:21:49.814Z"
   },
   {
    "duration": 236,
    "start_time": "2022-10-05T20:21:50.004Z"
   },
   {
    "duration": 16,
    "start_time": "2022-10-05T20:21:50.242Z"
   },
   {
    "duration": 202,
    "start_time": "2022-10-05T20:21:50.260Z"
   },
   {
    "duration": 5,
    "start_time": "2022-10-05T20:21:50.464Z"
   },
   {
    "duration": 21,
    "start_time": "2022-10-05T20:21:50.470Z"
   },
   {
    "duration": 9,
    "start_time": "2022-10-05T20:21:50.492Z"
   },
   {
    "duration": 6,
    "start_time": "2022-10-05T20:21:50.502Z"
   },
   {
    "duration": 8,
    "start_time": "2022-10-05T20:21:50.509Z"
   },
   {
    "duration": 7,
    "start_time": "2022-10-05T20:21:50.519Z"
   },
   {
    "duration": 6,
    "start_time": "2022-10-05T20:21:50.527Z"
   },
   {
    "duration": 9,
    "start_time": "2022-10-05T20:21:50.534Z"
   },
   {
    "duration": 7,
    "start_time": "2022-10-05T20:21:50.545Z"
   },
   {
    "duration": 8,
    "start_time": "2022-10-05T20:21:50.553Z"
   },
   {
    "duration": 8,
    "start_time": "2022-10-05T20:21:50.563Z"
   },
   {
    "duration": 5,
    "start_time": "2022-10-05T20:28:03.294Z"
   },
   {
    "duration": 128,
    "start_time": "2022-10-05T20:30:17.657Z"
   },
   {
    "duration": 68,
    "start_time": "2022-10-05T20:30:25.554Z"
   },
   {
    "duration": 5,
    "start_time": "2022-10-05T20:30:29.789Z"
   },
   {
    "duration": 337,
    "start_time": "2022-10-05T20:30:29.797Z"
   },
   {
    "duration": 89,
    "start_time": "2022-10-05T20:30:30.136Z"
   },
   {
    "duration": 362,
    "start_time": "2022-10-05T20:30:30.228Z"
   },
   {
    "duration": 5,
    "start_time": "2022-10-05T20:30:30.592Z"
   },
   {
    "duration": 24,
    "start_time": "2022-10-05T20:30:30.599Z"
   },
   {
    "duration": 21,
    "start_time": "2022-10-05T20:30:30.625Z"
   },
   {
    "duration": 18,
    "start_time": "2022-10-05T20:30:30.648Z"
   },
   {
    "duration": 30,
    "start_time": "2022-10-05T20:30:30.667Z"
   },
   {
    "duration": 255,
    "start_time": "2022-10-05T20:30:30.699Z"
   },
   {
    "duration": 11,
    "start_time": "2022-10-05T20:30:30.956Z"
   },
   {
    "duration": 20,
    "start_time": "2022-10-05T20:30:30.969Z"
   },
   {
    "duration": 12,
    "start_time": "2022-10-05T20:30:30.991Z"
   },
   {
    "duration": 16,
    "start_time": "2022-10-05T20:30:31.005Z"
   },
   {
    "duration": 7,
    "start_time": "2022-10-05T20:30:31.023Z"
   },
   {
    "duration": 23,
    "start_time": "2022-10-05T20:30:31.031Z"
   },
   {
    "duration": 1549,
    "start_time": "2022-10-05T20:30:31.055Z"
   },
   {
    "duration": 1435,
    "start_time": "2022-10-05T20:30:32.606Z"
   },
   {
    "duration": 1687,
    "start_time": "2022-10-05T20:30:34.043Z"
   },
   {
    "duration": 218,
    "start_time": "2022-10-05T20:30:35.732Z"
   },
   {
    "duration": 210,
    "start_time": "2022-10-05T20:30:35.952Z"
   },
   {
    "duration": 207,
    "start_time": "2022-10-05T20:30:36.164Z"
   },
   {
    "duration": 207,
    "start_time": "2022-10-05T20:30:36.372Z"
   },
   {
    "duration": 17,
    "start_time": "2022-10-05T20:30:36.581Z"
   },
   {
    "duration": 195,
    "start_time": "2022-10-05T20:30:36.600Z"
   },
   {
    "duration": 199,
    "start_time": "2022-10-05T20:30:36.798Z"
   },
   {
    "duration": 15,
    "start_time": "2022-10-05T20:30:36.998Z"
   },
   {
    "duration": 189,
    "start_time": "2022-10-05T20:30:37.017Z"
   },
   {
    "duration": 12,
    "start_time": "2022-10-05T20:30:37.207Z"
   },
   {
    "duration": 194,
    "start_time": "2022-10-05T20:30:37.221Z"
   },
   {
    "duration": 199,
    "start_time": "2022-10-05T20:30:37.417Z"
   },
   {
    "duration": 334,
    "start_time": "2022-10-05T20:30:37.618Z"
   },
   {
    "duration": 12,
    "start_time": "2022-10-05T20:30:37.953Z"
   },
   {
    "duration": 205,
    "start_time": "2022-10-05T20:30:37.967Z"
   },
   {
    "duration": 216,
    "start_time": "2022-10-05T20:30:38.173Z"
   },
   {
    "duration": 12,
    "start_time": "2022-10-05T20:30:38.390Z"
   },
   {
    "duration": 192,
    "start_time": "2022-10-05T20:30:38.404Z"
   },
   {
    "duration": 210,
    "start_time": "2022-10-05T20:30:38.598Z"
   },
   {
    "duration": 11,
    "start_time": "2022-10-05T20:30:38.810Z"
   },
   {
    "duration": 189,
    "start_time": "2022-10-05T20:30:38.823Z"
   },
   {
    "duration": 4,
    "start_time": "2022-10-05T20:30:39.014Z"
   },
   {
    "duration": 8,
    "start_time": "2022-10-05T20:30:39.019Z"
   },
   {
    "duration": 11,
    "start_time": "2022-10-05T20:30:39.029Z"
   },
   {
    "duration": 6,
    "start_time": "2022-10-05T20:30:39.042Z"
   },
   {
    "duration": 4,
    "start_time": "2022-10-05T20:30:39.050Z"
   },
   {
    "duration": 5,
    "start_time": "2022-10-05T20:30:39.056Z"
   },
   {
    "duration": 5,
    "start_time": "2022-10-05T20:30:39.063Z"
   },
   {
    "duration": 4,
    "start_time": "2022-10-05T20:30:39.090Z"
   },
   {
    "duration": 8,
    "start_time": "2022-10-05T20:30:39.096Z"
   },
   {
    "duration": 6,
    "start_time": "2022-10-05T20:30:39.106Z"
   },
   {
    "duration": 6,
    "start_time": "2022-10-05T20:30:39.114Z"
   },
   {
    "duration": 5,
    "start_time": "2022-10-05T20:30:39.122Z"
   },
   {
    "duration": 1167,
    "start_time": "2022-10-05T20:30:39.128Z"
   },
   {
    "duration": 1395,
    "start_time": "2022-10-05T20:30:40.300Z"
   },
   {
    "duration": 55,
    "start_time": "2022-10-05T20:30:44.187Z"
   },
   {
    "duration": 92,
    "start_time": "2022-10-05T20:30:59.126Z"
   },
   {
    "duration": 4624,
    "start_time": "2022-10-05T20:38:51.598Z"
   },
   {
    "duration": 49059,
    "start_time": "2022-10-05T20:39:16.333Z"
   },
   {
    "duration": 114772,
    "start_time": "2022-10-05T20:40:52.466Z"
   },
   {
    "duration": 1455,
    "start_time": "2022-10-05T20:42:57.878Z"
   },
   {
    "duration": 291,
    "start_time": "2022-10-05T20:42:59.335Z"
   },
   {
    "duration": 86,
    "start_time": "2022-10-05T20:42:59.628Z"
   },
   {
    "duration": 371,
    "start_time": "2022-10-05T20:42:59.716Z"
   },
   {
    "duration": 7,
    "start_time": "2022-10-05T20:43:00.089Z"
   },
   {
    "duration": 23,
    "start_time": "2022-10-05T20:43:00.097Z"
   },
   {
    "duration": 13,
    "start_time": "2022-10-05T20:43:00.123Z"
   },
   {
    "duration": 23,
    "start_time": "2022-10-05T20:43:00.137Z"
   },
   {
    "duration": 6,
    "start_time": "2022-10-05T20:43:00.162Z"
   },
   {
    "duration": 272,
    "start_time": "2022-10-05T20:43:00.171Z"
   },
   {
    "duration": 12,
    "start_time": "2022-10-05T20:43:00.445Z"
   },
   {
    "duration": 17,
    "start_time": "2022-10-05T20:43:00.458Z"
   },
   {
    "duration": 31,
    "start_time": "2022-10-05T20:43:00.476Z"
   },
   {
    "duration": 25,
    "start_time": "2022-10-05T20:43:00.509Z"
   },
   {
    "duration": 7,
    "start_time": "2022-10-05T20:43:00.536Z"
   },
   {
    "duration": 32,
    "start_time": "2022-10-05T20:43:00.544Z"
   },
   {
    "duration": 1513,
    "start_time": "2022-10-05T20:43:00.578Z"
   },
   {
    "duration": 1448,
    "start_time": "2022-10-05T20:43:02.093Z"
   },
   {
    "duration": 1488,
    "start_time": "2022-10-05T20:43:03.543Z"
   },
   {
    "duration": 313,
    "start_time": "2022-10-05T20:43:05.033Z"
   },
   {
    "duration": 216,
    "start_time": "2022-10-05T20:43:05.348Z"
   },
   {
    "duration": 210,
    "start_time": "2022-10-05T20:43:05.566Z"
   },
   {
    "duration": 223,
    "start_time": "2022-10-05T20:43:05.779Z"
   },
   {
    "duration": 18,
    "start_time": "2022-10-05T20:43:06.004Z"
   },
   {
    "duration": 222,
    "start_time": "2022-10-05T20:43:06.024Z"
   },
   {
    "duration": 218,
    "start_time": "2022-10-05T20:43:06.248Z"
   },
   {
    "duration": 27,
    "start_time": "2022-10-05T20:43:06.468Z"
   },
   {
    "duration": 192,
    "start_time": "2022-10-05T20:43:06.499Z"
   },
   {
    "duration": 18,
    "start_time": "2022-10-05T20:43:06.693Z"
   },
   {
    "duration": 199,
    "start_time": "2022-10-05T20:43:06.713Z"
   },
   {
    "duration": 306,
    "start_time": "2022-10-05T20:43:06.914Z"
   },
   {
    "duration": 215,
    "start_time": "2022-10-05T20:43:07.222Z"
   },
   {
    "duration": 16,
    "start_time": "2022-10-05T20:43:07.439Z"
   },
   {
    "duration": 214,
    "start_time": "2022-10-05T20:43:07.457Z"
   },
   {
    "duration": 206,
    "start_time": "2022-10-05T20:43:07.673Z"
   },
   {
    "duration": 21,
    "start_time": "2022-10-05T20:43:07.881Z"
   },
   {
    "duration": 199,
    "start_time": "2022-10-05T20:43:07.904Z"
   },
   {
    "duration": 237,
    "start_time": "2022-10-05T20:43:08.105Z"
   },
   {
    "duration": 15,
    "start_time": "2022-10-05T20:43:08.345Z"
   },
   {
    "duration": 211,
    "start_time": "2022-10-05T20:43:08.362Z"
   },
   {
    "duration": 13,
    "start_time": "2022-10-05T20:43:08.576Z"
   },
   {
    "duration": 11,
    "start_time": "2022-10-05T20:43:08.590Z"
   },
   {
    "duration": 17,
    "start_time": "2022-10-05T20:43:08.602Z"
   },
   {
    "duration": 9,
    "start_time": "2022-10-05T20:43:08.621Z"
   },
   {
    "duration": 6,
    "start_time": "2022-10-05T20:43:08.632Z"
   },
   {
    "duration": 6,
    "start_time": "2022-10-05T20:43:08.640Z"
   },
   {
    "duration": 4,
    "start_time": "2022-10-05T20:43:08.648Z"
   },
   {
    "duration": 9,
    "start_time": "2022-10-05T20:43:08.653Z"
   },
   {
    "duration": 8,
    "start_time": "2022-10-05T20:43:08.664Z"
   },
   {
    "duration": 16,
    "start_time": "2022-10-05T20:43:08.674Z"
   },
   {
    "duration": 9,
    "start_time": "2022-10-05T20:43:08.692Z"
   },
   {
    "duration": 6,
    "start_time": "2022-10-05T20:43:08.702Z"
   },
   {
    "duration": 992,
    "start_time": "2022-10-05T20:43:08.709Z"
   },
   {
    "duration": 1293,
    "start_time": "2022-10-05T20:43:09.796Z"
   },
   {
    "duration": 160206,
    "start_time": "2022-10-05T20:43:18.191Z"
   },
   {
    "duration": 11446,
    "start_time": "2022-10-05T20:46:11.745Z"
   },
   {
    "duration": 15273,
    "start_time": "2022-10-05T20:46:32.265Z"
   },
   {
    "duration": 311,
    "start_time": "2022-10-05T20:47:10.094Z"
   },
   {
    "duration": 288,
    "start_time": "2022-10-05T20:47:20.856Z"
   },
   {
    "duration": 77,
    "start_time": "2022-10-05T20:48:05.399Z"
   },
   {
    "duration": 83,
    "start_time": "2022-10-05T20:48:22.509Z"
   },
   {
    "duration": 67,
    "start_time": "2022-10-05T20:48:56.847Z"
   },
   {
    "duration": 79,
    "start_time": "2022-10-05T20:49:27.149Z"
   },
   {
    "duration": 83,
    "start_time": "2022-10-05T20:49:55.373Z"
   },
   {
    "duration": 77,
    "start_time": "2022-10-05T20:50:18.314Z"
   },
   {
    "duration": 133,
    "start_time": "2022-10-05T20:50:58.763Z"
   },
   {
    "duration": 79,
    "start_time": "2022-10-05T20:51:06.130Z"
   },
   {
    "duration": 1243,
    "start_time": "2022-10-05T20:54:25.353Z"
   },
   {
    "duration": 1164,
    "start_time": "2022-10-05T20:54:28.933Z"
   },
   {
    "duration": 196,
    "start_time": "2022-10-05T20:55:16.939Z"
   },
   {
    "duration": 301,
    "start_time": "2022-10-05T20:55:25.477Z"
   },
   {
    "duration": 197,
    "start_time": "2022-10-05T20:55:29.529Z"
   },
   {
    "duration": 1947,
    "start_time": "2022-10-05T20:59:01.578Z"
   },
   {
    "duration": 1824,
    "start_time": "2022-10-05T20:59:22.291Z"
   },
   {
    "duration": 2043,
    "start_time": "2022-10-05T20:59:40.253Z"
   },
   {
    "duration": 10,
    "start_time": "2022-10-05T21:05:31.292Z"
   },
   {
    "duration": 1612,
    "start_time": "2022-10-05T21:07:53.834Z"
   },
   {
    "duration": 311,
    "start_time": "2022-10-05T21:07:55.448Z"
   },
   {
    "duration": 86,
    "start_time": "2022-10-05T21:07:55.760Z"
   },
   {
    "duration": 379,
    "start_time": "2022-10-05T21:07:55.849Z"
   },
   {
    "duration": 6,
    "start_time": "2022-10-05T21:07:56.230Z"
   },
   {
    "duration": 17,
    "start_time": "2022-10-05T21:07:56.237Z"
   },
   {
    "duration": 5,
    "start_time": "2022-10-05T21:07:56.256Z"
   },
   {
    "duration": 19,
    "start_time": "2022-10-05T21:07:56.263Z"
   },
   {
    "duration": 6,
    "start_time": "2022-10-05T21:07:56.290Z"
   },
   {
    "duration": 266,
    "start_time": "2022-10-05T21:07:56.298Z"
   },
   {
    "duration": 14,
    "start_time": "2022-10-05T21:07:56.566Z"
   },
   {
    "duration": 8,
    "start_time": "2022-10-05T21:07:56.589Z"
   },
   {
    "duration": 12,
    "start_time": "2022-10-05T21:07:56.599Z"
   },
   {
    "duration": 23,
    "start_time": "2022-10-05T21:08:17.220Z"
   },
   {
    "duration": 7,
    "start_time": "2022-10-05T21:08:37.862Z"
   },
   {
    "duration": 1625,
    "start_time": "2022-10-05T21:10:35.428Z"
   },
   {
    "duration": 16,
    "start_time": "2022-10-05T21:11:58.191Z"
   },
   {
    "duration": 7,
    "start_time": "2022-10-05T21:11:59.527Z"
   },
   {
    "duration": 9,
    "start_time": "2022-10-05T21:12:26.067Z"
   },
   {
    "duration": 14,
    "start_time": "2022-10-05T21:12:45.015Z"
   },
   {
    "duration": 7,
    "start_time": "2022-10-05T21:12:46.470Z"
   },
   {
    "duration": 8,
    "start_time": "2022-10-05T21:13:00.697Z"
   },
   {
    "duration": 3,
    "start_time": "2022-10-05T21:13:06.270Z"
   },
   {
    "duration": 8,
    "start_time": "2022-10-05T21:13:09.894Z"
   },
   {
    "duration": 10,
    "start_time": "2022-10-05T21:14:33.204Z"
   },
   {
    "duration": 9,
    "start_time": "2022-10-05T21:14:34.670Z"
   },
   {
    "duration": 8,
    "start_time": "2022-10-05T21:14:42.585Z"
   },
   {
    "duration": 9,
    "start_time": "2022-10-05T21:14:54.408Z"
   },
   {
    "duration": 9,
    "start_time": "2022-10-05T21:14:58.149Z"
   },
   {
    "duration": 8,
    "start_time": "2022-10-05T21:15:09.962Z"
   },
   {
    "duration": 11,
    "start_time": "2022-10-05T21:15:22.904Z"
   },
   {
    "duration": 1438,
    "start_time": "2022-10-05T21:15:45.202Z"
   },
   {
    "duration": 300,
    "start_time": "2022-10-05T21:15:46.643Z"
   },
   {
    "duration": 91,
    "start_time": "2022-10-05T21:15:46.946Z"
   },
   {
    "duration": 394,
    "start_time": "2022-10-05T21:15:47.039Z"
   },
   {
    "duration": 7,
    "start_time": "2022-10-05T21:15:47.434Z"
   },
   {
    "duration": 20,
    "start_time": "2022-10-05T21:15:47.442Z"
   },
   {
    "duration": 12,
    "start_time": "2022-10-05T21:15:47.464Z"
   },
   {
    "duration": 15,
    "start_time": "2022-10-05T21:15:47.478Z"
   },
   {
    "duration": 7,
    "start_time": "2022-10-05T21:15:47.495Z"
   },
   {
    "duration": 264,
    "start_time": "2022-10-05T21:15:47.504Z"
   },
   {
    "duration": 21,
    "start_time": "2022-10-05T21:15:47.770Z"
   },
   {
    "duration": 6,
    "start_time": "2022-10-05T21:15:47.793Z"
   },
   {
    "duration": 13,
    "start_time": "2022-10-05T21:15:47.801Z"
   },
   {
    "duration": 23,
    "start_time": "2022-10-05T21:15:50.636Z"
   },
   {
    "duration": 8,
    "start_time": "2022-10-05T21:15:52.063Z"
   },
   {
    "duration": 5,
    "start_time": "2022-10-05T21:16:28.368Z"
   },
   {
    "duration": 109,
    "start_time": "2022-10-05T21:16:29.501Z"
   },
   {
    "duration": 9,
    "start_time": "2022-10-05T21:16:32.519Z"
   },
   {
    "duration": 10,
    "start_time": "2022-10-05T21:16:39.998Z"
   },
   {
    "duration": 51,
    "start_time": "2022-10-05T21:19:12.067Z"
   },
   {
    "duration": 1482,
    "start_time": "2022-10-05T21:19:18.008Z"
   },
   {
    "duration": 316,
    "start_time": "2022-10-05T21:19:19.492Z"
   },
   {
    "duration": 98,
    "start_time": "2022-10-05T21:19:19.810Z"
   },
   {
    "duration": 389,
    "start_time": "2022-10-05T21:19:19.911Z"
   },
   {
    "duration": 7,
    "start_time": "2022-10-05T21:19:20.302Z"
   },
   {
    "duration": 20,
    "start_time": "2022-10-05T21:19:20.310Z"
   },
   {
    "duration": 6,
    "start_time": "2022-10-05T21:19:20.331Z"
   },
   {
    "duration": 14,
    "start_time": "2022-10-05T21:19:20.338Z"
   },
   {
    "duration": 7,
    "start_time": "2022-10-05T21:19:20.354Z"
   },
   {
    "duration": 285,
    "start_time": "2022-10-05T21:19:20.363Z"
   },
   {
    "duration": 12,
    "start_time": "2022-10-05T21:19:20.649Z"
   },
   {
    "duration": 8,
    "start_time": "2022-10-05T21:19:20.662Z"
   },
   {
    "duration": 28,
    "start_time": "2022-10-05T21:19:20.672Z"
   },
   {
    "duration": 19,
    "start_time": "2022-10-05T21:19:23.656Z"
   },
   {
    "duration": 7,
    "start_time": "2022-10-05T21:19:25.174Z"
   },
   {
    "duration": 13,
    "start_time": "2022-10-05T21:19:33.515Z"
   },
   {
    "duration": 11,
    "start_time": "2022-10-05T21:19:44.048Z"
   },
   {
    "duration": 4,
    "start_time": "2022-10-05T21:20:28.444Z"
   },
   {
    "duration": 15,
    "start_time": "2022-10-05T21:20:54.320Z"
   },
   {
    "duration": 8,
    "start_time": "2022-10-05T21:21:06.089Z"
   },
   {
    "duration": 18,
    "start_time": "2022-10-05T21:21:45.642Z"
   },
   {
    "duration": 12,
    "start_time": "2022-10-05T21:21:55.918Z"
   },
   {
    "duration": 7,
    "start_time": "2022-10-05T21:22:07.026Z"
   },
   {
    "duration": 6,
    "start_time": "2022-10-05T21:22:10.973Z"
   },
   {
    "duration": 9,
    "start_time": "2022-10-05T21:22:18.210Z"
   },
   {
    "duration": 8,
    "start_time": "2022-10-05T21:22:41.689Z"
   },
   {
    "duration": 8,
    "start_time": "2022-10-05T21:22:48.228Z"
   },
   {
    "duration": 21,
    "start_time": "2022-10-05T21:23:26.325Z"
   },
   {
    "duration": 8,
    "start_time": "2022-10-05T21:23:40.809Z"
   },
   {
    "duration": 1480,
    "start_time": "2022-10-05T21:24:02.571Z"
   },
   {
    "duration": 312,
    "start_time": "2022-10-05T21:24:04.053Z"
   },
   {
    "duration": 92,
    "start_time": "2022-10-05T21:24:04.367Z"
   },
   {
    "duration": 393,
    "start_time": "2022-10-05T21:24:04.461Z"
   },
   {
    "duration": 6,
    "start_time": "2022-10-05T21:24:04.856Z"
   },
   {
    "duration": 34,
    "start_time": "2022-10-05T21:24:04.863Z"
   },
   {
    "duration": 17,
    "start_time": "2022-10-05T21:24:04.899Z"
   },
   {
    "duration": 14,
    "start_time": "2022-10-05T21:24:04.918Z"
   },
   {
    "duration": 14,
    "start_time": "2022-10-05T21:24:04.933Z"
   },
   {
    "duration": 290,
    "start_time": "2022-10-05T21:24:04.949Z"
   },
   {
    "duration": 8,
    "start_time": "2022-10-05T21:24:05.241Z"
   },
   {
    "duration": 16,
    "start_time": "2022-10-05T21:24:05.251Z"
   },
   {
    "duration": 31,
    "start_time": "2022-10-05T21:24:05.268Z"
   },
   {
    "duration": 26,
    "start_time": "2022-10-05T21:24:15.413Z"
   },
   {
    "duration": 7,
    "start_time": "2022-10-05T21:24:17.018Z"
   },
   {
    "duration": 5,
    "start_time": "2022-10-05T21:24:20.113Z"
   },
   {
    "duration": 20,
    "start_time": "2022-10-05T21:24:23.897Z"
   },
   {
    "duration": 5,
    "start_time": "2022-10-05T21:26:29.852Z"
   },
   {
    "duration": 345,
    "start_time": "2022-10-05T21:26:29.859Z"
   },
   {
    "duration": 97,
    "start_time": "2022-10-05T21:26:30.206Z"
   },
   {
    "duration": 376,
    "start_time": "2022-10-05T21:26:30.306Z"
   },
   {
    "duration": 6,
    "start_time": "2022-10-05T21:26:30.684Z"
   },
   {
    "duration": 18,
    "start_time": "2022-10-05T21:26:30.691Z"
   },
   {
    "duration": 10,
    "start_time": "2022-10-05T21:26:30.711Z"
   },
   {
    "duration": 17,
    "start_time": "2022-10-05T21:26:30.722Z"
   },
   {
    "duration": 8,
    "start_time": "2022-10-05T21:26:30.741Z"
   },
   {
    "duration": 255,
    "start_time": "2022-10-05T21:26:30.751Z"
   },
   {
    "duration": 9,
    "start_time": "2022-10-05T21:26:31.008Z"
   },
   {
    "duration": 6,
    "start_time": "2022-10-05T21:26:31.018Z"
   },
   {
    "duration": 14,
    "start_time": "2022-10-05T21:26:31.026Z"
   },
   {
    "duration": 19,
    "start_time": "2022-10-05T21:26:31.042Z"
   },
   {
    "duration": 34,
    "start_time": "2022-10-05T21:26:31.063Z"
   },
   {
    "duration": 24,
    "start_time": "2022-10-05T21:26:31.099Z"
   },
   {
    "duration": 2296,
    "start_time": "2022-10-05T21:26:31.125Z"
   },
   {
    "duration": 2186,
    "start_time": "2022-10-05T21:26:33.423Z"
   },
   {
    "duration": 2293,
    "start_time": "2022-10-05T21:26:35.611Z"
   },
   {
    "duration": 213,
    "start_time": "2022-10-05T21:26:37.906Z"
   },
   {
    "duration": 234,
    "start_time": "2022-10-05T21:26:38.121Z"
   },
   {
    "duration": 233,
    "start_time": "2022-10-05T21:26:38.357Z"
   },
   {
    "duration": 218,
    "start_time": "2022-10-05T21:26:38.592Z"
   },
   {
    "duration": 26,
    "start_time": "2022-10-05T21:26:38.813Z"
   },
   {
    "duration": 212,
    "start_time": "2022-10-05T21:26:38.841Z"
   },
   {
    "duration": 214,
    "start_time": "2022-10-05T21:26:39.055Z"
   },
   {
    "duration": 32,
    "start_time": "2022-10-05T21:26:39.270Z"
   },
   {
    "duration": 274,
    "start_time": "2022-10-05T21:26:39.305Z"
   },
   {
    "duration": 27,
    "start_time": "2022-10-05T21:26:39.581Z"
   },
   {
    "duration": 199,
    "start_time": "2022-10-05T21:26:39.610Z"
   },
   {
    "duration": 209,
    "start_time": "2022-10-05T21:26:39.811Z"
   },
   {
    "duration": 234,
    "start_time": "2022-10-05T21:26:40.022Z"
   },
   {
    "duration": 22,
    "start_time": "2022-10-05T21:26:40.258Z"
   },
   {
    "duration": 214,
    "start_time": "2022-10-05T21:26:40.282Z"
   },
   {
    "duration": 204,
    "start_time": "2022-10-05T21:26:40.498Z"
   },
   {
    "duration": 21,
    "start_time": "2022-10-05T21:26:40.704Z"
   },
   {
    "duration": 214,
    "start_time": "2022-10-05T21:26:40.726Z"
   },
   {
    "duration": 208,
    "start_time": "2022-10-05T21:26:40.941Z"
   },
   {
    "duration": 16,
    "start_time": "2022-10-05T21:26:41.151Z"
   },
   {
    "duration": 192,
    "start_time": "2022-10-05T21:26:41.168Z"
   },
   {
    "duration": 4,
    "start_time": "2022-10-05T21:26:41.362Z"
   },
   {
    "duration": 23,
    "start_time": "2022-10-05T21:26:41.368Z"
   },
   {
    "duration": 12,
    "start_time": "2022-10-05T21:26:41.393Z"
   },
   {
    "duration": 8,
    "start_time": "2022-10-05T21:26:41.407Z"
   },
   {
    "duration": 13,
    "start_time": "2022-10-05T21:26:41.417Z"
   },
   {
    "duration": 6,
    "start_time": "2022-10-05T21:26:41.432Z"
   },
   {
    "duration": 4,
    "start_time": "2022-10-05T21:26:41.440Z"
   },
   {
    "duration": 6,
    "start_time": "2022-10-05T21:26:41.446Z"
   },
   {
    "duration": 9,
    "start_time": "2022-10-05T21:26:41.453Z"
   },
   {
    "duration": 28,
    "start_time": "2022-10-05T21:26:41.464Z"
   },
   {
    "duration": 3,
    "start_time": "2022-10-05T21:26:41.494Z"
   },
   {
    "duration": 7,
    "start_time": "2022-10-05T21:26:41.499Z"
   },
   {
    "duration": 1192,
    "start_time": "2022-10-05T21:26:41.508Z"
   },
   {
    "duration": 1402,
    "start_time": "2022-10-05T21:26:42.791Z"
   },
   {
    "duration": 14782,
    "start_time": "2022-10-05T21:26:44.196Z"
   },
   {
    "duration": 416,
    "start_time": "2022-10-05T21:26:58.980Z"
   },
   {
    "duration": 396,
    "start_time": "2022-10-05T21:26:59.398Z"
   },
   {
    "duration": 5062,
    "start_time": "2022-10-05T21:26:59.795Z"
   },
   {
    "duration": 5114,
    "start_time": "2022-10-05T21:27:04.859Z"
   },
   {
    "duration": 69,
    "start_time": "2022-10-05T21:29:26.965Z"
   },
   {
    "duration": 149,
    "start_time": "2022-10-05T21:38:08.146Z"
   },
   {
    "duration": 11,
    "start_time": "2022-10-05T21:38:24.064Z"
   },
   {
    "duration": 9,
    "start_time": "2022-10-05T21:38:37.329Z"
   },
   {
    "duration": 8,
    "start_time": "2022-10-05T21:38:48.828Z"
   },
   {
    "duration": 4,
    "start_time": "2022-10-05T21:38:49.969Z"
   },
   {
    "duration": 4,
    "start_time": "2022-10-05T21:38:51.918Z"
   },
   {
    "duration": 4,
    "start_time": "2022-10-05T21:38:59.224Z"
   },
   {
    "duration": 122,
    "start_time": "2022-10-05T21:42:00.881Z"
   },
   {
    "duration": 10,
    "start_time": "2022-10-05T21:44:45.409Z"
   },
   {
    "duration": 5,
    "start_time": "2022-10-05T21:46:14.089Z"
   },
   {
    "duration": 10,
    "start_time": "2022-10-05T21:46:15.378Z"
   },
   {
    "duration": 20,
    "start_time": "2022-10-05T21:46:34.879Z"
   },
   {
    "duration": 5,
    "start_time": "2022-10-05T21:47:34.353Z"
   },
   {
    "duration": 17,
    "start_time": "2022-10-05T21:48:22.095Z"
   },
   {
    "duration": 36,
    "start_time": "2022-10-05T21:48:58.173Z"
   },
   {
    "duration": 4,
    "start_time": "2022-10-05T21:49:19.059Z"
   },
   {
    "duration": 844,
    "start_time": "2022-10-05T21:49:32.826Z"
   },
   {
    "duration": 31,
    "start_time": "2022-10-05T21:49:46.180Z"
   },
   {
    "duration": 5,
    "start_time": "2022-10-05T21:50:04.312Z"
   },
   {
    "duration": 1065,
    "start_time": "2022-10-05T21:56:48.432Z"
   },
   {
    "duration": 650,
    "start_time": "2022-10-05T21:56:59.943Z"
   },
   {
    "duration": 2884,
    "start_time": "2022-10-05T21:57:07.207Z"
   },
   {
    "duration": 5818,
    "start_time": "2022-10-05T21:57:23.976Z"
   },
   {
    "duration": 2948,
    "start_time": "2022-10-05T21:57:35.940Z"
   },
   {
    "duration": 3064,
    "start_time": "2022-10-05T21:57:45.834Z"
   },
   {
    "duration": 10568,
    "start_time": "2022-10-05T21:58:18.069Z"
   },
   {
    "duration": 2365,
    "start_time": "2022-10-05T21:58:40.721Z"
   },
   {
    "duration": 2260,
    "start_time": "2022-10-05T21:58:45.876Z"
   },
   {
    "duration": 872,
    "start_time": "2022-10-05T21:59:29.147Z"
   },
   {
    "duration": 847,
    "start_time": "2022-10-05T21:59:59.468Z"
   },
   {
    "duration": 8,
    "start_time": "2022-10-05T22:00:07.091Z"
   },
   {
    "duration": 8,
    "start_time": "2022-10-05T22:00:10.126Z"
   },
   {
    "duration": 1412,
    "start_time": "2022-10-05T22:08:23.318Z"
   },
   {
    "duration": 3,
    "start_time": "2022-10-05T22:09:30.539Z"
   },
   {
    "duration": 3,
    "start_time": "2022-10-05T22:09:35.176Z"
   },
   {
    "duration": 3,
    "start_time": "2022-10-05T22:09:53.360Z"
   },
   {
    "duration": 187,
    "start_time": "2022-10-05T22:09:54.524Z"
   },
   {
    "duration": 3,
    "start_time": "2022-10-05T22:09:56.489Z"
   },
   {
    "duration": 3,
    "start_time": "2022-10-05T22:09:56.812Z"
   },
   {
    "duration": 190,
    "start_time": "2022-10-05T22:09:57.320Z"
   },
   {
    "duration": 5,
    "start_time": "2022-10-05T22:10:06.523Z"
   },
   {
    "duration": 344,
    "start_time": "2022-10-05T22:10:06.530Z"
   },
   {
    "duration": 77,
    "start_time": "2022-10-05T22:10:06.876Z"
   },
   {
    "duration": 358,
    "start_time": "2022-10-05T22:10:06.955Z"
   },
   {
    "duration": 5,
    "start_time": "2022-10-05T22:10:07.315Z"
   },
   {
    "duration": 23,
    "start_time": "2022-10-05T22:10:07.322Z"
   },
   {
    "duration": 21,
    "start_time": "2022-10-05T22:10:07.348Z"
   },
   {
    "duration": 26,
    "start_time": "2022-10-05T22:10:07.372Z"
   },
   {
    "duration": 7,
    "start_time": "2022-10-05T22:10:07.401Z"
   },
   {
    "duration": 239,
    "start_time": "2022-10-05T22:10:07.412Z"
   },
   {
    "duration": 8,
    "start_time": "2022-10-05T22:10:07.653Z"
   },
   {
    "duration": 11,
    "start_time": "2022-10-05T22:10:07.662Z"
   },
   {
    "duration": 22,
    "start_time": "2022-10-05T22:10:07.674Z"
   },
   {
    "duration": 20,
    "start_time": "2022-10-05T22:10:07.698Z"
   },
   {
    "duration": 7,
    "start_time": "2022-10-05T22:10:07.719Z"
   },
   {
    "duration": 18,
    "start_time": "2022-10-05T22:10:07.727Z"
   },
   {
    "duration": 2325,
    "start_time": "2022-10-05T22:10:07.746Z"
   },
   {
    "duration": 2322,
    "start_time": "2022-10-05T22:10:10.072Z"
   },
   {
    "duration": 2266,
    "start_time": "2022-10-05T22:10:12.395Z"
   },
   {
    "duration": 221,
    "start_time": "2022-10-05T22:10:14.662Z"
   },
   {
    "duration": 205,
    "start_time": "2022-10-05T22:10:14.885Z"
   },
   {
    "duration": 233,
    "start_time": "2022-10-05T22:10:15.092Z"
   },
   {
    "duration": 223,
    "start_time": "2022-10-05T22:10:15.327Z"
   },
   {
    "duration": 14,
    "start_time": "2022-10-05T22:10:15.552Z"
   },
   {
    "duration": 221,
    "start_time": "2022-10-05T22:10:15.568Z"
   },
   {
    "duration": 225,
    "start_time": "2022-10-05T22:10:15.790Z"
   },
   {
    "duration": 21,
    "start_time": "2022-10-05T22:10:16.017Z"
   },
   {
    "duration": 190,
    "start_time": "2022-10-05T22:10:16.043Z"
   },
   {
    "duration": 14,
    "start_time": "2022-10-05T22:10:16.236Z"
   },
   {
    "duration": 348,
    "start_time": "2022-10-05T22:10:16.251Z"
   },
   {
    "duration": 217,
    "start_time": "2022-10-05T22:10:16.601Z"
   },
   {
    "duration": 218,
    "start_time": "2022-10-05T22:10:16.819Z"
   },
   {
    "duration": 14,
    "start_time": "2022-10-05T22:10:17.039Z"
   },
   {
    "duration": 217,
    "start_time": "2022-10-05T22:10:17.055Z"
   },
   {
    "duration": 198,
    "start_time": "2022-10-05T22:10:17.274Z"
   },
   {
    "duration": 20,
    "start_time": "2022-10-05T22:10:17.474Z"
   },
   {
    "duration": 190,
    "start_time": "2022-10-05T22:10:17.496Z"
   },
   {
    "duration": 204,
    "start_time": "2022-10-05T22:10:17.689Z"
   },
   {
    "duration": 14,
    "start_time": "2022-10-05T22:10:17.895Z"
   },
   {
    "duration": 208,
    "start_time": "2022-10-05T22:10:17.910Z"
   },
   {
    "duration": 4,
    "start_time": "2022-10-05T22:10:18.119Z"
   },
   {
    "duration": 7,
    "start_time": "2022-10-05T22:10:18.125Z"
   },
   {
    "duration": 9,
    "start_time": "2022-10-05T22:10:18.134Z"
   },
   {
    "duration": 6,
    "start_time": "2022-10-05T22:10:18.145Z"
   },
   {
    "duration": 7,
    "start_time": "2022-10-05T22:10:18.152Z"
   },
   {
    "duration": 13,
    "start_time": "2022-10-05T22:10:18.161Z"
   },
   {
    "duration": 3,
    "start_time": "2022-10-05T22:10:18.190Z"
   },
   {
    "duration": 13,
    "start_time": "2022-10-05T22:10:18.195Z"
   },
   {
    "duration": 14,
    "start_time": "2022-10-05T22:10:18.210Z"
   },
   {
    "duration": 11,
    "start_time": "2022-10-05T22:10:18.226Z"
   },
   {
    "duration": 11,
    "start_time": "2022-10-05T22:10:18.238Z"
   },
   {
    "duration": 9,
    "start_time": "2022-10-05T22:10:18.250Z"
   },
   {
    "duration": 2933,
    "start_time": "2022-10-05T22:10:18.261Z"
   },
   {
    "duration": 2996,
    "start_time": "2022-10-05T22:10:21.197Z"
   },
   {
    "duration": 14242,
    "start_time": "2022-10-05T22:10:24.195Z"
   },
   {
    "duration": 395,
    "start_time": "2022-10-05T22:10:38.438Z"
   },
   {
    "duration": 400,
    "start_time": "2022-10-05T22:10:38.835Z"
   },
   {
    "duration": 2408,
    "start_time": "2022-10-05T22:10:39.236Z"
   },
   {
    "duration": 2318,
    "start_time": "2022-10-05T22:10:41.646Z"
   },
   {
    "duration": 325,
    "start_time": "2022-10-05T22:10:43.965Z"
   },
   {
    "duration": 102,
    "start_time": "2022-10-05T22:10:44.292Z"
   },
   {
    "duration": 12,
    "start_time": "2022-10-05T22:11:18.721Z"
   },
   {
    "duration": 3,
    "start_time": "2022-10-05T22:11:19.540Z"
   },
   {
    "duration": 3,
    "start_time": "2022-10-05T22:11:20.185Z"
   },
   {
    "duration": 352,
    "start_time": "2022-10-05T22:11:20.558Z"
   },
   {
    "duration": 5,
    "start_time": "2022-10-05T22:12:20.786Z"
   },
   {
    "duration": 4,
    "start_time": "2022-10-05T22:12:31.561Z"
   },
   {
    "duration": 17,
    "start_time": "2022-10-05T22:14:16.680Z"
   },
   {
    "duration": 3,
    "start_time": "2022-10-05T22:14:18.963Z"
   },
   {
    "duration": 3,
    "start_time": "2022-10-05T22:14:19.190Z"
   },
   {
    "duration": 4,
    "start_time": "2022-10-05T22:14:20.780Z"
   },
   {
    "duration": 9,
    "start_time": "2022-10-05T22:14:21.051Z"
   },
   {
    "duration": 7,
    "start_time": "2022-10-05T22:14:21.636Z"
   },
   {
    "duration": 4,
    "start_time": "2022-10-05T22:14:22.307Z"
   },
   {
    "duration": 2,
    "start_time": "2022-10-05T22:14:25.077Z"
   },
   {
    "duration": 2810,
    "start_time": "2022-10-05T22:14:26.084Z"
   },
   {
    "duration": 2802,
    "start_time": "2022-10-05T22:14:31.388Z"
   },
   {
    "duration": 14123,
    "start_time": "2022-10-05T22:14:37.730Z"
   },
   {
    "duration": 381,
    "start_time": "2022-10-05T22:14:57.156Z"
   },
   {
    "duration": 367,
    "start_time": "2022-10-05T22:14:59.448Z"
   },
   {
    "duration": 5,
    "start_time": "2022-10-05T22:15:43.446Z"
   },
   {
    "duration": 4,
    "start_time": "2022-10-05T22:17:50.857Z"
   },
   {
    "duration": 193,
    "start_time": "2022-10-05T22:17:51.487Z"
   },
   {
    "duration": 8,
    "start_time": "2022-10-05T22:18:02.767Z"
   },
   {
    "duration": 4,
    "start_time": "2022-10-05T22:18:26.409Z"
   },
   {
    "duration": 4,
    "start_time": "2022-10-05T22:18:27.086Z"
   },
   {
    "duration": 2727,
    "start_time": "2022-10-05T22:18:27.425Z"
   },
   {
    "duration": 10,
    "start_time": "2022-10-05T22:18:35.266Z"
   },
   {
    "duration": 7,
    "start_time": "2022-10-05T22:18:44.473Z"
   },
   {
    "duration": 13,
    "start_time": "2022-10-05T22:21:36.758Z"
   },
   {
    "duration": 3,
    "start_time": "2022-10-05T22:25:28.870Z"
   },
   {
    "duration": 19,
    "start_time": "2022-10-05T22:25:34.390Z"
   },
   {
    "duration": 6,
    "start_time": "2022-10-05T22:25:45.731Z"
   },
   {
    "duration": 11,
    "start_time": "2022-10-05T22:29:30.831Z"
   },
   {
    "duration": 16,
    "start_time": "2022-10-05T22:29:56.785Z"
   },
   {
    "duration": 11,
    "start_time": "2022-10-05T22:32:22.837Z"
   },
   {
    "duration": 10,
    "start_time": "2022-10-05T22:32:27.217Z"
   },
   {
    "duration": 7,
    "start_time": "2022-10-05T22:32:34.792Z"
   },
   {
    "duration": 25,
    "start_time": "2022-10-05T22:32:40.065Z"
   },
   {
    "duration": 15,
    "start_time": "2022-10-05T22:33:03.077Z"
   },
   {
    "duration": 4,
    "start_time": "2022-10-05T22:33:33.557Z"
   },
   {
    "duration": 9,
    "start_time": "2022-10-05T22:33:40.522Z"
   },
   {
    "duration": 5,
    "start_time": "2022-10-05T22:33:56.253Z"
   },
   {
    "duration": 8,
    "start_time": "2022-10-05T22:33:57.280Z"
   },
   {
    "duration": 5,
    "start_time": "2022-10-05T22:34:19.864Z"
   },
   {
    "duration": 10,
    "start_time": "2022-10-05T22:34:21.265Z"
   },
   {
    "duration": 4,
    "start_time": "2022-10-05T22:34:29.062Z"
   },
   {
    "duration": 4,
    "start_time": "2022-10-05T22:34:30.729Z"
   },
   {
    "duration": 51,
    "start_time": "2022-10-05T22:35:41.086Z"
   },
   {
    "duration": 1680,
    "start_time": "2022-10-05T22:35:44.724Z"
   },
   {
    "duration": 0,
    "start_time": "2022-10-05T22:35:46.407Z"
   },
   {
    "duration": 0,
    "start_time": "2022-10-05T22:35:46.408Z"
   },
   {
    "duration": 0,
    "start_time": "2022-10-05T22:35:46.408Z"
   },
   {
    "duration": 0,
    "start_time": "2022-10-05T22:35:46.410Z"
   },
   {
    "duration": 0,
    "start_time": "2022-10-05T22:35:46.411Z"
   },
   {
    "duration": 0,
    "start_time": "2022-10-05T22:35:46.412Z"
   },
   {
    "duration": 0,
    "start_time": "2022-10-05T22:35:46.413Z"
   },
   {
    "duration": 0,
    "start_time": "2022-10-05T22:35:46.414Z"
   },
   {
    "duration": 0,
    "start_time": "2022-10-05T22:35:46.416Z"
   },
   {
    "duration": 0,
    "start_time": "2022-10-05T22:35:46.417Z"
   },
   {
    "duration": 0,
    "start_time": "2022-10-05T22:35:46.417Z"
   },
   {
    "duration": 0,
    "start_time": "2022-10-05T22:35:46.418Z"
   },
   {
    "duration": 0,
    "start_time": "2022-10-05T22:35:46.419Z"
   },
   {
    "duration": 0,
    "start_time": "2022-10-05T22:35:46.420Z"
   },
   {
    "duration": 0,
    "start_time": "2022-10-05T22:35:46.421Z"
   },
   {
    "duration": 10,
    "start_time": "2022-10-05T22:35:50.015Z"
   },
   {
    "duration": 5,
    "start_time": "2022-10-05T22:36:02.517Z"
   },
   {
    "duration": 5,
    "start_time": "2022-10-05T22:36:07.887Z"
   },
   {
    "duration": 6,
    "start_time": "2022-10-05T22:36:23.391Z"
   },
   {
    "duration": 311,
    "start_time": "2022-10-05T22:36:23.400Z"
   },
   {
    "duration": 87,
    "start_time": "2022-10-05T22:36:23.713Z"
   },
   {
    "duration": 386,
    "start_time": "2022-10-05T22:36:23.802Z"
   },
   {
    "duration": 7,
    "start_time": "2022-10-05T22:36:24.190Z"
   },
   {
    "duration": 18,
    "start_time": "2022-10-05T22:36:24.199Z"
   },
   {
    "duration": 5,
    "start_time": "2022-10-05T22:36:24.219Z"
   },
   {
    "duration": 14,
    "start_time": "2022-10-05T22:36:24.225Z"
   },
   {
    "duration": 6,
    "start_time": "2022-10-05T22:36:24.241Z"
   },
   {
    "duration": 287,
    "start_time": "2022-10-05T22:36:24.248Z"
   },
   {
    "duration": 8,
    "start_time": "2022-10-05T22:36:24.537Z"
   },
   {
    "duration": 6,
    "start_time": "2022-10-05T22:36:24.546Z"
   },
   {
    "duration": 9,
    "start_time": "2022-10-05T22:36:24.553Z"
   },
   {
    "duration": 26,
    "start_time": "2022-10-05T22:36:24.564Z"
   },
   {
    "duration": 5,
    "start_time": "2022-10-05T22:36:24.592Z"
   },
   {
    "duration": 5,
    "start_time": "2022-10-05T22:36:24.600Z"
   },
   {
    "duration": 28,
    "start_time": "2022-10-05T22:36:24.607Z"
   },
   {
    "duration": 15,
    "start_time": "2022-10-05T22:36:36.429Z"
   },
   {
    "duration": 6,
    "start_time": "2022-10-05T22:36:53.037Z"
   },
   {
    "duration": 5,
    "start_time": "2022-10-05T22:36:59.737Z"
   },
   {
    "duration": 5,
    "start_time": "2022-10-05T22:37:00.376Z"
   },
   {
    "duration": 11,
    "start_time": "2022-10-05T22:37:09.368Z"
   },
   {
    "duration": 5,
    "start_time": "2022-10-05T22:37:21.494Z"
   },
   {
    "duration": 354,
    "start_time": "2022-10-05T22:37:21.502Z"
   },
   {
    "duration": 109,
    "start_time": "2022-10-05T22:37:21.858Z"
   },
   {
    "duration": 416,
    "start_time": "2022-10-05T22:37:21.970Z"
   },
   {
    "duration": 5,
    "start_time": "2022-10-05T22:37:22.388Z"
   },
   {
    "duration": 17,
    "start_time": "2022-10-05T22:37:22.395Z"
   },
   {
    "duration": 18,
    "start_time": "2022-10-05T22:37:22.414Z"
   },
   {
    "duration": 17,
    "start_time": "2022-10-05T22:37:22.433Z"
   },
   {
    "duration": 6,
    "start_time": "2022-10-05T22:37:22.453Z"
   },
   {
    "duration": 256,
    "start_time": "2022-10-05T22:37:22.461Z"
   },
   {
    "duration": 8,
    "start_time": "2022-10-05T22:37:22.719Z"
   },
   {
    "duration": 5,
    "start_time": "2022-10-05T22:37:22.729Z"
   },
   {
    "duration": 10,
    "start_time": "2022-10-05T22:37:22.736Z"
   },
   {
    "duration": 3,
    "start_time": "2022-10-05T22:37:22.748Z"
   },
   {
    "duration": 5,
    "start_time": "2022-10-05T22:37:22.753Z"
   },
   {
    "duration": 28,
    "start_time": "2022-10-05T22:37:22.760Z"
   },
   {
    "duration": 18,
    "start_time": "2022-10-05T22:37:22.790Z"
   },
   {
    "duration": 5,
    "start_time": "2022-10-05T22:37:22.810Z"
   },
   {
    "duration": 18,
    "start_time": "2022-10-05T22:37:22.817Z"
   },
   {
    "duration": 1928,
    "start_time": "2022-10-05T22:37:22.837Z"
   },
   {
    "duration": 1886,
    "start_time": "2022-10-05T22:37:24.766Z"
   },
   {
    "duration": 1939,
    "start_time": "2022-10-05T22:37:26.654Z"
   },
   {
    "duration": 198,
    "start_time": "2022-10-05T22:37:28.595Z"
   },
   {
    "duration": 203,
    "start_time": "2022-10-05T22:37:28.796Z"
   },
   {
    "duration": 219,
    "start_time": "2022-10-05T22:37:29.001Z"
   },
   {
    "duration": 222,
    "start_time": "2022-10-05T22:37:29.222Z"
   },
   {
    "duration": 15,
    "start_time": "2022-10-05T22:37:29.445Z"
   },
   {
    "duration": 212,
    "start_time": "2022-10-05T22:37:29.462Z"
   },
   {
    "duration": 210,
    "start_time": "2022-10-05T22:37:29.675Z"
   },
   {
    "duration": 18,
    "start_time": "2022-10-05T22:37:29.889Z"
   },
   {
    "duration": 299,
    "start_time": "2022-10-05T22:37:29.909Z"
   },
   {
    "duration": 15,
    "start_time": "2022-10-05T22:37:30.210Z"
   },
   {
    "duration": 200,
    "start_time": "2022-10-05T22:37:30.226Z"
   },
   {
    "duration": 198,
    "start_time": "2022-10-05T22:37:30.428Z"
   },
   {
    "duration": 214,
    "start_time": "2022-10-05T22:37:30.628Z"
   },
   {
    "duration": 17,
    "start_time": "2022-10-05T22:37:30.843Z"
   },
   {
    "duration": 209,
    "start_time": "2022-10-05T22:37:30.862Z"
   },
   {
    "duration": 210,
    "start_time": "2022-10-05T22:37:31.073Z"
   },
   {
    "duration": 18,
    "start_time": "2022-10-05T22:37:31.285Z"
   },
   {
    "duration": 193,
    "start_time": "2022-10-05T22:37:31.305Z"
   },
   {
    "duration": 226,
    "start_time": "2022-10-05T22:37:31.500Z"
   },
   {
    "duration": 19,
    "start_time": "2022-10-05T22:37:31.729Z"
   },
   {
    "duration": 240,
    "start_time": "2022-10-05T22:37:31.749Z"
   },
   {
    "duration": 5,
    "start_time": "2022-10-05T22:37:36.750Z"
   },
   {
    "duration": 6,
    "start_time": "2022-10-05T22:37:38.019Z"
   },
   {
    "duration": 4,
    "start_time": "2022-10-05T22:37:38.460Z"
   },
   {
    "duration": 4,
    "start_time": "2022-10-05T22:37:41.120Z"
   },
   {
    "duration": 2,
    "start_time": "2022-10-05T22:37:41.874Z"
   },
   {
    "duration": 3,
    "start_time": "2022-10-05T22:37:42.948Z"
   },
   {
    "duration": 3,
    "start_time": "2022-10-05T22:37:43.466Z"
   },
   {
    "duration": 4,
    "start_time": "2022-10-05T22:37:44.765Z"
   },
   {
    "duration": 7,
    "start_time": "2022-10-05T22:37:45.714Z"
   },
   {
    "duration": 7,
    "start_time": "2022-10-05T22:37:46.440Z"
   },
   {
    "duration": 4,
    "start_time": "2022-10-05T22:37:47.226Z"
   },
   {
    "duration": 3,
    "start_time": "2022-10-05T22:37:51.414Z"
   },
   {
    "duration": 2605,
    "start_time": "2022-10-05T22:37:52.890Z"
   },
   {
    "duration": 2695,
    "start_time": "2022-10-05T22:37:56.798Z"
   },
   {
    "duration": 11341,
    "start_time": "2022-10-05T22:38:13.179Z"
   },
   {
    "duration": 300,
    "start_time": "2022-10-05T22:38:27.590Z"
   },
   {
    "duration": 293,
    "start_time": "2022-10-05T22:38:29.675Z"
   },
   {
    "duration": 1764,
    "start_time": "2022-10-05T22:38:39.699Z"
   },
   {
    "duration": 1863,
    "start_time": "2022-10-05T22:38:41.465Z"
   },
   {
    "duration": 340,
    "start_time": "2022-10-05T22:38:48.953Z"
   },
   {
    "duration": 11,
    "start_time": "2022-10-05T22:38:50.715Z"
   },
   {
    "duration": 5,
    "start_time": "2022-10-05T22:38:51.653Z"
   },
   {
    "duration": 8,
    "start_time": "2022-10-05T22:38:52.187Z"
   },
   {
    "duration": 5,
    "start_time": "2022-10-05T22:38:53.036Z"
   },
   {
    "duration": 8,
    "start_time": "2022-10-05T22:38:54.885Z"
   },
   {
    "duration": 4,
    "start_time": "2022-10-05T22:38:55.641Z"
   },
   {
    "duration": 3,
    "start_time": "2022-10-05T22:38:56.481Z"
   },
   {
    "duration": 17,
    "start_time": "2022-10-05T22:43:33.268Z"
   },
   {
    "duration": 2,
    "start_time": "2022-10-05T22:44:34.521Z"
   },
   {
    "duration": 15,
    "start_time": "2022-10-05T22:44:46.174Z"
   },
   {
    "duration": 1515,
    "start_time": "2022-10-05T22:44:56.878Z"
   },
   {
    "duration": 315,
    "start_time": "2022-10-05T22:44:58.395Z"
   },
   {
    "duration": 91,
    "start_time": "2022-10-05T22:44:58.712Z"
   },
   {
    "duration": 385,
    "start_time": "2022-10-05T22:44:58.806Z"
   },
   {
    "duration": 6,
    "start_time": "2022-10-05T22:44:59.194Z"
   },
   {
    "duration": 9,
    "start_time": "2022-10-05T22:44:59.202Z"
   },
   {
    "duration": 7,
    "start_time": "2022-10-05T22:44:59.212Z"
   },
   {
    "duration": 14,
    "start_time": "2022-10-05T22:44:59.220Z"
   },
   {
    "duration": 6,
    "start_time": "2022-10-05T22:44:59.237Z"
   },
   {
    "duration": 261,
    "start_time": "2022-10-05T22:44:59.246Z"
   },
   {
    "duration": 10,
    "start_time": "2022-10-05T22:44:59.509Z"
   },
   {
    "duration": 7,
    "start_time": "2022-10-05T22:44:59.521Z"
   },
   {
    "duration": 10,
    "start_time": "2022-10-05T22:44:59.529Z"
   },
   {
    "duration": 2,
    "start_time": "2022-10-05T22:44:59.541Z"
   },
   {
    "duration": 7,
    "start_time": "2022-10-05T22:44:59.545Z"
   },
   {
    "duration": 36,
    "start_time": "2022-10-05T22:44:59.554Z"
   },
   {
    "duration": 26,
    "start_time": "2022-10-05T22:44:59.592Z"
   },
   {
    "duration": 6,
    "start_time": "2022-10-05T22:44:59.620Z"
   },
   {
    "duration": 17,
    "start_time": "2022-10-05T22:44:59.628Z"
   },
   {
    "duration": 1950,
    "start_time": "2022-10-05T22:44:59.647Z"
   },
   {
    "duration": 1949,
    "start_time": "2022-10-05T22:45:01.599Z"
   },
   {
    "duration": 1931,
    "start_time": "2022-10-05T22:45:03.550Z"
   },
   {
    "duration": 269,
    "start_time": "2022-10-05T22:45:05.482Z"
   },
   {
    "duration": 216,
    "start_time": "2022-10-05T22:45:05.753Z"
   },
   {
    "duration": 219,
    "start_time": "2022-10-05T22:45:05.971Z"
   },
   {
    "duration": 215,
    "start_time": "2022-10-05T22:45:06.192Z"
   },
   {
    "duration": 18,
    "start_time": "2022-10-05T22:45:06.408Z"
   },
   {
    "duration": 222,
    "start_time": "2022-10-05T22:45:06.431Z"
   },
   {
    "duration": 198,
    "start_time": "2022-10-05T22:45:06.655Z"
   },
   {
    "duration": 19,
    "start_time": "2022-10-05T22:45:06.854Z"
   },
   {
    "duration": 188,
    "start_time": "2022-10-05T22:45:06.889Z"
   },
   {
    "duration": 23,
    "start_time": "2022-10-05T22:45:07.079Z"
   },
   {
    "duration": 301,
    "start_time": "2022-10-05T22:45:07.103Z"
   },
   {
    "duration": 212,
    "start_time": "2022-10-05T22:45:07.406Z"
   },
   {
    "duration": 232,
    "start_time": "2022-10-05T22:45:07.620Z"
   },
   {
    "duration": 16,
    "start_time": "2022-10-05T22:45:07.854Z"
   },
   {
    "duration": 221,
    "start_time": "2022-10-05T22:45:07.872Z"
   },
   {
    "duration": 215,
    "start_time": "2022-10-05T22:45:08.095Z"
   },
   {
    "duration": 20,
    "start_time": "2022-10-05T22:45:08.311Z"
   },
   {
    "duration": 207,
    "start_time": "2022-10-05T22:45:08.333Z"
   },
   {
    "duration": 231,
    "start_time": "2022-10-05T22:45:08.542Z"
   },
   {
    "duration": 25,
    "start_time": "2022-10-05T22:45:08.775Z"
   },
   {
    "duration": 190,
    "start_time": "2022-10-05T22:45:08.802Z"
   },
   {
    "duration": 5,
    "start_time": "2022-10-05T22:45:08.994Z"
   },
   {
    "duration": 10,
    "start_time": "2022-10-05T22:45:09.001Z"
   },
   {
    "duration": 15,
    "start_time": "2022-10-05T22:45:09.013Z"
   },
   {
    "duration": 18,
    "start_time": "2022-10-05T22:45:09.030Z"
   },
   {
    "duration": 9,
    "start_time": "2022-10-05T22:45:09.050Z"
   },
   {
    "duration": 16,
    "start_time": "2022-10-05T22:45:09.060Z"
   },
   {
    "duration": 24,
    "start_time": "2022-10-05T22:45:09.078Z"
   },
   {
    "duration": 12,
    "start_time": "2022-10-05T22:45:09.103Z"
   },
   {
    "duration": 21,
    "start_time": "2022-10-05T22:45:09.117Z"
   },
   {
    "duration": 9,
    "start_time": "2022-10-05T22:45:09.140Z"
   },
   {
    "duration": 16,
    "start_time": "2022-10-05T22:45:09.151Z"
   },
   {
    "duration": 15,
    "start_time": "2022-10-05T22:45:09.169Z"
   },
   {
    "duration": 365,
    "start_time": "2022-10-05T22:45:09.186Z"
   },
   {
    "duration": 337,
    "start_time": "2022-10-05T22:45:09.553Z"
   },
   {
    "duration": 159,
    "start_time": "2022-10-05T22:45:09.891Z"
   },
   {
    "duration": 0,
    "start_time": "2022-10-05T22:45:10.052Z"
   },
   {
    "duration": 0,
    "start_time": "2022-10-05T22:45:10.053Z"
   },
   {
    "duration": 0,
    "start_time": "2022-10-05T22:45:10.054Z"
   },
   {
    "duration": 0,
    "start_time": "2022-10-05T22:45:10.055Z"
   },
   {
    "duration": 0,
    "start_time": "2022-10-05T22:45:10.056Z"
   },
   {
    "duration": 0,
    "start_time": "2022-10-05T22:45:10.056Z"
   },
   {
    "duration": 6,
    "start_time": "2022-10-05T22:45:57.867Z"
   },
   {
    "duration": 4,
    "start_time": "2022-10-05T22:45:59.127Z"
   },
   {
    "duration": 4,
    "start_time": "2022-10-05T22:46:00.030Z"
   },
   {
    "duration": 2,
    "start_time": "2022-10-05T22:46:00.288Z"
   },
   {
    "duration": 3,
    "start_time": "2022-10-05T22:46:00.870Z"
   },
   {
    "duration": 3,
    "start_time": "2022-10-05T22:46:01.193Z"
   },
   {
    "duration": 6,
    "start_time": "2022-10-05T22:46:02.028Z"
   },
   {
    "duration": 8,
    "start_time": "2022-10-05T22:46:02.306Z"
   },
   {
    "duration": 7,
    "start_time": "2022-10-05T22:46:02.780Z"
   },
   {
    "duration": 4,
    "start_time": "2022-10-05T22:46:03.104Z"
   },
   {
    "duration": 3,
    "start_time": "2022-10-05T22:46:05.024Z"
   },
   {
    "duration": 2645,
    "start_time": "2022-10-05T22:46:05.750Z"
   },
   {
    "duration": 2646,
    "start_time": "2022-10-05T22:46:09.845Z"
   },
   {
    "duration": 81,
    "start_time": "2022-10-05T22:46:15.404Z"
   },
   {
    "duration": 73,
    "start_time": "2022-10-05T22:46:25.548Z"
   },
   {
    "duration": 6,
    "start_time": "2022-10-05T22:46:28.828Z"
   },
   {
    "duration": 328,
    "start_time": "2022-10-05T22:46:28.837Z"
   },
   {
    "duration": 80,
    "start_time": "2022-10-05T22:46:29.167Z"
   },
   {
    "duration": 382,
    "start_time": "2022-10-05T22:46:29.250Z"
   },
   {
    "duration": 5,
    "start_time": "2022-10-05T22:46:29.633Z"
   },
   {
    "duration": 5,
    "start_time": "2022-10-05T22:46:29.639Z"
   },
   {
    "duration": 5,
    "start_time": "2022-10-05T22:46:29.645Z"
   },
   {
    "duration": 9,
    "start_time": "2022-10-05T22:46:29.652Z"
   },
   {
    "duration": 27,
    "start_time": "2022-10-05T22:46:29.663Z"
   },
   {
    "duration": 228,
    "start_time": "2022-10-05T22:46:29.693Z"
   },
   {
    "duration": 8,
    "start_time": "2022-10-05T22:46:29.923Z"
   },
   {
    "duration": 5,
    "start_time": "2022-10-05T22:46:29.933Z"
   },
   {
    "duration": 11,
    "start_time": "2022-10-05T22:46:29.940Z"
   },
   {
    "duration": 2,
    "start_time": "2022-10-05T22:46:29.953Z"
   },
   {
    "duration": 32,
    "start_time": "2022-10-05T22:46:29.957Z"
   },
   {
    "duration": 5,
    "start_time": "2022-10-05T22:46:29.992Z"
   },
   {
    "duration": 26,
    "start_time": "2022-10-05T22:46:29.998Z"
   },
   {
    "duration": 7,
    "start_time": "2022-10-05T22:46:30.026Z"
   },
   {
    "duration": 17,
    "start_time": "2022-10-05T22:46:30.035Z"
   },
   {
    "duration": 2037,
    "start_time": "2022-10-05T22:46:30.054Z"
   },
   {
    "duration": 1947,
    "start_time": "2022-10-05T22:46:32.092Z"
   },
   {
    "duration": 2026,
    "start_time": "2022-10-05T22:46:34.040Z"
   },
   {
    "duration": 189,
    "start_time": "2022-10-05T22:46:36.068Z"
   },
   {
    "duration": 192,
    "start_time": "2022-10-05T22:46:36.259Z"
   },
   {
    "duration": 208,
    "start_time": "2022-10-05T22:46:36.453Z"
   },
   {
    "duration": 215,
    "start_time": "2022-10-05T22:46:36.662Z"
   },
   {
    "duration": 15,
    "start_time": "2022-10-05T22:46:36.878Z"
   },
   {
    "duration": 203,
    "start_time": "2022-10-05T22:46:36.897Z"
   },
   {
    "duration": 197,
    "start_time": "2022-10-05T22:46:37.102Z"
   },
   {
    "duration": 19,
    "start_time": "2022-10-05T22:46:37.300Z"
   },
   {
    "duration": 195,
    "start_time": "2022-10-05T22:46:37.321Z"
   },
   {
    "duration": 17,
    "start_time": "2022-10-05T22:46:37.518Z"
   },
   {
    "duration": 195,
    "start_time": "2022-10-05T22:46:37.537Z"
   },
   {
    "duration": 334,
    "start_time": "2022-10-05T22:46:37.734Z"
   },
   {
    "duration": 214,
    "start_time": "2022-10-05T22:46:38.070Z"
   },
   {
    "duration": 20,
    "start_time": "2022-10-05T22:46:38.287Z"
   },
   {
    "duration": 204,
    "start_time": "2022-10-05T22:46:38.309Z"
   },
   {
    "duration": 208,
    "start_time": "2022-10-05T22:46:38.515Z"
   },
   {
    "duration": 15,
    "start_time": "2022-10-05T22:46:38.725Z"
   },
   {
    "duration": 190,
    "start_time": "2022-10-05T22:46:38.741Z"
   },
   {
    "duration": 220,
    "start_time": "2022-10-05T22:46:38.932Z"
   },
   {
    "duration": 16,
    "start_time": "2022-10-05T22:46:39.153Z"
   },
   {
    "duration": 192,
    "start_time": "2022-10-05T22:46:39.171Z"
   },
   {
    "duration": 5,
    "start_time": "2022-10-05T22:46:39.365Z"
   },
   {
    "duration": 20,
    "start_time": "2022-10-05T22:46:39.372Z"
   },
   {
    "duration": 10,
    "start_time": "2022-10-05T22:46:39.394Z"
   },
   {
    "duration": 5,
    "start_time": "2022-10-05T22:46:39.405Z"
   },
   {
    "duration": 4,
    "start_time": "2022-10-05T22:46:39.412Z"
   },
   {
    "duration": 7,
    "start_time": "2022-10-05T22:46:39.417Z"
   },
   {
    "duration": 6,
    "start_time": "2022-10-05T22:46:39.425Z"
   },
   {
    "duration": 7,
    "start_time": "2022-10-05T22:46:39.433Z"
   },
   {
    "duration": 10,
    "start_time": "2022-10-05T22:46:39.441Z"
   },
   {
    "duration": 7,
    "start_time": "2022-10-05T22:46:39.452Z"
   },
   {
    "duration": 32,
    "start_time": "2022-10-05T22:46:39.460Z"
   },
   {
    "duration": 5,
    "start_time": "2022-10-05T22:46:39.494Z"
   },
   {
    "duration": 2693,
    "start_time": "2022-10-05T22:46:39.501Z"
   },
   {
    "duration": 2194,
    "start_time": "2022-10-05T22:46:42.196Z"
   },
   {
    "duration": 73,
    "start_time": "2022-10-05T22:46:47.651Z"
   },
   {
    "duration": 13,
    "start_time": "2022-10-05T22:48:07.573Z"
   },
   {
    "duration": 6,
    "start_time": "2022-10-05T22:48:21.607Z"
   },
   {
    "duration": 373,
    "start_time": "2022-10-05T22:48:21.615Z"
   },
   {
    "duration": 92,
    "start_time": "2022-10-05T22:48:21.990Z"
   },
   {
    "duration": 372,
    "start_time": "2022-10-05T22:48:22.084Z"
   },
   {
    "duration": 5,
    "start_time": "2022-10-05T22:48:22.458Z"
   },
   {
    "duration": 29,
    "start_time": "2022-10-05T22:48:22.465Z"
   },
   {
    "duration": 3,
    "start_time": "2022-10-05T22:48:22.496Z"
   },
   {
    "duration": 12,
    "start_time": "2022-10-05T22:48:22.501Z"
   },
   {
    "duration": 6,
    "start_time": "2022-10-05T22:48:22.515Z"
   },
   {
    "duration": 252,
    "start_time": "2022-10-05T22:48:22.524Z"
   },
   {
    "duration": 17,
    "start_time": "2022-10-05T22:48:22.778Z"
   },
   {
    "duration": 6,
    "start_time": "2022-10-05T22:48:22.797Z"
   },
   {
    "duration": 9,
    "start_time": "2022-10-05T22:48:22.805Z"
   },
   {
    "duration": 2,
    "start_time": "2022-10-05T22:48:22.816Z"
   },
   {
    "duration": 5,
    "start_time": "2022-10-05T22:48:22.820Z"
   },
   {
    "duration": 5,
    "start_time": "2022-10-05T22:48:22.826Z"
   },
   {
    "duration": 18,
    "start_time": "2022-10-05T22:48:22.833Z"
   },
   {
    "duration": 40,
    "start_time": "2022-10-05T22:48:22.853Z"
   },
   {
    "duration": 10,
    "start_time": "2022-10-05T22:48:22.894Z"
   },
   {
    "duration": 1830,
    "start_time": "2022-10-05T22:48:22.905Z"
   },
   {
    "duration": 1798,
    "start_time": "2022-10-05T22:48:24.737Z"
   },
   {
    "duration": 1844,
    "start_time": "2022-10-05T22:48:26.537Z"
   },
   {
    "duration": 189,
    "start_time": "2022-10-05T22:48:28.383Z"
   },
   {
    "duration": 209,
    "start_time": "2022-10-05T22:48:28.573Z"
   },
   {
    "duration": 210,
    "start_time": "2022-10-05T22:48:28.784Z"
   },
   {
    "duration": 382,
    "start_time": "2022-10-05T22:48:28.996Z"
   },
   {
    "duration": 22,
    "start_time": "2022-10-05T22:48:29.380Z"
   },
   {
    "duration": 216,
    "start_time": "2022-10-05T22:48:29.409Z"
   },
   {
    "duration": 205,
    "start_time": "2022-10-05T22:48:29.627Z"
   },
   {
    "duration": 15,
    "start_time": "2022-10-05T22:48:29.833Z"
   },
   {
    "duration": 196,
    "start_time": "2022-10-05T22:48:29.850Z"
   },
   {
    "duration": 12,
    "start_time": "2022-10-05T22:48:30.048Z"
   },
   {
    "duration": 202,
    "start_time": "2022-10-05T22:48:30.062Z"
   },
   {
    "duration": 202,
    "start_time": "2022-10-05T22:48:30.266Z"
   },
   {
    "duration": 204,
    "start_time": "2022-10-05T22:48:30.469Z"
   },
   {
    "duration": 18,
    "start_time": "2022-10-05T22:48:30.674Z"
   },
   {
    "duration": 233,
    "start_time": "2022-10-05T22:48:30.694Z"
   },
   {
    "duration": 203,
    "start_time": "2022-10-05T22:48:30.929Z"
   },
   {
    "duration": 13,
    "start_time": "2022-10-05T22:48:31.134Z"
   },
   {
    "duration": 201,
    "start_time": "2022-10-05T22:48:31.149Z"
   },
   {
    "duration": 232,
    "start_time": "2022-10-05T22:48:31.352Z"
   },
   {
    "duration": 14,
    "start_time": "2022-10-05T22:48:31.586Z"
   },
   {
    "duration": 196,
    "start_time": "2022-10-05T22:48:31.603Z"
   },
   {
    "duration": 6,
    "start_time": "2022-10-05T22:48:31.801Z"
   },
   {
    "duration": 19,
    "start_time": "2022-10-05T22:48:31.809Z"
   },
   {
    "duration": 13,
    "start_time": "2022-10-05T22:48:31.830Z"
   },
   {
    "duration": 7,
    "start_time": "2022-10-05T22:48:31.845Z"
   },
   {
    "duration": 9,
    "start_time": "2022-10-05T22:48:31.854Z"
   },
   {
    "duration": 11,
    "start_time": "2022-10-05T22:48:31.865Z"
   },
   {
    "duration": 12,
    "start_time": "2022-10-05T22:48:31.888Z"
   },
   {
    "duration": 13,
    "start_time": "2022-10-05T22:48:31.902Z"
   },
   {
    "duration": 14,
    "start_time": "2022-10-05T22:48:31.917Z"
   },
   {
    "duration": 12,
    "start_time": "2022-10-05T22:48:31.933Z"
   },
   {
    "duration": 11,
    "start_time": "2022-10-05T22:48:31.947Z"
   },
   {
    "duration": 14,
    "start_time": "2022-10-05T22:48:31.961Z"
   },
   {
    "duration": 2313,
    "start_time": "2022-10-05T22:48:31.977Z"
   },
   {
    "duration": 2298,
    "start_time": "2022-10-05T22:48:34.292Z"
   },
   {
    "duration": 11004,
    "start_time": "2022-10-05T22:48:36.592Z"
   },
   {
    "duration": 300,
    "start_time": "2022-10-05T22:48:47.598Z"
   },
   {
    "duration": 297,
    "start_time": "2022-10-05T22:48:47.899Z"
   },
   {
    "duration": 1741,
    "start_time": "2022-10-05T22:48:48.198Z"
   },
   {
    "duration": 1793,
    "start_time": "2022-10-05T22:48:49.941Z"
   },
   {
    "duration": 264,
    "start_time": "2022-10-05T22:48:51.736Z"
   },
   {
    "duration": 103,
    "start_time": "2022-10-05T22:48:52.091Z"
   },
   {
    "duration": 9,
    "start_time": "2022-10-05T22:48:55.102Z"
   },
   {
    "duration": 111,
    "start_time": "2022-10-05T22:51:40.519Z"
   },
   {
    "duration": 5,
    "start_time": "2022-10-05T22:51:46.338Z"
   },
   {
    "duration": 75,
    "start_time": "2022-10-05T22:51:49.917Z"
   },
   {
    "duration": 4,
    "start_time": "2022-10-05T22:51:50.184Z"
   },
   {
    "duration": 7,
    "start_time": "2022-10-05T22:51:58.827Z"
   },
   {
    "duration": 4,
    "start_time": "2022-10-05T22:52:31.043Z"
   },
   {
    "duration": 9,
    "start_time": "2022-10-05T22:52:33.606Z"
   },
   {
    "duration": 5,
    "start_time": "2022-10-05T22:52:34.666Z"
   },
   {
    "duration": 4,
    "start_time": "2022-10-05T22:52:35.652Z"
   },
   {
    "duration": 250,
    "start_time": "2022-10-05T22:53:17.682Z"
   },
   {
    "duration": 61,
    "start_time": "2022-10-05T22:53:28.401Z"
   },
   {
    "duration": 93,
    "start_time": "2022-10-05T22:55:00.298Z"
   },
   {
    "duration": 9,
    "start_time": "2022-10-05T22:55:03.705Z"
   },
   {
    "duration": 99,
    "start_time": "2022-10-05T22:56:28.885Z"
   },
   {
    "duration": 63,
    "start_time": "2022-10-05T22:56:42.693Z"
   },
   {
    "duration": 24,
    "start_time": "2022-10-05T22:56:55.025Z"
   },
   {
    "duration": 18,
    "start_time": "2022-10-05T22:57:21.726Z"
   },
   {
    "duration": 8,
    "start_time": "2022-10-05T22:57:34.226Z"
   },
   {
    "duration": 8,
    "start_time": "2022-10-05T22:57:39.874Z"
   },
   {
    "duration": 5,
    "start_time": "2022-10-05T22:57:47.500Z"
   },
   {
    "duration": 13,
    "start_time": "2022-10-05T22:59:16.364Z"
   },
   {
    "duration": 9,
    "start_time": "2022-10-05T22:59:33.508Z"
   },
   {
    "duration": 19,
    "start_time": "2022-10-05T22:59:37.955Z"
   },
   {
    "duration": 64,
    "start_time": "2022-10-05T23:00:08.707Z"
   },
   {
    "duration": 73,
    "start_time": "2022-10-05T23:00:15.322Z"
   },
   {
    "duration": 52,
    "start_time": "2022-10-05T23:01:04.036Z"
   },
   {
    "duration": 5,
    "start_time": "2022-10-05T23:01:14.224Z"
   },
   {
    "duration": 8,
    "start_time": "2022-10-05T23:01:52.624Z"
   },
   {
    "duration": 9,
    "start_time": "2022-10-05T23:02:01.129Z"
   },
   {
    "duration": 12,
    "start_time": "2022-10-05T23:02:11.182Z"
   },
   {
    "duration": 65,
    "start_time": "2022-10-05T23:03:13.770Z"
   },
   {
    "duration": 65,
    "start_time": "2022-10-05T23:03:43.203Z"
   },
   {
    "duration": 6,
    "start_time": "2022-10-05T23:04:11.124Z"
   },
   {
    "duration": 7,
    "start_time": "2022-10-05T23:04:19.665Z"
   },
   {
    "duration": 13,
    "start_time": "2022-10-05T23:04:23.949Z"
   },
   {
    "duration": 5,
    "start_time": "2022-10-05T23:04:30.483Z"
   },
   {
    "duration": 12,
    "start_time": "2022-10-05T23:06:36.145Z"
   },
   {
    "duration": 8,
    "start_time": "2022-10-05T23:06:40.345Z"
   },
   {
    "duration": 7,
    "start_time": "2022-10-05T23:07:01.301Z"
   },
   {
    "duration": 14,
    "start_time": "2022-10-05T23:07:02.284Z"
   },
   {
    "duration": 4,
    "start_time": "2022-10-05T23:07:02.759Z"
   },
   {
    "duration": 61,
    "start_time": "2022-10-05T23:07:03.716Z"
   },
   {
    "duration": 14,
    "start_time": "2022-10-05T23:07:15.183Z"
   },
   {
    "duration": 4,
    "start_time": "2022-10-05T23:07:15.557Z"
   },
   {
    "duration": 62,
    "start_time": "2022-10-05T23:07:16.010Z"
   },
   {
    "duration": 4,
    "start_time": "2022-10-05T23:07:26.306Z"
   },
   {
    "duration": 10,
    "start_time": "2022-10-05T23:07:27.436Z"
   },
   {
    "duration": 13,
    "start_time": "2022-10-05T23:08:44.656Z"
   },
   {
    "duration": 4,
    "start_time": "2022-10-05T23:08:44.986Z"
   },
   {
    "duration": 59,
    "start_time": "2022-10-05T23:08:46.006Z"
   },
   {
    "duration": 8,
    "start_time": "2022-10-05T23:10:11.670Z"
   },
   {
    "duration": 204,
    "start_time": "2022-10-05T23:10:13.975Z"
   },
   {
    "duration": 185,
    "start_time": "2022-10-05T23:10:17.248Z"
   },
   {
    "duration": 8,
    "start_time": "2022-10-05T23:10:21.442Z"
   },
   {
    "duration": 203,
    "start_time": "2022-10-05T23:10:22.444Z"
   },
   {
    "duration": 6,
    "start_time": "2022-10-05T23:10:25.831Z"
   },
   {
    "duration": 179,
    "start_time": "2022-10-05T23:10:26.725Z"
   },
   {
    "duration": 193,
    "start_time": "2022-10-05T23:10:29.488Z"
   },
   {
    "duration": 218,
    "start_time": "2022-10-05T23:10:31.377Z"
   },
   {
    "duration": 8,
    "start_time": "2022-10-05T23:10:34.494Z"
   },
   {
    "duration": 179,
    "start_time": "2022-10-05T23:10:35.503Z"
   },
   {
    "duration": 413,
    "start_time": "2022-10-05T23:10:41.230Z"
   },
   {
    "duration": 7,
    "start_time": "2022-10-05T23:10:44.563Z"
   },
   {
    "duration": 164,
    "start_time": "2022-10-05T23:10:45.744Z"
   },
   {
    "duration": 8,
    "start_time": "2022-10-05T23:10:50.202Z"
   },
   {
    "duration": 180,
    "start_time": "2022-10-05T23:10:51.249Z"
   },
   {
    "duration": 5,
    "start_time": "2022-10-05T23:10:54.030Z"
   },
   {
    "duration": 8,
    "start_time": "2022-10-05T23:10:55.564Z"
   },
   {
    "duration": 5,
    "start_time": "2022-10-05T23:10:56.332Z"
   },
   {
    "duration": 5,
    "start_time": "2022-10-05T23:10:57.788Z"
   },
   {
    "duration": 3,
    "start_time": "2022-10-05T23:10:58.143Z"
   },
   {
    "duration": 3,
    "start_time": "2022-10-05T23:10:58.890Z"
   },
   {
    "duration": 3,
    "start_time": "2022-10-05T23:10:59.325Z"
   },
   {
    "duration": 4,
    "start_time": "2022-10-05T23:11:00.948Z"
   },
   {
    "duration": 7,
    "start_time": "2022-10-05T23:11:01.332Z"
   },
   {
    "duration": 8,
    "start_time": "2022-10-05T23:11:02.064Z"
   },
   {
    "duration": 4,
    "start_time": "2022-10-05T23:11:02.550Z"
   },
   {
    "duration": 3,
    "start_time": "2022-10-05T23:11:05.019Z"
   },
   {
    "duration": 3156,
    "start_time": "2022-10-05T23:11:06.339Z"
   },
   {
    "duration": 2724,
    "start_time": "2022-10-05T23:11:11.166Z"
   },
   {
    "duration": 11484,
    "start_time": "2022-10-05T23:11:15.978Z"
   },
   {
    "duration": 300,
    "start_time": "2022-10-05T23:11:29.151Z"
   },
   {
    "duration": 313,
    "start_time": "2022-10-05T23:11:30.627Z"
   },
   {
    "duration": 1751,
    "start_time": "2022-10-05T23:11:33.633Z"
   },
   {
    "duration": 1802,
    "start_time": "2022-10-05T23:11:36.639Z"
   },
   {
    "duration": 229,
    "start_time": "2022-10-05T23:11:43.560Z"
   },
   {
    "duration": 13,
    "start_time": "2022-10-05T23:11:44.625Z"
   },
   {
    "duration": 5,
    "start_time": "2022-10-05T23:11:45.009Z"
   },
   {
    "duration": 78,
    "start_time": "2022-10-05T23:11:45.372Z"
   },
   {
    "duration": 5,
    "start_time": "2022-10-05T23:11:45.983Z"
   },
   {
    "duration": 8,
    "start_time": "2022-10-05T23:11:47.073Z"
   },
   {
    "duration": 5,
    "start_time": "2022-10-05T23:11:47.615Z"
   },
   {
    "duration": 4,
    "start_time": "2022-10-05T23:11:48.222Z"
   },
   {
    "duration": 50,
    "start_time": "2022-10-05T23:14:24.352Z"
   },
   {
    "duration": 1429,
    "start_time": "2022-10-05T23:14:27.887Z"
   },
   {
    "duration": 303,
    "start_time": "2022-10-05T23:14:29.318Z"
   },
   {
    "duration": 85,
    "start_time": "2022-10-05T23:14:29.622Z"
   },
   {
    "duration": 377,
    "start_time": "2022-10-05T23:14:29.709Z"
   },
   {
    "duration": 6,
    "start_time": "2022-10-05T23:14:30.089Z"
   },
   {
    "duration": 19,
    "start_time": "2022-10-05T23:14:30.097Z"
   },
   {
    "duration": 20,
    "start_time": "2022-10-05T23:14:30.117Z"
   },
   {
    "duration": 21,
    "start_time": "2022-10-05T23:14:30.140Z"
   },
   {
    "duration": 7,
    "start_time": "2022-10-05T23:14:30.163Z"
   },
   {
    "duration": 286,
    "start_time": "2022-10-05T23:14:30.172Z"
   },
   {
    "duration": 9,
    "start_time": "2022-10-05T23:14:30.460Z"
   },
   {
    "duration": 23,
    "start_time": "2022-10-05T23:14:30.470Z"
   },
   {
    "duration": 16,
    "start_time": "2022-10-05T23:14:30.495Z"
   },
   {
    "duration": 26,
    "start_time": "2022-10-05T23:14:30.513Z"
   },
   {
    "duration": 21,
    "start_time": "2022-10-05T23:14:30.542Z"
   },
   {
    "duration": 48,
    "start_time": "2022-10-05T23:14:30.565Z"
   },
   {
    "duration": 5,
    "start_time": "2022-10-05T23:14:37.505Z"
   },
   {
    "duration": 332,
    "start_time": "2022-10-05T23:14:37.512Z"
   },
   {
    "duration": 84,
    "start_time": "2022-10-05T23:14:37.846Z"
   },
   {
    "duration": 379,
    "start_time": "2022-10-05T23:14:37.932Z"
   },
   {
    "duration": 5,
    "start_time": "2022-10-05T23:14:38.313Z"
   },
   {
    "duration": 16,
    "start_time": "2022-10-05T23:14:38.319Z"
   },
   {
    "duration": 3,
    "start_time": "2022-10-05T23:14:38.337Z"
   },
   {
    "duration": 11,
    "start_time": "2022-10-05T23:14:38.341Z"
   },
   {
    "duration": 6,
    "start_time": "2022-10-05T23:14:38.354Z"
   },
   {
    "duration": 261,
    "start_time": "2022-10-05T23:14:38.363Z"
   },
   {
    "duration": 9,
    "start_time": "2022-10-05T23:14:38.626Z"
   },
   {
    "duration": 6,
    "start_time": "2022-10-05T23:14:38.636Z"
   },
   {
    "duration": 10,
    "start_time": "2022-10-05T23:14:38.643Z"
   },
   {
    "duration": 44,
    "start_time": "2022-10-05T23:14:38.654Z"
   },
   {
    "duration": 7,
    "start_time": "2022-10-05T23:14:38.699Z"
   },
   {
    "duration": 18,
    "start_time": "2022-10-05T23:14:38.707Z"
   },
   {
    "duration": 3,
    "start_time": "2022-10-05T23:14:38.726Z"
   },
   {
    "duration": 9,
    "start_time": "2022-10-05T23:14:38.730Z"
   },
   {
    "duration": 6,
    "start_time": "2022-10-05T23:14:38.740Z"
   },
   {
    "duration": 2297,
    "start_time": "2022-10-05T23:14:38.748Z"
   },
   {
    "duration": 2233,
    "start_time": "2022-10-05T23:14:41.047Z"
   },
   {
    "duration": 2347,
    "start_time": "2022-10-05T23:14:43.282Z"
   },
   {
    "duration": 220,
    "start_time": "2022-10-05T23:14:45.631Z"
   },
   {
    "duration": 206,
    "start_time": "2022-10-05T23:14:45.853Z"
   },
   {
    "duration": 208,
    "start_time": "2022-10-05T23:14:46.061Z"
   },
   {
    "duration": 213,
    "start_time": "2022-10-05T23:14:46.271Z"
   },
   {
    "duration": 17,
    "start_time": "2022-10-05T23:14:46.488Z"
   },
   {
    "duration": 206,
    "start_time": "2022-10-05T23:14:46.509Z"
   },
   {
    "duration": 304,
    "start_time": "2022-10-05T23:14:46.717Z"
   },
   {
    "duration": 18,
    "start_time": "2022-10-05T23:14:47.023Z"
   },
   {
    "duration": 185,
    "start_time": "2022-10-05T23:14:47.043Z"
   },
   {
    "duration": 17,
    "start_time": "2022-10-05T23:14:47.230Z"
   },
   {
    "duration": 235,
    "start_time": "2022-10-05T23:14:47.249Z"
   },
   {
    "duration": 209,
    "start_time": "2022-10-05T23:14:47.488Z"
   },
   {
    "duration": 226,
    "start_time": "2022-10-05T23:14:47.699Z"
   },
   {
    "duration": 17,
    "start_time": "2022-10-05T23:14:47.927Z"
   },
   {
    "duration": 212,
    "start_time": "2022-10-05T23:14:47.946Z"
   },
   {
    "duration": 225,
    "start_time": "2022-10-05T23:14:48.160Z"
   },
   {
    "duration": 17,
    "start_time": "2022-10-05T23:14:48.388Z"
   },
   {
    "duration": 200,
    "start_time": "2022-10-05T23:14:48.407Z"
   },
   {
    "duration": 203,
    "start_time": "2022-10-05T23:14:48.609Z"
   },
   {
    "duration": 18,
    "start_time": "2022-10-05T23:14:48.814Z"
   },
   {
    "duration": 312,
    "start_time": "2022-10-05T23:14:48.834Z"
   },
   {
    "duration": 5,
    "start_time": "2022-10-05T23:14:49.148Z"
   },
   {
    "duration": 8,
    "start_time": "2022-10-05T23:14:49.154Z"
   },
   {
    "duration": 8,
    "start_time": "2022-10-05T23:14:49.164Z"
   },
   {
    "duration": 19,
    "start_time": "2022-10-05T23:14:49.173Z"
   },
   {
    "duration": 6,
    "start_time": "2022-10-05T23:14:49.193Z"
   },
   {
    "duration": 5,
    "start_time": "2022-10-05T23:14:49.201Z"
   },
   {
    "duration": 5,
    "start_time": "2022-10-05T23:14:49.208Z"
   },
   {
    "duration": 6,
    "start_time": "2022-10-05T23:14:49.214Z"
   },
   {
    "duration": 7,
    "start_time": "2022-10-05T23:14:49.222Z"
   },
   {
    "duration": 7,
    "start_time": "2022-10-05T23:14:49.231Z"
   },
   {
    "duration": 6,
    "start_time": "2022-10-05T23:14:49.239Z"
   },
   {
    "duration": 4,
    "start_time": "2022-10-05T23:14:49.247Z"
   },
   {
    "duration": 3139,
    "start_time": "2022-10-05T23:14:49.252Z"
   },
   {
    "duration": 2998,
    "start_time": "2022-10-05T23:14:52.393Z"
   },
   {
    "duration": 14356,
    "start_time": "2022-10-05T23:14:55.395Z"
   },
   {
    "duration": 409,
    "start_time": "2022-10-05T23:15:09.753Z"
   },
   {
    "duration": 422,
    "start_time": "2022-10-05T23:15:10.163Z"
   },
   {
    "duration": 2736,
    "start_time": "2022-10-05T23:15:10.587Z"
   },
   {
    "duration": 2561,
    "start_time": "2022-10-05T23:15:13.325Z"
   },
   {
    "duration": 303,
    "start_time": "2022-10-05T23:15:15.888Z"
   },
   {
    "duration": 102,
    "start_time": "2022-10-05T23:15:16.193Z"
   },
   {
    "duration": 99,
    "start_time": "2022-10-05T23:15:16.301Z"
   },
   {
    "duration": 152,
    "start_time": "2022-10-05T23:15:16.402Z"
   },
   {
    "duration": 3,
    "start_time": "2022-10-05T23:15:16.556Z"
   },
   {
    "duration": 33,
    "start_time": "2022-10-05T23:15:16.561Z"
   },
   {
    "duration": 4,
    "start_time": "2022-10-05T23:15:16.596Z"
   },
   {
    "duration": 7,
    "start_time": "2022-10-05T23:15:16.602Z"
   },
   {
    "duration": 3,
    "start_time": "2022-10-05T23:15:43.867Z"
   },
   {
    "duration": 2,
    "start_time": "2022-10-05T23:15:47.986Z"
   },
   {
    "duration": 2,
    "start_time": "2022-10-05T23:15:51.403Z"
   },
   {
    "duration": 11,
    "start_time": "2022-10-05T23:15:55.272Z"
   },
   {
    "duration": 8,
    "start_time": "2022-10-05T23:16:14.796Z"
   },
   {
    "duration": 15,
    "start_time": "2022-10-05T23:16:14.965Z"
   },
   {
    "duration": 6,
    "start_time": "2022-10-05T23:16:20.054Z"
   },
   {
    "duration": 741,
    "start_time": "2022-10-05T23:16:20.063Z"
   },
   {
    "duration": 86,
    "start_time": "2022-10-05T23:16:20.807Z"
   },
   {
    "duration": 377,
    "start_time": "2022-10-05T23:16:20.896Z"
   },
   {
    "duration": 4,
    "start_time": "2022-10-05T23:16:21.274Z"
   },
   {
    "duration": 22,
    "start_time": "2022-10-05T23:16:21.280Z"
   },
   {
    "duration": 6,
    "start_time": "2022-10-05T23:16:21.303Z"
   },
   {
    "duration": 13,
    "start_time": "2022-10-05T23:16:21.311Z"
   },
   {
    "duration": 6,
    "start_time": "2022-10-05T23:16:21.326Z"
   },
   {
    "duration": 256,
    "start_time": "2022-10-05T23:16:21.334Z"
   },
   {
    "duration": 8,
    "start_time": "2022-10-05T23:16:21.591Z"
   },
   {
    "duration": 6,
    "start_time": "2022-10-05T23:16:21.601Z"
   },
   {
    "duration": 9,
    "start_time": "2022-10-05T23:16:21.609Z"
   },
   {
    "duration": 3,
    "start_time": "2022-10-05T23:16:21.619Z"
   },
   {
    "duration": 7,
    "start_time": "2022-10-05T23:16:21.623Z"
   },
   {
    "duration": 16,
    "start_time": "2022-10-05T23:16:21.632Z"
   },
   {
    "duration": 41,
    "start_time": "2022-10-05T23:16:21.650Z"
   },
   {
    "duration": 7,
    "start_time": "2022-10-05T23:16:21.692Z"
   },
   {
    "duration": 21,
    "start_time": "2022-10-05T23:16:21.701Z"
   },
   {
    "duration": 5,
    "start_time": "2022-10-05T23:16:53.593Z"
   },
   {
    "duration": 345,
    "start_time": "2022-10-05T23:16:53.600Z"
   },
   {
    "duration": 81,
    "start_time": "2022-10-05T23:16:53.946Z"
   },
   {
    "duration": 386,
    "start_time": "2022-10-05T23:16:54.029Z"
   },
   {
    "duration": 7,
    "start_time": "2022-10-05T23:16:54.418Z"
   },
   {
    "duration": 16,
    "start_time": "2022-10-05T23:16:54.427Z"
   },
   {
    "duration": 6,
    "start_time": "2022-10-05T23:16:54.445Z"
   },
   {
    "duration": 16,
    "start_time": "2022-10-05T23:16:54.452Z"
   },
   {
    "duration": 9,
    "start_time": "2022-10-05T23:16:54.489Z"
   },
   {
    "duration": 266,
    "start_time": "2022-10-05T23:16:54.501Z"
   },
   {
    "duration": 7,
    "start_time": "2022-10-05T23:16:54.769Z"
   },
   {
    "duration": 5,
    "start_time": "2022-10-05T23:16:54.789Z"
   },
   {
    "duration": 10,
    "start_time": "2022-10-05T23:16:54.796Z"
   },
   {
    "duration": 3,
    "start_time": "2022-10-05T23:16:54.807Z"
   },
   {
    "duration": 4,
    "start_time": "2022-10-05T23:16:54.811Z"
   },
   {
    "duration": 4,
    "start_time": "2022-10-05T23:16:54.817Z"
   },
   {
    "duration": 24,
    "start_time": "2022-10-05T23:16:54.822Z"
   },
   {
    "duration": 8,
    "start_time": "2022-10-05T23:16:54.848Z"
   },
   {
    "duration": 12,
    "start_time": "2022-10-05T23:16:54.889Z"
   },
   {
    "duration": 2219,
    "start_time": "2022-10-05T23:16:54.902Z"
   },
   {
    "duration": 2227,
    "start_time": "2022-10-05T23:16:57.123Z"
   },
   {
    "duration": 1958,
    "start_time": "2022-10-05T23:16:59.351Z"
   },
   {
    "duration": 200,
    "start_time": "2022-10-05T23:17:01.311Z"
   },
   {
    "duration": 213,
    "start_time": "2022-10-05T23:17:01.513Z"
   },
   {
    "duration": 242,
    "start_time": "2022-10-05T23:17:01.727Z"
   },
   {
    "duration": 261,
    "start_time": "2022-10-05T23:17:01.972Z"
   },
   {
    "duration": 16,
    "start_time": "2022-10-05T23:17:02.236Z"
   },
   {
    "duration": 206,
    "start_time": "2022-10-05T23:17:02.256Z"
   },
   {
    "duration": 204,
    "start_time": "2022-10-05T23:17:02.464Z"
   },
   {
    "duration": 28,
    "start_time": "2022-10-05T23:17:02.670Z"
   },
   {
    "duration": 191,
    "start_time": "2022-10-05T23:17:02.700Z"
   },
   {
    "duration": 17,
    "start_time": "2022-10-05T23:17:02.893Z"
   },
   {
    "duration": 198,
    "start_time": "2022-10-05T23:17:02.912Z"
   },
   {
    "duration": 210,
    "start_time": "2022-10-05T23:17:03.112Z"
   },
   {
    "duration": 203,
    "start_time": "2022-10-05T23:17:03.324Z"
   },
   {
    "duration": 16,
    "start_time": "2022-10-05T23:17:03.529Z"
   },
   {
    "duration": 209,
    "start_time": "2022-10-05T23:17:03.547Z"
   },
   {
    "duration": 223,
    "start_time": "2022-10-05T23:17:03.758Z"
   },
   {
    "duration": 22,
    "start_time": "2022-10-05T23:17:03.983Z"
   },
   {
    "duration": 202,
    "start_time": "2022-10-05T23:17:04.007Z"
   },
   {
    "duration": 234,
    "start_time": "2022-10-05T23:17:04.211Z"
   },
   {
    "duration": 18,
    "start_time": "2022-10-05T23:17:04.447Z"
   },
   {
    "duration": 213,
    "start_time": "2022-10-05T23:17:04.467Z"
   },
   {
    "duration": 8,
    "start_time": "2022-10-05T23:17:04.683Z"
   },
   {
    "duration": 25,
    "start_time": "2022-10-05T23:17:04.693Z"
   },
   {
    "duration": 25,
    "start_time": "2022-10-05T23:17:04.720Z"
   },
   {
    "duration": 14,
    "start_time": "2022-10-05T23:17:04.747Z"
   },
   {
    "duration": 16,
    "start_time": "2022-10-05T23:17:04.764Z"
   },
   {
    "duration": 22,
    "start_time": "2022-10-05T23:17:04.783Z"
   },
   {
    "duration": 23,
    "start_time": "2022-10-05T23:17:04.808Z"
   },
   {
    "duration": 29,
    "start_time": "2022-10-05T23:17:04.833Z"
   },
   {
    "duration": 15,
    "start_time": "2022-10-05T23:17:04.864Z"
   },
   {
    "duration": 16,
    "start_time": "2022-10-05T23:17:04.881Z"
   },
   {
    "duration": 20,
    "start_time": "2022-10-05T23:17:04.899Z"
   },
   {
    "duration": 20,
    "start_time": "2022-10-05T23:17:04.921Z"
   },
   {
    "duration": 2652,
    "start_time": "2022-10-05T23:17:04.943Z"
   },
   {
    "duration": 2999,
    "start_time": "2022-10-05T23:17:07.598Z"
   },
   {
    "duration": 11458,
    "start_time": "2022-10-05T23:17:10.599Z"
   },
   {
    "duration": 313,
    "start_time": "2022-10-05T23:17:22.058Z"
   },
   {
    "duration": 301,
    "start_time": "2022-10-05T23:17:22.373Z"
   },
   {
    "duration": 1769,
    "start_time": "2022-10-05T23:17:22.676Z"
   },
   {
    "duration": 1821,
    "start_time": "2022-10-05T23:17:24.446Z"
   },
   {
    "duration": 322,
    "start_time": "2022-10-05T23:17:26.269Z"
   },
   {
    "duration": 198,
    "start_time": "2022-10-05T23:17:26.593Z"
   },
   {
    "duration": 99,
    "start_time": "2022-10-05T23:17:26.794Z"
   },
   {
    "duration": 96,
    "start_time": "2022-10-05T23:17:26.895Z"
   },
   {
    "duration": 4,
    "start_time": "2022-10-05T23:17:26.992Z"
   },
   {
    "duration": 8,
    "start_time": "2022-10-05T23:17:26.998Z"
   },
   {
    "duration": 4,
    "start_time": "2022-10-05T23:17:27.008Z"
   },
   {
    "duration": 5,
    "start_time": "2022-10-05T23:17:27.013Z"
   },
   {
    "duration": 14,
    "start_time": "2022-10-05T23:18:01.914Z"
   },
   {
    "duration": 3,
    "start_time": "2022-10-05T23:18:02.774Z"
   },
   {
    "duration": 62,
    "start_time": "2022-10-05T23:18:03.102Z"
   },
   {
    "duration": 92,
    "start_time": "2022-10-05T23:18:08.397Z"
   },
   {
    "duration": 4,
    "start_time": "2022-10-05T23:18:08.725Z"
   },
   {
    "duration": 64,
    "start_time": "2022-10-05T23:18:09.004Z"
   },
   {
    "duration": 4,
    "start_time": "2022-10-05T23:18:09.276Z"
   },
   {
    "duration": 8,
    "start_time": "2022-10-05T23:18:09.969Z"
   },
   {
    "duration": 13,
    "start_time": "2022-10-05T23:18:17.282Z"
   },
   {
    "duration": 4,
    "start_time": "2022-10-05T23:18:17.879Z"
   },
   {
    "duration": 67,
    "start_time": "2022-10-05T23:18:18.156Z"
   },
   {
    "duration": 4,
    "start_time": "2022-10-05T23:18:18.474Z"
   },
   {
    "duration": 8,
    "start_time": "2022-10-05T23:18:19.185Z"
   },
   {
    "duration": 9,
    "start_time": "2022-10-05T23:18:41.536Z"
   },
   {
    "duration": 61,
    "start_time": "2022-10-05T23:18:53.952Z"
   },
   {
    "duration": 74,
    "start_time": "2022-10-05T23:22:32.493Z"
   },
   {
    "duration": 62,
    "start_time": "2022-10-05T23:22:38.000Z"
   },
   {
    "duration": 8,
    "start_time": "2022-10-05T23:22:45.479Z"
   },
   {
    "duration": 450,
    "start_time": "2022-10-05T23:23:19.445Z"
   },
   {
    "duration": 8,
    "start_time": "2022-10-05T23:23:20.149Z"
   },
   {
    "duration": 62,
    "start_time": "2022-10-05T23:23:26.117Z"
   },
   {
    "duration": 7,
    "start_time": "2022-10-05T23:23:27.110Z"
   },
   {
    "duration": 4,
    "start_time": "2022-10-05T23:23:33.916Z"
   },
   {
    "duration": 6,
    "start_time": "2022-10-05T23:24:07.801Z"
   },
   {
    "duration": 344,
    "start_time": "2022-10-05T23:24:07.809Z"
   },
   {
    "duration": 102,
    "start_time": "2022-10-05T23:24:08.156Z"
   },
   {
    "duration": 396,
    "start_time": "2022-10-05T23:24:08.260Z"
   },
   {
    "duration": 5,
    "start_time": "2022-10-05T23:24:08.657Z"
   },
   {
    "duration": 29,
    "start_time": "2022-10-05T23:24:08.663Z"
   },
   {
    "duration": 18,
    "start_time": "2022-10-05T23:24:08.694Z"
   },
   {
    "duration": 39,
    "start_time": "2022-10-05T23:24:08.714Z"
   },
   {
    "duration": 8,
    "start_time": "2022-10-05T23:24:08.755Z"
   },
   {
    "duration": 247,
    "start_time": "2022-10-05T23:24:08.765Z"
   },
   {
    "duration": 8,
    "start_time": "2022-10-05T23:24:09.015Z"
   },
   {
    "duration": 20,
    "start_time": "2022-10-05T23:24:09.024Z"
   },
   {
    "duration": 20,
    "start_time": "2022-10-05T23:24:09.046Z"
   },
   {
    "duration": 15,
    "start_time": "2022-10-05T23:24:09.069Z"
   },
   {
    "duration": 17,
    "start_time": "2022-10-05T23:24:09.086Z"
   },
   {
    "duration": 17,
    "start_time": "2022-10-05T23:24:09.105Z"
   },
   {
    "duration": 41,
    "start_time": "2022-10-05T23:24:09.124Z"
   },
   {
    "duration": 30,
    "start_time": "2022-10-05T23:24:09.167Z"
   },
   {
    "duration": 27,
    "start_time": "2022-10-05T23:24:09.199Z"
   },
   {
    "duration": 1850,
    "start_time": "2022-10-05T23:24:09.228Z"
   },
   {
    "duration": 2109,
    "start_time": "2022-10-05T23:24:11.080Z"
   },
   {
    "duration": 2135,
    "start_time": "2022-10-05T23:24:13.192Z"
   },
   {
    "duration": 225,
    "start_time": "2022-10-05T23:24:15.329Z"
   },
   {
    "duration": 217,
    "start_time": "2022-10-05T23:24:15.557Z"
   },
   {
    "duration": 243,
    "start_time": "2022-10-05T23:24:15.776Z"
   },
   {
    "duration": 228,
    "start_time": "2022-10-05T23:24:16.021Z"
   },
   {
    "duration": 13,
    "start_time": "2022-10-05T23:24:16.251Z"
   },
   {
    "duration": 231,
    "start_time": "2022-10-05T23:24:16.268Z"
   },
   {
    "duration": 210,
    "start_time": "2022-10-05T23:24:16.501Z"
   },
   {
    "duration": 20,
    "start_time": "2022-10-05T23:24:16.713Z"
   },
   {
    "duration": 216,
    "start_time": "2022-10-05T23:24:16.734Z"
   },
   {
    "duration": 18,
    "start_time": "2022-10-05T23:24:16.952Z"
   },
   {
    "duration": 211,
    "start_time": "2022-10-05T23:24:16.972Z"
   },
   {
    "duration": 217,
    "start_time": "2022-10-05T23:24:17.185Z"
   },
   {
    "duration": 199,
    "start_time": "2022-10-05T23:24:17.404Z"
   },
   {
    "duration": 14,
    "start_time": "2022-10-05T23:24:17.605Z"
   },
   {
    "duration": 205,
    "start_time": "2022-10-05T23:24:17.621Z"
   },
   {
    "duration": 253,
    "start_time": "2022-10-05T23:24:17.828Z"
   },
   {
    "duration": 19,
    "start_time": "2022-10-05T23:24:18.082Z"
   },
   {
    "duration": 211,
    "start_time": "2022-10-05T23:24:18.103Z"
   },
   {
    "duration": 220,
    "start_time": "2022-10-05T23:24:18.315Z"
   },
   {
    "duration": 18,
    "start_time": "2022-10-05T23:24:18.537Z"
   },
   {
    "duration": 191,
    "start_time": "2022-10-05T23:24:18.557Z"
   },
   {
    "duration": 4,
    "start_time": "2022-10-05T23:24:18.750Z"
   },
   {
    "duration": 8,
    "start_time": "2022-10-05T23:24:18.756Z"
   },
   {
    "duration": 8,
    "start_time": "2022-10-05T23:24:18.766Z"
   },
   {
    "duration": 4,
    "start_time": "2022-10-05T23:24:18.789Z"
   },
   {
    "duration": 6,
    "start_time": "2022-10-05T23:24:18.795Z"
   },
   {
    "duration": 6,
    "start_time": "2022-10-05T23:24:18.802Z"
   },
   {
    "duration": 5,
    "start_time": "2022-10-05T23:24:18.809Z"
   },
   {
    "duration": 9,
    "start_time": "2022-10-05T23:24:18.815Z"
   },
   {
    "duration": 9,
    "start_time": "2022-10-05T23:24:18.826Z"
   },
   {
    "duration": 6,
    "start_time": "2022-10-05T23:24:18.837Z"
   },
   {
    "duration": 8,
    "start_time": "2022-10-05T23:24:18.844Z"
   },
   {
    "duration": 6,
    "start_time": "2022-10-05T23:24:18.854Z"
   },
   {
    "duration": 2333,
    "start_time": "2022-10-05T23:24:18.862Z"
   },
   {
    "duration": 3194,
    "start_time": "2022-10-05T23:24:21.197Z"
   },
   {
    "duration": 11319,
    "start_time": "2022-10-05T23:24:24.394Z"
   },
   {
    "duration": 312,
    "start_time": "2022-10-05T23:24:35.715Z"
   },
   {
    "duration": 310,
    "start_time": "2022-10-05T23:24:36.029Z"
   },
   {
    "duration": 1813,
    "start_time": "2022-10-05T23:24:36.341Z"
   },
   {
    "duration": 1911,
    "start_time": "2022-10-05T23:24:38.156Z"
   },
   {
    "duration": 422,
    "start_time": "2022-10-05T23:24:40.069Z"
   },
   {
    "duration": 101,
    "start_time": "2022-10-05T23:24:40.493Z"
   },
   {
    "duration": 246,
    "start_time": "2022-10-05T23:24:40.601Z"
   },
   {
    "duration": 9,
    "start_time": "2022-10-05T23:24:40.849Z"
   },
   {
    "duration": 9,
    "start_time": "2022-10-05T23:24:50.836Z"
   },
   {
    "duration": 8,
    "start_time": "2022-10-05T23:29:42.405Z"
   },
   {
    "duration": 7,
    "start_time": "2022-10-05T23:29:49.649Z"
   },
   {
    "duration": 8,
    "start_time": "2022-10-05T23:29:58.070Z"
   },
   {
    "duration": 7,
    "start_time": "2022-10-05T23:30:06.965Z"
   },
   {
    "duration": 4,
    "start_time": "2022-10-05T23:30:12.894Z"
   },
   {
    "duration": 4,
    "start_time": "2022-10-05T23:30:16.505Z"
   },
   {
    "duration": 4,
    "start_time": "2022-10-05T23:30:22.607Z"
   },
   {
    "duration": 178,
    "start_time": "2022-10-05T23:30:25.871Z"
   },
   {
    "duration": 5,
    "start_time": "2022-10-05T23:30:27.757Z"
   },
   {
    "duration": 7,
    "start_time": "2022-10-05T23:30:28.834Z"
   },
   {
    "duration": 5,
    "start_time": "2022-10-05T23:30:29.320Z"
   },
   {
    "duration": 5,
    "start_time": "2022-10-05T23:30:31.091Z"
   },
   {
    "duration": 3,
    "start_time": "2022-10-05T23:30:31.498Z"
   },
   {
    "duration": 4,
    "start_time": "2022-10-05T23:30:32.678Z"
   },
   {
    "duration": 3,
    "start_time": "2022-10-05T23:30:32.936Z"
   },
   {
    "duration": 5,
    "start_time": "2022-10-05T23:30:33.905Z"
   },
   {
    "duration": 9,
    "start_time": "2022-10-05T23:30:34.307Z"
   },
   {
    "duration": 7,
    "start_time": "2022-10-05T23:30:35.078Z"
   },
   {
    "duration": 4,
    "start_time": "2022-10-05T23:30:35.564Z"
   },
   {
    "duration": 2,
    "start_time": "2022-10-05T23:30:37.637Z"
   },
   {
    "duration": 2960,
    "start_time": "2022-10-05T23:30:38.330Z"
   },
   {
    "duration": 4,
    "start_time": "2022-10-05T23:30:52.537Z"
   },
   {
    "duration": 336,
    "start_time": "2022-10-05T23:30:52.544Z"
   },
   {
    "duration": 83,
    "start_time": "2022-10-05T23:30:52.881Z"
   },
   {
    "duration": 376,
    "start_time": "2022-10-05T23:30:52.966Z"
   },
   {
    "duration": 5,
    "start_time": "2022-10-05T23:30:53.344Z"
   },
   {
    "duration": 41,
    "start_time": "2022-10-05T23:30:53.351Z"
   },
   {
    "duration": 3,
    "start_time": "2022-10-05T23:30:53.394Z"
   },
   {
    "duration": 14,
    "start_time": "2022-10-05T23:30:53.399Z"
   },
   {
    "duration": 7,
    "start_time": "2022-10-05T23:30:53.414Z"
   },
   {
    "duration": 250,
    "start_time": "2022-10-05T23:30:53.424Z"
   },
   {
    "duration": 18,
    "start_time": "2022-10-05T23:30:53.676Z"
   },
   {
    "duration": 5,
    "start_time": "2022-10-05T23:30:53.696Z"
   },
   {
    "duration": 10,
    "start_time": "2022-10-05T23:30:53.702Z"
   },
   {
    "duration": 2,
    "start_time": "2022-10-05T23:30:53.713Z"
   },
   {
    "duration": 4,
    "start_time": "2022-10-05T23:30:53.717Z"
   },
   {
    "duration": 4,
    "start_time": "2022-10-05T23:30:53.723Z"
   },
   {
    "duration": 19,
    "start_time": "2022-10-05T23:30:53.729Z"
   },
   {
    "duration": 40,
    "start_time": "2022-10-05T23:30:53.750Z"
   },
   {
    "duration": 16,
    "start_time": "2022-10-05T23:30:53.792Z"
   },
   {
    "duration": 2041,
    "start_time": "2022-10-05T23:30:53.810Z"
   },
   {
    "duration": 1900,
    "start_time": "2022-10-05T23:30:55.853Z"
   },
   {
    "duration": 1925,
    "start_time": "2022-10-05T23:30:57.755Z"
   },
   {
    "duration": 199,
    "start_time": "2022-10-05T23:30:59.681Z"
   },
   {
    "duration": 221,
    "start_time": "2022-10-05T23:30:59.881Z"
   },
   {
    "duration": 245,
    "start_time": "2022-10-05T23:31:00.103Z"
   },
   {
    "duration": 219,
    "start_time": "2022-10-05T23:31:00.350Z"
   },
   {
    "duration": 24,
    "start_time": "2022-10-05T23:31:00.571Z"
   },
   {
    "duration": 837,
    "start_time": "2022-10-05T23:31:00.599Z"
   },
   {
    "duration": 209,
    "start_time": "2022-10-05T23:31:01.438Z"
   },
   {
    "duration": 16,
    "start_time": "2022-10-05T23:31:01.649Z"
   },
   {
    "duration": 279,
    "start_time": "2022-10-05T23:31:01.667Z"
   },
   {
    "duration": 14,
    "start_time": "2022-10-05T23:31:01.949Z"
   },
   {
    "duration": 210,
    "start_time": "2022-10-05T23:31:01.965Z"
   },
   {
    "duration": 206,
    "start_time": "2022-10-05T23:31:02.178Z"
   },
   {
    "duration": 202,
    "start_time": "2022-10-05T23:31:02.389Z"
   },
   {
    "duration": 12,
    "start_time": "2022-10-05T23:31:02.594Z"
   },
   {
    "duration": 193,
    "start_time": "2022-10-05T23:31:02.608Z"
   },
   {
    "duration": 196,
    "start_time": "2022-10-05T23:31:02.803Z"
   },
   {
    "duration": 12,
    "start_time": "2022-10-05T23:31:03.000Z"
   },
   {
    "duration": 194,
    "start_time": "2022-10-05T23:31:03.014Z"
   },
   {
    "duration": 227,
    "start_time": "2022-10-05T23:31:03.210Z"
   },
   {
    "duration": 13,
    "start_time": "2022-10-05T23:31:03.438Z"
   },
   {
    "duration": 193,
    "start_time": "2022-10-05T23:31:03.452Z"
   },
   {
    "duration": 4,
    "start_time": "2022-10-05T23:31:03.647Z"
   },
   {
    "duration": 9,
    "start_time": "2022-10-05T23:31:03.653Z"
   },
   {
    "duration": 12,
    "start_time": "2022-10-05T23:31:03.664Z"
   },
   {
    "duration": 12,
    "start_time": "2022-10-05T23:31:03.678Z"
   },
   {
    "duration": 4,
    "start_time": "2022-10-05T23:31:03.692Z"
   },
   {
    "duration": 7,
    "start_time": "2022-10-05T23:31:03.698Z"
   },
   {
    "duration": 10,
    "start_time": "2022-10-05T23:31:03.706Z"
   },
   {
    "duration": 8,
    "start_time": "2022-10-05T23:31:03.718Z"
   },
   {
    "duration": 9,
    "start_time": "2022-10-05T23:31:03.728Z"
   },
   {
    "duration": 10,
    "start_time": "2022-10-05T23:31:03.738Z"
   },
   {
    "duration": 8,
    "start_time": "2022-10-05T23:31:03.750Z"
   },
   {
    "duration": 4,
    "start_time": "2022-10-05T23:31:03.760Z"
   },
   {
    "duration": 2603,
    "start_time": "2022-10-05T23:31:03.790Z"
   },
   {
    "duration": 3194,
    "start_time": "2022-10-05T23:31:06.396Z"
   },
   {
    "duration": 11584,
    "start_time": "2022-10-05T23:31:09.592Z"
   },
   {
    "duration": 317,
    "start_time": "2022-10-05T23:31:21.179Z"
   },
   {
    "duration": 312,
    "start_time": "2022-10-05T23:31:21.498Z"
   },
   {
    "duration": 1890,
    "start_time": "2022-10-05T23:31:21.813Z"
   },
   {
    "duration": 1832,
    "start_time": "2022-10-05T23:31:23.705Z"
   },
   {
    "duration": 350,
    "start_time": "2022-10-05T23:31:25.539Z"
   },
   {
    "duration": 113,
    "start_time": "2022-10-05T23:31:25.892Z"
   },
   {
    "duration": 134,
    "start_time": "2022-10-05T23:31:26.090Z"
   },
   {
    "duration": 7,
    "start_time": "2022-10-05T23:31:26.226Z"
   },
   {
    "duration": 65,
    "start_time": "2022-10-05T23:31:26.235Z"
   },
   {
    "duration": 8,
    "start_time": "2022-10-05T23:31:26.302Z"
   },
   {
    "duration": 4,
    "start_time": "2022-10-05T23:31:26.311Z"
   },
   {
    "duration": 4,
    "start_time": "2022-10-05T23:31:26.317Z"
   },
   {
    "duration": 43,
    "start_time": "2022-10-05T23:33:08.034Z"
   },
   {
    "duration": 5,
    "start_time": "2022-10-05T23:33:10.951Z"
   },
   {
    "duration": 94,
    "start_time": "2022-10-05T23:33:12.175Z"
   },
   {
    "duration": 4,
    "start_time": "2022-10-05T23:33:12.641Z"
   },
   {
    "duration": 5,
    "start_time": "2022-10-05T23:34:46.740Z"
   },
   {
    "duration": 17,
    "start_time": "2022-10-05T23:34:48.054Z"
   },
   {
    "duration": 6,
    "start_time": "2022-10-05T23:34:52.005Z"
   },
   {
    "duration": 283,
    "start_time": "2022-10-05T23:34:52.013Z"
   },
   {
    "duration": 77,
    "start_time": "2022-10-05T23:34:52.298Z"
   },
   {
    "duration": 380,
    "start_time": "2022-10-05T23:34:52.377Z"
   },
   {
    "duration": 4,
    "start_time": "2022-10-05T23:34:52.759Z"
   },
   {
    "duration": 33,
    "start_time": "2022-10-05T23:34:52.764Z"
   },
   {
    "duration": 18,
    "start_time": "2022-10-05T23:34:52.799Z"
   },
   {
    "duration": 31,
    "start_time": "2022-10-05T23:34:52.819Z"
   },
   {
    "duration": 9,
    "start_time": "2022-10-05T23:34:52.853Z"
   },
   {
    "duration": 252,
    "start_time": "2022-10-05T23:34:52.865Z"
   },
   {
    "duration": 8,
    "start_time": "2022-10-05T23:34:53.119Z"
   },
   {
    "duration": 31,
    "start_time": "2022-10-05T23:34:53.128Z"
   },
   {
    "duration": 29,
    "start_time": "2022-10-05T23:34:53.161Z"
   },
   {
    "duration": 23,
    "start_time": "2022-10-05T23:34:53.192Z"
   },
   {
    "duration": 39,
    "start_time": "2022-10-05T23:34:53.217Z"
   },
   {
    "duration": 14,
    "start_time": "2022-10-05T23:34:53.258Z"
   },
   {
    "duration": 51,
    "start_time": "2022-10-05T23:34:53.274Z"
   },
   {
    "duration": 14,
    "start_time": "2022-10-05T23:34:53.327Z"
   },
   {
    "duration": 39,
    "start_time": "2022-10-05T23:34:53.343Z"
   },
   {
    "duration": 1860,
    "start_time": "2022-10-05T23:34:53.384Z"
   },
   {
    "duration": 1899,
    "start_time": "2022-10-05T23:34:55.246Z"
   },
   {
    "duration": 1942,
    "start_time": "2022-10-05T23:34:57.146Z"
   },
   {
    "duration": 190,
    "start_time": "2022-10-05T23:34:59.090Z"
   },
   {
    "duration": 207,
    "start_time": "2022-10-05T23:34:59.289Z"
   },
   {
    "duration": 217,
    "start_time": "2022-10-05T23:34:59.498Z"
   },
   {
    "duration": 210,
    "start_time": "2022-10-05T23:34:59.717Z"
   },
   {
    "duration": 11,
    "start_time": "2022-10-05T23:34:59.929Z"
   },
   {
    "duration": 222,
    "start_time": "2022-10-05T23:34:59.944Z"
   },
   {
    "duration": 221,
    "start_time": "2022-10-05T23:35:00.168Z"
   },
   {
    "duration": 14,
    "start_time": "2022-10-05T23:35:00.391Z"
   },
   {
    "duration": 215,
    "start_time": "2022-10-05T23:35:00.407Z"
   },
   {
    "duration": 11,
    "start_time": "2022-10-05T23:35:00.624Z"
   },
   {
    "duration": 220,
    "start_time": "2022-10-05T23:35:00.637Z"
   },
   {
    "duration": 208,
    "start_time": "2022-10-05T23:35:00.859Z"
   },
   {
    "duration": 199,
    "start_time": "2022-10-05T23:35:01.068Z"
   },
   {
    "duration": 21,
    "start_time": "2022-10-05T23:35:01.268Z"
   },
   {
    "duration": 223,
    "start_time": "2022-10-05T23:35:01.291Z"
   },
   {
    "duration": 206,
    "start_time": "2022-10-05T23:35:01.516Z"
   },
   {
    "duration": 12,
    "start_time": "2022-10-05T23:35:01.724Z"
   },
   {
    "duration": 266,
    "start_time": "2022-10-05T23:35:01.738Z"
   },
   {
    "duration": 255,
    "start_time": "2022-10-05T23:35:02.007Z"
   },
   {
    "duration": 25,
    "start_time": "2022-10-05T23:35:02.264Z"
   },
   {
    "duration": 719,
    "start_time": "2022-10-05T23:35:02.291Z"
   },
   {
    "duration": 5,
    "start_time": "2022-10-05T23:35:03.012Z"
   },
   {
    "duration": 8,
    "start_time": "2022-10-05T23:35:03.018Z"
   },
   {
    "duration": 45,
    "start_time": "2022-10-05T23:36:29.641Z"
   },
   {
    "duration": 48,
    "start_time": "2022-10-05T23:36:41.514Z"
   },
   {
    "duration": 11,
    "start_time": "2022-10-05T23:36:47.346Z"
   },
   {
    "duration": 47,
    "start_time": "2022-10-05T23:36:58.683Z"
   },
   {
    "duration": 11,
    "start_time": "2022-10-05T23:37:07.200Z"
   },
   {
    "duration": 56,
    "start_time": "2022-10-05T23:37:10.242Z"
   },
   {
    "duration": 11,
    "start_time": "2022-10-05T23:38:22.961Z"
   },
   {
    "duration": 7,
    "start_time": "2022-10-05T23:38:27.425Z"
   },
   {
    "duration": 46,
    "start_time": "2022-10-05T23:39:06.493Z"
   },
   {
    "duration": 45,
    "start_time": "2022-10-05T23:39:14.956Z"
   },
   {
    "duration": 45,
    "start_time": "2022-10-05T23:39:26.371Z"
   },
   {
    "duration": 45,
    "start_time": "2022-10-05T23:39:41.732Z"
   },
   {
    "duration": 5,
    "start_time": "2022-10-05T23:39:55.438Z"
   },
   {
    "duration": 69,
    "start_time": "2022-10-05T23:39:57.706Z"
   },
   {
    "duration": 7,
    "start_time": "2022-10-05T23:40:01.578Z"
   },
   {
    "duration": 4,
    "start_time": "2022-10-05T23:40:09.790Z"
   },
   {
    "duration": 7,
    "start_time": "2022-10-05T23:40:13.839Z"
   },
   {
    "duration": 7,
    "start_time": "2022-10-05T23:40:40.997Z"
   },
   {
    "duration": 71,
    "start_time": "2022-10-05T23:40:41.592Z"
   },
   {
    "duration": 7,
    "start_time": "2022-10-05T23:40:42.157Z"
   },
   {
    "duration": 2201,
    "start_time": "2022-10-06T07:29:47.501Z"
   },
   {
    "duration": 793,
    "start_time": "2022-10-06T07:29:49.704Z"
   },
   {
    "duration": 407,
    "start_time": "2022-10-06T07:29:50.498Z"
   },
   {
    "duration": 1833,
    "start_time": "2022-10-06T07:29:50.907Z"
   },
   {
    "duration": 7,
    "start_time": "2022-10-06T07:29:52.742Z"
   },
   {
    "duration": 43,
    "start_time": "2022-10-06T07:29:52.751Z"
   },
   {
    "duration": 30,
    "start_time": "2022-10-06T07:29:52.796Z"
   },
   {
    "duration": 32,
    "start_time": "2022-10-06T07:29:52.828Z"
   },
   {
    "duration": 11,
    "start_time": "2022-10-06T07:29:52.862Z"
   },
   {
    "duration": 252,
    "start_time": "2022-10-06T07:29:52.876Z"
   },
   {
    "duration": 8,
    "start_time": "2022-10-06T07:29:53.129Z"
   },
   {
    "duration": 10,
    "start_time": "2022-10-06T07:29:53.138Z"
   },
   {
    "duration": 27,
    "start_time": "2022-10-06T07:29:53.150Z"
   },
   {
    "duration": 3,
    "start_time": "2022-10-06T07:29:53.179Z"
   },
   {
    "duration": 12,
    "start_time": "2022-10-06T07:29:53.183Z"
   },
   {
    "duration": 12,
    "start_time": "2022-10-06T07:29:53.197Z"
   },
   {
    "duration": 29,
    "start_time": "2022-10-06T07:29:53.210Z"
   },
   {
    "duration": 6,
    "start_time": "2022-10-06T07:29:53.241Z"
   },
   {
    "duration": 18,
    "start_time": "2022-10-06T07:29:53.249Z"
   },
   {
    "duration": 1921,
    "start_time": "2022-10-06T07:29:53.268Z"
   },
   {
    "duration": 1973,
    "start_time": "2022-10-06T07:29:55.190Z"
   },
   {
    "duration": 1913,
    "start_time": "2022-10-06T07:29:57.165Z"
   },
   {
    "duration": 181,
    "start_time": "2022-10-06T07:29:59.080Z"
   },
   {
    "duration": 193,
    "start_time": "2022-10-06T07:29:59.263Z"
   },
   {
    "duration": 186,
    "start_time": "2022-10-06T07:29:59.458Z"
   },
   {
    "duration": 191,
    "start_time": "2022-10-06T07:29:59.646Z"
   },
   {
    "duration": 13,
    "start_time": "2022-10-06T07:29:59.838Z"
   },
   {
    "duration": 178,
    "start_time": "2022-10-06T07:29:59.855Z"
   },
   {
    "duration": 179,
    "start_time": "2022-10-06T07:30:00.035Z"
   },
   {
    "duration": 14,
    "start_time": "2022-10-06T07:30:00.216Z"
   },
   {
    "duration": 291,
    "start_time": "2022-10-06T07:30:00.232Z"
   },
   {
    "duration": 14,
    "start_time": "2022-10-06T07:30:00.525Z"
   },
   {
    "duration": 171,
    "start_time": "2022-10-06T07:30:00.541Z"
   },
   {
    "duration": 182,
    "start_time": "2022-10-06T07:30:00.714Z"
   },
   {
    "duration": 184,
    "start_time": "2022-10-06T07:30:00.899Z"
   },
   {
    "duration": 12,
    "start_time": "2022-10-06T07:30:01.084Z"
   },
   {
    "duration": 184,
    "start_time": "2022-10-06T07:30:01.098Z"
   },
   {
    "duration": 179,
    "start_time": "2022-10-06T07:30:01.283Z"
   },
   {
    "duration": 12,
    "start_time": "2022-10-06T07:30:01.464Z"
   },
   {
    "duration": 190,
    "start_time": "2022-10-06T07:30:01.478Z"
   },
   {
    "duration": 195,
    "start_time": "2022-10-06T07:30:01.670Z"
   },
   {
    "duration": 12,
    "start_time": "2022-10-06T07:30:01.867Z"
   },
   {
    "duration": 173,
    "start_time": "2022-10-06T07:30:01.881Z"
   },
   {
    "duration": 4,
    "start_time": "2022-10-06T07:30:02.056Z"
   },
   {
    "duration": 36,
    "start_time": "2022-10-06T07:30:02.062Z"
   },
   {
    "duration": 34,
    "start_time": "2022-10-06T07:30:02.099Z"
   },
   {
    "duration": 66,
    "start_time": "2022-10-06T07:30:02.135Z"
   },
   {
    "duration": 11,
    "start_time": "2022-10-06T07:30:02.203Z"
   },
   {
    "duration": 34,
    "start_time": "2022-10-06T07:30:02.215Z"
   },
   {
    "duration": 15,
    "start_time": "2022-10-06T07:30:02.251Z"
   },
   {
    "duration": 22,
    "start_time": "2022-10-06T07:30:02.268Z"
   },
   {
    "duration": 20,
    "start_time": "2022-10-06T07:30:02.292Z"
   },
   {
    "duration": 9,
    "start_time": "2022-10-06T07:30:02.313Z"
   },
   {
    "duration": 39,
    "start_time": "2022-10-06T07:30:02.324Z"
   },
   {
    "duration": 46,
    "start_time": "2022-10-06T07:30:02.365Z"
   },
   {
    "duration": 2703,
    "start_time": "2022-10-06T07:30:02.413Z"
   },
   {
    "duration": 2294,
    "start_time": "2022-10-06T07:30:05.118Z"
   },
   {
    "duration": 204,
    "start_time": "2022-10-06T07:30:24.104Z"
   },
   {
    "duration": 8,
    "start_time": "2022-10-06T07:30:27.534Z"
   },
   {
    "duration": 7,
    "start_time": "2022-10-06T07:30:30.921Z"
   },
   {
    "duration": 71,
    "start_time": "2022-10-06T07:30:34.482Z"
   },
   {
    "duration": 4,
    "start_time": "2022-10-06T07:31:14.252Z"
   },
   {
    "duration": 129,
    "start_time": "2022-10-06T07:33:04.243Z"
   },
   {
    "duration": 5,
    "start_time": "2022-10-06T07:34:33.873Z"
   },
   {
    "duration": 17,
    "start_time": "2022-10-06T07:35:04.296Z"
   },
   {
    "duration": 3,
    "start_time": "2022-10-06T07:36:36.404Z"
   },
   {
    "duration": 7,
    "start_time": "2022-10-06T07:36:58.662Z"
   },
   {
    "duration": 7,
    "start_time": "2022-10-06T07:37:02.155Z"
   },
   {
    "duration": 4,
    "start_time": "2022-10-06T07:39:13.996Z"
   },
   {
    "duration": 55,
    "start_time": "2022-10-06T08:59:20.776Z"
   },
   {
    "duration": 1529,
    "start_time": "2022-10-06T08:59:25.745Z"
   },
   {
    "duration": 789,
    "start_time": "2022-10-06T08:59:27.276Z"
   },
   {
    "duration": 411,
    "start_time": "2022-10-06T08:59:28.066Z"
   },
   {
    "duration": 1842,
    "start_time": "2022-10-06T08:59:28.479Z"
   },
   {
    "duration": 5,
    "start_time": "2022-10-06T08:59:30.322Z"
   },
   {
    "duration": 55,
    "start_time": "2022-10-06T08:59:30.329Z"
   },
   {
    "duration": 50,
    "start_time": "2022-10-06T08:59:30.386Z"
   },
   {
    "duration": 27,
    "start_time": "2022-10-06T08:59:30.438Z"
   },
   {
    "duration": 16,
    "start_time": "2022-10-06T08:59:30.467Z"
   },
   {
    "duration": 263,
    "start_time": "2022-10-06T08:59:30.485Z"
   },
   {
    "duration": 7,
    "start_time": "2022-10-06T08:59:30.750Z"
   },
   {
    "duration": 23,
    "start_time": "2022-10-06T08:59:30.759Z"
   },
   {
    "duration": 24,
    "start_time": "2022-10-06T08:59:30.783Z"
   },
   {
    "duration": 4,
    "start_time": "2022-10-06T08:59:30.808Z"
   },
   {
    "duration": 19,
    "start_time": "2022-10-06T08:59:30.814Z"
   },
   {
    "duration": 21,
    "start_time": "2022-10-06T08:59:30.834Z"
   },
   {
    "duration": 37,
    "start_time": "2022-10-06T08:59:30.856Z"
   },
   {
    "duration": 7,
    "start_time": "2022-10-06T08:59:30.895Z"
   },
   {
    "duration": 28,
    "start_time": "2022-10-06T08:59:30.904Z"
   },
   {
    "duration": 1900,
    "start_time": "2022-10-06T08:59:30.933Z"
   },
   {
    "duration": 1823,
    "start_time": "2022-10-06T08:59:32.834Z"
   },
   {
    "duration": 1935,
    "start_time": "2022-10-06T08:59:34.658Z"
   },
   {
    "duration": 171,
    "start_time": "2022-10-06T08:59:36.594Z"
   },
   {
    "duration": 181,
    "start_time": "2022-10-06T08:59:36.767Z"
   },
   {
    "duration": 188,
    "start_time": "2022-10-06T08:59:36.949Z"
   },
   {
    "duration": 190,
    "start_time": "2022-10-06T08:59:37.138Z"
   },
   {
    "duration": 12,
    "start_time": "2022-10-06T08:59:37.330Z"
   },
   {
    "duration": 180,
    "start_time": "2022-10-06T08:59:37.346Z"
   },
   {
    "duration": 178,
    "start_time": "2022-10-06T08:59:37.527Z"
   },
   {
    "duration": 14,
    "start_time": "2022-10-06T08:59:37.709Z"
   },
   {
    "duration": 267,
    "start_time": "2022-10-06T08:59:37.724Z"
   },
   {
    "duration": 18,
    "start_time": "2022-10-06T08:59:37.992Z"
   },
   {
    "duration": 179,
    "start_time": "2022-10-06T08:59:38.012Z"
   },
   {
    "duration": 177,
    "start_time": "2022-10-06T08:59:38.193Z"
   },
   {
    "duration": 176,
    "start_time": "2022-10-06T08:59:38.372Z"
   },
   {
    "duration": 13,
    "start_time": "2022-10-06T08:59:38.549Z"
   },
   {
    "duration": 168,
    "start_time": "2022-10-06T08:59:38.564Z"
   },
   {
    "duration": 192,
    "start_time": "2022-10-06T08:59:38.733Z"
   },
   {
    "duration": 12,
    "start_time": "2022-10-06T08:59:38.927Z"
   },
   {
    "duration": 196,
    "start_time": "2022-10-06T08:59:38.941Z"
   },
   {
    "duration": 199,
    "start_time": "2022-10-06T08:59:39.139Z"
   },
   {
    "duration": 11,
    "start_time": "2022-10-06T08:59:39.340Z"
   },
   {
    "duration": 169,
    "start_time": "2022-10-06T08:59:39.353Z"
   },
   {
    "duration": 5,
    "start_time": "2022-10-06T08:59:39.523Z"
   },
   {
    "duration": 40,
    "start_time": "2022-10-06T08:59:39.529Z"
   },
   {
    "duration": 42,
    "start_time": "2022-10-06T08:59:39.570Z"
   },
   {
    "duration": 24,
    "start_time": "2022-10-06T08:59:39.613Z"
   },
   {
    "duration": 53,
    "start_time": "2022-10-06T08:59:39.638Z"
   },
   {
    "duration": 45,
    "start_time": "2022-10-06T08:59:39.693Z"
   },
   {
    "duration": 5,
    "start_time": "2022-10-06T08:59:39.739Z"
   },
   {
    "duration": 7,
    "start_time": "2022-10-06T08:59:39.746Z"
   },
   {
    "duration": 8,
    "start_time": "2022-10-06T08:59:39.754Z"
   },
   {
    "duration": 11,
    "start_time": "2022-10-06T08:59:39.764Z"
   },
   {
    "duration": 5,
    "start_time": "2022-10-06T08:59:39.777Z"
   },
   {
    "duration": 3,
    "start_time": "2022-10-06T08:59:39.784Z"
   },
   {
    "duration": 1923,
    "start_time": "2022-10-06T08:59:39.789Z"
   },
   {
    "duration": 2896,
    "start_time": "2022-10-06T08:59:41.717Z"
   },
   {
    "duration": 12490,
    "start_time": "2022-10-06T08:59:49.331Z"
   },
   {
    "duration": 12526,
    "start_time": "2022-10-06T09:00:32.239Z"
   },
   {
    "duration": 642,
    "start_time": "2022-10-06T09:00:57.166Z"
   },
   {
    "duration": 99,
    "start_time": "2022-10-06T09:01:02.848Z"
   },
   {
    "duration": 625,
    "start_time": "2022-10-06T09:01:06.878Z"
   },
   {
    "duration": 7,
    "start_time": "2022-10-06T09:07:11.712Z"
   },
   {
    "duration": 249,
    "start_time": "2022-10-06T09:07:16.998Z"
   },
   {
    "duration": 169,
    "start_time": "2022-10-06T09:07:19.163Z"
   },
   {
    "duration": 9,
    "start_time": "2022-10-06T09:07:22.481Z"
   },
   {
    "duration": 163,
    "start_time": "2022-10-06T09:07:24.127Z"
   },
   {
    "duration": 6,
    "start_time": "2022-10-06T09:07:28.082Z"
   },
   {
    "duration": 157,
    "start_time": "2022-10-06T09:07:40.589Z"
   },
   {
    "duration": 156,
    "start_time": "2022-10-06T09:07:43.138Z"
   },
   {
    "duration": 165,
    "start_time": "2022-10-06T09:07:44.142Z"
   },
   {
    "duration": 6,
    "start_time": "2022-10-06T09:07:49.007Z"
   },
   {
    "duration": 6,
    "start_time": "2022-10-06T09:07:54.656Z"
   },
   {
    "duration": 6,
    "start_time": "2022-10-06T09:08:24.326Z"
   },
   {
    "duration": 2,
    "start_time": "2022-10-06T09:15:05.985Z"
   },
   {
    "duration": 3,
    "start_time": "2022-10-06T09:15:10.208Z"
   },
   {
    "duration": 2,
    "start_time": "2022-10-06T09:15:13.358Z"
   },
   {
    "duration": 3,
    "start_time": "2022-10-06T09:15:18.878Z"
   },
   {
    "duration": 2,
    "start_time": "2022-10-06T09:15:25.143Z"
   },
   {
    "duration": 2,
    "start_time": "2022-10-06T09:15:38.969Z"
   },
   {
    "duration": 6,
    "start_time": "2022-10-06T09:15:56.862Z"
   },
   {
    "duration": 326,
    "start_time": "2022-10-06T09:15:56.869Z"
   },
   {
    "duration": 79,
    "start_time": "2022-10-06T09:15:57.196Z"
   },
   {
    "duration": 341,
    "start_time": "2022-10-06T09:15:57.277Z"
   },
   {
    "duration": 5,
    "start_time": "2022-10-06T09:15:57.619Z"
   },
   {
    "duration": 15,
    "start_time": "2022-10-06T09:15:57.625Z"
   },
   {
    "duration": 7,
    "start_time": "2022-10-06T09:15:57.641Z"
   },
   {
    "duration": 9,
    "start_time": "2022-10-06T09:15:57.649Z"
   },
   {
    "duration": 6,
    "start_time": "2022-10-06T09:15:57.660Z"
   },
   {
    "duration": 251,
    "start_time": "2022-10-06T09:15:57.669Z"
   },
   {
    "duration": 8,
    "start_time": "2022-10-06T09:15:57.921Z"
   },
   {
    "duration": 7,
    "start_time": "2022-10-06T09:15:57.930Z"
   },
   {
    "duration": 12,
    "start_time": "2022-10-06T09:15:57.938Z"
   },
   {
    "duration": 2,
    "start_time": "2022-10-06T09:15:57.951Z"
   },
   {
    "duration": 11,
    "start_time": "2022-10-06T09:15:57.954Z"
   },
   {
    "duration": 7,
    "start_time": "2022-10-06T09:15:57.966Z"
   },
   {
    "duration": 40,
    "start_time": "2022-10-06T09:15:57.974Z"
   },
   {
    "duration": 6,
    "start_time": "2022-10-06T09:15:58.015Z"
   },
   {
    "duration": 16,
    "start_time": "2022-10-06T09:15:58.022Z"
   },
   {
    "duration": 1803,
    "start_time": "2022-10-06T09:15:58.040Z"
   },
   {
    "duration": 1912,
    "start_time": "2022-10-06T09:15:59.845Z"
   },
   {
    "duration": 1919,
    "start_time": "2022-10-06T09:16:01.759Z"
   },
   {
    "duration": 175,
    "start_time": "2022-10-06T09:16:03.679Z"
   },
   {
    "duration": 179,
    "start_time": "2022-10-06T09:16:03.856Z"
   },
   {
    "duration": 207,
    "start_time": "2022-10-06T09:16:04.036Z"
   },
   {
    "duration": 290,
    "start_time": "2022-10-06T09:16:04.244Z"
   },
   {
    "duration": 2,
    "start_time": "2022-10-06T09:16:04.536Z"
   },
   {
    "duration": 183,
    "start_time": "2022-10-06T09:16:04.542Z"
   },
   {
    "duration": 208,
    "start_time": "2022-10-06T09:16:04.727Z"
   },
   {
    "duration": 2,
    "start_time": "2022-10-06T09:16:04.937Z"
   },
   {
    "duration": 177,
    "start_time": "2022-10-06T09:16:04.940Z"
   },
   {
    "duration": 2,
    "start_time": "2022-10-06T09:16:05.119Z"
   },
   {
    "duration": 175,
    "start_time": "2022-10-06T09:16:05.122Z"
   },
   {
    "duration": 177,
    "start_time": "2022-10-06T09:16:05.298Z"
   },
   {
    "duration": 176,
    "start_time": "2022-10-06T09:16:05.477Z"
   },
   {
    "duration": 3,
    "start_time": "2022-10-06T09:16:05.654Z"
   },
   {
    "duration": 198,
    "start_time": "2022-10-06T09:16:05.658Z"
   },
   {
    "duration": 171,
    "start_time": "2022-10-06T09:16:05.858Z"
   },
   {
    "duration": 2,
    "start_time": "2022-10-06T09:16:06.031Z"
   },
   {
    "duration": 176,
    "start_time": "2022-10-06T09:16:06.035Z"
   },
   {
    "duration": 184,
    "start_time": "2022-10-06T09:16:06.212Z"
   },
   {
    "duration": 2,
    "start_time": "2022-10-06T09:16:06.398Z"
   },
   {
    "duration": 157,
    "start_time": "2022-10-06T09:16:06.408Z"
   },
   {
    "duration": 3,
    "start_time": "2022-10-06T09:16:06.567Z"
   },
   {
    "duration": 9,
    "start_time": "2022-10-06T09:16:06.572Z"
   },
   {
    "duration": 9,
    "start_time": "2022-10-06T09:16:06.583Z"
   },
   {
    "duration": 16,
    "start_time": "2022-10-06T09:16:06.593Z"
   },
   {
    "duration": 2,
    "start_time": "2022-10-06T09:16:06.610Z"
   },
   {
    "duration": 4,
    "start_time": "2022-10-06T09:16:06.614Z"
   },
   {
    "duration": 4,
    "start_time": "2022-10-06T09:16:06.619Z"
   },
   {
    "duration": 8,
    "start_time": "2022-10-06T09:16:06.624Z"
   },
   {
    "duration": 9,
    "start_time": "2022-10-06T09:16:06.633Z"
   },
   {
    "duration": 8,
    "start_time": "2022-10-06T09:16:06.643Z"
   },
   {
    "duration": 6,
    "start_time": "2022-10-06T09:16:06.652Z"
   },
   {
    "duration": 7,
    "start_time": "2022-10-06T09:16:06.659Z"
   },
   {
    "duration": 2443,
    "start_time": "2022-10-06T09:16:06.667Z"
   },
   {
    "duration": 1998,
    "start_time": "2022-10-06T09:16:09.111Z"
   },
   {
    "duration": 12508,
    "start_time": "2022-10-06T09:16:11.111Z"
   },
   {
    "duration": 669,
    "start_time": "2022-10-06T09:16:23.620Z"
   },
   {
    "duration": 636,
    "start_time": "2022-10-06T09:16:24.290Z"
   },
   {
    "duration": 1936,
    "start_time": "2022-10-06T09:16:24.927Z"
   },
   {
    "duration": 1979,
    "start_time": "2022-10-06T09:16:26.865Z"
   },
   {
    "duration": 173,
    "start_time": "2022-10-06T09:16:28.845Z"
   },
   {
    "duration": 109,
    "start_time": "2022-10-06T09:16:29.109Z"
   },
   {
    "duration": 193,
    "start_time": "2022-10-06T09:16:29.221Z"
   },
   {
    "duration": 4,
    "start_time": "2022-10-06T09:16:29.416Z"
   },
   {
    "duration": 117,
    "start_time": "2022-10-06T09:16:29.421Z"
   },
   {
    "duration": 0,
    "start_time": "2022-10-06T09:16:29.540Z"
   },
   {
    "duration": 0,
    "start_time": "2022-10-06T09:16:29.541Z"
   },
   {
    "duration": 0,
    "start_time": "2022-10-06T09:16:29.542Z"
   },
   {
    "duration": 0,
    "start_time": "2022-10-06T09:16:29.543Z"
   },
   {
    "duration": 10,
    "start_time": "2022-10-06T09:19:43.653Z"
   },
   {
    "duration": 7,
    "start_time": "2022-10-06T09:19:49.123Z"
   },
   {
    "duration": 6,
    "start_time": "2022-10-06T09:19:51.987Z"
   },
   {
    "duration": 6,
    "start_time": "2022-10-06T09:20:20.176Z"
   },
   {
    "duration": 6,
    "start_time": "2022-10-06T09:20:24.298Z"
   },
   {
    "duration": 6,
    "start_time": "2022-10-06T09:20:27.741Z"
   },
   {
    "duration": 2,
    "start_time": "2022-10-06T09:22:56.993Z"
   },
   {
    "duration": 7,
    "start_time": "2022-10-06T09:23:23.016Z"
   },
   {
    "duration": 3,
    "start_time": "2022-10-06T09:25:15.269Z"
   },
   {
    "duration": 7,
    "start_time": "2022-10-06T09:26:02.879Z"
   },
   {
    "duration": 5,
    "start_time": "2022-10-06T09:27:37.912Z"
   },
   {
    "duration": 1347,
    "start_time": "2022-10-06T09:29:03.557Z"
   },
   {
    "duration": 289,
    "start_time": "2022-10-06T09:29:04.906Z"
   },
   {
    "duration": 81,
    "start_time": "2022-10-06T09:29:05.197Z"
   },
   {
    "duration": 344,
    "start_time": "2022-10-06T09:29:05.280Z"
   },
   {
    "duration": 5,
    "start_time": "2022-10-06T09:29:05.626Z"
   },
   {
    "duration": 19,
    "start_time": "2022-10-06T09:29:05.633Z"
   },
   {
    "duration": 4,
    "start_time": "2022-10-06T09:29:05.654Z"
   },
   {
    "duration": 14,
    "start_time": "2022-10-06T09:29:05.660Z"
   },
   {
    "duration": 6,
    "start_time": "2022-10-06T09:29:05.675Z"
   },
   {
    "duration": 268,
    "start_time": "2022-10-06T09:29:05.685Z"
   },
   {
    "duration": 9,
    "start_time": "2022-10-06T09:29:05.955Z"
   },
   {
    "duration": 17,
    "start_time": "2022-10-06T09:29:05.965Z"
   },
   {
    "duration": 16,
    "start_time": "2022-10-06T09:29:05.983Z"
   },
   {
    "duration": 10,
    "start_time": "2022-10-06T09:29:06.001Z"
   },
   {
    "duration": 23,
    "start_time": "2022-10-06T09:29:06.013Z"
   },
   {
    "duration": 15,
    "start_time": "2022-10-06T09:29:06.038Z"
   },
   {
    "duration": 18,
    "start_time": "2022-10-06T09:29:06.054Z"
   },
   {
    "duration": 6,
    "start_time": "2022-10-06T09:29:06.074Z"
   },
   {
    "duration": 24,
    "start_time": "2022-10-06T09:29:06.081Z"
   },
   {
    "duration": 6,
    "start_time": "2022-10-06T09:29:06.107Z"
   },
   {
    "duration": 24,
    "start_time": "2022-10-06T09:29:06.115Z"
   },
   {
    "duration": 1832,
    "start_time": "2022-10-06T09:29:06.141Z"
   },
   {
    "duration": 2073,
    "start_time": "2022-10-06T09:29:07.974Z"
   },
   {
    "duration": 1861,
    "start_time": "2022-10-06T09:29:10.048Z"
   },
   {
    "duration": 229,
    "start_time": "2022-10-06T09:29:11.910Z"
   },
   {
    "duration": 178,
    "start_time": "2022-10-06T09:29:12.141Z"
   },
   {
    "duration": 186,
    "start_time": "2022-10-06T09:29:12.320Z"
   },
   {
    "duration": 240,
    "start_time": "2022-10-06T09:29:12.511Z"
   },
   {
    "duration": 15,
    "start_time": "2022-10-06T09:29:12.753Z"
   },
   {
    "duration": 205,
    "start_time": "2022-10-06T09:29:12.770Z"
   },
   {
    "duration": 183,
    "start_time": "2022-10-06T09:29:12.977Z"
   },
   {
    "duration": 16,
    "start_time": "2022-10-06T09:29:13.162Z"
   },
   {
    "duration": 183,
    "start_time": "2022-10-06T09:29:13.180Z"
   },
   {
    "duration": 14,
    "start_time": "2022-10-06T09:29:13.365Z"
   },
   {
    "duration": 244,
    "start_time": "2022-10-06T09:29:13.381Z"
   },
   {
    "duration": 175,
    "start_time": "2022-10-06T09:29:13.627Z"
   },
   {
    "duration": 186,
    "start_time": "2022-10-06T09:29:13.808Z"
   },
   {
    "duration": 23,
    "start_time": "2022-10-06T09:29:13.995Z"
   },
   {
    "duration": 181,
    "start_time": "2022-10-06T09:29:14.020Z"
   },
   {
    "duration": 175,
    "start_time": "2022-10-06T09:29:14.202Z"
   },
   {
    "duration": 12,
    "start_time": "2022-10-06T09:29:14.379Z"
   },
   {
    "duration": 164,
    "start_time": "2022-10-06T09:29:14.393Z"
   },
   {
    "duration": 190,
    "start_time": "2022-10-06T09:29:14.558Z"
   },
   {
    "duration": 12,
    "start_time": "2022-10-06T09:29:14.750Z"
   },
   {
    "duration": 178,
    "start_time": "2022-10-06T09:29:14.764Z"
   },
   {
    "duration": 4,
    "start_time": "2022-10-06T09:29:14.943Z"
   },
   {
    "duration": 13,
    "start_time": "2022-10-06T09:29:14.949Z"
   },
   {
    "duration": 12,
    "start_time": "2022-10-06T09:29:14.963Z"
   },
   {
    "duration": 7,
    "start_time": "2022-10-06T09:29:14.977Z"
   },
   {
    "duration": 6,
    "start_time": "2022-10-06T09:29:14.985Z"
   },
   {
    "duration": 6,
    "start_time": "2022-10-06T09:29:14.992Z"
   },
   {
    "duration": 29,
    "start_time": "2022-10-06T09:29:15.000Z"
   },
   {
    "duration": 20,
    "start_time": "2022-10-06T09:29:15.030Z"
   },
   {
    "duration": 12,
    "start_time": "2022-10-06T09:29:15.052Z"
   },
   {
    "duration": 16,
    "start_time": "2022-10-06T09:29:15.066Z"
   },
   {
    "duration": 8,
    "start_time": "2022-10-06T09:29:15.084Z"
   },
   {
    "duration": 23,
    "start_time": "2022-10-06T09:29:15.093Z"
   },
   {
    "duration": 2192,
    "start_time": "2022-10-06T09:29:15.118Z"
   },
   {
    "duration": 2308,
    "start_time": "2022-10-06T09:29:17.312Z"
   },
   {
    "duration": 12506,
    "start_time": "2022-10-06T09:29:19.622Z"
   },
   {
    "duration": 677,
    "start_time": "2022-10-06T09:29:32.130Z"
   },
   {
    "duration": 631,
    "start_time": "2022-10-06T09:29:32.809Z"
   },
   {
    "duration": 1941,
    "start_time": "2022-10-06T09:29:33.442Z"
   },
   {
    "duration": 1957,
    "start_time": "2022-10-06T09:29:35.384Z"
   },
   {
    "duration": 174,
    "start_time": "2022-10-06T09:29:37.343Z"
   },
   {
    "duration": 96,
    "start_time": "2022-10-06T09:29:37.518Z"
   },
   {
    "duration": 10,
    "start_time": "2022-10-06T09:29:41.766Z"
   },
   {
    "duration": 3,
    "start_time": "2022-10-06T09:29:42.921Z"
   },
   {
    "duration": 4,
    "start_time": "2022-10-06T09:29:43.330Z"
   },
   {
    "duration": 133,
    "start_time": "2022-10-06T09:29:55.794Z"
   },
   {
    "duration": 5,
    "start_time": "2022-10-06T09:30:14.351Z"
   },
   {
    "duration": 3,
    "start_time": "2022-10-06T09:30:40.950Z"
   },
   {
    "duration": 6,
    "start_time": "2022-10-06T09:30:54.230Z"
   },
   {
    "duration": 6,
    "start_time": "2022-10-06T09:31:00.216Z"
   },
   {
    "duration": 4,
    "start_time": "2022-10-06T09:31:02.412Z"
   },
   {
    "duration": 5,
    "start_time": "2022-10-06T09:31:28.015Z"
   },
   {
    "duration": 302,
    "start_time": "2022-10-06T09:31:28.022Z"
   },
   {
    "duration": 79,
    "start_time": "2022-10-06T09:31:28.325Z"
   },
   {
    "duration": 352,
    "start_time": "2022-10-06T09:31:28.406Z"
   },
   {
    "duration": 4,
    "start_time": "2022-10-06T09:31:28.760Z"
   },
   {
    "duration": 20,
    "start_time": "2022-10-06T09:31:28.765Z"
   },
   {
    "duration": 10,
    "start_time": "2022-10-06T09:31:28.787Z"
   },
   {
    "duration": 13,
    "start_time": "2022-10-06T09:31:28.798Z"
   },
   {
    "duration": 14,
    "start_time": "2022-10-06T09:31:28.812Z"
   },
   {
    "duration": 237,
    "start_time": "2022-10-06T09:31:28.828Z"
   },
   {
    "duration": 9,
    "start_time": "2022-10-06T09:31:29.067Z"
   },
   {
    "duration": 5,
    "start_time": "2022-10-06T09:31:29.078Z"
   },
   {
    "duration": 28,
    "start_time": "2022-10-06T09:31:29.085Z"
   },
   {
    "duration": 5,
    "start_time": "2022-10-06T09:31:29.115Z"
   },
   {
    "duration": 11,
    "start_time": "2022-10-06T09:31:29.122Z"
   },
   {
    "duration": 4,
    "start_time": "2022-10-06T09:31:29.134Z"
   },
   {
    "duration": 4,
    "start_time": "2022-10-06T09:31:38.741Z"
   },
   {
    "duration": 2,
    "start_time": "2022-10-06T09:31:38.984Z"
   },
   {
    "duration": 2,
    "start_time": "2022-10-06T09:31:39.185Z"
   },
   {
    "duration": 2,
    "start_time": "2022-10-06T09:31:39.396Z"
   },
   {
    "duration": 16,
    "start_time": "2022-10-06T09:31:39.616Z"
   },
   {
    "duration": 8,
    "start_time": "2022-10-06T09:31:39.813Z"
   },
   {
    "duration": 13,
    "start_time": "2022-10-06T09:31:40.555Z"
   },
   {
    "duration": 3,
    "start_time": "2022-10-06T09:31:56.633Z"
   },
   {
    "duration": 2,
    "start_time": "2022-10-06T09:31:56.969Z"
   },
   {
    "duration": 2,
    "start_time": "2022-10-06T09:31:57.257Z"
   },
   {
    "duration": 9,
    "start_time": "2022-10-06T09:31:57.581Z"
   },
   {
    "duration": 7,
    "start_time": "2022-10-06T09:31:58.193Z"
   },
   {
    "duration": 5,
    "start_time": "2022-10-06T09:32:45.132Z"
   },
   {
    "duration": 297,
    "start_time": "2022-10-06T09:32:45.140Z"
   },
   {
    "duration": 86,
    "start_time": "2022-10-06T09:32:45.439Z"
   },
   {
    "duration": 360,
    "start_time": "2022-10-06T09:32:45.527Z"
   },
   {
    "duration": 5,
    "start_time": "2022-10-06T09:32:45.889Z"
   },
   {
    "duration": 20,
    "start_time": "2022-10-06T09:32:45.896Z"
   },
   {
    "duration": 4,
    "start_time": "2022-10-06T09:32:45.917Z"
   },
   {
    "duration": 10,
    "start_time": "2022-10-06T09:32:45.922Z"
   },
   {
    "duration": 6,
    "start_time": "2022-10-06T09:32:45.933Z"
   },
   {
    "duration": 249,
    "start_time": "2022-10-06T09:32:45.941Z"
   },
   {
    "duration": 8,
    "start_time": "2022-10-06T09:32:46.192Z"
   },
   {
    "duration": 12,
    "start_time": "2022-10-06T09:32:46.201Z"
   },
   {
    "duration": 11,
    "start_time": "2022-10-06T09:32:46.214Z"
   },
   {
    "duration": 5,
    "start_time": "2022-10-06T09:32:46.226Z"
   },
   {
    "duration": 5,
    "start_time": "2022-10-06T09:32:46.233Z"
   },
   {
    "duration": 2,
    "start_time": "2022-10-06T09:32:46.239Z"
   },
   {
    "duration": 2,
    "start_time": "2022-10-06T09:32:48.368Z"
   },
   {
    "duration": 6,
    "start_time": "2022-10-06T09:32:48.617Z"
   },
   {
    "duration": 2,
    "start_time": "2022-10-06T09:32:50.594Z"
   },
   {
    "duration": 15,
    "start_time": "2022-10-06T09:32:50.829Z"
   },
   {
    "duration": 3,
    "start_time": "2022-10-06T09:32:52.168Z"
   },
   {
    "duration": 5,
    "start_time": "2022-10-06T09:33:09.026Z"
   },
   {
    "duration": 305,
    "start_time": "2022-10-06T09:33:09.033Z"
   },
   {
    "duration": 74,
    "start_time": "2022-10-06T09:33:09.340Z"
   },
   {
    "duration": 354,
    "start_time": "2022-10-06T09:33:09.416Z"
   },
   {
    "duration": 39,
    "start_time": "2022-10-06T09:33:09.771Z"
   },
   {
    "duration": 48,
    "start_time": "2022-10-06T09:33:09.811Z"
   },
   {
    "duration": 37,
    "start_time": "2022-10-06T09:33:09.860Z"
   },
   {
    "duration": 44,
    "start_time": "2022-10-06T09:33:09.899Z"
   },
   {
    "duration": 16,
    "start_time": "2022-10-06T09:33:09.944Z"
   },
   {
    "duration": 236,
    "start_time": "2022-10-06T09:33:09.962Z"
   },
   {
    "duration": 7,
    "start_time": "2022-10-06T09:33:10.209Z"
   },
   {
    "duration": 5,
    "start_time": "2022-10-06T09:33:10.218Z"
   },
   {
    "duration": 12,
    "start_time": "2022-10-06T09:33:10.224Z"
   },
   {
    "duration": 11,
    "start_time": "2022-10-06T09:33:10.237Z"
   },
   {
    "duration": 61,
    "start_time": "2022-10-06T09:33:10.249Z"
   },
   {
    "duration": 7,
    "start_time": "2022-10-06T09:33:10.312Z"
   },
   {
    "duration": 8,
    "start_time": "2022-10-06T09:33:10.320Z"
   },
   {
    "duration": 3,
    "start_time": "2022-10-06T09:33:10.330Z"
   },
   {
    "duration": 30,
    "start_time": "2022-10-06T09:33:10.335Z"
   },
   {
    "duration": 2,
    "start_time": "2022-10-06T09:33:10.409Z"
   },
   {
    "duration": 26,
    "start_time": "2022-10-06T09:33:10.413Z"
   },
   {
    "duration": 2225,
    "start_time": "2022-10-06T09:33:10.441Z"
   },
   {
    "duration": 1936,
    "start_time": "2022-10-06T09:33:12.668Z"
   },
   {
    "duration": 1862,
    "start_time": "2022-10-06T09:33:14.606Z"
   },
   {
    "duration": 170,
    "start_time": "2022-10-06T09:33:16.470Z"
   },
   {
    "duration": 176,
    "start_time": "2022-10-06T09:33:16.641Z"
   },
   {
    "duration": 198,
    "start_time": "2022-10-06T09:33:16.819Z"
   },
   {
    "duration": 187,
    "start_time": "2022-10-06T09:33:17.021Z"
   },
   {
    "duration": 13,
    "start_time": "2022-10-06T09:33:17.210Z"
   },
   {
    "duration": 176,
    "start_time": "2022-10-06T09:33:17.225Z"
   },
   {
    "duration": 179,
    "start_time": "2022-10-06T09:33:17.408Z"
   },
   {
    "duration": 24,
    "start_time": "2022-10-06T09:33:17.588Z"
   },
   {
    "duration": 162,
    "start_time": "2022-10-06T09:33:17.613Z"
   },
   {
    "duration": 16,
    "start_time": "2022-10-06T09:33:17.776Z"
   },
   {
    "duration": 185,
    "start_time": "2022-10-06T09:33:17.794Z"
   },
   {
    "duration": 281,
    "start_time": "2022-10-06T09:33:17.981Z"
   },
   {
    "duration": 176,
    "start_time": "2022-10-06T09:33:18.264Z"
   },
   {
    "duration": 12,
    "start_time": "2022-10-06T09:33:18.441Z"
   },
   {
    "duration": 177,
    "start_time": "2022-10-06T09:33:18.455Z"
   },
   {
    "duration": 171,
    "start_time": "2022-10-06T09:33:18.634Z"
   },
   {
    "duration": 14,
    "start_time": "2022-10-06T09:33:18.806Z"
   },
   {
    "duration": 175,
    "start_time": "2022-10-06T09:33:18.821Z"
   },
   {
    "duration": 194,
    "start_time": "2022-10-06T09:33:18.998Z"
   },
   {
    "duration": 22,
    "start_time": "2022-10-06T09:33:19.193Z"
   },
   {
    "duration": 181,
    "start_time": "2022-10-06T09:33:19.217Z"
   },
   {
    "duration": 10,
    "start_time": "2022-10-06T09:33:19.400Z"
   },
   {
    "duration": 11,
    "start_time": "2022-10-06T09:33:19.412Z"
   },
   {
    "duration": 11,
    "start_time": "2022-10-06T09:33:19.425Z"
   },
   {
    "duration": 9,
    "start_time": "2022-10-06T09:33:19.438Z"
   },
   {
    "duration": 11,
    "start_time": "2022-10-06T09:33:19.449Z"
   },
   {
    "duration": 9,
    "start_time": "2022-10-06T09:33:19.462Z"
   },
   {
    "duration": 6,
    "start_time": "2022-10-06T09:33:19.473Z"
   },
   {
    "duration": 8,
    "start_time": "2022-10-06T09:33:19.480Z"
   },
   {
    "duration": 9,
    "start_time": "2022-10-06T09:33:19.490Z"
   },
   {
    "duration": 14,
    "start_time": "2022-10-06T09:33:19.500Z"
   },
   {
    "duration": 8,
    "start_time": "2022-10-06T09:33:19.515Z"
   },
   {
    "duration": 3,
    "start_time": "2022-10-06T09:33:19.525Z"
   },
   {
    "duration": 1980,
    "start_time": "2022-10-06T09:33:19.530Z"
   },
   {
    "duration": 2397,
    "start_time": "2022-10-06T09:33:21.512Z"
   },
   {
    "duration": 12415,
    "start_time": "2022-10-06T09:33:23.911Z"
   },
   {
    "duration": 647,
    "start_time": "2022-10-06T09:33:36.328Z"
   },
   {
    "duration": 621,
    "start_time": "2022-10-06T09:33:36.977Z"
   },
   {
    "duration": 1935,
    "start_time": "2022-10-06T09:33:37.600Z"
   },
   {
    "duration": 1997,
    "start_time": "2022-10-06T09:33:39.537Z"
   },
   {
    "duration": 281,
    "start_time": "2022-10-06T09:33:41.535Z"
   },
   {
    "duration": 192,
    "start_time": "2022-10-06T09:33:41.817Z"
   },
   {
    "duration": 4,
    "start_time": "2022-10-06T09:33:42.011Z"
   },
   {
    "duration": 2,
    "start_time": "2022-10-06T09:33:46.769Z"
   },
   {
    "duration": 4,
    "start_time": "2022-10-06T09:33:47.552Z"
   },
   {
    "duration": 7,
    "start_time": "2022-10-06T09:33:50.140Z"
   },
   {
    "duration": 2,
    "start_time": "2022-10-06T09:33:56.180Z"
   },
   {
    "duration": 7,
    "start_time": "2022-10-06T09:33:57.634Z"
   },
   {
    "duration": 4,
    "start_time": "2022-10-06T09:33:58.314Z"
   },
   {
    "duration": 3,
    "start_time": "2022-10-06T09:33:59.083Z"
   },
   {
    "duration": 10,
    "start_time": "2022-10-06T09:36:09.388Z"
   },
   {
    "duration": 2,
    "start_time": "2022-10-06T09:36:38.495Z"
   },
   {
    "duration": 5,
    "start_time": "2022-10-06T09:36:55.173Z"
   },
   {
    "duration": 326,
    "start_time": "2022-10-06T09:36:55.180Z"
   },
   {
    "duration": 76,
    "start_time": "2022-10-06T09:36:55.509Z"
   },
   {
    "duration": 330,
    "start_time": "2022-10-06T09:36:55.586Z"
   },
   {
    "duration": 5,
    "start_time": "2022-10-06T09:36:55.918Z"
   },
   {
    "duration": 20,
    "start_time": "2022-10-06T09:36:55.924Z"
   },
   {
    "duration": 4,
    "start_time": "2022-10-06T09:36:55.945Z"
   },
   {
    "duration": 18,
    "start_time": "2022-10-06T09:36:55.951Z"
   },
   {
    "duration": 7,
    "start_time": "2022-10-06T09:36:55.971Z"
   },
   {
    "duration": 254,
    "start_time": "2022-10-06T09:36:55.979Z"
   },
   {
    "duration": 8,
    "start_time": "2022-10-06T09:36:56.236Z"
   },
   {
    "duration": 5,
    "start_time": "2022-10-06T09:36:56.245Z"
   },
   {
    "duration": 11,
    "start_time": "2022-10-06T09:36:56.252Z"
   },
   {
    "duration": 7,
    "start_time": "2022-10-06T09:36:56.265Z"
   },
   {
    "duration": 36,
    "start_time": "2022-10-06T09:36:56.274Z"
   },
   {
    "duration": 22,
    "start_time": "2022-10-06T09:36:56.312Z"
   },
   {
    "duration": 6,
    "start_time": "2022-10-06T09:36:56.336Z"
   },
   {
    "duration": 11,
    "start_time": "2022-10-06T09:36:56.344Z"
   },
   {
    "duration": 10,
    "start_time": "2022-10-06T09:36:56.357Z"
   },
   {
    "duration": 19,
    "start_time": "2022-10-06T09:36:56.369Z"
   },
   {
    "duration": 1973,
    "start_time": "2022-10-06T09:36:56.390Z"
   },
   {
    "duration": 1903,
    "start_time": "2022-10-06T09:36:58.365Z"
   },
   {
    "duration": 1917,
    "start_time": "2022-10-06T09:37:00.270Z"
   },
   {
    "duration": 197,
    "start_time": "2022-10-06T09:37:02.189Z"
   },
   {
    "duration": 209,
    "start_time": "2022-10-06T09:37:02.388Z"
   },
   {
    "duration": 387,
    "start_time": "2022-10-06T09:37:02.599Z"
   },
   {
    "duration": 216,
    "start_time": "2022-10-06T09:37:02.988Z"
   },
   {
    "duration": 12,
    "start_time": "2022-10-06T09:37:03.208Z"
   },
   {
    "duration": 208,
    "start_time": "2022-10-06T09:37:03.224Z"
   },
   {
    "duration": 181,
    "start_time": "2022-10-06T09:37:03.434Z"
   },
   {
    "duration": 16,
    "start_time": "2022-10-06T09:37:03.617Z"
   },
   {
    "duration": 217,
    "start_time": "2022-10-06T09:37:03.635Z"
   },
   {
    "duration": 14,
    "start_time": "2022-10-06T09:37:03.854Z"
   },
   {
    "duration": 204,
    "start_time": "2022-10-06T09:37:03.870Z"
   },
   {
    "duration": 184,
    "start_time": "2022-10-06T09:37:04.075Z"
   },
   {
    "duration": 174,
    "start_time": "2022-10-06T09:37:04.260Z"
   },
   {
    "duration": 12,
    "start_time": "2022-10-06T09:37:04.435Z"
   },
   {
    "duration": 185,
    "start_time": "2022-10-06T09:37:04.449Z"
   },
   {
    "duration": 176,
    "start_time": "2022-10-06T09:37:04.635Z"
   },
   {
    "duration": 14,
    "start_time": "2022-10-06T09:37:04.812Z"
   },
   {
    "duration": 194,
    "start_time": "2022-10-06T09:37:04.828Z"
   },
   {
    "duration": 191,
    "start_time": "2022-10-06T09:37:05.024Z"
   },
   {
    "duration": 15,
    "start_time": "2022-10-06T09:37:05.217Z"
   },
   {
    "duration": 178,
    "start_time": "2022-10-06T09:37:05.234Z"
   },
   {
    "duration": 5,
    "start_time": "2022-10-06T09:37:05.413Z"
   },
   {
    "duration": 24,
    "start_time": "2022-10-06T09:37:05.420Z"
   },
   {
    "duration": 15,
    "start_time": "2022-10-06T09:37:05.446Z"
   },
   {
    "duration": 6,
    "start_time": "2022-10-06T09:37:05.463Z"
   },
   {
    "duration": 19,
    "start_time": "2022-10-06T09:37:05.470Z"
   },
   {
    "duration": 14,
    "start_time": "2022-10-06T09:37:05.491Z"
   },
   {
    "duration": 9,
    "start_time": "2022-10-06T09:37:05.507Z"
   },
   {
    "duration": 11,
    "start_time": "2022-10-06T09:37:05.517Z"
   },
   {
    "duration": 9,
    "start_time": "2022-10-06T09:37:05.530Z"
   },
   {
    "duration": 15,
    "start_time": "2022-10-06T09:37:05.540Z"
   },
   {
    "duration": 18,
    "start_time": "2022-10-06T09:37:05.557Z"
   },
   {
    "duration": 2,
    "start_time": "2022-10-06T09:37:07.722Z"
   },
   {
    "duration": 2746,
    "start_time": "2022-10-06T09:37:09.569Z"
   },
   {
    "duration": 2518,
    "start_time": "2022-10-06T09:37:15.292Z"
   },
   {
    "duration": 5,
    "start_time": "2022-10-06T09:37:38.525Z"
   },
   {
    "duration": 303,
    "start_time": "2022-10-06T09:37:38.532Z"
   },
   {
    "duration": 83,
    "start_time": "2022-10-06T09:37:38.837Z"
   },
   {
    "duration": 325,
    "start_time": "2022-10-06T09:37:38.922Z"
   },
   {
    "duration": 4,
    "start_time": "2022-10-06T09:37:39.250Z"
   },
   {
    "duration": 26,
    "start_time": "2022-10-06T09:37:39.256Z"
   },
   {
    "duration": 20,
    "start_time": "2022-10-06T09:37:39.283Z"
   },
   {
    "duration": 28,
    "start_time": "2022-10-06T09:37:39.305Z"
   },
   {
    "duration": 46,
    "start_time": "2022-10-06T09:37:39.335Z"
   },
   {
    "duration": 239,
    "start_time": "2022-10-06T09:37:39.383Z"
   },
   {
    "duration": 8,
    "start_time": "2022-10-06T09:37:39.625Z"
   },
   {
    "duration": 25,
    "start_time": "2022-10-06T09:37:39.635Z"
   },
   {
    "duration": 41,
    "start_time": "2022-10-06T09:37:39.663Z"
   },
   {
    "duration": 16,
    "start_time": "2022-10-06T09:37:39.705Z"
   },
   {
    "duration": 18,
    "start_time": "2022-10-06T09:37:39.723Z"
   },
   {
    "duration": 26,
    "start_time": "2022-10-06T09:37:39.742Z"
   },
   {
    "duration": 6,
    "start_time": "2022-10-06T09:37:39.770Z"
   },
   {
    "duration": 18,
    "start_time": "2022-10-06T09:37:39.777Z"
   },
   {
    "duration": 23,
    "start_time": "2022-10-06T09:37:39.797Z"
   },
   {
    "duration": 26,
    "start_time": "2022-10-06T09:37:39.822Z"
   },
   {
    "duration": 2097,
    "start_time": "2022-10-06T09:37:39.849Z"
   },
   {
    "duration": 2019,
    "start_time": "2022-10-06T09:37:41.948Z"
   },
   {
    "duration": 1907,
    "start_time": "2022-10-06T09:37:43.969Z"
   },
   {
    "duration": 196,
    "start_time": "2022-10-06T09:37:45.878Z"
   },
   {
    "duration": 188,
    "start_time": "2022-10-06T09:37:46.076Z"
   },
   {
    "duration": 190,
    "start_time": "2022-10-06T09:37:46.266Z"
   },
   {
    "duration": 184,
    "start_time": "2022-10-06T09:37:46.457Z"
   },
   {
    "duration": 12,
    "start_time": "2022-10-06T09:37:46.643Z"
   },
   {
    "duration": 183,
    "start_time": "2022-10-06T09:37:46.657Z"
   },
   {
    "duration": 195,
    "start_time": "2022-10-06T09:37:46.842Z"
   },
   {
    "duration": 12,
    "start_time": "2022-10-06T09:37:47.040Z"
   },
   {
    "duration": 180,
    "start_time": "2022-10-06T09:37:47.054Z"
   },
   {
    "duration": 9,
    "start_time": "2022-10-06T09:37:47.236Z"
   },
   {
    "duration": 177,
    "start_time": "2022-10-06T09:37:47.247Z"
   },
   {
    "duration": 178,
    "start_time": "2022-10-06T09:37:47.425Z"
   },
   {
    "duration": 175,
    "start_time": "2022-10-06T09:37:47.608Z"
   },
   {
    "duration": 10,
    "start_time": "2022-10-06T09:37:47.786Z"
   },
   {
    "duration": 189,
    "start_time": "2022-10-06T09:37:47.798Z"
   },
   {
    "duration": 193,
    "start_time": "2022-10-06T09:37:47.988Z"
   },
   {
    "duration": 11,
    "start_time": "2022-10-06T09:37:48.183Z"
   },
   {
    "duration": 177,
    "start_time": "2022-10-06T09:37:48.209Z"
   },
   {
    "duration": 193,
    "start_time": "2022-10-06T09:37:48.387Z"
   },
   {
    "duration": 10,
    "start_time": "2022-10-06T09:37:48.581Z"
   },
   {
    "duration": 187,
    "start_time": "2022-10-06T09:37:48.592Z"
   },
   {
    "duration": 4,
    "start_time": "2022-10-06T09:37:48.780Z"
   },
   {
    "duration": 7,
    "start_time": "2022-10-06T09:37:48.786Z"
   },
   {
    "duration": 14,
    "start_time": "2022-10-06T09:37:48.795Z"
   },
   {
    "duration": 3,
    "start_time": "2022-10-06T09:37:48.811Z"
   },
   {
    "duration": 7,
    "start_time": "2022-10-06T09:37:48.816Z"
   },
   {
    "duration": 10,
    "start_time": "2022-10-06T09:37:48.825Z"
   },
   {
    "duration": 7,
    "start_time": "2022-10-06T09:37:48.837Z"
   },
   {
    "duration": 9,
    "start_time": "2022-10-06T09:37:48.846Z"
   },
   {
    "duration": 15,
    "start_time": "2022-10-06T09:37:48.857Z"
   },
   {
    "duration": 18,
    "start_time": "2022-10-06T09:37:48.874Z"
   },
   {
    "duration": 16,
    "start_time": "2022-10-06T09:37:48.894Z"
   },
   {
    "duration": 6,
    "start_time": "2022-10-06T09:37:48.912Z"
   },
   {
    "duration": 3293,
    "start_time": "2022-10-06T09:37:48.920Z"
   },
   {
    "duration": 4007,
    "start_time": "2022-10-06T09:37:52.215Z"
   },
   {
    "duration": 16397,
    "start_time": "2022-10-06T09:37:56.310Z"
   },
   {
    "duration": 846,
    "start_time": "2022-10-06T09:38:12.709Z"
   },
   {
    "duration": 845,
    "start_time": "2022-10-06T09:38:13.556Z"
   },
   {
    "duration": 2649,
    "start_time": "2022-10-06T09:38:14.403Z"
   },
   {
    "duration": 2639,
    "start_time": "2022-10-06T09:38:17.053Z"
   },
   {
    "duration": 422,
    "start_time": "2022-10-06T09:38:19.694Z"
   },
   {
    "duration": 98,
    "start_time": "2022-10-06T09:38:20.118Z"
   },
   {
    "duration": 191,
    "start_time": "2022-10-06T09:38:20.218Z"
   },
   {
    "duration": 34,
    "start_time": "2022-10-06T09:38:20.411Z"
   },
   {
    "duration": 28,
    "start_time": "2022-10-06T09:38:20.448Z"
   },
   {
    "duration": 24,
    "start_time": "2022-10-06T09:38:20.478Z"
   },
   {
    "duration": 33,
    "start_time": "2022-10-06T09:38:20.504Z"
   },
   {
    "duration": 22,
    "start_time": "2022-10-06T09:38:20.539Z"
   },
   {
    "duration": 4,
    "start_time": "2022-10-06T09:38:24.439Z"
   },
   {
    "duration": 3,
    "start_time": "2022-10-06T09:38:24.972Z"
   },
   {
    "duration": 5,
    "start_time": "2022-10-06T09:38:55.515Z"
   },
   {
    "duration": 2,
    "start_time": "2022-10-06T09:39:17.516Z"
   },
   {
    "duration": 5,
    "start_time": "2022-10-06T09:39:18.769Z"
   },
   {
    "duration": 12,
    "start_time": "2022-10-06T09:39:18.970Z"
   },
   {
    "duration": 10,
    "start_time": "2022-10-06T09:39:19.305Z"
   },
   {
    "duration": 2,
    "start_time": "2022-10-06T09:39:19.809Z"
   },
   {
    "duration": 4,
    "start_time": "2022-10-06T09:39:33.392Z"
   },
   {
    "duration": 267,
    "start_time": "2022-10-06T09:39:33.398Z"
   },
   {
    "duration": 77,
    "start_time": "2022-10-06T09:39:33.667Z"
   },
   {
    "duration": 317,
    "start_time": "2022-10-06T09:39:33.746Z"
   },
   {
    "duration": 4,
    "start_time": "2022-10-06T09:39:34.065Z"
   },
   {
    "duration": 51,
    "start_time": "2022-10-06T09:39:34.070Z"
   },
   {
    "duration": 28,
    "start_time": "2022-10-06T09:39:34.123Z"
   },
   {
    "duration": 55,
    "start_time": "2022-10-06T09:39:34.152Z"
   },
   {
    "duration": 31,
    "start_time": "2022-10-06T09:39:34.209Z"
   },
   {
    "duration": 264,
    "start_time": "2022-10-06T09:39:34.241Z"
   },
   {
    "duration": 7,
    "start_time": "2022-10-06T09:39:34.508Z"
   },
   {
    "duration": 39,
    "start_time": "2022-10-06T09:39:34.517Z"
   },
   {
    "duration": 65,
    "start_time": "2022-10-06T09:39:34.557Z"
   },
   {
    "duration": 25,
    "start_time": "2022-10-06T09:39:34.623Z"
   },
   {
    "duration": 19,
    "start_time": "2022-10-06T09:39:34.650Z"
   },
   {
    "duration": 36,
    "start_time": "2022-10-06T09:39:34.670Z"
   },
   {
    "duration": 26,
    "start_time": "2022-10-06T09:39:34.708Z"
   },
   {
    "duration": 32,
    "start_time": "2022-10-06T09:39:34.735Z"
   },
   {
    "duration": 35,
    "start_time": "2022-10-06T09:39:34.768Z"
   },
   {
    "duration": 23,
    "start_time": "2022-10-06T09:39:34.805Z"
   },
   {
    "duration": 2212,
    "start_time": "2022-10-06T09:39:34.829Z"
   },
   {
    "duration": 2168,
    "start_time": "2022-10-06T09:39:37.043Z"
   },
   {
    "duration": 2216,
    "start_time": "2022-10-06T09:39:39.213Z"
   },
   {
    "duration": 184,
    "start_time": "2022-10-06T09:39:41.431Z"
   },
   {
    "duration": 210,
    "start_time": "2022-10-06T09:39:41.617Z"
   },
   {
    "duration": 198,
    "start_time": "2022-10-06T09:39:41.828Z"
   },
   {
    "duration": 186,
    "start_time": "2022-10-06T09:39:42.027Z"
   },
   {
    "duration": 10,
    "start_time": "2022-10-06T09:39:42.214Z"
   },
   {
    "duration": 193,
    "start_time": "2022-10-06T09:39:42.228Z"
   },
   {
    "duration": 217,
    "start_time": "2022-10-06T09:39:42.422Z"
   },
   {
    "duration": 14,
    "start_time": "2022-10-06T09:39:42.641Z"
   },
   {
    "duration": 193,
    "start_time": "2022-10-06T09:39:42.659Z"
   },
   {
    "duration": 12,
    "start_time": "2022-10-06T09:39:42.853Z"
   },
   {
    "duration": 178,
    "start_time": "2022-10-06T09:39:42.867Z"
   },
   {
    "duration": 185,
    "start_time": "2022-10-06T09:39:43.047Z"
   },
   {
    "duration": 177,
    "start_time": "2022-10-06T09:39:43.233Z"
   },
   {
    "duration": 12,
    "start_time": "2022-10-06T09:39:43.412Z"
   },
   {
    "duration": 179,
    "start_time": "2022-10-06T09:39:43.426Z"
   },
   {
    "duration": 176,
    "start_time": "2022-10-06T09:39:43.609Z"
   },
   {
    "duration": 13,
    "start_time": "2022-10-06T09:39:43.786Z"
   },
   {
    "duration": 192,
    "start_time": "2022-10-06T09:39:43.801Z"
   },
   {
    "duration": 184,
    "start_time": "2022-10-06T09:39:43.995Z"
   },
   {
    "duration": 13,
    "start_time": "2022-10-06T09:39:44.181Z"
   },
   {
    "duration": 174,
    "start_time": "2022-10-06T09:39:44.196Z"
   },
   {
    "duration": 4,
    "start_time": "2022-10-06T09:39:44.371Z"
   },
   {
    "duration": 6,
    "start_time": "2022-10-06T09:39:44.377Z"
   },
   {
    "duration": 21,
    "start_time": "2022-10-06T09:39:44.385Z"
   },
   {
    "duration": 18,
    "start_time": "2022-10-06T09:39:44.407Z"
   },
   {
    "duration": 12,
    "start_time": "2022-10-06T09:39:44.426Z"
   },
   {
    "duration": 13,
    "start_time": "2022-10-06T09:39:44.439Z"
   },
   {
    "duration": 12,
    "start_time": "2022-10-06T09:39:44.454Z"
   },
   {
    "duration": 17,
    "start_time": "2022-10-06T09:39:44.467Z"
   },
   {
    "duration": 17,
    "start_time": "2022-10-06T09:39:44.486Z"
   },
   {
    "duration": 18,
    "start_time": "2022-10-06T09:39:44.505Z"
   },
   {
    "duration": 17,
    "start_time": "2022-10-06T09:39:44.524Z"
   },
   {
    "duration": 13,
    "start_time": "2022-10-06T09:39:44.542Z"
   },
   {
    "duration": 2468,
    "start_time": "2022-10-06T09:39:44.556Z"
   },
   {
    "duration": 4316,
    "start_time": "2022-10-06T09:39:47.111Z"
   },
   {
    "duration": 12866,
    "start_time": "2022-10-06T09:39:51.429Z"
   },
   {
    "duration": 656,
    "start_time": "2022-10-06T09:40:04.297Z"
   },
   {
    "duration": 637,
    "start_time": "2022-10-06T09:40:04.955Z"
   },
   {
    "duration": 1980,
    "start_time": "2022-10-06T09:40:05.594Z"
   },
   {
    "duration": 2009,
    "start_time": "2022-10-06T09:40:07.576Z"
   },
   {
    "duration": 1244,
    "start_time": "2022-10-06T09:40:09.587Z"
   },
   {
    "duration": 178,
    "start_time": "2022-10-06T09:40:10.833Z"
   },
   {
    "duration": 11,
    "start_time": "2022-10-06T09:40:11.015Z"
   },
   {
    "duration": 91,
    "start_time": "2022-10-06T09:40:11.028Z"
   },
   {
    "duration": 5,
    "start_time": "2022-10-06T09:40:11.122Z"
   },
   {
    "duration": 7,
    "start_time": "2022-10-06T09:40:11.129Z"
   },
   {
    "duration": 11,
    "start_time": "2022-10-06T09:40:11.137Z"
   },
   {
    "duration": 4,
    "start_time": "2022-10-06T09:40:11.149Z"
   },
   {
    "duration": 5,
    "start_time": "2022-10-06T09:40:11.155Z"
   },
   {
    "duration": 3,
    "start_time": "2022-10-06T09:44:11.964Z"
   },
   {
    "duration": 2992,
    "start_time": "2022-10-06T09:44:15.727Z"
   },
   {
    "duration": 2458,
    "start_time": "2022-10-06T09:44:22.952Z"
   },
   {
    "duration": 4,
    "start_time": "2022-10-06T09:44:34.584Z"
   },
   {
    "duration": 316,
    "start_time": "2022-10-06T09:44:34.590Z"
   },
   {
    "duration": 80,
    "start_time": "2022-10-06T09:44:34.909Z"
   },
   {
    "duration": 346,
    "start_time": "2022-10-06T09:44:34.990Z"
   },
   {
    "duration": 5,
    "start_time": "2022-10-06T09:44:35.337Z"
   },
   {
    "duration": 24,
    "start_time": "2022-10-06T09:44:35.343Z"
   },
   {
    "duration": 9,
    "start_time": "2022-10-06T09:44:35.368Z"
   },
   {
    "duration": 12,
    "start_time": "2022-10-06T09:44:35.379Z"
   },
   {
    "duration": 7,
    "start_time": "2022-10-06T09:44:35.393Z"
   },
   {
    "duration": 247,
    "start_time": "2022-10-06T09:44:35.409Z"
   },
   {
    "duration": 8,
    "start_time": "2022-10-06T09:44:35.659Z"
   },
   {
    "duration": 40,
    "start_time": "2022-10-06T09:44:35.669Z"
   },
   {
    "duration": 20,
    "start_time": "2022-10-06T09:44:35.711Z"
   },
   {
    "duration": 20,
    "start_time": "2022-10-06T09:44:35.733Z"
   },
   {
    "duration": 8,
    "start_time": "2022-10-06T09:44:35.754Z"
   },
   {
    "duration": 18,
    "start_time": "2022-10-06T09:44:35.763Z"
   },
   {
    "duration": 23,
    "start_time": "2022-10-06T09:44:35.782Z"
   },
   {
    "duration": 41,
    "start_time": "2022-10-06T09:44:35.806Z"
   },
   {
    "duration": 16,
    "start_time": "2022-10-06T09:44:35.849Z"
   },
   {
    "duration": 10,
    "start_time": "2022-10-06T09:44:35.867Z"
   },
   {
    "duration": 2156,
    "start_time": "2022-10-06T09:44:35.879Z"
   },
   {
    "duration": 2176,
    "start_time": "2022-10-06T09:44:38.036Z"
   },
   {
    "duration": 2279,
    "start_time": "2022-10-06T09:44:40.213Z"
   },
   {
    "duration": 525,
    "start_time": "2022-10-06T09:44:42.494Z"
   },
   {
    "duration": 190,
    "start_time": "2022-10-06T09:44:43.020Z"
   },
   {
    "duration": 197,
    "start_time": "2022-10-06T09:44:43.212Z"
   },
   {
    "duration": 185,
    "start_time": "2022-10-06T09:44:43.410Z"
   },
   {
    "duration": 15,
    "start_time": "2022-10-06T09:44:43.597Z"
   },
   {
    "duration": 173,
    "start_time": "2022-10-06T09:44:43.616Z"
   },
   {
    "duration": 232,
    "start_time": "2022-10-06T09:44:43.791Z"
   },
   {
    "duration": 14,
    "start_time": "2022-10-06T09:44:44.025Z"
   },
   {
    "duration": 210,
    "start_time": "2022-10-06T09:44:44.040Z"
   },
   {
    "duration": 11,
    "start_time": "2022-10-06T09:44:44.252Z"
   },
   {
    "duration": 193,
    "start_time": "2022-10-06T09:44:44.264Z"
   },
   {
    "duration": 223,
    "start_time": "2022-10-06T09:44:44.460Z"
   },
   {
    "duration": 215,
    "start_time": "2022-10-06T09:44:44.685Z"
   },
   {
    "duration": 11,
    "start_time": "2022-10-06T09:44:44.902Z"
   },
   {
    "duration": 199,
    "start_time": "2022-10-06T09:44:44.915Z"
   },
   {
    "duration": 170,
    "start_time": "2022-10-06T09:44:45.116Z"
   },
   {
    "duration": 26,
    "start_time": "2022-10-06T09:44:45.288Z"
   },
   {
    "duration": 166,
    "start_time": "2022-10-06T09:44:45.315Z"
   },
   {
    "duration": 176,
    "start_time": "2022-10-06T09:44:45.483Z"
   },
   {
    "duration": 13,
    "start_time": "2022-10-06T09:44:45.661Z"
   },
   {
    "duration": 194,
    "start_time": "2022-10-06T09:44:45.676Z"
   },
   {
    "duration": 4,
    "start_time": "2022-10-06T09:44:45.872Z"
   },
   {
    "duration": 8,
    "start_time": "2022-10-06T09:44:45.878Z"
   },
   {
    "duration": 23,
    "start_time": "2022-10-06T09:44:45.887Z"
   },
   {
    "duration": 7,
    "start_time": "2022-10-06T09:44:45.911Z"
   },
   {
    "duration": 8,
    "start_time": "2022-10-06T09:44:45.920Z"
   },
   {
    "duration": 8,
    "start_time": "2022-10-06T09:44:45.929Z"
   },
   {
    "duration": 6,
    "start_time": "2022-10-06T09:44:45.938Z"
   },
   {
    "duration": 6,
    "start_time": "2022-10-06T09:44:45.945Z"
   },
   {
    "duration": 8,
    "start_time": "2022-10-06T09:44:45.952Z"
   },
   {
    "duration": 11,
    "start_time": "2022-10-06T09:44:45.962Z"
   },
   {
    "duration": 8,
    "start_time": "2022-10-06T09:44:45.975Z"
   },
   {
    "duration": 6,
    "start_time": "2022-10-06T09:44:45.984Z"
   },
   {
    "duration": 2319,
    "start_time": "2022-10-06T09:44:45.991Z"
   },
   {
    "duration": 2605,
    "start_time": "2022-10-06T09:44:48.313Z"
   },
   {
    "duration": 12638,
    "start_time": "2022-10-06T09:44:50.922Z"
   },
   {
    "duration": 685,
    "start_time": "2022-10-06T09:45:03.562Z"
   },
   {
    "duration": 640,
    "start_time": "2022-10-06T09:45:04.249Z"
   },
   {
    "duration": 1926,
    "start_time": "2022-10-06T09:45:04.891Z"
   },
   {
    "duration": 1977,
    "start_time": "2022-10-06T09:45:06.819Z"
   },
   {
    "duration": 315,
    "start_time": "2022-10-06T09:45:08.798Z"
   },
   {
    "duration": 195,
    "start_time": "2022-10-06T09:45:09.115Z"
   },
   {
    "duration": 105,
    "start_time": "2022-10-06T09:45:09.311Z"
   },
   {
    "duration": 9,
    "start_time": "2022-10-06T09:45:09.417Z"
   },
   {
    "duration": 8,
    "start_time": "2022-10-06T09:45:09.427Z"
   },
   {
    "duration": 3,
    "start_time": "2022-10-06T09:45:09.437Z"
   },
   {
    "duration": 19,
    "start_time": "2022-10-06T09:45:09.442Z"
   },
   {
    "duration": 48,
    "start_time": "2022-10-06T09:45:09.462Z"
   },
   {
    "duration": 4,
    "start_time": "2022-10-06T09:45:13.040Z"
   },
   {
    "duration": 3,
    "start_time": "2022-10-06T09:45:13.314Z"
   },
   {
    "duration": 3,
    "start_time": "2022-10-06T09:45:28.714Z"
   },
   {
    "duration": 2706,
    "start_time": "2022-10-06T09:45:30.116Z"
   },
   {
    "duration": 48,
    "start_time": "2022-10-06T09:47:44.163Z"
   },
   {
    "duration": 6,
    "start_time": "2022-10-06T09:51:24.398Z"
   },
   {
    "duration": 6,
    "start_time": "2022-10-06T09:51:32.934Z"
   },
   {
    "duration": 300,
    "start_time": "2022-10-06T09:51:32.942Z"
   },
   {
    "duration": 92,
    "start_time": "2022-10-06T09:51:33.244Z"
   },
   {
    "duration": 336,
    "start_time": "2022-10-06T09:51:33.338Z"
   },
   {
    "duration": 5,
    "start_time": "2022-10-06T09:51:33.676Z"
   },
   {
    "duration": 16,
    "start_time": "2022-10-06T09:51:33.682Z"
   },
   {
    "duration": 3,
    "start_time": "2022-10-06T09:51:33.708Z"
   },
   {
    "duration": 10,
    "start_time": "2022-10-06T09:51:33.712Z"
   },
   {
    "duration": 6,
    "start_time": "2022-10-06T09:51:33.724Z"
   },
   {
    "duration": 252,
    "start_time": "2022-10-06T09:51:33.732Z"
   },
   {
    "duration": 7,
    "start_time": "2022-10-06T09:51:33.986Z"
   },
   {
    "duration": 16,
    "start_time": "2022-10-06T09:51:33.994Z"
   },
   {
    "duration": 7,
    "start_time": "2022-10-06T09:51:34.011Z"
   },
   {
    "duration": 5,
    "start_time": "2022-10-06T09:51:34.019Z"
   },
   {
    "duration": 11,
    "start_time": "2022-10-06T09:51:34.025Z"
   },
   {
    "duration": 4,
    "start_time": "2022-10-06T09:51:34.038Z"
   },
   {
    "duration": 8,
    "start_time": "2022-10-06T09:51:34.043Z"
   },
   {
    "duration": 16,
    "start_time": "2022-10-06T09:51:34.053Z"
   },
   {
    "duration": 14,
    "start_time": "2022-10-06T09:51:34.070Z"
   },
   {
    "duration": 2,
    "start_time": "2022-10-06T09:51:34.109Z"
   },
   {
    "duration": 2174,
    "start_time": "2022-10-06T09:51:34.113Z"
   },
   {
    "duration": 2215,
    "start_time": "2022-10-06T09:51:36.288Z"
   },
   {
    "duration": 2221,
    "start_time": "2022-10-06T09:51:38.505Z"
   },
   {
    "duration": 186,
    "start_time": "2022-10-06T09:51:40.727Z"
   },
   {
    "duration": 187,
    "start_time": "2022-10-06T09:51:40.915Z"
   },
   {
    "duration": 188,
    "start_time": "2022-10-06T09:51:41.108Z"
   },
   {
    "duration": 189,
    "start_time": "2022-10-06T09:51:41.298Z"
   },
   {
    "duration": 29,
    "start_time": "2022-10-06T09:51:41.491Z"
   },
   {
    "duration": 191,
    "start_time": "2022-10-06T09:51:41.521Z"
   },
   {
    "duration": 447,
    "start_time": "2022-10-06T09:51:41.714Z"
   },
   {
    "duration": 13,
    "start_time": "2022-10-06T09:51:42.162Z"
   },
   {
    "duration": 158,
    "start_time": "2022-10-06T09:51:42.177Z"
   },
   {
    "duration": 16,
    "start_time": "2022-10-06T09:51:42.336Z"
   },
   {
    "duration": 183,
    "start_time": "2022-10-06T09:51:42.354Z"
   },
   {
    "duration": 229,
    "start_time": "2022-10-06T09:51:42.539Z"
   },
   {
    "duration": 181,
    "start_time": "2022-10-06T09:51:42.769Z"
   },
   {
    "duration": 14,
    "start_time": "2022-10-06T09:51:42.952Z"
   },
   {
    "duration": 191,
    "start_time": "2022-10-06T09:51:42.967Z"
   },
   {
    "duration": 180,
    "start_time": "2022-10-06T09:51:43.159Z"
   },
   {
    "duration": 13,
    "start_time": "2022-10-06T09:51:43.341Z"
   },
   {
    "duration": 171,
    "start_time": "2022-10-06T09:51:43.355Z"
   },
   {
    "duration": 182,
    "start_time": "2022-10-06T09:51:43.528Z"
   },
   {
    "duration": 19,
    "start_time": "2022-10-06T09:51:43.712Z"
   },
   {
    "duration": 183,
    "start_time": "2022-10-06T09:51:43.733Z"
   },
   {
    "duration": 6,
    "start_time": "2022-10-06T09:51:43.918Z"
   },
   {
    "duration": 9,
    "start_time": "2022-10-06T09:51:43.926Z"
   },
   {
    "duration": 9,
    "start_time": "2022-10-06T09:51:43.937Z"
   },
   {
    "duration": 5,
    "start_time": "2022-10-06T09:51:43.948Z"
   },
   {
    "duration": 9,
    "start_time": "2022-10-06T09:51:43.955Z"
   },
   {
    "duration": 7,
    "start_time": "2022-10-06T09:51:43.966Z"
   },
   {
    "duration": 11,
    "start_time": "2022-10-06T09:51:43.975Z"
   },
   {
    "duration": 7,
    "start_time": "2022-10-06T09:51:43.987Z"
   },
   {
    "duration": 7,
    "start_time": "2022-10-06T09:51:44.008Z"
   },
   {
    "duration": 6,
    "start_time": "2022-10-06T09:51:44.016Z"
   },
   {
    "duration": 8,
    "start_time": "2022-10-06T09:51:44.024Z"
   },
   {
    "duration": 5,
    "start_time": "2022-10-06T09:51:44.033Z"
   },
   {
    "duration": 2174,
    "start_time": "2022-10-06T09:51:44.039Z"
   },
   {
    "duration": 2394,
    "start_time": "2022-10-06T09:51:46.215Z"
   },
   {
    "duration": 12350,
    "start_time": "2022-10-06T09:51:48.611Z"
   },
   {
    "duration": 637,
    "start_time": "2022-10-06T09:52:00.963Z"
   },
   {
    "duration": 631,
    "start_time": "2022-10-06T09:52:01.602Z"
   },
   {
    "duration": 1965,
    "start_time": "2022-10-06T09:52:02.235Z"
   },
   {
    "duration": 1965,
    "start_time": "2022-10-06T09:52:04.202Z"
   },
   {
    "duration": 148,
    "start_time": "2022-10-06T09:52:06.169Z"
   },
   {
    "duration": 99,
    "start_time": "2022-10-06T09:52:06.318Z"
   },
   {
    "duration": 104,
    "start_time": "2022-10-06T09:52:06.419Z"
   },
   {
    "duration": 85,
    "start_time": "2022-10-06T09:52:06.525Z"
   },
   {
    "duration": 5,
    "start_time": "2022-10-06T09:52:06.611Z"
   },
   {
    "duration": 19,
    "start_time": "2022-10-06T09:52:06.617Z"
   },
   {
    "duration": 21,
    "start_time": "2022-10-06T09:52:06.637Z"
   },
   {
    "duration": 29,
    "start_time": "2022-10-06T09:52:06.659Z"
   },
   {
    "duration": 17,
    "start_time": "2022-10-06T09:52:06.689Z"
   },
   {
    "duration": 11,
    "start_time": "2022-10-06T09:52:39.523Z"
   },
   {
    "duration": 5,
    "start_time": "2022-10-06T09:52:46.187Z"
   },
   {
    "duration": 5,
    "start_time": "2022-10-06T09:52:46.790Z"
   },
   {
    "duration": 4,
    "start_time": "2022-10-06T09:52:47.033Z"
   },
   {
    "duration": 4,
    "start_time": "2022-10-06T09:52:48.219Z"
   },
   {
    "duration": 3,
    "start_time": "2022-10-06T09:52:48.497Z"
   },
   {
    "duration": 3,
    "start_time": "2022-10-06T09:52:49.212Z"
   },
   {
    "duration": 3,
    "start_time": "2022-10-06T09:52:49.721Z"
   },
   {
    "duration": 4,
    "start_time": "2022-10-06T09:52:50.761Z"
   },
   {
    "duration": 7,
    "start_time": "2022-10-06T09:52:51.280Z"
   },
   {
    "duration": 7,
    "start_time": "2022-10-06T09:52:51.826Z"
   },
   {
    "duration": 4,
    "start_time": "2022-10-06T09:52:52.467Z"
   },
   {
    "duration": 3,
    "start_time": "2022-10-06T09:52:55.841Z"
   },
   {
    "duration": 2501,
    "start_time": "2022-10-06T09:52:56.816Z"
   },
   {
    "duration": 2392,
    "start_time": "2022-10-06T09:52:59.318Z"
   },
   {
    "duration": 12641,
    "start_time": "2022-10-06T09:53:04.325Z"
   },
   {
    "duration": 642,
    "start_time": "2022-10-06T09:53:16.968Z"
   },
   {
    "duration": 629,
    "start_time": "2022-10-06T09:53:17.612Z"
   },
   {
    "duration": 1954,
    "start_time": "2022-10-06T09:53:22.269Z"
   },
   {
    "duration": 1997,
    "start_time": "2022-10-06T09:53:31.434Z"
   },
   {
    "duration": 58,
    "start_time": "2022-10-06T09:53:38.159Z"
   },
   {
    "duration": 11,
    "start_time": "2022-10-06T09:53:40.087Z"
   },
   {
    "duration": 2,
    "start_time": "2022-10-06T09:53:40.417Z"
   },
   {
    "duration": 4,
    "start_time": "2022-10-06T09:53:40.780Z"
   },
   {
    "duration": 6,
    "start_time": "2022-10-06T09:53:41.896Z"
   },
   {
    "duration": 2,
    "start_time": "2022-10-06T09:53:43.351Z"
   },
   {
    "duration": 7,
    "start_time": "2022-10-06T09:53:44.353Z"
   },
   {
    "duration": 4,
    "start_time": "2022-10-06T09:53:44.836Z"
   },
   {
    "duration": 4,
    "start_time": "2022-10-06T09:53:45.528Z"
   },
   {
    "duration": 2,
    "start_time": "2022-10-06T09:54:34.920Z"
   },
   {
    "duration": 16,
    "start_time": "2022-10-06T09:55:31.732Z"
   },
   {
    "duration": 937,
    "start_time": "2022-10-06T09:55:52.678Z"
   },
   {
    "duration": 7,
    "start_time": "2022-10-06T09:56:06.107Z"
   },
   {
    "duration": 8,
    "start_time": "2022-10-06T09:56:21.016Z"
   },
   {
    "duration": 142,
    "start_time": "2022-10-06T09:56:28.268Z"
   },
   {
    "duration": 7,
    "start_time": "2022-10-06T09:56:29.230Z"
   },
   {
    "duration": 2,
    "start_time": "2022-10-06T09:56:29.790Z"
   },
   {
    "duration": 3,
    "start_time": "2022-10-06T09:56:30.057Z"
   },
   {
    "duration": 6,
    "start_time": "2022-10-06T09:56:31.361Z"
   },
   {
    "duration": 4,
    "start_time": "2022-10-06T09:56:33.545Z"
   },
   {
    "duration": 7,
    "start_time": "2022-10-06T09:56:34.339Z"
   },
   {
    "duration": 4,
    "start_time": "2022-10-06T09:56:37.560Z"
   },
   {
    "duration": 7,
    "start_time": "2022-10-06T09:56:51.095Z"
   },
   {
    "duration": 4,
    "start_time": "2022-10-06T09:57:03.439Z"
   },
   {
    "duration": 299,
    "start_time": "2022-10-06T09:57:03.445Z"
   },
   {
    "duration": 78,
    "start_time": "2022-10-06T09:57:03.745Z"
   },
   {
    "duration": 378,
    "start_time": "2022-10-06T09:57:03.825Z"
   },
   {
    "duration": 4,
    "start_time": "2022-10-06T09:57:04.205Z"
   },
   {
    "duration": 36,
    "start_time": "2022-10-06T09:57:04.211Z"
   },
   {
    "duration": 7,
    "start_time": "2022-10-06T09:57:04.249Z"
   },
   {
    "duration": 9,
    "start_time": "2022-10-06T09:57:04.258Z"
   },
   {
    "duration": 6,
    "start_time": "2022-10-06T09:57:04.269Z"
   },
   {
    "duration": 232,
    "start_time": "2022-10-06T09:57:04.277Z"
   },
   {
    "duration": 7,
    "start_time": "2022-10-06T09:57:04.510Z"
   },
   {
    "duration": 11,
    "start_time": "2022-10-06T09:57:04.518Z"
   },
   {
    "duration": 9,
    "start_time": "2022-10-06T09:57:04.530Z"
   },
   {
    "duration": 23,
    "start_time": "2022-10-06T09:57:04.541Z"
   },
   {
    "duration": 11,
    "start_time": "2022-10-06T09:57:04.565Z"
   },
   {
    "duration": 15,
    "start_time": "2022-10-06T09:57:04.577Z"
   },
   {
    "duration": 11,
    "start_time": "2022-10-06T09:57:04.594Z"
   },
   {
    "duration": 26,
    "start_time": "2022-10-06T09:57:04.606Z"
   },
   {
    "duration": 16,
    "start_time": "2022-10-06T09:57:04.633Z"
   },
   {
    "duration": 6,
    "start_time": "2022-10-06T09:57:04.650Z"
   },
   {
    "duration": 2152,
    "start_time": "2022-10-06T09:57:04.657Z"
   },
   {
    "duration": 2226,
    "start_time": "2022-10-06T09:57:06.811Z"
   },
   {
    "duration": 2301,
    "start_time": "2022-10-06T09:57:09.039Z"
   },
   {
    "duration": 186,
    "start_time": "2022-10-06T09:57:11.346Z"
   },
   {
    "duration": 229,
    "start_time": "2022-10-06T09:57:11.533Z"
   },
   {
    "duration": 188,
    "start_time": "2022-10-06T09:57:11.763Z"
   },
   {
    "duration": 184,
    "start_time": "2022-10-06T09:57:11.953Z"
   },
   {
    "duration": 13,
    "start_time": "2022-10-06T09:57:12.139Z"
   },
   {
    "duration": 185,
    "start_time": "2022-10-06T09:57:12.153Z"
   },
   {
    "duration": 190,
    "start_time": "2022-10-06T09:57:12.339Z"
   },
   {
    "duration": 18,
    "start_time": "2022-10-06T09:57:12.531Z"
   },
   {
    "duration": 202,
    "start_time": "2022-10-06T09:57:12.551Z"
   },
   {
    "duration": 18,
    "start_time": "2022-10-06T09:57:12.754Z"
   },
   {
    "duration": 185,
    "start_time": "2022-10-06T09:57:12.774Z"
   },
   {
    "duration": 189,
    "start_time": "2022-10-06T09:57:12.961Z"
   },
   {
    "duration": 185,
    "start_time": "2022-10-06T09:57:13.152Z"
   },
   {
    "duration": 12,
    "start_time": "2022-10-06T09:57:13.339Z"
   },
   {
    "duration": 183,
    "start_time": "2022-10-06T09:57:13.353Z"
   },
   {
    "duration": 181,
    "start_time": "2022-10-06T09:57:13.538Z"
   },
   {
    "duration": 13,
    "start_time": "2022-10-06T09:57:13.720Z"
   },
   {
    "duration": 184,
    "start_time": "2022-10-06T09:57:13.735Z"
   },
   {
    "duration": 181,
    "start_time": "2022-10-06T09:57:13.921Z"
   },
   {
    "duration": 17,
    "start_time": "2022-10-06T09:57:14.104Z"
   },
   {
    "duration": 189,
    "start_time": "2022-10-06T09:57:14.123Z"
   },
   {
    "duration": 9,
    "start_time": "2022-10-06T09:57:14.314Z"
   },
   {
    "duration": 5,
    "start_time": "2022-10-06T09:57:14.325Z"
   },
   {
    "duration": 10,
    "start_time": "2022-10-06T09:57:14.332Z"
   },
   {
    "duration": 7,
    "start_time": "2022-10-06T09:57:14.344Z"
   },
   {
    "duration": 8,
    "start_time": "2022-10-06T09:57:14.352Z"
   },
   {
    "duration": 22,
    "start_time": "2022-10-06T09:57:14.362Z"
   },
   {
    "duration": 8,
    "start_time": "2022-10-06T09:57:14.386Z"
   },
   {
    "duration": 4,
    "start_time": "2022-10-06T09:57:14.395Z"
   },
   {
    "duration": 8,
    "start_time": "2022-10-06T09:57:14.401Z"
   },
   {
    "duration": 18,
    "start_time": "2022-10-06T09:57:14.410Z"
   },
   {
    "duration": 86,
    "start_time": "2022-10-06T09:57:14.429Z"
   },
   {
    "duration": 11,
    "start_time": "2022-10-06T09:57:14.517Z"
   },
   {
    "duration": 5,
    "start_time": "2022-10-06T09:57:14.530Z"
   },
   {
    "duration": 2387,
    "start_time": "2022-10-06T09:57:14.536Z"
   },
   {
    "duration": 2205,
    "start_time": "2022-10-06T09:57:17.009Z"
   },
   {
    "duration": 12402,
    "start_time": "2022-10-06T09:57:19.216Z"
   },
   {
    "duration": 636,
    "start_time": "2022-10-06T09:57:31.620Z"
   },
   {
    "duration": 660,
    "start_time": "2022-10-06T09:57:32.258Z"
   },
   {
    "duration": 1962,
    "start_time": "2022-10-06T09:57:32.920Z"
   },
   {
    "duration": 1963,
    "start_time": "2022-10-06T09:57:34.884Z"
   },
   {
    "duration": 171,
    "start_time": "2022-10-06T09:57:36.848Z"
   },
   {
    "duration": 104,
    "start_time": "2022-10-06T09:57:37.108Z"
   },
   {
    "duration": 195,
    "start_time": "2022-10-06T09:57:37.215Z"
   },
   {
    "duration": 7,
    "start_time": "2022-10-06T09:57:37.411Z"
   },
   {
    "duration": 6,
    "start_time": "2022-10-06T09:57:37.425Z"
   },
   {
    "duration": 3,
    "start_time": "2022-10-06T09:57:37.432Z"
   },
   {
    "duration": 11,
    "start_time": "2022-10-06T09:57:37.437Z"
   },
   {
    "duration": 4,
    "start_time": "2022-10-06T09:57:37.450Z"
   },
   {
    "duration": 5,
    "start_time": "2022-10-06T09:57:37.456Z"
   },
   {
    "duration": 4,
    "start_time": "2022-10-06T10:00:41.230Z"
   },
   {
    "duration": 19,
    "start_time": "2022-10-06T10:00:56.302Z"
   },
   {
    "duration": 7,
    "start_time": "2022-10-06T10:01:14.502Z"
   },
   {
    "duration": 4,
    "start_time": "2022-10-06T10:01:16.436Z"
   },
   {
    "duration": 3,
    "start_time": "2022-10-06T10:01:19.326Z"
   },
   {
    "duration": 2,
    "start_time": "2022-10-06T10:01:20.344Z"
   },
   {
    "duration": 3,
    "start_time": "2022-10-06T10:01:30.755Z"
   },
   {
    "duration": 3,
    "start_time": "2022-10-06T10:01:30.958Z"
   },
   {
    "duration": 4,
    "start_time": "2022-10-06T10:01:31.588Z"
   },
   {
    "duration": 6,
    "start_time": "2022-10-06T10:01:31.798Z"
   },
   {
    "duration": 7,
    "start_time": "2022-10-06T10:01:32.458Z"
   },
   {
    "duration": 3,
    "start_time": "2022-10-06T10:01:33.023Z"
   },
   {
    "duration": 2,
    "start_time": "2022-10-06T10:01:35.061Z"
   },
   {
    "duration": 15,
    "start_time": "2022-10-06T10:01:36.109Z"
   },
   {
    "duration": 5,
    "start_time": "2022-10-06T10:01:50.866Z"
   },
   {
    "duration": 4,
    "start_time": "2022-10-06T10:01:52.485Z"
   },
   {
    "duration": 4,
    "start_time": "2022-10-06T10:01:57.187Z"
   },
   {
    "duration": 4,
    "start_time": "2022-10-06T10:02:02.242Z"
   },
   {
    "duration": 5,
    "start_time": "2022-10-06T10:02:06.025Z"
   },
   {
    "duration": 4,
    "start_time": "2022-10-06T10:02:06.195Z"
   },
   {
    "duration": 4,
    "start_time": "2022-10-06T10:02:07.125Z"
   },
   {
    "duration": 3,
    "start_time": "2022-10-06T10:02:07.370Z"
   },
   {
    "duration": 3,
    "start_time": "2022-10-06T10:02:08.061Z"
   },
   {
    "duration": 2,
    "start_time": "2022-10-06T10:02:08.358Z"
   },
   {
    "duration": 4,
    "start_time": "2022-10-06T10:02:09.390Z"
   },
   {
    "duration": 7,
    "start_time": "2022-10-06T10:02:09.843Z"
   },
   {
    "duration": 6,
    "start_time": "2022-10-06T10:02:10.313Z"
   },
   {
    "duration": 4,
    "start_time": "2022-10-06T10:02:10.686Z"
   },
   {
    "duration": 3,
    "start_time": "2022-10-06T10:02:52.397Z"
   },
   {
    "duration": 2159,
    "start_time": "2022-10-06T10:02:53.055Z"
   },
   {
    "duration": 2155,
    "start_time": "2022-10-06T10:02:57.357Z"
   },
   {
    "duration": 4,
    "start_time": "2022-10-06T10:05:21.271Z"
   },
   {
    "duration": 5,
    "start_time": "2022-10-06T10:05:27.890Z"
   },
   {
    "duration": 302,
    "start_time": "2022-10-06T10:05:27.897Z"
   },
   {
    "duration": 76,
    "start_time": "2022-10-06T10:05:28.200Z"
   },
   {
    "duration": 317,
    "start_time": "2022-10-06T10:05:28.277Z"
   },
   {
    "duration": 5,
    "start_time": "2022-10-06T10:05:28.597Z"
   },
   {
    "duration": 23,
    "start_time": "2022-10-06T10:05:28.609Z"
   },
   {
    "duration": 9,
    "start_time": "2022-10-06T10:05:28.634Z"
   },
   {
    "duration": 14,
    "start_time": "2022-10-06T10:05:28.645Z"
   },
   {
    "duration": 20,
    "start_time": "2022-10-06T10:05:28.661Z"
   },
   {
    "duration": 236,
    "start_time": "2022-10-06T10:05:28.682Z"
   },
   {
    "duration": 7,
    "start_time": "2022-10-06T10:05:28.920Z"
   },
   {
    "duration": 6,
    "start_time": "2022-10-06T10:05:28.929Z"
   },
   {
    "duration": 22,
    "start_time": "2022-10-06T10:05:28.937Z"
   },
   {
    "duration": 8,
    "start_time": "2022-10-06T10:05:28.963Z"
   },
   {
    "duration": 15,
    "start_time": "2022-10-06T10:05:28.972Z"
   },
   {
    "duration": 8,
    "start_time": "2022-10-06T10:05:28.989Z"
   },
   {
    "duration": 2,
    "start_time": "2022-10-06T10:05:29.008Z"
   },
   {
    "duration": 7,
    "start_time": "2022-10-06T10:05:29.012Z"
   },
   {
    "duration": 20,
    "start_time": "2022-10-06T10:05:29.020Z"
   },
   {
    "duration": 15,
    "start_time": "2022-10-06T10:05:29.042Z"
   },
   {
    "duration": 3,
    "start_time": "2022-10-06T10:05:29.058Z"
   },
   {
    "duration": 2259,
    "start_time": "2022-10-06T10:05:29.062Z"
   },
   {
    "duration": 2524,
    "start_time": "2022-10-06T10:05:31.323Z"
   },
   {
    "duration": 2208,
    "start_time": "2022-10-06T10:05:33.849Z"
   },
   {
    "duration": 175,
    "start_time": "2022-10-06T10:05:36.059Z"
   },
   {
    "duration": 177,
    "start_time": "2022-10-06T10:05:36.236Z"
   },
   {
    "duration": 186,
    "start_time": "2022-10-06T10:05:36.414Z"
   },
   {
    "duration": 189,
    "start_time": "2022-10-06T10:05:36.602Z"
   },
   {
    "duration": 26,
    "start_time": "2022-10-06T10:05:36.793Z"
   },
   {
    "duration": 195,
    "start_time": "2022-10-06T10:05:36.821Z"
   },
   {
    "duration": 184,
    "start_time": "2022-10-06T10:05:37.017Z"
   },
   {
    "duration": 17,
    "start_time": "2022-10-06T10:05:37.202Z"
   },
   {
    "duration": 190,
    "start_time": "2022-10-06T10:05:37.220Z"
   },
   {
    "duration": 16,
    "start_time": "2022-10-06T10:05:37.412Z"
   },
   {
    "duration": 187,
    "start_time": "2022-10-06T10:05:37.430Z"
   },
   {
    "duration": 186,
    "start_time": "2022-10-06T10:05:37.619Z"
   },
   {
    "duration": 183,
    "start_time": "2022-10-06T10:05:37.808Z"
   },
   {
    "duration": 21,
    "start_time": "2022-10-06T10:05:37.994Z"
   },
   {
    "duration": 187,
    "start_time": "2022-10-06T10:05:38.017Z"
   },
   {
    "duration": 187,
    "start_time": "2022-10-06T10:05:38.206Z"
   },
   {
    "duration": 22,
    "start_time": "2022-10-06T10:05:38.398Z"
   },
   {
    "duration": 170,
    "start_time": "2022-10-06T10:05:38.421Z"
   },
   {
    "duration": 188,
    "start_time": "2022-10-06T10:05:38.593Z"
   },
   {
    "duration": 14,
    "start_time": "2022-10-06T10:05:38.783Z"
   },
   {
    "duration": 183,
    "start_time": "2022-10-06T10:05:38.798Z"
   },
   {
    "duration": 9,
    "start_time": "2022-10-06T10:05:38.983Z"
   },
   {
    "duration": 16,
    "start_time": "2022-10-06T10:05:38.994Z"
   },
   {
    "duration": 19,
    "start_time": "2022-10-06T10:05:39.011Z"
   },
   {
    "duration": 28,
    "start_time": "2022-10-06T10:05:39.032Z"
   },
   {
    "duration": 19,
    "start_time": "2022-10-06T10:05:39.062Z"
   },
   {
    "duration": 15,
    "start_time": "2022-10-06T10:05:39.082Z"
   },
   {
    "duration": 11,
    "start_time": "2022-10-06T10:05:39.099Z"
   },
   {
    "duration": 20,
    "start_time": "2022-10-06T10:05:39.112Z"
   },
   {
    "duration": 14,
    "start_time": "2022-10-06T10:05:39.133Z"
   },
   {
    "duration": 15,
    "start_time": "2022-10-06T10:05:39.148Z"
   },
   {
    "duration": 18,
    "start_time": "2022-10-06T10:05:39.164Z"
   },
   {
    "duration": 9,
    "start_time": "2022-10-06T10:05:39.183Z"
   },
   {
    "duration": 10,
    "start_time": "2022-10-06T10:05:39.193Z"
   },
   {
    "duration": 16,
    "start_time": "2022-10-06T10:05:39.205Z"
   },
   {
    "duration": 0,
    "start_time": "2022-10-06T10:05:39.222Z"
   },
   {
    "duration": 0,
    "start_time": "2022-10-06T10:05:39.224Z"
   },
   {
    "duration": 0,
    "start_time": "2022-10-06T10:05:39.225Z"
   },
   {
    "duration": 0,
    "start_time": "2022-10-06T10:05:39.226Z"
   },
   {
    "duration": 0,
    "start_time": "2022-10-06T10:05:39.227Z"
   },
   {
    "duration": 0,
    "start_time": "2022-10-06T10:05:39.228Z"
   },
   {
    "duration": 0,
    "start_time": "2022-10-06T10:05:39.230Z"
   },
   {
    "duration": 0,
    "start_time": "2022-10-06T10:05:39.231Z"
   },
   {
    "duration": 0,
    "start_time": "2022-10-06T10:05:39.232Z"
   },
   {
    "duration": 0,
    "start_time": "2022-10-06T10:05:39.233Z"
   },
   {
    "duration": 0,
    "start_time": "2022-10-06T10:05:39.234Z"
   },
   {
    "duration": 0,
    "start_time": "2022-10-06T10:05:39.235Z"
   },
   {
    "duration": 0,
    "start_time": "2022-10-06T10:05:39.236Z"
   },
   {
    "duration": 0,
    "start_time": "2022-10-06T10:05:39.237Z"
   },
   {
    "duration": 0,
    "start_time": "2022-10-06T10:05:39.237Z"
   },
   {
    "duration": 14,
    "start_time": "2022-10-06T10:07:05.675Z"
   },
   {
    "duration": 4,
    "start_time": "2022-10-06T10:07:12.204Z"
   },
   {
    "duration": 276,
    "start_time": "2022-10-06T10:07:12.210Z"
   },
   {
    "duration": 91,
    "start_time": "2022-10-06T10:07:12.488Z"
   },
   {
    "duration": 365,
    "start_time": "2022-10-06T10:07:12.581Z"
   },
   {
    "duration": 4,
    "start_time": "2022-10-06T10:07:12.949Z"
   },
   {
    "duration": 28,
    "start_time": "2022-10-06T10:07:12.954Z"
   },
   {
    "duration": 8,
    "start_time": "2022-10-06T10:07:12.983Z"
   },
   {
    "duration": 14,
    "start_time": "2022-10-06T10:07:12.992Z"
   },
   {
    "duration": 7,
    "start_time": "2022-10-06T10:07:13.008Z"
   },
   {
    "duration": 245,
    "start_time": "2022-10-06T10:07:13.016Z"
   },
   {
    "duration": 7,
    "start_time": "2022-10-06T10:07:13.264Z"
   },
   {
    "duration": 6,
    "start_time": "2022-10-06T10:07:13.273Z"
   },
   {
    "duration": 17,
    "start_time": "2022-10-06T10:07:13.280Z"
   },
   {
    "duration": 5,
    "start_time": "2022-10-06T10:07:13.308Z"
   },
   {
    "duration": 5,
    "start_time": "2022-10-06T10:07:13.315Z"
   },
   {
    "duration": 2,
    "start_time": "2022-10-06T10:07:13.322Z"
   },
   {
    "duration": 8,
    "start_time": "2022-10-06T10:07:13.325Z"
   },
   {
    "duration": 15,
    "start_time": "2022-10-06T10:07:13.334Z"
   },
   {
    "duration": 15,
    "start_time": "2022-10-06T10:07:13.350Z"
   },
   {
    "duration": 2,
    "start_time": "2022-10-06T10:07:13.367Z"
   },
   {
    "duration": 2233,
    "start_time": "2022-10-06T10:07:13.370Z"
   },
   {
    "duration": 2207,
    "start_time": "2022-10-06T10:07:15.605Z"
   },
   {
    "duration": 2215,
    "start_time": "2022-10-06T10:07:17.814Z"
   },
   {
    "duration": 171,
    "start_time": "2022-10-06T10:07:20.030Z"
   },
   {
    "duration": 185,
    "start_time": "2022-10-06T10:07:20.202Z"
   },
   {
    "duration": 191,
    "start_time": "2022-10-06T10:07:20.388Z"
   },
   {
    "duration": 192,
    "start_time": "2022-10-06T10:07:20.580Z"
   },
   {
    "duration": 17,
    "start_time": "2022-10-06T10:07:20.774Z"
   },
   {
    "duration": 188,
    "start_time": "2022-10-06T10:07:20.796Z"
   },
   {
    "duration": 180,
    "start_time": "2022-10-06T10:07:20.985Z"
   },
   {
    "duration": 16,
    "start_time": "2022-10-06T10:07:21.167Z"
   },
   {
    "duration": 164,
    "start_time": "2022-10-06T10:07:21.184Z"
   },
   {
    "duration": 17,
    "start_time": "2022-10-06T10:07:21.350Z"
   },
   {
    "duration": 182,
    "start_time": "2022-10-06T10:07:21.368Z"
   },
   {
    "duration": 183,
    "start_time": "2022-10-06T10:07:21.552Z"
   },
   {
    "duration": 179,
    "start_time": "2022-10-06T10:07:21.736Z"
   },
   {
    "duration": 14,
    "start_time": "2022-10-06T10:07:21.916Z"
   },
   {
    "duration": 182,
    "start_time": "2022-10-06T10:07:21.932Z"
   },
   {
    "duration": 178,
    "start_time": "2022-10-06T10:07:22.115Z"
   },
   {
    "duration": 18,
    "start_time": "2022-10-06T10:07:22.295Z"
   },
   {
    "duration": 170,
    "start_time": "2022-10-06T10:07:22.315Z"
   },
   {
    "duration": 232,
    "start_time": "2022-10-06T10:07:22.487Z"
   },
   {
    "duration": 15,
    "start_time": "2022-10-06T10:07:22.721Z"
   },
   {
    "duration": 195,
    "start_time": "2022-10-06T10:07:22.738Z"
   },
   {
    "duration": 9,
    "start_time": "2022-10-06T10:07:22.935Z"
   },
   {
    "duration": 47,
    "start_time": "2022-10-06T10:07:22.946Z"
   },
   {
    "duration": 34,
    "start_time": "2022-10-06T10:07:22.994Z"
   },
   {
    "duration": 60,
    "start_time": "2022-10-06T10:07:23.029Z"
   },
   {
    "duration": 26,
    "start_time": "2022-10-06T10:07:23.091Z"
   },
   {
    "duration": 32,
    "start_time": "2022-10-06T10:07:23.118Z"
   },
   {
    "duration": 57,
    "start_time": "2022-10-06T10:07:23.151Z"
   },
   {
    "duration": 39,
    "start_time": "2022-10-06T10:07:23.209Z"
   },
   {
    "duration": 34,
    "start_time": "2022-10-06T10:07:23.250Z"
   },
   {
    "duration": 33,
    "start_time": "2022-10-06T10:07:23.286Z"
   },
   {
    "duration": 27,
    "start_time": "2022-10-06T10:07:23.321Z"
   },
   {
    "duration": 45,
    "start_time": "2022-10-06T10:07:23.350Z"
   },
   {
    "duration": 23,
    "start_time": "2022-10-06T10:07:23.396Z"
   },
   {
    "duration": 2583,
    "start_time": "2022-10-06T10:07:26.826Z"
   },
   {
    "duration": 2259,
    "start_time": "2022-10-06T10:07:44.155Z"
   },
   {
    "duration": 4,
    "start_time": "2022-10-06T10:10:34.355Z"
   },
   {
    "duration": 2,
    "start_time": "2022-10-06T10:10:36.855Z"
   },
   {
    "duration": 3,
    "start_time": "2022-10-06T10:10:37.229Z"
   },
   {
    "duration": 3,
    "start_time": "2022-10-06T10:10:37.607Z"
   },
   {
    "duration": 4,
    "start_time": "2022-10-06T10:10:38.673Z"
   },
   {
    "duration": 7,
    "start_time": "2022-10-06T10:10:39.072Z"
   },
   {
    "duration": 7,
    "start_time": "2022-10-06T10:10:39.869Z"
   },
   {
    "duration": 4,
    "start_time": "2022-10-06T10:10:40.352Z"
   },
   {
    "duration": 3,
    "start_time": "2022-10-06T10:10:43.257Z"
   },
   {
    "duration": 14,
    "start_time": "2022-10-06T10:10:44.515Z"
   },
   {
    "duration": 6,
    "start_time": "2022-10-06T10:13:05.236Z"
   },
   {
    "duration": 11,
    "start_time": "2022-10-06T10:13:57.834Z"
   },
   {
    "duration": 2,
    "start_time": "2022-10-06T10:14:12.959Z"
   },
   {
    "duration": 3,
    "start_time": "2022-10-06T10:14:17.013Z"
   },
   {
    "duration": 2,
    "start_time": "2022-10-06T10:14:17.220Z"
   },
   {
    "duration": 4,
    "start_time": "2022-10-06T10:14:17.902Z"
   },
   {
    "duration": 9,
    "start_time": "2022-10-06T10:14:18.128Z"
   },
   {
    "duration": 9,
    "start_time": "2022-10-06T10:14:18.592Z"
   },
   {
    "duration": 4,
    "start_time": "2022-10-06T10:14:19.643Z"
   },
   {
    "duration": 2,
    "start_time": "2022-10-06T10:14:21.881Z"
   },
   {
    "duration": 13,
    "start_time": "2022-10-06T10:14:24.248Z"
   },
   {
    "duration": 3,
    "start_time": "2022-10-06T10:15:01.399Z"
   },
   {
    "duration": 3,
    "start_time": "2022-10-06T10:15:01.575Z"
   },
   {
    "duration": 4,
    "start_time": "2022-10-06T10:15:02.082Z"
   },
   {
    "duration": 7,
    "start_time": "2022-10-06T10:15:02.241Z"
   },
   {
    "duration": 9,
    "start_time": "2022-10-06T10:15:02.409Z"
   },
   {
    "duration": 5,
    "start_time": "2022-10-06T10:15:02.590Z"
   },
   {
    "duration": 5,
    "start_time": "2022-10-06T10:15:09.347Z"
   },
   {
    "duration": 300,
    "start_time": "2022-10-06T10:15:09.354Z"
   },
   {
    "duration": 81,
    "start_time": "2022-10-06T10:15:09.656Z"
   },
   {
    "duration": 388,
    "start_time": "2022-10-06T10:15:09.739Z"
   },
   {
    "duration": 4,
    "start_time": "2022-10-06T10:15:10.129Z"
   },
   {
    "duration": 22,
    "start_time": "2022-10-06T10:15:10.134Z"
   },
   {
    "duration": 3,
    "start_time": "2022-10-06T10:15:10.158Z"
   },
   {
    "duration": 14,
    "start_time": "2022-10-06T10:15:10.162Z"
   },
   {
    "duration": 9,
    "start_time": "2022-10-06T10:15:10.177Z"
   },
   {
    "duration": 356,
    "start_time": "2022-10-06T10:15:10.189Z"
   },
   {
    "duration": 8,
    "start_time": "2022-10-06T10:15:10.547Z"
   },
   {
    "duration": 5,
    "start_time": "2022-10-06T10:15:10.556Z"
   },
   {
    "duration": 12,
    "start_time": "2022-10-06T10:15:10.563Z"
   },
   {
    "duration": 10,
    "start_time": "2022-10-06T10:15:10.577Z"
   },
   {
    "duration": 12,
    "start_time": "2022-10-06T10:15:10.588Z"
   },
   {
    "duration": 2,
    "start_time": "2022-10-06T10:15:10.609Z"
   },
   {
    "duration": 9,
    "start_time": "2022-10-06T10:15:10.612Z"
   },
   {
    "duration": 18,
    "start_time": "2022-10-06T10:15:10.623Z"
   },
   {
    "duration": 21,
    "start_time": "2022-10-06T10:15:10.643Z"
   },
   {
    "duration": 2,
    "start_time": "2022-10-06T10:15:10.710Z"
   },
   {
    "duration": 2341,
    "start_time": "2022-10-06T10:15:10.714Z"
   },
   {
    "duration": 2546,
    "start_time": "2022-10-06T10:15:13.057Z"
   },
   {
    "duration": 2224,
    "start_time": "2022-10-06T10:15:15.608Z"
   },
   {
    "duration": 169,
    "start_time": "2022-10-06T10:15:17.834Z"
   },
   {
    "duration": 186,
    "start_time": "2022-10-06T10:15:18.009Z"
   },
   {
    "duration": 192,
    "start_time": "2022-10-06T10:15:18.197Z"
   },
   {
    "duration": 187,
    "start_time": "2022-10-06T10:15:18.390Z"
   },
   {
    "duration": 13,
    "start_time": "2022-10-06T10:15:18.582Z"
   },
   {
    "duration": 181,
    "start_time": "2022-10-06T10:15:18.596Z"
   },
   {
    "duration": 198,
    "start_time": "2022-10-06T10:15:18.779Z"
   },
   {
    "duration": 19,
    "start_time": "2022-10-06T10:15:18.978Z"
   },
   {
    "duration": 157,
    "start_time": "2022-10-06T10:15:19.009Z"
   },
   {
    "duration": 17,
    "start_time": "2022-10-06T10:15:19.168Z"
   },
   {
    "duration": 186,
    "start_time": "2022-10-06T10:15:19.186Z"
   },
   {
    "duration": 185,
    "start_time": "2022-10-06T10:15:19.374Z"
   },
   {
    "duration": 173,
    "start_time": "2022-10-06T10:15:19.560Z"
   },
   {
    "duration": 13,
    "start_time": "2022-10-06T10:15:19.734Z"
   },
   {
    "duration": 187,
    "start_time": "2022-10-06T10:15:19.748Z"
   },
   {
    "duration": 177,
    "start_time": "2022-10-06T10:15:19.937Z"
   },
   {
    "duration": 13,
    "start_time": "2022-10-06T10:15:20.116Z"
   },
   {
    "duration": 174,
    "start_time": "2022-10-06T10:15:20.130Z"
   },
   {
    "duration": 185,
    "start_time": "2022-10-06T10:15:20.305Z"
   },
   {
    "duration": 18,
    "start_time": "2022-10-06T10:15:20.491Z"
   },
   {
    "duration": 168,
    "start_time": "2022-10-06T10:15:20.510Z"
   },
   {
    "duration": 9,
    "start_time": "2022-10-06T10:15:20.680Z"
   },
   {
    "duration": 22,
    "start_time": "2022-10-06T10:15:20.691Z"
   },
   {
    "duration": 38,
    "start_time": "2022-10-06T10:15:20.714Z"
   },
   {
    "duration": 37,
    "start_time": "2022-10-06T10:15:20.754Z"
   },
   {
    "duration": 31,
    "start_time": "2022-10-06T10:15:20.793Z"
   },
   {
    "duration": 15,
    "start_time": "2022-10-06T10:15:20.825Z"
   },
   {
    "duration": 29,
    "start_time": "2022-10-06T10:15:20.841Z"
   },
   {
    "duration": 22,
    "start_time": "2022-10-06T10:15:20.871Z"
   },
   {
    "duration": 19,
    "start_time": "2022-10-06T10:15:20.894Z"
   },
   {
    "duration": 31,
    "start_time": "2022-10-06T10:15:20.914Z"
   },
   {
    "duration": 23,
    "start_time": "2022-10-06T10:15:20.946Z"
   },
   {
    "duration": 20,
    "start_time": "2022-10-06T10:15:20.970Z"
   },
   {
    "duration": 24,
    "start_time": "2022-10-06T10:15:20.992Z"
   },
   {
    "duration": 2203,
    "start_time": "2022-10-06T10:15:24.907Z"
   },
   {
    "duration": 2324,
    "start_time": "2022-10-06T10:15:29.189Z"
   },
   {
    "duration": 1394,
    "start_time": "2022-10-06T10:15:43.675Z"
   },
   {
    "duration": 292,
    "start_time": "2022-10-06T10:15:45.071Z"
   },
   {
    "duration": 82,
    "start_time": "2022-10-06T10:15:45.364Z"
   },
   {
    "duration": 343,
    "start_time": "2022-10-06T10:15:45.448Z"
   },
   {
    "duration": 5,
    "start_time": "2022-10-06T10:15:45.793Z"
   },
   {
    "duration": 41,
    "start_time": "2022-10-06T10:15:45.800Z"
   },
   {
    "duration": 18,
    "start_time": "2022-10-06T10:15:45.842Z"
   },
   {
    "duration": 29,
    "start_time": "2022-10-06T10:15:45.861Z"
   },
   {
    "duration": 32,
    "start_time": "2022-10-06T10:15:45.891Z"
   },
   {
    "duration": 269,
    "start_time": "2022-10-06T10:15:45.925Z"
   },
   {
    "duration": 16,
    "start_time": "2022-10-06T10:15:46.195Z"
   },
   {
    "duration": 20,
    "start_time": "2022-10-06T10:15:46.213Z"
   },
   {
    "duration": 14,
    "start_time": "2022-10-06T10:15:46.234Z"
   },
   {
    "duration": 21,
    "start_time": "2022-10-06T10:15:46.250Z"
   },
   {
    "duration": 24,
    "start_time": "2022-10-06T10:15:46.272Z"
   },
   {
    "duration": 27,
    "start_time": "2022-10-06T10:15:46.297Z"
   },
   {
    "duration": 27,
    "start_time": "2022-10-06T10:15:46.325Z"
   },
   {
    "duration": 26,
    "start_time": "2022-10-06T10:15:46.353Z"
   },
   {
    "duration": 32,
    "start_time": "2022-10-06T10:15:46.381Z"
   },
   {
    "duration": 6,
    "start_time": "2022-10-06T10:15:46.414Z"
   },
   {
    "duration": 2212,
    "start_time": "2022-10-06T10:15:46.421Z"
   },
   {
    "duration": 2171,
    "start_time": "2022-10-06T10:15:48.634Z"
   },
   {
    "duration": 2324,
    "start_time": "2022-10-06T10:15:50.807Z"
   },
   {
    "duration": 244,
    "start_time": "2022-10-06T10:15:53.132Z"
   },
   {
    "duration": 187,
    "start_time": "2022-10-06T10:15:53.378Z"
   },
   {
    "duration": 191,
    "start_time": "2022-10-06T10:15:53.566Z"
   },
   {
    "duration": 212,
    "start_time": "2022-10-06T10:15:53.759Z"
   },
   {
    "duration": 22,
    "start_time": "2022-10-06T10:15:53.976Z"
   },
   {
    "duration": 213,
    "start_time": "2022-10-06T10:15:54.009Z"
   },
   {
    "duration": 180,
    "start_time": "2022-10-06T10:15:54.224Z"
   },
   {
    "duration": 22,
    "start_time": "2022-10-06T10:15:54.406Z"
   },
   {
    "duration": 154,
    "start_time": "2022-10-06T10:15:54.429Z"
   },
   {
    "duration": 16,
    "start_time": "2022-10-06T10:15:54.584Z"
   },
   {
    "duration": 251,
    "start_time": "2022-10-06T10:15:54.602Z"
   },
   {
    "duration": 196,
    "start_time": "2022-10-06T10:15:54.854Z"
   },
   {
    "duration": 199,
    "start_time": "2022-10-06T10:15:55.052Z"
   },
   {
    "duration": 16,
    "start_time": "2022-10-06T10:15:55.253Z"
   },
   {
    "duration": 189,
    "start_time": "2022-10-06T10:15:55.271Z"
   },
   {
    "duration": 179,
    "start_time": "2022-10-06T10:15:55.461Z"
   },
   {
    "duration": 19,
    "start_time": "2022-10-06T10:15:55.641Z"
   },
   {
    "duration": 176,
    "start_time": "2022-10-06T10:15:55.661Z"
   },
   {
    "duration": 187,
    "start_time": "2022-10-06T10:15:55.838Z"
   },
   {
    "duration": 14,
    "start_time": "2022-10-06T10:15:56.026Z"
   },
   {
    "duration": 181,
    "start_time": "2022-10-06T10:15:56.041Z"
   },
   {
    "duration": 11,
    "start_time": "2022-10-06T10:15:56.224Z"
   },
   {
    "duration": 17,
    "start_time": "2022-10-06T10:15:56.237Z"
   },
   {
    "duration": 14,
    "start_time": "2022-10-06T10:15:56.255Z"
   },
   {
    "duration": 38,
    "start_time": "2022-10-06T10:15:56.270Z"
   },
   {
    "duration": 23,
    "start_time": "2022-10-06T10:15:56.316Z"
   },
   {
    "duration": 25,
    "start_time": "2022-10-06T10:15:56.340Z"
   },
   {
    "duration": 33,
    "start_time": "2022-10-06T10:15:56.367Z"
   },
   {
    "duration": 33,
    "start_time": "2022-10-06T10:15:56.401Z"
   },
   {
    "duration": 31,
    "start_time": "2022-10-06T10:15:56.436Z"
   },
   {
    "duration": 61,
    "start_time": "2022-10-06T10:15:56.468Z"
   },
   {
    "duration": 34,
    "start_time": "2022-10-06T10:15:56.531Z"
   },
   {
    "duration": 56,
    "start_time": "2022-10-06T10:15:56.567Z"
   },
   {
    "duration": 20,
    "start_time": "2022-10-06T10:15:56.625Z"
   },
   {
    "duration": 3877,
    "start_time": "2022-10-06T10:15:56.647Z"
   },
   {
    "duration": 5387,
    "start_time": "2022-10-06T10:16:00.526Z"
   },
   {
    "duration": 12709,
    "start_time": "2022-10-06T10:16:05.915Z"
   },
   {
    "duration": 650,
    "start_time": "2022-10-06T10:16:18.626Z"
   },
   {
    "duration": 641,
    "start_time": "2022-10-06T10:16:19.278Z"
   },
   {
    "duration": 1973,
    "start_time": "2022-10-06T10:16:19.922Z"
   },
   {
    "duration": 2121,
    "start_time": "2022-10-06T10:16:21.897Z"
   },
   {
    "duration": 814,
    "start_time": "2022-10-06T10:16:24.021Z"
   },
   {
    "duration": 12,
    "start_time": "2022-10-06T10:16:24.917Z"
   },
   {
    "duration": 82,
    "start_time": "2022-10-06T10:16:24.933Z"
   },
   {
    "duration": 114,
    "start_time": "2022-10-06T10:16:25.017Z"
   },
   {
    "duration": 5,
    "start_time": "2022-10-06T10:16:25.134Z"
   },
   {
    "duration": 10,
    "start_time": "2022-10-06T10:16:25.141Z"
   },
   {
    "duration": 12,
    "start_time": "2022-10-06T10:16:25.152Z"
   },
   {
    "duration": 3,
    "start_time": "2022-10-06T10:16:25.165Z"
   },
   {
    "duration": 9,
    "start_time": "2022-10-06T10:16:25.170Z"
   },
   {
    "duration": 633,
    "start_time": "2022-10-06T10:17:14.152Z"
   },
   {
    "duration": 7,
    "start_time": "2022-10-06T10:17:16.783Z"
   },
   {
    "duration": 2,
    "start_time": "2022-10-06T10:17:17.283Z"
   },
   {
    "duration": 4,
    "start_time": "2022-10-06T10:17:17.652Z"
   },
   {
    "duration": 6,
    "start_time": "2022-10-06T10:17:18.771Z"
   },
   {
    "duration": 3,
    "start_time": "2022-10-06T10:17:19.413Z"
   },
   {
    "duration": 8,
    "start_time": "2022-10-06T10:17:20.646Z"
   },
   {
    "duration": 4,
    "start_time": "2022-10-06T10:17:21.730Z"
   },
   {
    "duration": 4,
    "start_time": "2022-10-06T10:17:22.553Z"
   },
   {
    "duration": 223822,
    "start_time": "2022-10-06T10:17:32.877Z"
   },
   {
    "duration": 12180,
    "start_time": "2022-10-06T11:09:32.835Z"
   },
   {
    "duration": 624,
    "start_time": "2022-10-06T11:09:55.088Z"
   },
   {
    "duration": 626,
    "start_time": "2022-10-06T11:09:56.606Z"
   },
   {
    "duration": 1913,
    "start_time": "2022-10-06T11:09:57.738Z"
   },
   {
    "duration": 1948,
    "start_time": "2022-10-06T11:09:59.654Z"
   },
   {
    "duration": 634,
    "start_time": "2022-10-06T11:10:07.860Z"
   },
   {
    "duration": 9,
    "start_time": "2022-10-06T11:10:09.150Z"
   },
   {
    "duration": 2,
    "start_time": "2022-10-06T11:10:13.365Z"
   },
   {
    "duration": 5,
    "start_time": "2022-10-06T11:10:14.438Z"
   },
   {
    "duration": 5,
    "start_time": "2022-10-06T11:10:16.533Z"
   },
   {
    "duration": 3,
    "start_time": "2022-10-06T11:10:17.568Z"
   },
   {
    "duration": 7,
    "start_time": "2022-10-06T11:10:18.686Z"
   },
   {
    "duration": 4,
    "start_time": "2022-10-06T11:10:19.242Z"
   },
   {
    "duration": 3,
    "start_time": "2022-10-06T11:10:20.112Z"
   },
   {
    "duration": 167,
    "start_time": "2022-10-06T11:10:40.743Z"
   },
   {
    "duration": 7,
    "start_time": "2022-10-06T11:10:41.575Z"
   },
   {
    "duration": 2,
    "start_time": "2022-10-06T11:10:41.808Z"
   },
   {
    "duration": 4,
    "start_time": "2022-10-06T11:10:42.021Z"
   },
   {
    "duration": 7,
    "start_time": "2022-10-06T11:10:42.963Z"
   },
   {
    "duration": 2,
    "start_time": "2022-10-06T11:10:43.263Z"
   },
   {
    "duration": 8,
    "start_time": "2022-10-06T11:10:44.142Z"
   },
   {
    "duration": 4,
    "start_time": "2022-10-06T11:10:44.402Z"
   },
   {
    "duration": 4,
    "start_time": "2022-10-06T11:10:44.608Z"
   },
   {
    "duration": 2,
    "start_time": "2022-10-06T11:12:08.351Z"
   },
   {
    "duration": 8,
    "start_time": "2022-10-06T11:12:19.949Z"
   },
   {
    "duration": 4,
    "start_time": "2022-10-06T11:12:31.629Z"
   },
   {
    "duration": 324,
    "start_time": "2022-10-06T11:12:31.636Z"
   },
   {
    "duration": 79,
    "start_time": "2022-10-06T11:12:31.962Z"
   },
   {
    "duration": 350,
    "start_time": "2022-10-06T11:12:32.043Z"
   },
   {
    "duration": 14,
    "start_time": "2022-10-06T11:12:32.395Z"
   },
   {
    "duration": 39,
    "start_time": "2022-10-06T11:12:32.411Z"
   },
   {
    "duration": 15,
    "start_time": "2022-10-06T11:12:32.451Z"
   },
   {
    "duration": 20,
    "start_time": "2022-10-06T11:12:32.467Z"
   },
   {
    "duration": 12,
    "start_time": "2022-10-06T11:12:32.488Z"
   },
   {
    "duration": 294,
    "start_time": "2022-10-06T11:12:32.503Z"
   },
   {
    "duration": 10,
    "start_time": "2022-10-06T11:12:32.799Z"
   },
   {
    "duration": 6,
    "start_time": "2022-10-06T11:12:32.812Z"
   },
   {
    "duration": 9,
    "start_time": "2022-10-06T11:12:32.820Z"
   },
   {
    "duration": 6,
    "start_time": "2022-10-06T11:12:32.831Z"
   },
   {
    "duration": 10,
    "start_time": "2022-10-06T11:12:32.839Z"
   },
   {
    "duration": 36,
    "start_time": "2022-10-06T11:12:32.851Z"
   },
   {
    "duration": 8,
    "start_time": "2022-10-06T11:12:32.889Z"
   },
   {
    "duration": 5,
    "start_time": "2022-10-06T11:12:32.899Z"
   },
   {
    "duration": 7,
    "start_time": "2022-10-06T11:12:32.909Z"
   },
   {
    "duration": 25,
    "start_time": "2022-10-06T11:12:32.917Z"
   },
   {
    "duration": 2,
    "start_time": "2022-10-06T11:12:32.944Z"
   },
   {
    "duration": 2150,
    "start_time": "2022-10-06T11:12:32.948Z"
   },
   {
    "duration": 2209,
    "start_time": "2022-10-06T11:12:35.100Z"
   },
   {
    "duration": 2261,
    "start_time": "2022-10-06T11:12:37.310Z"
   },
   {
    "duration": 175,
    "start_time": "2022-10-06T11:12:39.573Z"
   },
   {
    "duration": 182,
    "start_time": "2022-10-06T11:12:39.749Z"
   },
   {
    "duration": 189,
    "start_time": "2022-10-06T11:12:39.933Z"
   },
   {
    "duration": 193,
    "start_time": "2022-10-06T11:12:40.126Z"
   },
   {
    "duration": 16,
    "start_time": "2022-10-06T11:12:40.321Z"
   },
   {
    "duration": 196,
    "start_time": "2022-10-06T11:12:40.338Z"
   },
   {
    "duration": 194,
    "start_time": "2022-10-06T11:12:40.536Z"
   },
   {
    "duration": 19,
    "start_time": "2022-10-06T11:12:40.732Z"
   },
   {
    "duration": 184,
    "start_time": "2022-10-06T11:12:40.754Z"
   },
   {
    "duration": 16,
    "start_time": "2022-10-06T11:12:40.940Z"
   },
   {
    "duration": 320,
    "start_time": "2022-10-06T11:12:40.958Z"
   },
   {
    "duration": 181,
    "start_time": "2022-10-06T11:12:41.280Z"
   },
   {
    "duration": 199,
    "start_time": "2022-10-06T11:12:41.463Z"
   },
   {
    "duration": 12,
    "start_time": "2022-10-06T11:12:41.664Z"
   },
   {
    "duration": 189,
    "start_time": "2022-10-06T11:12:41.678Z"
   },
   {
    "duration": 175,
    "start_time": "2022-10-06T11:12:41.868Z"
   },
   {
    "duration": 13,
    "start_time": "2022-10-06T11:12:42.044Z"
   },
   {
    "duration": 176,
    "start_time": "2022-10-06T11:12:42.058Z"
   },
   {
    "duration": 183,
    "start_time": "2022-10-06T11:12:42.235Z"
   },
   {
    "duration": 14,
    "start_time": "2022-10-06T11:12:42.420Z"
   },
   {
    "duration": 208,
    "start_time": "2022-10-06T11:12:42.436Z"
   },
   {
    "duration": 10,
    "start_time": "2022-10-06T11:12:42.646Z"
   },
   {
    "duration": 24,
    "start_time": "2022-10-06T11:12:42.659Z"
   },
   {
    "duration": 23,
    "start_time": "2022-10-06T11:12:42.685Z"
   },
   {
    "duration": 50,
    "start_time": "2022-10-06T11:12:42.710Z"
   },
   {
    "duration": 39,
    "start_time": "2022-10-06T11:12:42.762Z"
   },
   {
    "duration": 19,
    "start_time": "2022-10-06T11:12:42.803Z"
   },
   {
    "duration": 26,
    "start_time": "2022-10-06T11:12:42.824Z"
   },
   {
    "duration": 20,
    "start_time": "2022-10-06T11:12:42.852Z"
   },
   {
    "duration": 25,
    "start_time": "2022-10-06T11:12:42.873Z"
   },
   {
    "duration": 23,
    "start_time": "2022-10-06T11:12:42.900Z"
   },
   {
    "duration": 22,
    "start_time": "2022-10-06T11:12:42.925Z"
   },
   {
    "duration": 42,
    "start_time": "2022-10-06T11:12:42.948Z"
   },
   {
    "duration": 41,
    "start_time": "2022-10-06T11:12:42.991Z"
   },
   {
    "duration": 2378,
    "start_time": "2022-10-06T11:12:43.034Z"
   },
   {
    "duration": 2403,
    "start_time": "2022-10-06T11:12:45.414Z"
   },
   {
    "duration": 12348,
    "start_time": "2022-10-06T11:12:47.908Z"
   },
   {
    "duration": 636,
    "start_time": "2022-10-06T11:13:00.258Z"
   },
   {
    "duration": 631,
    "start_time": "2022-10-06T11:13:00.895Z"
   },
   {
    "duration": 1970,
    "start_time": "2022-10-06T11:13:01.528Z"
   },
   {
    "duration": 2136,
    "start_time": "2022-10-06T11:13:03.500Z"
   },
   {
    "duration": 181,
    "start_time": "2022-10-06T11:13:05.637Z"
   },
   {
    "duration": 190,
    "start_time": "2022-10-06T11:13:05.820Z"
   },
   {
    "duration": 95,
    "start_time": "2022-10-06T11:13:06.015Z"
   },
   {
    "duration": 10,
    "start_time": "2022-10-06T11:13:06.111Z"
   },
   {
    "duration": 20,
    "start_time": "2022-10-06T11:13:06.122Z"
   },
   {
    "duration": 28,
    "start_time": "2022-10-06T11:13:06.144Z"
   },
   {
    "duration": 47,
    "start_time": "2022-10-06T11:13:06.174Z"
   },
   {
    "duration": 4,
    "start_time": "2022-10-06T11:13:06.223Z"
   },
   {
    "duration": 13,
    "start_time": "2022-10-06T11:13:23.315Z"
   },
   {
    "duration": 1352,
    "start_time": "2022-10-06T11:14:54.456Z"
   },
   {
    "duration": 299,
    "start_time": "2022-10-06T11:14:55.810Z"
   },
   {
    "duration": 80,
    "start_time": "2022-10-06T11:14:56.111Z"
   },
   {
    "duration": 349,
    "start_time": "2022-10-06T11:14:56.193Z"
   },
   {
    "duration": 6,
    "start_time": "2022-10-06T11:14:56.543Z"
   },
   {
    "duration": 46,
    "start_time": "2022-10-06T11:14:56.550Z"
   },
   {
    "duration": 13,
    "start_time": "2022-10-06T11:14:56.598Z"
   },
   {
    "duration": 23,
    "start_time": "2022-10-06T11:14:56.613Z"
   },
   {
    "duration": 14,
    "start_time": "2022-10-06T11:14:56.637Z"
   },
   {
    "duration": 267,
    "start_time": "2022-10-06T11:14:56.653Z"
   },
   {
    "duration": 8,
    "start_time": "2022-10-06T11:14:56.922Z"
   },
   {
    "duration": 36,
    "start_time": "2022-10-06T11:14:56.931Z"
   },
   {
    "duration": 19,
    "start_time": "2022-10-06T11:14:56.968Z"
   },
   {
    "duration": 5,
    "start_time": "2022-10-06T11:14:56.989Z"
   },
   {
    "duration": 28,
    "start_time": "2022-10-06T11:14:56.995Z"
   },
   {
    "duration": 7,
    "start_time": "2022-10-06T11:14:57.025Z"
   },
   {
    "duration": 19,
    "start_time": "2022-10-06T11:14:57.033Z"
   },
   {
    "duration": 36,
    "start_time": "2022-10-06T11:14:57.054Z"
   },
   {
    "duration": 36,
    "start_time": "2022-10-06T11:14:57.092Z"
   },
   {
    "duration": 2,
    "start_time": "2022-10-06T11:14:57.130Z"
   },
   {
    "duration": 2187,
    "start_time": "2022-10-06T11:14:57.134Z"
   },
   {
    "duration": 2191,
    "start_time": "2022-10-06T11:14:59.322Z"
   },
   {
    "duration": 2215,
    "start_time": "2022-10-06T11:15:01.514Z"
   },
   {
    "duration": 246,
    "start_time": "2022-10-06T11:15:03.731Z"
   },
   {
    "duration": 201,
    "start_time": "2022-10-06T11:15:03.979Z"
   },
   {
    "duration": 201,
    "start_time": "2022-10-06T11:15:04.183Z"
   },
   {
    "duration": 186,
    "start_time": "2022-10-06T11:15:04.385Z"
   },
   {
    "duration": 20,
    "start_time": "2022-10-06T11:15:04.575Z"
   },
   {
    "duration": 182,
    "start_time": "2022-10-06T11:15:04.596Z"
   },
   {
    "duration": 208,
    "start_time": "2022-10-06T11:15:04.779Z"
   },
   {
    "duration": 26,
    "start_time": "2022-10-06T11:15:04.988Z"
   },
   {
    "duration": 156,
    "start_time": "2022-10-06T11:15:05.015Z"
   },
   {
    "duration": 17,
    "start_time": "2022-10-06T11:15:05.173Z"
   },
   {
    "duration": 241,
    "start_time": "2022-10-06T11:15:05.192Z"
   },
   {
    "duration": 178,
    "start_time": "2022-10-06T11:15:05.435Z"
   },
   {
    "duration": 179,
    "start_time": "2022-10-06T11:15:05.614Z"
   },
   {
    "duration": 21,
    "start_time": "2022-10-06T11:15:05.794Z"
   },
   {
    "duration": 192,
    "start_time": "2022-10-06T11:15:05.816Z"
   },
   {
    "duration": 171,
    "start_time": "2022-10-06T11:15:06.010Z"
   },
   {
    "duration": 26,
    "start_time": "2022-10-06T11:15:06.183Z"
   },
   {
    "duration": 171,
    "start_time": "2022-10-06T11:15:06.210Z"
   },
   {
    "duration": 175,
    "start_time": "2022-10-06T11:15:06.383Z"
   },
   {
    "duration": 12,
    "start_time": "2022-10-06T11:15:06.560Z"
   },
   {
    "duration": 165,
    "start_time": "2022-10-06T11:15:06.574Z"
   },
   {
    "duration": 9,
    "start_time": "2022-10-06T11:15:06.741Z"
   },
   {
    "duration": 28,
    "start_time": "2022-10-06T11:15:06.752Z"
   },
   {
    "duration": 22,
    "start_time": "2022-10-06T11:15:06.782Z"
   },
   {
    "duration": 21,
    "start_time": "2022-10-06T11:15:06.805Z"
   },
   {
    "duration": 16,
    "start_time": "2022-10-06T11:15:06.827Z"
   },
   {
    "duration": 7,
    "start_time": "2022-10-06T11:15:06.845Z"
   },
   {
    "duration": 19,
    "start_time": "2022-10-06T11:15:06.854Z"
   },
   {
    "duration": 17,
    "start_time": "2022-10-06T11:15:06.875Z"
   },
   {
    "duration": 8,
    "start_time": "2022-10-06T11:15:06.894Z"
   },
   {
    "duration": 7,
    "start_time": "2022-10-06T11:15:06.904Z"
   },
   {
    "duration": 29,
    "start_time": "2022-10-06T11:15:06.913Z"
   },
   {
    "duration": 57,
    "start_time": "2022-10-06T11:15:06.943Z"
   },
   {
    "duration": 10,
    "start_time": "2022-10-06T11:15:07.001Z"
   },
   {
    "duration": 1998,
    "start_time": "2022-10-06T11:15:07.012Z"
   },
   {
    "duration": 2601,
    "start_time": "2022-10-06T11:15:09.012Z"
   },
   {
    "duration": 12619,
    "start_time": "2022-10-06T11:15:11.616Z"
   },
   {
    "duration": 646,
    "start_time": "2022-10-06T11:15:24.236Z"
   },
   {
    "duration": 651,
    "start_time": "2022-10-06T11:15:24.884Z"
   },
   {
    "duration": 1913,
    "start_time": "2022-10-06T11:15:25.537Z"
   },
   {
    "duration": 1960,
    "start_time": "2022-10-06T11:15:27.452Z"
   },
   {
    "duration": 104,
    "start_time": "2022-10-06T11:15:29.413Z"
   },
   {
    "duration": 194,
    "start_time": "2022-10-06T11:15:29.518Z"
   },
   {
    "duration": 96,
    "start_time": "2022-10-06T11:15:29.714Z"
   },
   {
    "duration": 101,
    "start_time": "2022-10-06T11:15:29.814Z"
   },
   {
    "duration": 7,
    "start_time": "2022-10-06T11:15:29.916Z"
   },
   {
    "duration": 3,
    "start_time": "2022-10-06T11:15:29.925Z"
   },
   {
    "duration": 10,
    "start_time": "2022-10-06T11:15:29.929Z"
   },
   {
    "duration": 3,
    "start_time": "2022-10-06T11:15:29.940Z"
   },
   {
    "duration": 7,
    "start_time": "2022-10-06T11:15:29.945Z"
   },
   {
    "duration": 123,
    "start_time": "2022-10-06T11:16:04.333Z"
   },
   {
    "duration": 73,
    "start_time": "2022-10-06T11:17:36.844Z"
   },
   {
    "duration": 10,
    "start_time": "2022-10-06T11:17:57.959Z"
   },
   {
    "duration": 13,
    "start_time": "2022-10-06T11:18:13.943Z"
   },
   {
    "duration": 129,
    "start_time": "2022-10-06T11:19:02.250Z"
   },
   {
    "duration": 34,
    "start_time": "2022-10-06T11:21:36.163Z"
   },
   {
    "duration": 27,
    "start_time": "2022-10-06T11:21:56.461Z"
   },
   {
    "duration": 30,
    "start_time": "2022-10-06T11:23:56.119Z"
   },
   {
    "duration": 9,
    "start_time": "2022-10-06T11:41:03.659Z"
   },
   {
    "duration": 18,
    "start_time": "2022-10-06T11:45:27.203Z"
   },
   {
    "duration": 11,
    "start_time": "2022-10-06T11:46:01.380Z"
   },
   {
    "duration": 0,
    "start_time": "2022-10-06T11:57:34.298Z"
   },
   {
    "duration": 0,
    "start_time": "2022-10-06T11:57:34.299Z"
   },
   {
    "duration": 0,
    "start_time": "2022-10-06T11:57:34.300Z"
   },
   {
    "duration": 0,
    "start_time": "2022-10-06T11:57:34.301Z"
   },
   {
    "duration": 0,
    "start_time": "2022-10-06T11:57:34.302Z"
   },
   {
    "duration": 0,
    "start_time": "2022-10-06T11:57:34.304Z"
   },
   {
    "duration": 0,
    "start_time": "2022-10-06T11:57:34.305Z"
   },
   {
    "duration": 0,
    "start_time": "2022-10-06T11:57:34.305Z"
   },
   {
    "duration": 1,
    "start_time": "2022-10-06T11:57:34.306Z"
   },
   {
    "duration": 0,
    "start_time": "2022-10-06T11:57:34.308Z"
   },
   {
    "duration": 0,
    "start_time": "2022-10-06T11:57:34.309Z"
   },
   {
    "duration": 0,
    "start_time": "2022-10-06T11:57:34.310Z"
   },
   {
    "duration": 0,
    "start_time": "2022-10-06T11:57:34.311Z"
   },
   {
    "duration": 0,
    "start_time": "2022-10-06T11:57:34.315Z"
   },
   {
    "duration": 0,
    "start_time": "2022-10-06T11:57:34.316Z"
   },
   {
    "duration": 0,
    "start_time": "2022-10-06T11:57:34.316Z"
   },
   {
    "duration": 0,
    "start_time": "2022-10-06T11:57:34.317Z"
   },
   {
    "duration": 0,
    "start_time": "2022-10-06T11:57:34.318Z"
   },
   {
    "duration": 0,
    "start_time": "2022-10-06T11:57:34.318Z"
   },
   {
    "duration": 0,
    "start_time": "2022-10-06T11:57:34.319Z"
   },
   {
    "duration": 0,
    "start_time": "2022-10-06T11:57:34.319Z"
   },
   {
    "duration": 0,
    "start_time": "2022-10-06T11:57:34.320Z"
   },
   {
    "duration": 0,
    "start_time": "2022-10-06T11:57:34.321Z"
   },
   {
    "duration": 0,
    "start_time": "2022-10-06T11:57:34.321Z"
   },
   {
    "duration": 0,
    "start_time": "2022-10-06T11:57:34.322Z"
   },
   {
    "duration": 0,
    "start_time": "2022-10-06T11:57:34.323Z"
   },
   {
    "duration": 0,
    "start_time": "2022-10-06T11:57:34.323Z"
   },
   {
    "duration": 0,
    "start_time": "2022-10-06T11:57:34.325Z"
   },
   {
    "duration": 0,
    "start_time": "2022-10-06T11:57:34.326Z"
   },
   {
    "duration": 0,
    "start_time": "2022-10-06T11:57:34.327Z"
   },
   {
    "duration": 0,
    "start_time": "2022-10-06T11:57:34.328Z"
   },
   {
    "duration": 0,
    "start_time": "2022-10-06T11:57:34.329Z"
   },
   {
    "duration": 0,
    "start_time": "2022-10-06T11:57:34.330Z"
   },
   {
    "duration": 0,
    "start_time": "2022-10-06T11:57:34.331Z"
   },
   {
    "duration": 0,
    "start_time": "2022-10-06T11:57:34.332Z"
   },
   {
    "duration": 0,
    "start_time": "2022-10-06T11:57:34.333Z"
   },
   {
    "duration": 0,
    "start_time": "2022-10-06T11:57:34.333Z"
   },
   {
    "duration": 0,
    "start_time": "2022-10-06T11:57:34.334Z"
   },
   {
    "duration": 0,
    "start_time": "2022-10-06T11:57:34.335Z"
   },
   {
    "duration": 0,
    "start_time": "2022-10-06T11:57:34.336Z"
   },
   {
    "duration": 0,
    "start_time": "2022-10-06T11:57:34.337Z"
   },
   {
    "duration": 0,
    "start_time": "2022-10-06T11:57:34.338Z"
   },
   {
    "duration": 0,
    "start_time": "2022-10-06T11:57:34.339Z"
   },
   {
    "duration": 0,
    "start_time": "2022-10-06T11:57:34.340Z"
   },
   {
    "duration": 0,
    "start_time": "2022-10-06T11:57:34.341Z"
   },
   {
    "duration": 0,
    "start_time": "2022-10-06T11:57:34.342Z"
   },
   {
    "duration": 0,
    "start_time": "2022-10-06T11:57:34.343Z"
   },
   {
    "duration": 0,
    "start_time": "2022-10-06T11:57:34.344Z"
   },
   {
    "duration": 0,
    "start_time": "2022-10-06T11:57:34.344Z"
   },
   {
    "duration": 0,
    "start_time": "2022-10-06T11:57:34.345Z"
   },
   {
    "duration": 0,
    "start_time": "2022-10-06T11:57:34.346Z"
   },
   {
    "duration": 0,
    "start_time": "2022-10-06T11:57:34.347Z"
   },
   {
    "duration": 0,
    "start_time": "2022-10-06T11:57:34.348Z"
   },
   {
    "duration": 0,
    "start_time": "2022-10-06T11:57:34.349Z"
   },
   {
    "duration": 0,
    "start_time": "2022-10-06T11:57:34.350Z"
   },
   {
    "duration": 0,
    "start_time": "2022-10-06T11:57:34.351Z"
   },
   {
    "duration": 0,
    "start_time": "2022-10-06T11:57:34.351Z"
   },
   {
    "duration": 0,
    "start_time": "2022-10-06T11:57:34.352Z"
   },
   {
    "duration": 0,
    "start_time": "2022-10-06T11:57:34.412Z"
   },
   {
    "duration": 1,
    "start_time": "2022-10-06T11:57:34.412Z"
   },
   {
    "duration": 0,
    "start_time": "2022-10-06T11:57:34.413Z"
   },
   {
    "duration": 0,
    "start_time": "2022-10-06T11:57:34.413Z"
   },
   {
    "duration": 0,
    "start_time": "2022-10-06T11:57:34.414Z"
   },
   {
    "duration": 0,
    "start_time": "2022-10-06T11:57:34.414Z"
   },
   {
    "duration": 0,
    "start_time": "2022-10-06T11:57:34.415Z"
   },
   {
    "duration": 1543,
    "start_time": "2022-10-06T11:57:45.264Z"
   },
   {
    "duration": 343,
    "start_time": "2022-10-06T11:57:46.816Z"
   },
   {
    "duration": 89,
    "start_time": "2022-10-06T11:57:47.160Z"
   },
   {
    "duration": 373,
    "start_time": "2022-10-06T11:57:47.251Z"
   },
   {
    "duration": 8,
    "start_time": "2022-10-06T11:57:47.626Z"
   },
   {
    "duration": 22,
    "start_time": "2022-10-06T11:57:47.635Z"
   },
   {
    "duration": 6,
    "start_time": "2022-10-06T11:57:47.659Z"
   },
   {
    "duration": 12,
    "start_time": "2022-10-06T11:57:47.666Z"
   },
   {
    "duration": 8,
    "start_time": "2022-10-06T11:57:47.679Z"
   },
   {
    "duration": 294,
    "start_time": "2022-10-06T11:57:47.689Z"
   },
   {
    "duration": 8,
    "start_time": "2022-10-06T11:57:47.985Z"
   },
   {
    "duration": 21,
    "start_time": "2022-10-06T11:57:47.994Z"
   },
   {
    "duration": 12,
    "start_time": "2022-10-06T11:57:48.019Z"
   },
   {
    "duration": 9,
    "start_time": "2022-10-06T11:57:48.033Z"
   },
   {
    "duration": 19,
    "start_time": "2022-10-06T11:57:48.044Z"
   },
   {
    "duration": 9,
    "start_time": "2022-10-06T11:57:48.065Z"
   },
   {
    "duration": 12,
    "start_time": "2022-10-06T11:57:48.075Z"
   },
   {
    "duration": 36,
    "start_time": "2022-10-06T11:57:48.089Z"
   },
   {
    "duration": 26,
    "start_time": "2022-10-06T11:57:48.127Z"
   },
   {
    "duration": 6,
    "start_time": "2022-10-06T11:57:48.155Z"
   },
   {
    "duration": 2290,
    "start_time": "2022-10-06T11:57:48.163Z"
   },
   {
    "duration": 2193,
    "start_time": "2022-10-06T11:57:50.454Z"
   },
   {
    "duration": 2194,
    "start_time": "2022-10-06T11:57:52.649Z"
   },
   {
    "duration": 227,
    "start_time": "2022-10-06T11:57:54.845Z"
   },
   {
    "duration": 193,
    "start_time": "2022-10-06T11:57:55.074Z"
   },
   {
    "duration": 192,
    "start_time": "2022-10-06T11:57:55.269Z"
   },
   {
    "duration": 208,
    "start_time": "2022-10-06T11:57:55.462Z"
   },
   {
    "duration": 19,
    "start_time": "2022-10-06T11:57:55.675Z"
   },
   {
    "duration": 183,
    "start_time": "2022-10-06T11:57:55.696Z"
   },
   {
    "duration": 189,
    "start_time": "2022-10-06T11:57:55.881Z"
   },
   {
    "duration": 17,
    "start_time": "2022-10-06T11:57:56.072Z"
   },
   {
    "duration": 160,
    "start_time": "2022-10-06T11:57:56.091Z"
   },
   {
    "duration": 17,
    "start_time": "2022-10-06T11:57:56.253Z"
   },
   {
    "duration": 243,
    "start_time": "2022-10-06T11:57:56.272Z"
   },
   {
    "duration": 189,
    "start_time": "2022-10-06T11:57:56.516Z"
   },
   {
    "duration": 194,
    "start_time": "2022-10-06T11:57:56.706Z"
   },
   {
    "duration": 25,
    "start_time": "2022-10-06T11:57:56.902Z"
   },
   {
    "duration": 181,
    "start_time": "2022-10-06T11:57:56.928Z"
   },
   {
    "duration": 166,
    "start_time": "2022-10-06T11:57:57.122Z"
   },
   {
    "duration": 35,
    "start_time": "2022-10-06T11:57:57.290Z"
   },
   {
    "duration": 157,
    "start_time": "2022-10-06T11:57:57.328Z"
   },
   {
    "duration": 185,
    "start_time": "2022-10-06T11:57:57.487Z"
   },
   {
    "duration": 13,
    "start_time": "2022-10-06T11:57:57.674Z"
   },
   {
    "duration": 176,
    "start_time": "2022-10-06T11:57:57.689Z"
   },
   {
    "duration": 9,
    "start_time": "2022-10-06T11:57:57.866Z"
   },
   {
    "duration": 7,
    "start_time": "2022-10-06T11:57:57.877Z"
   },
   {
    "duration": 7,
    "start_time": "2022-10-06T11:57:57.885Z"
   },
   {
    "duration": 10,
    "start_time": "2022-10-06T11:57:57.911Z"
   },
   {
    "duration": 7,
    "start_time": "2022-10-06T11:57:57.923Z"
   },
   {
    "duration": 7,
    "start_time": "2022-10-06T11:57:57.932Z"
   },
   {
    "duration": 7,
    "start_time": "2022-10-06T11:57:57.941Z"
   },
   {
    "duration": 5,
    "start_time": "2022-10-06T11:57:57.949Z"
   },
   {
    "duration": 6,
    "start_time": "2022-10-06T11:57:57.956Z"
   },
   {
    "duration": 8,
    "start_time": "2022-10-06T11:57:57.963Z"
   },
   {
    "duration": 6,
    "start_time": "2022-10-06T11:57:57.973Z"
   },
   {
    "duration": 8,
    "start_time": "2022-10-06T11:57:57.980Z"
   },
   {
    "duration": 5,
    "start_time": "2022-10-06T11:57:57.990Z"
   },
   {
    "duration": 3828,
    "start_time": "2022-10-06T11:57:57.996Z"
   },
   {
    "duration": 3294,
    "start_time": "2022-10-06T11:58:01.826Z"
   },
   {
    "duration": 12631,
    "start_time": "2022-10-06T11:58:05.122Z"
   },
   {
    "duration": 664,
    "start_time": "2022-10-06T11:58:17.755Z"
   },
   {
    "duration": 633,
    "start_time": "2022-10-06T11:58:18.421Z"
   },
   {
    "duration": 1960,
    "start_time": "2022-10-06T11:58:19.055Z"
   },
   {
    "duration": 2037,
    "start_time": "2022-10-06T11:58:21.017Z"
   },
   {
    "duration": 757,
    "start_time": "2022-10-06T11:58:23.056Z"
   },
   {
    "duration": 100,
    "start_time": "2022-10-06T11:59:00.486Z"
   },
   {
    "duration": 735,
    "start_time": "2022-10-06T12:04:39.391Z"
   },
   {
    "duration": 11,
    "start_time": "2022-10-06T12:05:27.525Z"
   },
   {
    "duration": 7,
    "start_time": "2022-10-06T12:07:37.539Z"
   },
   {
    "duration": 2,
    "start_time": "2022-10-06T12:07:37.935Z"
   },
   {
    "duration": 4,
    "start_time": "2022-10-06T12:07:38.286Z"
   },
   {
    "duration": 19,
    "start_time": "2022-10-06T12:32:54.003Z"
   },
   {
    "duration": 10,
    "start_time": "2022-10-06T12:41:29.022Z"
   },
   {
    "duration": 6,
    "start_time": "2022-10-06T12:42:33.824Z"
   },
   {
    "duration": 13,
    "start_time": "2022-10-06T12:42:36.949Z"
   },
   {
    "duration": 5,
    "start_time": "2022-10-06T12:42:37.822Z"
   },
   {
    "duration": 5,
    "start_time": "2022-10-06T12:43:16.863Z"
   },
   {
    "duration": 9,
    "start_time": "2022-10-06T12:43:27.508Z"
   },
   {
    "duration": 402,
    "start_time": "2022-10-06T12:43:27.520Z"
   },
   {
    "duration": 75,
    "start_time": "2022-10-06T12:43:27.924Z"
   },
   {
    "duration": 652,
    "start_time": "2022-10-06T12:43:28.001Z"
   },
   {
    "duration": 5,
    "start_time": "2022-10-06T12:43:28.658Z"
   },
   {
    "duration": 16,
    "start_time": "2022-10-06T12:43:28.664Z"
   },
   {
    "duration": 3,
    "start_time": "2022-10-06T12:43:28.681Z"
   },
   {
    "duration": 9,
    "start_time": "2022-10-06T12:43:28.685Z"
   },
   {
    "duration": 8,
    "start_time": "2022-10-06T12:43:28.711Z"
   },
   {
    "duration": 242,
    "start_time": "2022-10-06T12:43:28.721Z"
   },
   {
    "duration": 7,
    "start_time": "2022-10-06T12:43:28.965Z"
   },
   {
    "duration": 4,
    "start_time": "2022-10-06T12:43:28.974Z"
   },
   {
    "duration": 9,
    "start_time": "2022-10-06T12:43:28.980Z"
   },
   {
    "duration": 6,
    "start_time": "2022-10-06T12:43:29.020Z"
   },
   {
    "duration": 8,
    "start_time": "2022-10-06T12:43:29.028Z"
   },
   {
    "duration": 14,
    "start_time": "2022-10-06T12:43:29.038Z"
   },
   {
    "duration": 5,
    "start_time": "2022-10-06T12:43:29.053Z"
   },
   {
    "duration": 14,
    "start_time": "2022-10-06T12:43:29.059Z"
   },
   {
    "duration": 2,
    "start_time": "2022-10-06T12:43:29.075Z"
   },
   {
    "duration": 41,
    "start_time": "2022-10-06T12:43:29.079Z"
   },
   {
    "duration": 2297,
    "start_time": "2022-10-06T12:43:29.122Z"
   },
   {
    "duration": 2201,
    "start_time": "2022-10-06T12:43:31.424Z"
   },
   {
    "duration": 2207,
    "start_time": "2022-10-06T12:43:33.626Z"
   },
   {
    "duration": 189,
    "start_time": "2022-10-06T12:43:35.834Z"
   },
   {
    "duration": 182,
    "start_time": "2022-10-06T12:43:36.025Z"
   },
   {
    "duration": 222,
    "start_time": "2022-10-06T12:43:36.208Z"
   },
   {
    "duration": 190,
    "start_time": "2022-10-06T12:43:36.432Z"
   },
   {
    "duration": 12,
    "start_time": "2022-10-06T12:43:36.625Z"
   },
   {
    "duration": 188,
    "start_time": "2022-10-06T12:43:36.641Z"
   },
   {
    "duration": 192,
    "start_time": "2022-10-06T12:43:36.831Z"
   },
   {
    "duration": 16,
    "start_time": "2022-10-06T12:43:37.025Z"
   },
   {
    "duration": 158,
    "start_time": "2022-10-06T12:43:37.043Z"
   },
   {
    "duration": 22,
    "start_time": "2022-10-06T12:43:37.202Z"
   },
   {
    "duration": 274,
    "start_time": "2022-10-06T12:43:37.227Z"
   },
   {
    "duration": 190,
    "start_time": "2022-10-06T12:43:37.503Z"
   },
   {
    "duration": 184,
    "start_time": "2022-10-06T12:43:37.695Z"
   },
   {
    "duration": 17,
    "start_time": "2022-10-06T12:43:37.880Z"
   },
   {
    "duration": 192,
    "start_time": "2022-10-06T12:43:37.899Z"
   },
   {
    "duration": 179,
    "start_time": "2022-10-06T12:43:38.092Z"
   },
   {
    "duration": 10,
    "start_time": "2022-10-06T12:43:38.273Z"
   },
   {
    "duration": 175,
    "start_time": "2022-10-06T12:43:38.284Z"
   },
   {
    "duration": 179,
    "start_time": "2022-10-06T12:43:38.461Z"
   },
   {
    "duration": 16,
    "start_time": "2022-10-06T12:43:38.642Z"
   },
   {
    "duration": 181,
    "start_time": "2022-10-06T12:43:38.660Z"
   },
   {
    "duration": 8,
    "start_time": "2022-10-06T12:43:38.843Z"
   },
   {
    "duration": 18,
    "start_time": "2022-10-06T12:43:38.852Z"
   },
   {
    "duration": 30,
    "start_time": "2022-10-06T12:43:38.872Z"
   },
   {
    "duration": 32,
    "start_time": "2022-10-06T12:43:38.903Z"
   },
   {
    "duration": 14,
    "start_time": "2022-10-06T12:43:38.937Z"
   },
   {
    "duration": 17,
    "start_time": "2022-10-06T12:43:38.953Z"
   },
   {
    "duration": 15,
    "start_time": "2022-10-06T12:43:38.971Z"
   },
   {
    "duration": 11,
    "start_time": "2022-10-06T12:43:38.988Z"
   },
   {
    "duration": 28,
    "start_time": "2022-10-06T12:43:39.001Z"
   },
   {
    "duration": 37,
    "start_time": "2022-10-06T12:43:39.030Z"
   },
   {
    "duration": 13,
    "start_time": "2022-10-06T12:43:39.068Z"
   },
   {
    "duration": 42,
    "start_time": "2022-10-06T12:43:39.082Z"
   },
   {
    "duration": 27,
    "start_time": "2022-10-06T12:43:39.126Z"
   },
   {
    "duration": 4576,
    "start_time": "2022-10-06T12:43:39.155Z"
   },
   {
    "duration": 5108,
    "start_time": "2022-10-06T12:43:43.819Z"
   },
   {
    "duration": 16479,
    "start_time": "2022-10-06T12:43:48.928Z"
   },
   {
    "duration": 842,
    "start_time": "2022-10-06T12:44:05.408Z"
   },
   {
    "duration": 838,
    "start_time": "2022-10-06T12:44:06.252Z"
   },
   {
    "duration": 2710,
    "start_time": "2022-10-06T12:44:07.092Z"
   },
   {
    "duration": 2615,
    "start_time": "2022-10-06T12:44:09.803Z"
   },
   {
    "duration": 609,
    "start_time": "2022-10-06T12:44:12.420Z"
   },
   {
    "duration": 196,
    "start_time": "2022-10-06T12:44:13.031Z"
   },
   {
    "duration": 79,
    "start_time": "2022-10-06T12:44:13.230Z"
   },
   {
    "duration": 116,
    "start_time": "2022-10-06T12:44:13.311Z"
   },
   {
    "duration": 13,
    "start_time": "2022-10-06T12:44:13.429Z"
   },
   {
    "duration": 13,
    "start_time": "2022-10-06T12:44:13.443Z"
   },
   {
    "duration": 36,
    "start_time": "2022-10-06T12:44:13.458Z"
   },
   {
    "duration": 13,
    "start_time": "2022-10-06T12:44:13.495Z"
   },
   {
    "duration": 73,
    "start_time": "2022-10-06T12:44:38.165Z"
   },
   {
    "duration": 1393,
    "start_time": "2022-10-06T12:45:26.869Z"
   },
   {
    "duration": 303,
    "start_time": "2022-10-06T12:45:28.264Z"
   },
   {
    "duration": 86,
    "start_time": "2022-10-06T12:45:28.569Z"
   },
   {
    "duration": 713,
    "start_time": "2022-10-06T12:45:28.657Z"
   },
   {
    "duration": 6,
    "start_time": "2022-10-06T12:45:29.372Z"
   },
   {
    "duration": 16,
    "start_time": "2022-10-06T12:45:29.379Z"
   },
   {
    "duration": 23,
    "start_time": "2022-10-06T12:45:29.397Z"
   },
   {
    "duration": 11,
    "start_time": "2022-10-06T12:45:29.421Z"
   },
   {
    "duration": 6,
    "start_time": "2022-10-06T12:45:29.433Z"
   },
   {
    "duration": 258,
    "start_time": "2022-10-06T12:45:29.441Z"
   },
   {
    "duration": 20,
    "start_time": "2022-10-06T12:45:29.701Z"
   },
   {
    "duration": 5,
    "start_time": "2022-10-06T12:45:29.724Z"
   },
   {
    "duration": 8,
    "start_time": "2022-10-06T12:45:29.730Z"
   },
   {
    "duration": 5,
    "start_time": "2022-10-06T12:45:29.740Z"
   },
   {
    "duration": 5,
    "start_time": "2022-10-06T12:45:29.746Z"
   },
   {
    "duration": 3,
    "start_time": "2022-10-06T12:45:29.752Z"
   },
   {
    "duration": 4,
    "start_time": "2022-10-06T12:45:29.756Z"
   },
   {
    "duration": 5,
    "start_time": "2022-10-06T12:45:29.761Z"
   },
   {
    "duration": 4,
    "start_time": "2022-10-06T12:45:29.767Z"
   },
   {
    "duration": 6,
    "start_time": "2022-10-06T12:45:29.772Z"
   },
   {
    "duration": 2241,
    "start_time": "2022-10-06T12:45:29.808Z"
   },
   {
    "duration": 2202,
    "start_time": "2022-10-06T12:45:32.051Z"
   },
   {
    "duration": 2293,
    "start_time": "2022-10-06T12:45:34.254Z"
   },
   {
    "duration": 190,
    "start_time": "2022-10-06T12:45:36.549Z"
   },
   {
    "duration": 204,
    "start_time": "2022-10-06T12:45:36.740Z"
   },
   {
    "duration": 196,
    "start_time": "2022-10-06T12:45:36.946Z"
   },
   {
    "duration": 189,
    "start_time": "2022-10-06T12:45:37.144Z"
   },
   {
    "duration": 20,
    "start_time": "2022-10-06T12:45:37.337Z"
   },
   {
    "duration": 209,
    "start_time": "2022-10-06T12:45:37.358Z"
   },
   {
    "duration": 273,
    "start_time": "2022-10-06T12:45:37.569Z"
   },
   {
    "duration": 17,
    "start_time": "2022-10-06T12:45:37.844Z"
   },
   {
    "duration": 169,
    "start_time": "2022-10-06T12:45:37.863Z"
   },
   {
    "duration": 17,
    "start_time": "2022-10-06T12:45:38.034Z"
   },
   {
    "duration": 180,
    "start_time": "2022-10-06T12:45:38.053Z"
   },
   {
    "duration": 189,
    "start_time": "2022-10-06T12:45:38.235Z"
   },
   {
    "duration": 206,
    "start_time": "2022-10-06T12:45:38.426Z"
   },
   {
    "duration": 18,
    "start_time": "2022-10-06T12:45:38.634Z"
   },
   {
    "duration": 209,
    "start_time": "2022-10-06T12:45:38.655Z"
   },
   {
    "duration": 174,
    "start_time": "2022-10-06T12:45:38.866Z"
   },
   {
    "duration": 13,
    "start_time": "2022-10-06T12:45:39.042Z"
   },
   {
    "duration": 175,
    "start_time": "2022-10-06T12:45:39.057Z"
   },
   {
    "duration": 186,
    "start_time": "2022-10-06T12:45:39.234Z"
   },
   {
    "duration": 13,
    "start_time": "2022-10-06T12:45:39.422Z"
   },
   {
    "duration": 258,
    "start_time": "2022-10-06T12:45:39.436Z"
   },
   {
    "duration": 24,
    "start_time": "2022-10-06T12:45:39.696Z"
   },
   {
    "duration": 4,
    "start_time": "2022-10-06T12:45:39.722Z"
   },
   {
    "duration": 30,
    "start_time": "2022-10-06T12:45:39.727Z"
   },
   {
    "duration": 6,
    "start_time": "2022-10-06T12:45:39.758Z"
   },
   {
    "duration": 23,
    "start_time": "2022-10-06T12:45:39.765Z"
   },
   {
    "duration": 10,
    "start_time": "2022-10-06T12:45:39.789Z"
   },
   {
    "duration": 29,
    "start_time": "2022-10-06T12:45:39.801Z"
   },
   {
    "duration": 15,
    "start_time": "2022-10-06T12:45:39.832Z"
   },
   {
    "duration": 20,
    "start_time": "2022-10-06T12:45:39.848Z"
   },
   {
    "duration": 23,
    "start_time": "2022-10-06T12:45:39.869Z"
   },
   {
    "duration": 47,
    "start_time": "2022-10-06T12:45:39.894Z"
   },
   {
    "duration": 21,
    "start_time": "2022-10-06T12:45:39.942Z"
   },
   {
    "duration": 23,
    "start_time": "2022-10-06T12:45:39.965Z"
   },
   {
    "duration": 71,
    "start_time": "2022-10-06T12:45:39.989Z"
   },
   {
    "duration": 57,
    "start_time": "2022-10-06T12:45:40.062Z"
   },
   {
    "duration": 153,
    "start_time": "2022-10-06T12:45:40.122Z"
   },
   {
    "duration": 0,
    "start_time": "2022-10-06T12:45:40.277Z"
   },
   {
    "duration": 0,
    "start_time": "2022-10-06T12:45:40.278Z"
   },
   {
    "duration": 0,
    "start_time": "2022-10-06T12:45:40.279Z"
   },
   {
    "duration": 0,
    "start_time": "2022-10-06T12:45:40.280Z"
   },
   {
    "duration": 0,
    "start_time": "2022-10-06T12:45:40.281Z"
   },
   {
    "duration": 0,
    "start_time": "2022-10-06T12:45:40.281Z"
   },
   {
    "duration": 0,
    "start_time": "2022-10-06T12:45:40.283Z"
   },
   {
    "duration": 0,
    "start_time": "2022-10-06T12:45:40.284Z"
   },
   {
    "duration": 0,
    "start_time": "2022-10-06T12:45:40.285Z"
   },
   {
    "duration": 0,
    "start_time": "2022-10-06T12:45:40.286Z"
   },
   {
    "duration": 0,
    "start_time": "2022-10-06T12:45:40.287Z"
   },
   {
    "duration": 0,
    "start_time": "2022-10-06T12:45:40.288Z"
   },
   {
    "duration": 0,
    "start_time": "2022-10-06T12:45:40.288Z"
   },
   {
    "duration": 7,
    "start_time": "2022-10-06T12:46:34.626Z"
   },
   {
    "duration": 4,
    "start_time": "2022-10-06T12:46:40.643Z"
   },
   {
    "duration": 332,
    "start_time": "2022-10-06T12:46:40.649Z"
   },
   {
    "duration": 91,
    "start_time": "2022-10-06T12:46:40.982Z"
   },
   {
    "duration": 678,
    "start_time": "2022-10-06T12:46:41.075Z"
   },
   {
    "duration": 5,
    "start_time": "2022-10-06T12:46:41.754Z"
   },
   {
    "duration": 17,
    "start_time": "2022-10-06T12:46:41.760Z"
   },
   {
    "duration": 4,
    "start_time": "2022-10-06T12:46:41.779Z"
   },
   {
    "duration": 9,
    "start_time": "2022-10-06T12:46:41.785Z"
   },
   {
    "duration": 12,
    "start_time": "2022-10-06T12:46:41.815Z"
   },
   {
    "duration": 241,
    "start_time": "2022-10-06T12:46:41.828Z"
   },
   {
    "duration": 8,
    "start_time": "2022-10-06T12:46:42.070Z"
   },
   {
    "duration": 5,
    "start_time": "2022-10-06T12:46:42.079Z"
   },
   {
    "duration": 29,
    "start_time": "2022-10-06T12:46:42.086Z"
   },
   {
    "duration": 12,
    "start_time": "2022-10-06T12:46:42.117Z"
   },
   {
    "duration": 7,
    "start_time": "2022-10-06T12:46:42.130Z"
   },
   {
    "duration": 3,
    "start_time": "2022-10-06T12:46:42.140Z"
   },
   {
    "duration": 12,
    "start_time": "2022-10-06T12:46:42.145Z"
   },
   {
    "duration": 6,
    "start_time": "2022-10-06T12:46:42.158Z"
   },
   {
    "duration": 4,
    "start_time": "2022-10-06T12:46:42.166Z"
   },
   {
    "duration": 6,
    "start_time": "2022-10-06T12:46:42.172Z"
   },
   {
    "duration": 2328,
    "start_time": "2022-10-06T12:46:42.180Z"
   },
   {
    "duration": 2171,
    "start_time": "2022-10-06T12:46:44.523Z"
   },
   {
    "duration": 2252,
    "start_time": "2022-10-06T12:46:46.696Z"
   },
   {
    "duration": 196,
    "start_time": "2022-10-06T12:46:48.952Z"
   },
   {
    "duration": 183,
    "start_time": "2022-10-06T12:46:49.149Z"
   },
   {
    "duration": 189,
    "start_time": "2022-10-06T12:46:49.334Z"
   },
   {
    "duration": 183,
    "start_time": "2022-10-06T12:46:49.525Z"
   },
   {
    "duration": 11,
    "start_time": "2022-10-06T12:46:49.721Z"
   },
   {
    "duration": 184,
    "start_time": "2022-10-06T12:46:49.733Z"
   },
   {
    "duration": 176,
    "start_time": "2022-10-06T12:46:49.921Z"
   },
   {
    "duration": 27,
    "start_time": "2022-10-06T12:46:50.099Z"
   },
   {
    "duration": 257,
    "start_time": "2022-10-06T12:46:50.128Z"
   },
   {
    "duration": 34,
    "start_time": "2022-10-06T12:46:50.386Z"
   },
   {
    "duration": 171,
    "start_time": "2022-10-06T12:46:50.422Z"
   },
   {
    "duration": 177,
    "start_time": "2022-10-06T12:46:50.595Z"
   },
   {
    "duration": 187,
    "start_time": "2022-10-06T12:46:50.774Z"
   },
   {
    "duration": 13,
    "start_time": "2022-10-06T12:46:50.962Z"
   },
   {
    "duration": 192,
    "start_time": "2022-10-06T12:46:50.976Z"
   },
   {
    "duration": 194,
    "start_time": "2022-10-06T12:46:51.169Z"
   },
   {
    "duration": 15,
    "start_time": "2022-10-06T12:46:51.365Z"
   },
   {
    "duration": 202,
    "start_time": "2022-10-06T12:46:51.382Z"
   },
   {
    "duration": 180,
    "start_time": "2022-10-06T12:46:51.585Z"
   },
   {
    "duration": 13,
    "start_time": "2022-10-06T12:46:51.766Z"
   },
   {
    "duration": 179,
    "start_time": "2022-10-06T12:46:51.781Z"
   },
   {
    "duration": 9,
    "start_time": "2022-10-06T12:46:51.961Z"
   },
   {
    "duration": 13,
    "start_time": "2022-10-06T12:46:51.972Z"
   },
   {
    "duration": 19,
    "start_time": "2022-10-06T12:46:51.986Z"
   },
   {
    "duration": 19,
    "start_time": "2022-10-06T12:46:52.006Z"
   },
   {
    "duration": 11,
    "start_time": "2022-10-06T12:46:52.027Z"
   },
   {
    "duration": 11,
    "start_time": "2022-10-06T12:46:52.039Z"
   },
   {
    "duration": 3,
    "start_time": "2022-10-06T12:46:52.052Z"
   },
   {
    "duration": 6,
    "start_time": "2022-10-06T12:46:52.056Z"
   },
   {
    "duration": 8,
    "start_time": "2022-10-06T12:46:52.063Z"
   },
   {
    "duration": 12,
    "start_time": "2022-10-06T12:46:52.073Z"
   },
   {
    "duration": 8,
    "start_time": "2022-10-06T12:46:52.087Z"
   },
   {
    "duration": 25,
    "start_time": "2022-10-06T12:46:52.096Z"
   },
   {
    "duration": 20,
    "start_time": "2022-10-06T12:46:52.123Z"
   },
   {
    "duration": 20,
    "start_time": "2022-10-06T12:46:52.145Z"
   },
   {
    "duration": 0,
    "start_time": "2022-10-06T12:46:52.167Z"
   },
   {
    "duration": 3,
    "start_time": "2022-10-06T12:47:07.334Z"
   },
   {
    "duration": 3,
    "start_time": "2022-10-06T12:47:08.022Z"
   },
   {
    "duration": 3,
    "start_time": "2022-10-06T12:47:08.261Z"
   },
   {
    "duration": 4,
    "start_time": "2022-10-06T12:47:09.065Z"
   },
   {
    "duration": 7,
    "start_time": "2022-10-06T12:47:09.288Z"
   },
   {
    "duration": 7,
    "start_time": "2022-10-06T12:47:09.563Z"
   },
   {
    "duration": 4,
    "start_time": "2022-10-06T12:47:09.922Z"
   },
   {
    "duration": 3,
    "start_time": "2022-10-06T12:47:11.923Z"
   },
   {
    "duration": 54,
    "start_time": "2022-10-06T12:47:13.044Z"
   },
   {
    "duration": 11,
    "start_time": "2022-10-06T12:47:39.708Z"
   },
   {
    "duration": 4,
    "start_time": "2022-10-06T12:47:42.201Z"
   },
   {
    "duration": 5,
    "start_time": "2022-10-06T12:47:53.188Z"
   },
   {
    "duration": 295,
    "start_time": "2022-10-06T12:47:53.194Z"
   },
   {
    "duration": 84,
    "start_time": "2022-10-06T12:47:53.491Z"
   },
   {
    "duration": 690,
    "start_time": "2022-10-06T12:47:53.576Z"
   },
   {
    "duration": 5,
    "start_time": "2022-10-06T12:47:54.267Z"
   },
   {
    "duration": 18,
    "start_time": "2022-10-06T12:47:54.274Z"
   },
   {
    "duration": 26,
    "start_time": "2022-10-06T12:47:54.293Z"
   },
   {
    "duration": 11,
    "start_time": "2022-10-06T12:47:54.321Z"
   },
   {
    "duration": 6,
    "start_time": "2022-10-06T12:47:54.333Z"
   },
   {
    "duration": 242,
    "start_time": "2022-10-06T12:47:54.341Z"
   },
   {
    "duration": 9,
    "start_time": "2022-10-06T12:47:54.584Z"
   },
   {
    "duration": 25,
    "start_time": "2022-10-06T12:47:54.595Z"
   },
   {
    "duration": 20,
    "start_time": "2022-10-06T12:47:54.622Z"
   },
   {
    "duration": 5,
    "start_time": "2022-10-06T12:47:54.645Z"
   },
   {
    "duration": 6,
    "start_time": "2022-10-06T12:47:54.651Z"
   },
   {
    "duration": 2,
    "start_time": "2022-10-06T12:47:54.658Z"
   },
   {
    "duration": 11,
    "start_time": "2022-10-06T12:47:54.661Z"
   },
   {
    "duration": 4,
    "start_time": "2022-10-06T12:47:54.674Z"
   },
   {
    "duration": 21,
    "start_time": "2022-10-06T12:47:54.679Z"
   },
   {
    "duration": 20,
    "start_time": "2022-10-06T12:47:54.701Z"
   },
   {
    "duration": 1929,
    "start_time": "2022-10-06T12:47:54.723Z"
   },
   {
    "duration": 1823,
    "start_time": "2022-10-06T12:47:56.655Z"
   },
   {
    "duration": 1916,
    "start_time": "2022-10-06T12:47:58.480Z"
   },
   {
    "duration": 179,
    "start_time": "2022-10-06T12:48:00.397Z"
   },
   {
    "duration": 327,
    "start_time": "2022-10-06T12:48:00.578Z"
   },
   {
    "duration": 190,
    "start_time": "2022-10-06T12:48:00.908Z"
   },
   {
    "duration": 195,
    "start_time": "2022-10-06T12:48:01.100Z"
   },
   {
    "duration": 14,
    "start_time": "2022-10-06T12:48:01.297Z"
   },
   {
    "duration": 210,
    "start_time": "2022-10-06T12:48:01.321Z"
   },
   {
    "duration": 189,
    "start_time": "2022-10-06T12:48:01.533Z"
   },
   {
    "duration": 16,
    "start_time": "2022-10-06T12:48:01.724Z"
   },
   {
    "duration": 182,
    "start_time": "2022-10-06T12:48:01.742Z"
   },
   {
    "duration": 15,
    "start_time": "2022-10-06T12:48:01.926Z"
   },
   {
    "duration": 180,
    "start_time": "2022-10-06T12:48:01.943Z"
   },
   {
    "duration": 170,
    "start_time": "2022-10-06T12:48:02.125Z"
   },
   {
    "duration": 170,
    "start_time": "2022-10-06T12:48:02.296Z"
   },
   {
    "duration": 12,
    "start_time": "2022-10-06T12:48:02.468Z"
   },
   {
    "duration": 212,
    "start_time": "2022-10-06T12:48:02.482Z"
   },
   {
    "duration": 231,
    "start_time": "2022-10-06T12:48:02.696Z"
   },
   {
    "duration": 13,
    "start_time": "2022-10-06T12:48:02.928Z"
   },
   {
    "duration": 179,
    "start_time": "2022-10-06T12:48:02.945Z"
   },
   {
    "duration": 201,
    "start_time": "2022-10-06T12:48:03.126Z"
   },
   {
    "duration": 12,
    "start_time": "2022-10-06T12:48:03.329Z"
   },
   {
    "duration": 319,
    "start_time": "2022-10-06T12:48:03.342Z"
   },
   {
    "duration": 9,
    "start_time": "2022-10-06T12:48:03.662Z"
   },
   {
    "duration": 16,
    "start_time": "2022-10-06T12:48:03.672Z"
   },
   {
    "duration": 10,
    "start_time": "2022-10-06T12:48:03.690Z"
   },
   {
    "duration": 20,
    "start_time": "2022-10-06T12:48:03.701Z"
   },
   {
    "duration": 18,
    "start_time": "2022-10-06T12:48:03.723Z"
   },
   {
    "duration": 12,
    "start_time": "2022-10-06T12:48:03.742Z"
   },
   {
    "duration": 12,
    "start_time": "2022-10-06T12:48:03.755Z"
   },
   {
    "duration": 17,
    "start_time": "2022-10-06T12:48:03.769Z"
   },
   {
    "duration": 8,
    "start_time": "2022-10-06T12:48:03.787Z"
   },
   {
    "duration": 26,
    "start_time": "2022-10-06T12:48:03.797Z"
   },
   {
    "duration": 29,
    "start_time": "2022-10-06T12:48:03.824Z"
   },
   {
    "duration": 10,
    "start_time": "2022-10-06T12:48:03.855Z"
   },
   {
    "duration": 7,
    "start_time": "2022-10-06T12:48:03.866Z"
   },
   {
    "duration": 4154,
    "start_time": "2022-10-06T12:48:03.874Z"
   },
   {
    "duration": 3602,
    "start_time": "2022-10-06T12:48:08.030Z"
   },
   {
    "duration": 12668,
    "start_time": "2022-10-06T12:48:11.634Z"
   },
   {
    "duration": 654,
    "start_time": "2022-10-06T12:48:24.304Z"
   },
   {
    "duration": 638,
    "start_time": "2022-10-06T12:48:24.959Z"
   },
   {
    "duration": 1944,
    "start_time": "2022-10-06T12:48:25.598Z"
   },
   {
    "duration": 2010,
    "start_time": "2022-10-06T12:48:27.544Z"
   },
   {
    "duration": 975,
    "start_time": "2022-10-06T12:48:29.556Z"
   },
   {
    "duration": 16,
    "start_time": "2022-10-06T12:48:30.613Z"
   },
   {
    "duration": 0,
    "start_time": "2022-10-06T12:48:30.631Z"
   },
   {
    "duration": 0,
    "start_time": "2022-10-06T12:48:30.632Z"
   },
   {
    "duration": 0,
    "start_time": "2022-10-06T12:48:30.632Z"
   },
   {
    "duration": 0,
    "start_time": "2022-10-06T12:48:30.633Z"
   },
   {
    "duration": 0,
    "start_time": "2022-10-06T12:48:30.633Z"
   },
   {
    "duration": 0,
    "start_time": "2022-10-06T12:48:30.634Z"
   },
   {
    "duration": 0,
    "start_time": "2022-10-06T12:48:30.634Z"
   },
   {
    "duration": 7,
    "start_time": "2022-10-06T12:48:39.599Z"
   },
   {
    "duration": 2,
    "start_time": "2022-10-06T12:48:40.436Z"
   },
   {
    "duration": 5,
    "start_time": "2022-10-06T12:48:40.792Z"
   },
   {
    "duration": 5,
    "start_time": "2022-10-06T12:48:42.922Z"
   },
   {
    "duration": 3,
    "start_time": "2022-10-06T12:48:43.834Z"
   },
   {
    "duration": 69,
    "start_time": "2022-10-06T12:48:44.857Z"
   },
   {
    "duration": 3,
    "start_time": "2022-10-06T12:48:45.266Z"
   },
   {
    "duration": 3,
    "start_time": "2022-10-06T12:48:46.121Z"
   },
   {
    "duration": 6,
    "start_time": "2022-10-06T12:49:11.539Z"
   },
   {
    "duration": 5,
    "start_time": "2022-10-06T12:49:13.845Z"
   },
   {
    "duration": 3,
    "start_time": "2022-10-06T12:49:14.422Z"
   },
   {
    "duration": 4,
    "start_time": "2022-10-06T12:49:58.799Z"
   },
   {
    "duration": 1480,
    "start_time": "2022-10-06T12:50:37.588Z"
   },
   {
    "duration": 315,
    "start_time": "2022-10-06T12:50:39.070Z"
   },
   {
    "duration": 97,
    "start_time": "2022-10-06T12:50:39.387Z"
   },
   {
    "duration": 710,
    "start_time": "2022-10-06T12:50:39.488Z"
   },
   {
    "duration": 20,
    "start_time": "2022-10-06T12:50:40.200Z"
   },
   {
    "duration": 19,
    "start_time": "2022-10-06T12:50:40.222Z"
   },
   {
    "duration": 4,
    "start_time": "2022-10-06T12:50:40.242Z"
   },
   {
    "duration": 10,
    "start_time": "2022-10-06T12:50:40.248Z"
   },
   {
    "duration": 9,
    "start_time": "2022-10-06T12:50:40.260Z"
   },
   {
    "duration": 267,
    "start_time": "2022-10-06T12:50:40.270Z"
   },
   {
    "duration": 7,
    "start_time": "2022-10-06T12:50:40.539Z"
   },
   {
    "duration": 5,
    "start_time": "2022-10-06T12:50:40.548Z"
   },
   {
    "duration": 9,
    "start_time": "2022-10-06T12:50:40.554Z"
   },
   {
    "duration": 30,
    "start_time": "2022-10-06T12:50:40.566Z"
   },
   {
    "duration": 7,
    "start_time": "2022-10-06T12:50:40.598Z"
   },
   {
    "duration": 4,
    "start_time": "2022-10-06T12:50:40.607Z"
   },
   {
    "duration": 20,
    "start_time": "2022-10-06T12:50:40.612Z"
   },
   {
    "duration": 2,
    "start_time": "2022-10-06T12:50:40.634Z"
   },
   {
    "duration": 22,
    "start_time": "2022-10-06T12:50:40.638Z"
   },
   {
    "duration": 13,
    "start_time": "2022-10-06T12:50:40.661Z"
   },
   {
    "duration": 2051,
    "start_time": "2022-10-06T12:50:40.675Z"
   },
   {
    "duration": 1847,
    "start_time": "2022-10-06T12:50:42.728Z"
   },
   {
    "duration": 1922,
    "start_time": "2022-10-06T12:50:44.577Z"
   },
   {
    "duration": 233,
    "start_time": "2022-10-06T12:50:46.501Z"
   },
   {
    "duration": 185,
    "start_time": "2022-10-06T12:50:46.735Z"
   },
   {
    "duration": 205,
    "start_time": "2022-10-06T12:50:46.922Z"
   },
   {
    "duration": 199,
    "start_time": "2022-10-06T12:50:47.130Z"
   },
   {
    "duration": 15,
    "start_time": "2022-10-06T12:50:47.331Z"
   },
   {
    "duration": 210,
    "start_time": "2022-10-06T12:50:47.348Z"
   },
   {
    "duration": 192,
    "start_time": "2022-10-06T12:50:47.560Z"
   },
   {
    "duration": 15,
    "start_time": "2022-10-06T12:50:47.753Z"
   },
   {
    "duration": 169,
    "start_time": "2022-10-06T12:50:47.770Z"
   },
   {
    "duration": 14,
    "start_time": "2022-10-06T12:50:47.941Z"
   },
   {
    "duration": 266,
    "start_time": "2022-10-06T12:50:47.956Z"
   },
   {
    "duration": 178,
    "start_time": "2022-10-06T12:50:48.225Z"
   },
   {
    "duration": 173,
    "start_time": "2022-10-06T12:50:48.404Z"
   },
   {
    "duration": 15,
    "start_time": "2022-10-06T12:50:48.579Z"
   },
   {
    "duration": 191,
    "start_time": "2022-10-06T12:50:48.596Z"
   },
   {
    "duration": 183,
    "start_time": "2022-10-06T12:50:48.789Z"
   },
   {
    "duration": 12,
    "start_time": "2022-10-06T12:50:48.973Z"
   },
   {
    "duration": 171,
    "start_time": "2022-10-06T12:50:48.990Z"
   },
   {
    "duration": 193,
    "start_time": "2022-10-06T12:50:49.163Z"
   },
   {
    "duration": 12,
    "start_time": "2022-10-06T12:50:49.358Z"
   },
   {
    "duration": 173,
    "start_time": "2022-10-06T12:50:49.372Z"
   },
   {
    "duration": 9,
    "start_time": "2022-10-06T12:50:49.547Z"
   },
   {
    "duration": 33,
    "start_time": "2022-10-06T12:50:49.557Z"
   },
   {
    "duration": 24,
    "start_time": "2022-10-06T12:50:49.591Z"
   },
   {
    "duration": 55,
    "start_time": "2022-10-06T12:50:49.616Z"
   },
   {
    "duration": 60,
    "start_time": "2022-10-06T12:50:49.673Z"
   },
   {
    "duration": 28,
    "start_time": "2022-10-06T12:50:49.735Z"
   },
   {
    "duration": 28,
    "start_time": "2022-10-06T12:50:49.765Z"
   },
   {
    "duration": 35,
    "start_time": "2022-10-06T12:50:49.794Z"
   },
   {
    "duration": 18,
    "start_time": "2022-10-06T12:50:49.831Z"
   },
   {
    "duration": 30,
    "start_time": "2022-10-06T12:50:49.850Z"
   },
   {
    "duration": 44,
    "start_time": "2022-10-06T12:50:49.882Z"
   },
   {
    "duration": 19,
    "start_time": "2022-10-06T12:50:49.928Z"
   },
   {
    "duration": 25,
    "start_time": "2022-10-06T12:50:49.948Z"
   },
   {
    "duration": 3752,
    "start_time": "2022-10-06T12:50:49.975Z"
   },
   {
    "duration": 3589,
    "start_time": "2022-10-06T12:50:53.729Z"
   },
   {
    "duration": 12630,
    "start_time": "2022-10-06T12:50:57.323Z"
   },
   {
    "duration": 645,
    "start_time": "2022-10-06T12:51:09.955Z"
   },
   {
    "duration": 676,
    "start_time": "2022-10-06T12:51:10.602Z"
   },
   {
    "duration": 2058,
    "start_time": "2022-10-06T12:51:11.279Z"
   },
   {
    "duration": 2077,
    "start_time": "2022-10-06T12:51:13.338Z"
   },
   {
    "duration": 1010,
    "start_time": "2022-10-06T12:51:15.417Z"
   },
   {
    "duration": 13,
    "start_time": "2022-10-06T12:51:16.512Z"
   },
   {
    "duration": 88,
    "start_time": "2022-10-06T12:51:16.527Z"
   },
   {
    "duration": 97,
    "start_time": "2022-10-06T12:51:16.623Z"
   },
   {
    "duration": 7,
    "start_time": "2022-10-06T12:51:16.722Z"
   },
   {
    "duration": 3,
    "start_time": "2022-10-06T12:51:16.731Z"
   },
   {
    "duration": 9,
    "start_time": "2022-10-06T12:51:16.736Z"
   },
   {
    "duration": 5,
    "start_time": "2022-10-06T12:51:16.746Z"
   },
   {
    "duration": 7,
    "start_time": "2022-10-06T12:51:16.752Z"
   },
   {
    "duration": 1239,
    "start_time": "2022-10-06T12:51:34.830Z"
   },
   {
    "duration": 1236,
    "start_time": "2022-10-06T12:51:39.402Z"
   }
  ],
  "kernelspec": {
   "display_name": "Python 3 (ipykernel)",
   "language": "python",
   "name": "python3"
  },
  "language_info": {
   "codemirror_mode": {
    "name": "ipython",
    "version": 3
   },
   "file_extension": ".py",
   "mimetype": "text/x-python",
   "name": "python",
   "nbconvert_exporter": "python",
   "pygments_lexer": "ipython3",
   "version": "3.9.12"
  },
  "toc": {
   "base_numbering": 1,
   "nav_menu": {},
   "number_sections": true,
   "sideBar": true,
   "skip_h1_title": true,
   "title_cell": "Содержание",
   "title_sidebar": "Contents",
   "toc_cell": true,
   "toc_position": {
    "height": "calc(100% - 180px)",
    "left": "10px",
    "top": "150px",
    "width": "499px"
   },
   "toc_section_display": true,
   "toc_window_display": true
  }
 },
 "nbformat": 4,
 "nbformat_minor": 2
}
