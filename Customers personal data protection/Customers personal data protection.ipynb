{
 "cells": [
  {
   "cell_type": "markdown",
   "metadata": {
    "toc": true
   },
   "source": [
    "<h1>Содержание<span class=\"tocSkip\"></span></h1>\n",
    "<div class=\"toc\"><ul class=\"toc-item\"><li><span><a href=\"#Open-the-data\" data-toc-modified-id=\"Open-the-data-1\"><span class=\"toc-item-num\">1&nbsp;&nbsp;</span>Open the data</a></span><ul class=\"toc-item\"><li><span><a href=\"#Import-all-necessary\" data-toc-modified-id=\"Import-all-necessary-1.1\"><span class=\"toc-item-num\">1.1&nbsp;&nbsp;</span>Import all necessary</a></span></li><li><span><a href=\"#Откроем-и-изучим-данные\" data-toc-modified-id=\"Откроем-и-изучим-данные-1.2\"><span class=\"toc-item-num\">1.2&nbsp;&nbsp;</span>Откроем и изучим данные</a></span></li><li><span><a href=\"#Preprocess-the-data\" data-toc-modified-id=\"Preprocess-the-data-1.3\"><span class=\"toc-item-num\">1.3&nbsp;&nbsp;</span>Preprocess the data</a></span></li></ul></li><li><span><a href=\"#Matrix-multiplication\" data-toc-modified-id=\"Matrix-multiplication-2\"><span class=\"toc-item-num\">2&nbsp;&nbsp;</span>Matrix multiplication</a></span></li><li><span><a href=\"#Conversion-algorithm\" data-toc-modified-id=\"Conversion-algorithm-3\"><span class=\"toc-item-num\">3&nbsp;&nbsp;</span>Conversion algorithm</a></span></li><li><span><a href=\"#Algorithm-check\" data-toc-modified-id=\"Algorithm-check-4\"><span class=\"toc-item-num\">4&nbsp;&nbsp;</span>Algorithm check</a></span><ul class=\"toc-item\"><li><span><a href=\"#Determine-the-features-and-train-the-model-before-transformation\" data-toc-modified-id=\"Determine-the-features-and-train-the-model-before-transformation-4.1\"><span class=\"toc-item-num\">4.1&nbsp;&nbsp;</span>Determine the features and train the model before transformation</a></span><ul class=\"toc-item\"><li><span><a href=\"#Calculate-R2-metric-before-transformation\" data-toc-modified-id=\"Calculate-R2-metric-before-transformation-4.1.1\"><span class=\"toc-item-num\">4.1.1&nbsp;&nbsp;</span>Calculate R2 metric before transformation</a></span></li></ul></li><li><span><a href=\"#Generate-a-new-matrix\" data-toc-modified-id=\"Generate-a-new-matrix-4.2\"><span class=\"toc-item-num\">4.2&nbsp;&nbsp;</span>Generate a new matrix</a></span></li><li><span><a href=\"#Invert-the-matrix\" data-toc-modified-id=\"Invert-the-matrix-4.3\"><span class=\"toc-item-num\">4.3&nbsp;&nbsp;</span>Invert the matrix</a></span></li><li><span><a href=\"#Create-new-features\" data-toc-modified-id=\"Create-new-features-4.4\"><span class=\"toc-item-num\">4.4&nbsp;&nbsp;</span>Create new features</a></span></li><li><span><a href=\"#Create-the-LinearRegression-class\" data-toc-modified-id=\"Create-the-LinearRegression-class-4.5\"><span class=\"toc-item-num\">4.5&nbsp;&nbsp;</span>Create the LinearRegression class</a></span></li><li><span><a href=\"#Train-the-model-on-encoded-features\" data-toc-modified-id=\"Train-the-model-on-encoded-features-4.6\"><span class=\"toc-item-num\">4.6&nbsp;&nbsp;</span>Train the model on encoded features</a></span><ul class=\"toc-item\"><li><span><a href=\"#Calculate-R2-metric-after-transformation\" data-toc-modified-id=\"Calculate-R2-metric-after-transformation-4.6.1\"><span class=\"toc-item-num\">4.6.1&nbsp;&nbsp;</span>Calculate R2 metric after transformation</a></span></li></ul></li><li><span><a href=\"#Compare-the-metrics-before-and-after-transformations\" data-toc-modified-id=\"Compare-the-metrics-before-and-after-transformations-4.7\"><span class=\"toc-item-num\">4.7&nbsp;&nbsp;</span>Compare the metrics before and after transformations</a></span></li></ul></li><li><span><a href=\"#General-conclusion\" data-toc-modified-id=\"General-conclusion-5\"><span class=\"toc-item-num\">5&nbsp;&nbsp;</span>General conclusion</a></span></li></ul></div>"
   ]
  },
  {
   "cell_type": "markdown",
   "metadata": {},
   "source": [
    "# Customers personal data protection"
   ]
  },
  {
   "cell_type": "markdown",
   "metadata": {},
   "source": [
    "You need to protect the data of customers of the insurance company \"Though the Flood\". Develop a data transformation method that makes it difficult to recover personal information from it. Justify the correctness of his work.\n",
    "\n",
    "You need to protect the data so that the quality of the machine learning models does not deteriorate during the transformation."
   ]
  },
  {
   "cell_type": "markdown",
   "metadata": {},
   "source": [
    "## Open the data"
   ]
  },
  {
   "cell_type": "markdown",
   "metadata": {},
   "source": [
    "### Import all necessary"
   ]
  },
  {
   "cell_type": "code",
   "execution_count": 1,
   "metadata": {},
   "outputs": [],
   "source": [
    "import pandas as pd\n",
    "import numpy as np\n",
    "from sklearn.linear_model import LinearRegression\n",
    "from sklearn.metrics import r2_score"
   ]
  },
  {
   "cell_type": "markdown",
   "metadata": {},
   "source": [
    "### Откроем и изучим данные"
   ]
  },
  {
   "cell_type": "code",
   "execution_count": 2,
   "metadata": {},
   "outputs": [
    {
     "data": {
      "text/html": [
       "<div>\n",
       "<style scoped>\n",
       "    .dataframe tbody tr th:only-of-type {\n",
       "        vertical-align: middle;\n",
       "    }\n",
       "\n",
       "    .dataframe tbody tr th {\n",
       "        vertical-align: top;\n",
       "    }\n",
       "\n",
       "    .dataframe thead th {\n",
       "        text-align: right;\n",
       "    }\n",
       "</style>\n",
       "<table border=\"1\" class=\"dataframe\">\n",
       "  <thead>\n",
       "    <tr style=\"text-align: right;\">\n",
       "      <th></th>\n",
       "      <th>Пол</th>\n",
       "      <th>Возраст</th>\n",
       "      <th>Зарплата</th>\n",
       "      <th>Члены семьи</th>\n",
       "      <th>Страховые выплаты</th>\n",
       "    </tr>\n",
       "  </thead>\n",
       "  <tbody>\n",
       "    <tr>\n",
       "      <th>0</th>\n",
       "      <td>1</td>\n",
       "      <td>41.0</td>\n",
       "      <td>49600.0</td>\n",
       "      <td>1</td>\n",
       "      <td>0</td>\n",
       "    </tr>\n",
       "    <tr>\n",
       "      <th>1</th>\n",
       "      <td>0</td>\n",
       "      <td>46.0</td>\n",
       "      <td>38000.0</td>\n",
       "      <td>1</td>\n",
       "      <td>1</td>\n",
       "    </tr>\n",
       "    <tr>\n",
       "      <th>2</th>\n",
       "      <td>0</td>\n",
       "      <td>29.0</td>\n",
       "      <td>21000.0</td>\n",
       "      <td>0</td>\n",
       "      <td>0</td>\n",
       "    </tr>\n",
       "    <tr>\n",
       "      <th>3</th>\n",
       "      <td>0</td>\n",
       "      <td>21.0</td>\n",
       "      <td>41700.0</td>\n",
       "      <td>2</td>\n",
       "      <td>0</td>\n",
       "    </tr>\n",
       "    <tr>\n",
       "      <th>4</th>\n",
       "      <td>1</td>\n",
       "      <td>28.0</td>\n",
       "      <td>26100.0</td>\n",
       "      <td>0</td>\n",
       "      <td>0</td>\n",
       "    </tr>\n",
       "    <tr>\n",
       "      <th>...</th>\n",
       "      <td>...</td>\n",
       "      <td>...</td>\n",
       "      <td>...</td>\n",
       "      <td>...</td>\n",
       "      <td>...</td>\n",
       "    </tr>\n",
       "    <tr>\n",
       "      <th>4995</th>\n",
       "      <td>0</td>\n",
       "      <td>28.0</td>\n",
       "      <td>35700.0</td>\n",
       "      <td>2</td>\n",
       "      <td>0</td>\n",
       "    </tr>\n",
       "    <tr>\n",
       "      <th>4996</th>\n",
       "      <td>0</td>\n",
       "      <td>34.0</td>\n",
       "      <td>52400.0</td>\n",
       "      <td>1</td>\n",
       "      <td>0</td>\n",
       "    </tr>\n",
       "    <tr>\n",
       "      <th>4997</th>\n",
       "      <td>0</td>\n",
       "      <td>20.0</td>\n",
       "      <td>33900.0</td>\n",
       "      <td>2</td>\n",
       "      <td>0</td>\n",
       "    </tr>\n",
       "    <tr>\n",
       "      <th>4998</th>\n",
       "      <td>1</td>\n",
       "      <td>22.0</td>\n",
       "      <td>32700.0</td>\n",
       "      <td>3</td>\n",
       "      <td>0</td>\n",
       "    </tr>\n",
       "    <tr>\n",
       "      <th>4999</th>\n",
       "      <td>1</td>\n",
       "      <td>28.0</td>\n",
       "      <td>40600.0</td>\n",
       "      <td>1</td>\n",
       "      <td>0</td>\n",
       "    </tr>\n",
       "  </tbody>\n",
       "</table>\n",
       "<p>5000 rows × 5 columns</p>\n",
       "</div>"
      ],
      "text/plain": [
       "      Пол  Возраст  Зарплата  Члены семьи  Страховые выплаты\n",
       "0       1     41.0   49600.0            1                  0\n",
       "1       0     46.0   38000.0            1                  1\n",
       "2       0     29.0   21000.0            0                  0\n",
       "3       0     21.0   41700.0            2                  0\n",
       "4       1     28.0   26100.0            0                  0\n",
       "...   ...      ...       ...          ...                ...\n",
       "4995    0     28.0   35700.0            2                  0\n",
       "4996    0     34.0   52400.0            1                  0\n",
       "4997    0     20.0   33900.0            2                  0\n",
       "4998    1     22.0   32700.0            3                  0\n",
       "4999    1     28.0   40600.0            1                  0\n",
       "\n",
       "[5000 rows x 5 columns]"
      ]
     },
     "execution_count": 2,
     "metadata": {},
     "output_type": "execute_result"
    }
   ],
   "source": [
    "data = pd.read_csv ('insurance.csv')\n",
    "data"
   ]
  },
  {
   "cell_type": "code",
   "execution_count": 3,
   "metadata": {},
   "outputs": [
    {
     "name": "stdout",
     "output_type": "stream",
     "text": [
      "<class 'pandas.core.frame.DataFrame'>\n",
      "RangeIndex: 5000 entries, 0 to 4999\n",
      "Data columns (total 5 columns):\n",
      " #   Column             Non-Null Count  Dtype  \n",
      "---  ------             --------------  -----  \n",
      " 0   Пол                5000 non-null   int64  \n",
      " 1   Возраст            5000 non-null   float64\n",
      " 2   Зарплата           5000 non-null   float64\n",
      " 3   Члены семьи        5000 non-null   int64  \n",
      " 4   Страховые выплаты  5000 non-null   int64  \n",
      "dtypes: float64(2), int64(3)\n",
      "memory usage: 195.4 KB\n"
     ]
    }
   ],
   "source": [
    "data.info()"
   ]
  },
  {
   "cell_type": "markdown",
   "metadata": {},
   "source": [
    "Conclusion by data types:\n",
    "1. The names of the columns are indicated in Russian, not in Latin, and using the Upper case, I will change it.\n",
    "2. Consider the columns:\n",
    "- Gender (sex) - categorical data type, 1 - male, 0 - female (or vice versa, it doesn't matter). There are no passes.\n",
    "- Age (age) - quantitative data type, specified in float, can be converted to int, since age cannot be fractional, there are no gaps.\n",
    "- Salary (salary) - quantitative data type, reflects the salary of the studied individual, there are no gaps, processing is not required.\n",
    "- Family members (family) - categorical data type, no gaps, processing is not required.\n",
    "- Insurance payments (payment) - categorical data type, no gaps, no processing required."
   ]
  },
  {
   "cell_type": "markdown",
   "metadata": {},
   "source": [
    "Check duplicates"
   ]
  },
  {
   "cell_type": "code",
   "execution_count": 4,
   "metadata": {},
   "outputs": [
    {
     "data": {
      "text/plain": [
       "153"
      ]
     },
     "execution_count": 4,
     "metadata": {},
     "output_type": "execute_result"
    }
   ],
   "source": [
    "data.duplicated().sum()"
   ]
  },
  {
   "cell_type": "markdown",
   "metadata": {},
   "source": [
    "### Preprocess the data"
   ]
  },
  {
   "cell_type": "markdown",
   "metadata": {},
   "source": [
    "Change column names"
   ]
  },
  {
   "cell_type": "code",
   "execution_count": 5,
   "metadata": {},
   "outputs": [
    {
     "data": {
      "text/html": [
       "<div>\n",
       "<style scoped>\n",
       "    .dataframe tbody tr th:only-of-type {\n",
       "        vertical-align: middle;\n",
       "    }\n",
       "\n",
       "    .dataframe tbody tr th {\n",
       "        vertical-align: top;\n",
       "    }\n",
       "\n",
       "    .dataframe thead th {\n",
       "        text-align: right;\n",
       "    }\n",
       "</style>\n",
       "<table border=\"1\" class=\"dataframe\">\n",
       "  <thead>\n",
       "    <tr style=\"text-align: right;\">\n",
       "      <th></th>\n",
       "      <th>sex</th>\n",
       "      <th>age</th>\n",
       "      <th>salary</th>\n",
       "      <th>family</th>\n",
       "      <th>payment</th>\n",
       "    </tr>\n",
       "  </thead>\n",
       "  <tbody>\n",
       "    <tr>\n",
       "      <th>0</th>\n",
       "      <td>1</td>\n",
       "      <td>41.0</td>\n",
       "      <td>49600.0</td>\n",
       "      <td>1</td>\n",
       "      <td>0</td>\n",
       "    </tr>\n",
       "  </tbody>\n",
       "</table>\n",
       "</div>"
      ],
      "text/plain": [
       "   sex   age   salary  family  payment\n",
       "0    1  41.0  49600.0       1        0"
      ]
     },
     "execution_count": 5,
     "metadata": {},
     "output_type": "execute_result"
    }
   ],
   "source": [
    "data = data.rename(columns={'Пол': 'sex', 'Возраст': 'age', 'Зарплата': 'salary', \n",
    "                            'Члены семьи': 'family', 'Страховые выплаты': 'payment'})\n",
    "data.head(1)"
   ]
  },
  {
   "cell_type": "markdown",
   "metadata": {},
   "source": [
    "Change the type of the age column"
   ]
  },
  {
   "cell_type": "code",
   "execution_count": 6,
   "metadata": {},
   "outputs": [
    {
     "data": {
      "text/html": [
       "<div>\n",
       "<style scoped>\n",
       "    .dataframe tbody tr th:only-of-type {\n",
       "        vertical-align: middle;\n",
       "    }\n",
       "\n",
       "    .dataframe tbody tr th {\n",
       "        vertical-align: top;\n",
       "    }\n",
       "\n",
       "    .dataframe thead th {\n",
       "        text-align: right;\n",
       "    }\n",
       "</style>\n",
       "<table border=\"1\" class=\"dataframe\">\n",
       "  <thead>\n",
       "    <tr style=\"text-align: right;\">\n",
       "      <th></th>\n",
       "      <th>sex</th>\n",
       "      <th>age</th>\n",
       "      <th>salary</th>\n",
       "      <th>family</th>\n",
       "      <th>payment</th>\n",
       "    </tr>\n",
       "  </thead>\n",
       "  <tbody>\n",
       "    <tr>\n",
       "      <th>0</th>\n",
       "      <td>1</td>\n",
       "      <td>41</td>\n",
       "      <td>49600.0</td>\n",
       "      <td>1</td>\n",
       "      <td>0</td>\n",
       "    </tr>\n",
       "  </tbody>\n",
       "</table>\n",
       "</div>"
      ],
      "text/plain": [
       "   sex  age   salary  family  payment\n",
       "0    1   41  49600.0       1        0"
      ]
     },
     "execution_count": 6,
     "metadata": {},
     "output_type": "execute_result"
    }
   ],
   "source": [
    "data['age'] = data['age'].astype(int)\n",
    "data.head(1)"
   ]
  },
  {
   "cell_type": "markdown",
   "metadata": {},
   "source": [
    "Remove duplicates, since there are few of them and they can interfere with model training."
   ]
  },
  {
   "cell_type": "code",
   "execution_count": 7,
   "metadata": {},
   "outputs": [],
   "source": [
    "data = data.drop_duplicates ()"
   ]
  },
  {
   "cell_type": "markdown",
   "metadata": {},
   "source": [
    "## Matrix multiplication"
   ]
  },
  {
   "cell_type": "markdown",
   "metadata": {},
   "source": [
    "In this task, we can write formulas in *Jupyter Notebook.*\n",
    "\n",
    "To write a formula inside text, surround it with dollar signs \\\\$; if outside - double symbols \\\\$\\\\$. These formulas are written in the layout language *LaTeX.*\n",
    "\n",
    "For example, we wrote down the linear regression formulas. we can copy and edit them to solve the problem."
   ]
  },
  {
   "cell_type": "markdown",
   "metadata": {},
   "source": [
    "Designations:\n",
    "\n",
    "- $X$ - feature matrix (zero column consists of ones)\n",
    "\n",
    "- $y$ - target feature vector\n",
    "\n",
    "- $P$ -  is the matrix by which features are multiplied\n",
    "\n",
    "- $w$ - vector of linear regression weights (zero element equals shift)"
   ]
  },
  {
   "cell_type": "markdown",
   "metadata": {},
   "source": [
    "Predictions:\n",
    "\n",
    "$$\n",
    "a = Xw\n",
    "$$\n",
    "\n",
    "Learning task:\n",
    "\n",
    "$$\n",
    "w = \\arg\\min_w MSE(Xw, y)\n",
    "$$\n",
    "\n",
    "Learning formula:\n",
    "\n",
    "$$\n",
    "w = (X^T X)^{-1} X^T y\n",
    "$$"
   ]
  },
  {
   "cell_type": "markdown",
   "metadata": {},
   "source": [
    "**Answer:** The quality of the linear regression will not change, the linear regression weight vector for new features will change."
   ]
  },
  {
   "cell_type": "markdown",
   "metadata": {},
   "source": [
    "**Substantiated:**\n",
    "Let's imagine our new feature matrix as the result of multiplying the original feature matrix by some invertible matrix:\n",
    "$$\n",
    "X_1=XP\n",
    "$$\n",
    "Then our learning formula will take the form:\n",
    "$$\n",
    "w_1=(X_1^T X_1)^{-1} X_1^T y\n",
    "$$\n",
    "Substituting the values ​​of $X_1$ into it, we get:\n",
    "$$\n",
    "w_1 = ((XP)^T XP)^{-1} (XP)^T y\n",
    "$$\n",
    "Based on the properties of matrices:\n",
    "$$ A(BC) = (AB)C $$\n",
    "$$ (AB)^{-1} = A^{-1}B^{-1} $$\n",
    "$$ (AB)^T = A^TB^T $$\n",
    "$$ (A^T)^{-1} = (A^{-1})^T $$\n",
    "$$ (ABC)^{-1} =C^{-1} B^{-1} A^{-1} $$\n",
    "$$AA^{-1} = E$$\n",
    "$$ AE=EA=A $$\n",
    "Our formula for calculating the weight vector can be rewritten:\n",
    "$$ w_1 = ((XP)^T XP)^{-1} (XP)^T y $$\n",
    "$$ w_1 = (P^T (X^T X) P)^{-1} (XP)^T y $$\n",
    "$$ w_1 = (P^T (X^T X) P)^{-1} P^T X^T y $$\n",
    "$$ w_1 = P^{-1} (X^T X)^{-1} (P^T)^{-1} P^T X^T y $$\n",
    "$$ w_1 = P^{-1} (X^T X)^{-1} E X^T y $$\n",
    "$$ w_1 = P^{-1}w $$\n",
    "The same for the prediction formula:\n",
    "$$ a_1 = X_1w_1 $$\n",
    "substituting the resulting values\n",
    "$$ X_1 = XP $$ and $$ w_1 = P^{-1}w $$\n",
    "we get:\n",
    "\n",
    "$$ a_1 = XPP^{-1}w $$\n",
    "$$ a_1 = Xw $$\n",
    "\n",
    "This shows that our predictions will not change."
   ]
  },
  {
   "cell_type": "markdown",
   "metadata": {},
   "source": [
    "## Conversion algorithm"
   ]
  },
  {
   "cell_type": "markdown",
   "metadata": {},
   "source": [
    "**Algorithm:**\n",
    "- Let's generate an invertible matrix, square, with dimensions corresponding to the number of feature columns, that is, 4x4.\n",
    "- Multiply the matrix of initial features by the generated matrix.\n",
    "- We calculate the quality of the model on the resulting matrix and compare it with the quality of the model on the matrix of the initial data.\n",
    "\n",
    "**Rationale:**\n",
    "- If the R2 metrics on the original data and on the data after the transformation are equal or their difference is critically small, then it will be possible to conclude that this method is suitable for data protection."
   ]
  },
  {
   "cell_type": "markdown",
   "metadata": {},
   "source": [
    "## Algorithm check"
   ]
  },
  {
   "cell_type": "markdown",
   "metadata": {},
   "source": [
    "### Determine the features and train the model before transformation"
   ]
  },
  {
   "cell_type": "code",
   "execution_count": 8,
   "metadata": {},
   "outputs": [],
   "source": [
    "features = data.drop('payment', axis=1)\n",
    "target = data['payment']"
   ]
  },
  {
   "cell_type": "code",
   "execution_count": 9,
   "metadata": {},
   "outputs": [],
   "source": [
    "model = LinearRegression()\n",
    "model.fit(features, target)\n",
    "predictions = model.predict(features)"
   ]
  },
  {
   "cell_type": "markdown",
   "metadata": {},
   "source": [
    "#### Calculate R2 metric before transformation"
   ]
  },
  {
   "cell_type": "code",
   "execution_count": 10,
   "metadata": {
    "scrolled": false
   },
   "outputs": [
    {
     "data": {
      "text/plain": [
       "0.4302010044852067"
      ]
     },
     "execution_count": 10,
     "metadata": {},
     "output_type": "execute_result"
    }
   ],
   "source": [
    "R2_before = r2_score(target, predictions)\n",
    "R2_before"
   ]
  },
  {
   "cell_type": "markdown",
   "metadata": {},
   "source": [
    "### Generate a new matrix"
   ]
  },
  {
   "cell_type": "markdown",
   "metadata": {},
   "source": [
    "Generate a 4x4 matrix using the random.normal () method, because with this approach, the probability of obtaining an irreversible matrix is close to zero"
   ]
  },
  {
   "cell_type": "code",
   "execution_count": 11,
   "metadata": {},
   "outputs": [
    {
     "data": {
      "text/plain": [
       "array([[-0.89184407, -0.40232758,  2.51993402, -0.0997431 ],\n",
       "       [-0.90647415, -1.58317196, -0.36871227,  0.21655931],\n",
       "       [-1.01998517,  1.61087501,  0.10005692, -1.74650823],\n",
       "       [ 0.97538028, -0.70093087, -0.63494591, -0.54473292]])"
      ]
     },
     "metadata": {},
     "output_type": "display_data"
    }
   ],
   "source": [
    "matrix_generated = np.random.normal(size=(4, 4))\n",
    "display (matrix_generated)"
   ]
  },
  {
   "cell_type": "markdown",
   "metadata": {},
   "source": [
    "### Invert the matrix"
   ]
  },
  {
   "cell_type": "markdown",
   "metadata": {},
   "source": [
    "Make an inverse from our generated matrix, if an error occurs during the inversion process, then initially our generated matrix was not invertible."
   ]
  },
  {
   "cell_type": "code",
   "execution_count": 12,
   "metadata": {},
   "outputs": [
    {
     "data": {
      "text/plain": [
       "array([[ 0.06333123, -0.43112505, -0.20354902,  0.46962287],\n",
       "       [-0.14765593, -0.34657405,  0.08145895, -0.37191604],\n",
       "       [ 0.38970439, -0.21108051, -0.07418596,  0.08258106],\n",
       "       [-0.1508493 , -0.07996893, -0.38281277, -0.61256843]])"
      ]
     },
     "metadata": {},
     "output_type": "display_data"
    }
   ],
   "source": [
    "matrix_invert = np.linalg.inv(matrix_generated)\n",
    "display (matrix_invert)"
   ]
  },
  {
   "cell_type": "markdown",
   "metadata": {},
   "source": [
    "### Create new features"
   ]
  },
  {
   "cell_type": "markdown",
   "metadata": {},
   "source": [
    "Create a matrix from our original features, multiply it by the generated and inverted matrix, and compose a new set of modified features from the resulting set"
   ]
  },
  {
   "cell_type": "code",
   "execution_count": 13,
   "metadata": {},
   "outputs": [],
   "source": [
    "matrix = features.values\n",
    "matrix_new = np.dot (matrix, matrix_invert)\n",
    "features_new = pd.DataFrame (matrix_new, columns = features.columns)"
   ]
  },
  {
   "cell_type": "code",
   "execution_count": 14,
   "metadata": {
    "scrolled": false
   },
   "outputs": [
    {
     "data": {
      "text/html": [
       "<div>\n",
       "<style scoped>\n",
       "    .dataframe tbody tr th:only-of-type {\n",
       "        vertical-align: middle;\n",
       "    }\n",
       "\n",
       "    .dataframe tbody tr th {\n",
       "        vertical-align: top;\n",
       "    }\n",
       "\n",
       "    .dataframe thead th {\n",
       "        text-align: right;\n",
       "    }\n",
       "</style>\n",
       "<table border=\"1\" class=\"dataframe\">\n",
       "  <thead>\n",
       "    <tr style=\"text-align: right;\">\n",
       "      <th></th>\n",
       "      <th>sex</th>\n",
       "      <th>age</th>\n",
       "      <th>salary</th>\n",
       "      <th>family</th>\n",
       "    </tr>\n",
       "  </thead>\n",
       "  <tbody>\n",
       "    <tr>\n",
       "      <th>0</th>\n",
       "      <td>19323.196286</td>\n",
       "      <td>-10484.314092</td>\n",
       "      <td>-3676.870361</td>\n",
       "      <td>4080.628930</td>\n",
       "    </tr>\n",
       "    <tr>\n",
       "      <th>1</th>\n",
       "      <td>14801.823762</td>\n",
       "      <td>-8037.081882</td>\n",
       "      <td>-2815.702334</td>\n",
       "      <td>3120.359464</td>\n",
       "    </tr>\n",
       "    <tr>\n",
       "      <th>2</th>\n",
       "      <td>8179.510148</td>\n",
       "      <td>-4442.741428</td>\n",
       "      <td>-1555.542935</td>\n",
       "      <td>1723.416634</td>\n",
       "    </tr>\n",
       "    <tr>\n",
       "      <th>3</th>\n",
       "      <td>16247.270550</td>\n",
       "      <td>-8809.495399</td>\n",
       "      <td>-3092.609688</td>\n",
       "      <td>3434.594708</td>\n",
       "    </tr>\n",
       "    <tr>\n",
       "      <th>4</th>\n",
       "      <td>10167.213519</td>\n",
       "      <td>-5519.336597</td>\n",
       "      <td>-1934.176360</td>\n",
       "      <td>2145.421565</td>\n",
       "    </tr>\n",
       "    <tr>\n",
       "      <th>...</th>\n",
       "      <td>...</td>\n",
       "      <td>...</td>\n",
       "      <td>...</td>\n",
       "      <td>...</td>\n",
       "    </tr>\n",
       "    <tr>\n",
       "      <th>4842</th>\n",
       "      <td>13908.010625</td>\n",
       "      <td>-7545.438337</td>\n",
       "      <td>-2646.923691</td>\n",
       "      <td>2936.504953</td>\n",
       "    </tr>\n",
       "    <tr>\n",
       "      <th>4843</th>\n",
       "      <td>20415.338836</td>\n",
       "      <td>-11072.482386</td>\n",
       "      <td>-3884.957724</td>\n",
       "      <td>4313.989679</td>\n",
       "    </tr>\n",
       "    <tr>\n",
       "      <th>4844</th>\n",
       "      <td>13207.723972</td>\n",
       "      <td>-7162.720821</td>\n",
       "      <td>-2514.040627</td>\n",
       "      <td>2790.834379</td>\n",
       "    </tr>\n",
       "    <tr>\n",
       "      <th>4845</th>\n",
       "      <td>12739.695875</td>\n",
       "      <td>-6910.628447</td>\n",
       "      <td>-2425.440914</td>\n",
       "      <td>2690.850332</td>\n",
       "    </tr>\n",
       "    <tr>\n",
       "      <th>4846</th>\n",
       "      <td>15817.776311</td>\n",
       "      <td>-8580.084009</td>\n",
       "      <td>-3010.255651</td>\n",
       "      <td>3342.234324</td>\n",
       "    </tr>\n",
       "  </tbody>\n",
       "</table>\n",
       "<p>4847 rows × 4 columns</p>\n",
       "</div>"
      ],
      "text/plain": [
       "               sex           age       salary       family\n",
       "0     19323.196286 -10484.314092 -3676.870361  4080.628930\n",
       "1     14801.823762  -8037.081882 -2815.702334  3120.359464\n",
       "2      8179.510148  -4442.741428 -1555.542935  1723.416634\n",
       "3     16247.270550  -8809.495399 -3092.609688  3434.594708\n",
       "4     10167.213519  -5519.336597 -1934.176360  2145.421565\n",
       "...            ...           ...          ...          ...\n",
       "4842  13908.010625  -7545.438337 -2646.923691  2936.504953\n",
       "4843  20415.338836 -11072.482386 -3884.957724  4313.989679\n",
       "4844  13207.723972  -7162.720821 -2514.040627  2790.834379\n",
       "4845  12739.695875  -6910.628447 -2425.440914  2690.850332\n",
       "4846  15817.776311  -8580.084009 -3010.255651  3342.234324\n",
       "\n",
       "[4847 rows x 4 columns]"
      ]
     },
     "execution_count": 14,
     "metadata": {},
     "output_type": "execute_result"
    }
   ],
   "source": [
    "features_new"
   ]
  },
  {
   "cell_type": "markdown",
   "metadata": {},
   "source": [
    "### Create the LinearRegression class"
   ]
  },
  {
   "cell_type": "code",
   "execution_count": 15,
   "metadata": {},
   "outputs": [],
   "source": [
    "class LinearRegression:\n",
    "    def fit(self, features, target):\n",
    "        X = np.concatenate((np.ones((features.shape[0], 1)), features), axis=1)\n",
    "        y = target\n",
    "        w = np.linalg.inv(X.T@X)@X.T@y\n",
    "        self.w = w[1:]\n",
    "        self.w0 = w[0]\n",
    "\n",
    "    def predict(self, features):\n",
    "        return features.dot(self.w) + self.w0"
   ]
  },
  {
   "cell_type": "markdown",
   "metadata": {},
   "source": [
    "### Train the model on encoded features"
   ]
  },
  {
   "cell_type": "code",
   "execution_count": 16,
   "metadata": {},
   "outputs": [],
   "source": [
    "model = LinearRegression()\n",
    "model.fit(features_new, target)\n",
    "predictions = model.predict(features_new)"
   ]
  },
  {
   "cell_type": "markdown",
   "metadata": {},
   "source": [
    "#### Calculate R2 metric after transformation"
   ]
  },
  {
   "cell_type": "code",
   "execution_count": 17,
   "metadata": {},
   "outputs": [
    {
     "data": {
      "text/plain": [
       "0.43020100448519905"
      ]
     },
     "execution_count": 17,
     "metadata": {},
     "output_type": "execute_result"
    }
   ],
   "source": [
    "R2_after = r2_score(target, predictions)\n",
    "R2_after"
   ]
  },
  {
   "cell_type": "markdown",
   "metadata": {},
   "source": [
    "### Compare the metrics before and after transformations"
   ]
  },
  {
   "cell_type": "code",
   "execution_count": 18,
   "metadata": {},
   "outputs": [
    {
     "name": "stdout",
     "output_type": "stream",
     "text": [
      "The quality of the linear regression changes slightly, the change can be neglected\n"
     ]
    }
   ],
   "source": [
    "if R2_after == R2_before:\n",
    "     print('Linear regression quality does not change after transformation')\n",
    "elif (R2_after - R2_before) < 0.01:\n",
    "      print ('The quality of the linear regression changes slightly, the change can be neglected')\n",
    "else:\n",
    "     print('The quality of the linear regression changes significantly')"
   ]
  },
  {
   "cell_type": "markdown",
   "metadata": {},
   "source": [
    "Most likely, a slight change in the R2 metric is associated with rounding values."
   ]
  },
  {
   "cell_type": "markdown",
   "metadata": {},
   "source": [
    "## General conclusion"
   ]
  },
  {
   "cell_type": "markdown",
   "metadata": {},
   "source": [
    "1. Data is open, studied and processed.\n",
    "2. The algorithm for transforming features is described.\n",
    "3. The algorithm is tested on features.\n",
    "4. The R2 metrics after the transformation and before the transformation are compared and their difference is recognized as insignificant.\n",
    "5. Based on the results of the work, it was proved that this method can be used to encrypt customer data."
   ]
  }
 ],
 "metadata": {
  "ExecuteTimeLog": [
   {
    "duration": 408,
    "start_time": "2022-10-21T08:42:45.680Z"
   },
   {
    "duration": 3,
    "start_time": "2022-10-21T08:43:01.616Z"
   },
   {
    "duration": 120,
    "start_time": "2022-10-21T08:43:36.418Z"
   },
   {
    "duration": 53,
    "start_time": "2022-10-21T08:43:40.255Z"
   },
   {
    "duration": 11,
    "start_time": "2022-10-21T08:43:50.853Z"
   },
   {
    "duration": 3,
    "start_time": "2022-10-21T08:54:53.031Z"
   },
   {
    "duration": 11,
    "start_time": "2022-10-21T08:55:07.368Z"
   },
   {
    "duration": 9,
    "start_time": "2022-10-21T08:58:59.727Z"
   },
   {
    "duration": 4,
    "start_time": "2022-10-21T08:59:08.775Z"
   },
   {
    "duration": 100,
    "start_time": "2022-10-21T08:59:20.435Z"
   },
   {
    "duration": 9,
    "start_time": "2022-10-21T08:59:24.558Z"
   },
   {
    "duration": 3,
    "start_time": "2022-10-21T08:59:34.338Z"
   },
   {
    "duration": 54,
    "start_time": "2022-10-21T08:59:34.344Z"
   },
   {
    "duration": 25,
    "start_time": "2022-10-21T08:59:34.400Z"
   },
   {
    "duration": 16,
    "start_time": "2022-10-21T08:59:34.428Z"
   },
   {
    "duration": 10,
    "start_time": "2022-10-21T09:00:36.496Z"
   },
   {
    "duration": 11,
    "start_time": "2022-10-21T09:00:45.619Z"
   },
   {
    "duration": 10,
    "start_time": "2022-10-21T09:00:56.510Z"
   },
   {
    "duration": 4,
    "start_time": "2022-10-21T10:06:48.934Z"
   },
   {
    "duration": 852,
    "start_time": "2022-10-21T10:07:16.737Z"
   },
   {
    "duration": 6,
    "start_time": "2022-10-21T10:07:25.451Z"
   },
   {
    "duration": 9,
    "start_time": "2022-10-21T10:08:03.006Z"
   },
   {
    "duration": 4,
    "start_time": "2022-10-21T10:08:43.202Z"
   },
   {
    "duration": 5,
    "start_time": "2022-10-21T10:08:50.122Z"
   },
   {
    "duration": 203,
    "start_time": "2022-10-21T10:09:33.804Z"
   },
   {
    "duration": 84,
    "start_time": "2022-10-21T10:10:15.065Z"
   },
   {
    "duration": 55,
    "start_time": "2022-10-21T10:11:04.460Z"
   },
   {
    "duration": 1023,
    "start_time": "2022-10-21T10:11:09.422Z"
   },
   {
    "duration": 46,
    "start_time": "2022-10-21T10:11:10.447Z"
   },
   {
    "duration": 15,
    "start_time": "2022-10-21T10:11:10.496Z"
   },
   {
    "duration": 13,
    "start_time": "2022-10-21T10:11:10.514Z"
   },
   {
    "duration": 11,
    "start_time": "2022-10-21T10:11:10.529Z"
   },
   {
    "duration": 5,
    "start_time": "2022-10-21T10:11:10.542Z"
   },
   {
    "duration": 39,
    "start_time": "2022-10-21T10:11:10.549Z"
   },
   {
    "duration": 16,
    "start_time": "2022-10-21T10:11:10.592Z"
   },
   {
    "duration": 6,
    "start_time": "2022-10-21T10:11:10.609Z"
   },
   {
    "duration": 181,
    "start_time": "2022-10-21T10:11:10.616Z"
   },
   {
    "duration": 254,
    "start_time": "2022-10-21T10:11:10.803Z"
   },
   {
    "duration": 1238,
    "start_time": "2022-10-21T10:15:44.600Z"
   },
   {
    "duration": 56,
    "start_time": "2022-10-21T10:15:47.505Z"
   },
   {
    "duration": 14,
    "start_time": "2022-10-21T10:15:48.119Z"
   },
   {
    "duration": 10,
    "start_time": "2022-10-21T10:15:49.554Z"
   },
   {
    "duration": 11,
    "start_time": "2022-10-21T10:15:50.168Z"
   },
   {
    "duration": 6,
    "start_time": "2022-10-21T10:15:52.336Z"
   },
   {
    "duration": 7,
    "start_time": "2022-10-21T10:15:52.712Z"
   },
   {
    "duration": 9,
    "start_time": "2022-10-21T10:15:53.311Z"
   },
   {
    "duration": 7,
    "start_time": "2022-10-21T10:15:54.340Z"
   },
   {
    "duration": 179,
    "start_time": "2022-10-21T10:15:56.021Z"
   },
   {
    "duration": 4,
    "start_time": "2022-10-21T10:18:23.433Z"
   },
   {
    "duration": 134,
    "start_time": "2022-10-21T10:18:24.714Z"
   },
   {
    "duration": 82,
    "start_time": "2022-10-21T10:19:17.898Z"
   },
   {
    "duration": 1260,
    "start_time": "2022-10-21T10:20:37.267Z"
   },
   {
    "duration": 52,
    "start_time": "2022-10-21T10:20:38.530Z"
   },
   {
    "duration": 32,
    "start_time": "2022-10-21T10:20:38.584Z"
   },
   {
    "duration": 111,
    "start_time": "2022-10-21T10:20:38.618Z"
   },
   {
    "duration": 66,
    "start_time": "2022-10-21T10:20:38.731Z"
   },
   {
    "duration": 54,
    "start_time": "2022-10-21T10:20:38.799Z"
   },
   {
    "duration": 30,
    "start_time": "2022-10-21T10:20:38.856Z"
   },
   {
    "duration": 77,
    "start_time": "2022-10-21T10:20:38.888Z"
   },
   {
    "duration": 59,
    "start_time": "2022-10-21T10:20:38.967Z"
   },
   {
    "duration": 266,
    "start_time": "2022-10-21T10:20:39.030Z"
   },
   {
    "duration": 159,
    "start_time": "2022-10-21T10:20:40.857Z"
   },
   {
    "duration": 94,
    "start_time": "2022-10-21T10:20:41.566Z"
   },
   {
    "duration": 70,
    "start_time": "2022-10-21T10:24:31.323Z"
   },
   {
    "duration": 1383,
    "start_time": "2022-10-21T10:24:36.235Z"
   },
   {
    "duration": 62,
    "start_time": "2022-10-21T10:24:37.620Z"
   },
   {
    "duration": 26,
    "start_time": "2022-10-21T10:24:37.684Z"
   },
   {
    "duration": 7,
    "start_time": "2022-10-21T10:24:40.374Z"
   },
   {
    "duration": 6,
    "start_time": "2022-10-21T10:25:13.747Z"
   },
   {
    "duration": 97,
    "start_time": "2022-10-21T10:25:19.925Z"
   },
   {
    "duration": 8,
    "start_time": "2022-10-21T10:25:32.863Z"
   },
   {
    "duration": 14,
    "start_time": "2022-10-21T10:25:33.566Z"
   },
   {
    "duration": 14,
    "start_time": "2022-10-21T10:25:34.308Z"
   },
   {
    "duration": 6,
    "start_time": "2022-10-21T10:25:34.936Z"
   },
   {
    "duration": 4,
    "start_time": "2022-10-21T10:25:37.123Z"
   },
   {
    "duration": 6,
    "start_time": "2022-10-21T10:25:37.837Z"
   },
   {
    "duration": 9,
    "start_time": "2022-10-21T10:25:38.338Z"
   },
   {
    "duration": 7,
    "start_time": "2022-10-21T10:25:39.123Z"
   },
   {
    "duration": 176,
    "start_time": "2022-10-21T10:25:40.037Z"
   },
   {
    "duration": 6,
    "start_time": "2022-10-21T10:27:31.783Z"
   },
   {
    "duration": 3,
    "start_time": "2022-10-21T10:28:57.429Z"
   },
   {
    "duration": 96,
    "start_time": "2022-10-21T10:28:57.434Z"
   },
   {
    "duration": 12,
    "start_time": "2022-10-21T10:28:57.531Z"
   },
   {
    "duration": 16,
    "start_time": "2022-10-21T10:28:57.546Z"
   },
   {
    "duration": 30,
    "start_time": "2022-10-21T10:28:57.565Z"
   },
   {
    "duration": 68,
    "start_time": "2022-10-21T10:28:57.597Z"
   },
   {
    "duration": 28,
    "start_time": "2022-10-21T10:28:57.667Z"
   },
   {
    "duration": 5,
    "start_time": "2022-10-21T10:31:23.968Z"
   },
   {
    "duration": 4,
    "start_time": "2022-10-21T10:33:43.672Z"
   },
   {
    "duration": 8,
    "start_time": "2022-10-21T10:34:30.455Z"
   },
   {
    "duration": 14,
    "start_time": "2022-10-21T10:34:49.723Z"
   },
   {
    "duration": 12,
    "start_time": "2022-10-21T10:34:57.955Z"
   },
   {
    "duration": 6,
    "start_time": "2022-10-21T10:36:53.249Z"
   },
   {
    "duration": 42,
    "start_time": "2022-10-21T10:37:35.978Z"
   },
   {
    "duration": 11,
    "start_time": "2022-10-21T10:39:04.010Z"
   },
   {
    "duration": 6,
    "start_time": "2022-10-21T10:39:25.964Z"
   },
   {
    "duration": 16,
    "start_time": "2022-10-21T10:39:37.310Z"
   },
   {
    "duration": 30,
    "start_time": "2022-10-21T10:40:19.003Z"
   },
   {
    "duration": 13,
    "start_time": "2022-10-21T10:40:20.462Z"
   },
   {
    "duration": 8,
    "start_time": "2022-10-21T10:40:24.540Z"
   },
   {
    "duration": 6,
    "start_time": "2022-10-21T10:40:27.245Z"
   },
   {
    "duration": 17,
    "start_time": "2022-10-21T10:40:28.026Z"
   },
   {
    "duration": 4,
    "start_time": "2022-10-21T10:40:28.809Z"
   },
   {
    "duration": 16,
    "start_time": "2022-10-21T10:40:36.234Z"
   },
   {
    "duration": 8,
    "start_time": "2022-10-21T10:40:40.523Z"
   },
   {
    "duration": 10,
    "start_time": "2022-10-21T10:40:44.567Z"
   },
   {
    "duration": 12,
    "start_time": "2022-10-21T10:40:45.937Z"
   },
   {
    "duration": 6,
    "start_time": "2022-10-21T10:40:49.849Z"
   },
   {
    "duration": 3,
    "start_time": "2022-10-21T10:41:06.036Z"
   },
   {
    "duration": 4,
    "start_time": "2022-10-21T10:43:31.179Z"
   },
   {
    "duration": 5,
    "start_time": "2022-10-21T10:44:57.666Z"
   },
   {
    "duration": 4,
    "start_time": "2022-10-21T10:44:58.538Z"
   },
   {
    "duration": 10,
    "start_time": "2022-10-21T10:46:18.420Z"
   },
   {
    "duration": 23,
    "start_time": "2022-10-21T10:46:18.620Z"
   },
   {
    "duration": 4,
    "start_time": "2022-10-21T10:46:47.936Z"
   },
   {
    "duration": 90,
    "start_time": "2022-10-21T10:46:47.942Z"
   },
   {
    "duration": 15,
    "start_time": "2022-10-21T10:46:48.035Z"
   },
   {
    "duration": 16,
    "start_time": "2022-10-21T10:46:48.052Z"
   },
   {
    "duration": 28,
    "start_time": "2022-10-21T10:46:48.070Z"
   },
   {
    "duration": 35,
    "start_time": "2022-10-21T10:46:48.103Z"
   },
   {
    "duration": 16,
    "start_time": "2022-10-21T10:46:48.140Z"
   },
   {
    "duration": 0,
    "start_time": "2022-10-21T10:46:48.159Z"
   },
   {
    "duration": 0,
    "start_time": "2022-10-21T10:46:48.160Z"
   },
   {
    "duration": 0,
    "start_time": "2022-10-21T10:46:48.162Z"
   },
   {
    "duration": 0,
    "start_time": "2022-10-21T10:46:48.163Z"
   },
   {
    "duration": 0,
    "start_time": "2022-10-21T10:46:48.165Z"
   },
   {
    "duration": 0,
    "start_time": "2022-10-21T10:46:48.166Z"
   },
   {
    "duration": 0,
    "start_time": "2022-10-21T10:46:48.167Z"
   },
   {
    "duration": 0,
    "start_time": "2022-10-21T10:46:48.169Z"
   },
   {
    "duration": 0,
    "start_time": "2022-10-21T10:46:48.170Z"
   },
   {
    "duration": 0,
    "start_time": "2022-10-21T10:46:48.171Z"
   },
   {
    "duration": 0,
    "start_time": "2022-10-21T10:46:48.172Z"
   },
   {
    "duration": 8,
    "start_time": "2022-10-21T10:46:58.477Z"
   },
   {
    "duration": 4,
    "start_time": "2022-10-21T10:47:01.837Z"
   },
   {
    "duration": 90,
    "start_time": "2022-10-21T10:47:01.843Z"
   },
   {
    "duration": 14,
    "start_time": "2022-10-21T10:47:01.935Z"
   },
   {
    "duration": 12,
    "start_time": "2022-10-21T10:47:01.952Z"
   },
   {
    "duration": 57,
    "start_time": "2022-10-21T10:47:01.965Z"
   },
   {
    "duration": 128,
    "start_time": "2022-10-21T10:47:02.024Z"
   },
   {
    "duration": 74,
    "start_time": "2022-10-21T10:47:02.155Z"
   },
   {
    "duration": 90,
    "start_time": "2022-10-21T10:47:02.231Z"
   },
   {
    "duration": 121,
    "start_time": "2022-10-21T10:47:02.324Z"
   },
   {
    "duration": 169,
    "start_time": "2022-10-21T10:47:02.454Z"
   },
   {
    "duration": 36,
    "start_time": "2022-10-21T10:47:02.630Z"
   },
   {
    "duration": 157,
    "start_time": "2022-10-21T10:47:02.668Z"
   },
   {
    "duration": 26,
    "start_time": "2022-10-21T10:47:02.829Z"
   },
   {
    "duration": 17,
    "start_time": "2022-10-21T10:47:02.858Z"
   },
   {
    "duration": 16,
    "start_time": "2022-10-21T10:47:02.878Z"
   },
   {
    "duration": 48,
    "start_time": "2022-10-21T10:47:02.896Z"
   },
   {
    "duration": 142,
    "start_time": "2022-10-21T10:47:02.951Z"
   },
   {
    "duration": 37,
    "start_time": "2022-10-21T10:47:03.099Z"
   },
   {
    "duration": 89,
    "start_time": "2022-10-21T10:50:16.867Z"
   },
   {
    "duration": 87,
    "start_time": "2022-10-21T10:50:27.376Z"
   },
   {
    "duration": 121,
    "start_time": "2022-10-21T10:50:54.166Z"
   },
   {
    "duration": 100,
    "start_time": "2022-10-21T10:51:01.441Z"
   },
   {
    "duration": 4,
    "start_time": "2022-10-21T10:51:35.177Z"
   },
   {
    "duration": 4,
    "start_time": "2022-10-21T10:51:57.318Z"
   },
   {
    "duration": 7,
    "start_time": "2022-10-21T10:52:45.893Z"
   },
   {
    "duration": 7,
    "start_time": "2022-10-21T10:52:57.359Z"
   },
   {
    "duration": 5,
    "start_time": "2022-10-21T10:52:59.458Z"
   },
   {
    "duration": 7,
    "start_time": "2022-10-21T10:53:05.454Z"
   },
   {
    "duration": 5,
    "start_time": "2022-10-21T10:53:09.866Z"
   },
   {
    "duration": 5,
    "start_time": "2022-10-21T10:53:12.560Z"
   },
   {
    "duration": 4,
    "start_time": "2022-10-21T10:53:29.252Z"
   },
   {
    "duration": 49,
    "start_time": "2022-10-21T10:53:29.259Z"
   },
   {
    "duration": 12,
    "start_time": "2022-10-21T10:53:29.310Z"
   },
   {
    "duration": 12,
    "start_time": "2022-10-21T10:53:29.324Z"
   },
   {
    "duration": 17,
    "start_time": "2022-10-21T10:53:29.339Z"
   },
   {
    "duration": 15,
    "start_time": "2022-10-21T10:53:29.358Z"
   },
   {
    "duration": 16,
    "start_time": "2022-10-21T10:53:29.375Z"
   },
   {
    "duration": 7,
    "start_time": "2022-10-21T10:53:29.393Z"
   },
   {
    "duration": 34,
    "start_time": "2022-10-21T10:53:29.401Z"
   },
   {
    "duration": 156,
    "start_time": "2022-10-21T10:53:29.437Z"
   },
   {
    "duration": 20,
    "start_time": "2022-10-21T10:53:29.595Z"
   },
   {
    "duration": 72,
    "start_time": "2022-10-21T10:53:29.621Z"
   },
   {
    "duration": 98,
    "start_time": "2022-10-21T10:53:29.700Z"
   },
   {
    "duration": 5,
    "start_time": "2022-10-21T10:53:29.801Z"
   },
   {
    "duration": 45,
    "start_time": "2022-10-21T10:53:29.808Z"
   },
   {
    "duration": 13,
    "start_time": "2022-10-21T10:53:29.855Z"
   },
   {
    "duration": 99,
    "start_time": "2022-10-21T10:53:29.886Z"
   },
   {
    "duration": 22,
    "start_time": "2022-10-21T10:53:29.990Z"
   },
   {
    "duration": 7,
    "start_time": "2022-10-21T10:56:07.788Z"
   },
   {
    "duration": 4,
    "start_time": "2022-10-21T10:56:09.237Z"
   },
   {
    "duration": 1665,
    "start_time": "2022-10-21T12:11:45.184Z"
   },
   {
    "duration": 65,
    "start_time": "2022-10-21T12:11:46.852Z"
   },
   {
    "duration": 10,
    "start_time": "2022-10-21T12:11:46.918Z"
   },
   {
    "duration": 11,
    "start_time": "2022-10-21T12:11:46.929Z"
   },
   {
    "duration": 13,
    "start_time": "2022-10-21T12:11:46.941Z"
   },
   {
    "duration": 16,
    "start_time": "2022-10-21T12:11:46.955Z"
   },
   {
    "duration": 10,
    "start_time": "2022-10-21T12:11:46.973Z"
   },
   {
    "duration": 3,
    "start_time": "2022-10-21T12:11:46.985Z"
   },
   {
    "duration": 11,
    "start_time": "2022-10-21T12:11:46.990Z"
   },
   {
    "duration": 32,
    "start_time": "2022-10-21T12:11:47.005Z"
   },
   {
    "duration": 107,
    "start_time": "2022-10-21T12:11:47.040Z"
   },
   {
    "duration": 13,
    "start_time": "2022-10-21T12:11:47.149Z"
   },
   {
    "duration": 15,
    "start_time": "2022-10-21T12:11:47.164Z"
   },
   {
    "duration": 105,
    "start_time": "2022-10-21T12:11:47.234Z"
   },
   {
    "duration": 5,
    "start_time": "2022-10-21T12:11:47.341Z"
   },
   {
    "duration": 98,
    "start_time": "2022-10-21T12:11:47.348Z"
   },
   {
    "duration": 89,
    "start_time": "2022-10-21T12:11:47.448Z"
   },
   {
    "duration": 9,
    "start_time": "2022-10-21T12:11:47.538Z"
   },
   {
    "duration": 54,
    "start_time": "2022-10-21T14:56:37.248Z"
   },
   {
    "duration": 1478,
    "start_time": "2022-10-21T15:27:04.071Z"
   },
   {
    "duration": 283,
    "start_time": "2022-10-21T15:27:08.344Z"
   },
   {
    "duration": 91,
    "start_time": "2022-10-21T15:27:08.630Z"
   },
   {
    "duration": 13,
    "start_time": "2022-10-21T15:27:08.723Z"
   },
   {
    "duration": 7,
    "start_time": "2022-10-21T15:27:08.738Z"
   },
   {
    "duration": 10,
    "start_time": "2022-10-21T15:27:08.748Z"
   },
   {
    "duration": 11,
    "start_time": "2022-10-21T15:27:08.760Z"
   },
   {
    "duration": 37,
    "start_time": "2022-10-21T15:27:08.772Z"
   },
   {
    "duration": 3941,
    "start_time": "2022-10-21T15:27:10.359Z"
   },
   {
    "duration": 4048,
    "start_time": "2022-10-21T15:27:25.900Z"
   },
   {
    "duration": 1600,
    "start_time": "2022-10-21T16:18:15.620Z"
   },
   {
    "duration": 33,
    "start_time": "2022-10-21T16:18:17.222Z"
   },
   {
    "duration": 12,
    "start_time": "2022-10-21T16:18:17.256Z"
   },
   {
    "duration": 7,
    "start_time": "2022-10-21T16:18:17.270Z"
   },
   {
    "duration": 10,
    "start_time": "2022-10-21T16:18:17.279Z"
   },
   {
    "duration": 11,
    "start_time": "2022-10-21T16:18:17.291Z"
   },
   {
    "duration": 5,
    "start_time": "2022-10-21T16:18:17.304Z"
   },
   {
    "duration": 4,
    "start_time": "2022-10-21T16:18:17.333Z"
   },
   {
    "duration": 10,
    "start_time": "2022-10-21T16:18:17.339Z"
   },
   {
    "duration": 91,
    "start_time": "2022-10-21T16:18:17.352Z"
   },
   {
    "duration": 94,
    "start_time": "2022-10-21T16:18:17.445Z"
   },
   {
    "duration": 9,
    "start_time": "2022-10-21T16:18:17.541Z"
   },
   {
    "duration": 7,
    "start_time": "2022-10-21T16:18:17.552Z"
   },
   {
    "duration": 92,
    "start_time": "2022-10-21T16:18:17.561Z"
   },
   {
    "duration": 7,
    "start_time": "2022-10-21T16:18:17.734Z"
   },
   {
    "duration": 15,
    "start_time": "2022-10-21T16:18:17.743Z"
   },
   {
    "duration": 79,
    "start_time": "2022-10-21T16:18:17.759Z"
   },
   {
    "duration": 101,
    "start_time": "2022-10-21T16:18:17.840Z"
   },
   {
    "duration": 16,
    "start_time": "2022-10-21T20:17:13.086Z"
   }
  ],
  "kernelspec": {
   "display_name": "Python 3 (ipykernel)",
   "language": "python",
   "name": "python3"
  },
  "language_info": {
   "codemirror_mode": {
    "name": "ipython",
    "version": 3
   },
   "file_extension": ".py",
   "mimetype": "text/x-python",
   "name": "python",
   "nbconvert_exporter": "python",
   "pygments_lexer": "ipython3",
   "version": "3.9.12"
  },
  "toc": {
   "base_numbering": 1,
   "nav_menu": {},
   "number_sections": true,
   "sideBar": true,
   "skip_h1_title": true,
   "title_cell": "Содержание",
   "title_sidebar": "Contents",
   "toc_cell": true,
   "toc_position": {
    "height": "calc(100% - 180px)",
    "left": "10px",
    "top": "150px",
    "width": "437.333px"
   },
   "toc_section_display": true,
   "toc_window_display": true
  }
 },
 "nbformat": 4,
 "nbformat_minor": 2
}
