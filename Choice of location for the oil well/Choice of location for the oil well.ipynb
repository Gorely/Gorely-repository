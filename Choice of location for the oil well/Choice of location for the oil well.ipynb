{
 "cells": [
  {
   "cell_type": "markdown",
   "metadata": {},
   "source": [
    "# Choice of location for the oil well"
   ]
  },
  {
   "cell_type": "markdown",
   "metadata": {},
   "source": [
    "You have been provided with oil samples in three regions: in each of 10,000 fields, where the quality of oil and the volume of its reserves have been measured. Build a machine learning model to help determine the region where mining will bring the most profit. Analyze possible profits and risks using the *Bootstrap.* technique\n",
    "\n",
    "Steps to choose a location:\n",
    "\n",
    "- In the selected region, they are looking for deposits, for each, the values ​​of the signs are determined;\n",
    "- Build a model and estimate the volume of reserves;\n",
    "- Select the deposits with the highest value estimates. The number of fields depends on the company's budget and the cost of developing one well;\n",
    "- The profit is equal to the total profit of the selected fields."
   ]
  },
  {
   "cell_type": "markdown",
   "metadata": {},
   "source": [
    "## Loading and preparing data"
   ]
  },
  {
   "cell_type": "markdown",
   "metadata": {},
   "source": [
    "### Import the necessary libraries"
   ]
  },
  {
   "cell_type": "code",
   "execution_count": 36,
   "metadata": {},
   "outputs": [],
   "source": [
    "import pandas as pd\n",
    "from sklearn.model_selection import train_test_split\n",
    "import numpy as np\n",
    "from sklearn.linear_model import LinearRegression\n",
    "from sklearn.preprocessing import StandardScaler\n",
    "from sklearn.metrics import mean_squared_error\n",
    "from numpy import sqrt\n",
    "\n",
    "# and fix static variables\n",
    "state = np.random.RandomState(12345)\n",
    "scaler = StandardScaler()\n",
    "model = LinearRegression()\n",
    "\n",
    "import warnings\n",
    "warnings.filterwarnings('ignore')"
   ]
  },
  {
   "cell_type": "markdown",
   "metadata": {},
   "source": [
    "### Load and examine data"
   ]
  },
  {
   "cell_type": "code",
   "execution_count": 2,
   "metadata": {},
   "outputs": [],
   "source": [
    "data_0 = pd.read_csv('geo_data_0.csv')\n",
    "data_1 = pd.read_csv('geo_data_1.csv')\n",
    "data_2 = pd.read_csv('geo_data_2.csv')"
   ]
  },
  {
   "cell_type": "code",
   "execution_count": 3,
   "metadata": {
    "scrolled": false
   },
   "outputs": [
    {
     "name": "stdout",
     "output_type": "stream",
     "text": [
      "data_0:           id        f0        f1        f2     product\n",
      "0      txEyH  0.705745 -0.497823  1.221170  105.280062\n",
      "1      2acmU  1.334711 -0.340164  4.365080   73.037750\n",
      "2      409Wp  1.022732  0.151990  1.419926   85.265647\n",
      "3      iJLyR -0.032172  0.139033  2.978566  168.620776\n",
      "4      Xdl7t  1.988431  0.155413  4.751769  154.036647\n",
      "...      ...       ...       ...       ...         ...\n",
      "99995  DLsed  0.971957  0.370953  6.075346  110.744026\n",
      "99996  QKivN  1.392429 -0.382606  1.273912  122.346843\n",
      "99997  3rnvd  1.029585  0.018787 -1.348308   64.375443\n",
      "99998  7kl59  0.998163 -0.528582  1.583869   74.040764\n",
      "99999  1CWhH  1.764754 -0.266417  5.722849  149.633246\n",
      "\n",
      "[100000 rows x 5 columns]\n",
      "\n",
      "data_1:           id         f0         f1        f2     product\n",
      "0      kBEdx -15.001348  -8.276000 -0.005876    3.179103\n",
      "1      62mP7  14.272088  -3.475083  0.999183   26.953261\n",
      "2      vyE1P   6.263187  -5.948386  5.001160  134.766305\n",
      "3      KcrkZ -13.081196 -11.506057  4.999415  137.945408\n",
      "4      AHL4O  12.702195  -8.147433  5.004363  134.766305\n",
      "...      ...        ...        ...       ...         ...\n",
      "99995  QywKC   9.535637  -6.878139  1.998296   53.906522\n",
      "99996  ptvty -10.160631 -12.558096  5.005581  137.945408\n",
      "99997  09gWa  -7.378891  -3.084104  4.998651  137.945408\n",
      "99998  rqwUm   0.665714  -6.152593  1.000146   30.132364\n",
      "99999  relB0  -3.426139  -7.794274 -0.003299    3.179103\n",
      "\n",
      "[100000 rows x 5 columns]\n",
      "\n",
      "data_2:           id        f0        f1        f2     product\n",
      "0      fwXo0 -1.146987  0.963328 -0.828965   27.758673\n",
      "1      WJtFt  0.262778  0.269839 -2.530187   56.069697\n",
      "2      ovLUW  0.194587  0.289035 -5.586433   62.871910\n",
      "3      q6cA6  2.236060 -0.553760  0.930038  114.572842\n",
      "4      WPMUX -0.515993  1.716266  5.899011  149.600746\n",
      "...      ...       ...       ...       ...         ...\n",
      "99995  4GxBu -1.777037  1.125220  6.263374  172.327046\n",
      "99996  YKFjq -1.261523 -0.894828  2.524545  138.748846\n",
      "99997  tKPY3 -1.199934 -2.957637  5.219411  157.080080\n",
      "99998  nmxp2 -2.419896  2.417221 -5.548444   51.795253\n",
      "99999  V9kWn -2.551421 -2.025625  6.090891  102.775767\n",
      "\n",
      "[100000 rows x 5 columns]\n"
     ]
    }
   ],
   "source": [
    "print('data_0:', \n",
    "      data_0)\n",
    "print()\n",
    "print('data_1:', \n",
    "      data_1)\n",
    "print()\n",
    "print('data_2:', \n",
    "      data_2)"
   ]
  },
  {
   "cell_type": "markdown",
   "metadata": {},
   "source": [
    "Data Description:\n",
    "- id - unique identifier of the well;\n",
    "- f0, f1, f2 - three signs of points (it doesn't matter what they mean, but the signs themselves are significant);\n",
    "- product - the volume of reserves in the well (thousand barrels).\n"
   ]
  },
  {
   "cell_type": "code",
   "execution_count": 4,
   "metadata": {},
   "outputs": [
    {
     "name": "stdout",
     "output_type": "stream",
     "text": [
      "<class 'pandas.core.frame.DataFrame'>\n",
      "RangeIndex: 100000 entries, 0 to 99999\n",
      "Data columns (total 5 columns):\n",
      " #   Column   Non-Null Count   Dtype  \n",
      "---  ------   --------------   -----  \n",
      " 0   id       100000 non-null  object \n",
      " 1   f0       100000 non-null  float64\n",
      " 2   f1       100000 non-null  float64\n",
      " 3   f2       100000 non-null  float64\n",
      " 4   product  100000 non-null  float64\n",
      "dtypes: float64(4), object(1)\n",
      "memory usage: 3.8+ MB\n",
      "data_0 info: None\n",
      "\n",
      "<class 'pandas.core.frame.DataFrame'>\n",
      "RangeIndex: 100000 entries, 0 to 99999\n",
      "Data columns (total 5 columns):\n",
      " #   Column   Non-Null Count   Dtype  \n",
      "---  ------   --------------   -----  \n",
      " 0   id       100000 non-null  object \n",
      " 1   f0       100000 non-null  float64\n",
      " 2   f1       100000 non-null  float64\n",
      " 3   f2       100000 non-null  float64\n",
      " 4   product  100000 non-null  float64\n",
      "dtypes: float64(4), object(1)\n",
      "memory usage: 3.8+ MB\n",
      "data_1 info: None\n",
      "\n",
      "<class 'pandas.core.frame.DataFrame'>\n",
      "RangeIndex: 100000 entries, 0 to 99999\n",
      "Data columns (total 5 columns):\n",
      " #   Column   Non-Null Count   Dtype  \n",
      "---  ------   --------------   -----  \n",
      " 0   id       100000 non-null  object \n",
      " 1   f0       100000 non-null  float64\n",
      " 2   f1       100000 non-null  float64\n",
      " 3   f2       100000 non-null  float64\n",
      " 4   product  100000 non-null  float64\n",
      "dtypes: float64(4), object(1)\n",
      "memory usage: 3.8+ MB\n",
      "data_2 info: None\n"
     ]
    }
   ],
   "source": [
    "print('data_0 info:', data_0.info())\n",
    "print()\n",
    "print('data_1 info:', data_1.info())\n",
    "print()\n",
    "print('data_2 info:', data_2.info())"
   ]
  },
  {
   "cell_type": "code",
   "execution_count": 5,
   "metadata": {},
   "outputs": [
    {
     "name": "stdout",
     "output_type": "stream",
     "text": [
      "data_0 describe:                   f0             f1             f2        product\n",
      "count  100000.000000  100000.000000  100000.000000  100000.000000\n",
      "mean        0.500419       0.250143       2.502647      92.500000\n",
      "std         0.871832       0.504433       3.248248      44.288691\n",
      "min        -1.408605      -0.848218     -12.088328       0.000000\n",
      "25%        -0.072580      -0.200881       0.287748      56.497507\n",
      "50%         0.502360       0.250252       2.515969      91.849972\n",
      "75%         1.073581       0.700646       4.715088     128.564089\n",
      "max         2.362331       1.343769      16.003790     185.364347\n",
      "\n",
      "data_1 describe:                   f0             f1             f2        product\n",
      "count  100000.000000  100000.000000  100000.000000  100000.000000\n",
      "mean        1.141296      -4.796579       2.494541      68.825000\n",
      "std         8.965932       5.119872       1.703572      45.944423\n",
      "min       -31.609576     -26.358598      -0.018144       0.000000\n",
      "25%        -6.298551      -8.267985       1.000021      26.953261\n",
      "50%         1.153055      -4.813172       2.011479      57.085625\n",
      "75%         8.621015      -1.332816       3.999904     107.813044\n",
      "max        29.421755      18.734063       5.019721     137.945408\n",
      "\n",
      "data_2 describe:                   f0             f1             f2        product\n",
      "count  100000.000000  100000.000000  100000.000000  100000.000000\n",
      "mean        0.002023      -0.002081       2.495128      95.000000\n",
      "std         1.732045       1.730417       3.473445      44.749921\n",
      "min        -8.760004      -7.084020     -11.970335       0.000000\n",
      "25%        -1.162288      -1.174820       0.130359      59.450441\n",
      "50%         0.009424      -0.009482       2.484236      94.925613\n",
      "75%         1.158535       1.163678       4.858794     130.595027\n",
      "max         7.238262       7.844801      16.739402     190.029838\n",
      "\n"
     ]
    }
   ],
   "source": [
    "print('data_0 describe:', data_0.describe())\n",
    "print()\n",
    "print('data_1 describe:', data_1.describe())\n",
    "print()\n",
    "print('data_2 describe:', data_2.describe())\n",
    "print()"
   ]
  },
  {
   "cell_type": "markdown",
   "metadata": {},
   "source": [
    "### Check the data for duplicates"
   ]
  },
  {
   "cell_type": "code",
   "execution_count": 6,
   "metadata": {},
   "outputs": [
    {
     "data": {
      "text/plain": [
       "0"
      ]
     },
     "execution_count": 6,
     "metadata": {},
     "output_type": "execute_result"
    }
   ],
   "source": [
    "data_0.duplicated().sum()"
   ]
  },
  {
   "cell_type": "code",
   "execution_count": 7,
   "metadata": {},
   "outputs": [
    {
     "data": {
      "text/plain": [
       "0"
      ]
     },
     "execution_count": 7,
     "metadata": {},
     "output_type": "execute_result"
    }
   ],
   "source": [
    "data_1.duplicated().sum()"
   ]
  },
  {
   "cell_type": "code",
   "execution_count": 8,
   "metadata": {},
   "outputs": [
    {
     "data": {
      "text/plain": [
       "0"
      ]
     },
     "execution_count": 8,
     "metadata": {},
     "output_type": "execute_result"
    }
   ],
   "source": [
    "data_2.duplicated().sum()"
   ]
  },
  {
   "cell_type": "markdown",
   "metadata": {},
   "source": [
    "### Result of examining the data"
   ]
  },
  {
   "cell_type": "markdown",
   "metadata": {},
   "source": [
    "1. There are no missing values\n",
    "2. Columns are named correctly, renaming is not required\n",
    "3. The \"id\" column is just names and is useless for model training\n",
    "4. Learning features (features): f0, f1, f2\n",
    "5. Target attribute (target): product\n",
    "6. No duplicates"
   ]
  },
  {
   "cell_type": "markdown",
   "metadata": {},
   "source": [
    "## Train and validate the model"
   ]
  },
  {
   "cell_type": "markdown",
   "metadata": {},
   "source": [
    "### Data preparation"
   ]
  },
  {
   "cell_type": "code",
   "execution_count": 9,
   "metadata": {},
   "outputs": [],
   "source": [
    "features_0 = data_0[['f0','f1','f2']]\n",
    "target_0 = data_0[['product']]"
   ]
  },
  {
   "cell_type": "code",
   "execution_count": 10,
   "metadata": {},
   "outputs": [],
   "source": [
    "features_1 = data_1[['f0','f1','f2']]\n",
    "target_1 = data_1[['product']]"
   ]
  },
  {
   "cell_type": "code",
   "execution_count": 11,
   "metadata": {},
   "outputs": [],
   "source": [
    "features_2 = data_2[['f0','f1','f2']]\n",
    "target_2 = data_2[['product']]"
   ]
  },
  {
   "cell_type": "markdown",
   "metadata": {},
   "source": [
    "### Create training/validation sets"
   ]
  },
  {
   "cell_type": "markdown",
   "metadata": {},
   "source": [
    "#### Sets for the first region"
   ]
  },
  {
   "cell_type": "code",
   "execution_count": 12,
   "metadata": {},
   "outputs": [
    {
     "name": "stdout",
     "output_type": "stream",
     "text": [
      "features_0_train: (75000, 3)\n",
      "features_0_valid: (25000, 3)\n",
      "target_0_train: (75000, 1)\n",
      "target_0_valid: (25000, 1)\n"
     ]
    }
   ],
   "source": [
    "features_0_train, features_0_valid, target_0_train, target_0_valid = train_test_split(features_0, target_0, \n",
    "                                                                                      train_size = 0.75, \n",
    "                                                                                      random_state = state, \n",
    "                                                                                      shuffle = False)\n",
    "print('features_0_train:', features_0_train.shape)\n",
    "print('features_0_valid:', features_0_valid.shape)\n",
    "print('target_0_train:', target_0_train.shape)\n",
    "print('target_0_valid:', target_0_valid.shape)"
   ]
  },
  {
   "cell_type": "markdown",
   "metadata": {},
   "source": [
    "#### Sets for the second region"
   ]
  },
  {
   "cell_type": "code",
   "execution_count": 13,
   "metadata": {},
   "outputs": [
    {
     "name": "stdout",
     "output_type": "stream",
     "text": [
      "features_1_train: (75000, 3)\n",
      "features_1_valid: (25000, 3)\n",
      "target_1_train: (75000, 1)\n",
      "target_1_valid: (25000, 1)\n"
     ]
    }
   ],
   "source": [
    "features_1_train, features_1_valid, target_1_train, target_1_valid = train_test_split(features_1, target_1, \n",
    "                                                                                      train_size = 0.75, \n",
    "                                                                                      random_state = state, \n",
    "                                                                                      shuffle = False)\n",
    "print('features_1_train:', features_1_train.shape)\n",
    "print('features_1_valid:', features_1_valid.shape)\n",
    "print('target_1_train:', target_1_train.shape)\n",
    "print('target_1_valid:', target_1_valid.shape)"
   ]
  },
  {
   "cell_type": "markdown",
   "metadata": {},
   "source": [
    "#### Sets for the third region"
   ]
  },
  {
   "cell_type": "code",
   "execution_count": 14,
   "metadata": {},
   "outputs": [
    {
     "name": "stdout",
     "output_type": "stream",
     "text": [
      "features_2_train: (75000, 3)\n",
      "features_2_valid: (25000, 3)\n",
      "target_2_train: (75000, 1)\n",
      "target_2_valid: (25000, 1)\n"
     ]
    }
   ],
   "source": [
    "features_2_train, features_2_valid, target_2_train, target_2_valid = train_test_split(features_2, target_2, \n",
    "                                                                                      train_size = 0.75, \n",
    "                                                                                      random_state = state, \n",
    "                                                                                      shuffle = False)\n",
    "print('features_2_train:', features_2_train.shape)\n",
    "print('features_2_valid:', features_2_valid.shape)\n",
    "print('target_2_train:', target_2_train.shape)\n",
    "print('target_2_valid:', target_2_valid.shape)"
   ]
  },
  {
   "cell_type": "markdown",
   "metadata": {},
   "source": [
    "## Model training"
   ]
  },
  {
   "cell_type": "markdown",
   "metadata": {},
   "source": [
    "### Train the model"
   ]
  },
  {
   "cell_type": "markdown",
   "metadata": {},
   "source": [
    "#### Model for the first region"
   ]
  },
  {
   "cell_type": "code",
   "execution_count": 15,
   "metadata": {},
   "outputs": [],
   "source": [
    "scaler.fit(features_0_train)\n",
    "\n",
    "features_0_train = scaler.transform(features_0_train)\n",
    "features_0_valid = scaler.transform(features_0_valid)\n",
    "\n",
    "model.fit(features_0_train, target_0_train)\n",
    "\n",
    "predicted_0_valid = model.predict(features_0_valid)\n",
    "score_0 = model.score(features_0_valid, target_0_valid)\n",
    "RMSE_0 = sqrt(mean_squared_error(target_0_valid, predicted_0_valid))\n"
   ]
  },
  {
   "cell_type": "markdown",
   "metadata": {},
   "source": [
    "#### Model for the second region"
   ]
  },
  {
   "cell_type": "code",
   "execution_count": 16,
   "metadata": {},
   "outputs": [],
   "source": [
    "scaler.fit(features_1_train)\n",
    "\n",
    "features_1_train = scaler.transform(features_1_train)\n",
    "features_1_valid = scaler.transform(features_1_valid)\n",
    "\n",
    "model.fit(features_1_train, target_1_train)\n",
    "\n",
    "predicted_1_valid = model.predict(features_1_valid)\n",
    "score_1 = model.score(features_1_valid, target_1_valid)\n",
    "RMSE_1 = sqrt(mean_squared_error(target_1_valid, predicted_1_valid))\n"
   ]
  },
  {
   "cell_type": "markdown",
   "metadata": {},
   "source": [
    "#### Model for the third region"
   ]
  },
  {
   "cell_type": "code",
   "execution_count": 17,
   "metadata": {},
   "outputs": [],
   "source": [
    "scaler.fit(features_2_train)\n",
    "\n",
    "features_2_train = scaler.transform(features_2_train)\n",
    "features_2_valid = scaler.transform(features_2_valid)\n",
    "\n",
    "model.fit(features_2_train, target_2_train)\n",
    "\n",
    "predicted_2_valid = model.predict(features_2_valid)\n",
    "score_2 = model.score(features_2_valid, target_2_valid)\n",
    "RMSE_2 = sqrt(mean_squared_error(target_2_valid, predicted_2_valid))\n"
   ]
  },
  {
   "cell_type": "markdown",
   "metadata": {},
   "source": [
    "### Compare predictions and correct answers"
   ]
  },
  {
   "cell_type": "code",
   "execution_count": 18,
   "metadata": {},
   "outputs": [
    {
     "data": {
      "text/html": [
       "<div>\n",
       "<style scoped>\n",
       "    .dataframe tbody tr th:only-of-type {\n",
       "        vertical-align: middle;\n",
       "    }\n",
       "\n",
       "    .dataframe tbody tr th {\n",
       "        vertical-align: top;\n",
       "    }\n",
       "\n",
       "    .dataframe thead th {\n",
       "        text-align: right;\n",
       "    }\n",
       "</style>\n",
       "<table border=\"1\" class=\"dataframe\">\n",
       "  <thead>\n",
       "    <tr style=\"text-align: right;\">\n",
       "      <th></th>\n",
       "      <th>real_volume</th>\n",
       "      <th>predict_volume</th>\n",
       "      <th>mean_predict_volume</th>\n",
       "      <th>RMSE</th>\n",
       "      <th>R2-score</th>\n",
       "    </tr>\n",
       "  </thead>\n",
       "  <tbody>\n",
       "    <tr>\n",
       "      <th>0</th>\n",
       "      <td>2.310666e+06</td>\n",
       "      <td>2.314842e+06</td>\n",
       "      <td>92.593681</td>\n",
       "      <td>37.650563</td>\n",
       "      <td>0.273593</td>\n",
       "    </tr>\n",
       "    <tr>\n",
       "      <th>1</th>\n",
       "      <td>1.723502e+06</td>\n",
       "      <td>1.723938e+06</td>\n",
       "      <td>68.957534</td>\n",
       "      <td>0.894446</td>\n",
       "      <td>0.999622</td>\n",
       "    </tr>\n",
       "    <tr>\n",
       "      <th>2</th>\n",
       "      <td>2.372809e+06</td>\n",
       "      <td>2.381887e+06</td>\n",
       "      <td>95.275462</td>\n",
       "      <td>40.003681</td>\n",
       "      <td>0.202021</td>\n",
       "    </tr>\n",
       "  </tbody>\n",
       "</table>\n",
       "</div>"
      ],
      "text/plain": [
       "    real_volume  predict_volume  mean_predict_volume       RMSE  R2-score\n",
       "0  2.310666e+06    2.314842e+06            92.593681  37.650563  0.273593\n",
       "1  1.723502e+06    1.723938e+06            68.957534   0.894446  0.999622\n",
       "2  2.372809e+06    2.381887e+06            95.275462  40.003681  0.202021"
      ]
     },
     "execution_count": 18,
     "metadata": {},
     "output_type": "execute_result"
    }
   ],
   "source": [
    "model_results = pd.DataFrame({'real_volume'        :[target_0_valid['product'].sum(),\n",
    "                                                     target_1_valid['product'].sum(),\n",
    "                                                     target_2_valid['product'].sum()],\n",
    "                              'predict_volume'      : [predicted_0_valid.sum(),\n",
    "                                                      predicted_1_valid.sum(),\n",
    "                                                      predicted_2_valid.sum()],\n",
    "                              'mean_predict_volume' : [predicted_0_valid.mean(),\n",
    "                                                      predicted_1_valid.mean(),\n",
    "                                                      predicted_2_valid.mean()],\n",
    "                              'RMSE'                : [RMSE_0, RMSE_1, RMSE_2], \n",
    "                              'R2-score'            : [score_0, score_1, score_2]\n",
    "}\n",
    ")\n",
    "\n",
    "model_results"
   ]
  },
  {
   "cell_type": "markdown",
   "metadata": {},
   "source": [
    "### Intermediate output"
   ]
  },
  {
   "cell_type": "markdown",
   "metadata": {},
   "source": [
    "1. The model for the 2nd region has the highest R2 metric.\n",
    "2. Minimum RMSE value obtained for the 2nd region\n",
    "2. The most promising regions in terms of the average predicted amount of raw materials are the 1st and 3rd regions\n"
   ]
  },
  {
   "cell_type": "markdown",
   "metadata": {},
   "source": [
    "## Preparation for revenue calculation"
   ]
  },
  {
   "cell_type": "markdown",
   "metadata": {},
   "source": [
    "### Create constants for key values"
   ]
  },
  {
   "cell_type": "code",
   "execution_count": 19,
   "metadata": {},
   "outputs": [
    {
     "name": "stdout",
     "output_type": "stream",
     "text": [
      "Minimum amount of raw material in the well: 111.11 unit\n",
      "Minimum amount of raw materials in the region: 22222.22 unit\n",
      "Minimum average quantity of raw materials in a well by region: 200.0 units\n"
     ]
    }
   ],
   "source": [
    "#budget for well development in the region\n",
    "investment = 10_000_000_000\n",
    "\n",
    "#revenue per unit of product (1000 barrels)\n",
    "product_price = 450_000                     \n",
    "                                \n",
    "#cost of construction of one well\n",
    "well_development = investment/200\n",
    "\n",
    "#minimum supply of raw materials to open a well\n",
    "well_opening = well_development/product_price\n",
    "\n",
    "#minimum stock of raw materials to break even the region\n",
    "region_opening = investment/product_price\n",
    "\n",
    "print ('Minimum amount of raw material in the well:', round (well_opening, 2), 'unit')\n",
    "print ('Minimum amount of raw materials in the region:', round (region_opening, 2), 'unit')\n",
    "\n",
    "mean_region_quantity = round(region_opening / well_opening, 2)\n",
    "print ('Minimum average quantity of raw materials in a well by region:', mean_region_quantity, 'units')"
   ]
  },
  {
   "cell_type": "markdown",
   "metadata": {},
   "source": [
    "### Compare the resulting minimum value with the average in each region"
   ]
  },
  {
   "cell_type": "code",
   "execution_count": 20,
   "metadata": {},
   "outputs": [
    {
     "name": "stdout",
     "output_type": "stream",
     "text": [
      "The average amount of minimum raw materials in the mine for the first region is not enough\n"
     ]
    }
   ],
   "source": [
    "if model_results.loc[0,'mean_predict_volume'] >= mean_region_quantity:\n",
    "     print ('The average amount of minimum raw materials in the mine for the first region is enough')\n",
    "else:\n",
    "     print ('The average amount of minimum raw materials in the mine for the first region is not enough')"
   ]
  },
  {
   "cell_type": "code",
   "execution_count": 21,
   "metadata": {},
   "outputs": [
    {
     "name": "stdout",
     "output_type": "stream",
     "text": [
      "The average amount of minimum raw materials in the mine in the second region is not enough\n"
     ]
    }
   ],
   "source": [
    "if model_results.loc[1,'mean_predict_volume'] >= mean_region_quantity:\n",
    "     print ('The average amount of minimum raw materials in the mine in the second region is enough')\n",
    "else:\n",
    "     print ('The average amount of minimum raw materials in the mine in the second region is not enough')\n",
    "        "
   ]
  },
  {
   "cell_type": "code",
   "execution_count": 22,
   "metadata": {},
   "outputs": [
    {
     "name": "stdout",
     "output_type": "stream",
     "text": [
      "The average amount of minimum raw materials in the mine in the third region is not enough\n"
     ]
    }
   ],
   "source": [
    "if model_results.loc[2,'mean_predict_volume'] >= mean_region_quantity:\n",
    "     print ('The average amount of minimum raw materials in the mine in the third region is enough')\n",
    "else:\n",
    "     print ('The average amount of minimum raw materials in the mine in the third region is not enough')\n",
    "        "
   ]
  },
  {
   "cell_type": "markdown",
   "metadata": {},
   "source": [
    "### Summary"
   ]
  },
  {
   "cell_type": "markdown",
   "metadata": {},
   "source": [
    "- To open a well, it is necessary to have at least 111.11 units of raw materials in it (taking into account that 1 unit of raw materials is 1000 barrels).\n",
    "- To develop a region, it is necessary that all wells in this region have at least 22,222.22 units of raw materials (assuming that one unit is 1,000 barrels).\n",
    "- If we compare the average value of the number of units of raw materials with the average minimum required, it will seem that in each of the regions there is not enough raw material, but it is not correct to compare the average in this case, since in one mine there can be a lot, but in many mines it is small. Since 200 mines out of 500 will be used, we will not use the average value."
   ]
  },
  {
   "cell_type": "markdown",
   "metadata": {},
   "source": [
    "## Revenue calculation function"
   ]
  },
  {
   "cell_type": "markdown",
   "metadata": {},
   "source": [
    "### Create a function"
   ]
  },
  {
   "cell_type": "code",
   "execution_count": 23,
   "metadata": {},
   "outputs": [],
   "source": [
    "def revenue(target, probabilities, count):\n",
    "    probs_sorted = probabilities.sort_values(ascending=False)\n",
    "    selected = target[probs_sorted.index][:count]\n",
    "    oil_sum = selected.sum()\n",
    "    oil_revenue = oil_sum * product_price - investment\n",
    "    return pd.DataFrame({'oil_sum':[oil_sum], 'oil_revenue':[oil_revenue]})"
   ]
  },
  {
   "cell_type": "markdown",
   "metadata": {},
   "source": [
    "- oil_sum - запас сырья\n",
    "- oil_revenue - прибыль"
   ]
  },
  {
   "cell_type": "markdown",
   "metadata": {},
   "source": [
    "### Combine predictions and answers into a table"
   ]
  },
  {
   "cell_type": "code",
   "execution_count": 24,
   "metadata": {},
   "outputs": [],
   "source": [
    "target_0_predict = pd.concat([target_0_valid.reset_index(drop=True), pd.DataFrame(predicted_0_valid)], axis=1)\n",
    "target_1_predict = pd.concat([target_1_valid.reset_index(drop=True), pd.DataFrame(predicted_1_valid)], axis=1)\n",
    "target_2_predict = pd.concat([target_2_valid.reset_index(drop=True), pd.DataFrame(predicted_2_valid)], axis=1)\n",
    "\n",
    "target_0_predict = target_0_predict.rename(columns = {0:'predicted_product'})\n",
    "target_1_predict = target_1_predict.rename(columns = {0:'predicted_product'})\n",
    "target_2_predict = target_2_predict.rename(columns = {0:'predicted_product'})"
   ]
  },
  {
   "cell_type": "markdown",
   "metadata": {},
   "source": [
    "### Select wells with the maximum predicted amount of raw materials"
   ]
  },
  {
   "cell_type": "markdown",
   "metadata": {},
   "source": [
    "#### First region"
   ]
  },
  {
   "cell_type": "code",
   "execution_count": 25,
   "metadata": {},
   "outputs": [
    {
     "name": "stdout",
     "output_type": "stream",
     "text": [
      "The total amount of raw materials in 200 wells in the first region: 31124.8931034763\n"
     ]
    }
   ],
   "source": [
    "max_oil_0 = target_0_predict.sort_values(by='predicted_product', ascending=False)[:200]\n",
    "quantity_0 = max_oil_0['predicted_product'].sum()\n",
    "print ('The total amount of raw materials in 200 wells in the first region:', quantity_0)"
   ]
  },
  {
   "cell_type": "markdown",
   "metadata": {},
   "source": [
    "#### Second region"
   ]
  },
  {
   "cell_type": "code",
   "execution_count": 26,
   "metadata": {},
   "outputs": [
    {
     "name": "stdout",
     "output_type": "stream",
     "text": [
      "The total amount of raw materials in 200 wells in the second region: 27743.00159143885\n"
     ]
    }
   ],
   "source": [
    "max_oil_1 = target_1_predict.sort_values(by='predicted_product', ascending=False)[:200]\n",
    "quantity_1 = max_oil_1['predicted_product'].sum()\n",
    "print ('The total amount of raw materials in 200 wells in the second region:', quantity_1)"
   ]
  },
  {
   "cell_type": "markdown",
   "metadata": {},
   "source": [
    "#### Third region"
   ]
  },
  {
   "cell_type": "code",
   "execution_count": 27,
   "metadata": {},
   "outputs": [
    {
     "name": "stdout",
     "output_type": "stream",
     "text": [
      "The total amount of raw materials in 200 wells in the third region: 29718.375030064024\n"
     ]
    }
   ],
   "source": [
    "max_oil_2 = target_2_predict.sort_values(by='predicted_product', ascending=False)[:200]\n",
    "quantity_2 = max_oil_2['predicted_product'].sum()\n",
    "print ('The total amount of raw materials in 200 wells in the third region:', quantity_2)"
   ]
  },
  {
   "cell_type": "markdown",
   "metadata": {},
   "source": [
    "### Calculate the recenue for the top 200 wells"
   ]
  },
  {
   "cell_type": "markdown",
   "metadata": {},
   "source": [
    "#### First region"
   ]
  },
  {
   "cell_type": "code",
   "execution_count": 32,
   "metadata": {},
   "outputs": [
    {
     "data": {
      "text/html": [
       "<div>\n",
       "<style scoped>\n",
       "    .dataframe tbody tr th:only-of-type {\n",
       "        vertical-align: middle;\n",
       "    }\n",
       "\n",
       "    .dataframe tbody tr th {\n",
       "        vertical-align: top;\n",
       "    }\n",
       "\n",
       "    .dataframe thead th {\n",
       "        text-align: right;\n",
       "    }\n",
       "</style>\n",
       "<table border=\"1\" class=\"dataframe\">\n",
       "  <thead>\n",
       "    <tr style=\"text-align: right;\">\n",
       "      <th></th>\n",
       "      <th>oil_sum</th>\n",
       "      <th>oil_revenue</th>\n",
       "    </tr>\n",
       "  </thead>\n",
       "  <tbody>\n",
       "    <tr>\n",
       "      <th>0</th>\n",
       "      <td>29681.923564</td>\n",
       "      <td>3.356866e+09</td>\n",
       "    </tr>\n",
       "  </tbody>\n",
       "</table>\n",
       "</div>"
      ],
      "text/plain": [
       "        oil_sum   oil_revenue\n",
       "0  29681.923564  3.356866e+09"
      ]
     },
     "execution_count": 32,
     "metadata": {},
     "output_type": "execute_result"
    }
   ],
   "source": [
    "revenue_0 = revenue (max_oil_0['product'], max_oil_0['predicted_product'], 200)\n",
    "revenue_0"
   ]
  },
  {
   "cell_type": "markdown",
   "metadata": {},
   "source": [
    "#### Second region"
   ]
  },
  {
   "cell_type": "code",
   "execution_count": 33,
   "metadata": {},
   "outputs": [
    {
     "data": {
      "text/html": [
       "<div>\n",
       "<style scoped>\n",
       "    .dataframe tbody tr th:only-of-type {\n",
       "        vertical-align: middle;\n",
       "    }\n",
       "\n",
       "    .dataframe tbody tr th {\n",
       "        vertical-align: top;\n",
       "    }\n",
       "\n",
       "    .dataframe thead th {\n",
       "        text-align: right;\n",
       "    }\n",
       "</style>\n",
       "<table border=\"1\" class=\"dataframe\">\n",
       "  <thead>\n",
       "    <tr style=\"text-align: right;\">\n",
       "      <th></th>\n",
       "      <th>oil_sum</th>\n",
       "      <th>oil_revenue</th>\n",
       "    </tr>\n",
       "  </thead>\n",
       "  <tbody>\n",
       "    <tr>\n",
       "      <th>0</th>\n",
       "      <td>27589.081548</td>\n",
       "      <td>2.415087e+09</td>\n",
       "    </tr>\n",
       "  </tbody>\n",
       "</table>\n",
       "</div>"
      ],
      "text/plain": [
       "        oil_sum   oil_revenue\n",
       "0  27589.081548  2.415087e+09"
      ]
     },
     "execution_count": 33,
     "metadata": {},
     "output_type": "execute_result"
    }
   ],
   "source": [
    "revenue_1 = revenue (max_oil_1['product'], max_oil_1['predicted_product'], 200)\n",
    "revenue_1"
   ]
  },
  {
   "cell_type": "markdown",
   "metadata": {},
   "source": [
    "#### Third region"
   ]
  },
  {
   "cell_type": "code",
   "execution_count": 34,
   "metadata": {},
   "outputs": [
    {
     "data": {
      "text/html": [
       "<div>\n",
       "<style scoped>\n",
       "    .dataframe tbody tr th:only-of-type {\n",
       "        vertical-align: middle;\n",
       "    }\n",
       "\n",
       "    .dataframe tbody tr th {\n",
       "        vertical-align: top;\n",
       "    }\n",
       "\n",
       "    .dataframe thead th {\n",
       "        text-align: right;\n",
       "    }\n",
       "</style>\n",
       "<table border=\"1\" class=\"dataframe\">\n",
       "  <thead>\n",
       "    <tr style=\"text-align: right;\">\n",
       "      <th></th>\n",
       "      <th>oil_sum</th>\n",
       "      <th>oil_revenue</th>\n",
       "    </tr>\n",
       "  </thead>\n",
       "  <tbody>\n",
       "    <tr>\n",
       "      <th>0</th>\n",
       "      <td>27974.781092</td>\n",
       "      <td>2.588651e+09</td>\n",
       "    </tr>\n",
       "  </tbody>\n",
       "</table>\n",
       "</div>"
      ],
      "text/plain": [
       "        oil_sum   oil_revenue\n",
       "0  27974.781092  2.588651e+09"
      ]
     },
     "execution_count": 34,
     "metadata": {},
     "output_type": "execute_result"
    }
   ],
   "source": [
    "revenue_2 = revenue (max_oil_2['product'], max_oil_2['predicted_product'], 200)\n",
    "revenue_2"
   ]
  },
  {
   "cell_type": "markdown",
   "metadata": {},
   "source": [
    "### Revenue Summary"
   ]
  },
  {
   "cell_type": "markdown",
   "metadata": {},
   "source": [
    "The maximum profit can be obtained from 200 wells in the first region."
   ]
  },
  {
   "cell_type": "markdown",
   "metadata": {},
   "source": [
    "## Revenue and Risk Calculation"
   ]
  },
  {
   "cell_type": "markdown",
   "metadata": {},
   "source": [
    "### Bootstrap procedure for each region"
   ]
  },
  {
   "cell_type": "markdown",
   "metadata": {},
   "source": [
    "#### Bootstrap for the first region"
   ]
  },
  {
   "cell_type": "code",
   "execution_count": 37,
   "metadata": {},
   "outputs": [
    {
     "data": {
      "text/html": [
       "<div>\n",
       "<style scoped>\n",
       "    .dataframe tbody tr th:only-of-type {\n",
       "        vertical-align: middle;\n",
       "    }\n",
       "\n",
       "    .dataframe tbody tr th {\n",
       "        vertical-align: top;\n",
       "    }\n",
       "\n",
       "    .dataframe thead th {\n",
       "        text-align: right;\n",
       "    }\n",
       "</style>\n",
       "<table border=\"1\" class=\"dataframe\">\n",
       "  <thead>\n",
       "    <tr style=\"text-align: right;\">\n",
       "      <th></th>\n",
       "      <th>oil_sum</th>\n",
       "      <th>oil_revenue</th>\n",
       "    </tr>\n",
       "  </thead>\n",
       "  <tbody>\n",
       "    <tr>\n",
       "      <th>0</th>\n",
       "      <td>22917.426785</td>\n",
       "      <td>3.128421e+08</td>\n",
       "    </tr>\n",
       "    <tr>\n",
       "      <th>1</th>\n",
       "      <td>23144.438289</td>\n",
       "      <td>4.149972e+08</td>\n",
       "    </tr>\n",
       "    <tr>\n",
       "      <th>2</th>\n",
       "      <td>22808.114110</td>\n",
       "      <td>2.636513e+08</td>\n",
       "    </tr>\n",
       "    <tr>\n",
       "      <th>3</th>\n",
       "      <td>22886.090330</td>\n",
       "      <td>2.987406e+08</td>\n",
       "    </tr>\n",
       "    <tr>\n",
       "      <th>4</th>\n",
       "      <td>22931.414629</td>\n",
       "      <td>3.191366e+08</td>\n",
       "    </tr>\n",
       "    <tr>\n",
       "      <th>...</th>\n",
       "      <td>...</td>\n",
       "      <td>...</td>\n",
       "    </tr>\n",
       "    <tr>\n",
       "      <th>995</th>\n",
       "      <td>23252.580704</td>\n",
       "      <td>4.636613e+08</td>\n",
       "    </tr>\n",
       "    <tr>\n",
       "      <th>996</th>\n",
       "      <td>23395.908459</td>\n",
       "      <td>5.281588e+08</td>\n",
       "    </tr>\n",
       "    <tr>\n",
       "      <th>997</th>\n",
       "      <td>24396.518944</td>\n",
       "      <td>9.784335e+08</td>\n",
       "    </tr>\n",
       "    <tr>\n",
       "      <th>998</th>\n",
       "      <td>23133.990643</td>\n",
       "      <td>4.102958e+08</td>\n",
       "    </tr>\n",
       "    <tr>\n",
       "      <th>999</th>\n",
       "      <td>23175.824317</td>\n",
       "      <td>4.291209e+08</td>\n",
       "    </tr>\n",
       "  </tbody>\n",
       "</table>\n",
       "<p>1000 rows × 2 columns</p>\n",
       "</div>"
      ],
      "text/plain": [
       "          oil_sum   oil_revenue\n",
       "0    22917.426785  3.128421e+08\n",
       "1    23144.438289  4.149972e+08\n",
       "2    22808.114110  2.636513e+08\n",
       "3    22886.090330  2.987406e+08\n",
       "4    22931.414629  3.191366e+08\n",
       "..            ...           ...\n",
       "995  23252.580704  4.636613e+08\n",
       "996  23395.908459  5.281588e+08\n",
       "997  24396.518944  9.784335e+08\n",
       "998  23133.990643  4.102958e+08\n",
       "999  23175.824317  4.291209e+08\n",
       "\n",
       "[1000 rows x 2 columns]"
      ]
     },
     "execution_count": 37,
     "metadata": {},
     "output_type": "execute_result"
    }
   ],
   "source": [
    "region_0_boot = pd.DataFrame()\n",
    "for i in range(1000):\n",
    "    target_subsample = target_0_predict['product'].sample(n=500, replace=True, random_state = state)\n",
    "    probs_subsample = target_0_predict['predicted_product'][target_subsample.index]\n",
    "    region_0_boot = region_0_boot.append(revenue(target_subsample, probs_subsample, 200), ignore_index=True)\n",
    "\n",
    "region_0_boot"
   ]
  },
  {
   "cell_type": "markdown",
   "metadata": {},
   "source": [
    "#### Bootstrap for the second region"
   ]
  },
  {
   "cell_type": "code",
   "execution_count": 38,
   "metadata": {
    "scrolled": false
   },
   "outputs": [
    {
     "data": {
      "text/html": [
       "<div>\n",
       "<style scoped>\n",
       "    .dataframe tbody tr th:only-of-type {\n",
       "        vertical-align: middle;\n",
       "    }\n",
       "\n",
       "    .dataframe tbody tr th {\n",
       "        vertical-align: top;\n",
       "    }\n",
       "\n",
       "    .dataframe thead th {\n",
       "        text-align: right;\n",
       "    }\n",
       "</style>\n",
       "<table border=\"1\" class=\"dataframe\">\n",
       "  <thead>\n",
       "    <tr style=\"text-align: right;\">\n",
       "      <th></th>\n",
       "      <th>oil_sum</th>\n",
       "      <th>oil_revenue</th>\n",
       "    </tr>\n",
       "  </thead>\n",
       "  <tbody>\n",
       "    <tr>\n",
       "      <th>0</th>\n",
       "      <td>23569.175443</td>\n",
       "      <td>6.061289e+08</td>\n",
       "    </tr>\n",
       "    <tr>\n",
       "      <th>1</th>\n",
       "      <td>23234.540340</td>\n",
       "      <td>4.555432e+08</td>\n",
       "    </tr>\n",
       "    <tr>\n",
       "      <th>2</th>\n",
       "      <td>24531.475972</td>\n",
       "      <td>1.039164e+09</td>\n",
       "    </tr>\n",
       "    <tr>\n",
       "      <th>3</th>\n",
       "      <td>23753.010505</td>\n",
       "      <td>6.888547e+08</td>\n",
       "    </tr>\n",
       "    <tr>\n",
       "      <th>4</th>\n",
       "      <td>24059.033684</td>\n",
       "      <td>8.265652e+08</td>\n",
       "    </tr>\n",
       "    <tr>\n",
       "      <th>...</th>\n",
       "      <td>...</td>\n",
       "      <td>...</td>\n",
       "    </tr>\n",
       "    <tr>\n",
       "      <th>995</th>\n",
       "      <td>23282.226879</td>\n",
       "      <td>4.770021e+08</td>\n",
       "    </tr>\n",
       "    <tr>\n",
       "      <th>996</th>\n",
       "      <td>23618.382422</td>\n",
       "      <td>6.282721e+08</td>\n",
       "    </tr>\n",
       "    <tr>\n",
       "      <th>997</th>\n",
       "      <td>23410.634979</td>\n",
       "      <td>5.347857e+08</td>\n",
       "    </tr>\n",
       "    <tr>\n",
       "      <th>998</th>\n",
       "      <td>22801.905945</td>\n",
       "      <td>2.608577e+08</td>\n",
       "    </tr>\n",
       "    <tr>\n",
       "      <th>999</th>\n",
       "      <td>23496.194305</td>\n",
       "      <td>5.732874e+08</td>\n",
       "    </tr>\n",
       "  </tbody>\n",
       "</table>\n",
       "<p>1000 rows × 2 columns</p>\n",
       "</div>"
      ],
      "text/plain": [
       "          oil_sum   oil_revenue\n",
       "0    23569.175443  6.061289e+08\n",
       "1    23234.540340  4.555432e+08\n",
       "2    24531.475972  1.039164e+09\n",
       "3    23753.010505  6.888547e+08\n",
       "4    24059.033684  8.265652e+08\n",
       "..            ...           ...\n",
       "995  23282.226879  4.770021e+08\n",
       "996  23618.382422  6.282721e+08\n",
       "997  23410.634979  5.347857e+08\n",
       "998  22801.905945  2.608577e+08\n",
       "999  23496.194305  5.732874e+08\n",
       "\n",
       "[1000 rows x 2 columns]"
      ]
     },
     "execution_count": 38,
     "metadata": {},
     "output_type": "execute_result"
    }
   ],
   "source": [
    "region_1_boot = pd.DataFrame()\n",
    "for i in range(1000):\n",
    "    target_subsample = target_1_predict['product'].sample(n=500, replace=True, random_state = state)\n",
    "    probs_subsample = target_1_predict['predicted_product'][target_subsample.index]\n",
    "    region_1_boot = region_1_boot.append(revenue(target_subsample, probs_subsample, 200), ignore_index=True)\n",
    "\n",
    "region_1_boot"
   ]
  },
  {
   "cell_type": "markdown",
   "metadata": {},
   "source": [
    "#### Bootstrap for the third region"
   ]
  },
  {
   "cell_type": "code",
   "execution_count": 39,
   "metadata": {
    "scrolled": false
   },
   "outputs": [
    {
     "data": {
      "text/html": [
       "<div>\n",
       "<style scoped>\n",
       "    .dataframe tbody tr th:only-of-type {\n",
       "        vertical-align: middle;\n",
       "    }\n",
       "\n",
       "    .dataframe tbody tr th {\n",
       "        vertical-align: top;\n",
       "    }\n",
       "\n",
       "    .dataframe thead th {\n",
       "        text-align: right;\n",
       "    }\n",
       "</style>\n",
       "<table border=\"1\" class=\"dataframe\">\n",
       "  <thead>\n",
       "    <tr style=\"text-align: right;\">\n",
       "      <th></th>\n",
       "      <th>oil_sum</th>\n",
       "      <th>oil_revenue</th>\n",
       "    </tr>\n",
       "  </thead>\n",
       "  <tbody>\n",
       "    <tr>\n",
       "      <th>0</th>\n",
       "      <td>21868.507666</td>\n",
       "      <td>-1.591716e+08</td>\n",
       "    </tr>\n",
       "    <tr>\n",
       "      <th>1</th>\n",
       "      <td>22619.974623</td>\n",
       "      <td>1.789886e+08</td>\n",
       "    </tr>\n",
       "    <tr>\n",
       "      <th>2</th>\n",
       "      <td>23650.777353</td>\n",
       "      <td>6.428498e+08</td>\n",
       "    </tr>\n",
       "    <tr>\n",
       "      <th>3</th>\n",
       "      <td>23349.055369</td>\n",
       "      <td>5.070749e+08</td>\n",
       "    </tr>\n",
       "    <tr>\n",
       "      <th>4</th>\n",
       "      <td>24100.518156</td>\n",
       "      <td>8.452332e+08</td>\n",
       "    </tr>\n",
       "    <tr>\n",
       "      <th>...</th>\n",
       "      <td>...</td>\n",
       "      <td>...</td>\n",
       "    </tr>\n",
       "    <tr>\n",
       "      <th>995</th>\n",
       "      <td>23641.816440</td>\n",
       "      <td>6.388174e+08</td>\n",
       "    </tr>\n",
       "    <tr>\n",
       "      <th>996</th>\n",
       "      <td>23151.227183</td>\n",
       "      <td>4.180522e+08</td>\n",
       "    </tr>\n",
       "    <tr>\n",
       "      <th>997</th>\n",
       "      <td>22242.200872</td>\n",
       "      <td>8.990392e+06</td>\n",
       "    </tr>\n",
       "    <tr>\n",
       "      <th>998</th>\n",
       "      <td>22447.160239</td>\n",
       "      <td>1.012221e+08</td>\n",
       "    </tr>\n",
       "    <tr>\n",
       "      <th>999</th>\n",
       "      <td>24492.441766</td>\n",
       "      <td>1.021599e+09</td>\n",
       "    </tr>\n",
       "  </tbody>\n",
       "</table>\n",
       "<p>1000 rows × 2 columns</p>\n",
       "</div>"
      ],
      "text/plain": [
       "          oil_sum   oil_revenue\n",
       "0    21868.507666 -1.591716e+08\n",
       "1    22619.974623  1.789886e+08\n",
       "2    23650.777353  6.428498e+08\n",
       "3    23349.055369  5.070749e+08\n",
       "4    24100.518156  8.452332e+08\n",
       "..            ...           ...\n",
       "995  23641.816440  6.388174e+08\n",
       "996  23151.227183  4.180522e+08\n",
       "997  22242.200872  8.990392e+06\n",
       "998  22447.160239  1.012221e+08\n",
       "999  24492.441766  1.021599e+09\n",
       "\n",
       "[1000 rows x 2 columns]"
      ]
     },
     "execution_count": 39,
     "metadata": {},
     "output_type": "execute_result"
    }
   ],
   "source": [
    "region_2_boot = pd.DataFrame()\n",
    "for i in range(1000):\n",
    "    target_subsample = target_2_predict['product'].sample(n=500, replace=True, random_state = state)\n",
    "    probs_subsample = target_2_predict['predicted_product'][target_subsample.index]\n",
    "    region_2_boot = region_2_boot.append(revenue(target_subsample, probs_subsample, 200), ignore_index=True)\n",
    "\n",
    "region_2_boot"
   ]
  },
  {
   "cell_type": "markdown",
   "metadata": {},
   "source": [
    "### Calculate confidence intervals"
   ]
  },
  {
   "cell_type": "markdown",
   "metadata": {},
   "source": [
    "#### Confidence interval for the first region"
   ]
  },
  {
   "cell_type": "code",
   "execution_count": 40,
   "metadata": {},
   "outputs": [
    {
     "data": {
      "text/plain": [
       "(-107438742.09530859, 920160542.1260606)"
      ]
     },
     "execution_count": 40,
     "metadata": {},
     "output_type": "execute_result"
    }
   ],
   "source": [
    "confidence_0 = (region_0_boot.oil_revenue.quantile(0.025), region_0_boot.oil_revenue.quantile(0.975))\n",
    "confidence_0"
   ]
  },
  {
   "cell_type": "markdown",
   "metadata": {},
   "source": [
    "#### Confidence interval for the second region"
   ]
  },
  {
   "cell_type": "code",
   "execution_count": 41,
   "metadata": {},
   "outputs": [
    {
     "data": {
      "text/plain": [
       "(106647184.04231901, 941440474.7195092)"
      ]
     },
     "execution_count": 41,
     "metadata": {},
     "output_type": "execute_result"
    }
   ],
   "source": [
    "confidence_1 = (region_1_boot.oil_revenue.quantile(0.025), region_1_boot.oil_revenue.quantile(0.975))\n",
    "confidence_1"
   ]
  },
  {
   "cell_type": "markdown",
   "metadata": {},
   "source": [
    "#### Confidence interval for the third region"
   ]
  },
  {
   "cell_type": "code",
   "execution_count": 42,
   "metadata": {},
   "outputs": [
    {
     "data": {
      "text/plain": [
       "(-143499299.1026896, 966169070.351338)"
      ]
     },
     "execution_count": 42,
     "metadata": {},
     "output_type": "execute_result"
    }
   ],
   "source": [
    "confidence_2 = (region_2_boot.oil_revenue.quantile(0.025), region_2_boot.oil_revenue.quantile(0.975))\n",
    "confidence_2"
   ]
  },
  {
   "cell_type": "markdown",
   "metadata": {},
   "source": [
    "### Calculate development risks for each region"
   ]
  },
  {
   "cell_type": "markdown",
   "metadata": {},
   "source": [
    "#### Development risk for the first region"
   ]
  },
  {
   "cell_type": "code",
   "execution_count": 43,
   "metadata": {},
   "outputs": [
    {
     "data": {
      "text/plain": [
       "5.6"
      ]
     },
     "execution_count": 43,
     "metadata": {},
     "output_type": "execute_result"
    }
   ],
   "source": [
    "limit_0 = len(region_0_boot.query('oil_revenue <= 0'))\n",
    "risk_0 =  limit_0/len(region_0_boot) * 100\n",
    "round (risk_0, 2)"
   ]
  },
  {
   "cell_type": "markdown",
   "metadata": {},
   "source": [
    "#### Development risk for the second region"
   ]
  },
  {
   "cell_type": "code",
   "execution_count": 44,
   "metadata": {},
   "outputs": [
    {
     "data": {
      "text/plain": [
       "0.4"
      ]
     },
     "execution_count": 44,
     "metadata": {},
     "output_type": "execute_result"
    }
   ],
   "source": [
    "limit_1 = len(region_1_boot.query('oil_revenue <= 0'))\n",
    "risk_1 =  limit_1/len(region_1_boot) * 100\n",
    "round (risk_1, 2)"
   ]
  },
  {
   "cell_type": "markdown",
   "metadata": {},
   "source": [
    "#### Development risk for the third region"
   ]
  },
  {
   "cell_type": "code",
   "execution_count": 45,
   "metadata": {},
   "outputs": [
    {
     "data": {
      "text/plain": [
       "7.0"
      ]
     },
     "execution_count": 45,
     "metadata": {},
     "output_type": "execute_result"
    }
   ],
   "source": [
    "limit_2 = len(region_2_boot.query('oil_revenue <= 0'))\n",
    "risk_2 =  limit_2/len(region_2_boot) * 100\n",
    "round (risk_2, 2)"
   ]
  },
  {
   "cell_type": "markdown",
   "metadata": {},
   "source": [
    "### Bring everything into one table"
   ]
  },
  {
   "cell_type": "code",
   "execution_count": 47,
   "metadata": {},
   "outputs": [
    {
     "data": {
      "text/html": [
       "<div>\n",
       "<style scoped>\n",
       "    .dataframe tbody tr th:only-of-type {\n",
       "        vertical-align: middle;\n",
       "    }\n",
       "\n",
       "    .dataframe tbody tr th {\n",
       "        vertical-align: top;\n",
       "    }\n",
       "\n",
       "    .dataframe thead th {\n",
       "        text-align: right;\n",
       "    }\n",
       "</style>\n",
       "<table border=\"1\" class=\"dataframe\">\n",
       "  <thead>\n",
       "    <tr style=\"text-align: right;\">\n",
       "      <th></th>\n",
       "      <th>Mean revenure of each region, rub.</th>\n",
       "      <th>95% confidence</th>\n",
       "      <th>Loss probability, %</th>\n",
       "    </tr>\n",
       "  </thead>\n",
       "  <tbody>\n",
       "    <tr>\n",
       "      <th>Region 1</th>\n",
       "      <td>4.219455e+08</td>\n",
       "      <td>(-107438742.09530859, 920160542.1260606)</td>\n",
       "      <td>5.6</td>\n",
       "    </tr>\n",
       "    <tr>\n",
       "      <th>Region 2</th>\n",
       "      <td>5.365917e+08</td>\n",
       "      <td>(106647184.04231901, 941440474.7195092)</td>\n",
       "      <td>0.4</td>\n",
       "    </tr>\n",
       "    <tr>\n",
       "      <th>Region 3</th>\n",
       "      <td>4.143944e+08</td>\n",
       "      <td>(-143499299.1026896, 966169070.351338)</td>\n",
       "      <td>7.0</td>\n",
       "    </tr>\n",
       "  </tbody>\n",
       "</table>\n",
       "</div>"
      ],
      "text/plain": [
       "          Mean revenure of each region, rub.  \\\n",
       "Region 1                        4.219455e+08   \n",
       "Region 2                        5.365917e+08   \n",
       "Region 3                        4.143944e+08   \n",
       "\n",
       "                 95% confidence                     Loss probability, %  \n",
       "Region 1  (-107438742.09530859, 920160542.1260606)                  5.6  \n",
       "Region 2   (106647184.04231901, 941440474.7195092)                  0.4  \n",
       "Region 3    (-143499299.1026896, 966169070.351338)                  7.0  "
      ]
     },
     "execution_count": 47,
     "metadata": {},
     "output_type": "execute_result"
    }
   ],
   "source": [
    "region = pd.DataFrame({'Mean revenure of each region, rub.'            : [region_0_boot.oil_revenue.mean(),\n",
    "                                                                     region_1_boot.oil_revenue.mean(),\n",
    "                                                                     region_2_boot.oil_revenue.mean()],\n",
    "                             '95% confidence                   '       : [confidence_0,\n",
    "                                                                     confidence_1,\n",
    "                                                                     confidence_2],\n",
    "                             'Loss probability, %'                     : [risk_0,\n",
    "                                                                     risk_1,\n",
    "                                                                     risk_2]}, index=['Region 1','Region 2','Region 3'])\n",
    "region"
   ]
  },
  {
   "cell_type": "markdown",
   "metadata": {},
   "source": [
    "## General conclusion"
   ]
  },
  {
   "cell_type": "markdown",
   "metadata": {},
   "source": [
    "1. The most promising regions in terms of the average predicted amount of raw materials are the 1st and 3rd regions\n",
    "2. To open a well, it is necessary to have at least 111.11 units of raw materials in it (taking into account that 1 unit of raw materials is 1000 barrels).\n",
    "3. To develop a region, it is necessary that all wells in this region have at least 22,222.22 units of raw materials (assuming that one unit is 1,000 barrels).\n",
    "4. The maximum profit can be obtained from 200 wells in the first region.\n",
    "5. The average profit is the highest in the second region.\n",
    "6. The probability of losses is the lowest in the second region, only 0.4%."
   ]
  },
  {
   "cell_type": "markdown",
   "metadata": {},
   "source": [
    "## Region selection"
   ]
  },
  {
   "cell_type": "markdown",
   "metadata": {},
   "source": [
    "It is recommended to explore the second region, as it is predicted to have the highest profits and the lowest losses."
   ]
  }
 ],
 "metadata": {
  "ExecuteTimeLog": [
   {
    "duration": 356,
    "start_time": "2022-09-26T08:03:09.972Z"
   },
   {
    "duration": 395,
    "start_time": "2022-09-26T08:07:06.050Z"
   },
   {
    "duration": 132,
    "start_time": "2022-09-26T08:07:08.469Z"
   },
   {
    "duration": 140,
    "start_time": "2022-09-26T08:07:12.672Z"
   },
   {
    "duration": 168,
    "start_time": "2022-09-26T08:07:23.357Z"
   },
   {
    "duration": 96,
    "start_time": "2022-09-26T08:11:27.538Z"
   },
   {
    "duration": 138,
    "start_time": "2022-09-26T08:11:47.534Z"
   },
   {
    "duration": 525,
    "start_time": "2022-09-26T08:12:19.237Z"
   },
   {
    "duration": 15,
    "start_time": "2022-09-26T08:12:28.031Z"
   },
   {
    "duration": 59,
    "start_time": "2022-09-26T08:13:16.003Z"
   },
   {
    "duration": 86,
    "start_time": "2022-09-26T08:13:21.685Z"
   },
   {
    "duration": 105,
    "start_time": "2022-09-26T08:13:27.378Z"
   },
   {
    "duration": 14,
    "start_time": "2022-09-26T08:13:32.726Z"
   },
   {
    "duration": 15,
    "start_time": "2022-09-26T08:13:51.600Z"
   },
   {
    "duration": 23,
    "start_time": "2022-09-26T08:15:35.333Z"
   },
   {
    "duration": 16,
    "start_time": "2022-09-26T08:16:24.239Z"
   },
   {
    "duration": 14,
    "start_time": "2022-09-26T08:16:27.882Z"
   },
   {
    "duration": 35,
    "start_time": "2022-09-26T08:18:04.341Z"
   },
   {
    "duration": 43,
    "start_time": "2022-09-26T08:19:05.859Z"
   },
   {
    "duration": 100,
    "start_time": "2022-09-26T08:20:06.937Z"
   },
   {
    "duration": 52,
    "start_time": "2022-09-26T08:20:45.054Z"
   },
   {
    "duration": 56,
    "start_time": "2022-09-26T08:20:51.733Z"
   },
   {
    "duration": 41,
    "start_time": "2022-09-26T08:21:04.684Z"
   },
   {
    "duration": 6,
    "start_time": "2022-09-26T09:23:41.740Z"
   },
   {
    "duration": 5,
    "start_time": "2022-09-26T09:24:04.527Z"
   },
   {
    "duration": 5,
    "start_time": "2022-09-26T09:24:04.811Z"
   },
   {
    "duration": 6,
    "start_time": "2022-09-26T09:24:05.121Z"
   },
   {
    "duration": 7,
    "start_time": "2022-09-26T09:25:37.957Z"
   },
   {
    "duration": 753,
    "start_time": "2022-09-26T09:26:04.767Z"
   },
   {
    "duration": 4,
    "start_time": "2022-09-26T09:26:29.882Z"
   },
   {
    "duration": 10,
    "start_time": "2022-09-26T09:42:45.574Z"
   },
   {
    "duration": 51,
    "start_time": "2022-09-26T09:43:49.497Z"
   },
   {
    "duration": 12,
    "start_time": "2022-09-26T09:44:32.073Z"
   },
   {
    "duration": 14,
    "start_time": "2022-09-26T10:00:01.293Z"
   },
   {
    "duration": 218,
    "start_time": "2022-09-26T10:00:20.262Z"
   },
   {
    "duration": 14,
    "start_time": "2022-09-26T10:00:23.717Z"
   },
   {
    "duration": 13,
    "start_time": "2022-09-26T10:00:36.736Z"
   },
   {
    "duration": 13,
    "start_time": "2022-09-26T10:00:54.414Z"
   },
   {
    "duration": 79,
    "start_time": "2022-09-26T10:00:59.615Z"
   },
   {
    "duration": 14,
    "start_time": "2022-09-26T10:01:02.812Z"
   },
   {
    "duration": 8,
    "start_time": "2022-09-26T10:01:12.586Z"
   },
   {
    "duration": 8,
    "start_time": "2022-09-26T10:01:40.458Z"
   },
   {
    "duration": 13,
    "start_time": "2022-09-26T10:02:16.745Z"
   },
   {
    "duration": 9,
    "start_time": "2022-09-26T10:02:32.152Z"
   },
   {
    "duration": 8,
    "start_time": "2022-09-26T10:02:52.373Z"
   },
   {
    "duration": 10,
    "start_time": "2022-09-26T10:02:58.486Z"
   },
   {
    "duration": 9,
    "start_time": "2022-09-26T10:03:35.839Z"
   },
   {
    "duration": 8,
    "start_time": "2022-09-26T10:04:07.968Z"
   },
   {
    "duration": 9,
    "start_time": "2022-09-26T10:04:33.914Z"
   },
   {
    "duration": 5,
    "start_time": "2022-09-26T10:04:50.243Z"
   },
   {
    "duration": 7,
    "start_time": "2022-09-26T10:05:02.432Z"
   },
   {
    "duration": 11,
    "start_time": "2022-09-26T10:05:04.616Z"
   },
   {
    "duration": 9,
    "start_time": "2022-09-26T10:05:05.218Z"
   },
   {
    "duration": 10,
    "start_time": "2022-09-26T10:05:05.735Z"
   },
   {
    "duration": 3,
    "start_time": "2022-09-26T10:13:13.484Z"
   },
   {
    "duration": 3,
    "start_time": "2022-09-26T10:13:44.733Z"
   },
   {
    "duration": 4,
    "start_time": "2022-09-26T10:14:51.215Z"
   },
   {
    "duration": 8,
    "start_time": "2022-09-26T10:15:30.425Z"
   },
   {
    "duration": 123,
    "start_time": "2022-09-26T10:15:42.517Z"
   },
   {
    "duration": 4,
    "start_time": "2022-09-26T10:17:03.544Z"
   },
   {
    "duration": 19,
    "start_time": "2022-09-26T10:17:46.909Z"
   },
   {
    "duration": 21,
    "start_time": "2022-09-26T10:18:40.870Z"
   },
   {
    "duration": 22,
    "start_time": "2022-09-26T10:20:10.005Z"
   },
   {
    "duration": 1023,
    "start_time": "2022-09-26T10:20:23.877Z"
   },
   {
    "duration": 366,
    "start_time": "2022-09-26T10:20:24.902Z"
   },
   {
    "duration": 16,
    "start_time": "2022-09-26T10:20:25.270Z"
   },
   {
    "duration": 35,
    "start_time": "2022-09-26T10:20:25.287Z"
   },
   {
    "duration": 84,
    "start_time": "2022-09-26T10:20:25.334Z"
   },
   {
    "duration": 58,
    "start_time": "2022-09-26T10:20:25.420Z"
   },
   {
    "duration": 54,
    "start_time": "2022-09-26T10:20:25.480Z"
   },
   {
    "duration": 43,
    "start_time": "2022-09-26T10:20:25.536Z"
   },
   {
    "duration": 5,
    "start_time": "2022-09-26T10:20:25.580Z"
   },
   {
    "duration": 12,
    "start_time": "2022-09-26T10:20:25.587Z"
   },
   {
    "duration": 28,
    "start_time": "2022-09-26T10:20:25.601Z"
   },
   {
    "duration": 22,
    "start_time": "2022-09-26T10:20:25.631Z"
   },
   {
    "duration": 25,
    "start_time": "2022-09-26T10:20:25.654Z"
   },
   {
    "duration": 48,
    "start_time": "2022-09-26T10:20:25.681Z"
   },
   {
    "duration": 35,
    "start_time": "2022-09-26T10:20:25.730Z"
   },
   {
    "duration": 118,
    "start_time": "2022-09-26T10:20:25.834Z"
   },
   {
    "duration": 115,
    "start_time": "2022-09-26T10:20:26.033Z"
   },
   {
    "duration": 28,
    "start_time": "2022-09-26T10:25:25.975Z"
   },
   {
    "duration": 17,
    "start_time": "2022-09-26T10:25:33.556Z"
   },
   {
    "duration": 19,
    "start_time": "2022-09-26T10:25:38.961Z"
   },
   {
    "duration": 288,
    "start_time": "2022-09-26T10:35:34.423Z"
   },
   {
    "duration": 24,
    "start_time": "2022-09-26T10:35:47.674Z"
   },
   {
    "duration": 21,
    "start_time": "2022-09-26T10:36:19.153Z"
   },
   {
    "duration": 21,
    "start_time": "2022-09-26T10:36:25.524Z"
   },
   {
    "duration": 20,
    "start_time": "2022-09-26T10:36:59.630Z"
   },
   {
    "duration": 5,
    "start_time": "2022-09-26T10:39:27.613Z"
   },
   {
    "duration": 118,
    "start_time": "2022-09-26T10:40:24.021Z"
   },
   {
    "duration": 6,
    "start_time": "2022-09-26T10:40:26.409Z"
   },
   {
    "duration": 4,
    "start_time": "2022-09-26T10:40:36.522Z"
   },
   {
    "duration": 10,
    "start_time": "2022-09-26T10:43:10.982Z"
   },
   {
    "duration": 8,
    "start_time": "2022-09-26T10:43:33.222Z"
   },
   {
    "duration": 13,
    "start_time": "2022-09-26T10:43:48.011Z"
   },
   {
    "duration": 12,
    "start_time": "2022-09-26T10:44:42.506Z"
   },
   {
    "duration": 3,
    "start_time": "2022-09-26T10:46:02.421Z"
   },
   {
    "duration": 15,
    "start_time": "2022-09-26T10:46:06.571Z"
   },
   {
    "duration": 19,
    "start_time": "2022-09-26T10:46:54.230Z"
   },
   {
    "duration": 26,
    "start_time": "2022-09-26T10:47:43.640Z"
   },
   {
    "duration": 94,
    "start_time": "2022-09-26T10:47:46.341Z"
   },
   {
    "duration": 22,
    "start_time": "2022-09-26T10:47:59.371Z"
   },
   {
    "duration": 21,
    "start_time": "2022-09-26T10:48:28.184Z"
   },
   {
    "duration": 21,
    "start_time": "2022-09-26T10:48:31.811Z"
   },
   {
    "duration": 69,
    "start_time": "2022-09-26T10:48:37.165Z"
   },
   {
    "duration": 13,
    "start_time": "2022-09-26T10:49:13.980Z"
   },
   {
    "duration": 11,
    "start_time": "2022-09-26T10:50:38.401Z"
   },
   {
    "duration": 12,
    "start_time": "2022-09-26T10:51:03.625Z"
   },
   {
    "duration": 12,
    "start_time": "2022-09-26T10:51:47.542Z"
   },
   {
    "duration": 6,
    "start_time": "2022-09-26T10:55:43.920Z"
   },
   {
    "duration": 12,
    "start_time": "2022-09-26T10:55:46.631Z"
   },
   {
    "duration": 13,
    "start_time": "2022-09-26T10:56:31.291Z"
   },
   {
    "duration": 9,
    "start_time": "2022-09-26T10:57:02.450Z"
   },
   {
    "duration": 1323,
    "start_time": "2022-09-26T10:58:23.676Z"
   },
   {
    "duration": 1850,
    "start_time": "2022-09-26T10:59:15.589Z"
   },
   {
    "duration": 47,
    "start_time": "2022-09-27T20:06:06.653Z"
   },
   {
    "duration": 1137,
    "start_time": "2022-09-27T20:06:12.204Z"
   },
   {
    "duration": 1661,
    "start_time": "2022-09-27T20:06:13.344Z"
   },
   {
    "duration": 22,
    "start_time": "2022-09-27T20:06:15.007Z"
   },
   {
    "duration": 58,
    "start_time": "2022-09-27T20:06:15.030Z"
   },
   {
    "duration": 83,
    "start_time": "2022-09-27T20:06:15.090Z"
   },
   {
    "duration": 64,
    "start_time": "2022-09-27T20:06:15.174Z"
   },
   {
    "duration": 40,
    "start_time": "2022-09-27T20:06:15.241Z"
   },
   {
    "duration": 57,
    "start_time": "2022-09-27T20:06:15.282Z"
   },
   {
    "duration": 5,
    "start_time": "2022-09-27T20:06:15.341Z"
   },
   {
    "duration": 28,
    "start_time": "2022-09-27T20:06:15.347Z"
   },
   {
    "duration": 13,
    "start_time": "2022-09-27T20:06:15.376Z"
   },
   {
    "duration": 29,
    "start_time": "2022-09-27T20:06:15.391Z"
   },
   {
    "duration": 43,
    "start_time": "2022-09-27T20:06:15.424Z"
   },
   {
    "duration": 19,
    "start_time": "2022-09-27T20:06:15.469Z"
   },
   {
    "duration": 239,
    "start_time": "2022-09-27T20:06:15.489Z"
   },
   {
    "duration": 211,
    "start_time": "2022-09-27T20:06:15.734Z"
   },
   {
    "duration": 280,
    "start_time": "2022-09-27T20:06:15.948Z"
   },
   {
    "duration": 18,
    "start_time": "2022-09-27T20:06:25.695Z"
   },
   {
    "duration": 13,
    "start_time": "2022-09-27T20:06:38.401Z"
   },
   {
    "duration": 73,
    "start_time": "2022-09-27T20:17:11.784Z"
   },
   {
    "duration": 8,
    "start_time": "2022-09-27T20:17:45.236Z"
   },
   {
    "duration": 10,
    "start_time": "2022-09-27T20:17:58.574Z"
   },
   {
    "duration": 12,
    "start_time": "2022-09-27T20:18:15.228Z"
   },
   {
    "duration": 11,
    "start_time": "2022-09-27T20:19:22.109Z"
   },
   {
    "duration": 3,
    "start_time": "2022-09-27T20:20:57.958Z"
   },
   {
    "duration": 129,
    "start_time": "2022-09-27T20:21:26.196Z"
   },
   {
    "duration": 7,
    "start_time": "2022-09-27T20:21:55.464Z"
   },
   {
    "duration": 5,
    "start_time": "2022-09-27T20:22:33.918Z"
   },
   {
    "duration": 6,
    "start_time": "2022-09-27T20:25:51.326Z"
   },
   {
    "duration": 79,
    "start_time": "2022-09-27T20:26:54.195Z"
   },
   {
    "duration": 4,
    "start_time": "2022-09-27T20:27:00.269Z"
   },
   {
    "duration": 4,
    "start_time": "2022-09-27T20:27:39.132Z"
   },
   {
    "duration": 5,
    "start_time": "2022-09-27T20:32:26.738Z"
   },
   {
    "duration": 5,
    "start_time": "2022-09-27T20:32:41.868Z"
   },
   {
    "duration": 8,
    "start_time": "2022-09-27T20:32:52.338Z"
   },
   {
    "duration": 12,
    "start_time": "2022-09-27T20:44:41.652Z"
   },
   {
    "duration": 4,
    "start_time": "2022-09-27T20:45:20.842Z"
   },
   {
    "duration": 9,
    "start_time": "2022-09-27T20:45:39.030Z"
   },
   {
    "duration": 5,
    "start_time": "2022-09-27T20:59:33.160Z"
   },
   {
    "duration": 1340,
    "start_time": "2022-09-27T20:59:49.336Z"
   },
   {
    "duration": 4,
    "start_time": "2022-09-27T21:03:06.339Z"
   },
   {
    "duration": 3,
    "start_time": "2022-09-27T21:03:10.304Z"
   },
   {
    "duration": 3,
    "start_time": "2022-09-27T21:03:26.019Z"
   },
   {
    "duration": 128,
    "start_time": "2022-09-27T21:05:05.955Z"
   },
   {
    "duration": 13,
    "start_time": "2022-09-27T21:05:14.363Z"
   },
   {
    "duration": 85,
    "start_time": "2022-09-27T21:06:09.340Z"
   },
   {
    "duration": 12,
    "start_time": "2022-09-27T21:06:14.162Z"
   },
   {
    "duration": 10,
    "start_time": "2022-09-27T21:08:45.061Z"
   },
   {
    "duration": 154,
    "start_time": "2022-09-27T21:10:01.870Z"
   },
   {
    "duration": 9,
    "start_time": "2022-09-27T21:10:09.366Z"
   },
   {
    "duration": 9,
    "start_time": "2022-09-27T21:10:17.591Z"
   },
   {
    "duration": 12,
    "start_time": "2022-09-27T21:10:44.697Z"
   },
   {
    "duration": 11,
    "start_time": "2022-09-27T21:10:51.477Z"
   },
   {
    "duration": 9,
    "start_time": "2022-09-27T21:10:59.533Z"
   },
   {
    "duration": 3,
    "start_time": "2022-09-27T21:15:26.881Z"
   },
   {
    "duration": 4,
    "start_time": "2022-09-27T21:16:02.512Z"
   },
   {
    "duration": 5,
    "start_time": "2022-09-27T21:16:22.473Z"
   },
   {
    "duration": 4,
    "start_time": "2022-09-27T21:16:33.111Z"
   },
   {
    "duration": 4,
    "start_time": "2022-09-27T21:16:59.617Z"
   },
   {
    "duration": 6,
    "start_time": "2022-09-27T21:17:17.459Z"
   },
   {
    "duration": 4,
    "start_time": "2022-09-27T21:20:54.028Z"
   },
   {
    "duration": 5,
    "start_time": "2022-09-27T21:21:03.132Z"
   },
   {
    "duration": 4,
    "start_time": "2022-09-27T21:21:12.494Z"
   },
   {
    "duration": 7,
    "start_time": "2022-09-27T21:21:20.925Z"
   },
   {
    "duration": 5,
    "start_time": "2022-09-27T21:21:27.459Z"
   },
   {
    "duration": 3,
    "start_time": "2022-09-27T21:21:32.475Z"
   },
   {
    "duration": 4,
    "start_time": "2022-09-27T21:21:36.438Z"
   },
   {
    "duration": 4,
    "start_time": "2022-09-27T21:21:40.041Z"
   },
   {
    "duration": 3,
    "start_time": "2022-09-27T21:22:01.641Z"
   },
   {
    "duration": 3,
    "start_time": "2022-09-27T21:22:52.713Z"
   },
   {
    "duration": 4,
    "start_time": "2022-09-27T21:23:15.817Z"
   },
   {
    "duration": 4,
    "start_time": "2022-09-27T21:23:18.036Z"
   },
   {
    "duration": 3,
    "start_time": "2022-09-27T21:33:50.250Z"
   },
   {
    "duration": 79,
    "start_time": "2022-09-27T21:43:40.362Z"
   },
   {
    "duration": 11,
    "start_time": "2022-09-27T21:43:47.566Z"
   },
   {
    "duration": 10,
    "start_time": "2022-09-27T21:44:17.472Z"
   },
   {
    "duration": 19,
    "start_time": "2022-09-27T21:50:26.228Z"
   },
   {
    "duration": 39,
    "start_time": "2022-09-27T21:52:38.607Z"
   },
   {
    "duration": 18,
    "start_time": "2022-09-27T21:52:39.585Z"
   },
   {
    "duration": 19,
    "start_time": "2022-09-27T21:52:41.945Z"
   },
   {
    "duration": 3,
    "start_time": "2022-09-27T22:00:17.969Z"
   },
   {
    "duration": 3,
    "start_time": "2022-09-27T22:00:27.527Z"
   },
   {
    "duration": 2,
    "start_time": "2022-09-27T22:00:36.313Z"
   },
   {
    "duration": 10,
    "start_time": "2022-09-27T22:05:03.055Z"
   },
   {
    "duration": 11,
    "start_time": "2022-09-27T22:05:49.621Z"
   },
   {
    "duration": 10,
    "start_time": "2022-09-27T22:06:05.163Z"
   },
   {
    "duration": 1718,
    "start_time": "2022-09-27T22:06:15.969Z"
   },
   {
    "duration": 1688,
    "start_time": "2022-09-27T22:06:25.530Z"
   },
   {
    "duration": 13,
    "start_time": "2022-09-27T22:07:02.568Z"
   },
   {
    "duration": 12,
    "start_time": "2022-09-27T22:07:22.574Z"
   },
   {
    "duration": 13,
    "start_time": "2022-09-27T22:07:37.114Z"
   },
   {
    "duration": 11,
    "start_time": "2022-09-27T22:07:56.598Z"
   },
   {
    "duration": 1659,
    "start_time": "2022-09-27T22:12:33.288Z"
   },
   {
    "duration": 3,
    "start_time": "2022-09-27T22:12:58.578Z"
   },
   {
    "duration": 1669,
    "start_time": "2022-09-27T22:13:00.461Z"
   },
   {
    "duration": 1780,
    "start_time": "2022-09-27T22:13:20.166Z"
   },
   {
    "duration": 12,
    "start_time": "2022-09-27T22:13:28.802Z"
   },
   {
    "duration": 15,
    "start_time": "2022-09-27T22:13:35.082Z"
   },
   {
    "duration": 1785,
    "start_time": "2022-09-27T22:13:48.885Z"
   },
   {
    "duration": 13,
    "start_time": "2022-09-27T22:14:09.542Z"
   },
   {
    "duration": 11,
    "start_time": "2022-09-27T22:14:23.789Z"
   },
   {
    "duration": 12,
    "start_time": "2022-09-27T22:14:43.666Z"
   },
   {
    "duration": 15,
    "start_time": "2022-09-27T22:15:21.934Z"
   },
   {
    "duration": 10,
    "start_time": "2022-09-27T22:15:55.688Z"
   },
   {
    "duration": 72,
    "start_time": "2022-09-27T22:19:04.693Z"
   },
   {
    "duration": 15,
    "start_time": "2022-09-27T22:19:08.691Z"
   },
   {
    "duration": 13,
    "start_time": "2022-09-27T22:20:41.471Z"
   },
   {
    "duration": 12,
    "start_time": "2022-09-27T22:21:18.971Z"
   },
   {
    "duration": 15,
    "start_time": "2022-09-27T22:21:23.971Z"
   },
   {
    "duration": 1800,
    "start_time": "2022-09-27T22:22:07.557Z"
   },
   {
    "duration": 1840,
    "start_time": "2022-09-27T22:22:19.363Z"
   },
   {
    "duration": 1896,
    "start_time": "2022-09-27T22:22:44.470Z"
   },
   {
    "duration": 1821,
    "start_time": "2022-09-27T22:22:52.273Z"
   },
   {
    "duration": 3,
    "start_time": "2022-09-27T22:23:30.663Z"
   },
   {
    "duration": 17,
    "start_time": "2022-09-27T22:23:37.733Z"
   },
   {
    "duration": 4,
    "start_time": "2022-09-27T22:24:08.215Z"
   },
   {
    "duration": 5374,
    "start_time": "2022-09-27T22:24:10.865Z"
   },
   {
    "duration": 8,
    "start_time": "2022-09-27T22:24:18.735Z"
   },
   {
    "duration": 87,
    "start_time": "2022-09-27T22:26:59.940Z"
   },
   {
    "duration": 75,
    "start_time": "2022-09-27T22:27:22.991Z"
   },
   {
    "duration": 1834,
    "start_time": "2022-09-27T22:27:29.699Z"
   },
   {
    "duration": 1814,
    "start_time": "2022-09-27T22:27:35.342Z"
   },
   {
    "duration": 10,
    "start_time": "2022-09-27T22:28:31.907Z"
   },
   {
    "duration": 1827,
    "start_time": "2022-09-27T22:29:06.082Z"
   },
   {
    "duration": 1849,
    "start_time": "2022-09-27T22:29:24.719Z"
   },
   {
    "duration": 1927,
    "start_time": "2022-09-27T22:29:49.666Z"
   },
   {
    "duration": 1827,
    "start_time": "2022-09-27T22:30:17.795Z"
   },
   {
    "duration": 1018,
    "start_time": "2022-09-27T22:30:32.564Z"
   },
   {
    "duration": 360,
    "start_time": "2022-09-27T22:30:33.584Z"
   },
   {
    "duration": 19,
    "start_time": "2022-09-27T22:30:33.946Z"
   },
   {
    "duration": 36,
    "start_time": "2022-09-27T22:30:33.967Z"
   },
   {
    "duration": 113,
    "start_time": "2022-09-27T22:30:34.021Z"
   },
   {
    "duration": 68,
    "start_time": "2022-09-27T22:30:34.136Z"
   },
   {
    "duration": 61,
    "start_time": "2022-09-27T22:30:34.206Z"
   },
   {
    "duration": 66,
    "start_time": "2022-09-27T22:30:34.269Z"
   },
   {
    "duration": 5,
    "start_time": "2022-09-27T22:30:34.337Z"
   },
   {
    "duration": 10,
    "start_time": "2022-09-27T22:30:34.343Z"
   },
   {
    "duration": 13,
    "start_time": "2022-09-27T22:30:34.355Z"
   },
   {
    "duration": 15,
    "start_time": "2022-09-27T22:30:34.370Z"
   },
   {
    "duration": 10,
    "start_time": "2022-09-27T22:30:34.387Z"
   },
   {
    "duration": 31,
    "start_time": "2022-09-27T22:30:34.399Z"
   },
   {
    "duration": 22,
    "start_time": "2022-09-27T22:30:34.432Z"
   },
   {
    "duration": 81,
    "start_time": "2022-09-27T22:30:34.456Z"
   },
   {
    "duration": 106,
    "start_time": "2022-09-27T22:30:34.624Z"
   },
   {
    "duration": 102,
    "start_time": "2022-09-27T22:30:34.821Z"
   },
   {
    "duration": 13,
    "start_time": "2022-09-27T22:30:34.925Z"
   },
   {
    "duration": 5,
    "start_time": "2022-09-27T22:30:34.940Z"
   },
   {
    "duration": 6,
    "start_time": "2022-09-27T22:30:34.946Z"
   },
   {
    "duration": 7,
    "start_time": "2022-09-27T22:30:34.954Z"
   },
   {
    "duration": 6,
    "start_time": "2022-09-27T22:30:34.963Z"
   },
   {
    "duration": 8,
    "start_time": "2022-09-27T22:30:34.970Z"
   },
   {
    "duration": 86,
    "start_time": "2022-09-27T22:30:41.297Z"
   },
   {
    "duration": 10,
    "start_time": "2022-09-27T22:30:45.390Z"
   },
   {
    "duration": 13,
    "start_time": "2022-09-27T22:30:50.102Z"
   },
   {
    "duration": 1836,
    "start_time": "2022-09-27T22:31:26.607Z"
   },
   {
    "duration": 10,
    "start_time": "2022-09-27T22:31:34.808Z"
   },
   {
    "duration": 4,
    "start_time": "2022-09-27T22:31:43.865Z"
   },
   {
    "duration": 16,
    "start_time": "2022-09-27T22:31:49.368Z"
   },
   {
    "duration": 4,
    "start_time": "2022-09-27T22:31:57.752Z"
   },
   {
    "duration": 5271,
    "start_time": "2022-09-27T22:31:59.127Z"
   },
   {
    "duration": 8,
    "start_time": "2022-09-27T22:32:05.217Z"
   },
   {
    "duration": 66,
    "start_time": "2022-09-27T22:32:53.958Z"
   },
   {
    "duration": 960,
    "start_time": "2022-09-27T22:32:58.085Z"
   },
   {
    "duration": 339,
    "start_time": "2022-09-27T22:32:59.047Z"
   },
   {
    "duration": 18,
    "start_time": "2022-09-27T22:32:59.388Z"
   },
   {
    "duration": 41,
    "start_time": "2022-09-27T22:32:59.407Z"
   },
   {
    "duration": 95,
    "start_time": "2022-09-27T22:32:59.450Z"
   },
   {
    "duration": 41,
    "start_time": "2022-09-27T22:32:59.547Z"
   },
   {
    "duration": 53,
    "start_time": "2022-09-27T22:32:59.590Z"
   },
   {
    "duration": 41,
    "start_time": "2022-09-27T22:32:59.645Z"
   },
   {
    "duration": 6,
    "start_time": "2022-09-27T22:32:59.688Z"
   },
   {
    "duration": 27,
    "start_time": "2022-09-27T22:32:59.696Z"
   },
   {
    "duration": 9,
    "start_time": "2022-09-27T22:32:59.724Z"
   },
   {
    "duration": 15,
    "start_time": "2022-09-27T22:32:59.734Z"
   },
   {
    "duration": 10,
    "start_time": "2022-09-27T22:32:59.751Z"
   },
   {
    "duration": 10,
    "start_time": "2022-09-27T22:32:59.763Z"
   },
   {
    "duration": 51,
    "start_time": "2022-09-27T22:32:59.775Z"
   },
   {
    "duration": 105,
    "start_time": "2022-09-27T22:32:59.827Z"
   },
   {
    "duration": 196,
    "start_time": "2022-09-27T22:32:59.934Z"
   },
   {
    "duration": 207,
    "start_time": "2022-09-27T22:33:00.132Z"
   },
   {
    "duration": 13,
    "start_time": "2022-09-27T22:33:00.340Z"
   },
   {
    "duration": 8,
    "start_time": "2022-09-27T22:33:00.354Z"
   },
   {
    "duration": 27,
    "start_time": "2022-09-27T22:33:00.364Z"
   },
   {
    "duration": 13,
    "start_time": "2022-09-27T22:33:00.393Z"
   },
   {
    "duration": 14,
    "start_time": "2022-09-27T22:33:00.408Z"
   },
   {
    "duration": 14,
    "start_time": "2022-09-27T22:33:00.424Z"
   },
   {
    "duration": 1848,
    "start_time": "2022-09-27T22:33:00.439Z"
   },
   {
    "duration": 55,
    "start_time": "2022-09-27T22:33:04.376Z"
   },
   {
    "duration": 10,
    "start_time": "2022-09-27T22:33:24.267Z"
   },
   {
    "duration": 1779,
    "start_time": "2022-09-27T22:33:29.403Z"
   },
   {
    "duration": 1758,
    "start_time": "2022-09-27T22:33:43.881Z"
   },
   {
    "duration": 1026,
    "start_time": "2022-09-27T22:34:00.118Z"
   },
   {
    "duration": 339,
    "start_time": "2022-09-27T22:34:01.146Z"
   },
   {
    "duration": 19,
    "start_time": "2022-09-27T22:34:01.486Z"
   },
   {
    "duration": 48,
    "start_time": "2022-09-27T22:34:01.507Z"
   },
   {
    "duration": 92,
    "start_time": "2022-09-27T22:34:01.557Z"
   },
   {
    "duration": 42,
    "start_time": "2022-09-27T22:34:01.650Z"
   },
   {
    "duration": 47,
    "start_time": "2022-09-27T22:34:01.693Z"
   },
   {
    "duration": 37,
    "start_time": "2022-09-27T22:34:01.741Z"
   },
   {
    "duration": 9,
    "start_time": "2022-09-27T22:34:01.780Z"
   },
   {
    "duration": 47,
    "start_time": "2022-09-27T22:34:01.790Z"
   },
   {
    "duration": 33,
    "start_time": "2022-09-27T22:34:01.839Z"
   },
   {
    "duration": 26,
    "start_time": "2022-09-27T22:34:01.873Z"
   },
   {
    "duration": 10,
    "start_time": "2022-09-27T22:34:01.900Z"
   },
   {
    "duration": 16,
    "start_time": "2022-09-27T22:34:01.912Z"
   },
   {
    "duration": 29,
    "start_time": "2022-09-27T22:34:01.930Z"
   },
   {
    "duration": 170,
    "start_time": "2022-09-27T22:34:01.960Z"
   },
   {
    "duration": 203,
    "start_time": "2022-09-27T22:34:02.132Z"
   },
   {
    "duration": 199,
    "start_time": "2022-09-27T22:34:02.338Z"
   },
   {
    "duration": 10,
    "start_time": "2022-09-27T22:34:02.539Z"
   },
   {
    "duration": 5,
    "start_time": "2022-09-27T22:34:02.550Z"
   },
   {
    "duration": 6,
    "start_time": "2022-09-27T22:34:02.556Z"
   },
   {
    "duration": 9,
    "start_time": "2022-09-27T22:34:02.564Z"
   },
   {
    "duration": 6,
    "start_time": "2022-09-27T22:34:02.574Z"
   },
   {
    "duration": 10,
    "start_time": "2022-09-27T22:34:02.581Z"
   },
   {
    "duration": 91,
    "start_time": "2022-09-27T22:34:12.163Z"
   },
   {
    "duration": 1764,
    "start_time": "2022-09-27T22:34:20.216Z"
   },
   {
    "duration": 1760,
    "start_time": "2022-09-27T22:34:39.413Z"
   },
   {
    "duration": 1735,
    "start_time": "2022-09-27T22:34:45.893Z"
   },
   {
    "duration": 1762,
    "start_time": "2022-09-27T22:34:59.978Z"
   },
   {
    "duration": 1130,
    "start_time": "2022-09-27T22:35:21.279Z"
   },
   {
    "duration": 316,
    "start_time": "2022-09-27T22:35:22.410Z"
   },
   {
    "duration": 15,
    "start_time": "2022-09-27T22:35:22.728Z"
   },
   {
    "duration": 45,
    "start_time": "2022-09-27T22:35:22.744Z"
   },
   {
    "duration": 85,
    "start_time": "2022-09-27T22:35:22.791Z"
   },
   {
    "duration": 49,
    "start_time": "2022-09-27T22:35:22.877Z"
   },
   {
    "duration": 36,
    "start_time": "2022-09-27T22:35:22.927Z"
   },
   {
    "duration": 39,
    "start_time": "2022-09-27T22:35:22.964Z"
   },
   {
    "duration": 5,
    "start_time": "2022-09-27T22:35:23.021Z"
   },
   {
    "duration": 8,
    "start_time": "2022-09-27T22:35:23.027Z"
   },
   {
    "duration": 8,
    "start_time": "2022-09-27T22:35:23.036Z"
   },
   {
    "duration": 12,
    "start_time": "2022-09-27T22:35:23.045Z"
   },
   {
    "duration": 10,
    "start_time": "2022-09-27T22:35:23.058Z"
   },
   {
    "duration": 12,
    "start_time": "2022-09-27T22:35:23.070Z"
   },
   {
    "duration": 45,
    "start_time": "2022-09-27T22:35:23.083Z"
   },
   {
    "duration": 198,
    "start_time": "2022-09-27T22:35:23.129Z"
   },
   {
    "duration": 206,
    "start_time": "2022-09-27T22:35:23.328Z"
   },
   {
    "duration": 97,
    "start_time": "2022-09-27T22:35:23.535Z"
   },
   {
    "duration": 14,
    "start_time": "2022-09-27T22:35:23.721Z"
   },
   {
    "duration": 4,
    "start_time": "2022-09-27T22:35:23.736Z"
   },
   {
    "duration": 7,
    "start_time": "2022-09-27T22:35:23.741Z"
   },
   {
    "duration": 6,
    "start_time": "2022-09-27T22:35:23.749Z"
   },
   {
    "duration": 5,
    "start_time": "2022-09-27T22:35:23.757Z"
   },
   {
    "duration": 7,
    "start_time": "2022-09-27T22:35:23.763Z"
   },
   {
    "duration": 1788,
    "start_time": "2022-09-27T22:35:26.125Z"
   },
   {
    "duration": 1055,
    "start_time": "2022-09-27T22:35:34.390Z"
   },
   {
    "duration": 324,
    "start_time": "2022-09-27T22:35:35.446Z"
   },
   {
    "duration": 16,
    "start_time": "2022-09-27T22:35:35.771Z"
   },
   {
    "duration": 39,
    "start_time": "2022-09-27T22:35:35.788Z"
   },
   {
    "duration": 77,
    "start_time": "2022-09-27T22:35:35.829Z"
   },
   {
    "duration": 52,
    "start_time": "2022-09-27T22:35:35.908Z"
   },
   {
    "duration": 43,
    "start_time": "2022-09-27T22:35:35.962Z"
   },
   {
    "duration": 57,
    "start_time": "2022-09-27T22:35:36.021Z"
   },
   {
    "duration": 5,
    "start_time": "2022-09-27T22:35:36.080Z"
   },
   {
    "duration": 14,
    "start_time": "2022-09-27T22:35:36.087Z"
   },
   {
    "duration": 19,
    "start_time": "2022-09-27T22:35:36.103Z"
   },
   {
    "duration": 13,
    "start_time": "2022-09-27T22:35:36.124Z"
   },
   {
    "duration": 10,
    "start_time": "2022-09-27T22:35:36.139Z"
   },
   {
    "duration": 9,
    "start_time": "2022-09-27T22:35:36.152Z"
   },
   {
    "duration": 59,
    "start_time": "2022-09-27T22:35:36.163Z"
   },
   {
    "duration": 110,
    "start_time": "2022-09-27T22:35:36.224Z"
   },
   {
    "duration": 186,
    "start_time": "2022-09-27T22:35:36.336Z"
   },
   {
    "duration": 110,
    "start_time": "2022-09-27T22:35:36.524Z"
   },
   {
    "duration": 12,
    "start_time": "2022-09-27T22:35:36.636Z"
   },
   {
    "duration": 5,
    "start_time": "2022-09-27T22:35:36.649Z"
   },
   {
    "duration": 6,
    "start_time": "2022-09-27T22:35:36.656Z"
   },
   {
    "duration": 5,
    "start_time": "2022-09-27T22:35:36.664Z"
   },
   {
    "duration": 4,
    "start_time": "2022-09-27T22:35:36.671Z"
   },
   {
    "duration": 6,
    "start_time": "2022-09-27T22:35:36.677Z"
   },
   {
    "duration": 1772,
    "start_time": "2022-09-27T22:35:59.731Z"
   },
   {
    "duration": 1731,
    "start_time": "2022-09-27T22:36:23.698Z"
   },
   {
    "duration": 1682,
    "start_time": "2022-09-27T22:37:08.061Z"
   },
   {
    "duration": 8,
    "start_time": "2022-09-27T22:43:46.996Z"
   },
   {
    "duration": 12,
    "start_time": "2022-09-27T22:43:54.250Z"
   },
   {
    "duration": 13,
    "start_time": "2022-09-27T22:44:22.282Z"
   },
   {
    "duration": 1702,
    "start_time": "2022-09-27T22:45:56.512Z"
   },
   {
    "duration": 1698,
    "start_time": "2022-09-27T22:46:13.419Z"
   },
   {
    "duration": 1728,
    "start_time": "2022-09-27T22:46:24.996Z"
   },
   {
    "duration": 4,
    "start_time": "2022-09-27T22:47:50.077Z"
   },
   {
    "duration": 1816,
    "start_time": "2022-09-27T22:48:04.096Z"
   },
   {
    "duration": 1748,
    "start_time": "2022-09-27T22:49:25.666Z"
   },
   {
    "duration": 11,
    "start_time": "2022-09-27T22:50:41.361Z"
   },
   {
    "duration": 10,
    "start_time": "2022-09-27T22:50:50.379Z"
   },
   {
    "duration": 25,
    "start_time": "2022-09-27T22:54:18.553Z"
   },
   {
    "duration": 23,
    "start_time": "2022-09-27T22:54:54.571Z"
   },
   {
    "duration": 9,
    "start_time": "2022-09-27T22:56:41.972Z"
   },
   {
    "duration": 12,
    "start_time": "2022-09-27T22:56:47.945Z"
   },
   {
    "duration": 11,
    "start_time": "2022-09-27T22:56:54.037Z"
   },
   {
    "duration": 47,
    "start_time": "2022-09-28T07:36:39.086Z"
   },
   {
    "duration": 1194,
    "start_time": "2022-09-28T07:36:49.444Z"
   },
   {
    "duration": 1660,
    "start_time": "2022-09-28T07:36:50.640Z"
   },
   {
    "duration": 20,
    "start_time": "2022-09-28T07:36:52.302Z"
   },
   {
    "duration": 53,
    "start_time": "2022-09-28T07:36:52.324Z"
   },
   {
    "duration": 127,
    "start_time": "2022-09-28T07:36:52.379Z"
   },
   {
    "duration": 70,
    "start_time": "2022-09-28T07:36:52.508Z"
   },
   {
    "duration": 62,
    "start_time": "2022-09-28T07:36:52.581Z"
   },
   {
    "duration": 84,
    "start_time": "2022-09-28T07:36:52.645Z"
   },
   {
    "duration": 6,
    "start_time": "2022-09-28T07:36:52.732Z"
   },
   {
    "duration": 30,
    "start_time": "2022-09-28T07:36:52.741Z"
   },
   {
    "duration": 43,
    "start_time": "2022-09-28T07:36:52.773Z"
   },
   {
    "duration": 36,
    "start_time": "2022-09-28T07:36:52.818Z"
   },
   {
    "duration": 34,
    "start_time": "2022-09-28T07:36:52.856Z"
   },
   {
    "duration": 26,
    "start_time": "2022-09-28T07:36:52.895Z"
   },
   {
    "duration": 204,
    "start_time": "2022-09-28T07:36:52.923Z"
   },
   {
    "duration": 202,
    "start_time": "2022-09-28T07:36:53.130Z"
   },
   {
    "duration": 203,
    "start_time": "2022-09-28T07:36:53.335Z"
   },
   {
    "duration": 81,
    "start_time": "2022-09-28T07:36:53.545Z"
   },
   {
    "duration": 54,
    "start_time": "2022-09-28T07:36:53.628Z"
   },
   {
    "duration": 19,
    "start_time": "2022-09-28T07:36:53.685Z"
   },
   {
    "duration": 5,
    "start_time": "2022-09-28T07:36:53.723Z"
   },
   {
    "duration": 41,
    "start_time": "2022-09-28T07:36:53.731Z"
   },
   {
    "duration": 29,
    "start_time": "2022-09-28T07:36:53.774Z"
   },
   {
    "duration": 35,
    "start_time": "2022-09-28T07:36:53.804Z"
   },
   {
    "duration": 2408,
    "start_time": "2022-09-28T07:36:53.841Z"
   },
   {
    "duration": 2163,
    "start_time": "2022-09-28T07:36:56.251Z"
   },
   {
    "duration": 2352,
    "start_time": "2022-09-28T07:36:58.422Z"
   },
   {
    "duration": 8,
    "start_time": "2022-09-28T07:37:02.993Z"
   },
   {
    "duration": 13,
    "start_time": "2022-09-28T07:37:19.403Z"
   },
   {
    "duration": 10,
    "start_time": "2022-09-28T07:38:22.451Z"
   },
   {
    "duration": 9,
    "start_time": "2022-09-28T07:38:45.298Z"
   },
   {
    "duration": 8,
    "start_time": "2022-09-28T07:46:57.457Z"
   },
   {
    "duration": 6,
    "start_time": "2022-09-28T07:47:03.052Z"
   },
   {
    "duration": 7,
    "start_time": "2022-09-28T07:47:09.619Z"
   },
   {
    "duration": 7,
    "start_time": "2022-09-28T07:47:15.932Z"
   },
   {
    "duration": 13,
    "start_time": "2022-09-28T07:49:48.752Z"
   },
   {
    "duration": 7,
    "start_time": "2022-09-28T07:49:55.134Z"
   },
   {
    "duration": 9,
    "start_time": "2022-09-28T07:50:10.051Z"
   },
   {
    "duration": 7,
    "start_time": "2022-09-28T07:50:18.584Z"
   },
   {
    "duration": 10,
    "start_time": "2022-09-28T07:50:39.813Z"
   },
   {
    "duration": 13,
    "start_time": "2022-09-28T07:51:13.944Z"
   },
   {
    "duration": 8,
    "start_time": "2022-09-28T07:51:23.201Z"
   },
   {
    "duration": 4,
    "start_time": "2022-09-28T07:51:31.237Z"
   },
   {
    "duration": 132,
    "start_time": "2022-09-28T07:51:41.450Z"
   },
   {
    "duration": 4,
    "start_time": "2022-09-28T07:52:03.827Z"
   },
   {
    "duration": 10,
    "start_time": "2022-09-28T07:52:10.499Z"
   },
   {
    "duration": 8,
    "start_time": "2022-09-28T07:52:16.198Z"
   },
   {
    "duration": 7,
    "start_time": "2022-09-28T07:52:35.066Z"
   },
   {
    "duration": 8,
    "start_time": "2022-09-28T07:52:41.384Z"
   },
   {
    "duration": 17,
    "start_time": "2022-09-28T07:54:39.002Z"
   },
   {
    "duration": 12,
    "start_time": "2022-09-28T07:56:21.676Z"
   },
   {
    "duration": 9,
    "start_time": "2022-09-28T08:03:06.829Z"
   },
   {
    "duration": 7,
    "start_time": "2022-09-28T08:03:10.731Z"
   },
   {
    "duration": 1137,
    "start_time": "2022-09-28T08:03:34.030Z"
   },
   {
    "duration": 409,
    "start_time": "2022-09-28T08:03:35.170Z"
   },
   {
    "duration": 19,
    "start_time": "2022-09-28T08:03:35.581Z"
   },
   {
    "duration": 43,
    "start_time": "2022-09-28T08:03:35.603Z"
   },
   {
    "duration": 105,
    "start_time": "2022-09-28T08:03:35.648Z"
   },
   {
    "duration": 81,
    "start_time": "2022-09-28T08:03:35.754Z"
   },
   {
    "duration": 63,
    "start_time": "2022-09-28T08:03:35.837Z"
   },
   {
    "duration": 89,
    "start_time": "2022-09-28T08:03:35.902Z"
   },
   {
    "duration": 13,
    "start_time": "2022-09-28T08:03:35.995Z"
   },
   {
    "duration": 51,
    "start_time": "2022-09-28T08:03:36.010Z"
   },
   {
    "duration": 15,
    "start_time": "2022-09-28T08:03:36.063Z"
   },
   {
    "duration": 34,
    "start_time": "2022-09-28T08:03:36.081Z"
   },
   {
    "duration": 21,
    "start_time": "2022-09-28T08:03:36.117Z"
   },
   {
    "duration": 20,
    "start_time": "2022-09-28T08:03:36.140Z"
   },
   {
    "duration": 76,
    "start_time": "2022-09-28T08:03:36.162Z"
   },
   {
    "duration": 201,
    "start_time": "2022-09-28T08:03:36.240Z"
   },
   {
    "duration": 381,
    "start_time": "2022-09-28T08:03:36.443Z"
   },
   {
    "duration": 95,
    "start_time": "2022-09-28T08:03:36.833Z"
   },
   {
    "duration": 18,
    "start_time": "2022-09-28T08:03:36.930Z"
   },
   {
    "duration": 7,
    "start_time": "2022-09-28T08:03:36.951Z"
   },
   {
    "duration": 13,
    "start_time": "2022-09-28T08:03:36.960Z"
   },
   {
    "duration": 27,
    "start_time": "2022-09-28T08:03:36.976Z"
   },
   {
    "duration": 17,
    "start_time": "2022-09-28T08:03:37.005Z"
   },
   {
    "duration": 10,
    "start_time": "2022-09-28T08:03:37.023Z"
   },
   {
    "duration": 2293,
    "start_time": "2022-09-28T08:03:37.036Z"
   },
   {
    "duration": 2176,
    "start_time": "2022-09-28T08:03:39.331Z"
   },
   {
    "duration": 2369,
    "start_time": "2022-09-28T08:03:41.509Z"
   },
   {
    "duration": 7,
    "start_time": "2022-09-28T08:03:43.881Z"
   },
   {
    "duration": 14,
    "start_time": "2022-09-28T08:03:43.889Z"
   },
   {
    "duration": 22,
    "start_time": "2022-09-28T08:03:43.905Z"
   },
   {
    "duration": 14,
    "start_time": "2022-09-28T08:03:43.929Z"
   },
   {
    "duration": 8,
    "start_time": "2022-09-28T08:03:43.945Z"
   },
   {
    "duration": 9,
    "start_time": "2022-09-28T08:03:46.779Z"
   },
   {
    "duration": 14,
    "start_time": "2022-09-28T08:03:47.970Z"
   },
   {
    "duration": 5,
    "start_time": "2022-09-28T08:05:53.814Z"
   },
   {
    "duration": 5,
    "start_time": "2022-09-28T08:06:03.131Z"
   },
   {
    "duration": 5,
    "start_time": "2022-09-28T08:06:12.548Z"
   },
   {
    "duration": 94,
    "start_time": "2022-09-28T08:14:21.630Z"
   },
   {
    "duration": 980,
    "start_time": "2022-09-28T08:15:26.779Z"
   },
   {
    "duration": 338,
    "start_time": "2022-09-28T08:15:27.760Z"
   },
   {
    "duration": 23,
    "start_time": "2022-09-28T08:15:28.099Z"
   },
   {
    "duration": 32,
    "start_time": "2022-09-28T08:15:28.123Z"
   },
   {
    "duration": 90,
    "start_time": "2022-09-28T08:15:28.157Z"
   },
   {
    "duration": 41,
    "start_time": "2022-09-28T08:15:28.249Z"
   },
   {
    "duration": 60,
    "start_time": "2022-09-28T08:15:28.292Z"
   },
   {
    "duration": 42,
    "start_time": "2022-09-28T08:15:28.354Z"
   },
   {
    "duration": 5,
    "start_time": "2022-09-28T08:15:28.397Z"
   },
   {
    "duration": 20,
    "start_time": "2022-09-28T08:15:28.403Z"
   },
   {
    "duration": 8,
    "start_time": "2022-09-28T08:15:28.424Z"
   },
   {
    "duration": 18,
    "start_time": "2022-09-28T08:15:28.433Z"
   },
   {
    "duration": 12,
    "start_time": "2022-09-28T08:15:28.453Z"
   },
   {
    "duration": 11,
    "start_time": "2022-09-28T08:15:28.467Z"
   },
   {
    "duration": 42,
    "start_time": "2022-09-28T08:15:28.480Z"
   },
   {
    "duration": 107,
    "start_time": "2022-09-28T08:15:28.523Z"
   },
   {
    "duration": 119,
    "start_time": "2022-09-28T08:15:28.723Z"
   },
   {
    "duration": 179,
    "start_time": "2022-09-28T08:15:28.844Z"
   },
   {
    "duration": 7,
    "start_time": "2022-09-28T08:15:29.024Z"
   },
   {
    "duration": 7,
    "start_time": "2022-09-28T08:15:29.033Z"
   },
   {
    "duration": 7,
    "start_time": "2022-09-28T08:15:29.041Z"
   },
   {
    "duration": 9,
    "start_time": "2022-09-28T08:15:29.050Z"
   },
   {
    "duration": 10,
    "start_time": "2022-09-28T08:15:29.061Z"
   },
   {
    "duration": 8,
    "start_time": "2022-09-28T08:15:32.515Z"
   },
   {
    "duration": 12,
    "start_time": "2022-09-28T08:15:51.672Z"
   },
   {
    "duration": 5,
    "start_time": "2022-09-28T08:17:30.862Z"
   },
   {
    "duration": 333,
    "start_time": "2022-09-28T08:17:30.869Z"
   },
   {
    "duration": 18,
    "start_time": "2022-09-28T08:17:31.204Z"
   },
   {
    "duration": 51,
    "start_time": "2022-09-28T08:17:31.224Z"
   },
   {
    "duration": 75,
    "start_time": "2022-09-28T08:17:31.277Z"
   },
   {
    "duration": 40,
    "start_time": "2022-09-28T08:17:31.354Z"
   },
   {
    "duration": 45,
    "start_time": "2022-09-28T08:17:31.396Z"
   },
   {
    "duration": 36,
    "start_time": "2022-09-28T08:17:31.443Z"
   },
   {
    "duration": 4,
    "start_time": "2022-09-28T08:17:31.481Z"
   },
   {
    "duration": 23,
    "start_time": "2022-09-28T08:17:31.487Z"
   },
   {
    "duration": 18,
    "start_time": "2022-09-28T08:17:31.512Z"
   },
   {
    "duration": 13,
    "start_time": "2022-09-28T08:17:31.532Z"
   },
   {
    "duration": 8,
    "start_time": "2022-09-28T08:17:31.546Z"
   },
   {
    "duration": 14,
    "start_time": "2022-09-28T08:17:31.557Z"
   },
   {
    "duration": 50,
    "start_time": "2022-09-28T08:17:31.572Z"
   },
   {
    "duration": 105,
    "start_time": "2022-09-28T08:17:31.624Z"
   },
   {
    "duration": 230,
    "start_time": "2022-09-28T08:17:31.731Z"
   },
   {
    "duration": 65,
    "start_time": "2022-09-28T08:17:31.963Z"
   },
   {
    "duration": 94,
    "start_time": "2022-09-28T08:17:32.029Z"
   },
   {
    "duration": 15,
    "start_time": "2022-09-28T08:17:32.124Z"
   },
   {
    "duration": 26,
    "start_time": "2022-09-28T08:17:32.141Z"
   },
   {
    "duration": 36,
    "start_time": "2022-09-28T08:17:32.169Z"
   },
   {
    "duration": 26,
    "start_time": "2022-09-28T08:17:32.207Z"
   },
   {
    "duration": 3,
    "start_time": "2022-09-28T08:17:34.550Z"
   },
   {
    "duration": 11,
    "start_time": "2022-09-28T08:22:29.341Z"
   },
   {
    "duration": 11,
    "start_time": "2022-09-28T08:22:36.470Z"
   },
   {
    "duration": 12,
    "start_time": "2022-09-28T08:22:58.006Z"
   },
   {
    "duration": 2,
    "start_time": "2022-09-28T08:24:02.070Z"
   },
   {
    "duration": 84,
    "start_time": "2022-09-28T08:25:09.558Z"
   },
   {
    "duration": 5,
    "start_time": "2022-09-28T08:30:58.695Z"
   },
   {
    "duration": 5,
    "start_time": "2022-09-28T08:31:10.762Z"
   },
   {
    "duration": 5,
    "start_time": "2022-09-28T08:31:15.616Z"
   },
   {
    "duration": 12,
    "start_time": "2022-09-28T08:31:34.118Z"
   },
   {
    "duration": 12,
    "start_time": "2022-09-28T08:31:35.332Z"
   },
   {
    "duration": 12,
    "start_time": "2022-09-28T08:31:36.307Z"
   },
   {
    "duration": 11,
    "start_time": "2022-09-28T08:31:37.258Z"
   },
   {
    "duration": 8,
    "start_time": "2022-09-28T08:32:12.202Z"
   },
   {
    "duration": 72,
    "start_time": "2022-09-28T08:32:59.365Z"
   },
   {
    "duration": 7,
    "start_time": "2022-09-28T08:33:02.497Z"
   },
   {
    "duration": 8,
    "start_time": "2022-09-28T08:33:20.351Z"
   },
   {
    "duration": 7,
    "start_time": "2022-09-28T08:33:33.702Z"
   },
   {
    "duration": 1824,
    "start_time": "2022-09-28T08:36:12.184Z"
   },
   {
    "duration": 1844,
    "start_time": "2022-09-28T08:36:14.010Z"
   },
   {
    "duration": 1890,
    "start_time": "2022-09-28T08:36:17.560Z"
   },
   {
    "duration": 8,
    "start_time": "2022-09-28T08:36:21.687Z"
   },
   {
    "duration": 7,
    "start_time": "2022-09-28T08:36:22.863Z"
   },
   {
    "duration": 6,
    "start_time": "2022-09-28T08:36:23.658Z"
   },
   {
    "duration": 8,
    "start_time": "2022-09-28T08:36:24.821Z"
   },
   {
    "duration": 8,
    "start_time": "2022-09-28T08:36:26.120Z"
   },
   {
    "duration": 7,
    "start_time": "2022-09-28T08:36:26.951Z"
   },
   {
    "duration": 12,
    "start_time": "2022-09-28T08:36:29.578Z"
   },
   {
    "duration": 7,
    "start_time": "2022-09-28T08:39:36.745Z"
   },
   {
    "duration": 9,
    "start_time": "2022-09-28T08:39:51.217Z"
   },
   {
    "duration": 7,
    "start_time": "2022-09-28T08:40:02.261Z"
   },
   {
    "duration": 2,
    "start_time": "2022-09-28T08:40:43.892Z"
   },
   {
    "duration": 5,
    "start_time": "2022-09-28T08:40:50.901Z"
   },
   {
    "duration": 4,
    "start_time": "2022-09-28T08:42:05.849Z"
   },
   {
    "duration": 3,
    "start_time": "2022-09-28T08:42:18.079Z"
   },
   {
    "duration": 4,
    "start_time": "2022-09-28T08:42:45.012Z"
   },
   {
    "duration": 4,
    "start_time": "2022-09-28T08:42:53.989Z"
   },
   {
    "duration": 3,
    "start_time": "2022-09-28T08:43:06.073Z"
   },
   {
    "duration": 4,
    "start_time": "2022-09-28T08:43:16.753Z"
   },
   {
    "duration": 4,
    "start_time": "2022-09-28T08:43:23.619Z"
   },
   {
    "duration": 4,
    "start_time": "2022-09-28T09:07:23.233Z"
   },
   {
    "duration": 3,
    "start_time": "2022-09-28T09:08:12.108Z"
   },
   {
    "duration": 4,
    "start_time": "2022-09-28T09:08:25.109Z"
   },
   {
    "duration": 3,
    "start_time": "2022-09-28T09:08:41.908Z"
   },
   {
    "duration": 6,
    "start_time": "2022-09-28T09:11:13.808Z"
   },
   {
    "duration": 6,
    "start_time": "2022-09-28T09:11:19.272Z"
   },
   {
    "duration": 6,
    "start_time": "2022-09-28T09:11:26.507Z"
   },
   {
    "duration": 6,
    "start_time": "2022-09-28T09:11:31.641Z"
   },
   {
    "duration": 8,
    "start_time": "2022-09-28T09:11:54.708Z"
   },
   {
    "duration": 9,
    "start_time": "2022-09-28T09:12:06.180Z"
   },
   {
    "duration": 6,
    "start_time": "2022-09-28T09:12:53.208Z"
   },
   {
    "duration": 16,
    "start_time": "2022-09-28T09:12:59.579Z"
   },
   {
    "duration": 6,
    "start_time": "2022-09-28T09:13:05.271Z"
   },
   {
    "duration": 6,
    "start_time": "2022-09-28T09:44:28.995Z"
   },
   {
    "duration": 5,
    "start_time": "2022-09-28T09:44:35.562Z"
   },
   {
    "duration": 6,
    "start_time": "2022-09-28T09:44:42.536Z"
   },
   {
    "duration": 7,
    "start_time": "2022-09-28T09:44:47.720Z"
   },
   {
    "duration": 100,
    "start_time": "2022-09-28T10:34:51.040Z"
   },
   {
    "duration": 1029,
    "start_time": "2022-09-28T10:35:00.586Z"
   },
   {
    "duration": 338,
    "start_time": "2022-09-28T10:35:01.617Z"
   },
   {
    "duration": 15,
    "start_time": "2022-09-28T10:35:01.957Z"
   },
   {
    "duration": 42,
    "start_time": "2022-09-28T10:35:01.974Z"
   },
   {
    "duration": 78,
    "start_time": "2022-09-28T10:35:02.018Z"
   },
   {
    "duration": 55,
    "start_time": "2022-09-28T10:35:02.097Z"
   },
   {
    "duration": 37,
    "start_time": "2022-09-28T10:35:02.154Z"
   },
   {
    "duration": 50,
    "start_time": "2022-09-28T10:35:02.193Z"
   },
   {
    "duration": 5,
    "start_time": "2022-09-28T10:35:02.244Z"
   },
   {
    "duration": 23,
    "start_time": "2022-09-28T10:35:02.251Z"
   },
   {
    "duration": 36,
    "start_time": "2022-09-28T10:35:02.276Z"
   },
   {
    "duration": 67,
    "start_time": "2022-09-28T10:35:02.313Z"
   },
   {
    "duration": 40,
    "start_time": "2022-09-28T10:35:02.381Z"
   },
   {
    "duration": 22,
    "start_time": "2022-09-28T10:35:02.423Z"
   },
   {
    "duration": 80,
    "start_time": "2022-09-28T10:35:02.446Z"
   },
   {
    "duration": 103,
    "start_time": "2022-09-28T10:35:02.529Z"
   },
   {
    "duration": 210,
    "start_time": "2022-09-28T10:35:02.634Z"
   },
   {
    "duration": 190,
    "start_time": "2022-09-28T10:35:02.845Z"
   },
   {
    "duration": 19,
    "start_time": "2022-09-28T10:35:03.037Z"
   },
   {
    "duration": 22,
    "start_time": "2022-09-28T10:35:03.057Z"
   },
   {
    "duration": 14,
    "start_time": "2022-09-28T10:35:03.080Z"
   },
   {
    "duration": 9,
    "start_time": "2022-09-28T10:35:03.095Z"
   },
   {
    "duration": 14,
    "start_time": "2022-09-28T10:35:03.105Z"
   },
   {
    "duration": 23,
    "start_time": "2022-09-28T10:35:03.121Z"
   },
   {
    "duration": 8,
    "start_time": "2022-09-28T10:35:03.145Z"
   },
   {
    "duration": 10,
    "start_time": "2022-09-28T10:35:03.154Z"
   },
   {
    "duration": 15,
    "start_time": "2022-09-28T10:35:03.165Z"
   },
   {
    "duration": 6,
    "start_time": "2022-09-28T10:35:03.183Z"
   },
   {
    "duration": 7,
    "start_time": "2022-09-28T10:35:03.190Z"
   },
   {
    "duration": 9,
    "start_time": "2022-09-28T10:35:03.198Z"
   },
   {
    "duration": 1902,
    "start_time": "2022-09-28T10:35:03.209Z"
   },
   {
    "duration": 1887,
    "start_time": "2022-09-28T10:35:05.113Z"
   },
   {
    "duration": 1839,
    "start_time": "2022-09-28T10:35:07.001Z"
   },
   {
    "duration": 5,
    "start_time": "2022-09-28T10:35:08.842Z"
   },
   {
    "duration": 7,
    "start_time": "2022-09-28T10:35:08.848Z"
   },
   {
    "duration": 13,
    "start_time": "2022-09-28T10:35:08.856Z"
   },
   {
    "duration": 19,
    "start_time": "2022-09-28T10:35:08.871Z"
   },
   {
    "duration": 11,
    "start_time": "2022-09-28T10:35:08.891Z"
   },
   {
    "duration": 10,
    "start_time": "2022-09-28T10:35:08.903Z"
   },
   {
    "duration": 14,
    "start_time": "2022-09-28T10:35:08.914Z"
   },
   {
    "duration": 1038,
    "start_time": "2022-09-28T10:35:58.974Z"
   },
   {
    "duration": 339,
    "start_time": "2022-09-28T10:36:00.013Z"
   },
   {
    "duration": 16,
    "start_time": "2022-09-28T10:36:00.354Z"
   },
   {
    "duration": 97,
    "start_time": "2022-09-28T10:36:00.372Z"
   },
   {
    "duration": 88,
    "start_time": "2022-09-28T10:36:00.470Z"
   },
   {
    "duration": 44,
    "start_time": "2022-09-28T10:36:00.560Z"
   },
   {
    "duration": 55,
    "start_time": "2022-09-28T10:36:00.605Z"
   },
   {
    "duration": 40,
    "start_time": "2022-09-28T10:36:00.662Z"
   },
   {
    "duration": 22,
    "start_time": "2022-09-28T10:36:00.704Z"
   },
   {
    "duration": 37,
    "start_time": "2022-09-28T10:36:00.729Z"
   },
   {
    "duration": 46,
    "start_time": "2022-09-28T10:36:00.768Z"
   },
   {
    "duration": 38,
    "start_time": "2022-09-28T10:36:00.816Z"
   },
   {
    "duration": 49,
    "start_time": "2022-09-28T10:36:00.856Z"
   },
   {
    "duration": 40,
    "start_time": "2022-09-28T10:36:00.906Z"
   },
   {
    "duration": 38,
    "start_time": "2022-09-28T10:36:00.948Z"
   },
   {
    "duration": 114,
    "start_time": "2022-09-28T10:36:01.030Z"
   },
   {
    "duration": 218,
    "start_time": "2022-09-28T10:36:01.145Z"
   },
   {
    "duration": 192,
    "start_time": "2022-09-28T10:36:01.365Z"
   },
   {
    "duration": 41,
    "start_time": "2022-09-28T10:36:01.559Z"
   },
   {
    "duration": 42,
    "start_time": "2022-09-28T10:36:01.601Z"
   },
   {
    "duration": 67,
    "start_time": "2022-09-28T10:36:01.644Z"
   },
   {
    "duration": 44,
    "start_time": "2022-09-28T10:36:01.713Z"
   },
   {
    "duration": 30,
    "start_time": "2022-09-28T10:36:01.759Z"
   },
   {
    "duration": 29,
    "start_time": "2022-09-28T10:36:01.791Z"
   },
   {
    "duration": 38,
    "start_time": "2022-09-28T10:36:01.832Z"
   },
   {
    "duration": 47,
    "start_time": "2022-09-28T10:36:01.872Z"
   },
   {
    "duration": 38,
    "start_time": "2022-09-28T10:36:01.920Z"
   },
   {
    "duration": 32,
    "start_time": "2022-09-28T10:36:01.960Z"
   },
   {
    "duration": 26,
    "start_time": "2022-09-28T10:36:01.993Z"
   },
   {
    "duration": 45,
    "start_time": "2022-09-28T10:36:02.021Z"
   },
   {
    "duration": 1920,
    "start_time": "2022-09-28T10:36:02.068Z"
   },
   {
    "duration": 1977,
    "start_time": "2022-09-28T10:36:03.989Z"
   },
   {
    "duration": 1876,
    "start_time": "2022-09-28T10:36:05.967Z"
   },
   {
    "duration": 4,
    "start_time": "2022-09-28T10:36:07.845Z"
   },
   {
    "duration": 37,
    "start_time": "2022-09-28T10:36:07.851Z"
   },
   {
    "duration": 21,
    "start_time": "2022-09-28T10:36:07.890Z"
   },
   {
    "duration": 32,
    "start_time": "2022-09-28T10:36:07.913Z"
   },
   {
    "duration": 13,
    "start_time": "2022-09-28T10:36:07.947Z"
   },
   {
    "duration": 15,
    "start_time": "2022-09-28T10:36:07.962Z"
   },
   {
    "duration": 32,
    "start_time": "2022-09-28T10:36:07.978Z"
   },
   {
    "duration": 25,
    "start_time": "2022-09-28T10:36:36.639Z"
   },
   {
    "duration": 29,
    "start_time": "2022-09-28T10:36:43.098Z"
   },
   {
    "duration": 1050,
    "start_time": "2022-09-28T10:37:00.072Z"
   },
   {
    "duration": 362,
    "start_time": "2022-09-28T10:37:01.126Z"
   },
   {
    "duration": 16,
    "start_time": "2022-09-28T10:37:01.489Z"
   },
   {
    "duration": 60,
    "start_time": "2022-09-28T10:37:01.507Z"
   },
   {
    "duration": 85,
    "start_time": "2022-09-28T10:37:01.569Z"
   },
   {
    "duration": 42,
    "start_time": "2022-09-28T10:37:01.656Z"
   },
   {
    "duration": 53,
    "start_time": "2022-09-28T10:37:01.699Z"
   },
   {
    "duration": 41,
    "start_time": "2022-09-28T10:37:01.754Z"
   },
   {
    "duration": 6,
    "start_time": "2022-09-28T10:37:01.797Z"
   },
   {
    "duration": 71,
    "start_time": "2022-09-28T10:37:01.804Z"
   },
   {
    "duration": 30,
    "start_time": "2022-09-28T10:37:01.876Z"
   },
   {
    "duration": 49,
    "start_time": "2022-09-28T10:37:01.908Z"
   },
   {
    "duration": 22,
    "start_time": "2022-09-28T10:37:01.959Z"
   },
   {
    "duration": 44,
    "start_time": "2022-09-28T10:37:01.985Z"
   },
   {
    "duration": 41,
    "start_time": "2022-09-28T10:37:02.030Z"
   },
   {
    "duration": 121,
    "start_time": "2022-09-28T10:37:02.128Z"
   },
   {
    "duration": 205,
    "start_time": "2022-09-28T10:37:02.250Z"
   },
   {
    "duration": 189,
    "start_time": "2022-09-28T10:37:02.457Z"
   },
   {
    "duration": 5,
    "start_time": "2022-09-28T10:37:02.647Z"
   },
   {
    "duration": 17,
    "start_time": "2022-09-28T10:37:02.653Z"
   },
   {
    "duration": 6,
    "start_time": "2022-09-28T10:37:02.672Z"
   },
   {
    "duration": 14,
    "start_time": "2022-09-28T10:37:02.679Z"
   },
   {
    "duration": 9,
    "start_time": "2022-09-28T10:37:02.695Z"
   },
   {
    "duration": 10,
    "start_time": "2022-09-28T10:37:02.705Z"
   },
   {
    "duration": 27,
    "start_time": "2022-09-28T10:37:02.716Z"
   },
   {
    "duration": 8,
    "start_time": "2022-09-28T10:37:02.745Z"
   },
   {
    "duration": 7,
    "start_time": "2022-09-28T10:37:02.754Z"
   },
   {
    "duration": 5,
    "start_time": "2022-09-28T10:37:02.762Z"
   },
   {
    "duration": 8,
    "start_time": "2022-09-28T10:37:02.769Z"
   },
   {
    "duration": 9,
    "start_time": "2022-09-28T10:37:02.778Z"
   },
   {
    "duration": 1969,
    "start_time": "2022-09-28T10:37:02.788Z"
   },
   {
    "duration": 1912,
    "start_time": "2022-09-28T10:37:04.759Z"
   },
   {
    "duration": 1903,
    "start_time": "2022-09-28T10:37:06.672Z"
   },
   {
    "duration": 5,
    "start_time": "2022-09-28T10:37:08.576Z"
   },
   {
    "duration": 10,
    "start_time": "2022-09-28T10:37:08.582Z"
   },
   {
    "duration": 6,
    "start_time": "2022-09-28T10:37:08.593Z"
   },
   {
    "duration": 17,
    "start_time": "2022-09-28T10:37:08.601Z"
   },
   {
    "duration": 14,
    "start_time": "2022-09-28T10:37:08.621Z"
   },
   {
    "duration": 7,
    "start_time": "2022-09-28T10:37:08.637Z"
   },
   {
    "duration": 11,
    "start_time": "2022-09-28T10:37:08.646Z"
   },
   {
    "duration": 61,
    "start_time": "2022-09-28T18:46:25.891Z"
   },
   {
    "duration": 6,
    "start_time": "2022-09-28T18:46:30.011Z"
   },
   {
    "duration": 2446,
    "start_time": "2022-09-28T18:46:32.622Z"
   },
   {
    "duration": 752,
    "start_time": "2022-09-28T18:46:35.070Z"
   },
   {
    "duration": 16,
    "start_time": "2022-09-28T18:46:35.824Z"
   },
   {
    "duration": 42,
    "start_time": "2022-09-28T18:46:35.842Z"
   },
   {
    "duration": 79,
    "start_time": "2022-09-28T18:46:35.887Z"
   },
   {
    "duration": 50,
    "start_time": "2022-09-28T18:46:35.967Z"
   },
   {
    "duration": 39,
    "start_time": "2022-09-28T18:46:36.019Z"
   },
   {
    "duration": 54,
    "start_time": "2022-09-28T18:46:36.059Z"
   },
   {
    "duration": 5,
    "start_time": "2022-09-28T18:46:36.114Z"
   },
   {
    "duration": 24,
    "start_time": "2022-09-28T18:46:36.120Z"
   },
   {
    "duration": 27,
    "start_time": "2022-09-28T18:46:36.146Z"
   },
   {
    "duration": 30,
    "start_time": "2022-09-28T18:46:36.174Z"
   },
   {
    "duration": 26,
    "start_time": "2022-09-28T18:46:36.206Z"
   },
   {
    "duration": 233,
    "start_time": "2022-09-28T18:46:36.235Z"
   },
   {
    "duration": 30,
    "start_time": "2022-09-28T18:46:36.470Z"
   },
   {
    "duration": 205,
    "start_time": "2022-09-28T18:46:36.501Z"
   },
   {
    "duration": 205,
    "start_time": "2022-09-28T18:46:36.709Z"
   },
   {
    "duration": 189,
    "start_time": "2022-09-28T18:46:36.916Z"
   },
   {
    "duration": 5,
    "start_time": "2022-09-28T18:46:37.107Z"
   },
   {
    "duration": 6,
    "start_time": "2022-09-28T18:46:37.114Z"
   },
   {
    "duration": 6,
    "start_time": "2022-09-28T18:46:37.121Z"
   },
   {
    "duration": 5,
    "start_time": "2022-09-28T18:46:37.128Z"
   },
   {
    "duration": 8,
    "start_time": "2022-09-28T18:46:37.135Z"
   },
   {
    "duration": 9,
    "start_time": "2022-09-28T18:46:37.144Z"
   },
   {
    "duration": 6,
    "start_time": "2022-09-28T18:46:37.154Z"
   },
   {
    "duration": 39,
    "start_time": "2022-09-28T18:46:37.161Z"
   },
   {
    "duration": 6,
    "start_time": "2022-09-28T18:46:37.202Z"
   },
   {
    "duration": 4,
    "start_time": "2022-09-28T18:46:37.210Z"
   },
   {
    "duration": 4,
    "start_time": "2022-09-28T18:46:37.215Z"
   },
   {
    "duration": 6,
    "start_time": "2022-09-28T18:46:37.220Z"
   },
   {
    "duration": 1871,
    "start_time": "2022-09-28T18:46:37.227Z"
   },
   {
    "duration": 1803,
    "start_time": "2022-09-28T18:46:39.100Z"
   },
   {
    "duration": 1814,
    "start_time": "2022-09-28T18:46:40.904Z"
   },
   {
    "duration": 4,
    "start_time": "2022-09-28T18:46:42.720Z"
   },
   {
    "duration": 7,
    "start_time": "2022-09-28T18:46:42.726Z"
   },
   {
    "duration": 6,
    "start_time": "2022-09-28T18:46:42.734Z"
   },
   {
    "duration": 11,
    "start_time": "2022-09-28T18:46:42.741Z"
   },
   {
    "duration": 7,
    "start_time": "2022-09-28T18:46:42.753Z"
   },
   {
    "duration": 7,
    "start_time": "2022-09-28T18:46:42.761Z"
   },
   {
    "duration": 36,
    "start_time": "2022-09-28T18:46:42.770Z"
   },
   {
    "duration": 9,
    "start_time": "2022-09-28T18:46:54.218Z"
   },
   {
    "duration": 8,
    "start_time": "2022-09-28T18:47:06.283Z"
   },
   {
    "duration": 8,
    "start_time": "2022-09-28T18:47:41.148Z"
   },
   {
    "duration": 1690,
    "start_time": "2022-09-28T18:47:56.658Z"
   },
   {
    "duration": 6,
    "start_time": "2022-09-28T18:48:02.880Z"
   },
   {
    "duration": 1804,
    "start_time": "2022-09-28T18:48:28.860Z"
   },
   {
    "duration": 1863,
    "start_time": "2022-09-28T18:48:33.656Z"
   },
   {
    "duration": 5,
    "start_time": "2022-09-28T18:48:36.507Z"
   },
   {
    "duration": 5,
    "start_time": "2022-09-28T18:48:37.318Z"
   },
   {
    "duration": 5,
    "start_time": "2022-09-28T18:48:38.031Z"
   },
   {
    "duration": 5,
    "start_time": "2022-09-28T18:48:39.254Z"
   },
   {
    "duration": 5,
    "start_time": "2022-09-28T18:48:39.937Z"
   },
   {
    "duration": 6,
    "start_time": "2022-09-28T18:48:41.452Z"
   },
   {
    "duration": 1906,
    "start_time": "2022-09-28T18:49:00.418Z"
   },
   {
    "duration": 9,
    "start_time": "2022-09-28T18:49:18.597Z"
   },
   {
    "duration": 1699,
    "start_time": "2022-09-28T18:49:23.936Z"
   },
   {
    "duration": 5,
    "start_time": "2022-09-28T18:49:31.263Z"
   },
   {
    "duration": 1987,
    "start_time": "2022-09-28T18:49:38.631Z"
   },
   {
    "duration": 4536,
    "start_time": "2022-09-28T18:49:53.967Z"
   },
   {
    "duration": 6,
    "start_time": "2022-09-28T18:50:03.321Z"
   },
   {
    "duration": 1929,
    "start_time": "2022-09-28T18:50:15.922Z"
   },
   {
    "duration": 5,
    "start_time": "2022-09-28T18:50:21.962Z"
   },
   {
    "duration": 2582,
    "start_time": "2022-09-28T18:50:46.232Z"
   },
   {
    "duration": 324,
    "start_time": "2022-09-28T18:50:48.816Z"
   },
   {
    "duration": 17,
    "start_time": "2022-09-28T18:50:49.142Z"
   },
   {
    "duration": 43,
    "start_time": "2022-09-28T18:50:49.161Z"
   },
   {
    "duration": 96,
    "start_time": "2022-09-28T18:50:49.207Z"
   },
   {
    "duration": 48,
    "start_time": "2022-09-28T18:50:49.305Z"
   },
   {
    "duration": 64,
    "start_time": "2022-09-28T18:50:49.355Z"
   },
   {
    "duration": 50,
    "start_time": "2022-09-28T18:50:49.422Z"
   },
   {
    "duration": 5,
    "start_time": "2022-09-28T18:50:49.474Z"
   },
   {
    "duration": 6,
    "start_time": "2022-09-28T18:50:49.500Z"
   },
   {
    "duration": 9,
    "start_time": "2022-09-28T18:50:49.507Z"
   },
   {
    "duration": 17,
    "start_time": "2022-09-28T18:50:49.517Z"
   },
   {
    "duration": 10,
    "start_time": "2022-09-28T18:50:49.535Z"
   },
   {
    "duration": 16,
    "start_time": "2022-09-28T18:50:49.548Z"
   },
   {
    "duration": 40,
    "start_time": "2022-09-28T18:50:49.566Z"
   },
   {
    "duration": 198,
    "start_time": "2022-09-28T18:50:49.608Z"
   },
   {
    "duration": 199,
    "start_time": "2022-09-28T18:50:49.808Z"
   },
   {
    "duration": 201,
    "start_time": "2022-09-28T18:50:50.009Z"
   },
   {
    "duration": 5,
    "start_time": "2022-09-28T18:50:50.212Z"
   },
   {
    "duration": 8,
    "start_time": "2022-09-28T18:50:50.219Z"
   },
   {
    "duration": 5,
    "start_time": "2022-09-28T18:50:50.229Z"
   },
   {
    "duration": 5,
    "start_time": "2022-09-28T18:50:50.236Z"
   },
   {
    "duration": 11,
    "start_time": "2022-09-28T18:50:50.242Z"
   },
   {
    "duration": 10,
    "start_time": "2022-09-28T18:50:50.254Z"
   },
   {
    "duration": 8,
    "start_time": "2022-09-28T18:50:50.266Z"
   },
   {
    "duration": 7,
    "start_time": "2022-09-28T18:50:50.300Z"
   },
   {
    "duration": 7,
    "start_time": "2022-09-28T18:50:50.309Z"
   },
   {
    "duration": 7,
    "start_time": "2022-09-28T18:50:50.318Z"
   },
   {
    "duration": 8,
    "start_time": "2022-09-28T18:50:50.326Z"
   },
   {
    "duration": 7,
    "start_time": "2022-09-28T18:50:50.336Z"
   },
   {
    "duration": 1867,
    "start_time": "2022-09-28T18:50:50.344Z"
   },
   {
    "duration": 1698,
    "start_time": "2022-09-28T18:50:52.213Z"
   },
   {
    "duration": 1843,
    "start_time": "2022-09-28T18:50:53.912Z"
   },
   {
    "duration": 4,
    "start_time": "2022-09-28T18:50:55.757Z"
   },
   {
    "duration": 7,
    "start_time": "2022-09-28T18:50:55.763Z"
   },
   {
    "duration": 12,
    "start_time": "2022-09-28T18:50:55.771Z"
   },
   {
    "duration": 23,
    "start_time": "2022-09-28T18:50:55.785Z"
   },
   {
    "duration": 6,
    "start_time": "2022-09-28T18:50:55.810Z"
   },
   {
    "duration": 8,
    "start_time": "2022-09-28T18:50:55.817Z"
   },
   {
    "duration": 15,
    "start_time": "2022-09-28T18:50:55.826Z"
   },
   {
    "duration": 9,
    "start_time": "2022-09-28T19:27:23.672Z"
   },
   {
    "duration": 53,
    "start_time": "2022-09-28T19:30:43.421Z"
   },
   {
    "duration": 1066,
    "start_time": "2022-09-28T19:30:47.714Z"
   },
   {
    "duration": 1960,
    "start_time": "2022-09-28T19:30:48.782Z"
   },
   {
    "duration": 16,
    "start_time": "2022-09-28T19:30:50.743Z"
   },
   {
    "duration": 33,
    "start_time": "2022-09-28T19:30:50.761Z"
   },
   {
    "duration": 99,
    "start_time": "2022-09-28T19:30:50.795Z"
   },
   {
    "duration": 56,
    "start_time": "2022-09-28T19:30:50.895Z"
   },
   {
    "duration": 39,
    "start_time": "2022-09-28T19:30:50.953Z"
   },
   {
    "duration": 61,
    "start_time": "2022-09-28T19:30:50.994Z"
   },
   {
    "duration": 4,
    "start_time": "2022-09-28T19:30:51.057Z"
   },
   {
    "duration": 23,
    "start_time": "2022-09-28T19:30:51.064Z"
   },
   {
    "duration": 15,
    "start_time": "2022-09-28T19:30:51.088Z"
   },
   {
    "duration": 22,
    "start_time": "2022-09-28T19:30:51.105Z"
   },
   {
    "duration": 14,
    "start_time": "2022-09-28T19:30:51.129Z"
   },
   {
    "duration": 12,
    "start_time": "2022-09-28T19:30:51.145Z"
   },
   {
    "duration": 166,
    "start_time": "2022-09-28T19:30:51.159Z"
   },
   {
    "duration": 198,
    "start_time": "2022-09-28T19:30:51.328Z"
   },
   {
    "duration": 111,
    "start_time": "2022-09-28T19:30:51.528Z"
   },
   {
    "duration": 183,
    "start_time": "2022-09-28T19:30:51.640Z"
   },
   {
    "duration": 25,
    "start_time": "2022-09-28T19:30:51.825Z"
   },
   {
    "duration": 21,
    "start_time": "2022-09-28T19:30:51.851Z"
   },
   {
    "duration": 25,
    "start_time": "2022-09-28T19:30:51.874Z"
   },
   {
    "duration": 22,
    "start_time": "2022-09-28T19:30:51.900Z"
   },
   {
    "duration": 23,
    "start_time": "2022-09-28T19:30:51.923Z"
   },
   {
    "duration": 17,
    "start_time": "2022-09-28T19:30:53.553Z"
   },
   {
    "duration": 7,
    "start_time": "2022-09-28T19:31:04.052Z"
   },
   {
    "duration": 56,
    "start_time": "2022-09-28T19:33:18.709Z"
   },
   {
    "duration": 14,
    "start_time": "2022-09-28T19:33:37.924Z"
   },
   {
    "duration": 8,
    "start_time": "2022-09-28T19:34:11.347Z"
   },
   {
    "duration": 12,
    "start_time": "2022-09-28T19:35:41.058Z"
   },
   {
    "duration": 9,
    "start_time": "2022-09-28T19:35:59.179Z"
   },
   {
    "duration": 9,
    "start_time": "2022-09-28T19:35:59.921Z"
   },
   {
    "duration": 7,
    "start_time": "2022-09-28T19:36:00.525Z"
   },
   {
    "duration": 4,
    "start_time": "2022-09-28T19:36:01.409Z"
   },
   {
    "duration": 4,
    "start_time": "2022-09-28T19:36:02.117Z"
   },
   {
    "duration": 4,
    "start_time": "2022-09-28T19:36:03.043Z"
   },
   {
    "duration": 7,
    "start_time": "2022-09-28T19:36:04.449Z"
   },
   {
    "duration": 11,
    "start_time": "2022-09-28T19:36:31.029Z"
   },
   {
    "duration": 8,
    "start_time": "2022-09-28T19:37:13.376Z"
   },
   {
    "duration": 10,
    "start_time": "2022-09-28T19:39:00.834Z"
   },
   {
    "duration": 1849,
    "start_time": "2022-09-28T19:40:40.210Z"
   },
   {
    "duration": 8,
    "start_time": "2022-09-28T19:40:47.014Z"
   },
   {
    "duration": 5,
    "start_time": "2022-09-28T19:40:51.658Z"
   },
   {
    "duration": 8,
    "start_time": "2022-09-28T19:40:58.417Z"
   },
   {
    "duration": 8,
    "start_time": "2022-09-28T19:41:32.290Z"
   },
   {
    "duration": 11,
    "start_time": "2022-09-28T19:41:47.424Z"
   },
   {
    "duration": 8,
    "start_time": "2022-09-28T19:41:54.442Z"
   },
   {
    "duration": 1181,
    "start_time": "2022-09-28T19:42:05.205Z"
   },
   {
    "duration": 337,
    "start_time": "2022-09-28T19:42:06.389Z"
   },
   {
    "duration": 17,
    "start_time": "2022-09-28T19:42:06.727Z"
   },
   {
    "duration": 31,
    "start_time": "2022-09-28T19:42:06.746Z"
   },
   {
    "duration": 98,
    "start_time": "2022-09-28T19:42:06.779Z"
   },
   {
    "duration": 62,
    "start_time": "2022-09-28T19:42:06.879Z"
   },
   {
    "duration": 48,
    "start_time": "2022-09-28T19:42:06.943Z"
   },
   {
    "duration": 54,
    "start_time": "2022-09-28T19:42:06.993Z"
   },
   {
    "duration": 4,
    "start_time": "2022-09-28T19:42:07.048Z"
   },
   {
    "duration": 13,
    "start_time": "2022-09-28T19:42:07.055Z"
   },
   {
    "duration": 15,
    "start_time": "2022-09-28T19:42:07.069Z"
   },
   {
    "duration": 13,
    "start_time": "2022-09-28T19:42:07.085Z"
   },
   {
    "duration": 22,
    "start_time": "2022-09-28T19:42:07.099Z"
   },
   {
    "duration": 10,
    "start_time": "2022-09-28T19:42:07.123Z"
   },
   {
    "duration": 23,
    "start_time": "2022-09-28T19:42:07.134Z"
   },
   {
    "duration": 111,
    "start_time": "2022-09-28T19:42:07.225Z"
   },
   {
    "duration": 288,
    "start_time": "2022-09-28T19:42:07.338Z"
   },
   {
    "duration": 105,
    "start_time": "2022-09-28T19:42:07.628Z"
   },
   {
    "duration": 5,
    "start_time": "2022-09-28T19:42:07.734Z"
   },
   {
    "duration": 5,
    "start_time": "2022-09-28T19:42:07.740Z"
   },
   {
    "duration": 21,
    "start_time": "2022-09-28T19:42:07.746Z"
   },
   {
    "duration": 5,
    "start_time": "2022-09-28T19:42:07.768Z"
   },
   {
    "duration": 5,
    "start_time": "2022-09-28T19:42:07.774Z"
   },
   {
    "duration": 20,
    "start_time": "2022-09-28T19:42:07.780Z"
   },
   {
    "duration": 32,
    "start_time": "2022-09-28T19:42:07.801Z"
   },
   {
    "duration": 8,
    "start_time": "2022-09-28T19:42:07.835Z"
   },
   {
    "duration": 9,
    "start_time": "2022-09-28T19:42:07.845Z"
   },
   {
    "duration": 12,
    "start_time": "2022-09-28T19:42:07.858Z"
   },
   {
    "duration": 11,
    "start_time": "2022-09-28T19:42:07.872Z"
   },
   {
    "duration": 7,
    "start_time": "2022-09-28T19:42:07.884Z"
   },
   {
    "duration": 14,
    "start_time": "2022-09-28T19:42:07.893Z"
   },
   {
    "duration": 20,
    "start_time": "2022-09-28T19:42:07.908Z"
   },
   {
    "duration": 9,
    "start_time": "2022-09-28T19:42:07.929Z"
   },
   {
    "duration": 1856,
    "start_time": "2022-09-28T19:43:15.456Z"
   },
   {
    "duration": 1784,
    "start_time": "2022-09-28T19:43:20.252Z"
   },
   {
    "duration": 1747,
    "start_time": "2022-09-28T19:43:26.835Z"
   },
   {
    "duration": 1775,
    "start_time": "2022-09-28T19:43:29.442Z"
   },
   {
    "duration": 1772,
    "start_time": "2022-09-28T19:43:32.577Z"
   },
   {
    "duration": 89,
    "start_time": "2022-09-28T19:45:26.952Z"
   },
   {
    "duration": 9,
    "start_time": "2022-09-28T19:45:39.866Z"
   },
   {
    "duration": 9,
    "start_time": "2022-09-28T19:45:47.753Z"
   },
   {
    "duration": 6,
    "start_time": "2022-09-28T19:46:24.146Z"
   },
   {
    "duration": 6,
    "start_time": "2022-09-28T19:46:38.496Z"
   },
   {
    "duration": 6,
    "start_time": "2022-09-28T19:46:52.281Z"
   },
   {
    "duration": 8,
    "start_time": "2022-09-28T19:47:24.265Z"
   },
   {
    "duration": 6,
    "start_time": "2022-09-28T19:47:25.432Z"
   },
   {
    "duration": 5,
    "start_time": "2022-09-28T19:47:26.558Z"
   },
   {
    "duration": 12,
    "start_time": "2022-09-28T19:47:40.525Z"
   },
   {
    "duration": 1782,
    "start_time": "2022-09-28T19:47:58.102Z"
   },
   {
    "duration": 7,
    "start_time": "2022-09-28T19:48:04.827Z"
   },
   {
    "duration": 7,
    "start_time": "2022-09-28T19:48:05.637Z"
   },
   {
    "duration": 6,
    "start_time": "2022-09-28T19:48:06.469Z"
   },
   {
    "duration": 6,
    "start_time": "2022-09-28T19:48:09.195Z"
   },
   {
    "duration": 6,
    "start_time": "2022-09-28T19:48:10.335Z"
   },
   {
    "duration": 6,
    "start_time": "2022-09-28T19:48:11.260Z"
   },
   {
    "duration": 10,
    "start_time": "2022-09-28T19:48:21.035Z"
   },
   {
    "duration": 8,
    "start_time": "2022-09-28T19:50:32.445Z"
   },
   {
    "duration": 1088,
    "start_time": "2022-09-28T19:50:53.796Z"
   },
   {
    "duration": 356,
    "start_time": "2022-09-28T19:50:54.886Z"
   },
   {
    "duration": 16,
    "start_time": "2022-09-28T19:50:55.244Z"
   },
   {
    "duration": 34,
    "start_time": "2022-09-28T19:50:55.261Z"
   },
   {
    "duration": 103,
    "start_time": "2022-09-28T19:50:55.298Z"
   },
   {
    "duration": 53,
    "start_time": "2022-09-28T19:50:55.403Z"
   },
   {
    "duration": 37,
    "start_time": "2022-09-28T19:50:55.458Z"
   },
   {
    "duration": 57,
    "start_time": "2022-09-28T19:50:55.497Z"
   },
   {
    "duration": 4,
    "start_time": "2022-09-28T19:50:55.556Z"
   },
   {
    "duration": 9,
    "start_time": "2022-09-28T19:50:55.562Z"
   },
   {
    "duration": 10,
    "start_time": "2022-09-28T19:50:55.573Z"
   },
   {
    "duration": 12,
    "start_time": "2022-09-28T19:50:55.584Z"
   },
   {
    "duration": 29,
    "start_time": "2022-09-28T19:50:55.597Z"
   },
   {
    "duration": 10,
    "start_time": "2022-09-28T19:50:55.630Z"
   },
   {
    "duration": 22,
    "start_time": "2022-09-28T19:50:55.641Z"
   },
   {
    "duration": 162,
    "start_time": "2022-09-28T19:50:55.665Z"
   },
   {
    "duration": 193,
    "start_time": "2022-09-28T19:50:55.829Z"
   },
   {
    "duration": 115,
    "start_time": "2022-09-28T19:50:56.024Z"
   },
   {
    "duration": 6,
    "start_time": "2022-09-28T19:50:56.141Z"
   },
   {
    "duration": 14,
    "start_time": "2022-09-28T19:50:56.149Z"
   },
   {
    "duration": 8,
    "start_time": "2022-09-28T19:50:56.165Z"
   },
   {
    "duration": 8,
    "start_time": "2022-09-28T19:50:56.175Z"
   },
   {
    "duration": 9,
    "start_time": "2022-09-28T19:50:56.185Z"
   },
   {
    "duration": 11,
    "start_time": "2022-09-28T19:50:56.196Z"
   },
   {
    "duration": 17,
    "start_time": "2022-09-28T19:50:56.210Z"
   },
   {
    "duration": 9,
    "start_time": "2022-09-28T19:50:56.229Z"
   },
   {
    "duration": 8,
    "start_time": "2022-09-28T19:50:56.240Z"
   },
   {
    "duration": 16,
    "start_time": "2022-09-28T19:50:56.255Z"
   },
   {
    "duration": 10,
    "start_time": "2022-09-28T19:50:56.272Z"
   },
   {
    "duration": 8,
    "start_time": "2022-09-28T19:50:56.284Z"
   },
   {
    "duration": 12,
    "start_time": "2022-09-28T19:50:56.293Z"
   },
   {
    "duration": 17,
    "start_time": "2022-09-28T19:50:56.307Z"
   },
   {
    "duration": 10,
    "start_time": "2022-09-28T19:50:56.325Z"
   },
   {
    "duration": 1749,
    "start_time": "2022-09-28T19:50:56.337Z"
   },
   {
    "duration": 1721,
    "start_time": "2022-09-28T19:50:58.087Z"
   },
   {
    "duration": 1729,
    "start_time": "2022-09-28T19:50:59.809Z"
   },
   {
    "duration": 5,
    "start_time": "2022-09-28T19:51:01.539Z"
   },
   {
    "duration": 11,
    "start_time": "2022-09-28T19:51:01.546Z"
   },
   {
    "duration": 18,
    "start_time": "2022-09-28T19:51:01.558Z"
   },
   {
    "duration": 22,
    "start_time": "2022-09-28T19:51:01.577Z"
   },
   {
    "duration": 33,
    "start_time": "2022-09-28T19:51:01.602Z"
   },
   {
    "duration": 41,
    "start_time": "2022-09-28T19:51:01.637Z"
   },
   {
    "duration": 21,
    "start_time": "2022-09-28T19:51:01.679Z"
   }
  ],
  "kernelspec": {
   "display_name": "Python 3 (ipykernel)",
   "language": "python",
   "name": "python3"
  },
  "language_info": {
   "codemirror_mode": {
    "name": "ipython",
    "version": 3
   },
   "file_extension": ".py",
   "mimetype": "text/x-python",
   "name": "python",
   "nbconvert_exporter": "python",
   "pygments_lexer": "ipython3",
   "version": "3.9.12"
  },
  "toc": {
   "base_numbering": 1,
   "nav_menu": {},
   "number_sections": true,
   "sideBar": true,
   "skip_h1_title": true,
   "title_cell": "Table of Contents",
   "title_sidebar": "Contents",
   "toc_cell": false,
   "toc_position": {
    "height": "calc(100% - 180px)",
    "left": "10px",
    "top": "150px",
    "width": "437.306px"
   },
   "toc_section_display": true,
   "toc_window_display": true
  }
 },
 "nbformat": 4,
 "nbformat_minor": 2
}
