{
 "cells": [
  {
   "cell_type": "markdown",
   "metadata": {},
   "source": [
    "# Car price rating"
   ]
  },
  {
   "cell_type": "markdown",
   "metadata": {},
   "source": [
    "Service for the sale of used cars \"Not beaten, not beautiful\" is developing an application to attract new customers. In it, you can quickly find out the market value of your car. At your disposal are historical data: technical specifications, equipment and prices of cars. You need to build a model to determine the cost.\n",
    "\n",
    "The customer is want to see:\n",
    "\n",
    "- quality of prediction;\n",
    "- prediction speed;\n",
    "- studying time."
   ]
  },
  {
   "cell_type": "markdown",
   "metadata": {},
   "source": [
    "## Import all necessary"
   ]
  },
  {
   "cell_type": "code",
   "execution_count": 57,
   "metadata": {},
   "outputs": [],
   "source": [
    "import pandas as pd\n",
    "import seaborn as sns\n",
    "import numpy as np\n",
    "from sklearn.model_selection import train_test_split\n",
    "from sklearn.preprocessing import OrdinalEncoder\n",
    "from sklearn.preprocessing import StandardScaler\n",
    "import lightgbm as lgb\n",
    "from sklearn.metrics import mean_squared_error\n",
    "from catboost import CatBoostRegressor\n",
    "from sklearn.ensemble import RandomForestRegressor\n",
    "import matplotlib.pyplot as plt\n",
    "\n",
    "state = 12345\n",
    "import warnings\n",
    "warnings.filterwarnings('ignore')"
   ]
  },
  {
   "cell_type": "markdown",
   "metadata": {},
   "source": [
    "## Data preparation"
   ]
  },
  {
   "cell_type": "code",
   "execution_count": 58,
   "metadata": {},
   "outputs": [
    {
     "data": {
      "text/html": [
       "<div>\n",
       "<style scoped>\n",
       "    .dataframe tbody tr th:only-of-type {\n",
       "        vertical-align: middle;\n",
       "    }\n",
       "\n",
       "    .dataframe tbody tr th {\n",
       "        vertical-align: top;\n",
       "    }\n",
       "\n",
       "    .dataframe thead th {\n",
       "        text-align: right;\n",
       "    }\n",
       "</style>\n",
       "<table border=\"1\" class=\"dataframe\">\n",
       "  <thead>\n",
       "    <tr style=\"text-align: right;\">\n",
       "      <th></th>\n",
       "      <th>DateCrawled</th>\n",
       "      <th>Price</th>\n",
       "      <th>VehicleType</th>\n",
       "      <th>RegistrationYear</th>\n",
       "      <th>Gearbox</th>\n",
       "      <th>Power</th>\n",
       "      <th>Model</th>\n",
       "      <th>Kilometer</th>\n",
       "      <th>RegistrationMonth</th>\n",
       "      <th>FuelType</th>\n",
       "      <th>Brand</th>\n",
       "      <th>Repaired</th>\n",
       "      <th>DateCreated</th>\n",
       "      <th>NumberOfPictures</th>\n",
       "      <th>PostalCode</th>\n",
       "      <th>LastSeen</th>\n",
       "    </tr>\n",
       "  </thead>\n",
       "  <tbody>\n",
       "    <tr>\n",
       "      <th>0</th>\n",
       "      <td>2016-03-24 11:52:17</td>\n",
       "      <td>480</td>\n",
       "      <td>NaN</td>\n",
       "      <td>1993</td>\n",
       "      <td>manual</td>\n",
       "      <td>0</td>\n",
       "      <td>golf</td>\n",
       "      <td>150000</td>\n",
       "      <td>0</td>\n",
       "      <td>petrol</td>\n",
       "      <td>volkswagen</td>\n",
       "      <td>NaN</td>\n",
       "      <td>2016-03-24 00:00:00</td>\n",
       "      <td>0</td>\n",
       "      <td>70435</td>\n",
       "      <td>2016-04-07 03:16:57</td>\n",
       "    </tr>\n",
       "    <tr>\n",
       "      <th>1</th>\n",
       "      <td>2016-03-24 10:58:45</td>\n",
       "      <td>18300</td>\n",
       "      <td>coupe</td>\n",
       "      <td>2011</td>\n",
       "      <td>manual</td>\n",
       "      <td>190</td>\n",
       "      <td>NaN</td>\n",
       "      <td>125000</td>\n",
       "      <td>5</td>\n",
       "      <td>gasoline</td>\n",
       "      <td>audi</td>\n",
       "      <td>yes</td>\n",
       "      <td>2016-03-24 00:00:00</td>\n",
       "      <td>0</td>\n",
       "      <td>66954</td>\n",
       "      <td>2016-04-07 01:46:50</td>\n",
       "    </tr>\n",
       "    <tr>\n",
       "      <th>2</th>\n",
       "      <td>2016-03-14 12:52:21</td>\n",
       "      <td>9800</td>\n",
       "      <td>suv</td>\n",
       "      <td>2004</td>\n",
       "      <td>auto</td>\n",
       "      <td>163</td>\n",
       "      <td>grand</td>\n",
       "      <td>125000</td>\n",
       "      <td>8</td>\n",
       "      <td>gasoline</td>\n",
       "      <td>jeep</td>\n",
       "      <td>NaN</td>\n",
       "      <td>2016-03-14 00:00:00</td>\n",
       "      <td>0</td>\n",
       "      <td>90480</td>\n",
       "      <td>2016-04-05 12:47:46</td>\n",
       "    </tr>\n",
       "    <tr>\n",
       "      <th>3</th>\n",
       "      <td>2016-03-17 16:54:04</td>\n",
       "      <td>1500</td>\n",
       "      <td>small</td>\n",
       "      <td>2001</td>\n",
       "      <td>manual</td>\n",
       "      <td>75</td>\n",
       "      <td>golf</td>\n",
       "      <td>150000</td>\n",
       "      <td>6</td>\n",
       "      <td>petrol</td>\n",
       "      <td>volkswagen</td>\n",
       "      <td>no</td>\n",
       "      <td>2016-03-17 00:00:00</td>\n",
       "      <td>0</td>\n",
       "      <td>91074</td>\n",
       "      <td>2016-03-17 17:40:17</td>\n",
       "    </tr>\n",
       "    <tr>\n",
       "      <th>4</th>\n",
       "      <td>2016-03-31 17:25:20</td>\n",
       "      <td>3600</td>\n",
       "      <td>small</td>\n",
       "      <td>2008</td>\n",
       "      <td>manual</td>\n",
       "      <td>69</td>\n",
       "      <td>fabia</td>\n",
       "      <td>90000</td>\n",
       "      <td>7</td>\n",
       "      <td>gasoline</td>\n",
       "      <td>skoda</td>\n",
       "      <td>no</td>\n",
       "      <td>2016-03-31 00:00:00</td>\n",
       "      <td>0</td>\n",
       "      <td>60437</td>\n",
       "      <td>2016-04-06 10:17:21</td>\n",
       "    </tr>\n",
       "    <tr>\n",
       "      <th>...</th>\n",
       "      <td>...</td>\n",
       "      <td>...</td>\n",
       "      <td>...</td>\n",
       "      <td>...</td>\n",
       "      <td>...</td>\n",
       "      <td>...</td>\n",
       "      <td>...</td>\n",
       "      <td>...</td>\n",
       "      <td>...</td>\n",
       "      <td>...</td>\n",
       "      <td>...</td>\n",
       "      <td>...</td>\n",
       "      <td>...</td>\n",
       "      <td>...</td>\n",
       "      <td>...</td>\n",
       "      <td>...</td>\n",
       "    </tr>\n",
       "    <tr>\n",
       "      <th>354364</th>\n",
       "      <td>2016-03-21 09:50:58</td>\n",
       "      <td>0</td>\n",
       "      <td>NaN</td>\n",
       "      <td>2005</td>\n",
       "      <td>manual</td>\n",
       "      <td>0</td>\n",
       "      <td>colt</td>\n",
       "      <td>150000</td>\n",
       "      <td>7</td>\n",
       "      <td>petrol</td>\n",
       "      <td>mitsubishi</td>\n",
       "      <td>yes</td>\n",
       "      <td>2016-03-21 00:00:00</td>\n",
       "      <td>0</td>\n",
       "      <td>2694</td>\n",
       "      <td>2016-03-21 10:42:49</td>\n",
       "    </tr>\n",
       "    <tr>\n",
       "      <th>354365</th>\n",
       "      <td>2016-03-14 17:48:27</td>\n",
       "      <td>2200</td>\n",
       "      <td>NaN</td>\n",
       "      <td>2005</td>\n",
       "      <td>NaN</td>\n",
       "      <td>0</td>\n",
       "      <td>NaN</td>\n",
       "      <td>20000</td>\n",
       "      <td>1</td>\n",
       "      <td>NaN</td>\n",
       "      <td>sonstige_autos</td>\n",
       "      <td>NaN</td>\n",
       "      <td>2016-03-14 00:00:00</td>\n",
       "      <td>0</td>\n",
       "      <td>39576</td>\n",
       "      <td>2016-04-06 00:46:52</td>\n",
       "    </tr>\n",
       "    <tr>\n",
       "      <th>354366</th>\n",
       "      <td>2016-03-05 19:56:21</td>\n",
       "      <td>1199</td>\n",
       "      <td>convertible</td>\n",
       "      <td>2000</td>\n",
       "      <td>auto</td>\n",
       "      <td>101</td>\n",
       "      <td>fortwo</td>\n",
       "      <td>125000</td>\n",
       "      <td>3</td>\n",
       "      <td>petrol</td>\n",
       "      <td>smart</td>\n",
       "      <td>no</td>\n",
       "      <td>2016-03-05 00:00:00</td>\n",
       "      <td>0</td>\n",
       "      <td>26135</td>\n",
       "      <td>2016-03-11 18:17:12</td>\n",
       "    </tr>\n",
       "    <tr>\n",
       "      <th>354367</th>\n",
       "      <td>2016-03-19 18:57:12</td>\n",
       "      <td>9200</td>\n",
       "      <td>bus</td>\n",
       "      <td>1996</td>\n",
       "      <td>manual</td>\n",
       "      <td>102</td>\n",
       "      <td>transporter</td>\n",
       "      <td>150000</td>\n",
       "      <td>3</td>\n",
       "      <td>gasoline</td>\n",
       "      <td>volkswagen</td>\n",
       "      <td>no</td>\n",
       "      <td>2016-03-19 00:00:00</td>\n",
       "      <td>0</td>\n",
       "      <td>87439</td>\n",
       "      <td>2016-04-07 07:15:26</td>\n",
       "    </tr>\n",
       "    <tr>\n",
       "      <th>354368</th>\n",
       "      <td>2016-03-20 19:41:08</td>\n",
       "      <td>3400</td>\n",
       "      <td>wagon</td>\n",
       "      <td>2002</td>\n",
       "      <td>manual</td>\n",
       "      <td>100</td>\n",
       "      <td>golf</td>\n",
       "      <td>150000</td>\n",
       "      <td>6</td>\n",
       "      <td>gasoline</td>\n",
       "      <td>volkswagen</td>\n",
       "      <td>NaN</td>\n",
       "      <td>2016-03-20 00:00:00</td>\n",
       "      <td>0</td>\n",
       "      <td>40764</td>\n",
       "      <td>2016-03-24 12:45:21</td>\n",
       "    </tr>\n",
       "  </tbody>\n",
       "</table>\n",
       "<p>354369 rows × 16 columns</p>\n",
       "</div>"
      ],
      "text/plain": [
       "                DateCrawled  Price  VehicleType  RegistrationYear Gearbox  \\\n",
       "0       2016-03-24 11:52:17    480          NaN              1993  manual   \n",
       "1       2016-03-24 10:58:45  18300        coupe              2011  manual   \n",
       "2       2016-03-14 12:52:21   9800          suv              2004    auto   \n",
       "3       2016-03-17 16:54:04   1500        small              2001  manual   \n",
       "4       2016-03-31 17:25:20   3600        small              2008  manual   \n",
       "...                     ...    ...          ...               ...     ...   \n",
       "354364  2016-03-21 09:50:58      0          NaN              2005  manual   \n",
       "354365  2016-03-14 17:48:27   2200          NaN              2005     NaN   \n",
       "354366  2016-03-05 19:56:21   1199  convertible              2000    auto   \n",
       "354367  2016-03-19 18:57:12   9200          bus              1996  manual   \n",
       "354368  2016-03-20 19:41:08   3400        wagon              2002  manual   \n",
       "\n",
       "        Power        Model  Kilometer  RegistrationMonth  FuelType  \\\n",
       "0           0         golf     150000                  0    petrol   \n",
       "1         190          NaN     125000                  5  gasoline   \n",
       "2         163        grand     125000                  8  gasoline   \n",
       "3          75         golf     150000                  6    petrol   \n",
       "4          69        fabia      90000                  7  gasoline   \n",
       "...       ...          ...        ...                ...       ...   \n",
       "354364      0         colt     150000                  7    petrol   \n",
       "354365      0          NaN      20000                  1       NaN   \n",
       "354366    101       fortwo     125000                  3    petrol   \n",
       "354367    102  transporter     150000                  3  gasoline   \n",
       "354368    100         golf     150000                  6  gasoline   \n",
       "\n",
       "                 Brand Repaired          DateCreated  NumberOfPictures  \\\n",
       "0           volkswagen      NaN  2016-03-24 00:00:00                 0   \n",
       "1                 audi      yes  2016-03-24 00:00:00                 0   \n",
       "2                 jeep      NaN  2016-03-14 00:00:00                 0   \n",
       "3           volkswagen       no  2016-03-17 00:00:00                 0   \n",
       "4                skoda       no  2016-03-31 00:00:00                 0   \n",
       "...                ...      ...                  ...               ...   \n",
       "354364      mitsubishi      yes  2016-03-21 00:00:00                 0   \n",
       "354365  sonstige_autos      NaN  2016-03-14 00:00:00                 0   \n",
       "354366           smart       no  2016-03-05 00:00:00                 0   \n",
       "354367      volkswagen       no  2016-03-19 00:00:00                 0   \n",
       "354368      volkswagen      NaN  2016-03-20 00:00:00                 0   \n",
       "\n",
       "        PostalCode             LastSeen  \n",
       "0            70435  2016-04-07 03:16:57  \n",
       "1            66954  2016-04-07 01:46:50  \n",
       "2            90480  2016-04-05 12:47:46  \n",
       "3            91074  2016-03-17 17:40:17  \n",
       "4            60437  2016-04-06 10:17:21  \n",
       "...            ...                  ...  \n",
       "354364        2694  2016-03-21 10:42:49  \n",
       "354365       39576  2016-04-06 00:46:52  \n",
       "354366       26135  2016-03-11 18:17:12  \n",
       "354367       87439  2016-04-07 07:15:26  \n",
       "354368       40764  2016-03-24 12:45:21  \n",
       "\n",
       "[354369 rows x 16 columns]"
      ]
     },
     "execution_count": 58,
     "metadata": {},
     "output_type": "execute_result"
    }
   ],
   "source": [
    "data_raw = pd.read_csv('autos.csv')\n",
    "data_raw"
   ]
  },
  {
   "cell_type": "code",
   "execution_count": 59,
   "metadata": {},
   "outputs": [
    {
     "name": "stdout",
     "output_type": "stream",
     "text": [
      "<class 'pandas.core.frame.DataFrame'>\n",
      "RangeIndex: 354369 entries, 0 to 354368\n",
      "Data columns (total 16 columns):\n",
      " #   Column             Non-Null Count   Dtype \n",
      "---  ------             --------------   ----- \n",
      " 0   DateCrawled        354369 non-null  object\n",
      " 1   Price              354369 non-null  int64 \n",
      " 2   VehicleType        316879 non-null  object\n",
      " 3   RegistrationYear   354369 non-null  int64 \n",
      " 4   Gearbox            334536 non-null  object\n",
      " 5   Power              354369 non-null  int64 \n",
      " 6   Model              334664 non-null  object\n",
      " 7   Kilometer          354369 non-null  int64 \n",
      " 8   RegistrationMonth  354369 non-null  int64 \n",
      " 9   FuelType           321474 non-null  object\n",
      " 10  Brand              354369 non-null  object\n",
      " 11  Repaired           283215 non-null  object\n",
      " 12  DateCreated        354369 non-null  object\n",
      " 13  NumberOfPictures   354369 non-null  int64 \n",
      " 14  PostalCode         354369 non-null  int64 \n",
      " 15  LastSeen           354369 non-null  object\n",
      "dtypes: int64(7), object(9)\n",
      "memory usage: 43.3+ MB\n"
     ]
    }
   ],
   "source": [
    "data_raw.info()"
   ]
  },
  {
   "cell_type": "code",
   "execution_count": 60,
   "metadata": {},
   "outputs": [
    {
     "data": {
      "text/html": [
       "<div>\n",
       "<style scoped>\n",
       "    .dataframe tbody tr th:only-of-type {\n",
       "        vertical-align: middle;\n",
       "    }\n",
       "\n",
       "    .dataframe tbody tr th {\n",
       "        vertical-align: top;\n",
       "    }\n",
       "\n",
       "    .dataframe thead th {\n",
       "        text-align: right;\n",
       "    }\n",
       "</style>\n",
       "<table border=\"1\" class=\"dataframe\">\n",
       "  <thead>\n",
       "    <tr style=\"text-align: right;\">\n",
       "      <th></th>\n",
       "      <th>Price</th>\n",
       "      <th>RegistrationYear</th>\n",
       "      <th>Power</th>\n",
       "      <th>Kilometer</th>\n",
       "      <th>RegistrationMonth</th>\n",
       "      <th>NumberOfPictures</th>\n",
       "      <th>PostalCode</th>\n",
       "    </tr>\n",
       "  </thead>\n",
       "  <tbody>\n",
       "    <tr>\n",
       "      <th>count</th>\n",
       "      <td>354369.000000</td>\n",
       "      <td>354369.000000</td>\n",
       "      <td>354369.000000</td>\n",
       "      <td>354369.000000</td>\n",
       "      <td>354369.000000</td>\n",
       "      <td>354369.0</td>\n",
       "      <td>354369.000000</td>\n",
       "    </tr>\n",
       "    <tr>\n",
       "      <th>mean</th>\n",
       "      <td>4416.656776</td>\n",
       "      <td>2004.234448</td>\n",
       "      <td>110.094337</td>\n",
       "      <td>128211.172535</td>\n",
       "      <td>5.714645</td>\n",
       "      <td>0.0</td>\n",
       "      <td>50508.689087</td>\n",
       "    </tr>\n",
       "    <tr>\n",
       "      <th>std</th>\n",
       "      <td>4514.158514</td>\n",
       "      <td>90.227958</td>\n",
       "      <td>189.850405</td>\n",
       "      <td>37905.341530</td>\n",
       "      <td>3.726421</td>\n",
       "      <td>0.0</td>\n",
       "      <td>25783.096248</td>\n",
       "    </tr>\n",
       "    <tr>\n",
       "      <th>min</th>\n",
       "      <td>0.000000</td>\n",
       "      <td>1000.000000</td>\n",
       "      <td>0.000000</td>\n",
       "      <td>5000.000000</td>\n",
       "      <td>0.000000</td>\n",
       "      <td>0.0</td>\n",
       "      <td>1067.000000</td>\n",
       "    </tr>\n",
       "    <tr>\n",
       "      <th>25%</th>\n",
       "      <td>1050.000000</td>\n",
       "      <td>1999.000000</td>\n",
       "      <td>69.000000</td>\n",
       "      <td>125000.000000</td>\n",
       "      <td>3.000000</td>\n",
       "      <td>0.0</td>\n",
       "      <td>30165.000000</td>\n",
       "    </tr>\n",
       "    <tr>\n",
       "      <th>50%</th>\n",
       "      <td>2700.000000</td>\n",
       "      <td>2003.000000</td>\n",
       "      <td>105.000000</td>\n",
       "      <td>150000.000000</td>\n",
       "      <td>6.000000</td>\n",
       "      <td>0.0</td>\n",
       "      <td>49413.000000</td>\n",
       "    </tr>\n",
       "    <tr>\n",
       "      <th>75%</th>\n",
       "      <td>6400.000000</td>\n",
       "      <td>2008.000000</td>\n",
       "      <td>143.000000</td>\n",
       "      <td>150000.000000</td>\n",
       "      <td>9.000000</td>\n",
       "      <td>0.0</td>\n",
       "      <td>71083.000000</td>\n",
       "    </tr>\n",
       "    <tr>\n",
       "      <th>max</th>\n",
       "      <td>20000.000000</td>\n",
       "      <td>9999.000000</td>\n",
       "      <td>20000.000000</td>\n",
       "      <td>150000.000000</td>\n",
       "      <td>12.000000</td>\n",
       "      <td>0.0</td>\n",
       "      <td>99998.000000</td>\n",
       "    </tr>\n",
       "  </tbody>\n",
       "</table>\n",
       "</div>"
      ],
      "text/plain": [
       "               Price  RegistrationYear          Power      Kilometer  \\\n",
       "count  354369.000000     354369.000000  354369.000000  354369.000000   \n",
       "mean     4416.656776       2004.234448     110.094337  128211.172535   \n",
       "std      4514.158514         90.227958     189.850405   37905.341530   \n",
       "min         0.000000       1000.000000       0.000000    5000.000000   \n",
       "25%      1050.000000       1999.000000      69.000000  125000.000000   \n",
       "50%      2700.000000       2003.000000     105.000000  150000.000000   \n",
       "75%      6400.000000       2008.000000     143.000000  150000.000000   \n",
       "max     20000.000000       9999.000000   20000.000000  150000.000000   \n",
       "\n",
       "       RegistrationMonth  NumberOfPictures     PostalCode  \n",
       "count      354369.000000          354369.0  354369.000000  \n",
       "mean            5.714645               0.0   50508.689087  \n",
       "std             3.726421               0.0   25783.096248  \n",
       "min             0.000000               0.0    1067.000000  \n",
       "25%             3.000000               0.0   30165.000000  \n",
       "50%             6.000000               0.0   49413.000000  \n",
       "75%             9.000000               0.0   71083.000000  \n",
       "max            12.000000               0.0   99998.000000  "
      ]
     },
     "execution_count": 60,
     "metadata": {},
     "output_type": "execute_result"
    }
   ],
   "source": [
    "data_raw.describe()"
   ]
  },
  {
   "cell_type": "code",
   "execution_count": 61,
   "metadata": {},
   "outputs": [
    {
     "data": {
      "text/plain": [
       "array(['2016-03-24 11:52:17', '2016-03-24 10:58:45',\n",
       "       '2016-03-14 12:52:21', ..., '2016-03-21 09:50:58',\n",
       "       '2016-03-14 17:48:27', '2016-03-19 18:57:12'], dtype=object)"
      ]
     },
     "execution_count": 61,
     "metadata": {},
     "output_type": "execute_result"
    }
   ],
   "source": [
    "data_raw['DateCrawled'].unique()"
   ]
  },
  {
   "cell_type": "markdown",
   "metadata": {},
   "source": [
    "### Consider features and goals for training models"
   ]
  },
  {
   "cell_type": "markdown",
   "metadata": {},
   "source": [
    "#### Features"
   ]
  },
  {
   "cell_type": "markdown",
   "metadata": {},
   "source": [
    "- DateCrawled — the date of downloading the questionnaire from the database, this feature does not affect the cost, we will not consider it.\n",
    "- VehicleType - type of car body, categorical feature, there are gaps.\n",
    "- RegistrationYear - the year of registration of the car, a quantitative attribute, there are no gaps. There are strange values ​​​​of 1000 and 9999, they will have to be got rid of.\n",
    "- Gearbox - type of gearbox, categorical feature, there are omissions.\n",
    "- Power - power (hp), quantitative sign, no gaps. There are strange values ​​of 0, we need to get rid of them.\n",
    "- Model - car model, categorical feature, there are gaps.\n",
    "- Kilometer - mileage (km), quantitative sign, no passes.\n",
    "- RegistrationMonth - the month of registration of the car, a quantitative sign, no passes. There are strange values ​​of 0, we need to get rid of them.\n",
    "- FuelType — type of fuel, categorical feature, there are gaps.\n",
    "- Brand — car brand, categorical feature, no gaps.\n",
    "- Repaired - was the car under repair or not, a categorical sign, the most passes.\n",
    "- DateCreated — the date the questionnaire was created, this feature does not affect the cost, we will not consider it.\n",
    "- NumberOfPictures - the number of photos of the car, this attribute does not affect the cost, we will not consider it.\n",
    "- PostalCode - the postal code of the owner of the profile (user), this feature does not affect the cost, we will not consider it.\n",
    "- LastSeen - the date of the last user activity, this feature does not affect the cost, we will not consider it."
   ]
  },
  {
   "cell_type": "markdown",
   "metadata": {},
   "source": [
    "#### Target"
   ]
  },
  {
   "cell_type": "markdown",
   "metadata": {},
   "source": [
    "- Price — price (euro), quantity, no omissions. There are strange values of 0, we need to get rid of them."
   ]
  },
  {
   "cell_type": "markdown",
   "metadata": {},
   "source": [
    "### Data preprocessing"
   ]
  },
  {
   "cell_type": "markdown",
   "metadata": {},
   "source": [
    "#### Remove extra columns"
   ]
  },
  {
   "cell_type": "code",
   "execution_count": 62,
   "metadata": {},
   "outputs": [],
   "source": [
    "data = data_raw.drop(['DateCrawled', 'DateCreated', 'NumberOfPictures', 'PostalCode', 'LastSeen'], axis=1)"
   ]
  },
  {
   "cell_type": "code",
   "execution_count": 63,
   "metadata": {},
   "outputs": [
    {
     "data": {
      "text/html": [
       "<div>\n",
       "<style scoped>\n",
       "    .dataframe tbody tr th:only-of-type {\n",
       "        vertical-align: middle;\n",
       "    }\n",
       "\n",
       "    .dataframe tbody tr th {\n",
       "        vertical-align: top;\n",
       "    }\n",
       "\n",
       "    .dataframe thead th {\n",
       "        text-align: right;\n",
       "    }\n",
       "</style>\n",
       "<table border=\"1\" class=\"dataframe\">\n",
       "  <thead>\n",
       "    <tr style=\"text-align: right;\">\n",
       "      <th></th>\n",
       "      <th>Price</th>\n",
       "      <th>VehicleType</th>\n",
       "      <th>RegistrationYear</th>\n",
       "      <th>Gearbox</th>\n",
       "      <th>Power</th>\n",
       "      <th>Model</th>\n",
       "      <th>Kilometer</th>\n",
       "      <th>RegistrationMonth</th>\n",
       "      <th>FuelType</th>\n",
       "      <th>Brand</th>\n",
       "      <th>Repaired</th>\n",
       "    </tr>\n",
       "  </thead>\n",
       "  <tbody>\n",
       "    <tr>\n",
       "      <th>0</th>\n",
       "      <td>480</td>\n",
       "      <td>NaN</td>\n",
       "      <td>1993</td>\n",
       "      <td>manual</td>\n",
       "      <td>0</td>\n",
       "      <td>golf</td>\n",
       "      <td>150000</td>\n",
       "      <td>0</td>\n",
       "      <td>petrol</td>\n",
       "      <td>volkswagen</td>\n",
       "      <td>NaN</td>\n",
       "    </tr>\n",
       "    <tr>\n",
       "      <th>1</th>\n",
       "      <td>18300</td>\n",
       "      <td>coupe</td>\n",
       "      <td>2011</td>\n",
       "      <td>manual</td>\n",
       "      <td>190</td>\n",
       "      <td>NaN</td>\n",
       "      <td>125000</td>\n",
       "      <td>5</td>\n",
       "      <td>gasoline</td>\n",
       "      <td>audi</td>\n",
       "      <td>yes</td>\n",
       "    </tr>\n",
       "    <tr>\n",
       "      <th>2</th>\n",
       "      <td>9800</td>\n",
       "      <td>suv</td>\n",
       "      <td>2004</td>\n",
       "      <td>auto</td>\n",
       "      <td>163</td>\n",
       "      <td>grand</td>\n",
       "      <td>125000</td>\n",
       "      <td>8</td>\n",
       "      <td>gasoline</td>\n",
       "      <td>jeep</td>\n",
       "      <td>NaN</td>\n",
       "    </tr>\n",
       "    <tr>\n",
       "      <th>3</th>\n",
       "      <td>1500</td>\n",
       "      <td>small</td>\n",
       "      <td>2001</td>\n",
       "      <td>manual</td>\n",
       "      <td>75</td>\n",
       "      <td>golf</td>\n",
       "      <td>150000</td>\n",
       "      <td>6</td>\n",
       "      <td>petrol</td>\n",
       "      <td>volkswagen</td>\n",
       "      <td>no</td>\n",
       "    </tr>\n",
       "    <tr>\n",
       "      <th>4</th>\n",
       "      <td>3600</td>\n",
       "      <td>small</td>\n",
       "      <td>2008</td>\n",
       "      <td>manual</td>\n",
       "      <td>69</td>\n",
       "      <td>fabia</td>\n",
       "      <td>90000</td>\n",
       "      <td>7</td>\n",
       "      <td>gasoline</td>\n",
       "      <td>skoda</td>\n",
       "      <td>no</td>\n",
       "    </tr>\n",
       "  </tbody>\n",
       "</table>\n",
       "</div>"
      ],
      "text/plain": [
       "   Price VehicleType  RegistrationYear Gearbox  Power  Model  Kilometer  \\\n",
       "0    480         NaN              1993  manual      0   golf     150000   \n",
       "1  18300       coupe              2011  manual    190    NaN     125000   \n",
       "2   9800         suv              2004    auto    163  grand     125000   \n",
       "3   1500       small              2001  manual     75   golf     150000   \n",
       "4   3600       small              2008  manual     69  fabia      90000   \n",
       "\n",
       "   RegistrationMonth  FuelType       Brand Repaired  \n",
       "0                  0    petrol  volkswagen      NaN  \n",
       "1                  5  gasoline        audi      yes  \n",
       "2                  8  gasoline        jeep      NaN  \n",
       "3                  6    petrol  volkswagen       no  \n",
       "4                  7  gasoline       skoda       no  "
      ]
     },
     "execution_count": 63,
     "metadata": {},
     "output_type": "execute_result"
    }
   ],
   "source": [
    "data.head()"
   ]
  },
  {
   "cell_type": "markdown",
   "metadata": {},
   "source": [
    "#### Remove empty values"
   ]
  },
  {
   "cell_type": "markdown",
   "metadata": {},
   "source": [
    "We have empty values (nan) in the columns: VehicleType, Gearbox, Model, FuelType, Repaired. We could delete them, but we will lose a lot of other data, which is bad. Accordingly, it is possible to change empty values to a \"stub\", for example 'unknown', which in itself will be a value, not a gap, while it will additionally contribute to model training, since a gap in the car sale announcement affects the cost sales."
   ]
  },
  {
   "cell_type": "code",
   "execution_count": 64,
   "metadata": {},
   "outputs": [
    {
     "name": "stdout",
     "output_type": "stream",
     "text": [
      "<class 'pandas.core.frame.DataFrame'>\n",
      "RangeIndex: 354369 entries, 0 to 354368\n",
      "Data columns (total 11 columns):\n",
      " #   Column             Non-Null Count   Dtype \n",
      "---  ------             --------------   ----- \n",
      " 0   Price              354369 non-null  int64 \n",
      " 1   VehicleType        354369 non-null  object\n",
      " 2   RegistrationYear   354369 non-null  int64 \n",
      " 3   Gearbox            354369 non-null  object\n",
      " 4   Power              354369 non-null  int64 \n",
      " 5   Model              354369 non-null  object\n",
      " 6   Kilometer          354369 non-null  int64 \n",
      " 7   RegistrationMonth  354369 non-null  int64 \n",
      " 8   FuelType           354369 non-null  object\n",
      " 9   Brand              354369 non-null  object\n",
      " 10  Repaired           354369 non-null  object\n",
      "dtypes: int64(5), object(6)\n",
      "memory usage: 29.7+ MB\n"
     ]
    }
   ],
   "source": [
    "data[['VehicleType', 'Gearbox', 'Model', 'FuelType', 'Repaired']] = data[['VehicleType', \n",
    "                                                                          'Gearbox', \n",
    "                                                                          'Model', \n",
    "                                                                          'FuelType', \n",
    "                                                                          'Repaired']].fillna('unknown')\n",
    "data.info()"
   ]
  },
  {
   "cell_type": "markdown",
   "metadata": {},
   "source": [
    "#### Remove suspicious and strange values"
   ]
  },
  {
   "cell_type": "markdown",
   "metadata": {},
   "source": [
    "Price column"
   ]
  },
  {
   "cell_type": "code",
   "execution_count": 65,
   "metadata": {},
   "outputs": [],
   "source": [
    "# remove all null values\n",
    "data = data[data['Price'] > 50].reset_index(drop=True)"
   ]
  },
  {
   "cell_type": "markdown",
   "metadata": {},
   "source": [
    "RegistrationYear Column"
   ]
  },
  {
   "cell_type": "code",
   "execution_count": 66,
   "metadata": {},
   "outputs": [],
   "source": [
    "#remove all values that are weirdly above 2022 and weirdly below 1900 because it can't be.\n",
    "data = data[(data['RegistrationYear'] > 1900) & (data['RegistrationYear'] <= 2026)].reset_index(drop=True)\n",
    "data.loc[data['RegistrationYear'] >= 2017, 'RegistrationYear'] = data.loc[\n",
    "                                             data['RegistrationYear'] >= 2017, 'RegistrationYear'] - 10"
   ]
  },
  {
   "cell_type": "markdown",
   "metadata": {},
   "source": [
    "Power column"
   ]
  },
  {
   "cell_type": "code",
   "execution_count": 67,
   "metadata": {},
   "outputs": [
    {
     "data": {
      "text/plain": [
       "<AxesSubplot:xlabel='Power'>"
      ]
     },
     "execution_count": 67,
     "metadata": {},
     "output_type": "execute_result"
    },
    {
     "data": {
      "image/png": "[encoded data removed]",
      "text/plain": [
       "<Figure size 432x288 with 1 Axes>"
      ]
     },
     "metadata": {
      "needs_background": "light"
     },
     "output_type": "display_data"
    }
   ],
   "source": [
    "sns.boxplot (x = data['Power'])"
   ]
  },
  {
   "cell_type": "markdown",
   "metadata": {},
   "source": [
    "There are zero values in the Power column (not nan), and there are also values that are off scale, more than 1000 horsepower, which cannot be. Most likely an error occurred when entering data into the ad. You can divide the \"off scale\" values by 100, since here the error is clearly related to the fact that someone tried to add hundredths, but did not put a decimal separator."
   ]
  },
  {
   "cell_type": "code",
   "execution_count": 68,
   "metadata": {},
   "outputs": [
    {
     "data": {
      "text/plain": [
       "<AxesSubplot:xlabel='Power'>"
      ]
     },
     "execution_count": 68,
     "metadata": {},
     "output_type": "execute_result"
    },
    {
     "data": {
      "image/png": "[encoded data removed]",
      "text/plain": [
       "<Figure size 432x288 with 1 Axes>"
      ]
     },
     "metadata": {
      "needs_background": "light"
     },
     "output_type": "display_data"
    }
   ],
   "source": [
    "data.loc[data['Power'] >= 700, 'Power'] = data.loc[data['Power'] >= 700, 'Power'] / 100\n",
    "sns.boxplot (x = data['Power'])"
   ]
  },
  {
   "cell_type": "code",
   "execution_count": 69,
   "metadata": {},
   "outputs": [
    {
     "data": {
      "text/plain": [
       "35270"
      ]
     },
     "execution_count": 69,
     "metadata": {},
     "output_type": "execute_result"
    }
   ],
   "source": [
    "(data['Power'] == 0).sum()"
   ]
  },
  {
   "cell_type": "markdown",
   "metadata": {},
   "source": [
    "The main part of the machines we have turned out with capacities in the region of 100 hp, which is quite true. Values above 700 are also most likely a mistake, they were also divided by 100, since most city cars start at 70 hp. As for zero values, we will leave them as zeros, since there is nothing to replace them with, and deleting such a large number of values is bad."
   ]
  },
  {
   "cell_type": "markdown",
   "metadata": {},
   "source": [
    "RegistrationMonth Column"
   ]
  },
  {
   "cell_type": "code",
   "execution_count": 70,
   "metadata": {},
   "outputs": [
    {
     "data": {
      "text/plain": [
       "31818"
      ]
     },
     "execution_count": 70,
     "metadata": {},
     "output_type": "execute_result"
    }
   ],
   "source": [
    "(data['RegistrationMonth'] == 0).sum()"
   ]
  },
  {
   "cell_type": "markdown",
   "metadata": {},
   "source": [
    "There are too many values with a zero month of the posted announcement to simply remove them. You can replace the zero month with a random one."
   ]
  },
  {
   "cell_type": "code",
   "execution_count": 71,
   "metadata": {},
   "outputs": [],
   "source": [
    "def random_month(row):\n",
    "    month = row['RegistrationMonth']\n",
    "    if month == 0:\n",
    "        return np.random.randint(1, 12)\n",
    "    else:\n",
    "        return month\n",
    "    \n",
    "data['RegistrationMonth'] = data.apply(random_month, axis=1)"
   ]
  },
  {
   "cell_type": "code",
   "execution_count": 72,
   "metadata": {
    "scrolled": false
   },
   "outputs": [
    {
     "data": {
      "text/plain": [
       "array([ 7,  5,  8,  6, 10,  4, 12, 11,  2,  3,  1,  9], dtype=int64)"
      ]
     },
     "execution_count": 72,
     "metadata": {},
     "output_type": "execute_result"
    }
   ],
   "source": [
    "data['RegistrationMonth'].unique()"
   ]
  },
  {
   "cell_type": "markdown",
   "metadata": {},
   "source": [
    "#### Check duplicates"
   ]
  },
  {
   "cell_type": "code",
   "execution_count": 73,
   "metadata": {
    "scrolled": true
   },
   "outputs": [
    {
     "data": {
      "text/plain": [
       "24820"
      ]
     },
     "execution_count": 73,
     "metadata": {},
     "output_type": "execute_result"
    }
   ],
   "source": [
    "data.duplicated().sum()"
   ]
  },
  {
   "cell_type": "markdown",
   "metadata": {},
   "source": [
    "Let's try to remove duplicates and see how much data we have left after all the preprocessing steps."
   ]
  },
  {
   "cell_type": "code",
   "execution_count": 74,
   "metadata": {},
   "outputs": [
    {
     "name": "stdout",
     "output_type": "stream",
     "text": [
      "After preprocessing we have lost around 4 % of data\n"
     ]
    }
   ],
   "source": [
    "data.drop_duplicates().reset_index(drop=True)\n",
    "deleted = ((data_raw.shape[0] - data.shape[0]) / data_raw.shape[0]) * 100\n",
    "print ('After preprocessing we have lost around', round (deleted), '% of data')"
   ]
  },
  {
   "cell_type": "markdown",
   "metadata": {},
   "source": [
    "### Intermediate output"
   ]
  },
  {
   "cell_type": "markdown",
   "metadata": {},
   "source": [
    "1. A new dataframe was created so as not to touch the original one.\n",
    "2. Features for learning and the target feature were considered.\n",
    "3. \"Extra\" columns were removed, which could interfere with the training of models.\n",
    "4. Empty (nan) values have been removed or changed.\n",
    "5. Strange and suspicious values have been removed or changed.\n",
    "6. Duplicate lines have been removed.\n",
    "7. Data loss after all procedures was 4%, which is acceptable."
   ]
  },
  {
   "cell_type": "markdown",
   "metadata": {},
   "source": [
    "## Model training"
   ]
  },
  {
   "cell_type": "markdown",
   "metadata": {},
   "source": [
    "### Highlight features and targets"
   ]
  },
  {
   "cell_type": "markdown",
   "metadata": {},
   "source": [
    "#### Define categorical and quantitative features into variables"
   ]
  },
  {
   "cell_type": "code",
   "execution_count": 75,
   "metadata": {},
   "outputs": [],
   "source": [
    "categorical = ['VehicleType', 'Gearbox', 'Model', 'FuelType', 'Brand', 'Repaired']\n",
    "quantitive = ['Power', 'RegistrationYear', 'Kilometer', 'RegistrationMonth']"
   ]
  },
  {
   "cell_type": "markdown",
   "metadata": {},
   "source": [
    "#### Encode categorical features using the Ordinal Encoding"
   ]
  },
  {
   "cell_type": "code",
   "execution_count": 76,
   "metadata": {
    "scrolled": true
   },
   "outputs": [],
   "source": [
    "encoder = OrdinalEncoder()\n",
    "data[categorical] = pd.DataFrame(encoder.fit_transform(data[categorical]), columns = categorical)\n"
   ]
  },
  {
   "cell_type": "code",
   "execution_count": 77,
   "metadata": {},
   "outputs": [
    {
     "data": {
      "text/html": [
       "<div>\n",
       "<style scoped>\n",
       "    .dataframe tbody tr th:only-of-type {\n",
       "        vertical-align: middle;\n",
       "    }\n",
       "\n",
       "    .dataframe tbody tr th {\n",
       "        vertical-align: top;\n",
       "    }\n",
       "\n",
       "    .dataframe thead th {\n",
       "        text-align: right;\n",
       "    }\n",
       "</style>\n",
       "<table border=\"1\" class=\"dataframe\">\n",
       "  <thead>\n",
       "    <tr style=\"text-align: right;\">\n",
       "      <th></th>\n",
       "      <th>Price</th>\n",
       "      <th>VehicleType</th>\n",
       "      <th>RegistrationYear</th>\n",
       "      <th>Gearbox</th>\n",
       "      <th>Power</th>\n",
       "      <th>Model</th>\n",
       "      <th>Kilometer</th>\n",
       "      <th>RegistrationMonth</th>\n",
       "      <th>FuelType</th>\n",
       "      <th>Brand</th>\n",
       "      <th>Repaired</th>\n",
       "    </tr>\n",
       "  </thead>\n",
       "  <tbody>\n",
       "    <tr>\n",
       "      <th>0</th>\n",
       "      <td>480</td>\n",
       "      <td>7.0</td>\n",
       "      <td>1993</td>\n",
       "      <td>1.0</td>\n",
       "      <td>0.0</td>\n",
       "      <td>116.0</td>\n",
       "      <td>150000</td>\n",
       "      <td>7</td>\n",
       "      <td>6.0</td>\n",
       "      <td>38.0</td>\n",
       "      <td>1.0</td>\n",
       "    </tr>\n",
       "    <tr>\n",
       "      <th>1</th>\n",
       "      <td>18300</td>\n",
       "      <td>2.0</td>\n",
       "      <td>2011</td>\n",
       "      <td>1.0</td>\n",
       "      <td>190.0</td>\n",
       "      <td>228.0</td>\n",
       "      <td>125000</td>\n",
       "      <td>5</td>\n",
       "      <td>2.0</td>\n",
       "      <td>1.0</td>\n",
       "      <td>2.0</td>\n",
       "    </tr>\n",
       "    <tr>\n",
       "      <th>2</th>\n",
       "      <td>9800</td>\n",
       "      <td>6.0</td>\n",
       "      <td>2004</td>\n",
       "      <td>0.0</td>\n",
       "      <td>163.0</td>\n",
       "      <td>117.0</td>\n",
       "      <td>125000</td>\n",
       "      <td>8</td>\n",
       "      <td>2.0</td>\n",
       "      <td>14.0</td>\n",
       "      <td>1.0</td>\n",
       "    </tr>\n",
       "    <tr>\n",
       "      <th>3</th>\n",
       "      <td>1500</td>\n",
       "      <td>5.0</td>\n",
       "      <td>2001</td>\n",
       "      <td>1.0</td>\n",
       "      <td>75.0</td>\n",
       "      <td>116.0</td>\n",
       "      <td>150000</td>\n",
       "      <td>6</td>\n",
       "      <td>6.0</td>\n",
       "      <td>38.0</td>\n",
       "      <td>0.0</td>\n",
       "    </tr>\n",
       "    <tr>\n",
       "      <th>4</th>\n",
       "      <td>3600</td>\n",
       "      <td>5.0</td>\n",
       "      <td>2008</td>\n",
       "      <td>1.0</td>\n",
       "      <td>69.0</td>\n",
       "      <td>101.0</td>\n",
       "      <td>90000</td>\n",
       "      <td>7</td>\n",
       "      <td>2.0</td>\n",
       "      <td>31.0</td>\n",
       "      <td>0.0</td>\n",
       "    </tr>\n",
       "  </tbody>\n",
       "</table>\n",
       "</div>"
      ],
      "text/plain": [
       "   Price  VehicleType  RegistrationYear  Gearbox  Power  Model  Kilometer  \\\n",
       "0    480          7.0              1993      1.0    0.0  116.0     150000   \n",
       "1  18300          2.0              2011      1.0  190.0  228.0     125000   \n",
       "2   9800          6.0              2004      0.0  163.0  117.0     125000   \n",
       "3   1500          5.0              2001      1.0   75.0  116.0     150000   \n",
       "4   3600          5.0              2008      1.0   69.0  101.0      90000   \n",
       "\n",
       "   RegistrationMonth  FuelType  Brand  Repaired  \n",
       "0                  7       6.0   38.0       1.0  \n",
       "1                  5       2.0    1.0       2.0  \n",
       "2                  8       2.0   14.0       1.0  \n",
       "3                  6       6.0   38.0       0.0  \n",
       "4                  7       2.0   31.0       0.0  "
      ]
     },
     "execution_count": 77,
     "metadata": {},
     "output_type": "execute_result"
    }
   ],
   "source": [
    "data.head()"
   ]
  },
  {
   "cell_type": "markdown",
   "metadata": {},
   "source": [
    "#### Divide samples"
   ]
  },
  {
   "cell_type": "code",
   "execution_count": 78,
   "metadata": {},
   "outputs": [],
   "source": [
    "target = data['Price']\n",
    "features = data.drop(['Price'], axis=1)\n",
    "features_train, features_valid, target_train, target_valid = train_test_split(\n",
    "    features, target, test_size=0.4, random_state = state)"
   ]
  },
  {
   "cell_type": "markdown",
   "metadata": {},
   "source": [
    "Separate the test sample"
   ]
  },
  {
   "cell_type": "code",
   "execution_count": 79,
   "metadata": {},
   "outputs": [],
   "source": [
    "features_valid, features_test, target_valid, target_test = train_test_split(\n",
    "    features_valid, target_valid, test_size=0.5, random_state = state)"
   ]
  },
  {
   "cell_type": "markdown",
   "metadata": {},
   "source": [
    "#### Scale numerical features"
   ]
  },
  {
   "cell_type": "code",
   "execution_count": 80,
   "metadata": {},
   "outputs": [],
   "source": [
    "scaler = StandardScaler()\n",
    "scaler.fit(features_train[quantitive])\n",
    "features_train[quantitive] = scaler.transform(features_train[quantitive])\n",
    "features_valid[quantitive] = scaler.transform(features_valid[quantitive])\n",
    "features_test[quantitive] = scaler.transform(features_test[quantitive])"
   ]
  },
  {
   "cell_type": "markdown",
   "metadata": {},
   "source": [
    "### Train the LightGBM Model"
   ]
  },
  {
   "cell_type": "code",
   "execution_count": 81,
   "metadata": {},
   "outputs": [],
   "source": [
    "lgb_train = lgb.Dataset(features_train, target_train)\n",
    "lgb_eval = lgb.Dataset(features_valid, target_valid, reference = lgb_train)"
   ]
  },
  {
   "cell_type": "markdown",
   "metadata": {},
   "source": [
    "#### First Hyperparameter Option"
   ]
  },
  {
   "cell_type": "markdown",
   "metadata": {},
   "source": [
    "Parameters for LightGBM"
   ]
  },
  {
   "cell_type": "code",
   "execution_count": 82,
   "metadata": {},
   "outputs": [],
   "source": [
    "params = {\n",
    "    'boosting_type': 'gbdt',\n",
    "    'objective': 'regression',\n",
    "    'metric': {'rmse'},\n",
    "    'num_leaves': 31,\n",
    "    'learning_rate': 0.05,\n",
    "    'feature_fraction': 0.9,\n",
    "    'bagging_fraction': 0.8,\n",
    "    'bagging_freq': 5,\n",
    "    'verbose': 0,\n",
    "    'force_col_wise' : True\n",
    "}"
   ]
  },
  {
   "cell_type": "markdown",
   "metadata": {},
   "source": [
    "Check the learning time"
   ]
  },
  {
   "cell_type": "code",
   "execution_count": 83,
   "metadata": {
    "scrolled": false
   },
   "outputs": [
    {
     "name": "stdout",
     "output_type": "stream",
     "text": [
      "[1]\tvalid_0's rmse: 4367.52\n",
      "Training until validation scores don't improve for 5 rounds\n",
      "[2]\tvalid_0's rmse: 4245.62\n",
      "[3]\tvalid_0's rmse: 4104.07\n",
      "[4]\tvalid_0's rmse: 3970.69\n",
      "[5]\tvalid_0's rmse: 3846.81\n",
      "[6]\tvalid_0's rmse: 3730.49\n",
      "[7]\tvalid_0's rmse: 3630.74\n",
      "[8]\tvalid_0's rmse: 3528.05\n",
      "[9]\tvalid_0's rmse: 3430.31\n",
      "[10]\tvalid_0's rmse: 3340.3\n",
      "[11]\tvalid_0's rmse: 3255.44\n",
      "[12]\tvalid_0's rmse: 3177.26\n",
      "[13]\tvalid_0's rmse: 3103.48\n",
      "[14]\tvalid_0's rmse: 3035.18\n",
      "[15]\tvalid_0's rmse: 2970.9\n",
      "[16]\tvalid_0's rmse: 2911.59\n",
      "[17]\tvalid_0's rmse: 2860\n",
      "[18]\tvalid_0's rmse: 2806.52\n",
      "[19]\tvalid_0's rmse: 2757.3\n",
      "[20]\tvalid_0's rmse: 2711.1\n",
      "[21]\tvalid_0's rmse: 2666\n",
      "[22]\tvalid_0's rmse: 2623.73\n",
      "[23]\tvalid_0's rmse: 2584.17\n",
      "[24]\tvalid_0's rmse: 2545.14\n",
      "[25]\tvalid_0's rmse: 2510.39\n",
      "[26]\tvalid_0's rmse: 2478.25\n",
      "[27]\tvalid_0's rmse: 2448.78\n",
      "[28]\tvalid_0's rmse: 2419.61\n",
      "[29]\tvalid_0's rmse: 2393.07\n",
      "[30]\tvalid_0's rmse: 2367.03\n",
      "[31]\tvalid_0's rmse: 2343.04\n",
      "[32]\tvalid_0's rmse: 2320.36\n",
      "[33]\tvalid_0's rmse: 2299.86\n",
      "[34]\tvalid_0's rmse: 2280.32\n",
      "[35]\tvalid_0's rmse: 2261.8\n",
      "[36]\tvalid_0's rmse: 2242.8\n",
      "[37]\tvalid_0's rmse: 2225.72\n",
      "[38]\tvalid_0's rmse: 2209.55\n",
      "[39]\tvalid_0's rmse: 2195.26\n",
      "[40]\tvalid_0's rmse: 2181.56\n",
      "Did not meet early stopping. Best iteration is:\n",
      "[40]\tvalid_0's rmse: 2181.56\n",
      "CPU times: total: 5.2 s\n",
      "Wall time: 488 ms\n"
     ]
    }
   ],
   "source": [
    "%%time\n",
    "lgb_1 = lgb.train(params,\n",
    "                  lgb_train,\n",
    "                  num_boost_round = 40,\n",
    "                  valid_sets = lgb_eval,\n",
    "                  early_stopping_rounds = 5)"
   ]
  },
  {
   "cell_type": "markdown",
   "metadata": {},
   "source": [
    "Check the prediction time"
   ]
  },
  {
   "cell_type": "code",
   "execution_count": 84,
   "metadata": {},
   "outputs": [
    {
     "name": "stdout",
     "output_type": "stream",
     "text": [
      "RMSE для lgb_1: 2181.56\n",
      "CPU times: total: 375 ms\n",
      "Wall time: 40.9 ms\n"
     ]
    }
   ],
   "source": [
    "%%time\n",
    "target_pred = lgb_1.predict(features_valid, num_iteration = lgb_1.best_iteration)\n",
    "RMSE_lgb_1 = mean_squared_error(target_valid, target_pred) ** 0.5\n",
    "print('RMSE для lgb_1:', round (RMSE_lgb_1, 2))"
   ]
  },
  {
   "cell_type": "markdown",
   "metadata": {},
   "source": [
    "#### Second hyperparameters option"
   ]
  },
  {
   "cell_type": "markdown",
   "metadata": {},
   "source": [
    "Change this:\n",
    "- num_leaves: 40\n",
    "- max_depth: 10\n",
    "- min_data_in_leaf: 50"
   ]
  },
  {
   "cell_type": "code",
   "execution_count": 85,
   "metadata": {},
   "outputs": [],
   "source": [
    "params = {\n",
    "    'boosting_type': 'gbdt',\n",
    "    'objective': 'regression',\n",
    "    'metric': {'rmse'},\n",
    "    'num_leaves': 40,\n",
    "    'learning_rate': 0.05,\n",
    "    'feature_fraction': 0.9,\n",
    "    'bagging_fraction': 0.8,\n",
    "    'bagging_freq': 5,\n",
    "    'verbose': 0,\n",
    "    'force_col_wise' : True,\n",
    "    'max_depth': 10,\n",
    "    'min_data_in_leaf': 50\n",
    "}"
   ]
  },
  {
   "cell_type": "code",
   "execution_count": 86,
   "metadata": {
    "scrolled": false
   },
   "outputs": [
    {
     "name": "stdout",
     "output_type": "stream",
     "text": [
      "[1]\tvalid_0's rmse: 4364.81\n",
      "Training until validation scores don't improve for 5 rounds\n",
      "[2]\tvalid_0's rmse: 4240.05\n",
      "[3]\tvalid_0's rmse: 4095.93\n",
      "[4]\tvalid_0's rmse: 3961.78\n",
      "[5]\tvalid_0's rmse: 3835.56\n",
      "[6]\tvalid_0's rmse: 3717.02\n",
      "[7]\tvalid_0's rmse: 3614.67\n",
      "[8]\tvalid_0's rmse: 3509.8\n",
      "[9]\tvalid_0's rmse: 3410.76\n",
      "[10]\tvalid_0's rmse: 3318.06\n",
      "[11]\tvalid_0's rmse: 3232.08\n",
      "[12]\tvalid_0's rmse: 3151.96\n",
      "[13]\tvalid_0's rmse: 3076.72\n",
      "[14]\tvalid_0's rmse: 3006.77\n",
      "[15]\tvalid_0's rmse: 2941.04\n",
      "[16]\tvalid_0's rmse: 2880.31\n",
      "[17]\tvalid_0's rmse: 2827.32\n",
      "[18]\tvalid_0's rmse: 2772.89\n",
      "[19]\tvalid_0's rmse: 2723.19\n",
      "[20]\tvalid_0's rmse: 2675.84\n",
      "[21]\tvalid_0's rmse: 2630.45\n",
      "[22]\tvalid_0's rmse: 2589.14\n",
      "[23]\tvalid_0's rmse: 2550.66\n",
      "[24]\tvalid_0's rmse: 2512.75\n",
      "[25]\tvalid_0's rmse: 2477.21\n",
      "[26]\tvalid_0's rmse: 2443.52\n",
      "[27]\tvalid_0's rmse: 2412.86\n",
      "[28]\tvalid_0's rmse: 2383.43\n",
      "[29]\tvalid_0's rmse: 2355.42\n",
      "[30]\tvalid_0's rmse: 2330.09\n",
      "[31]\tvalid_0's rmse: 2306.83\n",
      "[32]\tvalid_0's rmse: 2284.46\n",
      "[33]\tvalid_0's rmse: 2263.27\n",
      "[34]\tvalid_0's rmse: 2244.15\n",
      "[35]\tvalid_0's rmse: 2226.18\n",
      "[36]\tvalid_0's rmse: 2207.75\n",
      "[37]\tvalid_0's rmse: 2190.5\n",
      "[38]\tvalid_0's rmse: 2174.29\n",
      "[39]\tvalid_0's rmse: 2159.74\n",
      "[40]\tvalid_0's rmse: 2145.41\n",
      "Did not meet early stopping. Best iteration is:\n",
      "[40]\tvalid_0's rmse: 2145.41\n",
      "CPU times: total: 5 s\n",
      "Wall time: 454 ms\n"
     ]
    }
   ],
   "source": [
    "%%time\n",
    "lgb_2 = lgb.train(params,\n",
    "                     lgb_train,\n",
    "                     num_boost_round = 40,\n",
    "                     valid_sets = lgb_eval,\n",
    "                     early_stopping_rounds = 5)"
   ]
  },
  {
   "cell_type": "code",
   "execution_count": 87,
   "metadata": {},
   "outputs": [
    {
     "name": "stdout",
     "output_type": "stream",
     "text": [
      "RMSE для lgb_2: 2145.41\n",
      "CPU times: total: 344 ms\n",
      "Wall time: 42.9 ms\n"
     ]
    }
   ],
   "source": [
    "%%time\n",
    "target_pred = lgb_2.predict(features_valid, num_iteration = lgb_2.best_iteration)\n",
    "RMSE_lgb_2 = mean_squared_error(target_valid, target_pred) ** 0.5\n",
    "print('RMSE для lgb_2:', round (RMSE_lgb_2, 2))"
   ]
  },
  {
   "cell_type": "markdown",
   "metadata": {},
   "source": [
    "#### Third hyperparameter option"
   ]
  },
  {
   "cell_type": "markdown",
   "metadata": {},
   "source": [
    "Change this:\n",
    "- num_leaves: 20\n",
    "- max_depth: 20\n",
    "- min_data_in_leaf: 30\n",
    "- num_iterations: 30"
   ]
  },
  {
   "cell_type": "code",
   "execution_count": 88,
   "metadata": {},
   "outputs": [],
   "source": [
    "params = {\n",
    "    'boosting_type': 'gbdt',\n",
    "    'objective': 'regression',\n",
    "    'metric': {'rmse'},\n",
    "    'num_leaves': 20,\n",
    "    'learning_rate': 0.05,\n",
    "    'feature_fraction': 0.9,\n",
    "    'bagging_fraction': 0.8,\n",
    "    'bagging_freq': 5,\n",
    "    'verbose': 0,\n",
    "    'force_col_wise' : True,\n",
    "    'max_depth': 20,\n",
    "    'min_data_in_leaf': 30,\n",
    "    'num_iterations': 30\n",
    "}"
   ]
  },
  {
   "cell_type": "code",
   "execution_count": 89,
   "metadata": {
    "scrolled": false
   },
   "outputs": [
    {
     "name": "stdout",
     "output_type": "stream",
     "text": [
      "[1]\tvalid_0's rmse: 4373.75\n",
      "Training until validation scores don't improve for 5 rounds\n",
      "[2]\tvalid_0's rmse: 4257.88\n",
      "[3]\tvalid_0's rmse: 4120.65\n",
      "[4]\tvalid_0's rmse: 3993.55\n",
      "[5]\tvalid_0's rmse: 3873.12\n",
      "[6]\tvalid_0's rmse: 3761.22\n",
      "[7]\tvalid_0's rmse: 3667.1\n",
      "[8]\tvalid_0's rmse: 3568.43\n",
      "[9]\tvalid_0's rmse: 3474.95\n",
      "[10]\tvalid_0's rmse: 3387.57\n",
      "[11]\tvalid_0's rmse: 3306.34\n",
      "[12]\tvalid_0's rmse: 3230.57\n",
      "[13]\tvalid_0's rmse: 3159.71\n",
      "[14]\tvalid_0's rmse: 3093.8\n",
      "[15]\tvalid_0's rmse: 3031.39\n",
      "[16]\tvalid_0's rmse: 2973.21\n",
      "[17]\tvalid_0's rmse: 2923.36\n",
      "[18]\tvalid_0's rmse: 2869.21\n",
      "[19]\tvalid_0's rmse: 2818.93\n",
      "[20]\tvalid_0's rmse: 2774.02\n",
      "[21]\tvalid_0's rmse: 2730\n",
      "[22]\tvalid_0's rmse: 2688.35\n",
      "[23]\tvalid_0's rmse: 2650.34\n",
      "[24]\tvalid_0's rmse: 2616.11\n",
      "[25]\tvalid_0's rmse: 2581.19\n",
      "[26]\tvalid_0's rmse: 2548.82\n",
      "[27]\tvalid_0's rmse: 2519.39\n",
      "[28]\tvalid_0's rmse: 2492.03\n",
      "[29]\tvalid_0's rmse: 2464.8\n",
      "[30]\tvalid_0's rmse: 2439.42\n",
      "Did not meet early stopping. Best iteration is:\n",
      "[30]\tvalid_0's rmse: 2439.42\n",
      "CPU times: total: 3.27 s\n",
      "Wall time: 299 ms\n"
     ]
    }
   ],
   "source": [
    "%%time\n",
    "lgb_3 = lgb.train(params,\n",
    "                  lgb_train,\n",
    "                  num_boost_round = 40,\n",
    "                  valid_sets = lgb_eval,\n",
    "                  early_stopping_rounds = 5)"
   ]
  },
  {
   "cell_type": "code",
   "execution_count": 90,
   "metadata": {},
   "outputs": [
    {
     "name": "stdout",
     "output_type": "stream",
     "text": [
      "RMSE для lgb_3: 2439.42\n",
      "CPU times: total: 344 ms\n",
      "Wall time: 39.9 ms\n"
     ]
    }
   ],
   "source": [
    "%%time\n",
    "target_pred = lgb_3.predict(features_valid, num_iteration = lgb_3.best_iteration)\n",
    "RMSE_lgb_3 = mean_squared_error(target_valid, target_pred) ** 0.5\n",
    "print('RMSE для lgb_3:', round (RMSE_lgb_3, 2))"
   ]
  },
  {
   "cell_type": "markdown",
   "metadata": {},
   "source": [
    "### Train the CatBoost Model"
   ]
  },
  {
   "cell_type": "markdown",
   "metadata": {},
   "source": [
    "#### First hyperparameter option"
   ]
  },
  {
   "cell_type": "markdown",
   "metadata": {},
   "source": [
    "Define the model parameters"
   ]
  },
  {
   "cell_type": "code",
   "execution_count": 91,
   "metadata": {},
   "outputs": [],
   "source": [
    "params = {'iterations': 30, \n",
    "          'eval_metric':'RMSE', \n",
    "          'verbose': 4,\n",
    "          'random_seed': 12345\n",
    "         }"
   ]
  },
  {
   "cell_type": "code",
   "execution_count": 92,
   "metadata": {},
   "outputs": [],
   "source": [
    "cb_1 = CatBoostRegressor(**params)"
   ]
  },
  {
   "cell_type": "markdown",
   "metadata": {},
   "source": [
    "Check the training time"
   ]
  },
  {
   "cell_type": "code",
   "execution_count": 93,
   "metadata": {},
   "outputs": [
    {
     "name": "stdout",
     "output_type": "stream",
     "text": [
      "Learning rate set to 0.5\n",
      "0:\tlearn: 3252.0661157\ttest: 3272.3493929\tbest: 3272.3493929 (0)\ttotal: 13.9ms\tremaining: 404ms\n",
      "4:\tlearn: 2206.3727073\ttest: 2220.8161784\tbest: 2220.8161784 (4)\ttotal: 56.6ms\tremaining: 283ms\n",
      "8:\tlearn: 2067.6114515\ttest: 2082.0597955\tbest: 2082.0597955 (8)\ttotal: 103ms\tremaining: 240ms\n",
      "12:\tlearn: 1985.6976951\ttest: 1995.9678956\tbest: 1995.9678956 (12)\ttotal: 148ms\tremaining: 193ms\n",
      "16:\tlearn: 1945.0808763\ttest: 1954.7609689\tbest: 1954.7609689 (16)\ttotal: 190ms\tremaining: 145ms\n",
      "20:\tlearn: 1911.4954711\ttest: 1921.8508895\tbest: 1921.8508895 (20)\ttotal: 236ms\tremaining: 101ms\n",
      "24:\tlearn: 1881.3195088\ttest: 1891.3681700\tbest: 1891.3681700 (24)\ttotal: 280ms\tremaining: 55.9ms\n",
      "28:\tlearn: 1857.1665735\ttest: 1869.9423359\tbest: 1869.9423359 (28)\ttotal: 327ms\tremaining: 11.3ms\n",
      "29:\tlearn: 1850.9808753\ttest: 1864.6987629\tbest: 1864.6987629 (29)\ttotal: 337ms\tremaining: 0us\n",
      "\n",
      "bestTest = 1864.698763\n",
      "bestIteration = 29\n",
      "\n",
      "CPU times: total: 4.14 s\n",
      "Wall time: 447 ms\n"
     ]
    },
    {
     "data": {
      "text/plain": [
       "<catboost.core.CatBoostRegressor at 0x20c860d9550>"
      ]
     },
     "execution_count": 93,
     "metadata": {},
     "output_type": "execute_result"
    }
   ],
   "source": [
    "%%time\n",
    "cb_1.fit(features_train, target_train, eval_set = (features_valid, target_valid))"
   ]
  },
  {
   "cell_type": "markdown",
   "metadata": {},
   "source": [
    "Check the prediction time"
   ]
  },
  {
   "cell_type": "code",
   "execution_count": 94,
   "metadata": {
    "scrolled": true
   },
   "outputs": [
    {
     "name": "stdout",
     "output_type": "stream",
     "text": [
      "RMSE для сb_1: 1864.7\n",
      "CPU times: total: 0 ns\n",
      "Wall time: 7.98 ms\n"
     ]
    }
   ],
   "source": [
    "%%time\n",
    "target_pred = cb_1.predict(features_valid)\n",
    "RMSE_сb_1 = mean_squared_error(target_valid, target_pred) ** 0.5\n",
    "print('RMSE для сb_1:', round (RMSE_сb_1, 2))"
   ]
  },
  {
   "cell_type": "markdown",
   "metadata": {},
   "source": [
    "#### Second hyperparameter option"
   ]
  },
  {
   "cell_type": "markdown",
   "metadata": {},
   "source": [
    "Change this:\n",
    "- iterations: 50\n",
    "- learning_rate: 0.05\n",
    "- use_best_model: True"
   ]
  },
  {
   "cell_type": "code",
   "execution_count": 95,
   "metadata": {},
   "outputs": [],
   "source": [
    "params = {'iterations': 50, \n",
    "          'eval_metric':'RMSE', \n",
    "          'verbose': 4,\n",
    "          'random_seed': 12345,\n",
    "          'learning_rate': 0.05,\n",
    "          'use_best_model': True\n",
    "         }"
   ]
  },
  {
   "cell_type": "code",
   "execution_count": 96,
   "metadata": {},
   "outputs": [],
   "source": [
    "cb_2 = CatBoostRegressor(**params)"
   ]
  },
  {
   "cell_type": "code",
   "execution_count": 97,
   "metadata": {},
   "outputs": [
    {
     "name": "stdout",
     "output_type": "stream",
     "text": [
      "0:\tlearn: 4369.3972286\ttest: 4382.8418889\tbest: 4382.8418889 (0)\ttotal: 12.8ms\tremaining: 629ms\n",
      "4:\tlearn: 3882.0672681\ttest: 3897.1271307\tbest: 3897.1271307 (4)\ttotal: 59.1ms\tremaining: 532ms\n",
      "8:\tlearn: 3498.9625789\ttest: 3516.1055648\tbest: 3516.1055648 (8)\ttotal: 106ms\tremaining: 482ms\n",
      "12:\tlearn: 3195.4641922\ttest: 3214.9467970\tbest: 3214.9467970 (12)\ttotal: 150ms\tremaining: 427ms\n",
      "16:\tlearn: 2964.0478900\ttest: 2984.3404498\tbest: 2984.3404498 (16)\ttotal: 194ms\tremaining: 376ms\n",
      "20:\tlearn: 2785.6828084\ttest: 2806.5137505\tbest: 2806.5137505 (20)\ttotal: 241ms\tremaining: 333ms\n",
      "24:\tlearn: 2643.6713064\ttest: 2664.2402512\tbest: 2664.2402512 (24)\ttotal: 284ms\tremaining: 284ms\n",
      "28:\tlearn: 2532.5025100\ttest: 2552.4071560\tbest: 2552.4071560 (28)\ttotal: 331ms\tremaining: 240ms\n",
      "32:\tlearn: 2447.9620912\ttest: 2467.4194499\tbest: 2467.4194499 (32)\ttotal: 374ms\tremaining: 193ms\n",
      "36:\tlearn: 2377.5729613\ttest: 2396.6861173\tbest: 2396.6861173 (36)\ttotal: 418ms\tremaining: 147ms\n",
      "40:\tlearn: 2321.8034085\ttest: 2340.0104171\tbest: 2340.0104171 (40)\ttotal: 465ms\tremaining: 102ms\n",
      "44:\tlearn: 2274.0548450\ttest: 2292.1228623\tbest: 2292.1228623 (44)\ttotal: 508ms\tremaining: 56.5ms\n",
      "48:\tlearn: 2235.8978835\ttest: 2253.0338979\tbest: 2253.0338979 (48)\ttotal: 561ms\tremaining: 11.5ms\n",
      "49:\tlearn: 2226.8439361\ttest: 2244.0991452\tbest: 2244.0991452 (49)\ttotal: 576ms\tremaining: 0us\n",
      "\n",
      "bestTest = 2244.099145\n",
      "bestIteration = 49\n",
      "\n",
      "CPU times: total: 6.14 s\n",
      "Wall time: 667 ms\n"
     ]
    },
    {
     "data": {
      "text/plain": [
       "<catboost.core.CatBoostRegressor at 0x20c90fbef70>"
      ]
     },
     "execution_count": 97,
     "metadata": {},
     "output_type": "execute_result"
    }
   ],
   "source": [
    "%%time\n",
    "cb_2.fit(features_train, target_train, eval_set = (features_valid, target_valid))"
   ]
  },
  {
   "cell_type": "code",
   "execution_count": 98,
   "metadata": {},
   "outputs": [
    {
     "name": "stdout",
     "output_type": "stream",
     "text": [
      "RMSE для сb_2: 2244.1\n",
      "CPU times: total: 93.8 ms\n",
      "Wall time: 9.98 ms\n"
     ]
    }
   ],
   "source": [
    "%%time\n",
    "target_pred = cb_2.predict(features_valid)\n",
    "RMSE_сb_2 = mean_squared_error(target_valid, target_pred) ** 0.5\n",
    "print('RMSE для сb_2:', round (RMSE_сb_2, 2))"
   ]
  },
  {
   "cell_type": "markdown",
   "metadata": {},
   "source": [
    "#### Third hyperparameter option"
   ]
  },
  {
   "cell_type": "markdown",
   "metadata": {},
   "source": [
    "Change this:\n",
    "- iterations: 100\n",
    "- learning_rate: 0.02\n",
    "- bagging_temperature: 0.2 \n",
    "- depth: 12\n",
    "- od_type: 'Iter'\n",
    "- od_wait: 100"
   ]
  },
  {
   "cell_type": "code",
   "execution_count": 99,
   "metadata": {},
   "outputs": [],
   "source": [
    "params = {'iterations': 100, \n",
    "          'eval_metric':'RMSE', \n",
    "          'verbose': 7,\n",
    "          'random_seed': 12345,\n",
    "          'learning_rate': 0.02,\n",
    "          'use_best_model': True,\n",
    "          'bagging_temperature': 0.2,\n",
    "          'depth': 12,\n",
    "          'od_type': 'Iter',\n",
    "          'od_wait': 100\n",
    "         }"
   ]
  },
  {
   "cell_type": "code",
   "execution_count": 100,
   "metadata": {},
   "outputs": [],
   "source": [
    "cb_3 = CatBoostRegressor(**params)"
   ]
  },
  {
   "cell_type": "code",
   "execution_count": 101,
   "metadata": {},
   "outputs": [
    {
     "name": "stdout",
     "output_type": "stream",
     "text": [
      "0:\tlearn: 4448.1679866\ttest: 4461.0976815\tbest: 4461.0976815 (0)\ttotal: 63.3ms\tremaining: 6.26s\n",
      "7:\tlearn: 4040.8518966\ttest: 4055.9684263\tbest: 4055.9684263 (7)\ttotal: 496ms\tremaining: 5.7s\n",
      "14:\tlearn: 3691.6029872\ttest: 3708.5541046\tbest: 3708.5541046 (14)\ttotal: 936ms\tremaining: 5.3s\n",
      "21:\tlearn: 3396.7675139\ttest: 3415.6387278\tbest: 3415.6387278 (21)\ttotal: 1.36s\tremaining: 4.83s\n",
      "28:\tlearn: 3147.5220141\ttest: 3167.5986041\tbest: 3167.5986041 (28)\ttotal: 1.78s\tremaining: 4.35s\n",
      "35:\tlearn: 2937.5896948\ttest: 2959.7606332\tbest: 2959.7606332 (35)\ttotal: 2.21s\tremaining: 3.92s\n",
      "42:\tlearn: 2762.6094552\ttest: 2785.7334124\tbest: 2785.7334124 (42)\ttotal: 2.62s\tremaining: 3.48s\n",
      "49:\tlearn: 2615.5638243\ttest: 2639.7578717\tbest: 2639.7578717 (49)\ttotal: 3.04s\tremaining: 3.04s\n",
      "56:\tlearn: 2492.1130590\ttest: 2517.4435720\tbest: 2517.4435720 (56)\ttotal: 3.46s\tremaining: 2.61s\n",
      "63:\tlearn: 2388.3679104\ttest: 2415.1676725\tbest: 2415.1676725 (63)\ttotal: 3.88s\tremaining: 2.19s\n",
      "70:\tlearn: 2303.0328984\ttest: 2330.4553364\tbest: 2330.4553364 (70)\ttotal: 4.31s\tremaining: 1.76s\n",
      "77:\tlearn: 2228.6290503\ttest: 2256.5102578\tbest: 2256.5102578 (77)\ttotal: 4.73s\tremaining: 1.33s\n",
      "84:\tlearn: 2167.1423946\ttest: 2195.9243128\tbest: 2195.9243128 (84)\ttotal: 5.15s\tremaining: 909ms\n",
      "91:\tlearn: 2113.6781752\ttest: 2142.8869864\tbest: 2142.8869864 (91)\ttotal: 5.56s\tremaining: 484ms\n",
      "98:\tlearn: 2067.9327233\ttest: 2097.3901542\tbest: 2097.3901542 (98)\ttotal: 5.98s\tremaining: 60.4ms\n",
      "99:\tlearn: 2060.8857346\ttest: 2090.3114152\tbest: 2090.3114152 (99)\ttotal: 6.04s\tremaining: 0us\n",
      "\n",
      "bestTest = 2090.311415\n",
      "bestIteration = 99\n",
      "\n",
      "CPU times: total: 29.2 s\n",
      "Wall time: 6.19 s\n"
     ]
    },
    {
     "data": {
      "text/plain": [
       "<catboost.core.CatBoostRegressor at 0x20ca2dfd1f0>"
      ]
     },
     "execution_count": 101,
     "metadata": {},
     "output_type": "execute_result"
    }
   ],
   "source": [
    "%%time\n",
    "cb_3.fit(features_train, target_train, eval_set = (features_valid, target_valid))"
   ]
  },
  {
   "cell_type": "code",
   "execution_count": 102,
   "metadata": {
    "scrolled": true
   },
   "outputs": [
    {
     "name": "stdout",
     "output_type": "stream",
     "text": [
      "RMSE для сb_3: 2090.31\n",
      "CPU times: total: 172 ms\n",
      "Wall time: 25.9 ms\n"
     ]
    }
   ],
   "source": [
    "%%time\n",
    "target_pred = cb_3.predict(features_valid)\n",
    "RMSE_сb_3 = mean_squared_error(target_valid, target_pred) ** 0.5\n",
    "print('RMSE для сb_3:', round (RMSE_сb_3, 2))"
   ]
  },
  {
   "cell_type": "markdown",
   "metadata": {},
   "source": [
    "### Train the RandomForestRegressor Model"
   ]
  },
  {
   "cell_type": "markdown",
   "metadata": {},
   "source": [
    "#### Select hyperparameters of the random forest"
   ]
  },
  {
   "cell_type": "code",
   "execution_count": 103,
   "metadata": {
    "scrolled": false
   },
   "outputs": [
    {
     "name": "stdout",
     "output_type": "stream",
     "text": [
      "best_depth: 4\n",
      "best_est: 4\n"
     ]
    }
   ],
   "source": [
    "best_result_est = 3000\n",
    "best_depth = 0\n",
    "best_est = 0\n",
    "\n",
    "for est in range(1, 5):\n",
    "    for depth in range(1, 5):\n",
    "        model = RandomForestRegressor(random_state = state, n_estimators = est, max_depth = depth)\n",
    "        model.fit(features_train, target_train)\n",
    "        target_pred = model.predict(features_valid)\n",
    "        result = (mean_squared_error(target_valid, target_pred) ** 0.5)\n",
    "\n",
    "        if result < best_result_est:\n",
    "            best_result_est = result\n",
    "            best_depth = depth\n",
    "            best_est = est\n",
    "\n",
    "print('best_depth:', best_depth)\n",
    "print('best_est:', best_est)\n"
   ]
  },
  {
   "cell_type": "markdown",
   "metadata": {},
   "source": [
    "#### Check the time and metric on a random forest"
   ]
  },
  {
   "cell_type": "markdown",
   "metadata": {},
   "source": [
    "Check the train time"
   ]
  },
  {
   "cell_type": "code",
   "execution_count": 104,
   "metadata": {},
   "outputs": [
    {
     "name": "stdout",
     "output_type": "stream",
     "text": [
      "CPU times: total: 500 ms\n",
      "Wall time: 467 ms\n"
     ]
    },
    {
     "data": {
      "text/plain": [
       "RandomForestRegressor(max_depth=4, n_estimators=4, random_state=12345)"
      ]
     },
     "execution_count": 104,
     "metadata": {},
     "output_type": "execute_result"
    }
   ],
   "source": [
    "%%time\n",
    "model = RandomForestRegressor(random_state = state, n_estimators = 4, max_depth = 4)\n",
    "model.fit(features_train, target_train)"
   ]
  },
  {
   "cell_type": "markdown",
   "metadata": {},
   "source": [
    "Check the prediction time"
   ]
  },
  {
   "cell_type": "code",
   "execution_count": 105,
   "metadata": {},
   "outputs": [
    {
     "name": "stdout",
     "output_type": "stream",
     "text": [
      "RMSE для RFR: 2641.69\n",
      "CPU times: total: 15.6 ms\n",
      "Wall time: 15.5 ms\n"
     ]
    }
   ],
   "source": [
    "%%time\n",
    "target_pred = model.predict(features_valid)\n",
    "RMSE_RFR = mean_squared_error(target_valid, target_pred) ** 0.5\n",
    "print('RMSE для RFR:', round (RMSE_RFR, 2))"
   ]
  },
  {
   "cell_type": "markdown",
   "metadata": {},
   "source": [
    "## Model compairing"
   ]
  },
  {
   "cell_type": "markdown",
   "metadata": {},
   "source": [
    "|Модель  |RMSE | Время обучения, s | Время предсказания, ms  |\n",
    "| -------|--------------------|----------------|---------------------|\n",
    "| LightGBM 1 |2181.56 | 6.84|119|\n",
    "| LightGBM 2 |2145.41 | 6.05|218|\n",
    "| LightGBM 3 |2439.42| 23.3|87.7|\n",
    "|**CatBoost 1**|**1862.28**|**1.68**|**10.1**|\n",
    "| CatBoost 2 |2244.10|2.18|10.7|\n",
    "| CatBoost 3 |2090.31|10.4|66.6|\n",
    "|RandomForestRegressor| 2641.69|9.88|16.9"
   ]
  },
  {
   "cell_type": "markdown",
   "metadata": {},
   "source": [
    "## Model choice"
   ]
  },
  {
   "cell_type": "markdown",
   "metadata": {},
   "source": [
    "### Choose the best model"
   ]
  },
  {
   "cell_type": "markdown",
   "metadata": {},
   "source": [
    "According to the study results, the best model for this study is CatBoost, as it has the highest learning rate, the highest prediction rate, and the lowest value of the RMSE metric."
   ]
  },
  {
   "cell_type": "markdown",
   "metadata": {},
   "source": [
    "Let's test the model on a test set."
   ]
  },
  {
   "cell_type": "code",
   "execution_count": 106,
   "metadata": {},
   "outputs": [
    {
     "name": "stdout",
     "output_type": "stream",
     "text": [
      "Learning rate set to 0.5\n",
      "0:\tlearn: 3252.0661157\ttest: 3272.3493929\tbest: 3272.3493929 (0)\ttotal: 12.1ms\tremaining: 351ms\n",
      "4:\tlearn: 2206.3727073\ttest: 2220.8161784\tbest: 2220.8161784 (4)\ttotal: 57.9ms\tremaining: 289ms\n",
      "8:\tlearn: 2067.6114515\ttest: 2082.0597955\tbest: 2082.0597955 (8)\ttotal: 101ms\tremaining: 237ms\n",
      "12:\tlearn: 1985.6976951\ttest: 1995.9678956\tbest: 1995.9678956 (12)\ttotal: 149ms\tremaining: 194ms\n",
      "16:\tlearn: 1945.0808763\ttest: 1954.7609689\tbest: 1954.7609689 (16)\ttotal: 192ms\tremaining: 146ms\n",
      "20:\tlearn: 1911.4954711\ttest: 1921.8508895\tbest: 1921.8508895 (20)\ttotal: 239ms\tremaining: 103ms\n",
      "24:\tlearn: 1881.3195088\ttest: 1891.3681700\tbest: 1891.3681700 (24)\ttotal: 285ms\tremaining: 57ms\n",
      "28:\tlearn: 1857.1665735\ttest: 1869.9423359\tbest: 1869.9423359 (28)\ttotal: 333ms\tremaining: 11.5ms\n",
      "29:\tlearn: 1850.9808753\ttest: 1864.6987629\tbest: 1864.6987629 (29)\ttotal: 344ms\tremaining: 0us\n",
      "\n",
      "bestTest = 1864.698763\n",
      "bestIteration = 29\n",
      "\n"
     ]
    },
    {
     "data": {
      "text/plain": [
       "<catboost.core.CatBoostRegressor at 0x20ca2dfa970>"
      ]
     },
     "execution_count": 106,
     "metadata": {},
     "output_type": "execute_result"
    }
   ],
   "source": [
    "params = {'iterations': 30, \n",
    "          'eval_metric':'RMSE', \n",
    "          'verbose': 4,\n",
    "          'random_seed': 12345\n",
    "         }\n",
    "\n",
    "cb = CatBoostRegressor(**params)\n",
    "\n",
    "cb.fit(features_train, target_train, eval_set = (features_valid, target_valid))"
   ]
  },
  {
   "cell_type": "code",
   "execution_count": 107,
   "metadata": {},
   "outputs": [
    {
     "name": "stdout",
     "output_type": "stream",
     "text": [
      "RMSE для сb: 1882.17\n",
      "CPU times: total: 0 ns\n",
      "Wall time: 8.98 ms\n"
     ]
    }
   ],
   "source": [
    "%%time\n",
    "target_pred = cb.predict(features_test)\n",
    "RMSE_сb = mean_squared_error(target_test, target_pred) ** 0.5\n",
    "print('RMSE для сb:', round (RMSE_сb, 2))"
   ]
  },
  {
   "cell_type": "markdown",
   "metadata": {},
   "source": [
    "- RMSE of the selected model on the test sample - 1882.17\n",
    "- Training time on a non-test sample - 8.98 ms"
   ]
  },
  {
   "cell_type": "markdown",
   "metadata": {},
   "source": [
    "### Consider the importance of features"
   ]
  },
  {
   "cell_type": "markdown",
   "metadata": {},
   "source": [
    "Decompose the signs according to the degree of influence on the price of the car"
   ]
  },
  {
   "cell_type": "code",
   "execution_count": 108,
   "metadata": {},
   "outputs": [
    {
     "name": "stdout",
     "output_type": "stream",
     "text": [
      "Learning rate set to 0.5\n",
      "0:\tlearn: 3252.0661157\ttest: 3272.3493929\tbest: 3272.3493929 (0)\ttotal: 11.9ms\tremaining: 346ms\n",
      "4:\tlearn: 2206.3727073\ttest: 2220.8161784\tbest: 2220.8161784 (4)\ttotal: 55.5ms\tremaining: 277ms\n",
      "8:\tlearn: 2067.6114515\ttest: 2082.0597955\tbest: 2082.0597955 (8)\ttotal: 97ms\tremaining: 226ms\n",
      "12:\tlearn: 1985.6976951\ttest: 1995.9678956\tbest: 1995.9678956 (12)\ttotal: 140ms\tremaining: 183ms\n",
      "16:\tlearn: 1945.0808763\ttest: 1954.7609689\tbest: 1954.7609689 (16)\ttotal: 180ms\tremaining: 138ms\n",
      "20:\tlearn: 1911.4954711\ttest: 1921.8508895\tbest: 1921.8508895 (20)\ttotal: 222ms\tremaining: 95.1ms\n",
      "24:\tlearn: 1881.3195088\ttest: 1891.3681700\tbest: 1891.3681700 (24)\ttotal: 263ms\tremaining: 52.7ms\n",
      "28:\tlearn: 1857.1665735\ttest: 1869.9423359\tbest: 1869.9423359 (28)\ttotal: 306ms\tremaining: 10.5ms\n",
      "29:\tlearn: 1850.9808753\ttest: 1864.6987629\tbest: 1864.6987629 (29)\ttotal: 316ms\tremaining: 0us\n",
      "\n",
      "bestTest = 1864.698763\n",
      "bestIteration = 29\n",
      "\n"
     ]
    },
    {
     "data": {
      "text/html": [
       "<div>\n",
       "<style scoped>\n",
       "    .dataframe tbody tr th:only-of-type {\n",
       "        vertical-align: middle;\n",
       "    }\n",
       "\n",
       "    .dataframe tbody tr th {\n",
       "        vertical-align: top;\n",
       "    }\n",
       "\n",
       "    .dataframe thead th {\n",
       "        text-align: right;\n",
       "    }\n",
       "</style>\n",
       "<table border=\"1\" class=\"dataframe\">\n",
       "  <thead>\n",
       "    <tr style=\"text-align: right;\">\n",
       "      <th></th>\n",
       "      <th>feature</th>\n",
       "      <th>importance</th>\n",
       "    </tr>\n",
       "  </thead>\n",
       "  <tbody>\n",
       "    <tr>\n",
       "      <th>0</th>\n",
       "      <td>RegistrationYear</td>\n",
       "      <td>0.585054</td>\n",
       "    </tr>\n",
       "    <tr>\n",
       "      <th>1</th>\n",
       "      <td>Power</td>\n",
       "      <td>0.355481</td>\n",
       "    </tr>\n",
       "    <tr>\n",
       "      <th>2</th>\n",
       "      <td>Kilometer</td>\n",
       "      <td>0.049931</td>\n",
       "    </tr>\n",
       "    <tr>\n",
       "      <th>3</th>\n",
       "      <td>FuelType</td>\n",
       "      <td>0.006909</td>\n",
       "    </tr>\n",
       "    <tr>\n",
       "      <th>4</th>\n",
       "      <td>VehicleType</td>\n",
       "      <td>0.002625</td>\n",
       "    </tr>\n",
       "    <tr>\n",
       "      <th>5</th>\n",
       "      <td>Gearbox</td>\n",
       "      <td>0.000000</td>\n",
       "    </tr>\n",
       "    <tr>\n",
       "      <th>6</th>\n",
       "      <td>Model</td>\n",
       "      <td>0.000000</td>\n",
       "    </tr>\n",
       "    <tr>\n",
       "      <th>7</th>\n",
       "      <td>RegistrationMonth</td>\n",
       "      <td>0.000000</td>\n",
       "    </tr>\n",
       "    <tr>\n",
       "      <th>8</th>\n",
       "      <td>Brand</td>\n",
       "      <td>0.000000</td>\n",
       "    </tr>\n",
       "    <tr>\n",
       "      <th>9</th>\n",
       "      <td>Repaired</td>\n",
       "      <td>0.000000</td>\n",
       "    </tr>\n",
       "  </tbody>\n",
       "</table>\n",
       "</div>"
      ],
      "text/plain": [
       "             feature  importance\n",
       "0   RegistrationYear    0.585054\n",
       "1              Power    0.355481\n",
       "2          Kilometer    0.049931\n",
       "3           FuelType    0.006909\n",
       "4        VehicleType    0.002625\n",
       "5            Gearbox    0.000000\n",
       "6              Model    0.000000\n",
       "7  RegistrationMonth    0.000000\n",
       "8              Brand    0.000000\n",
       "9           Repaired    0.000000"
      ]
     },
     "execution_count": 108,
     "metadata": {},
     "output_type": "execute_result"
    }
   ],
   "source": [
    "params = {'iterations': 30, \n",
    "          'eval_metric':'RMSE', \n",
    "          'verbose': 4,\n",
    "          'random_seed': 12345\n",
    "         }\n",
    "\n",
    "cb = CatBoostRegressor(**params)\n",
    "\n",
    "cb.fit(features_train, target_train, eval_set = (features_valid, target_valid))\n",
    "\n",
    "importance = model.feature_importances_  \n",
    "feature_list = list(features_train.columns)  \n",
    "feature_results = pd.DataFrame({'feature': feature_list,'importance': importance})  \n",
    "feature_results = feature_results.sort_values('importance',ascending = False).reset_index(drop=True)  \n",
    "feature_results"
   ]
  },
  {
   "cell_type": "markdown",
   "metadata": {},
   "source": [
    "Graph of the importance of features"
   ]
  },
  {
   "cell_type": "code",
   "execution_count": 109,
   "metadata": {
    "scrolled": false
   },
   "outputs": [
    {
     "data": {
      "text/plain": [
       "<Figure size 432x288 with 0 Axes>"
      ]
     },
     "metadata": {},
     "output_type": "display_data"
    },
    {
     "data": {
      "image/png": "[encoded data removed]",
      "text/plain": [
       "<Figure size 1080x720 with 1 Axes>"
      ]
     },
     "metadata": {
      "needs_background": "light"
     },
     "output_type": "display_data"
    }
   ],
   "source": [
    "plt.figure()\n",
    "plt.figure(figsize=(15,10))\n",
    "plt.bar([x for x in range(len(importance))], importance)\n",
    "plt.xlabel('features')\n",
    "plt.ylabel('importance')\n",
    "plt.title('Feature importance')\n",
    "plt.xticks(np.arange(10),feature_list, rotation=45)\n",
    "plt.show()"
   ]
  },
  {
   "cell_type": "markdown",
   "metadata": {},
   "source": [
    "The main features that affect the value of a car are:\n",
    "- Year of issue.\n",
    "- Vehicle power.\n",
    "- Car mileage."
   ]
  },
  {
   "cell_type": "markdown",
   "metadata": {},
   "source": [
    "## General conclusion"
   ]
  },
  {
   "cell_type": "markdown",
   "metadata": {},
   "source": [
    "1. Data is open and explored.\n",
    "2. Data pre-processing was carried out, no more than 4% of data was lost.\n",
    "3. The goals and signs of learning are highlighted.\n",
    "4. The model with gradient boosting LightGBM was trained.\n",
    "5. The model was trained with CatBoost gradient boosting.\n",
    "6. The model was trained without RandomForestRegressor gradient boosting.\n",
    "7. The speed of work and the quality of the models are tabulated.\n",
    "8. The model with the highest speed and the highest quality of predictions was selected.\n",
    "9. The selected model was tested on a test sample, the results were recognized as excellent.\n",
    "10. It was found that the main features that affect the cost are the year of manufacture, power and mileage of the car."
   ]
  },
  {
   "cell_type": "code",
   "execution_count": null,
   "metadata": {},
   "outputs": [],
   "source": []
  }
 ],
 "metadata": {
  "ExecuteTimeLog": [
   {
    "duration": 406,
    "start_time": "2022-11-07T07:06:34.053Z"
   },
   {
    "duration": 1106,
    "start_time": "2022-11-07T07:06:58.738Z"
   },
   {
    "duration": 862,
    "start_time": "2022-11-07T07:07:02.844Z"
   },
   {
    "duration": 135,
    "start_time": "2022-11-07T07:14:12.264Z"
   },
   {
    "duration": 124,
    "start_time": "2022-11-07T07:14:27.658Z"
   },
   {
    "duration": 118,
    "start_time": "2022-11-07T07:14:33.861Z"
   },
   {
    "duration": 132,
    "start_time": "2022-11-07T07:14:50.356Z"
   },
   {
    "duration": 77,
    "start_time": "2022-11-07T07:15:17.364Z"
   },
   {
    "duration": 5,
    "start_time": "2022-11-07T07:15:20.417Z"
   },
   {
    "duration": 4,
    "start_time": "2022-11-07T07:15:34.965Z"
   },
   {
    "duration": 127,
    "start_time": "2022-11-07T07:15:53.610Z"
   },
   {
    "duration": 107,
    "start_time": "2022-11-07T07:16:01.327Z"
   },
   {
    "duration": 6,
    "start_time": "2022-11-07T07:16:04.978Z"
   },
   {
    "duration": 119,
    "start_time": "2022-11-07T07:16:09.365Z"
   },
   {
    "duration": 24,
    "start_time": "2022-11-07T07:40:42.232Z"
   },
   {
    "duration": 17,
    "start_time": "2022-11-07T07:40:47.828Z"
   },
   {
    "duration": 10,
    "start_time": "2022-11-07T07:40:52.690Z"
   },
   {
    "duration": 21,
    "start_time": "2022-11-07T07:42:08.462Z"
   },
   {
    "duration": 19,
    "start_time": "2022-11-07T07:44:07.197Z"
   },
   {
    "duration": 26,
    "start_time": "2022-11-07T07:46:56.901Z"
   },
   {
    "duration": 18,
    "start_time": "2022-11-07T07:48:35.778Z"
   },
   {
    "duration": 10,
    "start_time": "2022-11-07T07:50:55.588Z"
   },
   {
    "duration": 12,
    "start_time": "2022-11-07T07:51:02.003Z"
   },
   {
    "duration": 8,
    "start_time": "2022-11-07T07:51:06.944Z"
   },
   {
    "duration": 8,
    "start_time": "2022-11-07T07:52:18.669Z"
   },
   {
    "duration": 52,
    "start_time": "2022-11-07T07:52:24.074Z"
   },
   {
    "duration": 188,
    "start_time": "2022-11-07T07:52:27.991Z"
   },
   {
    "duration": 178,
    "start_time": "2022-11-07T07:52:54.086Z"
   },
   {
    "duration": 165,
    "start_time": "2022-11-07T07:54:24.785Z"
   },
   {
    "duration": 186,
    "start_time": "2022-11-07T07:54:32.903Z"
   },
   {
    "duration": 184,
    "start_time": "2022-11-07T07:54:42.017Z"
   },
   {
    "duration": 195,
    "start_time": "2022-11-07T07:54:47.021Z"
   },
   {
    "duration": 189,
    "start_time": "2022-11-07T07:54:56.932Z"
   },
   {
    "duration": 220,
    "start_time": "2022-11-07T07:55:27.441Z"
   },
   {
    "duration": 182,
    "start_time": "2022-11-07T07:56:08.884Z"
   },
   {
    "duration": 197,
    "start_time": "2022-11-07T07:56:15.991Z"
   },
   {
    "duration": 200,
    "start_time": "2022-11-07T07:57:26.612Z"
   },
   {
    "duration": 209,
    "start_time": "2022-11-07T07:57:33.265Z"
   },
   {
    "duration": 222,
    "start_time": "2022-11-07T08:09:05.659Z"
   },
   {
    "duration": 107,
    "start_time": "2022-11-07T08:09:20.617Z"
   },
   {
    "duration": 180,
    "start_time": "2022-11-07T08:09:28.819Z"
   },
   {
    "duration": 206,
    "start_time": "2022-11-07T08:09:33.974Z"
   },
   {
    "duration": 184,
    "start_time": "2022-11-07T08:10:15.768Z"
   },
   {
    "duration": 190,
    "start_time": "2022-11-07T08:10:22.076Z"
   },
   {
    "duration": 204,
    "start_time": "2022-11-07T08:10:27.678Z"
   },
   {
    "duration": 22,
    "start_time": "2022-11-07T08:11:22.245Z"
   },
   {
    "duration": 185,
    "start_time": "2022-11-07T08:12:39.712Z"
   },
   {
    "duration": 49,
    "start_time": "2022-11-07T08:12:48.663Z"
   },
   {
    "duration": 7,
    "start_time": "2022-11-07T08:12:51.563Z"
   },
   {
    "duration": 191,
    "start_time": "2022-11-07T08:12:55.933Z"
   },
   {
    "duration": 192,
    "start_time": "2022-11-07T08:13:07.489Z"
   },
   {
    "duration": 8,
    "start_time": "2022-11-07T08:15:15.214Z"
   },
   {
    "duration": 11,
    "start_time": "2022-11-07T08:15:44.996Z"
   },
   {
    "duration": 117,
    "start_time": "2022-11-07T08:16:10.604Z"
   },
   {
    "duration": 89,
    "start_time": "2022-11-07T08:16:17.087Z"
   },
   {
    "duration": 164,
    "start_time": "2022-11-07T08:16:27.868Z"
   },
   {
    "duration": 370,
    "start_time": "2022-11-07T08:17:38.456Z"
   },
   {
    "duration": 781,
    "start_time": "2022-11-07T08:17:38.828Z"
   },
   {
    "duration": 114,
    "start_time": "2022-11-07T08:17:39.611Z"
   },
   {
    "duration": 24,
    "start_time": "2022-11-07T08:17:39.727Z"
   },
   {
    "duration": 18,
    "start_time": "2022-11-07T08:17:39.754Z"
   },
   {
    "duration": 242,
    "start_time": "2022-11-07T08:17:39.774Z"
   },
   {
    "duration": 198,
    "start_time": "2022-11-07T08:17:40.017Z"
   },
   {
    "duration": 76,
    "start_time": "2022-11-07T08:21:39.680Z"
   },
   {
    "duration": 25,
    "start_time": "2022-11-07T08:26:11.091Z"
   },
   {
    "duration": 34,
    "start_time": "2022-11-07T08:26:20.267Z"
   },
   {
    "duration": 30,
    "start_time": "2022-11-07T08:28:45.414Z"
   },
   {
    "duration": 30,
    "start_time": "2022-11-07T08:29:08.675Z"
   },
   {
    "duration": 74,
    "start_time": "2022-11-07T08:49:55.550Z"
   },
   {
    "duration": 5,
    "start_time": "2022-11-07T09:17:16.237Z"
   },
   {
    "duration": 7,
    "start_time": "2022-11-07T09:17:22.050Z"
   },
   {
    "duration": 7,
    "start_time": "2022-11-07T09:17:32.719Z"
   },
   {
    "duration": 5,
    "start_time": "2022-11-07T09:17:35.874Z"
   },
   {
    "duration": 72,
    "start_time": "2022-11-07T09:17:41.299Z"
   },
   {
    "duration": 5,
    "start_time": "2022-11-07T09:17:48.108Z"
   },
   {
    "duration": 5,
    "start_time": "2022-11-07T09:17:54.627Z"
   },
   {
    "duration": 4,
    "start_time": "2022-11-07T09:21:28.864Z"
   },
   {
    "duration": 25,
    "start_time": "2022-11-07T09:22:36.367Z"
   },
   {
    "duration": 4,
    "start_time": "2022-11-07T09:22:38.146Z"
   },
   {
    "duration": 5,
    "start_time": "2022-11-07T09:23:09.056Z"
   },
   {
    "duration": 6,
    "start_time": "2022-11-07T09:23:40.670Z"
   },
   {
    "duration": 21,
    "start_time": "2022-11-07T09:24:00.797Z"
   },
   {
    "duration": 41,
    "start_time": "2022-11-07T09:25:20.574Z"
   },
   {
    "duration": 41,
    "start_time": "2022-11-07T09:25:23.123Z"
   },
   {
    "duration": 5,
    "start_time": "2022-11-07T09:25:32.350Z"
   },
   {
    "duration": 16,
    "start_time": "2022-11-07T09:25:37.803Z"
   },
   {
    "duration": 30,
    "start_time": "2022-11-07T09:28:01.714Z"
   },
   {
    "duration": 37,
    "start_time": "2022-11-07T09:28:16.600Z"
   },
   {
    "duration": 6,
    "start_time": "2022-11-07T09:30:07.946Z"
   },
   {
    "duration": 1009,
    "start_time": "2022-11-07T09:30:21.980Z"
   },
   {
    "duration": 147,
    "start_time": "2022-11-07T09:30:26.503Z"
   },
   {
    "duration": 138,
    "start_time": "2022-11-07T09:32:20.307Z"
   },
   {
    "duration": 35,
    "start_time": "2022-11-07T09:32:45.947Z"
   },
   {
    "duration": 35,
    "start_time": "2022-11-07T09:32:55.935Z"
   },
   {
    "duration": 129,
    "start_time": "2022-11-07T09:33:06.680Z"
   },
   {
    "duration": 49,
    "start_time": "2022-11-07T09:33:26.669Z"
   },
   {
    "duration": 13,
    "start_time": "2022-11-07T09:33:31.368Z"
   },
   {
    "duration": 120,
    "start_time": "2022-11-07T09:33:56.576Z"
   },
   {
    "duration": 25,
    "start_time": "2022-11-07T09:34:14.453Z"
   },
   {
    "duration": 769,
    "start_time": "2022-11-07T09:34:16.806Z"
   },
   {
    "duration": 796,
    "start_time": "2022-11-07T09:34:23.018Z"
   },
   {
    "duration": 1075,
    "start_time": "2022-11-07T09:34:48.572Z"
   },
   {
    "duration": 814,
    "start_time": "2022-11-07T09:34:49.650Z"
   },
   {
    "duration": 120,
    "start_time": "2022-11-07T09:34:50.466Z"
   },
   {
    "duration": 104,
    "start_time": "2022-11-07T09:34:50.588Z"
   },
   {
    "duration": 33,
    "start_time": "2022-11-07T09:34:50.694Z"
   },
   {
    "duration": 17,
    "start_time": "2022-11-07T09:34:50.728Z"
   },
   {
    "duration": 230,
    "start_time": "2022-11-07T09:34:50.746Z"
   },
   {
    "duration": 200,
    "start_time": "2022-11-07T09:34:50.977Z"
   },
   {
    "duration": 34,
    "start_time": "2022-11-07T09:34:51.179Z"
   },
   {
    "duration": 33,
    "start_time": "2022-11-07T09:34:51.215Z"
   },
   {
    "duration": 21,
    "start_time": "2022-11-07T09:34:51.249Z"
   },
   {
    "duration": 3,
    "start_time": "2022-11-07T09:35:31.706Z"
   },
   {
    "duration": 140,
    "start_time": "2022-11-07T09:35:37.284Z"
   },
   {
    "duration": 268,
    "start_time": "2022-11-07T09:42:54.098Z"
   },
   {
    "duration": 47,
    "start_time": "2022-11-07T09:44:23.470Z"
   },
   {
    "duration": 271,
    "start_time": "2022-11-07T09:44:35.860Z"
   },
   {
    "duration": 267,
    "start_time": "2022-11-07T09:44:45.069Z"
   },
   {
    "duration": 1218,
    "start_time": "2022-11-07T09:44:48.561Z"
   },
   {
    "duration": 2,
    "start_time": "2022-11-07T09:45:01.103Z"
   },
   {
    "duration": 125,
    "start_time": "2022-11-07T09:45:03.563Z"
   },
   {
    "duration": 10,
    "start_time": "2022-11-07T09:46:53.404Z"
   },
   {
    "duration": 200,
    "start_time": "2022-11-07T09:47:00.859Z"
   },
   {
    "duration": 124,
    "start_time": "2022-11-07T10:27:21.829Z"
   },
   {
    "duration": 116,
    "start_time": "2022-11-07T10:29:22.734Z"
   },
   {
    "duration": 113,
    "start_time": "2022-11-07T10:29:24.794Z"
   },
   {
    "duration": 6,
    "start_time": "2022-11-07T10:31:55.599Z"
   },
   {
    "duration": 6,
    "start_time": "2022-11-07T10:32:08.934Z"
   },
   {
    "duration": 5,
    "start_time": "2022-11-07T10:32:17.496Z"
   },
   {
    "duration": 5,
    "start_time": "2022-11-07T10:32:22.487Z"
   },
   {
    "duration": 127,
    "start_time": "2022-11-07T10:34:03.204Z"
   },
   {
    "duration": 66,
    "start_time": "2022-11-07T10:34:08.550Z"
   },
   {
    "duration": 165,
    "start_time": "2022-11-07T10:34:12.022Z"
   },
   {
    "duration": 179,
    "start_time": "2022-11-07T10:34:30.829Z"
   },
   {
    "duration": 221,
    "start_time": "2022-11-07T10:34:58.632Z"
   },
   {
    "duration": 161,
    "start_time": "2022-11-07T10:35:02.401Z"
   },
   {
    "duration": 177,
    "start_time": "2022-11-07T10:35:11.244Z"
   },
   {
    "duration": 3,
    "start_time": "2022-11-07T10:39:28.999Z"
   },
   {
    "duration": 5,
    "start_time": "2022-11-07T10:39:33.519Z"
   },
   {
    "duration": 1244,
    "start_time": "2022-11-07T22:07:54.517Z"
   },
   {
    "duration": 2975,
    "start_time": "2022-11-07T22:07:55.763Z"
   },
   {
    "duration": 120,
    "start_time": "2022-11-07T22:08:05.753Z"
   },
   {
    "duration": 83,
    "start_time": "2022-11-07T22:08:11.093Z"
   },
   {
    "duration": 36,
    "start_time": "2022-11-07T22:08:25.991Z"
   },
   {
    "duration": 10,
    "start_time": "2022-11-07T22:08:26.693Z"
   },
   {
    "duration": 198,
    "start_time": "2022-11-07T22:08:29.211Z"
   },
   {
    "duration": 35,
    "start_time": "2022-11-07T22:08:30.804Z"
   },
   {
    "duration": 49,
    "start_time": "2022-11-07T22:08:31.931Z"
   },
   {
    "duration": 127,
    "start_time": "2022-11-07T22:08:32.999Z"
   },
   {
    "duration": 108,
    "start_time": "2022-11-07T22:08:34.235Z"
   },
   {
    "duration": 5,
    "start_time": "2022-11-07T22:08:35.996Z"
   },
   {
    "duration": 3,
    "start_time": "2022-11-07T22:08:37.502Z"
   },
   {
    "duration": 3,
    "start_time": "2022-11-07T22:08:38.607Z"
   },
   {
    "duration": 96,
    "start_time": "2022-11-07T22:09:34.844Z"
   },
   {
    "duration": 3,
    "start_time": "2022-11-07T22:09:50.792Z"
   },
   {
    "duration": 9,
    "start_time": "2022-11-07T22:09:56.380Z"
   },
   {
    "duration": 94,
    "start_time": "2022-11-07T22:10:36.862Z"
   },
   {
    "duration": 5,
    "start_time": "2022-11-07T22:10:41.443Z"
   },
   {
    "duration": 5,
    "start_time": "2022-11-07T22:10:57.382Z"
   },
   {
    "duration": 34,
    "start_time": "2022-11-07T22:11:15.772Z"
   },
   {
    "duration": 5,
    "start_time": "2022-11-07T22:11:16.213Z"
   },
   {
    "duration": 34,
    "start_time": "2022-11-07T22:12:06.544Z"
   },
   {
    "duration": 5,
    "start_time": "2022-11-07T22:12:07.033Z"
   },
   {
    "duration": 1010,
    "start_time": "2022-11-07T22:12:14.240Z"
   },
   {
    "duration": 725,
    "start_time": "2022-11-07T22:12:15.253Z"
   },
   {
    "duration": 119,
    "start_time": "2022-11-07T22:12:15.979Z"
   },
   {
    "duration": 89,
    "start_time": "2022-11-07T22:12:16.099Z"
   },
   {
    "duration": 17,
    "start_time": "2022-11-07T22:12:16.190Z"
   },
   {
    "duration": 17,
    "start_time": "2022-11-07T22:12:16.208Z"
   },
   {
    "duration": 201,
    "start_time": "2022-11-07T22:12:16.227Z"
   },
   {
    "duration": 38,
    "start_time": "2022-11-07T22:12:16.430Z"
   },
   {
    "duration": 36,
    "start_time": "2022-11-07T22:12:16.469Z"
   },
   {
    "duration": 142,
    "start_time": "2022-11-07T22:12:16.506Z"
   },
   {
    "duration": 116,
    "start_time": "2022-11-07T22:12:16.649Z"
   },
   {
    "duration": 5,
    "start_time": "2022-11-07T22:12:16.766Z"
   },
   {
    "duration": 189,
    "start_time": "2022-11-07T22:12:16.773Z"
   },
   {
    "duration": 0,
    "start_time": "2022-11-07T22:12:16.964Z"
   },
   {
    "duration": 51,
    "start_time": "2022-11-07T22:12:45.607Z"
   },
   {
    "duration": 70,
    "start_time": "2022-11-07T22:12:51.693Z"
   },
   {
    "duration": 133,
    "start_time": "2022-11-07T22:14:05.424Z"
   },
   {
    "duration": 2038,
    "start_time": "2022-11-07T22:14:11.428Z"
   },
   {
    "duration": 5,
    "start_time": "2022-11-07T22:14:13.467Z"
   },
   {
    "duration": 5,
    "start_time": "2022-11-07T22:14:22.363Z"
   },
   {
    "duration": 146,
    "start_time": "2022-11-07T22:14:41.881Z"
   },
   {
    "duration": 170,
    "start_time": "2022-11-07T22:15:33.490Z"
   },
   {
    "duration": 52,
    "start_time": "2022-11-07T22:16:20.213Z"
   },
   {
    "duration": 532,
    "start_time": "2022-11-07T22:16:25.799Z"
   },
   {
    "duration": 187,
    "start_time": "2022-11-07T22:16:47.705Z"
   },
   {
    "duration": 153,
    "start_time": "2022-11-07T22:16:53.995Z"
   },
   {
    "duration": 166,
    "start_time": "2022-11-07T22:17:06.679Z"
   },
   {
    "duration": 151,
    "start_time": "2022-11-07T22:17:12.479Z"
   },
   {
    "duration": 3,
    "start_time": "2022-11-07T22:17:23.716Z"
   },
   {
    "duration": 762,
    "start_time": "2022-11-07T22:17:23.721Z"
   },
   {
    "duration": 120,
    "start_time": "2022-11-07T22:17:24.484Z"
   },
   {
    "duration": 83,
    "start_time": "2022-11-07T22:17:24.606Z"
   },
   {
    "duration": 13,
    "start_time": "2022-11-07T22:17:24.691Z"
   },
   {
    "duration": 9,
    "start_time": "2022-11-07T22:17:24.706Z"
   },
   {
    "duration": 184,
    "start_time": "2022-11-07T22:17:24.716Z"
   },
   {
    "duration": 17,
    "start_time": "2022-11-07T22:17:24.902Z"
   },
   {
    "duration": 56,
    "start_time": "2022-11-07T22:17:24.921Z"
   },
   {
    "duration": 140,
    "start_time": "2022-11-07T22:17:24.979Z"
   },
   {
    "duration": 135,
    "start_time": "2022-11-07T22:17:25.120Z"
   },
   {
    "duration": 6,
    "start_time": "2022-11-07T22:17:25.257Z"
   },
   {
    "duration": 2138,
    "start_time": "2022-11-07T22:17:25.264Z"
   },
   {
    "duration": 6,
    "start_time": "2022-11-07T22:17:27.404Z"
   },
   {
    "duration": 148,
    "start_time": "2022-11-07T22:17:27.411Z"
   },
   {
    "duration": 176,
    "start_time": "2022-11-07T22:17:27.561Z"
   },
   {
    "duration": 152,
    "start_time": "2022-11-07T22:17:30.824Z"
   },
   {
    "duration": 152,
    "start_time": "2022-11-07T22:17:33.979Z"
   },
   {
    "duration": 151,
    "start_time": "2022-11-07T22:18:48.062Z"
   },
   {
    "duration": 155,
    "start_time": "2022-11-07T22:19:00.235Z"
   },
   {
    "duration": 4,
    "start_time": "2022-11-07T22:26:03.733Z"
   },
   {
    "duration": 105,
    "start_time": "2022-11-07T22:29:07.707Z"
   },
   {
    "duration": 112,
    "start_time": "2022-11-07T22:29:12.360Z"
   },
   {
    "duration": 117,
    "start_time": "2022-11-07T22:29:16.323Z"
   },
   {
    "duration": 15,
    "start_time": "2022-11-07T22:30:15.929Z"
   },
   {
    "duration": 16,
    "start_time": "2022-11-07T22:30:59.757Z"
   },
   {
    "duration": 14,
    "start_time": "2022-11-07T22:31:04.533Z"
   },
   {
    "duration": 133,
    "start_time": "2022-11-07T22:31:09.871Z"
   },
   {
    "duration": 98,
    "start_time": "2022-11-07T22:32:12.368Z"
   },
   {
    "duration": 173,
    "start_time": "2022-11-07T22:32:19.980Z"
   },
   {
    "duration": 17,
    "start_time": "2022-11-07T22:33:05.898Z"
   },
   {
    "duration": 116,
    "start_time": "2022-11-07T22:33:52.773Z"
   },
   {
    "duration": 119,
    "start_time": "2022-11-07T22:34:26.997Z"
   },
   {
    "duration": 155,
    "start_time": "2022-11-07T22:34:49.622Z"
   },
   {
    "duration": 151,
    "start_time": "2022-11-07T22:35:05.042Z"
   },
   {
    "duration": 134,
    "start_time": "2022-11-07T22:35:14.150Z"
   },
   {
    "duration": 128,
    "start_time": "2022-11-07T22:36:49.067Z"
   },
   {
    "duration": 144,
    "start_time": "2022-11-07T22:38:01.908Z"
   },
   {
    "duration": 156,
    "start_time": "2022-11-07T22:38:21.152Z"
   },
   {
    "duration": 4,
    "start_time": "2022-11-07T22:38:27.449Z"
   },
   {
    "duration": 800,
    "start_time": "2022-11-07T22:38:27.455Z"
   },
   {
    "duration": 144,
    "start_time": "2022-11-07T22:38:28.257Z"
   },
   {
    "duration": 94,
    "start_time": "2022-11-07T22:38:28.403Z"
   },
   {
    "duration": 23,
    "start_time": "2022-11-07T22:38:28.499Z"
   },
   {
    "duration": 10,
    "start_time": "2022-11-07T22:38:28.524Z"
   },
   {
    "duration": 198,
    "start_time": "2022-11-07T22:38:28.550Z"
   },
   {
    "duration": 29,
    "start_time": "2022-11-07T22:38:28.750Z"
   },
   {
    "duration": 25,
    "start_time": "2022-11-07T22:38:28.781Z"
   },
   {
    "duration": 210,
    "start_time": "2022-11-07T22:38:28.808Z"
   },
   {
    "duration": 197,
    "start_time": "2022-11-07T22:38:29.019Z"
   },
   {
    "duration": 140,
    "start_time": "2022-11-07T22:38:33.697Z"
   },
   {
    "duration": 6,
    "start_time": "2022-11-07T22:38:33.966Z"
   },
   {
    "duration": 8,
    "start_time": "2022-11-07T22:38:34.983Z"
   },
   {
    "duration": 2125,
    "start_time": "2022-11-07T22:38:35.779Z"
   },
   {
    "duration": 5,
    "start_time": "2022-11-07T22:38:37.906Z"
   },
   {
    "duration": 162,
    "start_time": "2022-11-07T22:38:37.912Z"
   },
   {
    "duration": 158,
    "start_time": "2022-11-07T22:38:38.739Z"
   },
   {
    "duration": 7,
    "start_time": "2022-11-09T09:56:53.373Z"
   },
   {
    "duration": 1350,
    "start_time": "2022-11-09T09:56:57.314Z"
   },
   {
    "duration": 2772,
    "start_time": "2022-11-09T09:56:58.669Z"
   },
   {
    "duration": 115,
    "start_time": "2022-11-09T09:57:01.443Z"
   },
   {
    "duration": 125,
    "start_time": "2022-11-09T09:57:01.559Z"
   },
   {
    "duration": 20,
    "start_time": "2022-11-09T09:57:01.686Z"
   },
   {
    "duration": 21,
    "start_time": "2022-11-09T09:57:01.709Z"
   },
   {
    "duration": 203,
    "start_time": "2022-11-09T09:57:01.732Z"
   },
   {
    "duration": 40,
    "start_time": "2022-11-09T09:57:01.937Z"
   },
   {
    "duration": 33,
    "start_time": "2022-11-09T09:57:01.979Z"
   },
   {
    "duration": 160,
    "start_time": "2022-11-09T09:57:02.014Z"
   },
   {
    "duration": 143,
    "start_time": "2022-11-09T09:57:02.176Z"
   },
   {
    "duration": 6,
    "start_time": "2022-11-09T09:57:02.321Z"
   },
   {
    "duration": 30,
    "start_time": "2022-11-09T09:57:02.329Z"
   },
   {
    "duration": 2306,
    "start_time": "2022-11-09T09:57:02.362Z"
   },
   {
    "duration": 7,
    "start_time": "2022-11-09T09:57:04.669Z"
   },
   {
    "duration": 164,
    "start_time": "2022-11-09T09:57:04.678Z"
   },
   {
    "duration": 195,
    "start_time": "2022-11-09T09:57:04.845Z"
   },
   {
    "duration": 3,
    "start_time": "2022-11-09T09:57:05.042Z"
   },
   {
    "duration": 103,
    "start_time": "2022-11-09T09:59:12.574Z"
   },
   {
    "duration": 21,
    "start_time": "2022-11-09T09:59:38.180Z"
   },
   {
    "duration": 18,
    "start_time": "2022-11-09T10:00:07.263Z"
   },
   {
    "duration": 17,
    "start_time": "2022-11-09T10:00:08.038Z"
   },
   {
    "duration": 190,
    "start_time": "2022-11-09T10:00:11.445Z"
   },
   {
    "duration": 23,
    "start_time": "2022-11-09T10:00:13.640Z"
   },
   {
    "duration": 33,
    "start_time": "2022-11-09T10:00:14.559Z"
   },
   {
    "duration": 128,
    "start_time": "2022-11-09T10:00:15.313Z"
   },
   {
    "duration": 181,
    "start_time": "2022-11-09T10:00:18.860Z"
   },
   {
    "duration": 7,
    "start_time": "2022-11-09T10:00:19.393Z"
   },
   {
    "duration": 15,
    "start_time": "2022-11-09T10:05:05.515Z"
   },
   {
    "duration": 4,
    "start_time": "2022-11-09T10:05:10.461Z"
   },
   {
    "duration": 876,
    "start_time": "2022-11-09T10:05:12.245Z"
   },
   {
    "duration": 282,
    "start_time": "2022-11-09T10:06:36.553Z"
   },
   {
    "duration": 81,
    "start_time": "2022-11-09T10:08:09.582Z"
   },
   {
    "duration": 46,
    "start_time": "2022-11-09T10:08:27.726Z"
   },
   {
    "duration": 93,
    "start_time": "2022-11-09T10:09:26.122Z"
   },
   {
    "duration": 10,
    "start_time": "2022-11-09T10:09:53.015Z"
   },
   {
    "duration": 164,
    "start_time": "2022-11-09T10:10:02.462Z"
   },
   {
    "duration": 71,
    "start_time": "2022-11-09T10:10:10.013Z"
   },
   {
    "duration": 63,
    "start_time": "2022-11-09T10:46:09.549Z"
   },
   {
    "duration": 93,
    "start_time": "2022-11-09T10:46:33.717Z"
   },
   {
    "duration": 59,
    "start_time": "2022-11-09T10:47:07.756Z"
   },
   {
    "duration": 1418,
    "start_time": "2022-11-09T10:47:23.443Z"
   },
   {
    "duration": 784,
    "start_time": "2022-11-09T10:47:24.862Z"
   },
   {
    "duration": 123,
    "start_time": "2022-11-09T10:47:25.648Z"
   },
   {
    "duration": 148,
    "start_time": "2022-11-09T10:47:25.774Z"
   },
   {
    "duration": 21,
    "start_time": "2022-11-09T10:47:25.924Z"
   },
   {
    "duration": 22,
    "start_time": "2022-11-09T10:47:25.947Z"
   },
   {
    "duration": 184,
    "start_time": "2022-11-09T10:47:25.971Z"
   },
   {
    "duration": 42,
    "start_time": "2022-11-09T10:47:26.157Z"
   },
   {
    "duration": 46,
    "start_time": "2022-11-09T10:47:26.202Z"
   },
   {
    "duration": 193,
    "start_time": "2022-11-09T10:47:26.267Z"
   },
   {
    "duration": 150,
    "start_time": "2022-11-09T10:47:26.461Z"
   },
   {
    "duration": 5,
    "start_time": "2022-11-09T10:47:26.613Z"
   },
   {
    "duration": 7,
    "start_time": "2022-11-09T10:47:26.620Z"
   },
   {
    "duration": 2348,
    "start_time": "2022-11-09T10:47:26.628Z"
   },
   {
    "duration": 9,
    "start_time": "2022-11-09T10:47:28.978Z"
   },
   {
    "duration": 165,
    "start_time": "2022-11-09T10:47:28.989Z"
   },
   {
    "duration": 176,
    "start_time": "2022-11-09T10:47:29.156Z"
   },
   {
    "duration": 3,
    "start_time": "2022-11-09T10:47:29.334Z"
   },
   {
    "duration": 878,
    "start_time": "2022-11-09T10:47:29.339Z"
   },
   {
    "duration": 50,
    "start_time": "2022-11-09T10:47:30.218Z"
   },
   {
    "duration": 50,
    "start_time": "2022-11-09T10:48:26.389Z"
   },
   {
    "duration": 147,
    "start_time": "2022-11-09T10:48:52.755Z"
   },
   {
    "duration": 51,
    "start_time": "2022-11-09T10:49:08.040Z"
   },
   {
    "duration": 224,
    "start_time": "2022-11-09T10:49:18.844Z"
   },
   {
    "duration": 166,
    "start_time": "2022-11-09T10:49:28.591Z"
   },
   {
    "duration": 4,
    "start_time": "2022-11-09T10:50:10.292Z"
   },
   {
    "duration": 485,
    "start_time": "2022-11-09T10:50:17.069Z"
   },
   {
    "duration": 10,
    "start_time": "2022-11-09T10:51:40.499Z"
   },
   {
    "duration": 4,
    "start_time": "2022-11-09T10:52:02.184Z"
   },
   {
    "duration": 232,
    "start_time": "2022-11-09T10:52:06.809Z"
   },
   {
    "duration": 24,
    "start_time": "2022-11-09T11:10:31.600Z"
   },
   {
    "duration": 3,
    "start_time": "2022-11-09T11:11:39.078Z"
   },
   {
    "duration": 3,
    "start_time": "2022-11-09T11:11:53.278Z"
   },
   {
    "duration": 8403,
    "start_time": "2022-11-09T11:12:11.971Z"
   },
   {
    "duration": 637,
    "start_time": "2022-11-09T11:14:53.189Z"
   },
   {
    "duration": 3,
    "start_time": "2022-11-09T11:15:13.174Z"
   },
   {
    "duration": 587,
    "start_time": "2022-11-09T11:15:18.988Z"
   },
   {
    "duration": 3,
    "start_time": "2022-11-09T11:19:07.859Z"
   },
   {
    "duration": 6,
    "start_time": "2022-11-09T11:19:19.292Z"
   },
   {
    "duration": 5,
    "start_time": "2022-11-09T11:19:26.222Z"
   },
   {
    "duration": 161468,
    "start_time": "2022-11-09T11:19:31.406Z"
   },
   {
    "duration": 1463,
    "start_time": "2022-11-09T11:22:25.539Z"
   },
   {
    "duration": 809,
    "start_time": "2022-11-09T11:22:27.004Z"
   },
   {
    "duration": 127,
    "start_time": "2022-11-09T11:22:27.815Z"
   },
   {
    "duration": 107,
    "start_time": "2022-11-09T11:22:27.945Z"
   },
   {
    "duration": 38,
    "start_time": "2022-11-09T11:22:28.054Z"
   },
   {
    "duration": 19,
    "start_time": "2022-11-09T11:22:28.093Z"
   },
   {
    "duration": 235,
    "start_time": "2022-11-09T11:22:28.115Z"
   },
   {
    "duration": 38,
    "start_time": "2022-11-09T11:22:28.354Z"
   },
   {
    "duration": 34,
    "start_time": "2022-11-09T11:22:28.394Z"
   },
   {
    "duration": 182,
    "start_time": "2022-11-09T11:22:28.431Z"
   },
   {
    "duration": 176,
    "start_time": "2022-11-09T11:22:28.616Z"
   },
   {
    "duration": 6,
    "start_time": "2022-11-09T11:22:28.794Z"
   },
   {
    "duration": 12,
    "start_time": "2022-11-09T11:22:28.801Z"
   },
   {
    "duration": 2279,
    "start_time": "2022-11-09T11:22:28.815Z"
   },
   {
    "duration": 6,
    "start_time": "2022-11-09T11:22:31.096Z"
   },
   {
    "duration": 177,
    "start_time": "2022-11-09T11:22:31.104Z"
   },
   {
    "duration": 175,
    "start_time": "2022-11-09T11:22:31.283Z"
   },
   {
    "duration": 14,
    "start_time": "2022-11-09T11:22:31.467Z"
   },
   {
    "duration": 919,
    "start_time": "2022-11-09T11:22:31.483Z"
   },
   {
    "duration": 554,
    "start_time": "2022-11-09T11:22:32.404Z"
   },
   {
    "duration": 211,
    "start_time": "2022-11-09T11:22:32.967Z"
   },
   {
    "duration": 3,
    "start_time": "2022-11-09T11:22:33.180Z"
   },
   {
    "duration": 4,
    "start_time": "2022-11-09T11:22:36.122Z"
   },
   {
    "duration": 207936,
    "start_time": "2022-11-09T11:22:36.951Z"
   },
   {
    "duration": 5,
    "start_time": "2022-11-09T11:26:04.890Z"
   },
   {
    "duration": 358,
    "start_time": "2022-11-09T11:27:26.593Z"
   },
   {
    "duration": 61,
    "start_time": "2022-11-09T11:28:19.670Z"
   },
   {
    "duration": 55,
    "start_time": "2022-11-09T11:28:27.191Z"
   },
   {
    "duration": 56,
    "start_time": "2022-11-09T11:28:32.643Z"
   },
   {
    "duration": 65,
    "start_time": "2022-11-09T11:28:42.579Z"
   },
   {
    "duration": 13,
    "start_time": "2022-11-09T11:28:51.722Z"
   },
   {
    "duration": 81,
    "start_time": "2022-11-09T11:29:15.508Z"
   },
   {
    "duration": 54,
    "start_time": "2022-11-09T11:29:19.711Z"
   },
   {
    "duration": 42877,
    "start_time": "2022-11-09T11:29:32.057Z"
   },
   {
    "duration": 4,
    "start_time": "2022-11-09T11:30:23.506Z"
   },
   {
    "duration": 207921,
    "start_time": "2022-11-09T11:30:26.050Z"
   },
   {
    "duration": 5,
    "start_time": "2022-11-09T11:34:04.006Z"
   },
   {
    "duration": 71,
    "start_time": "2022-11-09T11:34:10.002Z"
   },
   {
    "duration": 68,
    "start_time": "2022-11-09T11:34:21.575Z"
   },
   {
    "duration": 583,
    "start_time": "2022-11-09T11:34:31.704Z"
   },
   {
    "duration": 3,
    "start_time": "2022-11-09T11:34:48.856Z"
   },
   {
    "duration": 303784,
    "start_time": "2022-11-09T11:34:50.490Z"
   },
   {
    "duration": 76,
    "start_time": "2022-11-09T11:40:55.511Z"
   },
   {
    "duration": 4,
    "start_time": "2022-11-09T11:41:04.696Z"
   },
   {
    "duration": 260707,
    "start_time": "2022-11-09T11:41:14.671Z"
   },
   {
    "duration": 28,
    "start_time": "2022-11-09T11:46:20.359Z"
   },
   {
    "duration": 27,
    "start_time": "2022-11-09T11:54:31.375Z"
   },
   {
    "duration": 672,
    "start_time": "2022-11-09T11:54:36.070Z"
   },
   {
    "duration": 27,
    "start_time": "2022-11-09T11:54:58.802Z"
   },
   {
    "duration": 617,
    "start_time": "2022-11-09T11:55:05.670Z"
   },
   {
    "duration": 662,
    "start_time": "2022-11-09T11:55:46.109Z"
   },
   {
    "duration": 4,
    "start_time": "2022-11-09T12:21:41.820Z"
   },
   {
    "duration": 4,
    "start_time": "2022-11-09T12:23:33.067Z"
   },
   {
    "duration": 509105,
    "start_time": "2022-11-09T12:23:53.170Z"
   },
   {
    "duration": 5,
    "start_time": "2022-11-09T12:32:36.795Z"
   },
   {
    "duration": 36750,
    "start_time": "2022-11-09T12:32:37.736Z"
   },
   {
    "duration": 4,
    "start_time": "2022-11-09T12:33:37.528Z"
   },
   {
    "duration": 108793,
    "start_time": "2022-11-09T12:33:38.609Z"
   },
   {
    "duration": 22,
    "start_time": "2022-11-09T12:35:49.643Z"
   },
   {
    "duration": 516,
    "start_time": "2022-11-09T12:35:57.490Z"
   },
   {
    "duration": 3,
    "start_time": "2022-11-09T12:36:28.117Z"
   },
   {
    "duration": 3,
    "start_time": "2022-11-09T12:36:40.401Z"
   },
   {
    "duration": 4745,
    "start_time": "2022-11-09T12:36:57.182Z"
   },
   {
    "duration": 35,
    "start_time": "2022-11-09T12:38:48.241Z"
   },
   {
    "duration": 4,
    "start_time": "2022-11-09T12:41:57.406Z"
   },
   {
    "duration": 3,
    "start_time": "2022-11-09T12:42:08.344Z"
   },
   {
    "duration": 3573,
    "start_time": "2022-11-09T12:42:30.446Z"
   },
   {
    "duration": 3,
    "start_time": "2022-11-09T12:42:41.660Z"
   },
   {
    "duration": 3,
    "start_time": "2022-11-09T12:42:42.198Z"
   },
   {
    "duration": 3013,
    "start_time": "2022-11-09T12:42:42.653Z"
   },
   {
    "duration": 4,
    "start_time": "2022-11-09T12:42:55.191Z"
   },
   {
    "duration": 2,
    "start_time": "2022-11-09T12:42:55.691Z"
   },
   {
    "duration": 4422,
    "start_time": "2022-11-09T12:42:57.631Z"
   },
   {
    "duration": 25,
    "start_time": "2022-11-09T12:43:36.805Z"
   },
   {
    "duration": 11,
    "start_time": "2022-11-09T12:47:44.025Z"
   },
   {
    "duration": 4,
    "start_time": "2022-11-09T12:47:50.092Z"
   },
   {
    "duration": 3,
    "start_time": "2022-11-09T12:47:56.204Z"
   },
   {
    "duration": 3,
    "start_time": "2022-11-09T12:48:07.133Z"
   },
   {
    "duration": 592,
    "start_time": "2022-11-09T12:48:17.140Z"
   },
   {
    "duration": 3,
    "start_time": "2022-11-09T12:48:35.026Z"
   },
   {
    "duration": 3,
    "start_time": "2022-11-09T12:48:35.298Z"
   },
   {
    "duration": 14590,
    "start_time": "2022-11-09T12:48:35.843Z"
   },
   {
    "duration": 4,
    "start_time": "2022-11-09T12:49:02.159Z"
   },
   {
    "duration": 3,
    "start_time": "2022-11-09T12:49:02.797Z"
   },
   {
    "duration": 14987,
    "start_time": "2022-11-09T12:49:03.278Z"
   },
   {
    "duration": 3,
    "start_time": "2022-11-09T12:49:24.185Z"
   },
   {
    "duration": 3,
    "start_time": "2022-11-09T12:49:25.992Z"
   },
   {
    "duration": 456,
    "start_time": "2022-11-09T12:49:26.381Z"
   },
   {
    "duration": 3,
    "start_time": "2022-11-09T12:49:53.637Z"
   },
   {
    "duration": 3,
    "start_time": "2022-11-09T12:49:54.091Z"
   },
   {
    "duration": 15236,
    "start_time": "2022-11-09T12:49:54.561Z"
   },
   {
    "duration": 4,
    "start_time": "2022-11-09T12:50:17.914Z"
   },
   {
    "duration": 3,
    "start_time": "2022-11-09T12:50:18.254Z"
   },
   {
    "duration": 17735,
    "start_time": "2022-11-09T12:50:18.597Z"
   },
   {
    "duration": 3,
    "start_time": "2022-11-09T12:50:43.540Z"
   },
   {
    "duration": 3,
    "start_time": "2022-11-09T12:50:44.811Z"
   },
   {
    "duration": 15125,
    "start_time": "2022-11-09T12:50:45.064Z"
   },
   {
    "duration": 5,
    "start_time": "2022-11-09T12:51:09.119Z"
   },
   {
    "duration": 3,
    "start_time": "2022-11-09T12:51:09.642Z"
   },
   {
    "duration": 15479,
    "start_time": "2022-11-09T12:51:10.002Z"
   },
   {
    "duration": 72,
    "start_time": "2022-11-09T12:51:26.244Z"
   },
   {
    "duration": 1494,
    "start_time": "2022-11-09T18:21:05.795Z"
   },
   {
    "duration": 3,
    "start_time": "2022-11-09T18:21:17.095Z"
   },
   {
    "duration": 2623,
    "start_time": "2022-11-09T18:21:17.100Z"
   },
   {
    "duration": 126,
    "start_time": "2022-11-09T18:21:19.725Z"
   },
   {
    "duration": 86,
    "start_time": "2022-11-09T18:21:19.853Z"
   },
   {
    "duration": 25,
    "start_time": "2022-11-09T18:21:19.947Z"
   },
   {
    "duration": 31,
    "start_time": "2022-11-09T18:21:19.974Z"
   },
   {
    "duration": 226,
    "start_time": "2022-11-09T18:21:20.006Z"
   },
   {
    "duration": 39,
    "start_time": "2022-11-09T18:21:20.234Z"
   },
   {
    "duration": 38,
    "start_time": "2022-11-09T18:21:20.275Z"
   },
   {
    "duration": 134,
    "start_time": "2022-11-09T18:21:20.316Z"
   },
   {
    "duration": 128,
    "start_time": "2022-11-09T18:21:20.451Z"
   },
   {
    "duration": 5,
    "start_time": "2022-11-09T18:21:20.581Z"
   },
   {
    "duration": 17,
    "start_time": "2022-11-09T18:21:20.587Z"
   },
   {
    "duration": 2035,
    "start_time": "2022-11-09T18:21:20.606Z"
   },
   {
    "duration": 7,
    "start_time": "2022-11-09T18:21:22.643Z"
   },
   {
    "duration": 151,
    "start_time": "2022-11-09T18:21:22.651Z"
   },
   {
    "duration": 161,
    "start_time": "2022-11-09T18:21:22.804Z"
   },
   {
    "duration": 4,
    "start_time": "2022-11-09T18:21:22.967Z"
   },
   {
    "duration": 732,
    "start_time": "2022-11-09T18:21:22.973Z"
   },
   {
    "duration": 541,
    "start_time": "2022-11-09T18:21:23.707Z"
   },
   {
    "duration": 200,
    "start_time": "2022-11-09T18:21:24.249Z"
   },
   {
    "duration": 3,
    "start_time": "2022-11-09T18:21:24.450Z"
   },
   {
    "duration": 7,
    "start_time": "2022-11-09T18:21:24.456Z"
   },
   {
    "duration": 9389,
    "start_time": "2022-11-09T18:21:24.465Z"
   },
   {
    "duration": 597,
    "start_time": "2022-11-09T18:21:33.856Z"
   },
   {
    "duration": 3,
    "start_time": "2022-11-09T18:21:34.454Z"
   },
   {
    "duration": 6193,
    "start_time": "2022-11-09T18:21:34.459Z"
   },
   {
    "duration": 612,
    "start_time": "2022-11-09T18:21:40.656Z"
   },
   {
    "duration": 4,
    "start_time": "2022-11-09T18:21:41.270Z"
   },
   {
    "duration": 3778,
    "start_time": "2022-11-09T18:21:41.276Z"
   },
   {
    "duration": 508,
    "start_time": "2022-11-09T18:21:45.056Z"
   },
   {
    "duration": 3,
    "start_time": "2022-11-09T18:21:45.566Z"
   },
   {
    "duration": 12,
    "start_time": "2022-11-09T18:21:45.570Z"
   },
   {
    "duration": 3289,
    "start_time": "2022-11-09T18:21:45.584Z"
   },
   {
    "duration": 28,
    "start_time": "2022-11-09T18:21:48.874Z"
   },
   {
    "duration": 3,
    "start_time": "2022-11-09T18:21:48.904Z"
   },
   {
    "duration": 14,
    "start_time": "2022-11-09T18:21:48.908Z"
   },
   {
    "duration": 3979,
    "start_time": "2022-11-09T18:21:48.923Z"
   },
   {
    "duration": 20,
    "start_time": "2022-11-09T18:21:52.904Z"
   },
   {
    "duration": 3,
    "start_time": "2022-11-09T18:21:52.926Z"
   },
   {
    "duration": 8,
    "start_time": "2022-11-09T18:21:52.930Z"
   },
   {
    "duration": 13561,
    "start_time": "2022-11-09T18:21:52.940Z"
   },
   {
    "duration": 36790,
    "start_time": "2022-11-09T18:25:47.882Z"
   },
   {
    "duration": 1057,
    "start_time": "2022-11-09T18:26:40.025Z"
   },
   {
    "duration": 43854,
    "start_time": "2022-11-09T18:27:25.236Z"
   },
   {
    "duration": 43691,
    "start_time": "2022-11-09T18:28:16.074Z"
   },
   {
    "duration": 44014,
    "start_time": "2022-11-09T18:29:13.356Z"
   },
   {
    "duration": 377453,
    "start_time": "2022-11-09T18:30:34.351Z"
   },
   {
    "duration": 36377,
    "start_time": "2022-11-09T18:37:51.316Z"
   },
   {
    "duration": 44134,
    "start_time": "2022-11-09T18:38:38.403Z"
   },
   {
    "duration": 5762,
    "start_time": "2022-11-09T18:39:59.127Z"
   },
   {
    "duration": 6255,
    "start_time": "2022-11-09T18:40:25.475Z"
   },
   {
    "duration": 6273,
    "start_time": "2022-11-09T18:40:42.261Z"
   },
   {
    "duration": 6237,
    "start_time": "2022-11-09T18:41:04.853Z"
   },
   {
    "duration": 44632,
    "start_time": "2022-11-09T18:41:30.504Z"
   },
   {
    "duration": 66,
    "start_time": "2022-11-09T18:44:09.455Z"
   },
   {
    "duration": 67,
    "start_time": "2022-11-09T18:45:05.254Z"
   },
   {
    "duration": 5834,
    "start_time": "2022-11-09T18:45:20.212Z"
   },
   {
    "duration": 858,
    "start_time": "2022-11-09T18:49:10.053Z"
   },
   {
    "duration": 63,
    "start_time": "2022-11-09T18:58:51.177Z"
   },
   {
    "duration": 60,
    "start_time": "2022-11-09T19:00:46.773Z"
   },
   {
    "duration": 5903,
    "start_time": "2022-11-09T19:01:15.037Z"
   },
   {
    "duration": 72,
    "start_time": "2022-11-09T19:02:53.669Z"
   },
   {
    "duration": 514,
    "start_time": "2022-11-09T19:03:15.646Z"
   },
   {
    "duration": 444,
    "start_time": "2022-11-09T19:21:14.047Z"
   },
   {
    "duration": 432,
    "start_time": "2022-11-09T19:21:24.801Z"
   },
   {
    "duration": 112,
    "start_time": "2022-11-09T19:21:56.128Z"
   },
   {
    "duration": 192,
    "start_time": "2022-11-09T19:22:31.731Z"
   },
   {
    "duration": 368,
    "start_time": "2022-11-09T19:23:25.095Z"
   },
   {
    "duration": 447,
    "start_time": "2022-11-09T19:24:15.603Z"
   },
   {
    "duration": 348,
    "start_time": "2022-11-09T19:25:17.613Z"
   },
   {
    "duration": 33,
    "start_time": "2022-11-09T19:26:08.729Z"
   },
   {
    "duration": 17,
    "start_time": "2022-11-09T19:26:56.060Z"
   },
   {
    "duration": 40,
    "start_time": "2022-11-09T19:27:33.125Z"
   },
   {
    "duration": 4765,
    "start_time": "2022-11-09T19:28:23.624Z"
   },
   {
    "duration": 1365,
    "start_time": "2022-11-09T19:29:54.501Z"
   },
   {
    "duration": 759,
    "start_time": "2022-11-09T19:29:55.868Z"
   },
   {
    "duration": 135,
    "start_time": "2022-11-09T19:29:56.629Z"
   },
   {
    "duration": 92,
    "start_time": "2022-11-09T19:29:56.766Z"
   },
   {
    "duration": 23,
    "start_time": "2022-11-09T19:29:56.860Z"
   },
   {
    "duration": 13,
    "start_time": "2022-11-09T19:29:56.885Z"
   },
   {
    "duration": 216,
    "start_time": "2022-11-09T19:29:56.899Z"
   },
   {
    "duration": 36,
    "start_time": "2022-11-09T19:29:57.117Z"
   },
   {
    "duration": 34,
    "start_time": "2022-11-09T19:29:57.155Z"
   },
   {
    "duration": 151,
    "start_time": "2022-11-09T19:29:57.190Z"
   },
   {
    "duration": 127,
    "start_time": "2022-11-09T19:29:57.343Z"
   },
   {
    "duration": 5,
    "start_time": "2022-11-09T19:29:57.472Z"
   },
   {
    "duration": 5,
    "start_time": "2022-11-09T19:29:57.479Z"
   },
   {
    "duration": 2071,
    "start_time": "2022-11-09T19:29:57.487Z"
   },
   {
    "duration": 6,
    "start_time": "2022-11-09T19:29:59.560Z"
   },
   {
    "duration": 167,
    "start_time": "2022-11-09T19:29:59.568Z"
   },
   {
    "duration": 162,
    "start_time": "2022-11-09T19:29:59.737Z"
   },
   {
    "duration": 3,
    "start_time": "2022-11-09T19:29:59.901Z"
   },
   {
    "duration": 732,
    "start_time": "2022-11-09T19:29:59.905Z"
   },
   {
    "duration": 527,
    "start_time": "2022-11-09T19:30:00.638Z"
   },
   {
    "duration": 121,
    "start_time": "2022-11-09T19:30:01.166Z"
   },
   {
    "duration": 218,
    "start_time": "2022-11-09T19:30:01.288Z"
   },
   {
    "duration": 3,
    "start_time": "2022-11-09T19:30:01.509Z"
   },
   {
    "duration": 55,
    "start_time": "2022-11-09T19:30:01.514Z"
   },
   {
    "duration": 95891,
    "start_time": "2022-11-09T19:30:01.571Z"
   },
   {
    "duration": 495,
    "start_time": "2022-11-09T19:31:37.464Z"
   },
   {
    "duration": 3,
    "start_time": "2022-11-09T19:31:37.961Z"
   },
   {
    "duration": 4385,
    "start_time": "2022-11-09T19:31:37.965Z"
   },
   {
    "duration": 414,
    "start_time": "2022-11-09T19:31:42.352Z"
   },
   {
    "duration": 82,
    "start_time": "2022-11-09T19:31:42.768Z"
   },
   {
    "duration": 14304,
    "start_time": "2022-11-09T19:31:42.851Z"
   },
   {
    "duration": 398,
    "start_time": "2022-11-09T19:31:57.157Z"
   },
   {
    "duration": 3,
    "start_time": "2022-11-09T19:31:57.556Z"
   },
   {
    "duration": 7,
    "start_time": "2022-11-09T19:31:57.560Z"
   },
   {
    "duration": 2887,
    "start_time": "2022-11-09T19:31:57.569Z"
   },
   {
    "duration": 37,
    "start_time": "2022-11-09T19:32:00.458Z"
   },
   {
    "duration": 11,
    "start_time": "2022-11-09T19:32:00.497Z"
   },
   {
    "duration": 22,
    "start_time": "2022-11-09T19:32:00.510Z"
   },
   {
    "duration": 3461,
    "start_time": "2022-11-09T19:32:00.533Z"
   },
   {
    "duration": 16,
    "start_time": "2022-11-09T19:32:03.996Z"
   },
   {
    "duration": 2,
    "start_time": "2022-11-09T19:32:04.016Z"
   },
   {
    "duration": 6,
    "start_time": "2022-11-09T19:32:04.020Z"
   },
   {
    "duration": 11178,
    "start_time": "2022-11-09T19:32:04.027Z"
   },
   {
    "duration": 42,
    "start_time": "2022-11-09T19:32:15.206Z"
   },
   {
    "duration": 34619,
    "start_time": "2022-11-09T19:32:15.249Z"
   },
   {
    "duration": 4560,
    "start_time": "2022-11-09T19:32:49.869Z"
   },
   {
    "duration": 83,
    "start_time": "2022-11-10T13:53:42.983Z"
   },
   {
    "duration": 1944,
    "start_time": "2022-11-10T13:53:49.046Z"
   },
   {
    "duration": 3685,
    "start_time": "2022-11-10T13:53:50.993Z"
   },
   {
    "duration": 139,
    "start_time": "2022-11-10T13:53:54.679Z"
   },
   {
    "duration": 172,
    "start_time": "2022-11-10T13:53:54.820Z"
   },
   {
    "duration": 33,
    "start_time": "2022-11-10T13:53:54.994Z"
   },
   {
    "duration": 39,
    "start_time": "2022-11-10T13:53:55.029Z"
   },
   {
    "duration": 242,
    "start_time": "2022-11-10T13:53:55.070Z"
   },
   {
    "duration": 40,
    "start_time": "2022-11-10T13:54:02.193Z"
   },
   {
    "duration": 52,
    "start_time": "2022-11-10T13:55:56.674Z"
   },
   {
    "duration": 32,
    "start_time": "2022-11-10T14:01:58.074Z"
   },
   {
    "duration": 161,
    "start_time": "2022-11-10T14:01:58.919Z"
   },
   {
    "duration": 138,
    "start_time": "2022-11-10T14:01:59.631Z"
   },
   {
    "duration": 5,
    "start_time": "2022-11-10T14:01:59.912Z"
   },
   {
    "duration": 6,
    "start_time": "2022-11-10T14:02:01.859Z"
   },
   {
    "duration": 2470,
    "start_time": "2022-11-10T14:02:03.368Z"
   },
   {
    "duration": 6,
    "start_time": "2022-11-10T14:02:05.840Z"
   },
   {
    "duration": 164,
    "start_time": "2022-11-10T14:02:08.331Z"
   },
   {
    "duration": 175,
    "start_time": "2022-11-10T14:02:09.395Z"
   },
   {
    "duration": 27,
    "start_time": "2022-11-10T14:02:45.113Z"
   },
   {
    "duration": 29,
    "start_time": "2022-11-10T14:02:46.035Z"
   },
   {
    "duration": 161,
    "start_time": "2022-11-10T14:02:46.789Z"
   },
   {
    "duration": 137,
    "start_time": "2022-11-10T14:02:47.232Z"
   },
   {
    "duration": 6,
    "start_time": "2022-11-10T14:02:47.435Z"
   },
   {
    "duration": 7,
    "start_time": "2022-11-10T14:02:48.667Z"
   },
   {
    "duration": 2352,
    "start_time": "2022-11-10T14:02:49.073Z"
   },
   {
    "duration": 7,
    "start_time": "2022-11-10T14:02:51.429Z"
   },
   {
    "duration": 7,
    "start_time": "2022-11-10T14:02:57.175Z"
   },
   {
    "duration": 907,
    "start_time": "2022-11-10T14:02:57.185Z"
   },
   {
    "duration": 137,
    "start_time": "2022-11-10T14:02:58.093Z"
   },
   {
    "duration": 203,
    "start_time": "2022-11-10T14:02:58.233Z"
   },
   {
    "duration": 25,
    "start_time": "2022-11-10T14:02:58.439Z"
   },
   {
    "duration": 17,
    "start_time": "2022-11-10T14:02:58.467Z"
   },
   {
    "duration": 209,
    "start_time": "2022-11-10T14:02:58.486Z"
   },
   {
    "duration": 34,
    "start_time": "2022-11-10T14:02:58.697Z"
   },
   {
    "duration": 28,
    "start_time": "2022-11-10T14:02:58.735Z"
   },
   {
    "duration": 168,
    "start_time": "2022-11-10T14:02:58.766Z"
   },
   {
    "duration": 145,
    "start_time": "2022-11-10T14:02:58.936Z"
   },
   {
    "duration": 5,
    "start_time": "2022-11-10T14:02:59.083Z"
   },
   {
    "duration": 68,
    "start_time": "2022-11-10T14:02:59.090Z"
   },
   {
    "duration": 2668,
    "start_time": "2022-11-10T14:02:59.160Z"
   },
   {
    "duration": 9,
    "start_time": "2022-11-10T14:03:01.830Z"
   },
   {
    "duration": 170,
    "start_time": "2022-11-10T14:03:02.573Z"
   },
   {
    "duration": 190,
    "start_time": "2022-11-10T14:03:03.758Z"
   },
   {
    "duration": 33,
    "start_time": "2022-11-10T14:03:18.597Z"
   },
   {
    "duration": 28,
    "start_time": "2022-11-10T14:03:20.010Z"
   },
   {
    "duration": 5,
    "start_time": "2022-11-10T14:03:26.895Z"
   },
   {
    "duration": 889,
    "start_time": "2022-11-10T14:03:26.902Z"
   },
   {
    "duration": 132,
    "start_time": "2022-11-10T14:03:27.793Z"
   },
   {
    "duration": 117,
    "start_time": "2022-11-10T14:03:27.927Z"
   },
   {
    "duration": 21,
    "start_time": "2022-11-10T14:03:28.046Z"
   },
   {
    "duration": 14,
    "start_time": "2022-11-10T14:03:28.069Z"
   },
   {
    "duration": 208,
    "start_time": "2022-11-10T14:03:28.085Z"
   },
   {
    "duration": 39,
    "start_time": "2022-11-10T14:03:28.295Z"
   },
   {
    "duration": 31,
    "start_time": "2022-11-10T14:03:28.336Z"
   },
   {
    "duration": 160,
    "start_time": "2022-11-10T14:03:28.370Z"
   },
   {
    "duration": 141,
    "start_time": "2022-11-10T14:03:28.531Z"
   },
   {
    "duration": 5,
    "start_time": "2022-11-10T14:03:28.674Z"
   },
   {
    "duration": 12,
    "start_time": "2022-11-10T14:03:28.681Z"
   },
   {
    "duration": 2718,
    "start_time": "2022-11-10T14:03:28.695Z"
   },
   {
    "duration": 17,
    "start_time": "2022-11-10T14:03:31.414Z"
   },
   {
    "duration": 199,
    "start_time": "2022-11-10T14:03:31.435Z"
   },
   {
    "duration": 196,
    "start_time": "2022-11-10T14:03:32.838Z"
   },
   {
    "duration": 1665,
    "start_time": "2022-11-10T14:03:49.535Z"
   },
   {
    "duration": 915,
    "start_time": "2022-11-10T14:03:51.202Z"
   },
   {
    "duration": 129,
    "start_time": "2022-11-10T14:03:52.120Z"
   },
   {
    "duration": 115,
    "start_time": "2022-11-10T14:03:52.252Z"
   },
   {
    "duration": 25,
    "start_time": "2022-11-10T14:03:52.369Z"
   },
   {
    "duration": 25,
    "start_time": "2022-11-10T14:03:52.397Z"
   },
   {
    "duration": 210,
    "start_time": "2022-11-10T14:03:52.424Z"
   },
   {
    "duration": 35,
    "start_time": "2022-11-10T14:03:52.636Z"
   },
   {
    "duration": 36,
    "start_time": "2022-11-10T14:03:52.673Z"
   },
   {
    "duration": 163,
    "start_time": "2022-11-10T14:03:52.712Z"
   },
   {
    "duration": 155,
    "start_time": "2022-11-10T14:03:52.877Z"
   },
   {
    "duration": 6,
    "start_time": "2022-11-10T14:03:53.034Z"
   },
   {
    "duration": 17,
    "start_time": "2022-11-10T14:03:53.042Z"
   },
   {
    "duration": 2616,
    "start_time": "2022-11-10T14:03:53.061Z"
   },
   {
    "duration": 6,
    "start_time": "2022-11-10T14:03:55.679Z"
   },
   {
    "duration": 197,
    "start_time": "2022-11-10T14:03:55.687Z"
   },
   {
    "duration": 208,
    "start_time": "2022-11-10T14:03:55.886Z"
   },
   {
    "duration": 1699,
    "start_time": "2022-11-10T14:04:30.036Z"
   },
   {
    "duration": 937,
    "start_time": "2022-11-10T14:04:31.737Z"
   },
   {
    "duration": 173,
    "start_time": "2022-11-10T14:04:32.676Z"
   },
   {
    "duration": 125,
    "start_time": "2022-11-10T14:04:32.851Z"
   },
   {
    "duration": 80,
    "start_time": "2022-11-10T14:04:32.979Z"
   },
   {
    "duration": 27,
    "start_time": "2022-11-10T14:04:33.060Z"
   },
   {
    "duration": 263,
    "start_time": "2022-11-10T14:04:33.090Z"
   },
   {
    "duration": 35,
    "start_time": "2022-11-10T14:04:33.355Z"
   },
   {
    "duration": 54,
    "start_time": "2022-11-10T14:04:33.391Z"
   },
   {
    "duration": 206,
    "start_time": "2022-11-10T14:04:33.448Z"
   },
   {
    "duration": 153,
    "start_time": "2022-11-10T14:04:33.656Z"
   },
   {
    "duration": 9,
    "start_time": "2022-11-10T14:04:33.811Z"
   },
   {
    "duration": 35,
    "start_time": "2022-11-10T14:04:33.824Z"
   },
   {
    "duration": 2873,
    "start_time": "2022-11-10T14:04:33.861Z"
   },
   {
    "duration": 7,
    "start_time": "2022-11-10T14:04:36.735Z"
   },
   {
    "duration": 192,
    "start_time": "2022-11-10T14:04:36.744Z"
   },
   {
    "duration": 185,
    "start_time": "2022-11-10T14:04:39.068Z"
   },
   {
    "duration": 1641,
    "start_time": "2022-11-10T14:05:08.989Z"
   },
   {
    "duration": 935,
    "start_time": "2022-11-10T14:05:10.632Z"
   },
   {
    "duration": 126,
    "start_time": "2022-11-10T14:05:11.569Z"
   },
   {
    "duration": 128,
    "start_time": "2022-11-10T14:05:11.697Z"
   },
   {
    "duration": 28,
    "start_time": "2022-11-10T14:05:11.832Z"
   },
   {
    "duration": 22,
    "start_time": "2022-11-10T14:05:11.862Z"
   },
   {
    "duration": 222,
    "start_time": "2022-11-10T14:05:11.886Z"
   },
   {
    "duration": 39,
    "start_time": "2022-11-10T14:05:12.110Z"
   },
   {
    "duration": 38,
    "start_time": "2022-11-10T14:05:12.151Z"
   },
   {
    "duration": 166,
    "start_time": "2022-11-10T14:05:12.191Z"
   },
   {
    "duration": 146,
    "start_time": "2022-11-10T14:05:12.359Z"
   },
   {
    "duration": 23,
    "start_time": "2022-11-10T14:05:12.507Z"
   },
   {
    "duration": 17,
    "start_time": "2022-11-10T14:05:12.533Z"
   },
   {
    "duration": 2410,
    "start_time": "2022-11-10T14:05:12.552Z"
   },
   {
    "duration": 6,
    "start_time": "2022-11-10T14:05:14.964Z"
   },
   {
    "duration": 186,
    "start_time": "2022-11-10T14:05:14.971Z"
   },
   {
    "duration": 203,
    "start_time": "2022-11-10T14:05:16.994Z"
   },
   {
    "duration": 990,
    "start_time": "2022-11-10T14:07:43.990Z"
   },
   {
    "duration": 784,
    "start_time": "2022-11-10T14:07:54.507Z"
   },
   {
    "duration": 4,
    "start_time": "2022-11-10T14:08:03.733Z"
   },
   {
    "duration": 870,
    "start_time": "2022-11-10T14:08:03.739Z"
   },
   {
    "duration": 154,
    "start_time": "2022-11-10T14:08:04.611Z"
   },
   {
    "duration": 120,
    "start_time": "2022-11-10T14:08:04.767Z"
   },
   {
    "duration": 850,
    "start_time": "2022-11-10T14:08:04.889Z"
   },
   {
    "duration": 1051,
    "start_time": "2022-11-10T14:08:15.962Z"
   },
   {
    "duration": 2056,
    "start_time": "2022-11-10T14:08:32.032Z"
   },
   {
    "duration": 909,
    "start_time": "2022-11-10T14:08:34.090Z"
   },
   {
    "duration": 139,
    "start_time": "2022-11-10T14:08:35.001Z"
   },
   {
    "duration": 119,
    "start_time": "2022-11-10T14:08:35.142Z"
   },
   {
    "duration": 138,
    "start_time": "2022-11-10T14:08:42.895Z"
   },
   {
    "duration": 13,
    "start_time": "2022-11-10T14:08:49.685Z"
   },
   {
    "duration": 97,
    "start_time": "2022-11-10T14:08:58.574Z"
   },
   {
    "duration": 4,
    "start_time": "2022-11-10T14:10:30.114Z"
   },
   {
    "duration": 946,
    "start_time": "2022-11-10T14:10:30.120Z"
   },
   {
    "duration": 127,
    "start_time": "2022-11-10T14:10:31.068Z"
   },
   {
    "duration": 108,
    "start_time": "2022-11-10T14:10:31.198Z"
   },
   {
    "duration": 90,
    "start_time": "2022-11-10T14:10:31.308Z"
   },
   {
    "duration": 34,
    "start_time": "2022-11-10T14:10:31.401Z"
   },
   {
    "duration": 22,
    "start_time": "2022-11-10T14:10:31.437Z"
   },
   {
    "duration": 275,
    "start_time": "2022-11-10T14:10:31.461Z"
   },
   {
    "duration": 23,
    "start_time": "2022-11-10T14:10:31.738Z"
   },
   {
    "duration": 60,
    "start_time": "2022-11-10T14:10:31.763Z"
   },
   {
    "duration": 157,
    "start_time": "2022-11-10T14:10:31.829Z"
   },
   {
    "duration": 150,
    "start_time": "2022-11-10T14:10:31.998Z"
   },
   {
    "duration": 7,
    "start_time": "2022-11-10T14:10:32.150Z"
   },
   {
    "duration": 39,
    "start_time": "2022-11-10T14:10:32.159Z"
   },
   {
    "duration": 2584,
    "start_time": "2022-11-10T14:10:32.200Z"
   },
   {
    "duration": 8,
    "start_time": "2022-11-10T14:10:34.786Z"
   },
   {
    "duration": 178,
    "start_time": "2022-11-10T14:10:34.796Z"
   },
   {
    "duration": 174,
    "start_time": "2022-11-10T14:10:36.899Z"
   },
   {
    "duration": 6,
    "start_time": "2022-11-10T14:52:37.747Z"
   },
   {
    "duration": 735,
    "start_time": "2022-11-10T14:54:25.321Z"
   },
   {
    "duration": 3,
    "start_time": "2022-11-10T14:54:29.077Z"
   },
   {
    "duration": 750,
    "start_time": "2022-11-10T14:54:29.950Z"
   },
   {
    "duration": 7,
    "start_time": "2022-11-10T14:54:46.144Z"
   },
   {
    "duration": 950,
    "start_time": "2022-11-10T14:54:46.154Z"
   },
   {
    "duration": 158,
    "start_time": "2022-11-10T14:54:47.106Z"
   },
   {
    "duration": 112,
    "start_time": "2022-11-10T14:54:47.266Z"
   },
   {
    "duration": 100,
    "start_time": "2022-11-10T14:54:47.380Z"
   },
   {
    "duration": 19,
    "start_time": "2022-11-10T14:54:47.482Z"
   },
   {
    "duration": 33,
    "start_time": "2022-11-10T14:54:47.503Z"
   },
   {
    "duration": 206,
    "start_time": "2022-11-10T14:54:47.538Z"
   },
   {
    "duration": 30,
    "start_time": "2022-11-10T14:54:47.746Z"
   },
   {
    "duration": 54,
    "start_time": "2022-11-10T14:54:47.779Z"
   },
   {
    "duration": 173,
    "start_time": "2022-11-10T14:54:47.835Z"
   },
   {
    "duration": 149,
    "start_time": "2022-11-10T14:54:48.010Z"
   },
   {
    "duration": 5,
    "start_time": "2022-11-10T14:54:48.161Z"
   },
   {
    "duration": 20,
    "start_time": "2022-11-10T14:54:48.168Z"
   },
   {
    "duration": 2563,
    "start_time": "2022-11-10T14:54:48.190Z"
   },
   {
    "duration": 8,
    "start_time": "2022-11-10T14:54:50.755Z"
   },
   {
    "duration": 194,
    "start_time": "2022-11-10T14:54:50.765Z"
   },
   {
    "duration": 190,
    "start_time": "2022-11-10T14:54:50.961Z"
   },
   {
    "duration": 3,
    "start_time": "2022-11-10T14:54:51.153Z"
   },
   {
    "duration": 797,
    "start_time": "2022-11-10T14:54:54.354Z"
   },
   {
    "duration": 791,
    "start_time": "2022-11-10T14:55:17.575Z"
   },
   {
    "duration": 543,
    "start_time": "2022-11-10T14:55:29.863Z"
   },
   {
    "duration": 1525,
    "start_time": "2022-11-10T14:55:41.431Z"
   },
   {
    "duration": 994,
    "start_time": "2022-11-10T14:55:42.959Z"
   },
   {
    "duration": 133,
    "start_time": "2022-11-10T14:55:43.955Z"
   },
   {
    "duration": 122,
    "start_time": "2022-11-10T14:55:44.090Z"
   },
   {
    "duration": 121,
    "start_time": "2022-11-10T14:55:44.216Z"
   },
   {
    "duration": 30,
    "start_time": "2022-11-10T14:55:44.343Z"
   },
   {
    "duration": 21,
    "start_time": "2022-11-10T14:55:44.375Z"
   },
   {
    "duration": 217,
    "start_time": "2022-11-10T14:55:44.398Z"
   },
   {
    "duration": 48,
    "start_time": "2022-11-10T14:55:44.618Z"
   },
   {
    "duration": 38,
    "start_time": "2022-11-10T14:55:44.668Z"
   },
   {
    "duration": 174,
    "start_time": "2022-11-10T14:55:44.708Z"
   },
   {
    "duration": 172,
    "start_time": "2022-11-10T14:55:44.884Z"
   },
   {
    "duration": 5,
    "start_time": "2022-11-10T14:55:45.058Z"
   },
   {
    "duration": 6,
    "start_time": "2022-11-10T14:55:45.066Z"
   },
   {
    "duration": 2657,
    "start_time": "2022-11-10T14:55:45.074Z"
   },
   {
    "duration": 12,
    "start_time": "2022-11-10T14:55:47.738Z"
   },
   {
    "duration": 177,
    "start_time": "2022-11-10T14:55:47.753Z"
   },
   {
    "duration": 187,
    "start_time": "2022-11-10T14:55:47.932Z"
   },
   {
    "duration": 6,
    "start_time": "2022-11-10T14:55:48.124Z"
   },
   {
    "duration": 554,
    "start_time": "2022-11-10T14:56:24.048Z"
   },
   {
    "duration": 19,
    "start_time": "2022-11-10T14:56:28.803Z"
   },
   {
    "duration": 293,
    "start_time": "2022-11-10T14:56:45.181Z"
   },
   {
    "duration": 16,
    "start_time": "2022-11-10T14:56:45.551Z"
   },
   {
    "duration": 1567,
    "start_time": "2022-11-10T14:56:53.856Z"
   },
   {
    "duration": 987,
    "start_time": "2022-11-10T14:56:55.425Z"
   },
   {
    "duration": 166,
    "start_time": "2022-11-10T14:56:56.414Z"
   },
   {
    "duration": 144,
    "start_time": "2022-11-10T14:56:56.583Z"
   },
   {
    "duration": 120,
    "start_time": "2022-11-10T14:56:56.740Z"
   },
   {
    "duration": 34,
    "start_time": "2022-11-10T14:56:56.863Z"
   },
   {
    "duration": 39,
    "start_time": "2022-11-10T14:56:56.899Z"
   },
   {
    "duration": 254,
    "start_time": "2022-11-10T14:56:56.942Z"
   },
   {
    "duration": 38,
    "start_time": "2022-11-10T14:56:57.198Z"
   },
   {
    "duration": 39,
    "start_time": "2022-11-10T14:56:57.244Z"
   },
   {
    "duration": 163,
    "start_time": "2022-11-10T14:56:57.285Z"
   },
   {
    "duration": 143,
    "start_time": "2022-11-10T14:56:57.453Z"
   },
   {
    "duration": 6,
    "start_time": "2022-11-10T14:56:57.598Z"
   },
   {
    "duration": 37,
    "start_time": "2022-11-10T14:56:57.605Z"
   },
   {
    "duration": 2594,
    "start_time": "2022-11-10T14:56:57.644Z"
   },
   {
    "duration": 12,
    "start_time": "2022-11-10T14:57:00.242Z"
   },
   {
    "duration": 223,
    "start_time": "2022-11-10T14:57:00.257Z"
   },
   {
    "duration": 193,
    "start_time": "2022-11-10T14:57:00.482Z"
   },
   {
    "duration": 4,
    "start_time": "2022-11-10T14:57:00.677Z"
   },
   {
    "duration": 678,
    "start_time": "2022-11-10T14:57:02.609Z"
   },
   {
    "duration": 28,
    "start_time": "2022-11-10T14:57:03.821Z"
   },
   {
    "duration": 1627,
    "start_time": "2022-11-10T14:58:05.051Z"
   },
   {
    "duration": 969,
    "start_time": "2022-11-10T14:58:06.681Z"
   },
   {
    "duration": 142,
    "start_time": "2022-11-10T14:58:07.654Z"
   },
   {
    "duration": 117,
    "start_time": "2022-11-10T14:58:07.797Z"
   },
   {
    "duration": 131,
    "start_time": "2022-11-10T14:58:07.924Z"
   },
   {
    "duration": 27,
    "start_time": "2022-11-10T14:58:08.059Z"
   },
   {
    "duration": 23,
    "start_time": "2022-11-10T14:58:08.088Z"
   },
   {
    "duration": 291,
    "start_time": "2022-11-10T14:58:08.113Z"
   },
   {
    "duration": 49,
    "start_time": "2022-11-10T14:58:08.407Z"
   },
   {
    "duration": 43,
    "start_time": "2022-11-10T14:58:08.458Z"
   },
   {
    "duration": 188,
    "start_time": "2022-11-10T14:58:08.503Z"
   },
   {
    "duration": 165,
    "start_time": "2022-11-10T14:58:08.693Z"
   },
   {
    "duration": 5,
    "start_time": "2022-11-10T14:58:08.860Z"
   },
   {
    "duration": 10,
    "start_time": "2022-11-10T14:58:08.868Z"
   },
   {
    "duration": 2701,
    "start_time": "2022-11-10T14:58:08.879Z"
   },
   {
    "duration": 6,
    "start_time": "2022-11-10T14:58:11.582Z"
   },
   {
    "duration": 194,
    "start_time": "2022-11-10T14:58:11.589Z"
   },
   {
    "duration": 199,
    "start_time": "2022-11-10T14:58:11.784Z"
   },
   {
    "duration": 3,
    "start_time": "2022-11-10T14:58:11.985Z"
   },
   {
    "duration": 23,
    "start_time": "2022-11-10T14:58:15.203Z"
   },
   {
    "duration": 639,
    "start_time": "2022-11-10T14:58:19.592Z"
   },
   {
    "duration": 27,
    "start_time": "2022-11-10T14:58:20.785Z"
   },
   {
    "duration": 182,
    "start_time": "2022-11-10T14:59:28.988Z"
   },
   {
    "duration": 19,
    "start_time": "2022-11-10T14:59:48.037Z"
   },
   {
    "duration": 1733,
    "start_time": "2022-11-10T15:00:05.488Z"
   },
   {
    "duration": 1032,
    "start_time": "2022-11-10T15:00:07.229Z"
   },
   {
    "duration": 174,
    "start_time": "2022-11-10T15:00:08.264Z"
   },
   {
    "duration": 118,
    "start_time": "2022-11-10T15:00:08.447Z"
   },
   {
    "duration": 103,
    "start_time": "2022-11-10T15:00:08.567Z"
   },
   {
    "duration": 28,
    "start_time": "2022-11-10T15:00:08.672Z"
   },
   {
    "duration": 44,
    "start_time": "2022-11-10T15:00:08.701Z"
   },
   {
    "duration": 226,
    "start_time": "2022-11-10T15:00:08.746Z"
   },
   {
    "duration": 34,
    "start_time": "2022-11-10T15:00:08.974Z"
   },
   {
    "duration": 51,
    "start_time": "2022-11-10T15:00:09.011Z"
   },
   {
    "duration": 167,
    "start_time": "2022-11-10T15:00:09.064Z"
   },
   {
    "duration": 159,
    "start_time": "2022-11-10T15:00:09.232Z"
   },
   {
    "duration": 6,
    "start_time": "2022-11-10T15:00:09.393Z"
   },
   {
    "duration": 64,
    "start_time": "2022-11-10T15:00:09.401Z"
   },
   {
    "duration": 2644,
    "start_time": "2022-11-10T15:00:09.468Z"
   },
   {
    "duration": 22,
    "start_time": "2022-11-10T15:00:12.114Z"
   },
   {
    "duration": 195,
    "start_time": "2022-11-10T15:00:12.140Z"
   },
   {
    "duration": 207,
    "start_time": "2022-11-10T15:00:12.337Z"
   },
   {
    "duration": 3,
    "start_time": "2022-11-10T15:00:12.546Z"
   },
   {
    "duration": 28,
    "start_time": "2022-11-10T15:00:12.553Z"
   },
   {
    "duration": 28,
    "start_time": "2022-11-10T15:00:14.523Z"
   },
   {
    "duration": 1686,
    "start_time": "2022-11-10T15:00:15.856Z"
   },
   {
    "duration": 797,
    "start_time": "2022-11-10T15:01:04.507Z"
   },
   {
    "duration": 793,
    "start_time": "2022-11-10T15:01:20.003Z"
   },
   {
    "duration": 806,
    "start_time": "2022-11-10T15:01:48.176Z"
   },
   {
    "duration": 789,
    "start_time": "2022-11-10T15:03:34.479Z"
   },
   {
    "duration": 40,
    "start_time": "2022-11-10T15:03:37.507Z"
   },
   {
    "duration": 354,
    "start_time": "2022-11-10T15:04:36.910Z"
   },
   {
    "duration": 54,
    "start_time": "2022-11-10T15:04:37.504Z"
   },
   {
    "duration": 1716,
    "start_time": "2022-11-10T15:04:51.649Z"
   },
   {
    "duration": 1031,
    "start_time": "2022-11-10T15:04:53.370Z"
   },
   {
    "duration": 172,
    "start_time": "2022-11-10T15:04:54.402Z"
   },
   {
    "duration": 160,
    "start_time": "2022-11-10T15:04:54.579Z"
   },
   {
    "duration": 115,
    "start_time": "2022-11-10T15:04:54.744Z"
   },
   {
    "duration": 28,
    "start_time": "2022-11-10T15:04:54.866Z"
   },
   {
    "duration": 14,
    "start_time": "2022-11-10T15:04:54.896Z"
   },
   {
    "duration": 275,
    "start_time": "2022-11-10T15:04:54.912Z"
   },
   {
    "duration": 53,
    "start_time": "2022-11-10T15:04:55.188Z"
   },
   {
    "duration": 41,
    "start_time": "2022-11-10T15:04:55.244Z"
   },
   {
    "duration": 180,
    "start_time": "2022-11-10T15:04:55.286Z"
   },
   {
    "duration": 151,
    "start_time": "2022-11-10T15:04:55.467Z"
   },
   {
    "duration": 13,
    "start_time": "2022-11-10T15:04:55.626Z"
   },
   {
    "duration": 27,
    "start_time": "2022-11-10T15:04:55.648Z"
   },
   {
    "duration": 3101,
    "start_time": "2022-11-10T15:04:55.677Z"
   },
   {
    "duration": 7,
    "start_time": "2022-11-10T15:04:58.780Z"
   },
   {
    "duration": 208,
    "start_time": "2022-11-10T15:04:58.789Z"
   },
   {
    "duration": 232,
    "start_time": "2022-11-10T15:04:58.999Z"
   },
   {
    "duration": 4,
    "start_time": "2022-11-10T15:04:59.236Z"
   },
   {
    "duration": 27,
    "start_time": "2022-11-10T15:05:03.904Z"
   },
   {
    "duration": 841,
    "start_time": "2022-11-10T15:05:05.007Z"
   },
   {
    "duration": 31,
    "start_time": "2022-11-10T15:05:05.851Z"
   },
   {
    "duration": 183,
    "start_time": "2022-11-10T15:05:36.766Z"
   },
   {
    "duration": 1686,
    "start_time": "2022-11-10T15:05:50.300Z"
   },
   {
    "duration": 1009,
    "start_time": "2022-11-10T15:05:51.989Z"
   },
   {
    "duration": 164,
    "start_time": "2022-11-10T15:05:52.999Z"
   },
   {
    "duration": 120,
    "start_time": "2022-11-10T15:05:53.168Z"
   },
   {
    "duration": 106,
    "start_time": "2022-11-10T15:05:53.290Z"
   },
   {
    "duration": 40,
    "start_time": "2022-11-10T15:05:53.397Z"
   },
   {
    "duration": 35,
    "start_time": "2022-11-10T15:05:53.444Z"
   },
   {
    "duration": 271,
    "start_time": "2022-11-10T15:05:53.482Z"
   },
   {
    "duration": 30,
    "start_time": "2022-11-10T15:05:53.762Z"
   },
   {
    "duration": 62,
    "start_time": "2022-11-10T15:05:53.795Z"
   },
   {
    "duration": 171,
    "start_time": "2022-11-10T15:05:53.866Z"
   },
   {
    "duration": 174,
    "start_time": "2022-11-10T15:05:54.039Z"
   },
   {
    "duration": 14,
    "start_time": "2022-11-10T15:05:54.219Z"
   },
   {
    "duration": 62,
    "start_time": "2022-11-10T15:05:54.234Z"
   },
   {
    "duration": 3091,
    "start_time": "2022-11-10T15:05:54.298Z"
   },
   {
    "duration": 7,
    "start_time": "2022-11-10T15:05:57.392Z"
   },
   {
    "duration": 205,
    "start_time": "2022-11-10T15:05:57.401Z"
   },
   {
    "duration": 200,
    "start_time": "2022-11-10T15:05:57.608Z"
   },
   {
    "duration": 4,
    "start_time": "2022-11-10T15:05:57.809Z"
   },
   {
    "duration": 62,
    "start_time": "2022-11-10T15:05:57.830Z"
   },
   {
    "duration": 39,
    "start_time": "2022-11-10T15:05:59.918Z"
   },
   {
    "duration": 806,
    "start_time": "2022-11-10T15:06:00.892Z"
   },
   {
    "duration": 40,
    "start_time": "2022-11-10T15:06:02.307Z"
   },
   {
    "duration": 765,
    "start_time": "2022-11-10T15:06:41.411Z"
   },
   {
    "duration": 53,
    "start_time": "2022-11-10T15:07:22.975Z"
   },
   {
    "duration": 659,
    "start_time": "2022-11-10T15:07:25.990Z"
   },
   {
    "duration": 307,
    "start_time": "2022-11-10T15:07:37.507Z"
   },
   {
    "duration": 1608,
    "start_time": "2022-11-10T15:07:49.836Z"
   },
   {
    "duration": 959,
    "start_time": "2022-11-10T15:07:51.446Z"
   },
   {
    "duration": 165,
    "start_time": "2022-11-10T15:07:52.407Z"
   },
   {
    "duration": 114,
    "start_time": "2022-11-10T15:07:52.574Z"
   },
   {
    "duration": 104,
    "start_time": "2022-11-10T15:07:52.691Z"
   },
   {
    "duration": 47,
    "start_time": "2022-11-10T15:07:52.797Z"
   },
   {
    "duration": 15,
    "start_time": "2022-11-10T15:07:52.851Z"
   },
   {
    "duration": 225,
    "start_time": "2022-11-10T15:07:52.868Z"
   },
   {
    "duration": 50,
    "start_time": "2022-11-10T15:07:53.095Z"
   },
   {
    "duration": 36,
    "start_time": "2022-11-10T15:07:53.147Z"
   },
   {
    "duration": 169,
    "start_time": "2022-11-10T15:07:53.185Z"
   },
   {
    "duration": 159,
    "start_time": "2022-11-10T15:07:53.356Z"
   },
   {
    "duration": 8,
    "start_time": "2022-11-10T15:07:53.517Z"
   },
   {
    "duration": 39,
    "start_time": "2022-11-10T15:07:53.529Z"
   },
   {
    "duration": 2652,
    "start_time": "2022-11-10T15:07:53.570Z"
   },
   {
    "duration": 19,
    "start_time": "2022-11-10T15:07:56.228Z"
   },
   {
    "duration": 225,
    "start_time": "2022-11-10T15:07:56.248Z"
   },
   {
    "duration": 210,
    "start_time": "2022-11-10T15:07:56.475Z"
   },
   {
    "duration": 2,
    "start_time": "2022-11-10T15:07:56.690Z"
   },
   {
    "duration": 34,
    "start_time": "2022-11-10T15:07:56.694Z"
   },
   {
    "duration": 20,
    "start_time": "2022-11-10T15:07:59.754Z"
   },
   {
    "duration": 1289,
    "start_time": "2022-11-10T15:08:00.288Z"
   },
   {
    "duration": 1358,
    "start_time": "2022-11-10T15:08:16.149Z"
   },
   {
    "duration": 800,
    "start_time": "2022-11-10T15:08:31.479Z"
   },
   {
    "duration": 48,
    "start_time": "2022-11-10T15:08:50.965Z"
   },
   {
    "duration": 747,
    "start_time": "2022-11-10T15:08:53.754Z"
   },
   {
    "duration": 556,
    "start_time": "2022-11-10T15:09:08.694Z"
   },
   {
    "duration": 521,
    "start_time": "2022-11-10T15:09:18.359Z"
   },
   {
    "duration": 698,
    "start_time": "2022-11-10T15:09:40.743Z"
   },
   {
    "duration": 24,
    "start_time": "2022-11-10T15:09:46.555Z"
   },
   {
    "duration": 1480,
    "start_time": "2022-11-10T15:13:54.076Z"
   },
   {
    "duration": 925,
    "start_time": "2022-11-10T15:13:55.558Z"
   },
   {
    "duration": 163,
    "start_time": "2022-11-10T15:13:56.485Z"
   },
   {
    "duration": 186,
    "start_time": "2022-11-10T15:13:56.654Z"
   },
   {
    "duration": 106,
    "start_time": "2022-11-10T15:13:56.841Z"
   },
   {
    "duration": 27,
    "start_time": "2022-11-10T15:13:56.956Z"
   },
   {
    "duration": 32,
    "start_time": "2022-11-10T15:13:56.984Z"
   },
   {
    "duration": 226,
    "start_time": "2022-11-10T15:13:57.018Z"
   },
   {
    "duration": 43,
    "start_time": "2022-11-10T15:13:57.250Z"
   },
   {
    "duration": 49,
    "start_time": "2022-11-10T15:13:57.296Z"
   },
   {
    "duration": 140,
    "start_time": "2022-11-10T15:13:57.350Z"
   },
   {
    "duration": 163,
    "start_time": "2022-11-10T15:13:57.492Z"
   },
   {
    "duration": 5,
    "start_time": "2022-11-10T15:13:57.657Z"
   },
   {
    "duration": 17,
    "start_time": "2022-11-10T15:13:57.664Z"
   },
   {
    "duration": 2638,
    "start_time": "2022-11-10T15:13:57.683Z"
   },
   {
    "duration": 9,
    "start_time": "2022-11-10T15:14:00.330Z"
   },
   {
    "duration": 226,
    "start_time": "2022-11-10T15:14:00.340Z"
   },
   {
    "duration": 194,
    "start_time": "2022-11-10T15:14:00.567Z"
   },
   {
    "duration": 3,
    "start_time": "2022-11-10T15:14:00.762Z"
   },
   {
    "duration": 96,
    "start_time": "2022-11-10T15:14:00.767Z"
   },
   {
    "duration": 27,
    "start_time": "2022-11-10T15:14:03.250Z"
   },
   {
    "duration": 546,
    "start_time": "2022-11-10T15:14:22.248Z"
   },
   {
    "duration": 16,
    "start_time": "2022-11-10T15:14:27.390Z"
   },
   {
    "duration": 657,
    "start_time": "2022-11-10T15:15:55.711Z"
   },
   {
    "duration": 42,
    "start_time": "2022-11-10T15:16:00.199Z"
   },
   {
    "duration": 21,
    "start_time": "2022-11-10T15:16:25.450Z"
   },
   {
    "duration": 3,
    "start_time": "2022-11-10T15:16:53.589Z"
   },
   {
    "duration": 170,
    "start_time": "2022-11-10T15:17:12.569Z"
   },
   {
    "duration": 55,
    "start_time": "2022-11-10T15:19:22.349Z"
   },
   {
    "duration": 1698,
    "start_time": "2022-11-10T15:19:30.765Z"
   },
   {
    "duration": 1030,
    "start_time": "2022-11-10T15:19:32.468Z"
   },
   {
    "duration": 166,
    "start_time": "2022-11-10T15:19:33.500Z"
   },
   {
    "duration": 116,
    "start_time": "2022-11-10T15:19:33.671Z"
   },
   {
    "duration": 99,
    "start_time": "2022-11-10T15:19:33.790Z"
   },
   {
    "duration": 56,
    "start_time": "2022-11-10T15:19:33.891Z"
   },
   {
    "duration": 30,
    "start_time": "2022-11-10T15:19:33.949Z"
   },
   {
    "duration": 249,
    "start_time": "2022-11-10T15:19:33.981Z"
   },
   {
    "duration": 32,
    "start_time": "2022-11-10T15:19:34.238Z"
   },
   {
    "duration": 42,
    "start_time": "2022-11-10T15:19:34.272Z"
   },
   {
    "duration": 165,
    "start_time": "2022-11-10T15:19:34.316Z"
   },
   {
    "duration": 166,
    "start_time": "2022-11-10T15:19:34.483Z"
   },
   {
    "duration": 22,
    "start_time": "2022-11-10T15:19:34.651Z"
   },
   {
    "duration": 9,
    "start_time": "2022-11-10T15:19:34.676Z"
   },
   {
    "duration": 2799,
    "start_time": "2022-11-10T15:19:34.687Z"
   },
   {
    "duration": 5,
    "start_time": "2022-11-10T15:19:37.488Z"
   },
   {
    "duration": 191,
    "start_time": "2022-11-10T15:19:37.495Z"
   },
   {
    "duration": 227,
    "start_time": "2022-11-10T15:19:37.688Z"
   },
   {
    "duration": 13,
    "start_time": "2022-11-10T15:19:37.916Z"
   },
   {
    "duration": 59,
    "start_time": "2022-11-10T15:19:37.932Z"
   },
   {
    "duration": 48,
    "start_time": "2022-11-10T15:19:40.312Z"
   },
   {
    "duration": 687,
    "start_time": "2022-11-10T15:19:41.050Z"
   },
   {
    "duration": 33,
    "start_time": "2022-11-10T15:38:04.501Z"
   },
   {
    "duration": 63,
    "start_time": "2022-11-10T15:39:08.377Z"
   },
   {
    "duration": 1539,
    "start_time": "2022-11-10T15:39:12.481Z"
   },
   {
    "duration": 910,
    "start_time": "2022-11-10T15:39:14.027Z"
   },
   {
    "duration": 122,
    "start_time": "2022-11-10T15:39:14.939Z"
   },
   {
    "duration": 143,
    "start_time": "2022-11-10T15:39:15.064Z"
   },
   {
    "duration": 95,
    "start_time": "2022-11-10T15:39:15.209Z"
   },
   {
    "duration": 38,
    "start_time": "2022-11-10T15:39:15.306Z"
   },
   {
    "duration": 18,
    "start_time": "2022-11-10T15:39:15.345Z"
   },
   {
    "duration": 221,
    "start_time": "2022-11-10T15:39:15.364Z"
   },
   {
    "duration": 40,
    "start_time": "2022-11-10T15:39:15.587Z"
   },
   {
    "duration": 36,
    "start_time": "2022-11-10T15:39:15.630Z"
   },
   {
    "duration": 158,
    "start_time": "2022-11-10T15:39:15.668Z"
   },
   {
    "duration": 133,
    "start_time": "2022-11-10T15:39:15.828Z"
   },
   {
    "duration": 5,
    "start_time": "2022-11-10T15:39:15.962Z"
   },
   {
    "duration": 8,
    "start_time": "2022-11-10T15:39:15.969Z"
   },
   {
    "duration": 2519,
    "start_time": "2022-11-10T15:39:15.978Z"
   },
   {
    "duration": 6,
    "start_time": "2022-11-10T15:39:18.499Z"
   },
   {
    "duration": 174,
    "start_time": "2022-11-10T15:39:18.506Z"
   },
   {
    "duration": 193,
    "start_time": "2022-11-10T15:39:18.682Z"
   },
   {
    "duration": 4,
    "start_time": "2022-11-10T15:39:18.876Z"
   },
   {
    "duration": 27,
    "start_time": "2022-11-10T15:39:18.882Z"
   },
   {
    "duration": 1079,
    "start_time": "2022-11-10T15:39:24.409Z"
   },
   {
    "duration": 551,
    "start_time": "2022-11-10T15:39:50.059Z"
   },
   {
    "duration": 19,
    "start_time": "2022-11-10T15:40:10.153Z"
   },
   {
    "duration": 16,
    "start_time": "2022-11-10T15:40:16.192Z"
   },
   {
    "duration": 90,
    "start_time": "2022-11-10T15:51:23.685Z"
   },
   {
    "duration": 27,
    "start_time": "2022-11-10T15:51:27.292Z"
   },
   {
    "duration": 7,
    "start_time": "2022-11-10T15:51:37.611Z"
   },
   {
    "duration": 1126,
    "start_time": "2022-11-10T15:51:37.621Z"
   },
   {
    "duration": 145,
    "start_time": "2022-11-10T15:51:38.749Z"
   },
   {
    "duration": 126,
    "start_time": "2022-11-10T15:51:38.897Z"
   },
   {
    "duration": 121,
    "start_time": "2022-11-10T15:51:39.025Z"
   },
   {
    "duration": 20,
    "start_time": "2022-11-10T15:51:39.148Z"
   },
   {
    "duration": 13,
    "start_time": "2022-11-10T15:51:39.170Z"
   },
   {
    "duration": 207,
    "start_time": "2022-11-10T15:51:39.185Z"
   },
   {
    "duration": 31,
    "start_time": "2022-11-10T15:51:39.394Z"
   },
   {
    "duration": 31,
    "start_time": "2022-11-10T15:51:39.427Z"
   },
   {
    "duration": 214,
    "start_time": "2022-11-10T15:51:39.460Z"
   },
   {
    "duration": 166,
    "start_time": "2022-11-10T15:51:39.676Z"
   },
   {
    "duration": 14,
    "start_time": "2022-11-10T15:51:39.844Z"
   },
   {
    "duration": 12,
    "start_time": "2022-11-10T15:51:39.861Z"
   },
   {
    "duration": 2532,
    "start_time": "2022-11-10T15:51:39.876Z"
   },
   {
    "duration": 9,
    "start_time": "2022-11-10T15:51:42.411Z"
   },
   {
    "duration": 179,
    "start_time": "2022-11-10T15:51:42.422Z"
   },
   {
    "duration": 210,
    "start_time": "2022-11-10T15:51:42.603Z"
   },
   {
    "duration": 4,
    "start_time": "2022-11-10T15:51:42.829Z"
   },
   {
    "duration": 37,
    "start_time": "2022-11-10T15:51:42.836Z"
   },
   {
    "duration": 31,
    "start_time": "2022-11-10T15:51:44.484Z"
   },
   {
    "duration": 487,
    "start_time": "2022-11-10T15:51:48.810Z"
   },
   {
    "duration": 17,
    "start_time": "2022-11-10T15:51:54.873Z"
   },
   {
    "duration": 93,
    "start_time": "2022-11-10T15:51:59.682Z"
   },
   {
    "duration": 24,
    "start_time": "2022-11-10T15:52:01.506Z"
   },
   {
    "duration": 4,
    "start_time": "2022-11-10T15:53:29.997Z"
   },
   {
    "duration": 5,
    "start_time": "2022-11-10T15:53:39.274Z"
   },
   {
    "duration": 5,
    "start_time": "2022-11-10T15:53:47.516Z"
   },
   {
    "duration": 13,
    "start_time": "2022-11-10T15:54:07.884Z"
   },
   {
    "duration": 108,
    "start_time": "2022-11-10T15:54:28.743Z"
   },
   {
    "duration": 1613,
    "start_time": "2022-11-10T15:54:45.948Z"
   },
   {
    "duration": 947,
    "start_time": "2022-11-10T15:54:47.563Z"
   },
   {
    "duration": 131,
    "start_time": "2022-11-10T15:54:48.511Z"
   },
   {
    "duration": 128,
    "start_time": "2022-11-10T15:54:48.646Z"
   },
   {
    "duration": 106,
    "start_time": "2022-11-10T15:54:48.776Z"
   },
   {
    "duration": 28,
    "start_time": "2022-11-10T15:54:48.884Z"
   },
   {
    "duration": 15,
    "start_time": "2022-11-10T15:54:48.919Z"
   },
   {
    "duration": 228,
    "start_time": "2022-11-10T15:54:48.936Z"
   },
   {
    "duration": 26,
    "start_time": "2022-11-10T15:54:49.166Z"
   },
   {
    "duration": 60,
    "start_time": "2022-11-10T15:54:49.195Z"
   },
   {
    "duration": 168,
    "start_time": "2022-11-10T15:54:49.258Z"
   },
   {
    "duration": 156,
    "start_time": "2022-11-10T15:54:49.428Z"
   },
   {
    "duration": 5,
    "start_time": "2022-11-10T15:54:49.586Z"
   },
   {
    "duration": 14,
    "start_time": "2022-11-10T15:54:49.593Z"
   },
   {
    "duration": 2304,
    "start_time": "2022-11-10T15:54:49.620Z"
   },
   {
    "duration": 6,
    "start_time": "2022-11-10T15:54:51.926Z"
   },
   {
    "duration": 169,
    "start_time": "2022-11-10T15:54:51.934Z"
   },
   {
    "duration": 183,
    "start_time": "2022-11-10T15:54:52.105Z"
   },
   {
    "duration": 3,
    "start_time": "2022-11-10T15:54:52.290Z"
   },
   {
    "duration": 5,
    "start_time": "2022-11-10T15:54:55.391Z"
   },
   {
    "duration": 558,
    "start_time": "2022-11-10T15:55:57.554Z"
   },
   {
    "duration": 8,
    "start_time": "2022-11-10T15:55:58.114Z"
   },
   {
    "duration": 4,
    "start_time": "2022-11-10T15:57:18.366Z"
   },
   {
    "duration": 845,
    "start_time": "2022-11-10T15:57:18.372Z"
   },
   {
    "duration": 119,
    "start_time": "2022-11-10T15:57:19.219Z"
   },
   {
    "duration": 118,
    "start_time": "2022-11-10T15:57:19.340Z"
   },
   {
    "duration": 98,
    "start_time": "2022-11-10T15:57:19.460Z"
   },
   {
    "duration": 20,
    "start_time": "2022-11-10T15:57:19.559Z"
   },
   {
    "duration": 14,
    "start_time": "2022-11-10T15:57:19.581Z"
   },
   {
    "duration": 198,
    "start_time": "2022-11-10T15:57:19.618Z"
   },
   {
    "duration": 25,
    "start_time": "2022-11-10T15:57:21.835Z"
   },
   {
    "duration": 34,
    "start_time": "2022-11-10T15:57:22.872Z"
   },
   {
    "duration": 137,
    "start_time": "2022-11-10T15:57:23.697Z"
   },
   {
    "duration": 178,
    "start_time": "2022-11-10T15:57:24.627Z"
   },
   {
    "duration": 6,
    "start_time": "2022-11-10T15:57:24.898Z"
   },
   {
    "duration": 7,
    "start_time": "2022-11-10T15:57:28.364Z"
   },
   {
    "duration": 2661,
    "start_time": "2022-11-10T15:57:29.462Z"
   },
   {
    "duration": 8,
    "start_time": "2022-11-10T15:57:32.125Z"
   },
   {
    "duration": 172,
    "start_time": "2022-11-10T15:57:32.135Z"
   },
   {
    "duration": 225,
    "start_time": "2022-11-10T15:57:33.329Z"
   },
   {
    "duration": 3,
    "start_time": "2022-11-10T15:57:39.085Z"
   },
   {
    "duration": 5,
    "start_time": "2022-11-10T15:57:40.125Z"
   },
   {
    "duration": 29,
    "start_time": "2022-11-10T15:57:50.983Z"
   },
   {
    "duration": 5,
    "start_time": "2022-11-10T15:57:53.767Z"
   },
   {
    "duration": 986,
    "start_time": "2022-11-10T15:57:53.775Z"
   },
   {
    "duration": 156,
    "start_time": "2022-11-10T15:57:54.763Z"
   },
   {
    "duration": 198,
    "start_time": "2022-11-10T15:57:54.922Z"
   },
   {
    "duration": 120,
    "start_time": "2022-11-10T15:57:55.123Z"
   },
   {
    "duration": 26,
    "start_time": "2022-11-10T15:57:55.245Z"
   },
   {
    "duration": 15,
    "start_time": "2022-11-10T15:57:55.273Z"
   },
   {
    "duration": 242,
    "start_time": "2022-11-10T15:57:55.290Z"
   },
   {
    "duration": 30,
    "start_time": "2022-11-10T15:57:55.539Z"
   },
   {
    "duration": 64,
    "start_time": "2022-11-10T15:57:56.695Z"
   },
   {
    "duration": 26,
    "start_time": "2022-11-10T15:57:58.203Z"
   },
   {
    "duration": 1900,
    "start_time": "2022-11-10T16:04:36.997Z"
   },
   {
    "duration": 1071,
    "start_time": "2022-11-10T16:04:38.899Z"
   },
   {
    "duration": 210,
    "start_time": "2022-11-10T16:04:39.973Z"
   },
   {
    "duration": 155,
    "start_time": "2022-11-10T16:04:40.186Z"
   },
   {
    "duration": 121,
    "start_time": "2022-11-10T16:04:40.343Z"
   },
   {
    "duration": 30,
    "start_time": "2022-11-10T16:04:40.466Z"
   },
   {
    "duration": 43,
    "start_time": "2022-11-10T16:04:40.499Z"
   },
   {
    "duration": 232,
    "start_time": "2022-11-10T16:04:40.544Z"
   },
   {
    "duration": 43,
    "start_time": "2022-11-10T16:04:40.779Z"
   },
   {
    "duration": 68,
    "start_time": "2022-11-10T16:04:42.505Z"
   },
   {
    "duration": 190,
    "start_time": "2022-11-10T16:04:44.691Z"
   },
   {
    "duration": 167,
    "start_time": "2022-11-10T16:04:45.938Z"
   },
   {
    "duration": 15,
    "start_time": "2022-11-10T16:04:46.715Z"
   },
   {
    "duration": 6,
    "start_time": "2022-11-10T16:04:49.288Z"
   },
   {
    "duration": 3158,
    "start_time": "2022-11-10T16:04:50.461Z"
   },
   {
    "duration": 8,
    "start_time": "2022-11-10T16:04:53.624Z"
   },
   {
    "duration": 195,
    "start_time": "2022-11-10T16:04:56.150Z"
   },
   {
    "duration": 236,
    "start_time": "2022-11-10T16:04:57.395Z"
   },
   {
    "duration": 52,
    "start_time": "2022-11-10T16:05:24.106Z"
   },
   {
    "duration": 198,
    "start_time": "2022-11-10T16:05:58.300Z"
   },
   {
    "duration": 3,
    "start_time": "2022-11-10T16:06:01.231Z"
   },
   {
    "duration": 6,
    "start_time": "2022-11-10T16:06:03.554Z"
   },
   {
    "duration": 759,
    "start_time": "2022-11-10T16:06:11.947Z"
   },
   {
    "duration": 4,
    "start_time": "2022-11-10T16:06:12.709Z"
   },
   {
    "duration": 44,
    "start_time": "2022-11-10T16:06:22.136Z"
   },
   {
    "duration": 1788,
    "start_time": "2022-11-10T16:07:14.688Z"
   },
   {
    "duration": 1203,
    "start_time": "2022-11-10T16:07:16.478Z"
   },
   {
    "duration": 153,
    "start_time": "2022-11-10T16:07:17.683Z"
   },
   {
    "duration": 129,
    "start_time": "2022-11-10T16:07:17.840Z"
   },
   {
    "duration": 102,
    "start_time": "2022-11-10T16:07:17.972Z"
   },
   {
    "duration": 27,
    "start_time": "2022-11-10T16:07:18.075Z"
   },
   {
    "duration": 29,
    "start_time": "2022-11-10T16:07:18.104Z"
   },
   {
    "duration": 287,
    "start_time": "2022-11-10T16:07:18.135Z"
   },
   {
    "duration": 37,
    "start_time": "2022-11-10T16:07:18.424Z"
   },
   {
    "duration": 54,
    "start_time": "2022-11-10T16:07:18.465Z"
   },
   {
    "duration": 191,
    "start_time": "2022-11-10T16:07:18.521Z"
   },
   {
    "duration": 178,
    "start_time": "2022-11-10T16:07:18.713Z"
   },
   {
    "duration": 6,
    "start_time": "2022-11-10T16:07:18.893Z"
   },
   {
    "duration": 14,
    "start_time": "2022-11-10T16:07:18.900Z"
   },
   {
    "duration": 2977,
    "start_time": "2022-11-10T16:07:18.916Z"
   },
   {
    "duration": 6,
    "start_time": "2022-11-10T16:07:21.895Z"
   },
   {
    "duration": 262,
    "start_time": "2022-11-10T16:07:21.903Z"
   },
   {
    "duration": 212,
    "start_time": "2022-11-10T16:07:22.167Z"
   },
   {
    "duration": 3,
    "start_time": "2022-11-10T16:07:25.782Z"
   },
   {
    "duration": 35,
    "start_time": "2022-11-10T16:07:31.714Z"
   },
   {
    "duration": 716,
    "start_time": "2022-11-10T16:07:37.571Z"
   },
   {
    "duration": 24,
    "start_time": "2022-11-10T16:07:46.375Z"
   },
   {
    "duration": 1650,
    "start_time": "2022-11-10T16:08:13.686Z"
   },
   {
    "duration": 1033,
    "start_time": "2022-11-10T16:08:15.340Z"
   },
   {
    "duration": 207,
    "start_time": "2022-11-10T16:08:16.375Z"
   },
   {
    "duration": 165,
    "start_time": "2022-11-10T16:08:16.586Z"
   },
   {
    "duration": 118,
    "start_time": "2022-11-10T16:08:16.764Z"
   },
   {
    "duration": 32,
    "start_time": "2022-11-10T16:08:16.885Z"
   },
   {
    "duration": 68,
    "start_time": "2022-11-10T16:08:16.921Z"
   },
   {
    "duration": 241,
    "start_time": "2022-11-10T16:08:16.991Z"
   },
   {
    "duration": 29,
    "start_time": "2022-11-10T16:08:17.234Z"
   },
   {
    "duration": 58,
    "start_time": "2022-11-10T16:08:17.266Z"
   },
   {
    "duration": 182,
    "start_time": "2022-11-10T16:08:17.335Z"
   },
   {
    "duration": 166,
    "start_time": "2022-11-10T16:08:17.519Z"
   },
   {
    "duration": 5,
    "start_time": "2022-11-10T16:08:17.687Z"
   },
   {
    "duration": 7,
    "start_time": "2022-11-10T16:08:17.694Z"
   },
   {
    "duration": 2944,
    "start_time": "2022-11-10T16:08:17.703Z"
   },
   {
    "duration": 8,
    "start_time": "2022-11-10T16:08:20.649Z"
   },
   {
    "duration": 296,
    "start_time": "2022-11-10T16:08:20.659Z"
   },
   {
    "duration": 242,
    "start_time": "2022-11-10T16:08:20.957Z"
   },
   {
    "duration": 4,
    "start_time": "2022-11-10T16:08:21.201Z"
   },
   {
    "duration": 5,
    "start_time": "2022-11-10T16:08:35.968Z"
   },
   {
    "duration": 649,
    "start_time": "2022-11-10T16:08:38.549Z"
   },
   {
    "duration": 161,
    "start_time": "2022-11-10T16:08:41.865Z"
   },
   {
    "duration": 5,
    "start_time": "2022-11-10T16:08:45.049Z"
   },
   {
    "duration": 24,
    "start_time": "2022-11-10T16:08:49.350Z"
   },
   {
    "duration": 6,
    "start_time": "2022-11-10T16:09:08.946Z"
   },
   {
    "duration": 1850,
    "start_time": "2022-11-10T16:10:41.545Z"
   },
   {
    "duration": 920,
    "start_time": "2022-11-10T16:10:43.397Z"
   },
   {
    "duration": 130,
    "start_time": "2022-11-10T16:10:44.318Z"
   },
   {
    "duration": 114,
    "start_time": "2022-11-10T16:10:44.451Z"
   },
   {
    "duration": 98,
    "start_time": "2022-11-10T16:10:44.567Z"
   },
   {
    "duration": 26,
    "start_time": "2022-11-10T16:10:44.667Z"
   },
   {
    "duration": 31,
    "start_time": "2022-11-10T16:10:44.695Z"
   },
   {
    "duration": 228,
    "start_time": "2022-11-10T16:10:44.728Z"
   },
   {
    "duration": 25,
    "start_time": "2022-11-10T16:10:44.958Z"
   },
   {
    "duration": 61,
    "start_time": "2022-11-10T16:10:44.987Z"
   },
   {
    "duration": 188,
    "start_time": "2022-11-10T16:10:45.050Z"
   },
   {
    "duration": 159,
    "start_time": "2022-11-10T16:10:45.240Z"
   },
   {
    "duration": 6,
    "start_time": "2022-11-10T16:10:45.401Z"
   },
   {
    "duration": 33,
    "start_time": "2022-11-10T16:10:45.409Z"
   },
   {
    "duration": 2681,
    "start_time": "2022-11-10T16:10:45.444Z"
   },
   {
    "duration": 8,
    "start_time": "2022-11-10T16:10:48.127Z"
   },
   {
    "duration": 170,
    "start_time": "2022-11-10T16:10:48.139Z"
   },
   {
    "duration": 236,
    "start_time": "2022-11-10T16:10:48.311Z"
   },
   {
    "duration": 3,
    "start_time": "2022-11-10T16:10:48.550Z"
   },
   {
    "duration": 5,
    "start_time": "2022-11-10T16:15:04.606Z"
   },
   {
    "duration": 1032,
    "start_time": "2022-11-10T16:15:04.614Z"
   },
   {
    "duration": 120,
    "start_time": "2022-11-10T16:15:05.648Z"
   },
   {
    "duration": 128,
    "start_time": "2022-11-10T16:15:05.770Z"
   },
   {
    "duration": 97,
    "start_time": "2022-11-10T16:15:05.902Z"
   },
   {
    "duration": 29,
    "start_time": "2022-11-10T16:15:06.001Z"
   },
   {
    "duration": 24,
    "start_time": "2022-11-10T16:15:06.032Z"
   },
   {
    "duration": 270,
    "start_time": "2022-11-10T16:15:06.058Z"
   },
   {
    "duration": 22,
    "start_time": "2022-11-10T16:15:06.330Z"
   },
   {
    "duration": 60,
    "start_time": "2022-11-10T16:15:06.354Z"
   },
   {
    "duration": 177,
    "start_time": "2022-11-10T16:15:06.420Z"
   },
   {
    "duration": 184,
    "start_time": "2022-11-10T16:15:06.601Z"
   },
   {
    "duration": 7,
    "start_time": "2022-11-10T16:15:06.787Z"
   },
   {
    "duration": 67,
    "start_time": "2022-11-10T16:15:06.798Z"
   },
   {
    "duration": 2496,
    "start_time": "2022-11-10T16:15:06.867Z"
   },
   {
    "duration": 9,
    "start_time": "2022-11-10T16:15:09.365Z"
   },
   {
    "duration": 196,
    "start_time": "2022-11-10T16:15:09.376Z"
   },
   {
    "duration": 201,
    "start_time": "2022-11-10T16:15:09.573Z"
   },
   {
    "duration": 5,
    "start_time": "2022-11-10T16:15:09.776Z"
   },
   {
    "duration": 31,
    "start_time": "2022-11-10T16:15:09.784Z"
   },
   {
    "duration": 479,
    "start_time": "2022-11-10T16:15:28.185Z"
   },
   {
    "duration": 4,
    "start_time": "2022-11-10T16:15:33.116Z"
   },
   {
    "duration": 16,
    "start_time": "2022-11-10T16:15:42.927Z"
   },
   {
    "duration": 19,
    "start_time": "2022-11-10T16:15:48.408Z"
   },
   {
    "duration": 169,
    "start_time": "2022-11-10T16:16:22.424Z"
   },
   {
    "duration": 23,
    "start_time": "2022-11-10T16:16:45.351Z"
   },
   {
    "duration": 119,
    "start_time": "2022-11-10T16:16:58.476Z"
   },
   {
    "duration": 16,
    "start_time": "2022-11-10T16:17:06.654Z"
   },
   {
    "duration": 1561,
    "start_time": "2022-11-10T16:17:22.289Z"
   },
   {
    "duration": 876,
    "start_time": "2022-11-10T16:17:23.852Z"
   },
   {
    "duration": 157,
    "start_time": "2022-11-10T16:17:24.730Z"
   },
   {
    "duration": 117,
    "start_time": "2022-11-10T16:17:24.890Z"
   },
   {
    "duration": 95,
    "start_time": "2022-11-10T16:17:25.009Z"
   },
   {
    "duration": 27,
    "start_time": "2022-11-10T16:17:25.118Z"
   },
   {
    "duration": 23,
    "start_time": "2022-11-10T16:17:25.147Z"
   },
   {
    "duration": 247,
    "start_time": "2022-11-10T16:17:25.172Z"
   },
   {
    "duration": 34,
    "start_time": "2022-11-10T16:17:25.421Z"
   },
   {
    "duration": 4,
    "start_time": "2022-11-10T16:17:32.855Z"
   },
   {
    "duration": 5,
    "start_time": "2022-11-10T16:17:40.866Z"
   },
   {
    "duration": 813,
    "start_time": "2022-11-10T16:17:40.873Z"
   },
   {
    "duration": 121,
    "start_time": "2022-11-10T16:17:41.688Z"
   },
   {
    "duration": 100,
    "start_time": "2022-11-10T16:17:41.820Z"
   },
   {
    "duration": 80,
    "start_time": "2022-11-10T16:17:41.922Z"
   },
   {
    "duration": 30,
    "start_time": "2022-11-10T16:17:42.003Z"
   },
   {
    "duration": 10,
    "start_time": "2022-11-10T16:17:42.035Z"
   },
   {
    "duration": 193,
    "start_time": "2022-11-10T16:17:42.047Z"
   },
   {
    "duration": 30,
    "start_time": "2022-11-10T16:17:46.448Z"
   },
   {
    "duration": 26,
    "start_time": "2022-11-10T16:17:46.862Z"
   },
   {
    "duration": 69,
    "start_time": "2022-11-10T16:20:16.266Z"
   },
   {
    "duration": 18,
    "start_time": "2022-11-10T16:20:18.907Z"
   },
   {
    "duration": 4,
    "start_time": "2022-11-10T16:20:23.542Z"
   },
   {
    "duration": 777,
    "start_time": "2022-11-10T16:20:23.549Z"
   },
   {
    "duration": 109,
    "start_time": "2022-11-10T16:20:24.328Z"
   },
   {
    "duration": 101,
    "start_time": "2022-11-10T16:20:24.440Z"
   },
   {
    "duration": 85,
    "start_time": "2022-11-10T16:20:24.543Z"
   },
   {
    "duration": 57,
    "start_time": "2022-11-10T16:20:24.630Z"
   },
   {
    "duration": 11,
    "start_time": "2022-11-10T16:20:24.689Z"
   },
   {
    "duration": 202,
    "start_time": "2022-11-10T16:20:24.701Z"
   },
   {
    "duration": 58,
    "start_time": "2022-11-10T16:20:24.905Z"
   },
   {
    "duration": 65,
    "start_time": "2022-11-10T16:20:26.352Z"
   },
   {
    "duration": 18,
    "start_time": "2022-11-10T16:20:26.886Z"
   },
   {
    "duration": 43,
    "start_time": "2022-11-10T16:20:37.297Z"
   },
   {
    "duration": 139,
    "start_time": "2022-11-10T16:20:41.826Z"
   },
   {
    "duration": 139,
    "start_time": "2022-11-10T16:20:48.100Z"
   },
   {
    "duration": 6,
    "start_time": "2022-11-10T16:20:48.456Z"
   },
   {
    "duration": 5,
    "start_time": "2022-11-10T16:20:54.375Z"
   },
   {
    "duration": 2455,
    "start_time": "2022-11-10T16:20:56.205Z"
   },
   {
    "duration": 6,
    "start_time": "2022-11-10T16:20:58.663Z"
   },
   {
    "duration": 151,
    "start_time": "2022-11-10T16:21:00.400Z"
   },
   {
    "duration": 181,
    "start_time": "2022-11-10T16:21:04.128Z"
   },
   {
    "duration": 1444,
    "start_time": "2022-11-10T16:21:33.308Z"
   },
   {
    "duration": 834,
    "start_time": "2022-11-10T16:21:34.754Z"
   },
   {
    "duration": 123,
    "start_time": "2022-11-10T16:21:35.590Z"
   },
   {
    "duration": 103,
    "start_time": "2022-11-10T16:21:35.719Z"
   },
   {
    "duration": 84,
    "start_time": "2022-11-10T16:21:35.824Z"
   },
   {
    "duration": 31,
    "start_time": "2022-11-10T16:21:35.909Z"
   },
   {
    "duration": 11,
    "start_time": "2022-11-10T16:21:35.942Z"
   },
   {
    "duration": 197,
    "start_time": "2022-11-10T16:21:35.955Z"
   },
   {
    "duration": 65,
    "start_time": "2022-11-10T16:21:36.154Z"
   },
   {
    "duration": 70,
    "start_time": "2022-11-10T16:21:36.222Z"
   },
   {
    "duration": 182,
    "start_time": "2022-11-10T16:21:36.294Z"
   },
   {
    "duration": 176,
    "start_time": "2022-11-10T16:21:36.478Z"
   },
   {
    "duration": 6,
    "start_time": "2022-11-10T16:21:36.655Z"
   },
   {
    "duration": 13,
    "start_time": "2022-11-10T16:21:36.662Z"
   },
   {
    "duration": 2226,
    "start_time": "2022-11-10T16:21:36.676Z"
   },
   {
    "duration": 5,
    "start_time": "2022-11-10T16:21:38.904Z"
   },
   {
    "duration": 150,
    "start_time": "2022-11-10T16:21:38.910Z"
   },
   {
    "duration": 178,
    "start_time": "2022-11-10T16:21:40.465Z"
   },
   {
    "duration": 36,
    "start_time": "2022-11-10T16:22:03.681Z"
   },
   {
    "duration": 49,
    "start_time": "2022-11-10T16:22:05.612Z"
   },
   {
    "duration": 131,
    "start_time": "2022-11-10T16:22:07.250Z"
   },
   {
    "duration": 130,
    "start_time": "2022-11-10T16:22:07.643Z"
   },
   {
    "duration": 5,
    "start_time": "2022-11-10T16:22:07.977Z"
   },
   {
    "duration": 5,
    "start_time": "2022-11-10T16:22:09.467Z"
   },
   {
    "duration": 2185,
    "start_time": "2022-11-10T16:22:10.319Z"
   },
   {
    "duration": 6,
    "start_time": "2022-11-10T16:22:12.506Z"
   },
   {
    "duration": 162,
    "start_time": "2022-11-10T16:22:12.679Z"
   },
   {
    "duration": 182,
    "start_time": "2022-11-10T16:22:13.957Z"
   },
   {
    "duration": 3,
    "start_time": "2022-11-10T16:22:21.085Z"
   },
   {
    "duration": 26,
    "start_time": "2022-11-10T16:22:21.892Z"
   },
   {
    "duration": 564,
    "start_time": "2022-11-10T16:22:36.291Z"
   },
   {
    "duration": 5,
    "start_time": "2022-11-10T16:22:40.646Z"
   },
   {
    "duration": 22,
    "start_time": "2022-11-10T16:22:45.766Z"
   },
   {
    "duration": 69,
    "start_time": "2022-11-10T16:25:38.302Z"
   },
   {
    "duration": 21,
    "start_time": "2022-11-10T16:25:39.337Z"
   },
   {
    "duration": 282,
    "start_time": "2022-11-10T16:25:40.431Z"
   },
   {
    "duration": 22,
    "start_time": "2022-11-10T16:26:01.309Z"
   },
   {
    "duration": 14,
    "start_time": "2022-11-10T16:26:05.737Z"
   },
   {
    "duration": 3,
    "start_time": "2022-11-10T16:26:37.438Z"
   },
   {
    "duration": 3,
    "start_time": "2022-11-10T16:26:38.515Z"
   },
   {
    "duration": 6845,
    "start_time": "2022-11-10T16:26:40.282Z"
   },
   {
    "duration": 123,
    "start_time": "2022-11-10T16:27:03.907Z"
   },
   {
    "duration": 3,
    "start_time": "2022-11-10T16:30:56.831Z"
   },
   {
    "duration": 6058,
    "start_time": "2022-11-10T16:30:58.670Z"
   },
   {
    "duration": 226,
    "start_time": "2022-11-10T16:33:19.717Z"
   },
   {
    "duration": 4,
    "start_time": "2022-11-10T16:33:32.256Z"
   },
   {
    "duration": 23263,
    "start_time": "2022-11-10T16:33:33.970Z"
   },
   {
    "duration": 92,
    "start_time": "2022-11-10T16:34:13.537Z"
   },
   {
    "duration": 3,
    "start_time": "2022-11-10T16:37:42.934Z"
   },
   {
    "duration": 3,
    "start_time": "2022-11-10T16:37:44.553Z"
   },
   {
    "duration": 1686,
    "start_time": "2022-11-10T16:37:51.008Z"
   },
   {
    "duration": 15,
    "start_time": "2022-11-10T16:38:05.648Z"
   },
   {
    "duration": 3,
    "start_time": "2022-11-10T16:38:09.487Z"
   },
   {
    "duration": 3,
    "start_time": "2022-11-10T16:38:09.827Z"
   },
   {
    "duration": 2185,
    "start_time": "2022-11-10T16:38:10.613Z"
   },
   {
    "duration": 15,
    "start_time": "2022-11-10T16:38:20.080Z"
   },
   {
    "duration": 3,
    "start_time": "2022-11-10T16:38:22.902Z"
   },
   {
    "duration": 3,
    "start_time": "2022-11-10T16:38:24.311Z"
   },
   {
    "duration": 10381,
    "start_time": "2022-11-10T16:38:27.626Z"
   },
   {
    "duration": 71,
    "start_time": "2022-11-10T16:38:45.280Z"
   },
   {
    "duration": 4012,
    "start_time": "2022-11-10T16:39:57.171Z"
   },
   {
    "duration": 3836,
    "start_time": "2022-11-10T16:41:20.614Z"
   },
   {
    "duration": 611,
    "start_time": "2022-11-10T16:41:57.025Z"
   },
   {
    "duration": 4124,
    "start_time": "2022-11-10T16:42:09.490Z"
   },
   {
    "duration": 21,
    "start_time": "2022-11-10T16:42:45.343Z"
   },
   {
    "duration": 6,
    "start_time": "2022-11-10T16:49:37.218Z"
   },
   {
    "duration": 163,
    "start_time": "2022-11-10T16:56:10.548Z"
   },
   {
    "duration": 3,
    "start_time": "2022-11-10T16:56:12.926Z"
   },
   {
    "duration": 68,
    "start_time": "2022-11-10T16:56:13.211Z"
   },
   {
    "duration": 115,
    "start_time": "2022-11-10T16:56:25.917Z"
   },
   {
    "duration": 1655,
    "start_time": "2022-11-10T16:56:45.570Z"
   },
   {
    "duration": 54,
    "start_time": "2022-11-10T16:56:47.227Z"
   },
   {
    "duration": 66,
    "start_time": "2022-11-10T16:56:50.007Z"
   },
   {
    "duration": 1572,
    "start_time": "2022-11-10T16:56:56.344Z"
   },
   {
    "duration": 17,
    "start_time": "2022-11-10T16:56:58.576Z"
   },
   {
    "duration": 1473,
    "start_time": "2022-11-10T16:59:40.208Z"
   },
   {
    "duration": 867,
    "start_time": "2022-11-10T16:59:41.683Z"
   },
   {
    "duration": 119,
    "start_time": "2022-11-10T16:59:42.552Z"
   },
   {
    "duration": 113,
    "start_time": "2022-11-10T16:59:42.673Z"
   },
   {
    "duration": 98,
    "start_time": "2022-11-10T16:59:42.788Z"
   },
   {
    "duration": 37,
    "start_time": "2022-11-10T16:59:42.888Z"
   },
   {
    "duration": 34,
    "start_time": "2022-11-10T16:59:42.927Z"
   },
   {
    "duration": 214,
    "start_time": "2022-11-10T16:59:42.962Z"
   },
   {
    "duration": 65,
    "start_time": "2022-11-10T16:59:43.178Z"
   },
   {
    "duration": 75,
    "start_time": "2022-11-10T16:59:43.245Z"
   },
   {
    "duration": 152,
    "start_time": "2022-11-10T16:59:43.321Z"
   },
   {
    "duration": 154,
    "start_time": "2022-11-10T16:59:43.475Z"
   },
   {
    "duration": 5,
    "start_time": "2022-11-10T16:59:43.632Z"
   },
   {
    "duration": 9,
    "start_time": "2022-11-10T16:59:43.640Z"
   },
   {
    "duration": 2332,
    "start_time": "2022-11-10T16:59:43.651Z"
   },
   {
    "duration": 6,
    "start_time": "2022-11-10T16:59:45.985Z"
   },
   {
    "duration": 167,
    "start_time": "2022-11-10T16:59:45.993Z"
   },
   {
    "duration": 198,
    "start_time": "2022-11-10T16:59:46.162Z"
   },
   {
    "duration": 3,
    "start_time": "2022-11-10T16:59:46.363Z"
   },
   {
    "duration": 560,
    "start_time": "2022-11-10T16:59:46.368Z"
   },
   {
    "duration": 14,
    "start_time": "2022-11-10T16:59:46.930Z"
   },
   {
    "duration": 100,
    "start_time": "2022-11-10T16:59:46.945Z"
   },
   {
    "duration": 28,
    "start_time": "2022-11-10T16:59:47.047Z"
   },
   {
    "duration": 225,
    "start_time": "2022-11-10T16:59:47.077Z"
   },
   {
    "duration": 3,
    "start_time": "2022-11-10T16:59:47.304Z"
   },
   {
    "duration": 13,
    "start_time": "2022-11-10T16:59:47.309Z"
   },
   {
    "duration": 5509,
    "start_time": "2022-11-10T16:59:47.324Z"
   },
   {
    "duration": 292,
    "start_time": "2022-11-10T16:59:52.836Z"
   },
   {
    "duration": 3,
    "start_time": "2022-11-10T16:59:53.130Z"
   },
   {
    "duration": 5387,
    "start_time": "2022-11-10T16:59:53.135Z"
   },
   {
    "duration": 205,
    "start_time": "2022-11-10T16:59:58.524Z"
   },
   {
    "duration": 4,
    "start_time": "2022-11-10T16:59:58.731Z"
   },
   {
    "duration": 2991,
    "start_time": "2022-11-10T16:59:58.737Z"
   },
   {
    "duration": 196,
    "start_time": "2022-11-10T17:00:01.730Z"
   },
   {
    "duration": 72,
    "start_time": "2022-11-10T17:00:01.928Z"
   },
   {
    "duration": 128,
    "start_time": "2022-11-10T17:00:02.002Z"
   },
   {
    "duration": 2651,
    "start_time": "2022-11-10T17:00:02.132Z"
   },
   {
    "duration": 16,
    "start_time": "2022-11-10T17:00:04.785Z"
   },
   {
    "duration": 15,
    "start_time": "2022-11-10T17:00:04.803Z"
   },
   {
    "duration": 9,
    "start_time": "2022-11-10T17:00:04.820Z"
   },
   {
    "duration": 2499,
    "start_time": "2022-11-10T17:00:04.831Z"
   },
   {
    "duration": 16,
    "start_time": "2022-11-10T17:00:07.333Z"
   },
   {
    "duration": 5,
    "start_time": "2022-11-10T17:00:07.351Z"
   },
   {
    "duration": 14,
    "start_time": "2022-11-10T17:00:07.358Z"
   },
   {
    "duration": 10590,
    "start_time": "2022-11-10T17:00:07.374Z"
   },
   {
    "duration": 45,
    "start_time": "2022-11-10T17:00:17.967Z"
   },
   {
    "duration": 4040,
    "start_time": "2022-11-10T17:00:18.014Z"
   },
   {
    "duration": 618,
    "start_time": "2022-11-10T17:00:22.056Z"
   },
   {
    "duration": 19,
    "start_time": "2022-11-10T17:00:22.676Z"
   },
   {
    "duration": 1626,
    "start_time": "2022-11-10T17:00:22.697Z"
   },
   {
    "duration": 14,
    "start_time": "2022-11-10T17:00:24.325Z"
   },
   {
    "duration": 1685,
    "start_time": "2022-11-10T17:23:53.848Z"
   },
   {
    "duration": 144,
    "start_time": "2022-11-10T17:24:57.997Z"
   },
   {
    "duration": 4,
    "start_time": "2022-11-10T17:25:21.658Z"
   },
   {
    "duration": 230,
    "start_time": "2022-11-10T17:25:58.566Z"
   },
   {
    "duration": 286,
    "start_time": "2022-11-10T17:26:15.196Z"
   },
   {
    "duration": 213,
    "start_time": "2022-11-10T17:26:22.276Z"
   }
  ],
  "kernelspec": {
   "display_name": "Python 3 (ipykernel)",
   "language": "python",
   "name": "python3"
  },
  "language_info": {
   "codemirror_mode": {
    "name": "ipython",
    "version": 3
   },
   "file_extension": ".py",
   "mimetype": "text/x-python",
   "name": "python",
   "nbconvert_exporter": "python",
   "pygments_lexer": "ipython3",
   "version": "3.9.12"
  },
  "toc": {
   "base_numbering": 1,
   "nav_menu": {},
   "number_sections": true,
   "sideBar": true,
   "skip_h1_title": true,
   "title_cell": "Table of Contents",
   "title_sidebar": "Contents",
   "toc_cell": false,
   "toc_position": {
    "height": "calc(100% - 180px)",
    "left": "10px",
    "top": "150px",
    "width": "437.306px"
   },
   "toc_section_display": true,
   "toc_window_display": true
  }
 },
 "nbformat": 4,
 "nbformat_minor": 2
}
