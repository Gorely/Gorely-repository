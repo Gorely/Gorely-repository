{
 "cells": [
  {
   "cell_type": "markdown",
   "metadata": {
    "toc": true
   },
   "source": [
    "<h1>Содержание<span class=\"tocSkip\"></span></h1>\n",
    "<div class=\"toc\"><ul class=\"toc-item\"><li><span><a href=\"#Prepairing\" data-toc-modified-id=\"Prepairing-1\"><span class=\"toc-item-num\">1&nbsp;&nbsp;</span>Prepairing</a></span><ul class=\"toc-item\"><li><span><a href=\"#Import-all-neccesary\" data-toc-modified-id=\"Import-all-neccesary-1.1\"><span class=\"toc-item-num\">1.1&nbsp;&nbsp;</span>Import all neccesary</a></span></li><li><span><a href=\"#Open-and-learn-the-data\" data-toc-modified-id=\"Open-and-learn-the-data-1.2\"><span class=\"toc-item-num\">1.2&nbsp;&nbsp;</span>Open and learn the data</a></span></li><li><span><a href=\"#Convert-the-date-and-time-to-index\" data-toc-modified-id=\"Convert-the-date-and-time-to-index-1.3\"><span class=\"toc-item-num\">1.3&nbsp;&nbsp;</span>Convert the date and time to index</a></span></li><li><span><a href=\"#Check-of-soritng-the-index\" data-toc-modified-id=\"Check-of-soritng-the-index-1.4\"><span class=\"toc-item-num\">1.4&nbsp;&nbsp;</span>Check of soritng the index</a></span></li><li><span><a href=\"#Resample-the-data\" data-toc-modified-id=\"Resample-the-data-1.5\"><span class=\"toc-item-num\">1.5&nbsp;&nbsp;</span>Resample the data</a></span></li></ul></li><li><span><a href=\"#Analysis\" data-toc-modified-id=\"Analysis-2\"><span class=\"toc-item-num\">2&nbsp;&nbsp;</span>Analysis</a></span><ul class=\"toc-item\"><li><span><a href=\"#Study-stationarity\" data-toc-modified-id=\"Study-stationarity-2.1\"><span class=\"toc-item-num\">2.1&nbsp;&nbsp;</span>Study stationarity</a></span></li><li><span><a href=\"#Изучим-сезонность\" data-toc-modified-id=\"Изучим-сезонность-2.2\"><span class=\"toc-item-num\">2.2&nbsp;&nbsp;</span>Изучим сезонность</a></span></li><li><span><a href=\"#Intermediate-output\" data-toc-modified-id=\"Intermediate-output-2.3\"><span class=\"toc-item-num\">2.3&nbsp;&nbsp;</span>Intermediate output</a></span></li></ul></li><li><span><a href=\"#Learning\" data-toc-modified-id=\"Learning-3\"><span class=\"toc-item-num\">3&nbsp;&nbsp;</span>Learning</a></span><ul class=\"toc-item\"><li><span><a href=\"#Create-features-for-learning\" data-toc-modified-id=\"Create-features-for-learning-3.1\"><span class=\"toc-item-num\">3.1&nbsp;&nbsp;</span>Create features for learning</a></span><ul class=\"toc-item\"><li><span><a href=\"#Let's-define-the-features-and-goals-of-learning\" data-toc-modified-id=\"Let's-define-the-features-and-goals-of-learning-3.1.1\"><span class=\"toc-item-num\">3.1.1&nbsp;&nbsp;</span>Let's define the features and goals of learning</a></span></li></ul></li><li><span><a href=\"#Linear-Regression\" data-toc-modified-id=\"Linear-Regression-3.2\"><span class=\"toc-item-num\">3.2&nbsp;&nbsp;</span>Linear Regression</a></span></li><li><span><a href=\"#Decision-Tree-Regressor\" data-toc-modified-id=\"Decision-Tree-Regressor-3.3\"><span class=\"toc-item-num\">3.3&nbsp;&nbsp;</span>Decision Tree Regressor</a></span></li><li><span><a href=\"#Random-Forest-Regressor\" data-toc-modified-id=\"Random-Forest-Regressor-3.4\"><span class=\"toc-item-num\">3.4&nbsp;&nbsp;</span>Random Forest Regressor</a></span></li><li><span><a href=\"#LGBMRegressor\" data-toc-modified-id=\"LGBMRegressor-3.5\"><span class=\"toc-item-num\">3.5&nbsp;&nbsp;</span>LGBMRegressor</a></span></li><li><span><a href=\"#CatBoostRegressor\" data-toc-modified-id=\"CatBoostRegressor-3.6\"><span class=\"toc-item-num\">3.6&nbsp;&nbsp;</span>CatBoostRegressor</a></span></li><li><span><a href=\"#Results-compare\" data-toc-modified-id=\"Results-compare-3.7\"><span class=\"toc-item-num\">3.7&nbsp;&nbsp;</span>Results compare</a></span></li><li><span><a href=\"#Choosing-the-best-model\" data-toc-modified-id=\"Choosing-the-best-model-3.8\"><span class=\"toc-item-num\">3.8&nbsp;&nbsp;</span>Choosing the best model</a></span></li></ul></li><li><span><a href=\"#Testing\" data-toc-modified-id=\"Testing-4\"><span class=\"toc-item-num\">4&nbsp;&nbsp;</span>Testing</a></span></li><li><span><a href=\"#General-conclusion\" data-toc-modified-id=\"General-conclusion-5\"><span class=\"toc-item-num\">5&nbsp;&nbsp;</span>General conclusion</a></span></li></ul></div>"
   ]
  },
  {
   "cell_type": "markdown",
   "metadata": {},
   "source": [
    "#  Forecasting taxi orders"
   ]
  },
  {
   "cell_type": "markdown",
   "metadata": {},
   "source": [
    "The Clear Taxi company has collected historical data on taxi orders at airports. To attract more drivers during the peak period, you need to predict the number of taxi orders for the next hour. Build a model for such a prediction.\n",
    "\n",
    "The value of the *RMSE* metric on the test set should not exceed 48.\n",
    "\n",
    "You need:\n",
    "\n",
    "1. Load the data and resample it one hour at a time.\n",
    "2. Analyze the data.\n",
    "3. Train different models with different hyperparameters. Make a test sample of 10% of the original data.\n",
    "4. Check the data on the test sample and draw conclusions.\n"
   ]
  },
  {
   "cell_type": "markdown",
   "metadata": {},
   "source": [
    "## Prepairing"
   ]
  },
  {
   "cell_type": "markdown",
   "metadata": {},
   "source": [
    "### Import all neccesary"
   ]
  },
  {
   "cell_type": "code",
   "execution_count": 1,
   "metadata": {},
   "outputs": [],
   "source": [
    "import pandas as pd\n",
    "import numpy as np\n",
    "import matplotlib.pyplot as plt\n",
    "from statsmodels.tsa.seasonal import seasonal_decompose\n",
    "from sklearn.model_selection import train_test_split\n",
    "from sklearn.metrics import mean_squared_error\n",
    "from sklearn.linear_model import LinearRegression\n",
    "from sklearn.tree import DecisionTreeRegressor\n",
    "from sklearn.ensemble import RandomForestRegressor\n",
    "from lightgbm import LGBMRegressor\n",
    "from catboost import CatBoostRegressor\n",
    "\n",
    "state = 12345"
   ]
  },
  {
   "cell_type": "markdown",
   "metadata": {},
   "source": [
    "### Open and learn the data"
   ]
  },
  {
   "cell_type": "code",
   "execution_count": 2,
   "metadata": {
    "scrolled": true
   },
   "outputs": [
    {
     "name": "stdout",
     "output_type": "stream",
     "text": [
      "              datetime  num_orders\n",
      "0  2018-03-01 00:00:00           9\n",
      "1  2018-03-01 00:10:00          14\n",
      "2  2018-03-01 00:20:00          28\n",
      "3  2018-03-01 00:30:00          20\n",
      "4  2018-03-01 00:40:00          32\n",
      "5  2018-03-01 00:50:00          21\n",
      "6  2018-03-01 01:00:00           7\n",
      "7  2018-03-01 01:10:00           5\n",
      "8  2018-03-01 01:20:00          17\n",
      "9  2018-03-01 01:30:00          12\n",
      "<class 'pandas.core.frame.DataFrame'>\n",
      "RangeIndex: 26496 entries, 0 to 26495\n",
      "Data columns (total 2 columns):\n",
      " #   Column      Non-Null Count  Dtype \n",
      "---  ------      --------------  ----- \n",
      " 0   datetime    26496 non-null  object\n",
      " 1   num_orders  26496 non-null  int64 \n",
      "dtypes: int64(1), object(1)\n",
      "memory usage: 414.1+ KB\n"
     ]
    }
   ],
   "source": [
    "data = pd.read_csv ('taxi.csv')\n",
    "print (data.head(10))\n",
    "data.info()"
   ]
  },
  {
   "cell_type": "markdown",
   "metadata": {},
   "source": [
    "Check the columns:\n",
    "- datetime - the date and the name of the taxi order, apparently they are in order, it will be necessary to check. There are no passes.\n",
    "- num_orders - number of orders on the specified date and time. There are no passes."
   ]
  },
  {
   "cell_type": "markdown",
   "metadata": {},
   "source": [
    "### Convert the date and time to index"
   ]
  },
  {
   "cell_type": "code",
   "execution_count": 3,
   "metadata": {
    "scrolled": false
   },
   "outputs": [
    {
     "data": {
      "text/html": [
       "<div>\n",
       "<style scoped>\n",
       "    .dataframe tbody tr th:only-of-type {\n",
       "        vertical-align: middle;\n",
       "    }\n",
       "\n",
       "    .dataframe tbody tr th {\n",
       "        vertical-align: top;\n",
       "    }\n",
       "\n",
       "    .dataframe thead th {\n",
       "        text-align: right;\n",
       "    }\n",
       "</style>\n",
       "<table border=\"1\" class=\"dataframe\">\n",
       "  <thead>\n",
       "    <tr style=\"text-align: right;\">\n",
       "      <th></th>\n",
       "      <th>num_orders</th>\n",
       "    </tr>\n",
       "    <tr>\n",
       "      <th>datetime</th>\n",
       "      <th></th>\n",
       "    </tr>\n",
       "  </thead>\n",
       "  <tbody>\n",
       "    <tr>\n",
       "      <th>2018-03-01 00:00:00</th>\n",
       "      <td>9</td>\n",
       "    </tr>\n",
       "    <tr>\n",
       "      <th>2018-03-01 00:10:00</th>\n",
       "      <td>14</td>\n",
       "    </tr>\n",
       "    <tr>\n",
       "      <th>2018-03-01 00:20:00</th>\n",
       "      <td>28</td>\n",
       "    </tr>\n",
       "    <tr>\n",
       "      <th>2018-03-01 00:30:00</th>\n",
       "      <td>20</td>\n",
       "    </tr>\n",
       "    <tr>\n",
       "      <th>2018-03-01 00:40:00</th>\n",
       "      <td>32</td>\n",
       "    </tr>\n",
       "    <tr>\n",
       "      <th>...</th>\n",
       "      <td>...</td>\n",
       "    </tr>\n",
       "    <tr>\n",
       "      <th>2018-08-31 23:10:00</th>\n",
       "      <td>32</td>\n",
       "    </tr>\n",
       "    <tr>\n",
       "      <th>2018-08-31 23:20:00</th>\n",
       "      <td>24</td>\n",
       "    </tr>\n",
       "    <tr>\n",
       "      <th>2018-08-31 23:30:00</th>\n",
       "      <td>27</td>\n",
       "    </tr>\n",
       "    <tr>\n",
       "      <th>2018-08-31 23:40:00</th>\n",
       "      <td>39</td>\n",
       "    </tr>\n",
       "    <tr>\n",
       "      <th>2018-08-31 23:50:00</th>\n",
       "      <td>53</td>\n",
       "    </tr>\n",
       "  </tbody>\n",
       "</table>\n",
       "<p>26496 rows × 1 columns</p>\n",
       "</div>"
      ],
      "text/plain": [
       "                     num_orders\n",
       "datetime                       \n",
       "2018-03-01 00:00:00           9\n",
       "2018-03-01 00:10:00          14\n",
       "2018-03-01 00:20:00          28\n",
       "2018-03-01 00:30:00          20\n",
       "2018-03-01 00:40:00          32\n",
       "...                         ...\n",
       "2018-08-31 23:10:00          32\n",
       "2018-08-31 23:20:00          24\n",
       "2018-08-31 23:30:00          27\n",
       "2018-08-31 23:40:00          39\n",
       "2018-08-31 23:50:00          53\n",
       "\n",
       "[26496 rows x 1 columns]"
      ]
     },
     "execution_count": 3,
     "metadata": {},
     "output_type": "execute_result"
    }
   ],
   "source": [
    "data['datetime'] = pd.to_datetime(data['datetime'])\n",
    "data = data.set_index(['datetime'])\n",
    "data"
   ]
  },
  {
   "cell_type": "markdown",
   "metadata": {},
   "source": [
    "The date and time have become an index, starting on March 1, 2018 (2018-03-01), and ending on August 31, 2018 (2018-08-01)."
   ]
  },
  {
   "cell_type": "markdown",
   "metadata": {},
   "source": [
    "### Check of soritng the index"
   ]
  },
  {
   "cell_type": "code",
   "execution_count": 4,
   "metadata": {},
   "outputs": [
    {
     "name": "stdout",
     "output_type": "stream",
     "text": [
      "True\n"
     ]
    }
   ],
   "source": [
    "print(data.index.is_monotonic)"
   ]
  },
  {
   "cell_type": "markdown",
   "metadata": {},
   "source": [
    "Data sorted, nothing needs to be sorted more"
   ]
  },
  {
   "cell_type": "markdown",
   "metadata": {},
   "source": [
    "### Resample the data"
   ]
  },
  {
   "cell_type": "markdown",
   "metadata": {},
   "source": [
    "The frequency of the data is 10 minutes, we will resample up to 1 hour."
   ]
  },
  {
   "cell_type": "code",
   "execution_count": 5,
   "metadata": {
    "scrolled": false
   },
   "outputs": [
    {
     "data": {
      "text/html": [
       "<div>\n",
       "<style scoped>\n",
       "    .dataframe tbody tr th:only-of-type {\n",
       "        vertical-align: middle;\n",
       "    }\n",
       "\n",
       "    .dataframe tbody tr th {\n",
       "        vertical-align: top;\n",
       "    }\n",
       "\n",
       "    .dataframe thead th {\n",
       "        text-align: right;\n",
       "    }\n",
       "</style>\n",
       "<table border=\"1\" class=\"dataframe\">\n",
       "  <thead>\n",
       "    <tr style=\"text-align: right;\">\n",
       "      <th></th>\n",
       "      <th>num_orders</th>\n",
       "    </tr>\n",
       "    <tr>\n",
       "      <th>datetime</th>\n",
       "      <th></th>\n",
       "    </tr>\n",
       "  </thead>\n",
       "  <tbody>\n",
       "    <tr>\n",
       "      <th>2018-03-01 00:00:00</th>\n",
       "      <td>124</td>\n",
       "    </tr>\n",
       "    <tr>\n",
       "      <th>2018-03-01 01:00:00</th>\n",
       "      <td>85</td>\n",
       "    </tr>\n",
       "    <tr>\n",
       "      <th>2018-03-01 02:00:00</th>\n",
       "      <td>71</td>\n",
       "    </tr>\n",
       "    <tr>\n",
       "      <th>2018-03-01 03:00:00</th>\n",
       "      <td>66</td>\n",
       "    </tr>\n",
       "    <tr>\n",
       "      <th>2018-03-01 04:00:00</th>\n",
       "      <td>43</td>\n",
       "    </tr>\n",
       "    <tr>\n",
       "      <th>...</th>\n",
       "      <td>...</td>\n",
       "    </tr>\n",
       "    <tr>\n",
       "      <th>2018-08-31 19:00:00</th>\n",
       "      <td>136</td>\n",
       "    </tr>\n",
       "    <tr>\n",
       "      <th>2018-08-31 20:00:00</th>\n",
       "      <td>154</td>\n",
       "    </tr>\n",
       "    <tr>\n",
       "      <th>2018-08-31 21:00:00</th>\n",
       "      <td>159</td>\n",
       "    </tr>\n",
       "    <tr>\n",
       "      <th>2018-08-31 22:00:00</th>\n",
       "      <td>223</td>\n",
       "    </tr>\n",
       "    <tr>\n",
       "      <th>2018-08-31 23:00:00</th>\n",
       "      <td>205</td>\n",
       "    </tr>\n",
       "  </tbody>\n",
       "</table>\n",
       "<p>4416 rows × 1 columns</p>\n",
       "</div>"
      ],
      "text/plain": [
       "                     num_orders\n",
       "datetime                       \n",
       "2018-03-01 00:00:00         124\n",
       "2018-03-01 01:00:00          85\n",
       "2018-03-01 02:00:00          71\n",
       "2018-03-01 03:00:00          66\n",
       "2018-03-01 04:00:00          43\n",
       "...                         ...\n",
       "2018-08-31 19:00:00         136\n",
       "2018-08-31 20:00:00         154\n",
       "2018-08-31 21:00:00         159\n",
       "2018-08-31 22:00:00         223\n",
       "2018-08-31 23:00:00         205\n",
       "\n",
       "[4416 rows x 1 columns]"
      ]
     },
     "execution_count": 5,
     "metadata": {},
     "output_type": "execute_result"
    }
   ],
   "source": [
    "data = data.resample('1H').sum()\n",
    "data"
   ]
  },
  {
   "cell_type": "code",
   "execution_count": 6,
   "metadata": {},
   "outputs": [
    {
     "data": {
      "text/plain": [
       "num_orders    0\n",
       "dtype: int64"
      ]
     },
     "execution_count": 6,
     "metadata": {},
     "output_type": "execute_result"
    }
   ],
   "source": [
    "data.isna().sum()"
   ]
  },
  {
   "cell_type": "markdown",
   "metadata": {},
   "source": [
    "There is no NaNs"
   ]
  },
  {
   "cell_type": "markdown",
   "metadata": {},
   "source": [
    "## Analysis"
   ]
  },
  {
   "cell_type": "markdown",
   "metadata": {},
   "source": [
    "### Study stationarity"
   ]
  },
  {
   "cell_type": "markdown",
   "metadata": {},
   "source": [
    "Let's study the data on the chart"
   ]
  },
  {
   "cell_type": "code",
   "execution_count": 7,
   "metadata": {},
   "outputs": [
    {
     "data": {
      "text/plain": [
       "<AxesSubplot:xlabel='datetime'>"
      ]
     },
     "execution_count": 7,
     "metadata": {},
     "output_type": "execute_result"
    },
    {
     "data": {
      "image/png": "[encoded data removed]",
      "text/plain": [
       "<Figure size 432x288 with 1 Axes>"
      ]
     },
     "metadata": {
      "needs_background": "light"
     },
     "output_type": "display_data"
    }
   ],
   "source": [
    "data.plot()"
   ]
  },
  {
   "cell_type": "markdown",
   "metadata": {},
   "source": [
    "Let's try to smooth the time series. Let's make a new dataset so that the original remains untouched."
   ]
  },
  {
   "cell_type": "code",
   "execution_count": 8,
   "metadata": {},
   "outputs": [],
   "source": [
    "data_new = data.copy()\n",
    "data_new['rolling_mean'] = data_new.rolling(10).mean()"
   ]
  },
  {
   "cell_type": "code",
   "execution_count": 9,
   "metadata": {},
   "outputs": [
    {
     "data": {
      "text/plain": [
       "<AxesSubplot:xlabel='datetime'>"
      ]
     },
     "execution_count": 9,
     "metadata": {},
     "output_type": "execute_result"
    },
    {
     "data": {
      "image/png": "[encoded data removed]",
      "text/plain": [
       "<Figure size 432x288 with 1 Axes>"
      ]
     },
     "metadata": {
      "needs_background": "light"
     },
     "output_type": "display_data"
    }
   ],
   "source": [
    "data_new.plot()"
   ]
  },
  {
   "cell_type": "markdown",
   "metadata": {},
   "source": [
    "At first glance, the time series is not stationary. Let's try to apply another shift."
   ]
  },
  {
   "cell_type": "code",
   "execution_count": 10,
   "metadata": {},
   "outputs": [],
   "source": [
    "data_new = data_new - data_new.shift(fill_value = 0)"
   ]
  },
  {
   "cell_type": "code",
   "execution_count": 11,
   "metadata": {},
   "outputs": [
    {
     "data": {
      "text/plain": [
       "<AxesSubplot:xlabel='datetime'>"
      ]
     },
     "execution_count": 11,
     "metadata": {},
     "output_type": "execute_result"
    },
    {
     "data": {
      "image/png": "[encoded data removed]",
      "text/plain": [
       "<Figure size 432x288 with 1 Axes>"
      ]
     },
     "metadata": {
      "needs_background": "light"
     },
     "output_type": "display_data"
    }
   ],
   "source": [
    "data_new['mean'] = data_new['num_orders'].rolling(15).mean()\n",
    "data_new['std'] = data_new['num_orders'].rolling(15).std()\n",
    "\n",
    "data_new.plot()"
   ]
  },
  {
   "cell_type": "markdown",
   "metadata": {},
   "source": [
    "### Изучим сезонность"
   ]
  },
  {
   "cell_type": "code",
   "execution_count": 12,
   "metadata": {},
   "outputs": [
    {
     "data": {
      "image/png": "[encoded data removed]",
      "text/plain": [
       "<Figure size 720x1440 with 5 Axes>"
      ]
     },
     "metadata": {
      "needs_background": "light"
     },
     "output_type": "display_data"
    }
   ],
   "source": [
    "decomposed = seasonal_decompose(data)\n",
    "\n",
    "# smooth change in the average value of the series without repeating patterns\n",
    "plt.figure (figsize = (10, 20))\n",
    "plt.subplot (511)\n",
    "decomposed.trend.plot (ax = plt.gca())\n",
    "plt.title('Trend') \n",
    "\n",
    "# cyclically repeating patterns during the month\n",
    "plt.subplot(512)\n",
    "decomposed.seasonal['2018-08-01':'2018-08-31'].plot(ax = plt.gca())\n",
    "plt.title('Seasonality_month') \n",
    "\n",
    "# cycling patterns throughout the week\n",
    "plt.subplot(513)\n",
    "decomposed.seasonal['2018-08-01':'2018-08-07'].plot(ax = plt.gca())\n",
    "plt.title('Seasonality_week')  \n",
    "\n",
    "# cyclically repeating patterns throughout the day\n",
    "plt.subplot(514)\n",
    "decomposed.seasonal['2018-08-01'].plot(ax = plt.gca())\n",
    "plt.title('Seasonality_day') \n",
    "\n",
    "# component that is not explained by trend and seasonality - noise\n",
    "plt.subplot(515)\n",
    "decomposed.resid.plot(ax = plt.gca()) \n",
    "plt.title('Residuals') \n",
    "plt.tight_layout()"
   ]
  },
  {
   "cell_type": "markdown",
   "metadata": {},
   "source": [
    "### Intermediate output"
   ]
  },
  {
   "cell_type": "markdown",
   "metadata": {},
   "source": [
    "1. The time series is stationary, you can make predictions using models.\n",
    "2. Since we only have data for 6 months, it is impossible to see seasonality over the years. Only by month, time of day or day of the week.\n",
    "3. According to the \"Trend\" chart, you can see that the number of taxi orders increases from the beginning of March to the end of August. Trend usually shows seasonality by year, so it's not here.\n",
    "4. Seasonality \"within\" the month (January is studied) does not give us any information, we need to study the week, this will give more detailed information.\n",
    "5. Also, inclusion in the signs of the months will not give anything, since the number of taxi orders from January to March is slightly increasing.\n",
    "5. The \"Seasonality_week\" chart shows that the picture of the number of orders does not change depending on the day of the week.\n",
    "6. According to the \"Seasonality_day\" chart, we can mark the peak activity. The minimum number of orders falls at 6 am, the maximum at 12 at night. Also a high number of orders in the evening (4-5 pm). Take orders throughout the day for signs and learning goals\n",
    "7. Residuals (noise) are inexplicable. At the same time, at the end of August we have many strange attacks.\n",
    "8. Among other things, you can see that by the end of August, the values ​​are significantly creeping up relative to the entire time period."
   ]
  },
  {
   "cell_type": "markdown",
   "metadata": {},
   "source": [
    "## Learning"
   ]
  },
  {
   "cell_type": "markdown",
   "metadata": {},
   "source": [
    "Let's create a summary table of results in advance"
   ]
  },
  {
   "cell_type": "code",
   "execution_count": 13,
   "metadata": {},
   "outputs": [],
   "source": [
    "result_rmse = pd.DataFrame (columns = ['Model_name', 'RMSE'])"
   ]
  },
  {
   "cell_type": "markdown",
   "metadata": {},
   "source": [
    "### Create features for learning"
   ]
  },
  {
   "cell_type": "code",
   "execution_count": 14,
   "metadata": {},
   "outputs": [],
   "source": [
    "def make_features(data, max_lag, rolling_mean_size):\n",
    "    data['dayofweek'] = data.index.dayofweek\n",
    "    data['hour'] = data.index.hour\n",
    "    \n",
    "    for lag in range(1, max_lag + 1):\n",
    "        data['lag_{}'.format(lag)] = data['num_orders'].shift(lag)\n",
    "\n",
    "    data['rolling_mean'] = data['num_orders'].shift().rolling(rolling_mean_size).mean()\n",
    "\n",
    "make_features(data, 25, 7)    "
   ]
  },
  {
   "cell_type": "markdown",
   "metadata": {},
   "source": [
    "#### Let's define the features and goals of learning"
   ]
  },
  {
   "cell_type": "code",
   "execution_count": 15,
   "metadata": {},
   "outputs": [],
   "source": [
    "# divide the dataset into samples\n",
    "train, test = train_test_split (data, shuffle = False, test_size = 0.1)\n",
    "train, valid = train_test_split (train, shuffle = False, test_size = 0.1)\n",
    "\n",
    "train = train.dropna()\n",
    "\n",
    "# define signs of learning\n",
    "train_features = train.drop('num_orders', axis = 1)\n",
    "valid_features = valid.drop('num_orders', axis = 1)\n",
    "test_features = test.drop('num_orders', axis = 1)\n",
    "\n",
    "# define learning objectives\n",
    "train_target = train['num_orders']\n",
    "valid_target = valid['num_orders']\n",
    "test_target = test['num_orders']"
   ]
  },
  {
   "cell_type": "markdown",
   "metadata": {},
   "source": [
    "For modeling, regression models were chosen, since the target attribute\n",
    "quantitative, not qualitative:\n",
    "- Linear Regression - LinearRegression\n",
    "- Decision Tree Regressor - DecisionTreeRegressor"
   ]
  },
  {
   "cell_type": "markdown",
   "metadata": {},
   "source": [
    "### Linear Regression"
   ]
  },
  {
   "cell_type": "code",
   "execution_count": 16,
   "metadata": {},
   "outputs": [
    {
     "name": "stdout",
     "output_type": "stream",
     "text": [
      "RMSE = 34.45\n"
     ]
    }
   ],
   "source": [
    "LR = LinearRegression()\n",
    "LR.fit(train_features, train_target)\n",
    "\n",
    "pred_valid = LR.predict(valid_features)\n",
    "\n",
    "valid_RMSE_LR = np.sqrt(mean_squared_error(valid_target, pred_valid)) \n",
    "print(\"RMSE =\", round (valid_RMSE_LR, 2))\n",
    "\n",
    "result_rmse.loc[0, 'Model_name'] = 'LinearRegression'\n",
    "result_rmse.loc[0, 'RMSE'] = round (valid_RMSE_LR, 2)"
   ]
  },
  {
   "cell_type": "markdown",
   "metadata": {},
   "source": [
    "### Decision Tree Regressor"
   ]
  },
  {
   "cell_type": "markdown",
   "metadata": {},
   "source": [
    "Selecting decision tree hyperparameters"
   ]
  },
  {
   "cell_type": "code",
   "execution_count": 17,
   "metadata": {},
   "outputs": [
    {
     "name": "stdout",
     "output_type": "stream",
     "text": [
      "best_depth: 14\n",
      "best_leaf: 14\n"
     ]
    }
   ],
   "source": [
    "best_result_tree = 48\n",
    "best_depth = 0\n",
    "best_leaf = 0\n",
    "\n",
    "for leaf in range(1, 15):\n",
    "    for depth in range(1, 15):\n",
    "        model = DecisionTreeRegressor(max_depth = depth, min_samples_leaf = leaf, random_state = state)\n",
    "        model.fit(train_features, train_target)\n",
    "        pred_valid = model.predict(valid_features)\n",
    "        result = np.sqrt(mean_squared_error(valid_target, pred_valid))\n",
    "\n",
    "        if result < best_result_tree:\n",
    "            best_depth = depth\n",
    "            best_leaf = leaf\n",
    "\n",
    "print('best_depth:', best_depth)\n",
    "print('best_leaf:', best_leaf)"
   ]
  },
  {
   "cell_type": "markdown",
   "metadata": {},
   "source": [
    "Calculating the RMSE of the decision tree"
   ]
  },
  {
   "cell_type": "code",
   "execution_count": 18,
   "metadata": {},
   "outputs": [
    {
     "name": "stdout",
     "output_type": "stream",
     "text": [
      "RMSE = 36.11\n"
     ]
    }
   ],
   "source": [
    "DTR = DecisionTreeRegressor(max_depth = 14, min_samples_leaf = 14, random_state = state)\n",
    "DTR.fit(train_features, train_target)\n",
    "\n",
    "pred_valid = DTR.predict(valid_features)\n",
    "\n",
    "valid_RMSE_DTR = np.sqrt(mean_squared_error(valid_target, pred_valid)) \n",
    "print(\"RMSE =\", round (valid_RMSE_DTR, 2))\n",
    "\n",
    "result_rmse.loc[1, 'Model_name'] = 'DecisionTreeRegression'\n",
    "result_rmse.loc[1, 'RMSE'] = round (valid_RMSE_DTR, 2)"
   ]
  },
  {
   "cell_type": "markdown",
   "metadata": {},
   "source": [
    "### Random Forest Regressor"
   ]
  },
  {
   "cell_type": "markdown",
   "metadata": {},
   "source": [
    "Selecting the hyperparameters of the random forest"
   ]
  },
  {
   "cell_type": "code",
   "execution_count": 19,
   "metadata": {},
   "outputs": [
    {
     "name": "stdout",
     "output_type": "stream",
     "text": [
      "best_depth: 9\n",
      "best_est: 9\n"
     ]
    }
   ],
   "source": [
    "best_result_est = 48\n",
    "best_depth = 0\n",
    "best_est = 0\n",
    "\n",
    "for est in range(1, 10):\n",
    "    for depth in range(1, 10):\n",
    "        model = RandomForestRegressor(random_state = state, n_estimators = est, max_depth = depth)\n",
    "        model.fit(train_features, train_target)\n",
    "        pred_valid = model.predict(valid_features)\n",
    "        result = np.sqrt(mean_squared_error(valid_target, pred_valid))\n",
    "\n",
    "        if result < best_result_est:\n",
    "            best_depth = depth\n",
    "            best_est = est\n",
    "\n",
    "print('best_depth:', best_depth)\n",
    "print('best_est:', best_est)"
   ]
  },
  {
   "cell_type": "markdown",
   "metadata": {},
   "source": [
    "Calculating RMSE of Random Forest"
   ]
  },
  {
   "cell_type": "code",
   "execution_count": 20,
   "metadata": {},
   "outputs": [
    {
     "name": "stdout",
     "output_type": "stream",
     "text": [
      "RMSE = 33.93\n"
     ]
    }
   ],
   "source": [
    "RFR = RandomForestRegressor(random_state = state, n_estimators = 9, max_depth = 9)\n",
    "RFR.fit(train_features, train_target)\n",
    "\n",
    "pred_valid = RFR.predict(valid_features)\n",
    "\n",
    "valid_RMSE_RFR = np.sqrt(mean_squared_error(valid_target, pred_valid)) \n",
    "print(\"RMSE =\", round (valid_RMSE_RFR, 2))\n",
    "\n",
    "result_rmse.loc[2, 'Model_name'] = 'RandomForestRegression'\n",
    "result_rmse.loc[2, 'RMSE'] = round (valid_RMSE_RFR, 2)"
   ]
  },
  {
   "cell_type": "markdown",
   "metadata": {},
   "source": [
    "### LGBMRegressor"
   ]
  },
  {
   "cell_type": "code",
   "execution_count": 21,
   "metadata": {},
   "outputs": [
    {
     "name": "stdout",
     "output_type": "stream",
     "text": [
      "RMSE = 31.47\n"
     ]
    }
   ],
   "source": [
    "LGBMR = LGBMRegressor(boosting_type = 'gbdt', num_leaves = 31, max_depth = 12, learning_rate = 0.2,\n",
    "                      n_estimators = 100, random_state = state)\n",
    "LGBMR.fit(train_features, train_target)\n",
    "\n",
    "pred_valid = LGBMR.predict(valid_features)\n",
    "\n",
    "valid_RMSE_LGBMR = np.sqrt(mean_squared_error(valid_target, pred_valid)) \n",
    "print(\"RMSE =\", round (valid_RMSE_LGBMR, 2))\n",
    "\n",
    "result_rmse.loc[3, 'Model_name'] = 'LGBMRegressor'\n",
    "result_rmse.loc[3, 'RMSE'] = round (valid_RMSE_LGBMR, 2)"
   ]
  },
  {
   "cell_type": "markdown",
   "metadata": {},
   "source": [
    "### CatBoostRegressor"
   ]
  },
  {
   "cell_type": "code",
   "execution_count": 22,
   "metadata": {},
   "outputs": [
    {
     "name": "stdout",
     "output_type": "stream",
     "text": [
      "RMSE = 31.69\n"
     ]
    }
   ],
   "source": [
    "CB = CatBoostRegressor (loss_function = 'RMSE', iterations = 100, silent = True)\n",
    "CB.fit(train_features, train_target)\n",
    "\n",
    "pred_valid = CB.predict(valid_features)\n",
    "\n",
    "valid_RMSE_CB = np.sqrt(mean_squared_error(valid_target, pred_valid)) \n",
    "print(\"RMSE =\", round (valid_RMSE_CB, 2))\n",
    "\n",
    "result_rmse.loc[4, 'Model_name'] = 'CatBoostRegressor'\n",
    "result_rmse.loc[4, 'RMSE'] = round (valid_RMSE_CB, 2)"
   ]
  },
  {
   "cell_type": "markdown",
   "metadata": {},
   "source": [
    "### Results compare"
   ]
  },
  {
   "cell_type": "code",
   "execution_count": 23,
   "metadata": {},
   "outputs": [
    {
     "data": {
      "text/html": [
       "<div>\n",
       "<style scoped>\n",
       "    .dataframe tbody tr th:only-of-type {\n",
       "        vertical-align: middle;\n",
       "    }\n",
       "\n",
       "    .dataframe tbody tr th {\n",
       "        vertical-align: top;\n",
       "    }\n",
       "\n",
       "    .dataframe thead th {\n",
       "        text-align: right;\n",
       "    }\n",
       "</style>\n",
       "<table border=\"1\" class=\"dataframe\">\n",
       "  <thead>\n",
       "    <tr style=\"text-align: right;\">\n",
       "      <th></th>\n",
       "      <th>Model_name</th>\n",
       "      <th>RMSE</th>\n",
       "    </tr>\n",
       "  </thead>\n",
       "  <tbody>\n",
       "    <tr>\n",
       "      <th>3</th>\n",
       "      <td>LGBMRegressor</td>\n",
       "      <td>31.47</td>\n",
       "    </tr>\n",
       "    <tr>\n",
       "      <th>4</th>\n",
       "      <td>CatBoostRegressor</td>\n",
       "      <td>31.69</td>\n",
       "    </tr>\n",
       "    <tr>\n",
       "      <th>2</th>\n",
       "      <td>RandomForestRegression</td>\n",
       "      <td>33.93</td>\n",
       "    </tr>\n",
       "    <tr>\n",
       "      <th>0</th>\n",
       "      <td>LinearRegression</td>\n",
       "      <td>34.45</td>\n",
       "    </tr>\n",
       "    <tr>\n",
       "      <th>1</th>\n",
       "      <td>DecisionTreeRegression</td>\n",
       "      <td>36.11</td>\n",
       "    </tr>\n",
       "  </tbody>\n",
       "</table>\n",
       "</div>"
      ],
      "text/plain": [
       "               Model_name   RMSE\n",
       "3           LGBMRegressor  31.47\n",
       "4       CatBoostRegressor  31.69\n",
       "2  RandomForestRegression  33.93\n",
       "0        LinearRegression  34.45\n",
       "1  DecisionTreeRegression  36.11"
      ]
     },
     "execution_count": 23,
     "metadata": {},
     "output_type": "execute_result"
    }
   ],
   "source": [
    "result_rmse.sort_values('RMSE')"
   ]
  },
  {
   "cell_type": "markdown",
   "metadata": {},
   "source": [
    "### Choosing the best model"
   ]
  },
  {
   "cell_type": "markdown",
   "metadata": {},
   "source": [
    "- The smallest value of the RMSE metric was shown by the LGBMRegressor model.\n",
    "- The CatBoostRegressor model has a slightly higher metric, but it is much faster than LGBM, and therefore we will choose it as a better model.\n",
    "- The rest of the models have higher RMSE, and we need to spend time on the selection of hyperparameters, so we do not consider them."
   ]
  },
  {
   "cell_type": "markdown",
   "metadata": {},
   "source": [
    "## Testing"
   ]
  },
  {
   "cell_type": "markdown",
   "metadata": {},
   "source": [
    "Checking the chosen model on a test sample."
   ]
  },
  {
   "cell_type": "code",
   "execution_count": 24,
   "metadata": {},
   "outputs": [
    {
     "name": "stdout",
     "output_type": "stream",
     "text": [
      "RMSE = 46.44\n"
     ]
    }
   ],
   "source": [
    "CB = CatBoostRegressor (loss_function = 'RMSE', iterations = 100, silent = True)\n",
    "CB.fit(train_features, train_target)\n",
    "\n",
    "pred_test_CB = CB.predict(test_features)\n",
    "\n",
    "test_RMSE_CB = np.sqrt(mean_squared_error(test_target, pred_test_CB)) \n",
    "print(\"RMSE =\", round (test_RMSE_CB, 2))\n"
   ]
  },
  {
   "cell_type": "markdown",
   "metadata": {},
   "source": [
    "The increased RMSE metric relative to the validation sample is due to the fact that by the end of August the values are much higher than at the beginning of the sample and there are many values samples."
   ]
  },
  {
   "cell_type": "markdown",
   "metadata": {},
   "source": [
    "Seeing a graph comparing predictions and real values"
   ]
  },
  {
   "cell_type": "code",
   "execution_count": 25,
   "metadata": {
    "scrolled": false
   },
   "outputs": [
    {
     "data": {
      "image/png": "[encoded data removed]",
      "text/plain": [
       "<Figure size 864x576 with 1 Axes>"
      ]
     },
     "metadata": {
      "needs_background": "light"
     },
     "output_type": "display_data"
    }
   ],
   "source": [
    "test_plot = test.copy()\n",
    "test_plot['prediction'] = pred_test_CB\n",
    "predict_plot = test_plot[['num_orders', 'prediction']]['2018-08-12':'2018-08-17'].plot(\n",
    "                                                                   kind = 'line', figsize = (12, 8), grid = False)\n",
    "plt.title('Predicted (CatBoostRegressor) vs Actual data')\n",
    "plt.show()"
   ]
  },
  {
   "cell_type": "markdown",
   "metadata": {},
   "source": [
    "The graph shows that our prediction values almost completely repeat the real values."
   ]
  },
  {
   "cell_type": "markdown",
   "metadata": {},
   "source": [
    "## General conclusion"
   ]
  },
  {
   "cell_type": "markdown",
   "metadata": {},
   "source": [
    "- The data is open and studied.\n",
    "- Data analyzed and resampled.\n",
    "- Created additional features for training models.\n",
    "- Various models were trained and analyzed on the validation set.\n",
    "- The CatBoostRegressor model was recognized as the best model.\n",
    "- The best model was tested on the test sample and the RMSE metric was 46.44."
   ]
  },
  {
   "cell_type": "code",
   "execution_count": null,
   "metadata": {},
   "outputs": [],
   "source": []
  }
 ],
 "metadata": {
  "ExecuteTimeLog": [
   {
    "duration": 1135,
    "start_time": "2022-11-14T11:07:04.665Z"
   },
   {
    "duration": 7,
    "start_time": "2022-11-14T11:07:13.966Z"
   },
   {
    "duration": 166,
    "start_time": "2022-11-14T11:07:43.890Z"
   },
   {
    "duration": 120,
    "start_time": "2022-11-14T11:08:07.198Z"
   },
   {
    "duration": 53,
    "start_time": "2022-11-14T11:08:18.095Z"
   },
   {
    "duration": 49,
    "start_time": "2022-11-14T11:09:32.142Z"
   },
   {
    "duration": 51,
    "start_time": "2022-11-14T11:09:38.687Z"
   },
   {
    "duration": 53,
    "start_time": "2022-11-14T11:09:55.375Z"
   },
   {
    "duration": 834,
    "start_time": "2022-11-14T11:12:51.606Z"
   },
   {
    "duration": 25,
    "start_time": "2022-11-14T11:12:57.217Z"
   },
   {
    "duration": 31,
    "start_time": "2022-11-14T11:13:04.845Z"
   },
   {
    "duration": 73,
    "start_time": "2022-11-14T11:13:49.558Z"
   },
   {
    "duration": 1137,
    "start_time": "2022-11-14T11:14:30.444Z"
   },
   {
    "duration": 3,
    "start_time": "2022-11-14T11:14:42.304Z"
   },
   {
    "duration": 70,
    "start_time": "2022-11-14T11:14:42.309Z"
   },
   {
    "duration": 26,
    "start_time": "2022-11-14T11:14:42.381Z"
   },
   {
    "duration": 6,
    "start_time": "2022-11-14T11:17:39.001Z"
   },
   {
    "duration": 67,
    "start_time": "2022-11-14T11:17:39.013Z"
   },
   {
    "duration": 24,
    "start_time": "2022-11-14T11:17:39.087Z"
   },
   {
    "duration": 882,
    "start_time": "2022-11-14T11:17:43.897Z"
   },
   {
    "duration": 998,
    "start_time": "2022-11-14T11:17:53.208Z"
   },
   {
    "duration": 53,
    "start_time": "2022-11-14T11:17:54.208Z"
   },
   {
    "duration": 20,
    "start_time": "2022-11-14T11:17:54.263Z"
   },
   {
    "duration": 99,
    "start_time": "2022-11-14T11:19:10.388Z"
   },
   {
    "duration": 733,
    "start_time": "2022-11-14T11:21:16.437Z"
   },
   {
    "duration": 14,
    "start_time": "2022-11-14T11:21:27.069Z"
   },
   {
    "duration": 4,
    "start_time": "2022-11-14T11:22:13.967Z"
   },
   {
    "duration": 6,
    "start_time": "2022-11-14T11:23:28.663Z"
   },
   {
    "duration": 8,
    "start_time": "2022-11-14T11:24:29.014Z"
   },
   {
    "duration": 7,
    "start_time": "2022-11-14T11:24:37.442Z"
   },
   {
    "duration": 6,
    "start_time": "2022-11-14T11:24:40.261Z"
   },
   {
    "duration": 7,
    "start_time": "2022-11-14T11:25:02.115Z"
   },
   {
    "duration": 5,
    "start_time": "2022-11-14T11:25:12.862Z"
   },
   {
    "duration": 25,
    "start_time": "2022-11-14T11:30:31.964Z"
   },
   {
    "duration": 12,
    "start_time": "2022-11-14T11:30:37.355Z"
   },
   {
    "duration": 14,
    "start_time": "2022-11-14T11:30:43.475Z"
   },
   {
    "duration": 3,
    "start_time": "2022-11-14T11:30:48.074Z"
   },
   {
    "duration": 94,
    "start_time": "2022-11-14T11:30:48.079Z"
   },
   {
    "duration": 29,
    "start_time": "2022-11-14T11:30:48.174Z"
   },
   {
    "duration": 47,
    "start_time": "2022-11-14T11:30:48.205Z"
   },
   {
    "duration": 38,
    "start_time": "2022-11-14T11:30:48.255Z"
   },
   {
    "duration": 796,
    "start_time": "2022-11-14T11:32:16.323Z"
   },
   {
    "duration": 7,
    "start_time": "2022-11-14T11:33:10.559Z"
   },
   {
    "duration": 297,
    "start_time": "2022-11-14T11:33:14.914Z"
   },
   {
    "duration": 5,
    "start_time": "2022-11-14T11:52:19.559Z"
   },
   {
    "duration": 310,
    "start_time": "2022-11-14T11:52:20.121Z"
   },
   {
    "duration": 6,
    "start_time": "2022-11-14T11:52:28.225Z"
   },
   {
    "duration": 419,
    "start_time": "2022-11-14T11:52:29.741Z"
   },
   {
    "duration": 293,
    "start_time": "2022-11-14T11:55:31.197Z"
   },
   {
    "duration": 3,
    "start_time": "2022-11-14T11:55:41.495Z"
   },
   {
    "duration": 66,
    "start_time": "2022-11-14T11:55:41.500Z"
   },
   {
    "duration": 25,
    "start_time": "2022-11-14T11:55:41.568Z"
   },
   {
    "duration": 14,
    "start_time": "2022-11-14T11:55:41.597Z"
   },
   {
    "duration": 35,
    "start_time": "2022-11-14T11:55:41.614Z"
   },
   {
    "duration": 270,
    "start_time": "2022-11-14T11:55:41.651Z"
   },
   {
    "duration": 6,
    "start_time": "2022-11-14T11:55:41.923Z"
   },
   {
    "duration": 324,
    "start_time": "2022-11-14T11:55:41.931Z"
   },
   {
    "duration": 7,
    "start_time": "2022-11-14T11:58:28.904Z"
   },
   {
    "duration": 4,
    "start_time": "2022-11-14T11:58:32.769Z"
   },
   {
    "duration": 12,
    "start_time": "2022-11-14T11:58:38.725Z"
   },
   {
    "duration": 3,
    "start_time": "2022-11-14T11:58:51.173Z"
   },
   {
    "duration": 303,
    "start_time": "2022-11-14T11:58:56.505Z"
   },
   {
    "duration": 5,
    "start_time": "2022-11-14T11:59:39.625Z"
   },
   {
    "duration": 433,
    "start_time": "2022-11-14T11:59:40.528Z"
   },
   {
    "duration": 3,
    "start_time": "2022-11-14T12:00:06.142Z"
   },
   {
    "duration": 4,
    "start_time": "2022-11-14T12:00:09.038Z"
   },
   {
    "duration": 332,
    "start_time": "2022-11-14T12:00:09.747Z"
   },
   {
    "duration": 997,
    "start_time": "2022-11-14T12:01:21.337Z"
   },
   {
    "duration": 414,
    "start_time": "2022-11-14T12:01:50.830Z"
   },
   {
    "duration": 7,
    "start_time": "2022-11-14T12:19:15.488Z"
   },
   {
    "duration": 15,
    "start_time": "2022-11-14T12:20:02.139Z"
   },
   {
    "duration": 15,
    "start_time": "2022-11-14T12:20:14.394Z"
   },
   {
    "duration": 5,
    "start_time": "2022-11-14T12:20:35.331Z"
   },
   {
    "duration": 151,
    "start_time": "2022-11-14T12:20:35.338Z"
   },
   {
    "duration": 19,
    "start_time": "2022-11-14T12:20:35.490Z"
   },
   {
    "duration": 45,
    "start_time": "2022-11-14T12:20:35.511Z"
   },
   {
    "duration": 13,
    "start_time": "2022-11-14T12:20:37.205Z"
   },
   {
    "duration": 9,
    "start_time": "2022-11-14T12:20:37.901Z"
   },
   {
    "duration": 8,
    "start_time": "2022-11-14T12:20:43.511Z"
   },
   {
    "duration": 11,
    "start_time": "2022-11-14T12:27:34.813Z"
   },
   {
    "duration": 240,
    "start_time": "2022-11-14T12:28:04.394Z"
   },
   {
    "duration": 62,
    "start_time": "2022-11-14T12:28:08.971Z"
   },
   {
    "duration": 4,
    "start_time": "2022-11-14T12:28:24.330Z"
   },
   {
    "duration": 976,
    "start_time": "2022-11-14T12:28:27.810Z"
   },
   {
    "duration": 911,
    "start_time": "2022-11-14T12:28:42.522Z"
   },
   {
    "duration": 41,
    "start_time": "2022-11-14T12:28:54.333Z"
   },
   {
    "duration": 22,
    "start_time": "2022-11-14T12:29:03.694Z"
   },
   {
    "duration": 31,
    "start_time": "2022-11-14T12:29:12.062Z"
   },
   {
    "duration": 848,
    "start_time": "2022-11-14T12:29:20.762Z"
   },
   {
    "duration": 754,
    "start_time": "2022-11-14T12:29:48.509Z"
   },
   {
    "duration": 957,
    "start_time": "2022-11-14T12:30:00.521Z"
   },
   {
    "duration": 802,
    "start_time": "2022-11-14T12:31:02.428Z"
   },
   {
    "duration": 20,
    "start_time": "2022-11-14T12:31:10.020Z"
   },
   {
    "duration": 881,
    "start_time": "2022-11-14T12:31:18.358Z"
   },
   {
    "duration": 4,
    "start_time": "2022-11-14T12:32:47.534Z"
   },
   {
    "duration": 411,
    "start_time": "2022-11-14T12:32:52.563Z"
   },
   {
    "duration": 1298,
    "start_time": "2022-11-14T12:33:09.951Z"
   },
   {
    "duration": 60,
    "start_time": "2022-11-14T12:33:11.251Z"
   },
   {
    "duration": 19,
    "start_time": "2022-11-14T12:33:11.312Z"
   },
   {
    "duration": 25,
    "start_time": "2022-11-14T12:33:11.333Z"
   },
   {
    "duration": 55,
    "start_time": "2022-11-14T12:33:11.361Z"
   },
   {
    "duration": 8,
    "start_time": "2022-11-14T12:33:11.418Z"
   },
   {
    "duration": 254,
    "start_time": "2022-11-14T12:33:17.479Z"
   },
   {
    "duration": 135,
    "start_time": "2022-11-14T12:33:42.714Z"
   },
   {
    "duration": 7,
    "start_time": "2022-11-14T12:34:02.342Z"
   },
   {
    "duration": 294,
    "start_time": "2022-11-14T12:34:03.367Z"
   },
   {
    "duration": 5,
    "start_time": "2022-11-14T12:34:47.365Z"
   },
   {
    "duration": 5,
    "start_time": "2022-11-14T12:35:11.306Z"
   },
   {
    "duration": 403,
    "start_time": "2022-11-14T12:35:12.047Z"
   },
   {
    "duration": 32,
    "start_time": "2022-11-14T12:35:30.263Z"
   },
   {
    "duration": 1395,
    "start_time": "2022-11-14T12:35:52.672Z"
   },
   {
    "duration": 64,
    "start_time": "2022-11-14T12:35:54.070Z"
   },
   {
    "duration": 19,
    "start_time": "2022-11-14T12:35:54.136Z"
   },
   {
    "duration": 13,
    "start_time": "2022-11-14T12:35:54.157Z"
   },
   {
    "duration": 32,
    "start_time": "2022-11-14T12:35:54.172Z"
   },
   {
    "duration": 26,
    "start_time": "2022-11-14T12:35:54.206Z"
   },
   {
    "duration": 266,
    "start_time": "2022-11-14T12:35:54.234Z"
   },
   {
    "duration": 6,
    "start_time": "2022-11-14T12:35:54.502Z"
   },
   {
    "duration": 297,
    "start_time": "2022-11-14T12:35:54.509Z"
   },
   {
    "duration": 4,
    "start_time": "2022-11-14T12:35:54.808Z"
   },
   {
    "duration": 4,
    "start_time": "2022-11-14T12:35:56.305Z"
   },
   {
    "duration": 397,
    "start_time": "2022-11-14T12:35:56.621Z"
   },
   {
    "duration": 125,
    "start_time": "2022-11-14T12:35:59.017Z"
   },
   {
    "duration": 1438,
    "start_time": "2022-11-14T12:37:09.450Z"
   },
   {
    "duration": 59,
    "start_time": "2022-11-14T12:37:10.892Z"
   },
   {
    "duration": 19,
    "start_time": "2022-11-14T12:37:10.953Z"
   },
   {
    "duration": 31,
    "start_time": "2022-11-14T12:37:10.974Z"
   },
   {
    "duration": 30,
    "start_time": "2022-11-14T12:37:11.007Z"
   },
   {
    "duration": 6,
    "start_time": "2022-11-14T12:37:11.039Z"
   },
   {
    "duration": 283,
    "start_time": "2022-11-14T12:37:11.047Z"
   },
   {
    "duration": 6,
    "start_time": "2022-11-14T12:37:11.332Z"
   },
   {
    "duration": 292,
    "start_time": "2022-11-14T12:37:11.339Z"
   },
   {
    "duration": 4,
    "start_time": "2022-11-14T12:37:11.633Z"
   },
   {
    "duration": 402,
    "start_time": "2022-11-14T12:37:11.638Z"
   },
   {
    "duration": 154,
    "start_time": "2022-11-14T12:37:12.042Z"
   },
   {
    "duration": 1386,
    "start_time": "2022-11-14T12:37:22.657Z"
   },
   {
    "duration": 57,
    "start_time": "2022-11-14T12:37:24.045Z"
   },
   {
    "duration": 18,
    "start_time": "2022-11-14T12:37:24.103Z"
   },
   {
    "duration": 12,
    "start_time": "2022-11-14T12:37:24.122Z"
   },
   {
    "duration": 17,
    "start_time": "2022-11-14T12:37:24.136Z"
   },
   {
    "duration": 5,
    "start_time": "2022-11-14T12:37:24.155Z"
   },
   {
    "duration": 856,
    "start_time": "2022-11-14T12:37:26.490Z"
   },
   {
    "duration": 254,
    "start_time": "2022-11-14T12:37:37.845Z"
   },
   {
    "duration": 939,
    "start_time": "2022-11-14T12:37:41.337Z"
   },
   {
    "duration": 6,
    "start_time": "2022-11-14T12:37:45.438Z"
   },
   {
    "duration": 257,
    "start_time": "2022-11-14T12:37:54.098Z"
   },
   {
    "duration": 137,
    "start_time": "2022-11-14T12:37:57.704Z"
   },
   {
    "duration": 4,
    "start_time": "2022-11-14T12:40:00.231Z"
   },
   {
    "duration": 68,
    "start_time": "2022-11-14T12:40:00.238Z"
   },
   {
    "duration": 14,
    "start_time": "2022-11-14T12:40:00.308Z"
   },
   {
    "duration": 30,
    "start_time": "2022-11-14T12:40:00.324Z"
   },
   {
    "duration": 42,
    "start_time": "2022-11-14T12:40:00.357Z"
   },
   {
    "duration": 40,
    "start_time": "2022-11-14T12:40:00.400Z"
   },
   {
    "duration": 276,
    "start_time": "2022-11-14T12:40:00.442Z"
   },
   {
    "duration": 9,
    "start_time": "2022-11-14T12:40:00.720Z"
   },
   {
    "duration": 0,
    "start_time": "2022-11-14T12:40:00.731Z"
   },
   {
    "duration": 0,
    "start_time": "2022-11-14T12:40:00.732Z"
   },
   {
    "duration": 0,
    "start_time": "2022-11-14T12:40:00.733Z"
   },
   {
    "duration": 0,
    "start_time": "2022-11-14T12:40:00.734Z"
   },
   {
    "duration": 5,
    "start_time": "2022-11-14T12:40:20.843Z"
   },
   {
    "duration": 335,
    "start_time": "2022-11-14T12:40:22.507Z"
   },
   {
    "duration": 5,
    "start_time": "2022-11-14T12:40:23.788Z"
   },
   {
    "duration": 487,
    "start_time": "2022-11-14T12:40:24.095Z"
   },
   {
    "duration": 851,
    "start_time": "2022-11-14T12:40:26.483Z"
   },
   {
    "duration": 821,
    "start_time": "2022-11-14T12:41:08.022Z"
   },
   {
    "duration": 979,
    "start_time": "2022-11-14T12:41:48.823Z"
   },
   {
    "duration": 858,
    "start_time": "2022-11-14T12:41:59.295Z"
   },
   {
    "duration": 6,
    "start_time": "2022-11-14T12:53:11.148Z"
   },
   {
    "duration": 7,
    "start_time": "2022-11-14T12:53:33.491Z"
   },
   {
    "duration": 1051,
    "start_time": "2022-11-14T12:54:46.695Z"
   },
   {
    "duration": 987,
    "start_time": "2022-11-14T12:54:55.498Z"
   },
   {
    "duration": 973,
    "start_time": "2022-11-14T13:02:40.159Z"
   },
   {
    "duration": 1103,
    "start_time": "2022-11-14T13:03:00.944Z"
   },
   {
    "duration": 1147,
    "start_time": "2022-11-14T13:03:16.997Z"
   },
   {
    "duration": 19,
    "start_time": "2022-11-14T13:08:48.542Z"
   },
   {
    "duration": 1418,
    "start_time": "2022-11-15T06:10:52.275Z"
   },
   {
    "duration": 113,
    "start_time": "2022-11-15T06:13:48.344Z"
   },
   {
    "duration": 3,
    "start_time": "2022-11-15T06:13:53.363Z"
   },
   {
    "duration": 137,
    "start_time": "2022-11-15T06:13:53.368Z"
   },
   {
    "duration": 17,
    "start_time": "2022-11-15T06:13:53.507Z"
   },
   {
    "duration": 15,
    "start_time": "2022-11-15T06:13:53.526Z"
   },
   {
    "duration": 16,
    "start_time": "2022-11-15T06:13:53.543Z"
   },
   {
    "duration": 5,
    "start_time": "2022-11-15T06:13:53.560Z"
   },
   {
    "duration": 235,
    "start_time": "2022-11-15T06:13:53.566Z"
   },
   {
    "duration": 9,
    "start_time": "2022-11-15T06:13:53.821Z"
   },
   {
    "duration": 261,
    "start_time": "2022-11-15T06:13:53.832Z"
   },
   {
    "duration": 3,
    "start_time": "2022-11-15T06:13:54.095Z"
   },
   {
    "duration": 423,
    "start_time": "2022-11-15T06:13:54.100Z"
   },
   {
    "duration": 1270,
    "start_time": "2022-11-15T06:13:54.526Z"
   },
   {
    "duration": 9,
    "start_time": "2022-11-15T06:13:56.843Z"
   },
   {
    "duration": 77,
    "start_time": "2022-11-15T06:18:26.885Z"
   },
   {
    "duration": 66,
    "start_time": "2022-11-15T06:18:43.864Z"
   },
   {
    "duration": 98,
    "start_time": "2022-11-15T06:21:27.753Z"
   },
   {
    "duration": 13,
    "start_time": "2022-11-15T06:22:25.279Z"
   },
   {
    "duration": 3,
    "start_time": "2022-11-15T06:23:07.261Z"
   },
   {
    "duration": 54,
    "start_time": "2022-11-15T06:23:07.265Z"
   },
   {
    "duration": 18,
    "start_time": "2022-11-15T06:23:07.321Z"
   },
   {
    "duration": 8,
    "start_time": "2022-11-15T06:23:07.341Z"
   },
   {
    "duration": 29,
    "start_time": "2022-11-15T06:23:07.351Z"
   },
   {
    "duration": 17,
    "start_time": "2022-11-15T06:23:07.382Z"
   },
   {
    "duration": 234,
    "start_time": "2022-11-15T06:23:07.401Z"
   },
   {
    "duration": 6,
    "start_time": "2022-11-15T06:23:07.636Z"
   },
   {
    "duration": 345,
    "start_time": "2022-11-15T06:23:07.643Z"
   },
   {
    "duration": 4,
    "start_time": "2022-11-15T06:23:07.989Z"
   },
   {
    "duration": 351,
    "start_time": "2022-11-15T06:23:07.994Z"
   },
   {
    "duration": 1164,
    "start_time": "2022-11-15T06:23:08.347Z"
   },
   {
    "duration": 6,
    "start_time": "2022-11-15T06:23:10.659Z"
   },
   {
    "duration": 12,
    "start_time": "2022-11-15T06:23:42.145Z"
   },
   {
    "duration": 13,
    "start_time": "2022-11-15T06:31:50.265Z"
   },
   {
    "duration": 4,
    "start_time": "2022-11-15T06:31:54.860Z"
   },
   {
    "duration": 48,
    "start_time": "2022-11-15T06:31:54.866Z"
   },
   {
    "duration": 20,
    "start_time": "2022-11-15T06:31:54.916Z"
   },
   {
    "duration": 8,
    "start_time": "2022-11-15T06:31:54.938Z"
   },
   {
    "duration": 17,
    "start_time": "2022-11-15T06:31:54.948Z"
   },
   {
    "duration": 6,
    "start_time": "2022-11-15T06:31:54.966Z"
   },
   {
    "duration": 218,
    "start_time": "2022-11-15T06:31:54.973Z"
   },
   {
    "duration": 6,
    "start_time": "2022-11-15T06:31:55.193Z"
   },
   {
    "duration": 388,
    "start_time": "2022-11-15T06:31:55.200Z"
   },
   {
    "duration": 5,
    "start_time": "2022-11-15T06:31:55.589Z"
   },
   {
    "duration": 351,
    "start_time": "2022-11-15T06:31:55.596Z"
   },
   {
    "duration": 1128,
    "start_time": "2022-11-15T06:31:55.948Z"
   },
   {
    "duration": 26,
    "start_time": "2022-11-15T06:32:55.610Z"
   },
   {
    "duration": 3,
    "start_time": "2022-11-15T06:33:54.817Z"
   },
   {
    "duration": 4,
    "start_time": "2022-11-15T06:35:21.293Z"
   },
   {
    "duration": 20,
    "start_time": "2022-11-15T06:35:22.318Z"
   },
   {
    "duration": 9,
    "start_time": "2022-11-15T06:35:34.118Z"
   },
   {
    "duration": 4,
    "start_time": "2022-11-15T06:35:44.232Z"
   },
   {
    "duration": 12,
    "start_time": "2022-11-15T06:36:35.198Z"
   },
   {
    "duration": 13,
    "start_time": "2022-11-15T06:36:41.184Z"
   },
   {
    "duration": 51,
    "start_time": "2022-11-15T06:36:55.441Z"
   },
   {
    "duration": 10,
    "start_time": "2022-11-15T06:37:13.497Z"
   },
   {
    "duration": 11,
    "start_time": "2022-11-15T06:46:34.521Z"
   },
   {
    "duration": 9,
    "start_time": "2022-11-15T06:47:20.458Z"
   },
   {
    "duration": 20,
    "start_time": "2022-11-15T06:47:26.347Z"
   },
   {
    "duration": 25,
    "start_time": "2022-11-15T06:49:18.924Z"
   },
   {
    "duration": 5,
    "start_time": "2022-11-15T06:51:04.050Z"
   },
   {
    "duration": 4,
    "start_time": "2022-11-15T06:51:04.949Z"
   },
   {
    "duration": 23,
    "start_time": "2022-11-15T06:51:06.271Z"
   },
   {
    "duration": 55,
    "start_time": "2022-11-15T06:51:37.679Z"
   },
   {
    "duration": 56,
    "start_time": "2022-11-15T06:51:42.278Z"
   },
   {
    "duration": 69,
    "start_time": "2022-11-15T06:51:47.472Z"
   },
   {
    "duration": 19,
    "start_time": "2022-11-15T06:52:01.516Z"
   },
   {
    "duration": 23,
    "start_time": "2022-11-15T06:53:14.079Z"
   },
   {
    "duration": 17,
    "start_time": "2022-11-15T07:06:01.151Z"
   },
   {
    "duration": 7,
    "start_time": "2022-11-15T07:06:06.826Z"
   },
   {
    "duration": 4,
    "start_time": "2022-11-15T07:06:08.263Z"
   },
   {
    "duration": 18,
    "start_time": "2022-11-15T07:06:09.487Z"
   },
   {
    "duration": 18,
    "start_time": "2022-11-15T07:06:38.369Z"
   },
   {
    "duration": 209,
    "start_time": "2022-11-15T07:07:01.515Z"
   },
   {
    "duration": 196,
    "start_time": "2022-11-15T07:07:08.237Z"
   },
   {
    "duration": 173,
    "start_time": "2022-11-15T07:07:12.865Z"
   },
   {
    "duration": 179,
    "start_time": "2022-11-15T07:07:20.351Z"
   },
   {
    "duration": 4,
    "start_time": "2022-11-15T07:07:27.620Z"
   },
   {
    "duration": 68,
    "start_time": "2022-11-15T07:07:27.631Z"
   },
   {
    "duration": 16,
    "start_time": "2022-11-15T07:07:27.701Z"
   },
   {
    "duration": 38,
    "start_time": "2022-11-15T07:07:27.719Z"
   },
   {
    "duration": 27,
    "start_time": "2022-11-15T07:07:27.759Z"
   },
   {
    "duration": 14,
    "start_time": "2022-11-15T07:07:27.787Z"
   },
   {
    "duration": 339,
    "start_time": "2022-11-15T07:07:27.802Z"
   },
   {
    "duration": 7,
    "start_time": "2022-11-15T07:07:28.143Z"
   },
   {
    "duration": 264,
    "start_time": "2022-11-15T07:07:28.152Z"
   },
   {
    "duration": 17,
    "start_time": "2022-11-15T07:07:28.418Z"
   },
   {
    "duration": 346,
    "start_time": "2022-11-15T07:07:28.437Z"
   },
   {
    "duration": 1158,
    "start_time": "2022-11-15T07:07:28.785Z"
   },
   {
    "duration": 6,
    "start_time": "2022-11-15T07:07:29.945Z"
   },
   {
    "duration": 32,
    "start_time": "2022-11-15T07:07:29.952Z"
   },
   {
    "duration": 17,
    "start_time": "2022-11-15T07:07:32.532Z"
   },
   {
    "duration": 30,
    "start_time": "2022-11-15T07:07:33.735Z"
   },
   {
    "duration": 240,
    "start_time": "2022-11-15T07:07:35.185Z"
   },
   {
    "duration": 3,
    "start_time": "2022-11-15T07:07:44.373Z"
   },
   {
    "duration": 54,
    "start_time": "2022-11-15T07:07:44.378Z"
   },
   {
    "duration": 14,
    "start_time": "2022-11-15T07:07:44.434Z"
   },
   {
    "duration": 3,
    "start_time": "2022-11-15T07:07:44.450Z"
   },
   {
    "duration": 13,
    "start_time": "2022-11-15T07:07:44.455Z"
   },
   {
    "duration": 5,
    "start_time": "2022-11-15T07:07:44.469Z"
   },
   {
    "duration": 361,
    "start_time": "2022-11-15T07:07:44.476Z"
   },
   {
    "duration": 5,
    "start_time": "2022-11-15T07:07:44.839Z"
   },
   {
    "duration": 244,
    "start_time": "2022-11-15T07:07:44.845Z"
   },
   {
    "duration": 4,
    "start_time": "2022-11-15T07:07:45.091Z"
   },
   {
    "duration": 391,
    "start_time": "2022-11-15T07:07:45.097Z"
   },
   {
    "duration": 1158,
    "start_time": "2022-11-15T07:07:45.490Z"
   },
   {
    "duration": 428,
    "start_time": "2022-11-15T07:07:50.809Z"
   },
   {
    "duration": 96,
    "start_time": "2022-11-15T07:09:25.248Z"
   },
   {
    "duration": 14,
    "start_time": "2022-11-15T07:12:00.043Z"
   },
   {
    "duration": 17,
    "start_time": "2022-11-15T07:12:10.216Z"
   },
   {
    "duration": 6,
    "start_time": "2022-11-15T07:13:04.579Z"
   },
   {
    "duration": 213,
    "start_time": "2022-11-15T07:13:07.016Z"
   },
   {
    "duration": 154,
    "start_time": "2022-11-15T07:13:11.380Z"
   },
   {
    "duration": 111,
    "start_time": "2022-11-15T07:13:13.318Z"
   },
   {
    "duration": 1279,
    "start_time": "2022-11-15T07:14:06.562Z"
   },
   {
    "duration": 50,
    "start_time": "2022-11-15T07:14:07.843Z"
   },
   {
    "duration": 18,
    "start_time": "2022-11-15T07:14:07.894Z"
   },
   {
    "duration": 3,
    "start_time": "2022-11-15T07:14:07.914Z"
   },
   {
    "duration": 33,
    "start_time": "2022-11-15T07:14:07.919Z"
   },
   {
    "duration": 6,
    "start_time": "2022-11-15T07:14:07.953Z"
   },
   {
    "duration": 237,
    "start_time": "2022-11-15T07:14:07.960Z"
   },
   {
    "duration": 6,
    "start_time": "2022-11-15T07:14:08.198Z"
   },
   {
    "duration": 252,
    "start_time": "2022-11-15T07:14:08.206Z"
   },
   {
    "duration": 4,
    "start_time": "2022-11-15T07:14:08.461Z"
   },
   {
    "duration": 432,
    "start_time": "2022-11-15T07:14:08.466Z"
   },
   {
    "duration": 1268,
    "start_time": "2022-11-15T07:14:08.900Z"
   },
   {
    "duration": 6,
    "start_time": "2022-11-15T07:14:10.170Z"
   },
   {
    "duration": 30,
    "start_time": "2022-11-15T07:14:10.178Z"
   },
   {
    "duration": 215,
    "start_time": "2022-11-15T07:14:10.210Z"
   },
   {
    "duration": 315,
    "start_time": "2022-11-15T07:14:10.427Z"
   },
   {
    "duration": 268,
    "start_time": "2022-11-15T07:14:10.744Z"
   },
   {
    "duration": 1336,
    "start_time": "2022-11-15T07:15:16.534Z"
   },
   {
    "duration": 58,
    "start_time": "2022-11-15T07:15:17.872Z"
   },
   {
    "duration": 19,
    "start_time": "2022-11-15T07:15:17.932Z"
   },
   {
    "duration": 12,
    "start_time": "2022-11-15T07:15:17.952Z"
   },
   {
    "duration": 31,
    "start_time": "2022-11-15T07:15:17.966Z"
   },
   {
    "duration": 17,
    "start_time": "2022-11-15T07:15:17.999Z"
   },
   {
    "duration": 277,
    "start_time": "2022-11-15T07:15:18.018Z"
   },
   {
    "duration": 6,
    "start_time": "2022-11-15T07:15:18.297Z"
   },
   {
    "duration": 255,
    "start_time": "2022-11-15T07:15:18.304Z"
   },
   {
    "duration": 4,
    "start_time": "2022-11-15T07:15:18.561Z"
   },
   {
    "duration": 461,
    "start_time": "2022-11-15T07:15:18.567Z"
   },
   {
    "duration": 1218,
    "start_time": "2022-11-15T07:15:19.034Z"
   },
   {
    "duration": 8,
    "start_time": "2022-11-15T07:15:20.254Z"
   },
   {
    "duration": 259,
    "start_time": "2022-11-15T07:15:20.264Z"
   },
   {
    "duration": 497,
    "start_time": "2022-11-15T07:15:20.525Z"
   },
   {
    "duration": 296,
    "start_time": "2022-11-15T07:15:21.035Z"
   },
   {
    "duration": 227,
    "start_time": "2022-11-15T07:15:21.333Z"
   },
   {
    "duration": 2,
    "start_time": "2022-11-15T07:19:30.333Z"
   },
   {
    "duration": 12,
    "start_time": "2022-11-15T07:20:41.414Z"
   },
   {
    "duration": 7,
    "start_time": "2022-11-15T07:22:01.081Z"
   },
   {
    "duration": 9,
    "start_time": "2022-11-15T07:22:33.963Z"
   },
   {
    "duration": 15,
    "start_time": "2022-11-15T07:22:42.838Z"
   },
   {
    "duration": 4,
    "start_time": "2022-11-15T07:24:17.860Z"
   },
   {
    "duration": 148,
    "start_time": "2022-11-15T07:27:13.178Z"
   },
   {
    "duration": 45,
    "start_time": "2022-11-15T07:27:25.001Z"
   },
   {
    "duration": 45,
    "start_time": "2022-11-15T07:27:40.734Z"
   },
   {
    "duration": 1268,
    "start_time": "2022-11-15T07:27:45.266Z"
   },
   {
    "duration": 54,
    "start_time": "2022-11-15T07:27:46.536Z"
   },
   {
    "duration": 17,
    "start_time": "2022-11-15T07:27:46.592Z"
   },
   {
    "duration": 4,
    "start_time": "2022-11-15T07:27:46.611Z"
   },
   {
    "duration": 29,
    "start_time": "2022-11-15T07:27:46.616Z"
   },
   {
    "duration": 4,
    "start_time": "2022-11-15T07:27:46.647Z"
   },
   {
    "duration": 232,
    "start_time": "2022-11-15T07:27:46.653Z"
   },
   {
    "duration": 7,
    "start_time": "2022-11-15T07:27:46.887Z"
   },
   {
    "duration": 273,
    "start_time": "2022-11-15T07:27:46.896Z"
   },
   {
    "duration": 4,
    "start_time": "2022-11-15T07:27:47.171Z"
   },
   {
    "duration": 415,
    "start_time": "2022-11-15T07:27:47.176Z"
   },
   {
    "duration": 1123,
    "start_time": "2022-11-15T07:27:47.593Z"
   },
   {
    "duration": 18,
    "start_time": "2022-11-15T07:27:48.717Z"
   },
   {
    "duration": 20,
    "start_time": "2022-11-15T07:27:48.737Z"
   },
   {
    "duration": 12,
    "start_time": "2022-11-15T07:27:48.758Z"
   },
   {
    "duration": 29,
    "start_time": "2022-11-15T07:27:48.771Z"
   },
   {
    "duration": 172,
    "start_time": "2022-11-15T07:27:48.802Z"
   },
   {
    "duration": 0,
    "start_time": "2022-11-15T07:27:48.976Z"
   },
   {
    "duration": 0,
    "start_time": "2022-11-15T07:27:48.978Z"
   },
   {
    "duration": 0,
    "start_time": "2022-11-15T07:27:48.979Z"
   },
   {
    "duration": 11,
    "start_time": "2022-11-15T07:28:55.402Z"
   },
   {
    "duration": 6,
    "start_time": "2022-11-15T07:29:17.534Z"
   },
   {
    "duration": 172,
    "start_time": "2022-11-15T07:29:47.958Z"
   },
   {
    "duration": 95,
    "start_time": "2022-11-15T07:29:59.033Z"
   },
   {
    "duration": 21,
    "start_time": "2022-11-15T07:30:36.509Z"
   },
   {
    "duration": 42,
    "start_time": "2022-11-15T07:30:44.898Z"
   },
   {
    "duration": 43,
    "start_time": "2022-11-15T07:31:57.212Z"
   },
   {
    "duration": 36,
    "start_time": "2022-11-15T07:32:04.605Z"
   },
   {
    "duration": 7,
    "start_time": "2022-11-15T07:32:51.655Z"
   },
   {
    "duration": 13,
    "start_time": "2022-11-15T07:32:52.463Z"
   },
   {
    "duration": 113,
    "start_time": "2022-11-15T07:32:53.525Z"
   },
   {
    "duration": 37,
    "start_time": "2022-11-15T07:32:54.916Z"
   },
   {
    "duration": 6,
    "start_time": "2022-11-15T07:33:03.475Z"
   },
   {
    "duration": 12,
    "start_time": "2022-11-15T07:33:04.146Z"
   },
   {
    "duration": 118,
    "start_time": "2022-11-15T07:33:04.811Z"
   },
   {
    "duration": 36,
    "start_time": "2022-11-15T07:33:05.899Z"
   },
   {
    "duration": 4,
    "start_time": "2022-11-15T07:33:11.639Z"
   },
   {
    "duration": 58,
    "start_time": "2022-11-15T07:33:11.646Z"
   },
   {
    "duration": 14,
    "start_time": "2022-11-15T07:33:11.706Z"
   },
   {
    "duration": 16,
    "start_time": "2022-11-15T07:33:11.721Z"
   },
   {
    "duration": 21,
    "start_time": "2022-11-15T07:33:11.739Z"
   },
   {
    "duration": 5,
    "start_time": "2022-11-15T07:33:11.761Z"
   },
   {
    "duration": 229,
    "start_time": "2022-11-15T07:33:11.768Z"
   },
   {
    "duration": 5,
    "start_time": "2022-11-15T07:33:11.999Z"
   },
   {
    "duration": 268,
    "start_time": "2022-11-15T07:33:12.005Z"
   },
   {
    "duration": 5,
    "start_time": "2022-11-15T07:33:12.275Z"
   },
   {
    "duration": 468,
    "start_time": "2022-11-15T07:33:12.282Z"
   },
   {
    "duration": 1218,
    "start_time": "2022-11-15T07:33:12.752Z"
   },
   {
    "duration": 5,
    "start_time": "2022-11-15T07:33:13.972Z"
   },
   {
    "duration": 10,
    "start_time": "2022-11-15T07:33:13.979Z"
   },
   {
    "duration": 29,
    "start_time": "2022-11-15T07:33:13.992Z"
   },
   {
    "duration": 104,
    "start_time": "2022-11-15T07:33:14.023Z"
   },
   {
    "duration": 1329,
    "start_time": "2022-11-15T07:33:29.132Z"
   },
   {
    "duration": 53,
    "start_time": "2022-11-15T07:33:30.462Z"
   },
   {
    "duration": 48,
    "start_time": "2022-11-15T07:33:30.517Z"
   },
   {
    "duration": 13,
    "start_time": "2022-11-15T07:33:30.567Z"
   },
   {
    "duration": 51,
    "start_time": "2022-11-15T07:33:30.582Z"
   },
   {
    "duration": 21,
    "start_time": "2022-11-15T07:33:30.635Z"
   },
   {
    "duration": 255,
    "start_time": "2022-11-15T07:33:30.657Z"
   },
   {
    "duration": 9,
    "start_time": "2022-11-15T07:33:30.913Z"
   },
   {
    "duration": 272,
    "start_time": "2022-11-15T07:33:30.926Z"
   },
   {
    "duration": 4,
    "start_time": "2022-11-15T07:33:31.200Z"
   },
   {
    "duration": 476,
    "start_time": "2022-11-15T07:33:31.206Z"
   },
   {
    "duration": 1188,
    "start_time": "2022-11-15T07:33:31.684Z"
   },
   {
    "duration": 5,
    "start_time": "2022-11-15T07:33:32.873Z"
   },
   {
    "duration": 78,
    "start_time": "2022-11-15T07:33:32.880Z"
   },
   {
    "duration": 17,
    "start_time": "2022-11-15T07:33:32.959Z"
   },
   {
    "duration": 365,
    "start_time": "2022-11-15T07:33:32.977Z"
   },
   {
    "duration": 390,
    "start_time": "2022-11-15T07:33:33.345Z"
   },
   {
    "duration": 105,
    "start_time": "2022-11-15T07:33:33.737Z"
   },
   {
    "duration": 0,
    "start_time": "2022-11-15T07:33:33.844Z"
   },
   {
    "duration": 0,
    "start_time": "2022-11-15T07:33:33.845Z"
   },
   {
    "duration": 31,
    "start_time": "2022-11-15T07:35:48.695Z"
   },
   {
    "duration": 15,
    "start_time": "2022-11-15T07:35:56.853Z"
   },
   {
    "duration": 10,
    "start_time": "2022-11-15T07:36:28.390Z"
   },
   {
    "duration": 15,
    "start_time": "2022-11-15T07:36:29.447Z"
   },
   {
    "duration": 1237,
    "start_time": "2022-11-15T07:36:48.782Z"
   },
   {
    "duration": 60,
    "start_time": "2022-11-15T07:36:50.021Z"
   },
   {
    "duration": 16,
    "start_time": "2022-11-15T07:36:50.082Z"
   },
   {
    "duration": 6,
    "start_time": "2022-11-15T07:36:50.099Z"
   },
   {
    "duration": 30,
    "start_time": "2022-11-15T07:36:50.106Z"
   },
   {
    "duration": 8,
    "start_time": "2022-11-15T07:36:50.137Z"
   },
   {
    "duration": 242,
    "start_time": "2022-11-15T07:36:50.146Z"
   },
   {
    "duration": 5,
    "start_time": "2022-11-15T07:36:50.390Z"
   },
   {
    "duration": 253,
    "start_time": "2022-11-15T07:36:50.396Z"
   },
   {
    "duration": 4,
    "start_time": "2022-11-15T07:36:50.651Z"
   },
   {
    "duration": 418,
    "start_time": "2022-11-15T07:36:50.656Z"
   },
   {
    "duration": 1185,
    "start_time": "2022-11-15T07:36:51.075Z"
   },
   {
    "duration": 6,
    "start_time": "2022-11-15T07:36:52.261Z"
   },
   {
    "duration": 14,
    "start_time": "2022-11-15T07:36:52.268Z"
   },
   {
    "duration": 9,
    "start_time": "2022-11-15T07:36:52.283Z"
   },
   {
    "duration": 10,
    "start_time": "2022-11-15T07:36:52.294Z"
   },
   {
    "duration": 26,
    "start_time": "2022-11-15T07:36:52.305Z"
   },
   {
    "duration": 206,
    "start_time": "2022-11-15T07:36:52.334Z"
   },
   {
    "duration": 116,
    "start_time": "2022-11-15T07:36:52.541Z"
   },
   {
    "duration": 0,
    "start_time": "2022-11-15T07:36:52.659Z"
   },
   {
    "duration": 0,
    "start_time": "2022-11-15T07:36:52.660Z"
   },
   {
    "duration": 3,
    "start_time": "2022-11-15T07:37:27.767Z"
   },
   {
    "duration": 10,
    "start_time": "2022-11-15T07:37:37.690Z"
   },
   {
    "duration": 4,
    "start_time": "2022-11-15T07:37:40.534Z"
   },
   {
    "duration": 52,
    "start_time": "2022-11-15T07:37:40.540Z"
   },
   {
    "duration": 13,
    "start_time": "2022-11-15T07:37:40.594Z"
   },
   {
    "duration": 6,
    "start_time": "2022-11-15T07:37:40.608Z"
   },
   {
    "duration": 21,
    "start_time": "2022-11-15T07:37:40.615Z"
   },
   {
    "duration": 9,
    "start_time": "2022-11-15T07:37:40.638Z"
   },
   {
    "duration": 218,
    "start_time": "2022-11-15T07:37:40.649Z"
   },
   {
    "duration": 5,
    "start_time": "2022-11-15T07:37:40.869Z"
   },
   {
    "duration": 249,
    "start_time": "2022-11-15T07:37:40.875Z"
   },
   {
    "duration": 5,
    "start_time": "2022-11-15T07:37:41.136Z"
   },
   {
    "duration": 427,
    "start_time": "2022-11-15T07:37:41.143Z"
   },
   {
    "duration": 1146,
    "start_time": "2022-11-15T07:37:41.572Z"
   },
   {
    "duration": 14,
    "start_time": "2022-11-15T07:37:42.721Z"
   },
   {
    "duration": 20,
    "start_time": "2022-11-15T07:37:42.738Z"
   },
   {
    "duration": 10,
    "start_time": "2022-11-15T07:37:42.760Z"
   },
   {
    "duration": 5,
    "start_time": "2022-11-15T07:37:42.772Z"
   },
   {
    "duration": 23,
    "start_time": "2022-11-15T07:37:42.778Z"
   },
   {
    "duration": 19,
    "start_time": "2022-11-15T07:37:43.419Z"
   },
   {
    "duration": 14,
    "start_time": "2022-11-15T07:37:44.300Z"
   },
   {
    "duration": 30,
    "start_time": "2022-11-15T07:37:47.637Z"
   },
   {
    "duration": 12,
    "start_time": "2022-11-15T07:38:08.031Z"
   },
   {
    "duration": 19,
    "start_time": "2022-11-15T07:39:45.935Z"
   },
   {
    "duration": 11,
    "start_time": "2022-11-15T07:39:51.419Z"
   },
   {
    "duration": 66,
    "start_time": "2022-11-15T07:39:51.434Z"
   },
   {
    "duration": 15,
    "start_time": "2022-11-15T07:39:51.501Z"
   },
   {
    "duration": 27,
    "start_time": "2022-11-15T07:39:51.517Z"
   },
   {
    "duration": 26,
    "start_time": "2022-11-15T07:39:51.546Z"
   },
   {
    "duration": 13,
    "start_time": "2022-11-15T07:39:51.574Z"
   },
   {
    "duration": 219,
    "start_time": "2022-11-15T07:39:51.588Z"
   },
   {
    "duration": 4,
    "start_time": "2022-11-15T07:39:51.809Z"
   },
   {
    "duration": 296,
    "start_time": "2022-11-15T07:39:51.815Z"
   },
   {
    "duration": 4,
    "start_time": "2022-11-15T07:39:52.113Z"
   },
   {
    "duration": 503,
    "start_time": "2022-11-15T07:39:52.131Z"
   },
   {
    "duration": 1223,
    "start_time": "2022-11-15T07:39:52.636Z"
   },
   {
    "duration": 5,
    "start_time": "2022-11-15T07:39:53.861Z"
   },
   {
    "duration": 22,
    "start_time": "2022-11-15T07:39:53.867Z"
   },
   {
    "duration": 11,
    "start_time": "2022-11-15T07:39:53.891Z"
   },
   {
    "duration": 35,
    "start_time": "2022-11-15T07:39:53.904Z"
   },
   {
    "duration": 94,
    "start_time": "2022-11-15T07:39:53.941Z"
   },
   {
    "duration": 149,
    "start_time": "2022-11-15T07:39:54.037Z"
   },
   {
    "duration": 7,
    "start_time": "2022-11-15T07:39:54.188Z"
   },
   {
    "duration": 14,
    "start_time": "2022-11-15T07:46:22.098Z"
   },
   {
    "duration": 16,
    "start_time": "2022-11-15T07:59:25.127Z"
   },
   {
    "duration": 82,
    "start_time": "2022-11-15T08:22:37.496Z"
   },
   {
    "duration": 19,
    "start_time": "2022-11-15T08:25:28.833Z"
   },
   {
    "duration": 185,
    "start_time": "2022-11-15T08:25:45.940Z"
   },
   {
    "duration": 2470,
    "start_time": "2022-11-15T08:25:59.506Z"
   },
   {
    "duration": 27,
    "start_time": "2022-11-15T08:28:04.018Z"
   },
   {
    "duration": 1360,
    "start_time": "2022-11-15T08:28:13.658Z"
   },
   {
    "duration": 61,
    "start_time": "2022-11-15T08:28:15.020Z"
   },
   {
    "duration": 18,
    "start_time": "2022-11-15T08:28:15.082Z"
   },
   {
    "duration": 10,
    "start_time": "2022-11-15T08:28:15.101Z"
   },
   {
    "duration": 32,
    "start_time": "2022-11-15T08:28:15.113Z"
   },
   {
    "duration": 11,
    "start_time": "2022-11-15T08:28:15.147Z"
   },
   {
    "duration": 275,
    "start_time": "2022-11-15T08:28:15.159Z"
   },
   {
    "duration": 6,
    "start_time": "2022-11-15T08:28:15.436Z"
   },
   {
    "duration": 247,
    "start_time": "2022-11-15T08:28:15.444Z"
   },
   {
    "duration": 3,
    "start_time": "2022-11-15T08:28:15.693Z"
   },
   {
    "duration": 421,
    "start_time": "2022-11-15T08:28:15.698Z"
   },
   {
    "duration": 1192,
    "start_time": "2022-11-15T08:28:16.127Z"
   },
   {
    "duration": 14,
    "start_time": "2022-11-15T08:28:17.321Z"
   },
   {
    "duration": 14,
    "start_time": "2022-11-15T08:28:17.336Z"
   },
   {
    "duration": 12,
    "start_time": "2022-11-15T08:28:17.351Z"
   },
   {
    "duration": 26,
    "start_time": "2022-11-15T08:28:17.364Z"
   },
   {
    "duration": 207,
    "start_time": "2022-11-15T08:28:17.392Z"
   },
   {
    "duration": 0,
    "start_time": "2022-11-15T08:28:17.600Z"
   },
   {
    "duration": 0,
    "start_time": "2022-11-15T08:28:17.601Z"
   },
   {
    "duration": 0,
    "start_time": "2022-11-15T08:28:17.603Z"
   },
   {
    "duration": 2617,
    "start_time": "2022-11-15T08:28:22.868Z"
   },
   {
    "duration": 16,
    "start_time": "2022-11-15T08:28:27.920Z"
   },
   {
    "duration": 92,
    "start_time": "2022-11-15T08:28:52.118Z"
   },
   {
    "duration": 768,
    "start_time": "2022-11-15T08:37:30.277Z"
   },
   {
    "duration": 19,
    "start_time": "2022-11-15T08:39:42.695Z"
   },
   {
    "duration": 4767,
    "start_time": "2022-11-15T08:39:56.639Z"
   },
   {
    "duration": 2363,
    "start_time": "2022-11-15T08:40:11.313Z"
   },
   {
    "duration": 25,
    "start_time": "2022-11-15T08:40:19.625Z"
   },
   {
    "duration": 80,
    "start_time": "2022-11-15T09:28:23.916Z"
   },
   {
    "duration": 5816,
    "start_time": "2022-11-15T09:28:27.632Z"
   },
   {
    "duration": 6540,
    "start_time": "2022-11-15T09:28:49.701Z"
   },
   {
    "duration": 7950,
    "start_time": "2022-11-15T09:29:12.788Z"
   },
   {
    "duration": 792,
    "start_time": "2022-11-15T09:31:59.373Z"
   },
   {
    "duration": 685,
    "start_time": "2022-11-15T09:32:12.610Z"
   },
   {
    "duration": 601,
    "start_time": "2022-11-15T09:32:27.979Z"
   },
   {
    "duration": 7,
    "start_time": "2022-11-15T09:33:13.212Z"
   },
   {
    "duration": 9,
    "start_time": "2022-11-15T09:33:28.355Z"
   },
   {
    "duration": 3,
    "start_time": "2022-11-15T09:33:59.755Z"
   },
   {
    "duration": 53,
    "start_time": "2022-11-15T09:33:59.760Z"
   },
   {
    "duration": 22,
    "start_time": "2022-11-15T09:33:59.815Z"
   },
   {
    "duration": 9,
    "start_time": "2022-11-15T09:33:59.839Z"
   },
   {
    "duration": 15,
    "start_time": "2022-11-15T09:33:59.849Z"
   },
   {
    "duration": 4,
    "start_time": "2022-11-15T09:33:59.866Z"
   },
   {
    "duration": 205,
    "start_time": "2022-11-15T09:33:59.871Z"
   },
   {
    "duration": 5,
    "start_time": "2022-11-15T09:34:00.077Z"
   },
   {
    "duration": 334,
    "start_time": "2022-11-15T09:34:00.083Z"
   },
   {
    "duration": 13,
    "start_time": "2022-11-15T09:34:00.419Z"
   },
   {
    "duration": 358,
    "start_time": "2022-11-15T09:34:00.434Z"
   },
   {
    "duration": 1167,
    "start_time": "2022-11-15T09:34:00.794Z"
   },
   {
    "duration": 5,
    "start_time": "2022-11-15T09:34:01.962Z"
   },
   {
    "duration": 66,
    "start_time": "2022-11-15T09:34:01.968Z"
   },
   {
    "duration": 32,
    "start_time": "2022-11-15T09:34:02.036Z"
   },
   {
    "duration": 92,
    "start_time": "2022-11-15T09:34:02.070Z"
   },
   {
    "duration": 2396,
    "start_time": "2022-11-15T09:34:02.164Z"
   },
   {
    "duration": 24,
    "start_time": "2022-11-15T09:34:04.562Z"
   },
   {
    "duration": 2442,
    "start_time": "2022-11-15T09:34:04.589Z"
   },
   {
    "duration": 97,
    "start_time": "2022-11-15T09:34:07.034Z"
   },
   {
    "duration": 4913,
    "start_time": "2022-11-15T09:34:07.133Z"
   },
   {
    "duration": 850,
    "start_time": "2022-11-15T09:34:12.047Z"
   },
   {
    "duration": 8,
    "start_time": "2022-11-15T09:34:18.710Z"
   },
   {
    "duration": 673,
    "start_time": "2022-11-15T09:34:50.904Z"
   },
   {
    "duration": 9,
    "start_time": "2022-11-15T09:34:52.485Z"
   },
   {
    "duration": 96,
    "start_time": "2022-11-15T09:35:48.839Z"
   },
   {
    "duration": 10003,
    "start_time": "2022-11-15T09:35:48.936Z"
   },
   {
    "duration": 589,
    "start_time": "2022-11-15T09:35:58.941Z"
   },
   {
    "duration": 19,
    "start_time": "2022-11-15T09:36:00.616Z"
   },
   {
    "duration": 10,
    "start_time": "2022-11-15T09:36:19.062Z"
   },
   {
    "duration": 24,
    "start_time": "2022-11-15T09:36:28.607Z"
   },
   {
    "duration": 7,
    "start_time": "2022-11-15T09:36:32.870Z"
   },
   {
    "duration": 687,
    "start_time": "2022-11-15T09:40:40.513Z"
   },
   {
    "duration": 71377,
    "start_time": "2022-11-15T09:41:53.973Z"
   },
   {
    "duration": 618,
    "start_time": "2022-11-15T09:45:23.600Z"
   },
   {
    "duration": 26641,
    "start_time": "2022-11-15T09:45:32.289Z"
   },
   {
    "duration": 1410,
    "start_time": "2022-11-15T09:46:20.408Z"
   },
   {
    "duration": 67,
    "start_time": "2022-11-15T09:46:21.819Z"
   },
   {
    "duration": 17,
    "start_time": "2022-11-15T09:46:21.888Z"
   },
   {
    "duration": 3,
    "start_time": "2022-11-15T09:46:21.908Z"
   },
   {
    "duration": 22,
    "start_time": "2022-11-15T09:46:21.913Z"
   },
   {
    "duration": 10,
    "start_time": "2022-11-15T09:46:21.936Z"
   },
   {
    "duration": 232,
    "start_time": "2022-11-15T09:46:21.947Z"
   },
   {
    "duration": 6,
    "start_time": "2022-11-15T09:46:22.181Z"
   },
   {
    "duration": 255,
    "start_time": "2022-11-15T09:46:22.188Z"
   },
   {
    "duration": 4,
    "start_time": "2022-11-15T09:46:22.445Z"
   },
   {
    "duration": 430,
    "start_time": "2022-11-15T09:46:22.451Z"
   },
   {
    "duration": 1149,
    "start_time": "2022-11-15T09:46:22.883Z"
   },
   {
    "duration": 5,
    "start_time": "2022-11-15T09:46:24.034Z"
   },
   {
    "duration": 13,
    "start_time": "2022-11-15T09:46:24.040Z"
   },
   {
    "duration": 9,
    "start_time": "2022-11-15T09:46:24.054Z"
   },
   {
    "duration": 11,
    "start_time": "2022-11-15T09:46:24.065Z"
   },
   {
    "duration": 2478,
    "start_time": "2022-11-15T09:46:24.078Z"
   },
   {
    "duration": 22,
    "start_time": "2022-11-15T09:46:26.558Z"
   },
   {
    "duration": 2424,
    "start_time": "2022-11-15T09:46:26.582Z"
   },
   {
    "duration": 90,
    "start_time": "2022-11-15T09:46:29.008Z"
   },
   {
    "duration": 6432,
    "start_time": "2022-11-15T09:46:29.099Z"
   },
   {
    "duration": 637,
    "start_time": "2022-11-15T09:46:35.534Z"
   },
   {
    "duration": 6,
    "start_time": "2022-11-15T09:46:36.173Z"
   },
   {
    "duration": 679,
    "start_time": "2022-11-15T09:46:36.181Z"
   },
   {
    "duration": 0,
    "start_time": "2022-11-15T09:46:36.861Z"
   },
   {
    "duration": 590,
    "start_time": "2022-11-15T09:46:49.191Z"
   },
   {
    "duration": 4996,
    "start_time": "2022-11-15T09:46:58.134Z"
   },
   {
    "duration": 16,
    "start_time": "2022-11-15T09:47:19.935Z"
   },
   {
    "duration": 7,
    "start_time": "2022-11-15T09:47:36.496Z"
   },
   {
    "duration": 6,
    "start_time": "2022-11-15T09:47:56.506Z"
   },
   {
    "duration": 237,
    "start_time": "2022-11-15T09:49:10.766Z"
   },
   {
    "duration": 238,
    "start_time": "2022-11-15T09:49:50.765Z"
   },
   {
    "duration": 8,
    "start_time": "2022-11-15T09:50:25.885Z"
   },
   {
    "duration": 10,
    "start_time": "2022-11-15T09:50:29.590Z"
   },
   {
    "duration": 9,
    "start_time": "2022-11-15T09:50:29.602Z"
   },
   {
    "duration": 2959,
    "start_time": "2022-11-15T09:50:29.613Z"
   },
   {
    "duration": 24,
    "start_time": "2022-11-15T09:50:32.574Z"
   },
   {
    "duration": 2940,
    "start_time": "2022-11-15T09:50:32.600Z"
   },
   {
    "duration": 109,
    "start_time": "2022-11-15T09:50:35.542Z"
   },
   {
    "duration": 6178,
    "start_time": "2022-11-15T09:50:35.652Z"
   },
   {
    "duration": 775,
    "start_time": "2022-11-15T09:50:41.833Z"
   },
   {
    "duration": 7,
    "start_time": "2022-11-15T09:50:42.609Z"
   },
   {
    "duration": 6807,
    "start_time": "2022-11-15T09:50:42.618Z"
   },
   {
    "duration": 683,
    "start_time": "2022-11-15T09:50:49.428Z"
   },
   {
    "duration": 7,
    "start_time": "2022-11-15T09:50:50.113Z"
   },
   {
    "duration": 15,
    "start_time": "2022-11-15T09:50:50.132Z"
   },
   {
    "duration": 249,
    "start_time": "2022-11-15T09:50:50.148Z"
   },
   {
    "duration": 30,
    "start_time": "2022-11-15T09:51:04.347Z"
   },
   {
    "duration": 14,
    "start_time": "2022-11-15T09:51:07.667Z"
   },
   {
    "duration": 50,
    "start_time": "2022-11-15T09:51:07.683Z"
   },
   {
    "duration": 12771,
    "start_time": "2022-11-15T09:51:07.735Z"
   },
   {
    "duration": 100,
    "start_time": "2022-11-15T09:51:20.508Z"
   },
   {
    "duration": 12934,
    "start_time": "2022-11-15T09:51:20.610Z"
   },
   {
    "duration": 495,
    "start_time": "2022-11-15T09:51:33.546Z"
   },
   {
    "duration": 13596,
    "start_time": "2022-11-15T09:51:34.043Z"
   },
   {
    "duration": 1747,
    "start_time": "2022-11-15T09:51:47.640Z"
   },
   {
    "duration": 7,
    "start_time": "2022-11-15T09:51:49.389Z"
   },
   {
    "duration": 14638,
    "start_time": "2022-11-15T09:51:49.397Z"
   },
   {
    "duration": 1465,
    "start_time": "2022-11-15T09:52:04.039Z"
   },
   {
    "duration": 10,
    "start_time": "2022-11-15T09:52:05.506Z"
   },
   {
    "duration": 46,
    "start_time": "2022-11-15T09:52:05.518Z"
   },
   {
    "duration": 292,
    "start_time": "2022-11-15T09:52:05.567Z"
   },
   {
    "duration": 203,
    "start_time": "2022-11-15T09:53:44.146Z"
   },
   {
    "duration": 204,
    "start_time": "2022-11-15T09:53:48.408Z"
   },
   {
    "duration": 13,
    "start_time": "2022-11-15T09:55:23.458Z"
   },
   {
    "duration": 14,
    "start_time": "2022-11-15T09:55:26.121Z"
   },
   {
    "duration": 97,
    "start_time": "2022-11-15T09:55:26.137Z"
   },
   {
    "duration": 12912,
    "start_time": "2022-11-15T09:55:26.236Z"
   },
   {
    "duration": 95,
    "start_time": "2022-11-15T09:55:39.150Z"
   },
   {
    "duration": 12841,
    "start_time": "2022-11-15T09:55:39.246Z"
   },
   {
    "duration": 500,
    "start_time": "2022-11-15T09:55:52.089Z"
   },
   {
    "duration": 16755,
    "start_time": "2022-11-15T09:55:52.590Z"
   },
   {
    "duration": 1535,
    "start_time": "2022-11-15T09:56:09.346Z"
   },
   {
    "duration": 8,
    "start_time": "2022-11-15T09:56:10.882Z"
   },
   {
    "duration": 14539,
    "start_time": "2022-11-15T09:56:10.892Z"
   },
   {
    "duration": 1604,
    "start_time": "2022-11-15T09:56:25.434Z"
   },
   {
    "duration": 206,
    "start_time": "2022-11-15T09:56:27.040Z"
   },
   {
    "duration": 257,
    "start_time": "2022-11-15T09:56:45.214Z"
   },
   {
    "duration": 14,
    "start_time": "2022-11-15T09:57:49.181Z"
   },
   {
    "duration": 18,
    "start_time": "2022-11-15T09:58:20.966Z"
   },
   {
    "duration": 82,
    "start_time": "2022-11-15T09:58:25.549Z"
   },
   {
    "duration": 12846,
    "start_time": "2022-11-15T09:58:25.633Z"
   },
   {
    "duration": 99,
    "start_time": "2022-11-15T09:58:38.480Z"
   },
   {
    "duration": 12683,
    "start_time": "2022-11-15T09:58:38.581Z"
   },
   {
    "duration": 501,
    "start_time": "2022-11-15T09:58:51.265Z"
   },
   {
    "duration": 14956,
    "start_time": "2022-11-15T09:58:51.768Z"
   },
   {
    "duration": 1597,
    "start_time": "2022-11-15T09:59:06.729Z"
   },
   {
    "duration": 9,
    "start_time": "2022-11-15T09:59:08.328Z"
   },
   {
    "duration": 15009,
    "start_time": "2022-11-15T09:59:08.338Z"
   },
   {
    "duration": 1611,
    "start_time": "2022-11-15T09:59:23.422Z"
   },
   {
    "duration": 209,
    "start_time": "2022-11-15T09:59:25.038Z"
   },
   {
    "duration": 8,
    "start_time": "2022-11-15T10:00:02.842Z"
   },
   {
    "duration": 18,
    "start_time": "2022-11-15T10:00:08.541Z"
   },
   {
    "duration": 171,
    "start_time": "2022-11-15T10:00:08.561Z"
   },
   {
    "duration": 12726,
    "start_time": "2022-11-15T10:00:08.738Z"
   },
   {
    "duration": 103,
    "start_time": "2022-11-15T10:00:21.466Z"
   },
   {
    "duration": 12838,
    "start_time": "2022-11-15T10:00:21.571Z"
   },
   {
    "duration": 502,
    "start_time": "2022-11-15T10:00:34.411Z"
   },
   {
    "duration": 16611,
    "start_time": "2022-11-15T10:00:34.914Z"
   },
   {
    "duration": 1518,
    "start_time": "2022-11-15T10:00:51.526Z"
   },
   {
    "duration": 9,
    "start_time": "2022-11-15T10:00:53.046Z"
   },
   {
    "duration": 1624,
    "start_time": "2022-11-15T10:00:53.057Z"
   },
   {
    "duration": 203,
    "start_time": "2022-11-15T10:00:54.682Z"
   },
   {
    "duration": 42,
    "start_time": "2022-11-15T10:01:06.337Z"
   },
   {
    "duration": 22,
    "start_time": "2022-11-15T10:01:12.190Z"
   },
   {
    "duration": 406,
    "start_time": "2022-11-15T10:01:12.214Z"
   },
   {
    "duration": 23109,
    "start_time": "2022-11-15T10:01:12.623Z"
   },
   {
    "duration": 172,
    "start_time": "2022-11-15T10:01:35.736Z"
   },
   {
    "duration": 22998,
    "start_time": "2022-11-15T10:01:35.910Z"
   },
   {
    "duration": 894,
    "start_time": "2022-11-15T10:01:58.909Z"
   },
   {
    "duration": 10730,
    "start_time": "2022-11-15T10:01:59.805Z"
   },
   {
    "duration": 2933,
    "start_time": "2022-11-15T10:02:10.537Z"
   },
   {
    "duration": 7,
    "start_time": "2022-11-15T10:02:13.472Z"
   },
   {
    "duration": 2635,
    "start_time": "2022-11-15T10:02:13.481Z"
   },
   {
    "duration": 223,
    "start_time": "2022-11-15T10:02:16.117Z"
   },
   {
    "duration": 9,
    "start_time": "2022-11-15T10:02:25.990Z"
   },
   {
    "duration": 14,
    "start_time": "2022-11-15T10:02:29.603Z"
   },
   {
    "duration": 217,
    "start_time": "2022-11-15T10:02:29.619Z"
   },
   {
    "duration": 23042,
    "start_time": "2022-11-15T10:02:29.840Z"
   },
   {
    "duration": 156,
    "start_time": "2022-11-15T10:02:52.884Z"
   },
   {
    "duration": 22856,
    "start_time": "2022-11-15T10:02:53.042Z"
   },
   {
    "duration": 895,
    "start_time": "2022-11-15T10:03:15.900Z"
   },
   {
    "duration": 33938,
    "start_time": "2022-11-15T10:03:16.796Z"
   },
   {
    "duration": 2648,
    "start_time": "2022-11-15T10:03:50.740Z"
   },
   {
    "duration": 7,
    "start_time": "2022-11-15T10:03:53.389Z"
   },
   {
    "duration": 2645,
    "start_time": "2022-11-15T10:03:53.398Z"
   },
   {
    "duration": 297,
    "start_time": "2022-11-15T10:03:56.045Z"
   },
   {
    "duration": 9,
    "start_time": "2022-11-15T10:04:09.805Z"
   },
   {
    "duration": 18,
    "start_time": "2022-11-15T10:04:16.016Z"
   },
   {
    "duration": 13,
    "start_time": "2022-11-15T10:04:19.564Z"
   },
   {
    "duration": 47,
    "start_time": "2022-11-15T10:04:19.579Z"
   },
   {
    "duration": 7561,
    "start_time": "2022-11-15T10:04:19.627Z"
   },
   {
    "duration": 57,
    "start_time": "2022-11-15T10:04:27.191Z"
   },
   {
    "duration": 7985,
    "start_time": "2022-11-15T10:04:27.250Z"
   },
   {
    "duration": 335,
    "start_time": "2022-11-15T10:04:35.238Z"
   },
   {
    "duration": 30771,
    "start_time": "2022-11-15T10:04:35.575Z"
   },
   {
    "duration": 2523,
    "start_time": "2022-11-15T10:05:06.422Z"
   },
   {
    "duration": 8,
    "start_time": "2022-11-15T10:05:08.947Z"
   },
   {
    "duration": 2101,
    "start_time": "2022-11-15T10:05:08.957Z"
   },
   {
    "duration": 203,
    "start_time": "2022-11-15T10:05:11.059Z"
   },
   {
    "duration": 23,
    "start_time": "2022-11-15T10:05:24.703Z"
   },
   {
    "duration": 22,
    "start_time": "2022-11-15T10:05:28.421Z"
   },
   {
    "duration": 295,
    "start_time": "2022-11-15T10:05:28.445Z"
   },
   {
    "duration": 23915,
    "start_time": "2022-11-15T10:05:28.746Z"
   },
   {
    "duration": 168,
    "start_time": "2022-11-15T10:05:52.663Z"
   },
   {
    "duration": 23914,
    "start_time": "2022-11-15T10:05:52.833Z"
   },
   {
    "duration": 929,
    "start_time": "2022-11-15T10:06:16.749Z"
   },
   {
    "duration": 11461,
    "start_time": "2022-11-15T10:06:17.679Z"
   },
   {
    "duration": 2694,
    "start_time": "2022-11-15T10:06:29.141Z"
   },
   {
    "duration": 8,
    "start_time": "2022-11-15T10:06:31.837Z"
   },
   {
    "duration": 2913,
    "start_time": "2022-11-15T10:06:31.847Z"
   },
   {
    "duration": 211,
    "start_time": "2022-11-15T10:06:34.761Z"
   },
   {
    "duration": 20,
    "start_time": "2022-11-15T10:06:49.052Z"
   },
   {
    "duration": 14,
    "start_time": "2022-11-15T10:06:51.635Z"
   },
   {
    "duration": 186,
    "start_time": "2022-11-15T10:06:51.651Z"
   },
   {
    "duration": 24238,
    "start_time": "2022-11-15T10:06:51.840Z"
   },
   {
    "duration": 176,
    "start_time": "2022-11-15T10:07:16.080Z"
   },
   {
    "duration": 24030,
    "start_time": "2022-11-15T10:07:16.259Z"
   },
   {
    "duration": 945,
    "start_time": "2022-11-15T10:07:40.291Z"
   },
   {
    "duration": 22192,
    "start_time": "2022-11-15T10:07:41.237Z"
   },
   {
    "duration": 2600,
    "start_time": "2022-11-15T10:08:03.431Z"
   },
   {
    "duration": 7,
    "start_time": "2022-11-15T10:08:06.035Z"
   },
   {
    "duration": 2632,
    "start_time": "2022-11-15T10:08:06.044Z"
   },
   {
    "duration": 196,
    "start_time": "2022-11-15T10:08:08.678Z"
   },
   {
    "duration": 10,
    "start_time": "2022-11-15T10:27:06.989Z"
   },
   {
    "duration": 4,
    "start_time": "2022-11-15T10:27:10.803Z"
   },
   {
    "duration": 57,
    "start_time": "2022-11-15T10:27:10.808Z"
   },
   {
    "duration": 15,
    "start_time": "2022-11-15T10:27:10.866Z"
   },
   {
    "duration": 6,
    "start_time": "2022-11-15T10:27:10.883Z"
   },
   {
    "duration": 16,
    "start_time": "2022-11-15T10:27:10.890Z"
   },
   {
    "duration": 5,
    "start_time": "2022-11-15T10:27:10.907Z"
   },
   {
    "duration": 203,
    "start_time": "2022-11-15T10:27:10.913Z"
   },
   {
    "duration": 16,
    "start_time": "2022-11-15T10:27:11.121Z"
   },
   {
    "duration": 229,
    "start_time": "2022-11-15T10:27:11.139Z"
   },
   {
    "duration": 4,
    "start_time": "2022-11-15T10:27:11.370Z"
   },
   {
    "duration": 458,
    "start_time": "2022-11-15T10:27:11.376Z"
   },
   {
    "duration": 1140,
    "start_time": "2022-11-15T10:27:11.836Z"
   },
   {
    "duration": 5,
    "start_time": "2022-11-15T10:27:12.978Z"
   },
   {
    "duration": 24,
    "start_time": "2022-11-15T10:27:12.984Z"
   },
   {
    "duration": 9,
    "start_time": "2022-11-15T10:27:15.387Z"
   },
   {
    "duration": 16,
    "start_time": "2022-11-15T10:27:18.717Z"
   },
   {
    "duration": 25,
    "start_time": "2022-11-15T10:27:18.735Z"
   },
   {
    "duration": 3203,
    "start_time": "2022-11-15T10:27:18.761Z"
   },
   {
    "duration": 31,
    "start_time": "2022-11-15T10:27:21.967Z"
   },
   {
    "duration": 3251,
    "start_time": "2022-11-15T10:27:22.000Z"
   },
   {
    "duration": 153,
    "start_time": "2022-11-15T10:27:25.253Z"
   },
   {
    "duration": 5515,
    "start_time": "2022-11-15T10:27:25.408Z"
   },
   {
    "duration": 758,
    "start_time": "2022-11-15T10:27:30.928Z"
   },
   {
    "duration": 7,
    "start_time": "2022-11-15T10:27:31.688Z"
   },
   {
    "duration": 690,
    "start_time": "2022-11-15T10:27:31.696Z"
   },
   {
    "duration": 204,
    "start_time": "2022-11-15T10:27:32.387Z"
   },
   {
    "duration": 7,
    "start_time": "2022-11-15T10:28:47.486Z"
   },
   {
    "duration": 12,
    "start_time": "2022-11-15T10:28:51.180Z"
   },
   {
    "duration": 15,
    "start_time": "2022-11-15T10:28:51.193Z"
   },
   {
    "duration": 3085,
    "start_time": "2022-11-15T10:28:51.210Z"
   },
   {
    "duration": 38,
    "start_time": "2022-11-15T10:28:54.298Z"
   },
   {
    "duration": 3138,
    "start_time": "2022-11-15T10:28:54.338Z"
   },
   {
    "duration": 115,
    "start_time": "2022-11-15T10:28:57.477Z"
   },
   {
    "duration": 7745,
    "start_time": "2022-11-15T10:28:57.593Z"
   },
   {
    "duration": 692,
    "start_time": "2022-11-15T10:29:05.340Z"
   },
   {
    "duration": 8,
    "start_time": "2022-11-15T10:29:06.033Z"
   },
   {
    "duration": 651,
    "start_time": "2022-11-15T10:29:06.043Z"
   },
   {
    "duration": 199,
    "start_time": "2022-11-15T10:29:06.696Z"
   },
   {
    "duration": 13,
    "start_time": "2022-11-15T10:29:38.844Z"
   },
   {
    "duration": 12,
    "start_time": "2022-11-15T10:29:40.917Z"
   },
   {
    "duration": 38,
    "start_time": "2022-11-15T10:29:40.931Z"
   },
   {
    "duration": 4910,
    "start_time": "2022-11-15T10:29:40.971Z"
   },
   {
    "duration": 46,
    "start_time": "2022-11-15T10:29:45.883Z"
   },
   {
    "duration": 4925,
    "start_time": "2022-11-15T10:29:45.931Z"
   },
   {
    "duration": 190,
    "start_time": "2022-11-15T10:29:50.858Z"
   },
   {
    "duration": 6284,
    "start_time": "2022-11-15T10:29:51.050Z"
   },
   {
    "duration": 860,
    "start_time": "2022-11-15T10:29:57.336Z"
   },
   {
    "duration": 7,
    "start_time": "2022-11-15T10:29:58.198Z"
   },
   {
    "duration": 862,
    "start_time": "2022-11-15T10:29:58.208Z"
   },
   {
    "duration": 207,
    "start_time": "2022-11-15T10:29:59.072Z"
   },
   {
    "duration": 9,
    "start_time": "2022-11-15T10:30:07.181Z"
   },
   {
    "duration": 840,
    "start_time": "2022-11-15T10:30:11.145Z"
   },
   {
    "duration": 4474,
    "start_time": "2022-11-15T10:30:26.468Z"
   },
   {
    "duration": 8285,
    "start_time": "2022-11-15T10:30:38.079Z"
   },
   {
    "duration": 2398,
    "start_time": "2022-11-15T10:30:51.142Z"
   },
   {
    "duration": 873,
    "start_time": "2022-11-15T10:30:58.010Z"
   },
   {
    "duration": 10,
    "start_time": "2022-11-15T10:31:25.194Z"
   },
   {
    "duration": 11,
    "start_time": "2022-11-15T10:31:28.747Z"
   },
   {
    "duration": 20,
    "start_time": "2022-11-15T10:31:28.759Z"
   },
   {
    "duration": 4988,
    "start_time": "2022-11-15T10:31:28.822Z"
   },
   {
    "duration": 43,
    "start_time": "2022-11-15T10:31:33.812Z"
   },
   {
    "duration": 4995,
    "start_time": "2022-11-15T10:31:33.857Z"
   },
   {
    "duration": 198,
    "start_time": "2022-11-15T10:31:38.853Z"
   },
   {
    "duration": 6086,
    "start_time": "2022-11-15T10:31:39.052Z"
   },
   {
    "duration": 1241,
    "start_time": "2022-11-15T10:31:45.223Z"
   },
   {
    "duration": 7,
    "start_time": "2022-11-15T10:31:46.466Z"
   },
   {
    "duration": 1139,
    "start_time": "2022-11-15T10:31:46.475Z"
   },
   {
    "duration": 327,
    "start_time": "2022-11-15T10:31:47.616Z"
   },
   {
    "duration": 9,
    "start_time": "2022-11-15T10:32:27.065Z"
   },
   {
    "duration": 12,
    "start_time": "2022-11-15T10:32:31.592Z"
   },
   {
    "duration": 30,
    "start_time": "2022-11-15T10:32:31.605Z"
   },
   {
    "duration": 5046,
    "start_time": "2022-11-15T10:32:31.637Z"
   },
   {
    "duration": 45,
    "start_time": "2022-11-15T10:32:36.685Z"
   },
   {
    "duration": 4900,
    "start_time": "2022-11-15T10:32:36.735Z"
   },
   {
    "duration": 197,
    "start_time": "2022-11-15T10:32:41.637Z"
   },
   {
    "duration": 15605,
    "start_time": "2022-11-15T10:32:41.835Z"
   },
   {
    "duration": 1006,
    "start_time": "2022-11-15T10:32:57.442Z"
   },
   {
    "duration": 7,
    "start_time": "2022-11-15T10:32:58.450Z"
   },
   {
    "duration": 800,
    "start_time": "2022-11-15T10:32:58.460Z"
   },
   {
    "duration": 232,
    "start_time": "2022-11-15T10:32:59.262Z"
   },
   {
    "duration": 206,
    "start_time": "2022-11-15T10:33:08.385Z"
   },
   {
    "duration": 216,
    "start_time": "2022-11-15T10:33:13.656Z"
   },
   {
    "duration": 229,
    "start_time": "2022-11-15T10:33:21.833Z"
   },
   {
    "duration": 211,
    "start_time": "2022-11-15T10:33:28.174Z"
   },
   {
    "duration": 7,
    "start_time": "2022-11-15T10:35:32.658Z"
   },
   {
    "duration": 11,
    "start_time": "2022-11-15T10:35:36.852Z"
   },
   {
    "duration": 11,
    "start_time": "2022-11-15T10:35:36.865Z"
   },
   {
    "duration": 4975,
    "start_time": "2022-11-15T10:35:36.879Z"
   },
   {
    "duration": 37,
    "start_time": "2022-11-15T10:35:41.856Z"
   },
   {
    "duration": 5080,
    "start_time": "2022-11-15T10:35:41.894Z"
   },
   {
    "duration": 208,
    "start_time": "2022-11-15T10:35:46.976Z"
   },
   {
    "duration": 48951,
    "start_time": "2022-11-15T10:35:47.185Z"
   },
   {
    "duration": 1111,
    "start_time": "2022-11-15T10:36:36.138Z"
   },
   {
    "duration": 8,
    "start_time": "2022-11-15T10:36:37.251Z"
   },
   {
    "duration": 938,
    "start_time": "2022-11-15T10:36:37.261Z"
   },
   {
    "duration": 207,
    "start_time": "2022-11-15T10:36:38.201Z"
   },
   {
    "duration": 16,
    "start_time": "2022-11-15T10:44:51.717Z"
   },
   {
    "duration": 83,
    "start_time": "2022-11-15T10:45:09.877Z"
   },
   {
    "duration": 4,
    "start_time": "2022-11-15T10:45:50.832Z"
   },
   {
    "duration": 76,
    "start_time": "2022-11-15T10:45:55.965Z"
   },
   {
    "duration": 70,
    "start_time": "2022-11-15T10:46:37.965Z"
   },
   {
    "duration": 4,
    "start_time": "2022-11-15T10:46:58.743Z"
   },
   {
    "duration": 57,
    "start_time": "2022-11-15T10:46:58.748Z"
   },
   {
    "duration": 20,
    "start_time": "2022-11-15T10:46:58.807Z"
   },
   {
    "duration": 12,
    "start_time": "2022-11-15T10:46:58.833Z"
   },
   {
    "duration": 19,
    "start_time": "2022-11-15T10:46:58.847Z"
   },
   {
    "duration": 5,
    "start_time": "2022-11-15T10:46:58.867Z"
   },
   {
    "duration": 199,
    "start_time": "2022-11-15T10:46:58.873Z"
   },
   {
    "duration": 5,
    "start_time": "2022-11-15T10:46:59.074Z"
   },
   {
    "duration": 235,
    "start_time": "2022-11-15T10:46:59.080Z"
   },
   {
    "duration": 9,
    "start_time": "2022-11-15T10:46:59.317Z"
   },
   {
    "duration": 334,
    "start_time": "2022-11-15T10:46:59.327Z"
   },
   {
    "duration": 1249,
    "start_time": "2022-11-15T10:46:59.663Z"
   },
   {
    "duration": 9,
    "start_time": "2022-11-15T10:47:00.914Z"
   },
   {
    "duration": 41,
    "start_time": "2022-11-15T10:47:00.925Z"
   },
   {
    "duration": 24,
    "start_time": "2022-11-15T10:47:00.967Z"
   },
   {
    "duration": 46,
    "start_time": "2022-11-15T10:47:00.993Z"
   },
   {
    "duration": 2495,
    "start_time": "2022-11-15T10:47:01.041Z"
   },
   {
    "duration": 21,
    "start_time": "2022-11-15T10:47:03.537Z"
   },
   {
    "duration": 2502,
    "start_time": "2022-11-15T10:47:03.560Z"
   },
   {
    "duration": 96,
    "start_time": "2022-11-15T10:47:06.063Z"
   },
   {
    "duration": 6988,
    "start_time": "2022-11-15T10:47:06.161Z"
   },
   {
    "duration": 768,
    "start_time": "2022-11-15T10:47:13.221Z"
   },
   {
    "duration": 22,
    "start_time": "2022-11-15T10:48:10.818Z"
   },
   {
    "duration": 0,
    "start_time": "2022-11-15T10:50:21.373Z"
   },
   {
    "duration": 9,
    "start_time": "2022-11-15T10:51:31.181Z"
   },
   {
    "duration": 10,
    "start_time": "2022-11-15T10:51:34.616Z"
   },
   {
    "duration": 22,
    "start_time": "2022-11-15T10:51:34.628Z"
   },
   {
    "duration": 2436,
    "start_time": "2022-11-15T10:51:34.652Z"
   },
   {
    "duration": 20,
    "start_time": "2022-11-15T10:51:37.090Z"
   },
   {
    "duration": 2479,
    "start_time": "2022-11-15T10:51:37.120Z"
   },
   {
    "duration": 94,
    "start_time": "2022-11-15T10:51:39.600Z"
   },
   {
    "duration": 8538,
    "start_time": "2022-11-15T10:51:39.696Z"
   },
   {
    "duration": 803,
    "start_time": "2022-11-15T10:51:48.237Z"
   },
   {
    "duration": 8,
    "start_time": "2022-11-15T10:51:49.042Z"
   },
   {
    "duration": 1267,
    "start_time": "2022-11-15T10:51:49.052Z"
   },
   {
    "duration": 218,
    "start_time": "2022-11-15T10:51:50.320Z"
   },
   {
    "duration": 10,
    "start_time": "2022-11-15T10:52:14.434Z"
   },
   {
    "duration": 3,
    "start_time": "2022-11-15T10:52:17.480Z"
   },
   {
    "duration": 60,
    "start_time": "2022-11-15T10:52:17.485Z"
   },
   {
    "duration": 13,
    "start_time": "2022-11-15T10:52:17.547Z"
   },
   {
    "duration": 8,
    "start_time": "2022-11-15T10:52:17.562Z"
   },
   {
    "duration": 13,
    "start_time": "2022-11-15T10:52:17.572Z"
   },
   {
    "duration": 6,
    "start_time": "2022-11-15T10:52:17.586Z"
   },
   {
    "duration": 219,
    "start_time": "2022-11-15T10:52:17.594Z"
   },
   {
    "duration": 12,
    "start_time": "2022-11-15T10:52:17.823Z"
   },
   {
    "duration": 220,
    "start_time": "2022-11-15T10:52:17.837Z"
   },
   {
    "duration": 4,
    "start_time": "2022-11-15T10:52:18.059Z"
   },
   {
    "duration": 339,
    "start_time": "2022-11-15T10:52:18.065Z"
   },
   {
    "duration": 1300,
    "start_time": "2022-11-15T10:52:18.406Z"
   },
   {
    "duration": 16,
    "start_time": "2022-11-15T10:52:19.708Z"
   },
   {
    "duration": 29,
    "start_time": "2022-11-15T10:52:19.727Z"
   },
   {
    "duration": 11,
    "start_time": "2022-11-15T10:52:19.758Z"
   },
   {
    "duration": 1396,
    "start_time": "2022-11-15T10:52:27.119Z"
   },
   {
    "duration": 67,
    "start_time": "2022-11-15T10:52:28.517Z"
   },
   {
    "duration": 16,
    "start_time": "2022-11-15T10:52:28.586Z"
   },
   {
    "duration": 3,
    "start_time": "2022-11-15T10:52:28.603Z"
   },
   {
    "duration": 23,
    "start_time": "2022-11-15T10:52:28.608Z"
   },
   {
    "duration": 8,
    "start_time": "2022-11-15T10:52:28.635Z"
   },
   {
    "duration": 293,
    "start_time": "2022-11-15T10:52:28.644Z"
   },
   {
    "duration": 9,
    "start_time": "2022-11-15T10:52:28.943Z"
   },
   {
    "duration": 323,
    "start_time": "2022-11-15T10:52:28.953Z"
   },
   {
    "duration": 4,
    "start_time": "2022-11-15T10:52:29.277Z"
   },
   {
    "duration": 374,
    "start_time": "2022-11-15T10:52:29.283Z"
   },
   {
    "duration": 1253,
    "start_time": "2022-11-15T10:52:29.659Z"
   },
   {
    "duration": 5,
    "start_time": "2022-11-15T10:52:30.914Z"
   },
   {
    "duration": 39,
    "start_time": "2022-11-15T10:52:30.921Z"
   },
   {
    "duration": 57,
    "start_time": "2022-11-15T10:52:30.962Z"
   },
   {
    "duration": 71,
    "start_time": "2022-11-15T10:52:31.021Z"
   },
   {
    "duration": 3087,
    "start_time": "2022-11-15T10:52:31.093Z"
   },
   {
    "duration": 24,
    "start_time": "2022-11-15T10:52:34.182Z"
   },
   {
    "duration": 3191,
    "start_time": "2022-11-15T10:52:34.207Z"
   },
   {
    "duration": 115,
    "start_time": "2022-11-15T10:52:37.399Z"
   },
   {
    "duration": 45305,
    "start_time": "2022-11-15T10:52:37.522Z"
   },
   {
    "duration": 867,
    "start_time": "2022-11-15T10:53:22.831Z"
   },
   {
    "duration": 7,
    "start_time": "2022-11-15T10:53:23.699Z"
   },
   {
    "duration": 1264,
    "start_time": "2022-11-15T10:53:23.707Z"
   },
   {
    "duration": 216,
    "start_time": "2022-11-15T10:53:24.972Z"
   },
   {
    "duration": 6,
    "start_time": "2022-11-15T10:58:35.669Z"
   },
   {
    "duration": 750,
    "start_time": "2022-11-15T11:02:15.299Z"
   },
   {
    "duration": 734,
    "start_time": "2022-11-15T11:02:21.453Z"
   },
   {
    "duration": 606,
    "start_time": "2022-11-15T11:02:24.164Z"
   },
   {
    "duration": 3,
    "start_time": "2022-11-15T11:02:28.996Z"
   },
   {
    "duration": 65,
    "start_time": "2022-11-15T11:02:29.001Z"
   },
   {
    "duration": 14,
    "start_time": "2022-11-15T11:02:29.067Z"
   },
   {
    "duration": 6,
    "start_time": "2022-11-15T11:02:29.082Z"
   },
   {
    "duration": 13,
    "start_time": "2022-11-15T11:02:29.090Z"
   },
   {
    "duration": 4,
    "start_time": "2022-11-15T11:02:29.104Z"
   },
   {
    "duration": 332,
    "start_time": "2022-11-15T11:02:29.110Z"
   },
   {
    "duration": 7,
    "start_time": "2022-11-15T11:02:29.445Z"
   },
   {
    "duration": 259,
    "start_time": "2022-11-15T11:02:29.454Z"
   },
   {
    "duration": 3,
    "start_time": "2022-11-15T11:02:29.715Z"
   },
   {
    "duration": 6,
    "start_time": "2022-11-15T11:02:31.060Z"
   },
   {
    "duration": 403,
    "start_time": "2022-11-15T11:02:31.295Z"
   },
   {
    "duration": 394,
    "start_time": "2022-11-15T11:02:35.101Z"
   },
   {
    "duration": 352,
    "start_time": "2022-11-15T11:02:46.372Z"
   },
   {
    "duration": 5,
    "start_time": "2022-11-15T11:02:50.112Z"
   },
   {
    "duration": 75,
    "start_time": "2022-11-15T11:02:50.119Z"
   },
   {
    "duration": 14,
    "start_time": "2022-11-15T11:02:50.196Z"
   },
   {
    "duration": 6,
    "start_time": "2022-11-15T11:02:50.212Z"
   },
   {
    "duration": 51,
    "start_time": "2022-11-15T11:02:50.220Z"
   },
   {
    "duration": 5,
    "start_time": "2022-11-15T11:02:50.273Z"
   },
   {
    "duration": 252,
    "start_time": "2022-11-15T11:02:50.280Z"
   },
   {
    "duration": 12,
    "start_time": "2022-11-15T11:02:50.540Z"
   },
   {
    "duration": 395,
    "start_time": "2022-11-15T11:02:50.554Z"
   },
   {
    "duration": 4,
    "start_time": "2022-11-15T11:02:50.953Z"
   },
   {
    "duration": 355,
    "start_time": "2022-11-15T11:02:50.958Z"
   },
   {
    "duration": 11,
    "start_time": "2022-11-15T11:03:25.455Z"
   },
   {
    "duration": 1465,
    "start_time": "2022-11-15T11:03:31.082Z"
   },
   {
    "duration": 55,
    "start_time": "2022-11-15T11:03:32.550Z"
   },
   {
    "duration": 40,
    "start_time": "2022-11-15T11:03:32.607Z"
   },
   {
    "duration": 9,
    "start_time": "2022-11-15T11:03:32.649Z"
   },
   {
    "duration": 18,
    "start_time": "2022-11-15T11:03:32.660Z"
   },
   {
    "duration": 5,
    "start_time": "2022-11-15T11:03:32.679Z"
   },
   {
    "duration": 251,
    "start_time": "2022-11-15T11:03:32.686Z"
   },
   {
    "duration": 11,
    "start_time": "2022-11-15T11:03:32.939Z"
   },
   {
    "duration": 346,
    "start_time": "2022-11-15T11:03:32.952Z"
   },
   {
    "duration": 4,
    "start_time": "2022-11-15T11:03:33.300Z"
   },
   {
    "duration": 361,
    "start_time": "2022-11-15T11:03:33.305Z"
   },
   {
    "duration": 1221,
    "start_time": "2022-11-15T11:03:33.667Z"
   },
   {
    "duration": 5,
    "start_time": "2022-11-15T11:03:34.889Z"
   },
   {
    "duration": 12,
    "start_time": "2022-11-15T11:03:34.895Z"
   },
   {
    "duration": 17,
    "start_time": "2022-11-15T11:03:34.909Z"
   },
   {
    "duration": 32,
    "start_time": "2022-11-15T11:03:34.933Z"
   },
   {
    "duration": 1458,
    "start_time": "2022-11-15T11:03:34.967Z"
   },
   {
    "duration": 17,
    "start_time": "2022-11-15T11:03:36.428Z"
   },
   {
    "duration": 1621,
    "start_time": "2022-11-15T11:03:36.449Z"
   },
   {
    "duration": 66,
    "start_time": "2022-11-15T11:03:38.072Z"
   },
   {
    "duration": 28312,
    "start_time": "2022-11-15T11:03:38.144Z"
   },
   {
    "duration": 712,
    "start_time": "2022-11-15T11:04:06.457Z"
   },
   {
    "duration": 6,
    "start_time": "2022-11-15T11:04:07.171Z"
   },
   {
    "duration": 1274,
    "start_time": "2022-11-15T11:04:07.178Z"
   },
   {
    "duration": 210,
    "start_time": "2022-11-15T11:04:08.453Z"
   },
   {
    "duration": 7,
    "start_time": "2022-11-15T11:05:06.547Z"
   },
   {
    "duration": 11,
    "start_time": "2022-11-15T11:05:09.695Z"
   },
   {
    "duration": 10,
    "start_time": "2022-11-15T11:05:09.707Z"
   },
   {
    "duration": 1448,
    "start_time": "2022-11-15T11:05:09.718Z"
   },
   {
    "duration": 15,
    "start_time": "2022-11-15T11:05:11.168Z"
   },
   {
    "duration": 1728,
    "start_time": "2022-11-15T11:05:11.185Z"
   },
   {
    "duration": 61,
    "start_time": "2022-11-15T11:05:12.915Z"
   },
   {
    "duration": 31360,
    "start_time": "2022-11-15T11:05:12.978Z"
   },
   {
    "duration": 924,
    "start_time": "2022-11-15T11:05:44.341Z"
   },
   {
    "duration": 6,
    "start_time": "2022-11-15T11:05:45.267Z"
   },
   {
    "duration": 702,
    "start_time": "2022-11-15T11:05:45.275Z"
   },
   {
    "duration": 218,
    "start_time": "2022-11-15T11:05:45.979Z"
   },
   {
    "duration": 1476,
    "start_time": "2022-11-15T11:06:03.099Z"
   },
   {
    "duration": 59,
    "start_time": "2022-11-15T11:06:04.577Z"
   },
   {
    "duration": 21,
    "start_time": "2022-11-15T11:06:04.638Z"
   },
   {
    "duration": 3,
    "start_time": "2022-11-15T11:06:04.660Z"
   },
   {
    "duration": 16,
    "start_time": "2022-11-15T11:06:04.666Z"
   },
   {
    "duration": 4,
    "start_time": "2022-11-15T11:06:04.684Z"
   },
   {
    "duration": 269,
    "start_time": "2022-11-15T11:06:04.690Z"
   },
   {
    "duration": 6,
    "start_time": "2022-11-15T11:06:04.961Z"
   },
   {
    "duration": 380,
    "start_time": "2022-11-15T11:06:04.969Z"
   },
   {
    "duration": 5,
    "start_time": "2022-11-15T11:06:05.353Z"
   },
   {
    "duration": 400,
    "start_time": "2022-11-15T11:06:05.359Z"
   },
   {
    "duration": 1287,
    "start_time": "2022-11-15T11:06:05.760Z"
   },
   {
    "duration": 5,
    "start_time": "2022-11-15T11:06:07.048Z"
   },
   {
    "duration": 39,
    "start_time": "2022-11-15T11:06:07.055Z"
   },
   {
    "duration": 9,
    "start_time": "2022-11-15T11:06:07.096Z"
   },
   {
    "duration": 10,
    "start_time": "2022-11-15T11:06:07.107Z"
   },
   {
    "duration": 1524,
    "start_time": "2022-11-15T11:06:07.118Z"
   },
   {
    "duration": 14,
    "start_time": "2022-11-15T11:06:08.650Z"
   },
   {
    "duration": 1648,
    "start_time": "2022-11-15T11:06:08.665Z"
   },
   {
    "duration": 63,
    "start_time": "2022-11-15T11:06:10.315Z"
   },
   {
    "duration": 23578,
    "start_time": "2022-11-15T11:06:10.379Z"
   },
   {
    "duration": 838,
    "start_time": "2022-11-15T11:06:33.959Z"
   },
   {
    "duration": 7,
    "start_time": "2022-11-15T11:06:34.798Z"
   },
   {
    "duration": 1357,
    "start_time": "2022-11-15T11:06:34.807Z"
   },
   {
    "duration": 207,
    "start_time": "2022-11-15T11:06:36.166Z"
   },
   {
    "duration": 275,
    "start_time": "2022-11-15T11:06:47.043Z"
   },
   {
    "duration": 225,
    "start_time": "2022-11-15T11:06:52.703Z"
   },
   {
    "duration": 13,
    "start_time": "2022-11-15T11:07:06.239Z"
   },
   {
    "duration": 9,
    "start_time": "2022-11-15T11:07:14.552Z"
   },
   {
    "duration": 11,
    "start_time": "2022-11-15T11:07:17.146Z"
   },
   {
    "duration": 20,
    "start_time": "2022-11-15T11:07:17.159Z"
   },
   {
    "duration": 1480,
    "start_time": "2022-11-15T11:07:17.181Z"
   },
   {
    "duration": 12,
    "start_time": "2022-11-15T11:07:18.663Z"
   },
   {
    "duration": 1670,
    "start_time": "2022-11-15T11:07:18.677Z"
   },
   {
    "duration": 54,
    "start_time": "2022-11-15T11:07:20.349Z"
   },
   {
    "duration": 44148,
    "start_time": "2022-11-15T11:07:20.404Z"
   },
   {
    "duration": 754,
    "start_time": "2022-11-15T11:08:04.555Z"
   },
   {
    "duration": 8,
    "start_time": "2022-11-15T11:08:05.311Z"
   },
   {
    "duration": 745,
    "start_time": "2022-11-15T11:08:05.321Z"
   },
   {
    "duration": 196,
    "start_time": "2022-11-15T11:08:06.068Z"
   },
   {
    "duration": 4,
    "start_time": "2022-11-15T11:08:48.146Z"
   },
   {
    "duration": 52,
    "start_time": "2022-11-15T11:08:48.152Z"
   },
   {
    "duration": 13,
    "start_time": "2022-11-15T11:08:48.205Z"
   },
   {
    "duration": 36,
    "start_time": "2022-11-15T11:08:48.220Z"
   },
   {
    "duration": 17,
    "start_time": "2022-11-15T11:08:48.258Z"
   },
   {
    "duration": 5,
    "start_time": "2022-11-15T11:08:48.276Z"
   },
   {
    "duration": 208,
    "start_time": "2022-11-15T11:08:48.282Z"
   },
   {
    "duration": 5,
    "start_time": "2022-11-15T11:08:48.491Z"
   },
   {
    "duration": 256,
    "start_time": "2022-11-15T11:08:48.497Z"
   },
   {
    "duration": 4,
    "start_time": "2022-11-15T11:08:48.755Z"
   },
   {
    "duration": 4,
    "start_time": "2022-11-15T11:08:49.463Z"
   },
   {
    "duration": 358,
    "start_time": "2022-11-15T11:08:49.899Z"
   },
   {
    "duration": 12,
    "start_time": "2022-11-15T11:11:05.348Z"
   },
   {
    "duration": 12,
    "start_time": "2022-11-15T11:11:14.007Z"
   },
   {
    "duration": 27,
    "start_time": "2022-11-15T11:11:14.021Z"
   },
   {
    "duration": 1360,
    "start_time": "2022-11-15T11:11:14.049Z"
   },
   {
    "duration": 24,
    "start_time": "2022-11-15T11:11:15.411Z"
   },
   {
    "duration": 1653,
    "start_time": "2022-11-15T11:11:15.437Z"
   },
   {
    "duration": 61,
    "start_time": "2022-11-15T11:11:17.092Z"
   },
   {
    "duration": 21781,
    "start_time": "2022-11-15T11:11:17.155Z"
   },
   {
    "duration": 745,
    "start_time": "2022-11-15T11:11:38.937Z"
   },
   {
    "duration": 7,
    "start_time": "2022-11-15T11:11:39.684Z"
   },
   {
    "duration": 724,
    "start_time": "2022-11-15T11:11:39.692Z"
   },
   {
    "duration": 224,
    "start_time": "2022-11-15T11:11:40.418Z"
   },
   {
    "duration": 11,
    "start_time": "2022-11-15T11:13:04.255Z"
   },
   {
    "duration": 12,
    "start_time": "2022-11-15T11:13:08.857Z"
   },
   {
    "duration": 11,
    "start_time": "2022-11-15T11:13:08.872Z"
   },
   {
    "duration": 1361,
    "start_time": "2022-11-15T11:13:08.885Z"
   },
   {
    "duration": 13,
    "start_time": "2022-11-15T11:13:10.247Z"
   },
   {
    "duration": 1586,
    "start_time": "2022-11-15T11:13:10.263Z"
   },
   {
    "duration": 47,
    "start_time": "2022-11-15T11:13:11.851Z"
   },
   {
    "duration": 28232,
    "start_time": "2022-11-15T11:13:11.899Z"
   },
   {
    "duration": 648,
    "start_time": "2022-11-15T11:13:40.134Z"
   },
   {
    "duration": 7,
    "start_time": "2022-11-15T11:13:40.783Z"
   },
   {
    "duration": 625,
    "start_time": "2022-11-15T11:13:40.791Z"
   },
   {
    "duration": 215,
    "start_time": "2022-11-15T11:13:41.417Z"
   },
   {
    "duration": 1357,
    "start_time": "2022-11-15T11:13:48.453Z"
   },
   {
    "duration": 60,
    "start_time": "2022-11-15T11:13:49.812Z"
   },
   {
    "duration": 16,
    "start_time": "2022-11-15T11:13:49.874Z"
   },
   {
    "duration": 4,
    "start_time": "2022-11-15T11:13:49.892Z"
   },
   {
    "duration": 17,
    "start_time": "2022-11-15T11:13:49.897Z"
   },
   {
    "duration": 5,
    "start_time": "2022-11-15T11:13:49.915Z"
   },
   {
    "duration": 232,
    "start_time": "2022-11-15T11:13:49.922Z"
   },
   {
    "duration": 6,
    "start_time": "2022-11-15T11:13:50.156Z"
   },
   {
    "duration": 309,
    "start_time": "2022-11-15T11:13:50.163Z"
   },
   {
    "duration": 3,
    "start_time": "2022-11-15T11:13:50.474Z"
   },
   {
    "duration": 338,
    "start_time": "2022-11-15T11:13:50.479Z"
   },
   {
    "duration": 1161,
    "start_time": "2022-11-15T11:13:50.821Z"
   },
   {
    "duration": 5,
    "start_time": "2022-11-15T11:13:51.983Z"
   },
   {
    "duration": 16,
    "start_time": "2022-11-15T11:13:51.989Z"
   },
   {
    "duration": 9,
    "start_time": "2022-11-15T11:13:52.006Z"
   },
   {
    "duration": 24,
    "start_time": "2022-11-15T11:13:52.017Z"
   },
   {
    "duration": 1355,
    "start_time": "2022-11-15T11:13:52.043Z"
   },
   {
    "duration": 21,
    "start_time": "2022-11-15T11:13:53.400Z"
   },
   {
    "duration": 1616,
    "start_time": "2022-11-15T11:13:53.422Z"
   },
   {
    "duration": 47,
    "start_time": "2022-11-15T11:13:55.040Z"
   },
   {
    "duration": 5542,
    "start_time": "2022-11-15T11:13:55.089Z"
   },
   {
    "duration": 1131,
    "start_time": "2022-11-15T11:14:00.635Z"
   },
   {
    "duration": 7,
    "start_time": "2022-11-15T11:14:01.767Z"
   },
   {
    "duration": 1115,
    "start_time": "2022-11-15T11:14:01.775Z"
   },
   {
    "duration": 198,
    "start_time": "2022-11-15T11:14:02.891Z"
   },
   {
    "duration": 1419,
    "start_time": "2022-11-15T11:14:26.345Z"
   },
   {
    "duration": 51,
    "start_time": "2022-11-15T11:14:27.766Z"
   },
   {
    "duration": 28,
    "start_time": "2022-11-15T11:14:27.818Z"
   },
   {
    "duration": 8,
    "start_time": "2022-11-15T11:14:27.848Z"
   },
   {
    "duration": 15,
    "start_time": "2022-11-15T11:14:27.858Z"
   },
   {
    "duration": 4,
    "start_time": "2022-11-15T11:14:27.875Z"
   },
   {
    "duration": 276,
    "start_time": "2022-11-15T11:14:27.881Z"
   },
   {
    "duration": 6,
    "start_time": "2022-11-15T11:14:28.159Z"
   },
   {
    "duration": 327,
    "start_time": "2022-11-15T11:14:28.166Z"
   },
   {
    "duration": 4,
    "start_time": "2022-11-15T11:14:28.494Z"
   },
   {
    "duration": 398,
    "start_time": "2022-11-15T11:14:28.499Z"
   },
   {
    "duration": 1197,
    "start_time": "2022-11-15T11:14:28.899Z"
   },
   {
    "duration": 5,
    "start_time": "2022-11-15T11:14:30.097Z"
   },
   {
    "duration": 29,
    "start_time": "2022-11-15T11:14:30.105Z"
   },
   {
    "duration": 66,
    "start_time": "2022-11-15T11:14:30.135Z"
   },
   {
    "duration": 58,
    "start_time": "2022-11-15T11:14:30.202Z"
   },
   {
    "duration": 1409,
    "start_time": "2022-11-15T11:14:30.262Z"
   },
   {
    "duration": 14,
    "start_time": "2022-11-15T11:14:31.673Z"
   },
   {
    "duration": 1582,
    "start_time": "2022-11-15T11:14:31.688Z"
   },
   {
    "duration": 63,
    "start_time": "2022-11-15T11:14:33.272Z"
   },
   {
    "duration": 21311,
    "start_time": "2022-11-15T11:14:33.336Z"
   },
   {
    "duration": 692,
    "start_time": "2022-11-15T11:14:54.654Z"
   },
   {
    "duration": 7,
    "start_time": "2022-11-15T11:14:55.348Z"
   },
   {
    "duration": 621,
    "start_time": "2022-11-15T11:14:55.356Z"
   },
   {
    "duration": 216,
    "start_time": "2022-11-15T11:14:55.979Z"
   },
   {
    "duration": 7,
    "start_time": "2022-11-15T11:16:03.440Z"
   },
   {
    "duration": 11,
    "start_time": "2022-11-15T11:16:06.741Z"
   },
   {
    "duration": 8,
    "start_time": "2022-11-15T11:16:06.754Z"
   },
   {
    "duration": 1320,
    "start_time": "2022-11-15T11:16:06.764Z"
   },
   {
    "duration": 13,
    "start_time": "2022-11-15T11:16:08.086Z"
   },
   {
    "duration": 1587,
    "start_time": "2022-11-15T11:16:08.101Z"
   },
   {
    "duration": 56,
    "start_time": "2022-11-15T11:16:09.689Z"
   },
   {
    "duration": 4487,
    "start_time": "2022-11-15T11:16:09.747Z"
   },
   {
    "duration": 522,
    "start_time": "2022-11-15T11:16:14.239Z"
   },
   {
    "duration": 7,
    "start_time": "2022-11-15T11:16:14.763Z"
   },
   {
    "duration": 610,
    "start_time": "2022-11-15T11:16:14.772Z"
   },
   {
    "duration": 226,
    "start_time": "2022-11-15T11:16:15.384Z"
   },
   {
    "duration": 1390,
    "start_time": "2022-11-15T11:16:22.716Z"
   },
   {
    "duration": 53,
    "start_time": "2022-11-15T11:16:24.107Z"
   },
   {
    "duration": 16,
    "start_time": "2022-11-15T11:16:24.161Z"
   },
   {
    "duration": 7,
    "start_time": "2022-11-15T11:16:24.179Z"
   },
   {
    "duration": 15,
    "start_time": "2022-11-15T11:16:24.188Z"
   },
   {
    "duration": 5,
    "start_time": "2022-11-15T11:16:24.205Z"
   },
   {
    "duration": 242,
    "start_time": "2022-11-15T11:16:24.212Z"
   },
   {
    "duration": 6,
    "start_time": "2022-11-15T11:16:24.456Z"
   },
   {
    "duration": 324,
    "start_time": "2022-11-15T11:16:24.464Z"
   },
   {
    "duration": 4,
    "start_time": "2022-11-15T11:16:24.791Z"
   },
   {
    "duration": 346,
    "start_time": "2022-11-15T11:16:24.797Z"
   },
   {
    "duration": 1298,
    "start_time": "2022-11-15T11:16:25.144Z"
   },
   {
    "duration": 5,
    "start_time": "2022-11-15T11:16:26.444Z"
   },
   {
    "duration": 14,
    "start_time": "2022-11-15T11:16:26.450Z"
   },
   {
    "duration": 9,
    "start_time": "2022-11-15T11:16:26.466Z"
   },
   {
    "duration": 9,
    "start_time": "2022-11-15T11:16:26.477Z"
   },
   {
    "duration": 1474,
    "start_time": "2022-11-15T11:16:26.487Z"
   },
   {
    "duration": 14,
    "start_time": "2022-11-15T11:16:27.963Z"
   },
   {
    "duration": 1553,
    "start_time": "2022-11-15T11:16:27.978Z"
   },
   {
    "duration": 54,
    "start_time": "2022-11-15T11:16:29.535Z"
   },
   {
    "duration": 25040,
    "start_time": "2022-11-15T11:16:29.591Z"
   },
   {
    "duration": 667,
    "start_time": "2022-11-15T11:16:54.638Z"
   },
   {
    "duration": 7,
    "start_time": "2022-11-15T11:16:55.306Z"
   },
   {
    "duration": 654,
    "start_time": "2022-11-15T11:16:55.314Z"
   },
   {
    "duration": 195,
    "start_time": "2022-11-15T11:16:55.970Z"
   },
   {
    "duration": 8,
    "start_time": "2022-11-15T11:18:23.048Z"
   },
   {
    "duration": 1489,
    "start_time": "2022-11-15T11:18:33.321Z"
   },
   {
    "duration": 70,
    "start_time": "2022-11-15T11:18:34.812Z"
   },
   {
    "duration": 15,
    "start_time": "2022-11-15T11:18:34.884Z"
   },
   {
    "duration": 8,
    "start_time": "2022-11-15T11:18:34.901Z"
   },
   {
    "duration": 31,
    "start_time": "2022-11-15T11:18:34.911Z"
   },
   {
    "duration": 5,
    "start_time": "2022-11-15T11:18:34.947Z"
   },
   {
    "duration": 235,
    "start_time": "2022-11-15T11:18:34.953Z"
   },
   {
    "duration": 6,
    "start_time": "2022-11-15T11:18:35.190Z"
   },
   {
    "duration": 318,
    "start_time": "2022-11-15T11:18:35.197Z"
   },
   {
    "duration": 16,
    "start_time": "2022-11-15T11:18:35.518Z"
   },
   {
    "duration": 408,
    "start_time": "2022-11-15T11:18:35.538Z"
   },
   {
    "duration": 1216,
    "start_time": "2022-11-15T11:18:35.948Z"
   },
   {
    "duration": 5,
    "start_time": "2022-11-15T11:18:37.165Z"
   },
   {
    "duration": 13,
    "start_time": "2022-11-15T11:18:37.172Z"
   },
   {
    "duration": 10,
    "start_time": "2022-11-15T11:18:37.186Z"
   },
   {
    "duration": 9,
    "start_time": "2022-11-15T11:18:37.197Z"
   },
   {
    "duration": 1395,
    "start_time": "2022-11-15T11:18:37.208Z"
   },
   {
    "duration": 29,
    "start_time": "2022-11-15T11:18:38.605Z"
   },
   {
    "duration": 1523,
    "start_time": "2022-11-15T11:18:38.636Z"
   },
   {
    "duration": 48,
    "start_time": "2022-11-15T11:18:40.160Z"
   },
   {
    "duration": 39836,
    "start_time": "2022-11-15T11:18:40.209Z"
   },
   {
    "duration": 718,
    "start_time": "2022-11-15T11:19:20.050Z"
   },
   {
    "duration": 7,
    "start_time": "2022-11-15T11:19:20.769Z"
   },
   {
    "duration": 594,
    "start_time": "2022-11-15T11:19:20.778Z"
   },
   {
    "duration": 209,
    "start_time": "2022-11-15T11:19:21.373Z"
   },
   {
    "duration": 9,
    "start_time": "2022-11-15T11:20:26.359Z"
   },
   {
    "duration": 11,
    "start_time": "2022-11-15T11:20:31.213Z"
   },
   {
    "duration": 33,
    "start_time": "2022-11-15T11:20:31.227Z"
   },
   {
    "duration": 1390,
    "start_time": "2022-11-15T11:20:31.261Z"
   },
   {
    "duration": 13,
    "start_time": "2022-11-15T11:20:32.653Z"
   },
   {
    "duration": 1663,
    "start_time": "2022-11-15T11:20:32.667Z"
   },
   {
    "duration": 52,
    "start_time": "2022-11-15T11:20:34.332Z"
   },
   {
    "duration": 35953,
    "start_time": "2022-11-15T11:20:34.386Z"
   },
   {
    "duration": 561,
    "start_time": "2022-11-15T11:21:10.340Z"
   },
   {
    "duration": 6,
    "start_time": "2022-11-15T11:21:10.903Z"
   },
   {
    "duration": 598,
    "start_time": "2022-11-15T11:21:10.911Z"
   },
   {
    "duration": 203,
    "start_time": "2022-11-15T11:21:11.510Z"
   },
   {
    "duration": 1353,
    "start_time": "2022-11-15T11:23:32.597Z"
   },
   {
    "duration": 49,
    "start_time": "2022-11-15T11:23:33.952Z"
   },
   {
    "duration": 16,
    "start_time": "2022-11-15T11:23:34.003Z"
   },
   {
    "duration": 26,
    "start_time": "2022-11-15T11:23:34.020Z"
   },
   {
    "duration": 22,
    "start_time": "2022-11-15T11:23:34.048Z"
   },
   {
    "duration": 18,
    "start_time": "2022-11-15T11:23:34.072Z"
   },
   {
    "duration": 252,
    "start_time": "2022-11-15T11:23:34.091Z"
   },
   {
    "duration": 8,
    "start_time": "2022-11-15T11:23:34.344Z"
   },
   {
    "duration": 315,
    "start_time": "2022-11-15T11:23:34.353Z"
   },
   {
    "duration": 4,
    "start_time": "2022-11-15T11:23:34.670Z"
   },
   {
    "duration": 363,
    "start_time": "2022-11-15T11:23:34.675Z"
   },
   {
    "duration": 1289,
    "start_time": "2022-11-15T11:23:35.040Z"
   },
   {
    "duration": 9,
    "start_time": "2022-11-15T11:23:36.330Z"
   },
   {
    "duration": 34,
    "start_time": "2022-11-15T11:23:36.342Z"
   },
   {
    "duration": 10,
    "start_time": "2022-11-15T11:23:36.377Z"
   },
   {
    "duration": 28,
    "start_time": "2022-11-15T11:23:36.389Z"
   },
   {
    "duration": 1412,
    "start_time": "2022-11-15T11:23:36.418Z"
   },
   {
    "duration": 20,
    "start_time": "2022-11-15T11:23:37.832Z"
   },
   {
    "duration": 1551,
    "start_time": "2022-11-15T11:23:37.853Z"
   },
   {
    "duration": 63,
    "start_time": "2022-11-15T11:23:39.406Z"
   },
   {
    "duration": 23467,
    "start_time": "2022-11-15T11:23:39.470Z"
   },
   {
    "duration": 1145,
    "start_time": "2022-11-15T11:24:02.939Z"
   },
   {
    "duration": 8,
    "start_time": "2022-11-15T11:24:04.085Z"
   },
   {
    "duration": 614,
    "start_time": "2022-11-15T11:24:04.094Z"
   },
   {
    "duration": 199,
    "start_time": "2022-11-15T11:24:04.709Z"
   },
   {
    "duration": 412,
    "start_time": "2022-11-15T11:24:36.250Z"
   },
   {
    "duration": 1497,
    "start_time": "2022-11-15T11:24:42.065Z"
   },
   {
    "duration": 50,
    "start_time": "2022-11-15T11:24:43.564Z"
   },
   {
    "duration": 35,
    "start_time": "2022-11-15T11:24:43.616Z"
   },
   {
    "duration": 6,
    "start_time": "2022-11-15T11:24:43.653Z"
   },
   {
    "duration": 18,
    "start_time": "2022-11-15T11:24:43.661Z"
   },
   {
    "duration": 5,
    "start_time": "2022-11-15T11:24:43.680Z"
   },
   {
    "duration": 261,
    "start_time": "2022-11-15T11:24:43.686Z"
   },
   {
    "duration": 7,
    "start_time": "2022-11-15T11:24:43.949Z"
   },
   {
    "duration": 358,
    "start_time": "2022-11-15T11:24:43.958Z"
   },
   {
    "duration": 14,
    "start_time": "2022-11-15T11:24:44.321Z"
   },
   {
    "duration": 370,
    "start_time": "2022-11-15T11:24:44.342Z"
   },
   {
    "duration": 1328,
    "start_time": "2022-11-15T11:24:44.713Z"
   },
   {
    "duration": 4,
    "start_time": "2022-11-15T11:24:46.043Z"
   },
   {
    "duration": 11,
    "start_time": "2022-11-15T11:24:46.049Z"
   },
   {
    "duration": 9,
    "start_time": "2022-11-15T11:24:46.061Z"
   },
   {
    "duration": 12,
    "start_time": "2022-11-15T11:24:46.072Z"
   },
   {
    "duration": 1516,
    "start_time": "2022-11-15T11:24:46.086Z"
   },
   {
    "duration": 26,
    "start_time": "2022-11-15T11:24:47.604Z"
   },
   {
    "duration": 1662,
    "start_time": "2022-11-15T11:24:47.634Z"
   },
   {
    "duration": 69,
    "start_time": "2022-11-15T11:24:49.298Z"
   },
   {
    "duration": 24684,
    "start_time": "2022-11-15T11:24:49.369Z"
   },
   {
    "duration": 810,
    "start_time": "2022-11-15T11:25:14.055Z"
   },
   {
    "duration": 6,
    "start_time": "2022-11-15T11:25:14.866Z"
   },
   {
    "duration": 858,
    "start_time": "2022-11-15T11:25:14.874Z"
   },
   {
    "duration": 219,
    "start_time": "2022-11-15T11:25:15.739Z"
   },
   {
    "duration": 1458,
    "start_time": "2022-11-15T11:27:47.173Z"
   },
   {
    "duration": 53,
    "start_time": "2022-11-15T11:27:48.635Z"
   },
   {
    "duration": 17,
    "start_time": "2022-11-15T11:27:48.690Z"
   },
   {
    "duration": 5,
    "start_time": "2022-11-15T11:27:48.709Z"
   },
   {
    "duration": 42,
    "start_time": "2022-11-15T11:27:48.716Z"
   },
   {
    "duration": 13,
    "start_time": "2022-11-15T11:27:48.760Z"
   },
   {
    "duration": 253,
    "start_time": "2022-11-15T11:27:48.774Z"
   },
   {
    "duration": 11,
    "start_time": "2022-11-15T11:27:49.029Z"
   },
   {
    "duration": 352,
    "start_time": "2022-11-15T11:27:49.041Z"
   },
   {
    "duration": 5,
    "start_time": "2022-11-15T11:27:49.395Z"
   },
   {
    "duration": 377,
    "start_time": "2022-11-15T11:27:49.401Z"
   },
   {
    "duration": 1191,
    "start_time": "2022-11-15T11:27:49.780Z"
   },
   {
    "duration": 5,
    "start_time": "2022-11-15T11:27:50.973Z"
   },
   {
    "duration": 19,
    "start_time": "2022-11-15T11:27:50.980Z"
   },
   {
    "duration": 10,
    "start_time": "2022-11-15T11:27:51.001Z"
   },
   {
    "duration": 19,
    "start_time": "2022-11-15T11:27:51.014Z"
   },
   {
    "duration": 1444,
    "start_time": "2022-11-15T11:27:51.036Z"
   },
   {
    "duration": 14,
    "start_time": "2022-11-15T11:27:52.481Z"
   },
   {
    "duration": 1844,
    "start_time": "2022-11-15T11:27:52.497Z"
   },
   {
    "duration": 52,
    "start_time": "2022-11-15T11:27:54.344Z"
   },
   {
    "duration": 40455,
    "start_time": "2022-11-15T11:27:54.397Z"
   },
   {
    "duration": 658,
    "start_time": "2022-11-15T11:28:34.854Z"
   },
   {
    "duration": 7,
    "start_time": "2022-11-15T11:28:35.513Z"
   },
   {
    "duration": 765,
    "start_time": "2022-11-15T11:28:35.523Z"
   },
   {
    "duration": 286,
    "start_time": "2022-11-15T11:28:36.289Z"
   },
   {
    "duration": 20,
    "start_time": "2022-11-15T11:30:12.354Z"
   },
   {
    "duration": 11,
    "start_time": "2022-11-15T11:30:17.119Z"
   },
   {
    "duration": 59,
    "start_time": "2022-11-15T11:30:17.133Z"
   },
   {
    "duration": 13,
    "start_time": "2022-11-15T11:30:17.194Z"
   },
   {
    "duration": 8,
    "start_time": "2022-11-15T11:30:17.208Z"
   },
   {
    "duration": 12,
    "start_time": "2022-11-15T11:30:18.987Z"
   },
   {
    "duration": 5,
    "start_time": "2022-11-15T11:31:01.084Z"
   },
   {
    "duration": 198,
    "start_time": "2022-11-15T11:31:02.351Z"
   },
   {
    "duration": 5,
    "start_time": "2022-11-15T11:31:08.196Z"
   },
   {
    "duration": 221,
    "start_time": "2022-11-15T11:31:10.743Z"
   },
   {
    "duration": 1477,
    "start_time": "2022-11-15T11:32:00.862Z"
   },
   {
    "duration": 52,
    "start_time": "2022-11-15T11:32:02.340Z"
   },
   {
    "duration": 69,
    "start_time": "2022-11-15T11:32:02.394Z"
   },
   {
    "duration": 10,
    "start_time": "2022-11-15T11:32:02.465Z"
   },
   {
    "duration": 15,
    "start_time": "2022-11-15T11:32:02.476Z"
   },
   {
    "duration": 5,
    "start_time": "2022-11-15T11:32:02.493Z"
   },
   {
    "duration": 218,
    "start_time": "2022-11-15T11:32:02.500Z"
   },
   {
    "duration": 12,
    "start_time": "2022-11-15T11:32:02.726Z"
   },
   {
    "duration": 319,
    "start_time": "2022-11-15T11:32:02.739Z"
   },
   {
    "duration": 4,
    "start_time": "2022-11-15T11:32:03.060Z"
   },
   {
    "duration": 346,
    "start_time": "2022-11-15T11:32:03.066Z"
   },
   {
    "duration": 1206,
    "start_time": "2022-11-15T11:32:03.413Z"
   },
   {
    "duration": 12,
    "start_time": "2022-11-15T11:32:04.624Z"
   },
   {
    "duration": 39,
    "start_time": "2022-11-15T11:32:04.638Z"
   },
   {
    "duration": 9,
    "start_time": "2022-11-15T11:32:04.678Z"
   },
   {
    "duration": 12,
    "start_time": "2022-11-15T11:32:04.689Z"
   },
   {
    "duration": 1455,
    "start_time": "2022-11-15T11:32:04.702Z"
   },
   {
    "duration": 14,
    "start_time": "2022-11-15T11:32:06.158Z"
   },
   {
    "duration": 1535,
    "start_time": "2022-11-15T11:32:06.173Z"
   },
   {
    "duration": 62,
    "start_time": "2022-11-15T11:32:07.710Z"
   },
   {
    "duration": 7572,
    "start_time": "2022-11-15T11:32:07.773Z"
   },
   {
    "duration": 740,
    "start_time": "2022-11-15T11:32:15.423Z"
   },
   {
    "duration": 7,
    "start_time": "2022-11-15T11:32:16.164Z"
   },
   {
    "duration": 592,
    "start_time": "2022-11-15T11:32:16.172Z"
   },
   {
    "duration": 185,
    "start_time": "2022-11-15T11:32:16.765Z"
   },
   {
    "duration": 676,
    "start_time": "2022-11-15T11:35:34.992Z"
   },
   {
    "duration": 7,
    "start_time": "2022-11-15T11:35:44.002Z"
   },
   {
    "duration": 740,
    "start_time": "2022-11-15T11:35:45.760Z"
   },
   {
    "duration": 1060,
    "start_time": "2022-11-15T11:35:56.807Z"
   },
   {
    "duration": 697,
    "start_time": "2022-11-15T11:36:12.462Z"
   },
   {
    "duration": 707,
    "start_time": "2022-11-15T11:36:19.229Z"
   },
   {
    "duration": 1791,
    "start_time": "2022-11-15T11:36:26.505Z"
   },
   {
    "duration": 845,
    "start_time": "2022-11-15T11:36:33.293Z"
   },
   {
    "duration": 58353,
    "start_time": "2022-11-15T11:36:39.708Z"
   },
   {
    "duration": 12,
    "start_time": "2022-11-15T11:37:43.247Z"
   },
   {
    "duration": 553,
    "start_time": "2022-11-15T11:37:56.851Z"
   },
   {
    "duration": 328,
    "start_time": "2022-11-15T11:38:15.244Z"
   },
   {
    "duration": 1403,
    "start_time": "2022-11-15T11:38:28.769Z"
   },
   {
    "duration": 57,
    "start_time": "2022-11-15T11:38:30.174Z"
   },
   {
    "duration": 29,
    "start_time": "2022-11-15T11:38:30.233Z"
   },
   {
    "duration": 13,
    "start_time": "2022-11-15T11:38:30.265Z"
   },
   {
    "duration": 38,
    "start_time": "2022-11-15T11:38:30.280Z"
   },
   {
    "duration": 47,
    "start_time": "2022-11-15T11:38:30.319Z"
   },
   {
    "duration": 295,
    "start_time": "2022-11-15T11:38:30.367Z"
   },
   {
    "duration": 6,
    "start_time": "2022-11-15T11:38:30.664Z"
   },
   {
    "duration": 343,
    "start_time": "2022-11-15T11:38:30.671Z"
   },
   {
    "duration": 8,
    "start_time": "2022-11-15T11:38:31.024Z"
   },
   {
    "duration": 359,
    "start_time": "2022-11-15T11:38:31.033Z"
   },
   {
    "duration": 1214,
    "start_time": "2022-11-15T11:38:31.394Z"
   },
   {
    "duration": 5,
    "start_time": "2022-11-15T11:38:32.609Z"
   },
   {
    "duration": 42,
    "start_time": "2022-11-15T11:38:32.615Z"
   },
   {
    "duration": 9,
    "start_time": "2022-11-15T11:38:32.659Z"
   },
   {
    "duration": 11,
    "start_time": "2022-11-15T11:38:32.669Z"
   },
   {
    "duration": 1471,
    "start_time": "2022-11-15T11:38:32.682Z"
   },
   {
    "duration": 15,
    "start_time": "2022-11-15T11:38:34.154Z"
   },
   {
    "duration": 1679,
    "start_time": "2022-11-15T11:38:34.170Z"
   },
   {
    "duration": 50,
    "start_time": "2022-11-15T11:38:35.851Z"
   },
   {
    "duration": 47848,
    "start_time": "2022-11-15T11:38:35.903Z"
   },
   {
    "duration": 709,
    "start_time": "2022-11-15T11:39:23.754Z"
   },
   {
    "duration": 7,
    "start_time": "2022-11-15T11:39:24.465Z"
   },
   {
    "duration": 673,
    "start_time": "2022-11-15T11:39:24.473Z"
   },
   {
    "duration": 235,
    "start_time": "2022-11-15T11:39:25.148Z"
   },
   {
    "duration": 14,
    "start_time": "2022-11-15T11:39:39.822Z"
   },
   {
    "duration": 1449,
    "start_time": "2022-11-15T11:39:45.146Z"
   },
   {
    "duration": 70,
    "start_time": "2022-11-15T11:39:46.597Z"
   },
   {
    "duration": 16,
    "start_time": "2022-11-15T11:39:46.668Z"
   },
   {
    "duration": 6,
    "start_time": "2022-11-15T11:39:46.686Z"
   },
   {
    "duration": 15,
    "start_time": "2022-11-15T11:39:46.694Z"
   },
   {
    "duration": 5,
    "start_time": "2022-11-15T11:39:46.710Z"
   },
   {
    "duration": 239,
    "start_time": "2022-11-15T11:39:46.716Z"
   },
   {
    "duration": 6,
    "start_time": "2022-11-15T11:39:46.956Z"
   },
   {
    "duration": 315,
    "start_time": "2022-11-15T11:39:46.963Z"
   },
   {
    "duration": 3,
    "start_time": "2022-11-15T11:39:47.280Z"
   },
   {
    "duration": 380,
    "start_time": "2022-11-15T11:39:47.285Z"
   },
   {
    "duration": 1209,
    "start_time": "2022-11-15T11:39:47.667Z"
   },
   {
    "duration": 5,
    "start_time": "2022-11-15T11:39:48.877Z"
   },
   {
    "duration": 24,
    "start_time": "2022-11-15T11:39:48.884Z"
   },
   {
    "duration": 49,
    "start_time": "2022-11-15T11:39:48.910Z"
   },
   {
    "duration": 15,
    "start_time": "2022-11-15T11:39:48.961Z"
   },
   {
    "duration": 1437,
    "start_time": "2022-11-15T11:39:48.978Z"
   },
   {
    "duration": 21,
    "start_time": "2022-11-15T11:39:50.417Z"
   },
   {
    "duration": 1658,
    "start_time": "2022-11-15T11:39:50.439Z"
   },
   {
    "duration": 67,
    "start_time": "2022-11-15T11:39:52.099Z"
   },
   {
    "duration": 39874,
    "start_time": "2022-11-15T11:39:52.168Z"
   },
   {
    "duration": 734,
    "start_time": "2022-11-15T11:40:32.050Z"
   },
   {
    "duration": 8,
    "start_time": "2022-11-15T11:40:32.786Z"
   },
   {
    "duration": 670,
    "start_time": "2022-11-15T11:40:32.795Z"
   },
   {
    "duration": 195,
    "start_time": "2022-11-15T11:40:33.467Z"
   },
   {
    "duration": 1361,
    "start_time": "2022-11-15T12:07:40.373Z"
   },
   {
    "duration": 50,
    "start_time": "2022-11-15T12:07:41.736Z"
   },
   {
    "duration": 15,
    "start_time": "2022-11-15T12:07:41.787Z"
   },
   {
    "duration": 3,
    "start_time": "2022-11-15T12:07:41.804Z"
   },
   {
    "duration": 27,
    "start_time": "2022-11-15T12:07:41.809Z"
   },
   {
    "duration": 5,
    "start_time": "2022-11-15T12:07:41.837Z"
   },
   {
    "duration": 208,
    "start_time": "2022-11-15T12:07:41.844Z"
   },
   {
    "duration": 6,
    "start_time": "2022-11-15T12:07:42.053Z"
   },
   {
    "duration": 300,
    "start_time": "2022-11-15T12:07:42.060Z"
   },
   {
    "duration": 4,
    "start_time": "2022-11-15T12:07:42.363Z"
   },
   {
    "duration": 333,
    "start_time": "2022-11-15T12:07:42.368Z"
   },
   {
    "duration": 1176,
    "start_time": "2022-11-15T12:07:42.703Z"
   },
   {
    "duration": 6,
    "start_time": "2022-11-15T12:07:43.881Z"
   },
   {
    "duration": 20,
    "start_time": "2022-11-15T12:07:43.889Z"
   },
   {
    "duration": 13,
    "start_time": "2022-11-15T12:07:43.911Z"
   },
   {
    "duration": 30,
    "start_time": "2022-11-15T12:07:43.925Z"
   },
   {
    "duration": 2457,
    "start_time": "2022-11-15T12:07:43.956Z"
   },
   {
    "duration": 27,
    "start_time": "2022-11-15T12:07:46.414Z"
   },
   {
    "duration": 2442,
    "start_time": "2022-11-15T12:07:46.442Z"
   },
   {
    "duration": 97,
    "start_time": "2022-11-15T12:07:48.887Z"
   },
   {
    "duration": 9537,
    "start_time": "2022-11-15T12:07:48.986Z"
   },
   {
    "duration": 1064,
    "start_time": "2022-11-15T12:07:58.525Z"
   },
   {
    "duration": 7,
    "start_time": "2022-11-15T12:07:59.591Z"
   },
   {
    "duration": 740,
    "start_time": "2022-11-15T12:07:59.599Z"
   },
   {
    "duration": 198,
    "start_time": "2022-11-15T12:08:00.341Z"
   },
   {
    "duration": 1387,
    "start_time": "2022-11-15T12:08:20.620Z"
   },
   {
    "duration": 62,
    "start_time": "2022-11-15T12:08:22.009Z"
   },
   {
    "duration": 16,
    "start_time": "2022-11-15T12:08:22.073Z"
   },
   {
    "duration": 10,
    "start_time": "2022-11-15T12:08:22.091Z"
   },
   {
    "duration": 33,
    "start_time": "2022-11-15T12:08:22.103Z"
   },
   {
    "duration": 5,
    "start_time": "2022-11-15T12:08:22.138Z"
   },
   {
    "duration": 222,
    "start_time": "2022-11-15T12:08:22.144Z"
   },
   {
    "duration": 6,
    "start_time": "2022-11-15T12:08:22.367Z"
   },
   {
    "duration": 320,
    "start_time": "2022-11-15T12:08:22.374Z"
   },
   {
    "duration": 4,
    "start_time": "2022-11-15T12:08:22.697Z"
   },
   {
    "duration": 341,
    "start_time": "2022-11-15T12:08:22.702Z"
   },
   {
    "duration": 1171,
    "start_time": "2022-11-15T12:08:23.045Z"
   },
   {
    "duration": 6,
    "start_time": "2022-11-15T12:08:24.218Z"
   },
   {
    "duration": 37,
    "start_time": "2022-11-15T12:08:24.225Z"
   },
   {
    "duration": 12,
    "start_time": "2022-11-15T12:08:24.264Z"
   },
   {
    "duration": 54,
    "start_time": "2022-11-15T12:08:24.277Z"
   },
   {
    "duration": 7327,
    "start_time": "2022-11-15T12:08:24.335Z"
   },
   {
    "duration": 67,
    "start_time": "2022-11-15T12:08:31.663Z"
   },
   {
    "duration": 7126,
    "start_time": "2022-11-15T12:08:31.736Z"
   },
   {
    "duration": 283,
    "start_time": "2022-11-15T12:08:38.863Z"
   },
   {
    "duration": 18083,
    "start_time": "2022-11-15T12:08:39.148Z"
   },
   {
    "duration": 1217,
    "start_time": "2022-11-15T12:08:57.233Z"
   },
   {
    "duration": 8,
    "start_time": "2022-11-15T12:08:58.451Z"
   },
   {
    "duration": 1093,
    "start_time": "2022-11-15T12:08:58.461Z"
   },
   {
    "duration": 182,
    "start_time": "2022-11-15T12:08:59.563Z"
   },
   {
    "duration": 1486,
    "start_time": "2022-11-15T12:09:17.771Z"
   },
   {
    "duration": 52,
    "start_time": "2022-11-15T12:09:19.259Z"
   },
   {
    "duration": 28,
    "start_time": "2022-11-15T12:09:19.314Z"
   },
   {
    "duration": 11,
    "start_time": "2022-11-15T12:09:19.343Z"
   },
   {
    "duration": 20,
    "start_time": "2022-11-15T12:09:19.355Z"
   },
   {
    "duration": 6,
    "start_time": "2022-11-15T12:09:19.377Z"
   },
   {
    "duration": 258,
    "start_time": "2022-11-15T12:09:19.385Z"
   },
   {
    "duration": 5,
    "start_time": "2022-11-15T12:09:19.645Z"
   },
   {
    "duration": 329,
    "start_time": "2022-11-15T12:09:19.654Z"
   },
   {
    "duration": 4,
    "start_time": "2022-11-15T12:09:19.985Z"
   },
   {
    "duration": 368,
    "start_time": "2022-11-15T12:09:19.990Z"
   },
   {
    "duration": 1301,
    "start_time": "2022-11-15T12:09:20.359Z"
   },
   {
    "duration": 6,
    "start_time": "2022-11-15T12:09:21.662Z"
   },
   {
    "duration": 23,
    "start_time": "2022-11-15T12:09:21.670Z"
   },
   {
    "duration": 11,
    "start_time": "2022-11-15T12:09:21.695Z"
   },
   {
    "duration": 35,
    "start_time": "2022-11-15T12:09:21.708Z"
   },
   {
    "duration": 7774,
    "start_time": "2022-11-15T12:09:21.745Z"
   },
   {
    "duration": 55,
    "start_time": "2022-11-15T12:09:29.521Z"
   },
   {
    "duration": 7311,
    "start_time": "2022-11-15T12:09:29.578Z"
   },
   {
    "duration": 287,
    "start_time": "2022-11-15T12:09:36.891Z"
   },
   {
    "duration": 98880,
    "start_time": "2022-11-15T12:09:37.180Z"
   },
   {
    "duration": 0,
    "start_time": "2022-11-15T12:11:16.062Z"
   },
   {
    "duration": 0,
    "start_time": "2022-11-15T12:11:16.063Z"
   },
   {
    "duration": 0,
    "start_time": "2022-11-15T12:11:16.064Z"
   },
   {
    "duration": 0,
    "start_time": "2022-11-15T12:11:16.066Z"
   },
   {
    "duration": 1388,
    "start_time": "2022-11-15T12:11:26.524Z"
   },
   {
    "duration": 64,
    "start_time": "2022-11-15T12:11:27.914Z"
   },
   {
    "duration": 18,
    "start_time": "2022-11-15T12:11:27.979Z"
   },
   {
    "duration": 4,
    "start_time": "2022-11-15T12:11:27.998Z"
   },
   {
    "duration": 22,
    "start_time": "2022-11-15T12:11:28.003Z"
   },
   {
    "duration": 8,
    "start_time": "2022-11-15T12:11:28.029Z"
   },
   {
    "duration": 248,
    "start_time": "2022-11-15T12:11:28.040Z"
   },
   {
    "duration": 6,
    "start_time": "2022-11-15T12:11:28.289Z"
   },
   {
    "duration": 359,
    "start_time": "2022-11-15T12:11:28.297Z"
   },
   {
    "duration": 4,
    "start_time": "2022-11-15T12:11:28.658Z"
   },
   {
    "duration": 352,
    "start_time": "2022-11-15T12:11:28.663Z"
   },
   {
    "duration": 1187,
    "start_time": "2022-11-15T12:11:29.016Z"
   },
   {
    "duration": 5,
    "start_time": "2022-11-15T12:11:30.205Z"
   },
   {
    "duration": 55,
    "start_time": "2022-11-15T12:11:30.212Z"
   },
   {
    "duration": 21,
    "start_time": "2022-11-15T12:11:30.268Z"
   },
   {
    "duration": 232,
    "start_time": "2022-11-15T12:11:30.290Z"
   },
   {
    "duration": 7210,
    "start_time": "2022-11-15T12:11:30.528Z"
   },
   {
    "duration": 54,
    "start_time": "2022-11-15T12:11:37.740Z"
   },
   {
    "duration": 7121,
    "start_time": "2022-11-15T12:11:37.795Z"
   },
   {
    "duration": 292,
    "start_time": "2022-11-15T12:11:44.917Z"
   },
   {
    "duration": 135698,
    "start_time": "2022-11-15T12:11:45.211Z"
   },
   {
    "duration": 0,
    "start_time": "2022-11-15T12:14:00.911Z"
   },
   {
    "duration": 0,
    "start_time": "2022-11-15T12:14:00.912Z"
   },
   {
    "duration": 0,
    "start_time": "2022-11-15T12:14:00.921Z"
   },
   {
    "duration": 0,
    "start_time": "2022-11-15T12:14:00.922Z"
   },
   {
    "duration": 1265,
    "start_time": "2022-11-15T12:14:03.982Z"
   },
   {
    "duration": 9,
    "start_time": "2022-11-15T12:14:07.041Z"
   },
   {
    "duration": 6,
    "start_time": "2022-11-15T12:14:20.729Z"
   },
   {
    "duration": 35,
    "start_time": "2022-11-15T12:14:35.444Z"
   },
   {
    "duration": 1453,
    "start_time": "2022-11-15T12:14:45.839Z"
   },
   {
    "duration": 57,
    "start_time": "2022-11-15T12:14:47.294Z"
   },
   {
    "duration": 18,
    "start_time": "2022-11-15T12:14:47.352Z"
   },
   {
    "duration": 8,
    "start_time": "2022-11-15T12:14:47.372Z"
   },
   {
    "duration": 18,
    "start_time": "2022-11-15T12:14:47.381Z"
   },
   {
    "duration": 7,
    "start_time": "2022-11-15T12:14:47.401Z"
   },
   {
    "duration": 235,
    "start_time": "2022-11-15T12:14:47.420Z"
   },
   {
    "duration": 7,
    "start_time": "2022-11-15T12:14:47.657Z"
   },
   {
    "duration": 340,
    "start_time": "2022-11-15T12:14:47.666Z"
   },
   {
    "duration": 15,
    "start_time": "2022-11-15T12:14:48.008Z"
   },
   {
    "duration": 466,
    "start_time": "2022-11-15T12:14:48.025Z"
   },
   {
    "duration": 1227,
    "start_time": "2022-11-15T12:14:48.493Z"
   },
   {
    "duration": 5,
    "start_time": "2022-11-15T12:14:49.723Z"
   },
   {
    "duration": 30,
    "start_time": "2022-11-15T12:14:49.737Z"
   },
   {
    "duration": 20,
    "start_time": "2022-11-15T12:14:49.768Z"
   },
   {
    "duration": 137,
    "start_time": "2022-11-15T12:14:49.789Z"
   },
   {
    "duration": 7461,
    "start_time": "2022-11-15T12:14:49.928Z"
   },
   {
    "duration": 66,
    "start_time": "2022-11-15T12:14:57.391Z"
   },
   {
    "duration": 7356,
    "start_time": "2022-11-15T12:14:57.459Z"
   },
   {
    "duration": 322,
    "start_time": "2022-11-15T12:15:04.822Z"
   },
   {
    "duration": 6298,
    "start_time": "2022-11-15T12:15:05.146Z"
   },
   {
    "duration": 0,
    "start_time": "2022-11-15T12:15:11.445Z"
   },
   {
    "duration": 0,
    "start_time": "2022-11-15T12:15:11.446Z"
   },
   {
    "duration": 0,
    "start_time": "2022-11-15T12:15:11.447Z"
   },
   {
    "duration": 0,
    "start_time": "2022-11-15T12:15:11.448Z"
   },
   {
    "duration": 1185,
    "start_time": "2022-11-15T12:15:11.505Z"
   },
   {
    "duration": 12,
    "start_time": "2022-11-15T12:15:14.318Z"
   },
   {
    "duration": 1153,
    "start_time": "2022-11-15T12:15:19.182Z"
   },
   {
    "duration": 211,
    "start_time": "2022-11-15T12:15:27.799Z"
   },
   {
    "duration": 11,
    "start_time": "2022-11-15T12:19:36.886Z"
   },
   {
    "duration": 1456,
    "start_time": "2022-11-15T12:19:59.813Z"
   },
   {
    "duration": 67,
    "start_time": "2022-11-15T12:20:01.271Z"
   },
   {
    "duration": 24,
    "start_time": "2022-11-15T12:20:01.343Z"
   },
   {
    "duration": 4,
    "start_time": "2022-11-15T12:20:01.368Z"
   },
   {
    "duration": 21,
    "start_time": "2022-11-15T12:20:01.373Z"
   },
   {
    "duration": 8,
    "start_time": "2022-11-15T12:20:01.395Z"
   },
   {
    "duration": 277,
    "start_time": "2022-11-15T12:20:01.405Z"
   },
   {
    "duration": 6,
    "start_time": "2022-11-15T12:20:01.683Z"
   },
   {
    "duration": 369,
    "start_time": "2022-11-15T12:20:01.690Z"
   },
   {
    "duration": 4,
    "start_time": "2022-11-15T12:20:02.062Z"
   },
   {
    "duration": 399,
    "start_time": "2022-11-15T12:20:02.067Z"
   },
   {
    "duration": 1236,
    "start_time": "2022-11-15T12:20:02.468Z"
   },
   {
    "duration": 4,
    "start_time": "2022-11-15T12:20:03.706Z"
   },
   {
    "duration": 57,
    "start_time": "2022-11-15T12:20:03.712Z"
   },
   {
    "duration": 25,
    "start_time": "2022-11-15T12:20:03.771Z"
   },
   {
    "duration": 18,
    "start_time": "2022-11-15T12:20:03.798Z"
   },
   {
    "duration": 2541,
    "start_time": "2022-11-15T12:20:03.818Z"
   },
   {
    "duration": 21,
    "start_time": "2022-11-15T12:20:06.361Z"
   },
   {
    "duration": 2615,
    "start_time": "2022-11-15T12:20:06.384Z"
   },
   {
    "duration": 100,
    "start_time": "2022-11-15T12:20:09.001Z"
   },
   {
    "duration": 1583,
    "start_time": "2022-11-15T13:23:48.023Z"
   },
   {
    "duration": 148,
    "start_time": "2022-11-15T13:23:49.608Z"
   },
   {
    "duration": 17,
    "start_time": "2022-11-15T13:23:49.760Z"
   },
   {
    "duration": 25,
    "start_time": "2022-11-15T13:23:49.779Z"
   },
   {
    "duration": 43,
    "start_time": "2022-11-15T13:23:49.806Z"
   },
   {
    "duration": 17,
    "start_time": "2022-11-15T13:23:49.851Z"
   },
   {
    "duration": 248,
    "start_time": "2022-11-15T13:23:49.869Z"
   },
   {
    "duration": 5,
    "start_time": "2022-11-15T13:23:50.119Z"
   },
   {
    "duration": 349,
    "start_time": "2022-11-15T13:23:50.126Z"
   },
   {
    "duration": 5,
    "start_time": "2022-11-15T13:23:50.477Z"
   },
   {
    "duration": 358,
    "start_time": "2022-11-15T13:23:50.484Z"
   },
   {
    "duration": 1246,
    "start_time": "2022-11-15T13:23:50.844Z"
   },
   {
    "duration": 5,
    "start_time": "2022-11-15T13:23:52.091Z"
   },
   {
    "duration": 29,
    "start_time": "2022-11-15T13:23:52.097Z"
   },
   {
    "duration": 13,
    "start_time": "2022-11-15T13:23:52.128Z"
   },
   {
    "duration": 49,
    "start_time": "2022-11-15T13:23:52.143Z"
   },
   {
    "duration": 2334,
    "start_time": "2022-11-15T13:23:52.193Z"
   },
   {
    "duration": 20,
    "start_time": "2022-11-15T13:23:54.529Z"
   },
   {
    "duration": 2420,
    "start_time": "2022-11-15T13:23:54.550Z"
   },
   {
    "duration": 87,
    "start_time": "2022-11-15T13:23:56.971Z"
   },
   {
    "duration": 655,
    "start_time": "2022-11-15T13:23:57.059Z"
   },
   {
    "duration": 917,
    "start_time": "2022-11-15T13:23:57.716Z"
   },
   {
    "duration": 8,
    "start_time": "2022-11-15T13:23:58.635Z"
   },
   {
    "duration": 666,
    "start_time": "2022-11-15T13:23:58.645Z"
   },
   {
    "duration": 195,
    "start_time": "2022-11-15T13:23:59.312Z"
   },
   {
    "duration": 17,
    "start_time": "2022-11-15T13:24:18.556Z"
   },
   {
    "duration": 1501,
    "start_time": "2022-11-15T13:24:23.281Z"
   },
   {
    "duration": 52,
    "start_time": "2022-11-15T13:24:24.784Z"
   },
   {
    "duration": 19,
    "start_time": "2022-11-15T13:24:24.838Z"
   },
   {
    "duration": 12,
    "start_time": "2022-11-15T13:24:24.859Z"
   },
   {
    "duration": 29,
    "start_time": "2022-11-15T13:24:24.872Z"
   },
   {
    "duration": 5,
    "start_time": "2022-11-15T13:24:24.903Z"
   },
   {
    "duration": 244,
    "start_time": "2022-11-15T13:24:24.909Z"
   },
   {
    "duration": 5,
    "start_time": "2022-11-15T13:24:25.155Z"
   },
   {
    "duration": 315,
    "start_time": "2022-11-15T13:24:25.162Z"
   },
   {
    "duration": 5,
    "start_time": "2022-11-15T13:24:25.479Z"
   },
   {
    "duration": 331,
    "start_time": "2022-11-15T13:24:25.485Z"
   },
   {
    "duration": 1167,
    "start_time": "2022-11-15T13:24:25.818Z"
   },
   {
    "duration": 4,
    "start_time": "2022-11-15T13:24:26.987Z"
   },
   {
    "duration": 24,
    "start_time": "2022-11-15T13:24:26.993Z"
   },
   {
    "duration": 13,
    "start_time": "2022-11-15T13:24:27.019Z"
   },
   {
    "duration": 172,
    "start_time": "2022-11-15T13:24:27.033Z"
   },
   {
    "duration": 7065,
    "start_time": "2022-11-15T13:24:27.208Z"
   },
   {
    "duration": 57,
    "start_time": "2022-11-15T13:24:34.274Z"
   },
   {
    "duration": 7127,
    "start_time": "2022-11-15T13:24:34.333Z"
   },
   {
    "duration": 277,
    "start_time": "2022-11-15T13:24:41.462Z"
   },
   {
    "duration": 4675,
    "start_time": "2022-11-15T13:24:41.741Z"
   },
   {
    "duration": 1253,
    "start_time": "2022-11-15T13:24:46.417Z"
   },
   {
    "duration": 7,
    "start_time": "2022-11-15T13:24:47.671Z"
   },
   {
    "duration": 1200,
    "start_time": "2022-11-15T13:24:47.679Z"
   },
   {
    "duration": 203,
    "start_time": "2022-11-15T13:24:48.881Z"
   },
   {
    "duration": 49,
    "start_time": "2022-11-15T16:12:15.053Z"
   },
   {
    "duration": 1587,
    "start_time": "2022-11-15T16:12:20.580Z"
   },
   {
    "duration": 151,
    "start_time": "2022-11-15T16:12:22.169Z"
   },
   {
    "duration": 17,
    "start_time": "2022-11-15T16:12:22.321Z"
   },
   {
    "duration": 6,
    "start_time": "2022-11-15T16:12:22.339Z"
   },
   {
    "duration": 24,
    "start_time": "2022-11-15T16:12:22.346Z"
   },
   {
    "duration": 6,
    "start_time": "2022-11-15T16:12:22.372Z"
   },
   {
    "duration": 224,
    "start_time": "2022-11-15T16:12:22.380Z"
   },
   {
    "duration": 6,
    "start_time": "2022-11-15T16:12:22.606Z"
   },
   {
    "duration": 290,
    "start_time": "2022-11-15T16:12:22.614Z"
   },
   {
    "duration": 4,
    "start_time": "2022-11-15T16:12:22.907Z"
   },
   {
    "duration": 348,
    "start_time": "2022-11-15T16:12:22.912Z"
   },
   {
    "duration": 1187,
    "start_time": "2022-11-15T16:12:24.670Z"
   },
   {
    "duration": 69,
    "start_time": "2022-11-15T16:23:55.229Z"
   }
  ],
  "kernelspec": {
   "display_name": "Python 3 (ipykernel)",
   "language": "python",
   "name": "python3"
  },
  "language_info": {
   "codemirror_mode": {
    "name": "ipython",
    "version": 3
   },
   "file_extension": ".py",
   "mimetype": "text/x-python",
   "name": "python",
   "nbconvert_exporter": "python",
   "pygments_lexer": "ipython3",
   "version": "3.9.12"
  },
  "toc": {
   "base_numbering": 1,
   "nav_menu": {},
   "number_sections": true,
   "sideBar": true,
   "skip_h1_title": true,
   "title_cell": "Содержание",
   "title_sidebar": "Contents",
   "toc_cell": true,
   "toc_position": {
    "height": "calc(100% - 180px)",
    "left": "10px",
    "top": "150px",
    "width": "437.325px"
   },
   "toc_section_display": true,
   "toc_window_display": true
  }
 },
 "nbformat": 4,
 "nbformat_minor": 2
}
