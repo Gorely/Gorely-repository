{
 "cells": [
  {
   "cell_type": "markdown",
   "metadata": {
    "toc": true
   },
   "source": [
    "<h1>Содержание<span class=\"tocSkip\"></span></h1>\n",
    "<div class=\"toc\"><ul class=\"toc-item\"><li><span><a href=\"#Work-plan\" data-toc-modified-id=\"Work-plan-1\"><span class=\"toc-item-num\">1&nbsp;&nbsp;</span>Work plan</a></span></li><li><span><a href=\"#Data-prepairing\" data-toc-modified-id=\"Data-prepairing-2\"><span class=\"toc-item-num\">2&nbsp;&nbsp;</span>Data prepairing</a></span><ul class=\"toc-item\"><li><span><a href=\"#Importig-all-necessary\" data-toc-modified-id=\"Importig-all-necessary-2.1\"><span class=\"toc-item-num\">2.1&nbsp;&nbsp;</span>Importig all necessary</a></span></li><li><span><a href=\"#Open-the-data,-prepare-it-for-next-steps\" data-toc-modified-id=\"Open-the-data,-prepare-it-for-next-steps-2.2\"><span class=\"toc-item-num\">2.2&nbsp;&nbsp;</span>Open the data, prepare it for next steps</a></span></li><li><span><a href=\"#Highlight-the-signs-and-purpose-for-the-future-model.\" data-toc-modified-id=\"Highlight-the-signs-and-purpose-for-the-future-model.-2.3\"><span class=\"toc-item-num\">2.3&nbsp;&nbsp;</span>Highlight the signs and purpose for the future model.</a></span></li><li><span><a href=\"#Divide-the-data-into-samples\" data-toc-modified-id=\"Divide-the-data-into-samples-2.4\"><span class=\"toc-item-num\">2.4&nbsp;&nbsp;</span>Divide the data into samples</a></span></li><li><span><a href=\"#Scale-features\" data-toc-modified-id=\"Scale-features-2.5\"><span class=\"toc-item-num\">2.5&nbsp;&nbsp;</span>Scale features</a></span></li></ul></li><li><span><a href=\"#Problem-research\" data-toc-modified-id=\"Problem-research-3\"><span class=\"toc-item-num\">3&nbsp;&nbsp;</span>Problem research</a></span><ul class=\"toc-item\"><li><span><a href=\"#Train-a-decision-tree-model-without-regard-to-class-balance\" data-toc-modified-id=\"Train-a-decision-tree-model-without-regard-to-class-balance-3.1\"><span class=\"toc-item-num\">3.1&nbsp;&nbsp;</span>Train a decision tree model without regard to class balance</a></span><ul class=\"toc-item\"><li><span><a href=\"#Train-the-model-and-build-the-error-matrix\" data-toc-modified-id=\"Train-the-model-and-build-the-error-matrix-3.1.1\"><span class=\"toc-item-num\">3.1.1&nbsp;&nbsp;</span>Train the model and build the error matrix</a></span></li><li><span><a href=\"#Study-the-accuracy,-completeness-and-F1-measure-of-a-random-tree\" data-toc-modified-id=\"Study-the-accuracy,-completeness-and-F1-measure-of-a-random-tree-3.1.2\"><span class=\"toc-item-num\">3.1.2&nbsp;&nbsp;</span>Study the accuracy, completeness and F1-measure of a random tree</a></span></li></ul></li><li><span><a href=\"#Train-a-Random-Forest-Classifier-Model\" data-toc-modified-id=\"Train-a-Random-Forest-Classifier-Model-3.2\"><span class=\"toc-item-num\">3.2&nbsp;&nbsp;</span>Train a Random Forest Classifier Model</a></span><ul class=\"toc-item\"><li><span><a href=\"#Train-the-model-and-find-the-best-hyperparameters.\" data-toc-modified-id=\"Train-the-model-and-find-the-best-hyperparameters.-3.2.1\"><span class=\"toc-item-num\">3.2.1&nbsp;&nbsp;</span>Train the model and find the best hyperparameters.</a></span></li></ul></li><li><span><a href=\"#Train-a-logistic-regression-model\" data-toc-modified-id=\"Train-a-logistic-regression-model-3.3\"><span class=\"toc-item-num\">3.3&nbsp;&nbsp;</span>Train a logistic regression model</a></span></li><li><span><a href=\"#Brief-conclusion\" data-toc-modified-id=\"Brief-conclusion-3.4\"><span class=\"toc-item-num\">3.4&nbsp;&nbsp;</span>Brief conclusion</a></span></li></ul></li><li><span><a href=\"#Fighting-imbalance\" data-toc-modified-id=\"Fighting-imbalance-4\"><span class=\"toc-item-num\">4&nbsp;&nbsp;</span>Fighting imbalance</a></span><ul class=\"toc-item\"><li><span><a href=\"#Increase-the-sample\" data-toc-modified-id=\"Increase-the-sample-4.1\"><span class=\"toc-item-num\">4.1&nbsp;&nbsp;</span>Increase the sample</a></span><ul class=\"toc-item\"><li><span><a href=\"#Check-the-Decision-Tree-Model\" data-toc-modified-id=\"Check-the-Decision-Tree-Model-4.1.1\"><span class=\"toc-item-num\">4.1.1&nbsp;&nbsp;</span>Check the Decision Tree Model</a></span></li><li><span><a href=\"#Check-the-Random-Forest-Model\" data-toc-modified-id=\"Check-the-Random-Forest-Model-4.1.2\"><span class=\"toc-item-num\">4.1.2&nbsp;&nbsp;</span>Check the Random Forest Model</a></span></li><li><span><a href=\"#Check-the-logistic-regression-model\" data-toc-modified-id=\"Check-the-logistic-regression-model-4.1.3\"><span class=\"toc-item-num\">4.1.3&nbsp;&nbsp;</span>Check the logistic regression model</a></span></li></ul></li><li><span><a href=\"#Reduce-the-sample\" data-toc-modified-id=\"Reduce-the-sample-4.2\"><span class=\"toc-item-num\">4.2&nbsp;&nbsp;</span>Reduce the sample</a></span><ul class=\"toc-item\"><li><span><a href=\"#Check-the-Decision-Tree-Model\" data-toc-modified-id=\"Check-the-Decision-Tree-Model-4.2.1\"><span class=\"toc-item-num\">4.2.1&nbsp;&nbsp;</span>Check the Decision Tree Model</a></span></li><li><span><a href=\"#Check-the-Random-Forest-Model\" data-toc-modified-id=\"Check-the-Random-Forest-Model-4.2.2\"><span class=\"toc-item-num\">4.2.2&nbsp;&nbsp;</span>Check the Random Forest Model</a></span></li><li><span><a href=\"#Check-the-logistic-regression-model\" data-toc-modified-id=\"Check-the-logistic-regression-model-4.2.3\"><span class=\"toc-item-num\">4.2.3&nbsp;&nbsp;</span>Check the logistic regression model</a></span></li></ul></li><li><span><a href=\"#Check-the-variant-without-changing-the-sample-size,-but-with-class-balancing\" data-toc-modified-id=\"Check-the-variant-without-changing-the-sample-size,-but-with-class-balancing-4.3\"><span class=\"toc-item-num\">4.3&nbsp;&nbsp;</span>Check the variant without changing the sample size, but with class balancing</a></span><ul class=\"toc-item\"><li><span><a href=\"#Decision-tree\" data-toc-modified-id=\"Decision-tree-4.3.1\"><span class=\"toc-item-num\">4.3.1&nbsp;&nbsp;</span>Decision tree</a></span></li><li><span><a href=\"#Random-forest\" data-toc-modified-id=\"Random-forest-4.3.2\"><span class=\"toc-item-num\">4.3.2&nbsp;&nbsp;</span>Random forest</a></span></li><li><span><a href=\"#Logistic-regression\" data-toc-modified-id=\"Logistic-regression-4.3.3\"><span class=\"toc-item-num\">4.3.3&nbsp;&nbsp;</span>Logistic regression</a></span></li></ul></li><li><span><a href=\"#The-best-model-and-result-of-the-fight-against-imbalance\" data-toc-modified-id=\"The-best-model-and-result-of-the-fight-against-imbalance-4.4\"><span class=\"toc-item-num\">4.4&nbsp;&nbsp;</span>The best model and result of the fight against imbalance</a></span></li><li><span><a href=\"#Build-a-ROC-curve\" data-toc-modified-id=\"Build-a-ROC-curve-4.5\"><span class=\"toc-item-num\">4.5&nbsp;&nbsp;</span>Build a ROC curve</a></span></li></ul></li><li><span><a href=\"#Model-testing\" data-toc-modified-id=\"Model-testing-5\"><span class=\"toc-item-num\">5&nbsp;&nbsp;</span>Model testing</a></span><ul class=\"toc-item\"><li><span><a href=\"#Study-the-work-of-our-model-on-a-test-sample\" data-toc-modified-id=\"Study-the-work-of-our-model-on-a-test-sample-5.1\"><span class=\"toc-item-num\">5.1&nbsp;&nbsp;</span>Study the work of our model on a test sample</a></span></li><li><span><a href=\"#Let's-compare-our-model-with-a-simple-classifier\" data-toc-modified-id=\"Let's-compare-our-model-with-a-simple-classifier-5.2\"><span class=\"toc-item-num\">5.2&nbsp;&nbsp;</span>Let's compare our model with a simple classifier</a></span></li></ul></li><li><span><a href=\"#Feature-Importance\" data-toc-modified-id=\"Feature-Importance-6\"><span class=\"toc-item-num\">6&nbsp;&nbsp;</span>Feature Importance</a></span><ul class=\"toc-item\"><li><span><a href=\"#Let's-consider-the-importance-of-features-by-its-decrease\" data-toc-modified-id=\"Let's-consider-the-importance-of-features-by-its-decrease-6.1\"><span class=\"toc-item-num\">6.1&nbsp;&nbsp;</span>Let's consider the importance of features by its decrease</a></span></li><li><span><a href=\"#Let's-build-a-graph-of-the-importance-of-features-for-clarity\" data-toc-modified-id=\"Let's-build-a-graph-of-the-importance-of-features-for-clarity-6.2\"><span class=\"toc-item-num\">6.2&nbsp;&nbsp;</span>Let's build a graph of the importance of features for clarity</a></span></li></ul></li><li><span><a href=\"#General-conclusion\" data-toc-modified-id=\"General-conclusion-7\"><span class=\"toc-item-num\">7&nbsp;&nbsp;</span>General conclusion</a></span></li></ul></div>"
   ]
  },
  {
   "cell_type": "markdown",
   "metadata": {},
   "source": [
    "# Bank clients churning"
   ]
  },
  {
   "cell_type": "markdown",
   "metadata": {},
   "source": [
    "Customers began to leave Beta-Bank. Every month. A little, but noticeable. Banking marketers figured it was cheaper to keep current customers than to attract new ones.\n",
    "\n",
    "It is necessary to predict whether the client will leave the bank in the near future or not."
   ]
  },
  {
   "cell_type": "markdown",
   "metadata": {},
   "source": [
    "## Work plan"
   ]
  },
  {
   "cell_type": "markdown",
   "metadata": {},
   "source": [
    "- Import everything needed\n",
    "- Open and study the data, prepare the data for work\n",
    "- Highlight signs and targets\n",
    "- Divide data into samples\n",
    "- Scale features\n",
    "- Train the decision tree model, check the error matrix, accuracy, recall and F1-measure\n",
    "- Train a random forest model, find the best hyperparameters\n",
    "- Train a regression model, compare with other models\n",
    "- Make a conclusion about the balance of classes\n",
    "- Fight the imbalance, if necessary\n",
    "- Test the model on a test sample, calculate the AUC-ROC metric\n",
    "- Let's compare our model with a simple \"guesser\"."
   ]
  },
  {
   "cell_type": "markdown",
   "metadata": {},
   "source": [
    "## Data prepairing"
   ]
  },
  {
   "cell_type": "markdown",
   "metadata": {},
   "source": [
    "### Importig all necessary"
   ]
  },
  {
   "cell_type": "code",
   "execution_count": 1,
   "metadata": {},
   "outputs": [],
   "source": [
    "import pandas as pd\n",
    "from sklearn.model_selection import train_test_split\n",
    "from sklearn.preprocessing import StandardScaler\n",
    "from sklearn.metrics import confusion_matrix\n",
    "from sklearn.tree import DecisionTreeClassifier\n",
    "from sklearn.ensemble import RandomForestClassifier\n",
    "from sklearn.linear_model import LogisticRegression\n",
    "from sklearn.metrics import precision_score \n",
    "from sklearn.metrics import recall_score \n",
    "from sklearn.metrics import f1_score\n",
    "from sklearn.metrics import r2_score\n",
    "from sklearn.metrics import roc_auc_score \n",
    "from sklearn.utils import shuffle\n",
    "import numpy as np\n",
    "import matplotlib.pyplot as plt\n",
    "from sklearn.metrics import roc_curve \n",
    "from sklearn.dummy import DummyClassifier\n",
    "from sklearn.metrics import accuracy_score\n",
    "\n",
    "import warnings\n",
    "warnings.filterwarnings('ignore')"
   ]
  },
  {
   "cell_type": "markdown",
   "metadata": {},
   "source": [
    "### Open the data, prepare it for next steps"
   ]
  },
  {
   "cell_type": "code",
   "execution_count": 2,
   "metadata": {},
   "outputs": [
    {
     "name": "stdout",
     "output_type": "stream",
     "text": [
      "   RowNumber  CustomerId   Surname  CreditScore Geography  Gender  Age  \\\n",
      "0          1    15634602  Hargrave          619    France  Female   42   \n",
      "1          2    15647311      Hill          608     Spain  Female   41   \n",
      "2          3    15619304      Onio          502    France  Female   42   \n",
      "3          4    15701354      Boni          699    France  Female   39   \n",
      "4          5    15737888  Mitchell          850     Spain  Female   43   \n",
      "\n",
      "   Tenure    Balance  NumOfProducts  HasCrCard  IsActiveMember  \\\n",
      "0     2.0       0.00              1          1               1   \n",
      "1     1.0   83807.86              1          0               1   \n",
      "2     8.0  159660.80              3          1               0   \n",
      "3     1.0       0.00              2          0               0   \n",
      "4     2.0  125510.82              1          1               1   \n",
      "\n",
      "   EstimatedSalary  Exited  \n",
      "0        101348.88       1  \n",
      "1        112542.58       0  \n",
      "2        113931.57       1  \n",
      "3         93826.63       0  \n",
      "4         79084.10       0  \n",
      "<class 'pandas.core.frame.DataFrame'>\n",
      "RangeIndex: 10000 entries, 0 to 9999\n",
      "Data columns (total 14 columns):\n",
      " #   Column           Non-Null Count  Dtype  \n",
      "---  ------           --------------  -----  \n",
      " 0   RowNumber        10000 non-null  int64  \n",
      " 1   CustomerId       10000 non-null  int64  \n",
      " 2   Surname          10000 non-null  object \n",
      " 3   CreditScore      10000 non-null  int64  \n",
      " 4   Geography        10000 non-null  object \n",
      " 5   Gender           10000 non-null  object \n",
      " 6   Age              10000 non-null  int64  \n",
      " 7   Tenure           9091 non-null   float64\n",
      " 8   Balance          10000 non-null  float64\n",
      " 9   NumOfProducts    10000 non-null  int64  \n",
      " 10  HasCrCard        10000 non-null  int64  \n",
      " 11  IsActiveMember   10000 non-null  int64  \n",
      " 12  EstimatedSalary  10000 non-null  float64\n",
      " 13  Exited           10000 non-null  int64  \n",
      "dtypes: float64(3), int64(8), object(3)\n",
      "memory usage: 1.1+ MB\n"
     ]
    }
   ],
   "source": [
    "data = pd.read_csv ('Churn.csv')\n",
    "print (data.head())\n",
    "data.info()"
   ]
  },
  {
   "cell_type": "markdown",
   "metadata": {},
   "source": [
    "Cheking for duplicates"
   ]
  },
  {
   "cell_type": "code",
   "execution_count": 3,
   "metadata": {
    "scrolled": true
   },
   "outputs": [
    {
     "data": {
      "text/plain": [
       "0"
      ]
     },
     "execution_count": 3,
     "metadata": {},
     "output_type": "execute_result"
    }
   ],
   "source": [
    "data.duplicated().sum()"
   ]
  },
  {
   "cell_type": "code",
   "execution_count": 4,
   "metadata": {
    "scrolled": false
   },
   "outputs": [
    {
     "data": {
      "text/plain": [
       "array(['France', 'Spain', 'Germany'], dtype=object)"
      ]
     },
     "execution_count": 4,
     "metadata": {},
     "output_type": "execute_result"
    }
   ],
   "source": [
    "data['Geography'].unique()"
   ]
  },
  {
   "cell_type": "markdown",
   "metadata": {},
   "source": [
    "After examining the data, the following conclusions can be drawn:\n",
    "We will use as features:\n",
    "- RowNumber - row index in the data\n",
    "- CustomerId — unique customer identifier\n",
    "- Surname - surname\n",
    "- CreditScore - credit rating (quantitative)\n",
    "- Geography - country of residence (categorical, text)\n",
    "- Gender - gender (categorical, text)\n",
    "- Age - age (quantitative)\n",
    "- Tenure - how many years a person has been a client of the bank (quantitative), in addition, the column is not complete, there are NaNs.\n",
    "- Balance - account balance (quantitative)\n",
    "- NumOfProducts - the number of bank products used by the client (categorical)\n",
    "- HasCrCard - the presence of a credit card (categorical)\n",
    "- IsActiveMember - client activity (categorical)\n",
    "- EstimatedSalary - estimated salary (quantitative)\n",
    "\n",
    "Target feature\n",
    "- Exited - the fact that the client left"
   ]
  },
  {
   "cell_type": "markdown",
   "metadata": {},
   "source": [
    "Signs: RowNumber, CustomerId and Surname are neither categorical nor quantitative, they will only interfere with us in training the future model, so we will remove them."
   ]
  },
  {
   "cell_type": "code",
   "execution_count": 5,
   "metadata": {},
   "outputs": [
    {
     "data": {
      "text/html": [
       "<div>\n",
       "<style scoped>\n",
       "    .dataframe tbody tr th:only-of-type {\n",
       "        vertical-align: middle;\n",
       "    }\n",
       "\n",
       "    .dataframe tbody tr th {\n",
       "        vertical-align: top;\n",
       "    }\n",
       "\n",
       "    .dataframe thead th {\n",
       "        text-align: right;\n",
       "    }\n",
       "</style>\n",
       "<table border=\"1\" class=\"dataframe\">\n",
       "  <thead>\n",
       "    <tr style=\"text-align: right;\">\n",
       "      <th></th>\n",
       "      <th>CreditScore</th>\n",
       "      <th>Geography</th>\n",
       "      <th>Gender</th>\n",
       "      <th>Age</th>\n",
       "      <th>Tenure</th>\n",
       "      <th>Balance</th>\n",
       "      <th>NumOfProducts</th>\n",
       "      <th>HasCrCard</th>\n",
       "      <th>IsActiveMember</th>\n",
       "      <th>EstimatedSalary</th>\n",
       "      <th>Exited</th>\n",
       "    </tr>\n",
       "  </thead>\n",
       "  <tbody>\n",
       "    <tr>\n",
       "      <th>0</th>\n",
       "      <td>619</td>\n",
       "      <td>France</td>\n",
       "      <td>Female</td>\n",
       "      <td>42</td>\n",
       "      <td>2.0</td>\n",
       "      <td>0.00</td>\n",
       "      <td>1</td>\n",
       "      <td>1</td>\n",
       "      <td>1</td>\n",
       "      <td>101348.88</td>\n",
       "      <td>1</td>\n",
       "    </tr>\n",
       "    <tr>\n",
       "      <th>1</th>\n",
       "      <td>608</td>\n",
       "      <td>Spain</td>\n",
       "      <td>Female</td>\n",
       "      <td>41</td>\n",
       "      <td>1.0</td>\n",
       "      <td>83807.86</td>\n",
       "      <td>1</td>\n",
       "      <td>0</td>\n",
       "      <td>1</td>\n",
       "      <td>112542.58</td>\n",
       "      <td>0</td>\n",
       "    </tr>\n",
       "    <tr>\n",
       "      <th>2</th>\n",
       "      <td>502</td>\n",
       "      <td>France</td>\n",
       "      <td>Female</td>\n",
       "      <td>42</td>\n",
       "      <td>8.0</td>\n",
       "      <td>159660.80</td>\n",
       "      <td>3</td>\n",
       "      <td>1</td>\n",
       "      <td>0</td>\n",
       "      <td>113931.57</td>\n",
       "      <td>1</td>\n",
       "    </tr>\n",
       "    <tr>\n",
       "      <th>3</th>\n",
       "      <td>699</td>\n",
       "      <td>France</td>\n",
       "      <td>Female</td>\n",
       "      <td>39</td>\n",
       "      <td>1.0</td>\n",
       "      <td>0.00</td>\n",
       "      <td>2</td>\n",
       "      <td>0</td>\n",
       "      <td>0</td>\n",
       "      <td>93826.63</td>\n",
       "      <td>0</td>\n",
       "    </tr>\n",
       "    <tr>\n",
       "      <th>4</th>\n",
       "      <td>850</td>\n",
       "      <td>Spain</td>\n",
       "      <td>Female</td>\n",
       "      <td>43</td>\n",
       "      <td>2.0</td>\n",
       "      <td>125510.82</td>\n",
       "      <td>1</td>\n",
       "      <td>1</td>\n",
       "      <td>1</td>\n",
       "      <td>79084.10</td>\n",
       "      <td>0</td>\n",
       "    </tr>\n",
       "    <tr>\n",
       "      <th>...</th>\n",
       "      <td>...</td>\n",
       "      <td>...</td>\n",
       "      <td>...</td>\n",
       "      <td>...</td>\n",
       "      <td>...</td>\n",
       "      <td>...</td>\n",
       "      <td>...</td>\n",
       "      <td>...</td>\n",
       "      <td>...</td>\n",
       "      <td>...</td>\n",
       "      <td>...</td>\n",
       "    </tr>\n",
       "    <tr>\n",
       "      <th>9995</th>\n",
       "      <td>771</td>\n",
       "      <td>France</td>\n",
       "      <td>Male</td>\n",
       "      <td>39</td>\n",
       "      <td>5.0</td>\n",
       "      <td>0.00</td>\n",
       "      <td>2</td>\n",
       "      <td>1</td>\n",
       "      <td>0</td>\n",
       "      <td>96270.64</td>\n",
       "      <td>0</td>\n",
       "    </tr>\n",
       "    <tr>\n",
       "      <th>9996</th>\n",
       "      <td>516</td>\n",
       "      <td>France</td>\n",
       "      <td>Male</td>\n",
       "      <td>35</td>\n",
       "      <td>10.0</td>\n",
       "      <td>57369.61</td>\n",
       "      <td>1</td>\n",
       "      <td>1</td>\n",
       "      <td>1</td>\n",
       "      <td>101699.77</td>\n",
       "      <td>0</td>\n",
       "    </tr>\n",
       "    <tr>\n",
       "      <th>9997</th>\n",
       "      <td>709</td>\n",
       "      <td>France</td>\n",
       "      <td>Female</td>\n",
       "      <td>36</td>\n",
       "      <td>7.0</td>\n",
       "      <td>0.00</td>\n",
       "      <td>1</td>\n",
       "      <td>0</td>\n",
       "      <td>1</td>\n",
       "      <td>42085.58</td>\n",
       "      <td>1</td>\n",
       "    </tr>\n",
       "    <tr>\n",
       "      <th>9998</th>\n",
       "      <td>772</td>\n",
       "      <td>Germany</td>\n",
       "      <td>Male</td>\n",
       "      <td>42</td>\n",
       "      <td>3.0</td>\n",
       "      <td>75075.31</td>\n",
       "      <td>2</td>\n",
       "      <td>1</td>\n",
       "      <td>0</td>\n",
       "      <td>92888.52</td>\n",
       "      <td>1</td>\n",
       "    </tr>\n",
       "    <tr>\n",
       "      <th>9999</th>\n",
       "      <td>792</td>\n",
       "      <td>France</td>\n",
       "      <td>Female</td>\n",
       "      <td>28</td>\n",
       "      <td>NaN</td>\n",
       "      <td>130142.79</td>\n",
       "      <td>1</td>\n",
       "      <td>1</td>\n",
       "      <td>0</td>\n",
       "      <td>38190.78</td>\n",
       "      <td>0</td>\n",
       "    </tr>\n",
       "  </tbody>\n",
       "</table>\n",
       "<p>10000 rows × 11 columns</p>\n",
       "</div>"
      ],
      "text/plain": [
       "      CreditScore Geography  Gender  Age  Tenure    Balance  NumOfProducts  \\\n",
       "0             619    France  Female   42     2.0       0.00              1   \n",
       "1             608     Spain  Female   41     1.0   83807.86              1   \n",
       "2             502    France  Female   42     8.0  159660.80              3   \n",
       "3             699    France  Female   39     1.0       0.00              2   \n",
       "4             850     Spain  Female   43     2.0  125510.82              1   \n",
       "...           ...       ...     ...  ...     ...        ...            ...   \n",
       "9995          771    France    Male   39     5.0       0.00              2   \n",
       "9996          516    France    Male   35    10.0   57369.61              1   \n",
       "9997          709    France  Female   36     7.0       0.00              1   \n",
       "9998          772   Germany    Male   42     3.0   75075.31              2   \n",
       "9999          792    France  Female   28     NaN  130142.79              1   \n",
       "\n",
       "      HasCrCard  IsActiveMember  EstimatedSalary  Exited  \n",
       "0             1               1        101348.88       1  \n",
       "1             0               1        112542.58       0  \n",
       "2             1               0        113931.57       1  \n",
       "3             0               0         93826.63       0  \n",
       "4             1               1         79084.10       0  \n",
       "...         ...             ...              ...     ...  \n",
       "9995          1               0         96270.64       0  \n",
       "9996          1               1        101699.77       0  \n",
       "9997          0               1         42085.58       1  \n",
       "9998          1               0         92888.52       1  \n",
       "9999          1               0         38190.78       0  \n",
       "\n",
       "[10000 rows x 11 columns]"
      ]
     },
     "execution_count": 5,
     "metadata": {},
     "output_type": "execute_result"
    }
   ],
   "source": [
    "data = data.drop(['RowNumber', 'CustomerId', 'Surname'], axis=1)\n",
    "data"
   ]
  },
  {
   "cell_type": "markdown",
   "metadata": {},
   "source": [
    "Also, there are NaNs in the Tenure column. It will be better to fill them out."
   ]
  },
  {
   "cell_type": "code",
   "execution_count": 6,
   "metadata": {
    "scrolled": true
   },
   "outputs": [
    {
     "name": "stdout",
     "output_type": "stream",
     "text": [
      "<class 'pandas.core.frame.DataFrame'>\n",
      "Int64Index: 9091 entries, 0 to 9998\n",
      "Data columns (total 11 columns):\n",
      " #   Column           Non-Null Count  Dtype  \n",
      "---  ------           --------------  -----  \n",
      " 0   CreditScore      9091 non-null   int64  \n",
      " 1   Geography        9091 non-null   object \n",
      " 2   Gender           9091 non-null   object \n",
      " 3   Age              9091 non-null   int64  \n",
      " 4   Tenure           9091 non-null   float64\n",
      " 5   Balance          9091 non-null   float64\n",
      " 6   NumOfProducts    9091 non-null   int64  \n",
      " 7   HasCrCard        9091 non-null   int64  \n",
      " 8   IsActiveMember   9091 non-null   int64  \n",
      " 9   EstimatedSalary  9091 non-null   float64\n",
      " 10  Exited           9091 non-null   int64  \n",
      "dtypes: float64(3), int64(6), object(2)\n",
      "memory usage: 852.3+ KB\n"
     ]
    }
   ],
   "source": [
    "data.dropna(subset=['Tenure'], inplace=True)\n",
    "data.info()"
   ]
  },
  {
   "cell_type": "markdown",
   "metadata": {},
   "source": [
    "Categorical text features can be converted to categorical numeric features using the OHE method, while doing so in order to avoid the Dummy trap."
   ]
  },
  {
   "cell_type": "code",
   "execution_count": 7,
   "metadata": {
    "scrolled": false
   },
   "outputs": [
    {
     "data": {
      "text/html": [
       "<div>\n",
       "<style scoped>\n",
       "    .dataframe tbody tr th:only-of-type {\n",
       "        vertical-align: middle;\n",
       "    }\n",
       "\n",
       "    .dataframe tbody tr th {\n",
       "        vertical-align: top;\n",
       "    }\n",
       "\n",
       "    .dataframe thead th {\n",
       "        text-align: right;\n",
       "    }\n",
       "</style>\n",
       "<table border=\"1\" class=\"dataframe\">\n",
       "  <thead>\n",
       "    <tr style=\"text-align: right;\">\n",
       "      <th></th>\n",
       "      <th>CreditScore</th>\n",
       "      <th>Age</th>\n",
       "      <th>Tenure</th>\n",
       "      <th>Balance</th>\n",
       "      <th>NumOfProducts</th>\n",
       "      <th>HasCrCard</th>\n",
       "      <th>IsActiveMember</th>\n",
       "      <th>EstimatedSalary</th>\n",
       "      <th>Exited</th>\n",
       "      <th>Geography_Germany</th>\n",
       "      <th>Geography_Spain</th>\n",
       "      <th>Gender_Male</th>\n",
       "    </tr>\n",
       "  </thead>\n",
       "  <tbody>\n",
       "    <tr>\n",
       "      <th>0</th>\n",
       "      <td>619</td>\n",
       "      <td>42</td>\n",
       "      <td>2.0</td>\n",
       "      <td>0.00</td>\n",
       "      <td>1</td>\n",
       "      <td>1</td>\n",
       "      <td>1</td>\n",
       "      <td>101348.88</td>\n",
       "      <td>1</td>\n",
       "      <td>0</td>\n",
       "      <td>0</td>\n",
       "      <td>0</td>\n",
       "    </tr>\n",
       "    <tr>\n",
       "      <th>1</th>\n",
       "      <td>608</td>\n",
       "      <td>41</td>\n",
       "      <td>1.0</td>\n",
       "      <td>83807.86</td>\n",
       "      <td>1</td>\n",
       "      <td>0</td>\n",
       "      <td>1</td>\n",
       "      <td>112542.58</td>\n",
       "      <td>0</td>\n",
       "      <td>0</td>\n",
       "      <td>1</td>\n",
       "      <td>0</td>\n",
       "    </tr>\n",
       "    <tr>\n",
       "      <th>2</th>\n",
       "      <td>502</td>\n",
       "      <td>42</td>\n",
       "      <td>8.0</td>\n",
       "      <td>159660.80</td>\n",
       "      <td>3</td>\n",
       "      <td>1</td>\n",
       "      <td>0</td>\n",
       "      <td>113931.57</td>\n",
       "      <td>1</td>\n",
       "      <td>0</td>\n",
       "      <td>0</td>\n",
       "      <td>0</td>\n",
       "    </tr>\n",
       "    <tr>\n",
       "      <th>3</th>\n",
       "      <td>699</td>\n",
       "      <td>39</td>\n",
       "      <td>1.0</td>\n",
       "      <td>0.00</td>\n",
       "      <td>2</td>\n",
       "      <td>0</td>\n",
       "      <td>0</td>\n",
       "      <td>93826.63</td>\n",
       "      <td>0</td>\n",
       "      <td>0</td>\n",
       "      <td>0</td>\n",
       "      <td>0</td>\n",
       "    </tr>\n",
       "    <tr>\n",
       "      <th>4</th>\n",
       "      <td>850</td>\n",
       "      <td>43</td>\n",
       "      <td>2.0</td>\n",
       "      <td>125510.82</td>\n",
       "      <td>1</td>\n",
       "      <td>1</td>\n",
       "      <td>1</td>\n",
       "      <td>79084.10</td>\n",
       "      <td>0</td>\n",
       "      <td>0</td>\n",
       "      <td>1</td>\n",
       "      <td>0</td>\n",
       "    </tr>\n",
       "    <tr>\n",
       "      <th>5</th>\n",
       "      <td>645</td>\n",
       "      <td>44</td>\n",
       "      <td>8.0</td>\n",
       "      <td>113755.78</td>\n",
       "      <td>2</td>\n",
       "      <td>1</td>\n",
       "      <td>0</td>\n",
       "      <td>149756.71</td>\n",
       "      <td>1</td>\n",
       "      <td>0</td>\n",
       "      <td>1</td>\n",
       "      <td>1</td>\n",
       "    </tr>\n",
       "    <tr>\n",
       "      <th>6</th>\n",
       "      <td>822</td>\n",
       "      <td>50</td>\n",
       "      <td>7.0</td>\n",
       "      <td>0.00</td>\n",
       "      <td>2</td>\n",
       "      <td>1</td>\n",
       "      <td>1</td>\n",
       "      <td>10062.80</td>\n",
       "      <td>0</td>\n",
       "      <td>0</td>\n",
       "      <td>0</td>\n",
       "      <td>1</td>\n",
       "    </tr>\n",
       "    <tr>\n",
       "      <th>7</th>\n",
       "      <td>376</td>\n",
       "      <td>29</td>\n",
       "      <td>4.0</td>\n",
       "      <td>115046.74</td>\n",
       "      <td>4</td>\n",
       "      <td>1</td>\n",
       "      <td>0</td>\n",
       "      <td>119346.88</td>\n",
       "      <td>1</td>\n",
       "      <td>1</td>\n",
       "      <td>0</td>\n",
       "      <td>0</td>\n",
       "    </tr>\n",
       "    <tr>\n",
       "      <th>8</th>\n",
       "      <td>501</td>\n",
       "      <td>44</td>\n",
       "      <td>4.0</td>\n",
       "      <td>142051.07</td>\n",
       "      <td>2</td>\n",
       "      <td>0</td>\n",
       "      <td>1</td>\n",
       "      <td>74940.50</td>\n",
       "      <td>0</td>\n",
       "      <td>0</td>\n",
       "      <td>0</td>\n",
       "      <td>1</td>\n",
       "    </tr>\n",
       "    <tr>\n",
       "      <th>9</th>\n",
       "      <td>684</td>\n",
       "      <td>27</td>\n",
       "      <td>2.0</td>\n",
       "      <td>134603.88</td>\n",
       "      <td>1</td>\n",
       "      <td>1</td>\n",
       "      <td>1</td>\n",
       "      <td>71725.73</td>\n",
       "      <td>0</td>\n",
       "      <td>0</td>\n",
       "      <td>0</td>\n",
       "      <td>1</td>\n",
       "    </tr>\n",
       "  </tbody>\n",
       "</table>\n",
       "</div>"
      ],
      "text/plain": [
       "   CreditScore  Age  Tenure    Balance  NumOfProducts  HasCrCard  \\\n",
       "0          619   42     2.0       0.00              1          1   \n",
       "1          608   41     1.0   83807.86              1          0   \n",
       "2          502   42     8.0  159660.80              3          1   \n",
       "3          699   39     1.0       0.00              2          0   \n",
       "4          850   43     2.0  125510.82              1          1   \n",
       "5          645   44     8.0  113755.78              2          1   \n",
       "6          822   50     7.0       0.00              2          1   \n",
       "7          376   29     4.0  115046.74              4          1   \n",
       "8          501   44     4.0  142051.07              2          0   \n",
       "9          684   27     2.0  134603.88              1          1   \n",
       "\n",
       "   IsActiveMember  EstimatedSalary  Exited  Geography_Germany  \\\n",
       "0               1        101348.88       1                  0   \n",
       "1               1        112542.58       0                  0   \n",
       "2               0        113931.57       1                  0   \n",
       "3               0         93826.63       0                  0   \n",
       "4               1         79084.10       0                  0   \n",
       "5               0        149756.71       1                  0   \n",
       "6               1         10062.80       0                  0   \n",
       "7               0        119346.88       1                  1   \n",
       "8               1         74940.50       0                  0   \n",
       "9               1         71725.73       0                  0   \n",
       "\n",
       "   Geography_Spain  Gender_Male  \n",
       "0                0            0  \n",
       "1                1            0  \n",
       "2                0            0  \n",
       "3                0            0  \n",
       "4                1            0  \n",
       "5                1            1  \n",
       "6                0            1  \n",
       "7                0            0  \n",
       "8                0            1  \n",
       "9                0            1  "
      ]
     },
     "execution_count": 7,
     "metadata": {},
     "output_type": "execute_result"
    }
   ],
   "source": [
    "data_ohe = pd.get_dummies(data, columns=['Geography', 'Gender'], drop_first=True)\n",
    "data_ohe.head(10)"
   ]
  },
  {
   "cell_type": "markdown",
   "metadata": {},
   "source": [
    "### Highlight the signs and purpose for the future model."
   ]
  },
  {
   "cell_type": "code",
   "execution_count": 8,
   "metadata": {},
   "outputs": [],
   "source": [
    "target = data_ohe['Exited']\n",
    "features = data_ohe.drop(['Exited'] , axis=1)"
   ]
  },
  {
   "cell_type": "markdown",
   "metadata": {},
   "source": [
    "### Divide the data into samples"
   ]
  },
  {
   "cell_type": "markdown",
   "metadata": {},
   "source": [
    "1. Split the data into training and test-validation samples."
   ]
  },
  {
   "cell_type": "code",
   "execution_count": 9,
   "metadata": {},
   "outputs": [],
   "source": [
    "features_train, features_vt, target_train, target_vt = train_test_split(\n",
    "    features, target, test_size=0.40, random_state=12345)"
   ]
  },
  {
   "cell_type": "markdown",
   "metadata": {},
   "source": [
    "2. Split the test-validation sample into validation and test"
   ]
  },
  {
   "cell_type": "code",
   "execution_count": 10,
   "metadata": {},
   "outputs": [],
   "source": [
    "features_valid, features_test, target_valid, target_test = train_test_split(\n",
    "    features_vt, target_vt, test_size=0.40, random_state=12345)"
   ]
  },
  {
   "cell_type": "markdown",
   "metadata": {},
   "source": [
    "Check sample sizes"
   ]
  },
  {
   "cell_type": "code",
   "execution_count": 11,
   "metadata": {},
   "outputs": [
    {
     "name": "stdout",
     "output_type": "stream",
     "text": [
      "(5454, 11)\n",
      "(2182, 11)\n",
      "(1455, 11)\n"
     ]
    }
   ],
   "source": [
    "print (features_train.shape)\n",
    "print (features_valid.shape)\n",
    "print (features_test.shape)"
   ]
  },
  {
   "cell_type": "markdown",
   "metadata": {},
   "source": [
    "### Scale features"
   ]
  },
  {
   "cell_type": "markdown",
   "metadata": {},
   "source": [
    "Scale the features so that the model does not think that some features are more important than others."
   ]
  },
  {
   "cell_type": "code",
   "execution_count": 12,
   "metadata": {},
   "outputs": [],
   "source": [
    "numeric = ['CreditScore', 'Age', 'Tenure', 'Balance', 'NumOfProducts', 'HasCrCard', \n",
    "           'IsActiveMember', 'EstimatedSalary', 'Geography_Germany', 'Geography_Spain', 'Gender_Male']\n",
    "\n",
    "scaler = StandardScaler()\n",
    "scaler.fit(features_train[numeric])\n",
    "features_train[numeric] = scaler.transform(features_train[numeric])\n",
    "features_valid[numeric] = scaler.transform(features_valid[numeric]) \n",
    "features_test[numeric] = scaler.transform(features_test[numeric])"
   ]
  },
  {
   "cell_type": "markdown",
   "metadata": {},
   "source": [
    "## Problem research"
   ]
  },
  {
   "cell_type": "markdown",
   "metadata": {},
   "source": [
    "### Train a decision tree model without regard to class balance"
   ]
  },
  {
   "cell_type": "markdown",
   "metadata": {},
   "source": [
    "#### Train the model and build the error matrix"
   ]
  },
  {
   "cell_type": "code",
   "execution_count": 13,
   "metadata": {},
   "outputs": [
    {
     "data": {
      "text/plain": [
       "array([[1500,  231],\n",
       "       [ 230,  221]], dtype=int64)"
      ]
     },
     "execution_count": 13,
     "metadata": {},
     "output_type": "execute_result"
    }
   ],
   "source": [
    "model = DecisionTreeClassifier(random_state=12345)\n",
    "model.fit(features_train, target_train)\n",
    "predicted_valid = model.predict(features_valid)\n",
    "\n",
    "confusion_matrix(target_valid, predicted_valid)"
   ]
  },
  {
   "cell_type": "markdown",
   "metadata": {},
   "source": [
    "The error matrix shows many true-negative answers, and there are as many true-positive answers as there are false-positive and false-negative ones. On the face of the imbalance of classes."
   ]
  },
  {
   "cell_type": "markdown",
   "metadata": {},
   "source": [
    "#### Study the accuracy, completeness and F1-measure of a random tree"
   ]
  },
  {
   "cell_type": "code",
   "execution_count": 14,
   "metadata": {},
   "outputs": [
    {
     "name": "stdout",
     "output_type": "stream",
     "text": [
      "Precision: 0.4889380530973451\n",
      "Recall: 0.49002217294900224\n",
      "F1: 0.4894795127353267\n",
      "AUC_ROC: 0.6782866497327333\n"
     ]
    }
   ],
   "source": [
    "model.fit(features_train, target_train)\n",
    "predicted_valid = model.predict(features_valid)\n",
    "print ('Precision:', precision_score(target_valid, predicted_valid))\n",
    "print ('Recall:', recall_score(target_valid, predicted_valid))\n",
    "print ('F1:', f1_score(target_valid, predicted_valid))\n",
    "\n",
    "probabilities_valid = model.predict_proba(features_valid)\n",
    "probabilities_one_valid = probabilities_valid[:, 1]\n",
    "\n",
    "auc_roc = roc_auc_score(target_valid, probabilities_one_valid)\n",
    "print ('AUC_ROC:', auc_roc)"
   ]
  },
  {
   "cell_type": "markdown",
   "metadata": {},
   "source": [
    "Precision and recall are between 1 and 0 in the middle of the range, the results are average. The recall should be closer to 1 (the closer the better). This result for the F1 measure is very low because the data is unbalanced."
   ]
  },
  {
   "cell_type": "markdown",
   "metadata": {},
   "source": [
    "### Train a Random Forest Classifier Model"
   ]
  },
  {
   "cell_type": "markdown",
   "metadata": {},
   "source": [
    "#### Train the model and find the best hyperparameters."
   ]
  },
  {
   "cell_type": "code",
   "execution_count": 15,
   "metadata": {},
   "outputs": [
    {
     "name": "stdout",
     "output_type": "stream",
     "text": [
      "best_depth: 9\n",
      "best_est: 12\n",
      "best F1: 0.5566714490674319\n",
      "AUC_ROC: 0.8686697895811477\n"
     ]
    }
   ],
   "source": [
    "best_result_est = 0\n",
    "best_depth = 0\n",
    "best_est = 0\n",
    "auc_roc = 0\n",
    "for est in range(1, 15):\n",
    "    for depth in range(1, 10):\n",
    "        model = RandomForestClassifier(random_state=12345, n_estimators=est, max_depth=depth)\n",
    "        model.fit(features_train, target_train)\n",
    "        predicted_valid = model.predict(features_valid)\n",
    "        result = f1_score(target_valid, predicted_valid)\n",
    "        \n",
    "        probabilities_valid = model.predict_proba(features_valid)\n",
    "        probabilities_one_valid = probabilities_valid[:, 1]\n",
    "        auc_roc = roc_auc_score(target_valid, probabilities_one_valid)\n",
    "\n",
    "    if result > best_result_est:\n",
    "        best_result_est = result\n",
    "        best_depth = depth\n",
    "        best_est = est\n",
    "        best_auc_roc = auc_roc\n",
    "\n",
    "print('best_depth:', best_depth)\n",
    "print('best_est:', best_est)\n",
    "print('best F1:', best_result_est)\n",
    "print ('AUC_ROC:', best_auc_roc)"
   ]
  },
  {
   "cell_type": "markdown",
   "metadata": {},
   "source": [
    "### Train a logistic regression model"
   ]
  },
  {
   "cell_type": "code",
   "execution_count": 16,
   "metadata": {},
   "outputs": [
    {
     "name": "stdout",
     "output_type": "stream",
     "text": [
      "F1: 0.30845771144278605\n",
      "AUC_ROC: 0.7776492575072277\n"
     ]
    }
   ],
   "source": [
    "model = LogisticRegression(random_state=12345, solver='liblinear', class_weight=None)\n",
    "model.fit(features_train, target_train)\n",
    "predicted_valid = model.predict(features_valid)\n",
    "print(\"F1:\", f1_score(target_valid, predicted_valid))\n",
    "\n",
    "probabilities_valid = model.predict_proba(features_valid)\n",
    "probabilities_one_valid = probabilities_valid[:, 1]\n",
    "\n",
    "auc_roc = roc_auc_score(target_valid, probabilities_one_valid)\n",
    "print ('AUC_ROC:', auc_roc)"
   ]
  },
  {
   "cell_type": "markdown",
   "metadata": {},
   "source": [
    "### Brief conclusion"
   ]
  },
  {
   "cell_type": "markdown",
   "metadata": {},
   "source": [
    "- Based on the error matrix built on the decision tree model, we can conclude that our data is unbalanced. The maximum value of the F1-measure was achieved on a random forest model. At the same time, the value of the F1-measure is 0.56, which is lower than the required value (0.59).\n",
    "- F1-measure on the logistic regression model proved to be even worse than the random tree and random forest models, and is equal to 0.33.\n",
    "- Based on the results of the study, we can conclude that the balancing of classes is necessary."
   ]
  },
  {
   "cell_type": "markdown",
   "metadata": {},
   "source": [
    "## Fighting imbalance"
   ]
  },
  {
   "cell_type": "markdown",
   "metadata": {},
   "source": [
    "### Increase the sample"
   ]
  },
  {
   "cell_type": "code",
   "execution_count": 17,
   "metadata": {},
   "outputs": [
    {
     "data": {
      "text/plain": [
       "1    4504\n",
       "0    4328\n",
       "Name: Exited, dtype: int64"
      ]
     },
     "execution_count": 17,
     "metadata": {},
     "output_type": "execute_result"
    }
   ],
   "source": [
    "def upsample(features, target, repeat):\n",
    "    features_zeros = features[target == 0]\n",
    "    features_ones = features[target == 1]\n",
    "    target_zeros = target[target == 0]\n",
    "    target_ones = target[target == 1]\n",
    "    features_upsampled = pd.concat([features_zeros] + [features_ones] * repeat)\n",
    "    target_upsampled = pd.concat([target_zeros] + [target_ones] * repeat)\n",
    "    features_upsampled, target_upsampled = shuffle(\n",
    "        features_upsampled, target_upsampled, random_state=12345)\n",
    "    return features_upsampled, target_upsampled   \n",
    "\n",
    "features_upsampled, target_upsampled = upsample(features_train, target_train, 4)\n",
    "target_upsampled.value_counts()"
   ]
  },
  {
   "cell_type": "markdown",
   "metadata": {},
   "source": [
    "#### Check the Decision Tree Model"
   ]
  },
  {
   "cell_type": "code",
   "execution_count": 18,
   "metadata": {},
   "outputs": [
    {
     "name": "stdout",
     "output_type": "stream",
     "text": [
      "F1-мера: 0.4566929133858268\n",
      "AUC_ROC: 0.6571755941287158\n"
     ]
    }
   ],
   "source": [
    "model = DecisionTreeClassifier(random_state=12345)\n",
    "model.fit(features_upsampled, target_upsampled)\n",
    "predicted_valid = model.predict(features_valid)\n",
    "print ('F1-мера:', f1_score(target_valid, predicted_valid))\n",
    "\n",
    "probabilities_valid = model.predict_proba(features_valid)\n",
    "probabilities_one_valid = probabilities_valid[:, 1]\n",
    "\n",
    "auc_roc = roc_auc_score(target_valid, probabilities_one_valid)\n",
    "print ('AUC_ROC:', auc_roc)"
   ]
  },
  {
   "cell_type": "markdown",
   "metadata": {},
   "source": [
    "#### Check the Random Forest Model"
   ]
  },
  {
   "cell_type": "code",
   "execution_count": 19,
   "metadata": {},
   "outputs": [
    {
     "name": "stdout",
     "output_type": "stream",
     "text": [
      "F1-мера: 0.5987025023169603\n",
      "AUC_ROC: 0.8524064246471991\n"
     ]
    }
   ],
   "source": [
    "model = RandomForestClassifier(random_state=12345, n_estimators=best_est, max_depth=best_depth)\n",
    "model.fit(features_upsampled, target_upsampled)\n",
    "predicted_valid = model.predict(features_valid)\n",
    "print ('F1-мера:', f1_score(target_valid, predicted_valid))\n",
    "\n",
    "probabilities_valid = model.predict_proba(features_valid)\n",
    "probabilities_one_valid = probabilities_valid[:, 1]\n",
    "\n",
    "auc_roc = roc_auc_score(target_valid, probabilities_one_valid)\n",
    "print ('AUC_ROC:', auc_roc)"
   ]
  },
  {
   "cell_type": "markdown",
   "metadata": {},
   "source": [
    "#### Check the logistic regression model"
   ]
  },
  {
   "cell_type": "code",
   "execution_count": 20,
   "metadata": {},
   "outputs": [
    {
     "name": "stdout",
     "output_type": "stream",
     "text": [
      "F1: 0.5143721633888049\n",
      "AUC_ROC: 0.7817405572826801\n"
     ]
    }
   ],
   "source": [
    "model = LogisticRegression(random_state=12345, solver='liblinear')\n",
    "model.fit(features_upsampled, target_upsampled)\n",
    "predicted_valid = model.predict(features_valid)\n",
    "print(\"F1:\", f1_score(target_valid, predicted_valid))\n",
    "\n",
    "probabilities_valid = model.predict_proba(features_valid)\n",
    "probabilities_one_valid = probabilities_valid[:, 1]\n",
    "\n",
    "auc_roc = roc_auc_score(target_valid, probabilities_one_valid)\n",
    "print ('AUC_ROC:', auc_roc)"
   ]
  },
  {
   "cell_type": "markdown",
   "metadata": {},
   "source": [
    "- The magnification factor was set to 4, thus getting rid of the imbalance. Now we have values 0 - 4804, values 1 - 4784, which are almost identical to each other.\n",
    "- The random forest model showed an F1 value of 0.612, which is higher than the specified 0.59."
   ]
  },
  {
   "cell_type": "markdown",
   "metadata": {},
   "source": [
    "### Reduce the sample"
   ]
  },
  {
   "cell_type": "code",
   "execution_count": 21,
   "metadata": {},
   "outputs": [
    {
     "data": {
      "text/plain": [
       "1    1126\n",
       "0    1082\n",
       "Name: Exited, dtype: int64"
      ]
     },
     "execution_count": 21,
     "metadata": {},
     "output_type": "execute_result"
    }
   ],
   "source": [
    "def downsample(features, target, fraction):\n",
    "    features_zeros = features[target == 0]\n",
    "    features_ones = features[target == 1]\n",
    "    target_zeros = target[target == 0]\n",
    "    target_ones = target[target == 1]\n",
    "    features_downsampled = pd.concat(\n",
    "        [features_zeros.sample(frac=fraction, random_state=12345)] + [features_ones])\n",
    "    target_downsampled = pd.concat(\n",
    "        [target_zeros.sample(frac=fraction, random_state=12345)] + [target_ones])\n",
    "    features_downsampled, target_downsampled = shuffle(\n",
    "        features_downsampled, target_downsampled, random_state=12345)\n",
    "    return features_downsampled, target_downsampled\n",
    "\n",
    "features_downsampled, target_downsampled = downsample(features_train, target_train, 0.25)\n",
    "target_downsampled.value_counts()"
   ]
  },
  {
   "cell_type": "markdown",
   "metadata": {},
   "source": [
    "#### Check the Decision Tree Model"
   ]
  },
  {
   "cell_type": "code",
   "execution_count": 22,
   "metadata": {},
   "outputs": [
    {
     "name": "stdout",
     "output_type": "stream",
     "text": [
      "F1: 0.50936329588015\n",
      "AUC_ROC: 0.7198055287627085\n"
     ]
    }
   ],
   "source": [
    "model = DecisionTreeClassifier(random_state=12345)\n",
    "model.fit(features_downsampled, target_downsampled)\n",
    "predicted_valid = model.predict(features_valid)\n",
    "print ('F1:', f1_score(target_valid, predicted_valid))\n",
    "\n",
    "probabilities_valid = model.predict_proba(features_valid)\n",
    "probabilities_one_valid = probabilities_valid[:, 1]\n",
    "\n",
    "auc_roc = roc_auc_score(target_valid, probabilities_one_valid)\n",
    "print ('AUC_ROC:', auc_roc)"
   ]
  },
  {
   "cell_type": "markdown",
   "metadata": {},
   "source": [
    "#### Check the Random Forest Model"
   ]
  },
  {
   "cell_type": "code",
   "execution_count": 23,
   "metadata": {
    "scrolled": true
   },
   "outputs": [
    {
     "name": "stdout",
     "output_type": "stream",
     "text": [
      "F1: 0.5607779578606158\n",
      "AUC_ROC: 0.8477784139744658\n"
     ]
    }
   ],
   "source": [
    "model = RandomForestClassifier(random_state=12345, n_estimators=best_est, max_depth=best_depth)\n",
    "model.fit(features_downsampled, target_downsampled)\n",
    "predicted_valid = model.predict(features_valid)\n",
    "print ('F1:', f1_score(target_valid, predicted_valid))\n",
    "\n",
    "probabilities_valid = model.predict_proba(features_valid)\n",
    "probabilities_one_valid = probabilities_valid[:, 1]\n",
    "\n",
    "auc_roc = roc_auc_score(target_valid, probabilities_one_valid)\n",
    "print ('AUC_ROC:', auc_roc)"
   ]
  },
  {
   "cell_type": "markdown",
   "metadata": {},
   "source": [
    "#### Check the logistic regression model"
   ]
  },
  {
   "cell_type": "code",
   "execution_count": 24,
   "metadata": {},
   "outputs": [
    {
     "name": "stdout",
     "output_type": "stream",
     "text": [
      "F1: 0.5101275318829708\n",
      "AUC_ROC: 0.7814216049833416\n"
     ]
    }
   ],
   "source": [
    "model = LogisticRegression(random_state=12345, solver='liblinear')\n",
    "model.fit(features_downsampled, target_downsampled)\n",
    "predicted_valid = model.predict(features_valid)\n",
    "print(\"F1:\", f1_score(target_valid, predicted_valid))\n",
    "\n",
    "probabilities_valid = model.predict_proba(features_valid)\n",
    "probabilities_one_valid = probabilities_valid[:, 1]\n",
    "\n",
    "auc_roc = roc_auc_score(target_valid, probabilities_one_valid)\n",
    "print ('AUC_ROC:', auc_roc)"
   ]
  },
  {
   "cell_type": "markdown",
   "metadata": {},
   "source": [
    "A reduction factor of 0.25 removed the imbalance from the data."
   ]
  },
  {
   "cell_type": "markdown",
   "metadata": {},
   "source": [
    "### Check the variant without changing the sample size, but with class balancing"
   ]
  },
  {
   "cell_type": "markdown",
   "metadata": {},
   "source": [
    "#### Decision tree"
   ]
  },
  {
   "cell_type": "code",
   "execution_count": 25,
   "metadata": {},
   "outputs": [
    {
     "name": "stdout",
     "output_type": "stream",
     "text": [
      "F1: 0.4590909090909091\n",
      "AUC_ROC: 0.6583777496826488\n"
     ]
    }
   ],
   "source": [
    "model = DecisionTreeClassifier(random_state=12345, class_weight='balanced')\n",
    "model.fit(features_train, target_train)\n",
    "predicted_valid = model.predict(features_valid)\n",
    "print ('F1:', f1_score(target_valid, predicted_valid))\n",
    "\n",
    "probabilities_valid = model.predict_proba(features_valid)\n",
    "probabilities_one_valid = probabilities_valid[:, 1]\n",
    "\n",
    "auc_roc = roc_auc_score(target_valid, probabilities_one_valid)\n",
    "print ('AUC_ROC:', auc_roc)"
   ]
  },
  {
   "cell_type": "markdown",
   "metadata": {},
   "source": [
    "#### Random forest"
   ]
  },
  {
   "cell_type": "code",
   "execution_count": 26,
   "metadata": {},
   "outputs": [
    {
     "name": "stdout",
     "output_type": "stream",
     "text": [
      "F1: 0.6137787056367432\n",
      "AUC_ROC: 0.8605505962102319\n"
     ]
    }
   ],
   "source": [
    "model = RandomForestClassifier(random_state=12345, n_estimators=best_est, max_depth=best_depth, class_weight='balanced')\n",
    "model.fit(features_train, target_train)\n",
    "predicted_valid = model.predict(features_valid)\n",
    "print ('F1:', f1_score(target_valid, predicted_valid))\n",
    "\n",
    "probabilities_valid = model.predict_proba(features_valid)\n",
    "probabilities_one_valid = probabilities_valid[:, 1]\n",
    "\n",
    "auc_roc = roc_auc_score(target_valid, probabilities_one_valid)\n",
    "print ('AUC_ROC:', auc_roc)"
   ]
  },
  {
   "cell_type": "markdown",
   "metadata": {},
   "source": [
    "#### Logistic regression"
   ]
  },
  {
   "cell_type": "code",
   "execution_count": 27,
   "metadata": {},
   "outputs": [
    {
     "name": "stdout",
     "output_type": "stream",
     "text": [
      "F1: 0.515928515928516\n",
      "AUC_ROC: 0.7816419254471416\n"
     ]
    }
   ],
   "source": [
    "model = LogisticRegression(random_state=12345, solver='liblinear', class_weight='balanced')\n",
    "model.fit(features_train, target_train)\n",
    "predicted_valid = model.predict(features_valid)\n",
    "print(\"F1:\", f1_score(target_valid, predicted_valid))\n",
    "\n",
    "probabilities_valid = model.predict_proba(features_valid)\n",
    "probabilities_one_valid = probabilities_valid[:, 1]\n",
    "\n",
    "auc_roc = roc_auc_score(target_valid, probabilities_one_valid)\n",
    "print ('AUC_ROC:', auc_roc)"
   ]
  },
  {
   "cell_type": "markdown",
   "metadata": {},
   "source": [
    "Class balancing proved to be the best option."
   ]
  },
  {
   "cell_type": "markdown",
   "metadata": {},
   "source": [
    "### The best model and result of the fight against imbalance"
   ]
  },
  {
   "cell_type": "markdown",
   "metadata": {},
   "source": [
    "- Balancing turned out to be the best option to deal with the imbalance, the option with increasing the sample also gave a good result, but lower than balancing. The variant with a smaller sample showed a poor result.\n",
    "- The best model for our data was the Random Forest model, with class balancing, it showed an F1-measure of 0.65, which is above the given threshold value of 0.59.\n",
    "- Decision tree and logistic regression models did not perform well even after up/down samples."
   ]
  },
  {
   "cell_type": "markdown",
   "metadata": {},
   "source": [
    "### Build a ROC curve"
   ]
  },
  {
   "cell_type": "code",
   "execution_count": 33,
   "metadata": {},
   "outputs": [
    {
     "data": {
      "text/plain": [
       "<Figure size 432x288 with 0 Axes>"
      ]
     },
     "metadata": {},
     "output_type": "display_data"
    },
    {
     "data": {
      "image/png": "[encoded data removed]",
      "text/plain": [
       "<Figure size 648x504 with 1 Axes>"
      ]
     },
     "metadata": {
      "needs_background": "light"
     },
     "output_type": "display_data"
    }
   ],
   "source": [
    "model = RandomForestClassifier(random_state=12345, n_estimators=best_est, max_depth=best_depth, class_weight='balanced')\n",
    "model.fit(features_train, target_train)\n",
    "\n",
    "probabilities_valid = model.predict_proba(features_valid)\n",
    "probabilities_one_valid = probabilities_valid[:, 1]\n",
    "\n",
    "fpr, tpr, thresholds = roc_curve(target_valid, probabilities_one_valid)\n",
    "plt.figure()\n",
    "plt.figure(figsize=(9,7))\n",
    "\n",
    "# ROC curve of a random model (looks like a straight line)\n",
    "plt.plot([0, 1], [0, 1], linestyle='--')\n",
    "\n",
    "plt.plot(fpr, tpr)\n",
    "plt.xlim([0.0, 1.0])\n",
    "plt.ylim([0.0, 1.0])\n",
    "plt.xlabel('False Positive Rate')\n",
    "plt.ylabel('True Positive Rate')\n",
    "plt.title('ROC-curve')\n",
    "plt.grid(True)\n",
    "plt.show() \n",
    "\n"
   ]
  },
  {
   "cell_type": "markdown",
   "metadata": {},
   "source": [
    "## Model testing"
   ]
  },
  {
   "cell_type": "markdown",
   "metadata": {},
   "source": [
    "### Study the work of our model on a test sample"
   ]
  },
  {
   "cell_type": "code",
   "execution_count": 29,
   "metadata": {},
   "outputs": [
    {
     "name": "stdout",
     "output_type": "stream",
     "text": [
      "F1: 0.61\n",
      "AUC_ROC: 0.8488259486494274\n"
     ]
    }
   ],
   "source": [
    "model = RandomForestClassifier(random_state=12345, n_estimators=best_est, max_depth=best_depth, class_weight='balanced')\n",
    "model.fit(features_train, target_train)\n",
    "predicted_test = model.predict(features_test)\n",
    "print ('F1:', round (f1_score(target_test, predicted_test), 2))\n",
    "\n",
    "probabilities_test = model.predict_proba(features_test)\n",
    "probabilities_one_test = probabilities_test[:, 1]\n",
    "\n",
    "auc_roc = roc_auc_score(target_test, probabilities_one_test)\n",
    "print ('AUC_ROC:', auc_roc)"
   ]
  },
  {
   "cell_type": "markdown",
   "metadata": {},
   "source": [
    "The model passed the test."
   ]
  },
  {
   "cell_type": "markdown",
   "metadata": {},
   "source": [
    "### Let's compare our model with a simple classifier"
   ]
  },
  {
   "cell_type": "code",
   "execution_count": 30,
   "metadata": {},
   "outputs": [
    {
     "name": "stdout",
     "output_type": "stream",
     "text": [
      "F1-: 0.32\n"
     ]
    }
   ],
   "source": [
    "model = DummyClassifier(strategy='constant', constant=1)\n",
    "model.fit(features_train, target_train)\n",
    "predicted_test = model.predict(features_test)\n",
    "print ('F1-:', round(f1_score(target_test, predicted_test),2))"
   ]
  },
  {
   "cell_type": "markdown",
   "metadata": {},
   "source": [
    "In terms of F1, our model outperforms the simple classifier pretty well."
   ]
  },
  {
   "cell_type": "markdown",
   "metadata": {},
   "source": [
    "## Feature Importance"
   ]
  },
  {
   "cell_type": "markdown",
   "metadata": {},
   "source": [
    "### Let's consider the importance of features by its decrease"
   ]
  },
  {
   "cell_type": "code",
   "execution_count": 31,
   "metadata": {
    "scrolled": true
   },
   "outputs": [
    {
     "data": {
      "text/html": [
       "<div>\n",
       "<style scoped>\n",
       "    .dataframe tbody tr th:only-of-type {\n",
       "        vertical-align: middle;\n",
       "    }\n",
       "\n",
       "    .dataframe tbody tr th {\n",
       "        vertical-align: top;\n",
       "    }\n",
       "\n",
       "    .dataframe thead th {\n",
       "        text-align: right;\n",
       "    }\n",
       "</style>\n",
       "<table border=\"1\" class=\"dataframe\">\n",
       "  <thead>\n",
       "    <tr style=\"text-align: right;\">\n",
       "      <th></th>\n",
       "      <th>feature</th>\n",
       "      <th>importance</th>\n",
       "    </tr>\n",
       "  </thead>\n",
       "  <tbody>\n",
       "    <tr>\n",
       "      <th>0</th>\n",
       "      <td>Age</td>\n",
       "      <td>0.316282</td>\n",
       "    </tr>\n",
       "    <tr>\n",
       "      <th>1</th>\n",
       "      <td>NumOfProducts</td>\n",
       "      <td>0.218115</td>\n",
       "    </tr>\n",
       "    <tr>\n",
       "      <th>2</th>\n",
       "      <td>Balance</td>\n",
       "      <td>0.121649</td>\n",
       "    </tr>\n",
       "    <tr>\n",
       "      <th>3</th>\n",
       "      <td>CreditScore</td>\n",
       "      <td>0.080760</td>\n",
       "    </tr>\n",
       "    <tr>\n",
       "      <th>4</th>\n",
       "      <td>EstimatedSalary</td>\n",
       "      <td>0.073306</td>\n",
       "    </tr>\n",
       "    <tr>\n",
       "      <th>5</th>\n",
       "      <td>Geography_Germany</td>\n",
       "      <td>0.054930</td>\n",
       "    </tr>\n",
       "    <tr>\n",
       "      <th>6</th>\n",
       "      <td>IsActiveMember</td>\n",
       "      <td>0.050358</td>\n",
       "    </tr>\n",
       "    <tr>\n",
       "      <th>7</th>\n",
       "      <td>Tenure</td>\n",
       "      <td>0.045190</td>\n",
       "    </tr>\n",
       "    <tr>\n",
       "      <th>8</th>\n",
       "      <td>Gender_Male</td>\n",
       "      <td>0.023002</td>\n",
       "    </tr>\n",
       "    <tr>\n",
       "      <th>9</th>\n",
       "      <td>HasCrCard</td>\n",
       "      <td>0.008335</td>\n",
       "    </tr>\n",
       "    <tr>\n",
       "      <th>10</th>\n",
       "      <td>Geography_Spain</td>\n",
       "      <td>0.008073</td>\n",
       "    </tr>\n",
       "  </tbody>\n",
       "</table>\n",
       "</div>"
      ],
      "text/plain": [
       "              feature  importance\n",
       "0                 Age    0.316282\n",
       "1       NumOfProducts    0.218115\n",
       "2             Balance    0.121649\n",
       "3         CreditScore    0.080760\n",
       "4     EstimatedSalary    0.073306\n",
       "5   Geography_Germany    0.054930\n",
       "6      IsActiveMember    0.050358\n",
       "7              Tenure    0.045190\n",
       "8         Gender_Male    0.023002\n",
       "9           HasCrCard    0.008335\n",
       "10    Geography_Spain    0.008073"
      ]
     },
     "execution_count": 31,
     "metadata": {},
     "output_type": "execute_result"
    }
   ],
   "source": [
    "model = RandomForestClassifier(random_state=12345, n_estimators=best_est, max_depth=best_depth, class_weight='balanced')\n",
    "model.fit(features_train, target_train)\n",
    "importance = model.feature_importances_  \n",
    "feature_list = list(features_train.columns)  \n",
    "feature_results = pd.DataFrame({'feature': feature_list,'importance': importance})  \n",
    "feature_results = feature_results.sort_values('importance',ascending = False).reset_index(drop=True)  \n",
    "feature_results"
   ]
  },
  {
   "cell_type": "markdown",
   "metadata": {},
   "source": [
    "### Let's build a graph of the importance of features for clarity"
   ]
  },
  {
   "cell_type": "code",
   "execution_count": 32,
   "metadata": {
    "scrolled": false
   },
   "outputs": [
    {
     "data": {
      "text/plain": [
       "<Figure size 432x288 with 0 Axes>"
      ]
     },
     "metadata": {},
     "output_type": "display_data"
    },
    {
     "data": {
      "image/png": "[encoded data removed]",
      "text/plain": [
       "<Figure size 1080x720 with 1 Axes>"
      ]
     },
     "metadata": {
      "needs_background": "light"
     },
     "output_type": "display_data"
    }
   ],
   "source": [
    "plt.figure()\n",
    "plt.figure(figsize=(15,10))\n",
    "plt.bar([x for x in range(len(importance))], importance)\n",
    "plt.xlabel('features')\n",
    "plt.ylabel('importance')\n",
    "plt.title('Feature importance')\n",
    "plt.xticks(np.arange(11),feature_list, rotation=45)\n",
    "plt.show()"
   ]
  },
  {
   "cell_type": "markdown",
   "metadata": {},
   "source": [
    "The most important feature is the client's age, the second after it is the number of bank products used, and the most \"useless\" feature for the model is residence in Spain."
   ]
  },
  {
   "cell_type": "markdown",
   "metadata": {},
   "source": [
    "## General conclusion"
   ]
  },
  {
   "cell_type": "markdown",
   "metadata": {},
   "source": [
    "- We trained decision tree, random forest, and logistic regression models and found that the random forest model was the best fit for our data.\n",
    "- We brought the F1-measure higher than 0,59 so our model has pass the test.\n",
    "- The AUC-ROC metric on the test sample is high, which means that our classifier will be able to distinguish between positive and negative class values. This is because the classifier can detect more true positives and true negatives than false negatives and false positives.\n",
    "- In comparison with the simple classifier DummyClassifier, our model showed the best results in terms of the accuracy metric.\n",
    "- In addition, we analyzed the features by which the model makes predictions, and found that the most important feature is the client's age, the second after it is the number of bank products used, and the most \"useless\" feature for the model is residence in Spain."
   ]
  },
  {
   "cell_type": "code",
   "execution_count": null,
   "metadata": {},
   "outputs": [],
   "source": []
  }
 ],
 "metadata": {
  "ExecuteTimeLog": [
   {
    "duration": 51,
    "start_time": "2022-09-07T06:59:06.597Z"
   },
   {
    "duration": 1171,
    "start_time": "2022-09-07T06:59:09.343Z"
   },
   {
    "duration": 80,
    "start_time": "2022-09-07T06:59:10.516Z"
   },
   {
    "duration": 55,
    "start_time": "2022-09-07T06:59:30.336Z"
   },
   {
    "duration": 47,
    "start_time": "2022-09-07T07:12:15.867Z"
   },
   {
    "duration": 53,
    "start_time": "2022-09-07T07:12:28.086Z"
   },
   {
    "duration": 9,
    "start_time": "2022-09-07T07:14:32.603Z"
   },
   {
    "duration": 226,
    "start_time": "2022-09-07T07:22:58.367Z"
   },
   {
    "duration": 371,
    "start_time": "2022-09-07T07:23:26.565Z"
   },
   {
    "duration": 814,
    "start_time": "2022-09-07T07:26:32.536Z"
   },
   {
    "duration": 17,
    "start_time": "2022-09-07T07:26:45.994Z"
   },
   {
    "duration": 31,
    "start_time": "2022-09-07T07:26:52.573Z"
   },
   {
    "duration": 27,
    "start_time": "2022-09-07T07:28:49.596Z"
   },
   {
    "duration": 26,
    "start_time": "2022-09-07T07:28:54.694Z"
   },
   {
    "duration": 6,
    "start_time": "2022-09-07T07:30:33.180Z"
   },
   {
    "duration": 7,
    "start_time": "2022-09-07T07:34:15.348Z"
   },
   {
    "duration": 5,
    "start_time": "2022-09-07T07:35:18.206Z"
   },
   {
    "duration": 13,
    "start_time": "2022-09-07T07:36:22.915Z"
   },
   {
    "duration": 10,
    "start_time": "2022-09-07T07:36:40.504Z"
   },
   {
    "duration": 10,
    "start_time": "2022-09-07T08:12:44.414Z"
   },
   {
    "duration": 9,
    "start_time": "2022-09-07T08:12:58.072Z"
   },
   {
    "duration": 5,
    "start_time": "2022-09-07T08:13:09.002Z"
   },
   {
    "duration": 7,
    "start_time": "2022-09-07T08:25:02.461Z"
   },
   {
    "duration": 16,
    "start_time": "2022-09-07T08:25:07.987Z"
   },
   {
    "duration": 14,
    "start_time": "2022-09-07T08:25:27.488Z"
   },
   {
    "duration": 14,
    "start_time": "2022-09-07T08:25:41.509Z"
   },
   {
    "duration": 4,
    "start_time": "2022-09-07T08:25:48.459Z"
   },
   {
    "duration": 81,
    "start_time": "2022-09-07T08:25:48.465Z"
   },
   {
    "duration": 6,
    "start_time": "2022-09-07T08:25:48.548Z"
   },
   {
    "duration": 28,
    "start_time": "2022-09-07T08:25:50.178Z"
   },
   {
    "duration": 13,
    "start_time": "2022-09-07T08:25:55.043Z"
   },
   {
    "duration": 3,
    "start_time": "2022-09-07T08:26:02.922Z"
   },
   {
    "duration": 76,
    "start_time": "2022-09-07T08:26:02.927Z"
   },
   {
    "duration": 5,
    "start_time": "2022-09-07T08:26:03.005Z"
   },
   {
    "duration": 31,
    "start_time": "2022-09-07T08:26:04.559Z"
   },
   {
    "duration": 3,
    "start_time": "2022-09-07T08:26:30.495Z"
   },
   {
    "duration": 76,
    "start_time": "2022-09-07T08:26:30.501Z"
   },
   {
    "duration": 5,
    "start_time": "2022-09-07T08:26:30.579Z"
   },
   {
    "duration": 34,
    "start_time": "2022-09-07T08:26:30.586Z"
   },
   {
    "duration": 29,
    "start_time": "2022-09-07T08:26:30.622Z"
   },
   {
    "duration": 11,
    "start_time": "2022-09-07T08:26:30.653Z"
   },
   {
    "duration": 21,
    "start_time": "2022-09-07T08:26:30.665Z"
   },
   {
    "duration": 27,
    "start_time": "2022-09-07T08:26:30.688Z"
   },
   {
    "duration": 22,
    "start_time": "2022-09-07T08:26:30.717Z"
   },
   {
    "duration": 26,
    "start_time": "2022-09-07T08:26:30.742Z"
   },
   {
    "duration": 12,
    "start_time": "2022-09-07T08:29:02.689Z"
   },
   {
    "duration": 48,
    "start_time": "2022-09-07T08:29:39.122Z"
   },
   {
    "duration": 21,
    "start_time": "2022-09-07T08:30:13.481Z"
   },
   {
    "duration": 4,
    "start_time": "2022-09-07T08:31:03.673Z"
   },
   {
    "duration": 75,
    "start_time": "2022-09-07T08:31:03.679Z"
   },
   {
    "duration": 6,
    "start_time": "2022-09-07T08:31:03.755Z"
   },
   {
    "duration": 37,
    "start_time": "2022-09-07T08:31:03.762Z"
   },
   {
    "duration": 22,
    "start_time": "2022-09-07T08:31:03.802Z"
   },
   {
    "duration": 5,
    "start_time": "2022-09-07T08:31:03.826Z"
   },
   {
    "duration": 15,
    "start_time": "2022-09-07T08:31:03.833Z"
   },
   {
    "duration": 15,
    "start_time": "2022-09-07T08:31:03.850Z"
   },
   {
    "duration": 5,
    "start_time": "2022-09-07T08:31:03.868Z"
   },
   {
    "duration": 62,
    "start_time": "2022-09-07T08:31:03.875Z"
   },
   {
    "duration": 18,
    "start_time": "2022-09-07T08:31:14.659Z"
   },
   {
    "duration": 30,
    "start_time": "2022-09-07T08:31:32.840Z"
   },
   {
    "duration": 16,
    "start_time": "2022-09-07T08:31:39.965Z"
   },
   {
    "duration": 14,
    "start_time": "2022-09-07T09:23:19.919Z"
   },
   {
    "duration": 3,
    "start_time": "2022-09-07T09:23:28.147Z"
   },
   {
    "duration": 56,
    "start_time": "2022-09-07T09:23:28.152Z"
   },
   {
    "duration": 5,
    "start_time": "2022-09-07T09:23:28.210Z"
   },
   {
    "duration": 29,
    "start_time": "2022-09-07T09:23:28.216Z"
   },
   {
    "duration": 13,
    "start_time": "2022-09-07T09:23:30.170Z"
   },
   {
    "duration": 1090,
    "start_time": "2022-09-07T09:23:51.821Z"
   },
   {
    "duration": 78,
    "start_time": "2022-09-07T09:23:52.913Z"
   },
   {
    "duration": 9,
    "start_time": "2022-09-07T09:23:52.992Z"
   },
   {
    "duration": 33,
    "start_time": "2022-09-07T09:23:53.004Z"
   },
   {
    "duration": 114,
    "start_time": "2022-09-07T09:23:55.948Z"
   },
   {
    "duration": 9,
    "start_time": "2022-09-07T09:24:09.396Z"
   },
   {
    "duration": 10,
    "start_time": "2022-09-07T09:26:12.616Z"
   },
   {
    "duration": 10,
    "start_time": "2022-09-07T09:26:43.964Z"
   },
   {
    "duration": 9,
    "start_time": "2022-09-07T09:27:32.535Z"
   },
   {
    "duration": 9,
    "start_time": "2022-09-07T09:27:39.886Z"
   },
   {
    "duration": 9,
    "start_time": "2022-09-07T09:27:45.356Z"
   },
   {
    "duration": 9,
    "start_time": "2022-09-07T09:30:15.672Z"
   },
   {
    "duration": 3,
    "start_time": "2022-09-07T09:30:42.475Z"
   },
   {
    "duration": 54,
    "start_time": "2022-09-07T09:30:44.290Z"
   },
   {
    "duration": 6,
    "start_time": "2022-09-07T09:30:46.783Z"
   },
   {
    "duration": 23,
    "start_time": "2022-09-07T09:30:49.257Z"
   },
   {
    "duration": 16,
    "start_time": "2022-09-07T09:30:52.798Z"
   },
   {
    "duration": 15,
    "start_time": "2022-09-07T09:30:58.280Z"
   },
   {
    "duration": 1135,
    "start_time": "2022-09-07T09:31:20.679Z"
   },
   {
    "duration": 57,
    "start_time": "2022-09-07T09:31:21.816Z"
   },
   {
    "duration": 11,
    "start_time": "2022-09-07T09:31:21.875Z"
   },
   {
    "duration": 40,
    "start_time": "2022-09-07T09:31:21.888Z"
   },
   {
    "duration": 24,
    "start_time": "2022-09-07T09:31:21.931Z"
   },
   {
    "duration": 27,
    "start_time": "2022-09-07T09:31:34.470Z"
   },
   {
    "duration": 7,
    "start_time": "2022-09-07T09:31:36.554Z"
   },
   {
    "duration": 7,
    "start_time": "2022-09-07T09:31:38.786Z"
   },
   {
    "duration": 7,
    "start_time": "2022-09-07T09:31:39.642Z"
   },
   {
    "duration": 5,
    "start_time": "2022-09-07T09:31:40.474Z"
   },
   {
    "duration": 49,
    "start_time": "2022-09-07T09:31:43.958Z"
   },
   {
    "duration": 10,
    "start_time": "2022-09-07T09:35:57.834Z"
   },
   {
    "duration": 39,
    "start_time": "2022-09-07T09:43:39.344Z"
   },
   {
    "duration": 43,
    "start_time": "2022-09-07T09:44:20.234Z"
   },
   {
    "duration": 4,
    "start_time": "2022-09-07T09:53:38.039Z"
   },
   {
    "duration": 33,
    "start_time": "2022-09-07T09:53:43.669Z"
   },
   {
    "duration": 3,
    "start_time": "2022-09-07T09:54:38.009Z"
   },
   {
    "duration": 33,
    "start_time": "2022-09-07T09:55:21.931Z"
   },
   {
    "duration": 116,
    "start_time": "2022-09-07T09:56:32.371Z"
   },
   {
    "duration": 3,
    "start_time": "2022-09-07T09:57:10.673Z"
   },
   {
    "duration": 5,
    "start_time": "2022-09-07T09:57:16.241Z"
   },
   {
    "duration": 36,
    "start_time": "2022-09-07T10:07:46.985Z"
   },
   {
    "duration": 6,
    "start_time": "2022-09-07T10:11:11.288Z"
   },
   {
    "duration": 35,
    "start_time": "2022-09-07T10:11:14.601Z"
   },
   {
    "duration": 60,
    "start_time": "2022-09-07T10:11:21.593Z"
   },
   {
    "duration": 42,
    "start_time": "2022-09-07T10:22:28.990Z"
   },
   {
    "duration": 13,
    "start_time": "2022-09-07T10:30:37.344Z"
   },
   {
    "duration": 98,
    "start_time": "2022-09-07T10:32:43.298Z"
   },
   {
    "duration": 27,
    "start_time": "2022-09-07T10:32:57.231Z"
   },
   {
    "duration": 950,
    "start_time": "2022-09-07T10:34:10.933Z"
   },
   {
    "duration": 7337,
    "start_time": "2022-09-07T10:35:14.966Z"
   },
   {
    "duration": 983,
    "start_time": "2022-09-07T10:35:33.749Z"
   },
   {
    "duration": 15834,
    "start_time": "2022-09-07T10:35:42.427Z"
   },
   {
    "duration": 4393,
    "start_time": "2022-09-07T10:36:06.697Z"
   },
   {
    "duration": 4350,
    "start_time": "2022-09-07T10:37:08.938Z"
   },
   {
    "duration": 4354,
    "start_time": "2022-09-07T10:37:47.326Z"
   },
   {
    "duration": 4117,
    "start_time": "2022-09-07T10:38:19.709Z"
   },
   {
    "duration": 13,
    "start_time": "2022-09-07T11:04:43.396Z"
   },
   {
    "duration": 4,
    "start_time": "2022-09-07T11:04:47.607Z"
   },
   {
    "duration": 80,
    "start_time": "2022-09-07T11:04:47.614Z"
   },
   {
    "duration": 18,
    "start_time": "2022-09-07T11:04:47.697Z"
   },
   {
    "duration": 37,
    "start_time": "2022-09-07T11:04:47.718Z"
   },
   {
    "duration": 41,
    "start_time": "2022-09-07T11:04:47.757Z"
   },
   {
    "duration": 51,
    "start_time": "2022-09-07T11:04:47.800Z"
   },
   {
    "duration": 29,
    "start_time": "2022-09-07T11:04:47.853Z"
   },
   {
    "duration": 34,
    "start_time": "2022-09-07T11:04:47.884Z"
   },
   {
    "duration": 15,
    "start_time": "2022-09-07T11:04:47.920Z"
   },
   {
    "duration": 26,
    "start_time": "2022-09-07T11:04:47.937Z"
   },
   {
    "duration": 38,
    "start_time": "2022-09-07T11:04:47.964Z"
   },
   {
    "duration": 71,
    "start_time": "2022-09-07T11:04:48.006Z"
   },
   {
    "duration": 47,
    "start_time": "2022-09-07T11:04:48.079Z"
   },
   {
    "duration": 38,
    "start_time": "2022-09-07T11:04:48.127Z"
   },
   {
    "duration": 4609,
    "start_time": "2022-09-07T11:04:48.166Z"
   },
   {
    "duration": 34,
    "start_time": "2022-09-07T11:04:52.777Z"
   },
   {
    "duration": 109,
    "start_time": "2022-09-07T11:05:00.294Z"
   },
   {
    "duration": 4,
    "start_time": "2022-09-07T11:13:53.626Z"
   },
   {
    "duration": 5,
    "start_time": "2022-09-07T11:14:39.046Z"
   },
   {
    "duration": 16,
    "start_time": "2022-09-07T11:14:53.960Z"
   },
   {
    "duration": 12,
    "start_time": "2022-09-07T11:15:09.198Z"
   },
   {
    "duration": 118,
    "start_time": "2022-09-07T11:15:39.193Z"
   },
   {
    "duration": 18,
    "start_time": "2022-09-07T11:16:05.527Z"
   },
   {
    "duration": 3,
    "start_time": "2022-09-07T11:16:18.191Z"
   },
   {
    "duration": 14,
    "start_time": "2022-09-07T11:33:06.647Z"
   },
   {
    "duration": 14,
    "start_time": "2022-09-07T11:33:33.453Z"
   },
   {
    "duration": 4,
    "start_time": "2022-09-07T11:33:39.234Z"
   },
   {
    "duration": 62,
    "start_time": "2022-09-07T11:33:39.241Z"
   },
   {
    "duration": 14,
    "start_time": "2022-09-07T11:33:39.305Z"
   },
   {
    "duration": 5,
    "start_time": "2022-09-07T11:33:39.321Z"
   },
   {
    "duration": 23,
    "start_time": "2022-09-07T11:33:39.330Z"
   },
   {
    "duration": 49,
    "start_time": "2022-09-07T11:33:39.354Z"
   },
   {
    "duration": 22,
    "start_time": "2022-09-07T11:33:39.405Z"
   },
   {
    "duration": 6,
    "start_time": "2022-09-07T11:33:39.429Z"
   },
   {
    "duration": 12,
    "start_time": "2022-09-07T11:33:39.436Z"
   },
   {
    "duration": 10,
    "start_time": "2022-09-07T11:33:39.451Z"
   },
   {
    "duration": 5,
    "start_time": "2022-09-07T11:33:39.464Z"
   },
   {
    "duration": 44,
    "start_time": "2022-09-07T11:33:39.504Z"
   },
   {
    "duration": 35,
    "start_time": "2022-09-07T11:33:39.550Z"
   },
   {
    "duration": 38,
    "start_time": "2022-09-07T11:33:39.602Z"
   },
   {
    "duration": 4424,
    "start_time": "2022-09-07T11:33:39.642Z"
   },
   {
    "duration": 22,
    "start_time": "2022-09-07T11:33:44.068Z"
   },
   {
    "duration": 116,
    "start_time": "2022-09-07T11:34:01.287Z"
   },
   {
    "duration": 29,
    "start_time": "2022-09-07T11:34:19.389Z"
   },
   {
    "duration": 73,
    "start_time": "2022-09-07T11:45:46.350Z"
   },
   {
    "duration": 5,
    "start_time": "2022-09-07T11:48:34.820Z"
   },
   {
    "duration": 8,
    "start_time": "2022-09-07T11:48:52.298Z"
   },
   {
    "duration": 15,
    "start_time": "2022-09-07T11:49:11.217Z"
   },
   {
    "duration": 44,
    "start_time": "2022-09-07T11:50:04.489Z"
   },
   {
    "duration": 90,
    "start_time": "2022-09-07T11:51:16.396Z"
   },
   {
    "duration": 57,
    "start_time": "2022-09-07T11:51:49.988Z"
   },
   {
    "duration": 70,
    "start_time": "2022-09-07T11:51:51.953Z"
   },
   {
    "duration": 114,
    "start_time": "2022-09-07T11:51:58.684Z"
   },
   {
    "duration": 6,
    "start_time": "2022-09-07T11:52:07.538Z"
   },
   {
    "duration": 87,
    "start_time": "2022-09-07T11:52:07.546Z"
   },
   {
    "duration": 13,
    "start_time": "2022-09-07T11:52:07.635Z"
   },
   {
    "duration": 8,
    "start_time": "2022-09-07T11:52:07.650Z"
   },
   {
    "duration": 49,
    "start_time": "2022-09-07T11:52:07.659Z"
   },
   {
    "duration": 47,
    "start_time": "2022-09-07T11:52:07.715Z"
   },
   {
    "duration": 34,
    "start_time": "2022-09-07T11:52:07.764Z"
   },
   {
    "duration": 18,
    "start_time": "2022-09-07T11:52:07.800Z"
   },
   {
    "duration": 24,
    "start_time": "2022-09-07T11:52:07.819Z"
   },
   {
    "duration": 30,
    "start_time": "2022-09-07T11:52:07.845Z"
   },
   {
    "duration": 18,
    "start_time": "2022-09-07T11:52:07.877Z"
   },
   {
    "duration": 75,
    "start_time": "2022-09-07T11:52:07.896Z"
   },
   {
    "duration": 46,
    "start_time": "2022-09-07T11:52:07.973Z"
   },
   {
    "duration": 41,
    "start_time": "2022-09-07T11:52:08.021Z"
   },
   {
    "duration": 4650,
    "start_time": "2022-09-07T11:52:08.065Z"
   },
   {
    "duration": 88,
    "start_time": "2022-09-07T11:52:12.718Z"
   },
   {
    "duration": 117,
    "start_time": "2022-09-07T11:52:12.810Z"
   },
   {
    "duration": 51,
    "start_time": "2022-09-07T11:52:12.929Z"
   },
   {
    "duration": 130,
    "start_time": "2022-09-07T11:52:12.981Z"
   },
   {
    "duration": 39,
    "start_time": "2022-09-07T11:53:40.499Z"
   },
   {
    "duration": 10,
    "start_time": "2022-09-07T11:55:13.386Z"
   },
   {
    "duration": 53,
    "start_time": "2022-09-07T11:55:23.818Z"
   },
   {
    "duration": 16,
    "start_time": "2022-09-07T11:55:36.240Z"
   },
   {
    "duration": 128,
    "start_time": "2022-09-07T11:55:47.439Z"
   },
   {
    "duration": 43,
    "start_time": "2022-09-07T11:55:54.222Z"
   },
   {
    "duration": 25,
    "start_time": "2022-09-07T11:56:20.500Z"
   },
   {
    "duration": 1187,
    "start_time": "2022-09-07T11:56:33.588Z"
   },
   {
    "duration": 62,
    "start_time": "2022-09-07T11:56:34.777Z"
   },
   {
    "duration": 17,
    "start_time": "2022-09-07T11:56:34.841Z"
   },
   {
    "duration": 4,
    "start_time": "2022-09-07T11:56:34.860Z"
   },
   {
    "duration": 40,
    "start_time": "2022-09-07T11:56:34.866Z"
   },
   {
    "duration": 17,
    "start_time": "2022-09-07T11:56:34.916Z"
   },
   {
    "duration": 20,
    "start_time": "2022-09-07T11:56:34.935Z"
   },
   {
    "duration": 5,
    "start_time": "2022-09-07T11:56:34.957Z"
   },
   {
    "duration": 8,
    "start_time": "2022-09-07T11:56:34.964Z"
   },
   {
    "duration": 5,
    "start_time": "2022-09-07T11:56:34.975Z"
   },
   {
    "duration": 5,
    "start_time": "2022-09-07T11:56:35.014Z"
   },
   {
    "duration": 38,
    "start_time": "2022-09-07T11:56:35.021Z"
   },
   {
    "duration": 43,
    "start_time": "2022-09-07T11:56:35.061Z"
   },
   {
    "duration": 40,
    "start_time": "2022-09-07T11:56:35.116Z"
   },
   {
    "duration": 4570,
    "start_time": "2022-09-07T11:56:35.158Z"
   },
   {
    "duration": 21,
    "start_time": "2022-09-07T11:56:39.730Z"
   },
   {
    "duration": 125,
    "start_time": "2022-09-07T11:56:39.808Z"
   },
   {
    "duration": 81,
    "start_time": "2022-09-07T11:56:39.934Z"
   },
   {
    "duration": 120,
    "start_time": "2022-09-07T11:56:40.020Z"
   },
   {
    "duration": 163,
    "start_time": "2022-09-07T11:56:40.142Z"
   },
   {
    "duration": 17,
    "start_time": "2022-09-07T11:56:40.307Z"
   },
   {
    "duration": 36,
    "start_time": "2022-09-07T11:56:40.326Z"
   },
   {
    "duration": 58,
    "start_time": "2022-09-07T11:56:40.365Z"
   },
   {
    "duration": 78,
    "start_time": "2022-09-07T11:56:40.425Z"
   },
   {
    "duration": 13,
    "start_time": "2022-09-07T11:59:30.181Z"
   },
   {
    "duration": 13,
    "start_time": "2022-09-07T11:59:49.789Z"
   },
   {
    "duration": 12,
    "start_time": "2022-09-07T12:00:02.083Z"
   },
   {
    "duration": 12,
    "start_time": "2022-09-07T12:00:09.418Z"
   },
   {
    "duration": 13,
    "start_time": "2022-09-07T12:00:18.554Z"
   },
   {
    "duration": 123,
    "start_time": "2022-09-07T12:01:30.740Z"
   },
   {
    "duration": 100,
    "start_time": "2022-09-07T12:01:37.011Z"
   },
   {
    "duration": 41,
    "start_time": "2022-09-07T12:01:53.588Z"
   },
   {
    "duration": 23,
    "start_time": "2022-09-07T12:05:45.632Z"
   },
   {
    "duration": 4,
    "start_time": "2022-09-07T12:06:13.573Z"
   },
   {
    "duration": 163,
    "start_time": "2022-09-07T12:06:19.571Z"
   },
   {
    "duration": 70,
    "start_time": "2022-09-07T12:09:45.538Z"
   },
   {
    "duration": 71,
    "start_time": "2022-09-07T12:09:50.674Z"
   },
   {
    "duration": 238,
    "start_time": "2022-09-07T12:09:54.801Z"
   },
   {
    "duration": 189,
    "start_time": "2022-09-07T12:10:15.347Z"
   },
   {
    "duration": 1519,
    "start_time": "2022-09-07T12:14:38.152Z"
   },
   {
    "duration": 1455,
    "start_time": "2022-09-07T12:14:46.470Z"
   },
   {
    "duration": 464,
    "start_time": "2022-09-07T12:14:56.941Z"
   },
   {
    "duration": 2851,
    "start_time": "2022-09-07T12:15:12.879Z"
   },
   {
    "duration": 14,
    "start_time": "2022-09-07T12:19:19.923Z"
   },
   {
    "duration": 16,
    "start_time": "2022-09-07T12:20:46.558Z"
   },
   {
    "duration": 25,
    "start_time": "2022-09-07T12:21:21.453Z"
   },
   {
    "duration": 14,
    "start_time": "2022-09-07T12:21:40.726Z"
   },
   {
    "duration": 14,
    "start_time": "2022-09-07T12:21:49.646Z"
   },
   {
    "duration": 14,
    "start_time": "2022-09-07T12:21:57.740Z"
   },
   {
    "duration": 15,
    "start_time": "2022-09-07T12:25:42.549Z"
   },
   {
    "duration": 41,
    "start_time": "2022-09-07T12:25:45.181Z"
   },
   {
    "duration": 94,
    "start_time": "2022-09-07T12:25:47.029Z"
   },
   {
    "duration": 31,
    "start_time": "2022-09-07T12:25:53.332Z"
   },
   {
    "duration": 15,
    "start_time": "2022-09-07T12:25:54.655Z"
   },
   {
    "duration": 15,
    "start_time": "2022-09-07T12:26:10.277Z"
   },
   {
    "duration": 16,
    "start_time": "2022-09-07T12:26:17.657Z"
   },
   {
    "duration": 17,
    "start_time": "2022-09-07T12:26:22.922Z"
   },
   {
    "duration": 13,
    "start_time": "2022-09-07T12:26:27.681Z"
   },
   {
    "duration": 23,
    "start_time": "2022-09-07T12:26:29.055Z"
   },
   {
    "duration": 44,
    "start_time": "2022-09-07T12:26:29.718Z"
   },
   {
    "duration": 18,
    "start_time": "2022-09-07T12:26:31.237Z"
   },
   {
    "duration": 15,
    "start_time": "2022-09-07T12:26:59.374Z"
   },
   {
    "duration": 40,
    "start_time": "2022-09-07T12:27:01.073Z"
   },
   {
    "duration": 78,
    "start_time": "2022-09-07T12:27:02.079Z"
   },
   {
    "duration": 110,
    "start_time": "2022-09-07T12:27:04.692Z"
   },
   {
    "duration": 13,
    "start_time": "2022-09-07T12:27:22.673Z"
   },
   {
    "duration": 40,
    "start_time": "2022-09-07T12:27:24.286Z"
   },
   {
    "duration": 81,
    "start_time": "2022-09-07T12:27:25.203Z"
   },
   {
    "duration": 27,
    "start_time": "2022-09-07T12:27:26.656Z"
   },
   {
    "duration": 19,
    "start_time": "2022-09-07T12:27:42.873Z"
   },
   {
    "duration": 36,
    "start_time": "2022-09-07T12:27:44.123Z"
   },
   {
    "duration": 61,
    "start_time": "2022-09-07T12:27:44.668Z"
   },
   {
    "duration": 17,
    "start_time": "2022-09-07T12:27:47.754Z"
   },
   {
    "duration": 28,
    "start_time": "2022-09-07T12:28:15.074Z"
   },
   {
    "duration": 3,
    "start_time": "2022-09-07T12:28:44.711Z"
   },
   {
    "duration": 14,
    "start_time": "2022-09-07T12:29:05.412Z"
   },
   {
    "duration": 41,
    "start_time": "2022-09-07T12:29:06.830Z"
   },
   {
    "duration": 92,
    "start_time": "2022-09-07T12:29:08.126Z"
   },
   {
    "duration": 58,
    "start_time": "2022-09-07T12:29:09.045Z"
   },
   {
    "duration": 15,
    "start_time": "2022-09-07T12:29:09.855Z"
   },
   {
    "duration": 28,
    "start_time": "2022-09-07T12:29:10.589Z"
   },
   {
    "duration": 66,
    "start_time": "2022-09-07T12:29:11.532Z"
   },
   {
    "duration": 96,
    "start_time": "2022-09-07T12:29:14.511Z"
   },
   {
    "duration": 10,
    "start_time": "2022-09-07T12:52:40.697Z"
   },
   {
    "duration": 100,
    "start_time": "2022-09-07T12:53:54.753Z"
   },
   {
    "duration": 4,
    "start_time": "2022-09-07T12:54:41.790Z"
   },
   {
    "duration": 4,
    "start_time": "2022-09-07T12:54:50.533Z"
   },
   {
    "duration": 1257,
    "start_time": "2022-09-07T12:55:07.070Z"
   },
   {
    "duration": 57,
    "start_time": "2022-09-07T12:55:08.329Z"
   },
   {
    "duration": 27,
    "start_time": "2022-09-07T12:55:08.388Z"
   },
   {
    "duration": 6,
    "start_time": "2022-09-07T12:55:08.417Z"
   },
   {
    "duration": 32,
    "start_time": "2022-09-07T12:55:08.426Z"
   },
   {
    "duration": 21,
    "start_time": "2022-09-07T12:55:08.460Z"
   },
   {
    "duration": 39,
    "start_time": "2022-09-07T12:55:08.484Z"
   },
   {
    "duration": 9,
    "start_time": "2022-09-07T12:55:08.525Z"
   },
   {
    "duration": 8,
    "start_time": "2022-09-07T12:55:08.536Z"
   },
   {
    "duration": 4,
    "start_time": "2022-09-07T12:55:10.319Z"
   },
   {
    "duration": 134,
    "start_time": "2022-09-07T12:55:14.019Z"
   },
   {
    "duration": 14,
    "start_time": "2022-09-07T12:55:22.528Z"
   },
   {
    "duration": 36,
    "start_time": "2022-09-07T12:55:27.033Z"
   },
   {
    "duration": 40,
    "start_time": "2022-09-07T12:55:33.501Z"
   },
   {
    "duration": 4765,
    "start_time": "2022-09-07T12:56:02.470Z"
   },
   {
    "duration": 63,
    "start_time": "2022-09-07T12:56:14.340Z"
   },
   {
    "duration": 17,
    "start_time": "2022-09-07T12:56:53.953Z"
   },
   {
    "duration": 45,
    "start_time": "2022-09-07T12:56:56.710Z"
   },
   {
    "duration": 82,
    "start_time": "2022-09-07T12:56:57.936Z"
   },
   {
    "duration": 26,
    "start_time": "2022-09-07T12:57:02.125Z"
   },
   {
    "duration": 101,
    "start_time": "2022-09-07T12:57:07.871Z"
   },
   {
    "duration": 40,
    "start_time": "2022-09-07T12:57:21.475Z"
   },
   {
    "duration": 103,
    "start_time": "2022-09-07T12:57:22.632Z"
   },
   {
    "duration": 104,
    "start_time": "2022-09-07T12:57:24.100Z"
   },
   {
    "duration": 13,
    "start_time": "2022-09-07T12:57:27.314Z"
   },
   {
    "duration": 28,
    "start_time": "2022-09-07T12:57:29.938Z"
   },
   {
    "duration": 58,
    "start_time": "2022-09-07T12:57:31.341Z"
   },
   {
    "duration": 68,
    "start_time": "2022-09-07T12:57:38.351Z"
   },
   {
    "duration": 23,
    "start_time": "2022-09-07T12:57:40.128Z"
   },
   {
    "duration": 14,
    "start_time": "2022-09-07T12:58:09.676Z"
   },
   {
    "duration": 40,
    "start_time": "2022-09-07T12:58:10.517Z"
   },
   {
    "duration": 86,
    "start_time": "2022-09-07T12:58:11.511Z"
   },
   {
    "duration": 14,
    "start_time": "2022-09-07T12:58:17.154Z"
   },
   {
    "duration": 35,
    "start_time": "2022-09-07T12:58:18.550Z"
   },
   {
    "duration": 82,
    "start_time": "2022-09-07T12:58:19.399Z"
   },
   {
    "duration": 22,
    "start_time": "2022-09-07T12:58:21.315Z"
   },
   {
    "duration": 20,
    "start_time": "2022-09-07T12:58:29.177Z"
   },
   {
    "duration": 14,
    "start_time": "2022-09-07T12:58:33.603Z"
   },
   {
    "duration": 26,
    "start_time": "2022-09-07T12:58:34.375Z"
   },
   {
    "duration": 63,
    "start_time": "2022-09-07T12:58:35.280Z"
   },
   {
    "duration": 18,
    "start_time": "2022-09-07T12:58:37.237Z"
   },
   {
    "duration": 18,
    "start_time": "2022-09-07T12:59:50.613Z"
   },
   {
    "duration": 14,
    "start_time": "2022-09-07T12:59:57.410Z"
   },
   {
    "duration": 38,
    "start_time": "2022-09-07T12:59:58.258Z"
   },
   {
    "duration": 113,
    "start_time": "2022-09-07T12:59:58.996Z"
   },
   {
    "duration": 14,
    "start_time": "2022-09-07T13:00:03.984Z"
   },
   {
    "duration": 49,
    "start_time": "2022-09-07T13:00:05.053Z"
   },
   {
    "duration": 116,
    "start_time": "2022-09-07T13:00:05.886Z"
   },
   {
    "duration": 28,
    "start_time": "2022-09-07T13:00:07.119Z"
   },
   {
    "duration": 14,
    "start_time": "2022-09-07T13:00:11.479Z"
   },
   {
    "duration": 44,
    "start_time": "2022-09-07T13:00:12.706Z"
   },
   {
    "duration": 115,
    "start_time": "2022-09-07T13:00:13.454Z"
   },
   {
    "duration": 13,
    "start_time": "2022-09-07T13:00:17.652Z"
   },
   {
    "duration": 42,
    "start_time": "2022-09-07T13:00:18.228Z"
   },
   {
    "duration": 128,
    "start_time": "2022-09-07T13:00:18.855Z"
   },
   {
    "duration": 14,
    "start_time": "2022-09-07T13:00:22.674Z"
   },
   {
    "duration": 37,
    "start_time": "2022-09-07T13:00:24.010Z"
   },
   {
    "duration": 84,
    "start_time": "2022-09-07T13:00:24.890Z"
   },
   {
    "duration": 25,
    "start_time": "2022-09-07T13:00:26.092Z"
   },
   {
    "duration": 15,
    "start_time": "2022-09-07T13:00:27.394Z"
   },
   {
    "duration": 31,
    "start_time": "2022-09-07T13:00:28.367Z"
   },
   {
    "duration": 73,
    "start_time": "2022-09-07T13:00:29.152Z"
   },
   {
    "duration": 16,
    "start_time": "2022-09-07T13:00:29.968Z"
   },
   {
    "duration": 458,
    "start_time": "2022-09-07T13:02:15.539Z"
   },
   {
    "duration": 390,
    "start_time": "2022-09-07T13:02:59.154Z"
   },
   {
    "duration": 425,
    "start_time": "2022-09-07T13:03:13.461Z"
   },
   {
    "duration": 294,
    "start_time": "2022-09-07T13:03:33.601Z"
   },
   {
    "duration": 61,
    "start_time": "2022-09-07T13:05:58.745Z"
   },
   {
    "duration": 38,
    "start_time": "2022-09-07T13:06:05.366Z"
   },
   {
    "duration": 128,
    "start_time": "2022-09-07T13:09:45.071Z"
   },
   {
    "duration": 35,
    "start_time": "2022-09-07T13:10:12.449Z"
   },
   {
    "duration": 61,
    "start_time": "2022-09-07T13:10:28.454Z"
   },
   {
    "duration": 243,
    "start_time": "2022-09-07T13:10:36.175Z"
   },
   {
    "duration": 277,
    "start_time": "2022-09-07T13:12:20.582Z"
   },
   {
    "duration": 214,
    "start_time": "2022-09-07T13:12:46.000Z"
   },
   {
    "duration": 288,
    "start_time": "2022-09-07T13:13:49.953Z"
   },
   {
    "duration": 11,
    "start_time": "2022-09-07T13:15:51.981Z"
   },
   {
    "duration": 61,
    "start_time": "2022-09-07T13:17:06.072Z"
   },
   {
    "duration": 59,
    "start_time": "2022-09-07T13:17:14.144Z"
   },
   {
    "duration": 292,
    "start_time": "2022-09-07T13:17:38.315Z"
   },
   {
    "duration": 273,
    "start_time": "2022-09-07T13:17:42.755Z"
   },
   {
    "duration": 297,
    "start_time": "2022-09-07T13:18:05.259Z"
   },
   {
    "duration": 299,
    "start_time": "2022-09-07T13:18:14.894Z"
   },
   {
    "duration": 187,
    "start_time": "2022-09-07T13:18:25.407Z"
   },
   {
    "duration": 310,
    "start_time": "2022-09-07T13:18:57.163Z"
   },
   {
    "duration": 213,
    "start_time": "2022-09-07T13:19:03.396Z"
   },
   {
    "duration": 219,
    "start_time": "2022-09-07T13:19:11.672Z"
   },
   {
    "duration": 76,
    "start_time": "2022-09-07T13:20:47.476Z"
   },
   {
    "duration": 62,
    "start_time": "2022-09-07T13:20:57.769Z"
   },
   {
    "duration": 1433,
    "start_time": "2022-09-08T06:15:12.754Z"
   },
   {
    "duration": 1277,
    "start_time": "2022-09-08T06:15:21.926Z"
   },
   {
    "duration": 94,
    "start_time": "2022-09-08T06:15:23.205Z"
   },
   {
    "duration": 12,
    "start_time": "2022-09-08T06:15:23.301Z"
   },
   {
    "duration": 4,
    "start_time": "2022-09-08T06:15:23.314Z"
   },
   {
    "duration": 19,
    "start_time": "2022-09-08T06:15:23.320Z"
   },
   {
    "duration": 13,
    "start_time": "2022-09-08T06:15:23.340Z"
   },
   {
    "duration": 16,
    "start_time": "2022-09-08T06:15:23.354Z"
   },
   {
    "duration": 4,
    "start_time": "2022-09-08T06:15:23.371Z"
   },
   {
    "duration": 5,
    "start_time": "2022-09-08T06:15:23.377Z"
   },
   {
    "duration": 5,
    "start_time": "2022-09-08T06:15:23.384Z"
   },
   {
    "duration": 54,
    "start_time": "2022-09-08T06:15:23.390Z"
   },
   {
    "duration": 33,
    "start_time": "2022-09-08T06:15:23.445Z"
   },
   {
    "duration": 32,
    "start_time": "2022-09-08T06:15:23.479Z"
   },
   {
    "duration": 3858,
    "start_time": "2022-09-08T06:15:23.513Z"
   },
   {
    "duration": 74,
    "start_time": "2022-09-08T06:15:27.372Z"
   },
   {
    "duration": 12,
    "start_time": "2022-09-08T06:15:27.538Z"
   },
   {
    "duration": 107,
    "start_time": "2022-09-08T06:15:27.552Z"
   },
   {
    "duration": 88,
    "start_time": "2022-09-08T06:15:27.660Z"
   },
   {
    "duration": 18,
    "start_time": "2022-09-08T06:15:27.749Z"
   },
   {
    "duration": 103,
    "start_time": "2022-09-08T06:15:27.840Z"
   },
   {
    "duration": 24,
    "start_time": "2022-09-08T06:15:27.944Z"
   },
   {
    "duration": 52,
    "start_time": "2022-09-08T06:15:27.969Z"
   },
   {
    "duration": 16,
    "start_time": "2022-09-08T06:15:28.038Z"
   },
   {
    "duration": 358,
    "start_time": "2022-09-08T06:15:28.057Z"
   },
   {
    "duration": 66,
    "start_time": "2022-09-08T06:15:28.416Z"
   },
   {
    "duration": 6,
    "start_time": "2022-09-08T06:15:28.483Z"
   },
   {
    "duration": 99,
    "start_time": "2022-09-08T06:17:38.454Z"
   },
   {
    "duration": 6,
    "start_time": "2022-09-08T06:18:07.667Z"
   },
   {
    "duration": 4,
    "start_time": "2022-09-08T06:18:09.078Z"
   },
   {
    "duration": 5,
    "start_time": "2022-09-08T06:18:13.662Z"
   },
   {
    "duration": 5,
    "start_time": "2022-09-08T06:18:14.849Z"
   },
   {
    "duration": 3,
    "start_time": "2022-09-08T06:18:15.660Z"
   },
   {
    "duration": 5,
    "start_time": "2022-09-08T06:18:25.514Z"
   },
   {
    "duration": 3,
    "start_time": "2022-09-08T06:18:26.192Z"
   },
   {
    "duration": 27,
    "start_time": "2022-09-08T06:18:31.321Z"
   },
   {
    "duration": 19,
    "start_time": "2022-09-08T06:18:52.882Z"
   },
   {
    "duration": 30,
    "start_time": "2022-09-08T06:18:55.374Z"
   },
   {
    "duration": 33,
    "start_time": "2022-09-08T06:19:04.442Z"
   },
   {
    "duration": 3736,
    "start_time": "2022-09-08T06:19:37.521Z"
   },
   {
    "duration": 5,
    "start_time": "2022-09-08T06:20:26.351Z"
   },
   {
    "duration": 5,
    "start_time": "2022-09-08T06:20:27.125Z"
   },
   {
    "duration": 3,
    "start_time": "2022-09-08T06:20:28.365Z"
   },
   {
    "duration": 31,
    "start_time": "2022-09-08T06:20:31.211Z"
   },
   {
    "duration": 34,
    "start_time": "2022-09-08T06:20:33.908Z"
   },
   {
    "duration": 1278,
    "start_time": "2022-09-08T06:20:45.957Z"
   },
   {
    "duration": 53,
    "start_time": "2022-09-08T06:20:47.237Z"
   },
   {
    "duration": 12,
    "start_time": "2022-09-08T06:20:47.291Z"
   },
   {
    "duration": 13,
    "start_time": "2022-09-08T06:20:47.305Z"
   },
   {
    "duration": 26,
    "start_time": "2022-09-08T06:20:47.320Z"
   },
   {
    "duration": 21,
    "start_time": "2022-09-08T06:20:47.347Z"
   },
   {
    "duration": 17,
    "start_time": "2022-09-08T06:20:47.370Z"
   },
   {
    "duration": 4,
    "start_time": "2022-09-08T06:20:47.389Z"
   },
   {
    "duration": 12,
    "start_time": "2022-09-08T06:20:47.395Z"
   },
   {
    "duration": 16,
    "start_time": "2022-09-08T06:20:47.408Z"
   },
   {
    "duration": 4,
    "start_time": "2022-09-08T06:20:49.950Z"
   },
   {
    "duration": 34,
    "start_time": "2022-09-08T06:20:51.874Z"
   },
   {
    "duration": 31,
    "start_time": "2022-09-08T06:20:56.955Z"
   },
   {
    "duration": 33,
    "start_time": "2022-09-08T06:21:01.414Z"
   },
   {
    "duration": 3673,
    "start_time": "2022-09-08T06:21:10.612Z"
   },
   {
    "duration": 21,
    "start_time": "2022-09-08T06:21:20.780Z"
   },
   {
    "duration": 11,
    "start_time": "2022-09-08T06:21:57.957Z"
   },
   {
    "duration": 33,
    "start_time": "2022-09-08T06:22:07.627Z"
   },
   {
    "duration": 70,
    "start_time": "2022-09-08T06:22:09.316Z"
   },
   {
    "duration": 18,
    "start_time": "2022-09-08T06:22:11.492Z"
   },
   {
    "duration": 13,
    "start_time": "2022-09-08T06:22:16.100Z"
   },
   {
    "duration": 34,
    "start_time": "2022-09-08T06:22:17.213Z"
   },
   {
    "duration": 77,
    "start_time": "2022-09-08T06:22:18.054Z"
   },
   {
    "duration": 20,
    "start_time": "2022-09-08T06:22:19.172Z"
   },
   {
    "duration": 11,
    "start_time": "2022-09-08T06:22:24.074Z"
   },
   {
    "duration": 35,
    "start_time": "2022-09-08T06:22:24.980Z"
   },
   {
    "duration": 88,
    "start_time": "2022-09-08T06:22:26.204Z"
   },
   {
    "duration": 22,
    "start_time": "2022-09-08T06:22:27.235Z"
   },
   {
    "duration": 13,
    "start_time": "2022-09-08T06:22:32.067Z"
   },
   {
    "duration": 41,
    "start_time": "2022-09-08T06:22:32.788Z"
   },
   {
    "duration": 81,
    "start_time": "2022-09-08T06:22:35.073Z"
   },
   {
    "duration": 19,
    "start_time": "2022-09-08T06:22:36.353Z"
   },
   {
    "duration": 13,
    "start_time": "2022-09-08T06:23:17.715Z"
   },
   {
    "duration": 23,
    "start_time": "2022-09-08T06:23:18.995Z"
   },
   {
    "duration": 49,
    "start_time": "2022-09-08T06:23:21.376Z"
   },
   {
    "duration": 13,
    "start_time": "2022-09-08T06:23:22.818Z"
   },
   {
    "duration": 179,
    "start_time": "2022-09-08T06:25:04.826Z"
   },
   {
    "duration": 52,
    "start_time": "2022-09-08T06:25:08.608Z"
   },
   {
    "duration": 6,
    "start_time": "2022-09-08T06:25:27.381Z"
   },
   {
    "duration": 49,
    "start_time": "2022-09-08T06:27:42.570Z"
   },
   {
    "duration": 6,
    "start_time": "2022-09-08T06:28:29.157Z"
   },
   {
    "duration": 99,
    "start_time": "2022-09-08T06:29:03.226Z"
   },
   {
    "duration": 5,
    "start_time": "2022-09-08T06:29:26.168Z"
   },
   {
    "duration": 10,
    "start_time": "2022-09-08T06:29:32.010Z"
   },
   {
    "duration": 4,
    "start_time": "2022-09-08T06:29:42.354Z"
   },
   {
    "duration": 4,
    "start_time": "2022-09-08T06:29:45.960Z"
   },
   {
    "duration": 60,
    "start_time": "2022-09-08T06:29:45.965Z"
   },
   {
    "duration": 11,
    "start_time": "2022-09-08T06:29:46.027Z"
   },
   {
    "duration": 14,
    "start_time": "2022-09-08T06:29:46.040Z"
   },
   {
    "duration": 24,
    "start_time": "2022-09-08T06:29:46.057Z"
   },
   {
    "duration": 16,
    "start_time": "2022-09-08T06:29:46.083Z"
   },
   {
    "duration": 17,
    "start_time": "2022-09-08T06:29:46.101Z"
   },
   {
    "duration": 21,
    "start_time": "2022-09-08T06:29:46.120Z"
   },
   {
    "duration": 13,
    "start_time": "2022-09-08T06:29:46.143Z"
   },
   {
    "duration": 11,
    "start_time": "2022-09-08T06:29:46.158Z"
   },
   {
    "duration": 15,
    "start_time": "2022-09-08T06:29:46.170Z"
   },
   {
    "duration": 45,
    "start_time": "2022-09-08T06:29:46.187Z"
   },
   {
    "duration": 29,
    "start_time": "2022-09-08T06:29:46.234Z"
   },
   {
    "duration": 32,
    "start_time": "2022-09-08T06:29:46.266Z"
   },
   {
    "duration": 3742,
    "start_time": "2022-09-08T06:29:46.299Z"
   },
   {
    "duration": 16,
    "start_time": "2022-09-08T06:29:50.043Z"
   },
   {
    "duration": 185,
    "start_time": "2022-09-08T06:29:50.061Z"
   },
   {
    "duration": 33,
    "start_time": "2022-09-08T06:29:50.248Z"
   },
   {
    "duration": 90,
    "start_time": "2022-09-08T06:29:50.282Z"
   },
   {
    "duration": 68,
    "start_time": "2022-09-08T06:29:50.374Z"
   },
   {
    "duration": 104,
    "start_time": "2022-09-08T06:29:50.444Z"
   },
   {
    "duration": 26,
    "start_time": "2022-09-08T06:29:50.550Z"
   },
   {
    "duration": 68,
    "start_time": "2022-09-08T06:29:50.578Z"
   },
   {
    "duration": 17,
    "start_time": "2022-09-08T06:29:50.647Z"
   },
   {
    "duration": 274,
    "start_time": "2022-09-08T06:29:50.739Z"
   },
   {
    "duration": 55,
    "start_time": "2022-09-08T06:29:51.014Z"
   },
   {
    "duration": 50,
    "start_time": "2022-09-08T06:29:51.071Z"
   },
   {
    "duration": 25,
    "start_time": "2022-09-08T06:29:51.122Z"
   },
   {
    "duration": 5,
    "start_time": "2022-09-08T06:30:02.405Z"
   },
   {
    "duration": 68,
    "start_time": "2022-09-08T06:30:28.633Z"
   },
   {
    "duration": 49,
    "start_time": "2022-09-08T06:30:35.325Z"
   },
   {
    "duration": 45,
    "start_time": "2022-09-08T06:31:33.714Z"
   },
   {
    "duration": 174,
    "start_time": "2022-09-08T06:31:46.160Z"
   },
   {
    "duration": 45,
    "start_time": "2022-09-08T06:31:55.153Z"
   },
   {
    "duration": 67,
    "start_time": "2022-09-08T06:32:23.197Z"
   },
   {
    "duration": 50,
    "start_time": "2022-09-08T06:32:30.959Z"
   },
   {
    "duration": 51,
    "start_time": "2022-09-08T06:37:18.491Z"
   },
   {
    "duration": 1300,
    "start_time": "2022-09-08T06:46:27.667Z"
   },
   {
    "duration": 66,
    "start_time": "2022-09-08T06:46:28.970Z"
   },
   {
    "duration": 14,
    "start_time": "2022-09-08T06:46:29.038Z"
   },
   {
    "duration": 6,
    "start_time": "2022-09-08T06:46:29.054Z"
   },
   {
    "duration": 29,
    "start_time": "2022-09-08T06:46:29.063Z"
   },
   {
    "duration": 12,
    "start_time": "2022-09-08T06:46:29.094Z"
   },
   {
    "duration": 34,
    "start_time": "2022-09-08T06:46:29.108Z"
   },
   {
    "duration": 4,
    "start_time": "2022-09-08T06:46:29.144Z"
   },
   {
    "duration": 15,
    "start_time": "2022-09-08T06:46:29.149Z"
   },
   {
    "duration": 5,
    "start_time": "2022-09-08T06:46:29.165Z"
   },
   {
    "duration": 5,
    "start_time": "2022-09-08T06:46:29.172Z"
   },
   {
    "duration": 33,
    "start_time": "2022-09-08T06:46:29.178Z"
   },
   {
    "duration": 49,
    "start_time": "2022-09-08T06:46:29.213Z"
   },
   {
    "duration": 31,
    "start_time": "2022-09-08T06:46:29.265Z"
   },
   {
    "duration": 3749,
    "start_time": "2022-09-08T06:46:29.297Z"
   },
   {
    "duration": 21,
    "start_time": "2022-09-08T06:46:33.048Z"
   },
   {
    "duration": 109,
    "start_time": "2022-09-08T06:46:33.139Z"
   },
   {
    "duration": 39,
    "start_time": "2022-09-08T06:46:33.250Z"
   },
   {
    "duration": 98,
    "start_time": "2022-09-08T06:46:33.290Z"
   },
   {
    "duration": 51,
    "start_time": "2022-09-08T06:46:33.390Z"
   },
   {
    "duration": 99,
    "start_time": "2022-09-08T06:46:33.444Z"
   },
   {
    "duration": 20,
    "start_time": "2022-09-08T06:46:33.545Z"
   },
   {
    "duration": 48,
    "start_time": "2022-09-08T06:46:33.567Z"
   },
   {
    "duration": 122,
    "start_time": "2022-09-08T06:46:33.616Z"
   },
   {
    "duration": 277,
    "start_time": "2022-09-08T06:46:33.740Z"
   },
   {
    "duration": 67,
    "start_time": "2022-09-08T06:46:34.018Z"
   },
   {
    "duration": 73,
    "start_time": "2022-09-08T06:46:34.087Z"
   },
   {
    "duration": 7,
    "start_time": "2022-09-08T06:46:34.162Z"
   },
   {
    "duration": 39,
    "start_time": "2022-09-08T06:48:34.482Z"
   },
   {
    "duration": 41,
    "start_time": "2022-09-08T06:49:34.241Z"
   },
   {
    "duration": 4,
    "start_time": "2022-09-08T13:58:11.449Z"
   },
   {
    "duration": 1647,
    "start_time": "2022-09-08T13:58:40.749Z"
   },
   {
    "duration": 383,
    "start_time": "2022-09-08T13:58:42.398Z"
   },
   {
    "duration": 20,
    "start_time": "2022-09-08T13:58:42.783Z"
   },
   {
    "duration": 15,
    "start_time": "2022-09-08T13:58:42.805Z"
   },
   {
    "duration": 47,
    "start_time": "2022-09-08T13:58:42.823Z"
   },
   {
    "duration": 4,
    "start_time": "2022-09-08T13:58:42.872Z"
   },
   {
    "duration": 75,
    "start_time": "2022-09-08T14:01:06.054Z"
   },
   {
    "duration": 5,
    "start_time": "2022-09-08T14:01:10.827Z"
   },
   {
    "duration": 110,
    "start_time": "2022-09-08T14:01:18.245Z"
   },
   {
    "duration": 7,
    "start_time": "2022-09-08T14:02:12.113Z"
   },
   {
    "duration": 6,
    "start_time": "2022-09-08T14:02:21.503Z"
   },
   {
    "duration": 5,
    "start_time": "2022-09-08T14:02:31.618Z"
   },
   {
    "duration": 22,
    "start_time": "2022-09-08T14:03:39.896Z"
   },
   {
    "duration": 7,
    "start_time": "2022-09-08T14:03:44.589Z"
   },
   {
    "duration": 8,
    "start_time": "2022-09-08T14:03:46.486Z"
   },
   {
    "duration": 6,
    "start_time": "2022-09-08T14:03:47.284Z"
   },
   {
    "duration": 5,
    "start_time": "2022-09-08T14:03:48.399Z"
   },
   {
    "duration": 37,
    "start_time": "2022-09-08T14:04:22.971Z"
   },
   {
    "duration": 41,
    "start_time": "2022-09-08T14:04:25.364Z"
   },
   {
    "duration": 41,
    "start_time": "2022-09-08T14:04:28.310Z"
   },
   {
    "duration": 4473,
    "start_time": "2022-09-08T14:04:33.476Z"
   },
   {
    "duration": 21,
    "start_time": "2022-09-08T14:04:54.121Z"
   },
   {
    "duration": 105,
    "start_time": "2022-09-08T14:07:19.865Z"
   },
   {
    "duration": 87,
    "start_time": "2022-09-08T14:07:29.046Z"
   },
   {
    "duration": 97,
    "start_time": "2022-09-08T14:07:33.976Z"
   },
   {
    "duration": 18,
    "start_time": "2022-09-08T14:08:24.624Z"
   },
   {
    "duration": 79,
    "start_time": "2022-09-08T14:08:39.111Z"
   },
   {
    "duration": 5,
    "start_time": "2022-09-08T14:09:28.427Z"
   },
   {
    "duration": 4943,
    "start_time": "2022-09-08T14:09:32.849Z"
   },
   {
    "duration": 14,
    "start_time": "2022-09-08T14:11:10.279Z"
   },
   {
    "duration": 19,
    "start_time": "2022-09-08T14:11:18.304Z"
   },
   {
    "duration": 13,
    "start_time": "2022-09-08T14:11:20.909Z"
   },
   {
    "duration": 47,
    "start_time": "2022-09-08T14:11:23.343Z"
   },
   {
    "duration": 101,
    "start_time": "2022-09-08T14:11:29.378Z"
   },
   {
    "duration": 94,
    "start_time": "2022-09-08T14:11:41.781Z"
   },
   {
    "duration": 14,
    "start_time": "2022-09-08T14:12:50.595Z"
   },
   {
    "duration": 47,
    "start_time": "2022-09-08T14:12:51.926Z"
   },
   {
    "duration": 107,
    "start_time": "2022-09-08T14:12:52.811Z"
   },
   {
    "duration": 34,
    "start_time": "2022-09-08T14:12:54.158Z"
   },
   {
    "duration": 68,
    "start_time": "2022-09-08T14:14:41.880Z"
   },
   {
    "duration": 62,
    "start_time": "2022-09-08T14:14:52.793Z"
   },
   {
    "duration": 170,
    "start_time": "2022-09-08T14:14:54.010Z"
   },
   {
    "duration": 14,
    "start_time": "2022-09-08T14:19:35.272Z"
   },
   {
    "duration": 12,
    "start_time": "2022-09-08T14:19:39.983Z"
   },
   {
    "duration": 14,
    "start_time": "2022-09-08T14:19:43.481Z"
   },
   {
    "duration": 13,
    "start_time": "2022-09-08T14:19:48.570Z"
   },
   {
    "duration": 12,
    "start_time": "2022-09-08T14:19:52.383Z"
   },
   {
    "duration": 19,
    "start_time": "2022-09-08T14:20:09.116Z"
   },
   {
    "duration": 50,
    "start_time": "2022-09-08T14:20:10.237Z"
   },
   {
    "duration": 33,
    "start_time": "2022-09-08T14:20:15.686Z"
   },
   {
    "duration": 23,
    "start_time": "2022-09-08T14:20:47.954Z"
   },
   {
    "duration": 36,
    "start_time": "2022-09-08T14:20:51.127Z"
   },
   {
    "duration": 23,
    "start_time": "2022-09-08T14:20:54.975Z"
   },
   {
    "duration": 16,
    "start_time": "2022-09-08T14:24:53.414Z"
   },
   {
    "duration": 22,
    "start_time": "2022-09-08T14:25:22.125Z"
   },
   {
    "duration": 69,
    "start_time": "2022-09-08T14:26:11.838Z"
   },
   {
    "duration": 19,
    "start_time": "2022-09-08T14:26:21.659Z"
   },
   {
    "duration": 22,
    "start_time": "2022-09-08T14:26:42.831Z"
   },
   {
    "duration": 15,
    "start_time": "2022-09-08T14:26:46.277Z"
   },
   {
    "duration": 20,
    "start_time": "2022-09-08T14:26:47.016Z"
   },
   {
    "duration": 35,
    "start_time": "2022-09-08T14:26:47.543Z"
   },
   {
    "duration": 103,
    "start_time": "2022-09-08T14:26:48.267Z"
   },
   {
    "duration": 23,
    "start_time": "2022-09-08T14:26:49.086Z"
   },
   {
    "duration": 73,
    "start_time": "2022-09-08T14:26:49.481Z"
   },
   {
    "duration": 18,
    "start_time": "2022-09-08T14:26:49.984Z"
   },
   {
    "duration": 2,
    "start_time": "2022-09-08T14:27:15.938Z"
   },
   {
    "duration": 220,
    "start_time": "2022-09-08T14:31:07.225Z"
   },
   {
    "duration": 245,
    "start_time": "2022-09-08T14:31:20.137Z"
   },
   {
    "duration": 45,
    "start_time": "2022-09-08T14:32:21.657Z"
   },
   {
    "duration": 70,
    "start_time": "2022-09-08T14:32:39.358Z"
   },
   {
    "duration": 13,
    "start_time": "2022-09-08T14:33:22.824Z"
   },
   {
    "duration": 11,
    "start_time": "2022-09-08T14:33:29.855Z"
   },
   {
    "duration": 5,
    "start_time": "2022-09-08T14:33:38.994Z"
   },
   {
    "duration": 8,
    "start_time": "2022-09-08T14:33:46.885Z"
   },
   {
    "duration": 93,
    "start_time": "2022-09-08T14:35:02.353Z"
   },
   {
    "duration": 110,
    "start_time": "2022-09-08T14:35:08.300Z"
   },
   {
    "duration": 183,
    "start_time": "2022-09-08T14:35:12.849Z"
   },
   {
    "duration": 256,
    "start_time": "2022-09-08T14:35:17.753Z"
   },
   {
    "duration": 178578,
    "start_time": "2022-09-08T14:35:36.776Z"
   },
   {
    "duration": 44940,
    "start_time": "2022-09-08T14:38:48.088Z"
   },
   {
    "duration": 7656,
    "start_time": "2022-09-08T14:40:24.546Z"
   },
   {
    "duration": 2789,
    "start_time": "2022-09-08T14:40:40.810Z"
   },
   {
    "duration": 15186,
    "start_time": "2022-09-08T14:40:49.236Z"
   },
   {
    "duration": 8248,
    "start_time": "2022-09-08T14:41:18.358Z"
   },
   {
    "duration": 23314,
    "start_time": "2022-09-08T14:41:32.841Z"
   },
   {
    "duration": 65,
    "start_time": "2022-09-08T14:42:21.295Z"
   },
   {
    "duration": 16242,
    "start_time": "2022-09-08T14:42:41.491Z"
   },
   {
    "duration": 125,
    "start_time": "2022-09-08T14:43:09.772Z"
   },
   {
    "duration": 4764,
    "start_time": "2022-09-08T14:43:25.805Z"
   },
   {
    "duration": 7934,
    "start_time": "2022-09-08T14:43:45.881Z"
   },
   {
    "duration": 48,
    "start_time": "2022-09-08T14:44:07.199Z"
   },
   {
    "duration": 206,
    "start_time": "2022-09-08T14:44:45.946Z"
   },
   {
    "duration": 69,
    "start_time": "2022-09-08T14:44:54.382Z"
   },
   {
    "duration": 45182,
    "start_time": "2022-09-08T14:46:18.487Z"
   },
   {
    "duration": 249,
    "start_time": "2022-09-08T14:47:15.138Z"
   },
   {
    "duration": 16847,
    "start_time": "2022-09-08T14:47:25.921Z"
   },
   {
    "duration": 45395,
    "start_time": "2022-09-08T14:47:51.369Z"
   },
   {
    "duration": 397,
    "start_time": "2022-09-08T14:49:16.365Z"
   },
   {
    "duration": 173,
    "start_time": "2022-09-08T14:49:38.697Z"
   },
   {
    "duration": 351,
    "start_time": "2022-09-08T14:50:47.513Z"
   },
   {
    "duration": 1572,
    "start_time": "2022-09-08T14:51:36.238Z"
   },
   {
    "duration": 55,
    "start_time": "2022-09-08T14:51:37.813Z"
   },
   {
    "duration": 12,
    "start_time": "2022-09-08T14:51:37.870Z"
   },
   {
    "duration": 4,
    "start_time": "2022-09-08T14:51:37.884Z"
   },
   {
    "duration": 23,
    "start_time": "2022-09-08T14:51:37.890Z"
   },
   {
    "duration": 2,
    "start_time": "2022-09-08T14:51:37.914Z"
   },
   {
    "duration": 8,
    "start_time": "2022-09-08T14:51:37.918Z"
   },
   {
    "duration": 8,
    "start_time": "2022-09-08T14:51:37.928Z"
   },
   {
    "duration": 48,
    "start_time": "2022-09-08T14:51:37.937Z"
   },
   {
    "duration": 5,
    "start_time": "2022-09-08T14:51:37.988Z"
   },
   {
    "duration": 9,
    "start_time": "2022-09-08T14:51:37.994Z"
   },
   {
    "duration": 13,
    "start_time": "2022-09-08T14:51:38.005Z"
   },
   {
    "duration": 8,
    "start_time": "2022-09-08T14:51:38.019Z"
   },
   {
    "duration": 51,
    "start_time": "2022-09-08T14:51:38.029Z"
   },
   {
    "duration": 35,
    "start_time": "2022-09-08T14:51:38.082Z"
   },
   {
    "duration": 57,
    "start_time": "2022-09-08T14:51:38.119Z"
   },
   {
    "duration": 44880,
    "start_time": "2022-09-08T14:51:38.177Z"
   },
   {
    "duration": 25,
    "start_time": "2022-09-08T14:52:23.059Z"
   },
   {
    "duration": 187,
    "start_time": "2022-09-08T14:52:23.086Z"
   },
   {
    "duration": 43,
    "start_time": "2022-09-08T14:52:23.275Z"
   },
   {
    "duration": 383,
    "start_time": "2022-09-08T14:52:23.320Z"
   },
   {
    "duration": 63,
    "start_time": "2022-09-08T14:52:23.705Z"
   },
   {
    "duration": 105,
    "start_time": "2022-09-08T14:52:23.772Z"
   },
   {
    "duration": 31,
    "start_time": "2022-09-08T14:52:23.878Z"
   },
   {
    "duration": 184,
    "start_time": "2022-09-08T14:52:23.911Z"
   },
   {
    "duration": 70,
    "start_time": "2022-09-08T14:52:24.097Z"
   },
   {
    "duration": 122,
    "start_time": "2022-09-08T14:52:24.170Z"
   },
   {
    "duration": 361,
    "start_time": "2022-09-08T14:52:24.295Z"
   },
   {
    "duration": 20,
    "start_time": "2022-09-08T14:52:24.658Z"
   },
   {
    "duration": 31,
    "start_time": "2022-09-08T14:52:59.537Z"
   },
   {
    "duration": 502,
    "start_time": "2022-09-08T14:53:07.648Z"
   },
   {
    "duration": 367,
    "start_time": "2022-09-08T14:53:15.841Z"
   },
   {
    "duration": 5,
    "start_time": "2022-09-08T14:53:24.900Z"
   },
   {
    "duration": 17600,
    "start_time": "2022-09-08T14:53:47.220Z"
   },
   {
    "duration": 4993,
    "start_time": "2022-09-08T14:54:11.940Z"
   },
   {
    "duration": 2270,
    "start_time": "2022-09-08T14:54:24.082Z"
   },
   {
    "duration": 7,
    "start_time": "2022-09-08T14:55:06.788Z"
   },
   {
    "duration": 20,
    "start_time": "2022-09-08T14:55:10.346Z"
   },
   {
    "duration": 6,
    "start_time": "2022-09-08T14:55:11.281Z"
   },
   {
    "duration": 7,
    "start_time": "2022-09-08T14:55:11.904Z"
   },
   {
    "duration": 6,
    "start_time": "2022-09-08T14:55:12.293Z"
   },
   {
    "duration": 3,
    "start_time": "2022-09-08T14:55:12.700Z"
   },
   {
    "duration": 38,
    "start_time": "2022-09-08T14:55:13.502Z"
   },
   {
    "duration": 40,
    "start_time": "2022-09-08T14:55:15.471Z"
   },
   {
    "duration": 43,
    "start_time": "2022-09-08T14:55:17.904Z"
   },
   {
    "duration": 2215,
    "start_time": "2022-09-08T14:55:20.247Z"
   },
   {
    "duration": 1388,
    "start_time": "2022-09-08T14:55:33.237Z"
   },
   {
    "duration": 54,
    "start_time": "2022-09-08T14:55:34.627Z"
   },
   {
    "duration": 12,
    "start_time": "2022-09-08T14:55:34.682Z"
   },
   {
    "duration": 4,
    "start_time": "2022-09-08T14:55:34.696Z"
   },
   {
    "duration": 23,
    "start_time": "2022-09-08T14:55:34.703Z"
   },
   {
    "duration": 2,
    "start_time": "2022-09-08T14:55:34.728Z"
   },
   {
    "duration": 8,
    "start_time": "2022-09-08T14:55:34.731Z"
   },
   {
    "duration": 28,
    "start_time": "2022-09-08T14:55:34.741Z"
   },
   {
    "duration": 19,
    "start_time": "2022-09-08T14:55:34.770Z"
   },
   {
    "duration": 5,
    "start_time": "2022-09-08T14:55:34.791Z"
   },
   {
    "duration": 8,
    "start_time": "2022-09-08T14:55:34.798Z"
   },
   {
    "duration": 7,
    "start_time": "2022-09-08T14:55:34.807Z"
   },
   {
    "duration": 6,
    "start_time": "2022-09-08T14:55:34.816Z"
   },
   {
    "duration": 62,
    "start_time": "2022-09-08T14:55:34.824Z"
   },
   {
    "duration": 37,
    "start_time": "2022-09-08T14:55:34.888Z"
   },
   {
    "duration": 52,
    "start_time": "2022-09-08T14:55:34.927Z"
   },
   {
    "duration": 2188,
    "start_time": "2022-09-08T14:55:36.822Z"
   },
   {
    "duration": 23,
    "start_time": "2022-09-08T14:56:33.290Z"
   },
   {
    "duration": 15,
    "start_time": "2022-09-08T14:56:34.472Z"
   },
   {
    "duration": 45,
    "start_time": "2022-09-08T14:56:34.820Z"
   },
   {
    "duration": 369,
    "start_time": "2022-09-08T14:56:35.165Z"
   },
   {
    "duration": 40,
    "start_time": "2022-09-08T14:56:35.536Z"
   },
   {
    "duration": 14,
    "start_time": "2022-09-08T14:56:36.344Z"
   },
   {
    "duration": 21,
    "start_time": "2022-09-08T14:56:37.054Z"
   },
   {
    "duration": 159,
    "start_time": "2022-09-08T14:56:37.392Z"
   },
   {
    "duration": 16,
    "start_time": "2022-09-08T14:56:37.739Z"
   },
   {
    "duration": 24,
    "start_time": "2022-09-08T14:56:38.450Z"
   },
   {
    "duration": 357,
    "start_time": "2022-09-08T14:56:38.811Z"
   },
   {
    "duration": 97,
    "start_time": "2022-09-08T14:56:39.170Z"
   },
   {
    "duration": 510,
    "start_time": "2022-09-08T14:56:42.110Z"
   },
   {
    "duration": 387,
    "start_time": "2022-09-08T14:56:44.909Z"
   },
   {
    "duration": 65,
    "start_time": "2022-09-08T14:56:51.711Z"
   },
   {
    "duration": 78,
    "start_time": "2022-09-08T14:56:59.869Z"
   },
   {
    "duration": 366,
    "start_time": "2022-09-08T14:57:21.039Z"
   },
   {
    "duration": 64,
    "start_time": "2022-09-08T14:57:39.065Z"
   },
   {
    "duration": 50,
    "start_time": "2022-09-08T14:57:57.565Z"
   },
   {
    "duration": 48,
    "start_time": "2022-09-08T14:58:03.915Z"
   },
   {
    "duration": 65,
    "start_time": "2022-09-08T14:58:16.476Z"
   },
   {
    "duration": 2161,
    "start_time": "2022-09-08T14:58:40.436Z"
   },
   {
    "duration": 45456,
    "start_time": "2022-09-08T14:58:51.841Z"
   },
   {
    "duration": 52,
    "start_time": "2022-09-08T14:59:53.937Z"
   },
   {
    "duration": 1479,
    "start_time": "2022-09-08T14:59:59.353Z"
   },
   {
    "duration": 60,
    "start_time": "2022-09-08T15:00:00.834Z"
   },
   {
    "duration": 15,
    "start_time": "2022-09-08T15:00:00.896Z"
   },
   {
    "duration": 6,
    "start_time": "2022-09-08T15:00:00.913Z"
   },
   {
    "duration": 48,
    "start_time": "2022-09-08T15:00:00.921Z"
   },
   {
    "duration": 14,
    "start_time": "2022-09-08T15:00:00.971Z"
   },
   {
    "duration": 28,
    "start_time": "2022-09-08T15:00:00.988Z"
   },
   {
    "duration": 11,
    "start_time": "2022-09-08T15:00:01.018Z"
   },
   {
    "duration": 33,
    "start_time": "2022-09-08T15:00:01.031Z"
   },
   {
    "duration": 7,
    "start_time": "2022-09-08T15:00:01.067Z"
   },
   {
    "duration": 26,
    "start_time": "2022-09-08T15:00:01.076Z"
   },
   {
    "duration": 18,
    "start_time": "2022-09-08T15:00:01.104Z"
   },
   {
    "duration": 25,
    "start_time": "2022-09-08T15:00:01.125Z"
   },
   {
    "duration": 53,
    "start_time": "2022-09-08T15:00:01.152Z"
   },
   {
    "duration": 39,
    "start_time": "2022-09-08T15:00:01.207Z"
   },
   {
    "duration": 54,
    "start_time": "2022-09-08T15:00:01.248Z"
   },
   {
    "duration": 17665,
    "start_time": "2022-09-08T15:00:01.304Z"
   },
   {
    "duration": 2203,
    "start_time": "2022-09-08T15:00:32.577Z"
   },
   {
    "duration": 75,
    "start_time": "2022-09-08T15:00:59.294Z"
   },
   {
    "duration": 6,
    "start_time": "2022-09-08T15:02:58.748Z"
   },
   {
    "duration": 6,
    "start_time": "2022-09-08T15:03:03.108Z"
   },
   {
    "duration": 19,
    "start_time": "2022-09-08T15:03:03.677Z"
   },
   {
    "duration": 6,
    "start_time": "2022-09-08T15:03:04.384Z"
   },
   {
    "duration": 6,
    "start_time": "2022-09-08T15:03:05.017Z"
   },
   {
    "duration": 6,
    "start_time": "2022-09-08T15:03:05.413Z"
   },
   {
    "duration": 3,
    "start_time": "2022-09-08T15:03:05.937Z"
   },
   {
    "duration": 37,
    "start_time": "2022-09-08T15:03:07.195Z"
   },
   {
    "duration": 37,
    "start_time": "2022-09-08T15:03:09.111Z"
   },
   {
    "duration": 40,
    "start_time": "2022-09-08T15:03:10.964Z"
   },
   {
    "duration": 2216,
    "start_time": "2022-09-08T15:03:15.601Z"
   },
   {
    "duration": 768,
    "start_time": "2022-09-08T15:03:33.481Z"
   },
   {
    "duration": 5933,
    "start_time": "2022-09-08T15:03:39.345Z"
   },
   {
    "duration": 603,
    "start_time": "2022-09-08T15:04:06.783Z"
   },
   {
    "duration": 1575,
    "start_time": "2022-09-08T15:04:13.321Z"
   },
   {
    "duration": 5875,
    "start_time": "2022-09-08T15:04:19.852Z"
   },
   {
    "duration": 1434,
    "start_time": "2022-09-08T15:04:37.734Z"
   },
   {
    "duration": 57,
    "start_time": "2022-09-08T15:04:39.170Z"
   },
   {
    "duration": 13,
    "start_time": "2022-09-08T15:04:39.229Z"
   },
   {
    "duration": 5,
    "start_time": "2022-09-08T15:04:39.243Z"
   },
   {
    "duration": 25,
    "start_time": "2022-09-08T15:04:39.250Z"
   },
   {
    "duration": 2,
    "start_time": "2022-09-08T15:04:39.276Z"
   },
   {
    "duration": 7,
    "start_time": "2022-09-08T15:04:39.280Z"
   },
   {
    "duration": 7,
    "start_time": "2022-09-08T15:04:39.288Z"
   },
   {
    "duration": 20,
    "start_time": "2022-09-08T15:04:39.296Z"
   },
   {
    "duration": 5,
    "start_time": "2022-09-08T15:04:39.318Z"
   },
   {
    "duration": 9,
    "start_time": "2022-09-08T15:04:39.325Z"
   },
   {
    "duration": 35,
    "start_time": "2022-09-08T15:04:39.336Z"
   },
   {
    "duration": 7,
    "start_time": "2022-09-08T15:04:39.372Z"
   },
   {
    "duration": 37,
    "start_time": "2022-09-08T15:04:39.381Z"
   },
   {
    "duration": 57,
    "start_time": "2022-09-08T15:04:39.419Z"
   },
   {
    "duration": 47,
    "start_time": "2022-09-08T15:04:39.478Z"
   },
   {
    "duration": 5870,
    "start_time": "2022-09-08T15:04:39.528Z"
   },
   {
    "duration": 1491,
    "start_time": "2022-09-08T15:05:01.704Z"
   },
   {
    "duration": 56,
    "start_time": "2022-09-08T15:05:03.197Z"
   },
   {
    "duration": 12,
    "start_time": "2022-09-08T15:05:03.256Z"
   },
   {
    "duration": 5,
    "start_time": "2022-09-08T15:05:03.270Z"
   },
   {
    "duration": 26,
    "start_time": "2022-09-08T15:05:03.276Z"
   },
   {
    "duration": 3,
    "start_time": "2022-09-08T15:05:03.303Z"
   },
   {
    "duration": 41,
    "start_time": "2022-09-08T15:05:03.307Z"
   },
   {
    "duration": 11,
    "start_time": "2022-09-08T15:05:03.349Z"
   },
   {
    "duration": 21,
    "start_time": "2022-09-08T15:05:03.361Z"
   },
   {
    "duration": 6,
    "start_time": "2022-09-08T15:05:03.384Z"
   },
   {
    "duration": 7,
    "start_time": "2022-09-08T15:05:03.391Z"
   },
   {
    "duration": 8,
    "start_time": "2022-09-08T15:05:03.399Z"
   },
   {
    "duration": 6,
    "start_time": "2022-09-08T15:05:03.408Z"
   },
   {
    "duration": 56,
    "start_time": "2022-09-08T15:05:03.415Z"
   },
   {
    "duration": 50,
    "start_time": "2022-09-08T15:05:03.473Z"
   },
   {
    "duration": 47,
    "start_time": "2022-09-08T15:05:03.526Z"
   },
   {
    "duration": 5903,
    "start_time": "2022-09-08T15:05:34.752Z"
   },
   {
    "duration": 1353,
    "start_time": "2022-09-08T15:05:57.919Z"
   },
   {
    "duration": 57,
    "start_time": "2022-09-08T15:05:59.274Z"
   },
   {
    "duration": 14,
    "start_time": "2022-09-08T15:05:59.333Z"
   },
   {
    "duration": 5,
    "start_time": "2022-09-08T15:05:59.349Z"
   },
   {
    "duration": 28,
    "start_time": "2022-09-08T15:05:59.355Z"
   },
   {
    "duration": 2,
    "start_time": "2022-09-08T15:05:59.385Z"
   },
   {
    "duration": 6,
    "start_time": "2022-09-08T15:05:59.389Z"
   },
   {
    "duration": 8,
    "start_time": "2022-09-08T15:05:59.397Z"
   },
   {
    "duration": 20,
    "start_time": "2022-09-08T15:05:59.406Z"
   },
   {
    "duration": 5,
    "start_time": "2022-09-08T15:05:59.429Z"
   },
   {
    "duration": 35,
    "start_time": "2022-09-08T15:05:59.436Z"
   },
   {
    "duration": 6,
    "start_time": "2022-09-08T15:05:59.473Z"
   },
   {
    "duration": 5,
    "start_time": "2022-09-08T15:05:59.481Z"
   },
   {
    "duration": 46,
    "start_time": "2022-09-08T15:05:59.487Z"
   },
   {
    "duration": 60,
    "start_time": "2022-09-08T15:05:59.534Z"
   },
   {
    "duration": 42,
    "start_time": "2022-09-08T15:05:59.596Z"
   },
   {
    "duration": 5962,
    "start_time": "2022-09-08T15:05:59.640Z"
   },
   {
    "duration": 3,
    "start_time": "2022-09-08T15:06:52.151Z"
   },
   {
    "duration": 2,
    "start_time": "2022-09-08T15:06:53.445Z"
   },
   {
    "duration": 1442,
    "start_time": "2022-09-08T15:09:09.362Z"
   },
   {
    "duration": 57,
    "start_time": "2022-09-08T15:09:10.806Z"
   },
   {
    "duration": 13,
    "start_time": "2022-09-08T15:09:10.866Z"
   },
   {
    "duration": 4,
    "start_time": "2022-09-08T15:09:10.881Z"
   },
   {
    "duration": 24,
    "start_time": "2022-09-08T15:09:10.887Z"
   },
   {
    "duration": 15,
    "start_time": "2022-09-08T15:09:10.913Z"
   },
   {
    "duration": 2,
    "start_time": "2022-09-08T15:09:10.930Z"
   },
   {
    "duration": 6,
    "start_time": "2022-09-08T15:09:10.933Z"
   },
   {
    "duration": 20,
    "start_time": "2022-09-08T15:09:10.968Z"
   },
   {
    "duration": 5,
    "start_time": "2022-09-08T15:09:10.991Z"
   },
   {
    "duration": 8,
    "start_time": "2022-09-08T15:09:10.998Z"
   },
   {
    "duration": 5,
    "start_time": "2022-09-08T15:09:11.008Z"
   },
   {
    "duration": 5,
    "start_time": "2022-09-08T15:09:11.015Z"
   },
   {
    "duration": 67,
    "start_time": "2022-09-08T15:09:11.021Z"
   },
   {
    "duration": 34,
    "start_time": "2022-09-08T15:09:11.089Z"
   },
   {
    "duration": 49,
    "start_time": "2022-09-08T15:09:11.124Z"
   },
   {
    "duration": 2074,
    "start_time": "2022-09-08T15:09:11.175Z"
   },
   {
    "duration": 7607,
    "start_time": "2022-09-08T15:14:24.894Z"
   },
   {
    "duration": 16329,
    "start_time": "2022-09-08T15:15:49.392Z"
   },
   {
    "duration": 2163,
    "start_time": "2022-09-08T15:16:11.945Z"
   },
   {
    "duration": 2147,
    "start_time": "2022-09-08T15:16:21.218Z"
   },
   {
    "duration": 2050,
    "start_time": "2022-09-08T15:16:27.501Z"
   },
   {
    "duration": 19,
    "start_time": "2022-09-08T15:16:34.202Z"
   },
   {
    "duration": 16,
    "start_time": "2022-09-08T15:16:37.522Z"
   },
   {
    "duration": 43,
    "start_time": "2022-09-08T15:16:39.430Z"
   },
   {
    "duration": 76,
    "start_time": "2022-09-08T15:16:48.329Z"
   },
   {
    "duration": 24,
    "start_time": "2022-09-08T15:16:52.481Z"
   },
   {
    "duration": 13,
    "start_time": "2022-09-08T15:17:00.998Z"
   },
   {
    "duration": 22,
    "start_time": "2022-09-08T15:17:02.979Z"
   },
   {
    "duration": 39,
    "start_time": "2022-09-08T15:17:11.781Z"
   },
   {
    "duration": 15,
    "start_time": "2022-09-08T15:17:14.973Z"
   },
   {
    "duration": 24,
    "start_time": "2022-09-08T15:17:19.698Z"
   },
   {
    "duration": 78,
    "start_time": "2022-09-08T15:17:22.722Z"
   },
   {
    "duration": 14,
    "start_time": "2022-09-08T15:17:25.334Z"
   },
   {
    "duration": 17,
    "start_time": "2022-09-08T15:19:55.511Z"
   },
   {
    "duration": 13,
    "start_time": "2022-09-08T15:20:00.708Z"
   },
   {
    "duration": 14,
    "start_time": "2022-09-08T15:20:04.812Z"
   },
   {
    "duration": 13,
    "start_time": "2022-09-08T15:20:09.393Z"
   },
   {
    "duration": 14,
    "start_time": "2022-09-08T15:20:13.425Z"
   },
   {
    "duration": 17,
    "start_time": "2022-09-08T15:20:16.662Z"
   },
   {
    "duration": 19,
    "start_time": "2022-09-08T15:21:14.133Z"
   },
   {
    "duration": 34,
    "start_time": "2022-09-08T15:21:28.568Z"
   },
   {
    "duration": 65,
    "start_time": "2022-09-08T15:21:35.865Z"
   },
   {
    "duration": 89,
    "start_time": "2022-09-08T15:21:40.180Z"
   },
   {
    "duration": 213,
    "start_time": "2022-09-08T15:22:07.215Z"
   },
   {
    "duration": 65,
    "start_time": "2022-09-08T15:22:21.603Z"
   },
   {
    "duration": 7,
    "start_time": "2022-09-08T15:22:47.378Z"
   },
   {
    "duration": 1399,
    "start_time": "2022-09-08T15:23:24.052Z"
   },
   {
    "duration": 58,
    "start_time": "2022-09-08T15:23:25.453Z"
   },
   {
    "duration": 14,
    "start_time": "2022-09-08T15:23:25.513Z"
   },
   {
    "duration": 4,
    "start_time": "2022-09-08T15:23:25.531Z"
   },
   {
    "duration": 32,
    "start_time": "2022-09-08T15:23:25.537Z"
   },
   {
    "duration": 16,
    "start_time": "2022-09-08T15:23:25.570Z"
   },
   {
    "duration": 2,
    "start_time": "2022-09-08T15:23:25.588Z"
   },
   {
    "duration": 5,
    "start_time": "2022-09-08T15:23:25.592Z"
   },
   {
    "duration": 22,
    "start_time": "2022-09-08T15:23:25.598Z"
   },
   {
    "duration": 5,
    "start_time": "2022-09-08T15:23:25.623Z"
   },
   {
    "duration": 14,
    "start_time": "2022-09-08T15:23:25.629Z"
   },
   {
    "duration": 6,
    "start_time": "2022-09-08T15:23:25.668Z"
   },
   {
    "duration": 7,
    "start_time": "2022-09-08T15:23:25.675Z"
   },
   {
    "duration": 38,
    "start_time": "2022-09-08T15:23:25.684Z"
   },
   {
    "duration": 50,
    "start_time": "2022-09-08T15:23:25.724Z"
   },
   {
    "duration": 36,
    "start_time": "2022-09-08T15:23:25.775Z"
   },
   {
    "duration": 2179,
    "start_time": "2022-09-08T15:23:25.812Z"
   },
   {
    "duration": 76,
    "start_time": "2022-09-08T15:23:27.993Z"
   },
   {
    "duration": 100,
    "start_time": "2022-09-08T15:23:28.070Z"
   },
   {
    "duration": 43,
    "start_time": "2022-09-08T15:23:28.172Z"
   },
   {
    "duration": 100,
    "start_time": "2022-09-08T15:23:28.216Z"
   },
   {
    "duration": 51,
    "start_time": "2022-09-08T15:23:28.318Z"
   },
   {
    "duration": 104,
    "start_time": "2022-09-08T15:23:28.371Z"
   },
   {
    "duration": 19,
    "start_time": "2022-09-08T15:23:28.476Z"
   },
   {
    "duration": 37,
    "start_time": "2022-09-08T15:23:28.497Z"
   },
   {
    "duration": 39,
    "start_time": "2022-09-08T15:23:28.536Z"
   },
   {
    "duration": 128,
    "start_time": "2022-09-08T15:23:28.667Z"
   },
   {
    "duration": 72,
    "start_time": "2022-09-08T15:23:28.798Z"
   },
   {
    "duration": 100,
    "start_time": "2022-09-08T15:23:28.872Z"
   },
   {
    "duration": 305,
    "start_time": "2022-09-08T15:23:28.975Z"
   },
   {
    "duration": 64,
    "start_time": "2022-09-08T15:23:29.282Z"
   },
   {
    "duration": 6,
    "start_time": "2022-09-08T15:23:29.348Z"
   },
   {
    "duration": 82,
    "start_time": "2022-09-08T15:24:42.152Z"
   },
   {
    "duration": 79,
    "start_time": "2022-09-08T15:24:46.580Z"
   },
   {
    "duration": 77,
    "start_time": "2022-09-08T15:27:34.755Z"
   },
   {
    "duration": 108,
    "start_time": "2022-09-08T15:27:40.753Z"
   },
   {
    "duration": 81,
    "start_time": "2022-09-08T15:28:12.566Z"
   },
   {
    "duration": 81,
    "start_time": "2022-09-08T15:28:24.896Z"
   },
   {
    "duration": 73,
    "start_time": "2022-09-08T15:28:36.876Z"
   },
   {
    "duration": 61,
    "start_time": "2022-09-08T15:30:25.032Z"
   },
   {
    "duration": 60,
    "start_time": "2022-09-08T15:30:43.691Z"
   },
   {
    "duration": 73,
    "start_time": "2022-09-08T15:31:06.140Z"
   },
   {
    "duration": 78,
    "start_time": "2022-09-08T15:31:36.663Z"
   },
   {
    "duration": 73,
    "start_time": "2022-09-08T15:31:47.042Z"
   },
   {
    "duration": 104,
    "start_time": "2022-09-08T15:32:40.542Z"
   },
   {
    "duration": 67,
    "start_time": "2022-09-08T15:32:42.120Z"
   },
   {
    "duration": 88,
    "start_time": "2022-09-08T15:32:56.834Z"
   },
   {
    "duration": 1475,
    "start_time": "2022-09-08T15:33:11.326Z"
   },
   {
    "duration": 57,
    "start_time": "2022-09-08T15:33:12.804Z"
   },
   {
    "duration": 17,
    "start_time": "2022-09-08T15:33:12.862Z"
   },
   {
    "duration": 7,
    "start_time": "2022-09-08T15:33:12.883Z"
   },
   {
    "duration": 28,
    "start_time": "2022-09-08T15:33:12.891Z"
   },
   {
    "duration": 15,
    "start_time": "2022-09-08T15:33:12.921Z"
   },
   {
    "duration": 4,
    "start_time": "2022-09-08T15:33:12.938Z"
   },
   {
    "duration": 24,
    "start_time": "2022-09-08T15:33:12.944Z"
   },
   {
    "duration": 31,
    "start_time": "2022-09-08T15:33:12.970Z"
   },
   {
    "duration": 5,
    "start_time": "2022-09-08T15:33:13.004Z"
   },
   {
    "duration": 8,
    "start_time": "2022-09-08T15:33:13.010Z"
   },
   {
    "duration": 6,
    "start_time": "2022-09-08T15:33:13.020Z"
   },
   {
    "duration": 5,
    "start_time": "2022-09-08T15:33:13.027Z"
   },
   {
    "duration": 77,
    "start_time": "2022-09-08T15:33:13.034Z"
   },
   {
    "duration": 33,
    "start_time": "2022-09-08T15:33:13.113Z"
   },
   {
    "duration": 48,
    "start_time": "2022-09-08T15:33:13.148Z"
   },
   {
    "duration": 78,
    "start_time": "2022-09-08T15:33:13.198Z"
   },
   {
    "duration": 0,
    "start_time": "2022-09-08T15:33:13.279Z"
   },
   {
    "duration": 0,
    "start_time": "2022-09-08T15:33:13.280Z"
   },
   {
    "duration": 0,
    "start_time": "2022-09-08T15:33:13.281Z"
   },
   {
    "duration": 0,
    "start_time": "2022-09-08T15:33:13.283Z"
   },
   {
    "duration": 0,
    "start_time": "2022-09-08T15:33:13.285Z"
   },
   {
    "duration": 0,
    "start_time": "2022-09-08T15:33:13.286Z"
   },
   {
    "duration": 0,
    "start_time": "2022-09-08T15:33:13.288Z"
   },
   {
    "duration": 0,
    "start_time": "2022-09-08T15:33:13.290Z"
   },
   {
    "duration": 0,
    "start_time": "2022-09-08T15:33:13.293Z"
   },
   {
    "duration": 0,
    "start_time": "2022-09-08T15:33:13.295Z"
   },
   {
    "duration": 0,
    "start_time": "2022-09-08T15:33:13.297Z"
   },
   {
    "duration": 0,
    "start_time": "2022-09-08T15:33:13.301Z"
   },
   {
    "duration": 0,
    "start_time": "2022-09-08T15:33:13.302Z"
   },
   {
    "duration": 0,
    "start_time": "2022-09-08T15:33:13.304Z"
   },
   {
    "duration": 0,
    "start_time": "2022-09-08T15:33:13.305Z"
   },
   {
    "duration": 0,
    "start_time": "2022-09-08T15:33:13.306Z"
   },
   {
    "duration": 5,
    "start_time": "2022-09-08T15:33:31.582Z"
   },
   {
    "duration": 113,
    "start_time": "2022-09-08T15:33:38.485Z"
   },
   {
    "duration": 2069,
    "start_time": "2022-09-08T15:34:03.881Z"
   },
   {
    "duration": 16200,
    "start_time": "2022-09-08T15:34:09.917Z"
   },
   {
    "duration": 288,
    "start_time": "2022-09-08T15:35:06.401Z"
   },
   {
    "duration": 74,
    "start_time": "2022-09-08T15:35:16.252Z"
   },
   {
    "duration": 2465,
    "start_time": "2022-09-08T15:35:40.047Z"
   },
   {
    "duration": 56,
    "start_time": "2022-09-08T15:35:42.514Z"
   },
   {
    "duration": 12,
    "start_time": "2022-09-08T15:35:42.572Z"
   },
   {
    "duration": 6,
    "start_time": "2022-09-08T15:35:42.586Z"
   },
   {
    "duration": 22,
    "start_time": "2022-09-08T15:35:42.593Z"
   },
   {
    "duration": 16,
    "start_time": "2022-09-08T15:35:42.616Z"
   },
   {
    "duration": 2,
    "start_time": "2022-09-08T15:35:42.634Z"
   },
   {
    "duration": 3,
    "start_time": "2022-09-08T15:35:42.667Z"
   },
   {
    "duration": 24,
    "start_time": "2022-09-08T15:35:42.671Z"
   },
   {
    "duration": 5,
    "start_time": "2022-09-08T15:35:42.697Z"
   },
   {
    "duration": 7,
    "start_time": "2022-09-08T15:35:42.704Z"
   },
   {
    "duration": 6,
    "start_time": "2022-09-08T15:35:42.713Z"
   },
   {
    "duration": 5,
    "start_time": "2022-09-08T15:35:42.722Z"
   },
   {
    "duration": 72,
    "start_time": "2022-09-08T15:35:42.729Z"
   },
   {
    "duration": 33,
    "start_time": "2022-09-08T15:35:42.803Z"
   },
   {
    "duration": 52,
    "start_time": "2022-09-08T15:35:42.838Z"
   },
   {
    "duration": 16303,
    "start_time": "2022-09-08T15:35:46.792Z"
   },
   {
    "duration": 73,
    "start_time": "2022-09-08T15:36:07.597Z"
   },
   {
    "duration": 25,
    "start_time": "2022-09-08T15:36:12.473Z"
   },
   {
    "duration": 17,
    "start_time": "2022-09-08T15:36:16.750Z"
   },
   {
    "duration": 41,
    "start_time": "2022-09-08T15:36:18.697Z"
   },
   {
    "duration": 88,
    "start_time": "2022-09-08T15:36:21.841Z"
   },
   {
    "duration": 56,
    "start_time": "2022-09-08T15:36:25.015Z"
   },
   {
    "duration": 16,
    "start_time": "2022-09-08T15:36:27.924Z"
   },
   {
    "duration": 27,
    "start_time": "2022-09-08T15:36:30.166Z"
   },
   {
    "duration": 48,
    "start_time": "2022-09-08T15:36:31.972Z"
   },
   {
    "duration": 46,
    "start_time": "2022-09-08T15:36:34.423Z"
   },
   {
    "duration": 41,
    "start_time": "2022-09-08T15:36:36.256Z"
   },
   {
    "duration": 69,
    "start_time": "2022-09-08T15:36:38.709Z"
   },
   {
    "duration": 24,
    "start_time": "2022-09-08T15:36:44.286Z"
   },
   {
    "duration": 241,
    "start_time": "2022-09-08T15:36:48.949Z"
   },
   {
    "duration": 75,
    "start_time": "2022-09-08T15:36:52.650Z"
   },
   {
    "duration": 8,
    "start_time": "2022-09-08T15:36:56.544Z"
   },
   {
    "duration": 16293,
    "start_time": "2022-09-08T15:38:01.818Z"
   },
   {
    "duration": 1481,
    "start_time": "2022-09-08T15:38:25.686Z"
   },
   {
    "duration": 57,
    "start_time": "2022-09-08T15:38:27.169Z"
   },
   {
    "duration": 14,
    "start_time": "2022-09-08T15:38:27.228Z"
   },
   {
    "duration": 4,
    "start_time": "2022-09-08T15:38:27.244Z"
   },
   {
    "duration": 26,
    "start_time": "2022-09-08T15:38:27.250Z"
   },
   {
    "duration": 16,
    "start_time": "2022-09-08T15:38:27.277Z"
   },
   {
    "duration": 2,
    "start_time": "2022-09-08T15:38:27.295Z"
   },
   {
    "duration": 7,
    "start_time": "2022-09-08T15:38:27.299Z"
   },
   {
    "duration": 22,
    "start_time": "2022-09-08T15:38:27.307Z"
   },
   {
    "duration": 5,
    "start_time": "2022-09-08T15:38:27.332Z"
   },
   {
    "duration": 31,
    "start_time": "2022-09-08T15:38:27.339Z"
   },
   {
    "duration": 6,
    "start_time": "2022-09-08T15:38:27.372Z"
   },
   {
    "duration": 7,
    "start_time": "2022-09-08T15:38:27.379Z"
   },
   {
    "duration": 39,
    "start_time": "2022-09-08T15:38:27.388Z"
   },
   {
    "duration": 58,
    "start_time": "2022-09-08T15:38:27.428Z"
   },
   {
    "duration": 41,
    "start_time": "2022-09-08T15:38:27.487Z"
   },
   {
    "duration": 17162,
    "start_time": "2022-09-08T15:38:27.530Z"
   },
   {
    "duration": 78,
    "start_time": "2022-09-08T15:38:44.694Z"
   },
   {
    "duration": 99,
    "start_time": "2022-09-08T15:38:44.774Z"
   },
   {
    "duration": 41,
    "start_time": "2022-09-08T15:38:44.875Z"
   },
   {
    "duration": 102,
    "start_time": "2022-09-08T15:38:44.919Z"
   },
   {
    "duration": 47,
    "start_time": "2022-09-08T15:38:45.023Z"
   },
   {
    "duration": 97,
    "start_time": "2022-09-08T15:38:45.074Z"
   },
   {
    "duration": 21,
    "start_time": "2022-09-08T15:38:45.173Z"
   },
   {
    "duration": 42,
    "start_time": "2022-09-08T15:38:45.196Z"
   },
   {
    "duration": 128,
    "start_time": "2022-09-08T15:38:45.240Z"
   },
   {
    "duration": 132,
    "start_time": "2022-09-08T15:38:45.371Z"
   },
   {
    "duration": 84,
    "start_time": "2022-09-08T15:38:45.506Z"
   },
   {
    "duration": 81,
    "start_time": "2022-09-08T15:38:45.592Z"
   },
   {
    "duration": 305,
    "start_time": "2022-09-08T15:38:45.675Z"
   },
   {
    "duration": 69,
    "start_time": "2022-09-08T15:38:45.982Z"
   },
   {
    "duration": 20,
    "start_time": "2022-09-08T15:38:46.053Z"
   },
   {
    "duration": 2068,
    "start_time": "2022-09-08T15:38:53.127Z"
   },
   {
    "duration": 5,
    "start_time": "2022-09-08T15:39:01.708Z"
   },
   {
    "duration": 60,
    "start_time": "2022-09-08T15:39:01.716Z"
   },
   {
    "duration": 11,
    "start_time": "2022-09-08T15:39:01.778Z"
   },
   {
    "duration": 5,
    "start_time": "2022-09-08T15:39:01.792Z"
   },
   {
    "duration": 29,
    "start_time": "2022-09-08T15:39:01.798Z"
   },
   {
    "duration": 17,
    "start_time": "2022-09-08T15:39:01.829Z"
   },
   {
    "duration": 3,
    "start_time": "2022-09-08T15:39:01.867Z"
   },
   {
    "duration": 16,
    "start_time": "2022-09-08T15:39:01.872Z"
   },
   {
    "duration": 38,
    "start_time": "2022-09-08T15:39:01.889Z"
   },
   {
    "duration": 5,
    "start_time": "2022-09-08T15:39:01.931Z"
   },
   {
    "duration": 16,
    "start_time": "2022-09-08T15:39:01.938Z"
   },
   {
    "duration": 11,
    "start_time": "2022-09-08T15:39:01.955Z"
   },
   {
    "duration": 22,
    "start_time": "2022-09-08T15:39:01.968Z"
   },
   {
    "duration": 61,
    "start_time": "2022-09-08T15:39:01.991Z"
   },
   {
    "duration": 33,
    "start_time": "2022-09-08T15:39:02.053Z"
   },
   {
    "duration": 35,
    "start_time": "2022-09-08T15:39:02.088Z"
   },
   {
    "duration": 2124,
    "start_time": "2022-09-08T15:39:02.125Z"
   },
   {
    "duration": 36,
    "start_time": "2022-09-08T15:39:04.251Z"
   },
   {
    "duration": 97,
    "start_time": "2022-09-08T15:39:04.372Z"
   },
   {
    "duration": 41,
    "start_time": "2022-09-08T15:39:04.471Z"
   },
   {
    "duration": 97,
    "start_time": "2022-09-08T15:39:04.514Z"
   },
   {
    "duration": 61,
    "start_time": "2022-09-08T15:39:04.613Z"
   },
   {
    "duration": 100,
    "start_time": "2022-09-08T15:39:04.677Z"
   },
   {
    "duration": 20,
    "start_time": "2022-09-08T15:39:04.779Z"
   },
   {
    "duration": 92,
    "start_time": "2022-09-08T15:39:04.801Z"
   },
   {
    "duration": 78,
    "start_time": "2022-09-08T15:39:04.895Z"
   },
   {
    "duration": 132,
    "start_time": "2022-09-08T15:39:04.975Z"
   },
   {
    "duration": 92,
    "start_time": "2022-09-08T15:39:05.112Z"
   },
   {
    "duration": 20,
    "start_time": "2022-09-08T15:39:05.206Z"
   },
   {
    "duration": 330,
    "start_time": "2022-09-08T15:39:05.268Z"
   },
   {
    "duration": 82,
    "start_time": "2022-09-08T15:39:05.600Z"
   },
   {
    "duration": 7,
    "start_time": "2022-09-08T15:39:05.684Z"
   },
   {
    "duration": 1445,
    "start_time": "2022-09-08T15:39:21.626Z"
   },
   {
    "duration": 58,
    "start_time": "2022-09-08T15:39:23.073Z"
   },
   {
    "duration": 13,
    "start_time": "2022-09-08T15:39:23.133Z"
   },
   {
    "duration": 6,
    "start_time": "2022-09-08T15:39:23.148Z"
   },
   {
    "duration": 26,
    "start_time": "2022-09-08T15:39:23.155Z"
   },
   {
    "duration": 15,
    "start_time": "2022-09-08T15:39:23.182Z"
   },
   {
    "duration": 2,
    "start_time": "2022-09-08T15:39:23.199Z"
   },
   {
    "duration": 7,
    "start_time": "2022-09-08T15:39:23.203Z"
   },
   {
    "duration": 23,
    "start_time": "2022-09-08T15:39:23.211Z"
   },
   {
    "duration": 31,
    "start_time": "2022-09-08T15:39:23.237Z"
   },
   {
    "duration": 7,
    "start_time": "2022-09-08T15:39:23.269Z"
   },
   {
    "duration": 7,
    "start_time": "2022-09-08T15:39:23.278Z"
   },
   {
    "duration": 5,
    "start_time": "2022-09-08T15:39:23.286Z"
   },
   {
    "duration": 46,
    "start_time": "2022-09-08T15:39:23.293Z"
   },
   {
    "duration": 58,
    "start_time": "2022-09-08T15:39:23.341Z"
   },
   {
    "duration": 36,
    "start_time": "2022-09-08T15:39:23.401Z"
   },
   {
    "duration": 7978,
    "start_time": "2022-09-08T15:39:23.439Z"
   },
   {
    "duration": 24,
    "start_time": "2022-09-08T15:39:31.468Z"
   },
   {
    "duration": 112,
    "start_time": "2022-09-08T15:39:31.570Z"
   },
   {
    "duration": 89,
    "start_time": "2022-09-08T15:39:31.684Z"
   },
   {
    "duration": 135,
    "start_time": "2022-09-08T15:39:31.775Z"
   },
   {
    "duration": 156,
    "start_time": "2022-09-08T15:39:31.912Z"
   },
   {
    "duration": 100,
    "start_time": "2022-09-08T15:39:32.070Z"
   },
   {
    "duration": 22,
    "start_time": "2022-09-08T15:39:32.172Z"
   },
   {
    "duration": 99,
    "start_time": "2022-09-08T15:39:32.195Z"
   },
   {
    "duration": 80,
    "start_time": "2022-09-08T15:39:32.296Z"
   },
   {
    "duration": 120,
    "start_time": "2022-09-08T15:39:32.378Z"
   },
   {
    "duration": 176,
    "start_time": "2022-09-08T15:39:32.502Z"
   },
   {
    "duration": 94,
    "start_time": "2022-09-08T15:39:32.680Z"
   },
   {
    "duration": 434,
    "start_time": "2022-09-08T15:39:32.776Z"
   },
   {
    "duration": 77,
    "start_time": "2022-09-08T15:39:33.212Z"
   },
   {
    "duration": 7,
    "start_time": "2022-09-08T15:39:33.291Z"
   },
   {
    "duration": 1428,
    "start_time": "2022-09-08T15:39:54.635Z"
   },
   {
    "duration": 68,
    "start_time": "2022-09-08T15:39:56.065Z"
   },
   {
    "duration": 14,
    "start_time": "2022-09-08T15:39:56.135Z"
   },
   {
    "duration": 11,
    "start_time": "2022-09-08T15:39:56.151Z"
   },
   {
    "duration": 39,
    "start_time": "2022-09-08T15:39:56.164Z"
   },
   {
    "duration": 15,
    "start_time": "2022-09-08T15:39:56.205Z"
   },
   {
    "duration": 3,
    "start_time": "2022-09-08T15:39:56.222Z"
   },
   {
    "duration": 9,
    "start_time": "2022-09-08T15:39:56.226Z"
   },
   {
    "duration": 24,
    "start_time": "2022-09-08T15:39:56.237Z"
   },
   {
    "duration": 7,
    "start_time": "2022-09-08T15:39:56.264Z"
   },
   {
    "duration": 11,
    "start_time": "2022-09-08T15:39:56.273Z"
   },
   {
    "duration": 12,
    "start_time": "2022-09-08T15:39:56.287Z"
   },
   {
    "duration": 9,
    "start_time": "2022-09-08T15:39:56.301Z"
   },
   {
    "duration": 38,
    "start_time": "2022-09-08T15:39:56.312Z"
   },
   {
    "duration": 44,
    "start_time": "2022-09-08T15:39:56.352Z"
   },
   {
    "duration": 37,
    "start_time": "2022-09-08T15:39:56.398Z"
   },
   {
    "duration": 8131,
    "start_time": "2022-09-08T15:39:56.437Z"
   },
   {
    "duration": 96,
    "start_time": "2022-09-08T15:40:04.571Z"
   },
   {
    "duration": 115,
    "start_time": "2022-09-08T15:40:04.671Z"
   },
   {
    "duration": 42,
    "start_time": "2022-09-08T15:40:04.788Z"
   },
   {
    "duration": 92,
    "start_time": "2022-09-08T15:40:04.832Z"
   },
   {
    "duration": 48,
    "start_time": "2022-09-08T15:40:04.926Z"
   },
   {
    "duration": 96,
    "start_time": "2022-09-08T15:40:04.979Z"
   },
   {
    "duration": 28,
    "start_time": "2022-09-08T15:40:05.086Z"
   },
   {
    "duration": 57,
    "start_time": "2022-09-08T15:40:05.116Z"
   },
   {
    "duration": 20,
    "start_time": "2022-09-08T15:40:05.177Z"
   },
   {
    "duration": 188,
    "start_time": "2022-09-08T15:40:05.199Z"
   },
   {
    "duration": 90,
    "start_time": "2022-09-08T15:40:05.390Z"
   },
   {
    "duration": 26,
    "start_time": "2022-09-08T15:40:05.483Z"
   },
   {
    "duration": 339,
    "start_time": "2022-09-08T15:40:05.568Z"
   },
   {
    "duration": 85,
    "start_time": "2022-09-08T15:40:05.909Z"
   },
   {
    "duration": 6,
    "start_time": "2022-09-08T15:40:05.995Z"
   },
   {
    "duration": 13,
    "start_time": "2022-09-08T15:45:04.980Z"
   },
   {
    "duration": 12,
    "start_time": "2022-09-08T15:45:18.261Z"
   },
   {
    "duration": 1547,
    "start_time": "2022-09-08T15:45:36.352Z"
   },
   {
    "duration": 60,
    "start_time": "2022-09-08T15:45:37.901Z"
   },
   {
    "duration": 15,
    "start_time": "2022-09-08T15:45:37.963Z"
   },
   {
    "duration": 6,
    "start_time": "2022-09-08T15:45:37.982Z"
   },
   {
    "duration": 28,
    "start_time": "2022-09-08T15:45:37.990Z"
   },
   {
    "duration": 15,
    "start_time": "2022-09-08T15:45:38.020Z"
   },
   {
    "duration": 2,
    "start_time": "2022-09-08T15:45:38.037Z"
   },
   {
    "duration": 29,
    "start_time": "2022-09-08T15:45:38.041Z"
   },
   {
    "duration": 26,
    "start_time": "2022-09-08T15:45:38.072Z"
   },
   {
    "duration": 5,
    "start_time": "2022-09-08T15:45:38.101Z"
   },
   {
    "duration": 7,
    "start_time": "2022-09-08T15:45:38.108Z"
   },
   {
    "duration": 7,
    "start_time": "2022-09-08T15:45:38.117Z"
   },
   {
    "duration": 5,
    "start_time": "2022-09-08T15:45:38.126Z"
   },
   {
    "duration": 73,
    "start_time": "2022-09-08T15:45:38.133Z"
   },
   {
    "duration": 34,
    "start_time": "2022-09-08T15:45:38.208Z"
   },
   {
    "duration": 43,
    "start_time": "2022-09-08T15:45:39.265Z"
   },
   {
    "duration": 44,
    "start_time": "2022-09-08T15:45:45.635Z"
   },
   {
    "duration": 7989,
    "start_time": "2022-09-08T15:45:46.690Z"
   },
   {
    "duration": 84,
    "start_time": "2022-09-08T15:45:54.685Z"
   },
   {
    "duration": 12,
    "start_time": "2022-09-08T15:46:04.247Z"
   },
   {
    "duration": 47,
    "start_time": "2022-09-08T15:46:09.574Z"
   },
   {
    "duration": 95,
    "start_time": "2022-09-08T15:46:15.403Z"
   },
   {
    "duration": 126,
    "start_time": "2022-09-08T15:46:26.952Z"
   },
   {
    "duration": 121,
    "start_time": "2022-09-08T15:46:36.499Z"
   },
   {
    "duration": 100,
    "start_time": "2022-09-08T15:46:41.377Z"
   },
   {
    "duration": 19,
    "start_time": "2022-09-08T15:46:42.485Z"
   },
   {
    "duration": 28,
    "start_time": "2022-09-08T15:46:45.146Z"
   },
   {
    "duration": 51,
    "start_time": "2022-09-08T15:46:50.850Z"
   },
   {
    "duration": 17,
    "start_time": "2022-09-08T15:46:55.825Z"
   },
   {
    "duration": 47,
    "start_time": "2022-09-08T15:47:03.014Z"
   },
   {
    "duration": 71,
    "start_time": "2022-09-08T15:47:12.618Z"
   },
   {
    "duration": 23,
    "start_time": "2022-09-08T15:47:18.580Z"
   },
   {
    "duration": 223,
    "start_time": "2022-09-08T15:47:33.660Z"
   },
   {
    "duration": 8442,
    "start_time": "2022-09-08T15:48:31.401Z"
   },
   {
    "duration": 8217,
    "start_time": "2022-09-08T15:48:47.641Z"
   },
   {
    "duration": 8226,
    "start_time": "2022-09-08T15:49:02.168Z"
   },
   {
    "duration": 1717,
    "start_time": "2022-09-08T15:49:26.255Z"
   },
   {
    "duration": 57,
    "start_time": "2022-09-08T15:49:27.976Z"
   },
   {
    "duration": 13,
    "start_time": "2022-09-08T15:49:28.034Z"
   },
   {
    "duration": 5,
    "start_time": "2022-09-08T15:49:28.049Z"
   },
   {
    "duration": 30,
    "start_time": "2022-09-08T15:49:28.055Z"
   },
   {
    "duration": 34,
    "start_time": "2022-09-08T15:49:28.087Z"
   },
   {
    "duration": 2,
    "start_time": "2022-09-08T15:49:28.123Z"
   },
   {
    "duration": 6,
    "start_time": "2022-09-08T15:49:28.127Z"
   },
   {
    "duration": 21,
    "start_time": "2022-09-08T15:49:28.134Z"
   },
   {
    "duration": 5,
    "start_time": "2022-09-08T15:49:28.158Z"
   },
   {
    "duration": 14,
    "start_time": "2022-09-08T15:49:28.165Z"
   },
   {
    "duration": 9,
    "start_time": "2022-09-08T15:49:28.184Z"
   },
   {
    "duration": 4,
    "start_time": "2022-09-08T15:49:28.194Z"
   },
   {
    "duration": 36,
    "start_time": "2022-09-08T15:49:28.200Z"
   },
   {
    "duration": 46,
    "start_time": "2022-09-08T15:49:28.238Z"
   },
   {
    "duration": 39,
    "start_time": "2022-09-08T15:49:28.287Z"
   },
   {
    "duration": 10155,
    "start_time": "2022-09-08T15:49:28.368Z"
   },
   {
    "duration": 51,
    "start_time": "2022-09-08T15:49:38.524Z"
   },
   {
    "duration": 100,
    "start_time": "2022-09-08T15:49:38.576Z"
   },
   {
    "duration": 118,
    "start_time": "2022-09-08T15:49:38.678Z"
   },
   {
    "duration": 117,
    "start_time": "2022-09-08T15:49:38.797Z"
   },
   {
    "duration": 153,
    "start_time": "2022-09-08T15:49:38.916Z"
   },
   {
    "duration": 100,
    "start_time": "2022-09-08T15:49:39.071Z"
   },
   {
    "duration": 22,
    "start_time": "2022-09-08T15:49:39.173Z"
   },
   {
    "duration": 72,
    "start_time": "2022-09-08T15:49:39.196Z"
   },
   {
    "duration": 97,
    "start_time": "2022-09-08T15:49:39.270Z"
   },
   {
    "duration": 131,
    "start_time": "2022-09-08T15:49:39.370Z"
   },
   {
    "duration": 96,
    "start_time": "2022-09-08T15:49:39.505Z"
   },
   {
    "duration": 66,
    "start_time": "2022-09-08T15:49:39.603Z"
   },
   {
    "duration": 327,
    "start_time": "2022-09-08T15:49:39.670Z"
   },
   {
    "duration": 86,
    "start_time": "2022-09-08T15:49:39.999Z"
   },
   {
    "duration": 8,
    "start_time": "2022-09-08T15:49:40.087Z"
   },
   {
    "duration": 1405,
    "start_time": "2022-09-08T15:50:43.442Z"
   },
   {
    "duration": 60,
    "start_time": "2022-09-08T15:50:44.849Z"
   },
   {
    "duration": 13,
    "start_time": "2022-09-08T15:50:44.911Z"
   },
   {
    "duration": 7,
    "start_time": "2022-09-08T15:50:44.927Z"
   },
   {
    "duration": 37,
    "start_time": "2022-09-08T15:50:44.936Z"
   },
   {
    "duration": 17,
    "start_time": "2022-09-08T15:50:44.974Z"
   },
   {
    "duration": 3,
    "start_time": "2022-09-08T15:50:44.992Z"
   },
   {
    "duration": 15,
    "start_time": "2022-09-08T15:50:44.996Z"
   },
   {
    "duration": 42,
    "start_time": "2022-09-08T15:50:45.013Z"
   },
   {
    "duration": 6,
    "start_time": "2022-09-08T15:50:45.057Z"
   },
   {
    "duration": 8,
    "start_time": "2022-09-08T15:50:45.064Z"
   },
   {
    "duration": 9,
    "start_time": "2022-09-08T15:50:45.073Z"
   },
   {
    "duration": 10,
    "start_time": "2022-09-08T15:50:45.084Z"
   },
   {
    "duration": 49,
    "start_time": "2022-09-08T15:50:45.096Z"
   },
   {
    "duration": 46,
    "start_time": "2022-09-08T15:50:45.147Z"
   },
   {
    "duration": 40,
    "start_time": "2022-09-08T15:50:45.195Z"
   },
   {
    "duration": 5782,
    "start_time": "2022-09-08T15:50:45.236Z"
   },
   {
    "duration": 57,
    "start_time": "2022-09-08T15:50:51.020Z"
   },
   {
    "duration": 99,
    "start_time": "2022-09-08T15:50:51.078Z"
   },
   {
    "duration": 47,
    "start_time": "2022-09-08T15:50:51.268Z"
   },
   {
    "duration": 103,
    "start_time": "2022-09-08T15:50:51.317Z"
   },
   {
    "duration": 153,
    "start_time": "2022-09-08T15:50:51.422Z"
   },
   {
    "duration": 100,
    "start_time": "2022-09-08T15:50:51.577Z"
   },
   {
    "duration": 24,
    "start_time": "2022-09-08T15:50:51.678Z"
   },
   {
    "duration": 95,
    "start_time": "2022-09-08T15:50:51.704Z"
   },
   {
    "duration": 167,
    "start_time": "2022-09-08T15:50:51.801Z"
   },
   {
    "duration": 133,
    "start_time": "2022-09-08T15:50:51.970Z"
   },
   {
    "duration": 87,
    "start_time": "2022-09-08T15:50:52.107Z"
   },
   {
    "duration": 75,
    "start_time": "2022-09-08T15:50:52.196Z"
   },
   {
    "duration": 311,
    "start_time": "2022-09-08T15:50:52.273Z"
   },
   {
    "duration": 86,
    "start_time": "2022-09-08T15:50:52.586Z"
   },
   {
    "duration": 7,
    "start_time": "2022-09-08T15:50:52.674Z"
   },
   {
    "duration": 56,
    "start_time": "2022-09-08T21:10:47.983Z"
   },
   {
    "duration": 148,
    "start_time": "2022-09-08T21:12:25.536Z"
   },
   {
    "duration": 59,
    "start_time": "2022-09-08T21:12:51.969Z"
   },
   {
    "duration": 56,
    "start_time": "2022-09-08T21:12:58.572Z"
   },
   {
    "duration": 9,
    "start_time": "2022-09-08T21:16:55.777Z"
   },
   {
    "duration": 9,
    "start_time": "2022-09-08T21:17:03.597Z"
   },
   {
    "duration": 8,
    "start_time": "2022-09-08T21:17:18.352Z"
   },
   {
    "duration": 108,
    "start_time": "2022-09-08T21:17:22.810Z"
   },
   {
    "duration": 145,
    "start_time": "2022-09-08T21:18:15.004Z"
   },
   {
    "duration": 153,
    "start_time": "2022-09-08T21:18:20.712Z"
   },
   {
    "duration": 229,
    "start_time": "2022-09-08T21:18:48.492Z"
   },
   {
    "duration": 61,
    "start_time": "2022-09-08T21:19:04.203Z"
   },
   {
    "duration": 138,
    "start_time": "2022-09-08T21:19:07.008Z"
   },
   {
    "duration": 143,
    "start_time": "2022-09-08T21:19:13.116Z"
   },
   {
    "duration": 163,
    "start_time": "2022-09-08T21:19:33.984Z"
   },
   {
    "duration": 213,
    "start_time": "2022-09-08T21:19:43.878Z"
   },
   {
    "duration": 213,
    "start_time": "2022-09-08T21:19:49.749Z"
   },
   {
    "duration": 194,
    "start_time": "2022-09-08T21:19:55.092Z"
   },
   {
    "duration": 298,
    "start_time": "2022-09-08T21:24:32.840Z"
   },
   {
    "duration": 191,
    "start_time": "2022-09-08T21:25:58.350Z"
   },
   {
    "duration": 215,
    "start_time": "2022-09-08T21:26:22.468Z"
   },
   {
    "duration": 299,
    "start_time": "2022-09-08T21:26:36.180Z"
   },
   {
    "duration": 170,
    "start_time": "2022-09-08T21:26:41.188Z"
   },
   {
    "duration": 206,
    "start_time": "2022-09-08T21:26:59.037Z"
   },
   {
    "duration": 156,
    "start_time": "2022-09-08T21:28:27.900Z"
   },
   {
    "duration": 159,
    "start_time": "2022-09-08T21:31:12.178Z"
   },
   {
    "duration": 152,
    "start_time": "2022-09-08T21:32:01.103Z"
   },
   {
    "duration": 63,
    "start_time": "2022-09-08T21:32:17.082Z"
   },
   {
    "duration": 192,
    "start_time": "2022-09-08T21:32:26.093Z"
   },
   {
    "duration": 191,
    "start_time": "2022-09-08T21:33:05.298Z"
   },
   {
    "duration": 206,
    "start_time": "2022-09-08T21:33:22.200Z"
   },
   {
    "duration": 184,
    "start_time": "2022-09-08T21:35:14.614Z"
   },
   {
    "duration": 198,
    "start_time": "2022-09-08T21:36:11.800Z"
   },
   {
    "duration": 166,
    "start_time": "2022-09-08T21:37:23.021Z"
   },
   {
    "duration": 8,
    "start_time": "2022-09-08T21:37:53.744Z"
   },
   {
    "duration": 198,
    "start_time": "2022-09-08T21:38:50.284Z"
   },
   {
    "duration": 184,
    "start_time": "2022-09-08T21:39:09.517Z"
   },
   {
    "duration": 123,
    "start_time": "2022-09-08T21:41:28.186Z"
   },
   {
    "duration": 101,
    "start_time": "2022-09-08T21:41:44.782Z"
   },
   {
    "duration": 185,
    "start_time": "2022-09-08T21:41:57.262Z"
   },
   {
    "duration": 137,
    "start_time": "2022-09-08T21:43:29.196Z"
   },
   {
    "duration": 156,
    "start_time": "2022-09-08T21:43:57.209Z"
   },
   {
    "duration": 64,
    "start_time": "2022-09-08T21:45:28.982Z"
   },
   {
    "duration": 20,
    "start_time": "2022-09-08T21:45:41.555Z"
   },
   {
    "duration": 14,
    "start_time": "2022-09-08T21:46:54.002Z"
   },
   {
    "duration": 189,
    "start_time": "2022-09-08T21:47:11.521Z"
   },
   {
    "duration": 84,
    "start_time": "2022-09-08T21:47:38.012Z"
   },
   {
    "duration": 117,
    "start_time": "2022-09-08T21:47:44.647Z"
   },
   {
    "duration": 123,
    "start_time": "2022-09-08T21:49:14.679Z"
   },
   {
    "duration": 127,
    "start_time": "2022-09-08T21:51:15.831Z"
   },
   {
    "duration": 223,
    "start_time": "2022-09-08T21:51:37.312Z"
   },
   {
    "duration": 84,
    "start_time": "2022-09-08T21:52:30.915Z"
   },
   {
    "duration": 81,
    "start_time": "2022-09-08T21:52:36.423Z"
   },
   {
    "duration": 92,
    "start_time": "2022-09-08T21:52:42.087Z"
   },
   {
    "duration": 82,
    "start_time": "2022-09-08T21:52:50.801Z"
   },
   {
    "duration": 74,
    "start_time": "2022-09-08T21:53:09.438Z"
   },
   {
    "duration": 90,
    "start_time": "2022-09-08T21:53:20.967Z"
   },
   {
    "duration": 87,
    "start_time": "2022-09-08T21:53:56.049Z"
   },
   {
    "duration": 190,
    "start_time": "2022-09-08T21:54:08.094Z"
   },
   {
    "duration": 81,
    "start_time": "2022-09-08T21:54:27.623Z"
   },
   {
    "duration": 105,
    "start_time": "2022-09-08T21:54:37.643Z"
   },
   {
    "duration": 218,
    "start_time": "2022-09-08T21:55:03.989Z"
   },
   {
    "duration": 191,
    "start_time": "2022-09-08T21:55:07.721Z"
   },
   {
    "duration": 192,
    "start_time": "2022-09-08T21:55:16.958Z"
   },
   {
    "duration": 194,
    "start_time": "2022-09-08T21:55:23.390Z"
   },
   {
    "duration": 180,
    "start_time": "2022-09-08T21:55:40.519Z"
   },
   {
    "duration": 177,
    "start_time": "2022-09-08T21:55:59.032Z"
   },
   {
    "duration": 228,
    "start_time": "2022-09-08T21:56:05.566Z"
   },
   {
    "duration": 205,
    "start_time": "2022-09-08T21:56:41.504Z"
   },
   {
    "duration": 1768,
    "start_time": "2022-09-08T21:57:01.886Z"
   },
   {
    "duration": 72,
    "start_time": "2022-09-08T21:57:17.882Z"
   },
   {
    "duration": 316,
    "start_time": "2022-09-08T21:57:21.881Z"
   },
   {
    "duration": 83,
    "start_time": "2022-09-08T21:58:22.645Z"
   },
   {
    "duration": 200,
    "start_time": "2022-09-08T22:00:29.790Z"
   },
   {
    "duration": 4,
    "start_time": "2022-09-08T22:01:12.842Z"
   },
   {
    "duration": 190,
    "start_time": "2022-09-08T22:01:22.648Z"
   },
   {
    "duration": 201,
    "start_time": "2022-09-08T22:03:41.117Z"
   },
   {
    "duration": 237,
    "start_time": "2022-09-08T22:03:54.648Z"
   },
   {
    "duration": 215,
    "start_time": "2022-09-08T22:04:02.737Z"
   },
   {
    "duration": 223,
    "start_time": "2022-09-08T22:04:10.855Z"
   },
   {
    "duration": 201,
    "start_time": "2022-09-08T22:04:37.616Z"
   },
   {
    "duration": 227,
    "start_time": "2022-09-08T22:04:46.036Z"
   },
   {
    "duration": 1398,
    "start_time": "2022-09-08T22:10:09.865Z"
   },
   {
    "duration": 62,
    "start_time": "2022-09-08T22:10:11.266Z"
   },
   {
    "duration": 12,
    "start_time": "2022-09-08T22:10:11.330Z"
   },
   {
    "duration": 4,
    "start_time": "2022-09-08T22:10:11.344Z"
   },
   {
    "duration": 30,
    "start_time": "2022-09-08T22:10:11.349Z"
   },
   {
    "duration": 14,
    "start_time": "2022-09-08T22:10:11.382Z"
   },
   {
    "duration": 2,
    "start_time": "2022-09-08T22:10:11.398Z"
   },
   {
    "duration": 7,
    "start_time": "2022-09-08T22:10:11.401Z"
   },
   {
    "duration": 19,
    "start_time": "2022-09-08T22:10:11.409Z"
   },
   {
    "duration": 5,
    "start_time": "2022-09-08T22:10:11.430Z"
   },
   {
    "duration": 6,
    "start_time": "2022-09-08T22:10:11.436Z"
   },
   {
    "duration": 6,
    "start_time": "2022-09-08T22:10:11.444Z"
   },
   {
    "duration": 15,
    "start_time": "2022-09-08T22:10:11.467Z"
   },
   {
    "duration": 50,
    "start_time": "2022-09-08T22:10:11.484Z"
   },
   {
    "duration": 31,
    "start_time": "2022-09-08T22:10:11.535Z"
   },
   {
    "duration": 38,
    "start_time": "2022-09-08T22:10:11.572Z"
   },
   {
    "duration": 5507,
    "start_time": "2022-09-08T22:10:11.612Z"
   },
   {
    "duration": 58,
    "start_time": "2022-09-08T22:10:17.121Z"
   },
   {
    "duration": 105,
    "start_time": "2022-09-08T22:10:17.181Z"
   },
   {
    "duration": 56,
    "start_time": "2022-09-08T22:10:17.368Z"
   },
   {
    "duration": 82,
    "start_time": "2022-09-08T22:10:17.426Z"
   },
   {
    "duration": 68,
    "start_time": "2022-09-08T22:10:17.510Z"
   },
   {
    "duration": 90,
    "start_time": "2022-09-08T22:10:17.579Z"
   },
   {
    "duration": 37,
    "start_time": "2022-09-08T22:10:17.672Z"
   },
   {
    "duration": 98,
    "start_time": "2022-09-08T22:10:17.711Z"
   },
   {
    "duration": 67,
    "start_time": "2022-09-08T22:10:17.811Z"
   },
   {
    "duration": 140,
    "start_time": "2022-09-08T22:10:17.880Z"
   },
   {
    "duration": 102,
    "start_time": "2022-09-08T22:10:18.022Z"
   },
   {
    "duration": 55,
    "start_time": "2022-09-08T22:10:18.126Z"
   },
   {
    "duration": 402,
    "start_time": "2022-09-08T22:10:18.187Z"
   },
   {
    "duration": 86,
    "start_time": "2022-09-08T22:10:18.591Z"
   },
   {
    "duration": 7,
    "start_time": "2022-09-08T22:10:18.682Z"
   },
   {
    "duration": 65,
    "start_time": "2022-09-08T22:10:18.690Z"
   },
   {
    "duration": 351,
    "start_time": "2022-09-08T22:10:18.756Z"
   },
   {
    "duration": 234,
    "start_time": "2022-09-08T22:13:38.752Z"
   },
   {
    "duration": 210,
    "start_time": "2022-09-08T22:13:48.351Z"
   },
   {
    "duration": 1413,
    "start_time": "2022-09-08T22:14:02.034Z"
   },
   {
    "duration": 69,
    "start_time": "2022-09-08T22:14:03.450Z"
   },
   {
    "duration": 13,
    "start_time": "2022-09-08T22:14:03.520Z"
   },
   {
    "duration": 5,
    "start_time": "2022-09-08T22:14:03.535Z"
   },
   {
    "duration": 38,
    "start_time": "2022-09-08T22:14:03.543Z"
   },
   {
    "duration": 16,
    "start_time": "2022-09-08T22:14:03.583Z"
   },
   {
    "duration": 3,
    "start_time": "2022-09-08T22:14:03.600Z"
   },
   {
    "duration": 9,
    "start_time": "2022-09-08T22:14:03.604Z"
   },
   {
    "duration": 24,
    "start_time": "2022-09-08T22:14:03.615Z"
   },
   {
    "duration": 5,
    "start_time": "2022-09-08T22:14:03.640Z"
   },
   {
    "duration": 10,
    "start_time": "2022-09-08T22:14:03.646Z"
   },
   {
    "duration": 6,
    "start_time": "2022-09-08T22:14:03.675Z"
   },
   {
    "duration": 5,
    "start_time": "2022-09-08T22:14:03.683Z"
   },
   {
    "duration": 34,
    "start_time": "2022-09-08T22:14:03.690Z"
   },
   {
    "duration": 29,
    "start_time": "2022-09-08T22:14:03.726Z"
   },
   {
    "duration": 47,
    "start_time": "2022-09-08T22:14:03.757Z"
   },
   {
    "duration": 6046,
    "start_time": "2022-09-08T22:14:03.806Z"
   },
   {
    "duration": 32,
    "start_time": "2022-09-08T22:14:09.854Z"
   },
   {
    "duration": 100,
    "start_time": "2022-09-08T22:14:09.888Z"
   },
   {
    "duration": 52,
    "start_time": "2022-09-08T22:14:10.069Z"
   },
   {
    "duration": 91,
    "start_time": "2022-09-08T22:14:10.122Z"
   },
   {
    "duration": 72,
    "start_time": "2022-09-08T22:14:10.215Z"
   },
   {
    "duration": 89,
    "start_time": "2022-09-08T22:14:10.289Z"
   },
   {
    "duration": 126,
    "start_time": "2022-09-08T22:14:10.383Z"
   },
   {
    "duration": 44,
    "start_time": "2022-09-08T22:14:10.511Z"
   },
   {
    "duration": 22,
    "start_time": "2022-09-08T22:14:10.556Z"
   },
   {
    "duration": 224,
    "start_time": "2022-09-08T22:14:10.582Z"
   },
   {
    "duration": 74,
    "start_time": "2022-09-08T22:14:10.807Z"
   },
   {
    "duration": 93,
    "start_time": "2022-09-08T22:14:10.882Z"
   },
   {
    "duration": 304,
    "start_time": "2022-09-08T22:14:10.979Z"
   },
   {
    "duration": 66,
    "start_time": "2022-09-08T22:14:11.284Z"
   },
   {
    "duration": 6,
    "start_time": "2022-09-08T22:14:11.352Z"
   },
   {
    "duration": 77,
    "start_time": "2022-09-08T22:14:11.360Z"
   },
   {
    "duration": 242,
    "start_time": "2022-09-08T22:14:11.438Z"
   }
  ],
  "celltoolbar": "Отсутствует",
  "kernelspec": {
   "display_name": "Python 3 (ipykernel)",
   "language": "python",
   "name": "python3"
  },
  "language_info": {
   "codemirror_mode": {
    "name": "ipython",
    "version": 3
   },
   "file_extension": ".py",
   "mimetype": "text/x-python",
   "name": "python",
   "nbconvert_exporter": "python",
   "pygments_lexer": "ipython3",
   "version": "3.9.12"
  },
  "toc": {
   "base_numbering": 1,
   "nav_menu": {},
   "number_sections": true,
   "sideBar": true,
   "skip_h1_title": true,
   "title_cell": "Содержание",
   "title_sidebar": "Contents",
   "toc_cell": true,
   "toc_position": {
    "height": "calc(100% - 180px)",
    "left": "10px",
    "top": "150px",
    "width": "437.319px"
   },
   "toc_section_display": true,
   "toc_window_display": true
  }
 },
 "nbformat": 4,
 "nbformat_minor": 2
}
